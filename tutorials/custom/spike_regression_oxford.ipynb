{
 "cells": [
  {
   "cell_type": "markdown",
   "metadata": {},
   "source": [
    "# Spike to Spike Regression: Oxford"
   ]
  },
  {
   "cell_type": "code",
   "execution_count": 3,
   "metadata": {},
   "outputs": [
    {
     "name": "stderr",
     "output_type": "stream",
     "text": [
      "/home/monkin/Desktop/feup/thesis/lava/.venv/lib/python3.10/site-packages/torchvision/io/image.py:13: UserWarning: Failed to load image Python extension: '/home/monkin/Desktop/feup/thesis/lava/.venv/lib/python3.10/site-packages/torchvision/image.so: undefined symbol: _ZN3c1017RegisterOperatorsD1Ev'If you don't plan on using image functionality from `torchvision.io`, you can ignore this warning. Otherwise, there might be something wrong with your environment. Did you have `libjpeg` or `libpng` installed before building `torchvision` from source?\n",
      "  warn(\n"
     ]
    }
   ],
   "source": [
    "import os\n",
    "import h5py\n",
    "import numpy as np\n",
    "import matplotlib.pyplot as plt\n",
    "import torch\n",
    "from torch.utils.data import Dataset, DataLoader\n",
    "\n",
    "# Import Slayer from lava-dl\n",
    "import lava.lib.dl.slayer as slayer\n",
    "\n",
    "import IPython.display as display\n",
    "from matplotlib import animation"
   ]
  },
  {
   "cell_type": "markdown",
   "metadata": {},
   "source": [
    "# Create Dataset\n",
    "Create a simple PyTorch dataset class.\n",
    "It shows usage of the `slayer.io` module, providing a way to:\n",
    "- Easily represent events including graded spikes\n",
    "- Read/write events in different known binary and numpy formats\n",
    "- Transform event to tensor for processing it using slayer network and convert a spike tensor back to event\n",
    "- Display/animate the tensor for visualization"
   ]
  },
  {
   "cell_type": "code",
   "execution_count": 5,
   "metadata": {},
   "outputs": [],
   "source": [
    "class OxfordDataset(Dataset):\n",
    "    def __init__(self):\n",
    "        super(OxfordDataset, self).__init__()\n",
    "        self.input = slayer.io.read_1d_spikes('input.bs1')\n",
    "        self.target = slayer.io.read_1d_spikes('output.bs1')\n",
    "        self.target.t = self.target.t.astype(int)\n",
    "\n",
    "    def __getitem__(self, _):\n",
    "        return (\n",
    "            self.input.fill_tensor(torch.zeros(1, 1, 200, 2000)).squeeze(),     # input dimensions ( batch, channel, number of neurons (200), time (2000ms) )\n",
    "            self.target.fill_tensor(torch.zeros(1, 1, 200, 2000)).squeeze(),    # target dimensions ( batch, channel, number of neurons (200), time(2000ms) )\n",
    "        )\n",
    "    \n",
    "    def __len__(self):\n",
    "        return 1    # just one sample for this problem"
   ]
  },
  {
   "cell_type": "markdown",
   "metadata": {},
   "source": [
    "# Create Network\n",
    "A slayer network definition follows the standard PyTorch way using `torch.nn.Module`.\n",
    "\n",
    "The network can be described with a combination of individual `synapse`, `dendrite`, `neuron` and `axon` components. \n",
    "\n",
    "For rapid and easy development, slayer provides a block interface - `slayer.block` - which bundles all these individual components into a single unit."
   ]
  },
  {
   "cell_type": "code",
   "execution_count": 6,
   "metadata": {},
   "outputs": [],
   "source": [
    "class Network(torch.nn.Module):\n",
    "    def __init__(self):\n",
    "        super(Network, self).__init__()\n",
    "        \n",
    "        neuron_params = {\n",
    "            'threshold': 0.1,\n",
    "            'current_decay': 1,\n",
    "            'voltage_decay': 0.1,\n",
    "            'requires_grad': True,\n",
    "        }\n",
    "\n",
    "        # Define the network\n",
    "        # CUBA LIF Dense Block documentation (https://lava-nc.org/lava-lib-dl/slayer/block/block.html#lava.lib.dl.slayer.block.cuba.Dense)\n",
    "        self.blocks = torch.nn.ModuleList([\n",
    "            slayer.block.cuba.Dense(neuron_params, 200, 256),   # 200 input neurons, 256 output neurons\n",
    "            slayer.block.cuba.Dense(neuron_params, 256, 200),   # 256 input neurons, 200 output neurons\n",
    "        ])\n",
    "\n",
    "    def forward(self, spike):\n",
    "        for block in self.blocks:\n",
    "            spike = block(spike)\n",
    "        return spike\n",
    "    \n",
    "    def export_hdf5(self, filename):\n",
    "        # Export the network parameters to a HDF5 file\n",
    "        h = h5py.File(filename, 'w')\n",
    "        layer = h.create_group('layer')\n",
    "\n",
    "        for idx, block in enumerate(self.blocks):\n",
    "            block.export_hdf5(layer.create_group(f\"{idx}\"))"
   ]
  },
  {
   "cell_type": "code",
   "execution_count": null,
   "metadata": {},
   "outputs": [],
   "source": []
  }
 ],
 "metadata": {
  "kernelspec": {
   "display_name": "Python 3 (ipykernel)",
   "language": "python",
   "name": "python3"
  },
  "language_info": {
   "codemirror_mode": {
    "name": "ipython",
    "version": 3
   },
   "file_extension": ".py",
   "mimetype": "text/x-python",
   "name": "python",
   "nbconvert_exporter": "python",
   "pygments_lexer": "ipython3",
   "version": "3.10.12"
  }
 },
 "nbformat": 4,
 "nbformat_minor": 2
}
