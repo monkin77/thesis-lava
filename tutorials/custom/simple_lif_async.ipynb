{
 "cells": [
  {
   "cell_type": "markdown",
   "metadata": {},
   "source": [
    "# Practical Usage of Lava w/ custom input from the lab"
   ]
  },
  {
   "cell_type": "markdown",
   "metadata": {},
   "source": [
    "The input data from the lab used in this example consists of a sequence of timestamps where a specific neuron fired. The data is stored in a csv file, where each value is a timestamp (in milliseconds). \n",
    "\n",
    "Thus, the input layer only requires 1 connection at each timestep. We will assume the network contains 5 neurons for the sake of this example."
   ]
  },
  {
   "cell_type": "markdown",
   "metadata": {},
   "source": [
    "Let's start by defining the middle layer, the 2-layered feed-forward network of LIF neurons"
   ]
  },
  {
   "cell_type": "code",
   "execution_count": 102,
   "metadata": {},
   "outputs": [
    {
     "data": {
      "text/plain": [
       "\u001b[0;31mInit signature:\u001b[0m \u001b[0mLIF\u001b[0m\u001b[0;34m(\u001b[0m\u001b[0;34m*\u001b[0m\u001b[0margs\u001b[0m\u001b[0;34m,\u001b[0m \u001b[0;34m**\u001b[0m\u001b[0mkwargs\u001b[0m\u001b[0;34m)\u001b[0m\u001b[0;34m\u001b[0m\u001b[0;34m\u001b[0m\u001b[0m\n",
       "\u001b[0;31mDocstring:\u001b[0m     \n",
       "Leaky-Integrate-and-Fire (LIF) neural Process.\n",
       "\n",
       "LIF dynamics abstracts to:\n",
       "u[t] = u[t-1] * (1-du) + a_in         # neuron current\n",
       "v[t] = v[t-1] * (1-dv) + u[t] + bias  # neuron voltage\n",
       "s_out = v[t] > vth                    # spike if threshold is exceeded\n",
       "v[t] = 0                              # reset at spike\n",
       "\n",
       "Parameters\n",
       "----------\n",
       "shape : tuple(int)\n",
       "    Number and topology of LIF neurons.\n",
       "u : float, list, numpy.ndarray, optional\n",
       "    Initial value of the neurons' current.\n",
       "v : float, list, numpy.ndarray, optional\n",
       "    Initial value of the neurons' voltage (membrane potential).\n",
       "du : float, optional\n",
       "    Inverse of decay time-constant for current decay. Currently, only a\n",
       "    single decay can be set for the entire population of neurons.\n",
       "dv : float, optional\n",
       "    Inverse of decay time-constant for voltage decay. Currently, only a\n",
       "    single decay can be set for the entire population of neurons.\n",
       "bias_mant : float, list, numpy.ndarray, optional\n",
       "    Mantissa part of neuron bias.\n",
       "bias_exp : float, list, numpy.ndarray, optional\n",
       "    Exponent part of neuron bias, if needed. Mostly for fixed point\n",
       "    implementations. Ignored for floating point implementations.\n",
       "vth : float, optional\n",
       "    Neuron threshold voltage, exceeding which, the neuron will spike.\n",
       "    Currently, only a single threshold can be set for the entire\n",
       "    population of neurons.\n",
       "\n",
       "Example\n",
       "-------\n",
       ">>> lif = LIF(shape=(200, 15), du=10, dv=5)\n",
       "This will create 200x15 LIF neurons that all have the same current decay\n",
       "of 10 and voltage decay of 5.\n",
       "\u001b[0;31mInit docstring:\u001b[0m Initializes a new Process.\n",
       "\u001b[0;31mFile:\u001b[0m           ~/Desktop/feup/thesis/thesis-lava/src/lava/proc/lif/process.py\n",
       "\u001b[0;31mType:\u001b[0m           ProcessPostInitCaller\n",
       "\u001b[0;31mSubclasses:\u001b[0m     LIFReset, LIFRefractory"
      ]
     },
     "metadata": {},
     "output_type": "display_data"
    }
   ],
   "source": [
    "from lava.proc.lif.process import LIF\n",
    "from lava.proc.dense.process import Dense\n",
    "\n",
    "LIF?"
   ]
  },
  {
   "cell_type": "code",
   "execution_count": 103,
   "metadata": {},
   "outputs": [],
   "source": [
    "# Define the number of neurons in each LIF Layer\n",
    "n1 = 2   # Let's create a simple program with only 1 LIF layer"
   ]
  },
  {
   "cell_type": "code",
   "execution_count": 104,
   "metadata": {},
   "outputs": [],
   "source": [
    "import numpy as np\n",
    "\n",
    "# Create Processes\n",
    "lif1 = LIF(shape=(n1,),  # There are 2 neurons\n",
    "           vth=5,  # TODO: Verify these initial values\n",
    "           v=0,\n",
    "           dv=0.07,    # Inverse of decay time-constant for voltage decay\n",
    "           du=0.2,  # Inverse of decay time-constant for current decay\n",
    "           bias_mant=0,\n",
    "           bias_exp=0,\n",
    "           name=\"lif1\")"
   ]
  },
  {
   "cell_type": "markdown",
   "metadata": {},
   "source": [
    "Let's take a look at the ports and connections of the middle layer:"
   ]
  },
  {
   "cell_type": "code",
   "execution_count": 105,
   "metadata": {},
   "outputs": [
    {
     "name": "stdout",
     "output_type": "stream",
     "text": [
      "Proc: lif1  Port Name: a_in  Size: 2\n",
      "Proc: lif1  Port Name: s_out Size: 2\n"
     ]
    }
   ],
   "source": [
    "for proc in [lif1]:\n",
    "    for port in proc.in_ports:\n",
    "        print(f\"Proc: {proc.name:<5} Port Name: {port.name:<5} Size: {port.size}\")\n",
    "    for port in proc.out_ports:\n",
    "        print(f\"Proc: {proc.name:<5} Port Name: {port.name:<5} Size: {port.size}\")"
   ]
  },
  {
   "cell_type": "markdown",
   "metadata": {},
   "source": [
    "After verifying the input and output Ports of the middle layer, we can connect the network to complete the LIF-Dense-LIF structure"
   ]
  },
  {
   "cell_type": "markdown",
   "metadata": {},
   "source": [
    "## Create the Custom Input Layer"
   ]
  },
  {
   "cell_type": "markdown",
   "metadata": {},
   "source": [
    "### Define function to read the input data from the csv file and generate the corresponding spike events"
   ]
  },
  {
   "cell_type": "code",
   "execution_count": 106,
   "metadata": {},
   "outputs": [],
   "source": [
    "import pandas as pd\n",
    "\n",
    "def read_spike_events(file_path: str):\n",
    "    \"\"\"Reads the spike events from the input file and returns them as a numpy array\n",
    "\n",
    "    Args:\n",
    "        file_path (str): name of the file containing the spike events\n",
    "    \"\"\"\n",
    "    spike_events = []\n",
    "\n",
    "    try:\n",
    "        # Read the spike events from the file\n",
    "        df = pd.read_csv(file_path, header=None)\n",
    "\n",
    "        # Detect errors\n",
    "        if df.empty:\n",
    "            raise Exception(\"The input file is empty\")\n",
    "\n",
    "        # Convert the scientific notation values to integers if any exist\n",
    "        df = df.applymap(lambda x: int(float(x)) if (isinstance(x, str) and 'e' in x) else x)\n",
    "\n",
    "        # Convert the dataframe to a numpy array\n",
    "        spike_events = df.to_numpy()\n",
    "        return spike_events[0]\n",
    "    except Exception as e:\n",
    "        print(\"Unable to read the input file: \", file_path, \" error:\", e)\n",
    "\n",
    "    return spike_events"
   ]
  },
  {
   "cell_type": "code",
   "execution_count": 107,
   "metadata": {},
   "outputs": [
    {
     "name": "stdout",
     "output_type": "stream",
     "text": [
      "Spike events:  (289,) [104000. 124000. 135000. 171000. 177000. 184000. 190000. 194000. 200000.\n",
      " 200000.]\n"
     ]
    }
   ],
   "source": [
    "# Call the function to read the spike events\n",
    "file_path = \"./canal60.csv\"\n",
    "spike_events = read_spike_events(file_path)\n",
    "print(\"Spike events: \", spike_events.shape, spike_events[:10])"
   ]
  },
  {
   "cell_type": "markdown",
   "metadata": {},
   "source": [
    "Define the SpikeEvent Generator Interface"
   ]
  },
  {
   "cell_type": "code",
   "execution_count": 108,
   "metadata": {},
   "outputs": [],
   "source": [
    "from lava.magma.core.process.process import AbstractProcess\n",
    "from lava.magma.core.process.variable import Var\n",
    "from lava.magma.core.process.ports.ports import OutPort\n",
    "\n",
    "class SpikeEventGen(AbstractProcess):\n",
    "    \"\"\"Input Process that generates spike events based on the input file\n",
    "\n",
    "    Args:\n",
    "        shape (tuple): Shape of the output port\n",
    "        file_name (str): Name of the file containing the spike events\n",
    "    \"\"\"\n",
    "    def __init__(self, shape: tuple, spike_events: np.ndarray, name: str) -> None:\n",
    "        super().__init__(name=name)\n",
    "        self.s_out = OutPort(shape=shape)\n",
    "        self.spike_events = Var(shape=spike_events.shape, init=spike_events)"
   ]
  },
  {
   "cell_type": "markdown",
   "metadata": {},
   "source": [
    "Implement the `SpikeEventGenerator` Model"
   ]
  },
  {
   "cell_type": "code",
   "execution_count": 109,
   "metadata": {},
   "outputs": [],
   "source": [
    "from lava.magma.core.model.py.model import PyAsyncProcessModel  # Processes running on CPU inherit from this class\n",
    "from lava.magma.core.resources import CPU\n",
    "from lava.magma.core.decorator import implements, requires\n",
    "from lava.magma.core.sync.protocols.async_protocol import AsyncProtocol\n",
    "from lava.magma.core.model.py.type import LavaPyType\n",
    "from lava.magma.core.model.py.ports import PyOutPort\n",
    "\n",
    "@implements(proc=SpikeEventGen, protocol=AsyncProtocol)\n",
    "@requires(CPU)\n",
    "class PySpikeEventGenModelAsync(PyAsyncProcessModel):\n",
    "    \"\"\"Spike Event Generator Process implementation running on CPU (Python) ASYNC\n",
    "    Args:\n",
    "    \"\"\"\n",
    "    s_out: PyOutPort = LavaPyType(PyOutPort.VEC_DENSE, float)   # IT IS POSSIBLE TO SEND FLOATS AFTER ALL\n",
    "    spike_events: np.ndarray = LavaPyType(np.ndarray, np.ndarray)   # TODO: Check if we should keep it as a numpy array, or transform it to a list\n",
    "\n",
    "    def __init__(self, proc_params) -> None:\n",
    "        super().__init__(proc_params=proc_params)\n",
    "        # print(\"spike events\", self.spike_events.__str__())    # TODO: Check why during initialization the variable prints the class, while during run it prints the value\n",
    "        self.curr_spike_idx = 0     # Index of the next spiking event to send\n",
    "        self.virtual_time_step_interval = 1000 # 1    # Arbitrary time between time steps (in microseconds). This is not a real time interval (1000ms = 1s)\n",
    "        self.init_offset = 100000 # 0              # Arbitrary offset to start the simulation (in microseconds)\n",
    "\n",
    "    def run_async(self):\n",
    "         while True:\n",
    "            print(f\"running async... {self.curr_spike_idx}\")\n",
    "            self.curr_spike_idx += 1\n",
    "\n",
    "            if self.curr_spike_idx >= 10:   # Condition to stop the AsyncProcess\n",
    "                self.pause()    # Stop after x iterations   \n",
    "\n",
    "            if self.check_for_pause_cmd():  # \n",
    "                return\n",
    "        \n"
   ]
  },
  {
   "cell_type": "markdown",
   "metadata": {},
   "source": [
    "## Connect the Custom Input Layer to the middle layer"
   ]
  },
  {
   "cell_type": "markdown",
   "metadata": {},
   "source": [
    "To define the connectivity between the `SpikeGenerator` and the first `LIF` population, we use another `Dense` Layer."
   ]
  },
  {
   "cell_type": "code",
   "execution_count": 110,
   "metadata": {},
   "outputs": [],
   "source": [
    "# Create the Input Process\n",
    "spike_event_gen = SpikeEventGen(shape=(n1,), spike_events=spike_events, name=\"CustomInput\")\n",
    "\n",
    "# Instantiante a Dense Layer to connect the SpikeEventGen to the middle layer\n",
    "dense_input = Dense(weights=np.eye(n1), name=\"DenseInput\")     # 1-1 connectivity with the Middle Layer (should be a 2x2 matrix right now)\n",
    "\n",
    "# Connect the SpikeEventGen to the Dense Layer\n",
    "spike_event_gen.s_out.connect(dense_input.s_in)\n",
    "\n",
    "# Connect the Dense_Input to the LIF1 Layer\n",
    "dense_input.a_out.connect(lif1.a_in)"
   ]
  },
  {
   "cell_type": "markdown",
   "metadata": {},
   "source": [
    "### Take a look at the connections in the Input Layer"
   ]
  },
  {
   "cell_type": "code",
   "execution_count": 111,
   "metadata": {},
   "outputs": [
    {
     "name": "stdout",
     "output_type": "stream",
     "text": [
      "Proc: CustomInput Port Name: s_out Size: 2\n",
      "Proc: DenseInput Port Name: s_in  Size: 2\n",
      "Proc: DenseInput Port Name: a_out Size: 2\n",
      "Proc: lif1  Port Name: a_in  Size: 2\n",
      "Proc: lif1  Port Name: s_out Size: 2\n"
     ]
    }
   ],
   "source": [
    "for proc in [spike_event_gen, dense_input, lif1]:\n",
    "    for port in proc.in_ports:\n",
    "        print(f\"Proc: {proc.name:<5} Port Name: {port.name:<5} Size: {port.size}\")\n",
    "    for port in proc.out_ports:\n",
    "        print(f\"Proc: {proc.name:<5} Port Name: {port.name:<5} Size: {port.size}\")"
   ]
  },
  {
   "cell_type": "markdown",
   "metadata": {},
   "source": [
    "Weights of the Input Dense Layer"
   ]
  },
  {
   "cell_type": "code",
   "execution_count": 112,
   "metadata": {},
   "outputs": [
    {
     "data": {
      "text/plain": [
       "array([[1., 0.],\n",
       "       [0., 1.]])"
      ]
     },
     "execution_count": 112,
     "metadata": {},
     "output_type": "execute_result"
    }
   ],
   "source": [
    "dense_input.weights.get()"
   ]
  },
  {
   "cell_type": "markdown",
   "metadata": {},
   "source": [
    "### Record Internal Vars over time\n",
    "To record the evolution of the internal variables over time, we need a `Monitor`. For this example, we want to record the membrane potential of the `LIF` Layer, hence we need 1 `Monitors`.\n",
    "\n",
    "We can define the `Var` that a `Monitor` should record, as well as the recording duration, using the `probe` function"
   ]
  },
  {
   "cell_type": "code",
   "execution_count": 113,
   "metadata": {},
   "outputs": [],
   "source": [
    "from lava.proc.monitor.process import Monitor\n",
    "\n",
    "monitor_lif1_v = Monitor()\n",
    "monitor_lif1_u = Monitor()\n",
    "\n",
    "num_steps = 300     # TODO: Check the number of steps to run the simulation for\n",
    "\n",
    "# Connect the monitors to the variables we want to monitor\n",
    "monitor_lif1_v.probe(lif1.v, num_steps)\n",
    "monitor_lif1_u.probe(lif1.u, num_steps)"
   ]
  },
  {
   "cell_type": "markdown",
   "metadata": {},
   "source": [
    "## Execution\n",
    "Now that we have defined the network, we can execute it. We will use the `run` function to execute the network."
   ]
  },
  {
   "cell_type": "markdown",
   "metadata": {},
   "source": [
    "### Run Configuration and Conditions"
   ]
  },
  {
   "cell_type": "code",
   "execution_count": 114,
   "metadata": {},
   "outputs": [],
   "source": [
    "from lava.magma.core.run_conditions import RunContinuous, RunSteps\n",
    "from lava.magma.core.run_configs import Loihi1SimCfg\n",
    "\n",
    "run_condition = RunContinuous()   # TODO: Change to this one\n",
    "# run_condition = RunSteps(num_steps=num_steps)\n",
    "run_cfg = Loihi1SimCfg()    # select_tag=\"floating_pt\"  # TODO: Check why we need this select_tag=\"floating_pt\""
   ]
  },
  {
   "cell_type": "markdown",
   "metadata": {},
   "source": [
    "### Execute"
   ]
  },
  {
   "cell_type": "code",
   "execution_count": 115,
   "metadata": {},
   "outputs": [
    {
     "name": "stdout",
     "output_type": "stream",
     "text": [
      "Hello, this is a test for the asynchronous run of the lif1 process...\n",
      "This is running 1s later\n",
      "running async... 0\n",
      "running async... 1\n",
      "running async... 2\n",
      "running async... 3\n",
      "\n",
      "running async... 4running async... 5\n",
      "running async... 6\n",
      "running async... 7\n",
      "running async... 8\n",
      "running async... 9\n"
     ]
    }
   ],
   "source": [
    "import time\n",
    "\n",
    "lif1.run(condition=run_condition, run_cfg=run_cfg)\n",
    "\n",
    "print(\"Hello, this is a test for the asynchronous run of the lif1 process...\", flush=True)\n",
    "time.sleep(0.5)\n",
    "print(\"This is running 1s later\")"
   ]
  },
  {
   "cell_type": "markdown",
   "metadata": {},
   "source": [
    "As we can see, the Process is running asynchronously."
   ]
  },
  {
   "cell_type": "markdown",
   "metadata": {},
   "source": [
    "### Retrieve recorded data"
   ]
  },
  {
   "cell_type": "code",
   "execution_count": 29,
   "metadata": {},
   "outputs": [],
   "source": [
    "data_lif1_v = monitor_lif1_v.get_data()\n",
    "data_lif1_u = monitor_lif1_u.get_data()\n",
    "\n",
    "data_lif1 = data_lif1_v.copy()\n",
    "data_lif1[\"lif1\"][\"u\"] = data_lif1_u[\"lif1\"][\"u\"]   # Merge the dictionaries to contain both voltage and current\n"
   ]
  },
  {
   "cell_type": "code",
   "execution_count": 30,
   "metadata": {},
   "outputs": [
    {
     "data": {
      "text/plain": [
       "{'lif1': {'v': None, 'u': None}}"
      ]
     },
     "execution_count": 30,
     "metadata": {},
     "output_type": "execute_result"
    }
   ],
   "source": [
    "data_lif1"
   ]
  },
  {
   "cell_type": "code",
   "execution_count": 31,
   "metadata": {},
   "outputs": [
    {
     "ename": "TypeError",
     "evalue": "object of type 'NoneType' has no len()",
     "output_type": "error",
     "traceback": [
      "\u001b[0;31m---------------------------------------------------------------------------\u001b[0m",
      "\u001b[0;31mTypeError\u001b[0m                                 Traceback (most recent call last)",
      "Cell \u001b[0;32mIn[31], line 2\u001b[0m\n\u001b[1;32m      1\u001b[0m \u001b[38;5;66;03m# Check the shape to verify if it is printing the voltage for every step\u001b[39;00m\n\u001b[0;32m----> 2\u001b[0m \u001b[38;5;28;43mlen\u001b[39;49m\u001b[43m(\u001b[49m\u001b[43mdata_lif1\u001b[49m\u001b[43m[\u001b[49m\u001b[38;5;124;43m'\u001b[39;49m\u001b[38;5;124;43mlif1\u001b[39;49m\u001b[38;5;124;43m'\u001b[39;49m\u001b[43m]\u001b[49m\u001b[43m[\u001b[49m\u001b[38;5;124;43m'\u001b[39;49m\u001b[38;5;124;43mv\u001b[39;49m\u001b[38;5;124;43m'\u001b[39;49m\u001b[43m]\u001b[49m\u001b[43m)\u001b[49m     \u001b[38;5;66;03m# Indeed, there are 300 values (same as the number of steps we ran the simulation for)\u001b[39;00m\n",
      "\u001b[0;31mTypeError\u001b[0m: object of type 'NoneType' has no len()"
     ]
    }
   ],
   "source": [
    "# Check the shape to verify if it is printing the voltage for every step\n",
    "len(data_lif1['lif1']['v'])     # Indeed, there are 300 values (same as the number of steps we ran the simulation for)"
   ]
  },
  {
   "cell_type": "markdown",
   "metadata": {},
   "source": [
    "### Plot the recorded data"
   ]
  },
  {
   "cell_type": "code",
   "execution_count": null,
   "metadata": {},
   "outputs": [],
   "source": [
    "import matplotlib\n",
    "%matplotlib inline\n",
    "from matplotlib import pyplot as plt\n",
    "\n",
    "# Create a subplot for each monitored variable\n",
    "fig = plt.figure(figsize=(16, 5))\n",
    "ax0 = fig.add_subplot(121)\n",
    "ax0.set_title('Voltage (V) / time step')\n",
    "ax1 = fig.add_subplot(122)\n",
    "ax1.set_title('Current (U) / time step')\n",
    "\n",
    "# Plot the data\n",
    "monitor_lif1_v.plot(ax0, lif1.v)\n",
    "monitor_lif1_u.plot(ax1, lif1.u)\n"
   ]
  },
  {
   "cell_type": "markdown",
   "metadata": {},
   "source": [
    "### Find the time step where the Voltage got to 1/e of the maximum value"
   ]
  },
  {
   "cell_type": "code",
   "execution_count": null,
   "metadata": {},
   "outputs": [],
   "source": [
    "voltage_vals = data_lif1['lif1']['v']\n",
    "\n",
    "v_max = 0\n",
    "stimuli_start = 0\n",
    "stimuli_end = 0\n",
    "for (idx, v) in enumerate(voltage_vals):\n",
    "    v0, v1 = v\n",
    "    if v0 > v_max:  # Found the stimulation point\n",
    "        v_max = v0\n",
    "        stimuli_start = idx\n",
    "    else:\n",
    "        if v_max > 0:   # The stimulation was already found -> Exponential decay\n",
    "            if v0 <= v_max / np.e:  # Found the timestep when the voltage is 1/e of the maximum\n",
    "                stimuli_end = idx\n",
    "                break\n",
    "        else:   # The stimulation was not found yet\n",
    "            continue\n",
    "\n",
    "\n",
    "print(f\"Stimuli start: {stimuli_start} Stimuli end: {stimuli_end} Voltage max: {v_max}\")"
   ]
  },
  {
   "cell_type": "code",
   "execution_count": null,
   "metadata": {},
   "outputs": [],
   "source": [
    "current_vals = data_lif1['lif1']['u']\n",
    "\n",
    "u_max = 0\n",
    "stimuli_start = 0\n",
    "stimuli_end = 0\n",
    "for (idx, u) in enumerate(current_vals):\n",
    "    u0, u1 = u\n",
    "    if u0 > u_max:  # Found the stimulation point\n",
    "        u_max = u0\n",
    "        stimuli_start = idx\n",
    "    else:\n",
    "        if u_max > 0:   # The stimulation was already found -> Exponential decay\n",
    "            if u0 <= u_max / np.e:  # Found the timestep when the current is 1/e of the maximum\n",
    "                stimuli_end = idx\n",
    "                break\n",
    "        else:   # The stimulation was not found yet\n",
    "            continue\n",
    "\n",
    "\n",
    "print(f\"Stimuli start: {stimuli_start} Stimuli end: {stimuli_end} Current max: {u_max}\")"
   ]
  },
  {
   "cell_type": "markdown",
   "metadata": {},
   "source": [
    "### Find the time step where the Current got to 1/e of the maximum value"
   ]
  },
  {
   "cell_type": "markdown",
   "metadata": {},
   "source": [
    "## Stop the Runtime"
   ]
  },
  {
   "cell_type": "code",
   "execution_count": null,
   "metadata": {},
   "outputs": [],
   "source": [
    "lif1.stop()"
   ]
  },
  {
   "cell_type": "markdown",
   "metadata": {},
   "source": []
  }
 ],
 "metadata": {
  "kernelspec": {
   "display_name": "Python 3 (ipykernel)",
   "language": "python",
   "name": "python3"
  }
 },
 "nbformat": 4,
 "nbformat_minor": 4
}
