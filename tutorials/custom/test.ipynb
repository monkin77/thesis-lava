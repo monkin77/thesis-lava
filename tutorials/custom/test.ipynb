{
 "cells": [
  {
   "cell_type": "markdown",
   "metadata": {},
   "source": [
    "# Practical Usage of Lava w/ custom input from the lab"
   ]
  },
  {
   "cell_type": "markdown",
   "metadata": {},
   "source": [
    "The input data from the lab used in this example consists of a sequence of timestamps where a specific neuron fired. The data is stored in a csv file, where each value is a timestamp (in milliseconds). \n",
    "\n",
    "Thus, the input layer only requires 1 connection at each timestep. We will assume the network contains 5 neurons for the sake of this example."
   ]
  },
  {
   "cell_type": "markdown",
   "metadata": {},
   "source": [
    "Let's start by defining the middle layer, the 2-layered feed-forward network of LIF neurons"
   ]
  },
  {
   "cell_type": "code",
   "execution_count": 50,
   "metadata": {},
   "outputs": [
    {
     "name": "stdout",
     "output_type": "stream",
     "text": [
      "\u001b[0;31mInit signature:\u001b[0m \u001b[0mLIF\u001b[0m\u001b[0;34m(\u001b[0m\u001b[0;34m*\u001b[0m\u001b[0margs\u001b[0m\u001b[0;34m,\u001b[0m \u001b[0;34m**\u001b[0m\u001b[0mkwargs\u001b[0m\u001b[0;34m)\u001b[0m\u001b[0;34m\u001b[0m\u001b[0;34m\u001b[0m\u001b[0m\n",
      "\u001b[0;31mDocstring:\u001b[0m     \n",
      "Leaky-Integrate-and-Fire (LIF) neural Process.\n",
      "\n",
      "LIF dynamics abstracts to:\n",
      "u[t] = u[t-1] * (1-du) + a_in         # neuron current\n",
      "v[t] = v[t-1] * (1-dv) + u[t] + bias  # neuron voltage\n",
      "s_out = v[t] > vth                    # spike if threshold is exceeded\n",
      "v[t] = 0                              # reset at spike\n",
      "\n",
      "Parameters\n",
      "----------\n",
      "shape : tuple(int)\n",
      "    Number and topology of LIF neurons.\n",
      "u : float, list, numpy.ndarray, optional\n",
      "    Initial value of the neurons' current.\n",
      "v : float, list, numpy.ndarray, optional\n",
      "    Initial value of the neurons' voltage (membrane potential).\n",
      "du : float, optional\n",
      "    Inverse of decay time-constant for current decay. Currently, only a\n",
      "    single decay can be set for the entire population of neurons.\n",
      "dv : float, optional\n",
      "    Inverse of decay time-constant for voltage decay. Currently, only a\n",
      "    single decay can be set for the entire population of neurons.\n",
      "bias_mant : float, list, numpy.ndarray, optional\n",
      "    Mantissa part of neuron bias.\n",
      "bias_exp : float, list, numpy.ndarray, optional\n",
      "    Exponent part of neuron bias, if needed. Mostly for fixed point\n",
      "    implementations. Ignored for floating point implementations.\n",
      "vth : float, optional\n",
      "    Neuron threshold voltage, exceeding which, the neuron will spike.\n",
      "    Currently, only a single threshold can be set for the entire\n",
      "    population of neurons.\n",
      "\n",
      "Example\n",
      "-------\n",
      ">>> lif = LIF(shape=(200, 15), du=10, dv=5)\n",
      "This will create 200x15 LIF neurons that all have the same current decay\n",
      "of 10 and voltage decay of 5.\n",
      "\u001b[0;31mInit docstring:\u001b[0m Initializes a new Process.\n",
      "\u001b[0;31mFile:\u001b[0m           ~/Desktop/feup/thesis/lava/src/lava/proc/lif/process.py\n",
      "\u001b[0;31mType:\u001b[0m           ProcessPostInitCaller\n",
      "\u001b[0;31mSubclasses:\u001b[0m     LIFReset, LIFRefractory"
     ]
    }
   ],
   "source": [
    "from lava.proc.lif.process import LIF\n",
    "from lava.proc.dense.process import Dense\n",
    "\n",
    "LIF?"
   ]
  },
  {
   "cell_type": "code",
   "execution_count": 51,
   "metadata": {},
   "outputs": [],
   "source": [
    "import numpy as np\n",
    "\n",
    "# Create Processes\n",
    "lif1 = LIF(shape=(5,),  # There are 5 neurons\n",
    "           vth=10,\n",
    "           dv=0.1,\n",
    "           du=0.1,\n",
    "           bias_mant=0,\n",
    "           name=\"lif1\")\n",
    "\n",
    "dense = Dense(weights=np.random.rand(2, 5),     # 5 nodes in the input side, 2 nodes on the output side \n",
    "              name=\"dense1\") \n",
    "\n",
    "lif2 = LIF(shape=(2,),\n",
    "           vth=10,\n",
    "           dv=0.1,\n",
    "           du=0.1,\n",
    "           bias_mant=0,\n",
    "           name=\"lif2\")"
   ]
  },
  {
   "cell_type": "markdown",
   "metadata": {},
   "source": [
    "Should the Dense layer contain 2 output nodes? I was thinking each output node could correspond to the probability of the events \"network burst detected\" or \"network burst not detected\" at each timestep. It might be better to represent it with a single node?"
   ]
  },
  {
   "cell_type": "markdown",
   "metadata": {},
   "source": [
    "Let's take a look at the ports and connections of the middle layer:"
   ]
  },
  {
   "cell_type": "code",
   "execution_count": 52,
   "metadata": {},
   "outputs": [
    {
     "name": "stdout",
     "output_type": "stream",
     "text": [
      "Proc: lif1  Port Name: a_in  Size: 5\n",
      "Proc: lif1  Port Name: s_out Size: 5\n",
      "Proc: dense1 Port Name: s_in  Size: 5\n",
      "Proc: dense1 Port Name: a_out Size: 2\n",
      "Proc: lif2  Port Name: a_in  Size: 2\n",
      "Proc: lif2  Port Name: s_out Size: 2\n"
     ]
    }
   ],
   "source": [
    "for proc in [lif1, dense, lif2]:\n",
    "    for port in proc.in_ports:\n",
    "        print(f\"Proc: {proc.name:<5} Port Name: {port.name:<5} Size: {port.size}\")\n",
    "    for port in proc.out_ports:\n",
    "        print(f\"Proc: {proc.name:<5} Port Name: {port.name:<5} Size: {port.size}\")"
   ]
  },
  {
   "cell_type": "markdown",
   "metadata": {},
   "source": [
    "After verifying the input and output Ports of the middle layer, we can connect the network to complete the LIF-Dense-LIF structure"
   ]
  },
  {
   "cell_type": "code",
   "execution_count": 53,
   "metadata": {},
   "outputs": [],
   "source": [
    "lif1.s_out.connect(dense.s_in)\n",
    "dense.a_out.connect(lif2.a_in)"
   ]
  },
  {
   "cell_type": "markdown",
   "metadata": {},
   "source": [
    "Take a look at the random weights of the Dense Layer:"
   ]
  },
  {
   "cell_type": "code",
   "execution_count": 54,
   "metadata": {},
   "outputs": [
    {
     "data": {
      "text/plain": [
       "array([[0.52880288, 0.81553708, 0.61736447, 0.80863298, 0.46570703],\n",
       "       [0.4216743 , 0.76851699, 0.47353142, 0.12743898, 0.72668354]])"
      ]
     },
     "execution_count": 54,
     "metadata": {},
     "output_type": "execute_result"
    }
   ],
   "source": [
    "dense.weights.get()"
   ]
  },
  {
   "cell_type": "markdown",
   "metadata": {},
   "source": [
    "### Record Internal Vars over time\n",
    "To record the evolution of the internal variables over time, we need a `Monitor`. For this example, we want to record the membrane potential of both `LIF` Layers, hence we need 2 `Monitors`.\n",
    "\n",
    "We can define the `Var` that a `Monitor` should record, as well as the recording duration, using the `probe` function"
   ]
  },
  {
   "cell_type": "code",
   "execution_count": 55,
   "metadata": {},
   "outputs": [],
   "source": [
    "from lava.proc.monitor.process import Monitor\n",
    "\n",
    "monitor_lif1 = Monitor()\n",
    "monitor_lif2 = Monitor()\n",
    "\n",
    "num_steps = 100     # TODO: Check the number of steps to run the simulation for\n",
    "\n",
    "# Connect the monitors to the variables we want to monitor\n",
    "monitor_lif1.probe(lif1.v, num_steps)\n",
    "monitor_lif2.probe(lif2.v, num_steps)"
   ]
  },
  {
   "cell_type": "markdown",
   "metadata": {},
   "source": [
    "## Create the Custom Input Layer"
   ]
  },
  {
   "cell_type": "code",
   "execution_count": 56,
   "metadata": {},
   "outputs": [],
   "source": [
    "from lava.magma.core.process.process import AbstractProcess\n",
    "from lava.magma.core.process.variable import Var\n",
    "from lava.magma.core.process.ports.ports import OutPort"
   ]
  },
  {
   "cell_type": "markdown",
   "metadata": {},
   "source": [
    "Define the SpikeEvent Generator Interface"
   ]
  },
  {
   "cell_type": "code",
   "execution_count": 57,
   "metadata": {},
   "outputs": [],
   "source": [
    "class SpikeEventGen(AbstractProcess):\n",
    "    \"\"\"Input Process that generates spike events based on the input file\n",
    "\n",
    "    Args:\n",
    "        shape (tuple): Shape of the output port\n",
    "        file_name (str): Name of the file containing the spike events\n",
    "    \"\"\"\n",
    "    def __init__(self, shape: tuple, file_name: str) -> None:\n",
    "        super().__init__()\n",
    "        self.file_name = file_name\n",
    "        self.s_out = OutPort(shape=shape)"
   ]
  },
  {
   "cell_type": "markdown",
   "metadata": {},
   "source": [
    "Implement the `SpikeEventGenerator` Model"
   ]
  },
  {
   "cell_type": "code",
   "execution_count": 58,
   "metadata": {},
   "outputs": [],
   "source": [
    "from lava.magma.core.model.py.model import PyLoihiProcessModel  # Processes running on CPU inherit from this class\n",
    "from lava.magma.core.resources import CPU\n",
    "from lava.magma.core.decorator import implements, requires\n",
    "from lava.magma.core.sync.protocols.loihi_protocol import LoihiProtocol\n",
    "from lava.magma.core.model.py.type import LavaPyType\n",
    "from lava.magma.core.model.py.ports import PyOutPort\n",
    "\n",
    "@implements(proc=SpikeEventGen, protocol=LoihiProtocol)\n",
    "@requires(CPU)\n",
    "class PySpikeEventGenModel(PyLoihiProcessModel):\n",
    "    \"\"\"Spike Event Generator Process implementation running on CPU (Python)\n",
    "\n",
    "    Args:\n",
    "        PyLoihiProcessModel (_type_): _description_\n",
    "    \"\"\"\n",
    "    file_name: str = Var((1,))\n",
    "    s_out: PyOutPort = LavaPyType(PyOutPort.VEC_DENSE, float)   # IT IS POSSIBLE TO SEND FLOATS AFTER ALL\n",
    "\n",
    "    def run_spk(self) -> None:\n",
    "        # TODO: Read the spike events from the file\n",
    "        # Use random spikes for now to test it\n",
    "        spike_data = np.zeros(self.s_out.shape)\n",
    "        spike_data[0] = np.random.random()  # Only 1 neuron is sending data (spikes)\n",
    "        print(\"spike_data: \", spike_data)\n",
    "\n",
    "        # Send spikes\n",
    "        self.s_out.send(spike_data)"
   ]
  },
  {
   "cell_type": "markdown",
   "metadata": {},
   "source": [
    "## Connect the Custom Input Layer to the middle layer"
   ]
  },
  {
   "cell_type": "markdown",
   "metadata": {},
   "source": [
    "To define the connectivity between the `SpikeGenerator` and the first `LIF` population, we use another `Dense` Layer."
   ]
  },
  {
   "cell_type": "code",
   "execution_count": 59,
   "metadata": {},
   "outputs": [],
   "source": [
    "# Create the Input Process\n",
    "spike_event_gen = SpikeEventGen(shape=(5,), file_name=\"canal60.csv\")\n",
    "\n",
    "# Instantiante a Dense Layer to connect the SpikeEventGen to the middle layer\n",
    "dense_input = Dense(weights=np.eye(lif1.a_in.shape[0]))     # 1-1 connectivity with the Middle Layer (should be a 5x5 matrix right now)\n",
    "\n",
    "# Connect the SpikeEventGen to the Dense Layer\n",
    "spike_event_gen.s_out.connect(dense_input.s_in)\n",
    "\n",
    "# Connect the Dense_Input to the LIF1 Layer\n",
    "dense_input.a_out.connect(lif1.a_in)\n"
   ]
  },
  {
   "cell_type": "markdown",
   "metadata": {},
   "source": [
    "## Execution\n",
    "Now that we have defined the network, we can execute it. We will use the `run` function to execute the network."
   ]
  },
  {
   "cell_type": "markdown",
   "metadata": {},
   "source": [
    "### Run Configuration and Conditions"
   ]
  },
  {
   "cell_type": "code",
   "execution_count": 60,
   "metadata": {},
   "outputs": [],
   "source": [
    "from lava.magma.core.run_conditions import RunContinuous, RunSteps\n",
    "from lava.magma.core.run_configs import Loihi1SimCfg\n",
    "\n",
    "# run_condition = RunContinuous()   # TODO: Change to this one\n",
    "run_condition = RunSteps(num_steps=10)\n",
    "run_cfg = Loihi1SimCfg(select_tag=\"floating_pt\")   # TODO: Check why we need this select_tag"
   ]
  },
  {
   "cell_type": "markdown",
   "metadata": {},
   "source": [
    "### Execute"
   ]
  },
  {
   "cell_type": "code",
   "execution_count": null,
   "metadata": {},
   "outputs": [
    {
     "name": "stdout",
     "output_type": "stream",
     "text": [
      "spike_data:  [0.24873902 0.         0.         0.         0.        ]\n",
      "spike_data:  [0.11747421 0.         0.         0.         0.        ]\n",
      "spike_data:  [0.73326907 0.         0.         0.         0.        ]\n",
      "spike_data:  [0.71628298 0.         0.         0.         0.        ]\n",
      "spike_data:  [0.41780692 0.         0.         0.         0.        ]\n",
      "spike_data:  [0.07001079 0.         0.         0.         0.        ]\n",
      "spike_data:  [0.28594025 0.         0.         0.         0.        ]\n",
      "spike_data:  [0.16159801 0.         0.         0.         0.        ]\n",
      "spike_data:  [0.31732119 0.         0.         0.         0.        ]\n",
      "spike_data:  [0.70977474 0.         0.         0.         0.        ]\n",
      "spike_data:  [0.40958452 0.         0.         0.         0.        ]\n",
      "spike_data:  [0.60630428 0.         0.         0.         0.        ]\n",
      "spike_data:  [0.90927598 0.         0.         0.         0.        ]\n",
      "spike_data:  [0.0966375 0.        0.        0.        0.       ]\n",
      "spike_data:  [0.17472506 0.         0.         0.         0.        ]\n",
      "spike_data:  [0.06963463 0.         0.         0.         0.        ]\n",
      "spike_data:  [0.70242359 0.         0.         0.         0.        ]\n",
      "spike_data:  [0.13707928 0.         0.         0.         0.        ]\n",
      "spike_data:  [0.07853259 0.         0.         0.         0.        ]\n",
      "spike_data:  [0.95134319 0.         0.         0.         0.        ]\n",
      "spike_data:  [0.86089513 0.         0.         0.         0.        ]\n",
      "spike_data:  [0.58750279 0.         0.         0.         0.        ]\n",
      "spike_data:  [0.52329504 0.         0.         0.         0.        ]\n",
      "spike_data:  [0.9202515 0.        0.        0.        0.       ]\n",
      "spike_data:  [0.96811781 0.         0.         0.         0.        ]\n",
      "spike_data:  [0.06320853 0.         0.         0.         0.        ]\n",
      "spike_data:  [0.55287605 0.         0.         0.         0.        ]\n",
      "spike_data:  [0.46595271 0.         0.         0.         0.        ]\n",
      "spike_data:  [0.30058504 0.         0.         0.         0.        ]\n",
      "spike_data:  [0.50250011 0.         0.         0.         0.        ]\n",
      "spike_data:  [0.82858461 0.         0.         0.         0.        ]\n",
      "spike_data:  [0.60736001 0.         0.         0.         0.        ]\n",
      "spike_data:  [0.7240543 0.        0.        0.        0.       ]\n",
      "spike_data:  [0.18903151 0.         0.         0.         0.        ]\n",
      "spike_data:  [0.49502706 0.         0.         0.         0.        ]\n",
      "spike_data:  [0.73789347 0.         0.         0.         0.        ]\n",
      "spike_data:  [0.31976918 0.         0.         0.         0.        ]\n",
      "spike_data:  [0.02689541 0.         0.         0.         0.        ]\n",
      "spike_data:  [0.17086215 0.         0.         0.         0.        ]\n",
      "spike_data:  [0.47088882 0.         0.         0.         0.        ]\n",
      "spike_data:  [0.0621781 0.        0.        0.        0.       ]\n",
      "spike_data:  [0.79218982 0.         0.         0.         0.        ]\n",
      "spike_data:  [0.10742168 0.         0.         0.         0.        ]\n",
      "spike_data:  [0.66985833 0.         0.         0.         0.        ]\n",
      "spike_data:  [0.08293423 0.         0.         0.         0.        ]\n",
      "spike_data:  [0.71361613 0.         0.         0.         0.        ]\n",
      "spike_data:  [0.97456853 0.         0.         0.         0.        ]\n",
      "spike_data:  [0.72498045 0.         0.         0.         0.        ]\n",
      "spike_data:  [0.71445678 0.         0.         0.         0.        ]\n",
      "spike_data:  [0.01614767 0.         0.         0.         0.        ]\n",
      "spike_data:  [0.03807771 0.         0.         0.         0.        ]\n",
      "spike_data:  [0.12458968 0.         0.         0.         0.        ]\n",
      "spike_data:  [0.57343397 0.         0.         0.         0.        ]\n",
      "spike_data:  [0.55212074 0.         0.         0.         0.        ]\n",
      "spike_data:  [0.62485293 0.         0.         0.         0.        ]\n",
      "spike_data:  [0.82434363 0.         0.         0.         0.        ]\n",
      "spike_data:  [0.84253214 0.         0.         0.         0.        ]\n",
      "spike_data:  [0.75004628 0.         0.         0.         0.        ]\n",
      "spike_data:  [0.66043512 0.         0.         0.         0.        ]\n",
      "spike_data:  [0.25264212 0.         0.         0.         0.        ]\n",
      "spike_data:  [0.38890143 0.         0.         0.         0.        ]\n",
      "spike_data:  [0.91595911 0.         0.         0.         0.        ]\n",
      "spike_data:  [0.65276191 0.         0.         0.         0.        ]\n",
      "spike_data:  [0.52819356 0.         0.         0.         0.        ]\n",
      "spike_data:  [0.55185631 0.         0.         0.         0.        ]\n",
      "spike_data:  [0.9070934 0.        0.        0.        0.       ]\n",
      "spike_data:  [0.96388532 0.         0.         0.         0.        ]\n",
      "spike_data:  [0.05512121 0.         0.         0.         0.        ]\n",
      "spike_data:  [0.25539412 0.         0.         0.         0.        ]\n",
      "spike_data:  [0.73739652 0.         0.         0.         0.        ]\n",
      "spike_data:  [0.02146041 0.         0.         0.         0.        ]\n",
      "spike_data:  [0.24717844 0.         0.         0.         0.        ]\n",
      "spike_data:  [0.39175996 0.         0.         0.         0.        ]\n",
      "spike_data:  [0.43360435 0.         0.         0.         0.        ]\n",
      "spike_data:  [0.28502987 0.         0.         0.         0.        ]\n",
      "spike_data:  [0.03553621 0.         0.         0.         0.        ]\n",
      "spike_data:  [0.44910584 0.         0.         0.         0.        ]\n",
      "spike_data:  [0.40970399 0.         0.         0.         0.        ]\n",
      "spike_data:  [0.85562347 0.         0.         0.         0.        ]\n",
      "spike_data:  [0.97200996 0.         0.         0.         0.        ]\n",
      "spike_data:  [0.58599118 0.         0.         0.         0.        ]\n",
      "spike_data:  [0.93462861 0.         0.         0.         0.        ]\n",
      "spike_data:  [0.26760025 0.         0.         0.         0.        ]\n",
      "spike_data:  [0.39473366 0.         0.         0.         0.        ]\n",
      "spike_data:  [0.13252916 0.         0.         0.         0.        ]\n",
      "spike_data:  [0.98049012 0.         0.         0.         0.        ]\n",
      "spike_data:  [0.81888637 0.         0.         0.         0.        ]\n",
      "spike_data:  [0.58395645 0.         0.         0.         0.        ]\n",
      "spike_data:  [0.61123256 0.         0.         0.         0.        ]\n",
      "spike_data:  [0.14545086 0.         0.         0.         0.        ]\n",
      "spike_data:  [0.00503442 0.         0.         0.         0.        ]\n",
      "spike_data:  [0.25095872 0.         0.         0.         0.        ]\n",
      "spike_data:  [0.57754129 0.         0.         0.         0.        ]\n",
      "spike_data:  [0.77482466 0.         0.         0.         0.        ]\n",
      "spike_data:  [0.96500139 0.         0.         0.         0.        ]\n",
      "spike_data:  [0.86585063 0.         0.         0.         0.        ]\n",
      "spike_data:  [0.46630899 0.         0.         0.         0.        ]\n",
      "spike_data:  [0.13056885 0.         0.         0.         0.        ]\n",
      "spike_data:  [0.08424067 0.         0.         0.         0.        ]\n",
      "spike_data:  [0.43119939 0.         0.         0.         0.        ]\n",
      "spike_data:  [0.96170261 0.         0.         0.         0.        ]\n"
     ]
    }
   ],
   "source": [
    "lif2.run(condition=run_condition, run_cfg=run_cfg)"
   ]
  },
  {
   "cell_type": "markdown",
   "metadata": {},
   "source": [
    "### Retrieve recorded data"
   ]
  },
  {
   "cell_type": "code",
   "execution_count": 31,
   "metadata": {},
   "outputs": [],
   "source": [
    "data_lif1 = monitor_lif1.get_data()\n",
    "data_lif2 = monitor_lif2.get_data()"
   ]
  },
  {
   "cell_type": "markdown",
   "metadata": {},
   "source": [
    "### Plot the recorded data"
   ]
  },
  {
   "cell_type": "code",
   "execution_count": 32,
   "metadata": {},
   "outputs": [
    {
     "ename": "ValueError",
     "evalue": "x, y, and format string must not be None",
     "output_type": "error",
     "traceback": [
      "\u001b[0;31m---------------------------------------------------------------------------\u001b[0m",
      "\u001b[0;31mValueError\u001b[0m                                Traceback (most recent call last)",
      "Cell \u001b[0;32mIn[32], line 11\u001b[0m\n\u001b[1;32m      8\u001b[0m ax1 \u001b[38;5;241m=\u001b[39m fig\u001b[38;5;241m.\u001b[39madd_subplot(\u001b[38;5;241m122\u001b[39m)\n\u001b[1;32m     10\u001b[0m \u001b[38;5;66;03m# Plot the data\u001b[39;00m\n\u001b[0;32m---> 11\u001b[0m \u001b[43mmonitor_lif1\u001b[49m\u001b[38;5;241;43m.\u001b[39;49m\u001b[43mplot\u001b[49m\u001b[43m(\u001b[49m\u001b[43max0\u001b[49m\u001b[43m,\u001b[49m\u001b[43m \u001b[49m\u001b[43mlif1\u001b[49m\u001b[38;5;241;43m.\u001b[39;49m\u001b[43mv\u001b[49m\u001b[43m)\u001b[49m\n\u001b[1;32m     12\u001b[0m monitor_lif2\u001b[38;5;241m.\u001b[39mplot(ax1, lif2\u001b[38;5;241m.\u001b[39mv)\n",
      "File \u001b[0;32m~/Desktop/feup/thesis/lava/src/lava/proc/monitor/process.py:268\u001b[0m, in \u001b[0;36mMonitor.plot\u001b[0;34m(self, ax, target, *args, **kwargs)\u001b[0m\n\u001b[1;32m    265\u001b[0m ax\u001b[38;5;241m.\u001b[39mset_ylabel(target\u001b[38;5;241m.\u001b[39mname)\n\u001b[1;32m    267\u001b[0m \u001b[38;5;66;03m# plot data\u001b[39;00m\n\u001b[0;32m--> 268\u001b[0m \u001b[43max\u001b[49m\u001b[38;5;241;43m.\u001b[39;49m\u001b[43mplot\u001b[49m\u001b[43m(\u001b[49m\u001b[43mdata\u001b[49m\u001b[43m[\u001b[49m\u001b[43mtarget\u001b[49m\u001b[38;5;241;43m.\u001b[39;49m\u001b[43mprocess\u001b[49m\u001b[38;5;241;43m.\u001b[39;49m\u001b[43mname\u001b[49m\u001b[43m]\u001b[49m\u001b[43m[\u001b[49m\u001b[43mtarget\u001b[49m\u001b[38;5;241;43m.\u001b[39;49m\u001b[43mname\u001b[49m\u001b[43m]\u001b[49m\u001b[43m,\u001b[49m\u001b[43m \u001b[49m\u001b[38;5;241;43m*\u001b[39;49m\u001b[43margs\u001b[49m\u001b[43m,\u001b[49m\u001b[43m \u001b[49m\u001b[38;5;241;43m*\u001b[39;49m\u001b[38;5;241;43m*\u001b[39;49m\u001b[43mkwargs\u001b[49m\u001b[43m)\u001b[49m\n",
      "File \u001b[0;32m~/Desktop/feup/thesis/lava/.venv/lib/python3.10/site-packages/matplotlib/axes/_axes.py:1688\u001b[0m, in \u001b[0;36mAxes.plot\u001b[0;34m(self, scalex, scaley, data, *args, **kwargs)\u001b[0m\n\u001b[1;32m   1445\u001b[0m \u001b[38;5;250m\u001b[39m\u001b[38;5;124;03m\"\"\"\u001b[39;00m\n\u001b[1;32m   1446\u001b[0m \u001b[38;5;124;03mPlot y versus x as lines and/or markers.\u001b[39;00m\n\u001b[1;32m   1447\u001b[0m \n\u001b[0;32m   (...)\u001b[0m\n\u001b[1;32m   1685\u001b[0m \u001b[38;5;124;03m(``'green'``) or hex strings (``'#008000'``).\u001b[39;00m\n\u001b[1;32m   1686\u001b[0m \u001b[38;5;124;03m\"\"\"\u001b[39;00m\n\u001b[1;32m   1687\u001b[0m kwargs \u001b[38;5;241m=\u001b[39m cbook\u001b[38;5;241m.\u001b[39mnormalize_kwargs(kwargs, mlines\u001b[38;5;241m.\u001b[39mLine2D)\n\u001b[0;32m-> 1688\u001b[0m lines \u001b[38;5;241m=\u001b[39m [\u001b[38;5;241m*\u001b[39m\u001b[38;5;28mself\u001b[39m\u001b[38;5;241m.\u001b[39m_get_lines(\u001b[38;5;241m*\u001b[39margs, data\u001b[38;5;241m=\u001b[39mdata, \u001b[38;5;241m*\u001b[39m\u001b[38;5;241m*\u001b[39mkwargs)]\n\u001b[1;32m   1689\u001b[0m \u001b[38;5;28;01mfor\u001b[39;00m line \u001b[38;5;129;01min\u001b[39;00m lines:\n\u001b[1;32m   1690\u001b[0m     \u001b[38;5;28mself\u001b[39m\u001b[38;5;241m.\u001b[39madd_line(line)\n",
      "File \u001b[0;32m~/Desktop/feup/thesis/lava/.venv/lib/python3.10/site-packages/matplotlib/axes/_base.py:311\u001b[0m, in \u001b[0;36m_process_plot_var_args.__call__\u001b[0;34m(self, data, *args, **kwargs)\u001b[0m\n\u001b[1;32m    309\u001b[0m     this \u001b[38;5;241m+\u001b[39m\u001b[38;5;241m=\u001b[39m args[\u001b[38;5;241m0\u001b[39m],\n\u001b[1;32m    310\u001b[0m     args \u001b[38;5;241m=\u001b[39m args[\u001b[38;5;241m1\u001b[39m:]\n\u001b[0;32m--> 311\u001b[0m \u001b[38;5;28;01myield from\u001b[39;00m \u001b[38;5;28;43mself\u001b[39;49m\u001b[38;5;241;43m.\u001b[39;49m\u001b[43m_plot_args\u001b[49m\u001b[43m(\u001b[49m\n\u001b[1;32m    312\u001b[0m \u001b[43m    \u001b[49m\u001b[43mthis\u001b[49m\u001b[43m,\u001b[49m\u001b[43m \u001b[49m\u001b[43mkwargs\u001b[49m\u001b[43m,\u001b[49m\u001b[43m \u001b[49m\u001b[43mambiguous_fmt_datakey\u001b[49m\u001b[38;5;241;43m=\u001b[39;49m\u001b[43mambiguous_fmt_datakey\u001b[49m\u001b[43m)\u001b[49m\n",
      "File \u001b[0;32m~/Desktop/feup/thesis/lava/.venv/lib/python3.10/site-packages/matplotlib/axes/_base.py:465\u001b[0m, in \u001b[0;36m_process_plot_var_args._plot_args\u001b[0;34m(self, tup, kwargs, return_kwargs, ambiguous_fmt_datakey)\u001b[0m\n\u001b[1;32m    462\u001b[0m \u001b[38;5;66;03m# Don't allow any None value; these would be up-converted to one\u001b[39;00m\n\u001b[1;32m    463\u001b[0m \u001b[38;5;66;03m# element array of None which causes problems downstream.\u001b[39;00m\n\u001b[1;32m    464\u001b[0m \u001b[38;5;28;01mif\u001b[39;00m \u001b[38;5;28many\u001b[39m(v \u001b[38;5;129;01mis\u001b[39;00m \u001b[38;5;28;01mNone\u001b[39;00m \u001b[38;5;28;01mfor\u001b[39;00m v \u001b[38;5;129;01min\u001b[39;00m tup):\n\u001b[0;32m--> 465\u001b[0m     \u001b[38;5;28;01mraise\u001b[39;00m \u001b[38;5;167;01mValueError\u001b[39;00m(\u001b[38;5;124m\"\u001b[39m\u001b[38;5;124mx, y, and format string must not be None\u001b[39m\u001b[38;5;124m\"\u001b[39m)\n\u001b[1;32m    467\u001b[0m kw \u001b[38;5;241m=\u001b[39m {}\n\u001b[1;32m    468\u001b[0m \u001b[38;5;28;01mfor\u001b[39;00m prop_name, val \u001b[38;5;129;01min\u001b[39;00m \u001b[38;5;28mzip\u001b[39m((\u001b[38;5;124m'\u001b[39m\u001b[38;5;124mlinestyle\u001b[39m\u001b[38;5;124m'\u001b[39m, \u001b[38;5;124m'\u001b[39m\u001b[38;5;124mmarker\u001b[39m\u001b[38;5;124m'\u001b[39m, \u001b[38;5;124m'\u001b[39m\u001b[38;5;124mcolor\u001b[39m\u001b[38;5;124m'\u001b[39m),\n\u001b[1;32m    469\u001b[0m                           (linestyle, marker, color)):\n",
      "\u001b[0;31mValueError\u001b[0m: x, y, and format string must not be None"
     ]
    },
    {
     "data": {
      "image/png": "[encoded data removed]",
      "text/plain": [
       "<Figure size 1600x500 with 2 Axes>"
      ]
     },
     "metadata": {},
     "output_type": "display_data"
    }
   ],
   "source": [
    "import matplotlib\n",
    "%matplotlib inline\n",
    "from matplotlib import pyplot as plt\n",
    "\n",
    "# Create a subplot for each monitored variable\n",
    "fig = plt.figure(figsize=(16, 5))\n",
    "ax0 = fig.add_subplot(121)\n",
    "ax1 = fig.add_subplot(122)\n",
    "\n",
    "# Plot the data\n",
    "monitor_lif1.plot(ax0, lif1.v)\n",
    "monitor_lif2.plot(ax1, lif2.v)"
   ]
  },
  {
   "cell_type": "markdown",
   "metadata": {},
   "source": [
    "## Stop the Runtime"
   ]
  },
  {
   "cell_type": "code",
   "execution_count": null,
   "metadata": {},
   "outputs": [],
   "source": [
    "lif2.stop()"
   ]
  },
  {
   "cell_type": "markdown",
   "metadata": {},
   "source": []
  }
 ],
 "metadata": {
  "kernelspec": {
   "display_name": ".venv",
   "language": "python",
   "name": "python3"
  },
  "language_info": {
   "codemirror_mode": {
    "name": "ipython",
    "version": 3
   },
   "file_extension": ".py",
   "mimetype": "text/x-python",
   "name": "python",
   "nbconvert_exporter": "python",
   "pygments_lexer": "ipython3",
   "version": "3.10.12"
  }
 },
 "nbformat": 4,
 "nbformat_minor": 2
}
