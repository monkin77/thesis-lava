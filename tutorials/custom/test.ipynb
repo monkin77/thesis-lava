{
 "cells": [
  {
   "cell_type": "markdown",
   "metadata": {},
   "source": [
    "# Practical Usage of Lava w/ custom input from the lab"
   ]
  },
  {
   "cell_type": "markdown",
   "metadata": {},
   "source": [
    "The input data from the lab used in this example consists of a sequence of timestamps where a specific neuron fired. The data is stored in a csv file, where each value is a timestamp (in milliseconds). \n",
    "\n",
    "Thus, the input layer only requires 1 connection at each timestep. We will assume the network contains 5 neurons for the sake of this example."
   ]
  },
  {
   "cell_type": "markdown",
   "metadata": {},
   "source": [
    "Let's start by defining the middle layer, the 2-layered feed-forward network of LIF neurons"
   ]
  },
  {
   "cell_type": "code",
   "execution_count": 145,
   "metadata": {},
   "outputs": [
    {
     "name": "stdout",
     "output_type": "stream",
     "text": [
      "\u001b[0;31mInit signature:\u001b[0m \u001b[0mLIF\u001b[0m\u001b[0;34m(\u001b[0m\u001b[0;34m*\u001b[0m\u001b[0margs\u001b[0m\u001b[0;34m,\u001b[0m \u001b[0;34m**\u001b[0m\u001b[0mkwargs\u001b[0m\u001b[0;34m)\u001b[0m\u001b[0;34m\u001b[0m\u001b[0;34m\u001b[0m\u001b[0m\n",
      "\u001b[0;31mDocstring:\u001b[0m     \n",
      "Leaky-Integrate-and-Fire (LIF) neural Process.\n",
      "\n",
      "LIF dynamics abstracts to:\n",
      "u[t] = u[t-1] * (1-du) + a_in         # neuron current\n",
      "v[t] = v[t-1] * (1-dv) + u[t] + bias  # neuron voltage\n",
      "s_out = v[t] > vth                    # spike if threshold is exceeded\n",
      "v[t] = 0                              # reset at spike\n",
      "\n",
      "Parameters\n",
      "----------\n",
      "shape : tuple(int)\n",
      "    Number and topology of LIF neurons.\n",
      "u : float, list, numpy.ndarray, optional\n",
      "    Initial value of the neurons' current.\n",
      "v : float, list, numpy.ndarray, optional\n",
      "    Initial value of the neurons' voltage (membrane potential).\n",
      "du : float, optional\n",
      "    Inverse of decay time-constant for current decay. Currently, only a\n",
      "    single decay can be set for the entire population of neurons.\n",
      "dv : float, optional\n",
      "    Inverse of decay time-constant for voltage decay. Currently, only a\n",
      "    single decay can be set for the entire population of neurons.\n",
      "bias_mant : float, list, numpy.ndarray, optional\n",
      "    Mantissa part of neuron bias.\n",
      "bias_exp : float, list, numpy.ndarray, optional\n",
      "    Exponent part of neuron bias, if needed. Mostly for fixed point\n",
      "    implementations. Ignored for floating point implementations.\n",
      "vth : float, optional\n",
      "    Neuron threshold voltage, exceeding which, the neuron will spike.\n",
      "    Currently, only a single threshold can be set for the entire\n",
      "    population of neurons.\n",
      "\n",
      "Example\n",
      "-------\n",
      ">>> lif = LIF(shape=(200, 15), du=10, dv=5)\n",
      "This will create 200x15 LIF neurons that all have the same current decay\n",
      "of 10 and voltage decay of 5.\n",
      "\u001b[0;31mInit docstring:\u001b[0m Initializes a new Process.\n",
      "\u001b[0;31mFile:\u001b[0m           ~/Desktop/feup/thesis/lava/src/lava/proc/lif/process.py\n",
      "\u001b[0;31mType:\u001b[0m           ProcessPostInitCaller\n",
      "\u001b[0;31mSubclasses:\u001b[0m     LIFReset, LIFRefractory"
     ]
    }
   ],
   "source": [
    "from lava.proc.lif.process import LIF\n",
    "from lava.proc.dense.process import Dense\n",
    "\n",
    "LIF?"
   ]
  },
  {
   "cell_type": "code",
   "execution_count": 146,
   "metadata": {},
   "outputs": [],
   "source": [
    "import numpy as np\n",
    "\n",
    "# Create Processes\n",
    "lif1 = LIF(shape=(5,),  # There are 5 neurons\n",
    "           vth=10,  # TODO: Verify these initial values\n",
    "           v=0,\n",
    "           dv=0.5,\n",
    "           du=0.5,\n",
    "           bias_mant=0,\n",
    "           name=\"lif1\")\n",
    "\n",
    "dense = Dense(weights=np.random.rand(2, 5),     # 5 nodes in the input side, 2 nodes on the output side \n",
    "              name=\"dense1\") \n",
    "\n",
    "lif2 = LIF(shape=(2,),\n",
    "           vth=10,\n",
    "           v=0,\n",
    "           dv=0.5,\n",
    "           du=0.5,\n",
    "           bias_mant=0,\n",
    "           name=\"lif2\")"
   ]
  },
  {
   "cell_type": "markdown",
   "metadata": {},
   "source": [
    "Should the Dense layer contain 2 output nodes? I was thinking each output node could correspond to the probability of the events \"network burst detected\" or \"network burst not detected\" at each timestep. It might be better to represent it with a single node?"
   ]
  },
  {
   "cell_type": "markdown",
   "metadata": {},
   "source": [
    "Let's take a look at the ports and connections of the middle layer:"
   ]
  },
  {
   "cell_type": "code",
   "execution_count": 147,
   "metadata": {},
   "outputs": [
    {
     "name": "stdout",
     "output_type": "stream",
     "text": [
      "Proc: lif1  Port Name: a_in  Size: 5\n",
      "Proc: lif1  Port Name: s_out Size: 5\n",
      "Proc: dense1 Port Name: s_in  Size: 5\n",
      "Proc: dense1 Port Name: a_out Size: 2\n",
      "Proc: lif2  Port Name: a_in  Size: 2\n",
      "Proc: lif2  Port Name: s_out Size: 2\n"
     ]
    }
   ],
   "source": [
    "for proc in [lif1, dense, lif2]:\n",
    "    for port in proc.in_ports:\n",
    "        print(f\"Proc: {proc.name:<5} Port Name: {port.name:<5} Size: {port.size}\")\n",
    "    for port in proc.out_ports:\n",
    "        print(f\"Proc: {proc.name:<5} Port Name: {port.name:<5} Size: {port.size}\")"
   ]
  },
  {
   "cell_type": "markdown",
   "metadata": {},
   "source": [
    "After verifying the input and output Ports of the middle layer, we can connect the network to complete the LIF-Dense-LIF structure"
   ]
  },
  {
   "cell_type": "code",
   "execution_count": 148,
   "metadata": {},
   "outputs": [],
   "source": [
    "lif1.s_out.connect(dense.s_in)\n",
    "dense.a_out.connect(lif2.a_in)"
   ]
  },
  {
   "cell_type": "markdown",
   "metadata": {},
   "source": [
    "Take a look at the random weights of the Dense Layer:"
   ]
  },
  {
   "cell_type": "code",
   "execution_count": 149,
   "metadata": {},
   "outputs": [
    {
     "data": {
      "text/plain": [
       "array([[0.13743684, 0.24508359, 0.15474068, 0.25704039, 0.00494908],\n",
       "       [0.35851092, 0.79598508, 0.7221887 , 0.35856429, 0.73813769]])"
      ]
     },
     "execution_count": 149,
     "metadata": {},
     "output_type": "execute_result"
    }
   ],
   "source": [
    "dense.weights.get()"
   ]
  },
  {
   "cell_type": "markdown",
   "metadata": {},
   "source": [
    "### Record Internal Vars over time\n",
    "To record the evolution of the internal variables over time, we need a `Monitor`. For this example, we want to record the membrane potential of both `LIF` Layers, hence we need 2 `Monitors`.\n",
    "\n",
    "We can define the `Var` that a `Monitor` should record, as well as the recording duration, using the `probe` function"
   ]
  },
  {
   "cell_type": "code",
   "execution_count": 150,
   "metadata": {},
   "outputs": [],
   "source": [
    "from lava.proc.monitor.process import Monitor\n",
    "\n",
    "monitor_lif1 = Monitor()\n",
    "monitor_lif2 = Monitor()\n",
    "\n",
    "num_steps = 100     # TODO: Check the number of steps to run the simulation for\n",
    "\n",
    "# Connect the monitors to the variables we want to monitor\n",
    "monitor_lif1.probe(lif1.v, num_steps)\n",
    "monitor_lif2.probe(lif2.v, num_steps)"
   ]
  },
  {
   "cell_type": "markdown",
   "metadata": {},
   "source": [
    "## Create the Custom Input Layer"
   ]
  },
  {
   "cell_type": "markdown",
   "metadata": {},
   "source": [
    "### Define function to read the input data from the csv file and generate the corresponding spike events"
   ]
  },
  {
   "cell_type": "code",
   "execution_count": 151,
   "metadata": {},
   "outputs": [],
   "source": [
    "import pandas as pd\n",
    "\n",
    "def read_spike_events(file_path: str):\n",
    "    \"\"\"Reads the spike events from the input file and returns them as a numpy array\n",
    "\n",
    "    Args:\n",
    "        file_path (str): name of the file containing the spike events\n",
    "    \"\"\"\n",
    "    spike_events = []\n",
    "\n",
    "    try:\n",
    "        # Read the spike events from the file\n",
    "        df = pd.read_csv(file_path, header=None)\n",
    "\n",
    "        # Detect errors\n",
    "        if df.empty:\n",
    "            raise Exception(\"The input file is empty\")\n",
    "\n",
    "        # Convert the scientific notation values to integers if any exist\n",
    "        df = df.applymap(lambda x: int(float(x)) if (isinstance(x, str) and 'e' in x) else x)\n",
    "\n",
    "        # Convert the dataframe to a numpy array\n",
    "        spike_events = df.to_numpy()\n",
    "        return spike_events[0]\n",
    "    except Exception as e:\n",
    "        print(\"Unable to read the input file: \", file_path, \" error:\", e)\n",
    "\n",
    "    return spike_events"
   ]
  },
  {
   "cell_type": "code",
   "execution_count": 152,
   "metadata": {},
   "outputs": [
    {
     "name": "stdout",
     "output_type": "stream",
     "text": [
      "Spike events:  (289,) [104000. 124000. 135000. 171000. 177000. 184000. 190000. 194000. 200000.\n",
      " 200000.]\n"
     ]
    }
   ],
   "source": [
    "# Call the function to read the spike events\n",
    "file_path = \"./canal60.csv\"\n",
    "spike_events = read_spike_events(file_path)\n",
    "print(\"Spike events: \", spike_events.shape, spike_events[:10])"
   ]
  },
  {
   "cell_type": "markdown",
   "metadata": {},
   "source": [
    "Define the SpikeEvent Generator Interface"
   ]
  },
  {
   "cell_type": "code",
   "execution_count": 153,
   "metadata": {},
   "outputs": [],
   "source": [
    "from lava.magma.core.process.process import AbstractProcess\n",
    "from lava.magma.core.process.variable import Var\n",
    "from lava.magma.core.process.ports.ports import OutPort\n",
    "\n",
    "class SpikeEventGen(AbstractProcess):\n",
    "    \"\"\"Input Process that generates spike events based on the input file\n",
    "\n",
    "    Args:\n",
    "        shape (tuple): Shape of the output port\n",
    "        file_name (str): Name of the file containing the spike events\n",
    "    \"\"\"\n",
    "    def __init__(self, shape: tuple, spike_events: np.ndarray) -> None:\n",
    "        super().__init__()\n",
    "        self.s_out = OutPort(shape=shape)\n",
    "        self.spike_events = Var(shape=spike_events.shape, init=spike_events)"
   ]
  },
  {
   "cell_type": "markdown",
   "metadata": {},
   "source": [
    "Implement the `SpikeEventGenerator` Model"
   ]
  },
  {
   "cell_type": "code",
   "execution_count": 154,
   "metadata": {},
   "outputs": [],
   "source": [
    "from lava.magma.core.model.py.model import PyLoihiProcessModel  # Processes running on CPU inherit from this class\n",
    "from lava.magma.core.resources import CPU\n",
    "from lava.magma.core.decorator import implements, requires\n",
    "from lava.magma.core.sync.protocols.loihi_protocol import LoihiProtocol\n",
    "from lava.magma.core.model.py.type import LavaPyType\n",
    "from lava.magma.core.model.py.ports import PyOutPort\n",
    "\n",
    "@implements(proc=SpikeEventGen, protocol=LoihiProtocol)\n",
    "@requires(CPU)\n",
    "class PySpikeEventGenModel(PyLoihiProcessModel):\n",
    "    \"\"\"Spike Event Generator Process implementation running on CPU (Python)\n",
    "    Args:\n",
    "    \"\"\"\n",
    "    s_out: PyOutPort = LavaPyType(PyOutPort.VEC_DENSE, float)   # IT IS POSSIBLE TO SEND FLOATS AFTER ALL\n",
    "    spike_events: np.ndarray = LavaPyType(np.ndarray, np.ndarray)   # TODO: Check if we should keep it as a numpy array, or transform it to a list\n",
    "\n",
    "    def __init__(self, proc_params) -> None:\n",
    "        super().__init__(proc_params=proc_params)\n",
    "        # print(\"spike events\", self.spike_events.__str__())    # TODO: Check why during initialization the variable prints the class, while during run it prints the value\n",
    "        self.curr_spike_idx = 0     # Index of the next spiking event to send\n",
    "        self.virtual_time_step_interval = 10000    # Arbitrary time between time steps (in microseconds). This is not a real time interval\n",
    "        self.init_offset = 100000                  # Arbitrary offset to start the simulation (in microseconds)\n",
    "\n",
    "    def run_spk(self) -> None:\n",
    "        spike_data = np.zeros(self.s_out.shape) # Initialize the spike data to 0\n",
    "        \n",
    "        # Use random spikes to test it\n",
    "        # spike_data[0] = np.random.random()  # Only 1 neuron is sending data (spikes)\n",
    "        # self.curr_spike_idx += 1\n",
    "\n",
    "        # Use the spike events from the file\n",
    "        # print(\"spike events: \", self.spike_events[:5])\n",
    "        # TODO: For now we are using the time_step as the time measurement that will simulate real-time activity. It would be better to have access to the running time\n",
    "        \n",
    "        #print(\"time step:\", self.time_step)\n",
    "        # If the current simulation time is greater than the next spike event, send a spike\n",
    "        currTime = self.init_offset + self.time_step*self.virtual_time_step_interval\n",
    "        if currTime >= self.spike_events[self.curr_spike_idx]:\n",
    "            spike_data[0] = 1   # Send a spike\n",
    "            print(f\"sending spike event at time: {currTime}({self.time_step}) spike idx: {self.curr_spike_idx} spike time: {self.spike_events[self.curr_spike_idx]}\")\n",
    "            self.curr_spike_idx += 1\n",
    "\n",
    "        # Send spikes\n",
    "        print(\"sending spike_data: \", spike_data, \" at step: \", self.time_step)\n",
    "        self.s_out.send(spike_data)\n",
    "\n",
    "        # Stop the Process if there are no more spike events to send. (It will stop all the connected processes)\n",
    "        # TODO: Should it be another process that stops the simulation? Such as the last LIF process\n",
    "        # if self.curr_spike_idx >= 5: # len(self.spike_events):\n",
    "            # self.pause()\n"
   ]
  },
  {
   "cell_type": "markdown",
   "metadata": {},
   "source": [
    "## Connect the Custom Input Layer to the middle layer"
   ]
  },
  {
   "cell_type": "markdown",
   "metadata": {},
   "source": [
    "To define the connectivity between the `SpikeGenerator` and the first `LIF` population, we use another `Dense` Layer."
   ]
  },
  {
   "cell_type": "code",
   "execution_count": 155,
   "metadata": {},
   "outputs": [],
   "source": [
    "# Create the Input Process\n",
    "spike_event_gen = SpikeEventGen(shape=(5,), spike_events=spike_events)\n",
    "\n",
    "# Instantiante a Dense Layer to connect the SpikeEventGen to the middle layer\n",
    "dense_input = Dense(weights=np.eye(5))     # 1-1 connectivity with the Middle Layer (should be a 5x5 matrix right now)\n",
    "\n",
    "# Connect the SpikeEventGen to the Dense Layer\n",
    "spike_event_gen.s_out.connect(dense_input.s_in)\n",
    "\n",
    "# Connect the Dense_Input to the LIF1 Layer\n",
    "dense_input.a_out.connect(lif1.a_in)"
   ]
  },
  {
   "cell_type": "markdown",
   "metadata": {},
   "source": [
    "### Take a look at the connections in the Input Layer"
   ]
  },
  {
   "cell_type": "code",
   "execution_count": 156,
   "metadata": {},
   "outputs": [
    {
     "name": "stdout",
     "output_type": "stream",
     "text": [
      "Proc: Process_68 Port Name: s_out Size: 5\n",
      "Proc: Process_69 Port Name: s_in  Size: 5\n",
      "Proc: Process_69 Port Name: a_out Size: 5\n",
      "Proc: lif1  Port Name: a_in  Size: 5\n",
      "Proc: lif1  Port Name: s_out Size: 5\n"
     ]
    }
   ],
   "source": [
    "for proc in [spike_event_gen, dense_input, lif1]:\n",
    "    for port in proc.in_ports:\n",
    "        print(f\"Proc: {proc.name:<5} Port Name: {port.name:<5} Size: {port.size}\")\n",
    "    for port in proc.out_ports:\n",
    "        print(f\"Proc: {proc.name:<5} Port Name: {port.name:<5} Size: {port.size}\")"
   ]
  },
  {
   "cell_type": "markdown",
   "metadata": {},
   "source": [
    "## Execution\n",
    "Now that we have defined the network, we can execute it. We will use the `run` function to execute the network."
   ]
  },
  {
   "cell_type": "markdown",
   "metadata": {},
   "source": [
    "### Run Configuration and Conditions"
   ]
  },
  {
   "cell_type": "code",
   "execution_count": 157,
   "metadata": {},
   "outputs": [],
   "source": [
    "from lava.magma.core.run_conditions import RunContinuous, RunSteps\n",
    "from lava.magma.core.run_configs import Loihi1SimCfg\n",
    "\n",
    "# run_condition = RunContinuous()   # TODO: Change to this one\n",
    "run_condition = RunSteps(num_steps=10)\n",
    "run_cfg = Loihi1SimCfg(select_tag=\"floating_pt\")   # TODO: Check why we need this select_tag=\"floating_pt\""
   ]
  },
  {
   "cell_type": "markdown",
   "metadata": {},
   "source": [
    "### Execute"
   ]
  },
  {
   "cell_type": "code",
   "execution_count": 158,
   "metadata": {},
   "outputs": [
    {
     "name": "stdout",
     "output_type": "stream",
     "text": [
      "sending spike event at time: 110000(1) spike idx: 0 spike time: 104000.0\n",
      "sending spike_data:  [1. 0. 0. 0. 0.]  at step:  1\n",
      "sending spike_data:  [0. 0. 0. 0. 0.]  at step:  2\n",
      "sending spike event at time: 130000(3) spike idx: 1 spike time: 124000.0\n",
      "sending spike_data:  [1. 0. 0. 0. 0.]  at step:  3\n",
      "sending spike event at time: 140000(4) spike idx: 2 spike time: 135000.0\n",
      "sending spike_data:  [1. 0. 0. 0. 0.]  at step:  4\n",
      "sending spike_data:  [0. 0. 0. 0. 0.]  at step:  5\n",
      "sending spike_data:  [0. 0. 0. 0. 0.]  at step:  6\n",
      "sending spike_data:  [0. 0. 0. 0. 0.]  at step:  7\n",
      "sending spike event at time: 180000(8) spike idx: 3 spike time: 171000.0\n",
      "sending spike_data:  [1. 0. 0. 0. 0.]  at step:  8\n",
      "sending spike event at time: 190000(9) spike idx: 4 spike time: 177000.0\n",
      "sending spike_data:  [1. 0. 0. 0. 0.]  at step:  9\n",
      "sending spike event at time: 200000(10) spike idx: 5 spike time: 184000.0\n",
      "sending spike_data:  [1. 0. 0. 0. 0.]  at step:  10\n"
     ]
    }
   ],
   "source": [
    "lif2.run(condition=run_condition, run_cfg=run_cfg)"
   ]
  },
  {
   "cell_type": "markdown",
   "metadata": {},
   "source": [
    "### Retrieve recorded data"
   ]
  },
  {
   "cell_type": "code",
   "execution_count": 159,
   "metadata": {},
   "outputs": [],
   "source": [
    "data_lif1 = monitor_lif1.get_data()\n",
    "data_lif2 = monitor_lif2.get_data()"
   ]
  },
  {
   "cell_type": "code",
   "execution_count": 160,
   "metadata": {},
   "outputs": [
    {
     "data": {
      "text/plain": [
       "{'lif1': {'v': array([[ 0.000000e+00,  0.000000e+00,  0.000000e+00,  0.000000e+00,\n",
       "           0.000000e+00],\n",
       "         [ 1.000000e+00,  0.000000e+00,  0.000000e+00,  0.000000e+00,\n",
       "           0.000000e+00],\n",
       "         [-1.800000e+01,  0.000000e+00,  0.000000e+00,  0.000000e+00,\n",
       "           0.000000e+00],\n",
       "         [ 0.000000e+00,  0.000000e+00,  0.000000e+00,  0.000000e+00,\n",
       "           0.000000e+00],\n",
       "         [-7.370000e+02,  0.000000e+00,  0.000000e+00,  0.000000e+00,\n",
       "           0.000000e+00],\n",
       "         [ 0.000000e+00,  0.000000e+00,  0.000000e+00,  0.000000e+00,\n",
       "           0.000000e+00],\n",
       "         [-5.969700e+04,  0.000000e+00,  0.000000e+00,  0.000000e+00,\n",
       "           0.000000e+00],\n",
       "         [ 0.000000e+00,  0.000000e+00,  0.000000e+00,  0.000000e+00,\n",
       "           0.000000e+00],\n",
       "         [-4.835456e+06,  0.000000e+00,  0.000000e+00,  0.000000e+00,\n",
       "           0.000000e+00],\n",
       "         [ 0.000000e+00,  0.000000e+00,  0.000000e+00,  0.000000e+00,\n",
       "           0.000000e+00],\n",
       "         [ 0.000000e+00,  0.000000e+00,  0.000000e+00,  0.000000e+00,\n",
       "           0.000000e+00],\n",
       "         [ 0.000000e+00,  0.000000e+00,  0.000000e+00,  0.000000e+00,\n",
       "           0.000000e+00],\n",
       "         [ 0.000000e+00,  0.000000e+00,  0.000000e+00,  0.000000e+00,\n",
       "           0.000000e+00],\n",
       "         [ 0.000000e+00,  0.000000e+00,  0.000000e+00,  0.000000e+00,\n",
       "           0.000000e+00],\n",
       "         [ 0.000000e+00,  0.000000e+00,  0.000000e+00,  0.000000e+00,\n",
       "           0.000000e+00],\n",
       "         [ 0.000000e+00,  0.000000e+00,  0.000000e+00,  0.000000e+00,\n",
       "           0.000000e+00],\n",
       "         [ 0.000000e+00,  0.000000e+00,  0.000000e+00,  0.000000e+00,\n",
       "           0.000000e+00],\n",
       "         [ 0.000000e+00,  0.000000e+00,  0.000000e+00,  0.000000e+00,\n",
       "           0.000000e+00],\n",
       "         [ 0.000000e+00,  0.000000e+00,  0.000000e+00,  0.000000e+00,\n",
       "           0.000000e+00],\n",
       "         [ 0.000000e+00,  0.000000e+00,  0.000000e+00,  0.000000e+00,\n",
       "           0.000000e+00],\n",
       "         [ 0.000000e+00,  0.000000e+00,  0.000000e+00,  0.000000e+00,\n",
       "           0.000000e+00],\n",
       "         [ 0.000000e+00,  0.000000e+00,  0.000000e+00,  0.000000e+00,\n",
       "           0.000000e+00],\n",
       "         [ 0.000000e+00,  0.000000e+00,  0.000000e+00,  0.000000e+00,\n",
       "           0.000000e+00],\n",
       "         [ 0.000000e+00,  0.000000e+00,  0.000000e+00,  0.000000e+00,\n",
       "           0.000000e+00],\n",
       "         [ 0.000000e+00,  0.000000e+00,  0.000000e+00,  0.000000e+00,\n",
       "           0.000000e+00],\n",
       "         [ 0.000000e+00,  0.000000e+00,  0.000000e+00,  0.000000e+00,\n",
       "           0.000000e+00],\n",
       "         [ 0.000000e+00,  0.000000e+00,  0.000000e+00,  0.000000e+00,\n",
       "           0.000000e+00],\n",
       "         [ 0.000000e+00,  0.000000e+00,  0.000000e+00,  0.000000e+00,\n",
       "           0.000000e+00],\n",
       "         [ 0.000000e+00,  0.000000e+00,  0.000000e+00,  0.000000e+00,\n",
       "           0.000000e+00],\n",
       "         [ 0.000000e+00,  0.000000e+00,  0.000000e+00,  0.000000e+00,\n",
       "           0.000000e+00],\n",
       "         [ 0.000000e+00,  0.000000e+00,  0.000000e+00,  0.000000e+00,\n",
       "           0.000000e+00],\n",
       "         [ 0.000000e+00,  0.000000e+00,  0.000000e+00,  0.000000e+00,\n",
       "           0.000000e+00],\n",
       "         [ 0.000000e+00,  0.000000e+00,  0.000000e+00,  0.000000e+00,\n",
       "           0.000000e+00],\n",
       "         [ 0.000000e+00,  0.000000e+00,  0.000000e+00,  0.000000e+00,\n",
       "           0.000000e+00],\n",
       "         [ 0.000000e+00,  0.000000e+00,  0.000000e+00,  0.000000e+00,\n",
       "           0.000000e+00],\n",
       "         [ 0.000000e+00,  0.000000e+00,  0.000000e+00,  0.000000e+00,\n",
       "           0.000000e+00],\n",
       "         [ 0.000000e+00,  0.000000e+00,  0.000000e+00,  0.000000e+00,\n",
       "           0.000000e+00],\n",
       "         [ 0.000000e+00,  0.000000e+00,  0.000000e+00,  0.000000e+00,\n",
       "           0.000000e+00],\n",
       "         [ 0.000000e+00,  0.000000e+00,  0.000000e+00,  0.000000e+00,\n",
       "           0.000000e+00],\n",
       "         [ 0.000000e+00,  0.000000e+00,  0.000000e+00,  0.000000e+00,\n",
       "           0.000000e+00],\n",
       "         [ 0.000000e+00,  0.000000e+00,  0.000000e+00,  0.000000e+00,\n",
       "           0.000000e+00],\n",
       "         [ 0.000000e+00,  0.000000e+00,  0.000000e+00,  0.000000e+00,\n",
       "           0.000000e+00],\n",
       "         [ 0.000000e+00,  0.000000e+00,  0.000000e+00,  0.000000e+00,\n",
       "           0.000000e+00],\n",
       "         [ 0.000000e+00,  0.000000e+00,  0.000000e+00,  0.000000e+00,\n",
       "           0.000000e+00],\n",
       "         [ 0.000000e+00,  0.000000e+00,  0.000000e+00,  0.000000e+00,\n",
       "           0.000000e+00],\n",
       "         [ 0.000000e+00,  0.000000e+00,  0.000000e+00,  0.000000e+00,\n",
       "           0.000000e+00],\n",
       "         [ 0.000000e+00,  0.000000e+00,  0.000000e+00,  0.000000e+00,\n",
       "           0.000000e+00],\n",
       "         [ 0.000000e+00,  0.000000e+00,  0.000000e+00,  0.000000e+00,\n",
       "           0.000000e+00],\n",
       "         [ 0.000000e+00,  0.000000e+00,  0.000000e+00,  0.000000e+00,\n",
       "           0.000000e+00],\n",
       "         [ 0.000000e+00,  0.000000e+00,  0.000000e+00,  0.000000e+00,\n",
       "           0.000000e+00],\n",
       "         [ 0.000000e+00,  0.000000e+00,  0.000000e+00,  0.000000e+00,\n",
       "           0.000000e+00],\n",
       "         [ 0.000000e+00,  0.000000e+00,  0.000000e+00,  0.000000e+00,\n",
       "           0.000000e+00],\n",
       "         [ 0.000000e+00,  0.000000e+00,  0.000000e+00,  0.000000e+00,\n",
       "           0.000000e+00],\n",
       "         [ 0.000000e+00,  0.000000e+00,  0.000000e+00,  0.000000e+00,\n",
       "           0.000000e+00],\n",
       "         [ 0.000000e+00,  0.000000e+00,  0.000000e+00,  0.000000e+00,\n",
       "           0.000000e+00],\n",
       "         [ 0.000000e+00,  0.000000e+00,  0.000000e+00,  0.000000e+00,\n",
       "           0.000000e+00],\n",
       "         [ 0.000000e+00,  0.000000e+00,  0.000000e+00,  0.000000e+00,\n",
       "           0.000000e+00],\n",
       "         [ 0.000000e+00,  0.000000e+00,  0.000000e+00,  0.000000e+00,\n",
       "           0.000000e+00],\n",
       "         [ 0.000000e+00,  0.000000e+00,  0.000000e+00,  0.000000e+00,\n",
       "           0.000000e+00],\n",
       "         [ 0.000000e+00,  0.000000e+00,  0.000000e+00,  0.000000e+00,\n",
       "           0.000000e+00],\n",
       "         [ 0.000000e+00,  0.000000e+00,  0.000000e+00,  0.000000e+00,\n",
       "           0.000000e+00],\n",
       "         [ 0.000000e+00,  0.000000e+00,  0.000000e+00,  0.000000e+00,\n",
       "           0.000000e+00],\n",
       "         [ 0.000000e+00,  0.000000e+00,  0.000000e+00,  0.000000e+00,\n",
       "           0.000000e+00],\n",
       "         [ 0.000000e+00,  0.000000e+00,  0.000000e+00,  0.000000e+00,\n",
       "           0.000000e+00],\n",
       "         [ 0.000000e+00,  0.000000e+00,  0.000000e+00,  0.000000e+00,\n",
       "           0.000000e+00],\n",
       "         [ 0.000000e+00,  0.000000e+00,  0.000000e+00,  0.000000e+00,\n",
       "           0.000000e+00],\n",
       "         [ 0.000000e+00,  0.000000e+00,  0.000000e+00,  0.000000e+00,\n",
       "           0.000000e+00],\n",
       "         [ 0.000000e+00,  0.000000e+00,  0.000000e+00,  0.000000e+00,\n",
       "           0.000000e+00],\n",
       "         [ 0.000000e+00,  0.000000e+00,  0.000000e+00,  0.000000e+00,\n",
       "           0.000000e+00],\n",
       "         [ 0.000000e+00,  0.000000e+00,  0.000000e+00,  0.000000e+00,\n",
       "           0.000000e+00],\n",
       "         [ 0.000000e+00,  0.000000e+00,  0.000000e+00,  0.000000e+00,\n",
       "           0.000000e+00],\n",
       "         [ 0.000000e+00,  0.000000e+00,  0.000000e+00,  0.000000e+00,\n",
       "           0.000000e+00],\n",
       "         [ 0.000000e+00,  0.000000e+00,  0.000000e+00,  0.000000e+00,\n",
       "           0.000000e+00],\n",
       "         [ 0.000000e+00,  0.000000e+00,  0.000000e+00,  0.000000e+00,\n",
       "           0.000000e+00],\n",
       "         [ 0.000000e+00,  0.000000e+00,  0.000000e+00,  0.000000e+00,\n",
       "           0.000000e+00],\n",
       "         [ 0.000000e+00,  0.000000e+00,  0.000000e+00,  0.000000e+00,\n",
       "           0.000000e+00],\n",
       "         [ 0.000000e+00,  0.000000e+00,  0.000000e+00,  0.000000e+00,\n",
       "           0.000000e+00],\n",
       "         [ 0.000000e+00,  0.000000e+00,  0.000000e+00,  0.000000e+00,\n",
       "           0.000000e+00],\n",
       "         [ 0.000000e+00,  0.000000e+00,  0.000000e+00,  0.000000e+00,\n",
       "           0.000000e+00],\n",
       "         [ 0.000000e+00,  0.000000e+00,  0.000000e+00,  0.000000e+00,\n",
       "           0.000000e+00],\n",
       "         [ 0.000000e+00,  0.000000e+00,  0.000000e+00,  0.000000e+00,\n",
       "           0.000000e+00],\n",
       "         [ 0.000000e+00,  0.000000e+00,  0.000000e+00,  0.000000e+00,\n",
       "           0.000000e+00],\n",
       "         [ 0.000000e+00,  0.000000e+00,  0.000000e+00,  0.000000e+00,\n",
       "           0.000000e+00],\n",
       "         [ 0.000000e+00,  0.000000e+00,  0.000000e+00,  0.000000e+00,\n",
       "           0.000000e+00],\n",
       "         [ 0.000000e+00,  0.000000e+00,  0.000000e+00,  0.000000e+00,\n",
       "           0.000000e+00],\n",
       "         [ 0.000000e+00,  0.000000e+00,  0.000000e+00,  0.000000e+00,\n",
       "           0.000000e+00],\n",
       "         [ 0.000000e+00,  0.000000e+00,  0.000000e+00,  0.000000e+00,\n",
       "           0.000000e+00],\n",
       "         [ 0.000000e+00,  0.000000e+00,  0.000000e+00,  0.000000e+00,\n",
       "           0.000000e+00],\n",
       "         [ 0.000000e+00,  0.000000e+00,  0.000000e+00,  0.000000e+00,\n",
       "           0.000000e+00],\n",
       "         [ 0.000000e+00,  0.000000e+00,  0.000000e+00,  0.000000e+00,\n",
       "           0.000000e+00],\n",
       "         [ 0.000000e+00,  0.000000e+00,  0.000000e+00,  0.000000e+00,\n",
       "           0.000000e+00],\n",
       "         [ 0.000000e+00,  0.000000e+00,  0.000000e+00,  0.000000e+00,\n",
       "           0.000000e+00],\n",
       "         [ 0.000000e+00,  0.000000e+00,  0.000000e+00,  0.000000e+00,\n",
       "           0.000000e+00],\n",
       "         [ 0.000000e+00,  0.000000e+00,  0.000000e+00,  0.000000e+00,\n",
       "           0.000000e+00],\n",
       "         [ 0.000000e+00,  0.000000e+00,  0.000000e+00,  0.000000e+00,\n",
       "           0.000000e+00],\n",
       "         [ 0.000000e+00,  0.000000e+00,  0.000000e+00,  0.000000e+00,\n",
       "           0.000000e+00],\n",
       "         [ 0.000000e+00,  0.000000e+00,  0.000000e+00,  0.000000e+00,\n",
       "           0.000000e+00],\n",
       "         [ 0.000000e+00,  0.000000e+00,  0.000000e+00,  0.000000e+00,\n",
       "           0.000000e+00],\n",
       "         [ 0.000000e+00,  0.000000e+00,  0.000000e+00,  0.000000e+00,\n",
       "           0.000000e+00],\n",
       "         [ 0.000000e+00,  0.000000e+00,  0.000000e+00,  0.000000e+00,\n",
       "           0.000000e+00]])}}"
      ]
     },
     "execution_count": 160,
     "metadata": {},
     "output_type": "execute_result"
    }
   ],
   "source": [
    "data_lif1"
   ]
  },
  {
   "cell_type": "code",
   "execution_count": 161,
   "metadata": {},
   "outputs": [
    {
     "data": {
      "text/plain": [
       "{'lif2': {'v': array([[ 0.00000000e+00,  0.00000000e+00],\n",
       "         [ 7.99250586e-01,  2.97338668e+00],\n",
       "         [-1.43865106e+01, -5.35209603e+01],\n",
       "         [ 0.00000000e+00,  0.00000000e+00],\n",
       "         [-5.82516241e+02, -2.16724038e+03],\n",
       "         [ 0.00000000e+00,  0.00000000e+00],\n",
       "         [-4.71836780e+04, -1.75546112e+05],\n",
       "         [ 0.00000000e+00,  0.00000000e+00],\n",
       "         [-3.82187778e+06, -1.42192347e+07],\n",
       "         [ 0.00000000e+00,  0.00000000e+00],\n",
       "         [ 0.00000000e+00,  0.00000000e+00],\n",
       "         [ 0.00000000e+00,  0.00000000e+00],\n",
       "         [ 0.00000000e+00,  0.00000000e+00],\n",
       "         [ 0.00000000e+00,  0.00000000e+00],\n",
       "         [ 0.00000000e+00,  0.00000000e+00],\n",
       "         [ 0.00000000e+00,  0.00000000e+00],\n",
       "         [ 0.00000000e+00,  0.00000000e+00],\n",
       "         [ 0.00000000e+00,  0.00000000e+00],\n",
       "         [ 0.00000000e+00,  0.00000000e+00],\n",
       "         [ 0.00000000e+00,  0.00000000e+00],\n",
       "         [ 0.00000000e+00,  0.00000000e+00],\n",
       "         [ 0.00000000e+00,  0.00000000e+00],\n",
       "         [ 0.00000000e+00,  0.00000000e+00],\n",
       "         [ 0.00000000e+00,  0.00000000e+00],\n",
       "         [ 0.00000000e+00,  0.00000000e+00],\n",
       "         [ 0.00000000e+00,  0.00000000e+00],\n",
       "         [ 0.00000000e+00,  0.00000000e+00],\n",
       "         [ 0.00000000e+00,  0.00000000e+00],\n",
       "         [ 0.00000000e+00,  0.00000000e+00],\n",
       "         [ 0.00000000e+00,  0.00000000e+00],\n",
       "         [ 0.00000000e+00,  0.00000000e+00],\n",
       "         [ 0.00000000e+00,  0.00000000e+00],\n",
       "         [ 0.00000000e+00,  0.00000000e+00],\n",
       "         [ 0.00000000e+00,  0.00000000e+00],\n",
       "         [ 0.00000000e+00,  0.00000000e+00],\n",
       "         [ 0.00000000e+00,  0.00000000e+00],\n",
       "         [ 0.00000000e+00,  0.00000000e+00],\n",
       "         [ 0.00000000e+00,  0.00000000e+00],\n",
       "         [ 0.00000000e+00,  0.00000000e+00],\n",
       "         [ 0.00000000e+00,  0.00000000e+00],\n",
       "         [ 0.00000000e+00,  0.00000000e+00],\n",
       "         [ 0.00000000e+00,  0.00000000e+00],\n",
       "         [ 0.00000000e+00,  0.00000000e+00],\n",
       "         [ 0.00000000e+00,  0.00000000e+00],\n",
       "         [ 0.00000000e+00,  0.00000000e+00],\n",
       "         [ 0.00000000e+00,  0.00000000e+00],\n",
       "         [ 0.00000000e+00,  0.00000000e+00],\n",
       "         [ 0.00000000e+00,  0.00000000e+00],\n",
       "         [ 0.00000000e+00,  0.00000000e+00],\n",
       "         [ 0.00000000e+00,  0.00000000e+00],\n",
       "         [ 0.00000000e+00,  0.00000000e+00],\n",
       "         [ 0.00000000e+00,  0.00000000e+00],\n",
       "         [ 0.00000000e+00,  0.00000000e+00],\n",
       "         [ 0.00000000e+00,  0.00000000e+00],\n",
       "         [ 0.00000000e+00,  0.00000000e+00],\n",
       "         [ 0.00000000e+00,  0.00000000e+00],\n",
       "         [ 0.00000000e+00,  0.00000000e+00],\n",
       "         [ 0.00000000e+00,  0.00000000e+00],\n",
       "         [ 0.00000000e+00,  0.00000000e+00],\n",
       "         [ 0.00000000e+00,  0.00000000e+00],\n",
       "         [ 0.00000000e+00,  0.00000000e+00],\n",
       "         [ 0.00000000e+00,  0.00000000e+00],\n",
       "         [ 0.00000000e+00,  0.00000000e+00],\n",
       "         [ 0.00000000e+00,  0.00000000e+00],\n",
       "         [ 0.00000000e+00,  0.00000000e+00],\n",
       "         [ 0.00000000e+00,  0.00000000e+00],\n",
       "         [ 0.00000000e+00,  0.00000000e+00],\n",
       "         [ 0.00000000e+00,  0.00000000e+00],\n",
       "         [ 0.00000000e+00,  0.00000000e+00],\n",
       "         [ 0.00000000e+00,  0.00000000e+00],\n",
       "         [ 0.00000000e+00,  0.00000000e+00],\n",
       "         [ 0.00000000e+00,  0.00000000e+00],\n",
       "         [ 0.00000000e+00,  0.00000000e+00],\n",
       "         [ 0.00000000e+00,  0.00000000e+00],\n",
       "         [ 0.00000000e+00,  0.00000000e+00],\n",
       "         [ 0.00000000e+00,  0.00000000e+00],\n",
       "         [ 0.00000000e+00,  0.00000000e+00],\n",
       "         [ 0.00000000e+00,  0.00000000e+00],\n",
       "         [ 0.00000000e+00,  0.00000000e+00],\n",
       "         [ 0.00000000e+00,  0.00000000e+00],\n",
       "         [ 0.00000000e+00,  0.00000000e+00],\n",
       "         [ 0.00000000e+00,  0.00000000e+00],\n",
       "         [ 0.00000000e+00,  0.00000000e+00],\n",
       "         [ 0.00000000e+00,  0.00000000e+00],\n",
       "         [ 0.00000000e+00,  0.00000000e+00],\n",
       "         [ 0.00000000e+00,  0.00000000e+00],\n",
       "         [ 0.00000000e+00,  0.00000000e+00],\n",
       "         [ 0.00000000e+00,  0.00000000e+00],\n",
       "         [ 0.00000000e+00,  0.00000000e+00],\n",
       "         [ 0.00000000e+00,  0.00000000e+00],\n",
       "         [ 0.00000000e+00,  0.00000000e+00],\n",
       "         [ 0.00000000e+00,  0.00000000e+00],\n",
       "         [ 0.00000000e+00,  0.00000000e+00],\n",
       "         [ 0.00000000e+00,  0.00000000e+00],\n",
       "         [ 0.00000000e+00,  0.00000000e+00],\n",
       "         [ 0.00000000e+00,  0.00000000e+00],\n",
       "         [ 0.00000000e+00,  0.00000000e+00],\n",
       "         [ 0.00000000e+00,  0.00000000e+00],\n",
       "         [ 0.00000000e+00,  0.00000000e+00],\n",
       "         [ 0.00000000e+00,  0.00000000e+00]])}}"
      ]
     },
     "execution_count": 161,
     "metadata": {},
     "output_type": "execute_result"
    }
   ],
   "source": [
    "data_lif2"
   ]
  },
  {
   "cell_type": "markdown",
   "metadata": {},
   "source": [
    "### Plot the recorded data"
   ]
  },
  {
   "cell_type": "code",
   "execution_count": 162,
   "metadata": {},
   "outputs": [
    {
     "data": {
      "image/png": "[encoded data removed]",
      "text/plain": [
       "<Figure size 1600x500 with 2 Axes>"
      ]
     },
     "metadata": {},
     "output_type": "display_data"
    }
   ],
   "source": [
    "import matplotlib\n",
    "%matplotlib inline\n",
    "from matplotlib import pyplot as plt\n",
    "\n",
    "# Create a subplot for each monitored variable\n",
    "fig = plt.figure(figsize=(16, 5))\n",
    "ax0 = fig.add_subplot(121)\n",
    "ax1 = fig.add_subplot(122)\n",
    "\n",
    "# Plot the data\n",
    "monitor_lif1.plot(ax0, lif1.v)\n",
    "monitor_lif2.plot(ax1, lif2.v)"
   ]
  },
  {
   "cell_type": "markdown",
   "metadata": {},
   "source": [
    "## Stop the Runtime"
   ]
  },
  {
   "cell_type": "code",
   "execution_count": 163,
   "metadata": {},
   "outputs": [],
   "source": [
    "lif2.stop()"
   ]
  },
  {
   "cell_type": "markdown",
   "metadata": {},
   "source": []
  }
 ],
 "metadata": {
  "kernelspec": {
   "display_name": ".venv",
   "language": "python",
   "name": "python3"
  },
  "language_info": {
   "codemirror_mode": {
    "name": "ipython",
    "version": 3
   },
   "file_extension": ".py",
   "mimetype": "text/x-python",
   "name": "python",
   "nbconvert_exporter": "python",
   "pygments_lexer": "ipython3",
   "version": "3.10.12"
  }
 },
 "nbformat": 4,
 "nbformat_minor": 2
}
