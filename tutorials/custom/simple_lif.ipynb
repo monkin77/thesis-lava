{
 "cells": [
  {
   "cell_type": "markdown",
   "metadata": {},
   "source": [
    "# Practical Usage of Lava w/ custom input from the lab"
   ]
  },
  {
   "cell_type": "markdown",
   "metadata": {},
   "source": [
    "The input data from the lab used in this example consists of a sequence of timestamps where a specific neuron fired. The data is stored in a csv file, where each value is a timestamp (in milliseconds). \n",
    "\n",
    "Thus, the input layer only requires 1 connection at each timestep. We will assume the network contains 5 neurons for the sake of this example."
   ]
  },
  {
   "cell_type": "markdown",
   "metadata": {},
   "source": [
    "Let's start by defining the middle layer, the 2-layered feed-forward network of LIF neurons"
   ]
  },
  {
   "cell_type": "code",
   "execution_count": 7,
   "metadata": {},
   "outputs": [
    {
     "name": "stdout",
     "output_type": "stream",
     "text": [
      "\u001b[0;31mInit signature:\u001b[0m \u001b[0mLIF\u001b[0m\u001b[0;34m(\u001b[0m\u001b[0;34m*\u001b[0m\u001b[0margs\u001b[0m\u001b[0;34m,\u001b[0m \u001b[0;34m**\u001b[0m\u001b[0mkwargs\u001b[0m\u001b[0;34m)\u001b[0m\u001b[0;34m\u001b[0m\u001b[0;34m\u001b[0m\u001b[0m\n",
      "\u001b[0;31mDocstring:\u001b[0m     \n",
      "Leaky-Integrate-and-Fire (LIF) neural Process.\n",
      "\n",
      "LIF dynamics abstracts to:\n",
      "u[t] = u[t-1] * (1-du) + a_in         # neuron current\n",
      "v[t] = v[t-1] * (1-dv) + u[t] + bias  # neuron voltage\n",
      "s_out = v[t] > vth                    # spike if threshold is exceeded\n",
      "v[t] = 0                              # reset at spike\n",
      "\n",
      "Parameters\n",
      "----------\n",
      "shape : tuple(int)\n",
      "    Number and topology of LIF neurons.\n",
      "u : float, list, numpy.ndarray, optional\n",
      "    Initial value of the neurons' current.\n",
      "v : float, list, numpy.ndarray, optional\n",
      "    Initial value of the neurons' voltage (membrane potential).\n",
      "du : float, optional\n",
      "    Inverse of decay time-constant for current decay. Currently, only a\n",
      "    single decay can be set for the entire population of neurons.\n",
      "dv : float, optional\n",
      "    Inverse of decay time-constant for voltage decay. Currently, only a\n",
      "    single decay can be set for the entire population of neurons.\n",
      "bias_mant : float, list, numpy.ndarray, optional\n",
      "    Mantissa part of neuron bias.\n",
      "bias_exp : float, list, numpy.ndarray, optional\n",
      "    Exponent part of neuron bias, if needed. Mostly for fixed point\n",
      "    implementations. Ignored for floating point implementations.\n",
      "vth : float, optional\n",
      "    Neuron threshold voltage, exceeding which, the neuron will spike.\n",
      "    Currently, only a single threshold can be set for the entire\n",
      "    population of neurons.\n",
      "\n",
      "Example\n",
      "-------\n",
      ">>> lif = LIF(shape=(200, 15), du=10, dv=5)\n",
      "This will create 200x15 LIF neurons that all have the same current decay\n",
      "of 10 and voltage decay of 5.\n",
      "\u001b[0;31mInit docstring:\u001b[0m Initializes a new Process.\n",
      "\u001b[0;31mFile:\u001b[0m           ~/Desktop/feup/thesis/thesis-lava/src/lava/proc/lif/process.py\n",
      "\u001b[0;31mType:\u001b[0m           ProcessPostInitCaller\n",
      "\u001b[0;31mSubclasses:\u001b[0m     LIFReset, LIFRefractory"
     ]
    }
   ],
   "source": [
    "from lava.proc.lif.process import LIF\n",
    "from lava.proc.dense.process import Dense\n",
    "\n",
    "LIF?"
   ]
  },
  {
   "cell_type": "code",
   "execution_count": 8,
   "metadata": {},
   "outputs": [],
   "source": [
    "# Define the number of neurons in each LIF Layer\n",
    "n1 = 2   # Let's create a simple program with only 1 LIF layer"
   ]
  },
  {
   "cell_type": "code",
   "execution_count": 9,
   "metadata": {},
   "outputs": [],
   "source": [
    "import numpy as np\n",
    "\n",
    "# Create Processes\n",
    "lif1 = LIF(shape=(n1,),  # There are 5 neurons\n",
    "           vth=30,  # TODO: Verify these initial values\n",
    "           v=0,\n",
    "           dv=0.5,\n",
    "           du=0.5,\n",
    "           bias_mant=0,\n",
    "           name=\"lif1\")"
   ]
  },
  {
   "cell_type": "markdown",
   "metadata": {},
   "source": [
    "Let's take a look at the ports and connections of the middle layer:"
   ]
  },
  {
   "cell_type": "code",
   "execution_count": 10,
   "metadata": {},
   "outputs": [
    {
     "name": "stdout",
     "output_type": "stream",
     "text": [
      "Proc: lif1  Port Name: a_in  Size: 2\n",
      "Proc: lif1  Port Name: s_out Size: 2\n"
     ]
    }
   ],
   "source": [
    "for proc in [lif1]:\n",
    "    for port in proc.in_ports:\n",
    "        print(f\"Proc: {proc.name:<5} Port Name: {port.name:<5} Size: {port.size}\")\n",
    "    for port in proc.out_ports:\n",
    "        print(f\"Proc: {proc.name:<5} Port Name: {port.name:<5} Size: {port.size}\")"
   ]
  },
  {
   "cell_type": "markdown",
   "metadata": {},
   "source": [
    "After verifying the input and output Ports of the middle layer, we can connect the network to complete the LIF-Dense-LIF structure"
   ]
  },
  {
   "cell_type": "markdown",
   "metadata": {},
   "source": [
    "## Create the Custom Input Layer"
   ]
  },
  {
   "cell_type": "markdown",
   "metadata": {},
   "source": [
    "### Define function to read the input data from the csv file and generate the corresponding spike events"
   ]
  },
  {
   "cell_type": "code",
   "execution_count": 11,
   "metadata": {},
   "outputs": [],
   "source": [
    "import pandas as pd\n",
    "\n",
    "def read_spike_events(file_path: str):\n",
    "    \"\"\"Reads the spike events from the input file and returns them as a numpy array\n",
    "\n",
    "    Args:\n",
    "        file_path (str): name of the file containing the spike events\n",
    "    \"\"\"\n",
    "    spike_events = []\n",
    "\n",
    "    try:\n",
    "        # Read the spike events from the file\n",
    "        df = pd.read_csv(file_path, header=None)\n",
    "\n",
    "        # Detect errors\n",
    "        if df.empty:\n",
    "            raise Exception(\"The input file is empty\")\n",
    "\n",
    "        # Convert the scientific notation values to integers if any exist\n",
    "        df = df.applymap(lambda x: int(float(x)) if (isinstance(x, str) and 'e' in x) else x)\n",
    "\n",
    "        # Convert the dataframe to a numpy array\n",
    "        spike_events = df.to_numpy()\n",
    "        return spike_events[0]\n",
    "    except Exception as e:\n",
    "        print(\"Unable to read the input file: \", file_path, \" error:\", e)\n",
    "\n",
    "    return spike_events"
   ]
  },
  {
   "cell_type": "code",
   "execution_count": 12,
   "metadata": {},
   "outputs": [
    {
     "name": "stdout",
     "output_type": "stream",
     "text": [
      "Spike events:  (289,) [104000. 124000. 135000. 171000. 177000. 184000. 190000. 194000. 200000.\n",
      " 200000.]\n"
     ]
    }
   ],
   "source": [
    "# Call the function to read the spike events\n",
    "file_path = \"./canal60.csv\"\n",
    "spike_events = read_spike_events(file_path)\n",
    "print(\"Spike events: \", spike_events.shape, spike_events[:10])"
   ]
  },
  {
   "cell_type": "markdown",
   "metadata": {},
   "source": [
    "Define the SpikeEvent Generator Interface"
   ]
  },
  {
   "cell_type": "code",
   "execution_count": 13,
   "metadata": {},
   "outputs": [],
   "source": [
    "from lava.magma.core.process.process import AbstractProcess\n",
    "from lava.magma.core.process.variable import Var\n",
    "from lava.magma.core.process.ports.ports import OutPort\n",
    "\n",
    "class SpikeEventGen(AbstractProcess):\n",
    "    \"\"\"Input Process that generates spike events based on the input file\n",
    "\n",
    "    Args:\n",
    "        shape (tuple): Shape of the output port\n",
    "        file_name (str): Name of the file containing the spike events\n",
    "    \"\"\"\n",
    "    def __init__(self, shape: tuple, spike_events: np.ndarray, name: str) -> None:\n",
    "        super().__init__(name=name)\n",
    "        self.s_out = OutPort(shape=shape)\n",
    "        self.spike_events = Var(shape=spike_events.shape, init=spike_events)"
   ]
  },
  {
   "cell_type": "markdown",
   "metadata": {},
   "source": [
    "Implement the `SpikeEventGenerator` Model"
   ]
  },
  {
   "cell_type": "code",
   "execution_count": 14,
   "metadata": {},
   "outputs": [],
   "source": [
    "from lava.magma.core.model.py.model import PyLoihiProcessModel  # Processes running on CPU inherit from this class\n",
    "from lava.magma.core.resources import CPU\n",
    "from lava.magma.core.decorator import implements, requires\n",
    "from lava.magma.core.sync.protocols.loihi_protocol import LoihiProtocol\n",
    "from lava.magma.core.model.py.type import LavaPyType\n",
    "from lava.magma.core.model.py.ports import PyOutPort\n",
    "\n",
    "@implements(proc=SpikeEventGen, protocol=LoihiProtocol)\n",
    "@requires(CPU)\n",
    "class PySpikeEventGenModel(PyLoihiProcessModel):\n",
    "    \"\"\"Spike Event Generator Process implementation running on CPU (Python)\n",
    "    Args:\n",
    "    \"\"\"\n",
    "    s_out: PyOutPort = LavaPyType(PyOutPort.VEC_DENSE, float)   # IT IS POSSIBLE TO SEND FLOATS AFTER ALL\n",
    "    spike_events: np.ndarray = LavaPyType(np.ndarray, np.ndarray)   # TODO: Check if we should keep it as a numpy array, or transform it to a list\n",
    "\n",
    "    def __init__(self, proc_params) -> None:\n",
    "        super().__init__(proc_params=proc_params)\n",
    "        # print(\"spike events\", self.spike_events.__str__())    # TODO: Check why during initialization the variable prints the class, while during run it prints the value\n",
    "        self.curr_spike_idx = 0     # Index of the next spiking event to send\n",
    "        self.virtual_time_step_interval = 10000    # Arbitrary time between time steps (in microseconds). This is not a real time interval\n",
    "        self.init_offset = 100000                  # Arbitrary offset to start the simulation (in microseconds)\n",
    "\n",
    "    def run_spk(self) -> None:\n",
    "        spike_data = np.zeros(self.s_out.shape) # Initialize the spike data to 0\n",
    "        \n",
    "        # Use random spikes to test it\n",
    "        # spike_data[0] = np.random.random()  # Only 1 neuron is sending data (spikes)\n",
    "        # self.curr_spike_idx += 1\n",
    "\n",
    "        # Use the spike events from the file\n",
    "        # print(\"spike events: \", self.spike_events[:5])\n",
    "        # TODO: For now we are using the time_step as the time measurement that will simulate real-time activity. It would be better to have access to the running time\n",
    "        \n",
    "        #print(\"time step:\", self.time_step)\n",
    "        # If the current simulation time is greater than the next spike event, send a spike\n",
    "        currTime = self.init_offset + self.time_step*self.virtual_time_step_interval\n",
    "        if currTime >= self.spike_events[self.curr_spike_idx]:\n",
    "            spike_data[0] = 1   # Send a spike\n",
    "            print(f\"sending spike event at time: {currTime}({self.time_step}) spike idx: {self.curr_spike_idx} spike time: {self.spike_events[self.curr_spike_idx]}\")\n",
    "            self.curr_spike_idx += 1\n",
    "\n",
    "        # Send spikes\n",
    "        # print(\"sending spike_data: \", spike_data, \" at step: \", self.time_step)\n",
    "        self.s_out.send(spike_data)\n",
    "\n",
    "        # Stop the Process if there are no more spike events to send. (It will stop all the connected processes)\n",
    "        # TODO: Should it be another process that stops the simulation? Such as the last LIF process\n",
    "        # if self.curr_spike_idx >= 5: # len(self.spike_events):\n",
    "        #    self.pause()\n"
   ]
  },
  {
   "cell_type": "markdown",
   "metadata": {},
   "source": [
    "## Connect the Custom Input Layer to the middle layer"
   ]
  },
  {
   "cell_type": "markdown",
   "metadata": {},
   "source": [
    "To define the connectivity between the `SpikeGenerator` and the first `LIF` population, we use another `Dense` Layer."
   ]
  },
  {
   "cell_type": "code",
   "execution_count": 15,
   "metadata": {},
   "outputs": [],
   "source": [
    "# Create the Input Process\n",
    "spike_event_gen = SpikeEventGen(shape=(n1,), spike_events=spike_events, name=\"CustomInput\")\n",
    "\n",
    "# Instantiante a Dense Layer to connect the SpikeEventGen to the middle layer\n",
    "dense_input = Dense(weights=np.eye(n1), name=\"DenseInput\")     # 1-1 connectivity with the Middle Layer (should be a 2x2 matrix right now)\n",
    "\n",
    "# Connect the SpikeEventGen to the Dense Layer\n",
    "spike_event_gen.s_out.connect(dense_input.s_in)\n",
    "\n",
    "# Connect the Dense_Input to the LIF1 Layer\n",
    "dense_input.a_out.connect(lif1.a_in)"
   ]
  },
  {
   "cell_type": "markdown",
   "metadata": {},
   "source": [
    "### Take a look at the connections in the Input Layer"
   ]
  },
  {
   "cell_type": "code",
   "execution_count": 16,
   "metadata": {},
   "outputs": [
    {
     "name": "stdout",
     "output_type": "stream",
     "text": [
      "Proc: CustomInput Port Name: s_out Size: 2\n",
      "Proc: DenseInput Port Name: s_in  Size: 2\n",
      "Proc: DenseInput Port Name: a_out Size: 2\n",
      "Proc: lif1  Port Name: a_in  Size: 2\n",
      "Proc: lif1  Port Name: s_out Size: 2\n"
     ]
    }
   ],
   "source": [
    "for proc in [spike_event_gen, dense_input, lif1]:\n",
    "    for port in proc.in_ports:\n",
    "        print(f\"Proc: {proc.name:<5} Port Name: {port.name:<5} Size: {port.size}\")\n",
    "    for port in proc.out_ports:\n",
    "        print(f\"Proc: {proc.name:<5} Port Name: {port.name:<5} Size: {port.size}\")"
   ]
  },
  {
   "cell_type": "markdown",
   "metadata": {},
   "source": [
    "Weights of the Input Dense Layer"
   ]
  },
  {
   "cell_type": "code",
   "execution_count": 17,
   "metadata": {},
   "outputs": [
    {
     "data": {
      "text/plain": [
       "array([[1., 0.],\n",
       "       [0., 1.]])"
      ]
     },
     "execution_count": 17,
     "metadata": {},
     "output_type": "execute_result"
    }
   ],
   "source": [
    "dense_input.weights.get()"
   ]
  },
  {
   "cell_type": "markdown",
   "metadata": {},
   "source": [
    "### Record Internal Vars over time\n",
    "To record the evolution of the internal variables over time, we need a `Monitor`. For this example, we want to record the membrane potential of the `LIF` Layer, hence we need 1 `Monitors`.\n",
    "\n",
    "We can define the `Var` that a `Monitor` should record, as well as the recording duration, using the `probe` function"
   ]
  },
  {
   "cell_type": "code",
   "execution_count": 18,
   "metadata": {},
   "outputs": [],
   "source": [
    "from lava.proc.monitor.process import Monitor\n",
    "\n",
    "monitor_lif1 = Monitor()\n",
    "\n",
    "num_steps = 300     # TODO: Check the number of steps to run the simulation for\n",
    "\n",
    "# Connect the monitors to the variables we want to monitor\n",
    "monitor_lif1.probe(lif1.v, num_steps)"
   ]
  },
  {
   "cell_type": "markdown",
   "metadata": {},
   "source": [
    "## Execution\n",
    "Now that we have defined the network, we can execute it. We will use the `run` function to execute the network."
   ]
  },
  {
   "cell_type": "markdown",
   "metadata": {},
   "source": [
    "### Run Configuration and Conditions"
   ]
  },
  {
   "cell_type": "code",
   "execution_count": 19,
   "metadata": {},
   "outputs": [],
   "source": [
    "from lava.magma.core.run_conditions import RunContinuous, RunSteps\n",
    "from lava.magma.core.run_configs import Loihi1SimCfg\n",
    "\n",
    "# run_condition = RunContinuous()   # TODO: Change to this one\n",
    "run_condition = RunSteps(num_steps=num_steps)\n",
    "run_cfg = Loihi1SimCfg(select_tag=\"floating_pt\")   # TODO: Check why we need this select_tag=\"floating_pt\""
   ]
  },
  {
   "cell_type": "markdown",
   "metadata": {},
   "source": [
    "### Execute"
   ]
  },
  {
   "cell_type": "code",
   "execution_count": 20,
   "metadata": {},
   "outputs": [
    {
     "name": "stdout",
     "output_type": "stream",
     "text": [
      "sending spike event at time: 110000(1) spike idx: 0 spike time: 104000.0\n",
      "sending spike event at time: 130000(3) spike idx: 1 spike time: 124000.0\n",
      "sending spike event at time: 140000(4) spike idx: 2 spike time: 135000.0\n",
      "sending spike event at time: 180000(8) spike idx: 3 spike time: 171000.0\n",
      "sending spike event at time: 190000(9) spike idx: 4 spike time: 177000.0\n",
      "sending spike event at time: 200000(10) spike idx: 5 spike time: 184000.0\n",
      "sending spike event at time: 210000(11) spike idx: 6 spike time: 190000.0\n",
      "sending spike event at time: 220000(12) spike idx: 7 spike time: 194000.0\n",
      "sending spike event at time: 230000(13) spike idx: 8 spike time: 200000.0\n",
      "sending spike event at time: 240000(14) spike idx: 9 spike time: 200000.0\n",
      "sending spike event at time: 250000(15) spike idx: 10 spike time: 207000.0\n",
      "sending spike event at time: 260000(16) spike idx: 11 spike time: 208000.0\n",
      "sending spike event at time: 270000(17) spike idx: 12 spike time: 213000.0\n",
      "sending spike event at time: 280000(18) spike idx: 13 spike time: 218000.0\n",
      "sending spike event at time: 290000(19) spike idx: 14 spike time: 220000.0\n",
      "sending spike event at time: 300000(20) spike idx: 15 spike time: 220000.0\n",
      "sending spike event at time: 310000(21) spike idx: 16 spike time: 223000.0\n",
      "sending spike event at time: 320000(22) spike idx: 17 spike time: 226000.0\n",
      "sending spike event at time: 330000(23) spike idx: 18 spike time: 230000.0\n",
      "sending spike event at time: 340000(24) spike idx: 19 spike time: 237000.0\n",
      "sending spike event at time: 350000(25) spike idx: 20 spike time: 327000.0\n",
      "sending spike event at time: 360000(26) spike idx: 21 spike time: 333000.0\n",
      "sending spike event at time: 370000(27) spike idx: 22 spike time: 333000.0\n",
      "sending spike event at time: 380000(28) spike idx: 23 spike time: 347000.0\n",
      "sending spike event at time: 390000(29) spike idx: 24 spike time: 351000.0\n",
      "sending spike event at time: 400000(30) spike idx: 25 spike time: 353000.0\n",
      "sending spike event at time: 410000(31) spike idx: 26 spike time: 357000.0\n",
      "sending spike event at time: 420000(32) spike idx: 27 spike time: 361000.0\n",
      "sending spike event at time: 430000(33) spike idx: 28 spike time: 361000.0\n",
      "sending spike event at time: 440000(34) spike idx: 29 spike time: 361000.0\n",
      "sending spike event at time: 450000(35) spike idx: 30 spike time: 362000.0\n",
      "sending spike event at time: 460000(36) spike idx: 31 spike time: 363000.0\n",
      "sending spike event at time: 510000(41) spike idx: 32 spike time: 509000.0\n",
      "sending spike event at time: 520000(42) spike idx: 33 spike time: 509000.0\n",
      "sending spike event at time: 530000(43) spike idx: 34 spike time: 510000.0\n",
      "sending spike event at time: 540000(44) spike idx: 35 spike time: 514000.0\n",
      "sending spike event at time: 550000(45) spike idx: 36 spike time: 517000.0\n",
      "sending spike event at time: 560000(46) spike idx: 37 spike time: 543000.0\n",
      "sending spike event at time: 570000(47) spike idx: 38 spike time: 543000.0\n",
      "sending spike event at time: 580000(48) spike idx: 39 spike time: 559000.0\n",
      "sending spike event at time: 590000(49) spike idx: 40 spike time: 581000.0\n",
      "sending spike event at time: 680000(58) spike idx: 41 spike time: 672000.0\n",
      "sending spike event at time: 690000(59) spike idx: 42 spike time: 673000.0\n",
      "sending spike event at time: 700000(60) spike idx: 43 spike time: 677000.0\n",
      "sending spike event at time: 710000(61) spike idx: 44 spike time: 683000.0\n",
      "sending spike event at time: 720000(62) spike idx: 45 spike time: 699000.0\n",
      "sending spike event at time: 730000(63) spike idx: 46 spike time: 699000.0\n",
      "sending spike event at time: 740000(64) spike idx: 47 spike time: 701000.0\n",
      "sending spike event at time: 750000(65) spike idx: 48 spike time: 707000.0\n",
      "sending spike event at time: 760000(66) spike idx: 49 spike time: 707000.0\n",
      "sending spike event at time: 770000(67) spike idx: 50 spike time: 707000.0\n",
      "sending spike event at time: 780000(68) spike idx: 51 spike time: 707000.0\n",
      "sending spike event at time: 790000(69) spike idx: 52 spike time: 712000.0\n",
      "sending spike event at time: 800000(70) spike idx: 53 spike time: 717000.0\n",
      "sending spike event at time: 810000(71) spike idx: 54 spike time: 725000.0\n",
      "sending spike event at time: 850000(75) spike idx: 55 spike time: 846000.0\n",
      "sending spike event at time: 860000(76) spike idx: 56 spike time: 846000.0\n",
      "sending spike event at time: 870000(77) spike idx: 57 spike time: 856000.0\n",
      "sending spike event at time: 880000(78) spike idx: 58 spike time: 856000.0\n",
      "sending spike event at time: 890000(79) spike idx: 59 spike time: 869000.0\n",
      "sending spike event at time: 980000(88) spike idx: 60 spike time: 972000.0\n",
      "sending spike event at time: 990000(89) spike idx: 61 spike time: 975000.0\n",
      "sending spike event at time: 1000000(90) spike idx: 62 spike time: 981000.0\n",
      "sending spike event at time: 1010000(91) spike idx: 63 spike time: 984000.0\n",
      "sending spike event at time: 1020000(92) spike idx: 64 spike time: 991000.0\n",
      "sending spike event at time: 1030000(93) spike idx: 65 spike time: 998000.0\n",
      "sending spike event at time: 1040000(94) spike idx: 66 spike time: 998000.0\n",
      "sending spike event at time: 1050000(95) spike idx: 67 spike time: 1000000.0\n",
      "sending spike event at time: 1100000(100) spike idx: 68 spike time: 1100000.0\n",
      "sending spike event at time: 1110000(101) spike idx: 69 spike time: 1100000.0\n",
      "sending spike event at time: 1120000(102) spike idx: 70 spike time: 1100000.0\n",
      "sending spike event at time: 1130000(103) spike idx: 71 spike time: 1100000.0\n",
      "sending spike event at time: 1140000(104) spike idx: 72 spike time: 1110000.0\n",
      "sending spike event at time: 1150000(105) spike idx: 73 spike time: 1110000.0\n",
      "sending spike event at time: 1160000(106) spike idx: 74 spike time: 1110000.0\n",
      "sending spike event at time: 1170000(107) spike idx: 75 spike time: 1110000.0\n",
      "sending spike event at time: 1180000(108) spike idx: 76 spike time: 1120000.0\n",
      "sending spike event at time: 1190000(109) spike idx: 77 spike time: 1120000.0\n",
      "sending spike event at time: 1200000(110) spike idx: 78 spike time: 1130000.0\n",
      "sending spike event at time: 1210000(111) spike idx: 79 spike time: 1130000.0\n",
      "sending spike event at time: 1220000(112) spike idx: 80 spike time: 1140000.0\n",
      "sending spike event at time: 1230000(113) spike idx: 81 spike time: 1180000.0\n",
      "sending spike event at time: 1240000(114) spike idx: 82 spike time: 1240000.0\n",
      "sending spike event at time: 1250000(115) spike idx: 83 spike time: 1240000.0\n",
      "sending spike event at time: 1260000(116) spike idx: 84 spike time: 1250000.0\n",
      "sending spike event at time: 1270000(117) spike idx: 85 spike time: 1250000.0\n",
      "sending spike event at time: 1280000(118) spike idx: 86 spike time: 1260000.0\n",
      "sending spike event at time: 1290000(119) spike idx: 87 spike time: 1280000.0\n",
      "sending spike event at time: 1300000(120) spike idx: 88 spike time: 1280000.0\n",
      "sending spike event at time: 1310000(121) spike idx: 89 spike time: 1280000.0\n",
      "sending spike event at time: 1320000(122) spike idx: 90 spike time: 1290000.0\n",
      "sending spike event at time: 1330000(123) spike idx: 91 spike time: 1300000.0\n",
      "sending spike event at time: 1420000(132) spike idx: 92 spike time: 1420000.0\n",
      "sending spike event at time: 1430000(133) spike idx: 93 spike time: 1420000.0\n",
      "sending spike event at time: 1440000(134) spike idx: 94 spike time: 1420000.0\n",
      "sending spike event at time: 1450000(135) spike idx: 95 spike time: 1420000.0\n",
      "sending spike event at time: 1460000(136) spike idx: 96 spike time: 1420000.0\n",
      "sending spike event at time: 1470000(137) spike idx: 97 spike time: 1430000.0\n",
      "sending spike event at time: 1480000(138) spike idx: 98 spike time: 1430000.0\n",
      "sending spike event at time: 1490000(139) spike idx: 99 spike time: 1440000.0\n",
      "sending spike event at time: 1500000(140) spike idx: 100 spike time: 1440000.0\n",
      "sending spike event at time: 1510000(141) spike idx: 101 spike time: 1440000.0\n",
      "sending spike event at time: 1520000(142) spike idx: 102 spike time: 1440000.0\n",
      "sending spike event at time: 1560000(146) spike idx: 103 spike time: 1560000.0\n",
      "sending spike event at time: 1570000(147) spike idx: 104 spike time: 1560000.0\n",
      "sending spike event at time: 1580000(148) spike idx: 105 spike time: 1570000.0\n",
      "sending spike event at time: 1590000(149) spike idx: 106 spike time: 1580000.0\n",
      "sending spike event at time: 1600000(150) spike idx: 107 spike time: 1580000.0\n",
      "sending spike event at time: 1610000(151) spike idx: 108 spike time: 1580000.0\n",
      "sending spike event at time: 1620000(152) spike idx: 109 spike time: 1590000.0\n",
      "sending spike event at time: 1630000(153) spike idx: 110 spike time: 1590000.0\n",
      "sending spike event at time: 1640000(154) spike idx: 111 spike time: 1590000.0\n",
      "sending spike event at time: 1650000(155) spike idx: 112 spike time: 1600000.0\n",
      "sending spike event at time: 1660000(156) spike idx: 113 spike time: 1600000.0\n",
      "sending spike event at time: 1670000(157) spike idx: 114 spike time: 1600000.0\n",
      "sending spike event at time: 1680000(158) spike idx: 115 spike time: 1600000.0\n",
      "sending spike event at time: 1690000(159) spike idx: 116 spike time: 1610000.0\n",
      "sending spike event at time: 1700000(160) spike idx: 117 spike time: 1610000.0\n",
      "sending spike event at time: 1710000(161) spike idx: 118 spike time: 1630000.0\n",
      "sending spike event at time: 1720000(162) spike idx: 119 spike time: 1710000.0\n",
      "sending spike event at time: 1750000(165) spike idx: 120 spike time: 1750000.0\n",
      "sending spike event at time: 1760000(166) spike idx: 121 spike time: 1760000.0\n",
      "sending spike event at time: 1770000(167) spike idx: 122 spike time: 1760000.0\n",
      "sending spike event at time: 1780000(168) spike idx: 123 spike time: 1760000.0\n",
      "sending spike event at time: 1790000(169) spike idx: 124 spike time: 1760000.0\n",
      "sending spike event at time: 1800000(170) spike idx: 125 spike time: 1770000.0\n",
      "sending spike event at time: 1810000(171) spike idx: 126 spike time: 1770000.0\n",
      "sending spike event at time: 1820000(172) spike idx: 127 spike time: 1770000.0\n",
      "sending spike event at time: 1830000(173) spike idx: 128 spike time: 1770000.0\n",
      "sending spike event at time: 1840000(174) spike idx: 129 spike time: 1780000.0\n",
      "sending spike event at time: 1850000(175) spike idx: 130 spike time: 1780000.0\n",
      "sending spike event at time: 1860000(176) spike idx: 131 spike time: 1790000.0\n",
      "sending spike event at time: 1870000(177) spike idx: 132 spike time: 1790000.0\n",
      "sending spike event at time: 1880000(178) spike idx: 133 spike time: 1810000.0\n",
      "sending spike event at time: 1890000(179) spike idx: 134 spike time: 1820000.0\n",
      "sending spike event at time: 1910000(181) spike idx: 135 spike time: 1910000.0\n",
      "sending spike event at time: 1920000(182) spike idx: 136 spike time: 1910000.0\n",
      "sending spike event at time: 1930000(183) spike idx: 137 spike time: 1910000.0\n",
      "sending spike event at time: 1940000(184) spike idx: 138 spike time: 1920000.0\n",
      "sending spike event at time: 1950000(185) spike idx: 139 spike time: 1930000.0\n",
      "sending spike event at time: 1960000(186) spike idx: 140 spike time: 1940000.0\n",
      "sending spike event at time: 1970000(187) spike idx: 141 spike time: 1940000.0\n",
      "sending spike event at time: 1980000(188) spike idx: 142 spike time: 1940000.0\n",
      "sending spike event at time: 1990000(189) spike idx: 143 spike time: 1950000.0\n",
      "sending spike event at time: 2000000(190) spike idx: 144 spike time: 1950000.0\n",
      "sending spike event at time: 2010000(191) spike idx: 145 spike time: 1950000.0\n",
      "sending spike event at time: 2020000(192) spike idx: 146 spike time: 1950000.0\n",
      "sending spike event at time: 2030000(193) spike idx: 147 spike time: 1960000.0\n",
      "sending spike event at time: 2070000(197) spike idx: 148 spike time: 2070000.0\n",
      "sending spike event at time: 2080000(198) spike idx: 149 spike time: 2070000.0\n",
      "sending spike event at time: 2090000(199) spike idx: 150 spike time: 2070000.0\n",
      "sending spike event at time: 2100000(200) spike idx: 151 spike time: 2080000.0\n",
      "sending spike event at time: 2110000(201) spike idx: 152 spike time: 2080000.0\n",
      "sending spike event at time: 2120000(202) spike idx: 153 spike time: 2080000.0\n",
      "sending spike event at time: 2130000(203) spike idx: 154 spike time: 2080000.0\n",
      "sending spike event at time: 2140000(204) spike idx: 155 spike time: 2090000.0\n",
      "sending spike event at time: 2150000(205) spike idx: 156 spike time: 2090000.0\n",
      "sending spike event at time: 2160000(206) spike idx: 157 spike time: 2090000.0\n",
      "sending spike event at time: 2170000(207) spike idx: 158 spike time: 2100000.0\n",
      "sending spike event at time: 2180000(208) spike idx: 159 spike time: 2100000.0\n",
      "sending spike event at time: 2190000(209) spike idx: 160 spike time: 2100000.0\n",
      "sending spike event at time: 2200000(210) spike idx: 161 spike time: 2100000.0\n",
      "sending spike event at time: 2210000(211) spike idx: 162 spike time: 2100000.0\n",
      "sending spike event at time: 2220000(212) spike idx: 163 spike time: 2100000.0\n",
      "sending spike event at time: 2230000(213) spike idx: 164 spike time: 2110000.0\n",
      "sending spike event at time: 2240000(214) spike idx: 165 spike time: 2110000.0\n",
      "sending spike event at time: 2250000(215) spike idx: 166 spike time: 2110000.0\n",
      "sending spike event at time: 2260000(216) spike idx: 167 spike time: 2110000.0\n",
      "sending spike event at time: 2270000(217) spike idx: 168 spike time: 2210000.0\n",
      "sending spike event at time: 2280000(218) spike idx: 169 spike time: 2220000.0\n",
      "sending spike event at time: 2290000(219) spike idx: 170 spike time: 2220000.0\n",
      "sending spike event at time: 2300000(220) spike idx: 171 spike time: 2230000.0\n",
      "sending spike event at time: 2310000(221) spike idx: 172 spike time: 2230000.0\n",
      "sending spike event at time: 2320000(222) spike idx: 173 spike time: 2230000.0\n",
      "sending spike event at time: 2330000(223) spike idx: 174 spike time: 2240000.0\n",
      "sending spike event at time: 2340000(224) spike idx: 175 spike time: 2240000.0\n",
      "sending spike event at time: 2350000(225) spike idx: 176 spike time: 2260000.0\n",
      "sending spike event at time: 2360000(226) spike idx: 177 spike time: 2260000.0\n",
      "sending spike event at time: 2370000(227) spike idx: 178 spike time: 2260000.0\n",
      "sending spike event at time: 2380000(228) spike idx: 179 spike time: 2260000.0\n",
      "sending spike event at time: 2390000(229) spike idx: 180 spike time: 2270000.0\n",
      "sending spike event at time: 2400000(230) spike idx: 181 spike time: 2270000.0\n",
      "sending spike event at time: 2410000(231) spike idx: 182 spike time: 2380000.0\n",
      "sending spike event at time: 2420000(232) spike idx: 183 spike time: 2390000.0\n",
      "sending spike event at time: 2430000(233) spike idx: 184 spike time: 2390000.0\n",
      "sending spike event at time: 2440000(234) spike idx: 185 spike time: 2400000.0\n",
      "sending spike event at time: 2450000(235) spike idx: 186 spike time: 2410000.0\n",
      "sending spike event at time: 2460000(236) spike idx: 187 spike time: 2410000.0\n",
      "sending spike event at time: 2470000(237) spike idx: 188 spike time: 2420000.0\n",
      "sending spike event at time: 2480000(238) spike idx: 189 spike time: 2420000.0\n",
      "sending spike event at time: 2490000(239) spike idx: 190 spike time: 2420000.0\n",
      "sending spike event at time: 2500000(240) spike idx: 191 spike time: 2420000.0\n",
      "sending spike event at time: 2510000(241) spike idx: 192 spike time: 2420000.0\n",
      "sending spike event at time: 2550000(245) spike idx: 193 spike time: 2550000.0\n",
      "sending spike event at time: 2560000(246) spike idx: 194 spike time: 2550000.0\n",
      "sending spike event at time: 2570000(247) spike idx: 195 spike time: 2560000.0\n",
      "sending spike event at time: 2580000(248) spike idx: 196 spike time: 2570000.0\n",
      "sending spike event at time: 2590000(249) spike idx: 197 spike time: 2570000.0\n",
      "sending spike event at time: 2600000(250) spike idx: 198 spike time: 2570000.0\n",
      "sending spike event at time: 2610000(251) spike idx: 199 spike time: 2580000.0\n",
      "sending spike event at time: 2620000(252) spike idx: 200 spike time: 2590000.0\n",
      "sending spike event at time: 2630000(253) spike idx: 201 spike time: 2590000.0\n",
      "sending spike event at time: 2640000(254) spike idx: 202 spike time: 2590000.0\n",
      "sending spike event at time: 2650000(255) spike idx: 203 spike time: 2600000.0\n",
      "sending spike event at time: 2690000(259) spike idx: 204 spike time: 2690000.0\n",
      "sending spike event at time: 2710000(261) spike idx: 205 spike time: 2710000.0\n",
      "sending spike event at time: 2720000(262) spike idx: 206 spike time: 2710000.0\n",
      "sending spike event at time: 2730000(263) spike idx: 207 spike time: 2710000.0\n",
      "sending spike event at time: 2740000(264) spike idx: 208 spike time: 2720000.0\n",
      "sending spike event at time: 2750000(265) spike idx: 209 spike time: 2720000.0\n",
      "sending spike event at time: 2760000(266) spike idx: 210 spike time: 2720000.0\n",
      "sending spike event at time: 2770000(267) spike idx: 211 spike time: 2720000.0\n",
      "sending spike event at time: 2780000(268) spike idx: 212 spike time: 2730000.0\n",
      "sending spike event at time: 2790000(269) spike idx: 213 spike time: 2730000.0\n",
      "sending spike event at time: 2800000(270) spike idx: 214 spike time: 2730000.0\n",
      "sending spike event at time: 2810000(271) spike idx: 215 spike time: 2740000.0\n",
      "sending spike event at time: 2820000(272) spike idx: 216 spike time: 2770000.0\n",
      "sending spike event at time: 2830000(273) spike idx: 217 spike time: 2830000.0\n",
      "sending spike event at time: 2840000(274) spike idx: 218 spike time: 2830000.0\n",
      "sending spike event at time: 2850000(275) spike idx: 219 spike time: 2840000.0\n",
      "sending spike event at time: 2860000(276) spike idx: 220 spike time: 2850000.0\n",
      "sending spike event at time: 2870000(277) spike idx: 221 spike time: 2850000.0\n",
      "sending spike event at time: 2880000(278) spike idx: 222 spike time: 2850000.0\n",
      "sending spike event at time: 2890000(279) spike idx: 223 spike time: 2860000.0\n",
      "sending spike event at time: 2900000(280) spike idx: 224 spike time: 2860000.0\n",
      "sending spike event at time: 2910000(281) spike idx: 225 spike time: 2860000.0\n",
      "sending spike event at time: 2920000(282) spike idx: 226 spike time: 2870000.0\n",
      "sending spike event at time: 2930000(283) spike idx: 227 spike time: 2880000.0\n",
      "sending spike event at time: 2940000(284) spike idx: 228 spike time: 2880000.0\n",
      "sending spike event at time: 2970000(287) spike idx: 229 spike time: 2970000.0\n",
      "sending spike event at time: 2980000(288) spike idx: 230 spike time: 2970000.0\n",
      "sending spike event at time: 2990000(289) spike idx: 231 spike time: 2970000.0\n",
      "sending spike event at time: 3000000(290) spike idx: 232 spike time: 2970000.0\n",
      "sending spike event at time: 3010000(291) spike idx: 233 spike time: 2980000.0\n",
      "sending spike event at time: 3020000(292) spike idx: 234 spike time: 2990000.0\n",
      "sending spike event at time: 3030000(293) spike idx: 235 spike time: 2990000.0\n",
      "sending spike event at time: 3040000(294) spike idx: 236 spike time: 2990000.0\n",
      "sending spike event at time: 3050000(295) spike idx: 237 spike time: 2990000.0\n",
      "sending spike event at time: 3060000(296) spike idx: 238 spike time: 2990000.0\n",
      "sending spike event at time: 3070000(297) spike idx: 239 spike time: 3000000.0\n",
      "sending spike event at time: 3080000(298) spike idx: 240 spike time: 3000000.0\n",
      "sending spike event at time: 3090000(299) spike idx: 241 spike time: 3000000.0\n",
      "sending spike event at time: 3100000(300) spike idx: 242 spike time: 3000000.0\n"
     ]
    }
   ],
   "source": [
    "lif1.run(condition=run_condition, run_cfg=run_cfg)"
   ]
  },
  {
   "cell_type": "markdown",
   "metadata": {},
   "source": [
    "### Retrieve recorded data"
   ]
  },
  {
   "cell_type": "code",
   "execution_count": 21,
   "metadata": {},
   "outputs": [],
   "source": [
    "data_lif1 = monitor_lif1.get_data()"
   ]
  },
  {
   "cell_type": "code",
   "execution_count": 22,
   "metadata": {},
   "outputs": [
    {
     "data": {
      "text/plain": [
       "{'lif1': {'v': array([[0.        , 0.        ],\n",
       "         [1.        , 0.        ],\n",
       "         [1.        , 0.        ],\n",
       "         [1.75      , 0.        ],\n",
       "         [2.5       , 0.        ],\n",
       "         [2.0625    , 0.        ],\n",
       "         [1.4375    , 0.        ],\n",
       "         [0.921875  , 0.        ],\n",
       "         [1.5625    , 0.        ],\n",
       "         [2.33203125, 0.        ],\n",
       "         [2.94140625, 0.        ],\n",
       "         [3.35839844, 0.        ],\n",
       "         [3.62304688, 0.        ],\n",
       "         [3.78344727, 0.        ],\n",
       "         [3.87768555, 0.        ],\n",
       "         [3.93182373, 0.        ],\n",
       "         [3.96240234, 0.        ],\n",
       "         [3.97944641, 0.        ],\n",
       "         [3.98884583, 0.        ],\n",
       "         [3.99398422, 0.        ],\n",
       "         [3.99677277, 0.        ],\n",
       "         [3.99827671, 0.        ],\n",
       "         [3.99908352, 0.        ],\n",
       "         [3.99951434, 0.        ],\n",
       "         [3.99974346, 0.        ],\n",
       "         [3.99986488, 0.        ],\n",
       "         [3.99992901, 0.        ],\n",
       "         [3.99996279, 0.        ],\n",
       "         [3.99998054, 0.        ],\n",
       "         [3.99998984, 0.        ],\n",
       "         [3.99999471, 0.        ],\n",
       "         [3.99999725, 0.        ],\n",
       "         [3.99999857, 0.        ],\n",
       "         [3.99999926, 0.        ],\n",
       "         [3.99999962, 0.        ],\n",
       "         [3.9999998 , 0.        ],\n",
       "         [3.9999999 , 0.        ],\n",
       "         [2.99999995, 0.        ],\n",
       "         [1.99999997, 0.        ],\n",
       "         [1.24999999, 0.        ],\n",
       "         [0.74999999, 0.        ],\n",
       "         [1.4375    , 0.        ],\n",
       "         [2.25      , 0.        ],\n",
       "         [2.890625  , 0.        ],\n",
       "         [3.328125  , 0.        ],\n",
       "         [3.60546875, 0.        ],\n",
       "         [3.7734375 , 0.        ],\n",
       "         [3.87207031, 0.        ],\n",
       "         [3.92871094, 0.        ],\n",
       "         [3.96069336, 0.        ],\n",
       "         [2.97851562, 0.        ],\n",
       "         [1.98834229, 0.        ],\n",
       "         [1.24371338, 0.        ],\n",
       "         [0.74662781, 0.        ],\n",
       "         [0.43569946, 0.        ],\n",
       "         [0.24904251, 0.        ],\n",
       "         [0.14011765, 0.        ],\n",
       "         [0.07785702, 0.        ],\n",
       "         [1.04282761, 0.        ],\n",
       "         [2.02336335, 0.        ],\n",
       "         [2.76265645, 0.        ],\n",
       "         [3.25681561, 0.        ],\n",
       "         [3.5661515 , 0.        ],\n",
       "         [3.7519476 , 0.        ],\n",
       "         [3.86040972, 0.        ],\n",
       "         [3.92242282, 0.        ],\n",
       "         [3.95732039, 0.        ],\n",
       "         [3.97671469, 0.        ],\n",
       "         [3.98738459, 0.        ],\n",
       "         [3.99320592, 0.        ],\n",
       "         [3.99635977, 0.        ],\n",
       "         [3.99805829, 0.        ],\n",
       "         [2.99896835, 0.        ],\n",
       "         [1.99945378, 0.        ],\n",
       "         [1.24971169, 0.        ],\n",
       "         [1.74984824, 0.        ],\n",
       "         [2.43742032, 0.        ],\n",
       "         [2.99995826, 0.        ],\n",
       "         [3.39060318, 0.        ],\n",
       "         [3.64061362, 0.        ],\n",
       "         [2.79296282, 0.        ],\n",
       "         [1.88280942, 0.        ],\n",
       "         [1.18456871, 0.        ],\n",
       "         [0.71386636, 0.        ],\n",
       "         [0.41772418, 0.        ],\n",
       "         [0.23925759, 0.        ],\n",
       "         [0.13482655, 0.        ],\n",
       "         [0.07501215, 0.        ],\n",
       "         [1.04130551, 0.        ],\n",
       "         [2.02255247, 0.        ],\n",
       "         [2.7622261 , 0.        ],\n",
       "         [3.25658798, 0.        ],\n",
       "         [3.56603145, 0.        ],\n",
       "         [3.75188446, 0.        ],\n",
       "         [3.8603766 , 0.        ],\n",
       "         [3.92240548, 0.        ],\n",
       "         [2.95731133, 0.        ],\n",
       "         [1.97670996, 0.        ],\n",
       "         [1.23738213, 0.        ],\n",
       "         [0.74320464, 0.        ],\n",
       "         [1.43385911, 0.        ],\n",
       "         [2.24805795, 0.        ],\n",
       "         [2.88959317, 0.        ],\n",
       "         [3.32757868, 0.        ],\n",
       "         [3.60518039, 0.        ],\n",
       "         [3.77328572, 0.        ],\n",
       "         [3.87199062, 0.        ],\n",
       "         [3.92866919, 0.        ],\n",
       "         [3.96067154, 0.        ],\n",
       "         [3.97850424, 0.        ],\n",
       "         [3.98833635, 0.        ],\n",
       "         [3.99371029, 0.        ],\n",
       "         [3.99662621, 0.        ],\n",
       "         [3.99819863, 0.        ],\n",
       "         [3.99904208, 0.        ],\n",
       "         [3.99949242, 0.        ],\n",
       "         [3.9997319 , 0.        ],\n",
       "         [3.9998588 , 0.        ],\n",
       "         [3.99992582, 0.        ],\n",
       "         [3.99996112, 0.        ],\n",
       "         [3.99997967, 0.        ],\n",
       "         [3.99998939, 0.        ],\n",
       "         [3.99999447, 0.        ],\n",
       "         [3.99999712, 0.        ],\n",
       "         [2.99999851, 0.        ],\n",
       "         [1.99999922, 0.        ],\n",
       "         [1.2499996 , 0.        ],\n",
       "         [0.74999979, 0.        ],\n",
       "         [0.43749989, 0.        ],\n",
       "         [0.24999994, 0.        ],\n",
       "         [0.14062497, 0.        ],\n",
       "         [0.07812499, 0.        ],\n",
       "         [1.04296874, 0.        ],\n",
       "         [2.0234375 , 0.        ],\n",
       "         [2.76269531, 0.        ],\n",
       "         [3.25683594, 0.        ],\n",
       "         [3.56616211, 0.        ],\n",
       "         [3.75195312, 0.        ],\n",
       "         [3.8604126 , 0.        ],\n",
       "         [3.92242432, 0.        ],\n",
       "         [3.95732117, 0.        ],\n",
       "         [3.97671509, 0.        ],\n",
       "         [3.9873848 , 0.        ],\n",
       "         [2.99320602, 0.        ],\n",
       "         [1.99635983, 0.        ],\n",
       "         [1.24805832, 0.        ],\n",
       "         [1.74896836, 0.        ],\n",
       "         [2.43695378, 0.        ],\n",
       "         [2.99971169, 0.        ],\n",
       "         [3.39047325, 0.        ],\n",
       "         [3.64054532, 0.        ],\n",
       "         [3.79292701, 0.        ],\n",
       "         [3.88279068, 0.        ],\n",
       "         [3.93455893, 0.        ],\n",
       "         [3.96386126, 0.        ],\n",
       "         [3.98022153, 0.        ],\n",
       "         [3.98925621, 0.        ],\n",
       "         [3.99420083, 0.        ],\n",
       "         [3.99688678, 0.        ],\n",
       "         [3.99833657, 0.        ],\n",
       "         [3.99911488, 0.        ],\n",
       "         [3.99953073, 0.        ],\n",
       "         [3.99975201, 0.        ],\n",
       "         [2.99986933, 0.        ],\n",
       "         [1.99993133, 0.        ],\n",
       "         [2.24996399, 0.        ],\n",
       "         [2.74998116, 0.        ],\n",
       "         [3.18749016, 0.        ],\n",
       "         [3.49999487, 0.        ],\n",
       "         [3.70312233, 0.        ],\n",
       "         [3.82812361, 0.        ],\n",
       "         [3.90234303, 0.        ],\n",
       "         [3.94531213, 0.        ],\n",
       "         [3.96972637, 0.        ],\n",
       "         [3.98339834, 0.        ],\n",
       "         [3.99096675, 0.        ],\n",
       "         [3.99511716, 0.        ],\n",
       "         [3.99737547, 0.        ],\n",
       "         [3.99859618, 0.        ],\n",
       "         [3.99925232, 0.        ],\n",
       "         [2.99960327, 0.        ],\n",
       "         [2.99979019, 0.        ],\n",
       "         [3.24988937, 0.        ],\n",
       "         [3.49994183, 0.        ],\n",
       "         [3.68746948, 0.        ],\n",
       "         [3.81248403, 0.        ],\n",
       "         [3.89061666, 0.        ],\n",
       "         [3.93749565, 0.        ],\n",
       "         [3.96484149, 0.        ],\n",
       "         [3.98046757, 0.        ],\n",
       "         [3.9892572 , 0.        ],\n",
       "         [3.99414031, 0.        ],\n",
       "         [3.99682601, 0.        ],\n",
       "         [3.99829093, 0.        ],\n",
       "         [2.99908443, 0.        ],\n",
       "         [1.9995117 , 0.        ],\n",
       "         [1.24974059, 0.        ],\n",
       "         [1.74986266, 0.        ],\n",
       "         [2.43742752, 0.        ],\n",
       "         [2.99996185, 0.        ],\n",
       "         [3.39060497, 0.        ],\n",
       "         [3.64061451, 0.        ],\n",
       "         [3.79296327, 0.        ],\n",
       "         [3.88280964, 0.        ],\n",
       "         [3.93456882, 0.        ],\n",
       "         [3.96386641, 0.        ],\n",
       "         [3.98022421, 0.        ],\n",
       "         [3.9892576 , 0.        ],\n",
       "         [3.99420155, 0.        ],\n",
       "         [3.99688715, 0.        ],\n",
       "         [3.99833676, 0.        ],\n",
       "         [3.99911498, 0.        ],\n",
       "         [3.99953078, 0.        ],\n",
       "         [3.99975204, 0.        ],\n",
       "         [3.99986934, 0.        ],\n",
       "         [3.99993133, 0.        ],\n",
       "         [3.999964  , 0.        ],\n",
       "         [3.99998116, 0.        ],\n",
       "         [3.99999017, 0.        ],\n",
       "         [3.99999487, 0.        ],\n",
       "         [3.99999733, 0.        ],\n",
       "         [3.99999861, 0.        ],\n",
       "         [3.99999928, 0.        ],\n",
       "         [3.99999963, 0.        ],\n",
       "         [3.99999981, 0.        ],\n",
       "         [3.9999999 , 0.        ],\n",
       "         [3.99999995, 0.        ],\n",
       "         [3.99999997, 0.        ],\n",
       "         [3.99999999, 0.        ],\n",
       "         [3.99999999, 0.        ],\n",
       "         [4.        , 0.        ],\n",
       "         [4.        , 0.        ],\n",
       "         [4.        , 0.        ],\n",
       "         [4.        , 0.        ],\n",
       "         [4.        , 0.        ],\n",
       "         [4.        , 0.        ],\n",
       "         [4.        , 0.        ],\n",
       "         [4.        , 0.        ],\n",
       "         [4.        , 0.        ],\n",
       "         [4.        , 0.        ],\n",
       "         [4.        , 0.        ],\n",
       "         [4.        , 0.        ],\n",
       "         [3.        , 0.        ],\n",
       "         [2.        , 0.        ],\n",
       "         [1.25      , 0.        ],\n",
       "         [1.75      , 0.        ],\n",
       "         [2.4375    , 0.        ],\n",
       "         [3.        , 0.        ],\n",
       "         [3.390625  , 0.        ],\n",
       "         [3.640625  , 0.        ],\n",
       "         [3.79296875, 0.        ],\n",
       "         [3.8828125 , 0.        ],\n",
       "         [3.93457031, 0.        ],\n",
       "         [3.96386719, 0.        ],\n",
       "         [3.98022461, 0.        ],\n",
       "         [3.98925781, 0.        ],\n",
       "         [2.99420166, 0.        ],\n",
       "         [1.99688721, 0.        ],\n",
       "         [1.24833679, 0.        ],\n",
       "         [1.74911499, 0.        ],\n",
       "         [1.43703079, 0.        ],\n",
       "         [1.99975204, 0.        ],\n",
       "         [2.64049435, 0.        ],\n",
       "         [3.14055634, 0.        ],\n",
       "         [3.48043275, 0.        ],\n",
       "         [3.69529366, 0.        ],\n",
       "         [3.82518548, 0.        ],\n",
       "         [3.90136206, 0.        ],\n",
       "         [3.94506569, 0.        ],\n",
       "         [3.96972518, 0.        ],\n",
       "         [3.98345875, 0.        ],\n",
       "         [3.99102746, 0.        ],\n",
       "         [3.99516277, 0.        ],\n",
       "         [3.99740591, 0.        ],\n",
       "         [3.99861521, 0.        ],\n",
       "         [3.99926374, 0.        ],\n",
       "         [3.99960993, 0.        ],\n",
       "         [3.999794  , 0.        ],\n",
       "         [3.99989152, 0.        ],\n",
       "         [3.99994302, 0.        ],\n",
       "         [3.99997014, 0.        ],\n",
       "         [3.99998438, 0.        ],\n",
       "         [3.99999185, 0.        ],\n",
       "         [3.99999575, 0.        ],\n",
       "         [3.99999779, 0.        ],\n",
       "         [2.99999885, 0.        ],\n",
       "         [1.9999994 , 0.        ],\n",
       "         [2.24999969, 0.        ],\n",
       "         [2.74999984, 0.        ],\n",
       "         [3.18749992, 0.        ],\n",
       "         [3.49999996, 0.        ],\n",
       "         [3.70312498, 0.        ],\n",
       "         [3.82812499, 0.        ],\n",
       "         [3.90234374, 0.        ],\n",
       "         [3.9453125 , 0.        ],\n",
       "         [3.96972656, 0.        ],\n",
       "         [3.98339844, 0.        ],\n",
       "         [3.9909668 , 0.        ],\n",
       "         [3.99511719, 0.        ],\n",
       "         [3.99737549, 0.        ]])}}"
      ]
     },
     "execution_count": 22,
     "metadata": {},
     "output_type": "execute_result"
    }
   ],
   "source": [
    "data_lif1"
   ]
  },
  {
   "cell_type": "code",
   "execution_count": 27,
   "metadata": {},
   "outputs": [
    {
     "data": {
      "text/plain": [
       "300"
      ]
     },
     "execution_count": 27,
     "metadata": {},
     "output_type": "execute_result"
    }
   ],
   "source": [
    "# Check the shape to verify if it is printing the voltage for every step\n",
    "len(data_lif1['lif1']['v'])     # Indeed, there are 300 values (same as the number of steps we ran the simulation for)"
   ]
  },
  {
   "cell_type": "markdown",
   "metadata": {},
   "source": [
    "### Plot the recorded data"
   ]
  },
  {
   "cell_type": "code",
   "execution_count": 28,
   "metadata": {},
   "outputs": [
    {
     "data": {
      "image/png": "[encoded data removed]",
      "text/plain": [
       "<Figure size 1600x500 with 2 Axes>"
      ]
     },
     "metadata": {},
     "output_type": "display_data"
    }
   ],
   "source": [
    "import matplotlib\n",
    "%matplotlib inline\n",
    "from matplotlib import pyplot as plt\n",
    "\n",
    "# Create a subplot for each monitored variable\n",
    "fig = plt.figure(figsize=(16, 5))\n",
    "ax0 = fig.add_subplot(121)\n",
    "\n",
    "# Plot the data\n",
    "monitor_lif1.plot(ax0, lif1.v)\n"
   ]
  },
  {
   "cell_type": "markdown",
   "metadata": {},
   "source": [
    "## Stop the Runtime"
   ]
  },
  {
   "cell_type": "code",
   "execution_count": 22,
   "metadata": {},
   "outputs": [],
   "source": [
    "lif1.stop()"
   ]
  },
  {
   "cell_type": "markdown",
   "metadata": {},
   "source": []
  }
 ],
 "metadata": {
  "kernelspec": {
   "display_name": "Python 3 (ipykernel)",
   "language": "python",
   "name": "python3"
  },
  "language_info": {
   "codemirror_mode": {
    "name": "ipython",
    "version": 3
   },
   "file_extension": ".py",
   "mimetype": "text/x-python",
   "name": "python",
   "nbconvert_exporter": "python",
   "pygments_lexer": "ipython3",
   "version": "3.10.12"
  }
 },
 "nbformat": 4,
 "nbformat_minor": 4
}
