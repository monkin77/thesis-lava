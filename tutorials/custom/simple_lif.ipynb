{
 "cells": [
  {
   "cell_type": "markdown",
   "metadata": {},
   "source": [
    "# Practical Usage of Lava w/ custom input from the lab"
   ]
  },
  {
   "cell_type": "markdown",
   "metadata": {},
   "source": [
    "The input data from the lab used in this example consists of a sequence of timestamps where a specific neuron fired. The data is stored in a csv file, where each value is a timestamp (in milliseconds). \n",
    "\n",
    "Thus, the input layer only requires 1 connection at each timestep. We will assume the network contains 5 neurons for the sake of this example."
   ]
  },
  {
   "cell_type": "markdown",
   "metadata": {},
   "source": [
    "Let's start by defining the middle layer, the 2-layered feed-forward network of LIF neurons"
   ]
  },
  {
   "cell_type": "code",
   "execution_count": 295,
   "metadata": {},
   "outputs": [
    {
     "name": "stdout",
     "output_type": "stream",
     "text": [
      "\u001b[0;31mInit signature:\u001b[0m \u001b[0mLIF\u001b[0m\u001b[0;34m(\u001b[0m\u001b[0;34m*\u001b[0m\u001b[0margs\u001b[0m\u001b[0;34m,\u001b[0m \u001b[0;34m**\u001b[0m\u001b[0mkwargs\u001b[0m\u001b[0;34m)\u001b[0m\u001b[0;34m\u001b[0m\u001b[0;34m\u001b[0m\u001b[0m\n",
      "\u001b[0;31mDocstring:\u001b[0m     \n",
      "Leaky-Integrate-and-Fire (LIF) neural Process.\n",
      "\n",
      "LIF dynamics abstracts to:\n",
      "u[t] = u[t-1] * (1-du) + a_in         # neuron current\n",
      "v[t] = v[t-1] * (1-dv) + u[t] + bias  # neuron voltage\n",
      "s_out = v[t] > vth                    # spike if threshold is exceeded\n",
      "v[t] = 0                              # reset at spike\n",
      "\n",
      "Parameters\n",
      "----------\n",
      "shape : tuple(int)\n",
      "    Number and topology of LIF neurons.\n",
      "u : float, list, numpy.ndarray, optional\n",
      "    Initial value of the neurons' current.\n",
      "v : float, list, numpy.ndarray, optional\n",
      "    Initial value of the neurons' voltage (membrane potential).\n",
      "du : float, optional\n",
      "    Inverse of decay time-constant for current decay. Currently, only a\n",
      "    single decay can be set for the entire population of neurons.\n",
      "dv : float, optional\n",
      "    Inverse of decay time-constant for voltage decay. Currently, only a\n",
      "    single decay can be set for the entire population of neurons.\n",
      "bias_mant : float, list, numpy.ndarray, optional\n",
      "    Mantissa part of neuron bias.\n",
      "bias_exp : float, list, numpy.ndarray, optional\n",
      "    Exponent part of neuron bias, if needed. Mostly for fixed point\n",
      "    implementations. Ignored for floating point implementations.\n",
      "vth : float, optional\n",
      "    Neuron threshold voltage, exceeding which, the neuron will spike.\n",
      "    Currently, only a single threshold can be set for the entire\n",
      "    population of neurons.\n",
      "\n",
      "Example\n",
      "-------\n",
      ">>> lif = LIF(shape=(200, 15), du=10, dv=5)\n",
      "This will create 200x15 LIF neurons that all have the same current decay\n",
      "of 10 and voltage decay of 5.\n",
      "\u001b[0;31mInit docstring:\u001b[0m Initializes a new Process.\n",
      "\u001b[0;31mFile:\u001b[0m           ~/Desktop/feup/thesis/thesis-lava/src/lava/proc/lif/process.py\n",
      "\u001b[0;31mType:\u001b[0m           ProcessPostInitCaller\n",
      "\u001b[0;31mSubclasses:\u001b[0m     LIFReset, LIFRefractory"
     ]
    }
   ],
   "source": [
    "from lava.proc.lif.process import LIF\n",
    "from lava.proc.dense.process import Dense\n",
    "\n",
    "LIF?"
   ]
  },
  {
   "cell_type": "code",
   "execution_count": 296,
   "metadata": {},
   "outputs": [],
   "source": [
    "# Define the number of neurons in each LIF Layer\n",
    "n1 = 2   # Let's create a simple program with only 1 LIF layer"
   ]
  },
  {
   "cell_type": "code",
   "execution_count": 297,
   "metadata": {},
   "outputs": [],
   "source": [
    "import numpy as np\n",
    "\n",
    "# Create Processes\n",
    "lif1 = LIF(shape=(n1,),  # There are 5 neurons\n",
    "           vth=5,  # TODO: Verify these initial values\n",
    "           v=0,\n",
    "           dv=0.05,    # Inverse of decay time-constant for voltage decay\n",
    "           du=0.6,  # Inverse of decay time-constant for current decay\n",
    "           bias_mant=0,\n",
    "           bias_exp=0,\n",
    "           name=\"lif1\")"
   ]
  },
  {
   "cell_type": "markdown",
   "metadata": {},
   "source": [
    "Let's take a look at the ports and connections of the middle layer:"
   ]
  },
  {
   "cell_type": "code",
   "execution_count": 298,
   "metadata": {},
   "outputs": [
    {
     "name": "stdout",
     "output_type": "stream",
     "text": [
      "Proc: lif1  Port Name: a_in  Size: 2\n",
      "Proc: lif1  Port Name: s_out Size: 2\n"
     ]
    }
   ],
   "source": [
    "for proc in [lif1]:\n",
    "    for port in proc.in_ports:\n",
    "        print(f\"Proc: {proc.name:<5} Port Name: {port.name:<5} Size: {port.size}\")\n",
    "    for port in proc.out_ports:\n",
    "        print(f\"Proc: {proc.name:<5} Port Name: {port.name:<5} Size: {port.size}\")"
   ]
  },
  {
   "cell_type": "markdown",
   "metadata": {},
   "source": [
    "After verifying the input and output Ports of the middle layer, we can connect the network to complete the LIF-Dense-LIF structure"
   ]
  },
  {
   "cell_type": "markdown",
   "metadata": {},
   "source": [
    "## Create the Custom Input Layer"
   ]
  },
  {
   "cell_type": "markdown",
   "metadata": {},
   "source": [
    "### Define function to read the input data from the csv file and generate the corresponding spike events"
   ]
  },
  {
   "cell_type": "code",
   "execution_count": 299,
   "metadata": {},
   "outputs": [],
   "source": [
    "import pandas as pd\n",
    "\n",
    "def read_spike_events(file_path: str):\n",
    "    \"\"\"Reads the spike events from the input file and returns them as a numpy array\n",
    "\n",
    "    Args:\n",
    "        file_path (str): name of the file containing the spike events\n",
    "    \"\"\"\n",
    "    spike_events = []\n",
    "\n",
    "    try:\n",
    "        # Read the spike events from the file\n",
    "        df = pd.read_csv(file_path, header=None)\n",
    "\n",
    "        # Detect errors\n",
    "        if df.empty:\n",
    "            raise Exception(\"The input file is empty\")\n",
    "\n",
    "        # Convert the scientific notation values to integers if any exist\n",
    "        df = df.applymap(lambda x: int(float(x)) if (isinstance(x, str) and 'e' in x) else x)\n",
    "\n",
    "        # Convert the dataframe to a numpy array\n",
    "        spike_events = df.to_numpy()\n",
    "        return spike_events[0]\n",
    "    except Exception as e:\n",
    "        print(\"Unable to read the input file: \", file_path, \" error:\", e)\n",
    "\n",
    "    return spike_events"
   ]
  },
  {
   "cell_type": "code",
   "execution_count": 300,
   "metadata": {},
   "outputs": [
    {
     "name": "stdout",
     "output_type": "stream",
     "text": [
      "Spike events:  (289,) [104000. 124000. 135000. 171000. 177000. 184000. 190000. 194000. 200000.\n",
      " 200000.]\n"
     ]
    }
   ],
   "source": [
    "# Call the function to read the spike events\n",
    "file_path = \"./canal60.csv\"\n",
    "spike_events = read_spike_events(file_path)\n",
    "print(\"Spike events: \", spike_events.shape, spike_events[:10])"
   ]
  },
  {
   "cell_type": "markdown",
   "metadata": {},
   "source": [
    "Define the SpikeEvent Generator Interface"
   ]
  },
  {
   "cell_type": "code",
   "execution_count": 301,
   "metadata": {},
   "outputs": [],
   "source": [
    "from lava.magma.core.process.process import AbstractProcess\n",
    "from lava.magma.core.process.variable import Var\n",
    "from lava.magma.core.process.ports.ports import OutPort\n",
    "\n",
    "class SpikeEventGen(AbstractProcess):\n",
    "    \"\"\"Input Process that generates spike events based on the input file\n",
    "\n",
    "    Args:\n",
    "        shape (tuple): Shape of the output port\n",
    "        file_name (str): Name of the file containing the spike events\n",
    "    \"\"\"\n",
    "    def __init__(self, shape: tuple, spike_events: np.ndarray, name: str) -> None:\n",
    "        super().__init__(name=name)\n",
    "        self.s_out = OutPort(shape=shape)\n",
    "        self.spike_events = Var(shape=spike_events.shape, init=spike_events)"
   ]
  },
  {
   "cell_type": "markdown",
   "metadata": {},
   "source": [
    "Implement the `SpikeEventGenerator` Model"
   ]
  },
  {
   "cell_type": "code",
   "execution_count": 302,
   "metadata": {},
   "outputs": [],
   "source": [
    "from lava.magma.core.model.py.model import PyLoihiProcessModel  # Processes running on CPU inherit from this class\n",
    "from lava.magma.core.resources import CPU\n",
    "from lava.magma.core.decorator import implements, requires\n",
    "from lava.magma.core.sync.protocols.loihi_protocol import LoihiProtocol\n",
    "from lava.magma.core.model.py.type import LavaPyType\n",
    "from lava.magma.core.model.py.ports import PyOutPort\n",
    "\n",
    "@implements(proc=SpikeEventGen, protocol=LoihiProtocol)\n",
    "@requires(CPU)\n",
    "class PySpikeEventGenModel(PyLoihiProcessModel):\n",
    "    \"\"\"Spike Event Generator Process implementation running on CPU (Python)\n",
    "    Args:\n",
    "    \"\"\"\n",
    "    s_out: PyOutPort = LavaPyType(PyOutPort.VEC_DENSE, float)   # IT IS POSSIBLE TO SEND FLOATS AFTER ALL\n",
    "    spike_events: np.ndarray = LavaPyType(np.ndarray, np.ndarray)   # TODO: Check if we should keep it as a numpy array, or transform it to a list\n",
    "\n",
    "    def __init__(self, proc_params) -> None:\n",
    "        super().__init__(proc_params=proc_params)\n",
    "        # print(\"spike events\", self.spike_events.__str__())    # TODO: Check why during initialization the variable prints the class, while during run it prints the value\n",
    "        self.curr_spike_idx = 0     # Index of the next spiking event to send\n",
    "        self.virtual_time_step_interval = 1000    # Arbitrary time between time steps (in microseconds). This is not a real time interval (1000ms = 1s)\n",
    "        self.init_offset = 100000                  # Arbitrary offset to start the simulation (in microseconds)\n",
    "\n",
    "    def run_spk(self) -> None:\n",
    "        spike_data = np.zeros(self.s_out.shape) # Initialize the spike data to 0\n",
    "        \n",
    "        # Use random spikes to test it\n",
    "        # spike_data[0] = np.random.random()  # Only 1 neuron is sending data (spikes)\n",
    "        # self.curr_spike_idx += 1\n",
    "\n",
    "        # Use the spike events from the file\n",
    "        # print(\"spike events: \", self.spike_events[:5])\n",
    "        # TODO: For now we are using the time_step as the time measurement that will simulate real-time activity. It would be better to have access to the running time\n",
    "        \n",
    "        #print(\"time step:\", self.time_step)\n",
    "        # If the current simulation time is greater than the next spike event, send a spike\n",
    "        currTime = self.init_offset + self.time_step*self.virtual_time_step_interval\n",
    "        if currTime >= self.spike_events[self.curr_spike_idx]:\n",
    "            spike_data[0] = 1.0   # Send a spike  (value corresponds to the punctual current of the spike event?)\n",
    "            spike_data[1] = 0.0   # Send a spike  (value corresponds to the punctual current of the spike event?)\n",
    "            print(f\"sending spike event at time: {currTime}({self.time_step}) spike idx: {self.curr_spike_idx} spike time: {self.spike_events[self.curr_spike_idx]}\")\n",
    "            self.curr_spike_idx += 1\n",
    "\n",
    "        # Send spikes\n",
    "        # print(\"sending spike_data: \", spike_data, \" at step: \", self.time_step)\n",
    "        self.s_out.send(spike_data)\n",
    "\n",
    "        # Stop the Process if there are no more spike events to send. (It will stop all the connected processes)\n",
    "        # TODO: Should it be another process that stops the simulation? Such as the last LIF process\n",
    "        # if self.curr_spike_idx >= 5: # len(self.spike_events):\n",
    "        #    self.pause()\n"
   ]
  },
  {
   "cell_type": "markdown",
   "metadata": {},
   "source": [
    "## Connect the Custom Input Layer to the middle layer"
   ]
  },
  {
   "cell_type": "markdown",
   "metadata": {},
   "source": [
    "To define the connectivity between the `SpikeGenerator` and the first `LIF` population, we use another `Dense` Layer."
   ]
  },
  {
   "cell_type": "code",
   "execution_count": 303,
   "metadata": {},
   "outputs": [],
   "source": [
    "# Create the Input Process\n",
    "spike_event_gen = SpikeEventGen(shape=(n1,), spike_events=spike_events, name=\"CustomInput\")\n",
    "\n",
    "# Instantiante a Dense Layer to connect the SpikeEventGen to the middle layer\n",
    "dense_input = Dense(weights=np.eye(n1), name=\"DenseInput\")     # 1-1 connectivity with the Middle Layer (should be a 2x2 matrix right now)\n",
    "\n",
    "# Connect the SpikeEventGen to the Dense Layer\n",
    "spike_event_gen.s_out.connect(dense_input.s_in)\n",
    "\n",
    "# Connect the Dense_Input to the LIF1 Layer\n",
    "dense_input.a_out.connect(lif1.a_in)"
   ]
  },
  {
   "cell_type": "markdown",
   "metadata": {},
   "source": [
    "### Take a look at the connections in the Input Layer"
   ]
  },
  {
   "cell_type": "code",
   "execution_count": 304,
   "metadata": {},
   "outputs": [
    {
     "name": "stdout",
     "output_type": "stream",
     "text": [
      "Proc: CustomInput Port Name: s_out Size: 2\n",
      "Proc: DenseInput Port Name: s_in  Size: 2\n",
      "Proc: DenseInput Port Name: a_out Size: 2\n",
      "Proc: lif1  Port Name: a_in  Size: 2\n",
      "Proc: lif1  Port Name: s_out Size: 2\n"
     ]
    }
   ],
   "source": [
    "for proc in [spike_event_gen, dense_input, lif1]:\n",
    "    for port in proc.in_ports:\n",
    "        print(f\"Proc: {proc.name:<5} Port Name: {port.name:<5} Size: {port.size}\")\n",
    "    for port in proc.out_ports:\n",
    "        print(f\"Proc: {proc.name:<5} Port Name: {port.name:<5} Size: {port.size}\")"
   ]
  },
  {
   "cell_type": "markdown",
   "metadata": {},
   "source": [
    "Weights of the Input Dense Layer"
   ]
  },
  {
   "cell_type": "code",
   "execution_count": 305,
   "metadata": {},
   "outputs": [
    {
     "data": {
      "text/plain": [
       "array([[1., 0.],\n",
       "       [0., 1.]])"
      ]
     },
     "execution_count": 305,
     "metadata": {},
     "output_type": "execute_result"
    }
   ],
   "source": [
    "dense_input.weights.get()"
   ]
  },
  {
   "cell_type": "markdown",
   "metadata": {},
   "source": [
    "### Record Internal Vars over time\n",
    "To record the evolution of the internal variables over time, we need a `Monitor`. For this example, we want to record the membrane potential of the `LIF` Layer, hence we need 1 `Monitors`.\n",
    "\n",
    "We can define the `Var` that a `Monitor` should record, as well as the recording duration, using the `probe` function"
   ]
  },
  {
   "cell_type": "code",
   "execution_count": 306,
   "metadata": {},
   "outputs": [],
   "source": [
    "from lava.proc.monitor.process import Monitor\n",
    "\n",
    "monitor_lif1 = Monitor()\n",
    "\n",
    "num_steps = 300     # TODO: Check the number of steps to run the simulation for\n",
    "\n",
    "# Connect the monitors to the variables we want to monitor\n",
    "monitor_lif1.probe(lif1.v, num_steps)"
   ]
  },
  {
   "cell_type": "markdown",
   "metadata": {},
   "source": [
    "## Execution\n",
    "Now that we have defined the network, we can execute it. We will use the `run` function to execute the network."
   ]
  },
  {
   "cell_type": "markdown",
   "metadata": {},
   "source": [
    "### Run Configuration and Conditions"
   ]
  },
  {
   "cell_type": "code",
   "execution_count": 307,
   "metadata": {},
   "outputs": [],
   "source": [
    "from lava.magma.core.run_conditions import RunContinuous, RunSteps\n",
    "from lava.magma.core.run_configs import Loihi1SimCfg\n",
    "\n",
    "# run_condition = RunContinuous()   # TODO: Change to this one\n",
    "run_condition = RunSteps(num_steps=num_steps)\n",
    "run_cfg = Loihi1SimCfg(select_tag=\"floating_pt\")   # TODO: Check why we need this select_tag=\"floating_pt\""
   ]
  },
  {
   "cell_type": "markdown",
   "metadata": {},
   "source": [
    "### Execute"
   ]
  },
  {
   "cell_type": "code",
   "execution_count": 308,
   "metadata": {},
   "outputs": [
    {
     "name": "stdout",
     "output_type": "stream",
     "text": [
      "sending spike event at time: 104000(4) spike idx: 0 spike time: 104000.0\n",
      "sending spike event at time: 124000(24) spike idx: 1 spike time: 124000.0\n",
      "sending spike event at time: 135000(35) spike idx: 2 spike time: 135000.0\n",
      "sending spike event at time: 171000(71) spike idx: 3 spike time: 171000.0\n",
      "sending spike event at time: 177000(77) spike idx: 4 spike time: 177000.0\n",
      "sending spike event at time: 184000(84) spike idx: 5 spike time: 184000.0\n",
      "sending spike event at time: 190000(90) spike idx: 6 spike time: 190000.0\n",
      "sending spike event at time: 194000(94) spike idx: 7 spike time: 194000.0\n",
      "sending spike event at time: 200000(100) spike idx: 8 spike time: 200000.0\n",
      "sending spike event at time: 201000(101) spike idx: 9 spike time: 200000.0\n",
      "sending spike event at time: 207000(107) spike idx: 10 spike time: 207000.0\n",
      "sending spike event at time: 208000(108) spike idx: 11 spike time: 208000.0\n",
      "sending spike event at time: 213000(113) spike idx: 12 spike time: 213000.0\n",
      "sending spike event at time: 218000(118) spike idx: 13 spike time: 218000.0\n",
      "sending spike event at time: 220000(120) spike idx: 14 spike time: 220000.0\n",
      "sending spike event at time: 221000(121) spike idx: 15 spike time: 220000.0\n",
      "sending spike event at time: 223000(123) spike idx: 16 spike time: 223000.0\n",
      "sending spike event at time: 226000(126) spike idx: 17 spike time: 226000.0\n",
      "sending spike event at time: 230000(130) spike idx: 18 spike time: 230000.0\n",
      "sending spike event at time: 237000(137) spike idx: 19 spike time: 237000.0\n",
      "sending spike event at time: 327000(227) spike idx: 20 spike time: 327000.0\n",
      "sending spike event at time: 333000(233) spike idx: 21 spike time: 333000.0\n",
      "sending spike event at time: 334000(234) spike idx: 22 spike time: 333000.0\n",
      "sending spike event at time: 347000(247) spike idx: 23 spike time: 347000.0\n",
      "sending spike event at time: 351000(251) spike idx: 24 spike time: 351000.0\n",
      "sending spike event at time: 353000(253) spike idx: 25 spike time: 353000.0\n",
      "sending spike event at time: 357000(257) spike idx: 26 spike time: 357000.0\n",
      "sending spike event at time: 361000(261) spike idx: 27 spike time: 361000.0\n",
      "sending spike event at time: 362000(262) spike idx: 28 spike time: 361000.0\n",
      "sending spike event at time: 363000(263) spike idx: 29 spike time: 361000.0\n",
      "sending spike event at time: 364000(264) spike idx: 30 spike time: 362000.0\n",
      "sending spike event at time: 365000(265) spike idx: 31 spike time: 363000.0\n"
     ]
    }
   ],
   "source": [
    "lif1.run(condition=run_condition, run_cfg=run_cfg)"
   ]
  },
  {
   "cell_type": "markdown",
   "metadata": {},
   "source": [
    "### Retrieve recorded data"
   ]
  },
  {
   "cell_type": "code",
   "execution_count": 309,
   "metadata": {},
   "outputs": [],
   "source": [
    "data_lif1 = monitor_lif1.get_data()"
   ]
  },
  {
   "cell_type": "code",
   "execution_count": 310,
   "metadata": {},
   "outputs": [
    {
     "data": {
      "text/plain": [
       "{'lif1': {'v': array([[0.        , 0.        ],\n",
       "         [0.        , 0.        ],\n",
       "         [0.        , 0.        ],\n",
       "         [0.        , 0.        ],\n",
       "         [1.        , 0.        ],\n",
       "         [1.35      , 0.        ],\n",
       "         [1.4425    , 0.        ],\n",
       "         [1.434375  , 0.        ],\n",
       "         [1.38825625, 0.        ],\n",
       "         [1.32908344, 0.        ],\n",
       "         [1.26672527, 0.        ],\n",
       "         [1.2050274 , 0.        ],\n",
       "         [1.14543139, 0.        ],\n",
       "         [1.08842197, 0.        ],\n",
       "         [1.03410573, 0.        ],\n",
       "         [0.98244238, 0.        ],\n",
       "         [0.93333704, 0.        ],\n",
       "         [0.8866769 , 0.        ],\n",
       "         [0.84234574, 0.        ],\n",
       "         [0.80022953, 0.        ],\n",
       "         [0.76021848, 0.        ],\n",
       "         [0.72220773, 0.        ],\n",
       "         [0.68609741, 0.        ],\n",
       "         [0.65179257, 0.        ],\n",
       "         [1.61920295, 0.        ],\n",
       "         [1.93824281, 0.        ],\n",
       "         [2.00133067, 0.        ],\n",
       "         [1.96526413, 0.        ],\n",
       "         [1.89260093, 0.        ],\n",
       "         [1.80821088, 0.        ],\n",
       "         [1.72189634, 0.        ],\n",
       "         [1.63743992, 0.        ],\n",
       "         [1.55622328, 0.        ],\n",
       "         [1.47867426, 0.        ],\n",
       "         [1.40484541, 0.        ],\n",
       "         [2.33464508, 0.        ],\n",
       "         [2.6179296 , 0.        ],\n",
       "         [2.64703984, 0.        ],\n",
       "         [2.57869053, 0.        ],\n",
       "         [2.47535708, 0.        ],\n",
       "         [2.36182965, 0.        ],\n",
       "         [2.24783434, 0.        ],\n",
       "         [2.13708109, 0.        ],\n",
       "         [2.03088242, 0.        ],\n",
       "         [1.92960046, 0.        ],\n",
       "         [1.8332253 , 0.        ],\n",
       "         [1.74160598, 0.        ],\n",
       "         [1.65454246, 0.        ],\n",
       "         [1.57182205, 0.        ],\n",
       "         [1.49323363, 0.        ],\n",
       "         [1.41857302, 0.        ],\n",
       "         [1.3476448 , 0.        ],\n",
       "         [1.28026273, 0.        ],\n",
       "         [1.21624966, 0.        ],\n",
       "         [1.15543721, 0.        ],\n",
       "         [1.09766536, 0.        ],\n",
       "         [1.04278209, 0.        ],\n",
       "         [0.99064299, 0.        ],\n",
       "         [0.94111084, 0.        ],\n",
       "         [0.8940553 , 0.        ],\n",
       "         [0.84935254, 0.        ],\n",
       "         [0.80688491, 0.        ],\n",
       "         [0.76654066, 0.        ],\n",
       "         [0.72821363, 0.        ],\n",
       "         [0.69180295, 0.        ],\n",
       "         [0.6572128 , 0.        ],\n",
       "         [0.62435216, 0.        ],\n",
       "         [0.59313455, 0.        ],\n",
       "         [0.56347783, 0.        ],\n",
       "         [0.53530393, 0.        ],\n",
       "         [0.50853874, 0.        ],\n",
       "         [1.4831118 , 0.        ],\n",
       "         [1.80895621, 0.        ],\n",
       "         [1.8785084 , 0.        ],\n",
       "         [1.84858298, 0.        ],\n",
       "         [1.78175383, 0.        ],\n",
       "         [1.70290614, 0.        ],\n",
       "         [2.62185683, 0.        ],\n",
       "         [2.89240239, 0.        ],\n",
       "         [2.90843763, 0.        ],\n",
       "         [2.82727789, 0.        ],\n",
       "         [2.71161886, 0.        ],\n",
       "         [2.58631986, 0.        ],\n",
       "         [2.46111664, 0.        ],\n",
       "         [3.33970592, 0.        ],\n",
       "         [3.57337867, 0.        ],\n",
       "         [3.55497295, 0.        ],\n",
       "         [3.44132959, 0.        ],\n",
       "         [3.29490523, 0.        ],\n",
       "         [3.14041681, 0.        ],\n",
       "         [3.98749871, 0.        ],\n",
       "         [4.18976487, 0.        ],\n",
       "         [4.14093306, 0.        ],\n",
       "         [3.99814899, 0.        ],\n",
       "         [4.82394657, 0.        ],\n",
       "         [4.99303125, 0.        ],\n",
       "         [4.90749249, 0.        ],\n",
       "         [4.72776299, 0.        ],\n",
       "         [4.51763289, 0.        ],\n",
       "         [4.30225446, 0.        ],\n",
       "         [0.        , 0.        ],\n",
       "         [1.40168052, 0.        ],\n",
       "         [1.8922687 , 0.        ],\n",
       "         [2.02192414, 0.        ],\n",
       "         [2.01053549, 0.        ],\n",
       "         [1.94589174, 0.        ],\n",
       "         [1.86295036, 0.        ],\n",
       "         [2.77554412, 0.        ],\n",
       "         [4.03906343, 0.        ],\n",
       "         [4.39802886, 0.        ],\n",
       "         [4.40249486, 0.        ],\n",
       "         [4.2721171 , 0.        ],\n",
       "         [4.09441003, 0.        ],\n",
       "         [4.90404905, 0.        ],\n",
       "         [0.        , 0.        ],\n",
       "         [0.16229752, 0.        ],\n",
       "         [0.21910166, 0.        ],\n",
       "         [0.23411418, 0.        ],\n",
       "         [1.23279551, 0.        ],\n",
       "         [1.57531055, 0.        ],\n",
       "         [2.65820695, 0.        ],\n",
       "         [3.98996137, 0.        ],\n",
       "         [4.37632921, 0.        ],\n",
       "         [0.        , 0.        ],\n",
       "         [0.49373855, 0.        ],\n",
       "         [0.66654704, 0.        ],\n",
       "         [1.71221785, 0.        ],\n",
       "         [2.05820623, 0.        ],\n",
       "         [2.12793562, 0.        ],\n",
       "         [2.09059472, 0.        ],\n",
       "         [3.01368734, 0.        ],\n",
       "         [3.27405191, 0.        ],\n",
       "         [3.27476889, 0.        ],\n",
       "         [3.17679828, 0.        ],\n",
       "         [3.0442655 , 0.        ],\n",
       "         [2.90257508, 0.        ],\n",
       "         [2.76165546, 0.        ],\n",
       "         [3.62525635, 0.        ],\n",
       "         [3.84466699, 0.        ],\n",
       "         [3.81270303, 0.        ],\n",
       "         [3.68617563, 0.        ],\n",
       "         [3.52750995, 0.        ],\n",
       "         [3.36139169, 0.        ],\n",
       "         [3.19742501, 0.        ],\n",
       "         [3.03919491, 0.        ],\n",
       "         [2.88789163, 0.        ],\n",
       "         [2.74375964, 0.        ],\n",
       "         [2.60667669, 0.        ],\n",
       "         [2.47638487, 0.        ],\n",
       "         [2.35258243, 0.        ],\n",
       "         [2.23496003, 0.        ],\n",
       "         [2.12321472, 0.        ],\n",
       "         [2.01705506, 0.        ],\n",
       "         [1.91620273, 0.        ],\n",
       "         [1.82039277, 0.        ],\n",
       "         [1.7293732 , 0.        ],\n",
       "         [1.64290457, 0.        ],\n",
       "         [1.56075935, 0.        ],\n",
       "         [1.48272139, 0.        ],\n",
       "         [1.40858532, 0.        ],\n",
       "         [1.33815605, 0.        ],\n",
       "         [1.27124825, 0.        ],\n",
       "         [1.20768584, 0.        ],\n",
       "         [1.14730155, 0.        ],\n",
       "         [1.08993647, 0.        ],\n",
       "         [1.03543965, 0.        ],\n",
       "         [0.98366766, 0.        ],\n",
       "         [0.93448428, 0.        ],\n",
       "         [0.88776007, 0.        ],\n",
       "         [0.84337206, 0.        ],\n",
       "         [0.80120346, 0.        ],\n",
       "         [0.76114329, 0.        ],\n",
       "         [0.72308612, 0.        ],\n",
       "         [0.68693182, 0.        ],\n",
       "         [0.65258523, 0.        ],\n",
       "         [0.61995596, 0.        ],\n",
       "         [0.58895817, 0.        ],\n",
       "         [0.55951026, 0.        ],\n",
       "         [0.53153475, 0.        ],\n",
       "         [0.50495801, 0.        ],\n",
       "         [0.47971011, 0.        ],\n",
       "         [0.4557246 , 0.        ],\n",
       "         [0.43293837, 0.        ],\n",
       "         [0.41129145, 0.        ],\n",
       "         [0.39072688, 0.        ],\n",
       "         [0.37119054, 0.        ],\n",
       "         [0.35263101, 0.        ],\n",
       "         [0.33499946, 0.        ],\n",
       "         [0.31824949, 0.        ],\n",
       "         [0.30233701, 0.        ],\n",
       "         [0.28722016, 0.        ],\n",
       "         [0.27285915, 0.        ],\n",
       "         [0.2592162 , 0.        ],\n",
       "         [0.24625539, 0.        ],\n",
       "         [0.23394262, 0.        ],\n",
       "         [0.22224549, 0.        ],\n",
       "         [0.21113321, 0.        ],\n",
       "         [0.20057655, 0.        ],\n",
       "         [0.19054772, 0.        ],\n",
       "         [0.18102034, 0.        ],\n",
       "         [0.17196932, 0.        ],\n",
       "         [0.16337085, 0.        ],\n",
       "         [0.15520231, 0.        ],\n",
       "         [0.1474422 , 0.        ],\n",
       "         [0.14007009, 0.        ],\n",
       "         [0.13306658, 0.        ],\n",
       "         [0.12641325, 0.        ],\n",
       "         [0.12009259, 0.        ],\n",
       "         [0.11408796, 0.        ],\n",
       "         [0.10838356, 0.        ],\n",
       "         [0.10296438, 0.        ],\n",
       "         [0.09781617, 0.        ],\n",
       "         [0.09292536, 0.        ],\n",
       "         [0.08827909, 0.        ],\n",
       "         [0.08386513, 0.        ],\n",
       "         [0.07967188, 0.        ],\n",
       "         [0.07568828, 0.        ],\n",
       "         [0.07190387, 0.        ],\n",
       "         [0.06830868, 0.        ],\n",
       "         [0.06489324, 0.        ],\n",
       "         [0.06164858, 0.        ],\n",
       "         [0.05856615, 0.        ],\n",
       "         [0.05563784, 0.        ],\n",
       "         [0.05285595, 0.        ],\n",
       "         [0.05021315, 0.        ],\n",
       "         [0.0477025 , 0.        ],\n",
       "         [0.04531737, 0.        ],\n",
       "         [1.0430515 , 0.        ],\n",
       "         [1.39089893, 0.        ],\n",
       "         [1.48135398, 0.        ],\n",
       "         [1.47128628, 0.        ],\n",
       "         [1.42332197, 0.        ],\n",
       "         [1.36239587, 0.        ],\n",
       "         [2.29837208, 0.        ],\n",
       "         [3.58509187, 0.        ],\n",
       "         [3.96649264, 0.        ],\n",
       "         [3.99243015, 0.        ],\n",
       "         [3.8825135 , 0.        ],\n",
       "         [3.72426977, 0.        ],\n",
       "         [3.55240906, 0.        ],\n",
       "         [3.38052972, 0.        ],\n",
       "         [3.21379967, 0.        ],\n",
       "         [3.05402827, 0.        ],\n",
       "         [2.90169429, 0.        ],\n",
       "         [2.75675654, 0.        ],\n",
       "         [2.61897751, 0.        ],\n",
       "         [2.48805215, 0.        ],\n",
       "         [3.36365895, 0.        ],\n",
       "         [3.59547976, 0.        ],\n",
       "         [3.57570728, 0.        ],\n",
       "         [3.46092252, 0.        ],\n",
       "         [4.31347663, 0.        ],\n",
       "         [4.5080429 , 0.        ],\n",
       "         [0.        , 0.        ],\n",
       "         [0.46563842, 0.        ],\n",
       "         [0.62861186, 0.        ],\n",
       "         [0.67168341, 0.        ],\n",
       "         [1.6679001 , 0.        ],\n",
       "         [1.99642544, 0.        ],\n",
       "         [2.06137231, 0.        ],\n",
       "         [2.02421095, 0.        ],\n",
       "         [2.9493633 , 0.        ],\n",
       "         [4.2124403 , 0.        ],\n",
       "         [0.        , 0.        ],\n",
       "         [1.62568723, 0.        ],\n",
       "         [3.19467775, 0.        ],\n",
       "         [3.69505382, 0.        ],\n",
       "         [3.77434511, 0.        ],\n",
       "         [3.69124545, 0.        ],\n",
       "         [3.54893022, 0.        ],\n",
       "         [3.38838252, 0.        ],\n",
       "         [3.22572292, 0.        ],\n",
       "         [3.06714058, 0.        ],\n",
       "         [2.91486508, 0.        ],\n",
       "         [2.76955444, 0.        ],\n",
       "         [2.63124976, 0.        ],\n",
       "         [2.49975649, 0.        ],\n",
       "         [2.37479635, 0.        ],\n",
       "         [2.25606761, 0.        ],\n",
       "         [2.14326866, 0.        ],\n",
       "         [2.036107  , 0.        ],\n",
       "         [1.93430235, 0.        ],\n",
       "         [1.83758752, 0.        ],\n",
       "         [1.74570826, 0.        ],\n",
       "         [1.65842289, 0.        ],\n",
       "         [1.57550176, 0.        ],\n",
       "         [1.49672668, 0.        ],\n",
       "         [1.42189035, 0.        ],\n",
       "         [1.35079584, 0.        ],\n",
       "         [1.28325604, 0.        ],\n",
       "         [1.21909324, 0.        ],\n",
       "         [1.15813858, 0.        ],\n",
       "         [1.10023165, 0.        ],\n",
       "         [1.04522007, 0.        ],\n",
       "         [0.99295907, 0.        ],\n",
       "         [0.94331111, 0.        ],\n",
       "         [0.89614556, 0.        ],\n",
       "         [0.85133828, 0.        ],\n",
       "         [0.80877136, 0.        ],\n",
       "         [0.7683328 , 0.        ]])}}"
      ]
     },
     "execution_count": 310,
     "metadata": {},
     "output_type": "execute_result"
    }
   ],
   "source": [
    "data_lif1"
   ]
  },
  {
   "cell_type": "code",
   "execution_count": 311,
   "metadata": {},
   "outputs": [
    {
     "data": {
      "text/plain": [
       "300"
      ]
     },
     "execution_count": 311,
     "metadata": {},
     "output_type": "execute_result"
    }
   ],
   "source": [
    "# Check the shape to verify if it is printing the voltage for every step\n",
    "len(data_lif1['lif1']['v'])     # Indeed, there are 300 values (same as the number of steps we ran the simulation for)"
   ]
  },
  {
   "cell_type": "markdown",
   "metadata": {},
   "source": [
    "### Plot the recorded data"
   ]
  },
  {
   "cell_type": "code",
   "execution_count": 312,
   "metadata": {},
   "outputs": [
    {
     "data": {
      "image/png": "[encoded data removed]",
      "text/plain": [
       "<Figure size 1600x500 with 1 Axes>"
      ]
     },
     "metadata": {},
     "output_type": "display_data"
    }
   ],
   "source": [
    "import matplotlib\n",
    "%matplotlib inline\n",
    "from matplotlib import pyplot as plt\n",
    "\n",
    "# Create a subplot for each monitored variable\n",
    "fig = plt.figure(figsize=(16, 5))\n",
    "ax0 = fig.add_subplot(121)\n",
    "\n",
    "# Plot the data\n",
    "monitor_lif1.plot(ax0, lif1.v)\n"
   ]
  },
  {
   "cell_type": "markdown",
   "metadata": {},
   "source": [
    "## Stop the Runtime"
   ]
  },
  {
   "cell_type": "code",
   "execution_count": 22,
   "metadata": {},
   "outputs": [],
   "source": [
    "lif1.stop()"
   ]
  },
  {
   "cell_type": "markdown",
   "metadata": {},
   "source": []
  }
 ],
 "metadata": {
  "kernelspec": {
   "display_name": "Python 3 (ipykernel)",
   "language": "python",
   "name": "python3"
  },
  "language_info": {
   "codemirror_mode": {
    "name": "ipython",
    "version": 3
   },
   "file_extension": ".py",
   "mimetype": "text/x-python",
   "name": "python",
   "nbconvert_exporter": "python",
   "pygments_lexer": "ipython3",
   "version": "3.10.12"
  }
 },
 "nbformat": 4,
 "nbformat_minor": 4
}
