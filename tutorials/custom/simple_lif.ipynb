{
 "cells": [
  {
   "cell_type": "markdown",
   "metadata": {},
   "source": [
    "# Practical Usage of Lava w/ custom input from the lab"
   ]
  },
  {
   "cell_type": "markdown",
   "metadata": {},
   "source": [
    "The input data from the lab used in this example consists of a sequence of timestamps where a specific neuron fired. The data is stored in a csv file, where each value is a timestamp (in milliseconds). \n",
    "\n",
    "Thus, the input layer only requires 1 connection at each timestep. We will assume the network contains 5 neurons for the sake of this example."
   ]
  },
  {
   "cell_type": "markdown",
   "metadata": {},
   "source": [
    "Let's start by defining the middle layer, the 2-layered feed-forward network of LIF neurons"
   ]
  },
  {
   "cell_type": "code",
   "execution_count": 131,
   "metadata": {},
   "outputs": [
    {
     "name": "stdout",
     "output_type": "stream",
     "text": [
      "\u001b[0;31mInit signature:\u001b[0m \u001b[0mLIF\u001b[0m\u001b[0;34m(\u001b[0m\u001b[0;34m*\u001b[0m\u001b[0margs\u001b[0m\u001b[0;34m,\u001b[0m \u001b[0;34m**\u001b[0m\u001b[0mkwargs\u001b[0m\u001b[0;34m)\u001b[0m\u001b[0;34m\u001b[0m\u001b[0;34m\u001b[0m\u001b[0m\n",
      "\u001b[0;31mDocstring:\u001b[0m     \n",
      "Leaky-Integrate-and-Fire (LIF) neural Process.\n",
      "\n",
      "LIF dynamics abstracts to:\n",
      "u[t] = u[t-1] * (1-du) + a_in         # neuron current\n",
      "v[t] = v[t-1] * (1-dv) + u[t] + bias  # neuron voltage\n",
      "s_out = v[t] > vth                    # spike if threshold is exceeded\n",
      "v[t] = 0                              # reset at spike\n",
      "\n",
      "Parameters\n",
      "----------\n",
      "shape : tuple(int)\n",
      "    Number and topology of LIF neurons.\n",
      "u : float, list, numpy.ndarray, optional\n",
      "    Initial value of the neurons' current.\n",
      "v : float, list, numpy.ndarray, optional\n",
      "    Initial value of the neurons' voltage (membrane potential).\n",
      "du : float, optional\n",
      "    Inverse of decay time-constant for current decay. Currently, only a\n",
      "    single decay can be set for the entire population of neurons.\n",
      "dv : float, optional\n",
      "    Inverse of decay time-constant for voltage decay. Currently, only a\n",
      "    single decay can be set for the entire population of neurons.\n",
      "bias_mant : float, list, numpy.ndarray, optional\n",
      "    Mantissa part of neuron bias.\n",
      "bias_exp : float, list, numpy.ndarray, optional\n",
      "    Exponent part of neuron bias, if needed. Mostly for fixed point\n",
      "    implementations. Ignored for floating point implementations.\n",
      "vth : float, optional\n",
      "    Neuron threshold voltage, exceeding which, the neuron will spike.\n",
      "    Currently, only a single threshold can be set for the entire\n",
      "    population of neurons.\n",
      "\n",
      "Example\n",
      "-------\n",
      ">>> lif = LIF(shape=(200, 15), du=10, dv=5)\n",
      "This will create 200x15 LIF neurons that all have the same current decay\n",
      "of 10 and voltage decay of 5.\n",
      "\u001b[0;31mInit docstring:\u001b[0m Initializes a new Process.\n",
      "\u001b[0;31mFile:\u001b[0m           ~/Desktop/feup/thesis/lava/src/lava/proc/lif/process.py\n",
      "\u001b[0;31mType:\u001b[0m           ProcessPostInitCaller\n",
      "\u001b[0;31mSubclasses:\u001b[0m     LIFReset, LIFRefractory"
     ]
    }
   ],
   "source": [
    "from lava.proc.lif.process import LIF\n",
    "from lava.proc.dense.process import Dense\n",
    "\n",
    "LIF?"
   ]
  },
  {
   "cell_type": "code",
   "execution_count": 132,
   "metadata": {},
   "outputs": [],
   "source": [
    "# Define the number of neurons in each LIF Layer\n",
    "n1 = 2   # Let's create a simple program with only 1 LIF layer"
   ]
  },
  {
   "cell_type": "code",
   "execution_count": 133,
   "metadata": {},
   "outputs": [],
   "source": [
    "import numpy as np\n",
    "\n",
    "# Create Processes\n",
    "lif1 = LIF(shape=(n1,),  # There are 5 neurons\n",
    "           vth=5,  # TODO: Verify these initial values\n",
    "           v=0,\n",
    "           dv=0.1,    # Inverse of decay time-constant for voltage decay\n",
    "           du=0.6,  # Inverse of decay time-constant for current decay\n",
    "           bias_mant=0,\n",
    "           bias_exp=0,\n",
    "           name=\"lif1\")"
   ]
  },
  {
   "cell_type": "markdown",
   "metadata": {},
   "source": [
    "Let's take a look at the ports and connections of the middle layer:"
   ]
  },
  {
   "cell_type": "code",
   "execution_count": 134,
   "metadata": {},
   "outputs": [
    {
     "name": "stdout",
     "output_type": "stream",
     "text": [
      "Proc: lif1  Port Name: a_in  Size: 2\n",
      "Proc: lif1  Port Name: s_out Size: 2\n"
     ]
    }
   ],
   "source": [
    "for proc in [lif1]:\n",
    "    for port in proc.in_ports:\n",
    "        print(f\"Proc: {proc.name:<5} Port Name: {port.name:<5} Size: {port.size}\")\n",
    "    for port in proc.out_ports:\n",
    "        print(f\"Proc: {proc.name:<5} Port Name: {port.name:<5} Size: {port.size}\")"
   ]
  },
  {
   "cell_type": "markdown",
   "metadata": {},
   "source": [
    "After verifying the input and output Ports of the middle layer, we can connect the network to complete the LIF-Dense-LIF structure"
   ]
  },
  {
   "cell_type": "markdown",
   "metadata": {},
   "source": [
    "## Create the Custom Input Layer"
   ]
  },
  {
   "cell_type": "markdown",
   "metadata": {},
   "source": [
    "### Define function to read the input data from the csv file and generate the corresponding spike events"
   ]
  },
  {
   "cell_type": "code",
   "execution_count": 135,
   "metadata": {},
   "outputs": [],
   "source": [
    "import pandas as pd\n",
    "\n",
    "def read_spike_events(file_path: str):\n",
    "    \"\"\"Reads the spike events from the input file and returns them as a numpy array\n",
    "\n",
    "    Args:\n",
    "        file_path (str): name of the file containing the spike events\n",
    "    \"\"\"\n",
    "    spike_events = []\n",
    "\n",
    "    try:\n",
    "        # Read the spike events from the file\n",
    "        df = pd.read_csv(file_path, header=None)\n",
    "\n",
    "        # Detect errors\n",
    "        if df.empty:\n",
    "            raise Exception(\"The input file is empty\")\n",
    "\n",
    "        # Convert the scientific notation values to integers if any exist\n",
    "        df = df.applymap(lambda x: int(float(x)) if (isinstance(x, str) and 'e' in x) else x)\n",
    "\n",
    "        # Convert the dataframe to a numpy array\n",
    "        spike_events = df.to_numpy()\n",
    "        return spike_events[0]\n",
    "    except Exception as e:\n",
    "        print(\"Unable to read the input file: \", file_path, \" error:\", e)\n",
    "\n",
    "    return spike_events"
   ]
  },
  {
   "cell_type": "code",
   "execution_count": 136,
   "metadata": {},
   "outputs": [
    {
     "name": "stdout",
     "output_type": "stream",
     "text": [
      "Spike events:  (1,) [100]\n"
     ]
    }
   ],
   "source": [
    "# Call the function to read the spike events\n",
    "file_path = \"./single_activation.csv\"\n",
    "spike_events = read_spike_events(file_path)\n",
    "print(\"Spike events: \", spike_events.shape, spike_events[:10])"
   ]
  },
  {
   "cell_type": "markdown",
   "metadata": {},
   "source": [
    "Define the SpikeEvent Generator Interface"
   ]
  },
  {
   "cell_type": "code",
   "execution_count": 137,
   "metadata": {},
   "outputs": [],
   "source": [
    "from lava.magma.core.process.process import AbstractProcess\n",
    "from lava.magma.core.process.variable import Var\n",
    "from lava.magma.core.process.ports.ports import OutPort\n",
    "\n",
    "class SpikeEventGen(AbstractProcess):\n",
    "    \"\"\"Input Process that generates spike events based on the input file\n",
    "\n",
    "    Args:\n",
    "        shape (tuple): Shape of the output port\n",
    "        file_name (str): Name of the file containing the spike events\n",
    "    \"\"\"\n",
    "    def __init__(self, shape: tuple, spike_events: np.ndarray, name: str) -> None:\n",
    "        super().__init__(name=name)\n",
    "        self.s_out = OutPort(shape=shape)\n",
    "        self.spike_events = Var(shape=spike_events.shape, init=spike_events)"
   ]
  },
  {
   "cell_type": "markdown",
   "metadata": {},
   "source": [
    "Implement the `SpikeEventGenerator` Model"
   ]
  },
  {
   "cell_type": "code",
   "execution_count": 138,
   "metadata": {},
   "outputs": [],
   "source": [
    "from lava.magma.core.model.py.model import PyLoihiProcessModel  # Processes running on CPU inherit from this class\n",
    "from lava.magma.core.resources import CPU\n",
    "from lava.magma.core.decorator import implements, requires\n",
    "from lava.magma.core.sync.protocols.loihi_protocol import LoihiProtocol\n",
    "from lava.magma.core.model.py.type import LavaPyType\n",
    "from lava.magma.core.model.py.ports import PyOutPort\n",
    "\n",
    "@implements(proc=SpikeEventGen, protocol=LoihiProtocol)\n",
    "@requires(CPU)\n",
    "class PySpikeEventGenModel(PyLoihiProcessModel):\n",
    "    \"\"\"Spike Event Generator Process implementation running on CPU (Python)\n",
    "    Args:\n",
    "    \"\"\"\n",
    "    s_out: PyOutPort = LavaPyType(PyOutPort.VEC_DENSE, float)   # IT IS POSSIBLE TO SEND FLOATS AFTER ALL\n",
    "    spike_events: np.ndarray = LavaPyType(np.ndarray, np.ndarray)   # TODO: Check if we should keep it as a numpy array, or transform it to a list\n",
    "\n",
    "    def __init__(self, proc_params) -> None:\n",
    "        super().__init__(proc_params=proc_params)\n",
    "        # print(\"spike events\", self.spike_events.__str__())    # TODO: Check why during initialization the variable prints the class, while during run it prints the value\n",
    "        self.curr_spike_idx = 0     # Index of the next spiking event to send\n",
    "        self.virtual_time_step_interval = 1    # Arbitrary time between time steps (in microseconds). This is not a real time interval (1000ms = 1s)\n",
    "        self.init_offset = 0              # Arbitrary offset to start the simulation (in microseconds)\n",
    "\n",
    "    def run_spk(self) -> None:\n",
    "        spike_data = np.zeros(self.s_out.shape) # Initialize the spike data to 0\n",
    "        \n",
    "        # Use random spikes to test it\n",
    "        # spike_data[0] = np.random.random()  # Only 1 neuron is sending data (spikes)\n",
    "        # self.curr_spike_idx += 1\n",
    "\n",
    "        # Use the spike events from the file\n",
    "        # print(\"spike events: \", self.spike_events[:5])\n",
    "        # TODO: For now we are using the time_step as the time measurement that will simulate real-time activity. It would be better to have access to the running time\n",
    "        \n",
    "        #print(\"time step:\", self.time_step)\n",
    "        # If the current simulation time is greater than the next spike event, send a spike\n",
    "        currTime = self.init_offset + self.time_step*self.virtual_time_step_interval\n",
    "        if ( self.curr_spike_idx < len(self.spike_events) ) and currTime >= self.spike_events[self.curr_spike_idx]:\n",
    "            spike_data[0] = 1.0   # Send a spike  (value corresponds to the punctual current of the spike event?)\n",
    "            spike_data[1] = 0.0   # Send a spike  (value corresponds to the punctual current of the spike event?)\n",
    "            print(f\"sending spike event at time: {currTime}({self.time_step}) spike idx: {self.curr_spike_idx} spike time: {self.spike_events[self.curr_spike_idx]}\")\n",
    "            self.curr_spike_idx += 1\n",
    "\n",
    "        # Send spikes\n",
    "        # print(\"sending spike_data: \", spike_data, \" at step: \", self.time_step)\n",
    "        self.s_out.send(spike_data)\n",
    "\n",
    "        # Stop the Process if there are no more spike events to send. (It will stop all the connected processes)\n",
    "        # TODO: Should it be another process that stops the simulation? Such as the last LIF process\n",
    "        # if self.curr_spike_idx >= 5: # len(self.spike_events):\n",
    "        #    self.pause()\n"
   ]
  },
  {
   "cell_type": "markdown",
   "metadata": {},
   "source": [
    "## Connect the Custom Input Layer to the middle layer"
   ]
  },
  {
   "cell_type": "markdown",
   "metadata": {},
   "source": [
    "To define the connectivity between the `SpikeGenerator` and the first `LIF` population, we use another `Dense` Layer."
   ]
  },
  {
   "cell_type": "code",
   "execution_count": 139,
   "metadata": {},
   "outputs": [],
   "source": [
    "# Create the Input Process\n",
    "spike_event_gen = SpikeEventGen(shape=(n1,), spike_events=spike_events, name=\"CustomInput\")\n",
    "\n",
    "# Instantiante a Dense Layer to connect the SpikeEventGen to the middle layer\n",
    "dense_input = Dense(weights=np.eye(n1), name=\"DenseInput\")     # 1-1 connectivity with the Middle Layer (should be a 2x2 matrix right now)\n",
    "\n",
    "# Connect the SpikeEventGen to the Dense Layer\n",
    "spike_event_gen.s_out.connect(dense_input.s_in)\n",
    "\n",
    "# Connect the Dense_Input to the LIF1 Layer\n",
    "dense_input.a_out.connect(lif1.a_in)"
   ]
  },
  {
   "cell_type": "markdown",
   "metadata": {},
   "source": [
    "### Take a look at the connections in the Input Layer"
   ]
  },
  {
   "cell_type": "code",
   "execution_count": 140,
   "metadata": {},
   "outputs": [
    {
     "name": "stdout",
     "output_type": "stream",
     "text": [
      "Proc: CustomInput Port Name: s_out Size: 2\n",
      "Proc: DenseInput Port Name: s_in  Size: 2\n",
      "Proc: DenseInput Port Name: a_out Size: 2\n",
      "Proc: lif1  Port Name: a_in  Size: 2\n",
      "Proc: lif1  Port Name: s_out Size: 2\n"
     ]
    }
   ],
   "source": [
    "for proc in [spike_event_gen, dense_input, lif1]:\n",
    "    for port in proc.in_ports:\n",
    "        print(f\"Proc: {proc.name:<5} Port Name: {port.name:<5} Size: {port.size}\")\n",
    "    for port in proc.out_ports:\n",
    "        print(f\"Proc: {proc.name:<5} Port Name: {port.name:<5} Size: {port.size}\")"
   ]
  },
  {
   "cell_type": "markdown",
   "metadata": {},
   "source": [
    "Weights of the Input Dense Layer"
   ]
  },
  {
   "cell_type": "code",
   "execution_count": 141,
   "metadata": {},
   "outputs": [
    {
     "data": {
      "text/plain": [
       "array([[1., 0.],\n",
       "       [0., 1.]])"
      ]
     },
     "execution_count": 141,
     "metadata": {},
     "output_type": "execute_result"
    }
   ],
   "source": [
    "dense_input.weights.get()"
   ]
  },
  {
   "cell_type": "markdown",
   "metadata": {},
   "source": [
    "### Record Internal Vars over time\n",
    "To record the evolution of the internal variables over time, we need a `Monitor`. For this example, we want to record the membrane potential of the `LIF` Layer, hence we need 1 `Monitors`.\n",
    "\n",
    "We can define the `Var` that a `Monitor` should record, as well as the recording duration, using the `probe` function"
   ]
  },
  {
   "cell_type": "code",
   "execution_count": 142,
   "metadata": {},
   "outputs": [],
   "source": [
    "from lava.proc.monitor.process import Monitor\n",
    "\n",
    "monitor_lif1 = Monitor()\n",
    "\n",
    "num_steps = 300     # TODO: Check the number of steps to run the simulation for\n",
    "\n",
    "# Connect the monitors to the variables we want to monitor\n",
    "monitor_lif1.probe(lif1.v, num_steps)"
   ]
  },
  {
   "cell_type": "markdown",
   "metadata": {},
   "source": [
    "## Execution\n",
    "Now that we have defined the network, we can execute it. We will use the `run` function to execute the network."
   ]
  },
  {
   "cell_type": "markdown",
   "metadata": {},
   "source": [
    "### Run Configuration and Conditions"
   ]
  },
  {
   "cell_type": "code",
   "execution_count": 143,
   "metadata": {},
   "outputs": [],
   "source": [
    "from lava.magma.core.run_conditions import RunContinuous, RunSteps\n",
    "from lava.magma.core.run_configs import Loihi1SimCfg\n",
    "\n",
    "# run_condition = RunContinuous()   # TODO: Change to this one\n",
    "run_condition = RunSteps(num_steps=num_steps)\n",
    "run_cfg = Loihi1SimCfg(select_tag=\"floating_pt\")   # TODO: Check why we need this select_tag=\"floating_pt\""
   ]
  },
  {
   "cell_type": "markdown",
   "metadata": {},
   "source": [
    "### Execute"
   ]
  },
  {
   "cell_type": "code",
   "execution_count": 144,
   "metadata": {},
   "outputs": [
    {
     "name": "stdout",
     "output_type": "stream",
     "text": [
      "sending spike event at time: 100(100) spike idx: 0 spike time: 100\n"
     ]
    }
   ],
   "source": [
    "lif1.run(condition=run_condition, run_cfg=run_cfg)"
   ]
  },
  {
   "cell_type": "markdown",
   "metadata": {},
   "source": [
    "### Retrieve recorded data"
   ]
  },
  {
   "cell_type": "code",
   "execution_count": 145,
   "metadata": {},
   "outputs": [],
   "source": [
    "data_lif1 = monitor_lif1.get_data()"
   ]
  },
  {
   "cell_type": "code",
   "execution_count": 146,
   "metadata": {},
   "outputs": [
    {
     "data": {
      "text/plain": [
       "{'lif1': {'v': array([[0.00000000e+00, 0.00000000e+00],\n",
       "         [0.00000000e+00, 0.00000000e+00],\n",
       "         [0.00000000e+00, 0.00000000e+00],\n",
       "         [0.00000000e+00, 0.00000000e+00],\n",
       "         [0.00000000e+00, 0.00000000e+00],\n",
       "         [0.00000000e+00, 0.00000000e+00],\n",
       "         [0.00000000e+00, 0.00000000e+00],\n",
       "         [0.00000000e+00, 0.00000000e+00],\n",
       "         [0.00000000e+00, 0.00000000e+00],\n",
       "         [0.00000000e+00, 0.00000000e+00],\n",
       "         [0.00000000e+00, 0.00000000e+00],\n",
       "         [0.00000000e+00, 0.00000000e+00],\n",
       "         [0.00000000e+00, 0.00000000e+00],\n",
       "         [0.00000000e+00, 0.00000000e+00],\n",
       "         [0.00000000e+00, 0.00000000e+00],\n",
       "         [0.00000000e+00, 0.00000000e+00],\n",
       "         [0.00000000e+00, 0.00000000e+00],\n",
       "         [0.00000000e+00, 0.00000000e+00],\n",
       "         [0.00000000e+00, 0.00000000e+00],\n",
       "         [0.00000000e+00, 0.00000000e+00],\n",
       "         [0.00000000e+00, 0.00000000e+00],\n",
       "         [0.00000000e+00, 0.00000000e+00],\n",
       "         [0.00000000e+00, 0.00000000e+00],\n",
       "         [0.00000000e+00, 0.00000000e+00],\n",
       "         [0.00000000e+00, 0.00000000e+00],\n",
       "         [0.00000000e+00, 0.00000000e+00],\n",
       "         [0.00000000e+00, 0.00000000e+00],\n",
       "         [0.00000000e+00, 0.00000000e+00],\n",
       "         [0.00000000e+00, 0.00000000e+00],\n",
       "         [0.00000000e+00, 0.00000000e+00],\n",
       "         [0.00000000e+00, 0.00000000e+00],\n",
       "         [0.00000000e+00, 0.00000000e+00],\n",
       "         [0.00000000e+00, 0.00000000e+00],\n",
       "         [0.00000000e+00, 0.00000000e+00],\n",
       "         [0.00000000e+00, 0.00000000e+00],\n",
       "         [0.00000000e+00, 0.00000000e+00],\n",
       "         [0.00000000e+00, 0.00000000e+00],\n",
       "         [0.00000000e+00, 0.00000000e+00],\n",
       "         [0.00000000e+00, 0.00000000e+00],\n",
       "         [0.00000000e+00, 0.00000000e+00],\n",
       "         [0.00000000e+00, 0.00000000e+00],\n",
       "         [0.00000000e+00, 0.00000000e+00],\n",
       "         [0.00000000e+00, 0.00000000e+00],\n",
       "         [0.00000000e+00, 0.00000000e+00],\n",
       "         [0.00000000e+00, 0.00000000e+00],\n",
       "         [0.00000000e+00, 0.00000000e+00],\n",
       "         [0.00000000e+00, 0.00000000e+00],\n",
       "         [0.00000000e+00, 0.00000000e+00],\n",
       "         [0.00000000e+00, 0.00000000e+00],\n",
       "         [0.00000000e+00, 0.00000000e+00],\n",
       "         [0.00000000e+00, 0.00000000e+00],\n",
       "         [0.00000000e+00, 0.00000000e+00],\n",
       "         [0.00000000e+00, 0.00000000e+00],\n",
       "         [0.00000000e+00, 0.00000000e+00],\n",
       "         [0.00000000e+00, 0.00000000e+00],\n",
       "         [0.00000000e+00, 0.00000000e+00],\n",
       "         [0.00000000e+00, 0.00000000e+00],\n",
       "         [0.00000000e+00, 0.00000000e+00],\n",
       "         [0.00000000e+00, 0.00000000e+00],\n",
       "         [0.00000000e+00, 0.00000000e+00],\n",
       "         [0.00000000e+00, 0.00000000e+00],\n",
       "         [0.00000000e+00, 0.00000000e+00],\n",
       "         [0.00000000e+00, 0.00000000e+00],\n",
       "         [0.00000000e+00, 0.00000000e+00],\n",
       "         [0.00000000e+00, 0.00000000e+00],\n",
       "         [0.00000000e+00, 0.00000000e+00],\n",
       "         [0.00000000e+00, 0.00000000e+00],\n",
       "         [0.00000000e+00, 0.00000000e+00],\n",
       "         [0.00000000e+00, 0.00000000e+00],\n",
       "         [0.00000000e+00, 0.00000000e+00],\n",
       "         [0.00000000e+00, 0.00000000e+00],\n",
       "         [0.00000000e+00, 0.00000000e+00],\n",
       "         [0.00000000e+00, 0.00000000e+00],\n",
       "         [0.00000000e+00, 0.00000000e+00],\n",
       "         [0.00000000e+00, 0.00000000e+00],\n",
       "         [0.00000000e+00, 0.00000000e+00],\n",
       "         [0.00000000e+00, 0.00000000e+00],\n",
       "         [0.00000000e+00, 0.00000000e+00],\n",
       "         [0.00000000e+00, 0.00000000e+00],\n",
       "         [0.00000000e+00, 0.00000000e+00],\n",
       "         [0.00000000e+00, 0.00000000e+00],\n",
       "         [0.00000000e+00, 0.00000000e+00],\n",
       "         [0.00000000e+00, 0.00000000e+00],\n",
       "         [0.00000000e+00, 0.00000000e+00],\n",
       "         [0.00000000e+00, 0.00000000e+00],\n",
       "         [0.00000000e+00, 0.00000000e+00],\n",
       "         [0.00000000e+00, 0.00000000e+00],\n",
       "         [0.00000000e+00, 0.00000000e+00],\n",
       "         [0.00000000e+00, 0.00000000e+00],\n",
       "         [0.00000000e+00, 0.00000000e+00],\n",
       "         [0.00000000e+00, 0.00000000e+00],\n",
       "         [0.00000000e+00, 0.00000000e+00],\n",
       "         [0.00000000e+00, 0.00000000e+00],\n",
       "         [0.00000000e+00, 0.00000000e+00],\n",
       "         [0.00000000e+00, 0.00000000e+00],\n",
       "         [0.00000000e+00, 0.00000000e+00],\n",
       "         [0.00000000e+00, 0.00000000e+00],\n",
       "         [0.00000000e+00, 0.00000000e+00],\n",
       "         [0.00000000e+00, 0.00000000e+00],\n",
       "         [0.00000000e+00, 0.00000000e+00],\n",
       "         [1.00000000e+00, 0.00000000e+00],\n",
       "         [1.30000000e+00, 0.00000000e+00],\n",
       "         [1.33000000e+00, 0.00000000e+00],\n",
       "         [1.26100000e+00, 0.00000000e+00],\n",
       "         [1.16050000e+00, 0.00000000e+00],\n",
       "         [1.05469000e+00, 0.00000000e+00],\n",
       "         [9.53317000e-01, 0.00000000e+00],\n",
       "         [8.59623700e-01, 0.00000000e+00],\n",
       "         [7.74316690e-01, 0.00000000e+00],\n",
       "         [6.97147165e-01, 0.00000000e+00],\n",
       "         [6.27537306e-01, 0.00000000e+00],\n",
       "         [5.64825519e-01, 0.00000000e+00],\n",
       "         [5.08359744e-01, 0.00000000e+00],\n",
       "         [4.57530480e-01, 0.00000000e+00],\n",
       "         [4.11780117e-01, 0.00000000e+00],\n",
       "         [3.70603179e-01, 0.00000000e+00],\n",
       "         [3.33543290e-01, 0.00000000e+00],\n",
       "         [3.00189133e-01, 0.00000000e+00],\n",
       "         [2.70170289e-01, 0.00000000e+00],\n",
       "         [2.43153287e-01, 0.00000000e+00],\n",
       "         [2.18837969e-01, 0.00000000e+00],\n",
       "         [1.96954177e-01, 0.00000000e+00],\n",
       "         [1.77258761e-01, 0.00000000e+00],\n",
       "         [1.59532886e-01, 0.00000000e+00],\n",
       "         [1.43579597e-01, 0.00000000e+00],\n",
       "         [1.29221638e-01, 0.00000000e+00],\n",
       "         [1.16299474e-01, 0.00000000e+00],\n",
       "         [1.04669527e-01, 0.00000000e+00],\n",
       "         [9.42025739e-02, 0.00000000e+00],\n",
       "         [8.47823165e-02, 0.00000000e+00],\n",
       "         [7.63040849e-02, 0.00000000e+00],\n",
       "         [6.86736764e-02, 0.00000000e+00],\n",
       "         [6.18063088e-02, 0.00000000e+00],\n",
       "         [5.56256779e-02, 0.00000000e+00],\n",
       "         [5.00631101e-02, 0.00000000e+00],\n",
       "         [4.50567991e-02, 0.00000000e+00],\n",
       "         [4.05511192e-02, 0.00000000e+00],\n",
       "         [3.64960073e-02, 0.00000000e+00],\n",
       "         [3.28464065e-02, 0.00000000e+00],\n",
       "         [2.95617659e-02, 0.00000000e+00],\n",
       "         [2.66055893e-02, 0.00000000e+00],\n",
       "         [2.39450304e-02, 0.00000000e+00],\n",
       "         [2.15505273e-02, 0.00000000e+00],\n",
       "         [1.93954746e-02, 0.00000000e+00],\n",
       "         [1.74559271e-02, 0.00000000e+00],\n",
       "         [1.57103344e-02, 0.00000000e+00],\n",
       "         [1.41393010e-02, 0.00000000e+00],\n",
       "         [1.27253709e-02, 0.00000000e+00],\n",
       "         [1.14528338e-02, 0.00000000e+00],\n",
       "         [1.03075504e-02, 0.00000000e+00],\n",
       "         [9.27679537e-03, 0.00000000e+00],\n",
       "         [8.34911584e-03, 0.00000000e+00],\n",
       "         [7.51420425e-03, 0.00000000e+00],\n",
       "         [6.76278383e-03, 0.00000000e+00],\n",
       "         [6.08650544e-03, 0.00000000e+00],\n",
       "         [5.47785490e-03, 0.00000000e+00],\n",
       "         [4.93006941e-03, 0.00000000e+00],\n",
       "         [4.43706247e-03, 0.00000000e+00],\n",
       "         [3.99335622e-03, 0.00000000e+00],\n",
       "         [3.59402060e-03, 0.00000000e+00],\n",
       "         [3.23461854e-03, 0.00000000e+00],\n",
       "         [2.91115669e-03, 0.00000000e+00],\n",
       "         [2.62004102e-03, 0.00000000e+00],\n",
       "         [2.35803692e-03, 0.00000000e+00],\n",
       "         [2.12223322e-03, 0.00000000e+00],\n",
       "         [1.91000990e-03, 0.00000000e+00],\n",
       "         [1.71900891e-03, 0.00000000e+00],\n",
       "         [1.54710802e-03, 0.00000000e+00],\n",
       "         [1.39239722e-03, 0.00000000e+00],\n",
       "         [1.25315750e-03, 0.00000000e+00],\n",
       "         [1.12784175e-03, 0.00000000e+00],\n",
       "         [1.01505757e-03, 0.00000000e+00],\n",
       "         [9.13551815e-04, 0.00000000e+00],\n",
       "         [8.22196633e-04, 0.00000000e+00],\n",
       "         [7.39976970e-04, 0.00000000e+00],\n",
       "         [6.65979273e-04, 0.00000000e+00],\n",
       "         [5.99381346e-04, 0.00000000e+00],\n",
       "         [5.39443211e-04, 0.00000000e+00],\n",
       "         [4.85498890e-04, 0.00000000e+00],\n",
       "         [4.36949001e-04, 0.00000000e+00],\n",
       "         [3.93254101e-04, 0.00000000e+00],\n",
       "         [3.53928691e-04, 0.00000000e+00],\n",
       "         [3.18535822e-04, 0.00000000e+00],\n",
       "         [2.86682240e-04, 0.00000000e+00],\n",
       "         [2.58014016e-04, 0.00000000e+00],\n",
       "         [2.32212614e-04, 0.00000000e+00],\n",
       "         [2.08991353e-04, 0.00000000e+00],\n",
       "         [1.88092217e-04, 0.00000000e+00],\n",
       "         [1.69282996e-04, 0.00000000e+00],\n",
       "         [1.52354696e-04, 0.00000000e+00],\n",
       "         [1.37119226e-04, 0.00000000e+00],\n",
       "         [1.23407304e-04, 0.00000000e+00],\n",
       "         [1.11066573e-04, 0.00000000e+00],\n",
       "         [9.99599161e-05, 0.00000000e+00],\n",
       "         [8.99639245e-05, 0.00000000e+00],\n",
       "         [8.09675320e-05, 0.00000000e+00],\n",
       "         [7.28707788e-05, 0.00000000e+00],\n",
       "         [6.55837010e-05, 0.00000000e+00],\n",
       "         [5.90253309e-05, 0.00000000e+00],\n",
       "         [5.31227978e-05, 0.00000000e+00],\n",
       "         [4.78105180e-05, 0.00000000e+00],\n",
       "         [4.30294662e-05, 0.00000000e+00],\n",
       "         [3.87265196e-05, 0.00000000e+00],\n",
       "         [3.48538676e-05, 0.00000000e+00],\n",
       "         [3.13684809e-05, 0.00000000e+00],\n",
       "         [2.82316328e-05, 0.00000000e+00],\n",
       "         [2.54084695e-05, 0.00000000e+00],\n",
       "         [2.28676225e-05, 0.00000000e+00],\n",
       "         [2.05808603e-05, 0.00000000e+00],\n",
       "         [1.85227743e-05, 0.00000000e+00],\n",
       "         [1.66704968e-05, 0.00000000e+00],\n",
       "         [1.50034472e-05, 0.00000000e+00],\n",
       "         [1.35031024e-05, 0.00000000e+00],\n",
       "         [1.21527922e-05, 0.00000000e+00],\n",
       "         [1.09375130e-05, 0.00000000e+00],\n",
       "         [9.84376168e-06, 0.00000000e+00],\n",
       "         [8.85938551e-06, 0.00000000e+00],\n",
       "         [7.97344696e-06, 0.00000000e+00],\n",
       "         [7.17610226e-06, 0.00000000e+00],\n",
       "         [6.45849204e-06, 0.00000000e+00],\n",
       "         [5.81264283e-06, 0.00000000e+00],\n",
       "         [5.23137855e-06, 0.00000000e+00],\n",
       "         [4.70824069e-06, 0.00000000e+00],\n",
       "         [4.23741662e-06, 0.00000000e+00],\n",
       "         [3.81367496e-06, 0.00000000e+00],\n",
       "         [3.43230747e-06, 0.00000000e+00],\n",
       "         [3.08907672e-06, 0.00000000e+00],\n",
       "         [2.78016905e-06, 0.00000000e+00],\n",
       "         [2.50215214e-06, 0.00000000e+00],\n",
       "         [2.25193693e-06, 0.00000000e+00],\n",
       "         [2.02674324e-06, 0.00000000e+00],\n",
       "         [1.82406891e-06, 0.00000000e+00],\n",
       "         [1.64166202e-06, 0.00000000e+00],\n",
       "         [1.47749582e-06, 0.00000000e+00],\n",
       "         [1.32974624e-06, 0.00000000e+00],\n",
       "         [1.19677161e-06, 0.00000000e+00],\n",
       "         [1.07709445e-06, 0.00000000e+00],\n",
       "         [9.69385007e-07, 0.00000000e+00],\n",
       "         [8.72446506e-07, 0.00000000e+00],\n",
       "         [7.85201855e-07, 0.00000000e+00],\n",
       "         [7.06681670e-07, 0.00000000e+00],\n",
       "         [6.36013503e-07, 0.00000000e+00],\n",
       "         [5.72412153e-07, 0.00000000e+00],\n",
       "         [5.15170937e-07, 0.00000000e+00],\n",
       "         [4.63653844e-07, 0.00000000e+00],\n",
       "         [4.17288459e-07, 0.00000000e+00],\n",
       "         [3.75559613e-07, 0.00000000e+00],\n",
       "         [3.38003652e-07, 0.00000000e+00],\n",
       "         [3.04203287e-07, 0.00000000e+00],\n",
       "         [2.73782958e-07, 0.00000000e+00],\n",
       "         [2.46404662e-07, 0.00000000e+00],\n",
       "         [2.21764196e-07, 0.00000000e+00],\n",
       "         [1.99587776e-07, 0.00000000e+00],\n",
       "         [1.79628999e-07, 0.00000000e+00],\n",
       "         [1.61666099e-07, 0.00000000e+00],\n",
       "         [1.45499489e-07, 0.00000000e+00],\n",
       "         [1.30949540e-07, 0.00000000e+00],\n",
       "         [1.17854586e-07, 0.00000000e+00],\n",
       "         [1.06069128e-07, 0.00000000e+00],\n",
       "         [9.54622148e-08, 0.00000000e+00],\n",
       "         [8.59159933e-08, 0.00000000e+00],\n",
       "         [7.73243940e-08, 0.00000000e+00],\n",
       "         [6.95919546e-08, 0.00000000e+00],\n",
       "         [6.26327591e-08, 0.00000000e+00],\n",
       "         [5.63694832e-08, 0.00000000e+00],\n",
       "         [5.07325349e-08, 0.00000000e+00],\n",
       "         [4.56592814e-08, 0.00000000e+00],\n",
       "         [4.10933532e-08, 0.00000000e+00],\n",
       "         [3.69840179e-08, 0.00000000e+00],\n",
       "         [3.32856161e-08, 0.00000000e+00],\n",
       "         [2.99570545e-08, 0.00000000e+00],\n",
       "         [2.69613491e-08, 0.00000000e+00],\n",
       "         [2.42652142e-08, 0.00000000e+00],\n",
       "         [2.18386927e-08, 0.00000000e+00],\n",
       "         [1.96548235e-08, 0.00000000e+00],\n",
       "         [1.76893411e-08, 0.00000000e+00],\n",
       "         [1.59204070e-08, 0.00000000e+00],\n",
       "         [1.43283663e-08, 0.00000000e+00],\n",
       "         [1.28955297e-08, 0.00000000e+00],\n",
       "         [1.16059767e-08, 0.00000000e+00],\n",
       "         [1.04453790e-08, 0.00000000e+00],\n",
       "         [9.40084114e-09, 0.00000000e+00],\n",
       "         [8.46075702e-09, 0.00000000e+00],\n",
       "         [7.61468132e-09, 0.00000000e+00],\n",
       "         [6.85321319e-09, 0.00000000e+00],\n",
       "         [6.16789187e-09, 0.00000000e+00],\n",
       "         [5.55110268e-09, 0.00000000e+00],\n",
       "         [4.99599241e-09, 0.00000000e+00],\n",
       "         [4.49639317e-09, 0.00000000e+00],\n",
       "         [4.04675386e-09, 0.00000000e+00],\n",
       "         [3.64207847e-09, 0.00000000e+00],\n",
       "         [3.27787062e-09, 0.00000000e+00],\n",
       "         [2.95008356e-09, 0.00000000e+00],\n",
       "         [2.65507520e-09, 0.00000000e+00],\n",
       "         [2.38956768e-09, 0.00000000e+00],\n",
       "         [2.15061092e-09, 0.00000000e+00],\n",
       "         [1.93554982e-09, 0.00000000e+00],\n",
       "         [1.74199484e-09, 0.00000000e+00],\n",
       "         [1.56779536e-09, 0.00000000e+00],\n",
       "         [1.41101582e-09, 0.00000000e+00]])}}"
      ]
     },
     "execution_count": 146,
     "metadata": {},
     "output_type": "execute_result"
    }
   ],
   "source": [
    "data_lif1"
   ]
  },
  {
   "cell_type": "code",
   "execution_count": 147,
   "metadata": {},
   "outputs": [
    {
     "data": {
      "text/plain": [
       "300"
      ]
     },
     "execution_count": 147,
     "metadata": {},
     "output_type": "execute_result"
    }
   ],
   "source": [
    "# Check the shape to verify if it is printing the voltage for every step\n",
    "len(data_lif1['lif1']['v'])     # Indeed, there are 300 values (same as the number of steps we ran the simulation for)"
   ]
  },
  {
   "cell_type": "markdown",
   "metadata": {},
   "source": [
    "### Plot the recorded data"
   ]
  },
  {
   "cell_type": "code",
   "execution_count": 148,
   "metadata": {},
   "outputs": [
    {
     "data": {
      "image/png": "[encoded data removed]",
      "text/plain": [
       "<Figure size 1600x500 with 1 Axes>"
      ]
     },
     "metadata": {},
     "output_type": "display_data"
    }
   ],
   "source": [
    "import matplotlib\n",
    "%matplotlib inline\n",
    "from matplotlib import pyplot as plt\n",
    "\n",
    "# Create a subplot for each monitored variable\n",
    "fig = plt.figure(figsize=(16, 5))\n",
    "ax0 = fig.add_subplot(121)\n",
    "\n",
    "# Plot the data\n",
    "monitor_lif1.plot(ax0, lif1.v)\n"
   ]
  },
  {
   "cell_type": "markdown",
   "metadata": {},
   "source": [
    "### Find the time step where the Voltage got to 1/e of the maximum value"
   ]
  },
  {
   "cell_type": "code",
   "execution_count": 149,
   "metadata": {},
   "outputs": [
    {
     "name": "stdout",
     "output_type": "stream",
     "text": [
      "Stimuli start: 102 Stimuli end: 113 Voltage max: 1.33\n"
     ]
    }
   ],
   "source": [
    "voltage_vals = data_lif1['lif1']['v']\n",
    "\n",
    "v_max = 0\n",
    "stimuli_start = 0\n",
    "stimuli_end = 0\n",
    "for (idx, v) in enumerate(voltage_vals):\n",
    "    v0, v1 = v\n",
    "    if v0 > v_max:  # Found the stimulation point\n",
    "        v_max = v0\n",
    "        stimuli_start = idx\n",
    "    else:\n",
    "        if v_max > 0:   # The stimulation was already found -> Exponential decay\n",
    "            if v0 <= v_max / np.e:  # Found the timestep when the voltage is 1/e of the maximum\n",
    "                stimuli_end = idx\n",
    "                break\n",
    "        else:   # The stimulation was not found yet\n",
    "            continue\n",
    "\n",
    "\n",
    "print(f\"Stimuli start: {stimuli_start} Stimuli end: {stimuli_end} Voltage max: {v_max}\")\n",
    "\n",
    "\n"
   ]
  },
  {
   "cell_type": "markdown",
   "metadata": {},
   "source": [
    "## Stop the Runtime"
   ]
  },
  {
   "cell_type": "code",
   "execution_count": null,
   "metadata": {},
   "outputs": [],
   "source": [
    "lif1.stop()"
   ]
  },
  {
   "cell_type": "markdown",
   "metadata": {},
   "source": []
  }
 ],
 "metadata": {
  "kernelspec": {
   "display_name": "Python 3 (ipykernel)",
   "language": "python",
   "name": "python3"
  },
  "language_info": {
   "codemirror_mode": {
    "name": "ipython",
    "version": 3
   },
   "file_extension": ".py",
   "mimetype": "text/x-python",
   "name": "python",
   "nbconvert_exporter": "python",
   "pygments_lexer": "ipython3",
   "version": "3.10.12"
  }
 },
 "nbformat": 4,
 "nbformat_minor": 4
}
