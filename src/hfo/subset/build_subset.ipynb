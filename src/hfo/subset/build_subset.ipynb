{
 "cells": [
  {
   "cell_type": "markdown",
   "metadata": {},
   "source": [
    "# Build subset of SEEG recording containing relevant HFOs and some background activity\n"
   ]
  },
  {
   "cell_type": "markdown",
   "metadata": {},
   "source": [
    "### Check WD (change if necessary) and file loading"
   ]
  },
  {
   "cell_type": "code",
   "execution_count": 15,
   "metadata": {},
   "outputs": [
    {
     "name": "stdout",
     "output_type": "stream",
     "text": [
      "/home/monkin/Desktop/feup/thesis/thesis-lava/src/hfo/subset\n"
     ]
    }
   ],
   "source": [
    "# Show current directory\n",
    "import os\n",
    "curr_dir = os.getcwd()\n",
    "print(curr_dir)\n",
    "\n",
    "# Check if the current WD is the file location\n",
    "if \"/src/hfo/subset\" not in os.getcwd():\n",
    "    # Set working directory to this file location\n",
    "    file_location = f\"{os.getcwd()}/thesis-lava/src/hfo/subset\"\n",
    "    print(\"File Location: \", file_location)\n",
    "\n",
    "    # Change the current working Directory\n",
    "    os.chdir(file_location)\n",
    "\n",
    "    # New Working Directory\n",
    "    print(\"New Working Directory: \", os.getcwd())\n",
    "\n",
    "PATH_TO_FILE = '' # 'src/hfo/'  # This is needed if the WD is not the same as the file location"
   ]
  },
  {
   "cell_type": "markdown",
   "metadata": {},
   "source": [
    "## Choose if we are using the ripple band, fast ripple band or both at the same time"
   ]
  },
  {
   "cell_type": "code",
   "execution_count": 16,
   "metadata": {},
   "outputs": [],
   "source": [
    "from utils.input import MarkerType\n",
    "\n",
    "# chosen band\n",
    "chosen_band = MarkerType.RIPPLE     # RIPPLE, FAST_RIPPLE, or BOTH\n",
    "\n",
    "file_suffix = ''\n",
    "if chosen_band == MarkerType.RIPPLE:\n",
    "    file_suffix = '_ripple_band'\n",
    "elif chosen_band == MarkerType.FAST_RIPPLE:\n",
    "    file_suffix = '_fr_band'\n",
    "else:\n",
    "    file_suffix = '_both_bands'\n",
    "# If both bands are used, no suffix is needed"
   ]
  },
  {
   "cell_type": "code",
   "execution_count": 17,
   "metadata": {},
   "outputs": [
    {
     "name": "stdout",
     "output_type": "stream",
     "text": [
      "Data shape:  (245760, 30)\n",
      "First time steps:  [[ 1.84829940e-04  4.37174409e-06  2.71047998e-04  9.56092800e-05\n",
      "   3.69719302e-04 ... -5.77643495e-04 -1.35636408e-03 -5.28126862e-04\n",
      "  -6.84353879e-04 -5.91987150e-04]\n",
      " [ 1.37975809e-03 -2.33040380e-04  1.61508759e-03  6.13719991e-04\n",
      "   2.90657316e-03 ... -5.14801662e-03 -1.23772766e-02 -4.77473965e-03\n",
      "  -5.44621734e-03 -5.34139889e-03]\n",
      " [ 3.92964380e-03 -3.06118826e-03  2.97532191e-03  8.55872179e-04\n",
      "   1.10917261e-02 ... -2.23060233e-02 -5.32362499e-02 -2.06351304e-02\n",
      "  -2.05310798e-02 -2.27491617e-02]\n",
      " [ 3.17023234e-03 -1.71566387e-02 -3.48900098e-03 -3.68384663e-03\n",
      "   2.86181389e-02 ... -6.22837269e-02 -1.42782212e-01 -5.67303129e-02\n",
      "  -4.97123145e-02 -6.10809133e-02]\n",
      " [-1.28319667e-02 -5.79471122e-02 -3.12810671e-02 -1.89557456e-02\n",
      "   5.96898282e-02 ... -1.22912538e-01 -2.63603038e-01 -1.11133673e-01\n",
      "  -8.80023720e-02 -1.15612746e-01]\n",
      " [-5.38320479e-02 -1.32887610e-01 -8.74300199e-02 -4.17567969e-02\n",
      "   1.11892550e-01 ... -1.72840862e-01 -3.40131501e-01 -1.64393732e-01\n",
      "  -1.20291832e-01 -1.60404225e-01]\n",
      " [-1.08857377e-01 -2.16564066e-01 -1.58434526e-01 -5.47138194e-02\n",
      "   1.91005825e-01 ... -1.55747803e-01 -2.69281005e-01 -1.88407396e-01\n",
      "  -1.25366479e-01 -1.57051282e-01]\n",
      " [-1.36548961e-01 -2.46556770e-01 -2.05707092e-01 -3.93995467e-02\n",
      "   2.79459756e-01 ... -2.93022226e-02  6.48326820e-03 -1.62491199e-01\n",
      "  -8.63064418e-02 -7.89478255e-02]\n",
      " [-8.38324194e-02 -1.59232608e-01 -1.75829915e-01  2.12020623e-03\n",
      "   3.16628738e-01 ...  1.88540784e-01  4.37460438e-01 -7.75889090e-02\n",
      "  -2.23016109e-03  6.54370637e-02]\n",
      " [ 6.96845981e-02  6.26077674e-02 -2.63524152e-02  4.01815552e-02\n",
      "   2.16135603e-01 ...  4.09735906e-01  8.64632334e-01  7.24561689e-02\n",
      "   1.11990912e-01  2.28548683e-01]]\n"
     ]
    }
   ],
   "source": [
    "import numpy as np\n",
    "import math\n",
    "from utils.io import preview_np_array\n",
    "\n",
    "seeg_file_common = f\"../filter/results/synthetic/filtered_seeg_ch90-119\"\n",
    "seeg_file_name = f\"{seeg_file_common}{file_suffix}.npy\"\n",
    "recorded_data = np.load(f\"{PATH_TO_FILE}{seeg_file_name}\")\n",
    "\n",
    "print(\"Data shape: \", recorded_data.shape)\n",
    "print(\"First time steps: \", recorded_data[:10])"
   ]
  },
  {
   "cell_type": "markdown",
   "metadata": {},
   "source": [
    "## Define Global Parameters of the Experiment"
   ]
  },
  {
   "cell_type": "code",
   "execution_count": 18,
   "metadata": {},
   "outputs": [],
   "source": [
    "sampling_rate = 2048    # 2048 Hz\n",
    "input_duration = 120 * (10**3)    # 120000 ms or 120 seconds\n",
    "num_samples = recorded_data.shape[0]    # 2048 * 120 = 245760\n",
    "num_channels = recorded_data.shape[1]   # 960\n",
    "\n",
    "x_step = 1/sampling_rate * (10**3)  # 0.48828125 ms"
   ]
  },
  {
   "cell_type": "markdown",
   "metadata": {},
   "source": [
    "## Define the Channels of Interest that will be used to extract the signal"
   ]
  },
  {
   "cell_type": "code",
   "execution_count": 19,
   "metadata": {},
   "outputs": [],
   "source": [
    "ch_start_idx = 0    # 90  # Start index of the region of interest\n",
    "ch_end_idx = ch_start_idx + 30 # End index of the region of interest "
   ]
  },
  {
   "cell_type": "markdown",
   "metadata": {},
   "source": [
    "### Extract the SEEG channels in the defined range from the SEEG data"
   ]
  },
  {
   "cell_type": "code",
   "execution_count": 20,
   "metadata": {},
   "outputs": [
    {
     "name": "stdout",
     "output_type": "stream",
     "text": [
      "SEEG Channels Shape: (245760, 30).\n",
      "Preview: [[ 1.84829940e-04  4.37174409e-06  2.71047998e-04  9.56092800e-05\n",
      "   3.69719302e-04 ... -5.77643495e-04 -1.35636408e-03 -5.28126862e-04\n",
      "  -6.84353879e-04 -5.91987150e-04]\n",
      " [ 1.37975809e-03 -2.33040380e-04  1.61508759e-03  6.13719991e-04\n",
      "   2.90657316e-03 ... -5.14801662e-03 -1.23772766e-02 -4.77473965e-03\n",
      "  -5.44621734e-03 -5.34139889e-03]\n",
      " [ 3.92964380e-03 -3.06118826e-03  2.97532191e-03  8.55872179e-04\n",
      "   1.10917261e-02 ... -2.23060233e-02 -5.32362499e-02 -2.06351304e-02\n",
      "  -2.05310798e-02 -2.27491617e-02]\n",
      " [ 3.17023234e-03 -1.71566387e-02 -3.48900098e-03 -3.68384663e-03\n",
      "   2.86181389e-02 ... -6.22837269e-02 -1.42782212e-01 -5.67303129e-02\n",
      "  -4.97123145e-02 -6.10809133e-02]\n",
      " [-1.28319667e-02 -5.79471122e-02 -3.12810671e-02 -1.89557456e-02\n",
      "   5.96898282e-02 ... -1.22912538e-01 -2.63603038e-01 -1.11133673e-01\n",
      "  -8.80023720e-02 -1.15612746e-01]\n",
      " ...\n",
      " [ 1.70459871e-01  1.23177887e+00 -4.38113747e-01 -2.87963133e-01\n",
      "   1.68565047e+00 ... -3.65811016e-01  9.07996250e-01 -5.11334840e-03\n",
      "  -7.62040739e-01  1.53619582e+00]\n",
      " [ 4.97735559e-01  1.01713142e+00 -4.58924827e-01 -4.44619859e-01\n",
      "   1.70746430e+00 ... -1.53793063e-01  4.58627645e-01 -5.36389391e-02\n",
      "  -1.00706599e+00  1.51262218e+00]\n",
      " [ 6.57385201e-01  7.72400799e-01 -4.98205341e-01 -5.67511465e-01\n",
      "   1.61452202e+00 ...  1.20574772e-01  4.77290860e-02 -2.25650820e-01\n",
      "  -1.15243564e+00  1.23691538e+00]\n",
      " [ 5.95894958e-01  5.34762270e-01 -5.39540198e-01 -6.51632853e-01\n",
      "   1.28732339e+00 ...  3.15645219e-01 -2.41483711e-01 -4.98290647e-01\n",
      "  -1.20278059e+00  7.54000855e-01]\n",
      " [ 3.30411778e-01  3.01232878e-01 -5.59614286e-01 -6.98354851e-01\n",
      "   6.65899156e-01 ...  3.51764395e-01 -4.43550001e-01 -8.15564053e-01\n",
      "  -1.14933726e+00  1.73992494e-01]]\n"
     ]
    }
   ],
   "source": [
    "# Extract the seeg_channels in the range [ch_start_idx, ch_end_idx]\n",
    "relevant_seeg = recorded_data[:, ch_start_idx:ch_end_idx]\n",
    "\n",
    "preview_np_array(relevant_seeg, \"SEEG Channels\")"
   ]
  },
  {
   "cell_type": "markdown",
   "metadata": {},
   "source": [
    "## Import the Markers (Annotated Events) \n",
    "The markers are stored in a numpy array of shape (num_channels, events):\n",
    "- Each row represents the events of a channel\n",
    "- Each event is composed of the following 3 fields (Label, Position, Shape)"
   ]
  },
  {
   "cell_type": "code",
   "execution_count": 21,
   "metadata": {},
   "outputs": [
    {
     "name": "stdout",
     "output_type": "stream",
     "text": [
      "Markers shape:  (30, 42)\n",
      "First time steps:  [[('Spike',   1000.  , 0.) ('Spike+Fast-Ripple',   4218.75, 0.)\n",
      "  ('Ripple+Fast-Ripple',   6966.8 , 0.)\n",
      "  ('Ripple+Fast-Ripple',   9793.95, 0.)\n",
      "  ('Spike+Ripple+Fast-Ripple',  13189.  , 0.) ...\n",
      "  ('Ripple+Fast-Ripple', 107859.  , 0.) ('Spike+Ripple', 111439.  , 0.)\n",
      "  ('Ripple', 114551.  , 0.) ('Spike+Ripple', 116517.  , 0.)\n",
      "  ('Spike+Ripple', 119000.  , 0.)]\n",
      " [('Spike+Ripple',   1000.  , 0.)\n",
      "  ('Spike+Ripple+Fast-Ripple',   3917.97, 0.)\n",
      "  ('Spike+Fast-Ripple',   6794.92, 0.) ('Fast-Ripple',   9094.73, 0.)\n",
      "  ('Fast-Ripple',  12348.1 , 0.) ... ('Spike+Fast-Ripple', 107697.  , 0.)\n",
      "  ('Fast-Ripple', 111079.  , 0.) ('Spike', 113382.  , 0.)\n",
      "  ('Ripple+Fast-Ripple', 116656.  , 0.) ('Spike+Ripple', 119000.  , 0.)]\n",
      " [('Fast-Ripple',   1000.  , 0.) ('Spike',   3655.76, 0.)\n",
      "  ('Spike',   7188.96, 0.) ('Spike',   9880.37, 0.)\n",
      "  ('Spike+Ripple',  13890.6 , 0.) ...\n",
      "  ('Spike+Fast-Ripple', 107924.  , 0.)\n",
      "  ('Spike+Ripple+Fast-Ripple', 110238.  , 0.)\n",
      "  ('Spike+Ripple+Fast-Ripple', 112797.  , 0.)\n",
      "  ('Fast-Ripple', 115363.  , 0.) ('Spike+Fast-Ripple', 119000.  , 0.)]\n",
      " [('Spike+Ripple+Fast-Ripple',   1000.  , 0.)\n",
      "  ('Spike+Fast-Ripple',   3454.59, 0.)\n",
      "  ('Ripple+Fast-Ripple',   6599.61, 0.) ('Fast-Ripple',   9182.62, 0.)\n",
      "  ('Spike+Ripple+Fast-Ripple',  12129.9 , 0.) ...\n",
      "  ('Ripple+Fast-Ripple', 108521.  , 0.)\n",
      "  ('Ripple+Fast-Ripple', 110662.  , 0.) ('Spike+Ripple', 113249.  , 0.)\n",
      "  ('Spike+Fast-Ripple', 116929.  , 0.) ('Ripple', 119000.  , 0.)]\n",
      " [('Ripple',   1000.  , 0.) ('Spike',   4412.11, 0.)\n",
      "  ('Ripple+Fast-Ripple',   6992.19, 0.)\n",
      "  ('Spike+Ripple+Fast-Ripple',   9307.13, 0.)\n",
      "  ('Spike+Ripple',  11564.  , 0.) ...\n",
      "  ('Spike+Ripple+Fast-Ripple', 108013.  , 0.)\n",
      "  ('Ripple+Fast-Ripple', 110644.  , 0.) ('Spike', 113402.  , 0.)\n",
      "  ('Fast-Ripple', 115506.  , 0.) ('Spike+Ripple', 119000.  , 0.)]\n",
      " [('Spike+Ripple+Fast-Ripple',   1000.  , 0.)\n",
      "  ('Spike+Ripple+Fast-Ripple',   3206.54, 0.) ('Spike',   5755.86, 0.)\n",
      "  ('Ripple',   9064.45, 0.) ('Ripple+Fast-Ripple',  12262.2 , 0.) ...\n",
      "  ('Spike+Fast-Ripple', 108330.  , 0.) ('Fast-Ripple', 110470.  , 0.)\n",
      "  ('Spike+Fast-Ripple', 112796.  , 0.) ('Spike+Ripple', 115960.  , 0.)\n",
      "  ('Ripple', 119000.  , 0.)]\n",
      " [('Fast-Ripple',   1000.  , 0.) ('Spike',   3403.81, 0.)\n",
      "  ('Ripple+Fast-Ripple',   5478.03, 0.)\n",
      "  ('Spike+Ripple+Fast-Ripple',   9184.57, 0.)\n",
      "  ('Spike+Ripple',  11314.  , 0.) ... ('Ripple', 107414.  , 0.)\n",
      "  ('Fast-Ripple', 110437.  , 0.) ('Fast-Ripple', 113259.  , 0.)\n",
      "  ('Ripple', 116601.  , 0.) ('Spike+Ripple+Fast-Ripple', 119000.  , 0.)]\n",
      " [('Spike',   1000.  , 0.) ('Spike+Ripple+Fast-Ripple',   3865.23, 0.)\n",
      "  ('Spike+Fast-Ripple',   6539.06, 0.)\n",
      "  ('Spike+Ripple+Fast-Ripple',   9241.7 , 0.)\n",
      "  ('Ripple+Fast-Ripple',  12742.7 , 0.) ...\n",
      "  ('Spike+Fast-Ripple', 105827.  , 0.) ('Spike+Ripple', 109069.  , 0.)\n",
      "  ('Ripple', 111636.  , 0.) ('Spike', 115284.  , 0.)\n",
      "  ('Spike+Ripple', 119000.  , 0.)]\n",
      " [('Spike+Ripple',   1000.  , 0.) ('Spike',   4505.37, 0.)\n",
      "  ('Fast-Ripple',   7111.82, 0.)\n",
      "  ('Spike+Ripple+Fast-Ripple',  10503.9 , 0.)\n",
      "  ('Fast-Ripple',  13988.3 , 0.) ... ('Spike+Fast-Ripple', 107811.  , 0.)\n",
      "  ('Spike+Ripple', 110458.  , 0.) ('Fast-Ripple', 112738.  , 0.)\n",
      "  ('Spike+Ripple', 116216.  , 0.) ('Spike', 119000.  , 0.)]\n",
      " [('Ripple',   1000.  , 0.) ('Ripple+Fast-Ripple',   4134.77, 0.)\n",
      "  ('Spike+Fast-Ripple',   8088.87, 0.) ('Spike+Ripple',  10218.3 , 0.)\n",
      "  ('Spike+Ripple',  13559.1 , 0.) ...\n",
      "  ('Spike+Ripple+Fast-Ripple', 106886.  , 0.) ('Spike', 109583.  , 0.)\n",
      "  ('Fast-Ripple', 112958.  , 0.) ('Spike', 115918.  , 0.)\n",
      "  ('Ripple', 119000.  , 0.)]]\n"
     ]
    }
   ],
   "source": [
    "markers_seeg_file_name = f\"{seeg_file_common}_markers.npy\"\n",
    "markers = np.load(f\"{PATH_TO_FILE}{markers_seeg_file_name}\")\n",
    "\n",
    "print(\"Markers shape: \", markers.shape)\n",
    "print(\"First time steps: \", markers[:10])"
   ]
  },
  {
   "cell_type": "markdown",
   "metadata": {},
   "source": [
    "### Get the markers with a certain SNR in a specific region\n",
    "Let's use the markers with a SNR=15dB in the first region"
   ]
  },
  {
   "cell_type": "code",
   "execution_count": 22,
   "metadata": {},
   "outputs": [
    {
     "name": "stdout",
     "output_type": "stream",
     "text": [
      "relevant_markers Shape: (30, 42).\n",
      "Preview: [[('Spike',   1000.  , 0.) ('Spike+Fast-Ripple',   4218.75, 0.)\n",
      "  ('Ripple+Fast-Ripple',   6966.8 , 0.)\n",
      "  ('Ripple+Fast-Ripple',   9793.95, 0.)\n",
      "  ('Spike+Ripple+Fast-Ripple',  13189.  , 0.) ...\n",
      "  ('Ripple+Fast-Ripple', 107859.  , 0.) ('Spike+Ripple', 111439.  , 0.)\n",
      "  ('Ripple', 114551.  , 0.) ('Spike+Ripple', 116517.  , 0.)\n",
      "  ('Spike+Ripple', 119000.  , 0.)]\n",
      " [('Spike+Ripple',   1000.  , 0.)\n",
      "  ('Spike+Ripple+Fast-Ripple',   3917.97, 0.)\n",
      "  ('Spike+Fast-Ripple',   6794.92, 0.) ('Fast-Ripple',   9094.73, 0.)\n",
      "  ('Fast-Ripple',  12348.1 , 0.) ... ('Spike+Fast-Ripple', 107697.  , 0.)\n",
      "  ('Fast-Ripple', 111079.  , 0.) ('Spike', 113382.  , 0.)\n",
      "  ('Ripple+Fast-Ripple', 116656.  , 0.) ('Spike+Ripple', 119000.  , 0.)]\n",
      " [('Fast-Ripple',   1000.  , 0.) ('Spike',   3655.76, 0.)\n",
      "  ('Spike',   7188.96, 0.) ('Spike',   9880.37, 0.)\n",
      "  ('Spike+Ripple',  13890.6 , 0.) ...\n",
      "  ('Spike+Fast-Ripple', 107924.  , 0.)\n",
      "  ('Spike+Ripple+Fast-Ripple', 110238.  , 0.)\n",
      "  ('Spike+Ripple+Fast-Ripple', 112797.  , 0.)\n",
      "  ('Fast-Ripple', 115363.  , 0.) ('Spike+Fast-Ripple', 119000.  , 0.)]\n",
      " [('Spike+Ripple+Fast-Ripple',   1000.  , 0.)\n",
      "  ('Spike+Fast-Ripple',   3454.59, 0.)\n",
      "  ('Ripple+Fast-Ripple',   6599.61, 0.) ('Fast-Ripple',   9182.62, 0.)\n",
      "  ('Spike+Ripple+Fast-Ripple',  12129.9 , 0.) ...\n",
      "  ('Ripple+Fast-Ripple', 108521.  , 0.)\n",
      "  ('Ripple+Fast-Ripple', 110662.  , 0.) ('Spike+Ripple', 113249.  , 0.)\n",
      "  ('Spike+Fast-Ripple', 116929.  , 0.) ('Ripple', 119000.  , 0.)]\n",
      " [('Ripple',   1000.  , 0.) ('Spike',   4412.11, 0.)\n",
      "  ('Ripple+Fast-Ripple',   6992.19, 0.)\n",
      "  ('Spike+Ripple+Fast-Ripple',   9307.13, 0.)\n",
      "  ('Spike+Ripple',  11564.  , 0.) ...\n",
      "  ('Spike+Ripple+Fast-Ripple', 108013.  , 0.)\n",
      "  ('Ripple+Fast-Ripple', 110644.  , 0.) ('Spike', 113402.  , 0.)\n",
      "  ('Fast-Ripple', 115506.  , 0.) ('Spike+Ripple', 119000.  , 0.)]\n",
      " ...\n",
      " [('Spike',   1000.  , 0.) ('Spike+Fast-Ripple',   4195.8 , 0.)\n",
      "  ('Spike',   8033.2 , 0.) ('Fast-Ripple',  11114.7 , 0.)\n",
      "  ('Ripple+Fast-Ripple',  14273.9 , 0.) ...\n",
      "  ('Spike+Ripple+Fast-Ripple', 107961.  , 0.) ('Ripple', 111138.  , 0.)\n",
      "  ('Spike+Fast-Ripple', 113772.  , 0.)\n",
      "  ('Ripple+Fast-Ripple', 116453.  , 0.)\n",
      "  ('Ripple+Fast-Ripple', 119000.  , 0.)]\n",
      " [('Spike',   1000.  , 0.) ('Ripple',   3381.84, 0.)\n",
      "  ('Fast-Ripple',   6243.65, 0.) ('Spike+Ripple',   8873.05, 0.)\n",
      "  ('Ripple+Fast-Ripple',  11957.  , 0.) ...\n",
      "  ('Fast-Ripple', 107895.  , 0.) ('Spike+Ripple', 110412.  , 0.)\n",
      "  ('Spike+Ripple+Fast-Ripple', 112735.  , 0.)\n",
      "  ('Spike+Fast-Ripple', 115777.  , 0.)\n",
      "  ('Spike+Fast-Ripple', 119000.  , 0.)]\n",
      " [('Ripple+Fast-Ripple',   1000.  , 0.) ('Ripple',   3543.46, 0.)\n",
      "  ('Ripple+Fast-Ripple',   6759.77, 0.)\n",
      "  ('Ripple+Fast-Ripple',   9539.55, 0.)\n",
      "  ('Spike+Fast-Ripple',  11367.7 , 0.) ...\n",
      "  ('Spike+Ripple', 106287.  , 0.) ('Ripple', 109383.  , 0.)\n",
      "  ('Fast-Ripple', 112950.  , 0.) ('Spike+Ripple', 115987.  , 0.)\n",
      "  ('Spike+Ripple', 119000.  , 0.)]\n",
      " [('Spike+Fast-Ripple',   1000.  , 0.) ('Fast-Ripple',   4774.41, 0.)\n",
      "  ('Ripple',   7656.74, 0.) ('Ripple',  11189.5 , 0.)\n",
      "  ('Fast-Ripple',  14050.8 , 0.) ...\n",
      "  ('Spike+Ripple+Fast-Ripple', 106867.  , 0.)\n",
      "  ('Spike+Fast-Ripple', 110114.  , 0.) ('Spike', 113143.  , 0.)\n",
      "  ('Ripple+Fast-Ripple', 116769.  , 0.) ('Ripple', 119000.  , 0.)]\n",
      " [('Spike+Ripple',   1000.  , 0.) ('Ripple',   4143.07, 0.)\n",
      "  ('Spike+Fast-Ripple',   6804.2 , 0.) ('Ripple',   9793.46, 0.)\n",
      "  ('Spike+Fast-Ripple',  12680.7 , 0.) ... ('Ripple', 107164.  , 0.)\n",
      "  ('Fast-Ripple', 109500.  , 0.) ('Ripple+Fast-Ripple', 112313.  , 0.)\n",
      "  ('Spike+Ripple+Fast-Ripple', 115019.  , 0.)\n",
      "  ('Fast-Ripple', 119000.  , 0.)]]\n"
     ]
    }
   ],
   "source": [
    "relevant_markers = markers[ch_start_idx:ch_end_idx]\n",
    "preview_np_array(relevant_markers, \"relevant_markers\")"
   ]
  },
  {
   "cell_type": "markdown",
   "metadata": {},
   "source": [
    "### Build a subset of the SEEG recording joining data from the channels selected above that contain relevant HFOs"
   ]
  },
  {
   "cell_type": "code",
   "execution_count": 23,
   "metadata": {},
   "outputs": [
    {
     "name": "stdout",
     "output_type": "stream",
     "text": [
      "Time values:  [0.48828125, 0.9765625, 1.46484375, 1.953125, 2.44140625, 2.9296875, 3.41796875, 3.90625, 4.39453125, 4.8828125]\n"
     ]
    }
   ],
   "source": [
    "# Build the time_step values of the signal\n",
    "time_vals = [val for val in np.arange(x_step, input_duration + x_step, x_step)]\n",
    "print(\"Time values: \", time_vals[:10])"
   ]
  },
  {
   "cell_type": "code",
   "execution_count": 24,
   "metadata": {},
   "outputs": [
    {
     "name": "stdout",
     "output_type": "stream",
     "text": [
      "channels_curr_marker_idx Shape: (30,).\n",
      "Preview: [0 0 0 0 0 ... 0 0 0 0 0]\n"
     ]
    }
   ],
   "source": [
    "final_signal = np.empty(shape=(num_samples))    # Initialize the final signal\n",
    "final_markers = []                  # List holding the final markers\n",
    "\n",
    "# Variable holding the current marker idx for each channel\n",
    "channels_curr_marker_idx = np.zeros(shape=(relevant_markers.shape[0]), dtype=int)\n",
    "preview_np_array(channels_curr_marker_idx, \"channels_curr_marker_idx\")"
   ]
  },
  {
   "cell_type": "markdown",
   "metadata": {},
   "source": [
    "## Set the lenght of each segment to be extracted from a channel\n",
    "Since we want to join the data from several channels in a single subset, we need to set the length of the segments to be extracted from each channel.\n",
    "\n",
    "Furthermore, we also need to define a padding to avoid adding a HFO that occurs at the end of a segment since it may interfere with the next segment and be cut short."
   ]
  },
  {
   "cell_type": "code",
   "execution_count": 25,
   "metadata": {},
   "outputs": [],
   "source": [
    "segment_length = 1000    # 500 / 1000 ms segments. Every 1000ms, there will be a relevant event (Ripple, Fast Ripple, or both)\n",
    "# TODO: Could change to 1000ms for safety and increase the padding as well (to 300ms for example)\n",
    "\n",
    "segment_end_padding = 300    # 200 / 300 ms padding at the end of each segment (Longest Ripples seem to last about 120ms according to Sofia?)"
   ]
  },
  {
   "cell_type": "markdown",
   "metadata": {},
   "source": [
    "### Define the function that checks if the label of a marker belongs to the list of labels of interest"
   ]
  },
  {
   "cell_type": "code",
   "execution_count": 26,
   "metadata": {},
   "outputs": [],
   "source": [
    "from utils.input import label_has_hfo_event, label_has_ripple, label_has_fast_ripple\n",
    "\n",
    "# Function that dictates if a label is relevant\n",
    "def is_relevant_label(label):\n",
    "    if chosen_band == MarkerType.RIPPLE:\n",
    "        return label_has_ripple(label)\n",
    "    elif chosen_band == MarkerType.FAST_RIPPLE:\n",
    "        return label_has_fast_ripple(label)\n",
    "    else:\n",
    "        return label_has_hfo_event(label)"
   ]
  },
  {
   "cell_type": "code",
   "execution_count": 27,
   "metadata": {},
   "outputs": [],
   "source": [
    "curr_segment_ch_start_idx = 0    # Variable to hold the index where we start searching for a relevant marker in each segment\n",
    "\n",
    "for curr_segment in range(0, input_duration, segment_length):\n",
    "    time_start_idx = int(curr_segment / x_step)   # Start index of the segment in the time_vals array\n",
    "    time_end_idx = int((curr_segment + segment_length) / x_step)   # End index of the segment in the time_vals array (exclusive)\n",
    "    # print(\"time start idx: \", time_start_idx, \"time end idx: \", time_end_idx)\n",
    "\n",
    "    # Search for a relevant event in this segment\n",
    "    starting_marker_idx = int(curr_segment / segment_length) % relevant_markers.shape[0]    # Get the marker index where we start searching for this segment\n",
    "    # print(\"starting_marker_idx: \", starting_marker_idx)\n",
    "    curr_marker_idx = starting_marker_idx\n",
    "\n",
    "    segment_marker = None   # Variable to hold the marker of the current segment\n",
    "    # Search for a relevant event in this time segment\n",
    "    while True:\n",
    "        # Check if the markers of the current channel have a relevant event inside the segment\n",
    "        for inner_marker_idx in range(channels_curr_marker_idx[curr_marker_idx], relevant_markers.shape[1], 1):\n",
    "            curr_marker = relevant_markers[curr_marker_idx][inner_marker_idx]\n",
    "\n",
    "            # Check if the current marker is a relevant event (Ripple, Fast Ripple, or both)\n",
    "            if is_relevant_label(curr_marker['label']):\n",
    "                \n",
    "                # print(curr_marker['position'] + segment_end_padding, curr_segment + segment_length)\n",
    "\n",
    "                if curr_marker['position'] >= curr_segment and (curr_marker['position'] + segment_end_padding <= curr_segment + segment_length):\n",
    "                    # print(\"curr_marker position: \", curr_marker['position'], \"curr_segment: \", curr_segment, \"segment_length: \", segment_length)\n",
    "                    # Found a relevant event\n",
    "                    segment_marker = curr_marker\n",
    "\n",
    "                    # Update the current marker index for this channel to the next marker\n",
    "                    channels_curr_marker_idx[curr_marker_idx] = inner_marker_idx + 1\n",
    "\n",
    "                    break   # Stop searching for relevant events in this channel\n",
    "            \n",
    "            # Check if the current marker is outside the segment\n",
    "            if curr_marker['position'] < curr_segment + segment_length:\n",
    "                # Update the current marker index for this channel to the next marker of this channel\n",
    "                channels_curr_marker_idx[curr_marker_idx] = inner_marker_idx + 1\n",
    "\n",
    "        # If a relevant event is found, add the relevant event to the final signal\n",
    "        if segment_marker is not None:\n",
    "            # Add the relevant event's seeg data to the final signal\n",
    "            final_signal[time_start_idx:time_end_idx] = relevant_seeg[time_start_idx:time_end_idx, curr_marker_idx]\n",
    "\n",
    "            # Add the relevant event's marker to the final markers\n",
    "            final_markers.append(segment_marker)  # TODO: CHange this to the actual marker after being found\n",
    "            break\n",
    "\n",
    "\n",
    "        # Search in the markers of the next channel\n",
    "        curr_marker_idx = (curr_marker_idx + 1) % relevant_markers.shape[0]    # Move to the next marker index\n",
    "\n",
    "        # Check if we have reached the starting marker index\n",
    "        if curr_marker_idx == starting_marker_idx:\n",
    "            # We have searched all the markers in this segment (No relevant event found) \n",
    "            # -> Add current channel data to the final signal (with no relevant events)\n",
    "\n",
    "            # Add background noise to the segment\n",
    "            final_signal[time_start_idx:time_end_idx] = relevant_seeg[time_start_idx:time_end_idx, curr_marker_idx]\n",
    "            break"
   ]
  },
  {
   "cell_type": "markdown",
   "metadata": {},
   "source": [
    "### Preview the final signal and markers"
   ]
  },
  {
   "cell_type": "code",
   "execution_count": 28,
   "metadata": {},
   "outputs": [
    {
     "name": "stdout",
     "output_type": "stream",
     "text": [
      "Final Signal Shape: (245760,).\n",
      "Preview: [ 1.84829940e-04  1.37975809e-03  3.92964380e-03  3.17023234e-03\n",
      " -1.28319667e-02 ...  1.53619582e+00  1.51262218e+00  1.23691538e+00\n",
      "  7.54000855e-01  1.73992494e-01]\n"
     ]
    }
   ],
   "source": [
    "preview_np_array(final_signal, \"Final Signal\")"
   ]
  },
  {
   "cell_type": "code",
   "execution_count": 29,
   "metadata": {},
   "outputs": [
    {
     "name": "stdout",
     "output_type": "stream",
     "text": [
      "Final Markers Shape: (115,).\n",
      "Preview: [('Spike+Ripple',   1000.  , 0.) ('Spike+Fast-Ripple',   3454.59, 0.)\n",
      " ('Ripple+Fast-Ripple',   4134.77, 0.)\n",
      " ('Ripple+Fast-Ripple',   5478.03, 0.)\n",
      " ('Spike+Fast-Ripple',   6539.06, 0.) ...\n",
      " ('Spike+Fast-Ripple', 113343.  , 0.) ('Ripple', 114551.  , 0.)\n",
      " ('Spike+Ripple+Fast-Ripple', 115019.  , 0.)\n",
      " ('Spike+Ripple', 116517.  , 0.) ('Fast-Ripple', 119000.  , 0.)]\n"
     ]
    }
   ],
   "source": [
    "final_markers = np.array(final_markers)\n",
    "preview_np_array(final_markers, \"Final Markers\")"
   ]
  },
  {
   "cell_type": "markdown",
   "metadata": {},
   "source": [
    "---"
   ]
  },
  {
   "cell_type": "markdown",
   "metadata": {},
   "source": [
    "## Visualize the Subset of the SEEG Data"
   ]
  },
  {
   "cell_type": "code",
   "execution_count": 30,
   "metadata": {},
   "outputs": [],
   "source": [
    "# Interactive Plot for the HFO detection\n",
    "# bokeh docs: https://docs.bokeh.org/en/2.4.1/docs/first_steps/first_steps_1.html\n",
    "\n",
    "from utils.line_plot import create_fig  # Import the function to create the figure\n",
    "from bokeh.models import Range1d\n",
    "\n",
    "# Define the x and y values\n",
    "# Should the first input start at 0 or x_step?\n",
    "# TODO: is it okay to create a range with floats?\n",
    "x = [val for val in np.arange(x_step, input_duration + x_step, x_step)] \n",
    "\n",
    "# Create the y arrays for the voltage plot representing the voltage of each electrode\n",
    "v_yarrays = [final_signal]"
   ]
  },
  {
   "cell_type": "markdown",
   "metadata": {},
   "source": [
    "## Create the Plot"
   ]
  },
  {
   "cell_type": "code",
   "execution_count": 31,
   "metadata": {},
   "outputs": [],
   "source": [
    "# Create the plot\n",
    "# List of tuples containing the y values and the legend label\n",
    "hfo_y_arrays = [(final_signal, \"Joined subset of SEEG Channels\")]\n",
    "\n",
    "# Create the SEEG Voltage plot\n",
    "hfo_plot = create_fig(\n",
    "    title=\"SEEG Voltage dynamics of Filtered Ripple and Fast Ripple Bands\", \n",
    "    x_axis_label='time (ms)', \n",
    "    y_axis_label='Voltage (μV)',\n",
    "    x=x, \n",
    "    y_arrays=hfo_y_arrays, \n",
    "    sizing_mode=\"stretch_both\", \n",
    "    tools=\"pan, box_zoom, wheel_zoom, hover, undo, redo, zoom_in, zoom_out, reset, save\",\n",
    "    tooltips=\"Data point @x: @y\",\n",
    "    legend_location=\"top_right\",\n",
    "    legend_bg_fill_color=\"navy\",\n",
    "    legend_bg_fill_alpha=0.1,\n",
    "    # y_range=Range1d(-0.05, 1.05)\n",
    ")\n",
    "\n",
    "# If there are more than 30 channels, hide the legend\n",
    "if len(hfo_y_arrays) > 30:\n",
    "    # Hide the legend\n",
    "    hfo_plot.legend.visible = False"
   ]
  },
  {
   "cell_type": "markdown",
   "metadata": {},
   "source": [
    "## Add Box Annotations to the plot to identify the marked HFOs (ground truth)"
   ]
  },
  {
   "cell_type": "code",
   "execution_count": 32,
   "metadata": {},
   "outputs": [],
   "source": [
    "from bokeh.models import BoxAnnotation\n",
    "# from utils.line_plot import color_map\n",
    "\n",
    "show_markers = True    # Boolean to show the markers\n",
    "\n",
    "color_map = {                  \n",
    "    'Spike': 'red',\n",
    "    'Fast-Ripple': 'blue',\n",
    "    'Ripple': 'green',  \n",
    "    'Spike+Ripple': 'yellow',\n",
    "    'Spike+Fast-Ripple': 'pink',\n",
    "    'Ripple+Fast-Ripple': 'cyan',\n",
    "    'Spike+Ripple+Fast-Ripple': 'black'\n",
    "}\n",
    "\n",
    "confidence_range = 100          # TODO: Check this value. When the duration is missing (0), we consider the 200ms window around the marked position \n",
    "visited_markers = {}    # Avoid inserting multiple boxes for the same marker (only one of each label)\n",
    "use_visited = False     # Boolean controlling if we remove duplicate markers\n",
    "plot_instant = True     # Boolean to plot the markers as instant events or as boxes\n",
    "instant_width = 100 # 20       # Width of the instant event for visualization purposes\n",
    "\n",
    "if show_markers:\n",
    "    for idx2, marker in enumerate(final_markers):\n",
    "        # print(\"marker:\", marker)\n",
    "        \n",
    "        if use_visited:\n",
    "            # Check if the marker has already been visited and skip it if it has\n",
    "            if marker['position'] in visited_markers:\n",
    "                visited_labels = visited_markers[marker['position']]    # Get the labels that already have an annotation for this position\n",
    "                if marker['label'] in visited_labels:\n",
    "                    # print(\"Skipping marker\", marker['position'], marker['label'])\n",
    "                    continue    # Skip this marker\n",
    "                else:\n",
    "                    visited_labels.append(marker['label'])  # Add the label to the visited labels\n",
    "            else:\n",
    "                visited_markers[marker['position']] = [marker['label']] # Add the marker to the visited markers\n",
    "\n",
    "        # Add a box annotation for each marker\n",
    "        has_duration = marker['duration'] > 0\n",
    "        \n",
    "        confidence_constant = 0 if plot_instant or has_duration else confidence_range\n",
    "\n",
    "        left = marker['position'] - confidence_constant\n",
    "        right = marker['position'] + confidence_constant + instant_width\n",
    "        box_color = color_map[marker['label']]  # Choose a color according to the label\n",
    "        \n",
    "        # if left < min_t or right > max_t:\n",
    "        #     continue    # Skip this marker\n",
    "        \n",
    "\n",
    "        box = BoxAnnotation(left=left, right=right, fill_color=box_color, fill_alpha=0.35)\n",
    "        # print(\"Added marker for channel: \", ch_idx, \" at position: \", left)\n",
    "        hfo_plot.add_layout(box)"
   ]
  },
  {
   "cell_type": "markdown",
   "metadata": {},
   "source": [
    "## Show the Plot"
   ]
  },
  {
   "cell_type": "code",
   "execution_count": 33,
   "metadata": {},
   "outputs": [],
   "source": [
    "import bokeh.plotting as bplt\n",
    "\n",
    "showPlot = True\n",
    "if showPlot:\n",
    "    bplt.show(hfo_plot)"
   ]
  },
  {
   "cell_type": "markdown",
   "metadata": {},
   "source": [
    "## Export the plot to a file"
   ]
  },
  {
   "cell_type": "code",
   "execution_count": 34,
   "metadata": {},
   "outputs": [],
   "source": [
    "export = False\n",
    "\n",
    "if export:\n",
    "    file_path = f\"{PATH_TO_FILE}plots/seeg_filtered_subset_90-119_segment{segment_length}_{segment_end_padding}{file_suffix}.html\"\n",
    "\n",
    "    # Customize the output file settings\n",
    "    bplt.output_file(filename=file_path, title=\"SEEG Data - Filtered Voltage dynamics across time\")\n",
    "\n",
    "    # Save the plot\n",
    "    bplt.save(hfo_plot)\n",
    "\n",
    "    # Close the plot\n",
    "    bplt.curdoc().clear()\n",
    "    bplt.reset_output()"
   ]
  },
  {
   "cell_type": "markdown",
   "metadata": {},
   "source": [
    "## Write the final markers into a .npy file\n",
    "Add an extra dimension (n_channels) to the markers array to match the shape of the other dataset"
   ]
  },
  {
   "cell_type": "code",
   "execution_count": 35,
   "metadata": {},
   "outputs": [
    {
     "name": "stdout",
     "output_type": "stream",
     "text": [
      "Final Markers Shape: (1, 115).\n",
      "Preview: [[('Spike+Ripple',   1000.  , 0.) ('Spike+Fast-Ripple',   3454.59, 0.)\n",
      "  ('Ripple+Fast-Ripple',   4134.77, 0.)\n",
      "  ('Ripple+Fast-Ripple',   5478.03, 0.)\n",
      "  ('Spike+Fast-Ripple',   6539.06, 0.) ...\n",
      "  ('Spike+Fast-Ripple', 113343.  , 0.) ('Ripple', 114551.  , 0.)\n",
      "  ('Spike+Ripple+Fast-Ripple', 115019.  , 0.)\n",
      "  ('Spike+Ripple', 116517.  , 0.) ('Fast-Ripple', 119000.  , 0.)]]\n"
     ]
    }
   ],
   "source": [
    "# To keep the same format as the original data, we will add an extra dimension to the final markers\n",
    "final_markers = np.array([final_markers])\n",
    "preview_np_array(final_markers, \"Final Markers\")"
   ]
  },
  {
   "cell_type": "code",
   "execution_count": 36,
   "metadata": {},
   "outputs": [],
   "source": [
    "EXPORT_MARKERS = False\n",
    "if EXPORT_MARKERS:\n",
    "    # Define the parent folder to store the results\n",
    "    parent_folder = f\"results/seeg_filtered_subset_90-119_segment{segment_length}_{segment_end_padding}\"\n",
    "    # Create the folder to store the results if it does not exist\n",
    "    if not os.path.exists(parent_folder):\n",
    "        os.makedirs(parent_folder)\n",
    "\n",
    "    file_name = f\"{parent_folder}/markers{file_suffix}.npy\"\n",
    "\n",
    "    np.save(file_name, final_markers)   # Save the data to a numpy file (not stored in git due to size)"
   ]
  },
  {
   "cell_type": "markdown",
   "metadata": {},
   "source": [
    "## Write the final subset of the SEEG data into a .npy file\n",
    "Add an extra dimension (n_channels) to the signal array to match the shape of the other dataset"
   ]
  },
  {
   "cell_type": "code",
   "execution_count": 37,
   "metadata": {},
   "outputs": [
    {
     "name": "stdout",
     "output_type": "stream",
     "text": [
      "Final Signal Shape: (245760, 1).\n",
      "Preview: [[ 1.84829940e-04]\n",
      " [ 1.37975809e-03]\n",
      " [ 3.92964380e-03]\n",
      " [ 3.17023234e-03]\n",
      " [-1.28319667e-02]\n",
      " ...\n",
      " [ 1.53619582e+00]\n",
      " [ 1.51262218e+00]\n",
      " [ 1.23691538e+00]\n",
      " [ 7.54000855e-01]\n",
      " [ 1.73992494e-01]]\n"
     ]
    }
   ],
   "source": [
    "# To keep the same format as the original data, we will add an extra inner dimension to the final signal\n",
    "final_signal = final_signal.reshape((num_samples, 1))\n",
    "preview_np_array(final_signal, \"Final Signal\")"
   ]
  },
  {
   "cell_type": "code",
   "execution_count": 38,
   "metadata": {},
   "outputs": [],
   "source": [
    "EXPORT_SIGNAL = False\n",
    "if EXPORT_SIGNAL:\n",
    "    # Define the parent folder to store the results\n",
    "    parent_folder = f\"results/seeg_filtered_subset_90-119_segment{segment_length}_{segment_end_padding}\"\n",
    "    # Create the folder to store the results if it does not exist\n",
    "    if not os.path.exists(parent_folder):\n",
    "        os.makedirs(parent_folder)\n",
    "\n",
    "    # Add the band suffix to the file name\n",
    "    final_signal_sufix = ''\n",
    "    if chosen_band == MarkerType.RIPPLE:\n",
    "        final_signal_sufix = 'ripple_band'\n",
    "    elif chosen_band == MarkerType.FAST_RIPPLE:\n",
    "        final_signal_sufix = 'fr_band'\n",
    "    else:\n",
    "        final_signal_sufix = 'both_bands'\n",
    "\n",
    "    file_name = f\"{parent_folder}/{final_signal_sufix}.npy\"\n",
    "    np.save(file_name, final_signal)   # Save the data to a numpy file (not stored in git due to size)"
   ]
  }
 ],
 "metadata": {
  "kernelspec": {
   "display_name": "Python 3 (ipykernel)",
   "language": "python",
   "name": "python3"
  }
 },
 "nbformat": 4,
 "nbformat_minor": 2
}
