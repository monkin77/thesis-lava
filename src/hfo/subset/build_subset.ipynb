{
 "cells": [
  {
   "cell_type": "markdown",
   "metadata": {},
   "source": [
    "# Build subset of SEEG recording containing relevant HFOs and some background activity\n"
   ]
  },
  {
   "cell_type": "markdown",
   "metadata": {},
   "source": [
    "### Check WD (change if necessary) and file loading"
   ]
  },
  {
   "cell_type": "code",
   "execution_count": 250,
   "metadata": {},
   "outputs": [
    {
     "name": "stdout",
     "output_type": "stream",
     "text": [
      "/home/monkin/Desktop/feup/thesis/thesis-lava/src/hfo/subset\n"
     ]
    }
   ],
   "source": [
    "# Show current directory\n",
    "import os\n",
    "curr_dir = os.getcwd()\n",
    "print(curr_dir)\n",
    "\n",
    "# Check if the current WD is the file location\n",
    "if \"/src/hfo/subset\" not in os.getcwd():\n",
    "    # Set working directory to this file location\n",
    "    file_location = f\"{os.getcwd()}/thesis-lava/src/hfo/subset\"\n",
    "    print(\"File Location: \", file_location)\n",
    "\n",
    "    # Change the current working Directory\n",
    "    os.chdir(file_location)\n",
    "\n",
    "    # New Working Directory\n",
    "    print(\"New Working Directory: \", os.getcwd())\n",
    "\n",
    "PATH_TO_FILE = '' # 'src/hfo/'  # This is needed if the WD is not the same as the file location"
   ]
  },
  {
   "cell_type": "markdown",
   "metadata": {},
   "source": [
    "## Choose if we are using the ripple band, fast ripple band or both at the same time"
   ]
  },
  {
   "cell_type": "code",
   "execution_count": 251,
   "metadata": {},
   "outputs": [],
   "source": [
    "from utils.input import MarkerType, band_to_file_name\n",
    "\n",
    "# chosen band\n",
    "chosen_band = MarkerType.BOTH     # RIPPLE, FAST_RIPPLE, or BOTH\n",
    "\n",
    "file_suffix = f'{band_to_file_name(chosen_band)}_band'"
   ]
  },
  {
   "cell_type": "code",
   "execution_count": 252,
   "metadata": {},
   "outputs": [
    {
     "name": "stdout",
     "output_type": "stream",
     "text": [
      "Data shape:  (245760, 30)\n",
      "First time steps:  [[ 4.09480909e-04  9.68536667e-06  6.00492433e-04  2.11817278e-04\n",
      "   8.19093464e-04 ... -1.27973846e-03 -3.00495254e-03 -1.17003699e-03\n",
      "  -1.51614964e-03 -1.31151607e-03]\n",
      " [ 3.39510592e-03 -5.08286241e-04  4.07428527e-03  1.53467370e-03\n",
      "   7.11611752e-03 ... -1.24625148e-02 -2.99039788e-02 -1.15449010e-02\n",
      "  -1.33184926e-02 -1.29171986e-02]\n",
      " [ 9.48105758e-03 -7.24987603e-03  6.98102915e-03  2.11405073e-03\n",
      "   2.63920311e-02 ... -5.33704203e-02 -1.27752620e-01 -4.94543299e-02\n",
      "  -4.89733561e-02 -5.45703060e-02]\n",
      " [-4.69822442e-05 -4.14342767e-02 -1.93337945e-02 -1.30258934e-02\n",
      "   5.37848010e-02 ... -1.26322770e-01 -2.87773455e-01 -1.14816642e-01\n",
      "  -9.17076477e-02 -1.22544852e-01]\n",
      " [-6.51057965e-02 -1.29196840e-01 -1.08943042e-01 -5.89199385e-02\n",
      "   6.80996985e-02 ... -1.53200083e-01 -2.87968860e-01 -1.34197504e-01\n",
      "  -6.98435863e-02 -1.29662123e-01]\n",
      " [-1.68834248e-01 -2.22752900e-01 -2.02191806e-01 -8.46475789e-02\n",
      "   7.59963013e-02 ...  1.79497541e-02  2.00512780e-01  2.75714696e-03\n",
      "   6.06506328e-02  4.63494814e-02]\n",
      " [-1.51034102e-01 -1.26565921e-01 -1.23371922e-01  2.66335818e-02\n",
      "   1.18488922e-01 ...  4.23861127e-01  1.04973361e+00  2.55256436e-01\n",
      "   2.10376724e-01  3.56339034e-01]\n",
      " [ 1.54832253e-01  3.23973122e-01  1.98139702e-01  2.48152756e-01\n",
      "   1.22980280e-01 ...  7.59334513e-01  1.40972254e+00  3.65230391e-01\n",
      "   2.43612306e-01  5.06679923e-01]\n",
      " [ 5.98431987e-01  8.61828542e-01  5.43341237e-01  2.75164323e-01\n",
      "  -1.69827605e-01 ...  5.31586782e-01  5.97902155e-01  1.95579270e-01\n",
      "   1.55994450e-01  2.72515322e-01]\n",
      " [ 6.92696635e-01  8.42361900e-01  6.31974189e-01 -1.00406488e-01\n",
      "  -8.28948087e-01 ... -3.12141518e-01 -8.16356818e-01  5.29080860e-02\n",
      "   5.04430258e-02 -1.68647949e-01]]\n"
     ]
    }
   ],
   "source": [
    "import numpy as np\n",
    "import math\n",
    "from utils.io import preview_np_array\n",
    "\n",
    "seeg_file_common = f\"../filter/results/synthetic/filtered_seeg_ch90-119\"\n",
    "seeg_file_name = f\"{seeg_file_common}_{file_suffix}.npy\"\n",
    "recorded_data = np.load(f\"{PATH_TO_FILE}{seeg_file_name}\")\n",
    "\n",
    "print(\"Data shape: \", recorded_data.shape)\n",
    "print(\"First time steps: \", recorded_data[:10])"
   ]
  },
  {
   "cell_type": "markdown",
   "metadata": {},
   "source": [
    "## Define Global Parameters of the Experiment"
   ]
  },
  {
   "cell_type": "code",
   "execution_count": 253,
   "metadata": {},
   "outputs": [],
   "source": [
    "sampling_rate = 2048    # 2048 Hz\n",
    "input_duration = 120 * (10**3)    # 120000 ms or 120 seconds\n",
    "num_samples = recorded_data.shape[0]    # 2048 * 120 = 245760\n",
    "num_channels = recorded_data.shape[1]   # 960\n",
    "\n",
    "x_step = 1/sampling_rate * (10**3)  # 0.48828125 ms"
   ]
  },
  {
   "cell_type": "markdown",
   "metadata": {},
   "source": [
    "## Define the Channels of Interest that will be used to extract the signal"
   ]
  },
  {
   "cell_type": "code",
   "execution_count": 254,
   "metadata": {},
   "outputs": [],
   "source": [
    "ch_start_idx = 0    # 90  # Start index of the region of interest\n",
    "ch_end_idx = ch_start_idx + 30 # End index of the region of interest "
   ]
  },
  {
   "cell_type": "markdown",
   "metadata": {},
   "source": [
    "### Extract the SEEG channels in the defined range from the SEEG data"
   ]
  },
  {
   "cell_type": "code",
   "execution_count": 255,
   "metadata": {},
   "outputs": [
    {
     "name": "stdout",
     "output_type": "stream",
     "text": [
      "SEEG Channels Shape: (245760, 30).\n",
      "Preview: [[ 4.09480909e-04  9.68536667e-06  6.00492433e-04  2.11817278e-04\n",
      "   8.19093464e-04 ... -1.27973846e-03 -3.00495254e-03 -1.17003699e-03\n",
      "  -1.51614964e-03 -1.31151607e-03]\n",
      " [ 3.39510592e-03 -5.08286241e-04  4.07428527e-03  1.53467370e-03\n",
      "   7.11611752e-03 ... -1.24625148e-02 -2.99039788e-02 -1.15449010e-02\n",
      "  -1.33184926e-02 -1.29171986e-02]\n",
      " [ 9.48105758e-03 -7.24987603e-03  6.98102915e-03  2.11405073e-03\n",
      "   2.63920311e-02 ... -5.33704203e-02 -1.27752620e-01 -4.94543299e-02\n",
      "  -4.89733561e-02 -5.45703060e-02]\n",
      " [-4.69822442e-05 -4.14342767e-02 -1.93337945e-02 -1.30258934e-02\n",
      "   5.37848010e-02 ... -1.26322770e-01 -2.87773455e-01 -1.14816642e-01\n",
      "  -9.17076477e-02 -1.22544852e-01]\n",
      " [-6.51057965e-02 -1.29196840e-01 -1.08943042e-01 -5.89199385e-02\n",
      "   6.80996985e-02 ... -1.53200083e-01 -2.87968860e-01 -1.34197504e-01\n",
      "  -6.98435863e-02 -1.29662123e-01]\n",
      " ...\n",
      " [ 8.29896002e-01 -5.22494932e-01  1.10855384e+00 -3.81889266e-02\n",
      "  -1.04171137e+00 ...  8.81004415e-01  4.92281196e-01 -1.89740129e-01\n",
      "   7.87723667e-01 -2.00278079e+00]\n",
      " [ 1.36547475e-01 -1.55095619e+00  1.05290794e+00  9.64827781e-02\n",
      "  -1.32575167e+00 ... -1.34921141e-01  4.28828380e-01 -8.23975013e-01\n",
      "   4.70264541e-01 -1.86917837e+00]\n",
      " [-1.94394097e-01 -1.16726563e+00  6.92296294e-01  4.69309575e-01\n",
      "  -2.07711574e+00 ... -5.85099868e-01 -5.98544968e-01 -5.81966588e-01\n",
      "   2.81580766e-01 -1.49518647e+00]\n",
      " [-7.64045105e-02 -2.77992521e-01  4.78763288e-01  8.48427122e-01\n",
      "  -2.34500731e+00 ... -3.12216383e-01 -1.25771211e+00  5.38606722e-02\n",
      "   9.25334506e-01 -1.74874841e+00]\n",
      " [-8.71713443e-02 -4.33051842e-01  6.67989268e-01  8.88997365e-01\n",
      "  -1.56334013e+00 ...  5.44230268e-02 -9.65795763e-01  1.02978096e-01\n",
      "   1.70951012e+00 -1.87446967e+00]]\n"
     ]
    }
   ],
   "source": [
    "# Extract the seeg_channels in the range [ch_start_idx, ch_end_idx]\n",
    "relevant_seeg = recorded_data[:, ch_start_idx:ch_end_idx]\n",
    "\n",
    "preview_np_array(relevant_seeg, \"SEEG Channels\")"
   ]
  },
  {
   "cell_type": "markdown",
   "metadata": {},
   "source": [
    "## Import the Markers (Annotated Events) \n",
    "The markers are stored in a numpy array of shape (num_channels, events):\n",
    "- Each row represents the events of a channel\n",
    "- Each event is composed of the following 3 fields (Label, Position, Shape)"
   ]
  },
  {
   "cell_type": "code",
   "execution_count": 256,
   "metadata": {},
   "outputs": [
    {
     "name": "stdout",
     "output_type": "stream",
     "text": [
      "Markers shape:  (30, 42)\n",
      "First time steps:  [[('Spike',   1000.  , 0.) ('Spike+Fast-Ripple',   4218.75, 0.)\n",
      "  ('Ripple+Fast-Ripple',   6966.8 , 0.)\n",
      "  ('Ripple+Fast-Ripple',   9793.95, 0.)\n",
      "  ('Spike+Ripple+Fast-Ripple',  13189.  , 0.) ...\n",
      "  ('Ripple+Fast-Ripple', 107859.  , 0.) ('Spike+Ripple', 111439.  , 0.)\n",
      "  ('Ripple', 114551.  , 0.) ('Spike+Ripple', 116517.  , 0.)\n",
      "  ('Spike+Ripple', 119000.  , 0.)]\n",
      " [('Spike+Ripple',   1000.  , 0.)\n",
      "  ('Spike+Ripple+Fast-Ripple',   3917.97, 0.)\n",
      "  ('Spike+Fast-Ripple',   6794.92, 0.) ('Fast-Ripple',   9094.73, 0.)\n",
      "  ('Fast-Ripple',  12348.1 , 0.) ... ('Spike+Fast-Ripple', 107697.  , 0.)\n",
      "  ('Fast-Ripple', 111079.  , 0.) ('Spike', 113382.  , 0.)\n",
      "  ('Ripple+Fast-Ripple', 116656.  , 0.) ('Spike+Ripple', 119000.  , 0.)]\n",
      " [('Fast-Ripple',   1000.  , 0.) ('Spike',   3655.76, 0.)\n",
      "  ('Spike',   7188.96, 0.) ('Spike',   9880.37, 0.)\n",
      "  ('Spike+Ripple',  13890.6 , 0.) ...\n",
      "  ('Spike+Fast-Ripple', 107924.  , 0.)\n",
      "  ('Spike+Ripple+Fast-Ripple', 110238.  , 0.)\n",
      "  ('Spike+Ripple+Fast-Ripple', 112797.  , 0.)\n",
      "  ('Fast-Ripple', 115363.  , 0.) ('Spike+Fast-Ripple', 119000.  , 0.)]\n",
      " [('Spike+Ripple+Fast-Ripple',   1000.  , 0.)\n",
      "  ('Spike+Fast-Ripple',   3454.59, 0.)\n",
      "  ('Ripple+Fast-Ripple',   6599.61, 0.) ('Fast-Ripple',   9182.62, 0.)\n",
      "  ('Spike+Ripple+Fast-Ripple',  12129.9 , 0.) ...\n",
      "  ('Ripple+Fast-Ripple', 108521.  , 0.)\n",
      "  ('Ripple+Fast-Ripple', 110662.  , 0.) ('Spike+Ripple', 113249.  , 0.)\n",
      "  ('Spike+Fast-Ripple', 116929.  , 0.) ('Ripple', 119000.  , 0.)]\n",
      " [('Ripple',   1000.  , 0.) ('Spike',   4412.11, 0.)\n",
      "  ('Ripple+Fast-Ripple',   6992.19, 0.)\n",
      "  ('Spike+Ripple+Fast-Ripple',   9307.13, 0.)\n",
      "  ('Spike+Ripple',  11564.  , 0.) ...\n",
      "  ('Spike+Ripple+Fast-Ripple', 108013.  , 0.)\n",
      "  ('Ripple+Fast-Ripple', 110644.  , 0.) ('Spike', 113402.  , 0.)\n",
      "  ('Fast-Ripple', 115506.  , 0.) ('Spike+Ripple', 119000.  , 0.)]\n",
      " [('Spike+Ripple+Fast-Ripple',   1000.  , 0.)\n",
      "  ('Spike+Ripple+Fast-Ripple',   3206.54, 0.) ('Spike',   5755.86, 0.)\n",
      "  ('Ripple',   9064.45, 0.) ('Ripple+Fast-Ripple',  12262.2 , 0.) ...\n",
      "  ('Spike+Fast-Ripple', 108330.  , 0.) ('Fast-Ripple', 110470.  , 0.)\n",
      "  ('Spike+Fast-Ripple', 112796.  , 0.) ('Spike+Ripple', 115960.  , 0.)\n",
      "  ('Ripple', 119000.  , 0.)]\n",
      " [('Fast-Ripple',   1000.  , 0.) ('Spike',   3403.81, 0.)\n",
      "  ('Ripple+Fast-Ripple',   5478.03, 0.)\n",
      "  ('Spike+Ripple+Fast-Ripple',   9184.57, 0.)\n",
      "  ('Spike+Ripple',  11314.  , 0.) ... ('Ripple', 107414.  , 0.)\n",
      "  ('Fast-Ripple', 110437.  , 0.) ('Fast-Ripple', 113259.  , 0.)\n",
      "  ('Ripple', 116601.  , 0.) ('Spike+Ripple+Fast-Ripple', 119000.  , 0.)]\n",
      " [('Spike',   1000.  , 0.) ('Spike+Ripple+Fast-Ripple',   3865.23, 0.)\n",
      "  ('Spike+Fast-Ripple',   6539.06, 0.)\n",
      "  ('Spike+Ripple+Fast-Ripple',   9241.7 , 0.)\n",
      "  ('Ripple+Fast-Ripple',  12742.7 , 0.) ...\n",
      "  ('Spike+Fast-Ripple', 105827.  , 0.) ('Spike+Ripple', 109069.  , 0.)\n",
      "  ('Ripple', 111636.  , 0.) ('Spike', 115284.  , 0.)\n",
      "  ('Spike+Ripple', 119000.  , 0.)]\n",
      " [('Spike+Ripple',   1000.  , 0.) ('Spike',   4505.37, 0.)\n",
      "  ('Fast-Ripple',   7111.82, 0.)\n",
      "  ('Spike+Ripple+Fast-Ripple',  10503.9 , 0.)\n",
      "  ('Fast-Ripple',  13988.3 , 0.) ... ('Spike+Fast-Ripple', 107811.  , 0.)\n",
      "  ('Spike+Ripple', 110458.  , 0.) ('Fast-Ripple', 112738.  , 0.)\n",
      "  ('Spike+Ripple', 116216.  , 0.) ('Spike', 119000.  , 0.)]\n",
      " [('Ripple',   1000.  , 0.) ('Ripple+Fast-Ripple',   4134.77, 0.)\n",
      "  ('Spike+Fast-Ripple',   8088.87, 0.) ('Spike+Ripple',  10218.3 , 0.)\n",
      "  ('Spike+Ripple',  13559.1 , 0.) ...\n",
      "  ('Spike+Ripple+Fast-Ripple', 106886.  , 0.) ('Spike', 109583.  , 0.)\n",
      "  ('Fast-Ripple', 112958.  , 0.) ('Spike', 115918.  , 0.)\n",
      "  ('Ripple', 119000.  , 0.)]]\n"
     ]
    }
   ],
   "source": [
    "markers_seeg_file_name = f\"{seeg_file_common}_markers.npy\"\n",
    "markers = np.load(f\"{PATH_TO_FILE}{markers_seeg_file_name}\")\n",
    "\n",
    "print(\"Markers shape: \", markers.shape)\n",
    "print(\"First time steps: \", markers[:10])"
   ]
  },
  {
   "cell_type": "markdown",
   "metadata": {},
   "source": [
    "### Get the markers with a certain SNR in a specific region\n",
    "Let's use the markers with a SNR=15dB in the first region"
   ]
  },
  {
   "cell_type": "code",
   "execution_count": 257,
   "metadata": {},
   "outputs": [
    {
     "name": "stdout",
     "output_type": "stream",
     "text": [
      "relevant_markers Shape: (30, 42).\n",
      "Preview: [[('Spike',   1000.  , 0.) ('Spike+Fast-Ripple',   4218.75, 0.)\n",
      "  ('Ripple+Fast-Ripple',   6966.8 , 0.)\n",
      "  ('Ripple+Fast-Ripple',   9793.95, 0.)\n",
      "  ('Spike+Ripple+Fast-Ripple',  13189.  , 0.) ...\n",
      "  ('Ripple+Fast-Ripple', 107859.  , 0.) ('Spike+Ripple', 111439.  , 0.)\n",
      "  ('Ripple', 114551.  , 0.) ('Spike+Ripple', 116517.  , 0.)\n",
      "  ('Spike+Ripple', 119000.  , 0.)]\n",
      " [('Spike+Ripple',   1000.  , 0.)\n",
      "  ('Spike+Ripple+Fast-Ripple',   3917.97, 0.)\n",
      "  ('Spike+Fast-Ripple',   6794.92, 0.) ('Fast-Ripple',   9094.73, 0.)\n",
      "  ('Fast-Ripple',  12348.1 , 0.) ... ('Spike+Fast-Ripple', 107697.  , 0.)\n",
      "  ('Fast-Ripple', 111079.  , 0.) ('Spike', 113382.  , 0.)\n",
      "  ('Ripple+Fast-Ripple', 116656.  , 0.) ('Spike+Ripple', 119000.  , 0.)]\n",
      " [('Fast-Ripple',   1000.  , 0.) ('Spike',   3655.76, 0.)\n",
      "  ('Spike',   7188.96, 0.) ('Spike',   9880.37, 0.)\n",
      "  ('Spike+Ripple',  13890.6 , 0.) ...\n",
      "  ('Spike+Fast-Ripple', 107924.  , 0.)\n",
      "  ('Spike+Ripple+Fast-Ripple', 110238.  , 0.)\n",
      "  ('Spike+Ripple+Fast-Ripple', 112797.  , 0.)\n",
      "  ('Fast-Ripple', 115363.  , 0.) ('Spike+Fast-Ripple', 119000.  , 0.)]\n",
      " [('Spike+Ripple+Fast-Ripple',   1000.  , 0.)\n",
      "  ('Spike+Fast-Ripple',   3454.59, 0.)\n",
      "  ('Ripple+Fast-Ripple',   6599.61, 0.) ('Fast-Ripple',   9182.62, 0.)\n",
      "  ('Spike+Ripple+Fast-Ripple',  12129.9 , 0.) ...\n",
      "  ('Ripple+Fast-Ripple', 108521.  , 0.)\n",
      "  ('Ripple+Fast-Ripple', 110662.  , 0.) ('Spike+Ripple', 113249.  , 0.)\n",
      "  ('Spike+Fast-Ripple', 116929.  , 0.) ('Ripple', 119000.  , 0.)]\n",
      " [('Ripple',   1000.  , 0.) ('Spike',   4412.11, 0.)\n",
      "  ('Ripple+Fast-Ripple',   6992.19, 0.)\n",
      "  ('Spike+Ripple+Fast-Ripple',   9307.13, 0.)\n",
      "  ('Spike+Ripple',  11564.  , 0.) ...\n",
      "  ('Spike+Ripple+Fast-Ripple', 108013.  , 0.)\n",
      "  ('Ripple+Fast-Ripple', 110644.  , 0.) ('Spike', 113402.  , 0.)\n",
      "  ('Fast-Ripple', 115506.  , 0.) ('Spike+Ripple', 119000.  , 0.)]\n",
      " ...\n",
      " [('Spike',   1000.  , 0.) ('Spike+Fast-Ripple',   4195.8 , 0.)\n",
      "  ('Spike',   8033.2 , 0.) ('Fast-Ripple',  11114.7 , 0.)\n",
      "  ('Ripple+Fast-Ripple',  14273.9 , 0.) ...\n",
      "  ('Spike+Ripple+Fast-Ripple', 107961.  , 0.) ('Ripple', 111138.  , 0.)\n",
      "  ('Spike+Fast-Ripple', 113772.  , 0.)\n",
      "  ('Ripple+Fast-Ripple', 116453.  , 0.)\n",
      "  ('Ripple+Fast-Ripple', 119000.  , 0.)]\n",
      " [('Spike',   1000.  , 0.) ('Ripple',   3381.84, 0.)\n",
      "  ('Fast-Ripple',   6243.65, 0.) ('Spike+Ripple',   8873.05, 0.)\n",
      "  ('Ripple+Fast-Ripple',  11957.  , 0.) ...\n",
      "  ('Fast-Ripple', 107895.  , 0.) ('Spike+Ripple', 110412.  , 0.)\n",
      "  ('Spike+Ripple+Fast-Ripple', 112735.  , 0.)\n",
      "  ('Spike+Fast-Ripple', 115777.  , 0.)\n",
      "  ('Spike+Fast-Ripple', 119000.  , 0.)]\n",
      " [('Ripple+Fast-Ripple',   1000.  , 0.) ('Ripple',   3543.46, 0.)\n",
      "  ('Ripple+Fast-Ripple',   6759.77, 0.)\n",
      "  ('Ripple+Fast-Ripple',   9539.55, 0.)\n",
      "  ('Spike+Fast-Ripple',  11367.7 , 0.) ...\n",
      "  ('Spike+Ripple', 106287.  , 0.) ('Ripple', 109383.  , 0.)\n",
      "  ('Fast-Ripple', 112950.  , 0.) ('Spike+Ripple', 115987.  , 0.)\n",
      "  ('Spike+Ripple', 119000.  , 0.)]\n",
      " [('Spike+Fast-Ripple',   1000.  , 0.) ('Fast-Ripple',   4774.41, 0.)\n",
      "  ('Ripple',   7656.74, 0.) ('Ripple',  11189.5 , 0.)\n",
      "  ('Fast-Ripple',  14050.8 , 0.) ...\n",
      "  ('Spike+Ripple+Fast-Ripple', 106867.  , 0.)\n",
      "  ('Spike+Fast-Ripple', 110114.  , 0.) ('Spike', 113143.  , 0.)\n",
      "  ('Ripple+Fast-Ripple', 116769.  , 0.) ('Ripple', 119000.  , 0.)]\n",
      " [('Spike+Ripple',   1000.  , 0.) ('Ripple',   4143.07, 0.)\n",
      "  ('Spike+Fast-Ripple',   6804.2 , 0.) ('Ripple',   9793.46, 0.)\n",
      "  ('Spike+Fast-Ripple',  12680.7 , 0.) ... ('Ripple', 107164.  , 0.)\n",
      "  ('Fast-Ripple', 109500.  , 0.) ('Ripple+Fast-Ripple', 112313.  , 0.)\n",
      "  ('Spike+Ripple+Fast-Ripple', 115019.  , 0.)\n",
      "  ('Fast-Ripple', 119000.  , 0.)]]\n"
     ]
    }
   ],
   "source": [
    "relevant_markers = markers[ch_start_idx:ch_end_idx]\n",
    "preview_np_array(relevant_markers, \"relevant_markers\")"
   ]
  },
  {
   "cell_type": "markdown",
   "metadata": {},
   "source": [
    "### Build a subset of the SEEG recording joining data from the channels selected above that contain relevant HFOs"
   ]
  },
  {
   "cell_type": "code",
   "execution_count": 258,
   "metadata": {},
   "outputs": [
    {
     "name": "stdout",
     "output_type": "stream",
     "text": [
      "Time values:  [0.48828125, 0.9765625, 1.46484375, 1.953125, 2.44140625, 2.9296875, 3.41796875, 3.90625, 4.39453125, 4.8828125]\n"
     ]
    }
   ],
   "source": [
    "# Build the time_step values of the signal\n",
    "time_vals = [val for val in np.arange(x_step, input_duration + x_step, x_step)]\n",
    "print(\"Time values: \", time_vals[:10])"
   ]
  },
  {
   "cell_type": "code",
   "execution_count": 259,
   "metadata": {},
   "outputs": [
    {
     "name": "stdout",
     "output_type": "stream",
     "text": [
      "channels_curr_marker_idx Shape: (30,).\n",
      "Preview: [0 0 0 0 0 ... 0 0 0 0 0]\n"
     ]
    }
   ],
   "source": [
    "final_signal = np.empty(shape=(num_samples))    # Initialize the final signal\n",
    "final_markers = []                  # List holding the final markers\n",
    "\n",
    "# Variable holding the current marker idx for each channel\n",
    "channels_curr_marker_idx = np.zeros(shape=(relevant_markers.shape[0]), dtype=int)\n",
    "preview_np_array(channels_curr_marker_idx, \"channels_curr_marker_idx\")"
   ]
  },
  {
   "cell_type": "markdown",
   "metadata": {},
   "source": [
    "## Set the lenght of each segment to be extracted from a channel\n",
    "Since we want to join the data from several channels in a single subset, we need to set the length of the segments to be extracted from each channel.\n",
    "\n",
    "Furthermore, we also need to define a padding to avoid adding a HFO that occurs at the end of a segment since it may interfere with the next segment and be cut short."
   ]
  },
  {
   "cell_type": "code",
   "execution_count": 260,
   "metadata": {},
   "outputs": [],
   "source": [
    "segment_length = 500    # 500 / 1000 ms segments. Every 1000ms, there will be a relevant event (Ripple, Fast Ripple, or both)\n",
    "# TODO: Could change to 1000ms for safety and increase the padding as well (to 300ms for example)\n",
    "\n",
    "segment_end_padding = 200    # 200 / 300 ms padding at the end of each segment (Longest Ripples seem to last about 120ms according to Sofia?)"
   ]
  },
  {
   "cell_type": "markdown",
   "metadata": {},
   "source": [
    "### Define the function that checks if the label of a marker belongs to the list of labels of interest"
   ]
  },
  {
   "cell_type": "code",
   "execution_count": 261,
   "metadata": {},
   "outputs": [],
   "source": [
    "from utils.input import label_has_hfo_event, label_has_ripple, label_has_fast_ripple\n",
    "\n",
    "# Function that dictates if a label is relevant\n",
    "def is_relevant_label(label):\n",
    "    if chosen_band == MarkerType.RIPPLE:\n",
    "        return label_has_ripple(label)\n",
    "    elif chosen_band == MarkerType.FAST_RIPPLE:\n",
    "        return label_has_fast_ripple(label)\n",
    "    else:\n",
    "        return label_has_hfo_event(label)"
   ]
  },
  {
   "cell_type": "code",
   "execution_count": 262,
   "metadata": {},
   "outputs": [
    {
     "name": "stdout",
     "output_type": "stream",
     "text": [
      "Random Channel Offset:  8\n"
     ]
    }
   ],
   "source": [
    "# Randomly select a channel to start inserting annotated events\n",
    "random_channel_offset = np.random.randint(0, relevant_markers.shape[0] - 1)\n",
    "print(\"Random Channel Offset: \", random_channel_offset)"
   ]
  },
  {
   "cell_type": "code",
   "execution_count": 263,
   "metadata": {},
   "outputs": [],
   "source": [
    "for curr_segment in range(0, input_duration, segment_length):\n",
    "    time_start_idx = int(curr_segment / x_step)   # Start index of the segment in the time_vals array\n",
    "    time_end_idx = int((curr_segment + segment_length) / x_step)   # End index of the segment in the time_vals array (exclusive)\n",
    "    # print(\"time start idx: \", time_start_idx, \"time end idx: \", time_end_idx)\n",
    "\n",
    "    # Search for a relevant event in this segment\n",
    "    starting_marker_idx = (int(curr_segment / segment_length) + random_channel_offset) % relevant_markers.shape[0]    # Get the marker index where we start searching for this segment\n",
    "    # print(\"starting_marker_idx: \", starting_marker_idx)\n",
    "    curr_marker_idx = starting_marker_idx\n",
    "\n",
    "    segment_marker = None   # Variable to hold the marker of the current segment\n",
    "    # Search for a relevant event in this time segment\n",
    "    while True:\n",
    "        # Check if the markers of the current channel have a relevant event inside the segment\n",
    "        for inner_marker_idx in range(channels_curr_marker_idx[curr_marker_idx], relevant_markers.shape[1], 1):\n",
    "            curr_marker = relevant_markers[curr_marker_idx][inner_marker_idx]\n",
    "\n",
    "            # Check if the current marker is a relevant event (Ripple, Fast Ripple, or both)\n",
    "            if is_relevant_label(curr_marker['label']):\n",
    "                \n",
    "                # print(curr_marker['position'] + segment_end_padding, curr_segment + segment_length)\n",
    "\n",
    "                if curr_marker['position'] >= curr_segment and (curr_marker['position'] + segment_end_padding <= curr_segment + segment_length):\n",
    "                    # print(\"curr_marker position: \", curr_marker['position'], \"curr_segment: \", curr_segment, \"segment_length: \", segment_length)\n",
    "                    # Found a relevant event\n",
    "                    segment_marker = curr_marker\n",
    "\n",
    "                    # Update the current marker index for this channel to the next marker\n",
    "                    channels_curr_marker_idx[curr_marker_idx] = inner_marker_idx + 1\n",
    "\n",
    "                    break   # Stop searching for relevant events in this channel\n",
    "            \n",
    "            # Check if the current marker is outside the segment\n",
    "            if curr_marker['position'] < curr_segment + segment_length:\n",
    "                # Update the current marker index for this channel to the next marker of this channel\n",
    "                channels_curr_marker_idx[curr_marker_idx] = inner_marker_idx + 1\n",
    "\n",
    "        # If a relevant event is found, add the relevant event to the final signal\n",
    "        if segment_marker is not None:\n",
    "            # Add the relevant event's seeg data to the final signal\n",
    "            final_signal[time_start_idx:time_end_idx] = relevant_seeg[time_start_idx:time_end_idx, curr_marker_idx]\n",
    "\n",
    "            # Add the relevant event's marker to the final markers\n",
    "            final_markers.append(segment_marker)  # TODO: Change this to the actual marker after being found\n",
    "            break\n",
    "\n",
    "\n",
    "        # Search in the markers of the next channel\n",
    "        curr_marker_idx = (curr_marker_idx + 1) % relevant_markers.shape[0]    # Move to the next marker index\n",
    "\n",
    "        # Check if we have reached the starting marker index\n",
    "        if curr_marker_idx == starting_marker_idx:\n",
    "            # We have searched all the markers in this segment (No relevant event found) \n",
    "            # -> Add current channel data to the final signal (with no relevant events)\n",
    "\n",
    "            # Add background noise to the segment\n",
    "            final_signal[time_start_idx:time_end_idx] = relevant_seeg[time_start_idx:time_end_idx, curr_marker_idx]\n",
    "            break"
   ]
  },
  {
   "cell_type": "markdown",
   "metadata": {},
   "source": [
    "### Preview the final signal and markers"
   ]
  },
  {
   "cell_type": "code",
   "execution_count": 264,
   "metadata": {},
   "outputs": [
    {
     "name": "stdout",
     "output_type": "stream",
     "text": [
      "Final Signal Shape: (245760,).\n",
      "Preview: [-8.36580462e-04 -6.20809776e-03 -1.53260303e-02  1.02969404e-03\n",
      "  8.42799251e-02 ... -7.11087794e-01 -3.46299636e-01 -2.91259431e-03\n",
      "  3.93772202e-01  1.21046465e+00]\n"
     ]
    }
   ],
   "source": [
    "preview_np_array(final_signal, \"Final Signal\")"
   ]
  },
  {
   "cell_type": "code",
   "execution_count": 265,
   "metadata": {},
   "outputs": [
    {
     "name": "stdout",
     "output_type": "stream",
     "text": [
      "Final Markers Shape: (222,).\n",
      "Preview: [('Fast-Ripple',   1000.  , 0.)\n",
      " ('Spike+Ripple+Fast-Ripple',   3206.54, 0.)\n",
      " ('Spike+Ripple',   3647.95, 0.)\n",
      " ('Spike+Ripple+Fast-Ripple',   4292.97, 0.)\n",
      " ('Fast-Ripple',   4774.41, 0.) ...\n",
      " ('Spike+Ripple+Fast-Ripple', 115019.  , 0.)\n",
      " ('Fast-Ripple', 115506.  , 0.) ('Spike+Ripple', 116216.  , 0.)\n",
      " ('Ripple+Fast-Ripple', 116656.  , 0.)\n",
      " ('Spike+Ripple+Fast-Ripple', 119000.  , 0.)]\n"
     ]
    }
   ],
   "source": [
    "final_markers = np.array(final_markers)\n",
    "preview_np_array(final_markers, \"Final Markers\")"
   ]
  },
  {
   "cell_type": "markdown",
   "metadata": {},
   "source": [
    "---"
   ]
  },
  {
   "cell_type": "markdown",
   "metadata": {},
   "source": [
    "## Visualize the Subset of the SEEG Data"
   ]
  },
  {
   "cell_type": "code",
   "execution_count": 266,
   "metadata": {},
   "outputs": [],
   "source": [
    "# Interactive Plot for the HFO detection\n",
    "# bokeh docs: https://docs.bokeh.org/en/2.4.1/docs/first_steps/first_steps_1.html\n",
    "\n",
    "from utils.line_plot import create_fig  # Import the function to create the figure\n",
    "from bokeh.models import Range1d\n",
    "\n",
    "# Define the x and y values\n",
    "# Should the first input start at 0 or x_step?\n",
    "# TODO: is it okay to create a range with floats?\n",
    "x = [val for val in np.arange(x_step, input_duration + x_step, x_step)] \n",
    "\n",
    "# Create the y arrays for the voltage plot representing the voltage of each electrode\n",
    "v_yarrays = [final_signal]"
   ]
  },
  {
   "cell_type": "markdown",
   "metadata": {},
   "source": [
    "## Create the Plot"
   ]
  },
  {
   "cell_type": "code",
   "execution_count": 267,
   "metadata": {},
   "outputs": [],
   "source": [
    "# Create the plot\n",
    "# List of tuples containing the y values and the legend label\n",
    "hfo_y_arrays = [(final_signal, \"Joined subset of SEEG Channels\")]\n",
    "\n",
    "# Create the SEEG Voltage plot\n",
    "hfo_plot = create_fig(\n",
    "    title=f\"Subset sEEG Signal of Channels 90-119 ({band_to_file_name(chosen_band)} band)\", \n",
    "    x_axis_label='time (ms)', \n",
    "    y_axis_label='Voltage (μV)',\n",
    "    x=x, \n",
    "    y_arrays=hfo_y_arrays, \n",
    "    sizing_mode=\"stretch_both\", \n",
    "    tools=\"pan, box_zoom, wheel_zoom, hover, undo, redo, zoom_in, zoom_out, reset, save\",\n",
    "    tooltips=\"Data point @x: @y\",\n",
    "    legend_location=\"top_right\",\n",
    "    legend_bg_fill_color=\"navy\",\n",
    "    legend_bg_fill_alpha=0.1,\n",
    "    # y_range=Range1d(-0.05, 1.05)\n",
    ")\n",
    "\n",
    "# If there are more than 30 channels, hide the legend\n",
    "if len(hfo_y_arrays) > 30:\n",
    "    # Hide the legend\n",
    "    hfo_plot.legend.visible = False"
   ]
  },
  {
   "cell_type": "markdown",
   "metadata": {},
   "source": [
    "## Add Box Annotations to the plot to identify the marked HFOs (ground truth)"
   ]
  },
  {
   "cell_type": "code",
   "execution_count": 268,
   "metadata": {},
   "outputs": [],
   "source": [
    "from bokeh.models import BoxAnnotation\n",
    "# from utils.line_plot import color_map\n",
    "\n",
    "show_markers = True    # Boolean to show the markers\n",
    "\n",
    "color_map = {                  \n",
    "    'Spike': 'red',\n",
    "    'Fast-Ripple': 'blue',\n",
    "    'Ripple': 'green',  \n",
    "    'Spike+Ripple': 'yellow',\n",
    "    'Spike+Fast-Ripple': 'pink',\n",
    "    'Ripple+Fast-Ripple': 'cyan',\n",
    "    'Spike+Ripple+Fast-Ripple': 'black'\n",
    "}\n",
    "\n",
    "confidence_range = 100          # TODO: Check this value. When the duration is missing (0), we consider the 200ms window around the marked position \n",
    "visited_markers = {}    # Avoid inserting multiple boxes for the same marker (only one of each label)\n",
    "use_visited = False     # Boolean controlling if we remove duplicate markers\n",
    "plot_instant = True     # Boolean to plot the markers as instant events or as boxes\n",
    "instant_width = 100 # 20       # Width of the instant event for visualization purposes\n",
    "\n",
    "if show_markers:\n",
    "    for idx2, marker in enumerate(final_markers):\n",
    "        # print(\"marker:\", marker)\n",
    "        \n",
    "        if use_visited:\n",
    "            # Check if the marker has already been visited and skip it if it has\n",
    "            if marker['position'] in visited_markers:\n",
    "                visited_labels = visited_markers[marker['position']]    # Get the labels that already have an annotation for this position\n",
    "                if marker['label'] in visited_labels:\n",
    "                    # print(\"Skipping marker\", marker['position'], marker['label'])\n",
    "                    continue    # Skip this marker\n",
    "                else:\n",
    "                    visited_labels.append(marker['label'])  # Add the label to the visited labels\n",
    "            else:\n",
    "                visited_markers[marker['position']] = [marker['label']] # Add the marker to the visited markers\n",
    "\n",
    "        # Add a box annotation for each marker\n",
    "        has_duration = marker['duration'] > 0\n",
    "        \n",
    "        confidence_constant = 0 if plot_instant or has_duration else confidence_range\n",
    "\n",
    "        left = marker['position'] - confidence_constant\n",
    "        right = marker['position'] + confidence_constant + instant_width\n",
    "        box_color = color_map[marker['label']]  # Choose a color according to the label\n",
    "        \n",
    "        # if left < min_t or right > max_t:\n",
    "        #     continue    # Skip this marker\n",
    "        \n",
    "\n",
    "        box = BoxAnnotation(left=left, right=right, fill_color=box_color, fill_alpha=0.1)\n",
    "        # print(\"Added marker for channel: \", ch_idx, \" at position: \", left)\n",
    "        hfo_plot.add_layout(box)"
   ]
  },
  {
   "cell_type": "markdown",
   "metadata": {},
   "source": [
    "## Show the Plot"
   ]
  },
  {
   "cell_type": "code",
   "execution_count": 269,
   "metadata": {},
   "outputs": [],
   "source": [
    "import bokeh.plotting as bplt\n",
    "\n",
    "showPlot = True\n",
    "if showPlot:\n",
    "    bplt.show(hfo_plot)"
   ]
  },
  {
   "cell_type": "markdown",
   "metadata": {},
   "source": [
    "## Export the plot to a file"
   ]
  },
  {
   "cell_type": "code",
   "execution_count": 226,
   "metadata": {},
   "outputs": [],
   "source": [
    "export = True\n",
    "\n",
    "if export:\n",
    "    file_path = f\"{PATH_TO_FILE}plots/seeg_filtered_subset_90-119_segment{segment_length}_{segment_end_padding}_{file_suffix}.html\"\n",
    "\n",
    "    # Customize the output file settings\n",
    "    bplt.output_file(filename=file_path, title=\"SEEG Data - Filtered Voltage dynamics across time\")\n",
    "\n",
    "    # Save the plot\n",
    "    bplt.save(hfo_plot)\n",
    "\n",
    "    # Close the plot\n",
    "    bplt.curdoc().clear()\n",
    "    bplt.reset_output()"
   ]
  },
  {
   "cell_type": "markdown",
   "metadata": {},
   "source": [
    "## Write the final markers into a .npy file\n",
    "Add an extra dimension (n_channels) to the markers array to match the shape of the other dataset"
   ]
  },
  {
   "cell_type": "code",
   "execution_count": 227,
   "metadata": {},
   "outputs": [
    {
     "name": "stdout",
     "output_type": "stream",
     "text": [
      "Final Markers Shape: (1, 222).\n",
      "Preview: [[('Ripple+Fast-Ripple',   1000.  , 0.)\n",
      "  ('Spike+Ripple+Fast-Ripple',   3206.54, 0.)\n",
      "  ('Spike+Ripple',   3521.  , 0.) ('Ripple+Fast-Ripple',   4134.77, 0.)\n",
      "  ('Fast-Ripple',   4774.41, 0.) ...\n",
      "  ('Spike+Ripple+Fast-Ripple', 115019.  , 0.)\n",
      "  ('Spike+Fast-Ripple', 115777.  , 0.) ('Ripple', 116037.  , 0.)\n",
      "  ('Ripple', 116721.  , 0.) ('Spike+Fast-Ripple', 119000.  , 0.)]]\n"
     ]
    }
   ],
   "source": [
    "# To keep the same format as the original data, we will add an extra dimension to the final markers\n",
    "final_markers = np.array([final_markers])\n",
    "preview_np_array(final_markers, \"Final Markers\")"
   ]
  },
  {
   "cell_type": "code",
   "execution_count": 228,
   "metadata": {},
   "outputs": [],
   "source": [
    "EXPORT_MARKERS = True\n",
    "if EXPORT_MARKERS:\n",
    "    # Define the parent folder to store the results\n",
    "    parent_folder = f\"results/seeg_filtered_subset_90-119_segment{segment_length}_{segment_end_padding}\"\n",
    "    # Create the folder to store the results if it does not exist\n",
    "    if not os.path.exists(parent_folder):\n",
    "        os.makedirs(parent_folder)\n",
    "\n",
    "    file_name = f\"{parent_folder}/markers_{file_suffix}.npy\"\n",
    "\n",
    "    np.save(file_name, final_markers)   # Save the data to a numpy file (not stored in git due to size)"
   ]
  },
  {
   "cell_type": "markdown",
   "metadata": {},
   "source": [
    "## Write the final subset of the SEEG data into a .npy file\n",
    "Add an extra dimension (n_channels) to the signal array to match the shape of the other dataset"
   ]
  },
  {
   "cell_type": "code",
   "execution_count": 229,
   "metadata": {},
   "outputs": [
    {
     "name": "stdout",
     "output_type": "stream",
     "text": [
      "Final Signal Shape: (245760, 1).\n",
      "Preview: [[ 0.00164447]\n",
      " [ 0.01391946]\n",
      " [ 0.04441551]\n",
      " [ 0.04559582]\n",
      " [-0.09086368]\n",
      " ...\n",
      " [ 0.06471326]\n",
      " [-0.56420797]\n",
      " [-0.97813142]\n",
      " [-1.05971408]\n",
      " [-1.08183859]]\n"
     ]
    }
   ],
   "source": [
    "# To keep the same format as the original data, we will add an extra inner dimension to the final signal\n",
    "final_signal = final_signal.reshape((num_samples, 1))\n",
    "preview_np_array(final_signal, \"Final Signal\")"
   ]
  },
  {
   "cell_type": "code",
   "execution_count": 230,
   "metadata": {},
   "outputs": [],
   "source": [
    "EXPORT_SIGNAL = True\n",
    "if EXPORT_SIGNAL:\n",
    "    # Define the parent folder to store the results\n",
    "    parent_folder = f\"results/seeg_filtered_subset_90-119_segment{segment_length}_{segment_end_padding}\"\n",
    "    # Create the folder to store the results if it does not exist\n",
    "    if not os.path.exists(parent_folder):\n",
    "        os.makedirs(parent_folder)\n",
    "\n",
    "    file_name = f\"{parent_folder}/{file_suffix}.npy\"\n",
    "    np.save(file_name, final_signal)   # Save the data to a numpy file (not stored in git due to size)"
   ]
  }
 ],
 "metadata": {
  "kernelspec": {
   "display_name": "Python 3 (ipykernel)",
   "language": "python",
   "name": "python3"
  },
  "language_info": {
   "codemirror_mode": {
    "name": "ipython",
    "version": 3
   },
   "file_extension": ".py",
   "mimetype": "text/x-python",
   "name": "python",
   "nbconvert_exporter": "python",
   "pygments_lexer": "ipython3",
   "version": "3.10.12"
  }
 },
 "nbformat": 4,
 "nbformat_minor": 2
}
