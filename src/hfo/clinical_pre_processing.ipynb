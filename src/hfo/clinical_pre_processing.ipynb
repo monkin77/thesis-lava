{
 "cells": [
  {
   "cell_type": "markdown",
   "metadata": {},
   "source": [
    "# Pre-Processing of the SEEG Signal\n",
    "This notebook presents the pre-processing stages the SEEG signal goes through before being fed to the SNN. The pre-processing stages are as follows:\n",
    "1. **Filtering**: The SEEG signal is bandpass filtered to remove noise and artifacts. The bandpass filter is designed using the Butterworth filter and, since we are working with *iEEG*, the signal is filtered in the ripples and FR bands. The co-occurrence of HFOs in both bands is an optimal prediction of post-surgical seizure freedom by defining an optimal \"HFO area\" or EZ zone.\n",
    "2. **Signal-to-Spike Conversion**: To interface and communicate with the silicon neurons in the SNN, the SEEG signal must be converted to spikes."
   ]
  },
  {
   "cell_type": "markdown",
   "metadata": {},
   "source": [
    "## Filtering\n",
    "Depending on the EEG modality, the signal is filtered in different frequency bands. In this case, since we are handling *iEEG* or *sEEG* data, the signal is filtered in both the ripples (80-250Hz) and FR bands (250-500Hz). The co-occurrence of HFO in these bands represents an optimal prediction of post-surgical seizure freedom by defining an optimal \"HFO area\" or EZ zone.\n",
    "\n",
    "The filter is implemented in different ways depending on the setup it will run on.\n",
    "1. **Neuromorphic Hardware**: The filter is implemented using analog filters. \n",
    "2. **Software Simulation**: *Butterworth filters* are utilized since they are a good approximation of the tuned *Tow-Thomas* architectures implemented in hardware."
   ]
  },
  {
   "cell_type": "markdown",
   "metadata": {},
   "source": [
    "The frequency response of the *Butterworth filter* is maximally flat in the passband and rolls of towards 0 in the stopband."
   ]
  },
  {
   "cell_type": "markdown",
   "metadata": {},
   "source": [
    "### Check WD (change if necessary) and file loading"
   ]
  },
  {
   "cell_type": "code",
   "execution_count": 16,
   "metadata": {},
   "outputs": [
    {
     "name": "stdout",
     "output_type": "stream",
     "text": [
      "/home/monkin/Desktop/feup/thesis/thesis-lava/src/hfo\n"
     ]
    }
   ],
   "source": [
    "# Show current directory\n",
    "import os\n",
    "curr_dir = os.getcwd()\n",
    "print(curr_dir)\n",
    "\n",
    "# Check if the current WD is the file location\n",
    "if \"/src/hfo\" not in os.getcwd():\n",
    "    # Set working directory to this file location\n",
    "    file_location = f\"{os.getcwd()}/thesis-lava/src/hfo/\"\n",
    "    print(\"File Location: \", file_location)\n",
    "\n",
    "    # Change the current working Directory\n",
    "    os.chdir(file_location)\n",
    "\n",
    "    # New Working Directory\n",
    "    print(\"New Working Directory: \", os.getcwd())\n",
    "\n",
    "PATH_TO_FILE = '' # 'src/hfo/'  # This is needed if the WD is not the same as the file location"
   ]
  },
  {
   "cell_type": "code",
   "execution_count": 17,
   "metadata": {},
   "outputs": [
    {
     "name": "stdout",
     "output_type": "stream",
     "text": [
      "Data shape:  (129239, 86)\n",
      "First time steps:  [[   1.0633698    34.293705     -5.3168535    31.369436    -37.483818\n",
      "    -1.8608985     9.0386505  -102.88112       9.304497      6.911907\n",
      "    38.813034     68.32156     -38.547188    -75.76517       8.241123\n",
      "    57.422016   -140.36493      63.270557     15.684719     -5.582697\n",
      "   -10.633707    -21.799099   -145.94763    -128.40201     -79.7528\n",
      "   -44.927414     12.228767    106.33707     -26.052582   -141.16248\n",
      "   -55.56112     -59.814606    -10.102022    -18.077301     12.228763\n",
      "    -1.3292141   -70.979996     48.649216      7.7094383    61.941345\n",
      "   -62.47303     -15.684718     24.72337     -56.358646    -51.573483\n",
      "   -75.76517      11.431244     53.70022     103.14696     -36.154602\n",
      "   -31.369438    -14.887188    -46.788315     60.877975     14.88719\n",
      "   -32.16696      74.7018     -114.04651     -18.874832     29.774384\n",
      "    40.408085    -14.621349     21.799103      3.4559555    67.52403\n",
      "   -32.166965     71.77753     -41.205612    -28.445171     19.672356\n",
      "     4.5193253   -22.064941      3.7217941    30.040222     57.68786\n",
      "    86.66472    -142.22583     -52.371006     23.925838     21.267416\n",
      "    -4.253483     10.10202      43.066517    -54.76359      13.557976\n",
      "   -24.457527  ]\n",
      " [   1.8608971    35.888763     -6.380224     32.964493    -36.952133\n",
      "    -2.1267412     7.7094374  -100.222694      7.7094383     4.5193253\n",
      "    38.281345     68.85326     -39.8764      -76.29685       8.506966\n",
      "    54.23191    -136.11145      61.40966      20.204044     -6.114382\n",
      "   -11.165392    -19.938202   -143.82089    -129.99707     -77.094376\n",
      "   -45.72494      12.228767    106.33707     -25.78674    -142.22583\n",
      "   -56.890335    -60.61213     -10.102022    -20.469887     10.102021\n",
      "     2.9242697   -67.258194     48.117523      7.975281     65.66314\n",
      "   -65.928986    -11.431235     26.052582    -56.89033     -52.105164\n",
      "   -74.170105     10.10202      52.902687    105.53955     -36.420456\n",
      "   -32.698647    -11.431236    -48.38337      61.94135      14.887188\n",
      "   -34.027863     69.38493    -108.9955      -20.469894     30.837753\n",
      "    42.534832    -12.228764     18.874832      3.721798     67.52404\n",
      "   -33.762024     74.7018      -44.927414    -26.052582     17.279778\n",
      "     4.785164    -23.659996      5.582695     32.16697      57.422012\n",
      "    87.72809    -139.56741     -49.180897     22.59663      23.659996\n",
      "    -4.7851686     7.443596     45.72494     -57.687862     15.684719\n",
      "   -25.78674   ]\n",
      " [  -1.8608971    37.21797      -7.1777525    35.091232    -37.217976\n",
      "    -5.0510106     7.443595    -98.62763       5.3168564     5.8485374\n",
      "    35.622917     73.63842     -41.47146     -79.221115     10.633705\n",
      "    56.092808   -134.25055      63.00471      19.67236      -3.721798\n",
      "   -11.431236    -20.73573    -143.28922    -127.60449     -79.221115\n",
      "   -43.066513      9.0386505   107.1346      -25.255054   -144.61841\n",
      "   -58.219543    -60.612133     -9.304494    -17.81146      14.355505\n",
      "    -0.26584244  -59.282917     47.054153     10.3678665    64.068085\n",
      "   -65.66314     -12.494606     28.445168    -57.42202     -50.77595\n",
      "   -74.7018       10.899551     52.902695    108.99551     -36.95214\n",
      "   -31.635277    -15.153034    -47.85168      61.409657     15.684719\n",
      "   -32.964493     69.119095   -110.32471     -23.394157     35.09124\n",
      "    41.205616    -11.962925     19.938202      2.3925858    64.33392\n",
      "   -31.63528      74.17011     -46.25663     -26.850113     16.482246\n",
      "     3.1901093   -23.128311      7.1777496    31.635277     59.28292\n",
      "    91.18404    -140.89662     -46.52247      26.584267     23.128315\n",
      "    -4.5193243     8.241123     45.72494     -62.738873     19.406517\n",
      "   -22.862473  ]\n",
      " [  -2.1267433    36.952133     -6.9119096    31.635279    -34.559547\n",
      "    -6.6460667     8.241122    -94.90584       6.380226      7.7094383\n",
      "    31.635277     74.170105    -40.67393     -78.95528       5.3168526\n",
      "    55.29528    -132.6555       64.59977      18.343143     -2.3925838\n",
      "   -11.697077    -22.330788   -142.4917     -126.27527     -76.031\n",
      "   -46.522472      7.443596    109.52718     -25.255054   -145.94763\n",
      "   -57.42202     -60.34629     -11.697078    -20.73573      14.88719\n",
      "    -1.860899    -50.24427      45.990784     14.887192     61.941345\n",
      "   -65.3973      -11.431235     28.976852    -59.28292     -50.775948\n",
      "   -73.904274     10.367874     53.70022     106.337074    -33.23034\n",
      "   -31.90112     -17.013931    -46.52247      60.87797      17.81146\n",
      "   -36.42045      69.38493    -110.59056     -21.001572     35.091232\n",
      "    42.53483     -11.165394     20.469887     -1.5950546    62.207188\n",
      "   -30.83775      74.7018      -45.72494     -27.913483     15.684723\n",
      "    -1.5950623   -22.33078      10.899551     35.091236     62.73887\n",
      "    89.0573     -143.55505     -38.281345     26.85011      22.330786\n",
      "    -3.721798      7.975277     44.66157     -62.738873     17.811459\n",
      "   -17.811459  ]\n",
      " [  -0.5316849    33.76202      -6.114382     32.69865     -36.952133\n",
      "    -5.848539     10.633707    -96.76673       3.9876404     6.1143837\n",
      "    30.040226     75.233475    -40.67393     -76.82854      -1.8609009\n",
      "    51.57348    -130.7946       63.004715     20.73573      -3.721797\n",
      "   -11.431236    -23.394154   -138.50406    -132.1238      -74.7018\n",
      "   -48.38337       6.911911    110.8564      -26.318426   -147.5427\n",
      "   -56.890335    -59.28292     -14.88719     -21.001572     14.355504\n",
      "     0.26584244  -45.193253     48.117523     18.60899      62.73887\n",
      "   -68.055725    -10.633707     30.837751    -61.941345    -49.712578\n",
      "   -72.84089       9.836166     51.30764     104.210335    -26.584274\n",
      "   -32.432804    -15.153034    -45.193253     59.8146       16.748089\n",
      "   -38.281345     64.068085   -109.79303     -21.799103     36.420456\n",
      "    44.92741     -12.760448     22.596626     -2.9242706    62.738876\n",
      "   -29.508537     74.170105    -45.724945    -30.040222     17.013931\n",
      "    -0.5316849   -23.925842     11.431236     34.82539      61.409668\n",
      "    91.449875   -142.49167     -34.29371      27.647644     24.98921\n",
      "    -4.253483      3.4559555    48.649208    -67.52404      17.811462\n",
      "   -12.494606  ]\n",
      " [  -0.26584244   36.154602    -11.431235     32.964493    -34.825394\n",
      "    -5.3168535     7.7094374   -94.10831       2.6584244     4.7851677\n",
      "    27.381798     78.42359     -42.53483     -77.89191      -4.7851677\n",
      "    49.978424   -126.541115     65.39729      20.204044     -2.1267405\n",
      "   -11.431236    -22.86247    -140.09909    -131.06044     -78.68944\n",
      "   -45.72494       6.6460724   111.38808     -26.318424   -144.88425\n",
      "   -60.877975    -60.08045     -13.292134    -18.874828     14.355504\n",
      "     1.5950556   -37.483818     49.180893     21.001572     63.802242\n",
      "   -69.119095    -13.026292     34.293705    -60.08045     -47.05415\n",
      "   -72.840904      7.709442     52.37101     102.61527     -27.647636\n",
      "   -27.913483    -17.279776    -45.193253     60.61213      13.026291\n",
      "   -36.68629      64.865616   -112.98314     -22.330788     38.015503\n",
      "    41.7373       -8.772808     21.267414     -2.3925858    61.143814\n",
      "   -26.584267     74.7018      -49.44674     -27.381798     17.545616\n",
      "    -3.4559555   -22.064941     12.22876      35.091236     61.143814\n",
      "    94.374146   -142.7575      -32.432804     30.83775      26.318424\n",
      "    -2.6584263     7.1777534    45.193256    -70.18247      19.140678\n",
      "    -7.7094383 ]\n",
      " [   1.3292122    35.35708      -9.570336     31.635279    -34.027863\n",
      "    -5.051011      7.9752803   -93.04494       2.1267433     5.3168526\n",
      "    26.318424     76.56269     -40.142242    -79.48696      -6.6460648\n",
      "    49.44674    -123.351006     68.85326      20.469887      0.\n",
      "   -11.697078    -24.98921    -137.97235    -136.64314     -74.70179\n",
      "   -44.661575      8.772812    110.85639     -25.78674    -146.47932\n",
      "   -62.473022    -60.34629     -14.355504    -19.67236      13.823819\n",
      "     1.860899    -32.698654     48.649216     19.406517     70.4483\n",
      "   -74.967636    -14.089662     34.559547    -59.54876     -45.4591\n",
      "   -74.17011       6.380234     53.966057    101.5519      -27.115952\n",
      "   -28.445164    -18.608986    -43.598198     61.6755       13.823819\n",
      "   -40.142242     63.5364     -110.8564      -23.659996     40.40808\n",
      "    40.673935     -8.506966     21.267414     -3.9876404    60.346283\n",
      "   -23.394157     75.49933     -48.64921     -29.508537     20.20404\n",
      "    -7.975281    -21.799095     14.089661     38.28135      61.40966\n",
      "    94.90584    -143.82089     -28.976852     33.230335     23.66\n",
      "    -2.6584263     6.6460686    45.72494     -72.043365     19.406517\n",
      "    -4.253483  ]\n",
      " [  -1.3292122    34.559547     -8.772809     31.635279    -37.483818\n",
      "    -4.5193253     9.836179    -94.90584       0.            6.11438\n",
      "    24.457523     78.68944     -38.547188    -80.81618      -7.7094345\n",
      "    49.978424   -122.28763      69.119095     22.064941      0.26584244\n",
      "   -11.697078    -25.520899   -139.83325    -140.09909     -71.51168\n",
      "   -47.054153      7.7094345   110.59055     -26.052582   -150.7328\n",
      "   -61.941338    -62.47303     -14.355505    -17.013931     14.089662\n",
      "     1.5950565   -28.179321     51.839325     25.520899     68.32157\n",
      "   -74.967636    -15.153032     32.698647    -59.814606    -44.129887\n",
      "   -74.170105      6.6460724    53.168533    102.083595    -24.191689\n",
      "   -29.242695    -20.73573     -41.737297     59.54876      13.292133\n",
      "   -41.205612     63.270557   -115.64157     -28.179321     42.268982\n",
      "    40.142246    -10.633709     24.191685     -2.9242706    59.814598\n",
      "   -23.925835     75.49931     -49.446735    -27.647644     23.394157\n",
      "    -9.836182    -22.33078      15.950562     37.217976     61.409653\n",
      "    96.23505    -144.88425     -29.77438      36.95213      23.66\n",
      "    -4.253483      3.190113     47.851685    -72.57505      20.204044\n",
      "    -2.9242706 ]\n",
      " [  -0.7975273    37.74966     -13.026291     32.16696     -36.952133\n",
      "    -4.5193253     7.7094374   -93.31078       3.1901093     3.721798\n",
      "    22.064945     78.157745    -36.68629     -81.6137       -7.9752846\n",
      "    45.990784   -119.09752      67.78989      20.735731      2.6584263\n",
      "   -13.026291    -24.457527   -140.63077    -145.94763     -69.38493\n",
      "   -47.054153      5.3168564   112.18561     -28.179325   -149.66942\n",
      "   -65.13146     -59.54876     -13.557977    -19.67236      14.355505\n",
      "     2.1267414   -18.874832     53.168533     28.445166     67.258194\n",
      "   -73.372574    -13.026291     31.63528     -60.877975    -43.066513\n",
      "   -73.63843       6.380234     52.902687    101.286064    -26.318428\n",
      "   -23.394157    -19.67236     -43.332355     60.34629       8.772808\n",
      "   -40.939774     65.928986   -115.37572     -27.647636     39.61055\n",
      "    40.40809      -6.11438      21.267414     -2.1267395    60.080452\n",
      "   -23.394157     77.094376    -53.700222    -25.25505      20.735733\n",
      "    -8.506966    -22.330788     17.013931     39.34472      60.877968\n",
      "    93.84248    -143.28922     -31.103592     36.95213      26.052584\n",
      "    -4.7851696     4.253483     47.054153    -67.78989      16.216404\n",
      "    -1.8608971 ]\n",
      " [  -1.3292122    34.027863     -9.304494     32.964493    -36.42045\n",
      "    -4.5193253     8.241123    -92.247406      2.392582      4.253483\n",
      "    18.077301     77.094376    -36.42045     -81.87955     -11.165394\n",
      "    48.915054   -119.62921      65.928986     22.330784      3.190112\n",
      "   -12.760449    -26.584269   -140.63077    -151.79619     -66.99235\n",
      "   -45.990784      3.9876404   111.12224     -26.85011    -152.5937\n",
      "   -66.19483     -59.814606    -12.760448    -18.608988     13.82382\n",
      "     1.595056    -11.697075     51.30764      28.179323     71.51168\n",
      "   -78.95528     -14.88719      32.432808    -61.94134     -40.40809\n",
      "   -72.84089       4.253479     53.168533     99.691       -21.799103\n",
      "   -27.115952    -20.204042    -41.7373       60.346287      9.304494\n",
      "   -43.332355     64.068085   -116.439095    -28.445168     40.14225\n",
      "    43.06651      -7.443592     22.862469     -5.8485374    63.5364\n",
      "   -23.659996     77.094376    -51.57348     -28.711014     19.672363\n",
      "    -7.975281    -22.862473     18.077301     42.26899      58.48539\n",
      "    95.96919    -144.88425     -30.83775      36.68629      27.381796\n",
      "    -6.114382      3.9876404    51.041794    -68.85326      14.355507\n",
      "     0.5316849 ]]\n"
     ]
    }
   ],
   "source": [
    "import numpy as np\n",
    "import math\n",
    "\n",
    "seeg_file_name = \"seeg_csl.npy\"    # seeg_synthetic_humans.npy\n",
    "recorded_data = np.load(f\"{PATH_TO_FILE}data/{seeg_file_name}\")\n",
    "\n",
    "print(\"Data shape: \", recorded_data.shape)\n",
    "print(\"First time steps: \", recorded_data[:10])"
   ]
  },
  {
   "cell_type": "markdown",
   "metadata": {},
   "source": [
    "### Add the parent directory to the path to detect the utils module"
   ]
  },
  {
   "cell_type": "code",
   "execution_count": 18,
   "metadata": {},
   "outputs": [],
   "source": [
    "import os\n",
    "import sys\n",
    "\n",
    "# Add the parent directory to the path so it detects the utils module\n",
    "module_path = os.path.abspath(os.path.join('src'))      # Changed this since WD is not the same as the file location\n",
    "if module_path not in sys.path:\n",
    "    sys.path.append(module_path)"
   ]
  },
  {
   "cell_type": "markdown",
   "metadata": {},
   "source": [
    "## Define the Filter"
   ]
  },
  {
   "cell_type": "code",
   "execution_count": 19,
   "metadata": {},
   "outputs": [],
   "source": [
    "from scipy.signal import butter, lfilter\n",
    "\n",
    "# ================================================================ #\n",
    "# ============ Butterworth Filter Coefficients =================== #\n",
    "# ================================================================ #\n",
    "def butter_bandpass(lowcut, highcut, sampling_freq, order=5):\n",
    "    \"\"\"\n",
    "    This function is used to generate the coefficients for lowpass, highpass and bandpass\n",
    "    filtering for Butterworth filters.\n",
    "    @lowcut, highcut (int): cutoff frequencies for the bandpass filter\n",
    "    @sampling_freq (float): sampling_frequency frequency of the wideband signal\n",
    "    @order (int): filter order\n",
    "\n",
    "    - return b, a (float): filtering coefficients that will be applied on the wideband signal\n",
    "    \"\"\"\n",
    "    nyq = 0.5 * sampling_freq   # Nyquist frequency\n",
    "    low = lowcut / nyq          # Normalizing the cutoff frequencies\n",
    "    high = highcut / nyq        # Normalizing the cutoff frequencies\n",
    "\n",
    "    return butter(order, [low, high], btype='band')    \n",
    "\n",
    "# ================================================================ #\n",
    "# ====================== Butterworth Filters ===================== #\n",
    "# ================================================================ #\n",
    "def butter_bandpass_filter(data, lowcut, highcut, sampling_freq, order=5):\n",
    "    \"\"\"\n",
    "    This function applies the filtering coefficients calculated above to the wideband signal (original signal).\n",
    "    @data (array): Array with the amplitude values of the wideband signal.\n",
    "    @lowcut, highcut (int): cutoff frequencies for the bandpass filter.\n",
    "    @sampling_freq (float): sampling frequency of the original signal.\n",
    "    @order (int): filter order.\n",
    "\n",
    "    - return (array): Array with the amplitude values of the filtered signal.\n",
    "    \"\"\"\n",
    "    coef_b, coef_a = butter_bandpass(lowcut, highcut, sampling_freq, order)\n",
    "\n",
    "    return lfilter(coef_b, coef_a, data)\n",
    "    "
   ]
  },
  {
   "cell_type": "markdown",
   "metadata": {},
   "source": [
    "### Extract a single SEEG channel from the SEEG data"
   ]
  },
  {
   "cell_type": "code",
   "execution_count": 20,
   "metadata": {},
   "outputs": [
    {
     "name": "stdout",
     "output_type": "stream",
     "text": [
      "seeg_ch_np shape: (129239,). \n",
      "Preview: [-55.56112  -56.890335 -58.219543 ... -48.915054 -52.63685  -48.117523]\n"
     ]
    }
   ],
   "source": [
    "selected_ch_idx = 30 # 1 32 63 94\n",
    "seeg_ch = list(map(lambda all_channels: all_channels[selected_ch_idx], recorded_data))  # Selecting the first channel\n",
    "seeg_ch_np = np.array(seeg_ch)\n",
    "\n",
    "print(f\"seeg_ch_np shape: {seeg_ch_np.shape}. \\nPreview: {seeg_ch_np}\")"
   ]
  },
  {
   "cell_type": "markdown",
   "metadata": {},
   "source": [
    "## Define Global Parameters of the Experiment"
   ]
  },
  {
   "cell_type": "code",
   "execution_count": 21,
   "metadata": {},
   "outputs": [],
   "source": [
    "sampling_rate = 2048    # 2048 Hz\n",
    "input_duration = 64 * (10**3)   # 120 * (10**3)    # 120000 ms or 120 seconds\n",
    "num_samples = recorded_data.shape[0]    # 2048 * 120 = 245760\n",
    "num_channels = recorded_data.shape[1]   # 960\n",
    "\n",
    "x_step = 1 / sampling_rate * (10**3)  # 0.48828125 ms"
   ]
  },
  {
   "cell_type": "markdown",
   "metadata": {},
   "source": [
    "## Apply the Butterworth filter to the channel"
   ]
  },
  {
   "cell_type": "code",
   "execution_count": 22,
   "metadata": {},
   "outputs": [],
   "source": [
    "filter_order = 9\n",
    "# Filter the raw signal in the Ripple band (80-250 Hz)\n",
    "ripple_band_seeg = butter_bandpass_filter(seeg_ch_np, 80, 250, sampling_rate, 9)    # TODO: Check if the order is correct\n",
    "\n",
    "# Filter the raw signal in the Fast Ripple band (250-500 Hz)\n",
    "fr_band_seeg = butter_bandpass_filter(seeg_ch_np, 250, 500, sampling_rate, 9)"
   ]
  },
  {
   "cell_type": "markdown",
   "metadata": {},
   "source": [
    "## Import the Markers (Annotated Events) \n",
    "The markers are stored in a numpy array of shape (num_channels, events):\n",
    "- Each row represents the events of a channel\n",
    "- Each event is composed of the following 3 fields (Label, Position, Shape)"
   ]
  },
  {
   "cell_type": "code",
   "execution_count": 23,
   "metadata": {},
   "outputs": [
    {
     "name": "stdout",
     "output_type": "stream",
     "text": [
      "Markers shape:  (86,)\n",
      "First time steps:  [list([array([],\n",
      "       dtype=[('label', '<U64'), ('position', '<f4'), ('duration', '<f4')])])\n",
      " list([array([],\n",
      "       dtype=[('label', '<U64'), ('position', '<f4'), ('duration', '<f4')])])\n",
      " list([array([],\n",
      "       dtype=[('label', '<U64'), ('position', '<f4'), ('duration', '<f4')])])\n",
      " list([array([],\n",
      "       dtype=[('label', '<U64'), ('position', '<f4'), ('duration', '<f4')])])\n",
      " list([array([],\n",
      "       dtype=[('label', '<U64'), ('position', '<f4'), ('duration', '<f4')])])\n",
      " list([array([],\n",
      "       dtype=[('label', '<U64'), ('position', '<f4'), ('duration', '<f4')])])\n",
      " list([array([],\n",
      "       dtype=[('label', '<U64'), ('position', '<f4'), ('duration', '<f4')])])\n",
      " list([array([],\n",
      "       dtype=[('label', '<U64'), ('position', '<f4'), ('duration', '<f4')])])\n",
      " list([array([],\n",
      "       dtype=[('label', '<U64'), ('position', '<f4'), ('duration', '<f4')])])\n",
      " list([array([],\n",
      "       dtype=[('label', '<U64'), ('position', '<f4'), ('duration', '<f4')])])]\n"
     ]
    }
   ],
   "source": [
    "markers_seeg_file_name = \"seeg_csl_markers.npy\"\n",
    "markers = np.load(f\"{PATH_TO_FILE}data/{markers_seeg_file_name}\", allow_pickle=True)\n",
    "\n",
    "print(\"Markers shape: \", markers.shape)\n",
    "print(\"First time steps: \", markers[:10])"
   ]
  },
  {
   "cell_type": "markdown",
   "metadata": {},
   "source": [
    "## Visualize the filtered signals"
   ]
  },
  {
   "cell_type": "code",
   "execution_count": 24,
   "metadata": {},
   "outputs": [],
   "source": [
    "# Interactive Plot for the HFO detection\n",
    "# bokeh docs: https://docs.bokeh.org/en/2.4.1/docs/first_steps/first_steps_1.html\n",
    "\n",
    "from utils.line_plot import create_fig  # Import the function to create the figure\n",
    "from bokeh.models import Range1d\n",
    "\n",
    "# Define the x and y values\n",
    "# Should the first input start at 0 or x_step?\n",
    "# TODO: is it okay to create a range with floats?\n",
    "x = [val for val in np.arange(x_step, input_duration + x_step, x_step)] \n",
    "\n",
    "# Create the y arrays for the voltage plot representing the voltage of each electrode\n",
    "v_yarrays = [ripple_band_seeg, fr_band_seeg]"
   ]
  },
  {
   "cell_type": "markdown",
   "metadata": {},
   "source": [
    "## Create the Plot"
   ]
  },
  {
   "cell_type": "code",
   "execution_count": 25,
   "metadata": {},
   "outputs": [
    {
     "name": "stderr",
     "output_type": "stream",
     "text": [
      "BokehUserWarning: ColumnDataSource's columns must be of the same length. Current lengths: ('x', 131072), ('y', 129239)\n",
      "BokehUserWarning: ColumnDataSource's columns must be of the same length. Current lengths: ('x', 131072), ('y', 129239)\n"
     ]
    }
   ],
   "source": [
    "# Create the plot\n",
    "# List of tuples containing the y values and the legend label\n",
    "hfo_y_arrays = [(ripple_band_seeg, \"Ripple Band\"), (fr_band_seeg, \"Fast Ripple Band\")]\n",
    "\n",
    "# Create the SEEG Voltage plot\n",
    "hfo_plot = create_fig(\n",
    "    title=\"SEEG Voltage dynamics of Filtered Ripple and Fast Ripple Bands\", \n",
    "    x_axis_label='time (ms)', \n",
    "    y_axis_label='Voltage (μV)',\n",
    "    x=x, \n",
    "    y_arrays=hfo_y_arrays, \n",
    "    sizing_mode=\"stretch_both\", \n",
    "    tools=\"pan, box_zoom, wheel_zoom, hover, undo, redo, zoom_in, zoom_out, reset, save\",\n",
    "    tooltips=\"Data point @x: @y\",\n",
    "    legend_location=\"top_right\",\n",
    "    legend_bg_fill_color=\"navy\",\n",
    "    legend_bg_fill_alpha=0.1,\n",
    "    # y_range=Range1d(-0.05, 1.05)\n",
    ")\n",
    "\n",
    "# If there are more than 30 channels, hide the legend\n",
    "if len(hfo_y_arrays) > 30:\n",
    "    # Hide the legend\n",
    "    hfo_plot.legend.visible = False"
   ]
  },
  {
   "cell_type": "markdown",
   "metadata": {},
   "source": [
    "## Add Box Annotations to the plot to identify the marked HFOs (ground truth)"
   ]
  },
  {
   "cell_type": "code",
   "execution_count": 26,
   "metadata": {},
   "outputs": [],
   "source": [
    "from bokeh.models import BoxAnnotation\n",
    "# from utils.line_plot import color_map\n",
    "\n",
    "show_markers = True    # Boolean to show the markers\n",
    "\n",
    "color_map = {                   # Map the label to a color\n",
    "    'Fast Ripple': 'brown',\n",
    "    'Ripple': 'yellow',  \n",
    "}\n",
    "\n",
    "confidence_range = 100          # TODO: Check this value. When the duration is missing (0), we consider the 200ms window around the marked position \n",
    "visited_markers = {}    # Avoid inserting multiple boxes for the same marker (only one of each label)\n",
    "use_visited = False     # Boolean controlling if we remove duplicate markers\n",
    "plot_instant = True     # Boolean to plot the markers as instant events or as boxes\n",
    "instant_width = 100 # 20       # Width of the instant event for visualization purposes\n",
    "\n",
    "channels_used = {selected_ch_idx}   # Set of channels to be used\n",
    "if show_markers:\n",
    "    for ch_idx in channels_used:\n",
    "        channel_markers = markers[ch_idx]\n",
    "        # print(\"channel_markers\", channel_markers)\n",
    "        for idx2, marker in enumerate(channel_markers):\n",
    "            # print(\"marker:\", marker)\n",
    "            if len(marker) == 0:\n",
    "                continue    # Skip empty markers\n",
    "            \n",
    "            if use_visited:\n",
    "                # Check if the marker has already been visited and skip it if it has\n",
    "                if marker['position'] in visited_markers:\n",
    "                    visited_labels = visited_markers[marker['position']]    # Get the labels that already have an annotation for this position\n",
    "                    if marker['label'] in visited_labels:\n",
    "                        # print(\"Skipping marker\", marker['position'], marker['label'])\n",
    "                        continue    # Skip this marker\n",
    "                    else:\n",
    "                        visited_labels.append(marker['label'])  # Add the label to the visited labels\n",
    "                else:\n",
    "                    visited_markers[marker['position']] = [marker['label']] # Add the marker to the visited markers\n",
    "\n",
    "            # Add a box annotation for each marker\n",
    "            has_duration = marker['duration'] > 0\n",
    "            \n",
    "            confidence_constant = 0 if plot_instant or has_duration else confidence_range\n",
    "\n",
    "            left = marker['position'] - confidence_constant\n",
    "            right = marker['position'] + confidence_constant + instant_width\n",
    "            box_color = color_map[marker['label']]  # Choose a color according to the label\n",
    "            \n",
    "            # if left < min_t or right > max_t:\n",
    "            #     continue    # Skip this marker\n",
    "            \n",
    "\n",
    "            box = BoxAnnotation(left=left, right=right, fill_color=box_color, fill_alpha=0.1)\n",
    "            # print(\"Added marker for channel: \", ch_idx, \" at position: \", left)\n",
    "            hfo_plot.add_layout(box)"
   ]
  },
  {
   "cell_type": "markdown",
   "metadata": {},
   "source": [
    "## Show the Plot"
   ]
  },
  {
   "cell_type": "code",
   "execution_count": 27,
   "metadata": {},
   "outputs": [],
   "source": [
    "import bokeh.plotting as bplt\n",
    "\n",
    "showPlot = True\n",
    "if showPlot:\n",
    "    bplt.show(hfo_plot)"
   ]
  },
  {
   "cell_type": "markdown",
   "metadata": {},
   "source": [
    "## Export the plot to a file"
   ]
  },
  {
   "cell_type": "code",
   "execution_count": 13,
   "metadata": {},
   "outputs": [],
   "source": [
    "export = False\n",
    "\n",
    "if export:\n",
    "    file_path = f\"{PATH_TO_FILE}results/clinical/filtered_seeg_csl_ch30.html\"\n",
    "\n",
    "    # Customize the output file settings\n",
    "    bplt.output_file(filename=file_path, title=\"SEEG Data - Filtered Voltage dynamics across time\")\n",
    "\n",
    "    # Save the plot\n",
    "    bplt.save(hfo_plot)"
   ]
  },
  {
   "cell_type": "markdown",
   "metadata": {},
   "source": [
    "## Checkpoint 1\n",
    "\n",
    "Right now, we have the filtered SEEG signal in both the ripple and FR bands. The next step is to convert the signal to spikes."
   ]
  },
  {
   "cell_type": "markdown",
   "metadata": {},
   "source": [
    "## Signal-to-Spike Conversion\n",
    "The signal can be converted to spikes in different ways. First, we will try a method where **two spike trains are generated from the filtered signal**:\n",
    "- **UP Spike Train**: The spikes are generated based on an increase of the signal's amplitude. The spikes are generated when the signal crosses a certain threshold defined by `threshold_up`.\n",
    "- **DOWN Spike Train**: The spikes are generated based on a decrease of the signal's amplitude. The spikes are generated when the signal crosses a certain threshold defined by `threshold_down`.\n",
    "\n",
    "The spike trains are generated by comparing the amount of change in the signal since the last time a spike was generated (UP or DOWN). If the positive/negative amplitude change is greater than the defined threshold, the algorithm stores the current timestep in the respective spike train and takes the new amplitude as the reference for the next comparison.\n",
    "\n",
    "Another important aspect of this algorithm is to model the time that silicon neurons need before they can generate another spike. Both in hardware and software, we call this time `refractory_period`."
   ]
  },
  {
   "cell_type": "markdown",
   "metadata": {},
   "source": [
    "### Configurable Parameters for the Signal-to-Spike Conversion\n",
    "- `threshold_up`: The threshold for the UP spike train.\n",
    "- `threshold_down`: The threshold for the DOWN spike train.\n",
    "\n",
    "The accuracy of this algorithm is heavily dependent on the choice of these parameters. To find the optimal values, we can perform a ***baseline detection*** to determine the optimal spike generation threshold automatically for the signal conversion.\n",
    "\n",
    "**As a first solution, we set these values manually to have a working prototype. Later, we will find the optimal values and compare the results of both methods.**"
   ]
  },
  {
   "cell_type": "code",
   "execution_count": 14,
   "metadata": {},
   "outputs": [],
   "source": [
    "# Define variables of the Signal to Spike Conversion Manually\n",
    "ripple_threshold_up = 5   # Threshold for the UP spike detection (in μV)\n",
    "ripple_threshold_down = -5 # Threshold for the DOWN spike detection (in μV)\n",
    "\n",
    "fr_threshold_up = 3   # Threshold for the UP spike detection (in μV)\n",
    "fr_threshold_down = -3 # Threshold for the DOWN spike detection (in μV)"
   ]
  },
  {
   "cell_type": "code",
   "execution_count": 15,
   "metadata": {},
   "outputs": [
    {
     "ename": "IndexError",
     "evalue": "index 129239 is out of bounds for axis 0 with size 129239",
     "output_type": "error",
     "traceback": [
      "\u001b[0;31m---------------------------------------------------------------------------\u001b[0m",
      "\u001b[0;31mIndexError\u001b[0m                                Traceback (most recent call last)",
      "Cell \u001b[0;32mIn[15], line 4\u001b[0m\n\u001b[1;32m      1\u001b[0m \u001b[38;5;28;01mfrom\u001b[39;00m \u001b[38;5;21;01mhfo\u001b[39;00m\u001b[38;5;21;01m.\u001b[39;00m\u001b[38;5;21;01msignal_to_spike\u001b[39;00m\u001b[38;5;21;01m.\u001b[39;00m\u001b[38;5;21;01msignal_to_spike\u001b[39;00m \u001b[38;5;28;01mimport\u001b[39;00m signal_to_spike, SignalToSpikeParameters\n\u001b[1;32m      3\u001b[0m \u001b[38;5;66;03m# Convert the filtered ripple signal to spikes\u001b[39;00m\n\u001b[0;32m----> 4\u001b[0m ripple_spike_trains \u001b[38;5;241m=\u001b[39m \u001b[43msignal_to_spike\u001b[49m\u001b[43m(\u001b[49m\n\u001b[1;32m      5\u001b[0m \u001b[43m    \u001b[49m\u001b[43mSignalToSpikeParameters\u001b[49m\u001b[43m(\u001b[49m\n\u001b[1;32m      6\u001b[0m \u001b[43m        \u001b[49m\u001b[43msignal\u001b[49m\u001b[38;5;241;43m=\u001b[39;49m\u001b[43mripple_band_seeg\u001b[49m\u001b[43m,\u001b[49m\u001b[43m \u001b[49m\u001b[43mtimes\u001b[49m\u001b[38;5;241;43m=\u001b[39;49m\u001b[43mnp\u001b[49m\u001b[38;5;241;43m.\u001b[39;49m\u001b[43marray\u001b[49m\u001b[43m(\u001b[49m\u001b[43mx\u001b[49m\u001b[43m)\u001b[49m\u001b[43m,\u001b[49m\n\u001b[1;32m      7\u001b[0m \u001b[43m        \u001b[49m\u001b[43mthreshold_up\u001b[49m\u001b[38;5;241;43m=\u001b[39;49m\u001b[43mripple_threshold_up\u001b[49m\u001b[43m,\u001b[49m\u001b[43m \u001b[49m\u001b[43mthreshold_down\u001b[49m\u001b[38;5;241;43m=\u001b[39;49m\u001b[43mripple_threshold_down\u001b[49m\u001b[43m,\u001b[49m\n\u001b[1;32m      8\u001b[0m \u001b[43m        \u001b[49m\u001b[38;5;66;43;03m# refractory_period=0.002, interpolation_factor=1\u001b[39;49;00m\n\u001b[1;32m      9\u001b[0m \u001b[43m        \u001b[49m\u001b[43m)\u001b[49m\n\u001b[1;32m     10\u001b[0m \u001b[43m)\u001b[49m\n\u001b[1;32m     12\u001b[0m np\u001b[38;5;241m.\u001b[39mset_printoptions(edgeitems\u001b[38;5;241m=\u001b[39m\u001b[38;5;241m5\u001b[39m)\n\u001b[1;32m     13\u001b[0m \u001b[38;5;28mprint\u001b[39m(\u001b[38;5;124m\"\u001b[39m\u001b[38;5;124mRipple UP Spike Train shape: \u001b[39m\u001b[38;5;124m\"\u001b[39m, ripple_spike_trains\u001b[38;5;241m.\u001b[39mup\u001b[38;5;241m.\u001b[39mshape, \u001b[38;5;124m\"\u001b[39m\u001b[38;5;124mPreview: \u001b[39m\u001b[38;5;124m\"\u001b[39m, ripple_spike_trains\u001b[38;5;241m.\u001b[39mup)\n",
      "File \u001b[0;32m~/Desktop/feup/thesis/thesis-lava/src/hfo/signal_to_spike/signal_to_spike.py:56\u001b[0m, in \u001b[0;36msignal_to_spike\u001b[0;34m(params)\u001b[0m\n\u001b[1;32m     53\u001b[0m idx \u001b[38;5;241m=\u001b[39m \u001b[38;5;241m0\u001b[39m\n\u001b[1;32m     54\u001b[0m \u001b[38;5;28;01mwhile\u001b[39;00m idx \u001b[38;5;241m<\u001b[39m \u001b[38;5;28mlen\u001b[39m(times):\n\u001b[1;32m     55\u001b[0m     \u001b[38;5;66;03m# If the signal increased in amplitude more than the THRESHOLD_UP value (since the last update to instant_dc), detect an UP spike. \u001b[39;00m\n\u001b[0;32m---> 56\u001b[0m     \u001b[38;5;28;01mif\u001b[39;00m \u001b[43mamplitudes\u001b[49m\u001b[43m[\u001b[49m\u001b[43midx\u001b[49m\u001b[43m]\u001b[49m \u001b[38;5;241m-\u001b[39m instant_dc \u001b[38;5;241m>\u001b[39m params\u001b[38;5;241m.\u001b[39mthreshold_up:\n\u001b[1;32m     57\u001b[0m         spikes_up\u001b[38;5;241m.\u001b[39mappend(times[idx])    \u001b[38;5;66;03m# Add the spike time to the UP spike train\u001b[39;00m\n\u001b[1;32m     59\u001b[0m         instant_dc \u001b[38;5;241m=\u001b[39m amplitudes[idx]     \u001b[38;5;66;03m# Update the current amplitude to the new value\u001b[39;00m\n",
      "\u001b[0;31mIndexError\u001b[0m: index 129239 is out of bounds for axis 0 with size 129239"
     ]
    }
   ],
   "source": [
    "from hfo.signal_to_spike.signal_to_spike import signal_to_spike, SignalToSpikeParameters\n",
    "\n",
    "# Convert the filtered ripple signal to spikes\n",
    "ripple_spike_trains = signal_to_spike(\n",
    "    SignalToSpikeParameters(\n",
    "        signal=ripple_band_seeg, times=np.array(x),\n",
    "        threshold_up=ripple_threshold_up, threshold_down=ripple_threshold_down,\n",
    "        # refractory_period=0.002, interpolation_factor=1\n",
    "        )\n",
    ")\n",
    "\n",
    "np.set_printoptions(edgeitems=5)\n",
    "print(\"Ripple UP Spike Train shape: \", ripple_spike_trains.up.shape, \"Preview: \", ripple_spike_trains.up)\n",
    "print(\"Ripple DOWN Spike Train shape: \", ripple_spike_trains.down.shape, \"Preview: \", ripple_spike_trains.down)"
   ]
  },
  {
   "cell_type": "code",
   "execution_count": null,
   "metadata": {},
   "outputs": [
    {
     "name": "stdout",
     "output_type": "stream",
     "text": [
      "Fast Ripple UP Spike Train shape:  (198,) Preview:  [  1005.37109375   1008.7890625    1012.20703125   1012.6953125\n",
      "   1016.11328125   1020.5078125   13357.421875    13359.375\n",
      "  13359.86328125  13362.3046875   13362.79296875  13365.72265625\n",
      "  13370.1171875   13372.55859375  19777.34375     19780.2734375\n",
      "  19783.69140625  27168.9453125   27170.8984375   27171.38671875\n",
      "  27173.828125    27174.31640625  27177.24609375  27184.5703125\n",
      "  27187.98828125  29808.59375     29811.03515625  29813.4765625\n",
      "  29829.1015625   29833.0078125   29836.42578125  29839.35546875\n",
      "  29843.75        29848.14453125  32293.45703125  32295.8984375\n",
      "  32298.33984375  32298.828125    32301.7578125   32305.6640625\n",
      "  32309.08203125  32312.5         33736.328125    34437.01171875\n",
      "  34633.30078125  34635.7421875   34638.18359375  34640.625\n",
      "  34643.5546875   34646.484375    34649.90234375  34653.80859375\n",
      "  34657.2265625   34661.1328125   36347.65625     37800.29296875\n",
      "  37804.6875      37807.6171875   37810.05859375  37810.546875\n",
      "  37813.4765625   37816.89453125  37820.3125      37824.21875\n",
      "  41012.6953125   41015.13671875  41017.578125    41019.53125\n",
      "  41022.4609375   41025.390625    41029.296875    41032.71484375\n",
      "  41036.1328125   44080.56640625  44083.0078125   44085.44921875\n",
      "  44085.9375      44089.35546875  44092.28515625  44095.703125\n",
      "  44099.12109375  48664.0625      50809.08203125  52335.9375\n",
      "  52338.8671875   52341.30859375  52341.796875    61536.1328125\n",
      "  61538.57421875  61539.0625      61541.9921875   61545.8984375\n",
      "  61549.31640625  62797.36328125  63773.4375      67559.08203125\n",
      "  67562.01171875  67564.94140625  67568.84765625  67572.265625\n",
      "  67575.68359375  70444.3359375   70446.77734375  70449.21875\n",
      "  70451.66015625  70454.1015625   70457.03125     70459.9609375\n",
      "  70463.8671875   70464.35546875  70467.7734375   70471.6796875\n",
      "  73416.50390625  73498.046875    73501.953125    73504.8828125\n",
      "  73507.32421875  73507.8125      73510.7421875   73514.6484375\n",
      "  73518.06640625  73521.484375    75364.74609375  76018.06640625\n",
      "  77426.26953125  77428.7109375   77433.10546875  77435.546875\n",
      "  77436.03515625  77438.4765625   77438.96484375  77446.2890625\n",
      "  80665.0390625   80667.48046875  80669.921875    80670.41015625\n",
      "  80673.33984375  80677.24609375  80680.6640625   80684.08203125\n",
      "  80709.47265625  82426.26953125  83475.5859375   84169.43359375\n",
      "  84171.875       86061.03515625  86066.40625     86069.3359375\n",
      "  86072.75390625  86076.66015625  86080.078125    88457.51953125\n",
      "  88459.9609375   88462.40234375  88462.890625    88476.5625\n",
      "  90907.2265625   90909.66796875  90912.109375    90912.59765625\n",
      "  93784.66796875  93788.0859375   93791.50390625  93794.921875\n",
      "  93798.828125    94847.65625     95893.06640625  98575.68359375\n",
      "  98578.125       98578.61328125  98581.0546875   98581.54296875\n",
      "  98584.47265625  98588.37890625  98591.796875    98595.21484375\n",
      " 101228.02734375 101230.46875    101232.421875   101235.3515625\n",
      " 101237.79296875 101238.28125    101241.2109375  101245.1171875\n",
      " 101249.0234375  101251.953125   101902.34375    102168.9453125\n",
      " 104127.9296875  104240.234375   104771.97265625 114570.80078125\n",
      " 114573.2421875  114575.68359375 114576.171875   114579.1015625\n",
      " 114582.51953125 114585.9375    ]\n",
      "Fast Ripple DOWN Spike Train shape:  (196,) Preview:  [  1004.39453125   1007.32421875   1011.23046875   1014.16015625\n",
      "   1018.06640625   1021.484375    13358.3984375   13360.83984375\n",
      "  13361.328125    13363.76953125  13364.2578125   13367.67578125\n",
      "  13371.58203125  19775.87890625  19778.80859375  19781.73828125\n",
      "  19784.66796875  27169.921875    27172.36328125  27172.8515625\n",
      "  27175.78125     27183.10546875  27186.5234375   27258.7890625\n",
      "  29810.05859375  29812.5         29828.125       29830.56640625\n",
      "  29834.47265625  29837.890625    29842.28515625  29846.6796875\n",
      "  29849.609375    32294.43359375  32297.36328125  32299.8046875\n",
      "  32300.78125     32304.19921875  32307.6171875   32311.03515625\n",
      "  33361.81640625  34436.03515625  34632.32421875  34634.765625\n",
      "  34637.20703125  34639.6484375   34642.08984375  34645.5078125\n",
      "  34648.4375      34652.34375     34655.2734375   34659.66796875\n",
      "  36346.19140625  37799.31640625  37803.7109375   37806.15234375\n",
      "  37808.59375     37809.08203125  37812.01171875  37815.4296875\n",
      "  37819.3359375   37822.75390625  37825.1953125   41013.671875\n",
      "  41016.11328125  41018.5546875   41021.484375    41024.4140625\n",
      "  41027.34375     41030.76171875  41034.1796875   41037.59765625\n",
      "  44081.54296875  44084.47265625  44087.40234375  44090.8203125\n",
      "  44094.7265625   44098.14453125  48663.0859375   48665.52734375\n",
      "  50856.4453125   52337.40234375  52340.33203125  52342.7734375\n",
      "  61535.15625     61537.109375    61537.59765625  61540.0390625\n",
      "  61541.015625    61544.43359375  61547.8515625   61551.26953125\n",
      "  63772.4609375   67558.10546875  67560.546875    67563.4765625\n",
      "  67567.3828125   67570.80078125  67574.70703125  67849.12109375\n",
      "  70445.3125      70447.75390625  70450.1953125   70452.63671875\n",
      "  70455.56640625  70458.49609375  70462.890625    70465.33203125\n",
      "  70465.8203125   70469.7265625   73251.953125    73496.58203125\n",
      "  73500.9765625   73503.41796875  73506.34765625  73508.7890625\n",
      "  73509.765625    73512.6953125   73516.6015625   73520.5078125\n",
      "  74194.82421875  75873.046875    77395.99609375  77427.24609375\n",
      "  77430.17578125  77434.5703125   77437.01171875  77437.5\n",
      "  77439.94140625  77447.265625    80666.015625    80668.45703125\n",
      "  80668.9453125   80671.38671875  80672.36328125  80675.29296875\n",
      "  80679.19921875  80682.6171875   80685.546875    82425.29296875\n",
      "  83474.12109375  83477.05078125  84170.8984375   86060.05859375\n",
      "  86065.4296875   86068.359375    86070.80078125  86074.70703125\n",
      "  86078.125       86081.54296875  88458.49609375  88460.9375\n",
      "  88461.42578125  88463.8671875   88475.5859375   88477.5390625\n",
      "  90908.203125    90911.1328125   90913.57421875  93785.64453125\n",
      "  93789.55078125  93792.96875     93796.875       94846.19140625\n",
      "  95891.6015625   98574.70703125  98577.1484375   98579.58984375\n",
      "  98580.078125    98582.51953125  98583.49609375  98586.42578125\n",
      "  98590.33203125  98593.75        98596.6796875  101229.00390625\n",
      " 101231.4453125  101233.88671875 101236.328125   101236.81640625\n",
      " 101239.74609375 101243.1640625  101246.58203125 101250.48828125\n",
      " 101900.87890625 102078.61328125 104126.46484375 104238.76953125\n",
      " 104281.25       104773.4375     114571.77734375 114574.21875\n",
      " 114574.70703125 114577.63671875 114581.0546875  114584.9609375 ]\n"
     ]
    }
   ],
   "source": [
    "# Convert the filtered FR signal to spikes\n",
    "fr_spike_trains = signal_to_spike(\n",
    "    SignalToSpikeParameters(\n",
    "        signal=fr_band_seeg, times=np.array(x),\n",
    "        threshold_up=fr_threshold_up, threshold_down=fr_threshold_down,\n",
    "        # refractory_period=0.002, interpolation_factor=1\n",
    "        )\n",
    ")\n",
    "\n",
    "np.set_printoptions(edgeitems=5)\n",
    "print(\"Fast Ripple UP Spike Train shape: \", fr_spike_trains.up.shape, \"Preview: \", fr_spike_trains.up)\n",
    "print(\"Fast Ripple DOWN Spike Train shape: \", fr_spike_trains.down.shape, \"Preview: \", fr_spike_trains.down)"
   ]
  },
  {
   "cell_type": "markdown",
   "metadata": {},
   "source": [
    "## Visualize the Spike Trains\n",
    "Let's plot the generated spike trains via a raster plot."
   ]
  },
  {
   "cell_type": "code",
   "execution_count": null,
   "metadata": {},
   "outputs": [],
   "source": [
    "from utils.raster_plot import create_raster_fig\n",
    "\n",
    "# ------------------------------------------------------------------------------- #\n",
    "# ------- Create the raster plot for the Ripple UP and DOWN spike trains -------- #\n",
    "# ------------------------------------------------------------------------------- #\n",
    "\n",
    "# Create a list containing the x values for the raster plot.\n",
    "ripple_raster_x = np.concatenate((ripple_spike_trains.up, ripple_spike_trains.down), axis=0)\n",
    "\n",
    "# Create a list containing the y values for the raster plot.\n",
    "# The UP spike train will be represented by 1s and the DOWN spike train by 0s\n",
    "ripple_raster_y = [1 for _ in range(len(ripple_spike_trains.up))] + [0 for _ in range(len(ripple_spike_trains.down))]\n",
    "\n",
    "ripple_train_raster = create_raster_fig(\"Ripple UP and DOWN spike events\", \"Time (ms)\", \"Channel\", ripple_raster_x, ripple_raster_y)"
   ]
  },
  {
   "cell_type": "code",
   "execution_count": null,
   "metadata": {},
   "outputs": [],
   "source": [
    "showRasterPlot = True\n",
    "\n",
    "# Plot the raster plot for the Ripple spike trains\n",
    "if showRasterPlot:\n",
    "    bplt.show(ripple_train_raster)"
   ]
  },
  {
   "cell_type": "code",
   "execution_count": null,
   "metadata": {},
   "outputs": [],
   "source": [
    "# ------------------------------------------------------------------------------- #\n",
    "# ------- Create the raster plot for the Fast Ripple UP and DOWN spike trains -------- #\n",
    "# ------------------------------------------------------------------------------- #\n",
    "\n",
    "# Create a list containing the x values for the raster plot.\n",
    "fr_raster_x = np.concatenate((fr_spike_trains.up, fr_spike_trains.down), axis=0)\n",
    "\n",
    "# Create a list containing the y values for the raster plot.\n",
    "# The UP spike train will be represented by 1s and the DOWN spike train by 0s\n",
    "fr_raster_y = [1 for _ in range(len(fr_spike_trains.up))] + [0 for _ in range(len(fr_spike_trains.down))]\n",
    "\n",
    "fr_train_raster = create_raster_fig(\"Fast Ripple UP and DOWN spike events\", \"Time (ms)\", \"Channel\", fr_raster_x, fr_raster_y)"
   ]
  },
  {
   "cell_type": "code",
   "execution_count": null,
   "metadata": {},
   "outputs": [],
   "source": [
    "# Plot the raster plot for the Fast Ripple spike trains\n",
    "if showRasterPlot:\n",
    "    bplt.show(fr_train_raster)"
   ]
  },
  {
   "cell_type": "markdown",
   "metadata": {},
   "source": [
    "## Export the Spike Trains to CSV Files for the Lava SNN\n",
    "\n",
    "We have successfully converted the SEEG signal to spikes. The next step is to feed these spikes to the SNN for Ripple and Fast Ripple detection.\n",
    "\n",
    "For this, we will create a file for each type of spike train (UP and DOWN). I'm not sure if we should join the spikes of both bands in a single file or keep them separate."
   ]
  },
  {
   "cell_type": "code",
   "execution_count": null,
   "metadata": {},
   "outputs": [],
   "source": [
    "# Create a csv file with the spike train data\n",
    "import csv\n",
    "\n",
    "def write_spike_train_to_csv(file_name, spike_train, channel_idx):\n",
    "    \"\"\"\n",
    "    This function writes the spike train to a csv file.\n",
    "    @file_name (str): Name of the file to be created.\n",
    "    @spike_train (np.ndarray): Array with the spike train data.\n",
    "    @channel_idx (int): Index of the channel that generated the spike train. (According to the original data)\n",
    "    \"\"\"\n",
    "    with open(file_name, mode='w', newline='') as file:\n",
    "        writer = csv.writer(file)\n",
    "        writer.writerow([\"time\", \"channel_idx\"])\n",
    "        for spike_time in spike_train:\n",
    "            writer.writerow([spike_time, channel_idx])"
   ]
  },
  {
   "cell_type": "code",
   "execution_count": null,
   "metadata": {},
   "outputs": [],
   "source": [
    "WRITE_RIPPLE_CSV_FILES = False\n",
    "WRITE_FR_CSV_FILES = False"
   ]
  },
  {
   "cell_type": "code",
   "execution_count": null,
   "metadata": {},
   "outputs": [],
   "source": [
    "if WRITE_RIPPLE_CSV_FILES:\n",
    "    # Create the csv file for the Ripple UP spike train\n",
    "    ripple_up_file_name = f\"{PATH_TO_FILE}snn/data/ripple_up_spike_train_5.csv\"\n",
    "    write_spike_train_to_csv(ripple_up_file_name, ripple_spike_trains.up, selected_ch_idx)\n",
    "\n",
    "    # Create the csv file for the Ripple DOWN spike train\n",
    "    ripple_down_file_name = f\"{PATH_TO_FILE}snn/data/ripple_down_spike_train_-5.csv\"\n",
    "    write_spike_train_to_csv(ripple_down_file_name, ripple_spike_trains.down, selected_ch_idx)"
   ]
  },
  {
   "cell_type": "code",
   "execution_count": null,
   "metadata": {},
   "outputs": [],
   "source": [
    "if WRITE_FR_CSV_FILES:\n",
    "    # Create the csv file for the Fast Ripple UP spike train\n",
    "    fr_up_file_name = f\"{PATH_TO_FILE}snn/data/fr_up_spike_train_3.csv\"\n",
    "    write_spike_train_to_csv(fr_up_file_name, fr_spike_trains.up, selected_ch_idx)\n",
    "\n",
    "    # Create the csv file for the Fast Ripple DOWN spike train\n",
    "    fr_down_file_name = f\"{PATH_TO_FILE}snn/data/fr_down_spike_train_-3.csv\"\n",
    "    write_spike_train_to_csv(fr_down_file_name, fr_spike_trains.down, selected_ch_idx)"
   ]
  },
  {
   "cell_type": "markdown",
   "metadata": {},
   "source": [
    "## Generate the input files for the SNN\n",
    "\n",
    "### Is the SNN going to detect the HFO events in windows? Or do we take it as a continous input?\n",
    "**If so**: The SNN is going to detect HFO events in windows. Therefore, the input to the network must be organized in windows of a certain size. The size of the window is a hyperparameter that can be tuned to improve the performance of the network.\n",
    "\n",
    "I think windowing makes more sense when we are learning with an ANN. Since we want real-time detection, feeding a continous input makes more sense.\n",
    "\n",
    "### Let's assume we do NOT need to window the input\n",
    "In this case, our input will simply be a continous stream of spikes. We can feed the spikes to the SNN in real-time. At each timestep, the SNN will receive 2 binary inputs (UP and DOWN spikes) indicating the presence of a spike in the respective spike train."
   ]
  },
  {
   "cell_type": "code",
   "execution_count": null,
   "metadata": {},
   "outputs": [
    {
     "name": "stdout",
     "output_type": "stream",
     "text": [
      "snn_input:  (245760, 2) Preview: [[0. 0.]\n",
      " [0. 0.]\n",
      " [0. 0.]\n",
      " [0. 0.]\n",
      " [0. 0.]\n",
      " ...\n",
      " [0. 0.]\n",
      " [0. 0.]\n",
      " [0. 0.]\n",
      " [0. 0.]\n",
      " [0. 0.]]\n"
     ]
    }
   ],
   "source": [
    "# Create a numpy array that will store the input (2D)\n",
    "snn_input = np.zeros((num_samples, 2))  # 2 columns: UP and DOWN spike trains\n",
    "\n",
    "# ---------------------------------------------------------------------------------- #\n",
    "# -------- Select the Spike Trains to be used as input for the SNN ----------------- #\n",
    "# ---------------------------------------------------------------------------------- #\n",
    "selected_up_spikes = ripple_spike_trains.up\n",
    "selected_down_spikes = ripple_spike_trains.down\n",
    "\n",
    "# Iterate the time steps of the recording and check if there are spikes in the selected spike trains at each timestep\n",
    "curr_up_idx = 0\n",
    "curr_down_idx = 0\n",
    "for (idx, time_step) in enumerate(x):\n",
    "    # Check if an UP spike occurs at this time step\n",
    "    if curr_up_idx < len(selected_up_spikes) and selected_up_spikes[curr_up_idx] <= time_step:\n",
    "        snn_input[idx][0] = 1   # Mark the UP spike in the input array\n",
    "        curr_up_idx += 1    # Move to the next spike in the UP spike train\n",
    "    # Check if a DOWN spike occurs at this time step\n",
    "    elif curr_down_idx < len(selected_down_spikes) and selected_down_spikes[curr_down_idx] <= time_step:\n",
    "        snn_input[idx][1] = 1   # Mark the DOWN spike in the input array\n",
    "        curr_down_idx += 1  # Move to the next spike in the DOWN spike train\n",
    "    \n",
    "    if curr_up_idx >= len(selected_up_spikes) and curr_down_idx >= len(selected_down_spikes):\n",
    "        # All the spikes have been added to the input array\n",
    "        break\n",
    "\n",
    "np.set_printoptions(edgeitems=5)\n",
    "print(\"snn_input: \", snn_input.shape, \"Preview:\", snn_input)"
   ]
  },
  {
   "cell_type": "code",
   "execution_count": null,
   "metadata": {},
   "outputs": [],
   "source": [
    "# Export the input array to a numpy file\n",
    "EXPORT_INPUT = False\n",
    "if EXPORT_INPUT:\n",
    "    input_file_name = f\"{PATH_TO_FILE}snn/data/ripple_train_5_-5/snn_input_ripple_5_-5.npy\"\n",
    "    np.save(input_file_name, snn_input)\n",
    "\n",
    "    # Export to CSV for visualization purposes\n",
    "    with open(f\"{PATH_TO_FILE}snn/data/ripple_train_5_-5/snn_input_ripple_5_-5.csv\", mode='w', newline='') as file:\n",
    "        writer = csv.writer(file)\n",
    "        writer.writerow([\"time\", \"up_spike\", \"down_spike\"])\n",
    "        for (idx, time_step) in enumerate(x):\n",
    "            writer.writerow([time_step, snn_input[idx][0], snn_input[idx][1]])"
   ]
  },
  {
   "cell_type": "markdown",
   "metadata": {},
   "source": [
    "## Generate the Ground Truth File for the SNN (Target)"
   ]
  },
  {
   "cell_type": "markdown",
   "metadata": {},
   "source": [
    "Extract the markers from the selected channel"
   ]
  },
  {
   "cell_type": "code",
   "execution_count": null,
   "metadata": {},
   "outputs": [
    {
     "name": "stdout",
     "output_type": "stream",
     "text": [
      "Selected Channel Markers Shape: (42,).\n",
      "Preview: [('Spike+Fast-Ripple',   1000.  , 0.) ('Spike+Ripple',   4139.16, 0.)\n",
      " ('Spike+Ripple',   7255.86, 0.) ('Spike',  10473.6 , 0.)\n",
      " ('Spike+Ripple+Fast-Ripple',  13362.8 , 0.) ...\n",
      " ('Spike+Ripple', 108516.  , 0.) ('Ripple', 111657.  , 0.)\n",
      " ('Ripple+Fast-Ripple', 114574.  , 0.) ('Spike', 116793.  , 0.)\n",
      " ('Spike+Ripple', 119000.  , 0.)]\n"
     ]
    }
   ],
   "source": [
    "from utils.io import preview_np_array\n",
    "\n",
    "# The target output for the SNN must have the same length as the input.\n",
    "target_np = np.zeros((num_samples))  # 1 column: 0/1 for the output classes (No Event, Ripple/Fast Ripple or both)\n",
    "# TODO: Could have more than 2 classes to differentiate the labels\n",
    "\n",
    "# Get the markers for the selected channel\n",
    "# Each marker has the following keys:   position, label, and duration\n",
    "selected_ch_markers = markers[selected_ch_idx]\n",
    "preview_np_array(selected_ch_markers, \"Selected Channel Markers\")"
   ]
  },
  {
   "cell_type": "markdown",
   "metadata": {},
   "source": [
    "### Export to a CSV File for the Lava SNN"
   ]
  },
  {
   "cell_type": "code",
   "execution_count": null,
   "metadata": {},
   "outputs": [],
   "source": [
    "# Export the target array to a numpy file\n",
    "EXPORT_TARGET_1 = False\n",
    "\n",
    "if EXPORT_TARGET_1:\n",
    "    target_file_name = f\"{PATH_TO_FILE}snn/ground_truth/instants_ch-{selected_ch_idx}.npy\"\n",
    "    np.save(target_file_name, target_np)"
   ]
  },
  {
   "cell_type": "markdown",
   "metadata": {},
   "source": [
    "### Convert to the format that the learnable SNN (Slayer) can read"
   ]
  },
  {
   "cell_type": "markdown",
   "metadata": {},
   "source": [
    "#### Fill the target numpy array with 1s where the HFOs are present"
   ]
  },
  {
   "cell_type": "code",
   "execution_count": null,
   "metadata": {},
   "outputs": [],
   "source": [
    "from utils.input import label_has_hfo_event\n",
    "\n",
    "# Iterate the time steps of the recording and check if there is an annotated event at each timestep\n",
    "curr_markers_idx = 0\n",
    "for (idx, time_step) in enumerate(x):\n",
    "    # Check if an event occurs at this time step\n",
    "    if curr_markers_idx < len(selected_ch_markers) and selected_ch_markers[curr_markers_idx]['position'] <= time_step:\n",
    "        # If the label has an HFO event, mark it as 1 in the target array\n",
    "        if label_has_hfo_event(selected_ch_markers[curr_markers_idx]['label']):\n",
    "            target_np[idx] = 1   # Mark the Labelled event in the target array\n",
    "        \n",
    "        curr_markers_idx += 1    # Move to the next annotated event\n",
    "    \n",
    "    if curr_markers_idx >= len(selected_ch_markers):\n",
    "        # All the spikes have been added to the input array\n",
    "        break"
   ]
  },
  {
   "cell_type": "code",
   "execution_count": null,
   "metadata": {},
   "outputs": [
    {
     "name": "stdout",
     "output_type": "stream",
     "text": [
      "target_np Shape: (245760,).\n",
      "Preview: [0. 0. 0. 0. 0. ... 0. 0. 0. 0. 0.]\n"
     ]
    }
   ],
   "source": [
    "preview_np_array(target_np, \"target_np\")"
   ]
  },
  {
   "cell_type": "markdown",
   "metadata": {},
   "source": [
    "## Export the target file to a numpy file"
   ]
  },
  {
   "cell_type": "code",
   "execution_count": null,
   "metadata": {},
   "outputs": [],
   "source": [
    "# Export the target array to a numpy file\n",
    "EXPORT_TARGET = False\n",
    "if EXPORT_TARGET:\n",
    "    target_file_name = f\"{PATH_TO_FILE}snn/ground_truth/ch-{selected_ch_idx}.npy\"\n",
    "    np.save(target_file_name, target_np)"
   ]
  },
  {
   "cell_type": "code",
   "execution_count": null,
   "metadata": {},
   "outputs": [],
   "source": []
  }
 ],
 "metadata": {
  "kernelspec": {
   "display_name": "Python 3 (ipykernel)",
   "language": "python",
   "name": "python3"
  },
  "language_info": {
   "codemirror_mode": {
    "name": "ipython",
    "version": 3
   },
   "file_extension": ".py",
   "mimetype": "text/x-python",
   "name": "python",
   "nbconvert_exporter": "python",
   "pygments_lexer": "ipython3",
   "version": "3.10.12"
  }
 },
 "nbformat": 4,
 "nbformat_minor": 2
}
