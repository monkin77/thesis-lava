{
 "cells": [
  {
   "cell_type": "markdown",
   "metadata": {},
   "source": [
    "# **Signal To Spike Conversion** - Analysis\n",
    "\n",
    "This notebook conducts an analysis of the Inter-Spike Interval in the UP and DN spike trains to determine the optimal synaptic time constants"
   ]
  },
  {
   "cell_type": "markdown",
   "metadata": {},
   "source": [
    "### Check WD (change if necessary) and file loading"
   ]
  },
  {
   "cell_type": "code",
   "execution_count": 74,
   "metadata": {},
   "outputs": [
    {
     "name": "stdout",
     "output_type": "stream",
     "text": [
      "/home/monkin/Desktop/feup/thesis/thesis-lava/src/hfo/signal_to_spike\n"
     ]
    }
   ],
   "source": [
    "# Show current directory\n",
    "import os\n",
    "curr_dir = os.getcwd()\n",
    "print(curr_dir)\n",
    "\n",
    "# Check if the current WD is the file location\n",
    "if \"/src/hfo/signal_to_spike\" not in os.getcwd():\n",
    "    # Set working directory to this file location\n",
    "    file_location = f\"{os.getcwd()}/thesis-lava/src/hfo/signal_to_spike\"\n",
    "    print(\"File Location: \", file_location)\n",
    "\n",
    "    # Change the current working Directory\n",
    "    os.chdir(file_location)\n",
    "\n",
    "    # New Working Directory\n",
    "    print(\"New Working Directory: \", os.getcwd())"
   ]
  },
  {
   "cell_type": "markdown",
   "metadata": {},
   "source": [
    "### Declare the `INPUT_FOLDER` and `RESULTS_FOLDER`"
   ]
  },
  {
   "cell_type": "code",
   "execution_count": 75,
   "metadata": {},
   "outputs": [],
   "source": [
    "# CAREFUL WITH THIS FOLDER TO NOT OVERWRITE THE FILES\n",
    "DATASET_FILENAME = \"custom_subset_90-119_segment500_200\"\n",
    "INPUT_FOLDER = f\"results/{DATASET_FILENAME}\"\n",
    "RESULTS_FOLDER = \"analysis/{DATASET_FILENAME}\""
   ]
  },
  {
   "cell_type": "markdown",
   "metadata": {},
   "source": [
    "## Load the UP and DN spike trains in the Ripple and FR Band"
   ]
  },
  {
   "cell_type": "code",
   "execution_count": 76,
   "metadata": {},
   "outputs": [],
   "source": [
    "import numpy as np\n",
    "import math\n",
    "from utils.io import preview_np_array\n",
    "from utils.input import read_spike_events, MarkerType, band_to_file_name\n",
    "\n",
    "thresh_up = 1.8974\n",
    "thresh_down = -thresh_up"
   ]
  },
  {
   "cell_type": "code",
   "execution_count": 77,
   "metadata": {},
   "outputs": [
    {
     "name": "stdout",
     "output_type": "stream",
     "text": [
      "ripple_up_spike_train Shape: (10893, 2).\n",
      "Preview: [[ 4.19921875e+01 -1.00000000e+00]\n",
      " [ 5.12695312e+01 -1.00000000e+00]\n",
      " [ 5.90820312e+01 -1.00000000e+00]\n",
      " ...\n",
      " [ 1.19844727e+05 -1.00000000e+00]\n",
      " [ 1.19854492e+05 -1.00000000e+00]\n",
      " [ 1.19996582e+05 -1.00000000e+00]]\n",
      "ripple_down_spike_train Shape: (10905, 2).\n",
      "Preview: [[ 4.44335938e+01 -1.00000000e+00]\n",
      " [ 5.46875000e+01 -1.00000000e+00]\n",
      " [ 5.61523438e+01 -1.00000000e+00]\n",
      " ...\n",
      " [ 1.19842285e+05 -1.00000000e+00]\n",
      " [ 1.19850586e+05 -1.00000000e+00]\n",
      " [ 1.19993164e+05 -1.00000000e+00]]\n"
     ]
    }
   ],
   "source": [
    "ripple_band_filename = band_to_file_name(MarkerType.RIPPLE)\n",
    "fr_band_filename = band_to_file_name(MarkerType.FAST_RIPPLE)\n",
    "\n",
    "# Call the function to read the spike events\n",
    "ripple_up_spikes_file_path = f\"{INPUT_FOLDER}/{ripple_band_filename}_up_spike_train_{thresh_up}.csv\"\n",
    "ripple_down_spikes_file_path = f\"{INPUT_FOLDER}/{ripple_band_filename}_down_spike_train_{thresh_down}.csv\"\n",
    "\n",
    "ripple_up_spike_train = read_spike_events(ripple_up_spikes_file_path)\n",
    "ripple_down_spike_train = read_spike_events(ripple_down_spikes_file_path)\n",
    "\n",
    "\n",
    "preview_np_array(ripple_up_spike_train, \"ripple_up_spike_train\", edge_items=3)\n",
    "preview_np_array(ripple_down_spike_train, \"ripple_down_spike_train\", edge_items=3)"
   ]
  },
  {
   "cell_type": "code",
   "execution_count": 78,
   "metadata": {},
   "outputs": [
    {
     "name": "stdout",
     "output_type": "stream",
     "text": [
      "fr_up_spike_train Shape: (17319, 2).\n",
      "Preview: [[ 1.31835938e+01 -1.00000000e+00]\n",
      " [ 1.51367188e+01 -1.00000000e+00]\n",
      " [ 4.49218750e+01 -1.00000000e+00]\n",
      " ...\n",
      " [ 1.19993652e+05 -1.00000000e+00]\n",
      " [ 1.19995605e+05 -1.00000000e+00]\n",
      " [ 1.19998047e+05 -1.00000000e+00]]\n",
      "fr_down_spike_train Shape: (17166, 2).\n",
      "Preview: [[ 1.41601562e+01 -1.00000000e+00]\n",
      " [ 4.39453125e+01 -1.00000000e+00]\n",
      " [ 5.27343750e+01 -1.00000000e+00]\n",
      " ...\n",
      " [ 1.19994629e+05 -1.00000000e+00]\n",
      " [ 1.19996582e+05 -1.00000000e+00]\n",
      " [ 1.19999023e+05 -1.00000000e+00]]\n"
     ]
    }
   ],
   "source": [
    "fr_up_spikes_file_path = f\"{INPUT_FOLDER}/{fr_band_filename}_up_spike_train_{thresh_up}.csv\"\n",
    "fr_down_spikes_file_path = f\"{INPUT_FOLDER}/{fr_band_filename}_down_spike_train_{thresh_down}.csv\"\n",
    "\n",
    "fr_up_spike_train = read_spike_events(fr_up_spikes_file_path)\n",
    "fr_down_spike_train = read_spike_events(fr_down_spikes_file_path)\n",
    "\n",
    "preview_np_array(fr_up_spike_train, \"fr_up_spike_train\", edge_items=3)\n",
    "preview_np_array(fr_down_spike_train, \"fr_down_spike_train\", edge_items=3)"
   ]
  },
  {
   "cell_type": "markdown",
   "metadata": {},
   "source": [
    "### Load the Annotated Data\n",
    "The annotated data is needed to separate the intervals of HFO from the normal activity to calculate the Inter-Spike Interval (ISI)"
   ]
  },
  {
   "cell_type": "code",
   "execution_count": 79,
   "metadata": {},
   "outputs": [
    {
     "name": "stdout",
     "output_type": "stream",
     "text": [
      "ripple_ground_truth Shape: (222,).\n",
      "Preview: [('Fast-Ripple',   1000.  , 0.)\n",
      " ('Spike+Ripple+Fast-Ripple',   3206.54, 0.)\n",
      " ('Spike+Ripple',   3521.  , 0.) ... ('Spike+Ripple', 116216.  , 0.)\n",
      " ('Ripple+Fast-Ripple', 116769.  , 0.) ('Ripple', 119000.  , 0.)]\n",
      "fr_ground_truth Shape: (199,).\n",
      "Preview: [('Fast-Ripple',   1000.  , 0.)\n",
      " ('Spike+Ripple+Fast-Ripple',   3206.54, 0.)\n",
      " ('Fast-Ripple',   3770.02, 0.) ... ('Fast-Ripple', 116096.  , 0.)\n",
      " ('Ripple+Fast-Ripple', 116769.  , 0.) ('Fast-Ripple', 119000.  , 0.)]\n"
     ]
    }
   ],
   "source": [
    "# load the npy object\n",
    "ripple_ground_truth = np.load(f\"{INPUT_FOLDER}/{ripple_band_filename}_ground_truth.npy\")\n",
    "fr_ground_truth = np.load(f\"{INPUT_FOLDER}/{fr_band_filename}_ground_truth.npy\")\n",
    "\n",
    "preview_np_array(ripple_ground_truth, \"ripple_ground_truth\", edge_items=3)\n",
    "preview_np_array(fr_ground_truth, \"fr_ground_truth\", edge_items=3)"
   ]
  },
  {
   "cell_type": "markdown",
   "metadata": {},
   "source": [
    "## Iterate the UP and DN Spike Trains to Calculate the Inter-Spike Interval (ISI) in the HFO and Normal Activity"
   ]
  },
  {
   "cell_type": "markdown",
   "metadata": {},
   "source": [
    "Define the lists to store:\n",
    "- `Ripple_HFO_UP` - ISI of the UP train in the Ripple band during an HFO event \n",
    "- `Ripple_HFO_DN` - ISI of the DN train in the Ripple band during an HFO event\n",
    "- `Ripple_Noise_UP` - ISI of the UP train in the Ripple band during normal activity\n",
    "- `Ripple_Noise_DN` - ISI of the DN train in the Ripple band during normal activity\n",
    "\n",
    "- `FR_HFO_UP` - ISI of the UP train in the Fast Ripple band during an HFO event\n",
    "- `FR_HFO_DN` - ISI of the DN train in the Fast Ripple band during an HFO event\n",
    "- `FR_Noise_UP` - ISI of the UP train in the Fast Ripple band during normal activity\n",
    "- `FR_Noise_DN` - ISI of the DN train in the Fast Ripple band during normal activity"
   ]
  },
  {
   "cell_type": "markdown",
   "metadata": {},
   "source": [
    "## Let's analyze the Ripple Band first"
   ]
  },
  {
   "cell_type": "code",
   "execution_count": 80,
   "metadata": {},
   "outputs": [],
   "source": [
    "isi_ripple_hfo_up = []\n",
    "isi_ripple_hfo_down = []\n",
    "isi_ripple_noise_up = []\n",
    "isi_ripple_noise_down = []"
   ]
  },
  {
   "cell_type": "markdown",
   "metadata": {},
   "source": [
    "#### Ripple Band - UP Train"
   ]
  },
  {
   "cell_type": "code",
   "execution_count": 81,
   "metadata": {},
   "outputs": [],
   "source": [
    "from utils.input import RIPPLE_CONFIDENCE_WINDOW, FR_CONFIDENCE_WINDOW, BOTH_CONFIDENCE_WINDOW\n",
    "\n",
    "# Iterate the Ripple UP Spike Train\n",
    "curr_ripple_gt_idx = 0  # Current index of the ripple ground truth\n",
    "prev_spike_time = ripple_up_spike_train[0][0]\n",
    "\n",
    "for spike_idx in range(1, len(ripple_up_spike_train), 1):\n",
    "    spike_time = ripple_up_spike_train[spike_idx][0]\n",
    "    isi = spike_time - prev_spike_time\n",
    "    # print(\"spike_time: \", spike_time, \"prev_spike_time: \", prev_spike_time, \"isi: \", isi)\n",
    "\n",
    "    # Update the previous spike time\n",
    "    prev_spike_time = spike_time\n",
    "\n",
    "    # Check if the current spike time is within the ripple ground truth\n",
    "    # Skip the ground truth that is before the current spike time\n",
    "    while curr_ripple_gt_idx < len(ripple_ground_truth) and spike_time > ripple_ground_truth[curr_ripple_gt_idx][1] + RIPPLE_CONFIDENCE_WINDOW:\n",
    "        curr_ripple_gt_idx += 1\n",
    "    \n",
    "    # Check if the current spike time is within the ripple ground truth\n",
    "    if curr_ripple_gt_idx < len(ripple_ground_truth):\n",
    "        curr_gt_start = ripple_ground_truth[curr_ripple_gt_idx][1]\n",
    "        if spike_time >= curr_gt_start and spike_time <= curr_gt_start + RIPPLE_CONFIDENCE_WINDOW:\n",
    "            # The spike is within the ripple ground truth\n",
    "            isi_ripple_hfo_up.append(isi)\n",
    "\n",
    "            # Go to the next spike\n",
    "            continue\n",
    "    \n",
    "    # The spike is not within the ripple ground truth\n",
    "    isi_ripple_noise_up.append(isi)"
   ]
  },
  {
   "cell_type": "markdown",
   "metadata": {},
   "source": [
    "#### Ripple Band - DOWN Train"
   ]
  },
  {
   "cell_type": "code",
   "execution_count": 82,
   "metadata": {},
   "outputs": [],
   "source": [
    "# Iterate the Ripple DOWN Spike Train\n",
    "curr_ripple_gt_idx = 0  # Current index of the ripple ground truth\n",
    "prev_spike_time = ripple_down_spike_train[0][0]\n",
    "\n",
    "for spike_idx in range(1, len(ripple_down_spike_train), 1):\n",
    "    spike_time = ripple_down_spike_train[spike_idx][0]\n",
    "    isi = spike_time - prev_spike_time\n",
    "    # print(\"spike_time: \", spike_time, \"prev_spike_time: \", prev_spike_time, \"isi: \", isi)\n",
    "\n",
    "    # Update the previous spike time\n",
    "    prev_spike_time = spike_time\n",
    "\n",
    "    # Check if the current spike time is within the ripple ground truth\n",
    "    # Skip the ground truth that is before the current spike time\n",
    "    while curr_ripple_gt_idx < len(ripple_ground_truth) and spike_time > ripple_ground_truth[curr_ripple_gt_idx][1] + RIPPLE_CONFIDENCE_WINDOW:\n",
    "        curr_ripple_gt_idx += 1\n",
    "    \n",
    "    # Check if the current spike time is within the ripple ground truth\n",
    "    if curr_ripple_gt_idx < len(ripple_ground_truth):\n",
    "        curr_gt_start = ripple_ground_truth[curr_ripple_gt_idx][1]\n",
    "        if spike_time >= curr_gt_start and spike_time <= curr_gt_start + RIPPLE_CONFIDENCE_WINDOW:\n",
    "            # The spike is within the ripple ground truth\n",
    "            isi_ripple_hfo_down.append(isi)\n",
    "\n",
    "            # Go to the next spike\n",
    "            continue\n",
    "    \n",
    "    # The spike is not within the ripple ground truth\n",
    "    isi_ripple_noise_down.append(isi)"
   ]
  },
  {
   "cell_type": "markdown",
   "metadata": {},
   "source": [
    "### Validate the number of calculated ISIs\n",
    "Validate that:\n",
    "- `len(isi_ripple_hfo_up)` + `len(isi_ripple_noise_up)` = `len(ripple_up)` - 1 (first spike does not have an ISI)\n",
    "- `len(isi_ripple_hfo_down_)` + `len(isi_ripple_noise_down_)` = `len(ripple_down_)` - 1 (first spike does not have an ISI)"
   ]
  },
  {
   "cell_type": "code",
   "execution_count": 83,
   "metadata": {},
   "outputs": [
    {
     "name": "stdout",
     "output_type": "stream",
     "text": [
      "Length isi_ripple_hfo_up: 5462\n",
      "Length isi_ripple_noise_up: 5430\n",
      "Sum: 10892\n",
      "Length ripple_up: 10893\n"
     ]
    }
   ],
   "source": [
    "#  Validate that len(isi_ripple_hfo_up) + len(isi_ripple_noise_up) = len(ripple_up)\n",
    "print(f\"Length isi_ripple_hfo_up: {len(isi_ripple_hfo_up)}\")\n",
    "print(f\"Length isi_ripple_noise_up: {len(isi_ripple_noise_up)}\")\n",
    "print(f\"Sum: {len(isi_ripple_hfo_up) + len(isi_ripple_noise_up)}\")\n",
    "print(f\"Length ripple_up: {len(ripple_up_spike_train)}\")"
   ]
  },
  {
   "cell_type": "code",
   "execution_count": 84,
   "metadata": {},
   "outputs": [
    {
     "name": "stdout",
     "output_type": "stream",
     "text": [
      "Length isi_ripple_hfo_down: 5421\n",
      "Length isi_ripple_noise_down: 5483\n",
      "Sum: 10904\n",
      "Length ripple_down: 10905\n"
     ]
    }
   ],
   "source": [
    "#  Validate that len(isi_ripple_hfo_down) + len(isi_ripple_noise_down) = len(ripple_down)\n",
    "print(f\"Length isi_ripple_hfo_down: {len(isi_ripple_hfo_down)}\")\n",
    "print(f\"Length isi_ripple_noise_down: {len(isi_ripple_noise_down)}\")\n",
    "print(f\"Sum: {len(isi_ripple_hfo_down) + len(isi_ripple_noise_down)}\")\n",
    "print(f\"Length ripple_down: {len(ripple_down_spike_train)}\")"
   ]
  },
  {
   "cell_type": "markdown",
   "metadata": {},
   "source": [
    "## Let's analyze the Fast Ripple Band next"
   ]
  },
  {
   "cell_type": "code",
   "execution_count": 85,
   "metadata": {},
   "outputs": [],
   "source": [
    "isi_fr_hfo_up = []\n",
    "isi_fr_hfo_down = []\n",
    "isi_fr_noise_up = []\n",
    "isi_fr_noise_down = []"
   ]
  },
  {
   "cell_type": "markdown",
   "metadata": {},
   "source": [
    "#### Fast Ripple Band - UP Train"
   ]
  },
  {
   "cell_type": "code",
   "execution_count": 86,
   "metadata": {},
   "outputs": [],
   "source": [
    "# Iterate the FR UP Spike Train\n",
    "curr_fr_gt_idx = 0  # Current index of the fast ripple ground truth\n",
    "prev_spike_time = fr_up_spike_train[0][0]\n",
    "\n",
    "for spike_idx in range(1, len(fr_up_spike_train), 1):\n",
    "    spike_time = fr_up_spike_train[spike_idx][0]\n",
    "    isi = spike_time - prev_spike_time\n",
    "    # print(\"spike_time: \", spike_time, \"prev_spike_time: \", prev_spike_time, \"isi: \", isi)\n",
    "\n",
    "    # Update the previous spike time\n",
    "    prev_spike_time = spike_time\n",
    "\n",
    "    # Check if the current spike time is within the fast ripple ground truth\n",
    "    # Skip the ground truth that is before the current spike time\n",
    "    while curr_fr_gt_idx < len(fr_ground_truth) and spike_time > fr_ground_truth[curr_fr_gt_idx][1] + FR_CONFIDENCE_WINDOW:\n",
    "        curr_fr_gt_idx += 1\n",
    "    \n",
    "    # Check if the current spike time is within the fast ripple ground truth\n",
    "    if curr_fr_gt_idx < len(fr_ground_truth):\n",
    "        curr_gt_start = fr_ground_truth[curr_fr_gt_idx][1]\n",
    "        if spike_time >= curr_gt_start and spike_time <= curr_gt_start + FR_CONFIDENCE_WINDOW:\n",
    "            # The spike is within the fast ripple ground truth\n",
    "            isi_fr_hfo_up.append(isi)\n",
    "\n",
    "            # Go to the next spike\n",
    "            continue\n",
    "    \n",
    "    # The spike is not within the fast ripple ground truth\n",
    "    isi_fr_noise_up.append(isi)"
   ]
  },
  {
   "cell_type": "markdown",
   "metadata": {},
   "source": [
    "#### Fast Ripple Band - DN Train"
   ]
  },
  {
   "cell_type": "code",
   "execution_count": 87,
   "metadata": {},
   "outputs": [],
   "source": [
    "# Iterate the FR UP Spike Train\n",
    "curr_fr_gt_idx = 0  # Current index of the fast ripple ground truth\n",
    "prev_spike_time = fr_down_spike_train[0][0]\n",
    "\n",
    "for spike_idx in range(1, len(fr_down_spike_train), 1):\n",
    "    spike_time = fr_down_spike_train[spike_idx][0]\n",
    "    isi = spike_time - prev_spike_time\n",
    "    # print(\"spike_time: \", spike_time, \"prev_spike_time: \", prev_spike_time, \"isi: \", isi)\n",
    "\n",
    "    # Update the previous spike time\n",
    "    prev_spike_time = spike_time\n",
    "\n",
    "    # Check if the current spike time is within the fast ripple ground truth\n",
    "    # Skip the ground truth that is before the current spike time\n",
    "    while curr_fr_gt_idx < len(fr_ground_truth) and spike_time > fr_ground_truth[curr_fr_gt_idx][1] + FR_CONFIDENCE_WINDOW:\n",
    "        curr_fr_gt_idx += 1\n",
    "    \n",
    "    # Check if the current spike time is within the fast ripple ground truth\n",
    "    if curr_fr_gt_idx < len(fr_ground_truth):\n",
    "        curr_gt_start = fr_ground_truth[curr_fr_gt_idx][1]\n",
    "        if spike_time >= curr_gt_start and spike_time <= curr_gt_start + FR_CONFIDENCE_WINDOW:\n",
    "            # The spike is within the fast ripple ground truth\n",
    "            isi_fr_hfo_down.append(isi)\n",
    "\n",
    "            # Go to the next spike\n",
    "            continue\n",
    "    \n",
    "    # The spike is not within the fast ripple ground truth\n",
    "    isi_fr_noise_down.append(isi)"
   ]
  },
  {
   "cell_type": "markdown",
   "metadata": {},
   "source": [
    "### Validate the number of calculated ISIs\n",
    "Validate that:\n",
    "- `len(isi_fr_hfo_up)` + `len(isi_fr_noise_up)` = `len(fr_up)` - 1 (first spike does not have an ISI)\n",
    "- `len(isi_fr_hfo_down)` + `len(isi_fr_noise_down)` = `len(fr_down)` - 1 (first spike does not have an ISI)"
   ]
  },
  {
   "cell_type": "code",
   "execution_count": 88,
   "metadata": {},
   "outputs": [
    {
     "name": "stdout",
     "output_type": "stream",
     "text": [
      "Length isi_fr_hfo_up: 4288\n",
      "Length isi_fr_noise_up: 13030\n",
      "Sum: 17318\n",
      "Length fr_up: 17319\n"
     ]
    }
   ],
   "source": [
    "#  Validate that len(isi_fr_hfo_up) + len(isi_fr_noise_up) = len(ripple_up)\n",
    "print(f\"Length isi_fr_hfo_up: {len(isi_fr_hfo_up)}\")\n",
    "print(f\"Length isi_fr_noise_up: {len(isi_fr_noise_up)}\")\n",
    "print(f\"Sum: {len(isi_fr_hfo_up) + len(isi_fr_noise_up)}\")\n",
    "print(f\"Length fr_up: {len(fr_up_spike_train)}\")"
   ]
  },
  {
   "cell_type": "code",
   "execution_count": 89,
   "metadata": {},
   "outputs": [
    {
     "name": "stdout",
     "output_type": "stream",
     "text": [
      "Length isi_fr_hfo_down: 4261\n",
      "Length isi_fr_noise_down: 12904\n",
      "Sum: 17165\n",
      "Length fr_down: 17166\n"
     ]
    }
   ],
   "source": [
    "#  Validate that len(isi_fr_hfo_down) + len(isi_fr_noise_down) = len(ripple_down)\n",
    "print(f\"Length isi_fr_hfo_down: {len(isi_fr_hfo_down)}\")\n",
    "print(f\"Length isi_fr_noise_down: {len(isi_fr_noise_down)}\")\n",
    "print(f\"Sum: {len(isi_fr_hfo_down) + len(isi_fr_noise_down)}\")\n",
    "print(f\"Length fr_down: {len(fr_down_spike_train)}\")"
   ]
  },
  {
   "cell_type": "markdown",
   "metadata": {},
   "source": [
    "--- "
   ]
  },
  {
   "cell_type": "markdown",
   "metadata": {},
   "source": [
    "## Calculate metrics of the ISIs and Show the Results"
   ]
  },
  {
   "cell_type": "code",
   "execution_count": 90,
   "metadata": {},
   "outputs": [],
   "source": [
    "# Ripple band ISIs\n",
    "# UP\n",
    "mean_ripple_hfo_up = np.mean(isi_ripple_hfo_up)\n",
    "median_ripple_hfo_up = np.median(isi_ripple_hfo_up)\n",
    "std_ripple_hfo_up = np.std(isi_ripple_hfo_up)\n",
    "mean_ripple_noise_up = np.mean(isi_ripple_noise_up)\n",
    "median_ripple_noise_up = np.median(isi_ripple_noise_up)\n",
    "std_ripple_noise_up = np.std(isi_ripple_noise_up)\n",
    "\n",
    "# DOWN\n",
    "mean_ripple_hfo_down = np.mean(isi_ripple_hfo_down)\n",
    "median_ripple_hfo_down = np.median(isi_ripple_hfo_down)\n",
    "std_ripple_hfo_down = np.std(isi_ripple_hfo_down)\n",
    "mean_ripple_noise_down = np.mean(isi_ripple_noise_down)\n",
    "median_ripple_noise_down = np.median(isi_ripple_noise_down)\n",
    "std_ripple_noise_down = np.std(isi_ripple_noise_down)"
   ]
  },
  {
   "cell_type": "code",
   "execution_count": 91,
   "metadata": {},
   "outputs": [],
   "source": [
    "# Fast Ripple band ISIs\n",
    "# UP\n",
    "mean_fr_hfo_up = np.mean(isi_fr_hfo_up)\n",
    "median_fr_hfo_up = np.median(isi_fr_hfo_up)\n",
    "std_fr_hfo_up = np.std(isi_fr_hfo_up)\n",
    "mean_fr_noise_up = np.mean(isi_fr_noise_up)\n",
    "median_fr_noise_up = np.median(isi_fr_noise_up)\n",
    "std_fr_noise_up = np.std(isi_fr_noise_up)\n",
    "\n",
    "# DOWN\n",
    "mean_fr_hfo_down = np.mean(isi_fr_hfo_down)\n",
    "median_fr_hfo_down = np.median(isi_fr_hfo_down)\n",
    "std_fr_hfo_down = np.std(isi_fr_hfo_down)\n",
    "mean_fr_noise_down = np.mean(isi_fr_noise_down)\n",
    "median_fr_noise_down = np.median(isi_fr_noise_down)\n",
    "std_fr_noise_down = np.std(isi_fr_noise_down)"
   ]
  },
  {
   "cell_type": "markdown",
   "metadata": {},
   "source": [
    "### Print the Metrics of the ISIs"
   ]
  },
  {
   "cell_type": "markdown",
   "metadata": {},
   "source": [
    "#### Ripple Band"
   ]
  },
  {
   "cell_type": "code",
   "execution_count": 92,
   "metadata": {},
   "outputs": [
    {
     "name": "stdout",
     "output_type": "stream",
     "text": [
      "Ripple UP\n",
      "HFO ISI (ms)\n",
      "Mean: 4.099703062065178, Median: 0.9765625, STD: 7.691148414627944\n",
      "Noise ISI (ms)\n",
      "Mean: 17.967221311003684, Median: 10.7421875, STD: 26.94784945331581\n",
      "=================================\n",
      "Ripple DOWN\n",
      "HFO ISI (ms)\n",
      "Mean: 4.165928074847814, Median: 0.9765625, STD: 7.84948772741277\n",
      "Noise ISI (ms)\n",
      "Mean: 17.75765719040671, Median: 10.7421875, STD: 26.784767260572362\n"
     ]
    }
   ],
   "source": [
    "# Metrics of the ISIs in the Ripple Band\n",
    "print(\"Ripple UP\")\n",
    "print(\"HFO ISI (ms)\")\n",
    "print(f\"Mean: {mean_ripple_hfo_up}, Median: {median_ripple_hfo_up}, STD: {std_ripple_hfo_up}\")\n",
    "print(\"Noise ISI (ms)\")\n",
    "print(f\"Mean: {mean_ripple_noise_up}, Median: {median_ripple_noise_up}, STD: {std_ripple_noise_up}\")\n",
    "\n",
    "print(\"=================================\")\n",
    "print(\"Ripple DOWN\")\n",
    "print(\"HFO ISI (ms)\")\n",
    "print(f\"Mean: {mean_ripple_hfo_down}, Median: {median_ripple_hfo_down}, STD: {std_ripple_hfo_down}\")\n",
    "print(\"Noise ISI (ms)\")\n",
    "print(f\"Mean: {mean_ripple_noise_down}, Median: {median_ripple_noise_down}, STD: {std_ripple_noise_down}\")"
   ]
  },
  {
   "cell_type": "markdown",
   "metadata": {},
   "source": [
    "#### Fast Ripple Band"
   ]
  },
  {
   "cell_type": "code",
   "execution_count": null,
   "metadata": {},
   "outputs": [],
   "source": [
    "# Metrics of the ISIs in the FR Band\n",
    "print(\"FR UP\")\n",
    "print(\"HFO ISI (ms)\")\n",
    "print(f\"Mean: {mean_fr_hfo_up}, Median: {median_fr_hfo_up}, STD: {std_fr_hfo_up}\")\n",
    "print(\"Noise ISI (ms)\")\n",
    "print(f\"Mean: {mean_fr_noise_up}, Median: {median_fr_noise_up}, STD: {std_fr_noise_up}\")\n",
    "\n",
    "print(\"=================================\")\n",
    "print(\"FR DOWN\")\n",
    "print(\"HFO ISI (ms)\")\n",
    "print(f\"Mean: {mean_fr_hfo_down}, Median: {median_fr_hfo_down}, STD: {std_fr_hfo_down}\")\n",
    "print(\"Noise ISI (ms)\")\n",
    "print(f\"Mean: {mean_fr_noise_down}, Median: {median_fr_noise_down}, STD: {std_fr_noise_down}\")"
   ]
  }
 ],
 "metadata": {
  "kernelspec": {
   "display_name": "Python 3 (ipykernel)",
   "language": "python",
   "name": "python3"
  },
  "language_info": {
   "codemirror_mode": {
    "name": "ipython",
    "version": 3
   },
   "file_extension": ".py",
   "mimetype": "text/x-python",
   "name": "python",
   "nbconvert_exporter": "python",
   "pygments_lexer": "ipython3",
   "version": "3.10.12"
  }
 },
 "nbformat": 4,
 "nbformat_minor": 2
}
