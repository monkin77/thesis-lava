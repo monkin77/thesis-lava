{
 "cells": [
  {
   "cell_type": "markdown",
   "metadata": {},
   "source": [
    "# **Signal To Spike Conversion** - Analysis\n",
    "\n",
    "This notebook conducts an analysis of the Inter-Spike Interval in the UP and DN spike trains to determine the optimal synaptic time constants"
   ]
  },
  {
   "cell_type": "markdown",
   "metadata": {},
   "source": [
    "### Check WD (change if necessary) and file loading"
   ]
  },
  {
   "cell_type": "code",
   "execution_count": 144,
   "metadata": {},
   "outputs": [
    {
     "name": "stdout",
     "output_type": "stream",
     "text": [
      "/home/monkin/Desktop/feup/thesis/thesis-lava/src/hfo/signal_to_spike\n"
     ]
    }
   ],
   "source": [
    "# Show current directory\n",
    "import os\n",
    "curr_dir = os.getcwd()\n",
    "print(curr_dir)\n",
    "\n",
    "# Check if the current WD is the file location\n",
    "if \"/src/hfo/signal_to_spike\" not in os.getcwd():\n",
    "    # Set working directory to this file location\n",
    "    file_location = f\"{os.getcwd()}/thesis-lava/src/hfo/signal_to_spike\"\n",
    "    print(\"File Location: \", file_location)\n",
    "\n",
    "    # Change the current working Directory\n",
    "    os.chdir(file_location)\n",
    "\n",
    "    # New Working Directory\n",
    "    print(\"New Working Directory: \", os.getcwd())"
   ]
  },
  {
   "cell_type": "markdown",
   "metadata": {},
   "source": [
    "### Declare the `INPUT_FOLDER` and `RESULTS_FOLDER`"
   ]
  },
  {
   "cell_type": "code",
   "execution_count": 145,
   "metadata": {},
   "outputs": [],
   "source": [
    "# CAREFUL WITH THIS FOLDER TO NOT OVERWRITE THE FILES\n",
    "DATASET_FILENAME = \"filtered_seeg_ch90-119_ch0\"    # \"seeg_filtered_subset_90-119_segment500_200\"\n",
    "INPUT_FOLDER = f\"results/{DATASET_FILENAME}\"\n",
    "RESULTS_FOLDER = f\"analysis/{DATASET_FILENAME}\"\n",
    "\n",
    "BASELINE_FILENAME = \"seeg_filtered_subset_90-119_segment500_200\""
   ]
  },
  {
   "cell_type": "markdown",
   "metadata": {},
   "source": [
    "## Load the UP and DN spike trains in the Ripple, FR Band and HFO Band"
   ]
  },
  {
   "cell_type": "code",
   "execution_count": 146,
   "metadata": {},
   "outputs": [],
   "source": [
    "import numpy as np\n",
    "import math\n",
    "from utils.io import preview_np_array\n",
    "from utils.input import read_spike_events, MarkerType, band_to_file_name, BaselineAlgorithm"
   ]
  },
  {
   "cell_type": "markdown",
   "metadata": {},
   "source": [
    "### Load the Baseline Thresholds from the output file from the baseline process"
   ]
  },
  {
   "cell_type": "code",
   "execution_count": 147,
   "metadata": {},
   "outputs": [],
   "source": [
    "# Specify the chosen Baseline Algorithm\n",
    "chosen_baseline_alg_suffix = BaselineAlgorithm.Q3"
   ]
  },
  {
   "cell_type": "code",
   "execution_count": 148,
   "metadata": {},
   "outputs": [
    {
     "name": "stdout",
     "output_type": "stream",
     "text": [
      "Ripple Thresholds:  5.6556 -5.6556\n",
      "FR Thresholds:  1.6041 -1.6041\n",
      "HFO Thresholds:  5.152 -5.152\n"
     ]
    }
   ],
   "source": [
    "# Load the Baseline Thresholds\n",
    "BASELINE_FILE = f\"baseline_results/{BASELINE_FILENAME}_thresholds_{chosen_baseline_alg_suffix}.npy\"\n",
    "baseline_thresholds = np.load(BASELINE_FILE)\n",
    "\n",
    "# preview_np_array(baseline_thresholds, \"baseline_thresholds\", edge_items=3)\n",
    "\n",
    "baseline_ripple_thresh = round(baseline_thresholds[0], 4)\n",
    "baseline_fr_thresh = round(baseline_thresholds[1], 4)\n",
    "baseline_hfo_thresh = round(baseline_thresholds[2], 4)\n",
    "\n",
    "# For now, the UP and DN thresholds are the same (symmetric)\n",
    "ripple_thresh_up = baseline_ripple_thresh\n",
    "ripple_thresh_down = -baseline_ripple_thresh\n",
    "fr_thresh_up = baseline_fr_thresh\n",
    "fr_thresh_down = -baseline_fr_thresh\n",
    "hfo_thresh_up = baseline_hfo_thresh\n",
    "hfo_thresh_down = -baseline_hfo_thresh\n",
    "\n",
    "print(\"Ripple Thresholds: \", ripple_thresh_up, ripple_thresh_down)\n",
    "print(\"FR Thresholds: \", fr_thresh_up, fr_thresh_down)\n",
    "print(\"HFO Thresholds: \", hfo_thresh_up, hfo_thresh_down)"
   ]
  },
  {
   "cell_type": "code",
   "execution_count": 149,
   "metadata": {},
   "outputs": [
    {
     "name": "stdout",
     "output_type": "stream",
     "text": [
      "ripple_up_spike_train Shape: (385, 2).\n",
      "Preview: [[ 4.25048828e+03 -1.00000000e+00]\n",
      " [ 4.25976562e+03 -1.00000000e+00]\n",
      " [ 4.26171875e+03 -1.00000000e+00]\n",
      " ...\n",
      " [ 1.19051758e+05 -1.00000000e+00]\n",
      " [ 1.19052734e+05 -1.00000000e+00]\n",
      " [ 1.19060547e+05 -1.00000000e+00]]\n",
      "ripple_down_spike_train Shape: (382, 2).\n",
      "Preview: [[ 4.25390625e+03 -1.00000000e+00]\n",
      " [ 4.25585938e+03 -1.00000000e+00]\n",
      " [ 4.26611328e+03 -1.00000000e+00]\n",
      " ...\n",
      " [ 1.19049805e+05 -1.00000000e+00]\n",
      " [ 1.19056152e+05 -1.00000000e+00]\n",
      " [ 1.19394043e+05 -1.00000000e+00]]\n"
     ]
    }
   ],
   "source": [
    "ripple_band_filename = band_to_file_name(MarkerType.RIPPLE)\n",
    "fr_band_filename = band_to_file_name(MarkerType.FAST_RIPPLE)\n",
    "hfo_band_filename = band_to_file_name(MarkerType.BOTH)\n",
    "\n",
    "# Call the function to read the spike events\n",
    "ripple_up_spikes_file_path = f\"{INPUT_FOLDER}/{ripple_band_filename}_up_spike_train_{ripple_thresh_up}.csv\"\n",
    "ripple_down_spikes_file_path = f\"{INPUT_FOLDER}/{ripple_band_filename}_down_spike_train_{ripple_thresh_down}.csv\"\n",
    "\n",
    "ripple_up_spike_train = read_spike_events(ripple_up_spikes_file_path)\n",
    "ripple_down_spike_train = read_spike_events(ripple_down_spikes_file_path)\n",
    "\n",
    "\n",
    "preview_np_array(ripple_up_spike_train, \"ripple_up_spike_train\", edge_items=3)\n",
    "preview_np_array(ripple_down_spike_train, \"ripple_down_spike_train\", edge_items=3)"
   ]
  },
  {
   "cell_type": "code",
   "execution_count": 150,
   "metadata": {},
   "outputs": [
    {
     "name": "stdout",
     "output_type": "stream",
     "text": [
      "fr_up_spike_train Shape: (4491, 2).\n",
      "Preview: [[ 2.06542969e+02 -1.00000000e+00]\n",
      " [ 2.09472656e+02 -1.00000000e+00]\n",
      " [ 2.31445312e+02 -1.00000000e+00]\n",
      " ...\n",
      " [ 1.19969727e+05 -1.00000000e+00]\n",
      " [ 1.19980469e+05 -1.00000000e+00]\n",
      " [ 1.19992676e+05 -1.00000000e+00]]\n",
      "fr_down_spike_train Shape: (4504, 2).\n",
      "Preview: [[ 2.05566406e+02 -1.00000000e+00]\n",
      " [ 2.08007812e+02 -1.00000000e+00]\n",
      " [ 2.10937500e+02 -1.00000000e+00]\n",
      " ...\n",
      " [ 1.19971191e+05 -1.00000000e+00]\n",
      " [ 1.19981934e+05 -1.00000000e+00]\n",
      " [ 1.19994141e+05 -1.00000000e+00]]\n"
     ]
    }
   ],
   "source": [
    "fr_up_spikes_file_path = f\"{INPUT_FOLDER}/{fr_band_filename}_up_spike_train_{fr_thresh_up}.csv\"\n",
    "fr_down_spikes_file_path = f\"{INPUT_FOLDER}/{fr_band_filename}_down_spike_train_{fr_thresh_down}.csv\"\n",
    "\n",
    "fr_up_spike_train = read_spike_events(fr_up_spikes_file_path)\n",
    "fr_down_spike_train = read_spike_events(fr_down_spikes_file_path)\n",
    "\n",
    "preview_np_array(fr_up_spike_train, \"fr_up_spike_train\", edge_items=3)\n",
    "preview_np_array(fr_down_spike_train, \"fr_down_spike_train\", edge_items=3)"
   ]
  },
  {
   "cell_type": "code",
   "execution_count": 151,
   "metadata": {},
   "outputs": [
    {
     "name": "stdout",
     "output_type": "stream",
     "text": [
      "hfo_up_spike_train Shape: (714, 2).\n",
      "Preview: [[ 4.21337891e+03 -1.00000000e+00]\n",
      " [ 4.21630859e+03 -1.00000000e+00]\n",
      " [ 4.21923828e+03 -1.00000000e+00]\n",
      " ...\n",
      " [ 1.19043945e+05 -1.00000000e+00]\n",
      " [ 1.19049805e+05 -1.00000000e+00]\n",
      " [ 1.19058105e+05 -1.00000000e+00]]\n",
      "hfo_down_spike_train Shape: (721, 2).\n",
      "Preview: [[ 4.21240234e+03 -1.00000000e+00]\n",
      " [ 4.21484375e+03 -1.00000000e+00]\n",
      " [ 4.21728516e+03 -1.00000000e+00]\n",
      " ...\n",
      " [ 1.19045898e+05 -1.00000000e+00]\n",
      " [ 1.19046875e+05 -1.00000000e+00]\n",
      " [ 1.19054199e+05 -1.00000000e+00]]\n"
     ]
    }
   ],
   "source": [
    "hfo_up_spikes_file_path = f\"{INPUT_FOLDER}/{hfo_band_filename}_up_spike_train_{hfo_thresh_up}.csv\"\n",
    "hfo_down_spikes_file_path = f\"{INPUT_FOLDER}/{hfo_band_filename}_down_spike_train_{hfo_thresh_down}.csv\"\n",
    "\n",
    "hfo_up_spike_train = read_spike_events(hfo_up_spikes_file_path)\n",
    "hfo_down_spike_train = read_spike_events(hfo_down_spikes_file_path)\n",
    "\n",
    "preview_np_array(hfo_up_spike_train, \"hfo_up_spike_train\", edge_items=3)\n",
    "preview_np_array(hfo_down_spike_train, \"hfo_down_spike_train\", edge_items=3)"
   ]
  },
  {
   "cell_type": "markdown",
   "metadata": {},
   "source": [
    "### Load the Annotated Data\n",
    "The annotated data is needed to separate the intervals of HFO from the normal activity to calculate the Inter-Spike Interval (ISI)"
   ]
  },
  {
   "cell_type": "code",
   "execution_count": 152,
   "metadata": {},
   "outputs": [
    {
     "name": "stdout",
     "output_type": "stream",
     "text": [
      "ripple_ground_truth Shape: (24,).\n",
      "Preview: [('Ripple+Fast-Ripple',   6966.8 , 0.)\n",
      " ('Ripple+Fast-Ripple',   9793.95, 0.)\n",
      " ('Spike+Ripple+Fast-Ripple',  13189.  , 0.) ... ('Ripple', 114551.  , 0.)\n",
      " ('Spike+Ripple', 116517.  , 0.) ('Spike+Ripple', 119000.  , 0.)]\n",
      "fr_ground_truth Shape: (24,).\n",
      "Preview: [('Spike+Fast-Ripple',   4218.75, 0.)\n",
      " ('Ripple+Fast-Ripple',   6966.8 , 0.)\n",
      " ('Ripple+Fast-Ripple',   9793.95, 0.) ... ('Fast-Ripple',  98651.4 , 0.)\n",
      " ('Fast-Ripple', 106037.  , 0.) ('Ripple+Fast-Ripple', 107859.  , 0.)]\n",
      "hfo_ground_truth Shape: (36,).\n",
      "Preview: [('Spike+Fast-Ripple',   4218.75, 0.)\n",
      " ('Ripple+Fast-Ripple',   6966.8 , 0.)\n",
      " ('Ripple+Fast-Ripple',   9793.95, 0.) ... ('Ripple', 114551.  , 0.)\n",
      " ('Spike+Ripple', 116517.  , 0.) ('Spike+Ripple', 119000.  , 0.)]\n"
     ]
    }
   ],
   "source": [
    "# load the npy object\n",
    "ripple_ground_truth = np.load(f\"{INPUT_FOLDER}/{ripple_band_filename}_ground_truth.npy\")\n",
    "fr_ground_truth = np.load(f\"{INPUT_FOLDER}/{fr_band_filename}_ground_truth.npy\")\n",
    "hfo_ground_truth = np.load(f\"{INPUT_FOLDER}/{hfo_band_filename}_ground_truth.npy\")\n",
    "\n",
    "preview_np_array(ripple_ground_truth, \"ripple_ground_truth\", edge_items=3)\n",
    "preview_np_array(fr_ground_truth, \"fr_ground_truth\", edge_items=3)\n",
    "preview_np_array(hfo_ground_truth, \"hfo_ground_truth\", edge_items=3)"
   ]
  },
  {
   "cell_type": "markdown",
   "metadata": {},
   "source": [
    "## Iterate the UP and DN Spike Trains to Calculate the Inter-Spike Interval (ISI) in the HFO and Normal Activity"
   ]
  },
  {
   "cell_type": "markdown",
   "metadata": {},
   "source": [
    "Define the lists to store:\n",
    "- `Ripple_HFO_UP` - ISI of the UP train in the Ripple band during an HFO event \n",
    "- `Ripple_HFO_DN` - ISI of the DN train in the Ripple band during an HFO event\n",
    "- `Ripple_Noise_UP` - ISI of the UP train in the Ripple band during normal activity\n",
    "- `Ripple_Noise_DN` - ISI of the DN train in the Ripple band during normal activity\n",
    "\n",
    "- `FR_HFO_UP` - ISI of the UP train in the Fast Ripple band during an HFO event\n",
    "- `FR_HFO_DN` - ISI of the DN train in the Fast Ripple band during an HFO event\n",
    "- `FR_Noise_UP` - ISI of the UP train in the Fast Ripple band during normal activity\n",
    "- `FR_Noise_DN` - ISI of the DN train in the Fast Ripple band during normal activity\n",
    "\n",
    "- `BOTH_HFO_UP` - ISI of the UP train in the HFO band during an HFO event\n",
    "- `BOTH_HFO_DN` - ISI of the DN train in the HFO band during an HFO event\n",
    "- `BOTH_Noise_UP` - ISI of the UP train in the HFO band during normal activity\n",
    "- `BOTH_Noise_DN` - ISI of the DN train in the HFO band during normal activity"
   ]
  },
  {
   "cell_type": "markdown",
   "metadata": {},
   "source": [
    "## Let's analyze the Ripple Band first"
   ]
  },
  {
   "cell_type": "code",
   "execution_count": 153,
   "metadata": {},
   "outputs": [],
   "source": [
    "isi_ripple_hfo_up = []\n",
    "isi_ripple_hfo_down = []\n",
    "isi_ripple_noise_up = []\n",
    "isi_ripple_noise_down = []"
   ]
  },
  {
   "cell_type": "markdown",
   "metadata": {},
   "source": [
    "#### Ripple Band - UP Train"
   ]
  },
  {
   "cell_type": "code",
   "execution_count": 154,
   "metadata": {},
   "outputs": [
    {
     "name": "stdout",
     "output_type": "stream",
     "text": [
      "Spike time: 6967.28515625. ISI: 0.48828125. is_first_spike: True. different_hfo: False\n",
      "Spike time: 6967.7734375. ISI: 0.48828125. is_first_spike: False. different_hfo: False\n",
      "Spike time: 6968.75. ISI: 0.9765625. is_first_spike: False. different_hfo: False\n",
      "Spike time: 6975.5859375. ISI: 6.8359375. is_first_spike: False. different_hfo: False\n",
      "Spike time: 6976.5625. ISI: 0.9765625. is_first_spike: False. different_hfo: False\n",
      "Spike time: 6977.5390625. ISI: 0.9765625. is_first_spike: False. different_hfo: False\n",
      "Spike time: 6978.515625. ISI: 0.9765625. is_first_spike: False. different_hfo: False\n",
      "Spike time: 6986.328125. ISI: 7.8125. is_first_spike: False. different_hfo: False\n",
      "Spike time: 6986.81640625. ISI: 0.48828125. is_first_spike: False. different_hfo: False\n",
      "Spike time: 6987.79296875. ISI: 0.9765625. is_first_spike: False. different_hfo: False\n",
      "Spike time: 6989.2578125. ISI: 1.46484375. is_first_spike: False. different_hfo: False\n",
      "Spike time: 6999.0234375. ISI: 9.765625. is_first_spike: False. different_hfo: False\n",
      "Spike time: 7011.23046875. ISI: 12.20703125. is_first_spike: False. different_hfo: False\n",
      "Spike time: 7024.4140625. ISI: 13.18359375. is_first_spike: False. different_hfo: False\n",
      "Spike time: 9805.17578125. ISI: 2780.76171875. is_first_spike: False. different_hfo: True\n",
      "Spike time: 9817.3828125. ISI: 12.20703125. is_first_spike: False. different_hfo: False\n",
      "Spike time: 9829.1015625. ISI: 11.71875. is_first_spike: False. different_hfo: False\n",
      "Spike time: 9839.84375. ISI: 10.7421875. is_first_spike: False. different_hfo: False\n",
      "Spike time: 9840.8203125. ISI: 0.9765625. is_first_spike: False. different_hfo: False\n",
      "Spike time: 9842.28515625. ISI: 1.46484375. is_first_spike: False. different_hfo: False\n",
      "Spike time: 9852.5390625. ISI: 10.25390625. is_first_spike: False. different_hfo: False\n",
      "Spike time: 9865.234375. ISI: 12.6953125. is_first_spike: False. different_hfo: False\n",
      "Spike time: 9878.41796875. ISI: 13.18359375. is_first_spike: False. different_hfo: False\n",
      "Spike time: 9889.6484375. ISI: 11.23046875. is_first_spike: False. different_hfo: False\n",
      "Spike time: 13203.125. ISI: 3313.4765625. is_first_spike: False. different_hfo: True\n",
      "Spike time: 13215.8203125. ISI: 12.6953125. is_first_spike: False. different_hfo: False\n",
      "Spike time: 13226.5625. ISI: 10.7421875. is_first_spike: False. different_hfo: False\n",
      "Spike time: 13227.5390625. ISI: 0.9765625. is_first_spike: False. different_hfo: False\n",
      "Spike time: 13229.00390625. ISI: 1.46484375. is_first_spike: False. different_hfo: False\n",
      "Spike time: 13239.2578125. ISI: 10.25390625. is_first_spike: False. different_hfo: False\n",
      "Spike time: 13251.46484375. ISI: 12.20703125. is_first_spike: False. different_hfo: False\n",
      "Spike time: 13263.671875. ISI: 12.20703125. is_first_spike: False. different_hfo: False\n",
      "Spike time: 15980.46875. ISI: 2716.796875. is_first_spike: False. different_hfo: True\n",
      "Spike time: 15991.69921875. ISI: 11.23046875. is_first_spike: False. different_hfo: False\n",
      "Spike time: 16003.41796875. ISI: 11.71875. is_first_spike: False. different_hfo: False\n",
      "Spike time: 16004.8828125. ISI: 1.46484375. is_first_spike: False. different_hfo: False\n",
      "Spike time: 16014.6484375. ISI: 9.765625. is_first_spike: False. different_hfo: False\n",
      "Spike time: 16026.3671875. ISI: 11.71875. is_first_spike: False. different_hfo: False\n",
      "Spike time: 18191.89453125. ISI: 8.7890625. is_first_spike: True. different_hfo: False\n",
      "Spike time: 18192.87109375. ISI: 0.9765625. is_first_spike: False. different_hfo: False\n",
      "Spike time: 18194.3359375. ISI: 1.46484375. is_first_spike: False. different_hfo: False\n",
      "Spike time: 18205.56640625. ISI: 11.23046875. is_first_spike: False. different_hfo: False\n",
      "Spike time: 18206.0546875. ISI: 0.48828125. is_first_spike: False. different_hfo: False\n",
      "Spike time: 18206.54296875. ISI: 0.48828125. is_first_spike: False. different_hfo: False\n",
      "Spike time: 18207.03125. ISI: 0.48828125. is_first_spike: False. different_hfo: False\n",
      "Spike time: 18207.51953125. ISI: 0.48828125. is_first_spike: False. different_hfo: False\n",
      "Spike time: 18208.0078125. ISI: 0.48828125. is_first_spike: False. different_hfo: False\n",
      "Spike time: 18208.49609375. ISI: 0.48828125. is_first_spike: False. different_hfo: False\n",
      "Spike time: 18208.984375. ISI: 0.48828125. is_first_spike: False. different_hfo: False\n",
      "Spike time: 18216.796875. ISI: 7.8125. is_first_spike: False. different_hfo: False\n",
      "Spike time: 18217.28515625. ISI: 0.48828125. is_first_spike: False. different_hfo: False\n",
      "Spike time: 18217.7734375. ISI: 0.48828125. is_first_spike: False. different_hfo: False\n",
      "Spike time: 18218.26171875. ISI: 0.48828125. is_first_spike: False. different_hfo: False\n",
      "Spike time: 18218.75. ISI: 0.48828125. is_first_spike: False. different_hfo: False\n",
      "Spike time: 18219.23828125. ISI: 0.48828125. is_first_spike: False. different_hfo: False\n",
      "Spike time: 18219.7265625. ISI: 0.48828125. is_first_spike: False. different_hfo: False\n",
      "Spike time: 18220.21484375. ISI: 0.48828125. is_first_spike: False. different_hfo: False\n",
      "Spike time: 18229.00390625. ISI: 8.7890625. is_first_spike: False. different_hfo: False\n",
      "Spike time: 18229.4921875. ISI: 0.48828125. is_first_spike: False. different_hfo: False\n",
      "Spike time: 18229.98046875. ISI: 0.48828125. is_first_spike: False. different_hfo: False\n",
      "Spike time: 18230.46875. ISI: 0.48828125. is_first_spike: False. different_hfo: False\n",
      "Spike time: 18230.95703125. ISI: 0.48828125. is_first_spike: False. different_hfo: False\n",
      "Spike time: 18231.4453125. ISI: 0.48828125. is_first_spike: False. different_hfo: False\n",
      "Spike time: 18232.421875. ISI: 0.9765625. is_first_spike: False. different_hfo: False\n",
      "Spike time: 18239.74609375. ISI: 7.32421875. is_first_spike: False. different_hfo: False\n",
      "Spike time: 18240.72265625. ISI: 0.9765625. is_first_spike: False. different_hfo: False\n",
      "Spike time: 18241.69921875. ISI: 0.9765625. is_first_spike: False. different_hfo: False\n",
      "Spike time: 18242.67578125. ISI: 0.9765625. is_first_spike: False. different_hfo: False\n",
      "Spike time: 18252.44140625. ISI: 9.765625. is_first_spike: False. different_hfo: False\n",
      "Spike time: 18254.39453125. ISI: 1.953125. is_first_spike: False. different_hfo: False\n",
      "Spike time: 18266.6015625. ISI: 12.20703125. is_first_spike: False. different_hfo: False\n",
      "Spike time: 18277.83203125. ISI: 11.23046875. is_first_spike: False. different_hfo: False\n",
      "Spike time: 18287.109375. ISI: 9.27734375. is_first_spike: False. different_hfo: False\n",
      "Spike time: 18288.57421875. ISI: 1.46484375. is_first_spike: False. different_hfo: False\n",
      "Spike time: 18301.26953125. ISI: 12.6953125. is_first_spike: False. different_hfo: False\n",
      "Spike time: 27051.26953125. ISI: 6.34765625. is_first_spike: True. different_hfo: False\n",
      "Spike time: 27051.7578125. ISI: 0.48828125. is_first_spike: False. different_hfo: False\n",
      "Spike time: 27052.24609375. ISI: 0.48828125. is_first_spike: False. different_hfo: False\n",
      "Spike time: 27053.22265625. ISI: 0.9765625. is_first_spike: False. different_hfo: False\n",
      "Spike time: 27060.05859375. ISI: 6.8359375. is_first_spike: False. different_hfo: False\n",
      "Spike time: 27061.03515625. ISI: 0.9765625. is_first_spike: False. different_hfo: False\n",
      "Spike time: 27062.01171875. ISI: 0.9765625. is_first_spike: False. different_hfo: False\n",
      "Spike time: 27062.98828125. ISI: 0.9765625. is_first_spike: False. different_hfo: False\n",
      "Spike time: 27070.3125. ISI: 7.32421875. is_first_spike: False. different_hfo: False\n",
      "Spike time: 27071.2890625. ISI: 0.9765625. is_first_spike: False. different_hfo: False\n",
      "Spike time: 27072.265625. ISI: 0.9765625. is_first_spike: False. different_hfo: False\n",
      "Spike time: 27073.73046875. ISI: 1.46484375. is_first_spike: False. different_hfo: False\n",
      "Spike time: 27082.03125. ISI: 8.30078125. is_first_spike: False. different_hfo: False\n",
      "Spike time: 27083.49609375. ISI: 1.46484375. is_first_spike: False. different_hfo: False\n",
      "Spike time: 27096.19140625. ISI: 12.6953125. is_first_spike: False. different_hfo: False\n",
      "Spike time: 27108.88671875. ISI: 12.6953125. is_first_spike: False. different_hfo: False\n",
      "Spike time: 30457.51953125. ISI: 3348.6328125. is_first_spike: False. different_hfo: True\n",
      "Spike time: 30462.890625. ISI: 5.37109375. is_first_spike: False. different_hfo: False\n",
      "Spike time: 30463.37890625. ISI: 0.48828125. is_first_spike: False. different_hfo: False\n",
      "Spike time: 30463.8671875. ISI: 0.48828125. is_first_spike: False. different_hfo: False\n",
      "Spike time: 30470.21484375. ISI: 6.34765625. is_first_spike: False. different_hfo: False\n",
      "Spike time: 30470.703125. ISI: 0.48828125. is_first_spike: False. different_hfo: False\n",
      "Spike time: 30471.6796875. ISI: 0.9765625. is_first_spike: False. different_hfo: False\n",
      "Spike time: 30477.05078125. ISI: 5.37109375. is_first_spike: False. different_hfo: False\n",
      "Spike time: 30478.02734375. ISI: 0.9765625. is_first_spike: False. different_hfo: False\n",
      "Spike time: 30479.00390625. ISI: 0.9765625. is_first_spike: False. different_hfo: False\n",
      "Spike time: 33329.1015625. ISI: 2850.09765625. is_first_spike: False. different_hfo: True\n",
      "Spike time: 33334.47265625. ISI: 5.37109375. is_first_spike: False. different_hfo: False\n",
      "Spike time: 33334.9609375. ISI: 0.48828125. is_first_spike: False. different_hfo: False\n",
      "Spike time: 33335.9375. ISI: 0.9765625. is_first_spike: False. different_hfo: False\n",
      "Spike time: 33341.30859375. ISI: 5.37109375. is_first_spike: False. different_hfo: False\n",
      "Spike time: 33341.796875. ISI: 0.48828125. is_first_spike: False. different_hfo: False\n",
      "Spike time: 33342.28515625. ISI: 0.48828125. is_first_spike: False. different_hfo: False\n",
      "Spike time: 33342.7734375. ISI: 0.48828125. is_first_spike: False. different_hfo: False\n",
      "Spike time: 33349.12109375. ISI: 6.34765625. is_first_spike: False. different_hfo: False\n",
      "Spike time: 33350.09765625. ISI: 0.9765625. is_first_spike: False. different_hfo: False\n",
      "Spike time: 48587.40234375. ISI: 6.8359375. is_first_spike: True. different_hfo: False\n",
      "Spike time: 48588.37890625. ISI: 0.9765625. is_first_spike: False. different_hfo: False\n",
      "Spike time: 48589.35546875. ISI: 0.9765625. is_first_spike: False. different_hfo: False\n",
      "Spike time: 48590.8203125. ISI: 1.46484375. is_first_spike: False. different_hfo: False\n",
      "Spike time: 48598.14453125. ISI: 7.32421875. is_first_spike: False. different_hfo: False\n",
      "Spike time: 48599.12109375. ISI: 0.9765625. is_first_spike: False. different_hfo: False\n",
      "Spike time: 48600.09765625. ISI: 0.9765625. is_first_spike: False. different_hfo: False\n",
      "Spike time: 48609.375. ISI: 9.27734375. is_first_spike: False. different_hfo: False\n",
      "Spike time: 48611.81640625. ISI: 2.44140625. is_first_spike: False. different_hfo: False\n",
      "Spike time: 48623.53515625. ISI: 11.71875. is_first_spike: False. different_hfo: False\n",
      "Spike time: 50742.67578125. ISI: 23.92578125. is_first_spike: True. different_hfo: False\n",
      "Spike time: 50751.46484375. ISI: 8.7890625. is_first_spike: False. different_hfo: False\n",
      "Spike time: 50752.44140625. ISI: 0.9765625. is_first_spike: False. different_hfo: False\n",
      "Spike time: 50762.6953125. ISI: 10.25390625. is_first_spike: False. different_hfo: False\n",
      "Spike time: 50763.671875. ISI: 0.9765625. is_first_spike: False. different_hfo: False\n",
      "Spike time: 50764.6484375. ISI: 0.9765625. is_first_spike: False. different_hfo: False\n",
      "Spike time: 50771.97265625. ISI: 7.32421875. is_first_spike: False. different_hfo: False\n",
      "Spike time: 50772.94921875. ISI: 0.9765625. is_first_spike: False. different_hfo: False\n",
      "Spike time: 50774.4140625. ISI: 1.46484375. is_first_spike: False. different_hfo: False\n",
      "Spike time: 50784.1796875. ISI: 9.765625. is_first_spike: False. different_hfo: False\n",
      "Spike time: 50785.64453125. ISI: 1.46484375. is_first_spike: False. different_hfo: False\n",
      "Spike time: 50796.38671875. ISI: 10.7421875. is_first_spike: False. different_hfo: False\n",
      "Spike time: 50798.828125. ISI: 2.44140625. is_first_spike: False. different_hfo: False\n",
      "Spike time: 50810.546875. ISI: 11.71875. is_first_spike: False. different_hfo: False\n",
      "Spike time: 50819.3359375. ISI: 8.7890625. is_first_spike: False. different_hfo: False\n",
      "Spike time: 50820.80078125. ISI: 1.46484375. is_first_spike: False. different_hfo: False\n",
      "Spike time: 53361.81640625. ISI: 2541.015625. is_first_spike: False. different_hfo: True\n",
      "Spike time: 53372.55859375. ISI: 10.7421875. is_first_spike: False. different_hfo: False\n",
      "Spike time: 53383.30078125. ISI: 10.7421875. is_first_spike: False. different_hfo: False\n",
      "Spike time: 53385.25390625. ISI: 1.953125. is_first_spike: False. different_hfo: False\n",
      "Spike time: 53395.5078125. ISI: 10.25390625. is_first_spike: False. different_hfo: False\n",
      "Spike time: 53396.97265625. ISI: 1.46484375. is_first_spike: False. different_hfo: False\n",
      "Spike time: 53406.73828125. ISI: 9.765625. is_first_spike: False. different_hfo: False\n",
      "Spike time: 59799.8046875. ISI: 10.7421875. is_first_spike: True. different_hfo: False\n",
      "Spike time: 59810.546875. ISI: 10.7421875. is_first_spike: False. different_hfo: False\n",
      "Spike time: 59821.77734375. ISI: 11.23046875. is_first_spike: False. different_hfo: False\n",
      "Spike time: 59822.75390625. ISI: 0.9765625. is_first_spike: False. different_hfo: False\n",
      "Spike time: 59833.0078125. ISI: 10.25390625. is_first_spike: False. different_hfo: False\n",
      "Spike time: 59834.47265625. ISI: 1.46484375. is_first_spike: False. different_hfo: False\n",
      "Spike time: 59841.796875. ISI: 7.32421875. is_first_spike: False. different_hfo: False\n",
      "Spike time: 59842.7734375. ISI: 0.9765625. is_first_spike: False. different_hfo: False\n",
      "Spike time: 59844.23828125. ISI: 1.46484375. is_first_spike: False. different_hfo: False\n",
      "Spike time: 59853.515625. ISI: 9.27734375. is_first_spike: False. different_hfo: False\n",
      "Spike time: 59855.46875. ISI: 1.953125. is_first_spike: False. different_hfo: False\n",
      "Spike time: 59865.72265625. ISI: 10.25390625. is_first_spike: False. different_hfo: False\n",
      "Spike time: 59878.90625. ISI: 13.18359375. is_first_spike: False. different_hfo: False\n",
      "Spike time: 59880.859375. ISI: 1.953125. is_first_spike: False. different_hfo: False\n",
      "Spike time: 59888.671875. ISI: 7.8125. is_first_spike: False. different_hfo: False\n",
      "Spike time: 59890.13671875. ISI: 1.46484375. is_first_spike: False. different_hfo: False\n",
      "Spike time: 59902.34375. ISI: 12.20703125. is_first_spike: False. different_hfo: False\n",
      "Spike time: 65387.6953125. ISI: 18.06640625. is_first_spike: True. different_hfo: False\n",
      "Spike time: 65390.625. ISI: 2.9296875. is_first_spike: False. different_hfo: False\n",
      "Spike time: 65413.0859375. ISI: 22.4609375. is_first_spike: False. different_hfo: False\n",
      "Spike time: 65422.36328125. ISI: 9.27734375. is_first_spike: False. different_hfo: False\n",
      "Spike time: 65423.33984375. ISI: 0.9765625. is_first_spike: False. different_hfo: False\n",
      "Spike time: 65424.8046875. ISI: 1.46484375. is_first_spike: False. different_hfo: False\n",
      "Spike time: 65433.59375. ISI: 8.7890625. is_first_spike: False. different_hfo: False\n",
      "Spike time: 65434.5703125. ISI: 0.9765625. is_first_spike: False. different_hfo: False\n",
      "Spike time: 65436.03515625. ISI: 1.46484375. is_first_spike: False. different_hfo: False\n",
      "Spike time: 65442.87109375. ISI: 6.8359375. is_first_spike: False. different_hfo: False\n",
      "Spike time: 65443.84765625. ISI: 0.9765625. is_first_spike: False. different_hfo: False\n",
      "Spike time: 65445.3125. ISI: 1.46484375. is_first_spike: False. different_hfo: False\n",
      "Spike time: 65455.078125. ISI: 9.765625. is_first_spike: False. different_hfo: False\n",
      "Spike time: 65456.54296875. ISI: 1.46484375. is_first_spike: False. different_hfo: False\n",
      "Spike time: 65466.30859375. ISI: 9.765625. is_first_spike: False. different_hfo: False\n",
      "Spike time: 65469.23828125. ISI: 2.9296875. is_first_spike: False. different_hfo: False\n",
      "Spike time: 65481.4453125. ISI: 12.20703125. is_first_spike: False. different_hfo: False\n",
      "Spike time: 65490.234375. ISI: 8.7890625. is_first_spike: False. different_hfo: False\n",
      "Spike time: 65491.69921875. ISI: 1.46484375. is_first_spike: False. different_hfo: False\n",
      "Spike time: 65503.90625. ISI: 12.20703125. is_first_spike: False. different_hfo: False\n",
      "Spike time: 71953.61328125. ISI: 9.27734375. is_first_spike: True. different_hfo: False\n",
      "Spike time: 71964.35546875. ISI: 10.7421875. is_first_spike: False. different_hfo: False\n",
      "Spike time: 71976.07421875. ISI: 11.71875. is_first_spike: False. different_hfo: False\n",
      "Spike time: 71977.5390625. ISI: 1.46484375. is_first_spike: False. different_hfo: False\n",
      "Spike time: 71987.3046875. ISI: 9.765625. is_first_spike: False. different_hfo: False\n",
      "Spike time: 71988.76953125. ISI: 1.46484375. is_first_spike: False. different_hfo: False\n",
      "Spike time: 71999.51171875. ISI: 10.7421875. is_first_spike: False. different_hfo: False\n",
      "Spike time: 72011.71875. ISI: 12.20703125. is_first_spike: False. different_hfo: False\n",
      "Spike time: 77345.703125. ISI: 2494.140625. is_first_spike: True. different_hfo: True\n",
      "Spike time: 77351.5625. ISI: 5.859375. is_first_spike: False. different_hfo: False\n",
      "Spike time: 77352.05078125. ISI: 0.48828125. is_first_spike: False. different_hfo: False\n",
      "Spike time: 77353.02734375. ISI: 0.9765625. is_first_spike: False. different_hfo: False\n",
      "Spike time: 77358.88671875. ISI: 5.859375. is_first_spike: False. different_hfo: False\n",
      "Spike time: 77359.375. ISI: 0.48828125. is_first_spike: False. different_hfo: False\n",
      "Spike time: 77359.86328125. ISI: 0.48828125. is_first_spike: False. different_hfo: False\n",
      "Spike time: 77366.2109375. ISI: 6.34765625. is_first_spike: False. different_hfo: False\n",
      "Spike time: 77367.1875. ISI: 0.9765625. is_first_spike: False. different_hfo: False\n",
      "Spike time: 77374.0234375. ISI: 6.8359375. is_first_spike: False. different_hfo: False\n",
      "Spike time: 89463.8671875. ISI: 3478.515625. is_first_spike: True. different_hfo: True\n",
      "Spike time: 89474.12109375. ISI: 10.25390625. is_first_spike: False. different_hfo: False\n",
      "Spike time: 89476.07421875. ISI: 1.953125. is_first_spike: False. different_hfo: False\n",
      "Spike time: 89485.83984375. ISI: 9.765625. is_first_spike: False. different_hfo: False\n",
      "Spike time: 89488.28125. ISI: 2.44140625. is_first_spike: False. different_hfo: False\n",
      "Spike time: 89498.046875. ISI: 9.765625. is_first_spike: False. different_hfo: False\n",
      "Spike time: 89499.51171875. ISI: 1.46484375. is_first_spike: False. different_hfo: False\n",
      "Spike time: 89509.27734375. ISI: 9.765625. is_first_spike: False. different_hfo: False\n",
      "Spike time: 89511.23046875. ISI: 1.953125. is_first_spike: False. different_hfo: False\n",
      "Spike time: 95402.34375. ISI: 6.34765625. is_first_spike: True. different_hfo: False\n",
      "Spike time: 95402.83203125. ISI: 0.48828125. is_first_spike: False. different_hfo: False\n",
      "Spike time: 95403.3203125. ISI: 0.48828125. is_first_spike: False. different_hfo: False\n",
      "Spike time: 95404.296875. ISI: 0.9765625. is_first_spike: False. different_hfo: False\n",
      "Spike time: 95411.62109375. ISI: 7.32421875. is_first_spike: False. different_hfo: False\n",
      "Spike time: 95412.59765625. ISI: 0.9765625. is_first_spike: False. different_hfo: False\n",
      "Spike time: 95413.57421875. ISI: 0.9765625. is_first_spike: False. different_hfo: False\n",
      "Spike time: 95421.875. ISI: 8.30078125. is_first_spike: False. different_hfo: False\n",
      "Spike time: 95422.8515625. ISI: 0.9765625. is_first_spike: False. different_hfo: False\n",
      "Spike time: 95423.828125. ISI: 0.9765625. is_first_spike: False. different_hfo: False\n",
      "Spike time: 95433.59375. ISI: 9.765625. is_first_spike: False. different_hfo: False\n",
      "Spike time: 95435.05859375. ISI: 1.46484375. is_first_spike: False. different_hfo: False\n",
      "Spike time: 95446.77734375. ISI: 11.71875. is_first_spike: False. different_hfo: False\n",
      "Spike time: 95459.47265625. ISI: 12.6953125. is_first_spike: False. different_hfo: False\n",
      "Spike time: 101378.41796875. ISI: 226.07421875. is_first_spike: True. different_hfo: True\n",
      "Spike time: 101379.39453125. ISI: 0.9765625. is_first_spike: False. different_hfo: False\n",
      "Spike time: 101385.25390625. ISI: 5.859375. is_first_spike: False. different_hfo: False\n",
      "Spike time: 101385.7421875. ISI: 0.48828125. is_first_spike: False. different_hfo: False\n",
      "Spike time: 101386.23046875. ISI: 0.48828125. is_first_spike: False. different_hfo: False\n",
      "Spike time: 101387.20703125. ISI: 0.9765625. is_first_spike: False. different_hfo: False\n",
      "Spike time: 101392.08984375. ISI: 4.8828125. is_first_spike: False. different_hfo: False\n",
      "Spike time: 101393.06640625. ISI: 0.9765625. is_first_spike: False. different_hfo: False\n",
      "Spike time: 101398.4375. ISI: 5.37109375. is_first_spike: False. different_hfo: False\n",
      "Spike time: 101398.92578125. ISI: 0.48828125. is_first_spike: False. different_hfo: False\n",
      "Spike time: 101399.4140625. ISI: 0.48828125. is_first_spike: False. different_hfo: False\n",
      "Spike time: 101399.90234375. ISI: 0.48828125. is_first_spike: False. different_hfo: False\n",
      "Spike time: 101400.390625. ISI: 0.48828125. is_first_spike: False. different_hfo: False\n",
      "Spike time: 101401.3671875. ISI: 0.9765625. is_first_spike: False. different_hfo: False\n",
      "Spike time: 101409.66796875. ISI: 8.30078125. is_first_spike: False. different_hfo: False\n",
      "Spike time: 101412.109375. ISI: 2.44140625. is_first_spike: False. different_hfo: False\n",
      "Spike time: 101425.29296875. ISI: 13.18359375. is_first_spike: False. different_hfo: False\n",
      "Spike time: 104018.5546875. ISI: 2593.26171875. is_first_spike: False. different_hfo: True\n",
      "Spike time: 104029.296875. ISI: 10.7421875. is_first_spike: False. different_hfo: False\n",
      "Spike time: 104041.015625. ISI: 11.71875. is_first_spike: False. different_hfo: False\n",
      "Spike time: 104042.96875. ISI: 1.953125. is_first_spike: False. different_hfo: False\n",
      "Spike time: 104052.24609375. ISI: 9.27734375. is_first_spike: False. different_hfo: False\n",
      "Spike time: 104063.96484375. ISI: 11.71875. is_first_spike: False. different_hfo: False\n",
      "Spike time: 107863.28125. ISI: 6.8359375. is_first_spike: True. different_hfo: False\n",
      "Spike time: 107864.2578125. ISI: 0.9765625. is_first_spike: False. different_hfo: False\n",
      "Spike time: 107865.234375. ISI: 0.9765625. is_first_spike: False. different_hfo: False\n",
      "Spike time: 107866.2109375. ISI: 0.9765625. is_first_spike: False. different_hfo: False\n",
      "Spike time: 107874.0234375. ISI: 7.8125. is_first_spike: False. different_hfo: False\n",
      "Spike time: 107874.51171875. ISI: 0.48828125. is_first_spike: False. different_hfo: False\n",
      "Spike time: 107875.48828125. ISI: 0.9765625. is_first_spike: False. different_hfo: False\n",
      "Spike time: 107885.7421875. ISI: 10.25390625. is_first_spike: False. different_hfo: False\n",
      "Spike time: 107887.20703125. ISI: 1.46484375. is_first_spike: False. different_hfo: False\n",
      "Spike time: 111449.21875. ISI: 12.20703125. is_first_spike: True. different_hfo: False\n",
      "Spike time: 111458.984375. ISI: 9.765625. is_first_spike: False. different_hfo: False\n",
      "Spike time: 111470.703125. ISI: 11.71875. is_first_spike: False. different_hfo: False\n",
      "Spike time: 111471.6796875. ISI: 0.9765625. is_first_spike: False. different_hfo: False\n",
      "Spike time: 111472.65625. ISI: 0.9765625. is_first_spike: False. different_hfo: False\n",
      "Spike time: 111478.515625. ISI: 5.859375. is_first_spike: False. different_hfo: False\n",
      "Spike time: 111479.00390625. ISI: 0.48828125. is_first_spike: False. different_hfo: False\n",
      "Spike time: 111479.4921875. ISI: 0.48828125. is_first_spike: False. different_hfo: False\n",
      "Spike time: 111480.46875. ISI: 0.9765625. is_first_spike: False. different_hfo: False\n",
      "Spike time: 111486.328125. ISI: 5.859375. is_first_spike: False. different_hfo: False\n",
      "Spike time: 111487.79296875. ISI: 1.46484375. is_first_spike: False. different_hfo: False\n",
      "Spike time: 111493.1640625. ISI: 5.37109375. is_first_spike: False. different_hfo: False\n",
      "Spike time: 111494.62890625. ISI: 1.46484375. is_first_spike: False. different_hfo: False\n",
      "Spike time: 111504.8828125. ISI: 10.25390625. is_first_spike: False. different_hfo: False\n",
      "Spike time: 114559.5703125. ISI: 11.23046875. is_first_spike: True. different_hfo: False\n",
      "Spike time: 114571.2890625. ISI: 11.71875. is_first_spike: False. different_hfo: False\n",
      "Spike time: 114582.51953125. ISI: 11.23046875. is_first_spike: False. different_hfo: False\n",
      "Spike time: 114583.49609375. ISI: 0.9765625. is_first_spike: False. different_hfo: False\n",
      "Spike time: 114593.26171875. ISI: 9.765625. is_first_spike: False. different_hfo: False\n",
      "Spike time: 114594.7265625. ISI: 1.46484375. is_first_spike: False. different_hfo: False\n",
      "Spike time: 114602.5390625. ISI: 7.8125. is_first_spike: False. different_hfo: False\n",
      "Spike time: 114603.515625. ISI: 0.9765625. is_first_spike: False. different_hfo: False\n",
      "Spike time: 114604.98046875. ISI: 1.46484375. is_first_spike: False. different_hfo: False\n",
      "Spike time: 114613.76953125. ISI: 8.7890625. is_first_spike: False. different_hfo: False\n",
      "Spike time: 114614.74609375. ISI: 0.9765625. is_first_spike: False. different_hfo: False\n",
      "Spike time: 114616.2109375. ISI: 1.46484375. is_first_spike: False. different_hfo: False\n",
      "Spike time: 114627.44140625. ISI: 11.23046875. is_first_spike: False. different_hfo: False\n",
      "Spike time: 114640.625. ISI: 13.18359375. is_first_spike: False. different_hfo: False\n",
      "Spike time: 114642.08984375. ISI: 1.46484375. is_first_spike: False. different_hfo: False\n",
      "Spike time: 114649.4140625. ISI: 7.32421875. is_first_spike: False. different_hfo: False\n",
      "Spike time: 114650.87890625. ISI: 1.46484375. is_first_spike: False. different_hfo: False\n",
      "Spike time: 114664.0625. ISI: 13.18359375. is_first_spike: False. different_hfo: False\n",
      "Spike time: 116520.01953125. ISI: 1855.95703125. is_first_spike: False. different_hfo: True\n",
      "Spike time: 116530.76171875. ISI: 10.7421875. is_first_spike: False. different_hfo: False\n",
      "Spike time: 116542.48046875. ISI: 11.71875. is_first_spike: False. different_hfo: False\n",
      "Spike time: 116552.24609375. ISI: 9.765625. is_first_spike: False. different_hfo: False\n",
      "Spike time: 116554.19921875. ISI: 1.953125. is_first_spike: False. different_hfo: False\n",
      "Spike time: 116566.40625. ISI: 12.20703125. is_first_spike: False. different_hfo: False\n",
      "Spike time: 119031.25. ISI: 2464.84375. is_first_spike: False. different_hfo: True\n",
      "Spike time: 119037.109375. ISI: 5.859375. is_first_spike: False. different_hfo: False\n",
      "Spike time: 119038.0859375. ISI: 0.9765625. is_first_spike: False. different_hfo: False\n",
      "Spike time: 119039.0625. ISI: 0.9765625. is_first_spike: False. different_hfo: False\n",
      "Spike time: 119043.9453125. ISI: 4.8828125. is_first_spike: False. different_hfo: False\n",
      "Spike time: 119044.43359375. ISI: 0.48828125. is_first_spike: False. different_hfo: False\n",
      "Spike time: 119044.921875. ISI: 0.48828125. is_first_spike: False. different_hfo: False\n",
      "Spike time: 119045.8984375. ISI: 0.9765625. is_first_spike: False. different_hfo: False\n",
      "Spike time: 119051.7578125. ISI: 5.859375. is_first_spike: False. different_hfo: False\n",
      "Spike time: 119052.734375. ISI: 0.9765625. is_first_spike: False. different_hfo: False\n",
      "Spike time: 119060.546875. ISI: 7.8125. is_first_spike: False. different_hfo: False\n"
     ]
    }
   ],
   "source": [
    "from utils.input import RIPPLE_CONFIDENCE_WINDOW, FR_CONFIDENCE_WINDOW, BOTH_CONFIDENCE_WINDOW\n",
    "\n",
    "# Iterate the Ripple UP Spike Train\n",
    "curr_ripple_gt_idx = 0  # Current index of the ripple ground truth\n",
    "prev_spike_time = ripple_up_spike_train[0][0]\n",
    "\n",
    "# Track the first spike inside an HFO\n",
    "is_first_spike = True\n",
    "for spike_idx in range(1, len(ripple_up_spike_train), 1):\n",
    "    spike_time = ripple_up_spike_train[spike_idx][0]\n",
    "    isi = spike_time - prev_spike_time\n",
    "    # print(\"spike_time: \", spike_time, \"prev_spike_time: \", prev_spike_time, \"isi: \", isi)\n",
    "\n",
    "    # Update the previous spike time\n",
    "    prev_spike_time = spike_time\n",
    "\n",
    "    # Check if the current spike time is within the ripple ground truth\n",
    "    # Skip the ground truth that is before the current spike time\n",
    "    while curr_ripple_gt_idx < len(ripple_ground_truth) and spike_time > ripple_ground_truth[curr_ripple_gt_idx][1] + RIPPLE_CONFIDENCE_WINDOW:\n",
    "        curr_ripple_gt_idx += 1\n",
    "\n",
    "    # Check if the current spike time is within the ripple ground truth\n",
    "    if curr_ripple_gt_idx < len(ripple_ground_truth):\n",
    "        curr_gt_start = ripple_ground_truth[curr_ripple_gt_idx][1]\n",
    "        if spike_time >= curr_gt_start and spike_time <= curr_gt_start + RIPPLE_CONFIDENCE_WINDOW:\n",
    "            # The spike is within the ripple ground truth\n",
    "\n",
    "            # different_hfo verifies if the current spike is in a different HFO\n",
    "            different_hfo = isi > RIPPLE_CONFIDENCE_WINDOW\n",
    "\n",
    "            print(f\"Spike time: {spike_time}. ISI: {isi}. is_first_spike: {is_first_spike}. different_hfo: {different_hfo}\")\n",
    "            if is_first_spike or different_hfo:\n",
    "                # The first Spike inside an HFO is still considered as noise ISI since the prev_spike_time is outside the HFO\n",
    "                isi_ripple_noise_up.append(isi)\n",
    "                is_first_spike = False\n",
    "            else:\n",
    "                # Consider the ISI inside the HFO\n",
    "                isi_ripple_hfo_up.append(isi)\n",
    "\n",
    "            # Go to the next spike\n",
    "            continue\n",
    "    \n",
    "    # The spike is not within the ripple ground truth\n",
    "    isi_ripple_noise_up.append(isi)\n",
    "    # Reset the first spike flag\n",
    "    is_first_spike = True"
   ]
  },
  {
   "cell_type": "code",
   "execution_count": 155,
   "metadata": {},
   "outputs": [
    {
     "name": "stdout",
     "output_type": "stream",
     "text": [
      "Max ISI Ripple UP HFO: 22.4609375\n",
      "Min ISI Ripple UP HFO: 0.48828125\n"
     ]
    }
   ],
   "source": [
    "print(f\"Max ISI Ripple UP HFO: {max(isi_ripple_hfo_up)}\")\n",
    "print(f\"Min ISI Ripple UP HFO: {min(isi_ripple_hfo_up)}\")"
   ]
  },
  {
   "cell_type": "markdown",
   "metadata": {},
   "source": [
    "#### Ripple Band - DOWN Train"
   ]
  },
  {
   "cell_type": "code",
   "execution_count": 156,
   "metadata": {},
   "outputs": [],
   "source": [
    "# Iterate the Ripple DOWN Spike Train\n",
    "curr_ripple_gt_idx = 0  # Current index of the ripple ground truth\n",
    "prev_spike_time = ripple_down_spike_train[0][0]\n",
    "\n",
    "# Track the first spike inside an HFO\n",
    "is_first_spike = True\n",
    "for spike_idx in range(1, len(ripple_down_spike_train), 1):\n",
    "    spike_time = ripple_down_spike_train[spike_idx][0]\n",
    "    isi = spike_time - prev_spike_time\n",
    "    # print(\"spike_time: \", spike_time, \"prev_spike_time: \", prev_spike_time, \"isi: \", isi)\n",
    "\n",
    "    # Update the previous spike time\n",
    "    prev_spike_time = spike_time\n",
    "\n",
    "    # Check if the current spike time is within the ripple ground truth\n",
    "    # Skip the ground truth that is before the current spike time\n",
    "    while curr_ripple_gt_idx < len(ripple_ground_truth) and spike_time > ripple_ground_truth[curr_ripple_gt_idx][1] + RIPPLE_CONFIDENCE_WINDOW:\n",
    "        curr_ripple_gt_idx += 1\n",
    "    \n",
    "    # Check if the current spike time is within the ripple ground truth\n",
    "    if curr_ripple_gt_idx < len(ripple_ground_truth):\n",
    "        curr_gt_start = ripple_ground_truth[curr_ripple_gt_idx][1]\n",
    "        if spike_time >= curr_gt_start and spike_time <= curr_gt_start + RIPPLE_CONFIDENCE_WINDOW:\n",
    "            # The spike is within the ripple ground truth\n",
    "\n",
    "            # different_hfo verifies if the current spike is in a different HFO\n",
    "            different_hfo = isi > RIPPLE_CONFIDENCE_WINDOW\n",
    "            if is_first_spike or different_hfo:\n",
    "                # The first Spike inside an HFO is still considered as noise ISI since the prev_spike_time is outside the HFO\n",
    "                isi_ripple_noise_down.append(isi)\n",
    "                is_first_spike = False\n",
    "            else:\n",
    "                # Consider the ISI inside the HFO\n",
    "                isi_ripple_hfo_down.append(isi)\n",
    "            # Go to the next spike\n",
    "            continue\n",
    "    \n",
    "    # The spike is not within the ripple ground truth\n",
    "    isi_ripple_noise_down.append(isi)\n",
    "    # Reset the first spike flag\n",
    "    is_first_spike = True"
   ]
  },
  {
   "cell_type": "code",
   "execution_count": 157,
   "metadata": {},
   "outputs": [
    {
     "name": "stdout",
     "output_type": "stream",
     "text": [
      "Max ISI Ripple DOWN HFO: 24.90234375\n",
      "Min ISI Ripple DOWN HFO: 0.48828125\n"
     ]
    }
   ],
   "source": [
    "print(f\"Max ISI Ripple DOWN HFO: {max(isi_ripple_hfo_down)}\")\n",
    "print(f\"Min ISI Ripple DOWN HFO: {min(isi_ripple_hfo_down)}\")"
   ]
  },
  {
   "cell_type": "markdown",
   "metadata": {},
   "source": [
    "### Validate the number of calculated ISIs\n",
    "Validate that:\n",
    "- `len(isi_ripple_hfo_up)` + `len(isi_ripple_noise_up)` = `len(ripple_up)` - 1 (first spike does not have an ISI)\n",
    "- `len(isi_ripple_hfo_down_)` + `len(isi_ripple_noise_down_)` = `len(ripple_down_)` - 1 (first spike does not have an ISI)"
   ]
  },
  {
   "cell_type": "code",
   "execution_count": 158,
   "metadata": {},
   "outputs": [
    {
     "name": "stdout",
     "output_type": "stream",
     "text": [
      "Length isi_ripple_hfo_up: 279\n",
      "Length isi_ripple_noise_up: 105\n",
      "Sum: 384\n",
      "Length ripple_up: 385\n",
      "72.47% of the UP spikes are inside the HFO\n"
     ]
    }
   ],
   "source": [
    "#  Validate that len(isi_ripple_hfo_up) + len(isi_ripple_noise_up) = len(ripple_up)\n",
    "print(f\"Length isi_ripple_hfo_up: {len(isi_ripple_hfo_up)}\")\n",
    "print(f\"Length isi_ripple_noise_up: {len(isi_ripple_noise_up)}\")\n",
    "print(f\"Sum: {len(isi_ripple_hfo_up) + len(isi_ripple_noise_up)}\")\n",
    "print(f\"Length ripple_up: {len(ripple_up_spike_train)}\")\n",
    "\n",
    "print(f\"{round(len(isi_ripple_hfo_up)/len(ripple_up_spike_train)*100, 2)}% of the UP spikes are inside the HFO\")"
   ]
  },
  {
   "cell_type": "code",
   "execution_count": 159,
   "metadata": {},
   "outputs": [
    {
     "name": "stdout",
     "output_type": "stream",
     "text": [
      "Length isi_ripple_hfo_down: 275\n",
      "Length isi_ripple_noise_down: 106\n",
      "Sum: 381\n",
      "Length ripple_down: 382\n",
      "71.99% of the DOWN spikes are inside the HFO\n"
     ]
    }
   ],
   "source": [
    "#  Validate that len(isi_ripple_hfo_down) + len(isi_ripple_noise_down) = len(ripple_down)\n",
    "print(f\"Length isi_ripple_hfo_down: {len(isi_ripple_hfo_down)}\")\n",
    "print(f\"Length isi_ripple_noise_down: {len(isi_ripple_noise_down)}\")\n",
    "print(f\"Sum: {len(isi_ripple_hfo_down) + len(isi_ripple_noise_down)}\")\n",
    "print(f\"Length ripple_down: {len(ripple_down_spike_train)}\")\n",
    "\n",
    "print(f\"{round(len(isi_ripple_hfo_down)/len(ripple_down_spike_train)*100, 2)}% of the DOWN spikes are inside the HFO\")"
   ]
  },
  {
   "cell_type": "markdown",
   "metadata": {},
   "source": [
    "## Let's analyze the Fast Ripple Band next"
   ]
  },
  {
   "cell_type": "code",
   "execution_count": 160,
   "metadata": {},
   "outputs": [],
   "source": [
    "isi_fr_hfo_up = []\n",
    "isi_fr_hfo_down = []\n",
    "isi_fr_noise_up = []\n",
    "isi_fr_noise_down = []"
   ]
  },
  {
   "cell_type": "markdown",
   "metadata": {},
   "source": [
    "#### Fast Ripple Band - UP Train"
   ]
  },
  {
   "cell_type": "code",
   "execution_count": 161,
   "metadata": {},
   "outputs": [],
   "source": [
    "# Iterate the FR UP Spike Train\n",
    "curr_fr_gt_idx = 0  # Current index of the fast ripple ground truth\n",
    "prev_spike_time = fr_up_spike_train[0][0]\n",
    "\n",
    "# Track the first spike inside an HFO\n",
    "is_first_spike = True\n",
    "\n",
    "for spike_idx in range(1, len(fr_up_spike_train), 1):\n",
    "    spike_time = fr_up_spike_train[spike_idx][0]\n",
    "    isi = spike_time - prev_spike_time\n",
    "    # print(\"spike_time: \", spike_time, \"prev_spike_time: \", prev_spike_time, \"isi: \", isi)\n",
    "\n",
    "    # Update the previous spike time\n",
    "    prev_spike_time = spike_time\n",
    "\n",
    "    # Check if the current spike time is within the fast ripple ground truth\n",
    "    # Skip the ground truth that is before the current spike time\n",
    "    while curr_fr_gt_idx < len(fr_ground_truth) and spike_time > fr_ground_truth[curr_fr_gt_idx][1] + FR_CONFIDENCE_WINDOW:\n",
    "        curr_fr_gt_idx += 1\n",
    "    \n",
    "    # Check if the current spike time is within the fast ripple ground truth\n",
    "    if curr_fr_gt_idx < len(fr_ground_truth):\n",
    "        curr_gt_start = fr_ground_truth[curr_fr_gt_idx][1]\n",
    "        if spike_time >= curr_gt_start and spike_time <= curr_gt_start + FR_CONFIDENCE_WINDOW:\n",
    "            # The spike is within the fast ripple ground truth\n",
    "\n",
    "            # different_hfo verifies if the current spike is in a different HFO\n",
    "            different_hfo = isi > FR_CONFIDENCE_WINDOW\n",
    "            if is_first_spike or different_hfo:\n",
    "                # The first Spike inside an HFO is still considered as noise ISI since the prev_spike_time is outside the HFO\n",
    "                isi_fr_noise_up.append(isi)\n",
    "                is_first_spike = False\n",
    "            else:\n",
    "                # Consider the ISI inside the HFO\n",
    "                isi_fr_hfo_up.append(isi)\n",
    "\n",
    "            # Go to the next spike\n",
    "            continue\n",
    "    \n",
    "    # The spike is not within the fast ripple ground truth\n",
    "    isi_fr_noise_up.append(isi)\n",
    "    # Reset the first spike flag\n",
    "    is_first_spike = True"
   ]
  },
  {
   "cell_type": "markdown",
   "metadata": {},
   "source": [
    "#### Fast Ripple Band - DN Train"
   ]
  },
  {
   "cell_type": "code",
   "execution_count": 162,
   "metadata": {},
   "outputs": [],
   "source": [
    "# Iterate the FR UP Spike Train\n",
    "curr_fr_gt_idx = 0  # Current index of the fast ripple ground truth\n",
    "prev_spike_time = fr_down_spike_train[0][0]\n",
    "\n",
    "# Track the first spike inside an HFO\n",
    "is_first_spike = True\n",
    "\n",
    "for spike_idx in range(1, len(fr_down_spike_train), 1):\n",
    "    spike_time = fr_down_spike_train[spike_idx][0]\n",
    "    isi = spike_time - prev_spike_time\n",
    "    # print(\"spike_time: \", spike_time, \"prev_spike_time: \", prev_spike_time, \"isi: \", isi)\n",
    "\n",
    "    # Update the previous spike time\n",
    "    prev_spike_time = spike_time\n",
    "\n",
    "    # Check if the current spike time is within the fast ripple ground truth\n",
    "    # Skip the ground truth that is before the current spike time\n",
    "    while curr_fr_gt_idx < len(fr_ground_truth) and spike_time > fr_ground_truth[curr_fr_gt_idx][1] + FR_CONFIDENCE_WINDOW:\n",
    "        curr_fr_gt_idx += 1\n",
    "    \n",
    "    # Check if the current spike time is within the fast ripple ground truth\n",
    "    if curr_fr_gt_idx < len(fr_ground_truth):\n",
    "        curr_gt_start = fr_ground_truth[curr_fr_gt_idx][1]\n",
    "        if spike_time >= curr_gt_start and spike_time <= curr_gt_start + FR_CONFIDENCE_WINDOW:\n",
    "            # The spike is within the fast ripple ground truth\n",
    "            \n",
    "            # different_hfo verifies if the current spike is in a different HFO\n",
    "            different_hfo = isi > FR_CONFIDENCE_WINDOW\n",
    "            if is_first_spike or different_hfo:\n",
    "                # The first Spike inside an HFO is still considered as noise ISI since the prev_spike_time is outside the HFO\n",
    "                isi_fr_noise_down.append(isi)\n",
    "                is_first_spike = False\n",
    "            else:\n",
    "                # Consider the ISI inside the HFO\n",
    "                isi_fr_hfo_down.append(isi)\n",
    "\n",
    "            # Go to the next spike\n",
    "            continue\n",
    "    \n",
    "    # The spike is not within the fast ripple ground truth\n",
    "    isi_fr_noise_down.append(isi)\n",
    "    # Reset the first spike flag\n",
    "    is_first_spike = True"
   ]
  },
  {
   "cell_type": "markdown",
   "metadata": {},
   "source": [
    "### Validate the number of calculated ISIs\n",
    "Validate that:\n",
    "- `len(isi_fr_hfo_up)` + `len(isi_fr_noise_up)` = `len(fr_up)` - 1 (first spike does not have an ISI)\n",
    "- `len(isi_fr_hfo_down)` + `len(isi_fr_noise_down)` = `len(fr_down)` - 1 (first spike does not have an ISI)"
   ]
  },
  {
   "cell_type": "code",
   "execution_count": 163,
   "metadata": {},
   "outputs": [
    {
     "name": "stdout",
     "output_type": "stream",
     "text": [
      "Length isi_fr_hfo_up: 449\n",
      "Length isi_fr_noise_up: 4041\n",
      "Sum: 4490\n",
      "Length fr_up: 4491\n",
      "10.0% of the FR UP spikes are inside the HFO\n"
     ]
    }
   ],
   "source": [
    "#  Validate that len(isi_fr_hfo_up) + len(isi_fr_noise_up) = len(ripple_up)\n",
    "print(f\"Length isi_fr_hfo_up: {len(isi_fr_hfo_up)}\")\n",
    "print(f\"Length isi_fr_noise_up: {len(isi_fr_noise_up)}\")\n",
    "print(f\"Sum: {len(isi_fr_hfo_up) + len(isi_fr_noise_up)}\")\n",
    "print(f\"Length fr_up: {len(fr_up_spike_train)}\")\n",
    "\n",
    "print(f\"{round(len(isi_fr_hfo_up)/len(fr_up_spike_train)*100, 2)}% of the FR UP spikes are inside the HFO\")"
   ]
  },
  {
   "cell_type": "code",
   "execution_count": 164,
   "metadata": {},
   "outputs": [
    {
     "name": "stdout",
     "output_type": "stream",
     "text": [
      "Length isi_fr_hfo_down: 448\n",
      "Length isi_fr_noise_down: 4055\n",
      "Sum: 4503\n",
      "Length fr_down: 4504\n",
      "9.95% of the FR DOWN spikes are inside the HFO\n"
     ]
    }
   ],
   "source": [
    "#  Validate that len(isi_fr_hfo_down) + len(isi_fr_noise_down) = len(ripple_down)\n",
    "print(f\"Length isi_fr_hfo_down: {len(isi_fr_hfo_down)}\")\n",
    "print(f\"Length isi_fr_noise_down: {len(isi_fr_noise_down)}\")\n",
    "print(f\"Sum: {len(isi_fr_hfo_down) + len(isi_fr_noise_down)}\")\n",
    "print(f\"Length fr_down: {len(fr_down_spike_train)}\")\n",
    "\n",
    "print(f\"{round(len(isi_fr_hfo_down)/len(fr_down_spike_train)*100, 2)}% of the FR DOWN spikes are inside the HFO\")"
   ]
  },
  {
   "cell_type": "markdown",
   "metadata": {},
   "source": [
    "## Let's analyze the HFO Band next"
   ]
  },
  {
   "cell_type": "code",
   "execution_count": 165,
   "metadata": {},
   "outputs": [],
   "source": [
    "isi_both_hfo_up = []\n",
    "isi_both_hfo_down = []\n",
    "isi_both_noise_up = []\n",
    "isi_both_noise_down = []"
   ]
  },
  {
   "cell_type": "markdown",
   "metadata": {},
   "source": [
    "#### HFO Band - UP Train"
   ]
  },
  {
   "cell_type": "code",
   "execution_count": 166,
   "metadata": {},
   "outputs": [],
   "source": [
    "# Iterate the FR UP Spike Train\n",
    "curr_hfo_gt_idx = 0  # Current index of the HFO ground truth\n",
    "prev_spike_time = hfo_up_spike_train[0][0]\n",
    "\n",
    "# Track the first spike inside an HFO\n",
    "is_first_spike = True\n",
    "\n",
    "for spike_idx in range(1, len(hfo_up_spike_train), 1):\n",
    "    spike_time = hfo_up_spike_train[spike_idx][0]\n",
    "    isi = spike_time - prev_spike_time\n",
    "    # print(\"spike_time: \", spike_time, \"prev_spike_time: \", prev_spike_time, \"isi: \", isi)\n",
    "\n",
    "    # Update the previous spike time\n",
    "    prev_spike_time = spike_time\n",
    "\n",
    "    # Check if the current spike time is within the HFO ground truth\n",
    "    # Skip the ground truth that is before the current spike time\n",
    "    while curr_hfo_gt_idx < len(hfo_ground_truth) and spike_time > hfo_ground_truth[curr_hfo_gt_idx][1] + BOTH_CONFIDENCE_WINDOW:\n",
    "        curr_hfo_gt_idx += 1\n",
    "    \n",
    "    # Check if the current spike time is within the HFO ground truth\n",
    "    if curr_hfo_gt_idx < len(hfo_ground_truth):\n",
    "        curr_gt_start = hfo_ground_truth[curr_hfo_gt_idx][1]\n",
    "        if spike_time >= curr_gt_start and spike_time <= curr_gt_start + BOTH_CONFIDENCE_WINDOW:\n",
    "            # The spike is within the HFO ground truth\n",
    "\n",
    "            # different_hfo verifies if the current spike is in a different HFO\n",
    "            different_hfo = isi > BOTH_CONFIDENCE_WINDOW\n",
    "            if is_first_spike or different_hfo:\n",
    "                # The first Spike inside an HFO is still considered as noise ISI since the prev_spike_time is outside the HFO\n",
    "                isi_both_noise_up.append(isi)\n",
    "                is_first_spike = False\n",
    "            else:\n",
    "                # Consider the ISI inside the HFO\n",
    "                isi_both_hfo_up.append(isi)\n",
    "\n",
    "            # Go to the next spike\n",
    "            continue\n",
    "    \n",
    "    # The spike is not within the HFO ground truth\n",
    "    isi_both_noise_up.append(isi)\n",
    "    # Reset the first spike flag\n",
    "    is_first_spike = True"
   ]
  },
  {
   "cell_type": "markdown",
   "metadata": {},
   "source": [
    "#### HFO Band - DN Train"
   ]
  },
  {
   "cell_type": "code",
   "execution_count": 167,
   "metadata": {},
   "outputs": [],
   "source": [
    "# Iterate the FR UP Spike Train\n",
    "curr_hfo_gt_idx = 0  # Current index of the HFO ground truth\n",
    "prev_spike_time = hfo_down_spike_train[0][0]\n",
    "\n",
    "# Track the first spike inside an HFO\n",
    "is_first_spike = True\n",
    "\n",
    "for spike_idx in range(1, len(hfo_down_spike_train), 1):\n",
    "    spike_time = hfo_down_spike_train[spike_idx][0]\n",
    "    isi = spike_time - prev_spike_time\n",
    "    # print(\"spike_time: \", spike_time, \"prev_spike_time: \", prev_spike_time, \"isi: \", isi)\n",
    "\n",
    "    # Update the previous spike time\n",
    "    prev_spike_time = spike_time\n",
    "\n",
    "    # Check if the current spike time is within the HFO ground truth\n",
    "    # Skip the ground truth that is before the current spike time\n",
    "    while curr_hfo_gt_idx < len(hfo_ground_truth) and spike_time > hfo_ground_truth[curr_hfo_gt_idx][1] + BOTH_CONFIDENCE_WINDOW:\n",
    "        curr_hfo_gt_idx += 1\n",
    "    \n",
    "    # Check if the current spike time is within the HFO ground truth\n",
    "    if curr_hfo_gt_idx < len(hfo_ground_truth):\n",
    "        curr_gt_start = hfo_ground_truth[curr_hfo_gt_idx][1]\n",
    "        if spike_time >= curr_gt_start and spike_time <= curr_gt_start + BOTH_CONFIDENCE_WINDOW:\n",
    "            # The spike is within the HFO ground truth\n",
    "            \n",
    "            # different_hfo verifies if the current spike is in a different HFO\n",
    "            different_hfo = isi > BOTH_CONFIDENCE_WINDOW\n",
    "            if is_first_spike or different_hfo:\n",
    "                # The first Spike inside an HFO is still considered as noise ISI since the prev_spike_time is outside the HFO\n",
    "                isi_both_noise_down.append(isi)\n",
    "                is_first_spike = False\n",
    "            else:\n",
    "                # Consider the ISI inside the HFO\n",
    "                isi_both_hfo_down.append(isi)\n",
    "\n",
    "            # Go to the next spike\n",
    "            continue\n",
    "    \n",
    "    # The spike is not within the HFO ground truth\n",
    "    isi_both_noise_down.append(isi)\n",
    "    # Reset the first spike flag\n",
    "    is_first_spike = True"
   ]
  },
  {
   "cell_type": "markdown",
   "metadata": {},
   "source": [
    "### Validate the number of calculated ISIs\n",
    "Validate that:\n",
    "- `len(isi_both_hfo_up)` + `len(isi_both_noise_up)` = `len(hfo_up)` - 1 (first spike does not have an ISI)\n",
    "- `len(isi_both_hfo_down)` + `len(isi_both_noise_down)` = `len(hfo_down)` - 1 (first spike does not have an ISI)"
   ]
  },
  {
   "cell_type": "code",
   "execution_count": 168,
   "metadata": {},
   "outputs": [
    {
     "name": "stdout",
     "output_type": "stream",
     "text": [
      "Length isi_both_hfo_up: 374\n",
      "Length isi_both_noise_up: 339\n",
      "Sum: 713\n",
      "Length hfo_up: 714\n",
      "52.38% of the HFO UP spikes are inside the HFO\n"
     ]
    }
   ],
   "source": [
    "#  Validate that len(isi_both_hfo_up) + len(isi_both_noise_up) = len(ripple_up)\n",
    "print(f\"Length isi_both_hfo_up: {len(isi_both_hfo_up)}\")\n",
    "print(f\"Length isi_both_noise_up: {len(isi_both_noise_up)}\")\n",
    "print(f\"Sum: {len(isi_both_hfo_up) + len(isi_both_noise_up)}\")\n",
    "print(f\"Length hfo_up: {len(hfo_up_spike_train)}\")\n",
    "\n",
    "print(f\"{round(len(isi_both_hfo_up)/len(hfo_up_spike_train)*100, 2)}% of the HFO UP spikes are inside the HFO\")"
   ]
  },
  {
   "cell_type": "code",
   "execution_count": 169,
   "metadata": {},
   "outputs": [
    {
     "name": "stdout",
     "output_type": "stream",
     "text": [
      "Length isi_both_hfo_down: 375\n",
      "Length isi_both_noise_down: 345\n",
      "Sum: 720\n",
      "Length hfo_down: 721\n",
      "52.01% of the HFO DOWN spikes are inside the HFO\n"
     ]
    }
   ],
   "source": [
    "#  Validate that len(isi_both_hfo_down) + len(isi_both_noise_down) = len(ripple_down)\n",
    "print(f\"Length isi_both_hfo_down: {len(isi_both_hfo_down)}\")\n",
    "print(f\"Length isi_both_noise_down: {len(isi_both_noise_down)}\")\n",
    "print(f\"Sum: {len(isi_both_hfo_down) + len(isi_both_noise_down)}\")\n",
    "print(f\"Length hfo_down: {len(hfo_down_spike_train)}\")\n",
    "\n",
    "print(f\"{round(len(isi_both_hfo_down)/len(hfo_down_spike_train)*100, 2)}% of the HFO DOWN spikes are inside the HFO\")"
   ]
  },
  {
   "cell_type": "markdown",
   "metadata": {},
   "source": [
    "--- "
   ]
  },
  {
   "cell_type": "markdown",
   "metadata": {},
   "source": [
    "## Calculate metrics of the ISIs and Show the Results"
   ]
  },
  {
   "cell_type": "code",
   "execution_count": 170,
   "metadata": {},
   "outputs": [],
   "source": [
    "# Ripple band ISIs\n",
    "# UP\n",
    "# ---- Relevant Event Metrics ----\n",
    "mean_ripple_hfo_up = np.mean(isi_ripple_hfo_up)\n",
    "median_ripple_hfo_up = np.median(isi_ripple_hfo_up)\n",
    "std_ripple_hfo_up = np.std(isi_ripple_hfo_up)\n",
    "# Calculate the IQR for the ISI in the Ripple Band for the UP spikes during HFO\n",
    "q1_ripple_hfo_up = np.percentile(isi_ripple_hfo_up, 25)\n",
    "q3_ripple_hfo_up = np.percentile(isi_ripple_hfo_up, 75)\n",
    "iqr_ripple_hfo_up = q3_ripple_hfo_up - q1_ripple_hfo_up\n",
    "\n",
    "# ---- Baseline Activity Metrics ----\n",
    "mean_ripple_noise_up = np.mean(isi_ripple_noise_up)\n",
    "median_ripple_noise_up = np.median(isi_ripple_noise_up)\n",
    "std_ripple_noise_up = np.std(isi_ripple_noise_up)\n",
    "# Calculate the IQR for the ISI in the Ripple Band for the UP spikes during Noise\n",
    "q1_ripple_noise_up = np.percentile(isi_ripple_noise_up, 25)\n",
    "q3_ripple_noise_up = np.percentile(isi_ripple_noise_up, 75)\n",
    "iqr_ripple_noise_up = q3_ripple_noise_up - q1_ripple_noise_up\n",
    "\n",
    "# DOWN\n",
    "# ---- Relevant Event Metrics ----\n",
    "mean_ripple_hfo_down = np.mean(isi_ripple_hfo_down)\n",
    "median_ripple_hfo_down = np.median(isi_ripple_hfo_down)\n",
    "std_ripple_hfo_down = np.std(isi_ripple_hfo_down)\n",
    "# Calculate the IQR for the ISI in the Ripple Band for the DOWN spikes during HFO\n",
    "q1_ripple_hfo_down = np.percentile(isi_ripple_hfo_down, 25)\n",
    "q3_ripple_hfo_down = np.percentile(isi_ripple_hfo_down, 75)\n",
    "iqr_ripple_hfo_down = q3_ripple_hfo_down - q1_ripple_hfo_down\n",
    "\n",
    "# ---- Baseline Activity Metrics ----\n",
    "mean_ripple_noise_down = np.mean(isi_ripple_noise_down)\n",
    "median_ripple_noise_down = np.median(isi_ripple_noise_down)\n",
    "std_ripple_noise_down = np.std(isi_ripple_noise_down)\n",
    "# Calculate the IQR for the ISI in the Ripple Band for the DOWN spikes during Noise\n",
    "q1_ripple_noise_down = np.percentile(isi_ripple_noise_down, 25)\n",
    "q3_ripple_noise_down = np.percentile(isi_ripple_noise_down, 75)\n",
    "iqr_ripple_noise_down = q3_ripple_noise_down - q1_ripple_noise_down"
   ]
  },
  {
   "cell_type": "code",
   "execution_count": 171,
   "metadata": {},
   "outputs": [],
   "source": [
    "# Fast Ripple band ISIs\n",
    "# UP\n",
    "# ---- Relevant Event Metrics ----\n",
    "mean_fr_hfo_up = np.mean(isi_fr_hfo_up)\n",
    "median_fr_hfo_up = np.median(isi_fr_hfo_up)\n",
    "std_fr_hfo_up = np.std(isi_fr_hfo_up)\n",
    "# Calculate the IQR for the ISI in the Fast Ripple Band for the UP spikes during HFO\n",
    "q1_fr_hfo_up = np.percentile(isi_fr_hfo_up, 25)\n",
    "q3_fr_hfo_up = np.percentile(isi_fr_hfo_up, 75)\n",
    "iqr_fr_hfo_up = q3_fr_hfo_up - q1_fr_hfo_up\n",
    "\n",
    "# ---- Baseline Activity Metrics ----\n",
    "mean_fr_noise_up = np.mean(isi_fr_noise_up)\n",
    "median_fr_noise_up = np.median(isi_fr_noise_up)\n",
    "std_fr_noise_up = np.std(isi_fr_noise_up)\n",
    "# Calculate the IQR for the ISI in the Fast Ripple Band for the UP spikes during Noise\n",
    "q1_fr_noise_up = np.percentile(isi_fr_noise_up, 25)\n",
    "q3_fr_noise_up = np.percentile(isi_fr_noise_up, 75)\n",
    "iqr_fr_noise_up = q3_fr_noise_up - q1_fr_noise_up\n",
    "\n",
    "# DOWN\n",
    "# ---- Relevant Event Metrics ----\n",
    "mean_fr_hfo_down = np.mean(isi_fr_hfo_down)\n",
    "median_fr_hfo_down = np.median(isi_fr_hfo_down)\n",
    "std_fr_hfo_down = np.std(isi_fr_hfo_down)\n",
    "# Calculate the IQR for the ISI in the Fast Ripple Band for the DOWN spikes during HFO\n",
    "q1_fr_hfo_down = np.percentile(isi_fr_hfo_down, 25)\n",
    "q3_fr_hfo_down = np.percentile(isi_fr_hfo_down, 75)\n",
    "iqr_fr_hfo_down = q3_fr_hfo_down - q1_fr_hfo_down\n",
    "\n",
    "# ---- Baseline Activity Metrics ----\n",
    "mean_fr_noise_down = np.mean(isi_fr_noise_down)\n",
    "median_fr_noise_down = np.median(isi_fr_noise_down)\n",
    "std_fr_noise_down = np.std(isi_fr_noise_down)\n",
    "# Calculate the IQR for the ISI in the Fast Ripple Band for the DOWN spikes during Noise\n",
    "q1_fr_noise_down = np.percentile(isi_fr_noise_down, 25)\n",
    "q3_fr_noise_down = np.percentile(isi_fr_noise_down, 75)\n",
    "iqr_fr_noise_down = q3_fr_noise_down - q1_fr_noise_down"
   ]
  },
  {
   "cell_type": "code",
   "execution_count": 172,
   "metadata": {},
   "outputs": [],
   "source": [
    "# HFO band ISIs\n",
    "# UP\n",
    "# ---- Relevant Event Metrics ----\n",
    "mean_both_hfo_up = np.mean(isi_both_hfo_up)\n",
    "median_both_hfo_up = np.median(isi_both_hfo_up)\n",
    "std_both_hfo_up = np.std(isi_both_hfo_up)\n",
    "# Calculate the IQR for the ISI in the HFO Band for the UP spikes during HFO\n",
    "q1_both_hfo_up = np.percentile(isi_both_hfo_up, 25)\n",
    "q3_both_hfo_up = np.percentile(isi_both_hfo_up, 75)\n",
    "iqr_both_hfo_up = q3_both_hfo_up - q1_both_hfo_up\n",
    "\n",
    "# ---- Baseline Activity Metrics ----\n",
    "mean_both_noise_up = np.mean(isi_both_noise_up)\n",
    "median_both_noise_up = np.median(isi_both_noise_up)\n",
    "std_both_noise_up = np.std(isi_both_noise_up)\n",
    "# Calculate the IQR for the ISI in the HFO Band for the UP spikes during Noise\n",
    "q1_both_noise_up = np.percentile(isi_both_noise_up, 25)\n",
    "q3_both_noise_up = np.percentile(isi_both_noise_up, 75)\n",
    "iqr_both_noise_up = q3_both_noise_up - q1_both_noise_up\n",
    "\n",
    "# DOWN\n",
    "# ---- Relevant Event Metrics ----\n",
    "mean_both_hfo_down = np.mean(isi_both_hfo_down)\n",
    "median_both_hfo_down = np.median(isi_both_hfo_down)\n",
    "std_both_hfo_down = np.std(isi_both_hfo_down)\n",
    "# Calculate the IQR for the ISI in the HFO Band for the DOWN spikes during HFO\n",
    "q1_both_hfo_down = np.percentile(isi_both_hfo_down, 25)\n",
    "q3_both_hfo_down = np.percentile(isi_both_hfo_down, 75)\n",
    "iqr_both_hfo_down = q3_both_hfo_down - q1_both_hfo_down\n",
    "\n",
    "# ---- Baseline Activity Metrics ----\n",
    "mean_both_noise_down = np.mean(isi_both_noise_down)\n",
    "median_both_noise_down = np.median(isi_both_noise_down)\n",
    "std_both_noise_down = np.std(isi_both_noise_down)\n",
    "# Calculate the IQR for the ISI in the HFO Band for the DOWN spikes during Noise\n",
    "q1_both_noise_down = np.percentile(isi_both_noise_down, 25)\n",
    "q3_both_noise_down = np.percentile(isi_both_noise_down, 75)\n",
    "iqr_both_noise_down = q3_both_noise_down - q1_both_noise_down"
   ]
  },
  {
   "cell_type": "markdown",
   "metadata": {},
   "source": [
    "### Print the Metrics of the ISIs"
   ]
  },
  {
   "cell_type": "markdown",
   "metadata": {},
   "source": [
    "#### Ripple Band"
   ]
  },
  {
   "cell_type": "code",
   "execution_count": 173,
   "metadata": {},
   "outputs": [
    {
     "name": "stdout",
     "output_type": "stream",
     "text": [
      "Ripple UP\n",
      "HFO ISI (ms)\n",
      "Mean: 4.940566196236559, Median: 1.46484375, STD: 4.667628451949472, IQR: [0.9765625 - 9.765625], Max: 22.4609375, Min: 0.48828125\n",
      "Noise ISI (ms)\n",
      "Mean: 1080.3013392857142, Median: 10.7421875, STD: 2001.2256295905333, IQR: [6.8359375 - 1988.28125], Max: 13291.015625, Min: 0.48828125\n",
      "=================================\n",
      "Ripple DOWN\n",
      "HFO ISI (ms)\n",
      "Mean: 5.021306818181818, Median: 1.953125, STD: 4.8639440447279725, IQR: [0.9765625 - 9.27734375], Max: 24.90234375, Min: 0.48828125\n",
      "Noise ISI (ms)\n",
      "Mean: 1073.2007296580189, Median: 10.7421875, STD: 1983.5862183211752, IQR: [8.30078125  - 1976.1962890625], Max: 13291.015625, Min: 0.48828125\n"
     ]
    }
   ],
   "source": [
    "# Metrics of the ISIs in the Ripple Band\n",
    "print(\"Ripple UP\")\n",
    "print(\"HFO ISI (ms)\")\n",
    "print(f\"Mean: {mean_ripple_hfo_up}, Median: {median_ripple_hfo_up}, STD: {std_ripple_hfo_up}, IQR: [{q1_ripple_hfo_up} - {q3_ripple_hfo_up}], Max: {max(isi_ripple_hfo_up)}, Min: {min(isi_ripple_hfo_up)}\")\n",
    "print(\"Noise ISI (ms)\")\n",
    "print(f\"Mean: {mean_ripple_noise_up}, Median: {median_ripple_noise_up}, STD: {std_ripple_noise_up}, IQR: [{q1_ripple_noise_up} - {q3_ripple_noise_up}], Max: {max(isi_ripple_noise_up)}, Min: {min(isi_ripple_noise_up)}\")\n",
    "\n",
    "print(\"=================================\")\n",
    "print(\"Ripple DOWN\")\n",
    "print(\"HFO ISI (ms)\")\n",
    "print(f\"Mean: {mean_ripple_hfo_down}, Median: {median_ripple_hfo_down}, STD: {std_ripple_hfo_down}, IQR: [{q1_ripple_hfo_down} - {q3_ripple_hfo_down}], Max: {max(isi_ripple_hfo_down)}, Min: {min(isi_ripple_hfo_down)}\")\n",
    "print(\"Noise ISI (ms)\")\n",
    "print(f\"Mean: {mean_ripple_noise_down}, Median: {median_ripple_noise_down}, STD: {std_ripple_noise_down}, IQR: [{q1_ripple_noise_down}  - {q3_ripple_noise_down}], Max: {max(isi_ripple_noise_down)}, Min: {min(isi_ripple_noise_down)}\")"
   ]
  },
  {
   "cell_type": "markdown",
   "metadata": {},
   "source": [
    "#### Fast Ripple Band"
   ]
  },
  {
   "cell_type": "code",
   "execution_count": 174,
   "metadata": {},
   "outputs": [
    {
     "name": "stdout",
     "output_type": "stream",
     "text": [
      "FR UP\n",
      "HFO ISI (ms)\n",
      "Mean: 1.7791272271714922, Median: 0.48828125, STD: 2.277102889151086, IQR: [0.48828125 - 2.44140625], Max: 35.64453125, Min: 0.48828125\n",
      "Noise ISI (ms)\n",
      "Mean: 29.445014770477606, Median: 11.71875, STD: 76.7744276103145, IQR: [3.41796875 - 30.2734375], Max: 2326.66015625, Min: 0.48828125\n",
      "=================================\n",
      "FR DOWN\n",
      "HFO ISI (ms)\n",
      "Mean: 1.7613002232142858, Median: 0.48828125, STD: 2.239114229124714, IQR: [0.48828125 - 2.44140625], Max: 36.1328125, Min: 0.48828125\n",
      "Noise ISI (ms)\n",
      "Mean: 29.34636540536375, Median: 12.20703125, STD: 76.68444867295952, IQR: [3.41796875 - 29.78515625], Max: 2326.66015625, Min: 0.48828125\n"
     ]
    }
   ],
   "source": [
    "# Metrics of the ISIs in the FR Band\n",
    "print(\"FR UP\")\n",
    "print(\"HFO ISI (ms)\")\n",
    "print(f\"Mean: {mean_fr_hfo_up}, Median: {median_fr_hfo_up}, STD: {std_fr_hfo_up}, IQR: [{q1_fr_hfo_up} - {q3_fr_hfo_up}], Max: {max(isi_fr_hfo_up)}, Min: {min(isi_fr_hfo_up)}\")\n",
    "print(\"Noise ISI (ms)\")\n",
    "print(f\"Mean: {mean_fr_noise_up}, Median: {median_fr_noise_up}, STD: {std_fr_noise_up}, IQR: [{q1_fr_noise_up} - {q3_fr_noise_up}], Max: {max(isi_fr_noise_up)}, Min: {min(isi_fr_noise_up)}\")\n",
    "\n",
    "print(\"=================================\")\n",
    "print(\"FR DOWN\")\n",
    "print(\"HFO ISI (ms)\")\n",
    "print(f\"Mean: {mean_fr_hfo_down}, Median: {median_fr_hfo_down}, STD: {std_fr_hfo_down}, IQR: [{q1_fr_hfo_down} - {q3_fr_hfo_down}], Max: {max(isi_fr_hfo_down)}, Min: {min(isi_fr_hfo_down)}\")\n",
    "print(\"Noise ISI (ms)\")\n",
    "print(f\"Mean: {mean_fr_noise_down}, Median: {median_fr_noise_down}, STD: {std_fr_noise_down}, IQR: [{q1_fr_noise_down} - {q3_fr_noise_down}], Max: {max(isi_fr_noise_down)}, Min: {min(isi_fr_noise_down)}\")"
   ]
  },
  {
   "cell_type": "markdown",
   "metadata": {},
   "source": [
    "#### HFO Band"
   ]
  },
  {
   "cell_type": "code",
   "execution_count": 175,
   "metadata": {},
   "outputs": [
    {
     "name": "stdout",
     "output_type": "stream",
     "text": [
      "BOTH UP\n",
      "HFO ISI (ms)\n",
      "Mean: 4.527698863636363, Median: 2.44140625, STD: 6.047098982567063, IQR: [0.9765625 - 7.8125], Max: 64.453125, Min: 0.48828125\n",
      "Noise ISI (ms)\n",
      "Mean: 333.77984421091446, Median: 45.8984375, STD: 650.800691922387, IQR: [6.591796875 - 346.6796875], Max: 3572.75390625, Min: 0.48828125\n",
      "=================================\n",
      "BOTH DOWN\n",
      "HFO ISI (ms)\n",
      "Mean: 4.270833333333333, Median: 2.44140625, STD: 4.414878627231531, IQR: [0.9765625 - 7.32421875], Max: 35.64453125, Min: 0.48828125\n",
      "Noise ISI (ms)\n",
      "Mean: 328.2325634057971, Median: 42.48046875, STD: 646.2329129127611, IQR: [5.37109375 - 332.03125], Max: 3579.1015625, Min: 0.48828125\n"
     ]
    }
   ],
   "source": [
    "# Metrics of the ISIs in the FR Band\n",
    "print(\"BOTH UP\")\n",
    "print(\"HFO ISI (ms)\")\n",
    "print(f\"Mean: {mean_both_hfo_up}, Median: {median_both_hfo_up}, STD: {std_both_hfo_up}, IQR: [{q1_both_hfo_up} - {q3_both_hfo_up}], Max: {max(isi_both_hfo_up)}, Min: {min(isi_both_hfo_up)}\")\n",
    "print(\"Noise ISI (ms)\")\n",
    "print(f\"Mean: {mean_both_noise_up}, Median: {median_both_noise_up}, STD: {std_both_noise_up}, IQR: [{q1_both_noise_up} - {q3_both_noise_up}], Max: {max(isi_both_noise_up)}, Min: {min(isi_both_noise_up)}\")\n",
    "\n",
    "print(\"=================================\")\n",
    "print(\"BOTH DOWN\")\n",
    "print(\"HFO ISI (ms)\")\n",
    "print(f\"Mean: {mean_both_hfo_down}, Median: {median_both_hfo_down}, STD: {std_both_hfo_down}, IQR: [{q1_both_hfo_down} - {q3_both_hfo_down}], Max: {max(isi_both_hfo_down)}, Min: {min(isi_both_hfo_down)}\")\n",
    "print(\"Noise ISI (ms)\")\n",
    "print(f\"Mean: {mean_both_noise_down}, Median: {median_both_noise_down}, STD: {std_both_noise_down}, IQR: [{q1_both_noise_down} - {q3_both_noise_down}], Max: {max(isi_both_noise_down)}, Min: {min(isi_both_noise_down)}\")"
   ]
  },
  {
   "cell_type": "markdown",
   "metadata": {},
   "source": [
    "### Find number of outliers in the ISIs"
   ]
  },
  {
   "cell_type": "code",
   "execution_count": 176,
   "metadata": {},
   "outputs": [
    {
     "name": "stdout",
     "output_type": "stream",
     "text": [
      "Ripple UP HFO Outliers\n",
      "Upper Outliers: 0/279 (0.0%)\n",
      "FR UP HFO Outliers\n",
      "Upper Outliers: 10/449 (2.23%)\n",
      "FR UP HFO Outliers\n",
      "Upper Outliers: 3/374 (0.8%)\n"
     ]
    }
   ],
   "source": [
    "# Print the number of outliers in the ISIs\n",
    "# Ripple UP\n",
    "ripple_upper_outliers = len([curr_isi for curr_isi in isi_ripple_hfo_up if curr_isi > q3_ripple_hfo_up + 1.5 * iqr_ripple_hfo_up])\n",
    "\n",
    "print(\"Ripple UP HFO Outliers\")\n",
    "print(f\"Upper Outliers: {ripple_upper_outliers}/{len(isi_ripple_hfo_up)} ({round(ripple_upper_outliers/len(isi_ripple_hfo_up) * 100, 2)}%)\")\n",
    "\n",
    "# FR UP\n",
    "fr_upper_outliers = len([curr_isi for curr_isi in isi_fr_hfo_up if curr_isi > q3_fr_hfo_up + 1.5 * iqr_fr_hfo_up])\n",
    "\n",
    "print(\"FR UP HFO Outliers\")\n",
    "print(f\"Upper Outliers: {fr_upper_outliers}/{len(isi_fr_hfo_up)} ({round(fr_upper_outliers/len(isi_fr_hfo_up) * 100, 2)}%)\")\n",
    "\n",
    "# HFO UP\n",
    "both_upper_outliers = len([curr_isi for curr_isi in isi_both_hfo_up if curr_isi > q3_both_hfo_up + 1.5 * iqr_both_hfo_up])\n",
    "\n",
    "print(\"FR UP HFO Outliers\")\n",
    "print(f\"Upper Outliers: {both_upper_outliers}/{len(isi_both_hfo_up)} ({round(both_upper_outliers/len(isi_both_hfo_up) * 100, 2)}%)\")"
   ]
  },
  {
   "cell_type": "markdown",
   "metadata": {},
   "source": [
    "### Display Box Plots with the Inter-Spike Intervals"
   ]
  },
  {
   "cell_type": "markdown",
   "metadata": {},
   "source": [
    "#### Ripple ISIs"
   ]
  },
  {
   "cell_type": "code",
   "execution_count": 177,
   "metadata": {},
   "outputs": [
    {
     "name": "stdout",
     "output_type": "stream",
     "text": [
      "ripple_quantiles:  [0.9765625  1.46484375 9.765625  ]\n",
      "Ripple IQR:  8.7890625\n",
      "ripple_quantiles:  [0.9765625  1.953125   9.27734375]\n",
      "Ripple IQR:  8.30078125\n",
      "ripple_quantiles:  [   6.8359375   10.7421875 1988.28125  ]\n",
      "Ripple IQR:  1981.4453125\n",
      "ripple_quantiles:  [   8.30078125   10.7421875  1976.19628906]\n",
      "Ripple IQR:  1967.8955078125\n"
     ]
    }
   ],
   "source": [
    "# Display Box Plots with the Inter-Spike Intervals\n",
    "from utils.bar_plot import create_box_plot\n",
    "import bokeh.plotting as bplt\n",
    "\n",
    "# Ripple Band Box Plot\n",
    "# Define the array of values\n",
    "ripple_isi_list = [isi_ripple_hfo_up, isi_ripple_hfo_down, isi_ripple_noise_up, isi_ripple_noise_down]\n",
    "# Create the BoxPlot\n",
    "ripple_isi_boxplot = create_box_plot(\n",
    "    title=\"Inter-Spike Interval of the UP/DOWN Spike trains in the Ripple Band\", \n",
    "    box_arrays=ripple_isi_list,\n",
    "    y_axis_label='Inter-Spike Interval (ms)',\n",
    "    x_axis_labels=['HFO UP', 'HFO DOWN', 'NOISE UP', 'NOISE DOWN'],\n",
    "    sizing_mode=\"stretch_width\",\n",
    ")\n",
    "# TODO: Add legend on the x-axis\n",
    "\n",
    "show_ripple_isi_barplot = True\n",
    "if show_ripple_isi_barplot:\n",
    "    # Show the plot\n",
    "    bplt.show(ripple_isi_boxplot)"
   ]
  },
  {
   "cell_type": "code",
   "execution_count": 178,
   "metadata": {},
   "outputs": [],
   "source": [
    "from utils.input import RIPPLE_BAND_FILENAME, FR_BAND_FILENAME, BOTH_BAND_FILENAME\n",
    "\n",
    "# Export the plot to an HTML file\n",
    "EXPORT_RIPPLE_BOXPLOT = True\n",
    "if EXPORT_RIPPLE_BOXPLOT:\n",
    "    # Create the folder if it does not exist\n",
    "    if not os.path.exists(RESULTS_FOLDER):\n",
    "        os.makedirs(RESULTS_FOLDER)\n",
    "\n",
    "    ripple_boxplot_filename = f\"{RESULTS_FOLDER}/{RIPPLE_BAND_FILENAME}_isi_boxplot_thresh{ripple_thresh_up}-{ripple_thresh_down}.html\"\n",
    "\n",
    "    # Customize the output file settings\n",
    "    bplt.output_file(filename=ripple_boxplot_filename, title=\"Inter-Spike Interval of the UP/DOWN Spike trains in the Ripple Band\")\n",
    "\n",
    "    # Save the plot\n",
    "    bplt.save(ripple_isi_boxplot)\n",
    "\n",
    "    # Close the plot\n",
    "    bplt.reset_output()"
   ]
  },
  {
   "cell_type": "markdown",
   "metadata": {},
   "source": [
    "#### Fast Ripple ISIs"
   ]
  },
  {
   "cell_type": "code",
   "execution_count": 179,
   "metadata": {},
   "outputs": [
    {
     "name": "stdout",
     "output_type": "stream",
     "text": [
      "ripple_quantiles:  [0.48828125 0.48828125 2.44140625]\n",
      "Ripple IQR:  1.953125\n",
      "ripple_quantiles:  [0.48828125 0.48828125 2.44140625]\n",
      "Ripple IQR:  1.953125\n",
      "ripple_quantiles:  [ 3.41796875 11.71875    30.2734375 ]\n",
      "Ripple IQR:  26.85546875\n",
      "ripple_quantiles:  [ 3.41796875 12.20703125 29.78515625]\n",
      "Ripple IQR:  26.3671875\n"
     ]
    }
   ],
   "source": [
    "# Display Box Plots with the Inter-Spike Intervals\n",
    "\n",
    "# FR Band Box Plot\n",
    "# Define the array of values\n",
    "fr_isi_list = [isi_fr_hfo_up, isi_fr_hfo_down, isi_fr_noise_up, isi_fr_noise_down]\n",
    "# Create the BoxPlot\n",
    "fr_isi_boxplot = create_box_plot(\n",
    "    title=\"Inter-Spike Interval of the UP/DOWN Spike trains in the Fast Ripple Band\", \n",
    "    box_arrays=fr_isi_list,\n",
    "    y_axis_label='Inter-Spike Interval (ms)',\n",
    "    x_axis_labels=['HFO UP', 'HFO DOWN', 'NOISE UP', 'NOISE DOWN'],\n",
    "    sizing_mode=\"stretch_width\",\n",
    ")\n",
    "# TODO: Add legend on the x-axis\n",
    "\n",
    "show_fr_isi_barplot = True\n",
    "if show_fr_isi_barplot:\n",
    "    # Show the plot\n",
    "    bplt.show(fr_isi_boxplot)"
   ]
  },
  {
   "cell_type": "code",
   "execution_count": 180,
   "metadata": {},
   "outputs": [],
   "source": [
    "# Export the plot to an HTML file\n",
    "EXPORT_FR_PLOT = True\n",
    "if EXPORT_FR_PLOT:\n",
    "    # Create the folder if it does not exist\n",
    "    if not os.path.exists(RESULTS_FOLDER):\n",
    "        os.makedirs(RESULTS_FOLDER)\n",
    "\n",
    "    fr_boxplot_filename = f\"{RESULTS_FOLDER}/{FR_BAND_FILENAME}_isi_boxplot_thresh{fr_thresh_up}-{fr_thresh_down}.html\"\n",
    "\n",
    "    # Customize the output file settings\n",
    "    bplt.output_file(filename=fr_boxplot_filename, title=\"Inter-Spike Interval of the UP/DOWN Spike trains in the Fast Ripple Band\")\n",
    "\n",
    "    # Save the plot\n",
    "    bplt.save(fr_isi_boxplot)\n",
    "\n",
    "    bplt.reset_output()"
   ]
  },
  {
   "cell_type": "markdown",
   "metadata": {},
   "source": [
    "#### HFO ISIs"
   ]
  },
  {
   "cell_type": "code",
   "execution_count": 181,
   "metadata": {},
   "outputs": [
    {
     "name": "stdout",
     "output_type": "stream",
     "text": [
      "ripple_quantiles:  [0.9765625  2.44140625 7.8125    ]\n",
      "Ripple IQR:  6.8359375\n",
      "ripple_quantiles:  [0.9765625  2.44140625 7.32421875]\n",
      "Ripple IQR:  6.34765625\n",
      "ripple_quantiles:  [  6.59179688  45.8984375  346.6796875 ]\n",
      "Ripple IQR:  340.087890625\n",
      "ripple_quantiles:  [  5.37109375  42.48046875 332.03125   ]\n",
      "Ripple IQR:  326.66015625\n"
     ]
    }
   ],
   "source": [
    "# Display Box Plots with the Inter-Spike Intervals\n",
    "\n",
    "# HFO Band Box Plot\n",
    "# Define the array of values\n",
    "hfo_isi_list = [isi_both_hfo_up, isi_both_hfo_down, isi_both_noise_up, isi_both_noise_down]\n",
    "# Create the BoxPlot\n",
    "hfo_isi_boxplot = create_box_plot(\n",
    "    title=\"Inter-Spike Interval of the UP/DOWN Spike trains in the HFO Band\", \n",
    "    box_arrays=hfo_isi_list,\n",
    "    y_axis_label='Inter-Spike Interval (ms)',\n",
    "    x_axis_labels=['HFO UP', 'HFO DOWN', 'NOISE UP', 'NOISE DOWN'],\n",
    "    sizing_mode=\"stretch_width\",\n",
    ")\n",
    "# TODO: Add legend on the x-axis\n",
    "\n",
    "show_hfo_isi_barplot = True\n",
    "if show_hfo_isi_barplot:\n",
    "    # Show the plot\n",
    "    bplt.show(hfo_isi_boxplot)"
   ]
  },
  {
   "cell_type": "code",
   "execution_count": 182,
   "metadata": {},
   "outputs": [],
   "source": [
    "# Export the plot to an HTML file\n",
    "EXPORT_HFO_PLOT = True\n",
    "if EXPORT_HFO_PLOT:\n",
    "    # Create the folder if it does not exist\n",
    "    if not os.path.exists(RESULTS_FOLDER):\n",
    "        os.makedirs(RESULTS_FOLDER)\n",
    "\n",
    "    hfo_boxplot_filename = f\"{RESULTS_FOLDER}/{BOTH_BAND_FILENAME}_isi_boxplot_thresh{hfo_thresh_up}-{hfo_thresh_down}.html\"\n",
    "\n",
    "    # Customize the output file settings\n",
    "    bplt.output_file(filename=hfo_boxplot_filename, title=\"Inter-Spike Interval of the UP/DOWN Spike trains in the HFO Band\")\n",
    "\n",
    "    # Save the plot\n",
    "    bplt.save(hfo_isi_boxplot)\n",
    "\n",
    "    bplt.reset_output()"
   ]
  }
 ],
 "metadata": {
  "kernelspec": {
   "display_name": "Python 3 (ipykernel)",
   "language": "python",
   "name": "python3"
  },
  "language_info": {
   "codemirror_mode": {
    "name": "ipython",
    "version": 3
   },
   "file_extension": ".py",
   "mimetype": "text/x-python",
   "name": "python",
   "nbconvert_exporter": "python",
   "pygments_lexer": "ipython3",
   "version": "3.10.12"
  }
 },
 "nbformat": 4,
 "nbformat_minor": 2
}
