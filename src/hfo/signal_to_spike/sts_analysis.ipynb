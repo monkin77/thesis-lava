{
 "cells": [
  {
   "cell_type": "markdown",
   "metadata": {},
   "source": [
    "# **Signal To Spike Conversion** - Analysis\n",
    "\n",
    "This notebook conducts an analysis of the Inter-Spike Interval in the UP and DN spike trains to determine the optimal synaptic time constants"
   ]
  },
  {
   "cell_type": "markdown",
   "metadata": {},
   "source": [
    "### Check WD (change if necessary) and file loading"
   ]
  },
  {
   "cell_type": "code",
   "execution_count": 103,
   "metadata": {},
   "outputs": [
    {
     "name": "stdout",
     "output_type": "stream",
     "text": [
      "/home/monkin/Desktop/feup/thesis/thesis-lava/src/hfo/signal_to_spike\n"
     ]
    }
   ],
   "source": [
    "# Show current directory\n",
    "import os\n",
    "curr_dir = os.getcwd()\n",
    "print(curr_dir)\n",
    "\n",
    "# Check if the current WD is the file location\n",
    "if \"/src/hfo/signal_to_spike\" not in os.getcwd():\n",
    "    # Set working directory to this file location\n",
    "    file_location = f\"{os.getcwd()}/thesis-lava/src/hfo/signal_to_spike\"\n",
    "    print(\"File Location: \", file_location)\n",
    "\n",
    "    # Change the current working Directory\n",
    "    os.chdir(file_location)\n",
    "\n",
    "    # New Working Directory\n",
    "    print(\"New Working Directory: \", os.getcwd())"
   ]
  },
  {
   "cell_type": "markdown",
   "metadata": {},
   "source": [
    "### Declare the `INPUT_FOLDER` and `RESULTS_FOLDER`"
   ]
  },
  {
   "cell_type": "code",
   "execution_count": 104,
   "metadata": {},
   "outputs": [],
   "source": [
    "# CAREFUL WITH THIS FOLDER TO NOT OVERWRITE THE FILES\n",
    "DATASET_FILENAME = \"custom_subset_90-119_segment500_200\"\n",
    "INPUT_FOLDER = f\"results/{DATASET_FILENAME}\"\n",
    "RESULTS_FOLDER = f\"analysis/{DATASET_FILENAME}\""
   ]
  },
  {
   "cell_type": "markdown",
   "metadata": {},
   "source": [
    "## Load the UP and DN spike trains in the Ripple and FR Band"
   ]
  },
  {
   "cell_type": "code",
   "execution_count": 105,
   "metadata": {},
   "outputs": [],
   "source": [
    "import numpy as np\n",
    "import math\n",
    "from utils.io import preview_np_array\n",
    "from utils.input import read_spike_events, MarkerType, band_to_file_name\n",
    "\n",
    "thresh_up = 1.8974\n",
    "thresh_down = -thresh_up"
   ]
  },
  {
   "cell_type": "code",
   "execution_count": 106,
   "metadata": {},
   "outputs": [
    {
     "name": "stdout",
     "output_type": "stream",
     "text": [
      "ripple_up_spike_train Shape: (10893, 2).\n",
      "Preview: [[ 4.19921875e+01 -1.00000000e+00]\n",
      " [ 5.12695312e+01 -1.00000000e+00]\n",
      " [ 5.90820312e+01 -1.00000000e+00]\n",
      " ...\n",
      " [ 1.19844727e+05 -1.00000000e+00]\n",
      " [ 1.19854492e+05 -1.00000000e+00]\n",
      " [ 1.19996582e+05 -1.00000000e+00]]\n",
      "ripple_down_spike_train Shape: (10905, 2).\n",
      "Preview: [[ 4.44335938e+01 -1.00000000e+00]\n",
      " [ 5.46875000e+01 -1.00000000e+00]\n",
      " [ 5.61523438e+01 -1.00000000e+00]\n",
      " ...\n",
      " [ 1.19842285e+05 -1.00000000e+00]\n",
      " [ 1.19850586e+05 -1.00000000e+00]\n",
      " [ 1.19993164e+05 -1.00000000e+00]]\n"
     ]
    }
   ],
   "source": [
    "ripple_band_filename = band_to_file_name(MarkerType.RIPPLE)\n",
    "fr_band_filename = band_to_file_name(MarkerType.FAST_RIPPLE)\n",
    "\n",
    "# Call the function to read the spike events\n",
    "ripple_up_spikes_file_path = f\"{INPUT_FOLDER}/{ripple_band_filename}_up_spike_train_{thresh_up}.csv\"\n",
    "ripple_down_spikes_file_path = f\"{INPUT_FOLDER}/{ripple_band_filename}_down_spike_train_{thresh_down}.csv\"\n",
    "\n",
    "ripple_up_spike_train = read_spike_events(ripple_up_spikes_file_path)\n",
    "ripple_down_spike_train = read_spike_events(ripple_down_spikes_file_path)\n",
    "\n",
    "\n",
    "preview_np_array(ripple_up_spike_train, \"ripple_up_spike_train\", edge_items=3)\n",
    "preview_np_array(ripple_down_spike_train, \"ripple_down_spike_train\", edge_items=3)"
   ]
  },
  {
   "cell_type": "code",
   "execution_count": 107,
   "metadata": {},
   "outputs": [
    {
     "name": "stdout",
     "output_type": "stream",
     "text": [
      "fr_up_spike_train Shape: (17319, 2).\n",
      "Preview: [[ 1.31835938e+01 -1.00000000e+00]\n",
      " [ 1.51367188e+01 -1.00000000e+00]\n",
      " [ 4.49218750e+01 -1.00000000e+00]\n",
      " ...\n",
      " [ 1.19993652e+05 -1.00000000e+00]\n",
      " [ 1.19995605e+05 -1.00000000e+00]\n",
      " [ 1.19998047e+05 -1.00000000e+00]]\n",
      "fr_down_spike_train Shape: (17166, 2).\n",
      "Preview: [[ 1.41601562e+01 -1.00000000e+00]\n",
      " [ 4.39453125e+01 -1.00000000e+00]\n",
      " [ 5.27343750e+01 -1.00000000e+00]\n",
      " ...\n",
      " [ 1.19994629e+05 -1.00000000e+00]\n",
      " [ 1.19996582e+05 -1.00000000e+00]\n",
      " [ 1.19999023e+05 -1.00000000e+00]]\n"
     ]
    }
   ],
   "source": [
    "fr_up_spikes_file_path = f\"{INPUT_FOLDER}/{fr_band_filename}_up_spike_train_{thresh_up}.csv\"\n",
    "fr_down_spikes_file_path = f\"{INPUT_FOLDER}/{fr_band_filename}_down_spike_train_{thresh_down}.csv\"\n",
    "\n",
    "fr_up_spike_train = read_spike_events(fr_up_spikes_file_path)\n",
    "fr_down_spike_train = read_spike_events(fr_down_spikes_file_path)\n",
    "\n",
    "preview_np_array(fr_up_spike_train, \"fr_up_spike_train\", edge_items=3)\n",
    "preview_np_array(fr_down_spike_train, \"fr_down_spike_train\", edge_items=3)"
   ]
  },
  {
   "cell_type": "markdown",
   "metadata": {},
   "source": [
    "### Load the Annotated Data\n",
    "The annotated data is needed to separate the intervals of HFO from the normal activity to calculate the Inter-Spike Interval (ISI)"
   ]
  },
  {
   "cell_type": "code",
   "execution_count": 108,
   "metadata": {},
   "outputs": [
    {
     "name": "stdout",
     "output_type": "stream",
     "text": [
      "ripple_ground_truth Shape: (222,).\n",
      "Preview: [('Fast-Ripple',   1000.  , 0.)\n",
      " ('Spike+Ripple+Fast-Ripple',   3206.54, 0.)\n",
      " ('Spike+Ripple',   3521.  , 0.) ... ('Spike+Ripple', 116216.  , 0.)\n",
      " ('Ripple+Fast-Ripple', 116769.  , 0.) ('Ripple', 119000.  , 0.)]\n",
      "fr_ground_truth Shape: (199,).\n",
      "Preview: [('Fast-Ripple',   1000.  , 0.)\n",
      " ('Spike+Ripple+Fast-Ripple',   3206.54, 0.)\n",
      " ('Fast-Ripple',   3770.02, 0.) ... ('Fast-Ripple', 116096.  , 0.)\n",
      " ('Ripple+Fast-Ripple', 116769.  , 0.) ('Fast-Ripple', 119000.  , 0.)]\n"
     ]
    }
   ],
   "source": [
    "# load the npy object\n",
    "ripple_ground_truth = np.load(f\"{INPUT_FOLDER}/{ripple_band_filename}_ground_truth.npy\")\n",
    "fr_ground_truth = np.load(f\"{INPUT_FOLDER}/{fr_band_filename}_ground_truth.npy\")\n",
    "\n",
    "preview_np_array(ripple_ground_truth, \"ripple_ground_truth\", edge_items=3)\n",
    "preview_np_array(fr_ground_truth, \"fr_ground_truth\", edge_items=3)"
   ]
  },
  {
   "cell_type": "markdown",
   "metadata": {},
   "source": [
    "## Iterate the UP and DN Spike Trains to Calculate the Inter-Spike Interval (ISI) in the HFO and Normal Activity"
   ]
  },
  {
   "cell_type": "markdown",
   "metadata": {},
   "source": [
    "Define the lists to store:\n",
    "- `Ripple_HFO_UP` - ISI of the UP train in the Ripple band during an HFO event \n",
    "- `Ripple_HFO_DN` - ISI of the DN train in the Ripple band during an HFO event\n",
    "- `Ripple_Noise_UP` - ISI of the UP train in the Ripple band during normal activity\n",
    "- `Ripple_Noise_DN` - ISI of the DN train in the Ripple band during normal activity\n",
    "\n",
    "- `FR_HFO_UP` - ISI of the UP train in the Fast Ripple band during an HFO event\n",
    "- `FR_HFO_DN` - ISI of the DN train in the Fast Ripple band during an HFO event\n",
    "- `FR_Noise_UP` - ISI of the UP train in the Fast Ripple band during normal activity\n",
    "- `FR_Noise_DN` - ISI of the DN train in the Fast Ripple band during normal activity"
   ]
  },
  {
   "cell_type": "markdown",
   "metadata": {},
   "source": [
    "## Let's analyze the Ripple Band first"
   ]
  },
  {
   "cell_type": "code",
   "execution_count": 109,
   "metadata": {},
   "outputs": [],
   "source": [
    "isi_ripple_hfo_up = []\n",
    "isi_ripple_hfo_down = []\n",
    "isi_ripple_noise_up = []\n",
    "isi_ripple_noise_down = []"
   ]
  },
  {
   "cell_type": "markdown",
   "metadata": {},
   "source": [
    "#### Ripple Band - UP Train"
   ]
  },
  {
   "cell_type": "code",
   "execution_count": 110,
   "metadata": {},
   "outputs": [],
   "source": [
    "from utils.input import RIPPLE_CONFIDENCE_WINDOW, FR_CONFIDENCE_WINDOW, BOTH_CONFIDENCE_WINDOW\n",
    "\n",
    "# Iterate the Ripple UP Spike Train\n",
    "curr_ripple_gt_idx = 0  # Current index of the ripple ground truth\n",
    "prev_spike_time = ripple_up_spike_train[0][0]\n",
    "\n",
    "for spike_idx in range(1, len(ripple_up_spike_train), 1):\n",
    "    spike_time = ripple_up_spike_train[spike_idx][0]\n",
    "    isi = spike_time - prev_spike_time\n",
    "    # print(\"spike_time: \", spike_time, \"prev_spike_time: \", prev_spike_time, \"isi: \", isi)\n",
    "\n",
    "    # Update the previous spike time\n",
    "    prev_spike_time = spike_time\n",
    "\n",
    "    # Check if the current spike time is within the ripple ground truth\n",
    "    # Skip the ground truth that is before the current spike time\n",
    "    while curr_ripple_gt_idx < len(ripple_ground_truth) and spike_time > ripple_ground_truth[curr_ripple_gt_idx][1] + RIPPLE_CONFIDENCE_WINDOW:\n",
    "        curr_ripple_gt_idx += 1\n",
    "    \n",
    "    # Check if the current spike time is within the ripple ground truth\n",
    "    if curr_ripple_gt_idx < len(ripple_ground_truth):\n",
    "        curr_gt_start = ripple_ground_truth[curr_ripple_gt_idx][1]\n",
    "        if spike_time >= curr_gt_start and spike_time <= curr_gt_start + RIPPLE_CONFIDENCE_WINDOW:\n",
    "            # The spike is within the ripple ground truth\n",
    "            isi_ripple_hfo_up.append(isi)\n",
    "\n",
    "            # Go to the next spike\n",
    "            continue\n",
    "    \n",
    "    # The spike is not within the ripple ground truth\n",
    "    isi_ripple_noise_up.append(isi)"
   ]
  },
  {
   "cell_type": "markdown",
   "metadata": {},
   "source": [
    "#### Ripple Band - DOWN Train"
   ]
  },
  {
   "cell_type": "code",
   "execution_count": 111,
   "metadata": {},
   "outputs": [],
   "source": [
    "# Iterate the Ripple DOWN Spike Train\n",
    "curr_ripple_gt_idx = 0  # Current index of the ripple ground truth\n",
    "prev_spike_time = ripple_down_spike_train[0][0]\n",
    "\n",
    "for spike_idx in range(1, len(ripple_down_spike_train), 1):\n",
    "    spike_time = ripple_down_spike_train[spike_idx][0]\n",
    "    isi = spike_time - prev_spike_time\n",
    "    # print(\"spike_time: \", spike_time, \"prev_spike_time: \", prev_spike_time, \"isi: \", isi)\n",
    "\n",
    "    # Update the previous spike time\n",
    "    prev_spike_time = spike_time\n",
    "\n",
    "    # Check if the current spike time is within the ripple ground truth\n",
    "    # Skip the ground truth that is before the current spike time\n",
    "    while curr_ripple_gt_idx < len(ripple_ground_truth) and spike_time > ripple_ground_truth[curr_ripple_gt_idx][1] + RIPPLE_CONFIDENCE_WINDOW:\n",
    "        curr_ripple_gt_idx += 1\n",
    "    \n",
    "    # Check if the current spike time is within the ripple ground truth\n",
    "    if curr_ripple_gt_idx < len(ripple_ground_truth):\n",
    "        curr_gt_start = ripple_ground_truth[curr_ripple_gt_idx][1]\n",
    "        if spike_time >= curr_gt_start and spike_time <= curr_gt_start + RIPPLE_CONFIDENCE_WINDOW:\n",
    "            # The spike is within the ripple ground truth\n",
    "            isi_ripple_hfo_down.append(isi)\n",
    "\n",
    "            # Go to the next spike\n",
    "            continue\n",
    "    \n",
    "    # The spike is not within the ripple ground truth\n",
    "    isi_ripple_noise_down.append(isi)"
   ]
  },
  {
   "cell_type": "markdown",
   "metadata": {},
   "source": [
    "### Validate the number of calculated ISIs\n",
    "Validate that:\n",
    "- `len(isi_ripple_hfo_up)` + `len(isi_ripple_noise_up)` = `len(ripple_up)` - 1 (first spike does not have an ISI)\n",
    "- `len(isi_ripple_hfo_down_)` + `len(isi_ripple_noise_down_)` = `len(ripple_down_)` - 1 (first spike does not have an ISI)"
   ]
  },
  {
   "cell_type": "code",
   "execution_count": 112,
   "metadata": {},
   "outputs": [
    {
     "name": "stdout",
     "output_type": "stream",
     "text": [
      "Length isi_ripple_hfo_up: 5462\n",
      "Length isi_ripple_noise_up: 5430\n",
      "Sum: 10892\n",
      "Length ripple_up: 10893\n"
     ]
    }
   ],
   "source": [
    "#  Validate that len(isi_ripple_hfo_up) + len(isi_ripple_noise_up) = len(ripple_up)\n",
    "print(f\"Length isi_ripple_hfo_up: {len(isi_ripple_hfo_up)}\")\n",
    "print(f\"Length isi_ripple_noise_up: {len(isi_ripple_noise_up)}\")\n",
    "print(f\"Sum: {len(isi_ripple_hfo_up) + len(isi_ripple_noise_up)}\")\n",
    "print(f\"Length ripple_up: {len(ripple_up_spike_train)}\")"
   ]
  },
  {
   "cell_type": "code",
   "execution_count": 113,
   "metadata": {},
   "outputs": [
    {
     "name": "stdout",
     "output_type": "stream",
     "text": [
      "Length isi_ripple_hfo_down: 5421\n",
      "Length isi_ripple_noise_down: 5483\n",
      "Sum: 10904\n",
      "Length ripple_down: 10905\n"
     ]
    }
   ],
   "source": [
    "#  Validate that len(isi_ripple_hfo_down) + len(isi_ripple_noise_down) = len(ripple_down)\n",
    "print(f\"Length isi_ripple_hfo_down: {len(isi_ripple_hfo_down)}\")\n",
    "print(f\"Length isi_ripple_noise_down: {len(isi_ripple_noise_down)}\")\n",
    "print(f\"Sum: {len(isi_ripple_hfo_down) + len(isi_ripple_noise_down)}\")\n",
    "print(f\"Length ripple_down: {len(ripple_down_spike_train)}\")"
   ]
  },
  {
   "cell_type": "markdown",
   "metadata": {},
   "source": [
    "## Let's analyze the Fast Ripple Band next"
   ]
  },
  {
   "cell_type": "code",
   "execution_count": 114,
   "metadata": {},
   "outputs": [],
   "source": [
    "isi_fr_hfo_up = []\n",
    "isi_fr_hfo_down = []\n",
    "isi_fr_noise_up = []\n",
    "isi_fr_noise_down = []"
   ]
  },
  {
   "cell_type": "markdown",
   "metadata": {},
   "source": [
    "#### Fast Ripple Band - UP Train"
   ]
  },
  {
   "cell_type": "code",
   "execution_count": 115,
   "metadata": {},
   "outputs": [],
   "source": [
    "# Iterate the FR UP Spike Train\n",
    "curr_fr_gt_idx = 0  # Current index of the fast ripple ground truth\n",
    "prev_spike_time = fr_up_spike_train[0][0]\n",
    "\n",
    "for spike_idx in range(1, len(fr_up_spike_train), 1):\n",
    "    spike_time = fr_up_spike_train[spike_idx][0]\n",
    "    isi = spike_time - prev_spike_time\n",
    "    # print(\"spike_time: \", spike_time, \"prev_spike_time: \", prev_spike_time, \"isi: \", isi)\n",
    "\n",
    "    # Update the previous spike time\n",
    "    prev_spike_time = spike_time\n",
    "\n",
    "    # Check if the current spike time is within the fast ripple ground truth\n",
    "    # Skip the ground truth that is before the current spike time\n",
    "    while curr_fr_gt_idx < len(fr_ground_truth) and spike_time > fr_ground_truth[curr_fr_gt_idx][1] + FR_CONFIDENCE_WINDOW:\n",
    "        curr_fr_gt_idx += 1\n",
    "    \n",
    "    # Check if the current spike time is within the fast ripple ground truth\n",
    "    if curr_fr_gt_idx < len(fr_ground_truth):\n",
    "        curr_gt_start = fr_ground_truth[curr_fr_gt_idx][1]\n",
    "        if spike_time >= curr_gt_start and spike_time <= curr_gt_start + FR_CONFIDENCE_WINDOW:\n",
    "            # The spike is within the fast ripple ground truth\n",
    "            isi_fr_hfo_up.append(isi)\n",
    "\n",
    "            # Go to the next spike\n",
    "            continue\n",
    "    \n",
    "    # The spike is not within the fast ripple ground truth\n",
    "    isi_fr_noise_up.append(isi)"
   ]
  },
  {
   "cell_type": "markdown",
   "metadata": {},
   "source": [
    "#### Fast Ripple Band - DN Train"
   ]
  },
  {
   "cell_type": "code",
   "execution_count": 116,
   "metadata": {},
   "outputs": [],
   "source": [
    "# Iterate the FR UP Spike Train\n",
    "curr_fr_gt_idx = 0  # Current index of the fast ripple ground truth\n",
    "prev_spike_time = fr_down_spike_train[0][0]\n",
    "\n",
    "for spike_idx in range(1, len(fr_down_spike_train), 1):\n",
    "    spike_time = fr_down_spike_train[spike_idx][0]\n",
    "    isi = spike_time - prev_spike_time\n",
    "    # print(\"spike_time: \", spike_time, \"prev_spike_time: \", prev_spike_time, \"isi: \", isi)\n",
    "\n",
    "    # Update the previous spike time\n",
    "    prev_spike_time = spike_time\n",
    "\n",
    "    # Check if the current spike time is within the fast ripple ground truth\n",
    "    # Skip the ground truth that is before the current spike time\n",
    "    while curr_fr_gt_idx < len(fr_ground_truth) and spike_time > fr_ground_truth[curr_fr_gt_idx][1] + FR_CONFIDENCE_WINDOW:\n",
    "        curr_fr_gt_idx += 1\n",
    "    \n",
    "    # Check if the current spike time is within the fast ripple ground truth\n",
    "    if curr_fr_gt_idx < len(fr_ground_truth):\n",
    "        curr_gt_start = fr_ground_truth[curr_fr_gt_idx][1]\n",
    "        if spike_time >= curr_gt_start and spike_time <= curr_gt_start + FR_CONFIDENCE_WINDOW:\n",
    "            # The spike is within the fast ripple ground truth\n",
    "            isi_fr_hfo_down.append(isi)\n",
    "\n",
    "            # Go to the next spike\n",
    "            continue\n",
    "    \n",
    "    # The spike is not within the fast ripple ground truth\n",
    "    isi_fr_noise_down.append(isi)"
   ]
  },
  {
   "cell_type": "markdown",
   "metadata": {},
   "source": [
    "### Validate the number of calculated ISIs\n",
    "Validate that:\n",
    "- `len(isi_fr_hfo_up)` + `len(isi_fr_noise_up)` = `len(fr_up)` - 1 (first spike does not have an ISI)\n",
    "- `len(isi_fr_hfo_down)` + `len(isi_fr_noise_down)` = `len(fr_down)` - 1 (first spike does not have an ISI)"
   ]
  },
  {
   "cell_type": "code",
   "execution_count": 117,
   "metadata": {},
   "outputs": [
    {
     "name": "stdout",
     "output_type": "stream",
     "text": [
      "Length isi_fr_hfo_up: 4288\n",
      "Length isi_fr_noise_up: 13030\n",
      "Sum: 17318\n",
      "Length fr_up: 17319\n"
     ]
    }
   ],
   "source": [
    "#  Validate that len(isi_fr_hfo_up) + len(isi_fr_noise_up) = len(ripple_up)\n",
    "print(f\"Length isi_fr_hfo_up: {len(isi_fr_hfo_up)}\")\n",
    "print(f\"Length isi_fr_noise_up: {len(isi_fr_noise_up)}\")\n",
    "print(f\"Sum: {len(isi_fr_hfo_up) + len(isi_fr_noise_up)}\")\n",
    "print(f\"Length fr_up: {len(fr_up_spike_train)}\")"
   ]
  },
  {
   "cell_type": "code",
   "execution_count": 118,
   "metadata": {},
   "outputs": [
    {
     "name": "stdout",
     "output_type": "stream",
     "text": [
      "Length isi_fr_hfo_down: 4261\n",
      "Length isi_fr_noise_down: 12904\n",
      "Sum: 17165\n",
      "Length fr_down: 17166\n"
     ]
    }
   ],
   "source": [
    "#  Validate that len(isi_fr_hfo_down) + len(isi_fr_noise_down) = len(ripple_down)\n",
    "print(f\"Length isi_fr_hfo_down: {len(isi_fr_hfo_down)}\")\n",
    "print(f\"Length isi_fr_noise_down: {len(isi_fr_noise_down)}\")\n",
    "print(f\"Sum: {len(isi_fr_hfo_down) + len(isi_fr_noise_down)}\")\n",
    "print(f\"Length fr_down: {len(fr_down_spike_train)}\")"
   ]
  },
  {
   "cell_type": "markdown",
   "metadata": {},
   "source": [
    "--- "
   ]
  },
  {
   "cell_type": "markdown",
   "metadata": {},
   "source": [
    "## Calculate metrics of the ISIs and Show the Results"
   ]
  },
  {
   "cell_type": "code",
   "execution_count": 119,
   "metadata": {},
   "outputs": [],
   "source": [
    "# Ripple band ISIs\n",
    "# UP\n",
    "# ---- Relevant Event Metrics ----\n",
    "mean_ripple_hfo_up = np.mean(isi_ripple_hfo_up)\n",
    "median_ripple_hfo_up = np.median(isi_ripple_hfo_up)\n",
    "std_ripple_hfo_up = np.std(isi_ripple_hfo_up)\n",
    "# Calculate the IQR for the ISI in the Ripple Band for the UP spikes during HFO\n",
    "q1_ripple_hfo_up = np.percentile(isi_ripple_hfo_up, 25)\n",
    "q3_ripple_hfo_up = np.percentile(isi_ripple_hfo_up, 75)\n",
    "iqr_ripple_hfo_up = q3_ripple_hfo_up - q1_ripple_hfo_up\n",
    "\n",
    "# ---- Baseline Activity Metrics ----\n",
    "mean_ripple_noise_up = np.mean(isi_ripple_noise_up)\n",
    "median_ripple_noise_up = np.median(isi_ripple_noise_up)\n",
    "std_ripple_noise_up = np.std(isi_ripple_noise_up)\n",
    "# Calculate the IQR for the ISI in the Ripple Band for the UP spikes during Noise\n",
    "q1_ripple_noise_up = np.percentile(isi_ripple_noise_up, 25)\n",
    "q3_ripple_noise_up = np.percentile(isi_ripple_noise_up, 75)\n",
    "iqr_ripple_noise_up = q3_ripple_noise_up - q1_ripple_noise_up\n",
    "\n",
    "# DOWN\n",
    "# ---- Relevant Event Metrics ----\n",
    "mean_ripple_hfo_down = np.mean(isi_ripple_hfo_down)\n",
    "median_ripple_hfo_down = np.median(isi_ripple_hfo_down)\n",
    "std_ripple_hfo_down = np.std(isi_ripple_hfo_down)\n",
    "# Calculate the IQR for the ISI in the Ripple Band for the DOWN spikes during HFO\n",
    "q1_ripple_hfo_down = np.percentile(isi_ripple_hfo_down, 25)\n",
    "q3_ripple_hfo_down = np.percentile(isi_ripple_hfo_down, 75)\n",
    "iqr_ripple_hfo_down = q3_ripple_hfo_down - q1_ripple_hfo_down\n",
    "\n",
    "# ---- Baseline Activity Metrics ----\n",
    "mean_ripple_noise_down = np.mean(isi_ripple_noise_down)\n",
    "median_ripple_noise_down = np.median(isi_ripple_noise_down)\n",
    "std_ripple_noise_down = np.std(isi_ripple_noise_down)\n",
    "# Calculate the IQR for the ISI in the Ripple Band for the DOWN spikes during Noise\n",
    "q1_ripple_noise_down = np.percentile(isi_ripple_noise_down, 25)\n",
    "q3_ripple_noise_down = np.percentile(isi_ripple_noise_down, 75)\n",
    "iqr_ripple_noise_down = q3_ripple_noise_down - q1_ripple_noise_down"
   ]
  },
  {
   "cell_type": "code",
   "execution_count": 120,
   "metadata": {},
   "outputs": [],
   "source": [
    "# Fast Ripple band ISIs\n",
    "# UP\n",
    "# ---- Relevant Event Metrics ----\n",
    "mean_fr_hfo_up = np.mean(isi_fr_hfo_up)\n",
    "median_fr_hfo_up = np.median(isi_fr_hfo_up)\n",
    "std_fr_hfo_up = np.std(isi_fr_hfo_up)\n",
    "# Calculate the IQR for the ISI in the Fast Ripple Band for the UP spikes during HFO\n",
    "q1_fr_hfo_up = np.percentile(isi_fr_hfo_up, 25)\n",
    "q3_fr_hfo_up = np.percentile(isi_fr_hfo_up, 75)\n",
    "iqr_fr_hfo_up = q3_fr_hfo_up - q1_fr_hfo_up\n",
    "\n",
    "# ---- Baseline Activity Metrics ----\n",
    "mean_fr_noise_up = np.mean(isi_fr_noise_up)\n",
    "median_fr_noise_up = np.median(isi_fr_noise_up)\n",
    "std_fr_noise_up = np.std(isi_fr_noise_up)\n",
    "# Calculate the IQR for the ISI in the Fast Ripple Band for the UP spikes during Noise\n",
    "q1_fr_noise_up = np.percentile(isi_fr_noise_up, 25)\n",
    "q3_fr_noise_up = np.percentile(isi_fr_noise_up, 75)\n",
    "iqr_fr_noise_up = q3_fr_noise_up - q1_fr_noise_up\n",
    "\n",
    "# DOWN\n",
    "# ---- Relevant Event Metrics ----\n",
    "mean_fr_hfo_down = np.mean(isi_fr_hfo_down)\n",
    "median_fr_hfo_down = np.median(isi_fr_hfo_down)\n",
    "std_fr_hfo_down = np.std(isi_fr_hfo_down)\n",
    "# Calculate the IQR for the ISI in the Fast Ripple Band for the DOWN spikes during HFO\n",
    "q1_fr_hfo_down = np.percentile(isi_fr_hfo_down, 25)\n",
    "q3_fr_hfo_down = np.percentile(isi_fr_hfo_down, 75)\n",
    "iqr_fr_hfo_down = q3_fr_hfo_down - q1_fr_hfo_down\n",
    "\n",
    "# ---- Baseline Activity Metrics ----\n",
    "mean_fr_noise_down = np.mean(isi_fr_noise_down)\n",
    "median_fr_noise_down = np.median(isi_fr_noise_down)\n",
    "std_fr_noise_down = np.std(isi_fr_noise_down)\n",
    "# Calculate the IQR for the ISI in the Fast Ripple Band for the DOWN spikes during Noise\n",
    "q1_fr_noise_down = np.percentile(isi_fr_noise_down, 25)\n",
    "q3_fr_noise_down = np.percentile(isi_fr_noise_down, 75)\n",
    "iqr_fr_noise_down = q3_fr_noise_down - q1_fr_noise_down"
   ]
  },
  {
   "cell_type": "markdown",
   "metadata": {},
   "source": [
    "### Print the Metrics of the ISIs"
   ]
  },
  {
   "cell_type": "markdown",
   "metadata": {},
   "source": [
    "#### Ripple Band"
   ]
  },
  {
   "cell_type": "code",
   "execution_count": 121,
   "metadata": {},
   "outputs": [
    {
     "name": "stdout",
     "output_type": "stream",
     "text": [
      "Ripple UP\n",
      "HFO ISI (ms)\n",
      "Mean: 4.099703062065178, Median: 0.9765625, STD: 7.691148414627944, IQR: [0.48828125 - 5.859375]\n",
      "Noise ISI (ms)\n",
      "Mean: 17.967221311003684, Median: 10.7421875, STD: 26.94784945331581, IQR: [7.32421875 - 19.53125]\n",
      "=================================\n",
      "Ripple DOWN\n",
      "HFO ISI (ms)\n",
      "Mean: 4.165928074847814, Median: 0.9765625, STD: 7.84948772741277, IQR: [0.48828125 - 5.859375]\n",
      "Noise ISI (ms)\n",
      "Mean: 17.75765719040671, Median: 10.7421875, STD: 26.784767260572362, IQR: [6.8359375  - 19.04296875]\n"
     ]
    }
   ],
   "source": [
    "# Metrics of the ISIs in the Ripple Band\n",
    "print(\"Ripple UP\")\n",
    "print(\"HFO ISI (ms)\")\n",
    "print(f\"Mean: {mean_ripple_hfo_up}, Median: {median_ripple_hfo_up}, STD: {std_ripple_hfo_up}, IQR: [{q1_ripple_hfo_up} - {q3_ripple_hfo_up}]\")\n",
    "print(\"Noise ISI (ms)\")\n",
    "print(f\"Mean: {mean_ripple_noise_up}, Median: {median_ripple_noise_up}, STD: {std_ripple_noise_up}, IQR: [{q1_ripple_noise_up} - {q3_ripple_noise_up}]\")\n",
    "\n",
    "print(\"=================================\")\n",
    "print(\"Ripple DOWN\")\n",
    "print(\"HFO ISI (ms)\")\n",
    "print(f\"Mean: {mean_ripple_hfo_down}, Median: {median_ripple_hfo_down}, STD: {std_ripple_hfo_down}, IQR: [{q1_ripple_hfo_down} - {q3_ripple_hfo_down}]\")\n",
    "print(\"Noise ISI (ms)\")\n",
    "print(f\"Mean: {mean_ripple_noise_down}, Median: {median_ripple_noise_down}, STD: {std_ripple_noise_down}, IQR: [{q1_ripple_noise_down}  - {q3_ripple_noise_down}]\")"
   ]
  },
  {
   "cell_type": "markdown",
   "metadata": {},
   "source": [
    "#### Fast Ripple Band"
   ]
  },
  {
   "cell_type": "code",
   "execution_count": 122,
   "metadata": {},
   "outputs": [
    {
     "name": "stdout",
     "output_type": "stream",
     "text": [
      "FR UP\n",
      "HFO ISI (ms)\n",
      "Mean: 2.20216210208722, Median: 1.46484375, STD: 3.271189050196717, IQR: [0.48828125 - 2.44140625]\n",
      "Noise ISI (ms)\n",
      "Mean: 8.483652508633922, Median: 3.90625, STD: 16.81704392745188, IQR: [2.44140625 - 9.27734375]\n",
      "=================================\n",
      "FR DOWN\n",
      "HFO ISI (ms)\n",
      "Mean: 2.250264939274818, Median: 1.953125, STD: 3.3354314084443732, IQR: [0.48828125 - 2.9296875]\n",
      "Noise ISI (ms)\n",
      "Mean: 8.555214226208928, Median: 3.90625, STD: 16.94710633144915, IQR: [2.44140625 - 9.27734375]\n"
     ]
    }
   ],
   "source": [
    "# Metrics of the ISIs in the FR Band\n",
    "print(\"FR UP\")\n",
    "print(\"HFO ISI (ms)\")\n",
    "print(f\"Mean: {mean_fr_hfo_up}, Median: {median_fr_hfo_up}, STD: {std_fr_hfo_up}, IQR: [{q1_fr_hfo_up} - {q3_fr_hfo_up}]\")\n",
    "print(\"Noise ISI (ms)\")\n",
    "print(f\"Mean: {mean_fr_noise_up}, Median: {median_fr_noise_up}, STD: {std_fr_noise_up}, IQR: [{q1_fr_noise_up} - {q3_fr_noise_up}]\")\n",
    "\n",
    "print(\"=================================\")\n",
    "print(\"FR DOWN\")\n",
    "print(\"HFO ISI (ms)\")\n",
    "print(f\"Mean: {mean_fr_hfo_down}, Median: {median_fr_hfo_down}, STD: {std_fr_hfo_down}, IQR: [{q1_fr_hfo_down} - {q3_fr_hfo_down}]\")\n",
    "print(\"Noise ISI (ms)\")\n",
    "print(f\"Mean: {mean_fr_noise_down}, Median: {median_fr_noise_down}, STD: {std_fr_noise_down}, IQR: [{q1_fr_noise_down} - {q3_fr_noise_down}]\")"
   ]
  },
  {
   "cell_type": "markdown",
   "metadata": {},
   "source": [
    "### Display Box Plots with the Inter-Spike Intervals"
   ]
  },
  {
   "cell_type": "markdown",
   "metadata": {},
   "source": [
    "#### Ripple ISIs"
   ]
  },
  {
   "cell_type": "code",
   "execution_count": 123,
   "metadata": {},
   "outputs": [
    {
     "name": "stdout",
     "output_type": "stream",
     "text": [
      "ripple_quantiles:  [0.48828125 0.9765625  5.859375  ]\n",
      "Ripple IQR:  5.37109375\n",
      "ripple_quantiles:  [0.48828125 0.9765625  5.859375  ]\n",
      "Ripple IQR:  5.37109375\n",
      "ripple_quantiles:  [ 7.32421875 10.7421875  19.53125   ]\n",
      "Ripple IQR:  12.20703125\n",
      "ripple_quantiles:  [ 6.8359375  10.7421875  19.04296875]\n",
      "Ripple IQR:  12.20703125\n"
     ]
    }
   ],
   "source": [
    "# Display Box Plots with the Inter-Spike Intervals\n",
    "from utils.bar_plot import create_box_plot\n",
    "import bokeh.plotting as bplt\n",
    "\n",
    "# Ripple Band Box Plot\n",
    "# Define the array of values\n",
    "ripple_isi_list = [isi_ripple_hfo_up, isi_ripple_hfo_down, isi_ripple_noise_up, isi_ripple_noise_down]\n",
    "# Create the BoxPlot\n",
    "ripple_isi_boxplot = create_box_plot(\n",
    "    title=\"Inter-Spike Interval of the UP/DOWN Spike trains in the Ripple Band\", \n",
    "    box_arrays=ripple_isi_list,\n",
    "    y_axis_label='Inter-Spike Interval (ms)',\n",
    "    x_axis_labels=['HFO UP', 'HFO DOWN', 'NOISE UP', 'NOISE DOWN'],\n",
    "    sizing_mode=\"stretch_width\",\n",
    ")\n",
    "# TODO: Add legend on the x-axis\n",
    "\n",
    "show_ripple_isi_barplot = True\n",
    "if show_ripple_isi_barplot:\n",
    "    # Show the plot\n",
    "    bplt.show(ripple_isi_boxplot)"
   ]
  },
  {
   "cell_type": "code",
   "execution_count": 124,
   "metadata": {},
   "outputs": [],
   "source": [
    "# Export the plot to an HTML file\n",
    "EXPORT_RIPPLE_BOXPLOT = True\n",
    "if EXPORT_RIPPLE_BOXPLOT:\n",
    "    # Create the folder if it does not exist\n",
    "    if not os.path.exists(RESULTS_FOLDER):\n",
    "        os.makedirs(RESULTS_FOLDER)\n",
    "\n",
    "    ripple_boxplot_filename = f\"{RESULTS_FOLDER}/ripple_isi_boxplot_thresh{thresh_up}-{thresh_down}.html\"\n",
    "\n",
    "    # Customize the output file settings\n",
    "    bplt.output_file(filename=ripple_boxplot_filename, title=\"Inter-Spike Interval of the UP/DOWN Spike trains in the Ripple Band\")\n",
    "\n",
    "    # Save the plot\n",
    "    bplt.save(ripple_isi_boxplot)\n",
    "\n",
    "    # Close the plot\n",
    "    bplt.reset_output()"
   ]
  },
  {
   "cell_type": "markdown",
   "metadata": {},
   "source": [
    "#### Fast Ripple ISIs"
   ]
  },
  {
   "cell_type": "code",
   "execution_count": 125,
   "metadata": {},
   "outputs": [
    {
     "name": "stdout",
     "output_type": "stream",
     "text": [
      "ripple_quantiles:  [0.48828125 1.46484375 2.44140625]\n",
      "Ripple IQR:  1.953125\n",
      "ripple_quantiles:  [0.48828125 1.953125   2.9296875 ]\n",
      "Ripple IQR:  2.44140625\n",
      "ripple_quantiles:  [2.44140625 3.90625    9.27734375]\n",
      "Ripple IQR:  6.8359375\n",
      "ripple_quantiles:  [2.44140625 3.90625    9.27734375]\n",
      "Ripple IQR:  6.8359375\n"
     ]
    }
   ],
   "source": [
    "# Display Box Plots with the Inter-Spike Intervals\n",
    "\n",
    "# FR Band Box Plot\n",
    "# Define the array of values\n",
    "fr_isi_list = [isi_fr_hfo_up, isi_fr_hfo_down, isi_fr_noise_up, isi_fr_noise_down]\n",
    "# Create the BoxPlot\n",
    "fr_isi_boxplot = create_box_plot(\n",
    "    title=\"Inter-Spike Interval of the UP/DOWN Spike trains in the Fast Ripple Band\", \n",
    "    box_arrays=fr_isi_list,\n",
    "    y_axis_label='Inter-Spike Interval (ms)',\n",
    "    x_axis_labels=['HFO UP', 'HFO DOWN', 'NOISE UP', 'NOISE DOWN'],\n",
    "    sizing_mode=\"stretch_width\",\n",
    ")\n",
    "# TODO: Add legend on the x-axis\n",
    "\n",
    "show_fr_isi_barplot = True\n",
    "if show_fr_isi_barplot:\n",
    "    # Show the plot\n",
    "    bplt.show(fr_isi_boxplot)"
   ]
  },
  {
   "cell_type": "code",
   "execution_count": 126,
   "metadata": {},
   "outputs": [],
   "source": [
    "# Export the plot to an HTML file\n",
    "EXPORT_FR_PLOT = True\n",
    "if EXPORT_FR_PLOT:\n",
    "    # Create the folder if it does not exist\n",
    "    if not os.path.exists(RESULTS_FOLDER):\n",
    "        os.makedirs(RESULTS_FOLDER)\n",
    "\n",
    "    fr_boxplot_filename = f\"{RESULTS_FOLDER}/fr_isi_boxplot_thresh{thresh_up}-{thresh_down}.html\"\n",
    "\n",
    "    # Customize the output file settings\n",
    "    bplt.output_file(filename=fr_boxplot_filename, title=\"Inter-Spike Interval of the UP/DOWN Spike trains in the Fast Ripple Band\")\n",
    "\n",
    "    # Save the plot\n",
    "    bplt.save(fr_isi_boxplot)\n",
    "\n",
    "    bplt.reset_output()"
   ]
  }
 ],
 "metadata": {
  "kernelspec": {
   "display_name": "Python 3 (ipykernel)",
   "language": "python",
   "name": "python3"
  }
 },
 "nbformat": 4,
 "nbformat_minor": 2
}
