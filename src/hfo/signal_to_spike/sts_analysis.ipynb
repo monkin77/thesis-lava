{
 "cells": [
  {
   "cell_type": "markdown",
   "metadata": {},
   "source": [
    "# **Signal To Spike Conversion** - Analysis\n",
    "\n",
    "This notebook conducts an analysis of the Inter-Spike Interval in the UP and DN spike trains to determine the optimal synaptic time constants"
   ]
  },
  {
   "cell_type": "markdown",
   "metadata": {},
   "source": [
    "### Check WD (change if necessary) and file loading"
   ]
  },
  {
   "cell_type": "code",
   "execution_count": 1,
   "metadata": {},
   "outputs": [
    {
     "name": "stdout",
     "output_type": "stream",
     "text": [
      "/home/monkin/Desktop/feup/thesis\n",
      "File Location:  /home/monkin/Desktop/feup/thesis/thesis-lava/src/hfo/signal_to_spike\n",
      "New Working Directory:  /home/monkin/Desktop/feup/thesis/thesis-lava/src/hfo/signal_to_spike\n"
     ]
    }
   ],
   "source": [
    "# Show current directory\n",
    "import os\n",
    "curr_dir = os.getcwd()\n",
    "print(curr_dir)\n",
    "\n",
    "# Check if the current WD is the file location\n",
    "if \"/src/hfo/signal_to_spike\" not in os.getcwd():\n",
    "    # Set working directory to this file location\n",
    "    file_location = f\"{os.getcwd()}/thesis-lava/src/hfo/signal_to_spike\"\n",
    "    print(\"File Location: \", file_location)\n",
    "\n",
    "    # Change the current working Directory\n",
    "    os.chdir(file_location)\n",
    "\n",
    "    # New Working Directory\n",
    "    print(\"New Working Directory: \", os.getcwd())"
   ]
  },
  {
   "cell_type": "markdown",
   "metadata": {},
   "source": [
    "### Declare the `INPUT_FOLDER` and `RESULTS_FOLDER`"
   ]
  },
  {
   "cell_type": "code",
   "execution_count": 2,
   "metadata": {},
   "outputs": [],
   "source": [
    "# CAREFUL WITH THIS FOLDER TO NOT OVERWRITE THE FILES\n",
    "DATASET_FILENAME = \"seeg_filtered_subset_90-119_segment500_200\"\n",
    "INPUT_FOLDER = f\"results/{DATASET_FILENAME}\"\n",
    "RESULTS_FOLDER = f\"analysis/{DATASET_FILENAME}\""
   ]
  },
  {
   "cell_type": "markdown",
   "metadata": {},
   "source": [
    "## Load the UP and DN spike trains in the Ripple and FR Band"
   ]
  },
  {
   "cell_type": "code",
   "execution_count": 3,
   "metadata": {},
   "outputs": [],
   "source": [
    "import numpy as np\n",
    "import math\n",
    "from utils.io import preview_np_array\n",
    "from utils.input import read_spike_events, MarkerType, band_to_file_name, BaselineAlgorithm"
   ]
  },
  {
   "cell_type": "markdown",
   "metadata": {},
   "source": [
    "### Load the Baseline Thresholds from the output file from the baseline process"
   ]
  },
  {
   "cell_type": "code",
   "execution_count": 4,
   "metadata": {},
   "outputs": [],
   "source": [
    "# Specify the chosen Baseline Algorithm\n",
    "chosen_baseline_alg_suffix = BaselineAlgorithm.MEAN"
   ]
  },
  {
   "cell_type": "code",
   "execution_count": 5,
   "metadata": {},
   "outputs": [
    {
     "name": "stdout",
     "output_type": "stream",
     "text": [
      "Ripple Thresholds:  4.7916 -4.7916\n",
      "FR Thresholds:  2.3014 -2.3014\n"
     ]
    }
   ],
   "source": [
    "# Load the Baseline Thresholds\n",
    "BASELINE_FILE = f\"baseline_results/{DATASET_FILENAME}_thresholds_{chosen_baseline_alg_suffix}.npy\"\n",
    "baseline_thresholds = np.load(BASELINE_FILE)\n",
    "\n",
    "# preview_np_array(baseline_thresholds, \"baseline_thresholds\", edge_items=3)\n",
    "\n",
    "baseline_ripple_thresh = round(baseline_thresholds[0], 4)\n",
    "baseline_fr_thresh = round(baseline_thresholds[1], 4)\n",
    "\n",
    "# For now, the UP and DN thresholds are the same (symmetric)\n",
    "ripple_thresh_up = baseline_ripple_thresh\n",
    "ripple_thresh_down = -baseline_ripple_thresh\n",
    "fr_thresh_up = baseline_fr_thresh\n",
    "fr_thresh_down = -baseline_fr_thresh\n",
    "\n",
    "print(\"Ripple Thresholds: \", ripple_thresh_up, ripple_thresh_down)\n",
    "print(\"FR Thresholds: \", fr_thresh_up, fr_thresh_down)"
   ]
  },
  {
   "cell_type": "code",
   "execution_count": 6,
   "metadata": {},
   "outputs": [
    {
     "name": "stdout",
     "output_type": "stream",
     "text": [
      "ripple_up_spike_train Shape: (2545, 2).\n",
      "Preview: [[ 9.44335938e+02 -1.00000000e+00]\n",
      " [ 9.51171875e+02 -1.00000000e+00]\n",
      " [ 9.52636719e+02 -1.00000000e+00]\n",
      " ...\n",
      " [ 1.19092285e+05 -1.00000000e+00]\n",
      " [ 1.19093750e+05 -1.00000000e+00]\n",
      " [ 1.19106445e+05 -1.00000000e+00]]\n",
      "ripple_down_spike_train Shape: (2530, 2).\n",
      "Preview: [[ 9.47265625e+02 -1.00000000e+00]\n",
      " [ 9.48730469e+02 -1.00000000e+00]\n",
      " [ 9.56054688e+02 -1.00000000e+00]\n",
      " ...\n",
      " [ 1.19087891e+05 -1.00000000e+00]\n",
      " [ 1.19089355e+05 -1.00000000e+00]\n",
      " [ 1.19100098e+05 -1.00000000e+00]]\n"
     ]
    }
   ],
   "source": [
    "ripple_band_filename = band_to_file_name(MarkerType.RIPPLE)\n",
    "fr_band_filename = band_to_file_name(MarkerType.FAST_RIPPLE)\n",
    "\n",
    "# Call the function to read the spike events\n",
    "ripple_up_spikes_file_path = f\"{INPUT_FOLDER}/{ripple_band_filename}_up_spike_train_{ripple_thresh_up}.csv\"\n",
    "ripple_down_spikes_file_path = f\"{INPUT_FOLDER}/{ripple_band_filename}_down_spike_train_{ripple_thresh_down}.csv\"\n",
    "\n",
    "ripple_up_spike_train = read_spike_events(ripple_up_spikes_file_path)\n",
    "ripple_down_spike_train = read_spike_events(ripple_down_spikes_file_path)\n",
    "\n",
    "\n",
    "preview_np_array(ripple_up_spike_train, \"ripple_up_spike_train\", edge_items=3)\n",
    "preview_np_array(ripple_down_spike_train, \"ripple_down_spike_train\", edge_items=3)"
   ]
  },
  {
   "cell_type": "code",
   "execution_count": 7,
   "metadata": {},
   "outputs": [
    {
     "name": "stdout",
     "output_type": "stream",
     "text": [
      "fr_up_spike_train Shape: (3971, 2).\n",
      "Preview: [[ 1.00195312e+03 -1.00000000e+00]\n",
      " [ 1.00244141e+03 -1.00000000e+00]\n",
      " [ 1.00537109e+03 -1.00000000e+00]\n",
      " ...\n",
      " [ 1.19012207e+05 -1.00000000e+00]\n",
      " [ 1.19015137e+05 -1.00000000e+00]\n",
      " [ 1.19015625e+05 -1.00000000e+00]]\n",
      "fr_down_spike_train Shape: (4045, 2).\n",
      "Preview: [[ 1.00097656e+03 -1.00000000e+00]\n",
      " [ 1.00341797e+03 -1.00000000e+00]\n",
      " [ 1.00390625e+03 -1.00000000e+00]\n",
      " ...\n",
      " [ 1.19013672e+05 -1.00000000e+00]\n",
      " [ 1.19014160e+05 -1.00000000e+00]\n",
      " [ 1.19016602e+05 -1.00000000e+00]]\n"
     ]
    }
   ],
   "source": [
    "fr_up_spikes_file_path = f\"{INPUT_FOLDER}/{fr_band_filename}_up_spike_train_{fr_thresh_up}.csv\"\n",
    "fr_down_spikes_file_path = f\"{INPUT_FOLDER}/{fr_band_filename}_down_spike_train_{fr_thresh_down}.csv\"\n",
    "\n",
    "fr_up_spike_train = read_spike_events(fr_up_spikes_file_path)\n",
    "fr_down_spike_train = read_spike_events(fr_down_spikes_file_path)\n",
    "\n",
    "preview_np_array(fr_up_spike_train, \"fr_up_spike_train\", edge_items=3)\n",
    "preview_np_array(fr_down_spike_train, \"fr_down_spike_train\", edge_items=3)"
   ]
  },
  {
   "cell_type": "markdown",
   "metadata": {},
   "source": [
    "### Load the Annotated Data\n",
    "The annotated data is needed to separate the intervals of HFO from the normal activity to calculate the Inter-Spike Interval (ISI)"
   ]
  },
  {
   "cell_type": "code",
   "execution_count": 8,
   "metadata": {},
   "outputs": [
    {
     "name": "stdout",
     "output_type": "stream",
     "text": [
      "ripple_ground_truth Shape: (222,).\n",
      "Preview: [('Fast-Ripple',   1000.  , 0.)\n",
      " ('Spike+Ripple+Fast-Ripple',   3206.54, 0.)\n",
      " ('Spike+Ripple',   3521.  , 0.) ... ('Spike+Ripple', 116216.  , 0.)\n",
      " ('Ripple+Fast-Ripple', 116769.  , 0.) ('Ripple', 119000.  , 0.)]\n",
      "fr_ground_truth Shape: (199,).\n",
      "Preview: [('Fast-Ripple',   1000.  , 0.)\n",
      " ('Spike+Ripple+Fast-Ripple',   3206.54, 0.)\n",
      " ('Fast-Ripple',   3770.02, 0.) ... ('Fast-Ripple', 116096.  , 0.)\n",
      " ('Ripple+Fast-Ripple', 116769.  , 0.) ('Fast-Ripple', 119000.  , 0.)]\n"
     ]
    }
   ],
   "source": [
    "# load the npy object\n",
    "ripple_ground_truth = np.load(f\"{INPUT_FOLDER}/{ripple_band_filename}_ground_truth.npy\")\n",
    "fr_ground_truth = np.load(f\"{INPUT_FOLDER}/{fr_band_filename}_ground_truth.npy\")\n",
    "\n",
    "preview_np_array(ripple_ground_truth, \"ripple_ground_truth\", edge_items=3)\n",
    "preview_np_array(fr_ground_truth, \"fr_ground_truth\", edge_items=3)"
   ]
  },
  {
   "cell_type": "markdown",
   "metadata": {},
   "source": [
    "## Iterate the UP and DN Spike Trains to Calculate the Inter-Spike Interval (ISI) in the HFO and Normal Activity"
   ]
  },
  {
   "cell_type": "markdown",
   "metadata": {},
   "source": [
    "Define the lists to store:\n",
    "- `Ripple_HFO_UP` - ISI of the UP train in the Ripple band during an HFO event \n",
    "- `Ripple_HFO_DN` - ISI of the DN train in the Ripple band during an HFO event\n",
    "- `Ripple_Noise_UP` - ISI of the UP train in the Ripple band during normal activity\n",
    "- `Ripple_Noise_DN` - ISI of the DN train in the Ripple band during normal activity\n",
    "\n",
    "- `FR_HFO_UP` - ISI of the UP train in the Fast Ripple band during an HFO event\n",
    "- `FR_HFO_DN` - ISI of the DN train in the Fast Ripple band during an HFO event\n",
    "- `FR_Noise_UP` - ISI of the UP train in the Fast Ripple band during normal activity\n",
    "- `FR_Noise_DN` - ISI of the DN train in the Fast Ripple band during normal activity"
   ]
  },
  {
   "cell_type": "markdown",
   "metadata": {},
   "source": [
    "## Let's analyze the Ripple Band first"
   ]
  },
  {
   "cell_type": "code",
   "execution_count": 9,
   "metadata": {},
   "outputs": [],
   "source": [
    "isi_ripple_hfo_up = []\n",
    "isi_ripple_hfo_down = []\n",
    "isi_ripple_noise_up = []\n",
    "isi_ripple_noise_down = []"
   ]
  },
  {
   "cell_type": "markdown",
   "metadata": {},
   "source": [
    "#### Ripple Band - UP Train"
   ]
  },
  {
   "cell_type": "code",
   "execution_count": 10,
   "metadata": {},
   "outputs": [],
   "source": [
    "from utils.input import RIPPLE_CONFIDENCE_WINDOW, FR_CONFIDENCE_WINDOW, BOTH_CONFIDENCE_WINDOW\n",
    "\n",
    "# Iterate the Ripple UP Spike Train\n",
    "curr_ripple_gt_idx = 0  # Current index of the ripple ground truth\n",
    "prev_spike_time = ripple_up_spike_train[0][0]\n",
    "\n",
    "for spike_idx in range(1, len(ripple_up_spike_train), 1):\n",
    "    spike_time = ripple_up_spike_train[spike_idx][0]\n",
    "    isi = spike_time - prev_spike_time\n",
    "    # print(\"spike_time: \", spike_time, \"prev_spike_time: \", prev_spike_time, \"isi: \", isi)\n",
    "\n",
    "    # Update the previous spike time\n",
    "    prev_spike_time = spike_time\n",
    "\n",
    "    # Check if the current spike time is within the ripple ground truth\n",
    "    # Skip the ground truth that is before the current spike time\n",
    "    while curr_ripple_gt_idx < len(ripple_ground_truth) and spike_time > ripple_ground_truth[curr_ripple_gt_idx][1] + RIPPLE_CONFIDENCE_WINDOW:\n",
    "        curr_ripple_gt_idx += 1\n",
    "    \n",
    "    # Check if the current spike time is within the ripple ground truth\n",
    "    if curr_ripple_gt_idx < len(ripple_ground_truth):\n",
    "        curr_gt_start = ripple_ground_truth[curr_ripple_gt_idx][1]\n",
    "        if spike_time >= curr_gt_start and spike_time <= curr_gt_start + RIPPLE_CONFIDENCE_WINDOW:\n",
    "            # The spike is within the ripple ground truth\n",
    "            isi_ripple_hfo_up.append(isi)\n",
    "\n",
    "            # Go to the next spike\n",
    "            continue\n",
    "    \n",
    "    # The spike is not within the ripple ground truth\n",
    "    isi_ripple_noise_up.append(isi)"
   ]
  },
  {
   "cell_type": "markdown",
   "metadata": {},
   "source": [
    "#### Ripple Band - DOWN Train"
   ]
  },
  {
   "cell_type": "code",
   "execution_count": 11,
   "metadata": {},
   "outputs": [],
   "source": [
    "# Iterate the Ripple DOWN Spike Train\n",
    "curr_ripple_gt_idx = 0  # Current index of the ripple ground truth\n",
    "prev_spike_time = ripple_down_spike_train[0][0]\n",
    "\n",
    "for spike_idx in range(1, len(ripple_down_spike_train), 1):\n",
    "    spike_time = ripple_down_spike_train[spike_idx][0]\n",
    "    isi = spike_time - prev_spike_time\n",
    "    # print(\"spike_time: \", spike_time, \"prev_spike_time: \", prev_spike_time, \"isi: \", isi)\n",
    "\n",
    "    # Update the previous spike time\n",
    "    prev_spike_time = spike_time\n",
    "\n",
    "    # Check if the current spike time is within the ripple ground truth\n",
    "    # Skip the ground truth that is before the current spike time\n",
    "    while curr_ripple_gt_idx < len(ripple_ground_truth) and spike_time > ripple_ground_truth[curr_ripple_gt_idx][1] + RIPPLE_CONFIDENCE_WINDOW:\n",
    "        curr_ripple_gt_idx += 1\n",
    "    \n",
    "    # Check if the current spike time is within the ripple ground truth\n",
    "    if curr_ripple_gt_idx < len(ripple_ground_truth):\n",
    "        curr_gt_start = ripple_ground_truth[curr_ripple_gt_idx][1]\n",
    "        if spike_time >= curr_gt_start and spike_time <= curr_gt_start + RIPPLE_CONFIDENCE_WINDOW:\n",
    "            # The spike is within the ripple ground truth\n",
    "            isi_ripple_hfo_down.append(isi)\n",
    "\n",
    "            # Go to the next spike\n",
    "            continue\n",
    "    \n",
    "    # The spike is not within the ripple ground truth\n",
    "    isi_ripple_noise_down.append(isi)"
   ]
  },
  {
   "cell_type": "markdown",
   "metadata": {},
   "source": [
    "### Validate the number of calculated ISIs\n",
    "Validate that:\n",
    "- `len(isi_ripple_hfo_up)` + `len(isi_ripple_noise_up)` = `len(ripple_up)` - 1 (first spike does not have an ISI)\n",
    "- `len(isi_ripple_hfo_down_)` + `len(isi_ripple_noise_down_)` = `len(ripple_down_)` - 1 (first spike does not have an ISI)"
   ]
  },
  {
   "cell_type": "code",
   "execution_count": 12,
   "metadata": {},
   "outputs": [
    {
     "name": "stdout",
     "output_type": "stream",
     "text": [
      "Length isi_ripple_hfo_up: 2075\n",
      "Length isi_ripple_noise_up: 469\n",
      "Sum: 2544\n",
      "Length ripple_up: 2545\n"
     ]
    }
   ],
   "source": [
    "#  Validate that len(isi_ripple_hfo_up) + len(isi_ripple_noise_up) = len(ripple_up)\n",
    "print(f\"Length isi_ripple_hfo_up: {len(isi_ripple_hfo_up)}\")\n",
    "print(f\"Length isi_ripple_noise_up: {len(isi_ripple_noise_up)}\")\n",
    "print(f\"Sum: {len(isi_ripple_hfo_up) + len(isi_ripple_noise_up)}\")\n",
    "print(f\"Length ripple_up: {len(ripple_up_spike_train)}\")"
   ]
  },
  {
   "cell_type": "code",
   "execution_count": 13,
   "metadata": {},
   "outputs": [
    {
     "name": "stdout",
     "output_type": "stream",
     "text": [
      "Length isi_ripple_hfo_down: 2044\n",
      "Length isi_ripple_noise_down: 485\n",
      "Sum: 2529\n",
      "Length ripple_down: 2530\n"
     ]
    }
   ],
   "source": [
    "#  Validate that len(isi_ripple_hfo_down) + len(isi_ripple_noise_down) = len(ripple_down)\n",
    "print(f\"Length isi_ripple_hfo_down: {len(isi_ripple_hfo_down)}\")\n",
    "print(f\"Length isi_ripple_noise_down: {len(isi_ripple_noise_down)}\")\n",
    "print(f\"Sum: {len(isi_ripple_hfo_down) + len(isi_ripple_noise_down)}\")\n",
    "print(f\"Length ripple_down: {len(ripple_down_spike_train)}\")"
   ]
  },
  {
   "cell_type": "markdown",
   "metadata": {},
   "source": [
    "## Let's analyze the Fast Ripple Band next"
   ]
  },
  {
   "cell_type": "code",
   "execution_count": 14,
   "metadata": {},
   "outputs": [],
   "source": [
    "isi_fr_hfo_up = []\n",
    "isi_fr_hfo_down = []\n",
    "isi_fr_noise_up = []\n",
    "isi_fr_noise_down = []"
   ]
  },
  {
   "cell_type": "markdown",
   "metadata": {},
   "source": [
    "#### Fast Ripple Band - UP Train"
   ]
  },
  {
   "cell_type": "code",
   "execution_count": 15,
   "metadata": {},
   "outputs": [],
   "source": [
    "# Iterate the FR UP Spike Train\n",
    "curr_fr_gt_idx = 0  # Current index of the fast ripple ground truth\n",
    "prev_spike_time = fr_up_spike_train[0][0]\n",
    "\n",
    "for spike_idx in range(1, len(fr_up_spike_train), 1):\n",
    "    spike_time = fr_up_spike_train[spike_idx][0]\n",
    "    isi = spike_time - prev_spike_time\n",
    "    # print(\"spike_time: \", spike_time, \"prev_spike_time: \", prev_spike_time, \"isi: \", isi)\n",
    "\n",
    "    # Update the previous spike time\n",
    "    prev_spike_time = spike_time\n",
    "\n",
    "    # Check if the current spike time is within the fast ripple ground truth\n",
    "    # Skip the ground truth that is before the current spike time\n",
    "    while curr_fr_gt_idx < len(fr_ground_truth) and spike_time > fr_ground_truth[curr_fr_gt_idx][1] + FR_CONFIDENCE_WINDOW:\n",
    "        curr_fr_gt_idx += 1\n",
    "    \n",
    "    # Check if the current spike time is within the fast ripple ground truth\n",
    "    if curr_fr_gt_idx < len(fr_ground_truth):\n",
    "        curr_gt_start = fr_ground_truth[curr_fr_gt_idx][1]\n",
    "        if spike_time >= curr_gt_start and spike_time <= curr_gt_start + FR_CONFIDENCE_WINDOW:\n",
    "            # The spike is within the fast ripple ground truth\n",
    "            isi_fr_hfo_up.append(isi)\n",
    "\n",
    "            # Go to the next spike\n",
    "            continue\n",
    "    \n",
    "    # The spike is not within the fast ripple ground truth\n",
    "    isi_fr_noise_up.append(isi)"
   ]
  },
  {
   "cell_type": "markdown",
   "metadata": {},
   "source": [
    "#### Fast Ripple Band - DN Train"
   ]
  },
  {
   "cell_type": "code",
   "execution_count": 16,
   "metadata": {},
   "outputs": [],
   "source": [
    "# Iterate the FR UP Spike Train\n",
    "curr_fr_gt_idx = 0  # Current index of the fast ripple ground truth\n",
    "prev_spike_time = fr_down_spike_train[0][0]\n",
    "\n",
    "for spike_idx in range(1, len(fr_down_spike_train), 1):\n",
    "    spike_time = fr_down_spike_train[spike_idx][0]\n",
    "    isi = spike_time - prev_spike_time\n",
    "    # print(\"spike_time: \", spike_time, \"prev_spike_time: \", prev_spike_time, \"isi: \", isi)\n",
    "\n",
    "    # Update the previous spike time\n",
    "    prev_spike_time = spike_time\n",
    "\n",
    "    # Check if the current spike time is within the fast ripple ground truth\n",
    "    # Skip the ground truth that is before the current spike time\n",
    "    while curr_fr_gt_idx < len(fr_ground_truth) and spike_time > fr_ground_truth[curr_fr_gt_idx][1] + FR_CONFIDENCE_WINDOW:\n",
    "        curr_fr_gt_idx += 1\n",
    "    \n",
    "    # Check if the current spike time is within the fast ripple ground truth\n",
    "    if curr_fr_gt_idx < len(fr_ground_truth):\n",
    "        curr_gt_start = fr_ground_truth[curr_fr_gt_idx][1]\n",
    "        if spike_time >= curr_gt_start and spike_time <= curr_gt_start + FR_CONFIDENCE_WINDOW:\n",
    "            # The spike is within the fast ripple ground truth\n",
    "            isi_fr_hfo_down.append(isi)\n",
    "\n",
    "            # Go to the next spike\n",
    "            continue\n",
    "    \n",
    "    # The spike is not within the fast ripple ground truth\n",
    "    isi_fr_noise_down.append(isi)"
   ]
  },
  {
   "cell_type": "markdown",
   "metadata": {},
   "source": [
    "### Validate the number of calculated ISIs\n",
    "Validate that:\n",
    "- `len(isi_fr_hfo_up)` + `len(isi_fr_noise_up)` = `len(fr_up)` - 1 (first spike does not have an ISI)\n",
    "- `len(isi_fr_hfo_down)` + `len(isi_fr_noise_down)` = `len(fr_down)` - 1 (first spike does not have an ISI)"
   ]
  },
  {
   "cell_type": "code",
   "execution_count": 17,
   "metadata": {},
   "outputs": [
    {
     "name": "stdout",
     "output_type": "stream",
     "text": [
      "Length isi_fr_hfo_up: 2336\n",
      "Length isi_fr_noise_up: 1634\n",
      "Sum: 3970\n",
      "Length fr_up: 3971\n"
     ]
    }
   ],
   "source": [
    "#  Validate that len(isi_fr_hfo_up) + len(isi_fr_noise_up) = len(ripple_up)\n",
    "print(f\"Length isi_fr_hfo_up: {len(isi_fr_hfo_up)}\")\n",
    "print(f\"Length isi_fr_noise_up: {len(isi_fr_noise_up)}\")\n",
    "print(f\"Sum: {len(isi_fr_hfo_up) + len(isi_fr_noise_up)}\")\n",
    "print(f\"Length fr_up: {len(fr_up_spike_train)}\")"
   ]
  },
  {
   "cell_type": "code",
   "execution_count": 18,
   "metadata": {},
   "outputs": [
    {
     "name": "stdout",
     "output_type": "stream",
     "text": [
      "Length isi_fr_hfo_down: 2474\n",
      "Length isi_fr_noise_down: 1570\n",
      "Sum: 4044\n",
      "Length fr_down: 4045\n"
     ]
    }
   ],
   "source": [
    "#  Validate that len(isi_fr_hfo_down) + len(isi_fr_noise_down) = len(ripple_down)\n",
    "print(f\"Length isi_fr_hfo_down: {len(isi_fr_hfo_down)}\")\n",
    "print(f\"Length isi_fr_noise_down: {len(isi_fr_noise_down)}\")\n",
    "print(f\"Sum: {len(isi_fr_hfo_down) + len(isi_fr_noise_down)}\")\n",
    "print(f\"Length fr_down: {len(fr_down_spike_train)}\")"
   ]
  },
  {
   "cell_type": "markdown",
   "metadata": {},
   "source": [
    "--- "
   ]
  },
  {
   "cell_type": "markdown",
   "metadata": {},
   "source": [
    "## Calculate metrics of the ISIs and Show the Results"
   ]
  },
  {
   "cell_type": "code",
   "execution_count": 19,
   "metadata": {},
   "outputs": [],
   "source": [
    "# Ripple band ISIs\n",
    "# UP\n",
    "# ---- Relevant Event Metrics ----\n",
    "mean_ripple_hfo_up = np.mean(isi_ripple_hfo_up)\n",
    "median_ripple_hfo_up = np.median(isi_ripple_hfo_up)\n",
    "std_ripple_hfo_up = np.std(isi_ripple_hfo_up)\n",
    "# Calculate the IQR for the ISI in the Ripple Band for the UP spikes during HFO\n",
    "q1_ripple_hfo_up = np.percentile(isi_ripple_hfo_up, 25)\n",
    "q3_ripple_hfo_up = np.percentile(isi_ripple_hfo_up, 75)\n",
    "iqr_ripple_hfo_up = q3_ripple_hfo_up - q1_ripple_hfo_up\n",
    "\n",
    "# ---- Baseline Activity Metrics ----\n",
    "mean_ripple_noise_up = np.mean(isi_ripple_noise_up)\n",
    "median_ripple_noise_up = np.median(isi_ripple_noise_up)\n",
    "std_ripple_noise_up = np.std(isi_ripple_noise_up)\n",
    "# Calculate the IQR for the ISI in the Ripple Band for the UP spikes during Noise\n",
    "q1_ripple_noise_up = np.percentile(isi_ripple_noise_up, 25)\n",
    "q3_ripple_noise_up = np.percentile(isi_ripple_noise_up, 75)\n",
    "iqr_ripple_noise_up = q3_ripple_noise_up - q1_ripple_noise_up\n",
    "\n",
    "# DOWN\n",
    "# ---- Relevant Event Metrics ----\n",
    "mean_ripple_hfo_down = np.mean(isi_ripple_hfo_down)\n",
    "median_ripple_hfo_down = np.median(isi_ripple_hfo_down)\n",
    "std_ripple_hfo_down = np.std(isi_ripple_hfo_down)\n",
    "# Calculate the IQR for the ISI in the Ripple Band for the DOWN spikes during HFO\n",
    "q1_ripple_hfo_down = np.percentile(isi_ripple_hfo_down, 25)\n",
    "q3_ripple_hfo_down = np.percentile(isi_ripple_hfo_down, 75)\n",
    "iqr_ripple_hfo_down = q3_ripple_hfo_down - q1_ripple_hfo_down\n",
    "\n",
    "# ---- Baseline Activity Metrics ----\n",
    "mean_ripple_noise_down = np.mean(isi_ripple_noise_down)\n",
    "median_ripple_noise_down = np.median(isi_ripple_noise_down)\n",
    "std_ripple_noise_down = np.std(isi_ripple_noise_down)\n",
    "# Calculate the IQR for the ISI in the Ripple Band for the DOWN spikes during Noise\n",
    "q1_ripple_noise_down = np.percentile(isi_ripple_noise_down, 25)\n",
    "q3_ripple_noise_down = np.percentile(isi_ripple_noise_down, 75)\n",
    "iqr_ripple_noise_down = q3_ripple_noise_down - q1_ripple_noise_down"
   ]
  },
  {
   "cell_type": "code",
   "execution_count": 20,
   "metadata": {},
   "outputs": [],
   "source": [
    "# Fast Ripple band ISIs\n",
    "# UP\n",
    "# ---- Relevant Event Metrics ----\n",
    "mean_fr_hfo_up = np.mean(isi_fr_hfo_up)\n",
    "median_fr_hfo_up = np.median(isi_fr_hfo_up)\n",
    "std_fr_hfo_up = np.std(isi_fr_hfo_up)\n",
    "# Calculate the IQR for the ISI in the Fast Ripple Band for the UP spikes during HFO\n",
    "q1_fr_hfo_up = np.percentile(isi_fr_hfo_up, 25)\n",
    "q3_fr_hfo_up = np.percentile(isi_fr_hfo_up, 75)\n",
    "iqr_fr_hfo_up = q3_fr_hfo_up - q1_fr_hfo_up\n",
    "\n",
    "# ---- Baseline Activity Metrics ----\n",
    "mean_fr_noise_up = np.mean(isi_fr_noise_up)\n",
    "median_fr_noise_up = np.median(isi_fr_noise_up)\n",
    "std_fr_noise_up = np.std(isi_fr_noise_up)\n",
    "# Calculate the IQR for the ISI in the Fast Ripple Band for the UP spikes during Noise\n",
    "q1_fr_noise_up = np.percentile(isi_fr_noise_up, 25)\n",
    "q3_fr_noise_up = np.percentile(isi_fr_noise_up, 75)\n",
    "iqr_fr_noise_up = q3_fr_noise_up - q1_fr_noise_up\n",
    "\n",
    "# DOWN\n",
    "# ---- Relevant Event Metrics ----\n",
    "mean_fr_hfo_down = np.mean(isi_fr_hfo_down)\n",
    "median_fr_hfo_down = np.median(isi_fr_hfo_down)\n",
    "std_fr_hfo_down = np.std(isi_fr_hfo_down)\n",
    "# Calculate the IQR for the ISI in the Fast Ripple Band for the DOWN spikes during HFO\n",
    "q1_fr_hfo_down = np.percentile(isi_fr_hfo_down, 25)\n",
    "q3_fr_hfo_down = np.percentile(isi_fr_hfo_down, 75)\n",
    "iqr_fr_hfo_down = q3_fr_hfo_down - q1_fr_hfo_down\n",
    "\n",
    "# ---- Baseline Activity Metrics ----\n",
    "mean_fr_noise_down = np.mean(isi_fr_noise_down)\n",
    "median_fr_noise_down = np.median(isi_fr_noise_down)\n",
    "std_fr_noise_down = np.std(isi_fr_noise_down)\n",
    "# Calculate the IQR for the ISI in the Fast Ripple Band for the DOWN spikes during Noise\n",
    "q1_fr_noise_down = np.percentile(isi_fr_noise_down, 25)\n",
    "q3_fr_noise_down = np.percentile(isi_fr_noise_down, 75)\n",
    "iqr_fr_noise_down = q3_fr_noise_down - q1_fr_noise_down"
   ]
  },
  {
   "cell_type": "markdown",
   "metadata": {},
   "source": [
    "### Print the Metrics of the ISIs"
   ]
  },
  {
   "cell_type": "markdown",
   "metadata": {},
   "source": [
    "#### Ripple Band"
   ]
  },
  {
   "cell_type": "code",
   "execution_count": 21,
   "metadata": {},
   "outputs": [
    {
     "name": "stdout",
     "output_type": "stream",
     "text": [
      "Ripple UP\n",
      "HFO ISI (ms)\n",
      "Mean: 26.57403049698795, Median: 1.46484375, STD: 114.40573201043128, IQR: [0.9765625 - 8.7890625]\n",
      "Noise ISI (ms)\n",
      "Mean: 134.37312599946696, Median: 10.7421875, STD: 227.86356398108373, IQR: [0.9765625 - 229.4921875]\n",
      "=================================\n",
      "Ripple DOWN\n",
      "HFO ISI (ms)\n",
      "Mean: 26.362887567270057, Median: 1.46484375, STD: 116.264527680139, IQR: [0.9765625 - 8.7890625]\n",
      "Noise ISI (ms)\n",
      "Mean: 132.5094635953608, Median: 10.7421875, STD: 218.102061220564, IQR: [0.9765625  - 238.28125]\n"
     ]
    }
   ],
   "source": [
    "# Metrics of the ISIs in the Ripple Band\n",
    "print(\"Ripple UP\")\n",
    "print(\"HFO ISI (ms)\")\n",
    "print(f\"Mean: {mean_ripple_hfo_up}, Median: {median_ripple_hfo_up}, STD: {std_ripple_hfo_up}, IQR: [{q1_ripple_hfo_up} - {q3_ripple_hfo_up}]\")\n",
    "print(\"Noise ISI (ms)\")\n",
    "print(f\"Mean: {mean_ripple_noise_up}, Median: {median_ripple_noise_up}, STD: {std_ripple_noise_up}, IQR: [{q1_ripple_noise_up} - {q3_ripple_noise_up}]\")\n",
    "\n",
    "print(\"=================================\")\n",
    "print(\"Ripple DOWN\")\n",
    "print(\"HFO ISI (ms)\")\n",
    "print(f\"Mean: {mean_ripple_hfo_down}, Median: {median_ripple_hfo_down}, STD: {std_ripple_hfo_down}, IQR: [{q1_ripple_hfo_down} - {q3_ripple_hfo_down}]\")\n",
    "print(\"Noise ISI (ms)\")\n",
    "print(f\"Mean: {mean_ripple_noise_down}, Median: {median_ripple_noise_down}, STD: {std_ripple_noise_down}, IQR: [{q1_ripple_noise_down}  - {q3_ripple_noise_down}]\")"
   ]
  },
  {
   "cell_type": "markdown",
   "metadata": {},
   "source": [
    "#### Fast Ripple Band"
   ]
  },
  {
   "cell_type": "code",
   "execution_count": 22,
   "metadata": {},
   "outputs": [
    {
     "name": "stdout",
     "output_type": "stream",
     "text": [
      "FR UP\n",
      "HFO ISI (ms)\n",
      "Mean: 2.677603943707192, Median: 2.44140625, STD: 20.13498106566833, IQR: [0.48828125 - 2.9296875]\n",
      "Noise ISI (ms)\n",
      "Mean: 68.39583173959608, Median: 2.44140625, STD: 170.88806575131488, IQR: [1.953125 - 20.5078125]\n",
      "=================================\n",
      "FR DOWN\n",
      "HFO ISI (ms)\n",
      "Mean: 3.0978425626515764, Median: 2.44140625, STD: 24.13413060017164, IQR: [0.48828125 - 2.9296875]\n",
      "Noise ISI (ms)\n",
      "Mean: 70.28761942675159, Median: 2.44140625, STD: 173.6208426511047, IQR: [1.953125 - 21.8505859375]\n"
     ]
    }
   ],
   "source": [
    "# Metrics of the ISIs in the FR Band\n",
    "print(\"FR UP\")\n",
    "print(\"HFO ISI (ms)\")\n",
    "print(f\"Mean: {mean_fr_hfo_up}, Median: {median_fr_hfo_up}, STD: {std_fr_hfo_up}, IQR: [{q1_fr_hfo_up} - {q3_fr_hfo_up}]\")\n",
    "print(\"Noise ISI (ms)\")\n",
    "print(f\"Mean: {mean_fr_noise_up}, Median: {median_fr_noise_up}, STD: {std_fr_noise_up}, IQR: [{q1_fr_noise_up} - {q3_fr_noise_up}]\")\n",
    "\n",
    "print(\"=================================\")\n",
    "print(\"FR DOWN\")\n",
    "print(\"HFO ISI (ms)\")\n",
    "print(f\"Mean: {mean_fr_hfo_down}, Median: {median_fr_hfo_down}, STD: {std_fr_hfo_down}, IQR: [{q1_fr_hfo_down} - {q3_fr_hfo_down}]\")\n",
    "print(\"Noise ISI (ms)\")\n",
    "print(f\"Mean: {mean_fr_noise_down}, Median: {median_fr_noise_down}, STD: {std_fr_noise_down}, IQR: [{q1_fr_noise_down} - {q3_fr_noise_down}]\")"
   ]
  },
  {
   "cell_type": "markdown",
   "metadata": {},
   "source": [
    "### Display Box Plots with the Inter-Spike Intervals"
   ]
  },
  {
   "cell_type": "markdown",
   "metadata": {},
   "source": [
    "#### Ripple ISIs"
   ]
  },
  {
   "cell_type": "code",
   "execution_count": 23,
   "metadata": {},
   "outputs": [
    {
     "name": "stdout",
     "output_type": "stream",
     "text": [
      "ripple_quantiles:  [0.9765625  1.46484375 8.7890625 ]\n",
      "Ripple IQR:  7.8125\n",
      "ripple_quantiles:  [0.9765625  1.46484375 8.7890625 ]\n",
      "Ripple IQR:  7.8125\n",
      "ripple_quantiles:  [  0.9765625  10.7421875 229.4921875]\n",
      "Ripple IQR:  228.515625\n",
      "ripple_quantiles:  [  0.9765625  10.7421875 238.28125  ]\n",
      "Ripple IQR:  237.3046875\n"
     ]
    }
   ],
   "source": [
    "# Display Box Plots with the Inter-Spike Intervals\n",
    "from utils.bar_plot import create_box_plot\n",
    "import bokeh.plotting as bplt\n",
    "\n",
    "# Ripple Band Box Plot\n",
    "# Define the array of values\n",
    "ripple_isi_list = [isi_ripple_hfo_up, isi_ripple_hfo_down, isi_ripple_noise_up, isi_ripple_noise_down]\n",
    "# Create the BoxPlot\n",
    "ripple_isi_boxplot = create_box_plot(\n",
    "    title=\"Inter-Spike Interval of the UP/DOWN Spike trains in the Ripple Band\", \n",
    "    box_arrays=ripple_isi_list,\n",
    "    y_axis_label='Inter-Spike Interval (ms)',\n",
    "    x_axis_labels=['HFO UP', 'HFO DOWN', 'NOISE UP', 'NOISE DOWN'],\n",
    "    sizing_mode=\"stretch_width\",\n",
    ")\n",
    "# TODO: Add legend on the x-axis\n",
    "\n",
    "show_ripple_isi_barplot = True\n",
    "if show_ripple_isi_barplot:\n",
    "    # Show the plot\n",
    "    bplt.show(ripple_isi_boxplot)"
   ]
  },
  {
   "cell_type": "code",
   "execution_count": 24,
   "metadata": {},
   "outputs": [],
   "source": [
    "# Export the plot to an HTML file\n",
    "EXPORT_RIPPLE_BOXPLOT = True\n",
    "if EXPORT_RIPPLE_BOXPLOT:\n",
    "    # Create the folder if it does not exist\n",
    "    if not os.path.exists(RESULTS_FOLDER):\n",
    "        os.makedirs(RESULTS_FOLDER)\n",
    "\n",
    "    ripple_boxplot_filename = f\"{RESULTS_FOLDER}/ripple_isi_boxplot_thresh{ripple_thresh_up}-{ripple_thresh_down}.html\"\n",
    "\n",
    "    # Customize the output file settings\n",
    "    bplt.output_file(filename=ripple_boxplot_filename, title=\"Inter-Spike Interval of the UP/DOWN Spike trains in the Ripple Band\")\n",
    "\n",
    "    # Save the plot\n",
    "    bplt.save(ripple_isi_boxplot)\n",
    "\n",
    "    # Close the plot\n",
    "    bplt.reset_output()"
   ]
  },
  {
   "cell_type": "markdown",
   "metadata": {},
   "source": [
    "#### Fast Ripple ISIs"
   ]
  },
  {
   "cell_type": "code",
   "execution_count": 25,
   "metadata": {},
   "outputs": [
    {
     "name": "stdout",
     "output_type": "stream",
     "text": [
      "ripple_quantiles:  [0.48828125 2.44140625 2.9296875 ]\n",
      "Ripple IQR:  2.44140625\n",
      "ripple_quantiles:  [0.48828125 2.44140625 2.9296875 ]\n",
      "Ripple IQR:  2.44140625\n",
      "ripple_quantiles:  [ 1.953125    2.44140625 20.5078125 ]\n",
      "Ripple IQR:  18.5546875\n",
      "ripple_quantiles:  [ 1.953125    2.44140625 21.85058594]\n",
      "Ripple IQR:  19.8974609375\n"
     ]
    }
   ],
   "source": [
    "# Display Box Plots with the Inter-Spike Intervals\n",
    "\n",
    "# FR Band Box Plot\n",
    "# Define the array of values\n",
    "fr_isi_list = [isi_fr_hfo_up, isi_fr_hfo_down, isi_fr_noise_up, isi_fr_noise_down]\n",
    "# Create the BoxPlot\n",
    "fr_isi_boxplot = create_box_plot(\n",
    "    title=\"Inter-Spike Interval of the UP/DOWN Spike trains in the Fast Ripple Band\", \n",
    "    box_arrays=fr_isi_list,\n",
    "    y_axis_label='Inter-Spike Interval (ms)',\n",
    "    x_axis_labels=['HFO UP', 'HFO DOWN', 'NOISE UP', 'NOISE DOWN'],\n",
    "    sizing_mode=\"stretch_width\",\n",
    ")\n",
    "# TODO: Add legend on the x-axis\n",
    "\n",
    "show_fr_isi_barplot = True\n",
    "if show_fr_isi_barplot:\n",
    "    # Show the plot\n",
    "    bplt.show(fr_isi_boxplot)"
   ]
  },
  {
   "cell_type": "code",
   "execution_count": 26,
   "metadata": {},
   "outputs": [],
   "source": [
    "# Export the plot to an HTML file\n",
    "EXPORT_FR_PLOT = True\n",
    "if EXPORT_FR_PLOT:\n",
    "    # Create the folder if it does not exist\n",
    "    if not os.path.exists(RESULTS_FOLDER):\n",
    "        os.makedirs(RESULTS_FOLDER)\n",
    "\n",
    "    fr_boxplot_filename = f\"{RESULTS_FOLDER}/fr_isi_boxplot_thresh{fr_thresh_up}-{fr_thresh_down}.html\"\n",
    "\n",
    "    # Customize the output file settings\n",
    "    bplt.output_file(filename=fr_boxplot_filename, title=\"Inter-Spike Interval of the UP/DOWN Spike trains in the Fast Ripple Band\")\n",
    "\n",
    "    # Save the plot\n",
    "    bplt.save(fr_isi_boxplot)\n",
    "\n",
    "    bplt.reset_output()"
   ]
  }
 ],
 "metadata": {
  "kernelspec": {
   "display_name": "Python 3 (ipykernel)",
   "language": "python",
   "name": "python3"
  },
  "language_info": {
   "codemirror_mode": {
    "name": "ipython",
    "version": 3
   },
   "file_extension": ".py",
   "mimetype": "text/x-python",
   "name": "python",
   "nbconvert_exporter": "python",
   "pygments_lexer": "ipython3",
   "version": "3.10.12"
  }
 },
 "nbformat": 4,
 "nbformat_minor": 2
}
