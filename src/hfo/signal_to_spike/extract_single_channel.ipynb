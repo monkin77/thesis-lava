{
 "cells": [
  {
   "cell_type": "markdown",
   "metadata": {},
   "source": [
    "# Notebook that loads a Filtered Signal and Exports it into a format that can be used by the remaining Signal-to-Spike Stages"
   ]
  },
  {
   "cell_type": "markdown",
   "metadata": {},
   "source": [
    "### Check WD (change if necessary) and file loading"
   ]
  },
  {
   "cell_type": "code",
   "execution_count": 418,
   "metadata": {},
   "outputs": [
    {
     "name": "stdout",
     "output_type": "stream",
     "text": [
      "/home/monkin/Desktop/feup/thesis/thesis-lava/src/hfo/signal_to_spike\n"
     ]
    }
   ],
   "source": [
    "# Show current directory\n",
    "import os\n",
    "curr_dir = os.getcwd()\n",
    "print(curr_dir)\n",
    "\n",
    "# Check if the current WD is the file location\n",
    "if \"/src/hfo/signal_to_spike\" not in os.getcwd():\n",
    "    # Set working directory to this file location\n",
    "    file_location = f\"{os.getcwd()}/thesis-lava/src/hfo/signal_to_spike\"\n",
    "    print(\"File Location: \", file_location)\n",
    "\n",
    "    # Change the current working Directory\n",
    "    os.chdir(file_location)\n",
    "\n",
    "    # New Working Directory\n",
    "    print(\"New Working Directory: \", os.getcwd())\n",
    "\n",
    "PATH_TO_FILE = '' # 'src/hfo/'  # This is needed if the WD is not the same as the file location"
   ]
  },
  {
   "cell_type": "markdown",
   "metadata": {},
   "source": [
    "## Extract the channel for the 3 frequency bands"
   ]
  },
  {
   "cell_type": "code",
   "execution_count": 419,
   "metadata": {},
   "outputs": [],
   "source": [
    "from utils.input import RIPPLE_BAND_FILENAME, FR_BAND_FILENAME, BOTH_BAND_FILENAME\n",
    "\n",
    "ripple_file_suffix = f'{RIPPLE_BAND_FILENAME}_band'\n",
    "fr_file_suffix = f'{FR_BAND_FILENAME}_band'\n",
    "hfo_file_suffix = f'{BOTH_BAND_FILENAME}_band'"
   ]
  },
  {
   "cell_type": "code",
   "execution_count": 420,
   "metadata": {},
   "outputs": [],
   "source": [
    "import numpy as np\n",
    "import math\n",
    "from utils.io import preview_np_array\n",
    "\n",
    "IS_CLINICAL = False\n",
    "INPUT_PATH = \"/clinical\" if IS_CLINICAL else \"/synthetic\"\n",
    "INPUT_FILE_NAME = f\"filtered_seeg_ch90-119\"     # \"filtered_seeg_ics_ch30-59\"   # \"filtered_seeg_csl_ch30-59\"   # f\"filtered_seeg_ch210-239\"      # \n",
    "\n",
    "filtered_seeg_path = f\"../filter/results{INPUT_PATH}/{INPUT_FILE_NAME}\"\n",
    "\n",
    "ripple_seeg_filename = f\"{filtered_seeg_path}_{ripple_file_suffix}.npy\"\n",
    "fr_seeg_filename = f\"{filtered_seeg_path}_{fr_file_suffix}.npy\"\n",
    "hfo_seeg_filename = f\"{filtered_seeg_path}_{hfo_file_suffix}.npy\"\n",
    "\n",
    "ripple_data = np.load(f\"{PATH_TO_FILE}{ripple_seeg_filename}\")\n",
    "fr_data = np.load(f\"{PATH_TO_FILE}{fr_seeg_filename}\")\n",
    "hfo_data = np.load(f\"{PATH_TO_FILE}{hfo_seeg_filename}\")"
   ]
  },
  {
   "cell_type": "code",
   "execution_count": 421,
   "metadata": {},
   "outputs": [
    {
     "name": "stdout",
     "output_type": "stream",
     "text": [
      "ripple_data Shape: (245760, 30).\n",
      "Preview: [[ 4.80357903e-07  1.13618054e-08 ... -1.77857978e-06 -1.53852620e-06]\n",
      " [ 6.49123322e-06 -5.36933144e-07 ... -2.49116800e-05 -2.31873463e-05]\n",
      " ...\n",
      " [ 1.28016657e+00  4.40803823e-02 ...  3.79973658e-01 -9.67521623e-01]\n",
      " [ 1.42778692e+00 -6.26220601e-01 ...  4.49039460e-01 -1.48918836e+00]]\n",
      "fr_data Shape: (245760, 30).\n",
      "Preview: [[ 9.29595564e-06  2.19875303e-07 ... -3.44193332e-05 -2.97737816e-05]\n",
      " [ 5.49979186e-05 -1.20612003e-05 ... -2.20610795e-04 -2.22533492e-04]\n",
      " ...\n",
      " [ 1.05273258e-01  5.54415897e-01 ...  5.35277170e-01 -6.37674633e-01]\n",
      " [-4.14363946e-01 -4.94735956e-01 ...  7.11674086e-01 -5.66676671e-01]]\n",
      "hfo_data Shape: (245760, 30).\n",
      "Preview: [[ 4.09480909e-04  9.68536667e-06 ... -1.51614964e-03 -1.31151607e-03]\n",
      " [ 3.39510592e-03 -5.08286241e-04 ... -1.33184926e-02 -1.29171986e-02]\n",
      " ...\n",
      " [-7.64045105e-02 -2.77992521e-01 ...  9.25334506e-01 -1.74874841e+00]\n",
      " [-8.71713443e-02 -4.33051842e-01 ...  1.70951012e+00 -1.87446967e+00]]\n"
     ]
    }
   ],
   "source": [
    "preview_np_array(ripple_data, \"ripple_data\", edge_items=2)\n",
    "\n",
    "preview_np_array(fr_data, \"fr_data\", edge_items=2)\n",
    "\n",
    "preview_np_array(hfo_data, \"hfo_data\", edge_items=2)"
   ]
  },
  {
   "cell_type": "markdown",
   "metadata": {},
   "source": [
    "## Define Global Parameters of the Experiment"
   ]
  },
  {
   "cell_type": "code",
   "execution_count": 422,
   "metadata": {},
   "outputs": [
    {
     "name": "stdout",
     "output_type": "stream",
     "text": [
      "num_samples: 245760, num_channels: 30\n"
     ]
    }
   ],
   "source": [
    "from utils.input import SAMPLING_RATE, X_STEP\n",
    "\n",
    "num_samples = ripple_data.shape[0]    # 2048 * 120 = 245760\n",
    "num_channels = ripple_data.shape[1]   # 960\n",
    "\n",
    "print(f\"num_samples: {num_samples}, num_channels: {num_channels}\")"
   ]
  },
  {
   "cell_type": "markdown",
   "metadata": {},
   "source": [
    "## Define the Channel we want to extract to feed the SNN"
   ]
  },
  {
   "cell_type": "code",
   "execution_count": 423,
   "metadata": {},
   "outputs": [],
   "source": [
    "ch_idx = 5"
   ]
  },
  {
   "cell_type": "markdown",
   "metadata": {},
   "source": [
    "## Fetch the signal for the specified channel"
   ]
  },
  {
   "cell_type": "code",
   "execution_count": 424,
   "metadata": {},
   "outputs": [
    {
     "name": "stdout",
     "output_type": "stream",
     "text": [
      "Ripple sEEG Channel Shape: (245760,).\n",
      "Preview: [ 4.03932046e-06  5.89366126e-05  4.14094388e-04  1.86753797e-03\n",
      "  6.06652167e-03 ... -6.96934261e-01 -7.47039902e-01 -7.38526318e-01\n",
      " -6.11078540e-01 -3.64342973e-01]\n",
      "FR sEEG Channel Shape: (245760,).\n",
      "Preview: [ 7.81695139e-05  5.46696135e-04  1.08279173e-03 -1.40195351e-03\n",
      " -8.90032230e-03 ... -4.42790739e-01 -4.09728636e-01  5.01444239e-01\n",
      "  9.77458407e-01 -4.49385585e-02]\n",
      "HFO sEEG Channel Shape: (245760,).\n",
      "Preview: [ 0.00344332  0.0322592   0.12941021  0.27662443  0.28465375 ...\n",
      "  0.34871041 -1.59826325 -2.93470791 -2.45221796 -1.1562866 ]\n"
     ]
    }
   ],
   "source": [
    "# Extract the seeg_channels in the range [ch_start_idx, ch_end_idx]\n",
    "ripple_seeg_ch = ripple_data[:, ch_idx]\n",
    "fr_seeg_ch = fr_data[:, ch_idx]\n",
    "hfo_seeg_ch = hfo_data[:, ch_idx]\n",
    "\n",
    "preview_np_array(ripple_seeg_ch, \"Ripple sEEG Channel\")\n",
    "preview_np_array(fr_seeg_ch, \"FR sEEG Channel\")\n",
    "preview_np_array(hfo_seeg_ch, \"HFO sEEG Channel\")"
   ]
  },
  {
   "cell_type": "markdown",
   "metadata": {},
   "source": [
    "## Import the Markers (Annotated Events) \n",
    "The markers are stored in a numpy array of shape (num_channels, events):\n",
    "- Each row represents the events of a channel\n",
    "- Each event is composed of the following 3 fields (Label, Position, Shape)"
   ]
  },
  {
   "cell_type": "code",
   "execution_count": 425,
   "metadata": {},
   "outputs": [
    {
     "name": "stdout",
     "output_type": "stream",
     "text": [
      "Markers shape:  (30, 42)\n",
      "First time steps:  [[('Spike',   1000.  , 0.) ('Spike+Fast-Ripple',   4218.75, 0.)\n",
      "  ('Ripple+Fast-Ripple',   6966.8 , 0.)\n",
      "  ('Ripple+Fast-Ripple',   9793.95, 0.)\n",
      "  ('Spike+Ripple+Fast-Ripple',  13189.  , 0.) ...\n",
      "  ('Ripple+Fast-Ripple', 107859.  , 0.) ('Spike+Ripple', 111439.  , 0.)\n",
      "  ('Ripple', 114551.  , 0.) ('Spike+Ripple', 116517.  , 0.)\n",
      "  ('Spike+Ripple', 119000.  , 0.)]\n",
      " [('Spike+Ripple',   1000.  , 0.)\n",
      "  ('Spike+Ripple+Fast-Ripple',   3917.97, 0.)\n",
      "  ('Spike+Fast-Ripple',   6794.92, 0.) ('Fast-Ripple',   9094.73, 0.)\n",
      "  ('Fast-Ripple',  12348.1 , 0.) ... ('Spike+Fast-Ripple', 107697.  , 0.)\n",
      "  ('Fast-Ripple', 111079.  , 0.) ('Spike', 113382.  , 0.)\n",
      "  ('Ripple+Fast-Ripple', 116656.  , 0.) ('Spike+Ripple', 119000.  , 0.)]\n",
      " [('Fast-Ripple',   1000.  , 0.) ('Spike',   3655.76, 0.)\n",
      "  ('Spike',   7188.96, 0.) ('Spike',   9880.37, 0.)\n",
      "  ('Spike+Ripple',  13890.6 , 0.) ...\n",
      "  ('Spike+Fast-Ripple', 107924.  , 0.)\n",
      "  ('Spike+Ripple+Fast-Ripple', 110238.  , 0.)\n",
      "  ('Spike+Ripple+Fast-Ripple', 112797.  , 0.)\n",
      "  ('Fast-Ripple', 115363.  , 0.) ('Spike+Fast-Ripple', 119000.  , 0.)]\n",
      " [('Spike+Ripple+Fast-Ripple',   1000.  , 0.)\n",
      "  ('Spike+Fast-Ripple',   3454.59, 0.)\n",
      "  ('Ripple+Fast-Ripple',   6599.61, 0.) ('Fast-Ripple',   9182.62, 0.)\n",
      "  ('Spike+Ripple+Fast-Ripple',  12129.9 , 0.) ...\n",
      "  ('Ripple+Fast-Ripple', 108521.  , 0.)\n",
      "  ('Ripple+Fast-Ripple', 110662.  , 0.) ('Spike+Ripple', 113249.  , 0.)\n",
      "  ('Spike+Fast-Ripple', 116929.  , 0.) ('Ripple', 119000.  , 0.)]\n",
      " [('Ripple',   1000.  , 0.) ('Spike',   4412.11, 0.)\n",
      "  ('Ripple+Fast-Ripple',   6992.19, 0.)\n",
      "  ('Spike+Ripple+Fast-Ripple',   9307.13, 0.)\n",
      "  ('Spike+Ripple',  11564.  , 0.) ...\n",
      "  ('Spike+Ripple+Fast-Ripple', 108013.  , 0.)\n",
      "  ('Ripple+Fast-Ripple', 110644.  , 0.) ('Spike', 113402.  , 0.)\n",
      "  ('Fast-Ripple', 115506.  , 0.) ('Spike+Ripple', 119000.  , 0.)]\n",
      " [('Spike+Ripple+Fast-Ripple',   1000.  , 0.)\n",
      "  ('Spike+Ripple+Fast-Ripple',   3206.54, 0.) ('Spike',   5755.86, 0.)\n",
      "  ('Ripple',   9064.45, 0.) ('Ripple+Fast-Ripple',  12262.2 , 0.) ...\n",
      "  ('Spike+Fast-Ripple', 108330.  , 0.) ('Fast-Ripple', 110470.  , 0.)\n",
      "  ('Spike+Fast-Ripple', 112796.  , 0.) ('Spike+Ripple', 115960.  , 0.)\n",
      "  ('Ripple', 119000.  , 0.)]\n",
      " [('Fast-Ripple',   1000.  , 0.) ('Spike',   3403.81, 0.)\n",
      "  ('Ripple+Fast-Ripple',   5478.03, 0.)\n",
      "  ('Spike+Ripple+Fast-Ripple',   9184.57, 0.)\n",
      "  ('Spike+Ripple',  11314.  , 0.) ... ('Ripple', 107414.  , 0.)\n",
      "  ('Fast-Ripple', 110437.  , 0.) ('Fast-Ripple', 113259.  , 0.)\n",
      "  ('Ripple', 116601.  , 0.) ('Spike+Ripple+Fast-Ripple', 119000.  , 0.)]\n",
      " [('Spike',   1000.  , 0.) ('Spike+Ripple+Fast-Ripple',   3865.23, 0.)\n",
      "  ('Spike+Fast-Ripple',   6539.06, 0.)\n",
      "  ('Spike+Ripple+Fast-Ripple',   9241.7 , 0.)\n",
      "  ('Ripple+Fast-Ripple',  12742.7 , 0.) ...\n",
      "  ('Spike+Fast-Ripple', 105827.  , 0.) ('Spike+Ripple', 109069.  , 0.)\n",
      "  ('Ripple', 111636.  , 0.) ('Spike', 115284.  , 0.)\n",
      "  ('Spike+Ripple', 119000.  , 0.)]\n",
      " [('Spike+Ripple',   1000.  , 0.) ('Spike',   4505.37, 0.)\n",
      "  ('Fast-Ripple',   7111.82, 0.)\n",
      "  ('Spike+Ripple+Fast-Ripple',  10503.9 , 0.)\n",
      "  ('Fast-Ripple',  13988.3 , 0.) ... ('Spike+Fast-Ripple', 107811.  , 0.)\n",
      "  ('Spike+Ripple', 110458.  , 0.) ('Fast-Ripple', 112738.  , 0.)\n",
      "  ('Spike+Ripple', 116216.  , 0.) ('Spike', 119000.  , 0.)]\n",
      " [('Ripple',   1000.  , 0.) ('Ripple+Fast-Ripple',   4134.77, 0.)\n",
      "  ('Spike+Fast-Ripple',   8088.87, 0.) ('Spike+Ripple',  10218.3 , 0.)\n",
      "  ('Spike+Ripple',  13559.1 , 0.) ...\n",
      "  ('Spike+Ripple+Fast-Ripple', 106886.  , 0.) ('Spike', 109583.  , 0.)\n",
      "  ('Fast-Ripple', 112958.  , 0.) ('Spike', 115918.  , 0.)\n",
      "  ('Ripple', 119000.  , 0.)]]\n"
     ]
    }
   ],
   "source": [
    "markers_seeg_file_name = f\"{filtered_seeg_path}_markers.npy\"\n",
    "markers = np.load(f\"{PATH_TO_FILE}{markers_seeg_file_name}\", allow_pickle=True)\n",
    "\n",
    "print(\"Markers shape: \", markers.shape)\n",
    "print(\"First time steps: \", markers[:10])"
   ]
  },
  {
   "cell_type": "markdown",
   "metadata": {},
   "source": [
    "### Get the markers of the specified channel"
   ]
  },
  {
   "cell_type": "code",
   "execution_count": 428,
   "metadata": {},
   "outputs": [
    {
     "name": "stdout",
     "output_type": "stream",
     "text": [
      "relevant_markers Shape: (42,).\n",
      "Preview: [('Spike+Ripple+Fast-Ripple',   1000.  , 0.)\n",
      " ('Spike+Ripple+Fast-Ripple',   3206.54, 0.) ('Spike',   5755.86, 0.)\n",
      " ('Ripple',   9064.45, 0.) ('Ripple+Fast-Ripple',  12262.2 , 0.)\n",
      " ('Ripple',  14958.  , 0.) ('Spike+Ripple',  18041.5 , 0.)\n",
      " ('Spike+Ripple',  21022.  , 0.) ('Fast-Ripple',  24200.7 , 0.)\n",
      " ('Spike',  26978.  , 0.) ... ('Spike+Fast-Ripple',  92921.9 , 0.)\n",
      " ('Spike+Ripple',  96429.2 , 0.) ('Spike',  99202.1 , 0.)\n",
      " ('Spike+Ripple+Fast-Ripple', 102059.  , 0.) ('Ripple', 105210.  , 0.)\n",
      " ('Spike+Fast-Ripple', 108330.  , 0.) ('Fast-Ripple', 110470.  , 0.)\n",
      " ('Spike+Fast-Ripple', 112796.  , 0.) ('Spike+Ripple', 115960.  , 0.)\n",
      " ('Ripple', 119000.  , 0.)]\n"
     ]
    }
   ],
   "source": [
    "relevant_markers = markers[ch_idx]\n",
    "\n",
    "preview_np_array(relevant_markers, \"relevant_markers\", edge_items=10)"
   ]
  },
  {
   "cell_type": "markdown",
   "metadata": {},
   "source": [
    "## Define the Markers of each Band"
   ]
  },
  {
   "cell_type": "code",
   "execution_count": 426,
   "metadata": {},
   "outputs": [],
   "source": [
    "from utils.input import label_has_fast_ripple, label_has_ripple, label_has_hfo_event\n",
    "\n",
    "ripple_markers = []\n",
    "fr_markers = []\n",
    "hfo_markers = []\n",
    "\n",
    "for marker in relevant_markers:\n",
    "    curr_label = marker['label']\n",
    "    if label_has_ripple(curr_label):\n",
    "        ripple_markers.append(marker)\n",
    "    if label_has_fast_ripple(curr_label):\n",
    "        fr_markers.append(marker)\n",
    "    if label_has_hfo_event(curr_label):\n",
    "        hfo_markers.append(marker)\n",
    "\n",
    "ripple_markers = np.array(ripple_markers)\n",
    "fr_markers = np.array(fr_markers)\n",
    "hfo_markers = np.array(hfo_markers)"
   ]
  },
  {
   "cell_type": "code",
   "execution_count": 427,
   "metadata": {},
   "outputs": [
    {
     "name": "stdout",
     "output_type": "stream",
     "text": [
      "ripple_markers Shape: (7,).\n",
      "Preview: [('Ripple',  4852.539, 0.) ('Ripple',  5303.711, 0.)\n",
      " ('Ripple',  9606.445, 0.) ('Ripple', 32159.18 , 0.)\n",
      " ('Ripple', 34225.586, 0.) ('Ripple', 38057.13 , 0.)\n",
      " ('Ripple', 51099.12 , 0.)]\n",
      "fr_markers Shape: (36,).\n",
      "Preview: [('Fast Ripple',  3478.5156, 0.) ('Fast Ripple',  9820.3125, 0.)\n",
      " ('Fast Ripple', 11166.016 , 0.) ('Fast Ripple', 18351.562 , 0.) ...\n",
      " ('Fast Ripple', 55280.76  , 0.) ('Fast Ripple', 56544.434 , 0.)\n",
      " ('Fast Ripple', 56882.324 , 0.) ('Fast Ripple', 58532.715 , 0.)]\n",
      "hfo_markers Shape: (43,).\n",
      "Preview: [('Fast Ripple',  3478.5156, 0.) ('Ripple',  4852.539 , 0.)\n",
      " ('Ripple',  5303.711 , 0.) ('Ripple',  9606.445 , 0.) ...\n",
      " ('Fast Ripple', 55280.76  , 0.) ('Fast Ripple', 56544.434 , 0.)\n",
      " ('Fast Ripple', 56882.324 , 0.) ('Fast Ripple', 58532.715 , 0.)]\n"
     ]
    }
   ],
   "source": [
    "preview_np_array(ripple_markers, \"ripple_markers\", edge_items=4)\n",
    "preview_np_array(fr_markers, \"fr_markers\", edge_items=4)\n",
    "preview_np_array(hfo_markers, \"hfo_markers\", edge_items=4)"
   ]
  },
  {
   "cell_type": "markdown",
   "metadata": {},
   "source": [
    "## Export the Processed sEEG and respective markers into a `.npy` file"
   ]
  },
  {
   "cell_type": "code",
   "execution_count": 429,
   "metadata": {},
   "outputs": [
    {
     "name": "stdout",
     "output_type": "stream",
     "text": [
      "final_ripple_markers Shape: (1, 7).\n",
      "Preview: [[('Ripple',  4852.539, 0.) ('Ripple',  5303.711, 0.) ...\n",
      "  ('Ripple', 38057.13 , 0.) ('Ripple', 51099.12 , 0.)]]\n",
      "final_fr_markers Shape: (1, 36).\n",
      "Preview: [[('Fast Ripple',  3478.5156, 0.) ('Fast Ripple',  9820.3125, 0.) ...\n",
      "  ('Fast Ripple', 56882.324 , 0.) ('Fast Ripple', 58532.715 , 0.)]]\n",
      "final_hfo_markers Shape: (1, 43).\n",
      "Preview: [[('Fast Ripple',  3478.5156, 0.) ('Ripple',  4852.539 , 0.) ...\n",
      "  ('Fast Ripple', 56882.324 , 0.) ('Fast Ripple', 58532.715 , 0.)]]\n"
     ]
    }
   ],
   "source": [
    "# To keep the same format as the original data, we will add an extra dimension to the final markers\n",
    "final_ripple_markers = np.array([ripple_markers])\n",
    "final_fr_markers = np.array([fr_markers])\n",
    "final_hfo_markers = np.array([hfo_markers])\n",
    "\n",
    "preview_np_array(final_ripple_markers, \"final_ripple_markers\", edge_items=2)\n",
    "preview_np_array(final_fr_markers, \"final_fr_markers\", edge_items=2)\n",
    "preview_np_array(final_hfo_markers, \"final_hfo_markers\", edge_items=2)"
   ]
  },
  {
   "cell_type": "code",
   "execution_count": 430,
   "metadata": {},
   "outputs": [],
   "source": [
    "EXPORT_MARKERS = True\n",
    "\n",
    "# Define the parent folder to store the results\n",
    "OUT_PARENT_FOLDER = f\"input/{INPUT_FILE_NAME}_ch{ch_idx}\"\n",
    "\n",
    "if EXPORT_MARKERS:\n",
    "    # Create the folder to store the results if it does not exist\n",
    "    if not os.path.exists(OUT_PARENT_FOLDER):\n",
    "        os.makedirs(OUT_PARENT_FOLDER)\n",
    "\n",
    "    np.save(f\"{OUT_PARENT_FOLDER}/markers_{RIPPLE_BAND_FILENAME}_band.npy\", final_ripple_markers)   # Save the data to a numpy file (not stored in git due to size)\n",
    "    np.save(f\"{OUT_PARENT_FOLDER}/markers_{FR_BAND_FILENAME}_band.npy\", final_fr_markers)\n",
    "    np.save(f\"{OUT_PARENT_FOLDER}/markers_{BOTH_BAND_FILENAME}_band.npy\", final_hfo_markers)"
   ]
  },
  {
   "cell_type": "code",
   "execution_count": 431,
   "metadata": {},
   "outputs": [
    {
     "name": "stdout",
     "output_type": "stream",
     "text": [
      "Final Signal Shape: (1, 245760).\n",
      "Preview: [[ 4.03932046e-06  5.89366126e-05  4.14094388e-04  1.86753797e-03\n",
      "   6.06652167e-03 ... -6.96934261e-01 -7.47039902e-01 -7.38526318e-01\n",
      "  -6.11078540e-01 -3.64342973e-01]]\n",
      "Final Signal Shape: (1, 245760).\n",
      "Preview: [[ 7.81695139e-05  5.46696135e-04  1.08279173e-03 -1.40195351e-03\n",
      "  -8.90032230e-03 ... -4.42790739e-01 -4.09728636e-01  5.01444239e-01\n",
      "   9.77458407e-01 -4.49385585e-02]]\n",
      "Final Signal Shape: (1, 245760).\n",
      "Preview: [[ 0.00344332  0.0322592   0.12941021  0.27662443  0.28465375 ...\n",
      "   0.34871041 -1.59826325 -2.93470791 -2.45221796 -1.1562866 ]]\n"
     ]
    }
   ],
   "source": [
    "# To keep the same format as the original data, we will add an extra inner dimension to the final signal\n",
    "final_ripple_signal = np.array([ripple_seeg_ch])\n",
    "final_fr_signal = np.array([fr_seeg_ch])\n",
    "final_hfo_signal = np.array([hfo_seeg_ch])\n",
    "\n",
    "preview_np_array(final_ripple_signal, \"Final Signal\")\n",
    "preview_np_array(final_fr_signal, \"Final Signal\")\n",
    "preview_np_array(final_hfo_signal, \"Final Signal\")"
   ]
  },
  {
   "cell_type": "code",
   "execution_count": 432,
   "metadata": {},
   "outputs": [],
   "source": [
    "EXPORT_SIGNAL = True\n",
    "if EXPORT_SIGNAL:\n",
    "    # Create the folder to store the results if it does not exist\n",
    "    if not os.path.exists(OUT_PARENT_FOLDER):\n",
    "        os.makedirs(OUT_PARENT_FOLDER)\n",
    "\n",
    "    np.save(f\"{OUT_PARENT_FOLDER}/{RIPPLE_BAND_FILENAME}_band.npy\", final_ripple_signal)   # Save the data to a numpy file (not stored in git due to size)\n",
    "    np.save(f\"{OUT_PARENT_FOLDER}/{FR_BAND_FILENAME}_band.npy\", final_fr_signal)\n",
    "    np.save(f\"{OUT_PARENT_FOLDER}/{BOTH_BAND_FILENAME}_band.npy\", final_hfo_signal)"
   ]
  }
 ],
 "metadata": {
  "kernelspec": {
   "display_name": "Python 3 (ipykernel)",
   "language": "python",
   "name": "python3"
  },
  "language_info": {
   "codemirror_mode": {
    "name": "ipython",
    "version": 3
   },
   "file_extension": ".py",
   "mimetype": "text/x-python",
   "name": "python",
   "nbconvert_exporter": "python",
   "pygments_lexer": "ipython3",
   "version": "3.10.12"
  }
 },
 "nbformat": 4,
 "nbformat_minor": 2
}
