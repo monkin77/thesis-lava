{
 "cells": [
  {
   "cell_type": "markdown",
   "metadata": {},
   "source": [
    "# Notebook that loads a Filtered Signal and Exports it into a format that can be used by the remaining Signal-to-Spike Stages"
   ]
  },
  {
   "cell_type": "markdown",
   "metadata": {},
   "source": [
    "### Check WD (change if necessary) and file loading"
   ]
  },
  {
   "cell_type": "code",
   "execution_count": 22,
   "metadata": {},
   "outputs": [
    {
     "name": "stdout",
     "output_type": "stream",
     "text": [
      "/home/monkin/Desktop/feup/thesis/thesis-lava/src/hfo/signal_to_spike\n"
     ]
    }
   ],
   "source": [
    "# Show current directory\n",
    "import os\n",
    "curr_dir = os.getcwd()\n",
    "print(curr_dir)\n",
    "\n",
    "# Check if the current WD is the file location\n",
    "if \"/src/hfo/signal_to_spike\" not in os.getcwd():\n",
    "    # Set working directory to this file location\n",
    "    file_location = f\"{os.getcwd()}/thesis-lava/src/hfo/signal_to_spike\"\n",
    "    print(\"File Location: \", file_location)\n",
    "\n",
    "    # Change the current working Directory\n",
    "    os.chdir(file_location)\n",
    "\n",
    "    # New Working Directory\n",
    "    print(\"New Working Directory: \", os.getcwd())\n",
    "\n",
    "PATH_TO_FILE = '' # 'src/hfo/'  # This is needed if the WD is not the same as the file location"
   ]
  },
  {
   "cell_type": "markdown",
   "metadata": {},
   "source": [
    "## Extract the channel for the 3 frequency bands"
   ]
  },
  {
   "cell_type": "code",
   "execution_count": 23,
   "metadata": {},
   "outputs": [],
   "source": [
    "from utils.input import RIPPLE_BAND_FILENAME, FR_BAND_FILENAME, BOTH_BAND_FILENAME\n",
    "\n",
    "ripple_file_suffix = f'{RIPPLE_BAND_FILENAME}_band'\n",
    "fr_file_suffix = f'{FR_BAND_FILENAME}_band'\n",
    "hfo_file_suffix = f'{BOTH_BAND_FILENAME}_band'"
   ]
  },
  {
   "cell_type": "code",
   "execution_count": 24,
   "metadata": {},
   "outputs": [],
   "source": [
    "import numpy as np\n",
    "import math\n",
    "from utils.io import preview_np_array\n",
    "\n",
    "IS_CLINICAL = True\n",
    "INPUT_PATH = \"/clinical\" if IS_CLINICAL else \"/synthetic\"\n",
    "INPUT_FILE_NAME = \"filtered_seeg_csl_ch30-59\"    # f\"filtered_seeg_ch90-119\"\n",
    "\n",
    "filtered_seeg_path = f\"../filter/results{INPUT_PATH}/{INPUT_FILE_NAME}\"\n",
    "\n",
    "ripple_seeg_filename = f\"{filtered_seeg_path}_{ripple_file_suffix}.npy\"\n",
    "fr_seeg_filename = f\"{filtered_seeg_path}_{fr_file_suffix}.npy\"\n",
    "hfo_seeg_filename = f\"{filtered_seeg_path}_{hfo_file_suffix}.npy\"\n",
    "\n",
    "ripple_data = np.load(f\"{PATH_TO_FILE}{ripple_seeg_filename}\")\n",
    "fr_data = np.load(f\"{PATH_TO_FILE}{fr_seeg_filename}\")\n",
    "hfo_data = np.load(f\"{PATH_TO_FILE}{hfo_seeg_filename}\")"
   ]
  },
  {
   "cell_type": "code",
   "execution_count": 25,
   "metadata": {},
   "outputs": [
    {
     "name": "stdout",
     "output_type": "stream",
     "text": [
      "ripple_data Shape: (129239, 30).\n",
      "Preview: [[-8.30193599e-05 -8.93749147e-05 ... -2.82027524e-05  4.44888495e-05]\n",
      " [-1.21216938e-03 -1.30402062e-03 ... -4.13498278e-04  6.50108234e-04]\n",
      " ...\n",
      " [-5.64172868e-01  5.83872137e-01 ...  3.59086578e+00 -2.20422319e+00]\n",
      " [-5.98851221e-01  7.19539413e-01 ...  3.87510043e+00 -2.63788951e+00]]\n",
      "fr_data Shape: (129239, 30).\n",
      "Preview: [[-1.60660266e-03 -1.72959628e-03 ... -5.45783744e-04  8.60954651e-04]\n",
      " [-1.12527184e-02 -1.20958544e-02 ... -3.85575994e-03  6.04031697e-03]\n",
      " ...\n",
      " [ 3.77408302e-01  5.62804334e-01 ... -3.70504660e-01 -1.01931771e+00]\n",
      " [-8.05914205e-01  8.92573648e-01 ... -6.29180359e-01 -7.11263606e-01]]\n",
      "hfo_data Shape: (129239, 30).\n",
      "Preview: [[-0.07076982 -0.07618761 ... -0.02404143  0.0379245 ]\n",
      " [-0.66374743 -0.71375383 ... -0.22694013  0.35613961]\n",
      " ...\n",
      " [ 1.11657756 -0.25260712 ...  2.57734347 -0.13053429]\n",
      " [ 0.5242394  -0.25160076 ...  0.81962739 -0.06098256]]\n"
     ]
    }
   ],
   "source": [
    "preview_np_array(ripple_data, \"ripple_data\", edge_items=2)\n",
    "\n",
    "preview_np_array(fr_data, \"fr_data\", edge_items=2)\n",
    "\n",
    "preview_np_array(hfo_data, \"hfo_data\", edge_items=2)"
   ]
  },
  {
   "cell_type": "markdown",
   "metadata": {},
   "source": [
    "## Define Global Parameters of the Experiment"
   ]
  },
  {
   "cell_type": "code",
   "execution_count": 26,
   "metadata": {},
   "outputs": [
    {
     "name": "stdout",
     "output_type": "stream",
     "text": [
      "num_samples: 129239, num_channels: 30\n"
     ]
    }
   ],
   "source": [
    "from utils.input import SAMPLING_RATE, X_STEP\n",
    "\n",
    "num_samples = ripple_data.shape[0]    # 2048 * 120 = 245760\n",
    "num_channels = ripple_data.shape[1]   # 960\n",
    "\n",
    "print(f\"num_samples: {num_samples}, num_channels: {num_channels}\")"
   ]
  },
  {
   "cell_type": "markdown",
   "metadata": {},
   "source": [
    "## Define the Channel we want to extract to feed the SNN"
   ]
  },
  {
   "cell_type": "code",
   "execution_count": 27,
   "metadata": {},
   "outputs": [],
   "source": [
    "ch_idx = 18"
   ]
  },
  {
   "cell_type": "markdown",
   "metadata": {},
   "source": [
    "## Fetch the signal for the specified channel"
   ]
  },
  {
   "cell_type": "code",
   "execution_count": 28,
   "metadata": {},
   "outputs": [
    {
     "name": "stdout",
     "output_type": "stream",
     "text": [
      "Ripple sEEG Channel Shape: (129239,).\n",
      "Preview: [1.54122064e-04 2.25023101e-03 1.57302684e-02 6.99704806e-02\n",
      " 2.21330698e-01 ... 3.60463454e-01 1.57081503e+00 2.25298186e+00\n",
      " 2.13484011e+00 1.23953240e+00]\n",
      "FR sEEG Channel Shape: (129239,).\n",
      "Preview: [ 0.00298259  0.02088804  0.03974846 -0.06750419 -0.37735773 ...\n",
      "  0.50099735 -0.94221199 -1.50319269 -0.31585847  1.35409742]\n",
      "HFO sEEG Channel Shape: (129239,).\n",
      "Preview: [ 1.31381294e-01  1.23212452e+00  4.87171836e+00  9.78266318e+00\n",
      "  7.26022741e+00 ... -4.49401953e+00 -3.09398113e+00 -1.08183782e+00\n",
      "  1.31395874e-01 -7.54367450e-03]\n"
     ]
    }
   ],
   "source": [
    "# Extract the seeg_channels in the range [ch_start_idx, ch_end_idx]\n",
    "ripple_seeg_ch = ripple_data[:, ch_idx]\n",
    "fr_seeg_ch = fr_data[:, ch_idx]\n",
    "hfo_seeg_ch = hfo_data[:, ch_idx]\n",
    "\n",
    "preview_np_array(ripple_seeg_ch, \"Ripple sEEG Channel\")\n",
    "preview_np_array(fr_seeg_ch, \"FR sEEG Channel\")\n",
    "preview_np_array(hfo_seeg_ch, \"HFO sEEG Channel\")"
   ]
  },
  {
   "cell_type": "markdown",
   "metadata": {},
   "source": [
    "## Import the Markers (Annotated Events) \n",
    "The markers are stored in a numpy array of shape (num_channels, events):\n",
    "- Each row represents the events of a channel\n",
    "- Each event is composed of the following 3 fields (Label, Position, Shape)"
   ]
  },
  {
   "cell_type": "code",
   "execution_count": 29,
   "metadata": {},
   "outputs": [
    {
     "name": "stdout",
     "output_type": "stream",
     "text": [
      "Markers shape:  (30,)\n",
      "First time steps:  [array([('Ripple',   522.9492, 0.), ('Fast Ripple',   523.9258, 0.),\n",
      "        ('Ripple',  2225.586 , 0.), ('Fast Ripple',  2230.957 , 0.),\n",
      "        ('Ripple',  2904.2969, 0.), ..., ('Ripple', 60941.895 , 0.),\n",
      "        ('Fast Ripple', 61286.62  , 0.), ('Ripple', 61297.363 , 0.),\n",
      "        ('Fast Ripple', 62202.637 , 0.), ('Ripple', 62207.52  , 0.)],\n",
      "       dtype=[('label', '<U64'), ('position', '<f4'), ('duration', '<f4')])\n",
      " array([('Ripple',   522.9492, 0.), ('Fast Ripple',   523.9258, 0.),\n",
      "        ('Ripple',  2225.586 , 0.), ('Fast Ripple',  2230.957 , 0.),\n",
      "        ('Ripple',  2904.2969, 0.), ..., ('Ripple', 60941.895 , 0.),\n",
      "        ('Fast Ripple', 61286.62  , 0.), ('Ripple', 61297.363 , 0.),\n",
      "        ('Fast Ripple', 62202.637 , 0.), ('Ripple', 62207.52  , 0.)],\n",
      "       dtype=[('label', '<U64'), ('position', '<f4'), ('duration', '<f4')])\n",
      " array([('Ripple',   522.9492, 0.), ('Ripple',  2225.586 , 0.),\n",
      "        ('Fast Ripple',  2230.957 , 0.), ('Ripple',  2904.2969, 0.),\n",
      "        ('Ripple',  3246.0938, 0.), ..., ('Ripple', 60941.895 , 0.),\n",
      "        ('Fast Ripple', 61286.62  , 0.), ('Ripple', 61297.363 , 0.),\n",
      "        ('Fast Ripple', 62202.637 , 0.), ('Ripple', 62207.52  , 0.)],\n",
      "       dtype=[('label', '<U64'), ('position', '<f4'), ('duration', '<f4')])\n",
      " list([array([],\n",
      "       dtype=[('label', '<U64'), ('position', '<f4'), ('duration', '<f4')])])\n",
      " list([array([],\n",
      "       dtype=[('label', '<U64'), ('position', '<f4'), ('duration', '<f4')])])\n",
      " list([array([],\n",
      "       dtype=[('label', '<U64'), ('position', '<f4'), ('duration', '<f4')])])\n",
      " array([('Fast Ripple',  2230.957 , 0.), ('Ripple',  5731.9336, 0.),\n",
      "        ('Fast Ripple',  7104.9805, 0.), ('Ripple',  7260.254 , 0.),\n",
      "        ('Fast Ripple',  7265.1367, 0.), ..., ('Ripple', 60738.77  , 0.),\n",
      "        ('Ripple', 60941.895 , 0.), ('Fast Ripple', 60944.824 , 0.),\n",
      "        ('Fast Ripple', 62202.637 , 0.), ('Ripple', 62207.52  , 0.)],\n",
      "       dtype=[('label', '<U64'), ('position', '<f4'), ('duration', '<f4')])\n",
      " array([('Fast Ripple',  2230.957 , 0.), ('Ripple',  5731.9336, 0.),\n",
      "        ('Fast Ripple',  7104.9805, 0.), ('Ripple',  7260.254 , 0.),\n",
      "        ('Fast Ripple',  7265.1367, 0.), ..., ('Ripple', 60738.77  , 0.),\n",
      "        ('Ripple', 60941.895 , 0.), ('Fast Ripple', 60944.824 , 0.),\n",
      "        ('Fast Ripple', 62202.637 , 0.), ('Ripple', 62207.52  , 0.)],\n",
      "       dtype=[('label', '<U64'), ('position', '<f4'), ('duration', '<f4')])\n",
      " list([array([],\n",
      "       dtype=[('label', '<U64'), ('position', '<f4'), ('duration', '<f4')])])\n",
      " list([array([],\n",
      "       dtype=[('label', '<U64'), ('position', '<f4'), ('duration', '<f4')])])]\n"
     ]
    }
   ],
   "source": [
    "markers_seeg_file_name = f\"{filtered_seeg_path}_markers.npy\"\n",
    "markers = np.load(f\"{PATH_TO_FILE}{markers_seeg_file_name}\", allow_pickle=True)\n",
    "\n",
    "print(\"Markers shape: \", markers.shape)\n",
    "print(\"First time steps: \", markers[:10])"
   ]
  },
  {
   "cell_type": "markdown",
   "metadata": {},
   "source": [
    "### Get the markers of the specified channel"
   ]
  },
  {
   "cell_type": "code",
   "execution_count": 30,
   "metadata": {},
   "outputs": [
    {
     "name": "stdout",
     "output_type": "stream",
     "text": [
      "relevant_markers Shape: (170,).\n",
      "Preview: [('Ripple',   522.9492, 0.) ('Fast Ripple',   523.9258, 0.)\n",
      " ('Ripple',  2225.586 , 0.) ('Fast Ripple',  2230.957 , 0.)\n",
      " ('Ripple',  2904.2969, 0.) ('Fast Ripple',  2918.457 , 0.)\n",
      " ('Fast Ripple',  3234.8633, 0.) ('Fast Ripple',  3724.121 , 0.)\n",
      " ('Ripple',  4879.3945, 0.) ('Ripple',  5058.1055, 0.) ...\n",
      " ('Ripple', 59344.24  , 0.) ('Ripple', 60533.69  , 0.)\n",
      " ('Ripple', 60738.77  , 0.) ('Fast Ripple', 60741.7   , 0.)\n",
      " ('Ripple', 60941.895 , 0.) ('Fast Ripple', 60944.824 , 0.)\n",
      " ('Ripple', 61297.363 , 0.) ('Fast Ripple', 61308.105 , 0.)\n",
      " ('Fast Ripple', 62202.637 , 0.) ('Ripple', 62207.52  , 0.)]\n"
     ]
    }
   ],
   "source": [
    "relevant_markers = markers[ch_idx]\n",
    "preview_np_array(relevant_markers, \"relevant_markers\", edge_items=10)"
   ]
  },
  {
   "cell_type": "markdown",
   "metadata": {},
   "source": [
    "## Define the Markers of each Band"
   ]
  },
  {
   "cell_type": "code",
   "execution_count": 31,
   "metadata": {},
   "outputs": [],
   "source": [
    "from utils.input import label_has_fast_ripple, label_has_ripple, label_has_hfo_event\n",
    "\n",
    "ripple_markers = []\n",
    "fr_markers = []\n",
    "hfo_markers = []\n",
    "\n",
    "for marker in relevant_markers:\n",
    "    curr_label = marker['label']\n",
    "    if label_has_ripple(curr_label):\n",
    "        ripple_markers.append(marker)\n",
    "    if label_has_fast_ripple(curr_label):\n",
    "        fr_markers.append(marker)\n",
    "    if label_has_hfo_event(curr_label):\n",
    "        hfo_markers.append(marker)\n",
    "\n",
    "ripple_markers = np.array(ripple_markers)\n",
    "fr_markers = np.array(fr_markers)\n",
    "hfo_markers = np.array(hfo_markers)"
   ]
  },
  {
   "cell_type": "code",
   "execution_count": 32,
   "metadata": {},
   "outputs": [
    {
     "name": "stdout",
     "output_type": "stream",
     "text": [
      "ripple_markers Shape: (106,).\n",
      "Preview: [('Ripple',   522.9492, 0.) ('Ripple',  2225.586 , 0.)\n",
      " ('Ripple',  2904.2969, 0.) ('Ripple',  4879.3945, 0.) ...\n",
      " ('Ripple', 60738.77  , 0.) ('Ripple', 60941.895 , 0.)\n",
      " ('Ripple', 61297.363 , 0.) ('Ripple', 62207.52  , 0.)]\n",
      "fr_markers Shape: (64,).\n",
      "Preview: [('Fast Ripple',   523.9258, 0.) ('Fast Ripple',  2230.957 , 0.)\n",
      " ('Fast Ripple',  2918.457 , 0.) ('Fast Ripple',  3234.8633, 0.) ...\n",
      " ('Fast Ripple', 60741.7   , 0.) ('Fast Ripple', 60944.824 , 0.)\n",
      " ('Fast Ripple', 61308.105 , 0.) ('Fast Ripple', 62202.637 , 0.)]\n",
      "hfo_markers Shape: (170,).\n",
      "Preview: [('Ripple',   522.9492, 0.) ('Fast Ripple',   523.9258, 0.)\n",
      " ('Ripple',  2225.586 , 0.) ('Fast Ripple',  2230.957 , 0.) ...\n",
      " ('Ripple', 61297.363 , 0.) ('Fast Ripple', 61308.105 , 0.)\n",
      " ('Fast Ripple', 62202.637 , 0.) ('Ripple', 62207.52  , 0.)]\n"
     ]
    }
   ],
   "source": [
    "preview_np_array(ripple_markers, \"ripple_markers\", edge_items=4)\n",
    "preview_np_array(fr_markers, \"fr_markers\", edge_items=4)\n",
    "preview_np_array(hfo_markers, \"hfo_markers\", edge_items=4)"
   ]
  },
  {
   "cell_type": "markdown",
   "metadata": {},
   "source": [
    "## Export the Processed sEEG and respective markers into a `.npy` file"
   ]
  },
  {
   "cell_type": "code",
   "execution_count": 33,
   "metadata": {},
   "outputs": [
    {
     "name": "stdout",
     "output_type": "stream",
     "text": [
      "final_ripple_markers Shape: (1, 106).\n",
      "Preview: [[('Ripple',   522.9492, 0.) ('Ripple',  2225.586 , 0.) ...\n",
      "  ('Ripple', 61297.363 , 0.) ('Ripple', 62207.52  , 0.)]]\n",
      "final_fr_markers Shape: (1, 64).\n",
      "Preview: [[('Fast Ripple',   523.9258, 0.) ('Fast Ripple',  2230.957 , 0.) ...\n",
      "  ('Fast Ripple', 61308.105 , 0.) ('Fast Ripple', 62202.637 , 0.)]]\n",
      "final_hfo_markers Shape: (1, 170).\n",
      "Preview: [[('Ripple',   522.9492, 0.) ('Fast Ripple',   523.9258, 0.) ...\n",
      "  ('Fast Ripple', 62202.637 , 0.) ('Ripple', 62207.52  , 0.)]]\n"
     ]
    }
   ],
   "source": [
    "# To keep the same format as the original data, we will add an extra dimension to the final markers\n",
    "final_ripple_markers = np.array([ripple_markers])\n",
    "final_fr_markers = np.array([fr_markers])\n",
    "final_hfo_markers = np.array([hfo_markers])\n",
    "\n",
    "preview_np_array(final_ripple_markers, \"final_ripple_markers\", edge_items=2)\n",
    "preview_np_array(final_fr_markers, \"final_fr_markers\", edge_items=2)\n",
    "preview_np_array(final_hfo_markers, \"final_hfo_markers\", edge_items=2)"
   ]
  },
  {
   "cell_type": "code",
   "execution_count": 34,
   "metadata": {},
   "outputs": [],
   "source": [
    "EXPORT_MARKERS = True\n",
    "\n",
    "# Define the parent folder to store the results\n",
    "OUT_PARENT_FOLDER = f\"input/{INPUT_FILE_NAME}_ch{ch_idx}\"\n",
    "\n",
    "if EXPORT_MARKERS:\n",
    "    # Create the folder to store the results if it does not exist\n",
    "    if not os.path.exists(OUT_PARENT_FOLDER):\n",
    "        os.makedirs(OUT_PARENT_FOLDER)\n",
    "\n",
    "    np.save(f\"{OUT_PARENT_FOLDER}/markers_{RIPPLE_BAND_FILENAME}_band.npy\", final_ripple_markers)   # Save the data to a numpy file (not stored in git due to size)\n",
    "    np.save(f\"{OUT_PARENT_FOLDER}/markers_{FR_BAND_FILENAME}_band.npy\", final_fr_markers)\n",
    "    np.save(f\"{OUT_PARENT_FOLDER}/markers_{BOTH_BAND_FILENAME}_band.npy\", final_hfo_markers)"
   ]
  },
  {
   "cell_type": "code",
   "execution_count": 35,
   "metadata": {},
   "outputs": [
    {
     "name": "stdout",
     "output_type": "stream",
     "text": [
      "Final Signal Shape: (1, 129239).\n",
      "Preview: [[1.54122064e-04 2.25023101e-03 1.57302684e-02 6.99704806e-02\n",
      "  2.21330698e-01 ... 3.60463454e-01 1.57081503e+00 2.25298186e+00\n",
      "  2.13484011e+00 1.23953240e+00]]\n",
      "Final Signal Shape: (1, 129239).\n",
      "Preview: [[ 0.00298259  0.02088804  0.03974846 -0.06750419 -0.37735773 ...\n",
      "   0.50099735 -0.94221199 -1.50319269 -0.31585847  1.35409742]]\n",
      "Final Signal Shape: (1, 129239).\n",
      "Preview: [[ 1.31381294e-01  1.23212452e+00  4.87171836e+00  9.78266318e+00\n",
      "   7.26022741e+00 ... -4.49401953e+00 -3.09398113e+00 -1.08183782e+00\n",
      "   1.31395874e-01 -7.54367450e-03]]\n"
     ]
    }
   ],
   "source": [
    "# To keep the same format as the original data, we will add an extra inner dimension to the final signal\n",
    "final_ripple_signal = np.array([ripple_seeg_ch])\n",
    "final_fr_signal = np.array([fr_seeg_ch])\n",
    "final_hfo_signal = np.array([hfo_seeg_ch])\n",
    "\n",
    "preview_np_array(final_ripple_signal, \"Final Signal\")\n",
    "preview_np_array(final_fr_signal, \"Final Signal\")\n",
    "preview_np_array(final_hfo_signal, \"Final Signal\")"
   ]
  },
  {
   "cell_type": "code",
   "execution_count": 36,
   "metadata": {},
   "outputs": [],
   "source": [
    "EXPORT_SIGNAL = True\n",
    "if EXPORT_SIGNAL:\n",
    "    # Create the folder to store the results if it does not exist\n",
    "    if not os.path.exists(OUT_PARENT_FOLDER):\n",
    "        os.makedirs(OUT_PARENT_FOLDER)\n",
    "\n",
    "    np.save(f\"{OUT_PARENT_FOLDER}/{RIPPLE_BAND_FILENAME}_band.npy\", final_ripple_signal)   # Save the data to a numpy file (not stored in git due to size)\n",
    "    np.save(f\"{OUT_PARENT_FOLDER}/{FR_BAND_FILENAME}_band.npy\", final_fr_signal)\n",
    "    np.save(f\"{OUT_PARENT_FOLDER}/{BOTH_BAND_FILENAME}_band.npy\", final_hfo_signal)"
   ]
  }
 ],
 "metadata": {
  "kernelspec": {
   "display_name": "Python 3 (ipykernel)",
   "language": "python",
   "name": "python3"
  },
  "language_info": {
   "codemirror_mode": {
    "name": "ipython",
    "version": 3
   },
   "file_extension": ".py",
   "mimetype": "text/x-python",
   "name": "python",
   "nbconvert_exporter": "python",
   "pygments_lexer": "ipython3",
   "version": "3.10.12"
  }
 },
 "nbformat": 4,
 "nbformat_minor": 2
}
