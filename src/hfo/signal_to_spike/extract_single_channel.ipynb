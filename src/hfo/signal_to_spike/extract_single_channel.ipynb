{
 "cells": [
  {
   "cell_type": "markdown",
   "metadata": {},
   "source": [
    "# Notebook that loads a Filtered Signal and Exports it into a format that can be used by the remaining Signal-to-Spike Stages"
   ]
  },
  {
   "cell_type": "markdown",
   "metadata": {},
   "source": [
    "### Check WD (change if necessary) and file loading"
   ]
  },
  {
   "cell_type": "code",
   "execution_count": 403,
   "metadata": {},
   "outputs": [
    {
     "name": "stdout",
     "output_type": "stream",
     "text": [
      "/home/monkin/Desktop/feup/thesis/thesis-lava/src/hfo/signal_to_spike\n"
     ]
    }
   ],
   "source": [
    "# Show current directory\n",
    "import os\n",
    "curr_dir = os.getcwd()\n",
    "print(curr_dir)\n",
    "\n",
    "# Check if the current WD is the file location\n",
    "if \"/src/hfo/signal_to_spike\" not in os.getcwd():\n",
    "    # Set working directory to this file location\n",
    "    file_location = f\"{os.getcwd()}/thesis-lava/src/hfo/signal_to_spike\"\n",
    "    print(\"File Location: \", file_location)\n",
    "\n",
    "    # Change the current working Directory\n",
    "    os.chdir(file_location)\n",
    "\n",
    "    # New Working Directory\n",
    "    print(\"New Working Directory: \", os.getcwd())\n",
    "\n",
    "PATH_TO_FILE = '' # 'src/hfo/'  # This is needed if the WD is not the same as the file location"
   ]
  },
  {
   "cell_type": "markdown",
   "metadata": {},
   "source": [
    "## Extract the channel for the 3 frequency bands"
   ]
  },
  {
   "cell_type": "code",
   "execution_count": 404,
   "metadata": {},
   "outputs": [],
   "source": [
    "from utils.input import RIPPLE_BAND_FILENAME, FR_BAND_FILENAME, BOTH_BAND_FILENAME\n",
    "\n",
    "ripple_file_suffix = f'{RIPPLE_BAND_FILENAME}_band'\n",
    "fr_file_suffix = f'{FR_BAND_FILENAME}_band'\n",
    "hfo_file_suffix = f'{BOTH_BAND_FILENAME}_band'"
   ]
  },
  {
   "cell_type": "code",
   "execution_count": 405,
   "metadata": {},
   "outputs": [],
   "source": [
    "import numpy as np\n",
    "import math\n",
    "from utils.io import preview_np_array\n",
    "\n",
    "IS_CLINICAL = True\n",
    "INPUT_PATH = \"/clinical\" if IS_CLINICAL else \"/synthetic\"\n",
    "INPUT_FILE_NAME = \"filtered_seeg_ics_ch30-59\"   # \"filtered_seeg_csl_ch30-59\"   # f\"filtered_seeg_ch210-239\"    # f\"filtered_seeg_ch90-119\"     # \n",
    "\n",
    "filtered_seeg_path = f\"../filter/results{INPUT_PATH}/{INPUT_FILE_NAME}\"\n",
    "\n",
    "ripple_seeg_filename = f\"{filtered_seeg_path}_{ripple_file_suffix}.npy\"\n",
    "fr_seeg_filename = f\"{filtered_seeg_path}_{fr_file_suffix}.npy\"\n",
    "hfo_seeg_filename = f\"{filtered_seeg_path}_{hfo_file_suffix}.npy\"\n",
    "\n",
    "ripple_data = np.load(f\"{PATH_TO_FILE}{ripple_seeg_filename}\")\n",
    "fr_data = np.load(f\"{PATH_TO_FILE}{fr_seeg_filename}\")\n",
    "hfo_data = np.load(f\"{PATH_TO_FILE}{hfo_seeg_filename}\")"
   ]
  },
  {
   "cell_type": "code",
   "execution_count": 406,
   "metadata": {},
   "outputs": [
    {
     "name": "stdout",
     "output_type": "stream",
     "text": [
      "ripple_data Shape: (125056, 30).\n",
      "Preview: [[-3.45583186e-05 -7.22943633e-05 ... -2.10924785e-04  2.39127537e-04]\n",
      " [-5.05349660e-04 -1.05106314e-03 ... -3.07229283e-03  3.48499665e-03]\n",
      " ...\n",
      " [ 1.20587999e+00 -6.45394297e-01 ... -2.85881185e-01  3.25530382e+00]\n",
      " [ 5.39099496e-01 -5.29644202e-01 ... -8.25277516e-01  3.60921031e+00]]\n",
      "fr_data Shape: (125056, 30).\n",
      "Preview: [[-6.68777581e-04 -1.39905098e-03 ... -4.08184695e-03  4.62763070e-03]\n",
      " [-4.69889710e-03 -9.71173697e-03 ... -2.84456680e-02  3.22860535e-02]\n",
      " ...\n",
      " [ 8.15717077e-01 -4.35934484e-01 ...  3.14394276e-01 -9.11249438e-01]\n",
      " [-7.03969363e-01 -3.12499050e-01 ...  4.60469373e-01  9.18939256e-01]]\n",
      "hfo_data Shape: (125056, 30).\n",
      "Preview: [[-0.02945923 -0.0616273  ... -0.17980275  0.20384418]\n",
      " [-0.2769466  -0.57415547 ... -1.68002993  1.90629282]\n",
      " ...\n",
      " [-0.45465793  0.52715916 ... -0.93174099  1.92176336]\n",
      " [ 0.31837213  0.01130678 ...  0.29668694  2.4572324 ]]\n"
     ]
    }
   ],
   "source": [
    "preview_np_array(ripple_data, \"ripple_data\", edge_items=2)\n",
    "\n",
    "preview_np_array(fr_data, \"fr_data\", edge_items=2)\n",
    "\n",
    "preview_np_array(hfo_data, \"hfo_data\", edge_items=2)"
   ]
  },
  {
   "cell_type": "markdown",
   "metadata": {},
   "source": [
    "## Define Global Parameters of the Experiment"
   ]
  },
  {
   "cell_type": "code",
   "execution_count": 407,
   "metadata": {},
   "outputs": [
    {
     "name": "stdout",
     "output_type": "stream",
     "text": [
      "num_samples: 125056, num_channels: 30\n"
     ]
    }
   ],
   "source": [
    "from utils.input import SAMPLING_RATE, X_STEP\n",
    "\n",
    "num_samples = ripple_data.shape[0]    # 2048 * 120 = 245760\n",
    "num_channels = ripple_data.shape[1]   # 960\n",
    "\n",
    "print(f\"num_samples: {num_samples}, num_channels: {num_channels}\")"
   ]
  },
  {
   "cell_type": "markdown",
   "metadata": {},
   "source": [
    "## Define the Channel we want to extract to feed the SNN"
   ]
  },
  {
   "cell_type": "code",
   "execution_count": 408,
   "metadata": {},
   "outputs": [],
   "source": [
    "ch_idx = 26"
   ]
  },
  {
   "cell_type": "markdown",
   "metadata": {},
   "source": [
    "## Fetch the signal for the specified channel"
   ]
  },
  {
   "cell_type": "code",
   "execution_count": 409,
   "metadata": {},
   "outputs": [
    {
     "name": "stdout",
     "output_type": "stream",
     "text": [
      "Ripple sEEG Channel Shape: (125056,).\n",
      "Preview: [ 1.01688786e-04  1.48312419e-03  1.03505373e-02  4.59330006e-02\n",
      "  1.44846460e-01 ...  2.79686384e+00  2.08877449e+00  1.23923651e+00\n",
      "  3.91468362e-01 -3.35923047e-01]\n",
      "FR sEEG Channel Shape: (125056,).\n",
      "Preview: [ 0.0019679   0.01375153  0.02591011 -0.04557574 -0.24900832 ...\n",
      "  0.40517923  0.04589511 -0.25397784 -0.85574955 -1.15821117]\n",
      "HFO sEEG Channel Shape: (125056,).\n",
      "Preview: [ 0.08668457  0.81161464  3.1972572   6.36634517  4.56066843 ...\n",
      "  1.46877805 -0.37909596 -0.66129324 -0.28660881 -0.62609222]\n"
     ]
    }
   ],
   "source": [
    "# Extract the seeg_channels in the range [ch_start_idx, ch_end_idx]\n",
    "ripple_seeg_ch = ripple_data[:, ch_idx]\n",
    "fr_seeg_ch = fr_data[:, ch_idx]\n",
    "hfo_seeg_ch = hfo_data[:, ch_idx]\n",
    "\n",
    "preview_np_array(ripple_seeg_ch, \"Ripple sEEG Channel\")\n",
    "preview_np_array(fr_seeg_ch, \"FR sEEG Channel\")\n",
    "preview_np_array(hfo_seeg_ch, \"HFO sEEG Channel\")"
   ]
  },
  {
   "cell_type": "markdown",
   "metadata": {},
   "source": [
    "## Import the Markers (Annotated Events) \n",
    "The markers are stored in a numpy array of shape (num_channels, events):\n",
    "- Each row represents the events of a channel\n",
    "- Each event is composed of the following 3 fields (Label, Position, Shape)"
   ]
  },
  {
   "cell_type": "code",
   "execution_count": 410,
   "metadata": {},
   "outputs": [
    {
     "name": "stdout",
     "output_type": "stream",
     "text": [
      "Markers shape:  (30,)\n",
      "First time steps:  [array([('Ripple',  2598.6328, 0.), ('Ripple', 32159.18  , 0.),\n",
      "        ('Ripple', 35217.773 , 0.), ('Ripple', 49569.824 , 0.)],\n",
      "       dtype=[('label', '<U64'), ('position', '<f4'), ('duration', '<f4')])\n",
      " array([('Ripple',  2598.6328, 0.), ('Ripple', 32159.18  , 0.),\n",
      "        ('Ripple', 35217.773 , 0.), ('Ripple', 49569.824 , 0.)],\n",
      "       dtype=[('label', '<U64'), ('position', '<f4'), ('duration', '<f4')])\n",
      " array([('Ripple',  2598.6328, 0.), ('Ripple', 32159.18  , 0.),\n",
      "        ('Ripple', 35217.773 , 0.)],\n",
      "       dtype=[('label', '<U64'), ('position', '<f4'), ('duration', '<f4')])\n",
      " list([array([],\n",
      "       dtype=[('label', '<U64'), ('position', '<f4'), ('duration', '<f4')])])\n",
      " list([array([],\n",
      "       dtype=[('label', '<U64'), ('position', '<f4'), ('duration', '<f4')])])\n",
      " list([array([],\n",
      "       dtype=[('label', '<U64'), ('position', '<f4'), ('duration', '<f4')])])\n",
      " list([array([],\n",
      "       dtype=[('label', '<U64'), ('position', '<f4'), ('duration', '<f4')])])\n",
      " array([('Ripple', 11208.008, 0.), ('Ripple', 15050.293, 0.),\n",
      "        ('Ripple', 23245.605, 0.), ('Ripple', 24862.793, 0.),\n",
      "        ('Ripple', 32125.977, 0.), ('Fast Ripple', 49558.105, 0.),\n",
      "        ('Ripple', 49569.824, 0.), ('Ripple', 60107.91 , 0.)],\n",
      "       dtype=[('label', '<U64'), ('position', '<f4'), ('duration', '<f4')])\n",
      " array([('Ripple', 11208.008, 0.), ('Ripple', 15050.293, 0.),\n",
      "        ('Ripple', 23245.605, 0.), ('Ripple', 24862.793, 0.),\n",
      "        ('Ripple', 32125.977, 0.), ('Fast Ripple', 49558.105, 0.),\n",
      "        ('Ripple', 49569.824, 0.), ('Ripple', 60107.91 , 0.)],\n",
      "       dtype=[('label', '<U64'), ('position', '<f4'), ('duration', '<f4')])\n",
      " array([('Ripple', 11208.008, 0.), ('Ripple', 15050.293, 0.),\n",
      "        ('Ripple', 23245.605, 0.), ('Ripple', 24862.793, 0.),\n",
      "        ('Ripple', 32125.977, 0.), ('Fast Ripple', 49558.105, 0.),\n",
      "        ('Ripple', 49569.824, 0.), ('Ripple', 60107.91 , 0.)],\n",
      "       dtype=[('label', '<U64'), ('position', '<f4'), ('duration', '<f4')])]\n"
     ]
    }
   ],
   "source": [
    "markers_seeg_file_name = f\"{filtered_seeg_path}_markers.npy\"\n",
    "markers = np.load(f\"{PATH_TO_FILE}{markers_seeg_file_name}\", allow_pickle=True)\n",
    "\n",
    "print(\"Markers shape: \", markers.shape)\n",
    "print(\"First time steps: \", markers[:10])"
   ]
  },
  {
   "cell_type": "markdown",
   "metadata": {},
   "source": [
    "### Get the markers of the specified channel"
   ]
  },
  {
   "cell_type": "code",
   "execution_count": 411,
   "metadata": {},
   "outputs": [
    {
     "name": "stdout",
     "output_type": "stream",
     "text": [
      "relevant_markers Shape: (43,).\n",
      "Preview: [('Fast Ripple',  3478.5156, 0.) ('Ripple',  4852.539 , 0.)\n",
      " ('Ripple',  5303.711 , 0.) ('Ripple',  9606.445 , 0.)\n",
      " ('Fast Ripple',  9820.3125, 0.) ('Fast Ripple', 11166.016 , 0.)\n",
      " ('Fast Ripple', 18351.562 , 0.) ('Fast Ripple', 18539.062 , 0.)\n",
      " ('Fast Ripple', 23125.488 , 0.) ('Fast Ripple', 24826.66  , 0.) ...\n",
      " ('Fast Ripple', 50780.76  , 0.) ('Ripple', 51099.12  , 0.)\n",
      " ('Fast Ripple', 51099.12  , 0.) ('Fast Ripple', 51583.496 , 0.)\n",
      " ('Fast Ripple', 53103.027 , 0.) ('Fast Ripple', 53792.48  , 0.)\n",
      " ('Fast Ripple', 55280.76  , 0.) ('Fast Ripple', 56544.434 , 0.)\n",
      " ('Fast Ripple', 56882.324 , 0.) ('Fast Ripple', 58532.715 , 0.)]\n"
     ]
    }
   ],
   "source": [
    "relevant_markers = markers[ch_idx]\n",
    "\n",
    "preview_np_array(relevant_markers, \"relevant_markers\", edge_items=10)"
   ]
  },
  {
   "cell_type": "markdown",
   "metadata": {},
   "source": [
    "## Define the Markers of each Band"
   ]
  },
  {
   "cell_type": "code",
   "execution_count": 412,
   "metadata": {},
   "outputs": [],
   "source": [
    "from utils.input import label_has_fast_ripple, label_has_ripple, label_has_hfo_event\n",
    "\n",
    "ripple_markers = []\n",
    "fr_markers = []\n",
    "hfo_markers = []\n",
    "\n",
    "for marker in relevant_markers:\n",
    "    curr_label = marker['label']\n",
    "    if label_has_ripple(curr_label):\n",
    "        ripple_markers.append(marker)\n",
    "    if label_has_fast_ripple(curr_label):\n",
    "        fr_markers.append(marker)\n",
    "    if label_has_hfo_event(curr_label):\n",
    "        hfo_markers.append(marker)\n",
    "\n",
    "ripple_markers = np.array(ripple_markers)\n",
    "fr_markers = np.array(fr_markers)\n",
    "hfo_markers = np.array(hfo_markers)"
   ]
  },
  {
   "cell_type": "code",
   "execution_count": 413,
   "metadata": {},
   "outputs": [
    {
     "name": "stdout",
     "output_type": "stream",
     "text": [
      "ripple_markers Shape: (7,).\n",
      "Preview: [('Ripple',  4852.539, 0.) ('Ripple',  5303.711, 0.)\n",
      " ('Ripple',  9606.445, 0.) ('Ripple', 32159.18 , 0.)\n",
      " ('Ripple', 34225.586, 0.) ('Ripple', 38057.13 , 0.)\n",
      " ('Ripple', 51099.12 , 0.)]\n",
      "fr_markers Shape: (36,).\n",
      "Preview: [('Fast Ripple',  3478.5156, 0.) ('Fast Ripple',  9820.3125, 0.)\n",
      " ('Fast Ripple', 11166.016 , 0.) ('Fast Ripple', 18351.562 , 0.) ...\n",
      " ('Fast Ripple', 55280.76  , 0.) ('Fast Ripple', 56544.434 , 0.)\n",
      " ('Fast Ripple', 56882.324 , 0.) ('Fast Ripple', 58532.715 , 0.)]\n",
      "hfo_markers Shape: (43,).\n",
      "Preview: [('Fast Ripple',  3478.5156, 0.) ('Ripple',  4852.539 , 0.)\n",
      " ('Ripple',  5303.711 , 0.) ('Ripple',  9606.445 , 0.) ...\n",
      " ('Fast Ripple', 55280.76  , 0.) ('Fast Ripple', 56544.434 , 0.)\n",
      " ('Fast Ripple', 56882.324 , 0.) ('Fast Ripple', 58532.715 , 0.)]\n"
     ]
    }
   ],
   "source": [
    "preview_np_array(ripple_markers, \"ripple_markers\", edge_items=4)\n",
    "preview_np_array(fr_markers, \"fr_markers\", edge_items=4)\n",
    "preview_np_array(hfo_markers, \"hfo_markers\", edge_items=4)"
   ]
  },
  {
   "cell_type": "markdown",
   "metadata": {},
   "source": [
    "## Export the Processed sEEG and respective markers into a `.npy` file"
   ]
  },
  {
   "cell_type": "code",
   "execution_count": 414,
   "metadata": {},
   "outputs": [
    {
     "name": "stdout",
     "output_type": "stream",
     "text": [
      "final_ripple_markers Shape: (1, 7).\n",
      "Preview: [[('Ripple',  4852.539, 0.) ('Ripple',  5303.711, 0.) ...\n",
      "  ('Ripple', 38057.13 , 0.) ('Ripple', 51099.12 , 0.)]]\n",
      "final_fr_markers Shape: (1, 36).\n",
      "Preview: [[('Fast Ripple',  3478.5156, 0.) ('Fast Ripple',  9820.3125, 0.) ...\n",
      "  ('Fast Ripple', 56882.324 , 0.) ('Fast Ripple', 58532.715 , 0.)]]\n",
      "final_hfo_markers Shape: (1, 43).\n",
      "Preview: [[('Fast Ripple',  3478.5156, 0.) ('Ripple',  4852.539 , 0.) ...\n",
      "  ('Fast Ripple', 56882.324 , 0.) ('Fast Ripple', 58532.715 , 0.)]]\n"
     ]
    }
   ],
   "source": [
    "# To keep the same format as the original data, we will add an extra dimension to the final markers\n",
    "final_ripple_markers = np.array([ripple_markers])\n",
    "final_fr_markers = np.array([fr_markers])\n",
    "final_hfo_markers = np.array([hfo_markers])\n",
    "\n",
    "preview_np_array(final_ripple_markers, \"final_ripple_markers\", edge_items=2)\n",
    "preview_np_array(final_fr_markers, \"final_fr_markers\", edge_items=2)\n",
    "preview_np_array(final_hfo_markers, \"final_hfo_markers\", edge_items=2)"
   ]
  },
  {
   "cell_type": "code",
   "execution_count": 415,
   "metadata": {},
   "outputs": [],
   "source": [
    "EXPORT_MARKERS = True\n",
    "\n",
    "# Define the parent folder to store the results\n",
    "OUT_PARENT_FOLDER = f\"input/{INPUT_FILE_NAME}_ch{ch_idx}\"\n",
    "\n",
    "if EXPORT_MARKERS:\n",
    "    # Create the folder to store the results if it does not exist\n",
    "    if not os.path.exists(OUT_PARENT_FOLDER):\n",
    "        os.makedirs(OUT_PARENT_FOLDER)\n",
    "\n",
    "    np.save(f\"{OUT_PARENT_FOLDER}/markers_{RIPPLE_BAND_FILENAME}_band.npy\", final_ripple_markers)   # Save the data to a numpy file (not stored in git due to size)\n",
    "    np.save(f\"{OUT_PARENT_FOLDER}/markers_{FR_BAND_FILENAME}_band.npy\", final_fr_markers)\n",
    "    np.save(f\"{OUT_PARENT_FOLDER}/markers_{BOTH_BAND_FILENAME}_band.npy\", final_hfo_markers)"
   ]
  },
  {
   "cell_type": "code",
   "execution_count": 416,
   "metadata": {},
   "outputs": [
    {
     "name": "stdout",
     "output_type": "stream",
     "text": [
      "Final Signal Shape: (1, 125056).\n",
      "Preview: [[ 1.01688786e-04  1.48312419e-03  1.03505373e-02  4.59330006e-02\n",
      "   1.44846460e-01 ...  2.79686384e+00  2.08877449e+00  1.23923651e+00\n",
      "   3.91468362e-01 -3.35923047e-01]]\n",
      "Final Signal Shape: (1, 125056).\n",
      "Preview: [[ 0.0019679   0.01375153  0.02591011 -0.04557574 -0.24900832 ...\n",
      "   0.40517923  0.04589511 -0.25397784 -0.85574955 -1.15821117]]\n",
      "Final Signal Shape: (1, 125056).\n",
      "Preview: [[ 0.08668457  0.81161464  3.1972572   6.36634517  4.56066843 ...\n",
      "   1.46877805 -0.37909596 -0.66129324 -0.28660881 -0.62609222]]\n"
     ]
    }
   ],
   "source": [
    "# To keep the same format as the original data, we will add an extra inner dimension to the final signal\n",
    "final_ripple_signal = np.array([ripple_seeg_ch])\n",
    "final_fr_signal = np.array([fr_seeg_ch])\n",
    "final_hfo_signal = np.array([hfo_seeg_ch])\n",
    "\n",
    "preview_np_array(final_ripple_signal, \"Final Signal\")\n",
    "preview_np_array(final_fr_signal, \"Final Signal\")\n",
    "preview_np_array(final_hfo_signal, \"Final Signal\")"
   ]
  },
  {
   "cell_type": "code",
   "execution_count": 417,
   "metadata": {},
   "outputs": [],
   "source": [
    "EXPORT_SIGNAL = True\n",
    "if EXPORT_SIGNAL:\n",
    "    # Create the folder to store the results if it does not exist\n",
    "    if not os.path.exists(OUT_PARENT_FOLDER):\n",
    "        os.makedirs(OUT_PARENT_FOLDER)\n",
    "\n",
    "    np.save(f\"{OUT_PARENT_FOLDER}/{RIPPLE_BAND_FILENAME}_band.npy\", final_ripple_signal)   # Save the data to a numpy file (not stored in git due to size)\n",
    "    np.save(f\"{OUT_PARENT_FOLDER}/{FR_BAND_FILENAME}_band.npy\", final_fr_signal)\n",
    "    np.save(f\"{OUT_PARENT_FOLDER}/{BOTH_BAND_FILENAME}_band.npy\", final_hfo_signal)"
   ]
  }
 ],
 "metadata": {
  "kernelspec": {
   "display_name": "Python 3 (ipykernel)",
   "language": "python",
   "name": "python3"
  },
  "language_info": {
   "codemirror_mode": {
    "name": "ipython",
    "version": 3
   },
   "file_extension": ".py",
   "mimetype": "text/x-python",
   "name": "python",
   "nbconvert_exporter": "python",
   "pygments_lexer": "ipython3",
   "version": "3.10.12"
  }
 },
 "nbformat": 4,
 "nbformat_minor": 2
}
