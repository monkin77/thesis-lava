{
 "cells": [
  {
   "cell_type": "markdown",
   "metadata": {},
   "source": [
    "# **Signal To Spike Conversion** - Baseline Detection\n",
    "This notebook presents the **baseline detection** step that needs to be conducted before doing the signal-to-spike conversion.\n",
    "\n",
    "The signal-to-spike conversion requires the definition of the `up_threshold` and `down_threshold` values that will be used to translate the continuous signal into discrete events. Here, we follow the approach proposed by Indiveri's team to define these thresholds. Which is composed of the following steps:\n",
    "1. Select a time window of the signal representative of the whole signal.\n",
    "   - The source work used a 1s window.\n",
    "   - We will test different window sizes.\n",
    "2. Store the maximum signal amplitudes of consecutive non-overlapping time sub-windows of a defined size.\n",
    "3. Take the mean of the lowest quartile as the baseline amplitude (or other metric)\n",
    "   - Check why we are using the lowest quartile.    "
   ]
  },
  {
   "cell_type": "markdown",
   "metadata": {},
   "source": [
    "### Check WD (change if necessary) and file loading"
   ]
  },
  {
   "cell_type": "code",
   "execution_count": 1,
   "metadata": {},
   "outputs": [
    {
     "name": "stdout",
     "output_type": "stream",
     "text": [
      "/home/monkin/Desktop/feup/thesis\n",
      "File Location:  /home/monkin/Desktop/feup/thesis/thesis-lava/src/hfo/signal_to_spike\n",
      "New Working Directory:  /home/monkin/Desktop/feup/thesis/thesis-lava/src/hfo/signal_to_spike\n"
     ]
    }
   ],
   "source": [
    "# Show current directory\n",
    "import os\n",
    "curr_dir = os.getcwd()\n",
    "print(curr_dir)\n",
    "\n",
    "# Check if the current WD is the file location\n",
    "if \"/src/hfo/signal_to_spike\" not in os.getcwd():\n",
    "    # Set working directory to this file location\n",
    "    file_location = f\"{os.getcwd()}/thesis-lava/src/hfo/signal_to_spike\"\n",
    "    print(\"File Location: \", file_location)\n",
    "\n",
    "    # Change the current working Directory\n",
    "    os.chdir(file_location)\n",
    "\n",
    "    # New Working Directory\n",
    "    print(\"New Working Directory: \", os.getcwd())"
   ]
  },
  {
   "cell_type": "markdown",
   "metadata": {},
   "source": [
    "## Let's first load the filtered Subset SEEG signal\n",
    "This notebook only converts 1 SEEG channel to spikes. Therefore, the `.npy` file must contain a single channel."
   ]
  },
  {
   "cell_type": "markdown",
   "metadata": {},
   "source": [
    "### Declare the `INPUT_FOLDER` and `RESULTS_FOLDER`"
   ]
  },
  {
   "cell_type": "code",
   "execution_count": 2,
   "metadata": {},
   "outputs": [],
   "source": [
    "# CAREFUL WITH THIS FOLDER TO NOT OVERWRITE THE FILES\n",
    "DATASET_FILENAME = \"seeg_filtered_subset_90-119_segment500_200\"\n",
    "INPUT_FOLDER = f\"../subset/results/{DATASET_FILENAME}\"\n",
    "RESULTS_FOLDER = \"baseline_results\""
   ]
  },
  {
   "cell_type": "markdown",
   "metadata": {},
   "source": [
    "### Load the Ripple, Fast Ripple, and Annotated Events"
   ]
  },
  {
   "cell_type": "code",
   "execution_count": 3,
   "metadata": {},
   "outputs": [
    {
     "name": "stdout",
     "output_type": "stream",
     "text": [
      "Ripple Band SEEG Shape: (245760,).\n",
      "Preview: [ 1.92911688e-06  2.64027885e-05  1.68256904e-04 ... -9.10608435e-01\n",
      " -6.95654667e-01 -4.24182186e-01]\n"
     ]
    }
   ],
   "source": [
    "import numpy as np\n",
    "import math\n",
    "from utils.io import preview_np_array\n",
    "from utils.input import RIPPLE_BAND_FILENAME, FR_BAND_FILENAME, BOTH_BAND_FILENAME\n",
    "\n",
    "# Load the filtered seeg signal in the ripple band\n",
    "ripple_seeg_file_name = f\"{INPUT_FOLDER}/{RIPPLE_BAND_FILENAME}_band.npy\"\n",
    "ripple_band_seeg = np.load(f\"{ripple_seeg_file_name}\")\n",
    "\n",
    "# Remove the extra inner dimension\n",
    "ripple_band_seeg = np.squeeze(ripple_band_seeg)\n",
    "\n",
    "preview_np_array(ripple_band_seeg, \"Ripple Band SEEG\", edge_items=3)"
   ]
  },
  {
   "cell_type": "code",
   "execution_count": 4,
   "metadata": {},
   "outputs": [
    {
     "name": "stdout",
     "output_type": "stream",
     "text": [
      "FR Band SEEG Shape: (245760,).\n",
      "Preview: [-3.37759792e-05 -2.44716916e-04 -4.38382591e-04 ... -1.90716295e-01\n",
      " -1.66433282e-01 -5.55778231e-02]\n"
     ]
    }
   ],
   "source": [
    "# Load the filtered seeg signal in the fast ripple band\n",
    "fr_seeg_file_name = f\"{INPUT_FOLDER}/{FR_BAND_FILENAME}_band.npy\"\n",
    "fr_band_seeg = np.load(f\"{fr_seeg_file_name}\")\n",
    "\n",
    "# Remove the extra inner dimension\n",
    "fr_band_seeg = np.squeeze(fr_band_seeg)\n",
    "\n",
    "preview_np_array(fr_band_seeg, \"FR Band SEEG\", edge_items=3)"
   ]
  },
  {
   "cell_type": "code",
   "execution_count": 5,
   "metadata": {},
   "outputs": [
    {
     "name": "stdout",
     "output_type": "stream",
     "text": [
      "HFO Band SEEG Shape: (245760,).\n",
      "Preview: [ 0.00164447  0.01391946  0.04441551 ... -0.97813142 -1.05971408\n",
      " -1.08183859]\n"
     ]
    }
   ],
   "source": [
    "# TODO: Baseline Detection for the HFO Band (Ripple and FR)\n",
    "# Load the filtered seeg signal in the HFO band\n",
    "hfo_seeg_file_name = f\"{INPUT_FOLDER}/{BOTH_BAND_FILENAME}_band.npy\"\n",
    "hfo_band_seeg = np.load(f\"{hfo_seeg_file_name}\")\n",
    "\n",
    "# Remove the extra inner dimension\n",
    "hfo_band_seeg = np.squeeze(hfo_band_seeg)\n",
    "\n",
    "preview_np_array(hfo_band_seeg, \"HFO Band SEEG\", edge_items=3)"
   ]
  },
  {
   "cell_type": "code",
   "execution_count": 6,
   "metadata": {},
   "outputs": [
    {
     "name": "stdout",
     "output_type": "stream",
     "text": [
      "ripple_markers Shape: (197,).\n",
      "Preview: [('Ripple+Fast-Ripple',   1000.  , 0.)\n",
      " ('Spike+Ripple+Fast-Ripple',   3206.54, 0.)\n",
      " ('Spike+Ripple',   3521.  , 0.) ... ('Ripple', 116037.  , 0.)\n",
      " ('Ripple', 116721.  , 0.) ('Spike+Ripple+Fast-Ripple', 119000.  , 0.)]\n"
     ]
    }
   ],
   "source": [
    "# Load the annotated events (For Ripples)\n",
    "ripple_markers_file_name = f\"{INPUT_FOLDER}/markers_{RIPPLE_BAND_FILENAME}_band.npy\"\n",
    "ripple_markers = np.load(f\"{ripple_markers_file_name}\")\n",
    "\n",
    "# Remove the extra inner dimension\n",
    "ripple_markers = np.squeeze(ripple_markers)\n",
    "\n",
    "preview_np_array(ripple_markers, \"ripple_markers\", edge_items=3)"
   ]
  },
  {
   "cell_type": "code",
   "execution_count": 7,
   "metadata": {},
   "outputs": [
    {
     "name": "stdout",
     "output_type": "stream",
     "text": [
      "fr_markers Shape: (199,).\n",
      "Preview: [('Fast-Ripple',   1000.  , 0.)\n",
      " ('Spike+Ripple+Fast-Ripple',   3206.54, 0.)\n",
      " ('Fast-Ripple',   3770.02, 0.) ... ('Fast-Ripple', 116096.  , 0.)\n",
      " ('Ripple+Fast-Ripple', 116656.  , 0.)\n",
      " ('Spike+Ripple+Fast-Ripple', 119000.  , 0.)]\n"
     ]
    }
   ],
   "source": [
    "# Load the annotated events (For Fast Ripples)\n",
    "fr_markers_file_name = f\"{INPUT_FOLDER}/markers_{FR_BAND_FILENAME}_band.npy\"\n",
    "fr_markers = np.load(f\"{fr_markers_file_name}\")\n",
    "\n",
    "# Remove the extra inner dimension\n",
    "fr_markers = np.squeeze(fr_markers)\n",
    "\n",
    "preview_np_array(fr_markers, \"fr_markers\", edge_items=3)"
   ]
  },
  {
   "cell_type": "code",
   "execution_count": 8,
   "metadata": {},
   "outputs": [
    {
     "name": "stdout",
     "output_type": "stream",
     "text": [
      "hfo_markers Shape: (222,).\n",
      "Preview: [('Ripple+Fast-Ripple',   1000.  , 0.)\n",
      " ('Spike+Ripple+Fast-Ripple',   3206.54, 0.)\n",
      " ('Spike+Ripple',   3521.  , 0.) ... ('Ripple', 116037.  , 0.)\n",
      " ('Ripple', 116721.  , 0.) ('Spike+Fast-Ripple', 119000.  , 0.)]\n"
     ]
    }
   ],
   "source": [
    "# Load the annotated events (For HFOs - Both Ripple and FR)\n",
    "hfo_markers_file_name = f\"{INPUT_FOLDER}/markers_{BOTH_BAND_FILENAME}_band.npy\"\n",
    "hfo_markers = np.load(f\"{hfo_markers_file_name}\")\n",
    "\n",
    "# Remove the extra inner dimension\n",
    "hfo_markers = np.squeeze(hfo_markers)\n",
    "\n",
    "preview_np_array(hfo_markers, \"hfo_markers\", edge_items=3)"
   ]
  },
  {
   "cell_type": "markdown",
   "metadata": {},
   "source": [
    "There are 197 Ripple Events, 199 Fast Ripple Events and 222 HFO Events in the dataset for the whole time. Since we are considering the whole recording, that means all the events are present during the window. Thus, we can **expect to have around 200 Events** in the window. -> Relevant Event Rate ~= 200 / 120s = 1.67 Events/s\n",
    "\n",
    "Therefore, there is an event ~ every `1/1.67s` ~= `0.6s`.\n",
    "\n",
    "We can use a `sub_window_size` of `0.6/4` = `0.15s`. This way, about 25% of the sub-windows will contain a relevant event. This is useful to decide the heuristic that will select the baseline threshold. An intuitive one is to select the Q3 (75th percentile) of the maximum amplitudes of the sub-windows."
   ]
  },
  {
   "cell_type": "markdown",
   "metadata": {},
   "source": [
    "## 1. Select a time window of the signal representative of the whole signal"
   ]
  },
  {
   "cell_type": "code",
   "execution_count": 9,
   "metadata": {},
   "outputs": [
    {
     "name": "stdout",
     "output_type": "stream",
     "text": [
      "Cropped Ripple Band SEEG Shape: (245760,).\n",
      "Preview: [ 1.92911688e-06  2.64027885e-05  1.68256904e-04 ... -9.10608435e-01\n",
      " -6.95654667e-01 -4.24182186e-01]\n",
      "Cropped FR Band SEEG Shape: (245760,).\n",
      "Preview: [-3.37759792e-05 -2.44716916e-04 -4.38382591e-04 ... -1.90716295e-01\n",
      " -1.66433282e-01 -5.55778231e-02]\n",
      "Cropped HFO Band SEEG Shape: (245760,).\n",
      "Preview: [ 0.00164447  0.01391946  0.04441551 ... -0.97813142 -1.05971408\n",
      " -1.08183859]\n"
     ]
    }
   ],
   "source": [
    "import math\n",
    "from utils.input import SAMPLING_RATE, X_STEP\n",
    "\n",
    "window_size = 120 * (10**3)  # 60 seconds or 60,000 ms\n",
    "\n",
    "# Crop the signal to the respective window_size\n",
    "# find the last index before the window_size\n",
    "num_samples_window = math.ceil(window_size / X_STEP)\n",
    "\n",
    "# Crop the signal to the respective window_size\n",
    "ripple_band_seeg = ripple_band_seeg[:num_samples_window]\n",
    "fr_band_seeg = fr_band_seeg[:num_samples_window]\n",
    "hfo_band_seeg = hfo_band_seeg[:num_samples_window]\n",
    "\n",
    "preview_np_array(ripple_band_seeg, \"Cropped Ripple Band SEEG\", edge_items=3)\n",
    "preview_np_array(fr_band_seeg, \"Cropped FR Band SEEG\", edge_items=3)\n",
    "preview_np_array(hfo_band_seeg, \"Cropped HFO Band SEEG\", edge_items=3)"
   ]
  },
  {
   "cell_type": "markdown",
   "metadata": {},
   "source": [
    "## Store the maximum signal amplitudes of consecutive non-overlapping time sub-windows\n",
    "For this, we need to define the length of the `sub_windows`.\n",
    "\n",
    "Since we floor the value, some values in the end of the window will not be considered if it is not a multiple of the sub-window length"
   ]
  },
  {
   "cell_type": "code",
   "execution_count": 10,
   "metadata": {},
   "outputs": [
    {
     "name": "stdout",
     "output_type": "stream",
     "text": [
      "Sub-Window Length:  307\n"
     ]
    }
   ],
   "source": [
    "# Each sub-window is 0.15s\n",
    "sub_window_scale = 15/100\n",
    "sub_window_length = math.floor((num_samples_window / 120) * sub_window_scale)   # Define the sub-window length according to the window size \n",
    "print(\"Sub-Window Length: \", sub_window_length)"
   ]
  },
  {
   "cell_type": "markdown",
   "metadata": {},
   "source": [
    "### Iterate over the sub-windows and store the maximum/minimum signal amplitude of each sub-window"
   ]
  },
  {
   "cell_type": "code",
   "execution_count": 11,
   "metadata": {},
   "outputs": [
    {
     "name": "stdout",
     "output_type": "stream",
     "text": [
      "Ripple Max Amplitudes Shape: (800,).\n",
      "Preview: [2.339884   2.77546019 2.11573086 ... 3.04313005 1.91448754 1.50260109]\n",
      "Ripple Min Amplitudes Shape: (800,).\n",
      "Preview: [-1.71832736 -2.4413664  -1.97949198 ... -1.72345595 -2.37643696\n",
      " -1.82233626]\n",
      "FR Max Amplitudes Shape: (800,).\n",
      "Preview: [1.14012585 1.43422742 1.48679787 ... 1.26333557 1.10133063 1.30209737]\n",
      "FR Min Amplitudes Shape: (800,).\n",
      "Preview: [-1.24652631 -1.33902546 -1.53658026 ... -1.22057082 -1.1672457\n",
      " -1.40985366]\n",
      "HFO Max Amplitudes Shape: (800,).\n",
      "Preview: [2.89055003 3.00696624 3.03855587 ... 3.17677869 2.52820922 2.62339345]\n",
      "HFO Min Amplitudes Shape: (800,).\n",
      "Preview: [-2.25665024 -3.19481751 -2.36174023 ... -2.54457291 -2.75380369\n",
      " -1.73551577]\n"
     ]
    }
   ],
   "source": [
    "ripple_max_amplitudes = []\n",
    "ripple_min_amplitudes = []\n",
    "fr_max_amplitudes = []\n",
    "fr_min_amplitudes = []\n",
    "hfo_max_amplitudes = []\n",
    "hfo_min_amplitudes = []\n",
    "\n",
    "for start_idx in range(0, num_samples_window - sub_window_length, sub_window_length):\n",
    "    end_idx = start_idx + sub_window_length\n",
    "    # Crop the signal to the respective window_size\n",
    "    ripple_sub_window_seeg = ripple_band_seeg[start_idx:end_idx]\n",
    "    fr_sub_window_seeg = fr_band_seeg[start_idx:end_idx]\n",
    "    hfo_sub_window_seeg = hfo_band_seeg[start_idx:end_idx]\n",
    "\n",
    "    # Get the maximum signal amplitude in the sub-window\n",
    "    ripple_max_amp = np.max(ripple_sub_window_seeg)\n",
    "    fr_max_amp = np.max(fr_sub_window_seeg)\n",
    "    hfo_max_amp = np.max(hfo_sub_window_seeg)\n",
    "    # Get the minimum signal amplitude in the sub-window\n",
    "    ripple_min_amp = np.min(ripple_sub_window_seeg)\n",
    "    fr_min_amp = np.min(fr_sub_window_seeg)\n",
    "    hfo_min_amp = np.min(hfo_sub_window_seeg)\n",
    "\n",
    "    # Append the maximum amplitudes to the respective lists\n",
    "    ripple_max_amplitudes.append(ripple_max_amp)\n",
    "    fr_max_amplitudes.append(fr_max_amp)\n",
    "    hfo_max_amplitudes.append(hfo_max_amp)\n",
    "    # Append the minimum amplitudes to the respective lists\n",
    "    ripple_min_amplitudes.append(ripple_min_amp)\n",
    "    fr_min_amplitudes.append(fr_min_amp)\n",
    "    hfo_min_amplitudes.append(hfo_min_amp)\n",
    "\n",
    "ripple_max_amplitudes = np.array(ripple_max_amplitudes)\n",
    "fr_max_amplitudes = np.array(fr_max_amplitudes)\n",
    "hfo_max_amplitudes = np.array(hfo_max_amplitudes)\n",
    "ripple_min_amplitudes = np.array(ripple_min_amplitudes)\n",
    "fr_min_amplitudes = np.array(fr_min_amplitudes)\n",
    "hfo_min_amplitudes = np.array(hfo_min_amplitudes)\n",
    "\n",
    "preview_np_array(ripple_max_amplitudes, \"Ripple Max Amplitudes\", edge_items=3)\n",
    "preview_np_array(ripple_min_amplitudes, \"Ripple Min Amplitudes\", edge_items=3)\n",
    "preview_np_array(fr_max_amplitudes, \"FR Max Amplitudes\", edge_items=3)\n",
    "preview_np_array(fr_min_amplitudes, \"FR Min Amplitudes\", edge_items=3)\n",
    "preview_np_array(hfo_max_amplitudes, \"HFO Max Amplitudes\", edge_items=3)\n",
    "preview_np_array(hfo_min_amplitudes, \"HFO Min Amplitudes\", edge_items=3)\n",
    "\n",
    "num_sub_windows = len(ripple_max_amplitudes)"
   ]
  },
  {
   "cell_type": "markdown",
   "metadata": {},
   "source": [
    "### Plot the maximum signal amplitudes of the sub-windows as an Histogram"
   ]
  },
  {
   "cell_type": "markdown",
   "metadata": {},
   "source": [
    "Bins for the Ripple Band"
   ]
  },
  {
   "cell_type": "code",
   "execution_count": 12,
   "metadata": {},
   "outputs": [],
   "source": [
    "# Plot the maximum amplitudes of the sub-windows in a histogram\n",
    "from utils.bar_plot import create_histogram  # Import the function to create the figure\n",
    "\n",
    "# Define the histogram bins\n",
    "ripple_min_amp = np.min(ripple_max_amplitudes)\n",
    "ripple_max_amp = np.max(ripple_max_amplitudes)\n",
    "bins = np.linspace(ripple_min_amp, ripple_max_amp, 100)    \n",
    "\n",
    "ripple_max_amp_hist = create_histogram(\n",
    "    title=\"Ripple Sub-Window Max. Amplitude Histogram\", \n",
    "    x_axis_label='Amplitude (uV)', \n",
    "    y_axis_label='Count',\n",
    "    bins=bins,\n",
    "    x=ripple_max_amplitudes,\n",
    "    is_density=False,\n",
    "    sizing_mode=\"stretch_width\",\n",
    ")"
   ]
  },
  {
   "cell_type": "code",
   "execution_count": 13,
   "metadata": {},
   "outputs": [],
   "source": [
    "# Plot the minimum amplitudes of the sub-windows in a histogram\n",
    "# Define the histogram bins\n",
    "ripple_min_amp = np.min(ripple_min_amplitudes)\n",
    "ripple_max_amp = np.max(ripple_min_amplitudes)\n",
    "bins = np.linspace(ripple_min_amp, ripple_max_amp, 100)    \n",
    "\n",
    "ripple_min_amp_hist = create_histogram(\n",
    "    title=\"Ripple Sub-Window Min. Amplitude Histogram\", \n",
    "    x_axis_label='Amplitude (uV)', \n",
    "    y_axis_label='Count',\n",
    "    bins=bins,\n",
    "    x=ripple_min_amplitudes,\n",
    "    is_density=False,\n",
    "    sizing_mode=\"stretch_width\",\n",
    ")"
   ]
  },
  {
   "cell_type": "markdown",
   "metadata": {},
   "source": [
    "Bins for the FR Band"
   ]
  },
  {
   "cell_type": "code",
   "execution_count": 14,
   "metadata": {},
   "outputs": [],
   "source": [
    "# Define the histogram bins\n",
    "fr_min_amp = np.min(fr_max_amplitudes)\n",
    "fr_max_amp = np.max(fr_max_amplitudes)\n",
    "bins = np.linspace(fr_min_amp, fr_max_amp, 100)    \n",
    "\n",
    "fr_max_amp_hist = create_histogram(\n",
    "    title=\"FR Sub-Window Max. Amplitude Histogram\", \n",
    "    x_axis_label='Amplitude (uV)', \n",
    "    y_axis_label='Count',\n",
    "    bins=bins,\n",
    "    x=fr_max_amplitudes,\n",
    "    is_density=False,\n",
    "    sizing_mode=\"stretch_width\",\n",
    ")"
   ]
  },
  {
   "cell_type": "code",
   "execution_count": 15,
   "metadata": {},
   "outputs": [],
   "source": [
    "# Define the histogram bins\n",
    "fr_min_amp = np.min(fr_min_amplitudes)\n",
    "fr_max_amp = np.max(fr_min_amplitudes)\n",
    "bins = np.linspace(fr_min_amp, fr_max_amp, 100)    \n",
    "\n",
    "fr_min_amp_hist = create_histogram(\n",
    "    title=\"FR Sub-Window Min. Amplitude Histogram\", \n",
    "    x_axis_label='Amplitude (uV)', \n",
    "    y_axis_label='Count',\n",
    "    bins=bins,\n",
    "    x=fr_min_amplitudes,\n",
    "    is_density=False,\n",
    "    sizing_mode=\"stretch_width\",\n",
    ")"
   ]
  },
  {
   "cell_type": "markdown",
   "metadata": {},
   "source": [
    "Bins for the HFO Band (Ripple + FR)"
   ]
  },
  {
   "cell_type": "code",
   "execution_count": 16,
   "metadata": {},
   "outputs": [],
   "source": [
    "# Define the histogram bins\n",
    "hfo_min_amp = np.min(hfo_max_amplitudes)\n",
    "hfo_max_amp = np.max(hfo_max_amplitudes)\n",
    "bins = np.linspace(hfo_min_amp, hfo_max_amp, 100)    \n",
    "\n",
    "hfo_max_amp_hist = create_histogram(\n",
    "    title=\"HFO Sub-Window Max. Amplitude Histogram\", \n",
    "    x_axis_label='Amplitude (uV)', \n",
    "    y_axis_label='Count',\n",
    "    bins=bins,\n",
    "    x=hfo_max_amplitudes,\n",
    "    is_density=False,\n",
    "    sizing_mode=\"stretch_width\",\n",
    ")"
   ]
  },
  {
   "cell_type": "code",
   "execution_count": 17,
   "metadata": {},
   "outputs": [],
   "source": [
    "# Define the histogram bins\n",
    "hfo_min_amp = np.min(hfo_min_amplitudes)\n",
    "hfo_max_amp = np.max(hfo_min_amplitudes)\n",
    "bins = np.linspace(hfo_min_amp, hfo_max_amp, 100)    \n",
    "\n",
    "hfo_min_amp_hist = create_histogram(\n",
    "    title=\"HFO Sub-Window Min. Amplitude Histogram\", \n",
    "    x_axis_label='Amplitude (uV)', \n",
    "    y_axis_label='Count',\n",
    "    bins=bins,\n",
    "    x=hfo_min_amplitudes,\n",
    "    is_density=False,\n",
    "    sizing_mode=\"stretch_width\",\n",
    ")"
   ]
  },
  {
   "cell_type": "code",
   "execution_count": 18,
   "metadata": {},
   "outputs": [],
   "source": [
    "import bokeh.plotting as bplt\n",
    "\n",
    "show_ripple_hist_plot = True\n",
    "if show_ripple_hist_plot:\n",
    "    # Show the plots\n",
    "    bplt.show(ripple_min_amp_hist)\n",
    "    bplt.reset_output()\n",
    "\n",
    "    bplt.show(ripple_max_amp_hist)\n",
    "    # Close the plot\n",
    "    bplt.reset_output()"
   ]
  },
  {
   "cell_type": "code",
   "execution_count": 59,
   "metadata": {},
   "outputs": [],
   "source": [
    "show_fr_hist_plot = True\n",
    "if show_fr_hist_plot:\n",
    "    # Show the plot\n",
    "    bplt.show(fr_min_amp_hist)\n",
    "    bplt.reset_output()\n",
    "\n",
    "    bplt.show(fr_max_amp_hist)\n",
    "    bplt.reset_output()"
   ]
  },
  {
   "cell_type": "code",
   "execution_count": 60,
   "metadata": {},
   "outputs": [],
   "source": [
    "show_hfo_hist_plot = True\n",
    "if show_hfo_hist_plot:\n",
    "    # Show the plot\n",
    "    bplt.show(hfo_min_amp_hist)\n",
    "    bplt.reset_output()\n",
    "\n",
    "    bplt.show(hfo_max_amp_hist)\n",
    "    bplt.reset_output()"
   ]
  },
  {
   "cell_type": "markdown",
   "metadata": {},
   "source": [
    "### Plot the maximum signal amplitudes of the sub-windows as a Bar Plot"
   ]
  },
  {
   "cell_type": "code",
   "execution_count": 61,
   "metadata": {},
   "outputs": [
    {
     "name": "stdout",
     "output_type": "stream",
     "text": [
      "ripple_quantiles:  [2.1719012  2.67741361 9.42601347]\n",
      "Ripple IQR:  7.25411226416056\n"
     ]
    }
   ],
   "source": [
    "from utils.bar_plot import create_box_plot\n",
    "\n",
    "# Create the BoxPlot\n",
    "ripple_max_amp_boxplot = create_box_plot(\n",
    "    title=\"Boxplot of Ripple Sub-Window Max. Amplitudes\", \n",
    "    box_arrays=[ripple_max_amplitudes],\n",
    "    y_axis_label='Amplitude (uV)',\n",
    "    sizing_mode=\"stretch_width\",\n",
    ")\n",
    "\n",
    "show_ripple_barplot = True\n",
    "if show_ripple_barplot:\n",
    "    # Show the plot\n",
    "    bplt.show(ripple_max_amp_boxplot)"
   ]
  },
  {
   "cell_type": "code",
   "execution_count": 62,
   "metadata": {},
   "outputs": [
    {
     "name": "stdout",
     "output_type": "stream",
     "text": [
      "ripple_quantiles:  [1.17348301 1.37531467 5.34708415]\n",
      "Ripple IQR:  4.173601136673139\n"
     ]
    }
   ],
   "source": [
    "# Create the BoxPlot\n",
    "fr_max_amp_boxplot = create_box_plot(\n",
    "    title=\"Boxplot of Fast Ripple Sub-Window Max. Amplitudes\", \n",
    "    box_arrays=[fr_max_amplitudes],\n",
    "    y_axis_label='Amplitude (uV)',\n",
    "    sizing_mode=\"stretch_width\",\n",
    ")\n",
    "\n",
    "show_fr_barplot = True\n",
    "if show_fr_barplot:\n",
    "    # Show the plot\n",
    "    bplt.show(fr_max_amp_boxplot)\n",
    "\n",
    "# TODO: Not plotting the boxplot for the minimum amplitudes"
   ]
  },
  {
   "cell_type": "code",
   "execution_count": 63,
   "metadata": {},
   "outputs": [
    {
     "name": "stdout",
     "output_type": "stream",
     "text": [
      "ripple_quantiles:  [2.54246975 3.09298839 8.58666474]\n",
      "Ripple IQR:  6.044194981642361\n"
     ]
    }
   ],
   "source": [
    "# Create the BoxPlot\n",
    "hfo_max_amp_boxplot = create_box_plot(\n",
    "    title=\"Boxplot of HFO Sub-Window Max. Amplitudes\", \n",
    "    box_arrays=[hfo_max_amplitudes],\n",
    "    y_axis_label='Amplitude (uV)',\n",
    "    sizing_mode=\"stretch_width\",\n",
    ")\n",
    "\n",
    "show_hfo_barplot = True\n",
    "if show_hfo_barplot:\n",
    "    # Show the plot\n",
    "    bplt.show(hfo_max_amp_boxplot)\n",
    "\n",
    "# TODO: Not plotting the boxplot for the minimum amplitudes"
   ]
  },
  {
   "cell_type": "code",
   "execution_count": 64,
   "metadata": {},
   "outputs": [
    {
     "name": "stdout",
     "output_type": "stream",
     "text": [
      "ripple_quantiles:  [2.1719012  2.67741361 9.42601347]\n",
      "Ripple IQR:  7.25411226416056\n",
      "ripple_quantiles:  [1.17348301 1.37531467 5.34708415]\n",
      "Ripple IQR:  4.173601136673139\n",
      "ripple_quantiles:  [2.54246975 3.09298839 8.58666474]\n",
      "Ripple IQR:  6.044194981642361\n"
     ]
    }
   ],
   "source": [
    "# Create the BoxPlot\n",
    "combined_max_amp_boxplot = create_box_plot(\n",
    "    title=\"Boxplot of Sub-Window Max. Amplitudes for different frequency bands\", \n",
    "    box_arrays=[ripple_max_amplitudes, fr_max_amplitudes, hfo_max_amplitudes],\n",
    "    y_axis_label='Amplitude (uV)',\n",
    "    sizing_mode=\"stretch_width\",\n",
    ")\n",
    "\n",
    "show_combined_barplot = True\n",
    "if show_combined_barplot:\n",
    "    # Show the plot\n",
    "    bplt.show(combined_max_amp_boxplot)\n",
    "\n",
    "# TODO: Not plotting the boxplot for the minimum amplitudes"
   ]
  },
  {
   "cell_type": "markdown",
   "metadata": {},
   "source": [
    "### Show some statistics of the maximum sub-window amplitudes"
   ]
  },
  {
   "cell_type": "code",
   "execution_count": 19,
   "metadata": {},
   "outputs": [
    {
     "name": "stdout",
     "output_type": "stream",
     "text": [
      "Mean Max. Ripple Amplitude:  6.128352043987768\n",
      "Std Max. Ripple Amplitude:  6.644250044979027\n",
      "Median Max. Ripple Amplitude:  2.6774136055947038\n"
     ]
    }
   ],
   "source": [
    "mean_max_ripple_amp = np.mean(ripple_max_amplitudes)\n",
    "std_max_ripple_amp = np.std(ripple_max_amplitudes)\n",
    "median_max_ripple_amp = np.median(ripple_max_amplitudes)\n",
    "print(\"Mean Max. Ripple Amplitude: \", mean_max_ripple_amp)\n",
    "print(\"Std Max. Ripple Amplitude: \", std_max_ripple_amp)\n",
    "print(\"Median Max. Ripple Amplitude: \", median_max_ripple_amp)"
   ]
  },
  {
   "cell_type": "code",
   "execution_count": 20,
   "metadata": {},
   "outputs": [
    {
     "name": "stdout",
     "output_type": "stream",
     "text": [
      "Mean Max. FR Amplitude:  2.7920384114064505\n",
      "Std Max. FR Amplitude:  2.4595597037981696\n",
      "Median Max. FR Amplitude:  1.3753146660939348\n"
     ]
    }
   ],
   "source": [
    "mean_max_fr_amp = np.mean(fr_max_amplitudes)\n",
    "std_max_fr_amp = np.std(fr_max_amplitudes)\n",
    "median_max_fr_amp = np.median(fr_max_amplitudes)\n",
    "print(\"Mean Max. FR Amplitude: \", mean_max_fr_amp)\n",
    "print(\"Std Max. FR Amplitude: \", std_max_fr_amp)\n",
    "print(\"Median Max. FR Amplitude: \", median_max_fr_amp)"
   ]
  },
  {
   "cell_type": "code",
   "execution_count": 21,
   "metadata": {},
   "outputs": [
    {
     "name": "stdout",
     "output_type": "stream",
     "text": [
      "Mean Max. HFO Amplitude:  6.317369652901671\n",
      "Std Max. HFO Amplitude:  6.762035632847155\n",
      "Median Max. HFO Amplitude:  3.0929883901351527\n"
     ]
    }
   ],
   "source": [
    "mean_max_hfo_amp = np.mean(hfo_max_amplitudes)\n",
    "std_max_hfo_amp = np.std(hfo_max_amplitudes)\n",
    "median_max_hfo_amp = np.median(hfo_max_amplitudes)\n",
    "print(\"Mean Max. HFO Amplitude: \", mean_max_hfo_amp)\n",
    "print(\"Std Max. HFO Amplitude: \", std_max_hfo_amp)\n",
    "print(\"Median Max. HFO Amplitude: \", median_max_hfo_amp)"
   ]
  },
  {
   "cell_type": "markdown",
   "metadata": {},
   "source": [
    "### Show some statistics of the minimum sub-window amplitudes"
   ]
  },
  {
   "cell_type": "code",
   "execution_count": 22,
   "metadata": {},
   "outputs": [
    {
     "name": "stdout",
     "output_type": "stream",
     "text": [
      "Mean Min Ripple Amplitude:  -6.082431335159767\n",
      "Std Min Ripple Amplitude:  6.621939347615306\n",
      "Median Min Ripple Amplitude:  -2.7196811547721467\n"
     ]
    }
   ],
   "source": [
    "mean_min_ripple_amp = np.mean(ripple_min_amplitudes)\n",
    "std_min_ripple_amp = np.std(ripple_min_amplitudes)\n",
    "median_min_ripple_amp = np.median(ripple_min_amplitudes)\n",
    "print(\"Mean Min Ripple Amplitude: \", mean_min_ripple_amp)\n",
    "print(\"Std Min Ripple Amplitude: \", std_min_ripple_amp)\n",
    "print(\"Median Min Ripple Amplitude: \", median_min_ripple_amp)"
   ]
  },
  {
   "cell_type": "code",
   "execution_count": 23,
   "metadata": {},
   "outputs": [
    {
     "name": "stdout",
     "output_type": "stream",
     "text": [
      "Mean Min. FR Amplitude:  -2.8742814904079115\n",
      "Std Min. FR Amplitude:  2.5811110827463453\n",
      "Median Min. FR Amplitude:  -1.3973098519987506\n"
     ]
    }
   ],
   "source": [
    "mean_min_fr_amp = np.mean(fr_min_amplitudes)\n",
    "std_min_fr_amp = np.std(fr_min_amplitudes)\n",
    "median_min_fr_amp = np.median(fr_min_amplitudes)\n",
    "print(\"Mean Min. FR Amplitude: \", mean_min_fr_amp)\n",
    "print(\"Std Min. FR Amplitude: \", std_min_fr_amp)\n",
    "print(\"Median Min. FR Amplitude: \", median_min_fr_amp)"
   ]
  },
  {
   "cell_type": "code",
   "execution_count": 24,
   "metadata": {},
   "outputs": [
    {
     "name": "stdout",
     "output_type": "stream",
     "text": [
      "Mean Min. HFO Amplitude:  -6.2874925556412995\n",
      "Std Min. HFO Amplitude:  6.753113903738274\n",
      "Median Min. HFO Amplitude:  -3.113791062376728\n"
     ]
    }
   ],
   "source": [
    "mean_min_hfo_amp = np.mean(hfo_min_amplitudes)\n",
    "std_min_hfo_amp = np.std(hfo_min_amplitudes)\n",
    "median_min_hfo_amp = np.median(hfo_min_amplitudes)\n",
    "print(\"Mean Min. HFO Amplitude: \", mean_min_hfo_amp)\n",
    "print(\"Std Min. HFO Amplitude: \", std_min_hfo_amp)\n",
    "print(\"Median Min. HFO Amplitude: \", median_min_hfo_amp)"
   ]
  },
  {
   "cell_type": "markdown",
   "metadata": {},
   "source": [
    "## 3. Take the mean of the lowest quartile as the baseline amplitude."
   ]
  },
  {
   "cell_type": "code",
   "execution_count": 25,
   "metadata": {},
   "outputs": [],
   "source": [
    "#Mean of the lowest quartile (Q1 - 25%)\n",
    "lowest_quartile_ripple = np.percentile(ripple_max_amplitudes, 25)\n",
    "lowest_quartile_fr = np.percentile(fr_max_amplitudes, 25)\n",
    "lowest_quartile_hfo = np.percentile(hfo_max_amplitudes, 25)\n",
    "# TODO: For now using the DN_Threshold as the symetric value of the UP_THRESHOLD"
   ]
  },
  {
   "cell_type": "markdown",
   "metadata": {},
   "source": [
    "### Store the Amplitude Thresholds that will be used to convert the signal into spikes"
   ]
  },
  {
   "cell_type": "code",
   "execution_count": 26,
   "metadata": {},
   "outputs": [
    {
     "name": "stdout",
     "output_type": "stream",
     "text": [
      "Q1 Strategy Output: [2.1719012029537117, 1.173483014880868, 2.5424697548348907]\n"
     ]
    }
   ],
   "source": [
    "# Store the amplitude thresholds\n",
    "out_filename = f\"{RESULTS_FOLDER}/{DATASET_FILENAME}_thresholds_q1.npy\"\n",
    "q1_output = [lowest_quartile_ripple, lowest_quartile_fr, lowest_quartile_hfo]\n",
    "print(\"Q1 Strategy Output:\", q1_output)\n",
    "\n",
    "EXPORT_THRESHOLD_Q1 = True\n",
    "if EXPORT_THRESHOLD_Q1:\n",
    "    np.save(out_filename, np.array(q1_output))"
   ]
  },
  {
   "cell_type": "markdown",
   "metadata": {},
   "source": [
    "## 4. Use the mean of the amplitudes array as the baseline amplitude."
   ]
  },
  {
   "cell_type": "code",
   "execution_count": 73,
   "metadata": {},
   "outputs": [
    {
     "name": "stdout",
     "output_type": "stream",
     "text": [
      "Mean Strategy Output:  [6.128352043987768, 2.7920384114064505, 6.317369652901671]\n"
     ]
    }
   ],
   "source": [
    "# Store the amplitude thresholds\n",
    "out_filename = f\"{RESULTS_FOLDER}/{DATASET_FILENAME}_thresholds_mean.npy\"\n",
    "\n",
    "mean_output = [mean_max_ripple_amp, mean_max_fr_amp, mean_max_hfo_amp]\n",
    "print(\"Mean Strategy Output: \", mean_output)\n",
    "\n",
    "EXPORT_THRESHOLD_MEAN = True\n",
    "if EXPORT_THRESHOLD_MEAN:\n",
    "    np.save(out_filename, np.array(mean_output))"
   ]
  },
  {
   "cell_type": "markdown",
   "metadata": {},
   "source": [
    "## 5. Use the median of the amplitudes array as the baseline amplitude."
   ]
  },
  {
   "cell_type": "code",
   "execution_count": 74,
   "metadata": {},
   "outputs": [
    {
     "name": "stdout",
     "output_type": "stream",
     "text": [
      "Median Strategy Output:  [2.6774136055947038, 1.3753146660939348, 3.0929883901351527]\n"
     ]
    }
   ],
   "source": [
    "# Store the amplitude thresholds\n",
    "out_filename = f\"{RESULTS_FOLDER}/{DATASET_FILENAME}_thresholds_median.npy\"\n",
    "\n",
    "median_output = [median_max_ripple_amp, median_max_fr_amp, median_max_hfo_amp]\n",
    "print(\"Median Strategy Output: \", median_output)\n",
    "\n",
    "EXPORT_THRESHOLD_MEDIAN = True\n",
    "if EXPORT_THRESHOLD_MEDIAN:\n",
    "    np.save(out_filename, np.array(median_output))"
   ]
  },
  {
   "cell_type": "markdown",
   "metadata": {},
   "source": [
    "## 6. Use the Q3 (75 percentile) of the amplitudes array as the baseline amplitude + Scaling Factor"
   ]
  },
  {
   "cell_type": "code",
   "execution_count": 27,
   "metadata": {},
   "outputs": [],
   "source": [
    "# Mean of the lowest quartile (Q1 - 25%)\n",
    "highest_quartile_ripple = np.percentile(ripple_max_amplitudes, 75)\n",
    "highest_quartile_fr = np.percentile(fr_max_amplitudes, 75)\n",
    "highest_quartile_hfo = np.percentile(hfo_max_amplitudes, 75)\n",
    "# TODO: For now using the DN_Threshold as the symetric value of the UP_THRESHOLD"
   ]
  },
  {
   "cell_type": "code",
   "execution_count": 30,
   "metadata": {},
   "outputs": [],
   "source": [
    "# Define scaling factor for the thresholds\n",
    "ripple_scaling_factor = 0.6\n",
    "fr_scaling_factor = 0.3\n",
    "hfo_scaling_factor = 0.45    # TODO: Check the scaling factor for the HFO band"
   ]
  },
  {
   "cell_type": "code",
   "execution_count": 31,
   "metadata": {},
   "outputs": [
    {
     "name": "stdout",
     "output_type": "stream",
     "text": [
      "Q3 Strategy Output:  [5.655608080268563, 1.604125245466202, 3.8639991314147633]\n"
     ]
    }
   ],
   "source": [
    "# Store the amplitude thresholds\n",
    "out_filename = f\"{RESULTS_FOLDER}/{DATASET_FILENAME}_thresholds_q3.npy\"\n",
    "\n",
    "q3_output = [highest_quartile_ripple * ripple_scaling_factor, highest_quartile_fr * fr_scaling_factor,\n",
    "             highest_quartile_hfo * hfo_scaling_factor]\n",
    "print(\"Q3 Strategy Output: \", q3_output)"
   ]
  },
  {
   "cell_type": "code",
   "execution_count": 32,
   "metadata": {},
   "outputs": [],
   "source": [
    "EXPORT_THRESHOLD_Q3 = True\n",
    "if EXPORT_THRESHOLD_Q3:\n",
    "    np.save(out_filename, np.array(q3_output))"
   ]
  },
  {
   "cell_type": "markdown",
   "metadata": {},
   "source": [
    "## 7. Use the (60 percentile) of the amplitudes array as the baseline amplitude."
   ]
  },
  {
   "cell_type": "code",
   "execution_count": 78,
   "metadata": {},
   "outputs": [
    {
     "name": "stdout",
     "output_type": "stream",
     "text": [
      "60% Strategy Output:  [3.10735412276113, 1.4951016536947659, 3.66685555811262]\n"
     ]
    }
   ],
   "source": [
    "# 60 Percentile\n",
    "sixty_percentile_ripple = np.percentile(ripple_max_amplitudes, 60)\n",
    "sixty_percentile_fr = np.percentile(fr_max_amplitudes, 60)\n",
    "sixty_percentile_hfo = np.percentile(hfo_max_amplitudes, 60)\n",
    "\n",
    "# Store the amplitude thresholds\n",
    "out_filename = f\"{RESULTS_FOLDER}/{DATASET_FILENAME}_thresholds_60perc.npy\"\n",
    "\n",
    "sixty_perc_output = [sixty_percentile_ripple, sixty_percentile_fr, sixty_percentile_hfo]\n",
    "print(\"60% Strategy Output: \", sixty_perc_output)\n",
    "\n",
    "EXPORT_THRESHOLD_60PERC = True\n",
    "if EXPORT_THRESHOLD_60PERC:\n",
    "    np.save(out_filename, np.array(sixty_perc_output))"
   ]
  },
  {
   "cell_type": "markdown",
   "metadata": {},
   "source": [
    "## 8. Use the (70 percentile) of the amplitudes array as the baseline amplitude."
   ]
  },
  {
   "cell_type": "code",
   "execution_count": 79,
   "metadata": {},
   "outputs": [
    {
     "name": "stdout",
     "output_type": "stream",
     "text": [
      "70% Strategy Output:  [7.513982800641984, 2.6148472778884853, 7.717717929852056]\n"
     ]
    }
   ],
   "source": [
    "# 70 Percentile\n",
    "seventy_percentile_ripple = np.percentile(ripple_max_amplitudes, 70)\n",
    "seventy_percentile_fr = np.percentile(fr_max_amplitudes, 70)\n",
    "seventy_percentile_hfo = np.percentile(hfo_max_amplitudes, 70)\n",
    "\n",
    "# Store the amplitude thresholds\n",
    "out_filename = f\"{RESULTS_FOLDER}/{DATASET_FILENAME}_thresholds_70perc.npy\"\n",
    "\n",
    "seventy_perc_output = [seventy_percentile_ripple, seventy_percentile_fr, seventy_percentile_hfo]\n",
    "print(\"70% Strategy Output: \", seventy_perc_output)\n",
    "\n",
    "EXPORT_THRESHOLD_70PERC = True\n",
    "if EXPORT_THRESHOLD_70PERC:\n",
    "    np.save(out_filename, np.array(seventy_perc_output))"
   ]
  },
  {
   "cell_type": "markdown",
   "metadata": {},
   "source": [
    "## 9. Use the (65 percentile) of the amplitudes array as the baseline amplitude."
   ]
  },
  {
   "cell_type": "code",
   "execution_count": 80,
   "metadata": {},
   "outputs": [
    {
     "name": "stdout",
     "output_type": "stream",
     "text": [
      "65% Strategy Output:  [4.452286751140795, 1.5912047492515444, 5.255464870113121]\n"
     ]
    }
   ],
   "source": [
    "# 65 Percentile\n",
    "sixty_percentile_ripple = np.percentile(ripple_max_amplitudes, 65)\n",
    "sixty_percentile_fr = np.percentile(fr_max_amplitudes, 65)\n",
    "sixty_percentile_hfo = np.percentile(hfo_max_amplitudes, 65)\n",
    "\n",
    "# Store the amplitude thresholds\n",
    "out_filename = f\"{RESULTS_FOLDER}/{DATASET_FILENAME}_thresholds_65perc.npy\"\n",
    "\n",
    "sixty_perc_output = [sixty_percentile_ripple, sixty_percentile_fr, sixty_percentile_hfo]\n",
    "print(\"65% Strategy Output: \", sixty_perc_output)\n",
    "\n",
    "EXPORT_THRESHOLD_65PERC = True\n",
    "if EXPORT_THRESHOLD_65PERC:\n",
    "    np.save(out_filename, np.array(sixty_perc_output))"
   ]
  }
 ],
 "metadata": {
  "kernelspec": {
   "display_name": "Python 3 (ipykernel)",
   "language": "python",
   "name": "python3"
  },
  "language_info": {
   "codemirror_mode": {
    "name": "ipython",
    "version": 3
   },
   "file_extension": ".py",
   "mimetype": "text/x-python",
   "name": "python",
   "nbconvert_exporter": "python",
   "pygments_lexer": "ipython3",
   "version": "3.10.12"
  }
 },
 "nbformat": 4,
 "nbformat_minor": 2
}
