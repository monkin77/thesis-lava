{
 "cells": [
  {
   "cell_type": "markdown",
   "metadata": {},
   "source": [
    "# **Signal To Spike Conversion** - Baseline Detection\n",
    "This notebook presents the **baseline detection** step that needs to be conducted before doing the signal-to-spike conversion.\n",
    "\n",
    "The signal-to-spike conversion requires the definition of the `up_threshold` and `down_threshold` values that will be used to translate the continuous signal into discrete events. Here, we follow the approach proposed by Indiveri's team to define these thresholds. Which is composed of the following steps:\n",
    "1. Select a time window of the signal representative of the whole signal.\n",
    "   - The source work used a 1s window.\n",
    "   - We will test different window sizes.\n",
    "2. Store the maximum signal amplitudes of consecutive non-overlapping time sub-windows of a defined size.\n",
    "3. Take the mean of the lowest quartile as the baseline amplitude.\n",
    "   - Check why we are using the lowest quartile.    "
   ]
  },
  {
   "cell_type": "markdown",
   "metadata": {},
   "source": [
    "### Check WD (change if necessary) and file loading"
   ]
  },
  {
   "cell_type": "code",
   "execution_count": 15,
   "metadata": {},
   "outputs": [
    {
     "name": "stdout",
     "output_type": "stream",
     "text": [
      "/home/monkin/Desktop/feup/thesis/thesis-lava/src/hfo/signal_to_spike\n"
     ]
    }
   ],
   "source": [
    "# Show current directory\n",
    "import os\n",
    "curr_dir = os.getcwd()\n",
    "print(curr_dir)\n",
    "\n",
    "# Check if the current WD is the file location\n",
    "if \"/src/hfo/signal_to_spike\" not in os.getcwd():\n",
    "    # Set working directory to this file location\n",
    "    file_location = f\"{os.getcwd()}/thesis-lava/src/hfo/signal_to_spike\"\n",
    "    print(\"File Location: \", file_location)\n",
    "\n",
    "    # Change the current working Directory\n",
    "    os.chdir(file_location)\n",
    "\n",
    "    # New Working Directory\n",
    "    print(\"New Working Directory: \", os.getcwd())"
   ]
  },
  {
   "cell_type": "markdown",
   "metadata": {},
   "source": [
    "## Let's first load the filtered SEEG signal\n",
    "This notebook only converts 1 SEEG channel to spikes. Therefore, the `.npy` file must contain a single channel."
   ]
  },
  {
   "cell_type": "markdown",
   "metadata": {},
   "source": [
    "### Declare the `INPUT_FOLDER` and `RESULTS_FOLDER`"
   ]
  },
  {
   "cell_type": "code",
   "execution_count": 16,
   "metadata": {},
   "outputs": [],
   "source": [
    "# CAREFUL WITH THIS FOLDER TO NOT OVERWRITE THE FILES\n",
    "DATASET_FILENAME = \"seeg_filtered_subset_90-119_segment500_200\"\n",
    "INPUT_FOLDER = f\"../subset/results/{DATASET_FILENAME}\"\n",
    "RESULTS_FOLDER = \"baseline_results\""
   ]
  },
  {
   "cell_type": "markdown",
   "metadata": {},
   "source": [
    "### Load the Ripple, Fast Ripple, and Annotated Events"
   ]
  },
  {
   "cell_type": "code",
   "execution_count": 17,
   "metadata": {},
   "outputs": [
    {
     "name": "stdout",
     "output_type": "stream",
     "text": [
      "Ripple Band SEEG Shape: (245760,).\n",
      "Preview: [1.84829940e-04 1.37975809e-03 3.92964380e-03 ... 1.23691538e+00\n",
      " 7.54000855e-01 1.73992494e-01]\n"
     ]
    }
   ],
   "source": [
    "import numpy as np\n",
    "import math\n",
    "from utils.io import preview_np_array\n",
    "\n",
    "# Load the filtered seeg signal in the ripple band\n",
    "ripple_seeg_file_name = f\"{INPUT_FOLDER}/ripple_band.npy\"\n",
    "ripple_band_seeg = np.load(f\"{ripple_seeg_file_name}\")\n",
    "\n",
    "# Remove the extra inner dimension\n",
    "ripple_band_seeg = np.squeeze(ripple_band_seeg)\n",
    "\n",
    "preview_np_array(ripple_band_seeg, \"Ripple Band SEEG\", edge_items=3)"
   ]
  },
  {
   "cell_type": "code",
   "execution_count": 18,
   "metadata": {},
   "outputs": [
    {
     "name": "stdout",
     "output_type": "stream",
     "text": [
      "FR Band SEEG Shape: (245760,).\n",
      "Preview: [ 0.00095524  0.00310525 -0.00478473 ... -0.49596476 -0.2753618\n",
      "  0.28661303]\n"
     ]
    }
   ],
   "source": [
    "# Load the filtered seeg signal in the fast ripple band\n",
    "fr_seeg_file_name = f\"{INPUT_FOLDER}/fr_band.npy\"\n",
    "fr_band_seeg = np.load(f\"{fr_seeg_file_name}\")\n",
    "\n",
    "# Remove the extra inner dimension\n",
    "fr_band_seeg = np.squeeze(fr_band_seeg)\n",
    "\n",
    "preview_np_array(fr_band_seeg, \"FR Band SEEG\", edge_items=3)"
   ]
  },
  {
   "cell_type": "code",
   "execution_count": 19,
   "metadata": {},
   "outputs": [
    {
     "name": "stdout",
     "output_type": "stream",
     "text": [
      "fr_markers Shape: (199,).\n",
      "Preview: [('Fast-Ripple',   1000.  , 0.)\n",
      " ('Spike+Ripple+Fast-Ripple',   3206.54, 0.)\n",
      " ('Fast-Ripple',   3770.02, 0.) ... ('Fast-Ripple', 116096.  , 0.)\n",
      " ('Ripple+Fast-Ripple', 116769.  , 0.) ('Fast-Ripple', 119000.  , 0.)]\n"
     ]
    }
   ],
   "source": [
    "# Load the annotated events (For Fast Ripples)\n",
    "fr_markers_file_name = f\"{INPUT_FOLDER}/markers_fr_band.npy\"\n",
    "fr_markers = np.load(f\"{fr_markers_file_name}\")\n",
    "\n",
    "# Remove the extra inner dimension\n",
    "fr_markers = np.squeeze(fr_markers)\n",
    "\n",
    "preview_np_array(fr_markers, \"fr_markers\", edge_items=3)"
   ]
  },
  {
   "cell_type": "markdown",
   "metadata": {},
   "source": [
    "## 1. Select a time window of the signal representative of the whole signal"
   ]
  },
  {
   "cell_type": "code",
   "execution_count": 20,
   "metadata": {},
   "outputs": [
    {
     "name": "stdout",
     "output_type": "stream",
     "text": [
      "Cropped Ripple Band SEEG Shape: (122880,).\n",
      "Preview: [ 1.84829940e-04  1.37975809e-03  3.92964380e-03 ... -9.70567864e-02\n",
      " -4.53527518e-01 -7.20332108e-01]\n",
      "Cropped FR Band SEEG Shape: (122880,).\n",
      "Preview: [ 0.00095524  0.00310525 -0.00478473 ... -0.29380478 -0.22372997\n",
      " -0.05078035]\n"
     ]
    }
   ],
   "source": [
    "import math\n",
    "from utils.input import SAMPLING_RATE, X_STEP\n",
    "\n",
    "window_size = 60 * (10**3)  # 60 seconds or 60,000 ms\n",
    "\n",
    "# Crop the signal to the respective window_size\n",
    "# find the last index before the window_size\n",
    "num_samples_window = math.ceil(window_size / X_STEP)\n",
    "\n",
    "# Crop the signal to the respective window_size\n",
    "ripple_band_seeg = ripple_band_seeg[:num_samples_window]\n",
    "fr_band_seeg = fr_band_seeg[:num_samples_window]\n",
    "\n",
    "preview_np_array(ripple_band_seeg, \"Cropped Ripple Band SEEG\", edge_items=3)\n",
    "preview_np_array(fr_band_seeg, \"Cropped FR Band SEEG\", edge_items=3)"
   ]
  },
  {
   "cell_type": "markdown",
   "metadata": {},
   "source": [
    "## Store the maximum signal amplitudes of consecutive non-overlapping time sub-windows\n",
    "For this, we need to define the length of the `sub_windows`.\n",
    "\n",
    "Since we floor the value, some values in the end of the window will not be considered if it is not a multiple of the sub-window length"
   ]
  },
  {
   "cell_type": "code",
   "execution_count": 21,
   "metadata": {},
   "outputs": [
    {
     "name": "stdout",
     "output_type": "stream",
     "text": [
      "Sub-Window Length:  204\n"
     ]
    }
   ],
   "source": [
    "# Each sub-window is 0.1s or 100ms\n",
    "sub_window_length = math.floor(num_samples_window / (60 * 10))   # Define the sub-window length according to the window size \n",
    "print(\"Sub-Window Length: \", sub_window_length)"
   ]
  },
  {
   "cell_type": "markdown",
   "metadata": {},
   "source": [
    "### Iterate over the sub-windows and store the maximum/minimum signal amplitude of each sub-window"
   ]
  },
  {
   "cell_type": "code",
   "execution_count": 22,
   "metadata": {},
   "outputs": [
    {
     "name": "stdout",
     "output_type": "stream",
     "text": [
      "Ripple Max Amplitudes Shape: (602,).\n",
      "Preview: [2.8749678  2.59958592 1.86269414 ... 3.07960351 2.23911448 1.39273402]\n",
      "Ripple Min Amplitudes Shape: (602,).\n",
      "Preview: [-2.76447771 -2.16734483 -2.13393902 ... -2.48346681 -1.9709944\n",
      " -1.97422883]\n",
      "FR Max Amplitudes Shape: (602,).\n",
      "Preview: [1.21234837 1.40058732 1.28119105 ... 7.9667778  1.57403183 1.29584473]\n",
      "FR Min Amplitudes Shape: (602,).\n",
      "Preview: [-1.23287038 -1.3671417  -1.38711312 ... -7.67292681 -1.42231761\n",
      " -1.51769625]\n"
     ]
    }
   ],
   "source": [
    "ripple_max_amplitudes = []\n",
    "ripple_min_amplitudes = []\n",
    "fr_max_amplitudes = []\n",
    "fr_min_amplitudes = []\n",
    "\n",
    "for start_idx in range(0, num_samples_window - sub_window_length, sub_window_length):\n",
    "    end_idx = start_idx + sub_window_length\n",
    "    # Crop the signal to the respective window_size\n",
    "    ripple_sub_window_seeg = ripple_band_seeg[start_idx:end_idx]\n",
    "    fr_sub_window_seeg = fr_band_seeg[start_idx:end_idx]\n",
    "\n",
    "    # Get the maximum signal amplitude in the sub-window\n",
    "    ripple_max_amp = np.max(ripple_sub_window_seeg)\n",
    "    fr_max_amp = np.max(fr_sub_window_seeg)\n",
    "    # Get the minimum signal amplitude in the sub-window\n",
    "    ripple_min_amp = np.min(ripple_sub_window_seeg)\n",
    "    fr_min_amp = np.min(fr_sub_window_seeg)\n",
    "\n",
    "    # Append the maximum amplitudes to the respective lists\n",
    "    ripple_max_amplitudes.append(ripple_max_amp)\n",
    "    fr_max_amplitudes.append(fr_max_amp)\n",
    "    # Append the minimum amplitudes to the respective lists\n",
    "    ripple_min_amplitudes.append(ripple_min_amp)\n",
    "    fr_min_amplitudes.append(fr_min_amp)\n",
    "\n",
    "ripple_max_amplitudes = np.array(ripple_max_amplitudes)\n",
    "fr_max_amplitudes = np.array(fr_max_amplitudes)\n",
    "ripple_min_amplitudes = np.array(ripple_min_amplitudes)\n",
    "fr_min_amplitudes = np.array(fr_min_amplitudes)\n",
    "\n",
    "preview_np_array(ripple_max_amplitudes, \"Ripple Max Amplitudes\", edge_items=3)\n",
    "preview_np_array(ripple_min_amplitudes, \"Ripple Min Amplitudes\", edge_items=3)\n",
    "preview_np_array(fr_max_amplitudes, \"FR Max Amplitudes\", edge_items=3)\n",
    "preview_np_array(fr_min_amplitudes, \"FR Min Amplitudes\", edge_items=3)\n",
    "\n",
    "num_sub_windows = len(ripple_max_amplitudes)"
   ]
  },
  {
   "cell_type": "markdown",
   "metadata": {},
   "source": [
    "### Plot the maximum signal amplitudes of the sub-windows as an Histogram"
   ]
  },
  {
   "cell_type": "code",
   "execution_count": 23,
   "metadata": {},
   "outputs": [],
   "source": [
    "# Plot the maximum amplitudes of the sub-windows in a histogram\n",
    "from utils.bar_plot import create_histogram  # Import the function to create the figure\n",
    "\n",
    "# Define the histogram bins\n",
    "ripple_min_amp = np.min(ripple_max_amplitudes)\n",
    "ripple_max_amp = np.max(ripple_max_amplitudes)\n",
    "bins = np.linspace(ripple_min_amp, ripple_max_amp, 100)    \n",
    "\n",
    "ripple_max_amp_hist = create_histogram(\n",
    "    title=\"Ripple Sub-Window Max. Amplitude Histogram\", \n",
    "    x_axis_label='Amplitude (uV)', \n",
    "    y_axis_label='Count',\n",
    "    bins=bins,\n",
    "    x=ripple_max_amplitudes,\n",
    "    is_density=False,\n",
    "    sizing_mode=\"stretch_width\",\n",
    ")"
   ]
  },
  {
   "cell_type": "code",
   "execution_count": 24,
   "metadata": {},
   "outputs": [],
   "source": [
    "# Plot the minimum amplitudes of the sub-windows in a histogram\n",
    "# Define the histogram bins\n",
    "ripple_min_amp = np.min(ripple_min_amplitudes)\n",
    "ripple_max_amp = np.max(ripple_min_amplitudes)\n",
    "bins = np.linspace(ripple_min_amp, ripple_max_amp, 100)    \n",
    "\n",
    "ripple_min_amp_hist = create_histogram(\n",
    "    title=\"Ripple Sub-Window Min. Amplitude Histogram\", \n",
    "    x_axis_label='Amplitude (uV)', \n",
    "    y_axis_label='Count',\n",
    "    bins=bins,\n",
    "    x=ripple_min_amplitudes,\n",
    "    is_density=False,\n",
    "    sizing_mode=\"stretch_width\",\n",
    ")"
   ]
  },
  {
   "cell_type": "code",
   "execution_count": 25,
   "metadata": {},
   "outputs": [],
   "source": [
    "# Define the histogram bins\n",
    "fr_min_amp = np.min(fr_max_amplitudes)\n",
    "fr_max_amp = np.max(fr_max_amplitudes)\n",
    "bins = np.linspace(fr_min_amp, fr_max_amp, 100)    \n",
    "\n",
    "fr_max_amp_hist = create_histogram(\n",
    "    title=\"FR Sub-Window Max. Amplitude Histogram\", \n",
    "    x_axis_label='Amplitude (uV)', \n",
    "    y_axis_label='Count',\n",
    "    bins=bins,\n",
    "    x=fr_max_amplitudes,\n",
    "    is_density=False,\n",
    "    sizing_mode=\"stretch_width\",\n",
    ")"
   ]
  },
  {
   "cell_type": "code",
   "execution_count": 26,
   "metadata": {},
   "outputs": [],
   "source": [
    "# Define the histogram bins\n",
    "fr_min_amp = np.min(fr_min_amplitudes)\n",
    "fr_max_amp = np.max(fr_min_amplitudes)\n",
    "bins = np.linspace(fr_min_amp, fr_max_amp, 100)    \n",
    "\n",
    "fr_min_amp_hist = create_histogram(\n",
    "    title=\"FR Sub-Window Min. Amplitude Histogram\", \n",
    "    x_axis_label='Amplitude (uV)', \n",
    "    y_axis_label='Count',\n",
    "    bins=bins,\n",
    "    x=fr_min_amplitudes,\n",
    "    is_density=False,\n",
    "    sizing_mode=\"stretch_width\",\n",
    ")"
   ]
  },
  {
   "cell_type": "code",
   "execution_count": 27,
   "metadata": {},
   "outputs": [],
   "source": [
    "import bokeh.plotting as bplt\n",
    "\n",
    "show_ripple_hist_plot = True\n",
    "if show_ripple_hist_plot:\n",
    "    # Show the plots\n",
    "    bplt.show(ripple_min_amp_hist)\n",
    "    bplt.reset_output()\n",
    "\n",
    "    bplt.show(ripple_max_amp_hist)\n",
    "    # Close the plot\n",
    "    bplt.reset_output()"
   ]
  },
  {
   "cell_type": "code",
   "execution_count": 28,
   "metadata": {},
   "outputs": [],
   "source": [
    "show_fr_hist_plot = True\n",
    "if show_fr_hist_plot:\n",
    "    # Show the plot\n",
    "    bplt.show(fr_min_amp_hist)\n",
    "    bplt.reset_output()\n",
    "\n",
    "    bplt.show(fr_max_amp_hist)\n",
    "    bplt.reset_output()"
   ]
  },
  {
   "cell_type": "markdown",
   "metadata": {},
   "source": [
    "### Plot the maximum signal amplitudes of the sub-windows as a Bar Plot"
   ]
  },
  {
   "cell_type": "code",
   "execution_count": 30,
   "metadata": {},
   "outputs": [
    {
     "name": "stdout",
     "output_type": "stream",
     "text": [
      "ripple_quantiles:  [1.89744714 2.36022267 3.58106013]\n",
      "Ripple IQR:  1.6836129873863785\n"
     ]
    }
   ],
   "source": [
    "from utils.bar_plot import create_box_plot\n",
    "\n",
    "# Create the BoxPlot\n",
    "ripple_max_amp_boxplot = create_box_plot(\n",
    "    title=\"Boxplot of Ripple Sub-Window Max. Amplitudes\", \n",
    "    box_arrays=[ripple_max_amplitudes],\n",
    "    y_axis_label='Amplitude (uV)',\n",
    "    sizing_mode=\"stretch_width\",\n",
    ")\n",
    "\n",
    "show_ripple_barplot = True\n",
    "if show_ripple_barplot:\n",
    "    # Show the plot\n",
    "    bplt.show(ripple_max_amp_boxplot)"
   ]
  },
  {
   "cell_type": "code",
   "execution_count": 31,
   "metadata": {},
   "outputs": [
    {
     "name": "stdout",
     "output_type": "stream",
     "text": [
      "ripple_quantiles:  [1.09761916 1.27307976 1.56290855]\n",
      "Ripple IQR:  0.46528938809785525\n"
     ]
    }
   ],
   "source": [
    "# Create the BoxPlot\n",
    "fr_max_amp_boxplot = create_box_plot(\n",
    "    title=\"Boxplot of Fast Ripple Sub-Window Max. Amplitudes\", \n",
    "    box_arrays=[fr_max_amplitudes],\n",
    "    y_axis_label='Amplitude (uV)',\n",
    "    sizing_mode=\"stretch_width\",\n",
    ")\n",
    "\n",
    "show_fr_barplot = True\n",
    "if show_fr_barplot:\n",
    "    # Show the plot\n",
    "    bplt.show(fr_max_amp_boxplot)\n",
    "\n",
    "# TODO: Not plotting the boxplot for the minimum amplitudes"
   ]
  },
  {
   "cell_type": "markdown",
   "metadata": {},
   "source": [
    "### Show some statistics of the maximum sub-window amplitudes"
   ]
  },
  {
   "cell_type": "code",
   "execution_count": 34,
   "metadata": {},
   "outputs": [
    {
     "name": "stdout",
     "output_type": "stream",
     "text": [
      "Mean Max. Ripple Amplitude:  4.791642823791782\n",
      "Std Max. Ripple Amplitude:  5.857269410181627\n"
     ]
    }
   ],
   "source": [
    "mean_max_ripple_amp = np.mean(ripple_max_amplitudes)\n",
    "std_max_ripple_amp = np.std(ripple_max_amplitudes)\n",
    "print(\"Mean Max. Ripple Amplitude: \", mean_max_ripple_amp)\n",
    "print(\"Std Max. Ripple Amplitude: \", std_max_ripple_amp)"
   ]
  },
  {
   "cell_type": "code",
   "execution_count": 35,
   "metadata": {},
   "outputs": [
    {
     "name": "stdout",
     "output_type": "stream",
     "text": [
      "Mean Max. FR Amplitude:  2.3014105356068097\n",
      "Std Max. FR Amplitude:  2.281714192863412\n"
     ]
    }
   ],
   "source": [
    "mean_max_fr_amp = np.mean(fr_max_amplitudes)\n",
    "std_max_fr_amp = np.std(fr_max_amplitudes)\n",
    "print(\"Mean Max. FR Amplitude: \", mean_max_fr_amp)\n",
    "print(\"Std Max. FR Amplitude: \", std_max_fr_amp)"
   ]
  },
  {
   "cell_type": "markdown",
   "metadata": {},
   "source": [
    "### Show some statistics of the minimum sub-window amplitudes"
   ]
  },
  {
   "cell_type": "code",
   "execution_count": 36,
   "metadata": {},
   "outputs": [
    {
     "name": "stdout",
     "output_type": "stream",
     "text": [
      "Mean Min Ripple Amplitude:  -4.886182103984313\n",
      "Std Min Ripple Amplitude:  5.835452221335399\n"
     ]
    }
   ],
   "source": [
    "mean_min_ripple_amp = np.mean(ripple_min_amplitudes)\n",
    "std_min_ripple_amp = np.std(ripple_min_amplitudes)\n",
    "print(\"Mean Min Ripple Amplitude: \", mean_min_ripple_amp)\n",
    "print(\"Std Min Ripple Amplitude: \", std_min_ripple_amp)"
   ]
  },
  {
   "cell_type": "code",
   "execution_count": 37,
   "metadata": {},
   "outputs": [
    {
     "name": "stdout",
     "output_type": "stream",
     "text": [
      "Mean Min. FR Amplitude:  -2.24171464700685\n",
      "Std Min. FR Amplitude:  2.1598844147258833\n"
     ]
    }
   ],
   "source": [
    "mean_min_fr_amp = np.mean(fr_min_amplitudes)\n",
    "std_min_fr_amp = np.std(fr_min_amplitudes)\n",
    "print(\"Mean Min. FR Amplitude: \", mean_min_fr_amp)\n",
    "print(\"Std Min. FR Amplitude: \", std_min_fr_amp)"
   ]
  },
  {
   "cell_type": "markdown",
   "metadata": {},
   "source": [
    "## 3. Take the mean of the lowest quartile as the baseline amplitude."
   ]
  },
  {
   "cell_type": "code",
   "execution_count": 38,
   "metadata": {},
   "outputs": [
    {
     "name": "stdout",
     "output_type": "stream",
     "text": [
      "Lowest Quartile Ripple:  1.897447142746294\n",
      "Lowest Quartile FR:  1.0976191637566837\n"
     ]
    }
   ],
   "source": [
    "#Mean of the lowest quartile (Q1 - 25%)\n",
    "lowest_quartile_ripple = np.percentile(ripple_max_amplitudes, 25)\n",
    "\n",
    "lowest_quartile_fr = np.percentile(fr_max_amplitudes, 25)\n",
    "\n",
    "print(\"Lowest Quartile Ripple: \", lowest_quartile_ripple)\n",
    "print(\"Lowest Quartile FR: \", lowest_quartile_fr)\n",
    "\n",
    "# TODO: For now using the DN_Threshold as the symetric value of the UP_THRESHOLD"
   ]
  },
  {
   "cell_type": "markdown",
   "metadata": {},
   "source": [
    "### Store the Amplitude Thresholds that will be used to convert the signal into spikes"
   ]
  },
  {
   "cell_type": "code",
   "execution_count": 65,
   "metadata": {},
   "outputs": [],
   "source": [
    "# Store the amplitude thresholds\n",
    "out_filename = f\"{RESULTS_FOLDER}/{DATASET_FILENAME}_thresholds.npy\"\n",
    "\n",
    "EXPORT_THRESHOLD = True\n",
    "if EXPORT_THRESHOLD:\n",
    "    np.save(out_filename, np.array([lowest_quartile_ripple, lowest_quartile_fr]))"
   ]
  },
  {
   "cell_type": "code",
   "execution_count": null,
   "metadata": {},
   "outputs": [],
   "source": []
  }
 ],
 "metadata": {
  "kernelspec": {
   "display_name": "Python 3 (ipykernel)",
   "language": "python",
   "name": "python3"
  },
  "language_info": {
   "codemirror_mode": {
    "name": "ipython",
    "version": 3
   },
   "file_extension": ".py",
   "mimetype": "text/x-python",
   "name": "python",
   "nbconvert_exporter": "python",
   "pygments_lexer": "ipython3",
   "version": "3.10.12"
  }
 },
 "nbformat": 4,
 "nbformat_minor": 2
}
