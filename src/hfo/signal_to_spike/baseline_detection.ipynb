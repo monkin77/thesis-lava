{
 "cells": [
  {
   "cell_type": "markdown",
   "metadata": {},
   "source": [
    "# **Signal To Spike Conversion** - Baseline Detection\n",
    "This notebook presents the **baseline detection** step that needs to be conducted before doing the signal-to-spike conversion.\n",
    "\n",
    "The signal-to-spike conversion requires the definition of the `up_threshold` and `down_threshold` values that will be used to translate the continuous signal into discrete events. Here, we follow the approach proposed by Indiveri's team to define these thresholds. Which is composed of the following steps:\n",
    "1. Select a time window of the signal representative of the whole signal.\n",
    "   - The source work used a 1s window.\n",
    "   - We will test different window sizes.\n",
    "2. Store the maximum signal amplitudes of consecutive non-overlapping time sub-windows of a defined size.\n",
    "3. Take the mean of the lowest quartile as the baseline amplitude.\n",
    "   - Check why we are using the lowest quartile.    "
   ]
  },
  {
   "cell_type": "markdown",
   "metadata": {},
   "source": [
    "### Check WD (change if necessary) and file loading"
   ]
  },
  {
   "cell_type": "code",
   "execution_count": 78,
   "metadata": {},
   "outputs": [
    {
     "name": "stdout",
     "output_type": "stream",
     "text": [
      "/home/monkin/Desktop/feup/thesis/thesis-lava/src/hfo/signal_to_spike\n"
     ]
    }
   ],
   "source": [
    "# Show current directory\n",
    "import os\n",
    "curr_dir = os.getcwd()\n",
    "print(curr_dir)\n",
    "\n",
    "# Check if the current WD is the file location\n",
    "if \"/src/hfo/signal_to_spike\" not in os.getcwd():\n",
    "    # Set working directory to this file location\n",
    "    file_location = f\"{os.getcwd()}/thesis-lava/src/hfo/signal_to_spike\"\n",
    "    print(\"File Location: \", file_location)\n",
    "\n",
    "    # Change the current working Directory\n",
    "    os.chdir(file_location)\n",
    "\n",
    "    # New Working Directory\n",
    "    print(\"New Working Directory: \", os.getcwd())"
   ]
  },
  {
   "cell_type": "markdown",
   "metadata": {},
   "source": [
    "## Let's first load the filtered SEEG signal\n",
    "This notebook only converts 1 SEEG channel to spikes. Therefore, the `.npy` file must contain a single channel."
   ]
  },
  {
   "cell_type": "markdown",
   "metadata": {},
   "source": [
    "### Declare the `INPUT_FOLDER` and `RESULTS_FOLDER`"
   ]
  },
  {
   "cell_type": "code",
   "execution_count": 79,
   "metadata": {},
   "outputs": [],
   "source": [
    "# CAREFUL WITH THIS FOLDER TO NOT OVERWRITE THE FILES\n",
    "DATASET_FILENAME = \"seeg_filtered_subset_90-119_segment500_200\"\n",
    "INPUT_FOLDER = f\"../subset/results/{DATASET_FILENAME}\"\n",
    "RESULTS_FOLDER = \"baseline_results\""
   ]
  },
  {
   "cell_type": "markdown",
   "metadata": {},
   "source": [
    "### Load the Ripple, Fast Ripple, and Annotated Events"
   ]
  },
  {
   "cell_type": "code",
   "execution_count": 80,
   "metadata": {},
   "outputs": [
    {
     "name": "stdout",
     "output_type": "stream",
     "text": [
      "Ripple Band SEEG Shape: (245760,).\n",
      "Preview: [1.84829940e-04 1.37975809e-03 3.92964380e-03 ... 1.23691538e+00\n",
      " 7.54000855e-01 1.73992494e-01]\n"
     ]
    }
   ],
   "source": [
    "import numpy as np\n",
    "import math\n",
    "from utils.io import preview_np_array\n",
    "\n",
    "# Load the filtered seeg signal in the ripple band\n",
    "ripple_seeg_file_name = f\"{INPUT_FOLDER}/ripple_band.npy\"\n",
    "ripple_band_seeg = np.load(f\"{ripple_seeg_file_name}\")\n",
    "\n",
    "# Remove the extra inner dimension\n",
    "ripple_band_seeg = np.squeeze(ripple_band_seeg)\n",
    "\n",
    "preview_np_array(ripple_band_seeg, \"Ripple Band SEEG\", edge_items=3)"
   ]
  },
  {
   "cell_type": "code",
   "execution_count": 81,
   "metadata": {},
   "outputs": [
    {
     "name": "stdout",
     "output_type": "stream",
     "text": [
      "FR Band SEEG Shape: (245760,).\n",
      "Preview: [ 0.00095524  0.00310525 -0.00478473 ... -0.49596476 -0.2753618\n",
      "  0.28661303]\n"
     ]
    }
   ],
   "source": [
    "# Load the filtered seeg signal in the fast ripple band\n",
    "fr_seeg_file_name = f\"{INPUT_FOLDER}/fr_band.npy\"\n",
    "fr_band_seeg = np.load(f\"{fr_seeg_file_name}\")\n",
    "\n",
    "# Remove the extra inner dimension\n",
    "fr_band_seeg = np.squeeze(fr_band_seeg)\n",
    "\n",
    "preview_np_array(fr_band_seeg, \"FR Band SEEG\", edge_items=3)"
   ]
  },
  {
   "cell_type": "code",
   "execution_count": 82,
   "metadata": {},
   "outputs": [
    {
     "name": "stdout",
     "output_type": "stream",
     "text": [
      "ripple_markers Shape: (222,).\n",
      "Preview: [('Fast-Ripple',   1000.  , 0.)\n",
      " ('Spike+Ripple+Fast-Ripple',   3206.54, 0.)\n",
      " ('Spike+Ripple',   3521.  , 0.) ... ('Spike+Ripple', 116216.  , 0.)\n",
      " ('Ripple+Fast-Ripple', 116769.  , 0.) ('Ripple', 119000.  , 0.)]\n"
     ]
    }
   ],
   "source": [
    "# Load the annotated events (For Ripples)\n",
    "ripple_markers_file_name = f\"{INPUT_FOLDER}/markers_ripple_band.npy\"\n",
    "ripple_markers = np.load(f\"{ripple_markers_file_name}\")\n",
    "\n",
    "# Remove the extra inner dimension\n",
    "ripple_markers = np.squeeze(ripple_markers)\n",
    "\n",
    "preview_np_array(ripple_markers, \"ripple_markers\", edge_items=3)"
   ]
  },
  {
   "cell_type": "code",
   "execution_count": 83,
   "metadata": {},
   "outputs": [
    {
     "name": "stdout",
     "output_type": "stream",
     "text": [
      "fr_markers Shape: (199,).\n",
      "Preview: [('Fast-Ripple',   1000.  , 0.)\n",
      " ('Spike+Ripple+Fast-Ripple',   3206.54, 0.)\n",
      " ('Fast-Ripple',   3770.02, 0.) ... ('Fast-Ripple', 116096.  , 0.)\n",
      " ('Ripple+Fast-Ripple', 116769.  , 0.) ('Fast-Ripple', 119000.  , 0.)]\n"
     ]
    }
   ],
   "source": [
    "# Load the annotated events (For Fast Ripples)\n",
    "fr_markers_file_name = f\"{INPUT_FOLDER}/markers_fr_band.npy\"\n",
    "fr_markers = np.load(f\"{fr_markers_file_name}\")\n",
    "\n",
    "# Remove the extra inner dimension\n",
    "fr_markers = np.squeeze(fr_markers)\n",
    "\n",
    "preview_np_array(fr_markers, \"fr_markers\", edge_items=3)"
   ]
  },
  {
   "cell_type": "markdown",
   "metadata": {},
   "source": [
    "There are 222 Ripple Events and 199 Fast Ripple Events in the dataset for the whole time. Since we are considering a 60s window, that means about half of the events are present during the window. Thus, we can **expect to have around 111 Ripple Events and 100 Fast Ripple Events** in the window. -> Relevant Event Rate ~= 105 / 60s = 1.75 Events/s\n",
    "\n",
    "Therefore, there is an event every `1/1.75s` = `0.571s`. Since the event rate may vary and it's better to estimate the baseline threshold a bit lower, let's assume an event rate of 0.5 events/s.\n",
    "\n",
    "We can use a `sub_window_size` of `0.5/4` = 0.125s. This way, about 25% of the sub-windows (slightly less) will contain a relevant event. This is useful to decide the heuristic that will select the baseline threshold. An intuitive one is to select the Q3 (75th percentile) of the maximum amplitudes of the sub-windows."
   ]
  },
  {
   "cell_type": "markdown",
   "metadata": {},
   "source": [
    "## 1. Select a time window of the signal representative of the whole signal"
   ]
  },
  {
   "cell_type": "code",
   "execution_count": 84,
   "metadata": {},
   "outputs": [
    {
     "name": "stdout",
     "output_type": "stream",
     "text": [
      "Cropped Ripple Band SEEG Shape: (122880,).\n",
      "Preview: [ 1.84829940e-04  1.37975809e-03  3.92964380e-03 ... -9.70567864e-02\n",
      " -4.53527518e-01 -7.20332108e-01]\n",
      "Cropped FR Band SEEG Shape: (122880,).\n",
      "Preview: [ 0.00095524  0.00310525 -0.00478473 ... -0.29380478 -0.22372997\n",
      " -0.05078035]\n"
     ]
    }
   ],
   "source": [
    "import math\n",
    "from utils.input import SAMPLING_RATE, X_STEP\n",
    "\n",
    "window_size = 60 * (10**3)  # 60 seconds or 60,000 ms\n",
    "\n",
    "# Crop the signal to the respective window_size\n",
    "# find the last index before the window_size\n",
    "num_samples_window = math.ceil(window_size / X_STEP)\n",
    "\n",
    "# Crop the signal to the respective window_size\n",
    "ripple_band_seeg = ripple_band_seeg[:num_samples_window]\n",
    "fr_band_seeg = fr_band_seeg[:num_samples_window]\n",
    "\n",
    "preview_np_array(ripple_band_seeg, \"Cropped Ripple Band SEEG\", edge_items=3)\n",
    "preview_np_array(fr_band_seeg, \"Cropped FR Band SEEG\", edge_items=3)"
   ]
  },
  {
   "cell_type": "markdown",
   "metadata": {},
   "source": [
    "## Store the maximum signal amplitudes of consecutive non-overlapping time sub-windows\n",
    "For this, we need to define the length of the `sub_windows`.\n",
    "\n",
    "Since we floor the value, some values in the end of the window will not be considered if it is not a multiple of the sub-window length"
   ]
  },
  {
   "cell_type": "code",
   "execution_count": 85,
   "metadata": {},
   "outputs": [
    {
     "name": "stdout",
     "output_type": "stream",
     "text": [
      "Sub-Window Length:  256\n"
     ]
    }
   ],
   "source": [
    "# Each sub-window is 0.1s or 100ms OR let's also try 0.46s\n",
    "sub_window_scale = 12.5/100\n",
    "sub_window_length = math.floor((num_samples_window / 60) * sub_window_scale)   # Define the sub-window length according to the window size \n",
    "print(\"Sub-Window Length: \", sub_window_length)"
   ]
  },
  {
   "cell_type": "markdown",
   "metadata": {},
   "source": [
    "### Iterate over the sub-windows and store the maximum/minimum signal amplitude of each sub-window"
   ]
  },
  {
   "cell_type": "code",
   "execution_count": 86,
   "metadata": {},
   "outputs": [
    {
     "name": "stdout",
     "output_type": "stream",
     "text": [
      "Ripple Max Amplitudes Shape: (479,).\n",
      "Preview: [2.8749678  2.59958592 2.51322257 ... 3.18531111 3.07960351 2.23911448]\n",
      "Ripple Min Amplitudes Shape: (479,).\n",
      "Preview: [-2.76447771 -2.16734483 -1.89198762 ... -2.59355401 -2.48346681\n",
      " -1.9709944 ]\n",
      "FR Max Amplitudes Shape: (479,).\n",
      "Preview: [1.21234837 1.40058732 1.21289897 ... 1.40628557 7.9667778  1.57403183]\n",
      "FR Min Amplitudes Shape: (479,).\n",
      "Preview: [-1.23287038 -1.38711312 -1.17633501 ... -1.27426537 -7.67292681\n",
      " -1.42231761]\n"
     ]
    }
   ],
   "source": [
    "ripple_max_amplitudes = []\n",
    "ripple_min_amplitudes = []\n",
    "fr_max_amplitudes = []\n",
    "fr_min_amplitudes = []\n",
    "\n",
    "for start_idx in range(0, num_samples_window - sub_window_length, sub_window_length):\n",
    "    end_idx = start_idx + sub_window_length\n",
    "    # Crop the signal to the respective window_size\n",
    "    ripple_sub_window_seeg = ripple_band_seeg[start_idx:end_idx]\n",
    "    fr_sub_window_seeg = fr_band_seeg[start_idx:end_idx]\n",
    "\n",
    "    # Get the maximum signal amplitude in the sub-window\n",
    "    ripple_max_amp = np.max(ripple_sub_window_seeg)\n",
    "    fr_max_amp = np.max(fr_sub_window_seeg)\n",
    "    # Get the minimum signal amplitude in the sub-window\n",
    "    ripple_min_amp = np.min(ripple_sub_window_seeg)\n",
    "    fr_min_amp = np.min(fr_sub_window_seeg)\n",
    "\n",
    "    # Append the maximum amplitudes to the respective lists\n",
    "    ripple_max_amplitudes.append(ripple_max_amp)\n",
    "    fr_max_amplitudes.append(fr_max_amp)\n",
    "    # Append the minimum amplitudes to the respective lists\n",
    "    ripple_min_amplitudes.append(ripple_min_amp)\n",
    "    fr_min_amplitudes.append(fr_min_amp)\n",
    "\n",
    "ripple_max_amplitudes = np.array(ripple_max_amplitudes)\n",
    "fr_max_amplitudes = np.array(fr_max_amplitudes)\n",
    "ripple_min_amplitudes = np.array(ripple_min_amplitudes)\n",
    "fr_min_amplitudes = np.array(fr_min_amplitudes)\n",
    "\n",
    "preview_np_array(ripple_max_amplitudes, \"Ripple Max Amplitudes\", edge_items=3)\n",
    "preview_np_array(ripple_min_amplitudes, \"Ripple Min Amplitudes\", edge_items=3)\n",
    "preview_np_array(fr_max_amplitudes, \"FR Max Amplitudes\", edge_items=3)\n",
    "preview_np_array(fr_min_amplitudes, \"FR Min Amplitudes\", edge_items=3)\n",
    "\n",
    "num_sub_windows = len(ripple_max_amplitudes)"
   ]
  },
  {
   "cell_type": "markdown",
   "metadata": {},
   "source": [
    "### Plot the maximum signal amplitudes of the sub-windows as an Histogram"
   ]
  },
  {
   "cell_type": "code",
   "execution_count": 87,
   "metadata": {},
   "outputs": [],
   "source": [
    "# Plot the maximum amplitudes of the sub-windows in a histogram\n",
    "from utils.bar_plot import create_histogram  # Import the function to create the figure\n",
    "\n",
    "# Define the histogram bins\n",
    "ripple_min_amp = np.min(ripple_max_amplitudes)\n",
    "ripple_max_amp = np.max(ripple_max_amplitudes)\n",
    "bins = np.linspace(ripple_min_amp, ripple_max_amp, 100)    \n",
    "\n",
    "ripple_max_amp_hist = create_histogram(\n",
    "    title=\"Ripple Sub-Window Max. Amplitude Histogram\", \n",
    "    x_axis_label='Amplitude (uV)', \n",
    "    y_axis_label='Count',\n",
    "    bins=bins,\n",
    "    x=ripple_max_amplitudes,\n",
    "    is_density=False,\n",
    "    sizing_mode=\"stretch_width\",\n",
    ")"
   ]
  },
  {
   "cell_type": "code",
   "execution_count": 88,
   "metadata": {},
   "outputs": [],
   "source": [
    "# Plot the minimum amplitudes of the sub-windows in a histogram\n",
    "# Define the histogram bins\n",
    "ripple_min_amp = np.min(ripple_min_amplitudes)\n",
    "ripple_max_amp = np.max(ripple_min_amplitudes)\n",
    "bins = np.linspace(ripple_min_amp, ripple_max_amp, 100)    \n",
    "\n",
    "ripple_min_amp_hist = create_histogram(\n",
    "    title=\"Ripple Sub-Window Min. Amplitude Histogram\", \n",
    "    x_axis_label='Amplitude (uV)', \n",
    "    y_axis_label='Count',\n",
    "    bins=bins,\n",
    "    x=ripple_min_amplitudes,\n",
    "    is_density=False,\n",
    "    sizing_mode=\"stretch_width\",\n",
    ")"
   ]
  },
  {
   "cell_type": "code",
   "execution_count": 89,
   "metadata": {},
   "outputs": [],
   "source": [
    "# Define the histogram bins\n",
    "fr_min_amp = np.min(fr_max_amplitudes)\n",
    "fr_max_amp = np.max(fr_max_amplitudes)\n",
    "bins = np.linspace(fr_min_amp, fr_max_amp, 100)    \n",
    "\n",
    "fr_max_amp_hist = create_histogram(\n",
    "    title=\"FR Sub-Window Max. Amplitude Histogram\", \n",
    "    x_axis_label='Amplitude (uV)', \n",
    "    y_axis_label='Count',\n",
    "    bins=bins,\n",
    "    x=fr_max_amplitudes,\n",
    "    is_density=False,\n",
    "    sizing_mode=\"stretch_width\",\n",
    ")"
   ]
  },
  {
   "cell_type": "code",
   "execution_count": 90,
   "metadata": {},
   "outputs": [],
   "source": [
    "# Define the histogram bins\n",
    "fr_min_amp = np.min(fr_min_amplitudes)\n",
    "fr_max_amp = np.max(fr_min_amplitudes)\n",
    "bins = np.linspace(fr_min_amp, fr_max_amp, 100)    \n",
    "\n",
    "fr_min_amp_hist = create_histogram(\n",
    "    title=\"FR Sub-Window Min. Amplitude Histogram\", \n",
    "    x_axis_label='Amplitude (uV)', \n",
    "    y_axis_label='Count',\n",
    "    bins=bins,\n",
    "    x=fr_min_amplitudes,\n",
    "    is_density=False,\n",
    "    sizing_mode=\"stretch_width\",\n",
    ")"
   ]
  },
  {
   "cell_type": "code",
   "execution_count": 91,
   "metadata": {},
   "outputs": [],
   "source": [
    "import bokeh.plotting as bplt\n",
    "\n",
    "show_ripple_hist_plot = True\n",
    "if show_ripple_hist_plot:\n",
    "    # Show the plots\n",
    "    bplt.show(ripple_min_amp_hist)\n",
    "    bplt.reset_output()\n",
    "\n",
    "    bplt.show(ripple_max_amp_hist)\n",
    "    # Close the plot\n",
    "    bplt.reset_output()"
   ]
  },
  {
   "cell_type": "code",
   "execution_count": 92,
   "metadata": {},
   "outputs": [],
   "source": [
    "show_fr_hist_plot = True\n",
    "if show_fr_hist_plot:\n",
    "    # Show the plot\n",
    "    bplt.show(fr_min_amp_hist)\n",
    "    bplt.reset_output()\n",
    "\n",
    "    bplt.show(fr_max_amp_hist)\n",
    "    bplt.reset_output()"
   ]
  },
  {
   "cell_type": "markdown",
   "metadata": {},
   "source": [
    "### Plot the maximum signal amplitudes of the sub-windows as a Bar Plot"
   ]
  },
  {
   "cell_type": "code",
   "execution_count": 93,
   "metadata": {},
   "outputs": [
    {
     "name": "stdout",
     "output_type": "stream",
     "text": [
      "ripple_quantiles:  [2.02862273 2.49333386 4.39949077]\n",
      "Ripple IQR:  2.370868033910786\n"
     ]
    }
   ],
   "source": [
    "from utils.bar_plot import create_box_plot\n",
    "\n",
    "# Create the BoxPlot\n",
    "ripple_max_amp_boxplot = create_box_plot(\n",
    "    title=\"Boxplot of Ripple Sub-Window Max. Amplitudes\", \n",
    "    box_arrays=[ripple_max_amplitudes],\n",
    "    y_axis_label='Amplitude (uV)',\n",
    "    sizing_mode=\"stretch_width\",\n",
    ")\n",
    "\n",
    "show_ripple_barplot = True\n",
    "if show_ripple_barplot:\n",
    "    # Show the plot\n",
    "    bplt.show(ripple_max_amp_boxplot)"
   ]
  },
  {
   "cell_type": "code",
   "execution_count": 94,
   "metadata": {},
   "outputs": [
    {
     "name": "stdout",
     "output_type": "stream",
     "text": [
      "ripple_quantiles:  [1.14821371 1.32153946 2.09332384]\n",
      "Ripple IQR:  0.945110135703555\n"
     ]
    }
   ],
   "source": [
    "# Create the BoxPlot\n",
    "fr_max_amp_boxplot = create_box_plot(\n",
    "    title=\"Boxplot of Fast Ripple Sub-Window Max. Amplitudes\", \n",
    "    box_arrays=[fr_max_amplitudes],\n",
    "    y_axis_label='Amplitude (uV)',\n",
    "    sizing_mode=\"stretch_width\",\n",
    ")\n",
    "\n",
    "show_fr_barplot = True\n",
    "if show_fr_barplot:\n",
    "    # Show the plot\n",
    "    bplt.show(fr_max_amp_boxplot)\n",
    "\n",
    "# TODO: Not plotting the boxplot for the minimum amplitudes"
   ]
  },
  {
   "cell_type": "markdown",
   "metadata": {},
   "source": [
    "### Show some statistics of the maximum sub-window amplitudes"
   ]
  },
  {
   "cell_type": "code",
   "execution_count": 95,
   "metadata": {},
   "outputs": [
    {
     "name": "stdout",
     "output_type": "stream",
     "text": [
      "Mean Max. Ripple Amplitude:  5.303002276497581\n",
      "Std Max. Ripple Amplitude:  6.334738286453318\n",
      "Median Max. Ripple Amplitude:  2.493333856291476\n"
     ]
    }
   ],
   "source": [
    "mean_max_ripple_amp = np.mean(ripple_max_amplitudes)\n",
    "std_max_ripple_amp = np.std(ripple_max_amplitudes)\n",
    "median_max_ripple_amp = np.median(ripple_max_amplitudes)\n",
    "print(\"Mean Max. Ripple Amplitude: \", mean_max_ripple_amp)\n",
    "print(\"Std Max. Ripple Amplitude: \", std_max_ripple_amp)\n",
    "print(\"Median Max. Ripple Amplitude: \", median_max_ripple_amp)"
   ]
  },
  {
   "cell_type": "code",
   "execution_count": 96,
   "metadata": {},
   "outputs": [
    {
     "name": "stdout",
     "output_type": "stream",
     "text": [
      "Mean Max. FR Amplitude:  2.570459932918446\n",
      "Std Max. FR Amplitude:  2.4461718647973796\n",
      "Median Max. FR Amplitude:  1.3215394637922488\n"
     ]
    }
   ],
   "source": [
    "mean_max_fr_amp = np.mean(fr_max_amplitudes)\n",
    "std_max_fr_amp = np.std(fr_max_amplitudes)\n",
    "median_max_fr_amp = np.median(fr_max_amplitudes)\n",
    "print(\"Mean Max. FR Amplitude: \", mean_max_fr_amp)\n",
    "print(\"Std Max. FR Amplitude: \", std_max_fr_amp)\n",
    "print(\"Median Max. FR Amplitude: \", median_max_fr_amp)"
   ]
  },
  {
   "cell_type": "markdown",
   "metadata": {},
   "source": [
    "### Show some statistics of the minimum sub-window amplitudes"
   ]
  },
  {
   "cell_type": "code",
   "execution_count": 97,
   "metadata": {},
   "outputs": [
    {
     "name": "stdout",
     "output_type": "stream",
     "text": [
      "Mean Min Ripple Amplitude:  -5.267983726049238\n",
      "Std Min Ripple Amplitude:  6.231408709803683\n",
      "Median Min Ripple Amplitude:  -2.5487704054740856\n"
     ]
    }
   ],
   "source": [
    "mean_min_ripple_amp = np.mean(ripple_min_amplitudes)\n",
    "std_min_ripple_amp = np.std(ripple_min_amplitudes)\n",
    "median_min_ripple_amp = np.median(ripple_min_amplitudes)\n",
    "print(\"Mean Min Ripple Amplitude: \", mean_min_ripple_amp)\n",
    "print(\"Std Min Ripple Amplitude: \", std_min_ripple_amp)\n",
    "print(\"Median Min Ripple Amplitude: \", median_min_ripple_amp)"
   ]
  },
  {
   "cell_type": "code",
   "execution_count": 98,
   "metadata": {},
   "outputs": [
    {
     "name": "stdout",
     "output_type": "stream",
     "text": [
      "Mean Min. FR Amplitude:  -2.5032854265375843\n",
      "Std Min. FR Amplitude:  2.317309356059813\n",
      "Median Min. FR Amplitude:  -1.3130971892472458\n"
     ]
    }
   ],
   "source": [
    "mean_min_fr_amp = np.mean(fr_min_amplitudes)\n",
    "std_min_fr_amp = np.std(fr_min_amplitudes)\n",
    "median_min_fr_amp = np.median(fr_min_amplitudes)\n",
    "print(\"Mean Min. FR Amplitude: \", mean_min_fr_amp)\n",
    "print(\"Std Min. FR Amplitude: \", std_min_fr_amp)\n",
    "print(\"Median Min. FR Amplitude: \", median_min_fr_amp)"
   ]
  },
  {
   "cell_type": "markdown",
   "metadata": {},
   "source": [
    "## 3. Take the mean of the lowest quartile as the baseline amplitude."
   ]
  },
  {
   "cell_type": "code",
   "execution_count": 99,
   "metadata": {},
   "outputs": [
    {
     "name": "stdout",
     "output_type": "stream",
     "text": [
      "Lowest Quartile Ripple:  2.0286227322405788\n",
      "Lowest Quartile FR:  1.1482137065790619\n"
     ]
    }
   ],
   "source": [
    "#Mean of the lowest quartile (Q1 - 25%)\n",
    "lowest_quartile_ripple = np.percentile(ripple_max_amplitudes, 25)\n",
    "\n",
    "lowest_quartile_fr = np.percentile(fr_max_amplitudes, 25)\n",
    "\n",
    "print(\"Lowest Quartile Ripple: \", lowest_quartile_ripple)\n",
    "print(\"Lowest Quartile FR: \", lowest_quartile_fr)\n",
    "\n",
    "# TODO: For now using the DN_Threshold as the symetric value of the UP_THRESHOLD"
   ]
  },
  {
   "cell_type": "markdown",
   "metadata": {},
   "source": [
    "### Store the Amplitude Thresholds that will be used to convert the signal into spikes"
   ]
  },
  {
   "cell_type": "code",
   "execution_count": 100,
   "metadata": {},
   "outputs": [],
   "source": [
    "# Store the amplitude thresholds\n",
    "out_filename = f\"{RESULTS_FOLDER}/{DATASET_FILENAME}_thresholds_q1.npy\"\n",
    "\n",
    "EXPORT_THRESHOLD_Q1 = True\n",
    "if EXPORT_THRESHOLD_Q1:\n",
    "    np.save(out_filename, np.array([lowest_quartile_ripple, lowest_quartile_fr]))"
   ]
  },
  {
   "cell_type": "markdown",
   "metadata": {},
   "source": [
    "## 4. Use the mean of the amplitudes array as the baseline amplitude."
   ]
  },
  {
   "cell_type": "code",
   "execution_count": 101,
   "metadata": {},
   "outputs": [
    {
     "name": "stdout",
     "output_type": "stream",
     "text": [
      "Mean Strategy Output:  [5.303002276497581, 2.570459932918446]\n"
     ]
    }
   ],
   "source": [
    "# Store the amplitude thresholds\n",
    "out_filename = f\"{RESULTS_FOLDER}/{DATASET_FILENAME}_thresholds_mean.npy\"\n",
    "\n",
    "mean_output = [mean_max_ripple_amp, mean_max_fr_amp]\n",
    "print(\"Mean Strategy Output: \", mean_output)\n",
    "\n",
    "EXPORT_THRESHOLD_MEAN = True\n",
    "if EXPORT_THRESHOLD_MEAN:\n",
    "    np.save(out_filename, np.array(mean_output))"
   ]
  },
  {
   "cell_type": "markdown",
   "metadata": {},
   "source": [
    "## 5. Use the median of the amplitudes array as the baseline amplitude."
   ]
  },
  {
   "cell_type": "code",
   "execution_count": 102,
   "metadata": {},
   "outputs": [
    {
     "name": "stdout",
     "output_type": "stream",
     "text": [
      "Median Strategy Output:  [2.493333856291476, 1.3215394637922488]\n"
     ]
    }
   ],
   "source": [
    "# Store the amplitude thresholds\n",
    "out_filename = f\"{RESULTS_FOLDER}/{DATASET_FILENAME}_thresholds_median.npy\"\n",
    "\n",
    "median_output = [median_max_ripple_amp, median_max_fr_amp]\n",
    "print(\"Median Strategy Output: \", median_output)\n",
    "\n",
    "EXPORT_THRESHOLD_MEDIAN = True\n",
    "if EXPORT_THRESHOLD_MEDIAN:\n",
    "    np.save(out_filename, np.array(median_output))"
   ]
  },
  {
   "cell_type": "markdown",
   "metadata": {},
   "source": [
    "## 6. Use the Q3 (75 percentile) of the amplitudes array as the baseline amplitude."
   ]
  },
  {
   "cell_type": "code",
   "execution_count": 103,
   "metadata": {},
   "outputs": [
    {
     "name": "stdout",
     "output_type": "stream",
     "text": [
      "Highest Quartile Ripple:  4.399490766151365\n",
      "Highest Quartile FR:  2.093323842282617\n"
     ]
    }
   ],
   "source": [
    "# Mean of the lowest quartile (Q1 - 25%)\n",
    "highest_quartile_ripple = np.percentile(ripple_max_amplitudes, 75)\n",
    "\n",
    "highest_quartile_fr = np.percentile(fr_max_amplitudes, 75)\n",
    "\n",
    "print(\"Highest Quartile Ripple: \", highest_quartile_ripple)\n",
    "print(\"Highest Quartile FR: \", highest_quartile_fr)\n",
    "\n",
    "# TODO: For now using the DN_Threshold as the symetric value of the UP_THRESHOLD"
   ]
  },
  {
   "cell_type": "code",
   "execution_count": 104,
   "metadata": {},
   "outputs": [
    {
     "name": "stdout",
     "output_type": "stream",
     "text": [
      "Q3 Strategy Output:  [4.399490766151365, 2.093323842282617]\n"
     ]
    }
   ],
   "source": [
    "# Store the amplitude thresholds\n",
    "out_filename = f\"{RESULTS_FOLDER}/{DATASET_FILENAME}_thresholds_q3.npy\"\n",
    "\n",
    "q3_output = [highest_quartile_ripple, highest_quartile_fr]\n",
    "print(\"Q3 Strategy Output: \", q3_output)\n",
    "\n",
    "EXPORT_THRESHOLD_Q3 = True\n",
    "if EXPORT_THRESHOLD_Q3:\n",
    "    np.save(out_filename, np.array(q3_output))"
   ]
  }
 ],
 "metadata": {
  "kernelspec": {
   "display_name": "Python 3 (ipykernel)",
   "language": "python",
   "name": "python3"
  },
  "language_info": {
   "codemirror_mode": {
    "name": "ipython",
    "version": 3
   },
   "file_extension": ".py",
   "mimetype": "text/x-python",
   "name": "python",
   "nbconvert_exporter": "python",
   "pygments_lexer": "ipython3",
   "version": "3.10.12"
  }
 },
 "nbformat": 4,
 "nbformat_minor": 2
}
