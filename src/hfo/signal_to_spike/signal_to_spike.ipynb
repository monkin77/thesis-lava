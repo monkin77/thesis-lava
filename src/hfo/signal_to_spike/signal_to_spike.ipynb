{
 "cells": [
  {
   "cell_type": "markdown",
   "metadata": {},
   "source": [
    "# **Signal To Spike Conversion** - Pre-Processing of the SEEG Signal (2/2)\n",
    "This notebook presents the **pre-processing stage 2** the SEEG signal goes through before being fed to the SNN. The pre-processing stages are as follows:\n",
    "1. **Filtering**: The SEEG signal is bandpass filtered to remove noise and artifacts. The bandpass filter is designed using the Butterworth filter and, since we are working with *iEEG*, the signal is filtered in the ripples and FR bands. The co-occurrence of HFOs in both bands is an optimal prediction of post-surgical seizure freedom by defining an optimal \"HFO area\" or EZ zone.\n",
    "2. **Signal-to-Spike Conversion**: To interface and communicate with the silicon neurons in the SNN, the SEEG signal must be converted to spikes."
   ]
  },
  {
   "cell_type": "markdown",
   "metadata": {},
   "source": [
    "### Check WD (change if necessary) and file loading"
   ]
  },
  {
   "cell_type": "code",
   "execution_count": 1755,
   "metadata": {},
   "outputs": [
    {
     "name": "stdout",
     "output_type": "stream",
     "text": [
      "/home/monkin/Desktop/feup/thesis/thesis-lava/src/hfo/signal_to_spike\n"
     ]
    }
   ],
   "source": [
    "# Show current directory\n",
    "import os\n",
    "curr_dir = os.getcwd()\n",
    "print(curr_dir)\n",
    "\n",
    "# Check if the current WD is the file location\n",
    "if \"/src/hfo/signal_to_spike\" not in os.getcwd():\n",
    "    # Set working directory to this file location\n",
    "    file_location = f\"{os.getcwd()}/thesis-lava/src/hfo/signal_to_spike\"\n",
    "    print(\"File Location: \", file_location)\n",
    "\n",
    "    # Change the current working Directory\n",
    "    os.chdir(file_location)\n",
    "\n",
    "    # New Working Directory\n",
    "    print(\"New Working Directory: \", os.getcwd())"
   ]
  },
  {
   "cell_type": "markdown",
   "metadata": {},
   "source": [
    "## Checkpoint 1\n",
    "\n",
    "Right now, we have the filtered SEEG signal in both the ripple and FR bands. The next step is to convert the signal to spikes."
   ]
  },
  {
   "cell_type": "markdown",
   "metadata": {},
   "source": [
    "## Let's first load the filtered SEEG signal and the corresponding markers\n",
    "This notebook only converts 1 SEEG channel to spikes. Therefore, the `.npy` file must contain a single channel."
   ]
  },
  {
   "cell_type": "markdown",
   "metadata": {},
   "source": [
    "### Declare the `INPUT_FOLDER` and `RESULTS_FOLDER`"
   ]
  },
  {
   "cell_type": "code",
   "execution_count": 1756,
   "metadata": {},
   "outputs": [],
   "source": [
    "from utils.input import BaselineAlgorithm\n",
    "\n",
    "# CAREFUL WITH THIS FOLDER TO NOT OVERWRITE THE FILES\n",
    "DATASET_FILENAME = \"filtered_seeg_ics_ch30-59_ch17\"     # \"filtered_seeg_ch90-119_ch0\"            # \"seeg_filtered_subset_90-119_segment500_200\"      \n",
    "INPUT_FOLDER = f\"input/{DATASET_FILENAME}\"      #   f\"../subset/results/{DATASET_FILENAME}\"     #    \n",
    "\n",
    "chosen_baseline_alg_suffix = BaselineAlgorithm.Q3   # BaselineAlgorithm.Q3\n",
    "\n",
    "BASELINE_FILENAME = \"seeg_filtered_subset_90-119_segment500_200\"\n",
    "BASELINE_FILE = f\"baseline_results/{BASELINE_FILENAME}_thresholds_{chosen_baseline_alg_suffix}.npy\"\n",
    "RESULTS_FOLDER = f\"results/{DATASET_FILENAME}\"  # 2 names for the same thing?? custom_subset == seeg_filtered_subset?\n",
    "PLOTS_FOLDER = f\"plots/{DATASET_FILENAME}\"\n",
    "\n",
    "# Create the folder if it does not exist\n",
    "if not os.path.exists(RESULTS_FOLDER):\n",
    "    os.makedirs(RESULTS_FOLDER)"
   ]
  },
  {
   "cell_type": "code",
   "execution_count": 1757,
   "metadata": {},
   "outputs": [
    {
     "name": "stdout",
     "output_type": "stream",
     "text": [
      "Ripple Band SEEG Shape: (125056,).\n",
      "Preview: [ 5.95832765e-06  8.64580481e-05  6.03699396e-04 ... -3.55502668e+00\n",
      " -2.20924926e+00 -7.59812549e-01]\n"
     ]
    }
   ],
   "source": [
    "import numpy as np\n",
    "import math\n",
    "from utils.io import preview_np_array\n",
    "from utils.input import RIPPLE_BAND_FILENAME, FR_BAND_FILENAME, BOTH_BAND_FILENAME\n",
    "\n",
    "# Load the filtered seeg signal in the ripple band\n",
    "ripple_seeg_file_name = f\"{INPUT_FOLDER}/{RIPPLE_BAND_FILENAME}_band.npy\"\n",
    "ripple_band_seeg = np.load(f\"{ripple_seeg_file_name}\")\n",
    "\n",
    "# Remove the extra inner dimension\n",
    "ripple_band_seeg = np.squeeze(ripple_band_seeg)\n",
    "\n",
    "preview_np_array(ripple_band_seeg, \"Ripple Band SEEG\", edge_items=3)"
   ]
  },
  {
   "cell_type": "code",
   "execution_count": 1758,
   "metadata": {},
   "outputs": [
    {
     "name": "stdout",
     "output_type": "stream",
     "text": [
      "FR Band SEEG Shape: (125056,).\n",
      "Preview: [ 1.15306419e-04  7.97165908e-04  1.52966269e-03 ... -1.62986303e-01\n",
      " -1.62697329e+00 -9.74954367e-01]\n"
     ]
    }
   ],
   "source": [
    "# Load the filtered seeg signal in the fast ripple band\n",
    "fr_seeg_file_name = f\"{INPUT_FOLDER}/{FR_BAND_FILENAME}_band.npy\"\n",
    "fr_band_seeg = np.load(f\"{fr_seeg_file_name}\")\n",
    "\n",
    "# Remove the extra inner dimension\n",
    "fr_band_seeg = np.squeeze(fr_band_seeg)\n",
    "\n",
    "preview_np_array(fr_band_seeg, \"FR Band SEEG\", edge_items=3)"
   ]
  },
  {
   "cell_type": "code",
   "execution_count": 1759,
   "metadata": {},
   "outputs": [
    {
     "name": "stdout",
     "output_type": "stream",
     "text": [
      "HFO Band SEEG Shape: (125056,).\n",
      "Preview: [ 0.00507917  0.04717726  0.18694713 ...  0.24330606 -0.44435168\n",
      " -1.59038122]\n"
     ]
    }
   ],
   "source": [
    "# Load the filtered seeg signal in the fast ripple band\n",
    "hfo_seeg_file_name = f\"{INPUT_FOLDER}/{BOTH_BAND_FILENAME}_band.npy\"\n",
    "hfo_band_seeg = np.load(f\"{hfo_seeg_file_name}\")\n",
    "\n",
    "# Remove the extra inner dimension\n",
    "hfo_band_seeg = np.squeeze(hfo_band_seeg)\n",
    "\n",
    "preview_np_array(hfo_band_seeg, \"HFO Band SEEG\", edge_items=3)"
   ]
  },
  {
   "cell_type": "code",
   "execution_count": 1760,
   "metadata": {},
   "outputs": [
    {
     "name": "stdout",
     "output_type": "stream",
     "text": [
      "ripple_markers Shape: (81,).\n",
      "Preview: [('Ripple',  1877.9297, 0.) ('Ripple',  2577.1484, 0.)\n",
      " ('Ripple',  3467.7734, 0.) ... ('Ripple', 58990.234 , 0.)\n",
      " ('Ripple', 60845.703 , 0.) ('Ripple', 60982.42  , 0.)]\n"
     ]
    }
   ],
   "source": [
    "# Load the annotated events (For Ripples)\n",
    "ripple_markers_file_name = f\"{INPUT_FOLDER}/markers_{RIPPLE_BAND_FILENAME}_band.npy\"\n",
    "ripple_markers = np.load(f\"{ripple_markers_file_name}\")\n",
    "\n",
    "# Remove the extra inner dimension\n",
    "ripple_markers = np.squeeze(ripple_markers)\n",
    "\n",
    "preview_np_array(ripple_markers, \"ripple_markers\", edge_items=3)"
   ]
  },
  {
   "cell_type": "code",
   "execution_count": 1761,
   "metadata": {},
   "outputs": [
    {
     "name": "stdout",
     "output_type": "stream",
     "text": [
      "fr_markers Shape: (51,).\n",
      "Preview: [('Fast Ripple',  3478.5156, 0.) ('Fast Ripple',  4792.9688, 0.)\n",
      " ('Fast Ripple',  7722.6562, 0.) ... ('Fast Ripple', 56882.324 , 0.)\n",
      " ('Fast Ripple', 58532.715 , 0.) ('Fast Ripple', 60981.934 , 0.)]\n"
     ]
    }
   ],
   "source": [
    "# Load the annotated events (For Fast Ripples)\n",
    "fr_markers_file_name = f\"{INPUT_FOLDER}/markers_{FR_BAND_FILENAME}_band.npy\"\n",
    "fr_markers = np.load(f\"{fr_markers_file_name}\")\n",
    "\n",
    "# Remove the extra inner dimension\n",
    "fr_markers = np.squeeze(fr_markers)\n",
    "\n",
    "preview_np_array(fr_markers, \"fr_markers\", edge_items=3)"
   ]
  },
  {
   "cell_type": "code",
   "execution_count": 1762,
   "metadata": {},
   "outputs": [
    {
     "name": "stdout",
     "output_type": "stream",
     "text": [
      "hfo_markers Shape: (132,).\n",
      "Preview: [('Ripple',  1877.9297, 0.) ('Ripple',  2577.1484, 0.)\n",
      " ('Ripple',  3467.7734, 0.) ... ('Ripple', 60845.703 , 0.)\n",
      " ('Fast Ripple', 60981.934 , 0.) ('Ripple', 60982.42  , 0.)]\n"
     ]
    }
   ],
   "source": [
    "# Load the annotated events (For Fast Ripples)\n",
    "hfo_markers_file_name = f\"{INPUT_FOLDER}/markers_{BOTH_BAND_FILENAME}_band.npy\"\n",
    "hfo_markers = np.load(f\"{hfo_markers_file_name}\")\n",
    "\n",
    "# Remove the extra inner dimension\n",
    "hfo_markers = np.squeeze(hfo_markers)\n",
    "\n",
    "preview_np_array(hfo_markers, \"hfo_markers\", edge_items=3)"
   ]
  },
  {
   "cell_type": "markdown",
   "metadata": {},
   "source": [
    "### Load the signal-to-spike thresholds calculated from the Baseline Detection"
   ]
  },
  {
   "cell_type": "code",
   "execution_count": 1763,
   "metadata": {},
   "outputs": [
    {
     "name": "stdout",
     "output_type": "stream",
     "text": [
      "Baseline Ripple Threshold: 5.6556\n",
      "Baseline FR Threshold: 1.6041\n",
      "Baseline HFO Threshold: 3.864\n"
     ]
    }
   ],
   "source": [
    "# Load the Baseline Thresholds\n",
    "baseline_thresholds = np.load(BASELINE_FILE)\n",
    "\n",
    "# preview_np_array(baseline_thresholds, \"baseline_thresholds\", edge_items=3)\n",
    "\n",
    "baseline_ripple_thresh = round(baseline_thresholds[0], 4)\n",
    "baseline_fr_thresh = round(baseline_thresholds[1], 4)\n",
    "baseline_hfo_thresh = round(baseline_thresholds[2], 4)\n",
    "\n",
    "print(f\"Baseline Ripple Threshold: {baseline_ripple_thresh}\")\n",
    "print(f\"Baseline FR Threshold: {baseline_fr_thresh}\")\n",
    "print(f\"Baseline HFO Threshold: {baseline_hfo_thresh}\")"
   ]
  },
  {
   "cell_type": "markdown",
   "metadata": {},
   "source": [
    "## Define Global Parameters of the Experiment"
   ]
  },
  {
   "cell_type": "code",
   "execution_count": 1764,
   "metadata": {},
   "outputs": [
    {
     "name": "stdout",
     "output_type": "stream",
     "text": [
      "Input Duration: 61062.5 ms\n"
     ]
    }
   ],
   "source": [
    "from utils.input import SAMPLING_RATE, X_STEP\n",
    "\n",
    "num_samples = ripple_band_seeg.shape[0]    # 2048 * 120 = 245760\n",
    "\n",
    "input_duration = (num_samples / SAMPLING_RATE) * 1000\n",
    "\n",
    "print(f\"Input Duration: {input_duration} ms\")"
   ]
  },
  {
   "cell_type": "markdown",
   "metadata": {},
   "source": [
    "## Signal-to-Spike Conversion\n",
    "The signal can be converted to spikes in different ways. First, we will try a method where **two spike trains are generated from the filtered signal**:\n",
    "- **UP Spike Train**: The spikes are generated based on an increase of the signal's amplitude. The spikes are generated when the signal crosses a certain threshold defined by `threshold_up`.\n",
    "- **DOWN Spike Train**: The spikes are generated based on a decrease of the signal's amplitude. The spikes are generated when the signal crosses a certain threshold defined by `threshold_down`.\n",
    "\n",
    "The spike trains are generated by comparing the amount of change in the signal since the last time a spike was generated (UP or DOWN). If the positive/negative amplitude change is greater than the defined threshold, the algorithm stores the current timestep in the respective spike train and takes the new amplitude as the reference for the next comparison.\n",
    "\n",
    "Another important aspect of this algorithm is to model the time that silicon neurons need before they can generate another spike. Both in hardware and software, we call this time `refractory_period`."
   ]
  },
  {
   "cell_type": "markdown",
   "metadata": {},
   "source": [
    "### Configurable Parameters for the Signal-to-Spike Conversion\n",
    "- `threshold_up`: The threshold for the UP spike train.\n",
    "- `threshold_down`: The threshold for the DOWN spike train.\n",
    "\n",
    "The accuracy of this algorithm is heavily dependent on the choice of these parameters. To find the optimal values, we can perform a ***baseline detection*** to determine the optimal spike generation threshold automatically for the signal conversion.\n",
    "\n",
    "**As a first solution, we set these values manually to have a working prototype. Later, we will find the optimal values and compare the results of both methods.**"
   ]
  },
  {
   "cell_type": "code",
   "execution_count": 1765,
   "metadata": {},
   "outputs": [],
   "source": [
    "# Define variables of the Signal to Spike Conversion Manually\n",
    "ripple_threshold_up = baseline_ripple_thresh  # Threshold for the UP spike detection (in μV)\n",
    "ripple_threshold_down = -baseline_ripple_thresh # Threshold for the DOWN spike detection (in μV)\n",
    "\n",
    "fr_threshold_up = baseline_fr_thresh   # Threshold for the UP spike detection (in μV)\n",
    "fr_threshold_down = -baseline_fr_thresh # Threshold for the DOWN spike detection (in μV)\n",
    "\n",
    "hfo_threshold_up = baseline_hfo_thresh   # Threshold for the UP spike detection (in μV)\n",
    "hfo_threshold_down = -baseline_hfo_thresh # Threshold for the DOWN spike detection (in μV)"
   ]
  },
  {
   "cell_type": "code",
   "execution_count": 1766,
   "metadata": {},
   "outputs": [],
   "source": [
    "# Interactive Plot for the HFO detection\n",
    "# bokeh docs: https://docs.bokeh.org/en/2.4.1/docs/first_steps/first_steps_1.html\n",
    "\n",
    "from utils.line_plot import create_fig  # Import the function to create the figure\n",
    "from bokeh.models import Range1d\n",
    "\n",
    "# Define the x and y values\n",
    "# Should the first input start at 0 or X_STEP?\n",
    "# TODO: is it okay to create a range with floats?\n",
    "x = [val for val in np.arange(X_STEP, input_duration + X_STEP, X_STEP)] "
   ]
  },
  {
   "cell_type": "code",
   "execution_count": 1767,
   "metadata": {},
   "outputs": [
    {
     "name": "stdout",
     "output_type": "stream",
     "text": [
      "Ripple UP Spike Train shape:  (1174,) Preview:  [  506.8359375    609.86328125   619.140625     620.60546875\n",
      "   629.39453125 ... 61012.6953125  61013.671875   61025.87890625\n",
      " 61043.45703125 61052.24609375]\n",
      "Ripple DOWN Spike Train shape:  (1157,) Preview:  [  504.8828125    612.79296875   615.72265625   623.53515625\n",
      "   625.         ... 61016.6015625  61019.53125    61037.59765625\n",
      " 61048.33984375 61060.546875  ]\n"
     ]
    }
   ],
   "source": [
    "from hfo.signal_to_spike.signal_to_spike import signal_to_spike, SignalToSpikeParameters\n",
    "\n",
    "# Convert the filtered ripple signal to spikes\n",
    "ripple_spike_trains = signal_to_spike(\n",
    "    SignalToSpikeParameters(\n",
    "        signal=ripple_band_seeg, times=np.array(x),\n",
    "        threshold_up=ripple_threshold_up, threshold_down=ripple_threshold_down,\n",
    "        # refractory_period=0.002, interpolation_factor=1\n",
    "        )\n",
    ")\n",
    "\n",
    "np.set_printoptions(edgeitems=5)\n",
    "print(\"Ripple UP Spike Train shape: \", ripple_spike_trains.up.shape, \"Preview: \", ripple_spike_trains.up)\n",
    "print(\"Ripple DOWN Spike Train shape: \", ripple_spike_trains.down.shape, \"Preview: \", ripple_spike_trains.down)"
   ]
  },
  {
   "cell_type": "code",
   "execution_count": 1768,
   "metadata": {},
   "outputs": [
    {
     "name": "stdout",
     "output_type": "stream",
     "text": [
      "Fast Ripple UP Spike Train shape:  (10142,) Preview:  [3.71093750e+01 4.83398438e+01 5.81054688e+01 6.00585938e+01\n",
      " 6.05468750e+01 ... 6.10454102e+04 6.10493164e+04 6.10532227e+04\n",
      " 6.10561523e+04 6.10605469e+04]\n",
      "Fast Ripple DOWN Spike Train shape:  (10155,) Preview:  [3.61328125e+01 3.85742188e+01 4.93164062e+01 5.90820312e+01\n",
      " 6.15234375e+01 ... 6.10468750e+04 6.10507812e+04 6.10541992e+04\n",
      " 6.10576172e+04 6.10620117e+04]\n"
     ]
    }
   ],
   "source": [
    "# Convert the filtered FR signal to spikes\n",
    "fr_spike_trains = signal_to_spike(\n",
    "    SignalToSpikeParameters(\n",
    "        signal=fr_band_seeg, times=np.array(x),\n",
    "        threshold_up=fr_threshold_up, threshold_down=fr_threshold_down,\n",
    "        # refractory_period=0.002, interpolation_factor=1   # TODO: Add refractory period\n",
    "        )\n",
    ")\n",
    "\n",
    "np.set_printoptions(edgeitems=5)\n",
    "print(\"Fast Ripple UP Spike Train shape: \", fr_spike_trains.up.shape, \"Preview: \", fr_spike_trains.up)\n",
    "print(\"Fast Ripple DOWN Spike Train shape: \", fr_spike_trains.down.shape, \"Preview: \", fr_spike_trains.down)"
   ]
  },
  {
   "cell_type": "code",
   "execution_count": 1769,
   "metadata": {},
   "outputs": [
    {
     "name": "stdout",
     "output_type": "stream",
     "text": [
      "HFO UP Spike Train shape:  (3290,) Preview:  [3.32031250e+01 2.34375000e+02 3.81835938e+02 3.90136719e+02\n",
      " 4.05273438e+02 ... 6.10141602e+04 6.10307617e+04 6.10415039e+04\n",
      " 6.10493164e+04 6.10541992e+04]\n",
      "HFO DOWN Spike Train shape:  (3309,) Preview:  [3.22265625e+01 2.35839844e+02 3.84765625e+02 3.92578125e+02\n",
      " 4.12597656e+02 ... 6.10180664e+04 6.10366211e+04 6.10463867e+04\n",
      " 6.10473633e+04 6.10576172e+04]\n"
     ]
    }
   ],
   "source": [
    "# Convert the filtered FR signal to spikes\n",
    "hfo_spike_trains = signal_to_spike(\n",
    "    SignalToSpikeParameters(\n",
    "        signal=hfo_band_seeg, times=np.array(x),\n",
    "        threshold_up=hfo_threshold_up, threshold_down=hfo_threshold_down,\n",
    "        # refractory_period=0.002, interpolation_factor=1   # TODO: Add refractory period\n",
    "        )\n",
    ")\n",
    "\n",
    "np.set_printoptions(edgeitems=5)\n",
    "print(\"HFO UP Spike Train shape: \", hfo_spike_trains.up.shape, \"Preview: \", hfo_spike_trains.up)\n",
    "print(\"HFO DOWN Spike Train shape: \", hfo_spike_trains.down.shape, \"Preview: \", hfo_spike_trains.down)"
   ]
  },
  {
   "cell_type": "markdown",
   "metadata": {},
   "source": [
    "## Visualize the Spike Trains\n",
    "Let's plot the generated spike trains via a raster plot."
   ]
  },
  {
   "cell_type": "code",
   "execution_count": 1770,
   "metadata": {},
   "outputs": [],
   "source": [
    "from utils.raster_plot import create_raster_fig\n",
    "\n",
    "# ------------------------------------------------------------------------------- #\n",
    "# ------- Create the raster plot for the Ripple UP and DOWN spike trains -------- #\n",
    "# ------------------------------------------------------------------------------- #\n",
    "\n",
    "# Create a list containing the x values for the raster plot.\n",
    "ripple_raster_x = np.concatenate((ripple_spike_trains.up, ripple_spike_trains.down), axis=0)\n",
    "\n",
    "# Create a list containing the y values for the raster plot.\n",
    "# The UP spike train will be represented by 1s and the DOWN spike train by 0s\n",
    "ripple_raster_y = [1 for _ in range(len(ripple_spike_trains.up))] + [0 for _ in range(len(ripple_spike_trains.down))]\n",
    "\n",
    "ripple_train_raster = create_raster_fig(\"Ripple UP and DOWN spike events\", \"Time (ms)\", \"Channel\", ripple_raster_x, \n",
    "                                        ripple_raster_y, y_axis_ticker=[0, 1])"
   ]
  },
  {
   "cell_type": "code",
   "execution_count": 1771,
   "metadata": {},
   "outputs": [],
   "source": [
    "import bokeh.plotting as bplt\n",
    "showRasterPlot = False\n",
    "\n",
    "# Plot the raster plot for the Ripple spike trains\n",
    "if showRasterPlot:\n",
    "    bplt.show(ripple_train_raster)"
   ]
  },
  {
   "cell_type": "code",
   "execution_count": 1772,
   "metadata": {},
   "outputs": [],
   "source": [
    "# ------------------------------------------------------------------------------- #\n",
    "# ------- Create the raster plot for the Fast Ripple UP and DOWN spike trains -------- #\n",
    "# ------------------------------------------------------------------------------- #\n",
    "\n",
    "# Create a list containing the x values for the raster plot.\n",
    "fr_raster_x = np.concatenate((fr_spike_trains.up, fr_spike_trains.down), axis=0)\n",
    "\n",
    "# Create a list containing the y values for the raster plot.\n",
    "# The UP spike train will be represented by 1s and the DOWN spike train by 0s\n",
    "fr_raster_y = [1 for _ in range(len(fr_spike_trains.up))] + [0 for _ in range(len(fr_spike_trains.down))]\n",
    "\n",
    "fr_train_raster = create_raster_fig(\"Fast Ripple UP and DOWN spike events\", \"Time (ms)\", \"Channel\", fr_raster_x,\n",
    "                                    fr_raster_y, y_axis_ticker=[0, 1])"
   ]
  },
  {
   "cell_type": "code",
   "execution_count": 1773,
   "metadata": {},
   "outputs": [],
   "source": [
    "# Plot the raster plot for the Fast Ripple spike trains\n",
    "if showRasterPlot:\n",
    "    bplt.show(fr_train_raster)"
   ]
  },
  {
   "cell_type": "code",
   "execution_count": 1774,
   "metadata": {},
   "outputs": [],
   "source": [
    "# ------------------------------------------------------------------------------- #\n",
    "# ------- Create the raster plot for the HFO UP and DOWN spike trains -------- #\n",
    "# ------------------------------------------------------------------------------- #\n",
    "\n",
    "# Create a list containing the x values for the raster plot.\n",
    "hfo_raster_x = np.concatenate((hfo_spike_trains.up, hfo_spike_trains.down), axis=0)\n",
    "\n",
    "# Create a list containing the y values for the raster plot.\n",
    "# The UP spike train will be represented by 1s and the DOWN spike train by 0s\n",
    "hfo_raster_y = [1 for _ in range(len(hfo_spike_trains.up))] + [0 for _ in range(len(hfo_spike_trains.down))]\n",
    "\n",
    "hfo_train_raster = create_raster_fig(\"HFO UP and DOWN spike events\", \"Time (ms)\", \"Channel\", hfo_raster_x,\n",
    "                                    hfo_raster_y, y_axis_ticker=[0, 1])"
   ]
  },
  {
   "cell_type": "code",
   "execution_count": 1775,
   "metadata": {},
   "outputs": [],
   "source": [
    "# Plot the raster plot for the Fast Ripple spike trains\n",
    "if showRasterPlot:\n",
    "    bplt.show(hfo_train_raster)"
   ]
  },
  {
   "cell_type": "markdown",
   "metadata": {},
   "source": [
    "### Export the Raster Plots "
   ]
  },
  {
   "cell_type": "code",
   "execution_count": 1776,
   "metadata": {},
   "outputs": [],
   "source": [
    "EXPORT_RIPPLE_RASTER = False\n",
    "if EXPORT_RIPPLE_RASTER:\n",
    "    ripple_raster_filename = f\"{PLOTS_FOLDER}/ripple_train_raster_thresholds{ripple_threshold_up}-{ripple_threshold_down}.html\"\n",
    "\n",
    "    # Create folder if it does not exist\n",
    "    if not os.path.exists(PLOTS_FOLDER):\n",
    "        os.makedirs(PLOTS_FOLDER)\n",
    "\n",
    "    # Customize the output file settings\n",
    "    bplt.output_file(filename=ripple_raster_filename, title=\"Ripple Spike Train Raster Plot\")\n",
    "\n",
    "    # Save the plot\n",
    "    bplt.save(ripple_train_raster)"
   ]
  },
  {
   "cell_type": "code",
   "execution_count": 1777,
   "metadata": {},
   "outputs": [],
   "source": [
    "EXPORT_FR_RASTER = False\n",
    "if EXPORT_FR_RASTER:\n",
    "    fr_raster_filename = f\"{PLOTS_FOLDER}/fr_train_raster_thresholds{fr_threshold_up}-{fr_threshold_down}.html\"\n",
    "\n",
    "    # Customize the output file settings\n",
    "    bplt.output_file(filename=fr_raster_filename, title=\"Fast Ripple Spike Train Raster Plot\")\n",
    "\n",
    "    # Save the plot\n",
    "    bplt.save(fr_train_raster)"
   ]
  },
  {
   "cell_type": "code",
   "execution_count": 1778,
   "metadata": {},
   "outputs": [],
   "source": [
    "EXPORT_HFO_RASTER = False\n",
    "if EXPORT_HFO_RASTER:\n",
    "    hfo_raster_filename = f\"{PLOTS_FOLDER}/hfo_train_raster_thresholds{hfo_threshold_up}-{hfo_threshold_down}.html\"\n",
    "\n",
    "    # Customize the output file settings\n",
    "    bplt.output_file(filename=hfo_raster_filename, title=\"HFO Spike Train Raster Plot\")\n",
    "\n",
    "    # Save the plot\n",
    "    bplt.save(hfo_train_raster)"
   ]
  },
  {
   "cell_type": "markdown",
   "metadata": {},
   "source": [
    "## Export the Spike Trains to CSV Files for the Lava SNN\n",
    "\n",
    "We have successfully converted the SEEG signal to spikes. The next step is to feed these spikes to the SNN for Ripple and Fast Ripple detection.\n",
    "\n",
    "For this, we will create a file for each type of spike train (UP and DOWN). I'm not sure if we should join the spikes of both bands in a single file or keep them separate."
   ]
  },
  {
   "cell_type": "code",
   "execution_count": 1779,
   "metadata": {},
   "outputs": [],
   "source": [
    "# Create a csv file with the spike train data\n",
    "import csv\n",
    "\n",
    "def write_spike_train_to_csv(file_name, spike_train, channel_idx):\n",
    "    \"\"\"\n",
    "    This function writes the spike train to a csv file.\n",
    "    @file_name (str): Name of the file to be created.\n",
    "    @spike_train (np.ndarray): Array with the spike train data.\n",
    "    @channel_idx (int): Index of the channel that generated the spike train. (According to the original data)\n",
    "    \"\"\"\n",
    "    with open(file_name, mode='w', newline='') as file:\n",
    "        writer = csv.writer(file)\n",
    "        writer.writerow([\"time\", \"channel_idx\"])\n",
    "        for spike_time in spike_train:\n",
    "            writer.writerow([spike_time, channel_idx])"
   ]
  },
  {
   "cell_type": "code",
   "execution_count": 1780,
   "metadata": {},
   "outputs": [],
   "source": [
    "WRITE_RIPPLE_CSV_FILES = True\n",
    "WRITE_FR_CSV_FILES = True\n",
    "WRITE_HFO_CSV_FILES = True"
   ]
  },
  {
   "cell_type": "code",
   "execution_count": 1781,
   "metadata": {},
   "outputs": [],
   "source": [
    "selected_ch_idx = -1    # TODO: Should we really send the channel?\n",
    "\n",
    "if WRITE_RIPPLE_CSV_FILES:\n",
    "    # Create the csv file for the Ripple UP spike train\n",
    "    ripple_up_file_name = f\"{RESULTS_FOLDER}/ripple_up_spike_train_{ripple_threshold_up}.csv\"\n",
    "    write_spike_train_to_csv(ripple_up_file_name, ripple_spike_trains.up, selected_ch_idx)\n",
    "\n",
    "    # Create the csv file for the Ripple DOWN spike train\n",
    "    ripple_down_file_name = f\"{RESULTS_FOLDER}/ripple_down_spike_train_{ripple_threshold_down}.csv\"\n",
    "    write_spike_train_to_csv(ripple_down_file_name, ripple_spike_trains.down, selected_ch_idx)"
   ]
  },
  {
   "cell_type": "code",
   "execution_count": 1782,
   "metadata": {},
   "outputs": [],
   "source": [
    "if WRITE_FR_CSV_FILES:\n",
    "    # Create the csv file for the Fast Ripple UP spike train\n",
    "    fr_up_file_name = f\"{RESULTS_FOLDER}/fr_up_spike_train_{fr_threshold_up}.csv\"\n",
    "    write_spike_train_to_csv(fr_up_file_name, fr_spike_trains.up, selected_ch_idx)\n",
    "\n",
    "    # Create the csv file for the Fast Ripple DOWN spike train\n",
    "    fr_down_file_name = f\"{RESULTS_FOLDER}/fr_down_spike_train_{fr_threshold_down}.csv\"\n",
    "    write_spike_train_to_csv(fr_down_file_name, fr_spike_trains.down, selected_ch_idx)"
   ]
  },
  {
   "cell_type": "code",
   "execution_count": 1783,
   "metadata": {},
   "outputs": [],
   "source": [
    "if WRITE_HFO_CSV_FILES:\n",
    "    # Create the csv file for the Fast Ripple UP spike train\n",
    "    hfo_up_file_name = f\"{RESULTS_FOLDER}/hfo_up_spike_train_{hfo_threshold_up}.csv\"\n",
    "    write_spike_train_to_csv(hfo_up_file_name, hfo_spike_trains.up, selected_ch_idx)\n",
    "\n",
    "    # Create the csv file for the Fast Ripple DOWN spike train\n",
    "    hfo_down_file_name = f\"{RESULTS_FOLDER}/hfo_down_spike_train_{hfo_threshold_down}.csv\"\n",
    "    write_spike_train_to_csv(hfo_down_file_name, hfo_spike_trains.down, selected_ch_idx)"
   ]
  },
  {
   "cell_type": "markdown",
   "metadata": {},
   "source": [
    "## Generate the input files for the SNN\n",
    "\n",
    "### Is the SNN going to detect the HFO events in windows? Or do we take it as a continous input?\n",
    "**If so**: The SNN is going to detect HFO events in windows. Therefore, the input to the network must be organized in windows of a certain size. The size of the window is a hyperparameter that can be tuned to improve the performance of the network.\n",
    "\n",
    "I think windowing makes more sense when we are learning with an ANN. Since we want real-time detection, feeding a continous input makes more sense.\n",
    "\n",
    "### Let's assume we do NOT need to window the input\n",
    "In this case, our input will simply be a continous stream of spikes. We can feed the spikes to the SNN in real-time. At each timestep, the SNN will receive 2 binary inputs (UP and DOWN spikes) indicating the presence of a spike in the respective spike train."
   ]
  },
  {
   "cell_type": "code",
   "execution_count": 1784,
   "metadata": {},
   "outputs": [
    {
     "name": "stdout",
     "output_type": "stream",
     "text": [
      "snn_input:  (125056, 2) Preview: [[0. 0.]\n",
      " [0. 0.]\n",
      " [0. 0.]\n",
      " [0. 0.]\n",
      " [0. 0.]\n",
      " ...\n",
      " [0. 1.]\n",
      " [0. 0.]\n",
      " [0. 0.]\n",
      " [0. 0.]\n",
      " [0. 0.]]\n"
     ]
    }
   ],
   "source": [
    "# Create a numpy array that will store the input (2D)\n",
    "snn_input = np.zeros((num_samples, 2))  # 2 columns: UP and DOWN spike trains\n",
    "\n",
    "# ---------------------------------------------------------------------------------- #\n",
    "# -------- Select the Spike Trains to be used as input for the SNN ----------------- #\n",
    "# ---------------------------------------------------------------------------------- #\n",
    "selected_up_spikes = ripple_spike_trains.up\n",
    "selected_down_spikes = ripple_spike_trains.down\n",
    "\n",
    "# Iterate the time steps of the recording and check if there are spikes in the selected spike trains at each timestep\n",
    "curr_up_idx = 0\n",
    "curr_down_idx = 0\n",
    "for (idx, time_step) in enumerate(x):\n",
    "    # Check if an UP spike occurs at this time step\n",
    "    if curr_up_idx < len(selected_up_spikes) and selected_up_spikes[curr_up_idx] <= time_step:\n",
    "        snn_input[idx][0] = 1   # Mark the UP spike in the input array\n",
    "        curr_up_idx += 1    # Move to the next spike in the UP spike train\n",
    "    # Check if a DOWN spike occurs at this time step\n",
    "    elif curr_down_idx < len(selected_down_spikes) and selected_down_spikes[curr_down_idx] <= time_step:\n",
    "        snn_input[idx][1] = 1   # Mark the DOWN spike in the input array\n",
    "        curr_down_idx += 1  # Move to the next spike in the DOWN spike train\n",
    "    \n",
    "    if curr_up_idx >= len(selected_up_spikes) and curr_down_idx >= len(selected_down_spikes):\n",
    "        # All the spikes have been added to the input array\n",
    "        break\n",
    "\n",
    "np.set_printoptions(edgeitems=5)\n",
    "print(\"snn_input: \", snn_input.shape, \"Preview:\", snn_input)"
   ]
  },
  {
   "cell_type": "code",
   "execution_count": 1785,
   "metadata": {},
   "outputs": [],
   "source": [
    "# ----------------------- DEPRECATED ??? ---------------------- \n",
    "\n",
    "# Export the input array to a numpy file\n",
    "EXPORT_INPUT = False\n",
    "if EXPORT_INPUT:\n",
    "    input_file_name = f\"{RESULTS_FOLDER}/snn_input_ripple_{ripple_threshold_up}_{ripple_threshold_down}.npy\"\n",
    "    np.save(input_file_name, snn_input)\n",
    "\n",
    "    EXPORT_INPUT_CSV = True\n",
    "    if EXPORT_INPUT_CSV:\n",
    "        # Export to CSV for visualization purposes\n",
    "        with open(f\"{RESULTS_FOLDER}/snn_input_ripple_{ripple_threshold_up}_{ripple_threshold_down}.csv\", mode='w', newline='') as file:\n",
    "            writer = csv.writer(file)\n",
    "            writer.writerow([\"time\", \"up_spike\", \"down_spike\"])\n",
    "            for (idx, time_step) in enumerate(x):\n",
    "                writer.writerow([time_step, snn_input[idx][0], snn_input[idx][1]])"
   ]
  },
  {
   "cell_type": "markdown",
   "metadata": {},
   "source": [
    "## Generate the Ground Truth File for the SNN (Target)"
   ]
  },
  {
   "cell_type": "markdown",
   "metadata": {},
   "source": [
    "Extract the markers from the selected channel"
   ]
  },
  {
   "cell_type": "markdown",
   "metadata": {},
   "source": [
    "### Create a target file for each band"
   ]
  },
  {
   "cell_type": "code",
   "execution_count": 1786,
   "metadata": {},
   "outputs": [
    {
     "name": "stdout",
     "output_type": "stream",
     "text": [
      "Ripple Selected Channel Markers Shape: (81,).\n",
      "Preview: [('Ripple',  1877.9297, 0.) ('Ripple',  2577.1484, 0.)\n",
      " ('Ripple',  3467.7734, 0.) ('Ripple',  3782.2266, 0.)\n",
      " ('Ripple',  4784.1797, 0.) ... ('Ripple', 58310.547 , 0.)\n",
      " ('Ripple', 58527.344 , 0.) ('Ripple', 58990.234 , 0.)\n",
      " ('Ripple', 60845.703 , 0.) ('Ripple', 60982.42  , 0.)]\n"
     ]
    }
   ],
   "source": [
    "# The target output for the SNN must have the same length as the input.\n",
    "ripple_target_np = np.zeros((num_samples))  # 1 column: 0/1 for the output classes (No Event, Ripple/Fast Ripple or both)\n",
    "# TODO: Could have more than 2 classes to differentiate the labels\n",
    "\n",
    "# Get the markers for the selected channel\n",
    "# Each marker has the following keys: label, position, and duration\n",
    "ripple_selected_ch_markers = ripple_markers\n",
    "preview_np_array(ripple_selected_ch_markers, \"Ripple Selected Channel Markers\")"
   ]
  },
  {
   "cell_type": "code",
   "execution_count": 1787,
   "metadata": {},
   "outputs": [
    {
     "name": "stdout",
     "output_type": "stream",
     "text": [
      "FR Selected Channel Markers Shape: (51,).\n",
      "Preview: [('Fast Ripple',  3478.5156, 0.) ('Fast Ripple',  4792.9688, 0.)\n",
      " ('Fast Ripple',  7722.6562, 0.) ('Fast Ripple',  9820.3125, 0.)\n",
      " ('Fast Ripple', 11166.016 , 0.) ... ('Fast Ripple', 55280.76  , 0.)\n",
      " ('Fast Ripple', 56544.434 , 0.) ('Fast Ripple', 56882.324 , 0.)\n",
      " ('Fast Ripple', 58532.715 , 0.) ('Fast Ripple', 60981.934 , 0.)]\n"
     ]
    }
   ],
   "source": [
    "# The target output for the SNN must have the same length as the input.\n",
    "fr_target_np = np.zeros((num_samples))  # 1 column: 0/1 for the output classes (No Event, Ripple/Fast Ripple or both)\n",
    "\n",
    "fr_selected_ch_markers = fr_markers\n",
    "preview_np_array(fr_selected_ch_markers, \"FR Selected Channel Markers\")"
   ]
  },
  {
   "cell_type": "code",
   "execution_count": 1788,
   "metadata": {},
   "outputs": [
    {
     "name": "stdout",
     "output_type": "stream",
     "text": [
      "FR Selected Channel Markers Shape: (132,).\n",
      "Preview: [('Ripple',  1877.9297, 0.) ('Ripple',  2577.1484, 0.)\n",
      " ('Ripple',  3467.7734, 0.) ('Fast Ripple',  3478.5156, 0.)\n",
      " ('Ripple',  3782.2266, 0.) ... ('Fast Ripple', 58532.715 , 0.)\n",
      " ('Ripple', 58990.234 , 0.) ('Ripple', 60845.703 , 0.)\n",
      " ('Fast Ripple', 60981.934 , 0.) ('Ripple', 60982.42  , 0.)]\n"
     ]
    }
   ],
   "source": [
    "# The target output for the SNN must have the same length as the input.\n",
    "hfo_target_np = np.zeros((num_samples))  # 1 column: 0/1 for the output classes (No Event, Ripple/Fast Ripple or both)\n",
    "\n",
    "hfo_selected_ch_markers = hfo_markers\n",
    "preview_np_array(hfo_selected_ch_markers, \"FR Selected Channel Markers\")"
   ]
  },
  {
   "cell_type": "markdown",
   "metadata": {},
   "source": [
    "### Convert to the format that the learnable SNN (Slayer) can read ----> **This step should be done by the Learnable SNN when it is required**"
   ]
  },
  {
   "cell_type": "markdown",
   "metadata": {},
   "source": [
    "#### Fill the target numpy array with 1s where the HFOs are present"
   ]
  },
  {
   "cell_type": "code",
   "execution_count": 1789,
   "metadata": {},
   "outputs": [
    {
     "data": {
      "text/plain": [
       "\" from utils.input import label_has_hfo_event\\n\\n# Iterate the time steps of the recording and check if there is an annotated event at each timestep (Ripple Band)\\ncurr_markers_idx = 0\\nfor (idx, time_step) in enumerate(x):\\n    # Check if an event occurs at this time step\\n    if curr_markers_idx < len(ripple_selected_ch_markers) and ripple_selected_ch_markers[curr_markers_idx]['position'] <= time_step:\\n        # If the label has an HFO event, mark it as 1 in the target array \\n        # Can use this function since the given labels are already filtered in the desired band\\n        if label_has_hfo_event(ripple_selected_ch_markers[curr_markers_idx]['label']):\\n            ripple_target_np[idx] = 1   # Mark the Labelled event in the target array\\n        \\n        curr_markers_idx += 1    # Move to the next annotated event\\n    \\n    if curr_markers_idx >= len(ripple_selected_ch_markers):\\n        # All the spikes have been added to the input array\\n        break\\n\\n# Iterate the time steps of the recording and check if there is an annotated event at each timestep (Fast Ripple Band)\\ncurr_markers_idx = 0\\nfor (idx, time_step) in enumerate(x):\\n    # Check if an event occurs at this time step\\n    if curr_markers_idx < len(fr_selected_ch_markers) and fr_selected_ch_markers[curr_markers_idx]['position'] <= time_step:\\n        # If the label has an HFO event, mark it as 1 in the target array \\n        # Can use this function since the given labels are already filtered in the desired band\\n        if label_has_hfo_event(fr_selected_ch_markers[curr_markers_idx]['label']):\\n            fr_target_np[idx] = 1   # Mark the Labelled event in the target array\\n        \\n        curr_markers_idx += 1    # Move to the next annotated event\\n    \\n    if curr_markers_idx >= len(fr_selected_ch_markers):\\n        # All the spikes have been added to the input array\\n        break \""
      ]
     },
     "execution_count": 1789,
     "metadata": {},
     "output_type": "execute_result"
    }
   ],
   "source": [
    "# ------------ DEPRECATED ----------------\n",
    "\n",
    "\"\"\" from utils.input import label_has_hfo_event\n",
    "\n",
    "# Iterate the time steps of the recording and check if there is an annotated event at each timestep (Ripple Band)\n",
    "curr_markers_idx = 0\n",
    "for (idx, time_step) in enumerate(x):\n",
    "    # Check if an event occurs at this time step\n",
    "    if curr_markers_idx < len(ripple_selected_ch_markers) and ripple_selected_ch_markers[curr_markers_idx]['position'] <= time_step:\n",
    "        # If the label has an HFO event, mark it as 1 in the target array \n",
    "        # Can use this function since the given labels are already filtered in the desired band\n",
    "        if label_has_hfo_event(ripple_selected_ch_markers[curr_markers_idx]['label']):\n",
    "            ripple_target_np[idx] = 1   # Mark the Labelled event in the target array\n",
    "        \n",
    "        curr_markers_idx += 1    # Move to the next annotated event\n",
    "    \n",
    "    if curr_markers_idx >= len(ripple_selected_ch_markers):\n",
    "        # All the spikes have been added to the input array\n",
    "        break\n",
    "\n",
    "# Iterate the time steps of the recording and check if there is an annotated event at each timestep (Fast Ripple Band)\n",
    "curr_markers_idx = 0\n",
    "for (idx, time_step) in enumerate(x):\n",
    "    # Check if an event occurs at this time step\n",
    "    if curr_markers_idx < len(fr_selected_ch_markers) and fr_selected_ch_markers[curr_markers_idx]['position'] <= time_step:\n",
    "        # If the label has an HFO event, mark it as 1 in the target array \n",
    "        # Can use this function since the given labels are already filtered in the desired band\n",
    "        if label_has_hfo_event(fr_selected_ch_markers[curr_markers_idx]['label']):\n",
    "            fr_target_np[idx] = 1   # Mark the Labelled event in the target array\n",
    "        \n",
    "        curr_markers_idx += 1    # Move to the next annotated event\n",
    "    \n",
    "    if curr_markers_idx >= len(fr_selected_ch_markers):\n",
    "        # All the spikes have been added to the input array\n",
    "        break \"\"\""
   ]
  },
  {
   "cell_type": "code",
   "execution_count": 1790,
   "metadata": {},
   "outputs": [
    {
     "data": {
      "text/plain": [
       "' preview_np_array(ripple_target_np, \"ripple_target_np\")\\nprint(np.count_nonzero(ripple_target_np)) '"
      ]
     },
     "execution_count": 1790,
     "metadata": {},
     "output_type": "execute_result"
    }
   ],
   "source": [
    "\"\"\" preview_np_array(ripple_target_np, \"ripple_target_np\")\n",
    "print(np.count_nonzero(ripple_target_np)) \"\"\""
   ]
  },
  {
   "cell_type": "code",
   "execution_count": 1791,
   "metadata": {},
   "outputs": [
    {
     "data": {
      "text/plain": [
       "' preview_np_array(fr_target_np, \"fr_target_np\")\\nprint(np.count_nonzero(fr_target_np)) '"
      ]
     },
     "execution_count": 1791,
     "metadata": {},
     "output_type": "execute_result"
    }
   ],
   "source": [
    "\"\"\" preview_np_array(fr_target_np, \"fr_target_np\")\n",
    "print(np.count_nonzero(fr_target_np)) \"\"\""
   ]
  },
  {
   "cell_type": "markdown",
   "metadata": {},
   "source": [
    "## Export the target files to numpy files"
   ]
  },
  {
   "cell_type": "code",
   "execution_count": 1792,
   "metadata": {},
   "outputs": [],
   "source": [
    "# Export the target array to a numpy file\n",
    "EXPORT_TARGET = True\n",
    "if EXPORT_TARGET:\n",
    "    ripple_target_file_name = f\"{RESULTS_FOLDER}/{RIPPLE_BAND_FILENAME}_ground_truth.npy\"\n",
    "    # Save the ripple target array to a numpy file\n",
    "    np.save(ripple_target_file_name, ripple_selected_ch_markers)\n",
    "\n",
    "    # Save the fast ripple target array to a numpy file\n",
    "    fr_target_file_name = f\"{RESULTS_FOLDER}/{FR_BAND_FILENAME}_ground_truth.npy\"\n",
    "    np.save(fr_target_file_name, fr_selected_ch_markers)\n",
    "\n",
    "    # Save the HFO target array to a numpy file\n",
    "    hfo_target_file_name = f\"{RESULTS_FOLDER}/{BOTH_BAND_FILENAME}_ground_truth.npy\"\n",
    "    np.save(hfo_target_file_name, hfo_selected_ch_markers)"
   ]
  }
 ],
 "metadata": {
  "kernelspec": {
   "display_name": "Python 3 (ipykernel)",
   "language": "python",
   "name": "python3"
  },
  "language_info": {
   "codemirror_mode": {
    "name": "ipython",
    "version": 3
   },
   "file_extension": ".py",
   "mimetype": "text/x-python",
   "name": "python",
   "nbconvert_exporter": "python",
   "pygments_lexer": "ipython3",
   "version": "3.10.12"
  }
 },
 "nbformat": 4,
 "nbformat_minor": 2
}
