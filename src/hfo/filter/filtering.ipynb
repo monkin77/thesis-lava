{
 "cells": [
  {
   "cell_type": "markdown",
   "metadata": {},
   "source": [
    "# Filtering - Pre-Processing of the SEEG Signal (1/2)\n",
    "This notebook presents the **pre-processing stage 1** the SEEG signal goes through before being fed to the SNN. The pre-processing stages are as follows:\n",
    "1. **Filtering**: The SEEG signal is bandpass filtered to remove noise and artifacts. The bandpass filter is designed using the Butterworth filter and, since we are working with *iEEG*, the signal is filtered in the ripples and FR bands. The co-occurrence of HFOs in both bands is an optimal prediction of post-surgical seizure freedom by defining an optimal \"HFO area\" or EZ zone.\n",
    "2. **Signal-to-Spike Conversion**: To interface and communicate with the silicon neurons in the SNN, the SEEG signal must be converted to spikes."
   ]
  },
  {
   "cell_type": "markdown",
   "metadata": {},
   "source": [
    "## Filtering\n",
    "Depending on the EEG modality, the signal is filtered in different frequency bands. In this case, since we are handling *iEEG* or *sEEG* data, the signal is filtered in both the ripples (80-250Hz) and FR bands (250-500Hz). The co-occurrence of HFO in these bands represents an optimal prediction of post-surgical seizure freedom by defining an optimal \"HFO area\" or EZ zone.\n",
    "\n",
    "The filter is implemented in different ways depending on the setup it will run on.\n",
    "1. **Neuromorphic Hardware**: The filter is implemented using analog filters. \n",
    "2. **Software Simulation**: *Butterworth filters* are utilized since they are a good approximation of the tuned *Tow-Thomas* architectures implemented in hardware."
   ]
  },
  {
   "cell_type": "markdown",
   "metadata": {},
   "source": [
    "The frequency response of the *Butterworth filter* is maximally flat in the passband and rolls of towards 0 in the stopband."
   ]
  },
  {
   "cell_type": "markdown",
   "metadata": {},
   "source": [
    "### Check WD (change if necessary) and file loading"
   ]
  },
  {
   "cell_type": "code",
   "execution_count": 74,
   "metadata": {},
   "outputs": [
    {
     "name": "stdout",
     "output_type": "stream",
     "text": [
      "/home/monkin/Desktop/feup/thesis/thesis-lava/src/hfo/filter\n"
     ]
    }
   ],
   "source": [
    "# Show current directory\n",
    "import os\n",
    "curr_dir = os.getcwd()\n",
    "print(curr_dir)\n",
    "\n",
    "# Check if the current WD is the file location\n",
    "if \"/src/hfo/filter\" not in os.getcwd():\n",
    "    # Set working directory to this file location\n",
    "    file_location = f\"{os.getcwd()}/thesis-lava/src/hfo/filter\"\n",
    "    print(\"File Location: \", file_location)\n",
    "\n",
    "    # Change the current working Directory\n",
    "    os.chdir(file_location)\n",
    "\n",
    "    # New Working Directory\n",
    "    print(\"New Working Directory: \", os.getcwd())\n",
    "\n",
    "PATH_TO_FILE = '' # 'src/hfo/'  # This is needed if the WD is not the same as the file location"
   ]
  },
  {
   "cell_type": "code",
   "execution_count": 75,
   "metadata": {},
   "outputs": [
    {
     "name": "stdout",
     "output_type": "stream",
     "text": [
      "Data shape:  (129239, 86)\n",
      "First time steps:  [[  1.0633698  34.293705   -5.3168535 ... -54.76359    13.557976\n",
      "  -24.457527 ]\n",
      " [  1.8608971  35.888763   -6.380224  ... -57.687862   15.684719\n",
      "  -25.78674  ]\n",
      " [ -1.8608971  37.21797    -7.1777525 ... -62.738873   19.406517\n",
      "  -22.862473 ]\n",
      " ...\n",
      " [ -1.3292122  34.559547   -8.772809  ... -72.57505    20.204044\n",
      "   -2.9242706]\n",
      " [ -0.7975273  37.74966   -13.026291  ... -67.78989    16.216404\n",
      "   -1.8608971]\n",
      " [ -1.3292122  34.027863   -9.304494  ... -68.85326    14.355507\n",
      "    0.5316849]]\n"
     ]
    }
   ],
   "source": [
    "import numpy as np\n",
    "import math\n",
    "\n",
    "INPUT_FILE_COMMON = \"seeg_csl\"  # \"seeg_synthetic_humans\"\n",
    "seeg_file_name = f\"{INPUT_FILE_COMMON}.npy\"   # \"seeg_synthetic_humans.npy\"\n",
    "markers_seeg_file_name = f\"{INPUT_FILE_COMMON}_markers.npy\"\n",
    "\n",
    "IS_CLINICAL = True\n",
    "OUTPUT_PATH = \"/clinical\" if IS_CLINICAL else \"/synthetic\"\n",
    "OUT_FILE_PREFIX = \"filtered_seeg_csl_ch\" if IS_CLINICAL else \"filtered_seeg_ch\"\n",
    "\n",
    "recorded_data = np.load(f\"{PATH_TO_FILE}data/{seeg_file_name}\")\n",
    "\n",
    "print(\"Data shape: \", recorded_data.shape)\n",
    "print(\"First time steps: \", recorded_data[:10])"
   ]
  },
  {
   "cell_type": "markdown",
   "metadata": {},
   "source": [
    "## Define the Filter"
   ]
  },
  {
   "cell_type": "code",
   "execution_count": 76,
   "metadata": {},
   "outputs": [],
   "source": [
    "from scipy.signal import butter, lfilter\n",
    "\n",
    "# ================================================================ #\n",
    "# ============ Butterworth Filter Coefficients =================== #\n",
    "# ================================================================ #\n",
    "def butter_bandpass(lowcut, highcut, sampling_freq, order=5):\n",
    "    \"\"\"\n",
    "    This function is used to generate the coefficients for lowpass, highpass and bandpass\n",
    "    filtering for Butterworth filters.\n",
    "    @lowcut, highcut (int): cutoff frequencies for the bandpass filter\n",
    "    @sampling_freq (float): sampling_frequency frequency of the wideband signal\n",
    "    @order (int): filter order\n",
    "\n",
    "    - return b, a (float): filtering coefficients that will be applied on the wideband signal\n",
    "    \"\"\"\n",
    "    nyq = 0.5 * sampling_freq   # Nyquist frequency\n",
    "    low = lowcut / nyq          # Normalizing the cutoff frequencies\n",
    "    high = highcut / nyq        # Normalizing the cutoff frequencies\n",
    "\n",
    "    return butter(order, [low, high], btype='band')    \n",
    "\n",
    "# ================================================================ #\n",
    "# ====================== Butterworth Filters ===================== #\n",
    "# ================================================================ #\n",
    "def butter_bandpass_filter(data, lowcut, highcut, sampling_freq, order=5):\n",
    "    \"\"\"\n",
    "    This function applies the filtering coefficients calculated above to the wideband signal (original signal).\n",
    "    @data (array): Array with the amplitude values of the wideband signal.\n",
    "    @lowcut, highcut (int): cutoff frequencies for the bandpass filter.\n",
    "    @sampling_freq (float): sampling frequency of the original signal.\n",
    "    @order (int): filter order.\n",
    "\n",
    "    - return (array): Array with the amplitude values of the filtered signal.\n",
    "    \"\"\"\n",
    "    coef_b, coef_a = butter_bandpass(lowcut, highcut, sampling_freq, order)\n",
    "\n",
    "    return lfilter(coef_b, coef_a, data)\n",
    "    "
   ]
  },
  {
   "cell_type": "markdown",
   "metadata": {},
   "source": [
    "## Define Global Parameters of the Experiment"
   ]
  },
  {
   "cell_type": "code",
   "execution_count": 77,
   "metadata": {},
   "outputs": [
    {
     "name": "stdout",
     "output_type": "stream",
     "text": [
      "Input Duration: 63104.98046875 ms\n"
     ]
    }
   ],
   "source": [
    "from utils.input import SAMPLING_RATE, X_STEP\n",
    "\n",
    "sampling_rate = SAMPLING_RATE    # 2048 Hz\n",
    "x_step = X_STEP  # 0.48828125 ms\n",
    "\n",
    "num_samples = recorded_data.shape[0]    # 2048 * 120 = 245760\n",
    "num_channels = recorded_data.shape[1]   # 960\n",
    "input_duration = (num_samples / sampling_rate) * 1000\n",
    "\n",
    "print(f\"Input Duration: {input_duration} ms\")"
   ]
  },
  {
   "cell_type": "markdown",
   "metadata": {},
   "source": [
    "### Extract a window of channels from the SEEG data\n",
    "Let's define the window first.\n",
    "\n",
    "If we want to extract a single channel, set the variable `is_single_channel` to `True` and the variable `min_channel_idx` to the desired channel number."
   ]
  },
  {
   "cell_type": "code",
   "execution_count": 78,
   "metadata": {},
   "outputs": [],
   "source": [
    "is_single_channel = False   # Set to True if you want to use only one channel\n",
    "\n",
    "# Define the window of channels to be used\n",
    "BRAIN_REGION_IDX = 0\n",
    "BRAIN_REGION_OFFSET = BRAIN_REGION_IDX * 120\n",
    "SNR_OFFSET = 90     # Choose the highest SNR (channels 90-120)\n",
    "min_channel_idx = 30  # BRAIN_REGION_OFFSET + SNR_OFFSET\n",
    "max_channel_idx = min_channel_idx + 30\n",
    "\n",
    "if is_single_channel:\n",
    "    # Set the window to size 1\n",
    "    max_channel_idx = min_channel_idx + 1"
   ]
  },
  {
   "cell_type": "code",
   "execution_count": 79,
   "metadata": {},
   "outputs": [
    {
     "name": "stdout",
     "output_type": "stream",
     "text": [
      "SEEG Window Shape: (129239, 30).\n",
      "Preview: [[ -55.56112    -59.814606   -10.102022   -18.077301    12.228763  ...\n",
      "   -32.16696     74.7018    -114.04651    -18.874832    29.774384 ]\n",
      " [ -56.890335   -60.61213    -10.102022   -20.469887    10.102021  ...\n",
      "   -34.027863    69.38493   -108.9955     -20.469894    30.837753 ]\n",
      " [ -58.219543   -60.612133    -9.304494   -17.81146     14.355505  ...\n",
      "   -32.964493    69.119095  -110.32471    -23.394157    35.09124  ]\n",
      " [ -57.42202    -60.34629    -11.697078   -20.73573     14.88719   ...\n",
      "   -36.42045     69.38493   -110.59056    -21.001572    35.091232 ]\n",
      " [ -56.890335   -59.28292    -14.88719    -21.001572    14.355504  ...\n",
      "   -38.281345    64.068085  -109.79303    -21.799103    36.420456 ]\n",
      " ...\n",
      " [ -49.44674    -34.293705    11.431236    20.20404     17.279776  ...\n",
      "    39.078873    34.825386   -78.68943    -18.343143     7.1777525]\n",
      " [ -46.52247    -34.825394    11.165398    19.67236     15.418875  ...\n",
      "    37.217976    37.749657   -79.221115   -14.88719      6.380224 ]\n",
      " [ -48.915054   -31.90112      9.0386505   17.013931    15.95056   ...\n",
      "    37.74966     37.749657   -78.68943    -11.697077     6.911909 ]\n",
      " [ -52.63685    -30.83775      9.038647    15.684719    14.089661  ...\n",
      "    35.35708     37.483814   -78.95527     -6.911911     4.7851677]\n",
      " [ -48.117523   -31.103592     6.6460648   13.823822    13.292133  ...\n",
      "    33.496178    38.547184   -77.8919      -4.5193253    4.5193253]]\n"
     ]
    }
   ],
   "source": [
    "from utils.io import preview_np_array\n",
    "seeg_window = recorded_data[:, min_channel_idx:max_channel_idx]\n",
    "\n",
    "preview_np_array(seeg_window, \"SEEG Window\")"
   ]
  },
  {
   "cell_type": "markdown",
   "metadata": {},
   "source": [
    "## Apply the Butterworth filter to each channel"
   ]
  },
  {
   "cell_type": "code",
   "execution_count": 80,
   "metadata": {},
   "outputs": [
    {
     "name": "stdout",
     "output_type": "stream",
     "text": [
      "Ripple Band SEEG Window Shape: (129239, 30).\n",
      "Preview: [[-8.30193599e-05 -8.93749147e-05 -1.50944298e-05 ... -1.70408162e-04\n",
      "  -2.82027524e-05  4.44888495e-05]\n",
      " [-1.21216938e-03 -1.30402062e-03 -2.20033332e-04 ... -2.47651320e-03\n",
      "  -4.13498278e-04  6.50108234e-04]\n",
      " [-8.47334814e-03 -9.10609068e-03 -1.53379209e-03 ... -1.72211275e-02\n",
      "  -2.90710783e-03  4.55367995e-03]\n",
      " ...\n",
      " [-3.83818553e-01  3.74478269e-01  1.82346539e-01 ...  5.86743965e-01\n",
      "   2.52448301e+00 -1.09098293e+00]\n",
      " [-5.64172868e-01  5.83872137e-01 -6.55029530e-02 ... -5.57722657e-01\n",
      "   3.59086578e+00 -2.20422319e+00]\n",
      " [-5.98851221e-01  7.19539413e-01 -2.96924496e-01 ... -1.52184342e+00\n",
      "   3.87510043e+00 -2.63788951e+00]]\n"
     ]
    }
   ],
   "source": [
    "# Apply the Butterworth filter to the window of channels in the Ripple Band\n",
    "ripple_lowcut_freq = 80\n",
    "ripple_highcut_freq = 250\n",
    "BUTTER_FILTER_ORDER = 9\n",
    "\n",
    "ripple_band_seeg_window = [ butter_bandpass_filter(seeg_window[:, i], ripple_lowcut_freq, ripple_highcut_freq, sampling_rate, BUTTER_FILTER_ORDER) for i in range(seeg_window.shape[1]) ]\n",
    "ripple_band_seeg_window = np.array(ripple_band_seeg_window).T\n",
    "preview_np_array(ripple_band_seeg_window, \"Ripple Band SEEG Window\", edge_items=3)"
   ]
  },
  {
   "cell_type": "code",
   "execution_count": 81,
   "metadata": {},
   "outputs": [
    {
     "name": "stdout",
     "output_type": "stream",
     "text": [
      "FR Band SEEG Window Shape: (129239, 30).\n",
      "Preview: [[-1.60660266e-03 -1.72959628e-03 -2.92109590e-04 ... -3.29776340e-03\n",
      "  -5.45783744e-04  8.60954651e-04]\n",
      " [-1.12527184e-02 -1.20958544e-02 -2.03896062e-03 ... -2.28727365e-02\n",
      "  -3.85575994e-03  6.04031697e-03]\n",
      " [-2.14036610e-02 -2.28729889e-02 -3.81274635e-03 ... -4.23232028e-02\n",
      "  -7.57340445e-03  1.16431601e-02]\n",
      " ...\n",
      " [ 1.17118922e+00 -3.52740623e-01 -9.42723819e-01 ...  1.04041108e-01\n",
      "  -4.12746111e-01  1.47455335e-02]\n",
      " [ 3.77408302e-01  5.62804334e-01 -1.36302207e+00 ...  7.55420292e-01\n",
      "  -3.70504660e-01 -1.01931771e+00]\n",
      " [-8.05914205e-01  8.92573648e-01 -4.09878669e-01 ...  8.95009709e-01\n",
      "  -6.29180359e-01 -7.11263606e-01]]\n"
     ]
    }
   ],
   "source": [
    "# Apply the Butterworth filter to the window of channels in the Fast Ripple Band\n",
    "fr_lowcut_freq = 250\n",
    "fr_highcut_freq = 500\n",
    "\n",
    "fr_band_seeg_window = [ butter_bandpass_filter(seeg_window[:, i], fr_lowcut_freq, fr_highcut_freq, sampling_rate, BUTTER_FILTER_ORDER) for i in range(seeg_window.shape[1]) ]\n",
    "fr_band_seeg_window = np.array(fr_band_seeg_window).T\n",
    "preview_np_array(fr_band_seeg_window, \"FR Band SEEG Window\", edge_items=3)"
   ]
  },
  {
   "cell_type": "markdown",
   "metadata": {},
   "source": [
    "Apply the Butterworth filter in the combined Ripple+FR Band"
   ]
  },
  {
   "cell_type": "code",
   "execution_count": 82,
   "metadata": {},
   "outputs": [
    {
     "name": "stdout",
     "output_type": "stream",
     "text": [
      "Both Bands SEEG Window Shape: (129239, 30).\n",
      "Preview: [[-0.07076982 -0.07618761 -0.01286724 ... -0.14526437 -0.02404143\n",
      "   0.0379245 ]\n",
      " [-0.66374743 -0.71375383 -0.12037353 ... -1.3525201  -0.22694013\n",
      "   0.35613961]\n",
      " [-2.62400238 -2.81551241 -0.47288795 ... -5.29163038 -0.908183\n",
      "   1.41485784]\n",
      " ...\n",
      " [ 0.26414082 -0.07446556  1.14011617 ... -2.08017214  2.84187845\n",
      "   0.02161914]\n",
      " [ 1.11657756 -0.25260712  0.49740641 ... -3.41669097  2.57734347\n",
      "  -0.13053429]\n",
      " [ 0.5242394  -0.25160076 -1.06733936 ... -3.91685808  0.81962739\n",
      "  -0.06098256]]\n"
     ]
    }
   ],
   "source": [
    "# Apply the Butterworth filter to the window of channels in the Combined Ripple and Fast Ripple Band\n",
    "both_band_seeg_window = [ butter_bandpass_filter(seeg_window[:, i], ripple_lowcut_freq, fr_highcut_freq, sampling_rate, BUTTER_FILTER_ORDER) for i in range(seeg_window.shape[1]) ]\n",
    "both_band_seeg_window = np.array(both_band_seeg_window).T\n",
    "preview_np_array(both_band_seeg_window, \"Both Bands SEEG Window\", edge_items=3)"
   ]
  },
  {
   "cell_type": "markdown",
   "metadata": {},
   "source": [
    "## Import the Markers (Annotated Events) \n",
    "The markers are stored in a numpy array of shape (num_channels, events):\n",
    "- Each row represents the events of a channel\n",
    "- Each event is composed of the following 3 fields (Label, Position, Shape)"
   ]
  },
  {
   "cell_type": "code",
   "execution_count": 83,
   "metadata": {},
   "outputs": [
    {
     "name": "stdout",
     "output_type": "stream",
     "text": [
      "Markers Shape: (86,).\n",
      "Preview: [list([array([],\n",
      "       dtype=[('label', '<U64'), ('position', '<f4'), ('duration', '<f4')])])\n",
      " list([array([],\n",
      "       dtype=[('label', '<U64'), ('position', '<f4'), ('duration', '<f4')])])\n",
      " list([array([],\n",
      "       dtype=[('label', '<U64'), ('position', '<f4'), ('duration', '<f4')])])\n",
      " ...\n",
      " list([array([],\n",
      "       dtype=[('label', '<U64'), ('position', '<f4'), ('duration', '<f4')])])\n",
      " list([array([],\n",
      "       dtype=[('label', '<U64'), ('position', '<f4'), ('duration', '<f4')])])\n",
      " list([array([],\n",
      "       dtype=[('label', '<U64'), ('position', '<f4'), ('duration', '<f4')])])]\n"
     ]
    }
   ],
   "source": [
    "markers = np.load(f\"{PATH_TO_FILE}data/{markers_seeg_file_name}\", allow_pickle=True)\n",
    "\n",
    "preview_np_array(markers, \"Markers\", edge_items=3)"
   ]
  },
  {
   "cell_type": "markdown",
   "metadata": {},
   "source": [
    "### Define the set of channels the markers will be extracted from"
   ]
  },
  {
   "cell_type": "code",
   "execution_count": 84,
   "metadata": {},
   "outputs": [
    {
     "name": "stdout",
     "output_type": "stream",
     "text": [
      "Channels used:  {30, 31, 32, 33, 34, 35, 36, 37, 38, 39, 40, 41, 42, 43, 44, 45, 46, 47, 48, 49, 50, 51, 52, 53, 54, 55, 56, 57, 58, 59}\n"
     ]
    }
   ],
   "source": [
    "channels_used = set(range(min_channel_idx, max_channel_idx))\n",
    "print(\"Channels used: \", channels_used)"
   ]
  },
  {
   "cell_type": "markdown",
   "metadata": {},
   "source": [
    "## Visualize the filtered signals"
   ]
  },
  {
   "cell_type": "code",
   "execution_count": 85,
   "metadata": {},
   "outputs": [],
   "source": [
    "# Interactive Plot for the HFO detection\n",
    "# bokeh docs: https://docs.bokeh.org/en/2.4.1/docs/first_steps/first_steps_1.html\n",
    "\n",
    "from utils.line_plot import create_fig  # Import the function to create the figure\n",
    "from bokeh.models import Range1d\n",
    "\n",
    "# Define the x and y values\n",
    "# Should the first input start at 0 or x_step?\n",
    "# TODO: is it okay to create a range with floats?\n",
    "x = [val for val in np.arange(x_step, input_duration + x_step, x_step)] "
   ]
  },
  {
   "cell_type": "markdown",
   "metadata": {},
   "source": [
    "## Create the Plot"
   ]
  },
  {
   "cell_type": "code",
   "execution_count": 86,
   "metadata": {},
   "outputs": [],
   "source": [
    "# Create the plot\n",
    "# List of tuples containing the y values and the legend label\n",
    "hfo_y_arrays = []\n",
    "\n",
    "PLOT_RIPPLE_BAND = False\n",
    "PLOT_FR_BAND = False\n",
    "PLOT_BOTH_BAND = True\n",
    "\n",
    "if is_single_channel:\n",
    "    # Add the Ripple and FR bands of the single channel\n",
    "    hfo_y_arrays.append((ripple_band_seeg_window[:, 0], f\"Ripple Band Ch. {min_channel_idx}\"))\n",
    "    hfo_y_arrays.append((fr_band_seeg_window[:, 0], f\"Fast Ripple Band Ch. {min_channel_idx}\"))\n",
    "else:\n",
    "    # Add the Ripple, FR and both bands of each channel in the range defined below\n",
    "    min_hfo_idx = 0\n",
    "    max_hfo_idx = 8\n",
    "    if PLOT_RIPPLE_BAND:\n",
    "        for hfo_idx in range(min_hfo_idx, max_hfo_idx, 1):\n",
    "            hfo_y_arrays.append((ripple_band_seeg_window[:, hfo_idx], f\"Ripple Band Ch. {min_channel_idx + hfo_idx}\"))\n",
    "    if PLOT_FR_BAND:\n",
    "        for hfo_idx in range(min_hfo_idx, max_hfo_idx, 1):\n",
    "                hfo_y_arrays.append((fr_band_seeg_window[:, hfo_idx], f\"Fast Ripple Band Ch. {min_channel_idx + hfo_idx}\"))\n",
    "    if PLOT_BOTH_BAND:\n",
    "        for hfo_idx in range(min_hfo_idx, max_hfo_idx, 1):\n",
    "            hfo_y_arrays.append((both_band_seeg_window[:, hfo_idx], f\"Both Bands Ch. {min_channel_idx + hfo_idx}\"))\n",
    "\n",
    "\n",
    "# Create the SEEG Voltage plot\n",
    "hfo_plot = create_fig(\n",
    "    title=\"SEEG Voltage dynamics of Filtered Both Bands\", \n",
    "    x_axis_label='time (ms)', \n",
    "    y_axis_label='Voltage (μV)',\n",
    "    x=x, \n",
    "    y_arrays=hfo_y_arrays, \n",
    "    sizing_mode=\"stretch_both\", \n",
    "    tools=\"pan, box_zoom, wheel_zoom, hover, undo, redo, zoom_in, zoom_out, reset, save\",\n",
    "    tooltips=\"Data point @x: @y\",\n",
    "    legend_location=\"top_right\",\n",
    "    legend_bg_fill_color=\"navy\",\n",
    "    legend_bg_fill_alpha=0.1,\n",
    "    # y_range=Range1d(-0.05, 1.05)\n",
    ")\n",
    "\n",
    "# If there are more than 30 channels, hide the legend\n",
    "if len(hfo_y_arrays) > 30:\n",
    "    # Hide the legend\n",
    "    hfo_plot.legend.visible = False"
   ]
  },
  {
   "cell_type": "markdown",
   "metadata": {},
   "source": [
    "## Add Box Annotations to the plot to identify the marked HFOs (ground truth)"
   ]
  },
  {
   "cell_type": "code",
   "execution_count": 87,
   "metadata": {},
   "outputs": [],
   "source": [
    "from bokeh.models import BoxAnnotation\n",
    "# from utils.line_plot import color_map\n",
    "\n",
    "show_markers = False    # Boolean to show the markers\n",
    "\n",
    "color_map = {                  \n",
    "    'Spike': 'red',\n",
    "    'Fast-Ripple': 'blue',\n",
    "    'Ripple': 'green',  \n",
    "    'Spike+Ripple': 'yellow',\n",
    "    'Spike+Fast-Ripple': 'pink',\n",
    "    'Ripple+Fast-Ripple': 'cyan',\n",
    "    'Spike+Ripple+Fast-Ripple': 'black'\n",
    "}\n",
    "\n",
    "confidence_range = 100          # TODO: Check this value. When the duration is missing (0), we consider the 200ms window around the marked position \n",
    "visited_markers = {}    # Avoid inserting multiple boxes for the same marker (only one of each label)\n",
    "use_visited = False     # Boolean controlling if we remove duplicate markers\n",
    "plot_instant = True     # Boolean to plot the markers as instant events or as boxes\n",
    "instant_width = 100 # 20       # Width of the instant event for visualization purposes\n",
    "\n",
    "if show_markers:\n",
    "    for ch_idx in channels_used:\n",
    "        channel_markers = markers[ch_idx]\n",
    "        # print(\"channel_markers\", channel_markers)\n",
    "        for idx2, marker in enumerate(channel_markers):\n",
    "            # print(\"marker:\", marker)\n",
    "            \n",
    "            if use_visited:\n",
    "                # Check if the marker has already been visited and skip it if it has\n",
    "                if marker['position'] in visited_markers:\n",
    "                    visited_labels = visited_markers[marker['position']]    # Get the labels that already have an annotation for this position\n",
    "                    if marker['label'] in visited_labels:\n",
    "                        # print(\"Skipping marker\", marker['position'], marker['label'])\n",
    "                        continue    # Skip this marker\n",
    "                    else:\n",
    "                        visited_labels.append(marker['label'])  # Add the label to the visited labels\n",
    "                else:\n",
    "                    visited_markers[marker['position']] = [marker['label']] # Add the marker to the visited markers\n",
    "\n",
    "            # Add a box annotation for each marker\n",
    "            has_duration = marker['duration'] > 0\n",
    "            \n",
    "            confidence_constant = 0 if plot_instant or has_duration else confidence_range\n",
    "\n",
    "            left = marker['position'] - confidence_constant\n",
    "            right = marker['position'] + confidence_constant + instant_width\n",
    "            box_color = color_map[marker['label']]  # Choose a color according to the label\n",
    "            \n",
    "            # if left < min_t or right > max_t:\n",
    "            #     continue    # Skip this marker\n",
    "            \n",
    "\n",
    "            box = BoxAnnotation(left=left, right=right, fill_color=box_color, fill_alpha=0.35)\n",
    "            # print(\"Added marker for channel: \", ch_idx, \" at position: \", left)\n",
    "            hfo_plot.add_layout(box)"
   ]
  },
  {
   "cell_type": "markdown",
   "metadata": {},
   "source": [
    "## Show the Plot"
   ]
  },
  {
   "cell_type": "code",
   "execution_count": 88,
   "metadata": {},
   "outputs": [],
   "source": [
    "import bokeh.plotting as bplt\n",
    "\n",
    "showPlot = True\n",
    "if showPlot:\n",
    "    bplt.show(hfo_plot)"
   ]
  },
  {
   "cell_type": "markdown",
   "metadata": {},
   "source": [
    "## Export the plot to a file"
   ]
  },
  {
   "cell_type": "code",
   "execution_count": 89,
   "metadata": {},
   "outputs": [],
   "source": [
    "export = True\n",
    "CH_SUFFIX = f\"{min_channel_idx}\" if is_single_channel else f\"{min_channel_idx}-{max_channel_idx - 1}\"\n",
    "file_name = f\"{OUT_FILE_PREFIX}{CH_SUFFIX}\"\n",
    "\n",
    "if export:\n",
    "    file_path = f\"plots{OUTPUT_PATH}/{file_name}.html\"\n",
    "\n",
    "    # Customize the output file settings\n",
    "    bplt.output_file(filename=file_path, title=\"SEEG Data - Filtered Voltage dynamics across time\")\n",
    "\n",
    "    # Save the plot\n",
    "    bplt.save(hfo_plot)"
   ]
  },
  {
   "cell_type": "markdown",
   "metadata": {},
   "source": [
    "## Export the filtered signals to a numpy file"
   ]
  },
  {
   "cell_type": "markdown",
   "metadata": {},
   "source": [
    "### Get the relevant Markers"
   ]
  },
  {
   "cell_type": "code",
   "execution_count": 90,
   "metadata": {},
   "outputs": [
    {
     "name": "stdout",
     "output_type": "stream",
     "text": [
      "Relevant Markers Shape: (30,).\n",
      "Preview: [array([('Ripple',   522.9492, 0.), ('Fast Ripple',   523.9258, 0.),\n",
      "        ('Ripple',  2225.586 , 0.), ..., ('Ripple', 61297.363 , 0.),\n",
      "        ('Fast Ripple', 62202.637 , 0.), ('Ripple', 62207.52  , 0.)],\n",
      "       dtype=[('label', '<U64'), ('position', '<f4'), ('duration', '<f4')])\n",
      " array([('Ripple',   522.9492, 0.), ('Fast Ripple',   523.9258, 0.),\n",
      "        ('Ripple',  2225.586 , 0.), ..., ('Ripple', 61297.363 , 0.),\n",
      "        ('Fast Ripple', 62202.637 , 0.), ('Ripple', 62207.52  , 0.)],\n",
      "       dtype=[('label', '<U64'), ('position', '<f4'), ('duration', '<f4')])\n",
      " array([('Ripple',   522.9492, 0.), ('Ripple',  2225.586 , 0.),\n",
      "        ('Fast Ripple',  2230.957 , 0.), ..., ('Ripple', 61297.363 , 0.),\n",
      "        ('Fast Ripple', 62202.637 , 0.), ('Ripple', 62207.52  , 0.)],\n",
      "       dtype=[('label', '<U64'), ('position', '<f4'), ('duration', '<f4')])\n",
      " ...\n",
      " list([array([],\n",
      "       dtype=[('label', '<U64'), ('position', '<f4'), ('duration', '<f4')])])\n",
      " list([array([],\n",
      "       dtype=[('label', '<U64'), ('position', '<f4'), ('duration', '<f4')])])\n",
      " list([array([],\n",
      "       dtype=[('label', '<U64'), ('position', '<f4'), ('duration', '<f4')])])]\n"
     ]
    }
   ],
   "source": [
    "# Save the relevant markers in a variable\n",
    "relevant_markers = markers[min_channel_idx:max_channel_idx]\n",
    "preview_np_array(relevant_markers, \"Relevant Markers\", edge_items=3)"
   ]
  },
  {
   "cell_type": "code",
   "execution_count": 91,
   "metadata": {},
   "outputs": [],
   "source": [
    "from utils.input import RIPPLE_BAND_FILENAME, FR_BAND_FILENAME, BOTH_BAND_FILENAME\n",
    "\n",
    "EXPORT_FILTERED_SIGNAL = True\n",
    "if EXPORT_FILTERED_SIGNAL:\n",
    "    # Export the filtered signals\n",
    "    np.save(f\"{PATH_TO_FILE}results{OUTPUT_PATH}/{file_name}_{RIPPLE_BAND_FILENAME}_band.npy\", ripple_band_seeg_window)\n",
    "    np.save(f\"{PATH_TO_FILE}results{OUTPUT_PATH}/{file_name}_{FR_BAND_FILENAME}_band.npy\", fr_band_seeg_window)\n",
    "    np.save(f\"{PATH_TO_FILE}results{OUTPUT_PATH}/{file_name}_{BOTH_BAND_FILENAME}_band.npy\", both_band_seeg_window)\n",
    "\n",
    "    # Export the markers\n",
    "    np.save(f\"{PATH_TO_FILE}results{OUTPUT_PATH}/{file_name}_markers.npy\", relevant_markers)"
   ]
  }
 ],
 "metadata": {
  "kernelspec": {
   "display_name": "Python 3 (ipykernel)",
   "language": "python",
   "name": "python3"
  },
  "language_info": {
   "codemirror_mode": {
    "name": "ipython",
    "version": 3
   },
   "file_extension": ".py",
   "mimetype": "text/x-python",
   "name": "python",
   "nbconvert_exporter": "python",
   "pygments_lexer": "ipython3",
   "version": "3.10.12"
  }
 },
 "nbformat": 4,
 "nbformat_minor": 2
}
