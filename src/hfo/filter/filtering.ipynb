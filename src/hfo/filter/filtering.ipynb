{
 "cells": [
  {
   "cell_type": "markdown",
   "metadata": {},
   "source": [
    "# Filtering - Pre-Processing of the SEEG Signal (1/2)\n",
    "This notebook presents the **pre-processing stage 1** the SEEG signal goes through before being fed to the SNN. The pre-processing stages are as follows:\n",
    "1. **Filtering**: The SEEG signal is bandpass filtered to remove noise and artifacts. The bandpass filter is designed using the Butterworth filter and, since we are working with *iEEG*, the signal is filtered in the ripples and FR bands. The co-occurrence of HFOs in both bands is an optimal prediction of post-surgical seizure freedom by defining an optimal \"HFO area\" or EZ zone.\n",
    "2. **Signal-to-Spike Conversion**: To interface and communicate with the silicon neurons in the SNN, the SEEG signal must be converted to spikes."
   ]
  },
  {
   "cell_type": "markdown",
   "metadata": {},
   "source": [
    "## Filtering\n",
    "Depending on the EEG modality, the signal is filtered in different frequency bands. In this case, since we are handling *iEEG* or *sEEG* data, the signal is filtered in both the ripples (80-250Hz) and FR bands (250-500Hz). The co-occurrence of HFO in these bands represents an optimal prediction of post-surgical seizure freedom by defining an optimal \"HFO area\" or EZ zone.\n",
    "\n",
    "The filter is implemented in different ways depending on the setup it will run on.\n",
    "1. **Neuromorphic Hardware**: The filter is implemented using analog filters. \n",
    "2. **Software Simulation**: *Butterworth filters* are utilized since they are a good approximation of the tuned *Tow-Thomas* architectures implemented in hardware."
   ]
  },
  {
   "cell_type": "markdown",
   "metadata": {},
   "source": [
    "The frequency response of the *Butterworth filter* is maximally flat in the passband and rolls of towards 0 in the stopband."
   ]
  },
  {
   "cell_type": "markdown",
   "metadata": {},
   "source": [
    "### Check WD (change if necessary) and file loading"
   ]
  },
  {
   "cell_type": "code",
   "execution_count": 146,
   "metadata": {},
   "outputs": [
    {
     "name": "stdout",
     "output_type": "stream",
     "text": [
      "/home/monkin/Desktop/feup/thesis/thesis-lava/src/hfo/filter\n"
     ]
    }
   ],
   "source": [
    "# Show current directory\n",
    "import os\n",
    "curr_dir = os.getcwd()\n",
    "print(curr_dir)\n",
    "\n",
    "# Check if the current WD is the file location\n",
    "if \"/src/hfo/filter\" not in os.getcwd():\n",
    "    # Set working directory to this file location\n",
    "    file_location = f\"{os.getcwd()}/thesis-lava/src/hfo/filter\"\n",
    "    print(\"File Location: \", file_location)\n",
    "\n",
    "    # Change the current working Directory\n",
    "    os.chdir(file_location)\n",
    "\n",
    "    # New Working Directory\n",
    "    print(\"New Working Directory: \", os.getcwd())\n",
    "\n",
    "PATH_TO_FILE = '' # 'src/hfo/'  # This is needed if the WD is not the same as the file location"
   ]
  },
  {
   "cell_type": "code",
   "execution_count": 147,
   "metadata": {},
   "outputs": [
    {
     "name": "stdout",
     "output_type": "stream",
     "text": [
      "Data shape:  (245760, 960)\n",
      "First time steps:  [[ 3.2352024e-01 -1.3235390e+00 -5.9668809e-01 ... -1.9608999e+00\n",
      "  -1.9769822e-01 -1.2078454e+00]\n",
      " [-6.9759099e-04 -3.5122361e+00 -4.8766956e-01 ... -5.8757830e+00\n",
      "  -7.4400985e-01 -5.1096064e-01]\n",
      " [ 1.9026639e+00 -5.6726017e+00  9.8274893e-01 ... -6.6182971e+00\n",
      "  -8.3053267e-01 -8.1596655e-01]\n",
      " ...\n",
      " [ 3.2172418e+00 -8.4650068e+00  1.5216088e+00 ... -4.1081657e+00\n",
      "   2.0085973e-01 -4.7539668e+00]\n",
      " [ 1.7725919e+00 -9.4744024e+00  1.6776791e+00 ... -4.1469693e+00\n",
      "   1.6412770e+00 -3.4672713e+00]\n",
      " [ 7.8109097e-01 -1.0500931e+01  2.3717029e+00 ... -5.1762242e+00\n",
      "   1.0715837e+00 -4.4489903e+00]]\n"
     ]
    }
   ],
   "source": [
    "import numpy as np\n",
    "import math\n",
    "\n",
    "seeg_file_name = \"seeg_synthetic_humans.npy\"\n",
    "recorded_data = np.load(f\"{PATH_TO_FILE}data/{seeg_file_name}\")\n",
    "\n",
    "print(\"Data shape: \", recorded_data.shape)\n",
    "print(\"First time steps: \", recorded_data[:10])"
   ]
  },
  {
   "cell_type": "markdown",
   "metadata": {},
   "source": [
    "## Define the Filter"
   ]
  },
  {
   "cell_type": "code",
   "execution_count": 148,
   "metadata": {},
   "outputs": [],
   "source": [
    "from scipy.signal import butter, lfilter\n",
    "\n",
    "# ================================================================ #\n",
    "# ============ Butterworth Filter Coefficients =================== #\n",
    "# ================================================================ #\n",
    "def butter_bandpass(lowcut, highcut, sampling_freq, order=5):\n",
    "    \"\"\"\n",
    "    This function is used to generate the coefficients for lowpass, highpass and bandpass\n",
    "    filtering for Butterworth filters.\n",
    "    @lowcut, highcut (int): cutoff frequencies for the bandpass filter\n",
    "    @sampling_freq (float): sampling_frequency frequency of the wideband signal\n",
    "    @order (int): filter order\n",
    "\n",
    "    - return b, a (float): filtering coefficients that will be applied on the wideband signal\n",
    "    \"\"\"\n",
    "    nyq = 0.5 * sampling_freq   # Nyquist frequency\n",
    "    low = lowcut / nyq          # Normalizing the cutoff frequencies\n",
    "    high = highcut / nyq        # Normalizing the cutoff frequencies\n",
    "\n",
    "    return butter(order, [low, high], btype='band')    \n",
    "\n",
    "# ================================================================ #\n",
    "# ====================== Butterworth Filters ===================== #\n",
    "# ================================================================ #\n",
    "def butter_bandpass_filter(data, lowcut, highcut, sampling_freq, order=5):\n",
    "    \"\"\"\n",
    "    This function applies the filtering coefficients calculated above to the wideband signal (original signal).\n",
    "    @data (array): Array with the amplitude values of the wideband signal.\n",
    "    @lowcut, highcut (int): cutoff frequencies for the bandpass filter.\n",
    "    @sampling_freq (float): sampling frequency of the original signal.\n",
    "    @order (int): filter order.\n",
    "\n",
    "    - return (array): Array with the amplitude values of the filtered signal.\n",
    "    \"\"\"\n",
    "    coef_b, coef_a = butter_bandpass(lowcut, highcut, sampling_freq, order)\n",
    "\n",
    "    return lfilter(coef_b, coef_a, data)\n",
    "    "
   ]
  },
  {
   "cell_type": "markdown",
   "metadata": {},
   "source": [
    "## Define Global Parameters of the Experiment"
   ]
  },
  {
   "cell_type": "code",
   "execution_count": 149,
   "metadata": {},
   "outputs": [],
   "source": [
    "sampling_rate = 2048    # 2048 Hz\n",
    "input_duration = 120 * (10**3)    # 120000 ms or 120 seconds\n",
    "num_samples = recorded_data.shape[0]    # 2048 * 120 = 245760\n",
    "num_channels = recorded_data.shape[1]   # 960\n",
    "\n",
    "x_step = 1/sampling_rate * (10**3)  # 0.48828125 ms"
   ]
  },
  {
   "cell_type": "markdown",
   "metadata": {},
   "source": [
    "### Extract a window of channels from the SEEG data\n",
    "Let's define the window first.\n",
    "\n",
    "If we want to extract a single channel, set the variable `is_single_channel` to `True` and the variable `min_channel_idx` to the desired channel number."
   ]
  },
  {
   "cell_type": "code",
   "execution_count": 150,
   "metadata": {},
   "outputs": [],
   "source": [
    "is_single_channel = False   # Set to True if you want to use only one channel\n",
    "\n",
    "# Define the window of channels to be used\n",
    "BRAIN_REGION_IDX = 1\n",
    "BRAIN_REGION_OFFSET = BRAIN_REGION_IDX * 120\n",
    "SNR_OFFSET = 90     # Choose the highest SNR (channels 90-120)\n",
    "min_channel_idx =BRAIN_REGION_OFFSET + SNR_OFFSET\n",
    "max_channel_idx = min_channel_idx + 30\n",
    "\n",
    "if is_single_channel:\n",
    "    # Set the window to size 1\n",
    "    max_channel_idx = min_channel_idx + 1"
   ]
  },
  {
   "cell_type": "code",
   "execution_count": 151,
   "metadata": {},
   "outputs": [
    {
     "name": "stdout",
     "output_type": "stream",
     "text": [
      "SEEG Window Shape: (245760, 30).\n",
      "Preview: [[ 9.6835774e-01  7.7345985e-01  7.6677883e-01  6.1160040e-01\n",
      "  -8.8918343e-02 ...  1.3314213e+00  5.2814152e-02 -1.0629585e+00\n",
      "   1.7152629e+00 -7.4064404e-01]\n",
      " [ 1.1097224e+00  2.0653048e+00  1.7075658e+00  1.0589859e+00\n",
      "   4.1997379e-01 ...  5.9186798e-01  6.9132549e-01 -8.0105793e-01\n",
      "   2.2942369e+00 -1.2228327e+00]\n",
      " [ 2.5909829e+00  1.7661601e+00  3.0228820e+00  9.3765438e-01\n",
      "   2.8263158e-01 ...  1.2598464e+00  3.9316627e-01 -6.9141585e-01\n",
      "   2.7291439e+00  7.2643161e-01]\n",
      " [ 3.4566371e+00  2.4618118e+00  3.3156486e+00  2.8687816e+00\n",
      "   3.8806129e-01 ... -1.7202418e-01 -4.0790819e-02 -1.3614488e+00\n",
      "   2.9467266e+00 -4.7984955e-01]\n",
      " [ 3.6298239e+00  3.0240128e+00  5.3321171e+00  4.7688065e+00\n",
      "  -7.6529050e-01 ... -6.7479324e-01  1.1853703e-01 -1.5241061e+00\n",
      "   2.5720155e+00  2.7392292e-01]\n",
      " ...\n",
      " [ 2.3135878e+01  4.8931633e+01  3.5224194e+01 -5.6878113e+01\n",
      "   7.1059384e+00 ... -4.2149609e+01 -3.0201139e+01  3.3220646e+01\n",
      "  -1.0734201e+01  1.3423330e+01]\n",
      " [ 2.3541073e+01  5.0091900e+01  3.5655758e+01 -5.5558872e+01\n",
      "   4.0535846e+00 ... -4.1614525e+01 -2.9337576e+01  3.3272636e+01\n",
      "  -9.8368483e+00  1.4339729e+01]\n",
      " [ 2.2168797e+01  4.9120220e+01  3.5724819e+01 -5.4783997e+01\n",
      "   3.5299721e+00 ... -4.1881283e+01 -2.8676395e+01  3.4247681e+01\n",
      "  -9.8905096e+00  1.6240889e+01]\n",
      " [ 2.2837378e+01  4.9411282e+01  3.4053463e+01 -5.3408001e+01\n",
      "   2.7476099e+00 ... -4.1191994e+01 -2.7345798e+01  3.2866425e+01\n",
      "  -1.1627895e+01  1.7932146e+01]\n",
      " [ 2.3050560e+01  5.0521084e+01  3.2788517e+01 -5.3498722e+01\n",
      "   2.1772137e+00 ... -4.0057968e+01 -2.5349569e+01  3.2848610e+01\n",
      "  -1.0276766e+01  1.7883226e+01]]\n"
     ]
    }
   ],
   "source": [
    "from utils.io import preview_np_array\n",
    "seeg_window = recorded_data[:, min_channel_idx:max_channel_idx]\n",
    "\n",
    "preview_np_array(seeg_window, \"SEEG Window\")"
   ]
  },
  {
   "cell_type": "markdown",
   "metadata": {},
   "source": [
    "## Apply the Butterworth filter to each channel"
   ]
  },
  {
   "cell_type": "code",
   "execution_count": 152,
   "metadata": {},
   "outputs": [
    {
     "name": "stdout",
     "output_type": "stream",
     "text": [
      "Ripple Band SEEG Window Shape: (245760, 30).\n",
      "Preview: [[ 1.44691902e-06  1.15570282e-06  1.14572004e-06 ... -1.58827133e-06\n",
      "   2.56294383e-06 -1.10666946e-06]\n",
      " [ 2.13031407e-05  1.87770931e-05  1.81070225e-05 ... -2.27610921e-05\n",
      "   3.82254449e-05 -1.68525406e-05]\n",
      " [ 1.52432562e-04  1.45216651e-04  1.38967373e-04 ... -1.55646279e-04\n",
      "   2.73891591e-04 -1.20129523e-04]\n",
      " ...\n",
      " [ 3.92131829e-01  2.53294667e+00 -1.61170218e+00 ... -1.66417493e+00\n",
      "  -1.26089363e+00  2.79554420e-01]\n",
      " [ 6.56078410e-01  3.00621041e+00 -2.24920785e+00 ... -7.83048151e-01\n",
      "  -2.38567670e+00  3.61910718e-01]\n",
      " [ 1.06512350e+00  2.94551573e+00 -2.64752234e+00 ...  1.46409238e-01\n",
      "  -3.16311593e+00  2.17212640e-01]]\n"
     ]
    }
   ],
   "source": [
    "# Apply the Butterworth filter to the window of channels in the Ripple Band\n",
    "ripple_lowcut_freq = 80\n",
    "ripple_highcut_freq = 250\n",
    "BUTTER_FILTER_ORDER = 9\n",
    "\n",
    "ripple_band_seeg_window = [ butter_bandpass_filter(seeg_window[:, i], ripple_lowcut_freq, ripple_highcut_freq, sampling_rate, BUTTER_FILTER_ORDER) for i in range(seeg_window.shape[1]) ]\n",
    "ripple_band_seeg_window = np.array(ripple_band_seeg_window).T\n",
    "preview_np_array(ripple_band_seeg_window, \"Ripple Band SEEG Window\", edge_items=3)"
   ]
  },
  {
   "cell_type": "code",
   "execution_count": 153,
   "metadata": {},
   "outputs": [
    {
     "name": "stdout",
     "output_type": "stream",
     "text": [
      "FR Band SEEG Window Shape: (245760, 30).\n",
      "Preview: [[ 2.80009862e-05  2.23653281e-05  2.21721399e-05 ... -3.07364566e-05\n",
      "   4.95984597e-05 -2.14164276e-05]\n",
      " [ 1.99537996e-04  1.93467647e-04  1.81967995e-04 ... -2.06971117e-04\n",
      "   3.62944891e-04 -1.63432224e-04]\n",
      " [ 4.39056782e-04  5.45779942e-04  5.19070343e-04 ... -3.47581087e-04\n",
      "   7.80731229e-04 -3.22186277e-04]\n",
      " ...\n",
      " [ 9.96073296e-01  5.22409334e-01  8.91212760e-02 ...  5.44964048e-02\n",
      "  -3.23298156e-01 -2.31611379e-03]\n",
      " [ 3.70795050e-01 -9.22678456e-02  7.12282639e-01 ...  8.55518893e-02\n",
      "  -4.94126390e-01  4.93363841e-01]\n",
      " [-4.20540216e-01 -2.94000993e-01  7.46649220e-01 ...  2.16137002e-01\n",
      "  -2.02953484e-01  7.06477583e-01]]\n"
     ]
    }
   ],
   "source": [
    "# Apply the Butterworth filter to the window of channels in the Fast Ripple Band\n",
    "fr_lowcut_freq = 250\n",
    "fr_highcut_freq = 500\n",
    "\n",
    "fr_band_seeg_window = [ butter_bandpass_filter(seeg_window[:, i], fr_lowcut_freq, fr_highcut_freq, sampling_rate, BUTTER_FILTER_ORDER) for i in range(seeg_window.shape[1]) ]\n",
    "fr_band_seeg_window = np.array(fr_band_seeg_window).T\n",
    "preview_np_array(fr_band_seeg_window, \"FR Band SEEG Window\", edge_items=3)"
   ]
  },
  {
   "cell_type": "markdown",
   "metadata": {},
   "source": [
    "Apply the Butterworth filter in the combined Ripple+FR Band"
   ]
  },
  {
   "cell_type": "code",
   "execution_count": 154,
   "metadata": {},
   "outputs": [
    {
     "name": "stdout",
     "output_type": "stream",
     "text": [
      "Both Bands SEEG Window Shape: (245760, 30).\n",
      "Preview: [[ 1.23342556e-03  9.85178420e-04  9.76668603e-04 ... -1.35392128e-03\n",
      "   2.18478048e-03 -9.43379958e-04]\n",
      " [ 1.17188033e-02  1.08618422e-02  1.03350798e-02 ... -1.23323947e-02\n",
      "   2.11761606e-02 -9.43953317e-03]\n",
      " [ 4.89985753e-02  5.12966914e-02  4.88565274e-02 ... -4.66048632e-02\n",
      "   8.79189093e-02 -3.80077474e-02]\n",
      " ...\n",
      " [ 2.63210851e+00  2.64870860e+00 -3.09298858e+00 ...  3.10937766e-01\n",
      "  -2.41210200e+00 -9.81901531e-01]\n",
      " [ 1.85221251e+00  2.34025783e+00 -3.61656477e+00 ...  1.01354877e-01\n",
      "  -1.70941771e+00 -1.48195304e+00]\n",
      " [ 8.16442552e-01  1.40049197e+00 -3.17550705e+00 ...  9.22226037e-02\n",
      "  -1.39753644e+00 -2.06974462e+00]]\n"
     ]
    }
   ],
   "source": [
    "# Apply the Butterworth filter to the window of channels in the Combined Ripple and Fast Ripple Band\n",
    "both_band_seeg_window = [ butter_bandpass_filter(seeg_window[:, i], ripple_lowcut_freq, fr_highcut_freq, sampling_rate, BUTTER_FILTER_ORDER) for i in range(seeg_window.shape[1]) ]\n",
    "both_band_seeg_window = np.array(both_band_seeg_window).T\n",
    "preview_np_array(both_band_seeg_window, \"Both Bands SEEG Window\", edge_items=3)"
   ]
  },
  {
   "cell_type": "markdown",
   "metadata": {},
   "source": [
    "## Import the Markers (Annotated Events) \n",
    "The markers are stored in a numpy array of shape (num_channels, events):\n",
    "- Each row represents the events of a channel\n",
    "- Each event is composed of the following 3 fields (Label, Position, Shape)"
   ]
  },
  {
   "cell_type": "code",
   "execution_count": 155,
   "metadata": {},
   "outputs": [
    {
     "name": "stdout",
     "output_type": "stream",
     "text": [
      "Markers Shape: (960, 42).\n",
      "Preview: [[('Spike+Ripple+Fast-Ripple',   1000.  , 0.)\n",
      "  ('Spike+Ripple+Fast-Ripple',   4537.6 , 0.)\n",
      "  ('Ripple+Fast-Ripple',   7610.84, 0.) ... ('Ripple', 113024.  , 0.)\n",
      "  ('Fast-Ripple', 116549.  , 0.) ('Spike+Ripple', 119000.  , 0.)]\n",
      " [('Spike+Fast-Ripple',   1000.  , 0.)\n",
      "  ('Spike+Ripple+Fast-Ripple',   3849.12, 0.)\n",
      "  ('Ripple+Fast-Ripple',   7010.25, 0.) ...\n",
      "  ('Fast-Ripple', 114176.  , 0.) ('Spike+Fast-Ripple', 116672.  , 0.)\n",
      "  ('Fast-Ripple', 119000.  , 0.)]\n",
      " [('Fast-Ripple',   1000.  , 0.)\n",
      "  ('Spike+Ripple+Fast-Ripple',   4357.42, 0.)\n",
      "  ('Fast-Ripple',   7062.01, 0.) ... ('Spike+Fast-Ripple', 113759.  , 0.)\n",
      "  ('Ripple+Fast-Ripple', 116295.  , 0.) ('Spike', 119000.  , 0.)]\n",
      " ...\n",
      " [('Spike+Fast-Ripple',   1000.  , 0.) ('Spike',   3671.88, 0.)\n",
      "  ('Fast-Ripple',   6912.6 , 0.) ... ('Ripple', 114088.  , 0.)\n",
      "  ('Spike', 116028.  , 0.) ('Spike+Ripple', 119000.  , 0.)]\n",
      " [('Spike+Fast-Ripple',   1000.  , 0.) ('Fast-Ripple',   3782.23, 0.)\n",
      "  ('Ripple+Fast-Ripple',   5976.07, 0.) ... ('Ripple', 113042.  , 0.)\n",
      "  ('Spike', 116026.  , 0.) ('Spike+Fast-Ripple', 119000.  , 0.)]\n",
      " [('Ripple+Fast-Ripple',   1000.  , 0.) ('Spike',   4426.76, 0.)\n",
      "  ('Ripple+Fast-Ripple',   6739.26, 0.) ...\n",
      "  ('Spike+Ripple+Fast-Ripple', 113650.  , 0.)\n",
      "  ('Spike+Ripple+Fast-Ripple', 115972.  , 0.)\n",
      "  ('Spike+Ripple+Fast-Ripple', 119000.  , 0.)]]\n"
     ]
    }
   ],
   "source": [
    "markers_seeg_file_name = \"seeg_synthetic_humans_markers.npy\"\n",
    "markers = np.load(f\"{PATH_TO_FILE}data/{markers_seeg_file_name}\")\n",
    "\n",
    "preview_np_array(markers, \"Markers\", edge_items=3)"
   ]
  },
  {
   "cell_type": "markdown",
   "metadata": {},
   "source": [
    "### Define the set of channels the markers will be extracted from"
   ]
  },
  {
   "cell_type": "code",
   "execution_count": 156,
   "metadata": {},
   "outputs": [
    {
     "name": "stdout",
     "output_type": "stream",
     "text": [
      "Channels used:  {210, 211, 212, 213, 214, 215, 216, 217, 218, 219, 220, 221, 222, 223, 224, 225, 226, 227, 228, 229, 230, 231, 232, 233, 234, 235, 236, 237, 238, 239}\n"
     ]
    }
   ],
   "source": [
    "channels_used = set(range(min_channel_idx, max_channel_idx))\n",
    "print(\"Channels used: \", channels_used)"
   ]
  },
  {
   "cell_type": "markdown",
   "metadata": {},
   "source": [
    "## Visualize the filtered signals"
   ]
  },
  {
   "cell_type": "code",
   "execution_count": 157,
   "metadata": {},
   "outputs": [],
   "source": [
    "# Interactive Plot for the HFO detection\n",
    "# bokeh docs: https://docs.bokeh.org/en/2.4.1/docs/first_steps/first_steps_1.html\n",
    "\n",
    "from utils.line_plot import create_fig  # Import the function to create the figure\n",
    "from bokeh.models import Range1d\n",
    "\n",
    "# Define the x and y values\n",
    "# Should the first input start at 0 or x_step?\n",
    "# TODO: is it okay to create a range with floats?\n",
    "x = [val for val in np.arange(x_step, input_duration + x_step, x_step)] "
   ]
  },
  {
   "cell_type": "markdown",
   "metadata": {},
   "source": [
    "## Create the Plot"
   ]
  },
  {
   "cell_type": "code",
   "execution_count": 158,
   "metadata": {},
   "outputs": [],
   "source": [
    "# Create the plot\n",
    "# List of tuples containing the y values and the legend label\n",
    "hfo_y_arrays = []\n",
    "\n",
    "PLOT_RIPPLE_BAND = False\n",
    "PLOT_FR_BAND = False\n",
    "PLOT_BOTH_BAND = True\n",
    "\n",
    "if is_single_channel:\n",
    "    # Add the Ripple and FR bands of the single channel\n",
    "    hfo_y_arrays.append((ripple_band_seeg_window[:, 0], f\"Ripple Band Ch. {min_channel_idx}\"))\n",
    "    hfo_y_arrays.append((fr_band_seeg_window[:, 0], f\"Fast Ripple Band Ch. {min_channel_idx}\"))\n",
    "else:\n",
    "    # Add the Ripple, FR and both bands of each channel in the range defined below\n",
    "    min_hfo_idx = 0\n",
    "    max_hfo_idx = 8\n",
    "    if PLOT_RIPPLE_BAND:\n",
    "        for hfo_idx in range(min_hfo_idx, max_hfo_idx, 1):\n",
    "            hfo_y_arrays.append((ripple_band_seeg_window[:, hfo_idx], f\"Ripple Band Ch. {min_channel_idx + hfo_idx}\"))\n",
    "    if PLOT_FR_BAND:\n",
    "        for hfo_idx in range(min_hfo_idx, max_hfo_idx, 1):\n",
    "                hfo_y_arrays.append((fr_band_seeg_window[:, hfo_idx], f\"Fast Ripple Band Ch. {min_channel_idx + hfo_idx}\"))\n",
    "    if PLOT_BOTH_BAND:\n",
    "        for hfo_idx in range(min_hfo_idx, max_hfo_idx, 1):\n",
    "            hfo_y_arrays.append((both_band_seeg_window[:, hfo_idx], f\"Both Bands Ch. {min_channel_idx + hfo_idx}\"))\n",
    "\n",
    "\n",
    "# Create the SEEG Voltage plot\n",
    "hfo_plot = create_fig(\n",
    "    title=\"SEEG Voltage dynamics of Filtered Both Bands\", \n",
    "    x_axis_label='time (ms)', \n",
    "    y_axis_label='Voltage (μV)',\n",
    "    x=x, \n",
    "    y_arrays=hfo_y_arrays, \n",
    "    sizing_mode=\"stretch_both\", \n",
    "    tools=\"pan, box_zoom, wheel_zoom, hover, undo, redo, zoom_in, zoom_out, reset, save\",\n",
    "    tooltips=\"Data point @x: @y\",\n",
    "    legend_location=\"top_right\",\n",
    "    legend_bg_fill_color=\"navy\",\n",
    "    legend_bg_fill_alpha=0.1,\n",
    "    # y_range=Range1d(-0.05, 1.05)\n",
    ")\n",
    "\n",
    "# If there are more than 30 channels, hide the legend\n",
    "if len(hfo_y_arrays) > 30:\n",
    "    # Hide the legend\n",
    "    hfo_plot.legend.visible = False"
   ]
  },
  {
   "cell_type": "markdown",
   "metadata": {},
   "source": [
    "## Add Box Annotations to the plot to identify the marked HFOs (ground truth)"
   ]
  },
  {
   "cell_type": "code",
   "execution_count": 159,
   "metadata": {},
   "outputs": [],
   "source": [
    "from bokeh.models import BoxAnnotation\n",
    "# from utils.line_plot import color_map\n",
    "\n",
    "show_markers = False    # Boolean to show the markers\n",
    "\n",
    "color_map = {                  \n",
    "    'Spike': 'red',\n",
    "    'Fast-Ripple': 'blue',\n",
    "    'Ripple': 'green',  \n",
    "    'Spike+Ripple': 'yellow',\n",
    "    'Spike+Fast-Ripple': 'pink',\n",
    "    'Ripple+Fast-Ripple': 'cyan',\n",
    "    'Spike+Ripple+Fast-Ripple': 'black'\n",
    "}\n",
    "\n",
    "confidence_range = 100          # TODO: Check this value. When the duration is missing (0), we consider the 200ms window around the marked position \n",
    "visited_markers = {}    # Avoid inserting multiple boxes for the same marker (only one of each label)\n",
    "use_visited = False     # Boolean controlling if we remove duplicate markers\n",
    "plot_instant = True     # Boolean to plot the markers as instant events or as boxes\n",
    "instant_width = 100 # 20       # Width of the instant event for visualization purposes\n",
    "\n",
    "if show_markers:\n",
    "    for ch_idx in channels_used:\n",
    "        channel_markers = markers[ch_idx]\n",
    "        # print(\"channel_markers\", channel_markers)\n",
    "        for idx2, marker in enumerate(channel_markers):\n",
    "            # print(\"marker:\", marker)\n",
    "            \n",
    "            if use_visited:\n",
    "                # Check if the marker has already been visited and skip it if it has\n",
    "                if marker['position'] in visited_markers:\n",
    "                    visited_labels = visited_markers[marker['position']]    # Get the labels that already have an annotation for this position\n",
    "                    if marker['label'] in visited_labels:\n",
    "                        # print(\"Skipping marker\", marker['position'], marker['label'])\n",
    "                        continue    # Skip this marker\n",
    "                    else:\n",
    "                        visited_labels.append(marker['label'])  # Add the label to the visited labels\n",
    "                else:\n",
    "                    visited_markers[marker['position']] = [marker['label']] # Add the marker to the visited markers\n",
    "\n",
    "            # Add a box annotation for each marker\n",
    "            has_duration = marker['duration'] > 0\n",
    "            \n",
    "            confidence_constant = 0 if plot_instant or has_duration else confidence_range\n",
    "\n",
    "            left = marker['position'] - confidence_constant\n",
    "            right = marker['position'] + confidence_constant + instant_width\n",
    "            box_color = color_map[marker['label']]  # Choose a color according to the label\n",
    "            \n",
    "            # if left < min_t or right > max_t:\n",
    "            #     continue    # Skip this marker\n",
    "            \n",
    "\n",
    "            box = BoxAnnotation(left=left, right=right, fill_color=box_color, fill_alpha=0.35)\n",
    "            # print(\"Added marker for channel: \", ch_idx, \" at position: \", left)\n",
    "            hfo_plot.add_layout(box)"
   ]
  },
  {
   "cell_type": "markdown",
   "metadata": {},
   "source": [
    "## Show the Plot"
   ]
  },
  {
   "cell_type": "code",
   "execution_count": 160,
   "metadata": {},
   "outputs": [],
   "source": [
    "import bokeh.plotting as bplt\n",
    "\n",
    "showPlot = True\n",
    "if showPlot:\n",
    "    bplt.show(hfo_plot)"
   ]
  },
  {
   "cell_type": "markdown",
   "metadata": {},
   "source": [
    "## Export the plot to a file"
   ]
  },
  {
   "cell_type": "code",
   "execution_count": 161,
   "metadata": {},
   "outputs": [],
   "source": [
    "export = False\n",
    "file_name = f\"filtered_seeg_ch{min_hfo_idx}\" if is_single_channel else f\"filtered_seeg_ch{min_channel_idx}-{max_channel_idx - 1}\"\n",
    "\n",
    "if export:\n",
    "    file_path = f\"{PATH_TO_FILE}plots/synthetic/{file_name}.html\"\n",
    "\n",
    "    # Customize the output file settings\n",
    "    bplt.output_file(filename=file_path, title=\"SEEG Data - Filtered Voltage dynamics across time\")\n",
    "\n",
    "    # Save the plot\n",
    "    bplt.save(hfo_plot)"
   ]
  },
  {
   "cell_type": "markdown",
   "metadata": {},
   "source": [
    "## Export the filtered signals to a numpy file"
   ]
  },
  {
   "cell_type": "markdown",
   "metadata": {},
   "source": [
    "### Get the relevant Markers"
   ]
  },
  {
   "cell_type": "code",
   "execution_count": 162,
   "metadata": {},
   "outputs": [
    {
     "name": "stdout",
     "output_type": "stream",
     "text": [
      "Relevant Markers Shape: (30, 42).\n",
      "Preview: [[('Spike+Fast-Ripple',   1000.  , 0.) ('Spike',   3550.29, 0.)\n",
      "  ('Spike+Fast-Ripple',   7136.23, 0.) ... ('Spike', 112707.  , 0.)\n",
      "  ('Ripple', 115751.  , 0.) ('Fast-Ripple', 119000.  , 0.)]\n",
      " [('Spike+Ripple+Fast-Ripple',   1000.  , 0.)\n",
      "  ('Ripple+Fast-Ripple',   3881.35, 0.)\n",
      "  ('Spike+Fast-Ripple',   6403.32, 0.) ... ('Ripple', 111854.  , 0.)\n",
      "  ('Fast-Ripple', 115339.  , 0.) ('Spike', 119000.  , 0.)]\n",
      " [('Spike+Fast-Ripple',   1000.  , 0.)\n",
      "  ('Ripple+Fast-Ripple',   3666.02, 0.)\n",
      "  ('Spike+Ripple+Fast-Ripple',   6256.35, 0.) ...\n",
      "  ('Spike', 114276.  , 0.) ('Ripple', 116753.  , 0.)\n",
      "  ('Fast-Ripple', 119000.  , 0.)]\n",
      " ...\n",
      " [('Spike',   1000.  , 0.) ('Spike',   4355.96, 0.)\n",
      "  ('Spike',   7033.69, 0.) ... ('Ripple', 113413.  , 0.)\n",
      "  ('Ripple+Fast-Ripple', 116427.  , 0.)\n",
      "  ('Spike+Ripple+Fast-Ripple', 119000.  , 0.)]\n",
      " [('Ripple',   1000.  , 0.) ('Ripple+Fast-Ripple',   3895.51, 0.)\n",
      "  ('Spike',   7462.4 , 0.) ...\n",
      "  ('Spike+Ripple+Fast-Ripple', 112991.  , 0.)\n",
      "  ('Spike+Fast-Ripple', 115608.  , 0.)\n",
      "  ('Spike+Ripple+Fast-Ripple', 119000.  , 0.)]\n",
      " [('Spike',   1000.  , 0.) ('Spike+Ripple',   4191.41, 0.)\n",
      "  ('Spike+Fast-Ripple',   6763.18, 0.) ...\n",
      "  ('Spike+Ripple+Fast-Ripple', 113249.  , 0.) ('Ripple', 115725.  , 0.)\n",
      "  ('Spike+Ripple+Fast-Ripple', 119000.  , 0.)]]\n"
     ]
    }
   ],
   "source": [
    "# Save the relevant markers in a variable\n",
    "relevant_markers = markers[min_channel_idx:max_channel_idx]\n",
    "preview_np_array(relevant_markers, \"Relevant Markers\", edge_items=3)"
   ]
  },
  {
   "cell_type": "code",
   "execution_count": 163,
   "metadata": {},
   "outputs": [],
   "source": [
    "EXPORT_FILTERED_SIGNAL = True\n",
    "file_name = f\"filtered_seeg_ch{min_channel_idx}\" if is_single_channel else f\"filtered_seeg_ch{min_channel_idx}-{max_channel_idx-1}\"\n",
    "if EXPORT_FILTERED_SIGNAL:\n",
    "    # Export the filtered signals\n",
    "    np.save(f\"{PATH_TO_FILE}results/synthetic/{file_name}_ripple_band.npy\", ripple_band_seeg_window)\n",
    "    np.save(f\"{PATH_TO_FILE}results/synthetic/{file_name}_fr_band.npy\", fr_band_seeg_window)\n",
    "    np.save(f\"{PATH_TO_FILE}results/synthetic/{file_name}_both_bands.npy\", both_band_seeg_window)\n",
    "\n",
    "    # Export the markers\n",
    "    np.save(f\"{PATH_TO_FILE}results/synthetic/{file_name}_markers.npy\", relevant_markers)"
   ]
  }
 ],
 "metadata": {
  "kernelspec": {
   "display_name": "Python 3 (ipykernel)",
   "language": "python",
   "name": "python3"
  },
  "language_info": {
   "codemirror_mode": {
    "name": "ipython",
    "version": 3
   },
   "file_extension": ".py",
   "mimetype": "text/x-python",
   "name": "python",
   "nbconvert_exporter": "python",
   "pygments_lexer": "ipython3",
   "version": "3.10.12"
  }
 },
 "nbformat": 4,
 "nbformat_minor": 2
}
