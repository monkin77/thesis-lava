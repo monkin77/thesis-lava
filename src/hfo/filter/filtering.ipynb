{
 "cells": [
  {
   "cell_type": "markdown",
   "metadata": {},
   "source": [
    "# Filtering - Pre-Processing of the SEEG Signal (1/2)\n",
    "This notebook presents the **pre-processing stage 1** the SEEG signal goes through before being fed to the SNN. The pre-processing stages are as follows:\n",
    "1. **Filtering**: The SEEG signal is bandpass filtered to remove noise and artifacts. The bandpass filter is designed using the Butterworth filter and, since we are working with *iEEG*, the signal is filtered in the ripples and FR bands. The co-occurrence of HFOs in both bands is an optimal prediction of post-surgical seizure freedom by defining an optimal \"HFO area\" or EZ zone.\n",
    "2. **Signal-to-Spike Conversion**: To interface and communicate with the silicon neurons in the SNN, the SEEG signal must be converted to spikes."
   ]
  },
  {
   "cell_type": "markdown",
   "metadata": {},
   "source": [
    "## Filtering\n",
    "Depending on the EEG modality, the signal is filtered in different frequency bands. In this case, since we are handling *iEEG* or *sEEG* data, the signal is filtered in both the ripples (80-250Hz) and FR bands (250-500Hz). The co-occurrence of HFO in these bands represents an optimal prediction of post-surgical seizure freedom by defining an optimal \"HFO area\" or EZ zone.\n",
    "\n",
    "The filter is implemented in different ways depending on the setup it will run on.\n",
    "1. **Neuromorphic Hardware**: The filter is implemented using analog filters. \n",
    "2. **Software Simulation**: *Butterworth filters* are utilized since they are a good approximation of the tuned *Tow-Thomas* architectures implemented in hardware."
   ]
  },
  {
   "cell_type": "markdown",
   "metadata": {},
   "source": [
    "The frequency response of the *Butterworth filter* is maximally flat in the passband and rolls of towards 0 in the stopband."
   ]
  },
  {
   "cell_type": "markdown",
   "metadata": {},
   "source": [
    "### Check WD (change if necessary) and file loading"
   ]
  },
  {
   "cell_type": "code",
   "execution_count": 109,
   "metadata": {},
   "outputs": [
    {
     "name": "stdout",
     "output_type": "stream",
     "text": [
      "/home/monkin/Desktop/feup/thesis/thesis-lava/src/hfo/filter\n"
     ]
    }
   ],
   "source": [
    "# Show current directory\n",
    "import os\n",
    "curr_dir = os.getcwd()\n",
    "print(curr_dir)\n",
    "\n",
    "# Check if the current WD is the file location\n",
    "if \"/src/hfo/filter\" not in os.getcwd():\n",
    "    # Set working directory to this file location\n",
    "    file_location = f\"{os.getcwd()}/thesis-lava/src/hfo/filter\"\n",
    "    print(\"File Location: \", file_location)\n",
    "\n",
    "    # Change the current working Directory\n",
    "    os.chdir(file_location)\n",
    "\n",
    "    # New Working Directory\n",
    "    print(\"New Working Directory: \", os.getcwd())\n",
    "\n",
    "PATH_TO_FILE = '' # 'src/hfo/'  # This is needed if the WD is not the same as the file location"
   ]
  },
  {
   "cell_type": "code",
   "execution_count": 110,
   "metadata": {},
   "outputs": [
    {
     "name": "stdout",
     "output_type": "stream",
     "text": [
      "Data shape:  (125056, 101)\n",
      "First time steps:  [[-107.66629    -81.347855    19.14067   ...  -25.25505     18.077301\n",
      "   -10.6336975]\n",
      " [-111.653915   -82.942924    17.811462  ...  -26.31842     16.2164\n",
      "   -13.026291 ]\n",
      " [-113.51482    -81.61371     10.3678665 ...  -26.052582    17.27977\n",
      "   -16.2164   ]\n",
      " ...\n",
      " [-121.49011    -87.99393     -8.506966  ...  -25.52089     13.026291\n",
      "   -18.077309 ]\n",
      " [-123.08516    -87.462234   -15.950562  ...  -24.723358    14.621338\n",
      "   -21.799095 ]\n",
      " [-123.61684    -87.72809    -23.128311  ...  -24.723373    14.089661\n",
      "   -23.39415  ]]\n"
     ]
    }
   ],
   "source": [
    "import numpy as np\n",
    "import math\n",
    "\n",
    "INPUT_FILE_COMMON = \"seeg_ics\"  # \"seeg_csl\"  # \"seeg_synthetic_humans\"\n",
    "seeg_file_name = f\"{INPUT_FILE_COMMON}.npy\"   # \"seeg_synthetic_humans.npy\"\n",
    "markers_seeg_file_name = f\"{INPUT_FILE_COMMON}_markers.npy\"\n",
    "\n",
    "IS_CLINICAL = True\n",
    "OUTPUT_PATH = \"/clinical\" if IS_CLINICAL else \"/synthetic\"\n",
    "OUT_FILE_PREFIX = f\"filtered_{INPUT_FILE_COMMON}_ch\" if IS_CLINICAL else \"filtered_seeg_ch\"\n",
    "\n",
    "recorded_data = np.load(f\"{PATH_TO_FILE}data/{seeg_file_name}\")\n",
    "\n",
    "print(\"Data shape: \", recorded_data.shape)\n",
    "print(\"First time steps: \", recorded_data[:10])"
   ]
  },
  {
   "cell_type": "markdown",
   "metadata": {},
   "source": [
    "## Define the Filter"
   ]
  },
  {
   "cell_type": "code",
   "execution_count": 111,
   "metadata": {},
   "outputs": [],
   "source": [
    "from scipy.signal import butter, lfilter\n",
    "\n",
    "# ================================================================ #\n",
    "# ============ Butterworth Filter Coefficients =================== #\n",
    "# ================================================================ #\n",
    "def butter_bandpass(lowcut, highcut, sampling_freq, order=5):\n",
    "    \"\"\"\n",
    "    This function is used to generate the coefficients for lowpass, highpass and bandpass\n",
    "    filtering for Butterworth filters.\n",
    "    @lowcut, highcut (int): cutoff frequencies for the bandpass filter\n",
    "    @sampling_freq (float): sampling_frequency frequency of the wideband signal\n",
    "    @order (int): filter order\n",
    "\n",
    "    - return b, a (float): filtering coefficients that will be applied on the wideband signal\n",
    "    \"\"\"\n",
    "    nyq = 0.5 * sampling_freq   # Nyquist frequency\n",
    "    low = lowcut / nyq          # Normalizing the cutoff frequencies\n",
    "    high = highcut / nyq        # Normalizing the cutoff frequencies\n",
    "\n",
    "    return butter(order, [low, high], btype='band')    \n",
    "\n",
    "# ================================================================ #\n",
    "# ====================== Butterworth Filters ===================== #\n",
    "# ================================================================ #\n",
    "def butter_bandpass_filter(data, lowcut, highcut, sampling_freq, order=5):\n",
    "    \"\"\"\n",
    "    This function applies the filtering coefficients calculated above to the wideband signal (original signal).\n",
    "    @data (array): Array with the amplitude values of the wideband signal.\n",
    "    @lowcut, highcut (int): cutoff frequencies for the bandpass filter.\n",
    "    @sampling_freq (float): sampling frequency of the original signal.\n",
    "    @order (int): filter order.\n",
    "\n",
    "    - return (array): Array with the amplitude values of the filtered signal.\n",
    "    \"\"\"\n",
    "    coef_b, coef_a = butter_bandpass(lowcut, highcut, sampling_freq, order)\n",
    "\n",
    "    return lfilter(coef_b, coef_a, data)\n",
    "    "
   ]
  },
  {
   "cell_type": "markdown",
   "metadata": {},
   "source": [
    "## Define Global Parameters of the Experiment"
   ]
  },
  {
   "cell_type": "code",
   "execution_count": 112,
   "metadata": {},
   "outputs": [
    {
     "name": "stdout",
     "output_type": "stream",
     "text": [
      "Input Duration: 61062.5 ms\n"
     ]
    }
   ],
   "source": [
    "from utils.input import SAMPLING_RATE, X_STEP\n",
    "\n",
    "sampling_rate = SAMPLING_RATE    # 2048 Hz\n",
    "x_step = X_STEP  # 0.48828125 ms\n",
    "\n",
    "num_samples = recorded_data.shape[0]    # 2048 * 120 = 245760\n",
    "num_channels = recorded_data.shape[1]   # 960\n",
    "input_duration = (num_samples / sampling_rate) * 1000\n",
    "\n",
    "print(f\"Input Duration: {input_duration} ms\")"
   ]
  },
  {
   "cell_type": "markdown",
   "metadata": {},
   "source": [
    "### Extract a window of channels from the SEEG data\n",
    "Let's define the window first.\n",
    "\n",
    "If we want to extract a single channel, set the variable `is_single_channel` to `True` and the variable `min_channel_idx` to the desired channel number."
   ]
  },
  {
   "cell_type": "code",
   "execution_count": 113,
   "metadata": {},
   "outputs": [],
   "source": [
    "is_single_channel = False   # Set to True if you want to use only one channel\n",
    "\n",
    "# Define the window of channels to be used\n",
    "BRAIN_REGION_IDX = 0\n",
    "BRAIN_REGION_OFFSET = BRAIN_REGION_IDX * 120\n",
    "SNR_OFFSET = 90     # Choose the highest SNR (channels 90-120)\n",
    "min_channel_idx = 30  # BRAIN_REGION_OFFSET + SNR_OFFSET\n",
    "max_channel_idx = min_channel_idx + 30\n",
    "\n",
    "if is_single_channel:\n",
    "    # Set the window to size 1\n",
    "    max_channel_idx = min_channel_idx + 1"
   ]
  },
  {
   "cell_type": "code",
   "execution_count": 114,
   "metadata": {},
   "outputs": [
    {
     "name": "stdout",
     "output_type": "stream",
     "text": [
      "SEEG Window Shape: (125056, 30).\n",
      "Preview: [[ -23.128326    -48.38336     -13.557968      2.3925781     8.506958\n",
      "  ...  103.4128       68.055725     78.42359    -141.16246\n",
      "   160.0373    ]\n",
      " [ -24.19168     -46.52246     -13.292145      1.0633698    12.760452\n",
      "  ...  107.93213      68.58741      80.28449    -139.56741\n",
      "   159.50562   ]\n",
      " [ -24.989212    -47.585846     -8.772797     -0.26585388   13.557983\n",
      "  ...  108.72965      67.258194     81.87955    -139.83325\n",
      "   159.23976   ]\n",
      " [ -24.191696    -45.72493     -10.10202      -1.5950623    14.355499\n",
      "  ...  108.19797      68.58741      78.157745   -139.03572\n",
      "   161.10066   ]\n",
      " [ -23.925842    -44.927414    -10.367874     -1.8608856    15.950562\n",
      "  ...  110.05887      67.78989      77.094376   -136.90898\n",
      "   161.10066   ]\n",
      " ...\n",
      " [ -30.040222    -11.431236     -8.241127    -23.128311     65.928986\n",
      "  ... -103.14696      45.72494      83.4746       -6.1143837\n",
      "   134.51639   ]\n",
      " [ -29.508537    -10.3678665   -11.697075    -22.862469     62.473026\n",
      "  ... -102.88111      40.408085     82.67708      -2.9242706\n",
      "   126.80696   ]\n",
      " [ -31.901123    -14.355507    -10.367863    -26.318426     62.47303\n",
      "  ... -101.5519       35.622917     80.55033      -2.6584244\n",
      "   124.41437   ]\n",
      " [ -36.68629     -15.950562     -9.0386505   -28.445168     63.802242\n",
      "  ... -101.81774      32.16697      79.48696      -1.329216\n",
      "   118.56584   ]\n",
      " [ -39.344715    -13.823822    -13.557976    -25.520897     61.143818\n",
      "  ...  -99.425156     29.242691     78.157745      1.5950546\n",
      "   116.439095  ]]\n"
     ]
    }
   ],
   "source": [
    "from utils.io import preview_np_array\n",
    "seeg_window = recorded_data[:, min_channel_idx:max_channel_idx]\n",
    "\n",
    "preview_np_array(seeg_window, \"SEEG Window\")"
   ]
  },
  {
   "cell_type": "markdown",
   "metadata": {},
   "source": [
    "## Apply the Butterworth filter to each channel"
   ]
  },
  {
   "cell_type": "code",
   "execution_count": 115,
   "metadata": {},
   "outputs": [
    {
     "name": "stdout",
     "output_type": "stream",
     "text": [
      "Ripple Band SEEG Window Shape: (125056, 30).\n",
      "Preview: [[-3.45583186e-05 -7.22943633e-05 -2.02583003e-05 ...  1.17180440e-04\n",
      "  -2.10924785e-04  2.39127537e-04]\n",
      " [-5.05349660e-04 -1.05106314e-03 -2.94910505e-04 ...  1.71093402e-03\n",
      "  -3.07229283e-03  3.48499665e-03]\n",
      " [-3.53865953e-03 -7.31281957e-03 -2.04756568e-03 ...  1.19592369e-02\n",
      "  -2.14150325e-02  2.43053956e-02]\n",
      " ...\n",
      " [ 1.50714903e+00 -6.00145536e-01  5.61266194e-01 ...  1.41499998e-01\n",
      "  -3.58904047e-02  2.71875797e+00]\n",
      " [ 1.20587999e+00 -6.45394297e-01  1.23579680e+00 ...  1.91074659e-01\n",
      "  -2.85881185e-01  3.25530382e+00]\n",
      " [ 5.39099496e-01 -5.29644202e-01  1.55495989e+00 ...  2.49057138e-01\n",
      "  -8.25277516e-01  3.60921031e+00]]\n"
     ]
    }
   ],
   "source": [
    "# Apply the Butterworth filter to the window of channels in the Ripple Band\n",
    "ripple_lowcut_freq = 80\n",
    "ripple_highcut_freq = 250\n",
    "BUTTER_FILTER_ORDER = 9\n",
    "\n",
    "ripple_band_seeg_window = [ butter_bandpass_filter(seeg_window[:, i], ripple_lowcut_freq, ripple_highcut_freq, sampling_rate, BUTTER_FILTER_ORDER) for i in range(seeg_window.shape[1]) ]\n",
    "ripple_band_seeg_window = np.array(ripple_band_seeg_window).T\n",
    "preview_np_array(ripple_band_seeg_window, \"Ripple Band SEEG Window\", edge_items=3)"
   ]
  },
  {
   "cell_type": "code",
   "execution_count": 116,
   "metadata": {},
   "outputs": [
    {
     "name": "stdout",
     "output_type": "stream",
     "text": [
      "FR Band SEEG Window Shape: (125056, 30).\n",
      "Preview: [[-6.68777581e-04 -1.39905098e-03 -3.92041559e-04 ...  2.26769283e-03\n",
      "  -4.08184695e-03  4.62763070e-03]\n",
      " [-4.69889710e-03 -9.71173697e-03 -2.72881143e-03 ...  1.58825826e-02\n",
      "  -2.84456680e-02  3.22860535e-02]\n",
      " [-9.01967091e-03 -1.80266472e-02 -4.96371999e-03 ...  3.01997007e-02\n",
      "  -5.32861094e-02  6.06522665e-02]\n",
      " ...\n",
      " [ 5.59608488e-01 -1.34049590e-02 -6.30097123e-01 ...  1.32435808e-01\n",
      "   2.16404503e-01 -1.49831346e+00]\n",
      " [ 8.15717077e-01 -4.35934484e-01  3.00535918e-01 ...  5.62505164e-01\n",
      "   3.14394276e-01 -9.11249438e-01]\n",
      " [-7.03969363e-01 -3.12499050e-01  1.16348157e+00 ... -6.88015476e-02\n",
      "   4.60469373e-01  9.18939256e-01]]\n"
     ]
    }
   ],
   "source": [
    "# Apply the Butterworth filter to the window of channels in the Fast Ripple Band\n",
    "fr_lowcut_freq = 250\n",
    "fr_highcut_freq = 500\n",
    "\n",
    "fr_band_seeg_window = [ butter_bandpass_filter(seeg_window[:, i], fr_lowcut_freq, fr_highcut_freq, sampling_rate, BUTTER_FILTER_ORDER) for i in range(seeg_window.shape[1]) ]\n",
    "fr_band_seeg_window = np.array(fr_band_seeg_window).T\n",
    "preview_np_array(fr_band_seeg_window, \"FR Band SEEG Window\", edge_items=3)"
   ]
  },
  {
   "cell_type": "markdown",
   "metadata": {},
   "source": [
    "Apply the Butterworth filter in the combined Ripple+FR Band"
   ]
  },
  {
   "cell_type": "code",
   "execution_count": 117,
   "metadata": {},
   "outputs": [
    {
     "name": "stdout",
     "output_type": "stream",
     "text": [
      "Both Bands SEEG Window Shape: (125056, 30).\n",
      "Preview: [[-0.02945923 -0.0616273  -0.01726918 ...  0.09989042 -0.17980275\n",
      "   0.20384418]\n",
      " [-0.2769466  -0.57415547 -0.16121525 ...  0.93684897 -1.68002993\n",
      "   1.90629282]\n",
      " [-1.09867737 -2.24892972 -0.62710442 ...  3.70319559 -6.60351385\n",
      "   7.50095936]\n",
      " ...\n",
      " [-0.99666961  0.77272963 -0.76120399 ...  2.35955208 -0.64079101\n",
      "   0.6181213 ]\n",
      " [-0.45465793  0.52715916 -1.02956973 ...  3.30577122 -0.93174099\n",
      "   1.92176336]\n",
      " [ 0.31837213  0.01130678 -1.18531412 ...  2.79142579  0.29668694\n",
      "   2.4572324 ]]\n"
     ]
    }
   ],
   "source": [
    "# Apply the Butterworth filter to the window of channels in the Combined Ripple and Fast Ripple Band\n",
    "both_band_seeg_window = [ butter_bandpass_filter(seeg_window[:, i], ripple_lowcut_freq, fr_highcut_freq, sampling_rate, BUTTER_FILTER_ORDER) for i in range(seeg_window.shape[1]) ]\n",
    "both_band_seeg_window = np.array(both_band_seeg_window).T\n",
    "preview_np_array(both_band_seeg_window, \"Both Bands SEEG Window\", edge_items=3)"
   ]
  },
  {
   "cell_type": "markdown",
   "metadata": {},
   "source": [
    "## Import the Markers (Annotated Events) \n",
    "The markers are stored in a numpy array of shape (num_channels, events):\n",
    "- Each row represents the events of a channel\n",
    "- Each event is composed of the following 3 fields (Label, Position, Shape)"
   ]
  },
  {
   "cell_type": "code",
   "execution_count": 118,
   "metadata": {},
   "outputs": [
    {
     "name": "stdout",
     "output_type": "stream",
     "text": [
      "Markers Shape: (101,).\n",
      "Preview: [list([array([],\n",
      "       dtype=[('label', '<U64'), ('position', '<f4'), ('duration', '<f4')])])\n",
      " list([array([],\n",
      "       dtype=[('label', '<U64'), ('position', '<f4'), ('duration', '<f4')])])\n",
      " list([array([],\n",
      "       dtype=[('label', '<U64'), ('position', '<f4'), ('duration', '<f4')])])\n",
      " ...\n",
      " list([array([],\n",
      "       dtype=[('label', '<U64'), ('position', '<f4'), ('duration', '<f4')])])\n",
      " list([array([],\n",
      "       dtype=[('label', '<U64'), ('position', '<f4'), ('duration', '<f4')])])\n",
      " list([array([],\n",
      "       dtype=[('label', '<U64'), ('position', '<f4'), ('duration', '<f4')])])]\n"
     ]
    }
   ],
   "source": [
    "markers = np.load(f\"{PATH_TO_FILE}data/{markers_seeg_file_name}\", allow_pickle=True)\n",
    "\n",
    "preview_np_array(markers, \"Markers\", edge_items=3)"
   ]
  },
  {
   "cell_type": "markdown",
   "metadata": {},
   "source": [
    "### Define the set of channels the markers will be extracted from"
   ]
  },
  {
   "cell_type": "code",
   "execution_count": 119,
   "metadata": {},
   "outputs": [
    {
     "name": "stdout",
     "output_type": "stream",
     "text": [
      "Channels used:  {30, 31, 32, 33, 34, 35, 36, 37, 38, 39, 40, 41, 42, 43, 44, 45, 46, 47, 48, 49, 50, 51, 52, 53, 54, 55, 56, 57, 58, 59}\n"
     ]
    }
   ],
   "source": [
    "channels_used = set(range(min_channel_idx, max_channel_idx))\n",
    "print(\"Channels used: \", channels_used)"
   ]
  },
  {
   "cell_type": "markdown",
   "metadata": {},
   "source": [
    "## Visualize the filtered signals"
   ]
  },
  {
   "cell_type": "code",
   "execution_count": 120,
   "metadata": {},
   "outputs": [],
   "source": [
    "# Interactive Plot for the HFO detection\n",
    "# bokeh docs: https://docs.bokeh.org/en/2.4.1/docs/first_steps/first_steps_1.html\n",
    "\n",
    "from utils.line_plot import create_fig  # Import the function to create the figure\n",
    "from bokeh.models import Range1d\n",
    "\n",
    "# Define the x and y values\n",
    "# Should the first input start at 0 or x_step?\n",
    "# TODO: is it okay to create a range with floats?\n",
    "x = [val for val in np.arange(x_step, input_duration + x_step, x_step)] "
   ]
  },
  {
   "cell_type": "markdown",
   "metadata": {},
   "source": [
    "## Create the Plot"
   ]
  },
  {
   "cell_type": "code",
   "execution_count": 121,
   "metadata": {},
   "outputs": [],
   "source": [
    "# Create the plot\n",
    "# List of tuples containing the y values and the legend label\n",
    "hfo_y_arrays = []\n",
    "\n",
    "PLOT_RIPPLE_BAND = False\n",
    "PLOT_FR_BAND = False\n",
    "PLOT_BOTH_BAND = True\n",
    "\n",
    "if is_single_channel:\n",
    "    # Add the Ripple and FR bands of the single channel\n",
    "    hfo_y_arrays.append((ripple_band_seeg_window[:, 0], f\"Ripple Band Ch. {min_channel_idx}\"))\n",
    "    hfo_y_arrays.append((fr_band_seeg_window[:, 0], f\"Fast Ripple Band Ch. {min_channel_idx}\"))\n",
    "else:\n",
    "    # Add the Ripple, FR and both bands of each channel in the range defined below\n",
    "    min_hfo_idx = 0\n",
    "    max_hfo_idx = 8\n",
    "    if PLOT_RIPPLE_BAND:\n",
    "        for hfo_idx in range(min_hfo_idx, max_hfo_idx, 1):\n",
    "            hfo_y_arrays.append((ripple_band_seeg_window[:, hfo_idx], f\"Ripple Band Ch. {min_channel_idx + hfo_idx}\"))\n",
    "    if PLOT_FR_BAND:\n",
    "        for hfo_idx in range(min_hfo_idx, max_hfo_idx, 1):\n",
    "                hfo_y_arrays.append((fr_band_seeg_window[:, hfo_idx], f\"Fast Ripple Band Ch. {min_channel_idx + hfo_idx}\"))\n",
    "    if PLOT_BOTH_BAND:\n",
    "        for hfo_idx in range(min_hfo_idx, max_hfo_idx, 1):\n",
    "            hfo_y_arrays.append((both_band_seeg_window[:, hfo_idx], f\"Both Bands Ch. {min_channel_idx + hfo_idx}\"))\n",
    "\n",
    "\n",
    "# Create the SEEG Voltage plot\n",
    "hfo_plot = create_fig(\n",
    "    title=\"SEEG Voltage dynamics of Filtered Both Bands\", \n",
    "    x_axis_label='time (ms)', \n",
    "    y_axis_label='Voltage (μV)',\n",
    "    x=x, \n",
    "    y_arrays=hfo_y_arrays, \n",
    "    sizing_mode=\"stretch_both\", \n",
    "    tools=\"pan, box_zoom, wheel_zoom, hover, undo, redo, zoom_in, zoom_out, reset, save\",\n",
    "    tooltips=\"Data point @x: @y\",\n",
    "    legend_location=\"top_right\",\n",
    "    legend_bg_fill_color=\"navy\",\n",
    "    legend_bg_fill_alpha=0.1,\n",
    "    # y_range=Range1d(-0.05, 1.05)\n",
    ")\n",
    "\n",
    "# If there are more than 30 channels, hide the legend\n",
    "if len(hfo_y_arrays) > 30:\n",
    "    # Hide the legend\n",
    "    hfo_plot.legend.visible = False"
   ]
  },
  {
   "cell_type": "markdown",
   "metadata": {},
   "source": [
    "## Add Box Annotations to the plot to identify the marked HFOs (ground truth)"
   ]
  },
  {
   "cell_type": "code",
   "execution_count": 122,
   "metadata": {},
   "outputs": [],
   "source": [
    "from bokeh.models import BoxAnnotation\n",
    "# from utils.line_plot import color_map\n",
    "\n",
    "show_markers = False    # Boolean to show the markers\n",
    "\n",
    "color_map = {                  \n",
    "    'Spike': 'red',\n",
    "    'Fast-Ripple': 'blue',\n",
    "    'Ripple': 'green',  \n",
    "    'Spike+Ripple': 'yellow',\n",
    "    'Spike+Fast-Ripple': 'pink',\n",
    "    'Ripple+Fast-Ripple': 'cyan',\n",
    "    'Spike+Ripple+Fast-Ripple': 'black'\n",
    "}\n",
    "\n",
    "confidence_range = 100          # TODO: Check this value. When the duration is missing (0), we consider the 200ms window around the marked position \n",
    "visited_markers = {}    # Avoid inserting multiple boxes for the same marker (only one of each label)\n",
    "use_visited = False     # Boolean controlling if we remove duplicate markers\n",
    "plot_instant = True     # Boolean to plot the markers as instant events or as boxes\n",
    "instant_width = 100 # 20       # Width of the instant event for visualization purposes\n",
    "\n",
    "if show_markers:\n",
    "    for ch_idx in channels_used:\n",
    "        channel_markers = markers[ch_idx]\n",
    "        # print(\"channel_markers\", channel_markers)\n",
    "        for idx2, marker in enumerate(channel_markers):\n",
    "            # print(\"marker:\", marker)\n",
    "            \n",
    "            if use_visited:\n",
    "                # Check if the marker has already been visited and skip it if it has\n",
    "                if marker['position'] in visited_markers:\n",
    "                    visited_labels = visited_markers[marker['position']]    # Get the labels that already have an annotation for this position\n",
    "                    if marker['label'] in visited_labels:\n",
    "                        # print(\"Skipping marker\", marker['position'], marker['label'])\n",
    "                        continue    # Skip this marker\n",
    "                    else:\n",
    "                        visited_labels.append(marker['label'])  # Add the label to the visited labels\n",
    "                else:\n",
    "                    visited_markers[marker['position']] = [marker['label']] # Add the marker to the visited markers\n",
    "\n",
    "            # Add a box annotation for each marker\n",
    "            has_duration = marker['duration'] > 0\n",
    "            \n",
    "            confidence_constant = 0 if plot_instant or has_duration else confidence_range\n",
    "\n",
    "            left = marker['position'] - confidence_constant\n",
    "            right = marker['position'] + confidence_constant + instant_width\n",
    "            box_color = color_map[marker['label']]  # Choose a color according to the label\n",
    "            \n",
    "            # if left < min_t or right > max_t:\n",
    "            #     continue    # Skip this marker\n",
    "            \n",
    "\n",
    "            box = BoxAnnotation(left=left, right=right, fill_color=box_color, fill_alpha=0.35)\n",
    "            # print(\"Added marker for channel: \", ch_idx, \" at position: \", left)\n",
    "            hfo_plot.add_layout(box)"
   ]
  },
  {
   "cell_type": "markdown",
   "metadata": {},
   "source": [
    "## Show the Plot"
   ]
  },
  {
   "cell_type": "code",
   "execution_count": 123,
   "metadata": {},
   "outputs": [],
   "source": [
    "import bokeh.plotting as bplt\n",
    "\n",
    "showPlot = True\n",
    "if showPlot:\n",
    "    bplt.show(hfo_plot)"
   ]
  },
  {
   "cell_type": "markdown",
   "metadata": {},
   "source": [
    "## Export the plot to a file"
   ]
  },
  {
   "cell_type": "code",
   "execution_count": 124,
   "metadata": {},
   "outputs": [],
   "source": [
    "export = True\n",
    "CH_SUFFIX = f\"{min_channel_idx}\" if is_single_channel else f\"{min_channel_idx}-{max_channel_idx - 1}\"\n",
    "file_name = f\"{OUT_FILE_PREFIX}{CH_SUFFIX}\"\n",
    "\n",
    "if export:\n",
    "    file_path = f\"plots{OUTPUT_PATH}/{file_name}.html\"\n",
    "\n",
    "    # Customize the output file settings\n",
    "    bplt.output_file(filename=file_path, title=\"SEEG Data - Filtered Voltage dynamics across time\")\n",
    "\n",
    "    # Save the plot\n",
    "    bplt.save(hfo_plot)\n",
    "\n",
    "# Close the plot\n",
    "bplt.curdoc().clear()\n",
    "bplt.reset_output()"
   ]
  },
  {
   "cell_type": "markdown",
   "metadata": {},
   "source": [
    "## Export the filtered signals to a numpy file"
   ]
  },
  {
   "cell_type": "markdown",
   "metadata": {},
   "source": [
    "### Get the relevant Markers"
   ]
  },
  {
   "cell_type": "code",
   "execution_count": 125,
   "metadata": {},
   "outputs": [
    {
     "name": "stdout",
     "output_type": "stream",
     "text": [
      "Relevant Markers Shape: (30,).\n",
      "Preview: [array([('Ripple',  2598.6328, 0.), ('Ripple', 32159.18  , 0.),\n",
      "        ('Ripple', 35217.773 , 0.), ('Ripple', 49569.824 , 0.)],\n",
      "       dtype=[('label', '<U64'), ('position', '<f4'), ('duration', '<f4')])\n",
      " array([('Ripple',  2598.6328, 0.), ('Ripple', 32159.18  , 0.),\n",
      "        ('Ripple', 35217.773 , 0.), ('Ripple', 49569.824 , 0.)],\n",
      "       dtype=[('label', '<U64'), ('position', '<f4'), ('duration', '<f4')])\n",
      " array([('Ripple',  2598.6328, 0.), ('Ripple', 32159.18  , 0.),\n",
      "        ('Ripple', 35217.773 , 0.)],\n",
      "       dtype=[('label', '<U64'), ('position', '<f4'), ('duration', '<f4')])\n",
      " ...\n",
      " array([('Fast Ripple',  3478.5156, 0.), ('Ripple',  4852.539 , 0.),\n",
      "        ('Ripple',  5303.711 , 0.), ..., ('Ripple', 32159.18  , 0.),\n",
      "        ('Ripple', 34225.586 , 0.), ('Ripple', 38057.13  , 0.)],\n",
      "       dtype=[('label', '<U64'), ('position', '<f4'), ('duration', '<f4')])\n",
      " list([array([],\n",
      "       dtype=[('label', '<U64'), ('position', '<f4'), ('duration', '<f4')])])\n",
      " array([('Ripple', 52339.844, 0.)],\n",
      "       dtype=[('label', '<U64'), ('position', '<f4'), ('duration', '<f4')])]\n"
     ]
    }
   ],
   "source": [
    "# Save the relevant markers in a variable\n",
    "relevant_markers = markers[min_channel_idx:max_channel_idx]\n",
    "preview_np_array(relevant_markers, \"Relevant Markers\", edge_items=3)"
   ]
  },
  {
   "cell_type": "code",
   "execution_count": 126,
   "metadata": {},
   "outputs": [],
   "source": [
    "from utils.input import RIPPLE_BAND_FILENAME, FR_BAND_FILENAME, BOTH_BAND_FILENAME\n",
    "\n",
    "EXPORT_FILTERED_SIGNAL = True\n",
    "if EXPORT_FILTERED_SIGNAL:\n",
    "    # Export the filtered signals\n",
    "    np.save(f\"{PATH_TO_FILE}results{OUTPUT_PATH}/{file_name}_{RIPPLE_BAND_FILENAME}_band.npy\", ripple_band_seeg_window)\n",
    "    np.save(f\"{PATH_TO_FILE}results{OUTPUT_PATH}/{file_name}_{FR_BAND_FILENAME}_band.npy\", fr_band_seeg_window)\n",
    "    np.save(f\"{PATH_TO_FILE}results{OUTPUT_PATH}/{file_name}_{BOTH_BAND_FILENAME}_band.npy\", both_band_seeg_window)\n",
    "\n",
    "    # Export the markers\n",
    "    np.save(f\"{PATH_TO_FILE}results{OUTPUT_PATH}/{file_name}_markers.npy\", relevant_markers)"
   ]
  }
 ],
 "metadata": {
  "kernelspec": {
   "display_name": "Python 3 (ipykernel)",
   "language": "python",
   "name": "python3"
  }
 },
 "nbformat": 4,
 "nbformat_minor": 2
}
