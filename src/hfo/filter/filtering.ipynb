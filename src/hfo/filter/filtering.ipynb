{
 "cells": [
  {
   "cell_type": "markdown",
   "metadata": {},
   "source": [
    "# Filtering - Pre-Processing of the SEEG Signal (1/2)\n",
    "This notebook presents the **pre-processing stage 1** the SEEG signal goes through before being fed to the SNN. The pre-processing stages are as follows:\n",
    "1. **Filtering**: The SEEG signal is bandpass filtered to remove noise and artifacts. The bandpass filter is designed using the Butterworth filter and, since we are working with *iEEG*, the signal is filtered in the ripples and FR bands. The co-occurrence of HFOs in both bands is an optimal prediction of post-surgical seizure freedom by defining an optimal \"HFO area\" or EZ zone.\n",
    "2. **Signal-to-Spike Conversion**: To interface and communicate with the silicon neurons in the SNN, the SEEG signal must be converted to spikes."
   ]
  },
  {
   "cell_type": "markdown",
   "metadata": {},
   "source": [
    "## Filtering\n",
    "Depending on the EEG modality, the signal is filtered in different frequency bands. In this case, since we are handling *iEEG* or *sEEG* data, the signal is filtered in both the ripples (80-250Hz) and FR bands (250-500Hz). The co-occurrence of HFO in these bands represents an optimal prediction of post-surgical seizure freedom by defining an optimal \"HFO area\" or EZ zone.\n",
    "\n",
    "The filter is implemented in different ways depending on the setup it will run on.\n",
    "1. **Neuromorphic Hardware**: The filter is implemented using analog filters. \n",
    "2. **Software Simulation**: *Butterworth filters* are utilized since they are a good approximation of the tuned *Tow-Thomas* architectures implemented in hardware."
   ]
  },
  {
   "cell_type": "markdown",
   "metadata": {},
   "source": [
    "The frequency response of the *Butterworth filter* is maximally flat in the passband and rolls of towards 0 in the stopband."
   ]
  },
  {
   "cell_type": "markdown",
   "metadata": {},
   "source": [
    "### Check WD (change if necessary) and file loading"
   ]
  },
  {
   "cell_type": "code",
   "execution_count": 12,
   "metadata": {},
   "outputs": [
    {
     "name": "stdout",
     "output_type": "stream",
     "text": [
      "/home/monkin/Desktop/feup/thesis/thesis-lava/src/hfo/filter\n"
     ]
    }
   ],
   "source": [
    "# Show current directory\n",
    "import os\n",
    "curr_dir = os.getcwd()\n",
    "print(curr_dir)\n",
    "\n",
    "# Check if the current WD is the file location\n",
    "if \"/src/hfo/filter\" not in os.getcwd():\n",
    "    # Set working directory to this file location\n",
    "    file_location = f\"{os.getcwd()}/thesis-lava/src/hfo/filter\"\n",
    "    print(\"File Location: \", file_location)\n",
    "\n",
    "    # Change the current working Directory\n",
    "    os.chdir(file_location)\n",
    "\n",
    "    # New Working Directory\n",
    "    print(\"New Working Directory: \", os.getcwd())\n",
    "\n",
    "PATH_TO_FILE = '' # 'src/hfo/'  # This is needed if the WD is not the same as the file location"
   ]
  },
  {
   "cell_type": "code",
   "execution_count": 13,
   "metadata": {},
   "outputs": [
    {
     "name": "stdout",
     "output_type": "stream",
     "text": [
      "Data shape:  (129239, 86)\n",
      "First time steps:  [[  1.0633698  34.293705   -5.3168535 ... -54.76359    13.557976\n",
      "  -24.457527 ]\n",
      " [  1.8608971  35.888763   -6.380224  ... -57.687862   15.684719\n",
      "  -25.78674  ]\n",
      " [ -1.8608971  37.21797    -7.1777525 ... -62.738873   19.406517\n",
      "  -22.862473 ]\n",
      " ...\n",
      " [ -1.3292122  34.559547   -8.772809  ... -72.57505    20.204044\n",
      "   -2.9242706]\n",
      " [ -0.7975273  37.74966   -13.026291  ... -67.78989    16.216404\n",
      "   -1.8608971]\n",
      " [ -1.3292122  34.027863   -9.304494  ... -68.85326    14.355507\n",
      "    0.5316849]]\n"
     ]
    }
   ],
   "source": [
    "import numpy as np\n",
    "import math\n",
    "\n",
    "INPUT_FILE_COMMON = \"seeg_csl\"  # \"seeg_synthetic_humans\"\n",
    "seeg_file_name = f\"{INPUT_FILE_COMMON}.npy\"   # \"seeg_synthetic_humans.npy\"\n",
    "markers_seeg_file_name = f\"{INPUT_FILE_COMMON}_markers.npy\"\n",
    "\n",
    "recorded_data = np.load(f\"{PATH_TO_FILE}data/{seeg_file_name}\")\n",
    "\n",
    "print(\"Data shape: \", recorded_data.shape)\n",
    "print(\"First time steps: \", recorded_data[:10])"
   ]
  },
  {
   "cell_type": "markdown",
   "metadata": {},
   "source": [
    "## Define the Filter"
   ]
  },
  {
   "cell_type": "code",
   "execution_count": 14,
   "metadata": {},
   "outputs": [],
   "source": [
    "from scipy.signal import butter, lfilter\n",
    "\n",
    "# ================================================================ #\n",
    "# ============ Butterworth Filter Coefficients =================== #\n",
    "# ================================================================ #\n",
    "def butter_bandpass(lowcut, highcut, sampling_freq, order=5):\n",
    "    \"\"\"\n",
    "    This function is used to generate the coefficients for lowpass, highpass and bandpass\n",
    "    filtering for Butterworth filters.\n",
    "    @lowcut, highcut (int): cutoff frequencies for the bandpass filter\n",
    "    @sampling_freq (float): sampling_frequency frequency of the wideband signal\n",
    "    @order (int): filter order\n",
    "\n",
    "    - return b, a (float): filtering coefficients that will be applied on the wideband signal\n",
    "    \"\"\"\n",
    "    nyq = 0.5 * sampling_freq   # Nyquist frequency\n",
    "    low = lowcut / nyq          # Normalizing the cutoff frequencies\n",
    "    high = highcut / nyq        # Normalizing the cutoff frequencies\n",
    "\n",
    "    return butter(order, [low, high], btype='band')    \n",
    "\n",
    "# ================================================================ #\n",
    "# ====================== Butterworth Filters ===================== #\n",
    "# ================================================================ #\n",
    "def butter_bandpass_filter(data, lowcut, highcut, sampling_freq, order=5):\n",
    "    \"\"\"\n",
    "    This function applies the filtering coefficients calculated above to the wideband signal (original signal).\n",
    "    @data (array): Array with the amplitude values of the wideband signal.\n",
    "    @lowcut, highcut (int): cutoff frequencies for the bandpass filter.\n",
    "    @sampling_freq (float): sampling frequency of the original signal.\n",
    "    @order (int): filter order.\n",
    "\n",
    "    - return (array): Array with the amplitude values of the filtered signal.\n",
    "    \"\"\"\n",
    "    coef_b, coef_a = butter_bandpass(lowcut, highcut, sampling_freq, order)\n",
    "\n",
    "    return lfilter(coef_b, coef_a, data)\n",
    "    "
   ]
  },
  {
   "cell_type": "markdown",
   "metadata": {},
   "source": [
    "## Define Global Parameters of the Experiment"
   ]
  },
  {
   "cell_type": "code",
   "execution_count": 15,
   "metadata": {},
   "outputs": [
    {
     "name": "stdout",
     "output_type": "stream",
     "text": [
      "Input Duration: 63.10498046875 seconds\n"
     ]
    }
   ],
   "source": [
    "from utils.input import SAMPLING_RATE, X_STEP\n",
    "\n",
    "sampling_rate = SAMPLING_RATE    # 2048 Hz\n",
    "x_step = X_STEP  # 0.48828125 ms\n",
    "\n",
    "num_samples = recorded_data.shape[0]    # 2048 * 120 = 245760\n",
    "num_channels = recorded_data.shape[1]   # 960\n",
    "input_duration = num_samples / sampling_rate\n",
    "\n",
    "print(f\"Input Duration: {input_duration} seconds\")"
   ]
  },
  {
   "cell_type": "markdown",
   "metadata": {},
   "source": [
    "### Extract a window of channels from the SEEG data\n",
    "Let's define the window first.\n",
    "\n",
    "If we want to extract a single channel, set the variable `is_single_channel` to `True` and the variable `min_channel_idx` to the desired channel number."
   ]
  },
  {
   "cell_type": "code",
   "execution_count": 16,
   "metadata": {},
   "outputs": [],
   "source": [
    "is_single_channel = False   # Set to True if you want to use only one channel\n",
    "\n",
    "# Define the window of channels to be used\n",
    "BRAIN_REGION_IDX = 0\n",
    "BRAIN_REGION_OFFSET = BRAIN_REGION_IDX * 120\n",
    "SNR_OFFSET = 0 # 90     # Choose the highest SNR (channels 90-120)\n",
    "min_channel_idx =BRAIN_REGION_OFFSET + SNR_OFFSET\n",
    "max_channel_idx = min_channel_idx + 30\n",
    "\n",
    "if is_single_channel:\n",
    "    # Set the window to size 1\n",
    "    max_channel_idx = min_channel_idx + 1"
   ]
  },
  {
   "cell_type": "code",
   "execution_count": 17,
   "metadata": {},
   "outputs": [
    {
     "name": "stdout",
     "output_type": "stream",
     "text": [
      "SEEG Window Shape: (129239, 30).\n",
      "Preview: [[   1.0633698    34.293705     -5.3168535    31.369436    -37.483818\n",
      "  ...  -44.927414     12.228767    106.33707     -26.052582\n",
      "  -141.16248   ]\n",
      " [   1.8608971    35.888763     -6.380224     32.964493    -36.952133\n",
      "  ...  -45.72494      12.228767    106.33707     -25.78674\n",
      "  -142.22583   ]\n",
      " [  -1.8608971    37.21797      -7.1777525    35.091232    -37.217976\n",
      "  ...  -43.066513      9.0386505   107.1346      -25.255054\n",
      "  -144.61841   ]\n",
      " [  -2.1267433    36.952133     -6.9119096    31.635279    -34.559547\n",
      "  ...  -46.522472      7.443596    109.52718     -25.255054\n",
      "  -145.94763   ]\n",
      " [  -0.5316849    33.76202      -6.114382     32.69865     -36.952133\n",
      "  ...  -48.38337       6.911911    110.8564      -26.318426\n",
      "  -147.5427    ]\n",
      " ...\n",
      " [   0.26584435    0.5316849     5.582696     34.027863   -123.88269\n",
      "  ...    1.5950546    -6.380224      0.26584244  -25.78674\n",
      "   -57.687862  ]\n",
      " [   1.0633717    -0.7975273     6.114381     34.2937     -123.351\n",
      "  ...    1.8608971    -6.911911     -0.26584244  -25.255054\n",
      "   -60.34629   ]\n",
      " [   1.860899      3.4559546     1.860899     35.62292    -123.61685\n",
      "  ...    3.721798     -7.975281      1.860899    -25.520899\n",
      "   -62.207188  ]\n",
      " [  -1.0633717     1.3292141     4.5193253    35.357075   -124.14853\n",
      "  ...    3.721798     -7.975279      1.5950546   -27.115952\n",
      "   -61.143818  ]\n",
      " [  -1.0633707    -2.3925838     6.380224     34.027863   -122.553474\n",
      "  ...   -0.5316849    -9.570335      0.7975273   -26.318424\n",
      "   -64.33393   ]]\n"
     ]
    }
   ],
   "source": [
    "from utils.io import preview_np_array\n",
    "seeg_window = recorded_data[:, min_channel_idx:max_channel_idx]\n",
    "\n",
    "preview_np_array(seeg_window, \"SEEG Window\")"
   ]
  },
  {
   "cell_type": "markdown",
   "metadata": {},
   "source": [
    "## Apply the Butterworth filter to each channel"
   ]
  },
  {
   "cell_type": "code",
   "execution_count": 18,
   "metadata": {},
   "outputs": [
    {
     "name": "stdout",
     "output_type": "stream",
     "text": [
      "Ripple Band SEEG Window Shape: (129239, 30).\n",
      "Preview: [[ 1.58888585e-06  5.12416143e-05 -7.94443639e-06 ...  1.58888722e-04\n",
      "  -3.89277376e-05 -2.10924808e-04]\n",
      " [ 2.43530459e-05  7.49338554e-04 -1.17395899e-04 ...  2.31614015e-03\n",
      "  -5.67057125e-04 -3.07626534e-03]\n",
      " [ 1.73387021e-04  5.24759388e-03 -8.32239218e-04 ...  1.61589141e-02\n",
      "  -3.95205727e-03 -2.14761155e-02]\n",
      " ...\n",
      " [-2.00463421e+00  4.32507116e-01 -7.82314044e-01 ...  8.74048712e-01\n",
      "  -4.89444665e-01  1.07881892e+00]\n",
      " [-2.34646054e+00  1.16366188e+00 -1.19675063e+00 ...  3.96790980e-01\n",
      "  -4.76568038e-01  1.06754919e+00]\n",
      " [-2.13219194e+00  1.66497204e+00 -1.45428660e+00 ... -1.79986688e-01\n",
      "  -2.01523335e-01  5.85677721e-01]]\n"
     ]
    }
   ],
   "source": [
    "# Apply the Butterworth filter to the window of channels in the Ripple Band\n",
    "ripple_lowcut_freq = 80\n",
    "ripple_highcut_freq = 250\n",
    "BUTTER_FILTER_ORDER = 9\n",
    "\n",
    "ripple_band_seeg_window = [ butter_bandpass_filter(seeg_window[:, i], ripple_lowcut_freq, ripple_highcut_freq, sampling_rate, BUTTER_FILTER_ORDER) for i in range(seeg_window.shape[1]) ]\n",
    "ripple_band_seeg_window = np.array(ripple_band_seeg_window).T\n",
    "preview_np_array(ripple_band_seeg_window, \"Ripple Band SEEG Window\", edge_items=3)"
   ]
  },
  {
   "cell_type": "code",
   "execution_count": 19,
   "metadata": {},
   "outputs": [
    {
     "name": "stdout",
     "output_type": "stream",
     "text": [
      "FR Band SEEG Window Shape: (129239, 30).\n",
      "Preview: [[ 3.07483489e-05  9.91635134e-04 -1.53741882e-04 ...  3.07483754e-03\n",
      "  -7.53335209e-04 -4.08184740e-03]\n",
      " [ 2.37688492e-04  6.96785698e-03 -1.10388549e-03 ...  2.14627415e-02\n",
      "  -5.25068468e-03 -2.85225413e-02]\n",
      " [ 4.57120045e-04  1.33819337e-02 -2.25653474e-03 ...  4.03999805e-02\n",
      "  -9.82331437e-03 -5.38841754e-02]\n",
      " ...\n",
      " [-4.31730295e-01 -8.11727306e-01  8.44248120e-01 ...  1.49546285e-01\n",
      "  -5.79074194e-01  1.10558591e+00]\n",
      " [-2.28771275e-01 -1.07887853e-01 -2.08512410e-03 ... -7.76373503e-01\n",
      "   4.01760384e-01 -2.31285927e-01]\n",
      " [ 9.33223677e-01  3.62512199e-01 -7.29889627e-01 ... -3.66630013e-01\n",
      "   6.51022118e-01 -9.24987535e-01]]\n"
     ]
    }
   ],
   "source": [
    "# Apply the Butterworth filter to the window of channels in the Fast Ripple Band\n",
    "fr_lowcut_freq = 250\n",
    "fr_highcut_freq = 500\n",
    "\n",
    "fr_band_seeg_window = [ butter_bandpass_filter(seeg_window[:, i], fr_lowcut_freq, fr_highcut_freq, sampling_rate, BUTTER_FILTER_ORDER) for i in range(seeg_window.shape[1]) ]\n",
    "fr_band_seeg_window = np.array(fr_band_seeg_window).T\n",
    "preview_np_array(fr_band_seeg_window, \"FR Band SEEG Window\", edge_items=3)"
   ]
  },
  {
   "cell_type": "markdown",
   "metadata": {},
   "source": [
    "Apply the Butterworth filter in the combined Ripple+FR Band"
   ]
  },
  {
   "cell_type": "code",
   "execution_count": 20,
   "metadata": {},
   "outputs": [
    {
     "name": "stdout",
     "output_type": "stream",
     "text": [
      "Both Bands SEEG Window Shape: (129239, 30).\n",
      "Preview: [[ 1.35444513e-03  4.36808944e-02 -6.77223173e-03 ...  1.35444630e-01\n",
      "  -3.31839349e-02 -1.79802771e-01]\n",
      " [ 1.36867196e-02  4.10668102e-01 -6.47089319e-02 ...  1.26708967e+00\n",
      "  -3.10098362e-01 -1.68341619e+00]\n",
      " [ 5.46471681e-02  1.62947797e+00 -2.63109765e-01 ...  4.98947631e+00\n",
      "  -1.21832789e+00 -6.63790039e+00]\n",
      " ...\n",
      " [ 2.77658767e-01  6.58586971e-02 -6.67332095e-01 ... -4.13114402e-01\n",
      "   8.98186892e-01 -1.62475645e+00]\n",
      " [ 9.46050828e-01 -3.05484659e-01 -6.44122741e-01 ...  2.67005505e-01\n",
      "   4.62394055e-01 -1.84057544e+00]\n",
      " [ 1.41879006e+00 -1.16945237e-01  1.98865993e-01 ...  5.43896958e-01\n",
      "   2.27998424e-01 -1.31559355e+00]]\n"
     ]
    }
   ],
   "source": [
    "# Apply the Butterworth filter to the window of channels in the Combined Ripple and Fast Ripple Band\n",
    "both_band_seeg_window = [ butter_bandpass_filter(seeg_window[:, i], ripple_lowcut_freq, fr_highcut_freq, sampling_rate, BUTTER_FILTER_ORDER) for i in range(seeg_window.shape[1]) ]\n",
    "both_band_seeg_window = np.array(both_band_seeg_window).T\n",
    "preview_np_array(both_band_seeg_window, \"Both Bands SEEG Window\", edge_items=3)"
   ]
  },
  {
   "cell_type": "markdown",
   "metadata": {},
   "source": [
    "## Import the Markers (Annotated Events) \n",
    "The markers are stored in a numpy array of shape (num_channels, events):\n",
    "- Each row represents the events of a channel\n",
    "- Each event is composed of the following 3 fields (Label, Position, Shape)"
   ]
  },
  {
   "cell_type": "code",
   "execution_count": 21,
   "metadata": {},
   "outputs": [
    {
     "ename": "ValueError",
     "evalue": "Object arrays cannot be loaded when allow_pickle=False",
     "output_type": "error",
     "traceback": [
      "\u001b[0;31m---------------------------------------------------------------------------\u001b[0m",
      "\u001b[0;31mValueError\u001b[0m                                Traceback (most recent call last)",
      "Cell \u001b[0;32mIn[21], line 1\u001b[0m\n\u001b[0;32m----> 1\u001b[0m markers \u001b[38;5;241m=\u001b[39m \u001b[43mnp\u001b[49m\u001b[38;5;241;43m.\u001b[39;49m\u001b[43mload\u001b[49m\u001b[43m(\u001b[49m\u001b[38;5;124;43mf\u001b[39;49m\u001b[38;5;124;43m\"\u001b[39;49m\u001b[38;5;132;43;01m{\u001b[39;49;00m\u001b[43mPATH_TO_FILE\u001b[49m\u001b[38;5;132;43;01m}\u001b[39;49;00m\u001b[38;5;124;43mdata/\u001b[39;49m\u001b[38;5;132;43;01m{\u001b[39;49;00m\u001b[43mmarkers_seeg_file_name\u001b[49m\u001b[38;5;132;43;01m}\u001b[39;49;00m\u001b[38;5;124;43m\"\u001b[39;49m\u001b[43m)\u001b[49m\n\u001b[1;32m      3\u001b[0m preview_np_array(markers, \u001b[38;5;124m\"\u001b[39m\u001b[38;5;124mMarkers\u001b[39m\u001b[38;5;124m\"\u001b[39m, edge_items\u001b[38;5;241m=\u001b[39m\u001b[38;5;241m3\u001b[39m)\n",
      "File \u001b[0;32m~/Desktop/feup/thesis/thesis-lava/.venv/lib/python3.10/site-packages/numpy/lib/npyio.py:432\u001b[0m, in \u001b[0;36mload\u001b[0;34m(file, mmap_mode, allow_pickle, fix_imports, encoding, max_header_size)\u001b[0m\n\u001b[1;32m    429\u001b[0m         \u001b[38;5;28;01mreturn\u001b[39;00m \u001b[38;5;28mformat\u001b[39m\u001b[38;5;241m.\u001b[39mopen_memmap(file, mode\u001b[38;5;241m=\u001b[39mmmap_mode,\n\u001b[1;32m    430\u001b[0m                                   max_header_size\u001b[38;5;241m=\u001b[39mmax_header_size)\n\u001b[1;32m    431\u001b[0m     \u001b[38;5;28;01melse\u001b[39;00m:\n\u001b[0;32m--> 432\u001b[0m         \u001b[38;5;28;01mreturn\u001b[39;00m \u001b[38;5;28;43mformat\u001b[39;49m\u001b[38;5;241;43m.\u001b[39;49m\u001b[43mread_array\u001b[49m\u001b[43m(\u001b[49m\u001b[43mfid\u001b[49m\u001b[43m,\u001b[49m\u001b[43m \u001b[49m\u001b[43mallow_pickle\u001b[49m\u001b[38;5;241;43m=\u001b[39;49m\u001b[43mallow_pickle\u001b[49m\u001b[43m,\u001b[49m\n\u001b[1;32m    433\u001b[0m \u001b[43m                                 \u001b[49m\u001b[43mpickle_kwargs\u001b[49m\u001b[38;5;241;43m=\u001b[39;49m\u001b[43mpickle_kwargs\u001b[49m\u001b[43m,\u001b[49m\n\u001b[1;32m    434\u001b[0m \u001b[43m                                 \u001b[49m\u001b[43mmax_header_size\u001b[49m\u001b[38;5;241;43m=\u001b[39;49m\u001b[43mmax_header_size\u001b[49m\u001b[43m)\u001b[49m\n\u001b[1;32m    435\u001b[0m \u001b[38;5;28;01melse\u001b[39;00m:\n\u001b[1;32m    436\u001b[0m     \u001b[38;5;66;03m# Try a pickle\u001b[39;00m\n\u001b[1;32m    437\u001b[0m     \u001b[38;5;28;01mif\u001b[39;00m \u001b[38;5;129;01mnot\u001b[39;00m allow_pickle:\n",
      "File \u001b[0;32m~/Desktop/feup/thesis/thesis-lava/.venv/lib/python3.10/site-packages/numpy/lib/format.py:788\u001b[0m, in \u001b[0;36mread_array\u001b[0;34m(fp, allow_pickle, pickle_kwargs, max_header_size)\u001b[0m\n\u001b[1;32m    785\u001b[0m \u001b[38;5;28;01mif\u001b[39;00m dtype\u001b[38;5;241m.\u001b[39mhasobject:\n\u001b[1;32m    786\u001b[0m     \u001b[38;5;66;03m# The array contained Python objects. We need to unpickle the data.\u001b[39;00m\n\u001b[1;32m    787\u001b[0m     \u001b[38;5;28;01mif\u001b[39;00m \u001b[38;5;129;01mnot\u001b[39;00m allow_pickle:\n\u001b[0;32m--> 788\u001b[0m         \u001b[38;5;28;01mraise\u001b[39;00m \u001b[38;5;167;01mValueError\u001b[39;00m(\u001b[38;5;124m\"\u001b[39m\u001b[38;5;124mObject arrays cannot be loaded when \u001b[39m\u001b[38;5;124m\"\u001b[39m\n\u001b[1;32m    789\u001b[0m                          \u001b[38;5;124m\"\u001b[39m\u001b[38;5;124mallow_pickle=False\u001b[39m\u001b[38;5;124m\"\u001b[39m)\n\u001b[1;32m    790\u001b[0m     \u001b[38;5;28;01mif\u001b[39;00m pickle_kwargs \u001b[38;5;129;01mis\u001b[39;00m \u001b[38;5;28;01mNone\u001b[39;00m:\n\u001b[1;32m    791\u001b[0m         pickle_kwargs \u001b[38;5;241m=\u001b[39m {}\n",
      "\u001b[0;31mValueError\u001b[0m: Object arrays cannot be loaded when allow_pickle=False"
     ]
    }
   ],
   "source": [
    "markers = np.load(f\"{PATH_TO_FILE}data/{markers_seeg_file_name}\")\n",
    "\n",
    "preview_np_array(markers, \"Markers\", edge_items=3)"
   ]
  },
  {
   "cell_type": "markdown",
   "metadata": {},
   "source": [
    "### Define the set of channels the markers will be extracted from"
   ]
  },
  {
   "cell_type": "code",
   "execution_count": null,
   "metadata": {},
   "outputs": [
    {
     "name": "stdout",
     "output_type": "stream",
     "text": [
      "Channels used:  {90, 91, 92, 93, 94, 95, 96, 97, 98, 99, 100, 101, 102, 103, 104, 105, 106, 107, 108, 109, 110, 111, 112, 113, 114, 115, 116, 117, 118, 119}\n"
     ]
    }
   ],
   "source": [
    "channels_used = set(range(min_channel_idx, max_channel_idx))\n",
    "print(\"Channels used: \", channels_used)"
   ]
  },
  {
   "cell_type": "markdown",
   "metadata": {},
   "source": [
    "## Visualize the filtered signals"
   ]
  },
  {
   "cell_type": "code",
   "execution_count": null,
   "metadata": {},
   "outputs": [],
   "source": [
    "# Interactive Plot for the HFO detection\n",
    "# bokeh docs: https://docs.bokeh.org/en/2.4.1/docs/first_steps/first_steps_1.html\n",
    "\n",
    "from utils.line_plot import create_fig  # Import the function to create the figure\n",
    "from bokeh.models import Range1d\n",
    "\n",
    "# Define the x and y values\n",
    "# Should the first input start at 0 or x_step?\n",
    "# TODO: is it okay to create a range with floats?\n",
    "x = [val for val in np.arange(x_step, input_duration + x_step, x_step)] "
   ]
  },
  {
   "cell_type": "markdown",
   "metadata": {},
   "source": [
    "## Create the Plot"
   ]
  },
  {
   "cell_type": "code",
   "execution_count": null,
   "metadata": {},
   "outputs": [],
   "source": [
    "# Create the plot\n",
    "# List of tuples containing the y values and the legend label\n",
    "hfo_y_arrays = []\n",
    "\n",
    "PLOT_RIPPLE_BAND = False\n",
    "PLOT_FR_BAND = False\n",
    "PLOT_BOTH_BAND = True\n",
    "\n",
    "if is_single_channel:\n",
    "    # Add the Ripple and FR bands of the single channel\n",
    "    hfo_y_arrays.append((ripple_band_seeg_window[:, 0], f\"Ripple Band Ch. {min_channel_idx}\"))\n",
    "    hfo_y_arrays.append((fr_band_seeg_window[:, 0], f\"Fast Ripple Band Ch. {min_channel_idx}\"))\n",
    "else:\n",
    "    # Add the Ripple, FR and both bands of each channel in the range defined below\n",
    "    min_hfo_idx = 0\n",
    "    max_hfo_idx = 8\n",
    "    if PLOT_RIPPLE_BAND:\n",
    "        for hfo_idx in range(min_hfo_idx, max_hfo_idx, 1):\n",
    "            hfo_y_arrays.append((ripple_band_seeg_window[:, hfo_idx], f\"Ripple Band Ch. {min_channel_idx + hfo_idx}\"))\n",
    "    if PLOT_FR_BAND:\n",
    "        for hfo_idx in range(min_hfo_idx, max_hfo_idx, 1):\n",
    "                hfo_y_arrays.append((fr_band_seeg_window[:, hfo_idx], f\"Fast Ripple Band Ch. {min_channel_idx + hfo_idx}\"))\n",
    "    if PLOT_BOTH_BAND:\n",
    "        for hfo_idx in range(min_hfo_idx, max_hfo_idx, 1):\n",
    "            hfo_y_arrays.append((both_band_seeg_window[:, hfo_idx], f\"Both Bands Ch. {min_channel_idx + hfo_idx}\"))\n",
    "\n",
    "\n",
    "# Create the SEEG Voltage plot\n",
    "hfo_plot = create_fig(\n",
    "    title=\"SEEG Voltage dynamics of Filtered Both Bands\", \n",
    "    x_axis_label='time (ms)', \n",
    "    y_axis_label='Voltage (μV)',\n",
    "    x=x, \n",
    "    y_arrays=hfo_y_arrays, \n",
    "    sizing_mode=\"stretch_both\", \n",
    "    tools=\"pan, box_zoom, wheel_zoom, hover, undo, redo, zoom_in, zoom_out, reset, save\",\n",
    "    tooltips=\"Data point @x: @y\",\n",
    "    legend_location=\"top_right\",\n",
    "    legend_bg_fill_color=\"navy\",\n",
    "    legend_bg_fill_alpha=0.1,\n",
    "    # y_range=Range1d(-0.05, 1.05)\n",
    ")\n",
    "\n",
    "# If there are more than 30 channels, hide the legend\n",
    "if len(hfo_y_arrays) > 30:\n",
    "    # Hide the legend\n",
    "    hfo_plot.legend.visible = False"
   ]
  },
  {
   "cell_type": "markdown",
   "metadata": {},
   "source": [
    "## Add Box Annotations to the plot to identify the marked HFOs (ground truth)"
   ]
  },
  {
   "cell_type": "code",
   "execution_count": null,
   "metadata": {},
   "outputs": [],
   "source": [
    "from bokeh.models import BoxAnnotation\n",
    "# from utils.line_plot import color_map\n",
    "\n",
    "show_markers = False    # Boolean to show the markers\n",
    "\n",
    "color_map = {                  \n",
    "    'Spike': 'red',\n",
    "    'Fast-Ripple': 'blue',\n",
    "    'Ripple': 'green',  \n",
    "    'Spike+Ripple': 'yellow',\n",
    "    'Spike+Fast-Ripple': 'pink',\n",
    "    'Ripple+Fast-Ripple': 'cyan',\n",
    "    'Spike+Ripple+Fast-Ripple': 'black'\n",
    "}\n",
    "\n",
    "confidence_range = 100          # TODO: Check this value. When the duration is missing (0), we consider the 200ms window around the marked position \n",
    "visited_markers = {}    # Avoid inserting multiple boxes for the same marker (only one of each label)\n",
    "use_visited = False     # Boolean controlling if we remove duplicate markers\n",
    "plot_instant = True     # Boolean to plot the markers as instant events or as boxes\n",
    "instant_width = 100 # 20       # Width of the instant event for visualization purposes\n",
    "\n",
    "if show_markers:\n",
    "    for ch_idx in channels_used:\n",
    "        channel_markers = markers[ch_idx]\n",
    "        # print(\"channel_markers\", channel_markers)\n",
    "        for idx2, marker in enumerate(channel_markers):\n",
    "            # print(\"marker:\", marker)\n",
    "            \n",
    "            if use_visited:\n",
    "                # Check if the marker has already been visited and skip it if it has\n",
    "                if marker['position'] in visited_markers:\n",
    "                    visited_labels = visited_markers[marker['position']]    # Get the labels that already have an annotation for this position\n",
    "                    if marker['label'] in visited_labels:\n",
    "                        # print(\"Skipping marker\", marker['position'], marker['label'])\n",
    "                        continue    # Skip this marker\n",
    "                    else:\n",
    "                        visited_labels.append(marker['label'])  # Add the label to the visited labels\n",
    "                else:\n",
    "                    visited_markers[marker['position']] = [marker['label']] # Add the marker to the visited markers\n",
    "\n",
    "            # Add a box annotation for each marker\n",
    "            has_duration = marker['duration'] > 0\n",
    "            \n",
    "            confidence_constant = 0 if plot_instant or has_duration else confidence_range\n",
    "\n",
    "            left = marker['position'] - confidence_constant\n",
    "            right = marker['position'] + confidence_constant + instant_width\n",
    "            box_color = color_map[marker['label']]  # Choose a color according to the label\n",
    "            \n",
    "            # if left < min_t or right > max_t:\n",
    "            #     continue    # Skip this marker\n",
    "            \n",
    "\n",
    "            box = BoxAnnotation(left=left, right=right, fill_color=box_color, fill_alpha=0.35)\n",
    "            # print(\"Added marker for channel: \", ch_idx, \" at position: \", left)\n",
    "            hfo_plot.add_layout(box)"
   ]
  },
  {
   "cell_type": "markdown",
   "metadata": {},
   "source": [
    "## Show the Plot"
   ]
  },
  {
   "cell_type": "code",
   "execution_count": null,
   "metadata": {},
   "outputs": [],
   "source": [
    "import bokeh.plotting as bplt\n",
    "\n",
    "showPlot = True\n",
    "if showPlot:\n",
    "    bplt.show(hfo_plot)"
   ]
  },
  {
   "cell_type": "markdown",
   "metadata": {},
   "source": [
    "## Export the plot to a file"
   ]
  },
  {
   "cell_type": "code",
   "execution_count": null,
   "metadata": {},
   "outputs": [],
   "source": [
    "export = False\n",
    "file_name = f\"filtered_seeg_ch{min_hfo_idx}\" if is_single_channel else f\"filtered_seeg_ch{min_channel_idx}-{max_channel_idx - 1}\"\n",
    "\n",
    "if export:\n",
    "    file_path = f\"{PATH_TO_FILE}plots/synthetic/{file_name}.html\"\n",
    "\n",
    "    # Customize the output file settings\n",
    "    bplt.output_file(filename=file_path, title=\"SEEG Data - Filtered Voltage dynamics across time\")\n",
    "\n",
    "    # Save the plot\n",
    "    bplt.save(hfo_plot)"
   ]
  },
  {
   "cell_type": "markdown",
   "metadata": {},
   "source": [
    "## Export the filtered signals to a numpy file"
   ]
  },
  {
   "cell_type": "markdown",
   "metadata": {},
   "source": [
    "### Get the relevant Markers"
   ]
  },
  {
   "cell_type": "code",
   "execution_count": null,
   "metadata": {},
   "outputs": [
    {
     "name": "stdout",
     "output_type": "stream",
     "text": [
      "Relevant Markers Shape: (30, 42).\n",
      "Preview: [[('Spike',   1000.  , 0.) ('Spike+Fast-Ripple',   4218.75, 0.)\n",
      "  ('Ripple+Fast-Ripple',   6966.8 , 0.) ... ('Ripple', 114551.  , 0.)\n",
      "  ('Spike+Ripple', 116517.  , 0.) ('Spike+Ripple', 119000.  , 0.)]\n",
      " [('Spike+Ripple',   1000.  , 0.)\n",
      "  ('Spike+Ripple+Fast-Ripple',   3917.97, 0.)\n",
      "  ('Spike+Fast-Ripple',   6794.92, 0.) ... ('Spike', 113382.  , 0.)\n",
      "  ('Ripple+Fast-Ripple', 116656.  , 0.) ('Spike+Ripple', 119000.  , 0.)]\n",
      " [('Fast-Ripple',   1000.  , 0.) ('Spike',   3655.76, 0.)\n",
      "  ('Spike',   7188.96, 0.) ...\n",
      "  ('Spike+Ripple+Fast-Ripple', 112797.  , 0.)\n",
      "  ('Fast-Ripple', 115363.  , 0.) ('Spike+Fast-Ripple', 119000.  , 0.)]\n",
      " ...\n",
      " [('Ripple+Fast-Ripple',   1000.  , 0.) ('Ripple',   3543.46, 0.)\n",
      "  ('Ripple+Fast-Ripple',   6759.77, 0.) ...\n",
      "  ('Fast-Ripple', 112950.  , 0.) ('Spike+Ripple', 115987.  , 0.)\n",
      "  ('Spike+Ripple', 119000.  , 0.)]\n",
      " [('Spike+Fast-Ripple',   1000.  , 0.) ('Fast-Ripple',   4774.41, 0.)\n",
      "  ('Ripple',   7656.74, 0.) ... ('Spike', 113143.  , 0.)\n",
      "  ('Ripple+Fast-Ripple', 116769.  , 0.) ('Ripple', 119000.  , 0.)]\n",
      " [('Spike+Ripple',   1000.  , 0.) ('Ripple',   4143.07, 0.)\n",
      "  ('Spike+Fast-Ripple',   6804.2 , 0.) ...\n",
      "  ('Ripple+Fast-Ripple', 112313.  , 0.)\n",
      "  ('Spike+Ripple+Fast-Ripple', 115019.  , 0.)\n",
      "  ('Fast-Ripple', 119000.  , 0.)]]\n"
     ]
    }
   ],
   "source": [
    "# Save the relevant markers in a variable\n",
    "relevant_markers = markers[min_channel_idx:max_channel_idx]\n",
    "preview_np_array(relevant_markers, \"Relevant Markers\", edge_items=3)"
   ]
  },
  {
   "cell_type": "code",
   "execution_count": null,
   "metadata": {},
   "outputs": [],
   "source": [
    "from utils.input import RIPPLE_BAND_FILENAME, FR_BAND_FILENAME, BOTH_BAND_FILENAME\n",
    "\n",
    "EXPORT_FILTERED_SIGNAL = True\n",
    "file_name = f\"filtered_seeg_ch{min_channel_idx}\" if is_single_channel else f\"filtered_seeg_ch{min_channel_idx}-{max_channel_idx-1}\"\n",
    "if EXPORT_FILTERED_SIGNAL:\n",
    "    # Export the filtered signals\n",
    "    np.save(f\"{PATH_TO_FILE}results/synthetic/{file_name}_{RIPPLE_BAND_FILENAME}_band.npy\", ripple_band_seeg_window)\n",
    "    np.save(f\"{PATH_TO_FILE}results/synthetic/{file_name}_{FR_BAND_FILENAME}_band.npy\", fr_band_seeg_window)\n",
    "    np.save(f\"{PATH_TO_FILE}results/synthetic/{file_name}_{BOTH_BAND_FILENAME}_band.npy\", both_band_seeg_window)\n",
    "\n",
    "    # Export the markers\n",
    "    np.save(f\"{PATH_TO_FILE}results/synthetic/{file_name}_markers.npy\", relevant_markers)"
   ]
  }
 ],
 "metadata": {
  "kernelspec": {
   "display_name": "Python 3 (ipykernel)",
   "language": "python",
   "name": "python3"
  },
  "language_info": {
   "codemirror_mode": {
    "name": "ipython",
    "version": 3
   },
   "file_extension": ".py",
   "mimetype": "text/x-python",
   "name": "python",
   "nbconvert_exporter": "python",
   "pygments_lexer": "ipython3",
   "version": "3.10.12"
  }
 },
 "nbformat": 4,
 "nbformat_minor": 2
}
