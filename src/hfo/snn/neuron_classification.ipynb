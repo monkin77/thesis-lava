{
 "cells": [
  {
   "cell_type": "markdown",
   "metadata": {},
   "source": [
    "# Classification of the Feature Neurons from the SNN\n",
    "This notebook performs the classification of the feature neurons from the SNN according to certain criteria. In the future, it would be interesting to implement a 3rd layer in the SNN to classify the feature neurons automatically. For now, this manual classification will classify each neuron as one of the following:\n",
    "- **Silent Neuron**: Neuron that does not fire at all.\n",
    "- **Noisy Neuron**: Neuron that fires randomly or without a relevant pattern.\n",
    "- **Ripple Neuron**: Neuron that fires in the presence of a ripple.\n",
    "- **Fast Ripple Neuron**: Neuron that fires in the presence of a fast ripple."
   ]
  },
  {
   "cell_type": "markdown",
   "metadata": {},
   "source": [
    "## Check WD (change if necessary) and file loading"
   ]
  },
  {
   "cell_type": "code",
   "execution_count": 1,
   "metadata": {},
   "outputs": [
    {
     "name": "stdout",
     "output_type": "stream",
     "text": [
      "/home/monkin/Desktop/feup/thesis\n",
      "File Location:  /home/monkin/Desktop/feup/thesis/thesis-lava/src/hfo/snn\n",
      "New Working Directory:  /home/monkin/Desktop/feup/thesis/thesis-lava/src/hfo/snn\n"
     ]
    }
   ],
   "source": [
    "# Show current directory\n",
    "import os\n",
    "curr_dir = os.getcwd()\n",
    "print(curr_dir)\n",
    "\n",
    "# Check if the current WD is the file location\n",
    "if \"/src/hfo/snn\" not in os.getcwd():\n",
    "    # Set working directory to this file location\n",
    "    file_location = f\"{os.getcwd()}/thesis-lava/src/hfo/snn\"\n",
    "    print(\"File Location: \", file_location)\n",
    "\n",
    "    # Change the current working Directory\n",
    "    os.chdir(file_location)\n",
    "\n",
    "    # New Working Directory\n",
    "    print(\"New Working Directory: \", os.getcwd())"
   ]
  },
  {
   "cell_type": "markdown",
   "metadata": {},
   "source": [
    "## Load the Voltage and Current Dynamics during the SNN run"
   ]
  },
  {
   "cell_type": "code",
   "execution_count": 3,
   "metadata": {},
   "outputs": [
    {
     "name": "stdout",
     "output_type": "stream",
     "text": [
      "v_dynamics Shape: (3000, 256).\n",
      "Preview: [[ 0.00000000e+00  0.00000000e+00  0.00000000e+00 ...  0.00000000e+00\n",
      "   0.00000000e+00  0.00000000e+00]\n",
      " [ 0.00000000e+00  0.00000000e+00  0.00000000e+00 ...  0.00000000e+00\n",
      "   0.00000000e+00  0.00000000e+00]\n",
      " [ 0.00000000e+00  0.00000000e+00  0.00000000e+00 ...  0.00000000e+00\n",
      "   0.00000000e+00  0.00000000e+00]\n",
      " ...\n",
      " [-3.88502044e-04 -1.93885605e-04 -1.67600855e-04 ... -1.55093644e-05\n",
      "   1.67114500e-05 -5.63903178e-04]\n",
      " [-3.61306901e-04 -1.80313613e-04 -1.55868795e-04 ... -1.44237088e-05\n",
      "   1.55416485e-05 -5.24429956e-04]\n",
      " [-3.36015418e-04 -1.67691660e-04 -1.44957980e-04 ... -1.34140492e-05\n",
      "   1.44537331e-05 -4.87719859e-04]]\n",
      "u_dynamics Shape: (3000, 256).\n",
      "Preview: [[0.00000000e+00 0.00000000e+00 0.00000000e+00 ... 0.00000000e+00\n",
      "  0.00000000e+00 0.00000000e+00]\n",
      " [0.00000000e+00 0.00000000e+00 0.00000000e+00 ... 0.00000000e+00\n",
      "  0.00000000e+00 0.00000000e+00]\n",
      " [0.00000000e+00 0.00000000e+00 0.00000000e+00 ... 0.00000000e+00\n",
      "  0.00000000e+00 0.00000000e+00]\n",
      " ...\n",
      " [7.70601383e-18 1.66435473e-24 1.63927599e-55 ... 8.43854739e-15\n",
      "  4.85479474e-81 1.48421804e-16]\n",
      " [5.14122267e-18 9.46022781e-25 4.39991278e-56 ... 6.05371056e-15\n",
      "  7.01882039e-82 1.02186150e-16]\n",
      " [3.43006996e-18 5.37721366e-25 1.18096236e-56 ... 4.34285520e-15\n",
      "  1.01474609e-82 7.03514583e-17]]\n"
     ]
    }
   ],
   "source": [
    "import numpy as np\n",
    "from utils.io import preview_np_array\n",
    "\n",
    "# Load the voltage and current data from the numpy files\n",
    "voltage_file_name = f\"./results/custom_subset_90-119_segment500_200/v_dynamics_0.07dv_5ch_time3400-3000-1.npy\"\n",
    "current_file_name = f\"./results/custom_subset_90-119_segment500_200/u_dynamics_0.07dv_5ch_time3400-3000-1.npy\"\n",
    "\n",
    "v_dynamics = np.load(voltage_file_name)\n",
    "u_dynamics = np.load(current_file_name)\n",
    "\n",
    "preview_np_array(v_dynamics, \"v_dynamics\", edge_items=3)\n",
    "preview_np_array(u_dynamics, \"u_dynamics\", edge_items=3)"
   ]
  },
  {
   "cell_type": "markdown",
   "metadata": {},
   "source": [
    "## Find the timesteps where the network spiked"
   ]
  },
  {
   "cell_type": "code",
   "execution_count": null,
   "metadata": {},
   "outputs": [],
   "source": [
    "from utils.data_analysis import find_spike_times\n",
    "\n",
    "# Call the find_spike_times util function that detects the spikes in a voltage array\n",
    "spike_times_lif1 = find_spike_times(v_dynamics, u_dynamics)\n",
    "\n",
    "for (spike_time, neuron_idx) in spike_times_lif1:\n",
    "    print(f\"Spike time: {init_offset + spike_time * virtual_time_step_interval} (iter. {spike_time}) at neuron: {neuron_idx}\")\n"
   ]
  }
 ],
 "metadata": {
  "kernelspec": {
   "display_name": "Python 3 (ipykernel)",
   "language": "python",
   "name": "python3"
  },
  "language_info": {
   "codemirror_mode": {
    "name": "ipython",
    "version": 3
   },
   "file_extension": ".py",
   "mimetype": "text/x-python",
   "name": "python",
   "nbconvert_exporter": "python",
   "pygments_lexer": "ipython3",
   "version": "3.10.12"
  }
 },
 "nbformat": 4,
 "nbformat_minor": 2
}
