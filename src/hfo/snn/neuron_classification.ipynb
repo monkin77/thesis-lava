{
 "cells": [
  {
   "cell_type": "markdown",
   "metadata": {},
   "source": [
    "# Classification of the Feature Neurons from the SNN\n",
    "This notebook performs the classification of the feature neurons from the SNN according to certain criteria. In the future, it would be interesting to implement a 3rd layer in the SNN to classify the feature neurons automatically. For now, this manual classification will classify each neuron as one of the following:\n",
    "- **Silent Neuron**: Neuron that does not fire at all.\n",
    "- **Noisy Neuron**: Neuron that fires randomly or without a relevant pattern.\n",
    "- **Ripple Neuron**: Neuron that fires in the presence of a ripple.\n",
    "- **Fast Ripple Neuron**: Neuron that fires in the presence of a fast ripple."
   ]
  },
  {
   "cell_type": "markdown",
   "metadata": {},
   "source": [
    "## Check WD (change if necessary) and file loading"
   ]
  },
  {
   "cell_type": "code",
   "execution_count": 17,
   "metadata": {},
   "outputs": [
    {
     "name": "stdout",
     "output_type": "stream",
     "text": [
      "/home/monkin/Desktop/feup/thesis/thesis-lava/src/hfo/snn\n"
     ]
    }
   ],
   "source": [
    "# Show current directory\n",
    "import os\n",
    "curr_dir = os.getcwd()\n",
    "print(curr_dir)\n",
    "\n",
    "# Check if the current WD is the file location\n",
    "if \"/src/hfo/snn\" not in os.getcwd():\n",
    "    # Set working directory to this file location\n",
    "    file_location = f\"{os.getcwd()}/thesis-lava/src/hfo/snn\"\n",
    "    print(\"File Location: \", file_location)\n",
    "\n",
    "    # Change the current working Directory\n",
    "    os.chdir(file_location)\n",
    "\n",
    "    # New Working Directory\n",
    "    print(\"New Working Directory: \", os.getcwd())"
   ]
  },
  {
   "cell_type": "markdown",
   "metadata": {},
   "source": [
    "## Load the Voltage and Current Dynamics during the SNN run"
   ]
  },
  {
   "cell_type": "code",
   "execution_count": 18,
   "metadata": {},
   "outputs": [
    {
     "name": "stdout",
     "output_type": "stream",
     "text": [
      "v_dynamics Shape: (300, 256).\n",
      "Preview: [[ 0.00000000e+00  0.00000000e+00  0.00000000e+00 ...  0.00000000e+00\n",
      "   0.00000000e+00  0.00000000e+00]\n",
      " [-3.00000000e-01 -3.00000000e-01 -3.00000000e-01 ... -3.00000000e-01\n",
      "  -3.00000000e-01 -3.00000000e-01]\n",
      " [-3.63637806e-02 -6.19632354e-02  2.10000000e-02 ... -1.82933897e-01\n",
      "   1.99834875e-02 -1.20341243e-01]\n",
      " ...\n",
      " [ 1.08405053e-09  9.42952115e-10 -1.23785429e-10 ...  1.94098992e-09\n",
      "   7.40639226e-10  2.13210245e-10]\n",
      " [ 1.00816699e-09  8.76945467e-10 -1.15120449e-10 ...  1.80512063e-09\n",
      "   6.88794480e-10  1.98285528e-10]\n",
      " [ 9.37595301e-10  8.15559284e-10 -1.07062018e-10 ...  1.67876218e-09\n",
      "   6.40578866e-10  1.84405541e-10]]\n",
      "u_dynamics Shape: (300, 256).\n",
      "Preview: [[ 0.00000000e+000  0.00000000e+000  0.00000000e+000 ...  0.00000000e+000\n",
      "   0.00000000e+000  0.00000000e+000]\n",
      " [-3.00000000e-001 -3.00000000e-001 -3.00000000e-001 ... -3.00000000e-001\n",
      "  -3.00000000e-001 -3.00000000e-001]\n",
      " [ 2.42636219e-001  2.17036765e-001  3.00000000e-001 ...  9.60661032e-002\n",
      "   2.98983487e-001  1.58658757e-001]\n",
      " ...\n",
      " [ 6.30288885e-076  1.18921593e-071  0.00000000e+000 ...  6.44836049e-037\n",
      "   1.13700301e-131  2.49698197e-073]\n",
      " [ 3.34851378e-076  6.55042045e-072  0.00000000e+000 ...  4.76064575e-037\n",
      "   3.76922310e-132  1.35601670e-073]\n",
      " [ 1.77895324e-076  3.60809228e-072  0.00000000e+000 ...  3.51465275e-037\n",
      "   1.24951673e-132  7.36401511e-074]]\n"
     ]
    }
   ],
   "source": [
    "import numpy as np\n",
    "from utils.io import preview_np_array\n",
    "from utils.input import MarkerType, band_to_file_name\n",
    "\n",
    "# Declare if using ripples, fast ripples, or both\n",
    "chosen_band = MarkerType.FAST_RIPPLE     # RIPPLE, FAST_RIPPLE, or BOTH\n",
    "band_file_name = band_to_file_name(chosen_band)\n",
    "\n",
    "INPUT_PATH = f\"./results/custom_subset_90-119_segment500_200\"\n",
    "\n",
    "# Load the voltage and current data from the numpy files\n",
    "voltage_file_name = f\"{INPUT_PATH}/{band_file_name}_v_dynamics_0.07dv_5ch_time1000-300-1.npy\"\n",
    "current_file_name = f\"{INPUT_PATH}/{band_file_name}_u_dynamics_0.07dv_5ch_time1000-300-1.npy\"\n",
    "\n",
    "v_dynamics = np.load(voltage_file_name)\n",
    "u_dynamics = np.load(current_file_name)\n",
    "\n",
    "preview_np_array(v_dynamics, \"v_dynamics\", edge_items=3)\n",
    "preview_np_array(u_dynamics, \"u_dynamics\", edge_items=3)"
   ]
  },
  {
   "cell_type": "markdown",
   "metadata": {},
   "source": [
    "## Load the SNN Configuration and extract the fields\n",
    "The SNN configuration contains:\n",
    "- Numpy array with the ground_truth for each timestep\n",
    "- Initial Time Offset\n",
    "- Virtual Time Step Interval\n",
    "- Number of Steps"
   ]
  },
  {
   "cell_type": "code",
   "execution_count": 19,
   "metadata": {},
   "outputs": [
    {
     "name": "stdout",
     "output_type": "stream",
     "text": [
      "ground_truth Shape: (245760,).\n",
      "Preview: [0. 0. 0. ... 0. 0. 0.]\n",
      "init_offset:  1000\n",
      "virtual_time_step_interval:  1\n",
      "num_steps:  300\n"
     ]
    }
   ],
   "source": [
    "from utils.snn import SNNSimConfig\n",
    "\n",
    "# Load the SNN Config data\n",
    "snn_config_file_name = f\"{INPUT_PATH}/{band_file_name}_snn_config.npy\"\n",
    "\n",
    "# Load the SNNConfig data as an element of the class SNNConfig\n",
    "snn_config: SNNSimConfig = np.load(snn_config_file_name, allow_pickle=True).item()\n",
    "\n",
    "# Extract the data fields from the SNNConfig object\n",
    "ground_truth = snn_config.ground_truth\n",
    "init_offset = snn_config.init_offset\n",
    "virtual_time_step_interval = snn_config.virtual_time_step_interval\n",
    "num_steps = snn_config.num_steps\n",
    "\n",
    "preview_np_array(ground_truth, \"ground_truth\", edge_items=3)\n",
    "np.count_nonzero(ground_truth)\n",
    "\n",
    "print(\"init_offset: \", init_offset)\n",
    "print(\"virtual_time_step_interval: \", virtual_time_step_interval)\n",
    "print(\"num_steps: \", num_steps)"
   ]
  },
  {
   "cell_type": "markdown",
   "metadata": {},
   "source": [
    "## Find the timesteps where the network spiked\n",
    "Let's find the timesteps where the network spiked and create a `dictionary` mapping each feature neuron to the timesteps where it spiked."
   ]
  },
  {
   "cell_type": "code",
   "execution_count": 22,
   "metadata": {},
   "outputs": [
    {
     "name": "stdout",
     "output_type": "stream",
     "text": [
      "neuron_spike_times:  {0: [1007, 1017], 31: [1008], 5: [1009], 4: [1010], 47: [1011], 50: [1014], 121: [1018]}\n"
     ]
    }
   ],
   "source": [
    "from utils.data_analysis import find_spike_times\n",
    "\n",
    "# Create a map storing the spike times for each feature neuron\n",
    "neuron_spike_times = {}\n",
    "\n",
    "# Call the find_spike_times util function that detects the spikes in a voltage array\n",
    "spike_times_lif1 = find_spike_times(v_dynamics, u_dynamics)\n",
    "\n",
    "for (spike_time, neuron_idx) in spike_times_lif1:\n",
    "    # Calculate the spike time in ms\n",
    "    real_spike_time = init_offset + spike_time * virtual_time_step_interval\n",
    "\n",
    "    # If the neuron index is not in the map (first time the feature neuron spikes), add it\n",
    "    if neuron_idx not in neuron_spike_times:\n",
    "        neuron_spike_times[neuron_idx] = [real_spike_time]\n",
    "    # Otherwise, append the spike time to the list of spike times for that neuron\n",
    "    else:\n",
    "        neuron_spike_times[neuron_idx].append(real_spike_time)\n",
    "\n",
    "    # print(f\"Spike time: {real_spike_time} (iter. {spike_time}) at neuron: {neuron_idx}\")\n",
    "\n",
    "# Print the spike times for each feature neuron\n",
    "print(\"neuron_spike_times: \", neuron_spike_times)\n"
   ]
  },
  {
   "cell_type": "markdown",
   "metadata": {},
   "source": []
  }
 ],
 "metadata": {
  "kernelspec": {
   "display_name": "Python 3 (ipykernel)",
   "language": "python",
   "name": "python3"
  },
  "language_info": {
   "codemirror_mode": {
    "name": "ipython",
    "version": 3
   },
   "file_extension": ".py",
   "mimetype": "text/x-python",
   "name": "python",
   "nbconvert_exporter": "python",
   "pygments_lexer": "ipython3",
   "version": "3.10.12"
  }
 },
 "nbformat": 4,
 "nbformat_minor": 2
}
