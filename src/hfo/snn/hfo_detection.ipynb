{
 "cells": [
  {
   "cell_type": "markdown",
   "metadata": {},
   "source": [
    "# SNN that detects High Frequency Oscillations (HFOs) with constant parameters\n",
    "This notebook is a simple example of how to use a Spiking Neural Network (SNN) to detect HFOs\n",
    "\n",
    "### What is an HFO?\n",
    "High Frequency Oscillations (HFOs) are a type of brain activity that occurs in the range of 80-500 Hz. They are believed to be related to the generation of seizures in patients with epilepsy. The detection of HFOs is an important task in the diagnosis and treatment of epilepsy. \n",
    "\n",
    "In terms of electrophysiology, HFOs are characterized by their high frequency and short duration, often lasting only a few milliseconds. The wave of a typical HFO consists of at least 4 UP and DOWN waves."
   ]
  },
  {
   "cell_type": "code",
   "execution_count": 37,
   "metadata": {},
   "outputs": [
    {
     "name": "stdout",
     "output_type": "stream",
     "text": [
      "\u001b[0;31mInit signature:\u001b[0m \u001b[0mLIF\u001b[0m\u001b[0;34m(\u001b[0m\u001b[0;34m*\u001b[0m\u001b[0margs\u001b[0m\u001b[0;34m,\u001b[0m \u001b[0;34m**\u001b[0m\u001b[0mkwargs\u001b[0m\u001b[0;34m)\u001b[0m\u001b[0;34m\u001b[0m\u001b[0;34m\u001b[0m\u001b[0m\n",
      "\u001b[0;31mDocstring:\u001b[0m     \n",
      "Leaky-Integrate-and-Fire (LIF) neural Process.\n",
      "\n",
      "LIF dynamics abstracts to:\n",
      "u[t] = u[t-1] * (1-du) + a_in         # neuron current\n",
      "v[t] = v[t-1] * (1-dv) + u[t] + bias  # neuron voltage\n",
      "s_out = v[t] > vth                    # spike if threshold is exceeded\n",
      "v[t] = 0                              # reset at spike\n",
      "\n",
      "Parameters\n",
      "----------\n",
      "shape : tuple(int)\n",
      "    Number and topology of LIF neurons.\n",
      "u : float, list, numpy.ndarray, optional\n",
      "    Initial value of the neurons' current.\n",
      "v : float, list, numpy.ndarray, optional\n",
      "    Initial value of the neurons' voltage (membrane potential).\n",
      "du : float, optional\n",
      "    Inverse of decay time-constant for current decay. Currently, only a\n",
      "    single decay can be set for the entire population of neurons.\n",
      "dv : float, optional\n",
      "    Inverse of decay time-constant for voltage decay. Currently, only a\n",
      "    single decay can be set for the entire population of neurons.\n",
      "bias_mant : float, list, numpy.ndarray, optional\n",
      "    Mantissa part of neuron bias.\n",
      "bias_exp : float, list, numpy.ndarray, optional\n",
      "    Exponent part of neuron bias, if needed. Mostly for fixed point\n",
      "    implementations. Ignored for floating point implementations.\n",
      "vth : float, optional\n",
      "    Neuron threshold voltage, exceeding which, the neuron will spike.\n",
      "    Currently, only a single threshold can be set for the entire\n",
      "    population of neurons.\n",
      "\n",
      "Example\n",
      "-------\n",
      ">>> lif = LIF(shape=(200, 15), du=10, dv=5)\n",
      "This will create 200x15 LIF neurons that all have the same current decay\n",
      "of 10 and voltage decay of 5.\n",
      "\u001b[0;31mInit docstring:\u001b[0m Initializes a new Process.\n",
      "\u001b[0;31mFile:\u001b[0m           ~/Desktop/feup/thesis/thesis-lava/src/lava/proc/lif/process.py\n",
      "\u001b[0;31mType:\u001b[0m           ProcessPostInitCaller\n",
      "\u001b[0;31mSubclasses:\u001b[0m     LIFReset, LIFRefractory"
     ]
    }
   ],
   "source": [
    "from lava.proc.lif.process import LIF\n",
    "from lava.proc.dense.process import Dense\n",
    "import numpy as np\n",
    "\n",
    "LIF?"
   ]
  },
  {
   "cell_type": "markdown",
   "metadata": {},
   "source": [
    "### Check WD (change if necessary) and file loading"
   ]
  },
  {
   "cell_type": "code",
   "execution_count": 38,
   "metadata": {},
   "outputs": [
    {
     "name": "stdout",
     "output_type": "stream",
     "text": [
      "/home/monkin/Desktop/feup/thesis/thesis-lava/src/hfo/snn\n"
     ]
    }
   ],
   "source": [
    "# Show current directory\n",
    "import os\n",
    "curr_dir = os.getcwd()\n",
    "print(curr_dir)\n",
    "\n",
    "# Check if the current WD is the file location\n",
    "if \"/src/hfo/snn\" not in os.getcwd():\n",
    "    # Set working directory to this file location\n",
    "    file_location = f\"{os.getcwd()}/thesis-lava/src/hfo/snn\"\n",
    "    print(\"File Location: \", file_location)\n",
    "\n",
    "    # Change the current working Directory\n",
    "    os.chdir(file_location)\n",
    "\n",
    "    # New Working Directory\n",
    "    print(\"New Working Directory: \", os.getcwd())"
   ]
  },
  {
   "cell_type": "markdown",
   "metadata": {},
   "source": [
    "## Create the Custom Input Layer\n",
    "\n",
    "### Define function to read the input data from the csv file and generate the corresponding spike events"
   ]
  },
  {
   "cell_type": "code",
   "execution_count": 39,
   "metadata": {},
   "outputs": [],
   "source": [
    "import pandas as pd\n",
    "\n",
    "def read_spike_events(file_path: str):\n",
    "    \"\"\"Reads the spike events from the input file and returns them as a numpy array\n",
    "\n",
    "    Args:\n",
    "        file_path (str): name of the file containing the spike events\n",
    "    \"\"\"\n",
    "    spike_events = []\n",
    "\n",
    "    try:\n",
    "        # Read the spike events from the file\n",
    "        df = pd.read_csv(file_path, header=None)\n",
    "\n",
    "        # Detect errors\n",
    "        if df.empty:\n",
    "            raise Exception(\"The input file is empty\")\n",
    "\n",
    "        # Convert the scientific notation values to integers if any exist\n",
    "        df = df.applymap(lambda x: int(float(x)) if (isinstance(x, str) and 'e' in x) else x)\n",
    "\n",
    "        # Convert the dataframe to a numpy array\n",
    "        spike_events = df.to_numpy()\n",
    "        return spike_events[0]\n",
    "    except Exception as e:\n",
    "        print(\"Unable to read the input file: \", file_path, \" error:\", e)\n",
    "\n",
    "    return spike_events"
   ]
  },
  {
   "cell_type": "markdown",
   "metadata": {},
   "source": [
    "### Load the UP and DOWN spikes from the CSV Files"
   ]
  },
  {
   "cell_type": "code",
   "execution_count": 40,
   "metadata": {},
   "outputs": [
    {
     "name": "stdout",
     "output_type": "stream",
     "text": [
      "Spike Events Shape: (2799, 2).\n",
      "Preview: [[ 1.00195312e+03 -1.00000000e+00]\n",
      " [ 1.00244141e+03 -1.00000000e+00]\n",
      " [ 1.00537109e+03 -1.00000000e+00]\n",
      " [ 1.00585938e+03 -1.00000000e+00]\n",
      " [ 1.00830078e+03 -1.00000000e+00]\n",
      " ...\n",
      " [ 1.19008301e+05 -1.00000000e+00]\n",
      " [ 1.19008789e+05 -1.00000000e+00]\n",
      " [ 1.19012207e+05 -1.00000000e+00]\n",
      " [ 1.19015137e+05 -1.00000000e+00]\n",
      " [ 1.19015625e+05 -1.00000000e+00]]\n",
      "Spike Events Shape: (2735, 2).\n",
      "Preview: [[ 1.00097656e+03 -1.00000000e+00]\n",
      " [ 1.00390625e+03 -1.00000000e+00]\n",
      " [ 1.00683594e+03 -1.00000000e+00]\n",
      " [ 1.00732422e+03 -1.00000000e+00]\n",
      " [ 1.01074219e+03 -1.00000000e+00]\n",
      " ...\n",
      " [ 1.19006836e+05 -1.00000000e+00]\n",
      " [ 1.19010254e+05 -1.00000000e+00]\n",
      " [ 1.19013672e+05 -1.00000000e+00]\n",
      " [ 1.19014160e+05 -1.00000000e+00]\n",
      " [ 1.19016602e+05 -1.00000000e+00]]\n"
     ]
    }
   ],
   "source": [
    "from utils.input import read_spike_events\n",
    "from utils.io import preview_np_array\n",
    "\n",
    "# Define the path of the files containing the spike events\n",
    "INPUT_PATH = \"../signal_to_spike/results/custom_subset_90-119_segment500_200\"\n",
    "\n",
    "# Call the function to read the spike events\n",
    "up_spikes_file_path = f\"{INPUT_PATH}/fr_up_spike_train_3.csv\"\n",
    "up_spike_train = read_spike_events(up_spikes_file_path)\n",
    "\n",
    "down_spikes_file_path = f\"{INPUT_PATH}/fr_down_spike_train_-3.csv\"\n",
    "down_spike_train = read_spike_events(down_spikes_file_path)\n",
    "\n",
    "preview_np_array(up_spike_train, \"Spike Events\")\n",
    "preview_np_array(down_spike_train, \"Spike Events\")"
   ]
  },
  {
   "cell_type": "markdown",
   "metadata": {},
   "source": [
    "### Define the SpikeEvent Generator Interface"
   ]
  },
  {
   "cell_type": "code",
   "execution_count": 41,
   "metadata": {},
   "outputs": [],
   "source": [
    "from lava.magma.core.process.process import AbstractProcess\n",
    "from lava.magma.core.process.variable import Var\n",
    "from lava.magma.core.process.ports.ports import OutPort\n",
    "\n",
    "class SpikeEventGen(AbstractProcess):\n",
    "    \"\"\"Input Process that generates spike events based on the input file\n",
    "\n",
    "    Args:\n",
    "        @out_shape (tuple): Shape of the output port\n",
    "        @exc_spike_events (np.ndarray): Excitatory spike events\n",
    "        @inh_spike_event (np.ndarray): Inhibitory spike events\n",
    "        @name (str): Name of the process\n",
    "    \"\"\"\n",
    "    def __init__(self, out_shape: tuple, exc_spike_events: np.ndarray, inh_spike_event: np.ndarray, name: str) -> None:\n",
    "        super().__init__(name=name)\n",
    "        self.s_out = OutPort(shape=out_shape)\n",
    "        self.exc_spike_events = Var(shape=exc_spike_events.shape, init=exc_spike_events)\n",
    "        self.inh_spike_events = Var(shape=inh_spike_event.shape, init=inh_spike_event)\n"
   ]
  },
  {
   "cell_type": "markdown",
   "metadata": {},
   "source": [
    "## Define the Architecture of the Network"
   ]
  },
  {
   "cell_type": "code",
   "execution_count": 42,
   "metadata": {},
   "outputs": [],
   "source": [
    "# Define the number of neurons in the Input Spike Event Generator\n",
    "n_spike_gen = 2  # 2 neurons in the input spike event generator\n",
    "\n",
    "# Define the number of neurons in each LIF Layer\n",
    "n_lif1 = 256   # 256 neurons in the first LIF layer\n",
    "# n2 = 1  # 1 neuron in the second layer"
   ]
  },
  {
   "cell_type": "markdown",
   "metadata": {},
   "source": [
    "### Choose the LIF Models to use"
   ]
  },
  {
   "cell_type": "code",
   "execution_count": 43,
   "metadata": {},
   "outputs": [],
   "source": [
    "use_refractory = False"
   ]
  },
  {
   "cell_type": "markdown",
   "metadata": {},
   "source": [
    "### Define the LIF parameters"
   ]
  },
  {
   "cell_type": "code",
   "execution_count": 44,
   "metadata": {},
   "outputs": [],
   "source": [
    "# Constants for the LIF Process\n",
    "v_th = 1\n",
    "v_init = 0\n",
    "\n",
    "# LIF1 Process\n",
    "dv1 = 0.07\n",
    "du1 = 0.2  "
   ]
  },
  {
   "cell_type": "markdown",
   "metadata": {},
   "source": [
    "### Create the LIF Processes"
   ]
  },
  {
   "cell_type": "code",
   "execution_count": 45,
   "metadata": {},
   "outputs": [],
   "source": [
    "if not use_refractory:\n",
    "    # Create LIF1 process\n",
    "    lif1 = LIF(shape=(n_lif1,),  # There are 2 neurons\n",
    "            vth=v_th,  # TODO: Verify these initial values\n",
    "            v=v_init,\n",
    "            dv=dv1,    # Inverse of decay time-constant for voltage decay\n",
    "            du=du1,  # Inverse of decay time-constant for current decay\n",
    "            bias_mant=0,\n",
    "            bias_exp=0,\n",
    "            name=\"lif1\")"
   ]
  },
  {
   "cell_type": "markdown",
   "metadata": {},
   "source": [
    "### Create the Refractory LIF Processes"
   ]
  },
  {
   "cell_type": "code",
   "execution_count": 46,
   "metadata": {},
   "outputs": [],
   "source": [
    "from lava.proc.lif.process import LIFRefractory\n",
    "from lava.magma.core.process.process import LogConfig\n",
    "import logging\n",
    "\n",
    "# Constants for the Refractory LIF Process\n",
    "refrac_period = 20   # Number of time-steps for the refractory period\n",
    "\n",
    "if use_refractory:\n",
    "    # Create Refractory LIF1 process\n",
    "    lif1 = LIFRefractory(shape=(n_lif1,),  # There are 2 neurons\n",
    "            vth=v_th,  # TODO: Verify these initial values\n",
    "            v=v_init,\n",
    "            dv=dv1,    # Inverse of decay time-constant for voltage decay\n",
    "            du=du1,  # Inverse of decay time-constant for current decay\n",
    "            bias_mant=0,\n",
    "            bias_exp=0,\n",
    "            refractory_period=refrac_period,\n",
    "            name=\"lif1\",\n",
    "            # log_config=LogConfig(level=logging.DEBUG, level_console=logging.DEBUG, logs_to_file=False)\n",
    "            )"
   ]
  },
  {
   "cell_type": "markdown",
   "metadata": {},
   "source": [
    "### Create a `ConfigTimeConstantsLIF` object"
   ]
  },
  {
   "cell_type": "markdown",
   "metadata": {},
   "source": [
    "#### Define the time constants for the `ConfigTimeConstantsLIF` neurons\n",
    "The synapse time constants, corresponding to `du_exc` and `du_inh` will be different for each neuron in the LIF layer. Likewise, the excitatory and inhibitory time constants will also differ for each neuron in order to capture the dynamics of the HFOs."
   ]
  },
  {
   "cell_type": "code",
   "execution_count": 47,
   "metadata": {},
   "outputs": [
    {
     "name": "stdout",
     "output_type": "stream",
     "text": [
      "fr_IQR:  [0.3, 2.7]\n"
     ]
    }
   ],
   "source": [
    "from utils.neuron_dynamics import time_constant_to_fraction\n",
    "# Create the np arrays for the time constants of each neuron\n",
    "\n",
    "# For Fast-Ripples, the time constants of each neuron are drawn randomly from a normal distribution with an IQR of [0.3ms, 2.7ms]\n",
    "fr_IQR = [0.3, 2.7] # Inter-Quartile Range for the time constants of the Fast-Ripple neurons\n",
    "fr_mu = np.mean(fr_IQR)  # Midpoint of the IQR\n",
    "\n",
    "# Calculate the standard deviation of the normal distribution\n",
    "# For a normal distribution, the first quartile is ~0.675 standard deviations below the mean\n",
    "fr_std_dev = (fr_IQR[1] - fr_IQR[0]) / (2 * 0.675)  # standard deviation is the IQR divided by 2*0.675\n",
    "\n",
    "print(\"fr_IQR: \", fr_IQR)"
   ]
  },
  {
   "cell_type": "markdown",
   "metadata": {},
   "source": [
    "### Generate a random distribution of the Synaptic Excitatory time constants "
   ]
  },
  {
   "cell_type": "code",
   "execution_count": 48,
   "metadata": {},
   "outputs": [
    {
     "name": "stdout",
     "output_type": "stream",
     "text": [
      "Min and max time constants before: -3.029540451020713 6.301456538537549\n",
      "Min and max time constants after: 0.0013538311707543826 6.301456538537549\n"
     ]
    }
   ],
   "source": [
    "# Generate the time constants for the Fast-Ripple neurons\n",
    "exc_syn_time_constants = np.random.normal(fr_mu, fr_std_dev, n_lif1)\n",
    "# preview_np_array(exc_syn_time_constants, \"exc_syn_time_constants\", edge_items=10)\n",
    "print(\"Min and max time constants before:\", np.min(exc_syn_time_constants), np.max(exc_syn_time_constants))\n",
    "\n",
    "\n",
    "# Cannot have negative time constants. Make them 0 or positive?\n",
    "# exc_syn_time_constants = np.clip(exc_syn_time_constants, a_min=0, a_max=None)\n",
    "exc_syn_time_constants = np.abs(exc_syn_time_constants)\n",
    "print(\"Min and max time constants after:\", np.min(exc_syn_time_constants), np.max(exc_syn_time_constants))"
   ]
  },
  {
   "cell_type": "markdown",
   "metadata": {},
   "source": [
    "### The inhibitory time constants will be calculated from the excitatory time constants by subtracting a value in a range"
   ]
  },
  {
   "cell_type": "code",
   "execution_count": 49,
   "metadata": {},
   "outputs": [],
   "source": [
    "# Generate the inhibitory time constants by subtracting a random value in a range from the excitatory time constants\n",
    "\n",
    "# Generate the random values to subtract from the excitatory time constants\n",
    "inh_syn_offset = np.random.uniform(0.1, 1.0, n_lif1)\n",
    "\n",
    "# Subtract the random values from the excitatory time constants to get the inhibitory time constants\n",
    "inh_syn_time_constants = exc_syn_time_constants - inh_syn_offset\n",
    "\n",
    "# Clip the inhibitory time constants to be positive or equal to the minimum found excitatory time constant\n",
    "inh_syn_time_constants = np.clip(inh_syn_time_constants, a_min=np.min(exc_syn_time_constants), a_max=None)"
   ]
  },
  {
   "cell_type": "code",
   "execution_count": 50,
   "metadata": {},
   "outputs": [
    {
     "name": "stdout",
     "output_type": "stream",
     "text": [
      "exc_syn_time_constants_frac Shape: (256,).\n",
      "Preview: [0.45029325 0.95176756 0.23948269 0.62274209 0.80417329 ... 0.9256888\n",
      " 0.41206566 0.48072447 0.87449571 0.63495845]\n",
      "0.1467421314162416 1.0\n"
     ]
    }
   ],
   "source": [
    "# Convert the excitatory time constants to fractions (du_exc values) that are used in the LAVA Processes dynamics\n",
    "exc_syn_time_constants_frac = time_constant_to_fraction(exc_syn_time_constants)\n",
    "preview_np_array(exc_syn_time_constants_frac, \"exc_syn_time_constants_frac\", edge_items=5)\n",
    "print(np.min(exc_syn_time_constants_frac), np.max(exc_syn_time_constants_frac))\n"
   ]
  },
  {
   "cell_type": "code",
   "execution_count": 51,
   "metadata": {},
   "outputs": [
    {
     "name": "stdout",
     "output_type": "stream",
     "text": [
      "inh_syn_time_constants_frac Shape: (256,).\n",
      "Preview: [0.6196379  1.         0.29550108 0.74208317 0.969536   ... 1.\n",
      " 0.6570516  0.67430494 1.         0.99891833]\n",
      "0.15427254656524125 1.0\n"
     ]
    }
   ],
   "source": [
    "# Convert the inhibitory time constants to fractions (du_inh values) that are used in the LAVA Processes dynamics\n",
    "inh_syn_time_constants_frac = time_constant_to_fraction(inh_syn_time_constants)\n",
    "preview_np_array(inh_syn_time_constants_frac, \"inh_syn_time_constants_frac\", edge_items=5)\n",
    "print(np.min(inh_syn_time_constants_frac), np.max(inh_syn_time_constants_frac))\n"
   ]
  },
  {
   "cell_type": "code",
   "execution_count": 52,
   "metadata": {},
   "outputs": [
    {
     "name": "stdout",
     "output_type": "stream",
     "text": [
      "dv is scalar, converting to numpy array\n"
     ]
    },
    {
     "data": {
      "text/plain": [
       "Variable: du_exc\n",
       "    shape: (256,)\n",
       "    init: [0.45029325 0.95176756 0.23948269 0.62274209 0.80417329 ... 0.9256888\n",
       " 0.41206566 0.48072447 0.87449571 0.63495845]\n",
       "    shareable: True\n",
       "    value: [0.45029325 0.95176756 0.23948269 0.62274209 0.80417329 ... 0.9256888\n",
       " 0.41206566 0.48072447 0.87449571 0.63495845]"
      ]
     },
     "execution_count": 52,
     "metadata": {},
     "output_type": "execute_result"
    }
   ],
   "source": [
    "from lava.proc.lif.process import ConfigTimeConstantsLIF\n",
    "\n",
    "configLIF = ConfigTimeConstantsLIF(shape=(n_lif1,),  # There are 2 neurons\n",
    "            vth=v_th,  # TODO: Verify these initial values\n",
    "            v=v_init,\n",
    "            dv=dv1,    # Inverse of decay time-constant for voltage decay\n",
    "            du_exc=exc_syn_time_constants_frac,  # Inverse of decay time-constant for excitatory current decay\n",
    "            du_inh=inh_syn_time_constants_frac,  # Inverse of decay time-constant for inhibitory current decay\n",
    "            bias_mant=0,\n",
    "            bias_exp=0,\n",
    "            name=\"lif1\")\n",
    "\n",
    "configLIF.du_exc"
   ]
  },
  {
   "cell_type": "markdown",
   "metadata": {},
   "source": [
    "### Create the Dense Layers"
   ]
  },
  {
   "cell_type": "code",
   "execution_count": 53,
   "metadata": {},
   "outputs": [],
   "source": [
    "# Create Dense Process to connect the input layer and LIF1\n",
    "# create weights of the dense layer\n",
    "# dense_weights_input = np.eye(N=n1, M=n1)\n",
    "# Fully Connected Layer from n_spike_gen neurons to n_lif1 neurons\n",
    "dense_weights_input = np.ones(shape=(n_lif1, n_spike_gen))\n",
    "\n",
    "# Make the weights (synapses) connecting the odd-parity neurons of the input layer to the network negative (inhibitory)\n",
    "dense_weights_input[:, 1::2] *= -1\n",
    "\n",
    "# multiply the weights of the Dense layer by a constant\n",
    "weights_scale_input = 0.3\n",
    "dense_weights_input *= weights_scale_input\n",
    "dense_input = Dense(weights=np.array(dense_weights_input), name=\"DenseInput\")"
   ]
  },
  {
   "cell_type": "markdown",
   "metadata": {},
   "source": [
    "#### Look at the weights of the Dense Layers"
   ]
  },
  {
   "cell_type": "code",
   "execution_count": 54,
   "metadata": {},
   "outputs": [
    {
     "data": {
      "text/plain": [
       "array([[ 0.3, -0.3],\n",
       "       [ 0.3, -0.3],\n",
       "       [ 0.3, -0.3],\n",
       "       [ 0.3, -0.3],\n",
       "       [ 0.3, -0.3],\n",
       "       ...,\n",
       "       [ 0.3, -0.3],\n",
       "       [ 0.3, -0.3],\n",
       "       [ 0.3, -0.3],\n",
       "       [ 0.3, -0.3],\n",
       "       [ 0.3, -0.3]])"
      ]
     },
     "execution_count": 54,
     "metadata": {},
     "output_type": "execute_result"
    }
   ],
   "source": [
    "# Weights of the Input Dense Layer\n",
    "dense_input.weights.get()"
   ]
  },
  {
   "cell_type": "markdown",
   "metadata": {},
   "source": [
    "### Map the input channels to the corresponding indexes in the input layer\n",
    "Since the input channels in the input file may be of any number, we need to **map the input channels to the corresponding indexes in the input layer**. This is done by the `channel_map` dictionaries.\n",
    "\n",
    "The network expects an UP and DOWN spike train for each channel. Thusly, let's define 2 dictionaries, one for the UP spikes and one for the DOWN spikes. We want the UP and DOWN spike trains to be followed by each other in the input layer for each channel."
   ]
  },
  {
   "cell_type": "code",
   "execution_count": 55,
   "metadata": {},
   "outputs": [],
   "source": [
    "# Map the channels of the input file to the respective index in the output list of SpikeEventGen\n",
    "\n",
    "# Define the mapping of the channels of the UP spike train to the respective index in the output list of SpikeEventGen\n",
    "up_channel_map = {-1: 0}\n",
    "# Define the mapping of the channels of the DOWN spike train to the respective index in the output list of SpikeEventGen\n",
    "down_channel_map = {-1: 1}"
   ]
  },
  {
   "cell_type": "markdown",
   "metadata": {},
   "source": [
    "## Define constants related to the simulation time"
   ]
  },
  {
   "cell_type": "code",
   "execution_count": 56,
   "metadata": {},
   "outputs": [],
   "source": [
    "init_offset = 3400  # 33400      #   \n",
    "virtual_time_step_interval = 1  # TODO: Check if this should be the time-step value. it is not aligned with the sampling rate of the input data\n",
    "\n",
    "num_steps = 3000    # 200 # Number of steps to run the simulation"
   ]
  },
  {
   "cell_type": "markdown",
   "metadata": {},
   "source": [
    "### Implement the `SpikeEventGenerator` Model"
   ]
  },
  {
   "cell_type": "code",
   "execution_count": 57,
   "metadata": {},
   "outputs": [],
   "source": [
    "from lava.magma.core.model.py.model import PyLoihiProcessModel  # Processes running on CPU inherit from this class\n",
    "from lava.magma.core.resources import CPU\n",
    "from lava.magma.core.decorator import implements, requires\n",
    "from lava.magma.core.sync.protocols.loihi_protocol import LoihiProtocol\n",
    "from lava.magma.core.model.py.type import LavaPyType\n",
    "from lava.magma.core.model.py.ports import PyOutPort\n",
    "\n",
    "@implements(proc=SpikeEventGen, protocol=LoihiProtocol)\n",
    "@requires(CPU)\n",
    "class PySpikeEventGenModel(PyLoihiProcessModel):\n",
    "    \"\"\"Spike Event Generator Process implementation running on CPU (Python)\n",
    "    Args:\n",
    "    \"\"\"\n",
    "    s_out: PyOutPort = LavaPyType(PyOutPort.VEC_DENSE, float)   # IT IS POSSIBLE TO SEND FLOATS AFTER ALL\n",
    "    exc_spike_events: np.ndarray = LavaPyType(np.ndarray, np.ndarray)\n",
    "    inh_spike_events: np.ndarray = LavaPyType(np.ndarray, np.ndarray)\n",
    "\n",
    "    def __init__(self, proc_params) -> None:\n",
    "        super().__init__(proc_params=proc_params)\n",
    "        # print(\"spike events\", self.spike_events.__str__())    # TODO: Check why during initialization the variable prints the class, while during run it prints the value\n",
    "        self.curr_exc_idx = 0     # Index of the next excitatory spiking event to send\n",
    "        self.curr_inh_idx = 0     # Index of the next inhibitory spiking event to send\n",
    "        self.virtual_time_step_interval = virtual_time_step_interval  # 1000    # Arbitrary time between time steps (in microseconds). This is not a real time interval (1000ms = 1s)\n",
    "        self.init_offset = init_offset        # 698995               # Arbitrary offset to start the simulation (in microseconds)\n",
    "\n",
    "    def run_spk(self) -> None:\n",
    "        spike_data = np.zeros(self.s_out.shape) # Initialize the spike data to 0\n",
    "        \n",
    "        #print(\"time step:\", self.time_step)\n",
    "\n",
    "        # If the current simulation time is greater than a spike event, send a spike in the corresponding channel\n",
    "        currTime = self.init_offset + self.time_step*self.virtual_time_step_interval\n",
    "\n",
    "        spiking_channels = set()   # List of channels that will spike in the current time step\n",
    "\n",
    "        # Add the excitatory spike events to the spike_date\n",
    "        while (self.curr_exc_idx < len(self.exc_spike_events)) and currTime >= self.exc_spike_events[self.curr_exc_idx][0]:\n",
    "            # Get the channel of the current spike event\n",
    "            curr_channel = self.exc_spike_events[self.curr_exc_idx][1]\n",
    "\n",
    "            # Check if the channel is valid (belongs to a channel in the up_channel_map therefore it has an output index)\n",
    "            if curr_channel not in up_channel_map:\n",
    "                self.curr_exc_idx += 1\n",
    "                continue    # Skip the current spike event\n",
    "\n",
    "            # Check if the next spike belongs to a channel that will already spike in this time step\n",
    "            # If so, we don't add the event and stop looking for more events\n",
    "            if curr_channel in spiking_channels:\n",
    "                break\n",
    "\n",
    "            # Add the channel to the list of spiking channels\n",
    "            spiking_channels.add(curr_channel)\n",
    "\n",
    "            # Get the output index of the current channel according to the up_channel_map\n",
    "            out_idx = up_channel_map[curr_channel]\n",
    "            if out_idx < self.s_out.shape[0]:   # Check if the channel is valid\n",
    "                # Update the spike_data with the excitatory spike event (value = 1.0)\n",
    "                spike_data[out_idx] = 1.0   # Send spike (value corresponds to the punctual current of the spike event)\n",
    "\n",
    "            # Move to the next spike event\n",
    "            self.curr_exc_idx += 1\n",
    "\n",
    "        # Add the inhibitory spike events to the spike_date\n",
    "        while (self.curr_inh_idx < len(self.inh_spike_events)) and currTime >= self.inh_spike_events[self.curr_inh_idx][0]:\n",
    "            # Get the channel of the current spike event\n",
    "            curr_channel = self.inh_spike_events[self.curr_inh_idx][1]\n",
    "\n",
    "            # Check if the channel is valid (belongs to a channel in the down_channel_map therefore it has an output index)\n",
    "            if curr_channel not in down_channel_map:\n",
    "                self.curr_inh_idx += 1\n",
    "                continue    # Skip the current spike event\n",
    "\n",
    "            # Check if the next spike belongs to a channel that will already spike in this time step\n",
    "            # If so, we don't add the event and stop looking for more events\n",
    "            if curr_channel in spiking_channels:\n",
    "                break\n",
    "\n",
    "            # Add the channel to the list of spiking channels\n",
    "            spiking_channels.add(curr_channel)\n",
    "\n",
    "            # Get the output index of the current channel according to the down_channel_map\n",
    "            out_idx = down_channel_map[curr_channel]\n",
    "            if out_idx < self.s_out.shape[0]:   # Check if the channel is valid\n",
    "                # It is not possible to send negative values or floats in the spike_data. The weight of the synapse should do the inhibition\n",
    "                spike_data[out_idx] = 1.0   # Send spike (value corresponds to the punctual current of the spike event)\n",
    "\n",
    "            # Move to the next spike event\n",
    "            self.curr_inh_idx += 1\n",
    "\n",
    "\n",
    "        if len(spiking_channels) > 0:   # Print the spike event if there are any spikes\n",
    "            print(f\"\"\"Sending spike event at time: {currTime}({self.time_step}). Last (E/I) spike idx: {self.curr_exc_idx-1}/{self.curr_inh_idx-1}\n",
    "                Spike times: {self.exc_spike_events[self.curr_exc_idx-1][0] if self.curr_exc_idx > 0 else \"?\"}/\\\n",
    "{self.inh_spike_events[self.curr_inh_idx-1][0] if self.curr_inh_idx > 0 else \"?\"}\n",
    "                Spike_data: {spike_data}\\n\"\"\")\n",
    "\n",
    "        # Send spikes if self.curr_exc_idx > 0 else \"?\"\n",
    "        # print(\"sending spike_data: \", spike_data, \" at step: \", self.time_step)\n",
    "        self.s_out.send(spike_data)\n",
    "\n",
    "        # Stop the Process if there are no more spike events to send. (It will stop all the connected processes)\n",
    "        # TODO: Should it be another process that stops the simulation? Such as the last LIF process\n",
    "        # if self.curr_spike_idx >= 5: # len(self.spike_events):\n",
    "        #    self.pause()"
   ]
  },
  {
   "cell_type": "markdown",
   "metadata": {},
   "source": [
    "## Connect the Layers\n",
    "To define the connectivity between the `SpikeGenerator` and the first `LIF` population, we use another `Dense` Layer."
   ]
  },
  {
   "cell_type": "code",
   "execution_count": 58,
   "metadata": {},
   "outputs": [],
   "source": [
    "# Create the Input Process\n",
    "spike_event_gen = SpikeEventGen(out_shape=(n_spike_gen,), exc_spike_events=up_spike_train, inh_spike_event=down_spike_train, name=\"SpikeEventsGenerator\")\n",
    "\n",
    "# If I connect the SpikeEventGen to the Dense Layer, the a_out value of the custom input will be rounded to 0 or 1 in the Dense Layer (it will not be a float) \n",
    "# However, setting the Dense weights to a float works instead\n",
    "# Connect the SpikeEventGen to the Dense Layer\n",
    "spike_event_gen.s_out.connect(dense_input.s_in)\n",
    "\n",
    "# Connect the Dense_Input to the LIF1 Layer\n",
    "dense_input.a_out.connect(configLIF.a_in)"
   ]
  },
  {
   "cell_type": "markdown",
   "metadata": {},
   "source": [
    "### Take a look at the connections in the Input Layer"
   ]
  },
  {
   "cell_type": "code",
   "execution_count": 59,
   "metadata": {},
   "outputs": [
    {
     "name": "stdout",
     "output_type": "stream",
     "text": [
      "Proc: SpikeEventsGenerator Port Name: s_out Size: 2\n",
      "Proc: DenseInput Port Name: s_in  Size: 2\n",
      "Proc: DenseInput Port Name: a_out Size: 256\n",
      "Proc: lif1  Port Name: a_in  Size: 256\n",
      "Proc: lif1  Port Name: s_out Size: 256\n"
     ]
    }
   ],
   "source": [
    "for proc in [spike_event_gen, dense_input, configLIF]:\n",
    "    for port in proc.in_ports:\n",
    "        print(f\"Proc: {proc.name:<5} Port Name: {port.name:<5} Size: {port.size}\")\n",
    "    for port in proc.out_ports:\n",
    "        print(f\"Proc: {proc.name:<5} Port Name: {port.name:<5} Size: {port.size}\")"
   ]
  },
  {
   "cell_type": "markdown",
   "metadata": {},
   "source": [
    "### Record Internal Vars over time\n",
    "To record the evolution of the internal variables over time, we need a `Monitor`. For this example, we want to record the membrane potential of the `LIF` Layer, hence we need 1 `Monitors`.\n",
    "\n",
    "We can define the `Var` that a `Monitor` should record, as well as the recording duration, using the `probe` function"
   ]
  },
  {
   "cell_type": "code",
   "execution_count": 60,
   "metadata": {},
   "outputs": [],
   "source": [
    "from lava.proc.monitor.process import Monitor\n",
    "\n",
    "monitor_lif1_v = Monitor()\n",
    "monitor_lif1_u = Monitor()\n",
    "\n",
    "# Connect the monitors to the variables we want to monitor\n",
    "monitor_lif1_v.probe(configLIF.v, num_steps)\n",
    "monitor_lif1_u.probe(configLIF.u, num_steps)  # Monitoring the net_current (u_exc + u_inh) of the LIF1 Process"
   ]
  },
  {
   "cell_type": "markdown",
   "metadata": {},
   "source": [
    "## Execution\n",
    "Now that we have defined the network, we can execute it. We will use the `run` function to execute the network."
   ]
  },
  {
   "cell_type": "markdown",
   "metadata": {},
   "source": [
    "### Run Configuration and Conditions"
   ]
  },
  {
   "cell_type": "code",
   "execution_count": 61,
   "metadata": {},
   "outputs": [],
   "source": [
    "from lava.magma.core.run_conditions import RunContinuous, RunSteps\n",
    "from lava.magma.core.run_configs import Loihi1SimCfg\n",
    "\n",
    "# run_condition = RunContinuous()   # TODO: Change to this one\n",
    "run_condition = RunSteps(num_steps=num_steps)\n",
    "run_cfg = Loihi1SimCfg(select_tag=\"floating_pt\")   # TODO: Check why we need this select_tag=\"floating_pt\""
   ]
  },
  {
   "cell_type": "markdown",
   "metadata": {},
   "source": [
    "### Execute"
   ]
  },
  {
   "cell_type": "code",
   "execution_count": 62,
   "metadata": {},
   "outputs": [
    {
     "name": "stdout",
     "output_type": "stream",
     "text": [
      "Sending spike event at time: 3401(1). Last (E/I) spike idx: 0/-1\n",
      "                Spike times: 1001.953125/?\n",
      "                Spike_data: [1. 0.]\n",
      "\n",
      "Sending spike event at time: 3402(2). Last (E/I) spike idx: 1/-1\n",
      "                Spike times: 1002.44140625/?\n",
      "                Spike_data: [1. 0.]\n",
      "\n",
      "Sending spike event at time: 3403(3). Last (E/I) spike idx: 2/-1\n",
      "                Spike times: 1005.37109375/?\n",
      "                Spike_data: [1. 0.]\n",
      "\n",
      "Sending spike event at time: 3404(4). Last (E/I) spike idx: 3/-1\n",
      "                Spike times: 1005.859375/?\n",
      "                Spike_data: [1. 0.]\n",
      "\n",
      "Sending spike event at time: 3405(5). Last (E/I) spike idx: 4/-1\n",
      "                Spike times: 1008.30078125/?\n",
      "                Spike_data: [1. 0.]\n",
      "\n",
      "Sending spike event at time: 3406(6). Last (E/I) spike idx: 5/-1\n",
      "                Spike times: 1008.7890625/?\n",
      "                Spike_data: [1. 0.]\n",
      "\n",
      "Sending spike event at time: 3407(7). Last (E/I) spike idx: 6/-1\n",
      "                Spike times: 1012.6953125/?\n",
      "                Spike_data: [1. 0.]\n",
      "\n",
      "Sending spike event at time: 3408(8). Last (E/I) spike idx: 7/-1\n",
      "                Spike times: 1015.625/?\n",
      "                Spike_data: [1. 0.]\n",
      "\n",
      "Sending spike event at time: 3409(9). Last (E/I) spike idx: 8/-1\n",
      "                Spike times: 1016.11328125/?\n",
      "                Spike_data: [1. 0.]\n",
      "\n",
      "Sending spike event at time: 3410(10). Last (E/I) spike idx: 9/-1\n",
      "                Spike times: 1020.5078125/?\n",
      "                Spike_data: [1. 0.]\n",
      "\n",
      "Sending spike event at time: 3411(11). Last (E/I) spike idx: 10/-1\n",
      "                Spike times: 1024.4140625/?\n",
      "                Spike_data: [1. 0.]\n",
      "\n",
      "Sending spike event at time: 3412(12). Last (E/I) spike idx: 11/-1\n",
      "                Spike times: 3199.21875/?\n",
      "                Spike_data: [1. 0.]\n",
      "\n",
      "Sending spike event at time: 3413(13). Last (E/I) spike idx: 12/-1\n",
      "                Spike times: 3201.66015625/?\n",
      "                Spike_data: [1. 0.]\n",
      "\n",
      "Sending spike event at time: 3414(14). Last (E/I) spike idx: 13/-1\n",
      "                Spike times: 3206.54296875/?\n",
      "                Spike_data: [1. 0.]\n",
      "\n",
      "Sending spike event at time: 3415(15). Last (E/I) spike idx: 14/-1\n",
      "                Spike times: 3208.984375/?\n",
      "                Spike_data: [1. 0.]\n",
      "\n",
      "Sending spike event at time: 3416(16). Last (E/I) spike idx: 15/-1\n",
      "                Spike times: 3211.42578125/?\n",
      "                Spike_data: [1. 0.]\n",
      "\n",
      "Sending spike event at time: 3417(17). Last (E/I) spike idx: 16/-1\n",
      "                Spike times: 3214.35546875/?\n",
      "                Spike_data: [1. 0.]\n",
      "\n",
      "Sending spike event at time: 3418(18). Last (E/I) spike idx: 17/-1\n",
      "                Spike times: 3217.28515625/?\n",
      "                Spike_data: [1. 0.]\n",
      "\n",
      "Sending spike event at time: 3419(19). Last (E/I) spike idx: 18/-1\n",
      "                Spike times: 3220.21484375/?\n",
      "                Spike_data: [1. 0.]\n",
      "\n",
      "Sending spike event at time: 3420(20). Last (E/I) spike idx: 19/-1\n",
      "                Spike times: 3220.703125/?\n",
      "                Spike_data: [1. 0.]\n",
      "\n",
      "Sending spike event at time: 3421(21). Last (E/I) spike idx: 20/-1\n",
      "                Spike times: 3224.12109375/?\n",
      "                Spike_data: [1. 0.]\n",
      "\n",
      "Sending spike event at time: 3422(22). Last (E/I) spike idx: 21/-1\n",
      "                Spike times: 3224.609375/?\n",
      "                Spike_data: [1. 0.]\n",
      "\n",
      "Sending spike event at time: 3423(23). Last (E/I) spike idx: 22/-1\n",
      "                Spike times: 3227.5390625/?\n",
      "                Spike_data: [1. 0.]\n",
      "\n",
      "Sending spike event at time: 3424(24). Last (E/I) spike idx: 23/-1\n",
      "                Spike times: 3228.02734375/?\n",
      "                Spike_data: [1. 0.]\n",
      "\n",
      "Sending spike event at time: 3425(25). Last (E/I) spike idx: 24/-1\n",
      "                Spike times: 3231.93359375/?\n",
      "                Spike_data: [1. 0.]\n",
      "\n",
      "Sending spike event at time: 3426(26). Last (E/I) spike idx: 25/-1\n",
      "                Spike times: 3236.328125/?\n",
      "                Spike_data: [1. 0.]\n",
      "\n",
      "Sending spike event at time: 3427(27). Last (E/I) spike idx: 25/0\n",
      "                Spike times: 3236.328125/1000.9765625\n",
      "                Spike_data: [0. 1.]\n",
      "\n",
      "Sending spike event at time: 3428(28). Last (E/I) spike idx: 25/1\n",
      "                Spike times: 3236.328125/1003.90625\n",
      "                Spike_data: [0. 1.]\n",
      "\n",
      "Sending spike event at time: 3429(29). Last (E/I) spike idx: 25/2\n",
      "                Spike times: 3236.328125/1006.8359375\n",
      "                Spike_data: [0. 1.]\n",
      "\n",
      "Sending spike event at time: 3430(30). Last (E/I) spike idx: 25/3\n",
      "                Spike times: 3236.328125/1007.32421875\n",
      "                Spike_data: [0. 1.]\n",
      "\n",
      "Sending spike event at time: 3431(31). Last (E/I) spike idx: 25/4\n",
      "                Spike times: 3236.328125/1010.7421875\n",
      "                Spike_data: [0. 1.]\n",
      "\n",
      "Sending spike event at time: 3432(32). Last (E/I) spike idx: 25/5\n",
      "                Spike times: 3236.328125/1014.16015625\n",
      "                Spike_data: [0. 1.]\n",
      "\n",
      "Sending spike event at time: 3433(33). Last (E/I) spike idx: 25/6\n",
      "                Spike times: 3236.328125/1014.6484375\n",
      "                Spike_data: [0. 1.]\n",
      "\n",
      "Sending spike event at time: 3434(34). Last (E/I) spike idx: 25/7\n",
      "                Spike times: 3236.328125/1017.578125\n",
      "                Spike_data: [0. 1.]\n",
      "\n",
      "Sending spike event at time: 3435(35). Last (E/I) spike idx: 25/8\n",
      "                Spike times: 3236.328125/1021.484375\n",
      "                Spike_data: [0. 1.]\n",
      "\n",
      "Sending spike event at time: 3436(36). Last (E/I) spike idx: 25/9\n",
      "                Spike times: 3236.328125/1025.390625\n",
      "                Spike_data: [0. 1.]\n",
      "\n",
      "Sending spike event at time: 3437(37). Last (E/I) spike idx: 25/10\n",
      "                Spike times: 3236.328125/3200.68359375\n",
      "                Spike_data: [0. 1.]\n",
      "\n",
      "Sending spike event at time: 3438(38). Last (E/I) spike idx: 25/11\n",
      "                Spike times: 3236.328125/3205.56640625\n",
      "                Spike_data: [0. 1.]\n",
      "\n",
      "Sending spike event at time: 3439(39). Last (E/I) spike idx: 25/12\n",
      "                Spike times: 3236.328125/3208.0078125\n",
      "                Spike_data: [0. 1.]\n",
      "\n",
      "Sending spike event at time: 3440(40). Last (E/I) spike idx: 25/13\n",
      "                Spike times: 3236.328125/3210.44921875\n",
      "                Spike_data: [0. 1.]\n",
      "\n",
      "Sending spike event at time: 3441(41). Last (E/I) spike idx: 25/14\n",
      "                Spike times: 3236.328125/3212.890625\n",
      "                Spike_data: [0. 1.]\n",
      "\n",
      "Sending spike event at time: 3442(42). Last (E/I) spike idx: 25/15\n",
      "                Spike times: 3236.328125/3215.8203125\n",
      "                Spike_data: [0. 1.]\n",
      "\n",
      "Sending spike event at time: 3443(43). Last (E/I) spike idx: 25/16\n",
      "                Spike times: 3236.328125/3218.75\n",
      "                Spike_data: [0. 1.]\n",
      "\n",
      "Sending spike event at time: 3444(44). Last (E/I) spike idx: 25/17\n",
      "                Spike times: 3236.328125/3219.23828125\n",
      "                Spike_data: [0. 1.]\n",
      "\n",
      "Sending spike event at time: 3445(45). Last (E/I) spike idx: 25/18\n",
      "                Spike times: 3236.328125/3222.65625\n",
      "                Spike_data: [0. 1.]\n",
      "\n",
      "Sending spike event at time: 3446(46). Last (E/I) spike idx: 25/19\n",
      "                Spike times: 3236.328125/3226.07421875\n",
      "                Spike_data: [0. 1.]\n",
      "\n",
      "Sending spike event at time: 3447(47). Last (E/I) spike idx: 25/20\n",
      "                Spike times: 3236.328125/3226.5625\n",
      "                Spike_data: [0. 1.]\n",
      "\n",
      "Sending spike event at time: 3448(48). Last (E/I) spike idx: 25/21\n",
      "                Spike times: 3236.328125/3229.98046875\n",
      "                Spike_data: [0. 1.]\n",
      "\n",
      "Sending spike event at time: 3449(49). Last (E/I) spike idx: 25/22\n",
      "                Spike times: 3236.328125/3233.88671875\n",
      "                Spike_data: [0. 1.]\n",
      "\n",
      "Sending spike event at time: 3450(50). Last (E/I) spike idx: 25/23\n",
      "                Spike times: 3236.328125/3237.3046875\n",
      "                Spike_data: [0. 1.]\n",
      "\n",
      "Sending spike event at time: 3758(358). Last (E/I) spike idx: 26/23\n",
      "                Spike times: 3757.32421875/3237.3046875\n",
      "                Spike_data: [1. 0.]\n",
      "\n",
      "Sending spike event at time: 3759(359). Last (E/I) spike idx: 26/24\n",
      "                Spike times: 3757.32421875/3758.30078125\n",
      "                Spike_data: [0. 1.]\n",
      "\n",
      "Sending spike event at time: 3761(361). Last (E/I) spike idx: 27/24\n",
      "                Spike times: 3760.25390625/3758.30078125\n",
      "                Spike_data: [1. 0.]\n",
      "\n",
      "Sending spike event at time: 3762(362). Last (E/I) spike idx: 27/25\n",
      "                Spike times: 3760.25390625/3761.23046875\n",
      "                Spike_data: [0. 1.]\n",
      "\n",
      "Sending spike event at time: 3763(363). Last (E/I) spike idx: 28/25\n",
      "                Spike times: 3762.6953125/3761.23046875\n",
      "                Spike_data: [1. 0.]\n",
      "\n",
      "Sending spike event at time: 3764(364). Last (E/I) spike idx: 28/26\n",
      "                Spike times: 3762.6953125/3763.671875\n",
      "                Spike_data: [0. 1.]\n",
      "\n",
      "Sending spike event at time: 3765(365). Last (E/I) spike idx: 29/26\n",
      "                Spike times: 3764.6484375/3763.671875\n",
      "                Spike_data: [1. 0.]\n",
      "\n",
      "Sending spike event at time: 3767(367). Last (E/I) spike idx: 29/27\n",
      "                Spike times: 3764.6484375/3766.11328125\n",
      "                Spike_data: [0. 1.]\n",
      "\n",
      "Sending spike event at time: 3768(368). Last (E/I) spike idx: 30/27\n",
      "                Spike times: 3767.08984375/3766.11328125\n",
      "                Spike_data: [1. 0.]\n",
      "\n",
      "Sending spike event at time: 3769(369). Last (E/I) spike idx: 30/28\n",
      "                Spike times: 3767.08984375/3768.5546875\n",
      "                Spike_data: [0. 1.]\n",
      "\n",
      "Sending spike event at time: 3770(370). Last (E/I) spike idx: 31/28\n",
      "                Spike times: 3769.53125/3768.5546875\n",
      "                Spike_data: [1. 0.]\n",
      "\n",
      "Sending spike event at time: 3771(371). Last (E/I) spike idx: 31/29\n",
      "                Spike times: 3769.53125/3770.99609375\n",
      "                Spike_data: [0. 1.]\n",
      "\n",
      "Sending spike event at time: 3773(373). Last (E/I) spike idx: 32/29\n",
      "                Spike times: 3772.4609375/3770.99609375\n",
      "                Spike_data: [1. 0.]\n",
      "\n",
      "Sending spike event at time: 3774(374). Last (E/I) spike idx: 32/30\n",
      "                Spike times: 3772.4609375/3773.92578125\n",
      "                Spike_data: [0. 1.]\n",
      "\n",
      "Sending spike event at time: 3776(376). Last (E/I) spike idx: 33/30\n",
      "                Spike times: 3775.390625/3773.92578125\n",
      "                Spike_data: [1. 0.]\n",
      "\n",
      "Sending spike event at time: 3777(377). Last (E/I) spike idx: 34/30\n",
      "                Spike times: 3775.87890625/3773.92578125\n",
      "                Spike_data: [1. 0.]\n",
      "\n",
      "Sending spike event at time: 3778(378). Last (E/I) spike idx: 34/31\n",
      "                Spike times: 3775.87890625/3776.85546875\n",
      "                Spike_data: [0. 1.]\n",
      "\n",
      "Sending spike event at time: 3779(379). Last (E/I) spike idx: 35/31\n",
      "                Spike times: 3778.3203125/3776.85546875\n",
      "                Spike_data: [1. 0.]\n",
      "\n",
      "Sending spike event at time: 3780(380). Last (E/I) spike idx: 36/31\n",
      "                Spike times: 3779.296875/3776.85546875\n",
      "                Spike_data: [1. 0.]\n",
      "\n",
      "Sending spike event at time: 3781(381). Last (E/I) spike idx: 36/32\n",
      "                Spike times: 3779.296875/3777.34375\n",
      "                Spike_data: [0. 1.]\n",
      "\n",
      "Sending spike event at time: 3782(382). Last (E/I) spike idx: 36/33\n",
      "                Spike times: 3779.296875/3780.76171875\n",
      "                Spike_data: [0. 1.]\n",
      "\n",
      "Sending spike event at time: 3783(383). Last (E/I) spike idx: 37/33\n",
      "                Spike times: 3782.2265625/3780.76171875\n",
      "                Spike_data: [1. 0.]\n",
      "\n",
      "Sending spike event at time: 3784(384). Last (E/I) spike idx: 38/33\n",
      "                Spike times: 3782.71484375/3780.76171875\n",
      "                Spike_data: [1. 0.]\n",
      "\n",
      "Sending spike event at time: 3785(385). Last (E/I) spike idx: 38/34\n",
      "                Spike times: 3782.71484375/3781.25\n",
      "                Spike_data: [0. 1.]\n",
      "\n",
      "Sending spike event at time: 3786(386). Last (E/I) spike idx: 38/35\n",
      "                Spike times: 3782.71484375/3784.1796875\n",
      "                Spike_data: [0. 1.]\n",
      "\n",
      "Sending spike event at time: 3787(387). Last (E/I) spike idx: 39/35\n",
      "                Spike times: 3786.1328125/3784.1796875\n",
      "                Spike_data: [1. 0.]\n",
      "\n",
      "Sending spike event at time: 3788(388). Last (E/I) spike idx: 39/36\n",
      "                Spike times: 3786.1328125/3787.59765625\n",
      "                Spike_data: [0. 1.]\n",
      "\n",
      "Sending spike event at time: 3791(391). Last (E/I) spike idx: 40/36\n",
      "                Spike times: 3790.52734375/3787.59765625\n",
      "                Spike_data: [1. 0.]\n",
      "\n",
      "Sending spike event at time: 3792(392). Last (E/I) spike idx: 40/37\n",
      "                Spike times: 3790.52734375/3791.9921875\n",
      "                Spike_data: [0. 1.]\n",
      "\n",
      "Sending spike event at time: 3795(395). Last (E/I) spike idx: 41/37\n",
      "                Spike times: 3794.43359375/3791.9921875\n",
      "                Spike_data: [1. 0.]\n",
      "\n",
      "Sending spike event at time: 3796(396). Last (E/I) spike idx: 41/38\n",
      "                Spike times: 3794.43359375/3795.41015625\n",
      "                Spike_data: [0. 1.]\n",
      "\n",
      "Sending spike event at time: 4123(723). Last (E/I) spike idx: 42/38\n",
      "                Spike times: 4122.0703125/3795.41015625\n",
      "                Spike_data: [1. 0.]\n",
      "\n",
      "Sending spike event at time: 4124(724). Last (E/I) spike idx: 42/39\n",
      "                Spike times: 4122.0703125/4123.53515625\n",
      "                Spike_data: [0. 1.]\n",
      "\n",
      "Sending spike event at time: 4125(725). Last (E/I) spike idx: 43/39\n",
      "                Spike times: 4124.51171875/4123.53515625\n",
      "                Spike_data: [1. 0.]\n",
      "\n",
      "Sending spike event at time: 4126(726). Last (E/I) spike idx: 43/40\n",
      "                Spike times: 4124.51171875/4125.9765625\n",
      "                Spike_data: [0. 1.]\n",
      "\n",
      "Sending spike event at time: 4127(727). Last (E/I) spike idx: 44/40\n",
      "                Spike times: 4126.953125/4125.9765625\n",
      "                Spike_data: [1. 0.]\n",
      "\n",
      "Sending spike event at time: 4129(729). Last (E/I) spike idx: 44/41\n",
      "                Spike times: 4126.953125/4128.41796875\n",
      "                Spike_data: [0. 1.]\n",
      "\n",
      "Sending spike event at time: 4130(730). Last (E/I) spike idx: 45/41\n",
      "                Spike times: 4129.39453125/4128.41796875\n",
      "                Spike_data: [1. 0.]\n",
      "\n",
      "Sending spike event at time: 4131(731). Last (E/I) spike idx: 45/42\n",
      "                Spike times: 4129.39453125/4130.859375\n",
      "                Spike_data: [0. 1.]\n",
      "\n",
      "Sending spike event at time: 4132(732). Last (E/I) spike idx: 46/42\n",
      "                Spike times: 4131.8359375/4130.859375\n",
      "                Spike_data: [1. 0.]\n",
      "\n",
      "Sending spike event at time: 4133(733). Last (E/I) spike idx: 46/43\n",
      "                Spike times: 4131.8359375/4132.8125\n",
      "                Spike_data: [0. 1.]\n",
      "\n",
      "Sending spike event at time: 4135(735). Last (E/I) spike idx: 47/43\n",
      "                Spike times: 4134.27734375/4132.8125\n",
      "                Spike_data: [1. 0.]\n",
      "\n",
      "Sending spike event at time: 4136(736). Last (E/I) spike idx: 47/44\n",
      "                Spike times: 4134.27734375/4135.7421875\n",
      "                Spike_data: [0. 1.]\n",
      "\n",
      "Sending spike event at time: 4138(738). Last (E/I) spike idx: 48/44\n",
      "                Spike times: 4137.20703125/4135.7421875\n",
      "                Spike_data: [1. 0.]\n",
      "\n",
      "Sending spike event at time: 4139(739). Last (E/I) spike idx: 48/45\n",
      "                Spike times: 4137.20703125/4138.671875\n",
      "                Spike_data: [0. 1.]\n",
      "\n",
      "Sending spike event at time: 4141(741). Last (E/I) spike idx: 49/45\n",
      "                Spike times: 4140.13671875/4138.671875\n",
      "                Spike_data: [1. 0.]\n",
      "\n",
      "Sending spike event at time: 4142(742). Last (E/I) spike idx: 50/45\n",
      "                Spike times: 4140.625/4138.671875\n",
      "                Spike_data: [1. 0.]\n",
      "\n",
      "Sending spike event at time: 4143(743). Last (E/I) spike idx: 50/46\n",
      "                Spike times: 4140.625/4141.6015625\n",
      "                Spike_data: [0. 1.]\n",
      "\n",
      "Sending spike event at time: 4144(744). Last (E/I) spike idx: 51/46\n",
      "                Spike times: 4143.06640625/4141.6015625\n",
      "                Spike_data: [1. 0.]\n",
      "\n",
      "Sending spike event at time: 4145(745). Last (E/I) spike idx: 52/46\n",
      "                Spike times: 4143.5546875/4141.6015625\n",
      "                Spike_data: [1. 0.]\n",
      "\n",
      "Sending spike event at time: 4146(746). Last (E/I) spike idx: 52/47\n",
      "                Spike times: 4143.5546875/4142.08984375\n",
      "                Spike_data: [0. 1.]\n",
      "\n",
      "Sending spike event at time: 4147(747). Last (E/I) spike idx: 53/47\n",
      "                Spike times: 4146.97265625/4142.08984375\n",
      "                Spike_data: [1. 0.]\n",
      "\n",
      "Sending spike event at time: 4148(748). Last (E/I) spike idx: 54/47\n",
      "                Spike times: 4147.4609375/4142.08984375\n",
      "                Spike_data: [1. 0.]\n",
      "\n",
      "Sending spike event at time: 4149(749). Last (E/I) spike idx: 54/48\n",
      "                Spike times: 4147.4609375/4145.5078125\n",
      "                Spike_data: [0. 1.]\n",
      "\n",
      "Sending spike event at time: 4150(750). Last (E/I) spike idx: 54/49\n",
      "                Spike times: 4147.4609375/4148.4375\n",
      "                Spike_data: [0. 1.]\n",
      "\n",
      "Sending spike event at time: 4151(751). Last (E/I) spike idx: 55/49\n",
      "                Spike times: 4150.390625/4148.4375\n",
      "                Spike_data: [1. 0.]\n",
      "\n",
      "Sending spike event at time: 4152(752). Last (E/I) spike idx: 56/49\n",
      "                Spike times: 4150.87890625/4148.4375\n",
      "                Spike_data: [1. 0.]\n",
      "\n",
      "Sending spike event at time: 4153(753). Last (E/I) spike idx: 56/50\n",
      "                Spike times: 4150.87890625/4148.92578125\n",
      "                Spike_data: [0. 1.]\n",
      "\n",
      "Sending spike event at time: 4154(754). Last (E/I) spike idx: 56/51\n",
      "                Spike times: 4150.87890625/4152.34375\n",
      "                Spike_data: [0. 1.]\n",
      "\n",
      "Sending spike event at time: 4155(755). Last (E/I) spike idx: 57/51\n",
      "                Spike times: 4154.78515625/4152.34375\n",
      "                Spike_data: [1. 0.]\n",
      "\n",
      "Sending spike event at time: 4157(757). Last (E/I) spike idx: 57/52\n",
      "                Spike times: 4154.78515625/4156.73828125\n",
      "                Spike_data: [0. 1.]\n",
      "\n",
      "Sending spike event at time: 4160(760). Last (E/I) spike idx: 58/52\n",
      "                Spike times: 4159.1796875/4156.73828125\n",
      "                Spike_data: [1. 0.]\n",
      "\n",
      "Sending spike event at time: 4161(761). Last (E/I) spike idx: 58/53\n",
      "                Spike times: 4159.1796875/4160.15625\n",
      "                Spike_data: [0. 1.]\n",
      "\n",
      "Sending spike event at time: 4765(1365). Last (E/I) spike idx: 59/53\n",
      "                Spike times: 4764.6484375/4160.15625\n",
      "                Spike_data: [1. 0.]\n",
      "\n",
      "Sending spike event at time: 4766(1366). Last (E/I) spike idx: 59/54\n",
      "                Spike times: 4764.6484375/4765.625\n",
      "                Spike_data: [0. 1.]\n",
      "\n",
      "Sending spike event at time: 4768(1368). Last (E/I) spike idx: 60/54\n",
      "                Spike times: 4767.08984375/4765.625\n",
      "                Spike_data: [1. 0.]\n",
      "\n",
      "Sending spike event at time: 4769(1369). Last (E/I) spike idx: 60/55\n",
      "                Spike times: 4767.08984375/4768.06640625\n",
      "                Spike_data: [0. 1.]\n",
      "\n",
      "Sending spike event at time: 4770(1370). Last (E/I) spike idx: 61/55\n",
      "                Spike times: 4769.04296875/4768.06640625\n",
      "                Spike_data: [1. 0.]\n",
      "\n",
      "Sending spike event at time: 4771(1371). Last (E/I) spike idx: 61/56\n",
      "                Spike times: 4769.04296875/4770.5078125\n",
      "                Spike_data: [0. 1.]\n",
      "\n",
      "Sending spike event at time: 4772(1372). Last (E/I) spike idx: 62/56\n",
      "                Spike times: 4771.484375/4770.5078125\n",
      "                Spike_data: [1. 0.]\n",
      "\n",
      "Sending spike event at time: 4773(1373). Last (E/I) spike idx: 62/57\n",
      "                Spike times: 4771.484375/4772.4609375\n",
      "                Spike_data: [0. 1.]\n",
      "\n",
      "Sending spike event at time: 4774(1374). Last (E/I) spike idx: 63/57\n",
      "                Spike times: 4773.92578125/4772.4609375\n",
      "                Spike_data: [1. 0.]\n",
      "\n",
      "Sending spike event at time: 4776(1376). Last (E/I) spike idx: 63/58\n",
      "                Spike times: 4773.92578125/4775.390625\n",
      "                Spike_data: [0. 1.]\n",
      "\n",
      "Sending spike event at time: 4777(1377). Last (E/I) spike idx: 64/58\n",
      "                Spike times: 4776.85546875/4775.390625\n",
      "                Spike_data: [1. 0.]\n",
      "\n",
      "Sending spike event at time: 4779(1379). Last (E/I) spike idx: 64/59\n",
      "                Spike times: 4776.85546875/4778.3203125\n",
      "                Spike_data: [0. 1.]\n",
      "\n",
      "Sending spike event at time: 4780(1380). Last (E/I) spike idx: 65/59\n",
      "                Spike times: 4779.78515625/4778.3203125\n",
      "                Spike_data: [1. 0.]\n",
      "\n",
      "Sending spike event at time: 4782(1382). Last (E/I) spike idx: 65/60\n",
      "                Spike times: 4779.78515625/4781.25\n",
      "                Spike_data: [0. 1.]\n",
      "\n",
      "Sending spike event at time: 4784(1384). Last (E/I) spike idx: 66/60\n",
      "                Spike times: 4783.203125/4781.25\n",
      "                Spike_data: [1. 0.]\n",
      "\n",
      "Sending spike event at time: 4786(1386). Last (E/I) spike idx: 66/61\n",
      "                Spike times: 4783.203125/4785.15625\n",
      "                Spike_data: [0. 1.]\n",
      "\n",
      "Sending spike event at time: 4787(1387). Last (E/I) spike idx: 67/61\n",
      "                Spike times: 4786.62109375/4785.15625\n",
      "                Spike_data: [1. 0.]\n",
      "\n",
      "Sending spike event at time: 4788(1388). Last (E/I) spike idx: 68/61\n",
      "                Spike times: 4787.109375/4785.15625\n",
      "                Spike_data: [1. 0.]\n",
      "\n",
      "Sending spike event at time: 4789(1389). Last (E/I) spike idx: 68/62\n",
      "                Spike times: 4787.109375/4788.57421875\n",
      "                Spike_data: [0. 1.]\n",
      "\n",
      "Sending spike event at time: 4790(1390). Last (E/I) spike idx: 68/63\n",
      "                Spike times: 4787.109375/4789.0625\n",
      "                Spike_data: [0. 1.]\n",
      "\n",
      "Sending spike event at time: 4791(1391). Last (E/I) spike idx: 69/63\n",
      "                Spike times: 4790.0390625/4789.0625\n",
      "                Spike_data: [1. 0.]\n",
      "\n",
      "Sending spike event at time: 4792(1392). Last (E/I) spike idx: 70/63\n",
      "                Spike times: 4790.52734375/4789.0625\n",
      "                Spike_data: [1. 0.]\n",
      "\n",
      "Sending spike event at time: 4793(1393). Last (E/I) spike idx: 70/64\n",
      "                Spike times: 4790.52734375/4791.9921875\n",
      "                Spike_data: [0. 1.]\n",
      "\n",
      "Sending spike event at time: 4799(1399). Last (E/I) spike idx: 71/64\n",
      "                Spike times: 4798.828125/4791.9921875\n",
      "                Spike_data: [1. 0.]\n",
      "\n",
      "Sending spike event at time: 4800(1400). Last (E/I) spike idx: 71/65\n",
      "                Spike times: 4798.828125/4799.8046875\n",
      "                Spike_data: [0. 1.]\n",
      "\n",
      "Sending spike event at time: 6275(2875). Last (E/I) spike idx: 72/65\n",
      "                Spike times: 6274.90234375/4799.8046875\n",
      "                Spike_data: [1. 0.]\n",
      "\n",
      "Sending spike event at time: 6276(2876). Last (E/I) spike idx: 72/66\n",
      "                Spike times: 6274.90234375/6275.87890625\n",
      "                Spike_data: [0. 1.]\n",
      "\n",
      "Sending spike event at time: 6278(2878). Last (E/I) spike idx: 73/66\n",
      "                Spike times: 6277.34375/6275.87890625\n",
      "                Spike_data: [1. 0.]\n",
      "\n",
      "Sending spike event at time: 6279(2879). Last (E/I) spike idx: 73/67\n",
      "                Spike times: 6277.34375/6278.3203125\n",
      "                Spike_data: [0. 1.]\n",
      "\n",
      "Sending spike event at time: 6282(2882). Last (E/I) spike idx: 74/67\n",
      "                Spike times: 6281.73828125/6278.3203125\n",
      "                Spike_data: [1. 0.]\n",
      "\n",
      "Sending spike event at time: 6284(2884). Last (E/I) spike idx: 74/68\n",
      "                Spike times: 6281.73828125/6283.203125\n",
      "                Spike_data: [0. 1.]\n",
      "\n",
      "Sending spike event at time: 6285(2885). Last (E/I) spike idx: 75/68\n",
      "                Spike times: 6284.1796875/6283.203125\n",
      "                Spike_data: [1. 0.]\n",
      "\n",
      "Sending spike event at time: 6286(2886). Last (E/I) spike idx: 76/68\n",
      "                Spike times: 6284.66796875/6283.203125\n",
      "                Spike_data: [1. 0.]\n",
      "\n",
      "Sending spike event at time: 6287(2887). Last (E/I) spike idx: 76/69\n",
      "                Spike times: 6284.66796875/6285.64453125\n",
      "                Spike_data: [0. 1.]\n",
      "\n",
      "Sending spike event at time: 6288(2888). Last (E/I) spike idx: 77/69\n",
      "                Spike times: 6287.109375/6285.64453125\n",
      "                Spike_data: [1. 0.]\n",
      "\n",
      "Sending spike event at time: 6289(2889). Last (E/I) spike idx: 78/69\n",
      "                Spike times: 6287.59765625/6285.64453125\n",
      "                Spike_data: [1. 0.]\n",
      "\n",
      "Sending spike event at time: 6290(2890). Last (E/I) spike idx: 78/70\n",
      "                Spike times: 6287.59765625/6286.1328125\n",
      "                Spike_data: [0. 1.]\n",
      "\n",
      "Sending spike event at time: 6291(2891). Last (E/I) spike idx: 79/70\n",
      "                Spike times: 6290.52734375/6286.1328125\n",
      "                Spike_data: [1. 0.]\n",
      "\n",
      "Sending spike event at time: 6292(2892). Last (E/I) spike idx: 79/71\n",
      "                Spike times: 6290.52734375/6288.57421875\n",
      "                Spike_data: [0. 1.]\n",
      "\n",
      "Sending spike event at time: 6293(2893). Last (E/I) spike idx: 79/72\n",
      "                Spike times: 6290.52734375/6289.0625\n",
      "                Spike_data: [0. 1.]\n",
      "\n",
      "Sending spike event at time: 6294(2894). Last (E/I) spike idx: 79/73\n",
      "                Spike times: 6290.52734375/6292.48046875\n",
      "                Spike_data: [0. 1.]\n",
      "\n",
      "Sending spike event at time: 6295(2895). Last (E/I) spike idx: 80/73\n",
      "                Spike times: 6294.43359375/6292.48046875\n",
      "                Spike_data: [1. 0.]\n",
      "\n",
      "Sending spike event at time: 6296(2896). Last (E/I) spike idx: 80/74\n",
      "                Spike times: 6294.43359375/6295.8984375\n",
      "                Spike_data: [0. 1.]\n",
      "\n",
      "Sending spike event at time: 6298(2898). Last (E/I) spike idx: 81/74\n",
      "                Spike times: 6297.8515625/6295.8984375\n",
      "                Spike_data: [1. 0.]\n",
      "\n",
      "Sending spike event at time: 6300(2900). Last (E/I) spike idx: 81/75\n",
      "                Spike times: 6297.8515625/6299.8046875\n",
      "                Spike_data: [0. 1.]\n",
      "\n",
      "Sending spike event at time: 6302(2902). Last (E/I) spike idx: 82/75\n",
      "                Spike times: 6301.26953125/6299.8046875\n",
      "                Spike_data: [1. 0.]\n",
      "\n",
      "Sending spike event at time: 6303(2903). Last (E/I) spike idx: 82/76\n",
      "                Spike times: 6301.26953125/6302.24609375\n",
      "                Spike_data: [0. 1.]\n",
      "\n"
     ]
    }
   ],
   "source": [
    "configLIF.run(condition=run_condition, run_cfg=run_cfg)"
   ]
  },
  {
   "cell_type": "markdown",
   "metadata": {},
   "source": [
    "### Retrieve recorded data"
   ]
  },
  {
   "cell_type": "code",
   "execution_count": 63,
   "metadata": {},
   "outputs": [],
   "source": [
    "data_lif1_v = monitor_lif1_v.get_data()\n",
    "data_lif1_u = monitor_lif1_u.get_data()\n",
    "\n",
    "data_lif1 = data_lif1_v.copy()\n",
    "data_lif1[\"lif1\"][\"u\"] = data_lif1_u[\"lif1\"][\"u\"]   # Merge the dictionaries to contain both voltage and current\n"
   ]
  },
  {
   "cell_type": "code",
   "execution_count": 64,
   "metadata": {},
   "outputs": [
    {
     "data": {
      "text/plain": [
       "<lava.proc.lif.process.ConfigTimeConstantsLIF at 0x7f6868357e50>"
      ]
     },
     "execution_count": 64,
     "metadata": {},
     "output_type": "execute_result"
    }
   ],
   "source": [
    "configLIF"
   ]
  },
  {
   "cell_type": "code",
   "execution_count": 65,
   "metadata": {},
   "outputs": [
    {
     "name": "stdout",
     "output_type": "stream",
     "text": [
      "3000\n"
     ]
    }
   ],
   "source": [
    "# Check the shape to verify if it is printing the voltage for every step\n",
    "print(len(data_lif1['lif1']['v']))     # Indeed, there are 300 values (same as the number of steps we ran the simulation for)"
   ]
  },
  {
   "cell_type": "markdown",
   "metadata": {},
   "source": [
    "### Plot the recorded data"
   ]
  },
  {
   "cell_type": "code",
   "execution_count": 66,
   "metadata": {},
   "outputs": [
    {
     "data": {
      "image/png": "[encoded data removed]",
      "text/plain": [
       "<Figure size 1600x1000 with 2 Axes>"
      ]
     },
     "metadata": {},
     "output_type": "display_data"
    }
   ],
   "source": [
    "import matplotlib\n",
    "%matplotlib inline\n",
    "from matplotlib import pyplot as plt\n",
    "\n",
    "# Create a subplot for each monitored variable\n",
    "fig = plt.figure(figsize=(16, 10))\n",
    "ax0 = fig.add_subplot(221)\n",
    "ax0.set_title('Voltage (V) / time step')\n",
    "ax1 = fig.add_subplot(222)\n",
    "ax1.set_title('Current (U) / time step')\n",
    "\n",
    "\n",
    "# Plot the data\n",
    "monitor_lif1_v.plot(ax0, lif1.v)\n",
    "monitor_lif1_u.plot(ax1, lif1.u)\n"
   ]
  },
  {
   "cell_type": "markdown",
   "metadata": {},
   "source": [
    "## Find the timesteps where the network spiked"
   ]
  },
  {
   "cell_type": "code",
   "execution_count": 67,
   "metadata": {},
   "outputs": [
    {
     "name": "stdout",
     "output_type": "stream",
     "text": [
      "Spike time: 3403 (iter. 3) at neuron: 0\n",
      "Spike time: 3404 (iter. 4) at neuron: 1\n",
      "Spike time: 3405 (iter. 5) at neuron: 0\n",
      "Spike time: 3406 (iter. 6) at neuron: 3\n",
      "Spike time: 3407 (iter. 7) at neuron: 0\n",
      "Spike time: 3408 (iter. 8) at neuron: 1\n",
      "Spike time: 3409 (iter. 9) at neuron: 0\n",
      "Spike time: 3410 (iter. 10) at neuron: 4\n",
      "Spike time: 3411 (iter. 11) at neuron: 0\n",
      "Spike time: 3412 (iter. 12) at neuron: 1\n",
      "Spike time: 3413 (iter. 13) at neuron: 0\n",
      "Spike time: 3414 (iter. 14) at neuron: 9\n",
      "Spike time: 3415 (iter. 15) at neuron: 0\n",
      "Spike time: 3416 (iter. 16) at neuron: 1\n",
      "Spike time: 3417 (iter. 17) at neuron: 0\n",
      "Spike time: 3418 (iter. 18) at neuron: 3\n",
      "Spike time: 3419 (iter. 19) at neuron: 0\n",
      "Spike time: 3420 (iter. 20) at neuron: 1\n",
      "Spike time: 3421 (iter. 21) at neuron: 0\n",
      "Spike time: 3422 (iter. 22) at neuron: 4\n",
      "Spike time: 3423 (iter. 23) at neuron: 0\n",
      "Spike time: 3424 (iter. 24) at neuron: 1\n",
      "Spike time: 3425 (iter. 25) at neuron: 0\n",
      "Spike time: 3426 (iter. 26) at neuron: 9\n",
      "Spike time: 3427 (iter. 27) at neuron: 7\n",
      "Spike time: 3428 (iter. 28) at neuron: 12\n",
      "Spike time: 3429 (iter. 29) at neuron: 84\n",
      "Spike time: 3770 (iter. 370) at neuron: 17\n",
      "Spike time: 3773 (iter. 373) at neuron: 16\n",
      "Spike time: 3776 (iter. 376) at neuron: 27\n",
      "Spike time: 3777 (iter. 377) at neuron: 0\n",
      "Spike time: 3778 (iter. 378) at neuron: 206\n",
      "Spike time: 3779 (iter. 379) at neuron: 16\n",
      "Spike time: 3780 (iter. 380) at neuron: 2\n",
      "Spike time: 3781 (iter. 381) at neuron: 25\n",
      "Spike time: 3784 (iter. 384) at neuron: 0\n",
      "Spike time: 3785 (iter. 385) at neuron: 20\n",
      "Spike time: 4135 (iter. 735) at neuron: 29\n",
      "Spike time: 4138 (iter. 738) at neuron: 16\n",
      "Spike time: 4141 (iter. 741) at neuron: 27\n",
      "Spike time: 4142 (iter. 742) at neuron: 0\n",
      "Spike time: 4143 (iter. 743) at neuron: 84\n",
      "Spike time: 4144 (iter. 744) at neuron: 16\n",
      "Spike time: 4145 (iter. 745) at neuron: 2\n",
      "Spike time: 4146 (iter. 746) at neuron: 25\n",
      "Spike time: 4147 (iter. 747) at neuron: 0\n",
      "Spike time: 4148 (iter. 748) at neuron: 2\n",
      "Spike time: 4149 (iter. 749) at neuron: 25\n",
      "Spike time: 4151 (iter. 751) at neuron: 31\n",
      "Spike time: 4152 (iter. 752) at neuron: 16\n",
      "Spike time: 4153 (iter. 753) at neuron: 67\n",
      "Spike time: 4775 (iter. 1375) at neuron: 16\n",
      "Spike time: 4777 (iter. 1377) at neuron: 51\n",
      "Spike time: 4778 (iter. 1378) at neuron: 2\n",
      "Spike time: 4781 (iter. 1381) at neuron: 6\n",
      "Spike time: 4788 (iter. 1388) at neuron: 0\n",
      "Spike time: 4789 (iter. 1389) at neuron: 96\n",
      "Spike time: 4792 (iter. 1392) at neuron: 2\n",
      "Spike time: 4799 (iter. 1399) at neuron: 17\n",
      "Spike time: 6286 (iter. 2886) at neuron: 0\n",
      "Spike time: 6288 (iter. 2888) at neuron: 9\n",
      "Spike time: 6289 (iter. 2889) at neuron: 2\n",
      "Spike time: 6290 (iter. 2890) at neuron: 21\n",
      "Spike time: 6291 (iter. 2891) at neuron: 7\n"
     ]
    }
   ],
   "source": [
    "from utils.data_analysis import find_spike_times\n",
    "\n",
    "voltage_arr_1 = np.array(data_lif1['lif1']['v'])\n",
    "current_arr_1 = np.array(data_lif1['lif1']['u'])\n",
    "# preview_np_array(voltage_arr_1, \"Voltage Array\")\n",
    "\n",
    "# Call the find_spike_times util function that detects the spikes in a voltage array\n",
    "# TODO: Improve the find_spike_times method to view the current of the preview timestep to make sure it is a spike, instead of an inhibition\n",
    "spike_times_lif1 = find_spike_times(voltage_arr_1, current_arr_1)\n",
    "\n",
    "for (spike_time, neuron_idx) in spike_times_lif1:\n",
    "    print(f\"Spike time: {init_offset + spike_time * virtual_time_step_interval} (iter. {spike_time}) at neuron: {neuron_idx}\")\n"
   ]
  },
  {
   "cell_type": "markdown",
   "metadata": {},
   "source": [
    "## View the Voltage and Current dynamics with an interactive plot"
   ]
  },
  {
   "cell_type": "markdown",
   "metadata": {},
   "source": [
    "Grab the data from the recorded variables"
   ]
  },
  {
   "cell_type": "code",
   "execution_count": 68,
   "metadata": {},
   "outputs": [
    {
     "name": "stdout",
     "output_type": "stream",
     "text": [
      "Voltage Values Shape: (3000, 256).\n",
      "Preview: [[ 0.00000000e+00  0.00000000e+00  0.00000000e+00 ...  0.00000000e+00\n",
      "   0.00000000e+00  0.00000000e+00]\n",
      " [ 3.00000000e-01  3.00000000e-01  3.00000000e-01 ...  3.00000000e-01\n",
      "   3.00000000e-01  3.00000000e-01]\n",
      " [ 7.43912026e-01  5.93469733e-01  8.07155192e-01 ...  7.34782658e-01\n",
      "   6.16651287e-01  6.88512464e-01]\n",
      " ...\n",
      " [ 3.33932905e-04 -1.68424341e-04  1.40581579e-04 ...  3.35962722e-04\n",
      "  -2.34555871e-05  2.89425996e-04]\n",
      " [ 3.10557601e-04 -1.56634637e-04  1.30740871e-04 ...  3.12445331e-04\n",
      "  -2.18136960e-05  2.69166176e-04]\n",
      " [ 2.88818569e-04 -1.45670213e-04  1.21589011e-04 ...  2.90574158e-04\n",
      "  -2.02867373e-05  2.50324544e-04]]\n"
     ]
    }
   ],
   "source": [
    "# LIF1 variables\n",
    "lif1_voltage_vals = data_lif1['lif1']['v']\n",
    "lif1_current_vals = data_lif1['lif1']['u']\n",
    "\n",
    "# print(\"voltage head: \", lif1_voltage_vals[:10])\n",
    "preview_np_array(lif1_voltage_vals, \"Voltage Values\", edge_items=3)"
   ]
  },
  {
   "cell_type": "markdown",
   "metadata": {},
   "source": [
    "## Assemble the values to be plotted"
   ]
  },
  {
   "cell_type": "code",
   "execution_count": 69,
   "metadata": {},
   "outputs": [],
   "source": [
    "from utils.line_plot import create_fig  # Import the function to create the figure\n",
    "from bokeh.models import Range1d\n",
    "\n",
    "# Define the x and y values\n",
    "x = [val + init_offset for val in range(num_steps)]\n",
    "\n",
    "v_y1 = [val[0] for val in lif1_voltage_vals]\n",
    "v_y2 = [val[1] for val in lif1_voltage_vals]\n",
    "v_y3 = [val[2] for val in lif1_voltage_vals]\n",
    "v_y4 = [val[3] for val in lif1_voltage_vals]\n",
    "v_y5 = [val[4] for val in lif1_voltage_vals]\n",
    "v_y6 = [val[5] for val in lif1_voltage_vals]\n",
    "v_y7 = [val[6] for val in lif1_voltage_vals]\n",
    "v_y8 = [val[7] for val in lif1_voltage_vals]\n",
    "v_y9 = [val[8] for val in lif1_voltage_vals]\n",
    "v_y10 = [val[9] for val in lif1_voltage_vals]\n",
    "\n",
    "# Create the plot\n",
    "voltage_lif1_y_arrays = [\n",
    "    (v_y1, \"Neuron. 0\"), (v_y2, \"Neuron. 1\"), (v_y3, \"Neuron. 2\"),\n",
    "    (v_y4, \"Neuron. 3\"), (v_y5, \"Neuron. 4\"), # (v_y6, \"Neuron. 5\"),\n",
    "    # (v_y7, \"Neuron. 6\"), (v_y8, \"Neuron. 7\"), (v_y9, \"Neuron. 8\"),\n",
    "    # (v_y10, \"Neuron. 9\")\n",
    "]    # List of tuples containing the y values and the legend label\n",
    "# Define the box annotation parameters\n",
    "box_annotation_voltage = {\n",
    "    \"bottom\": 0,\n",
    "    \"top\": v_th,\n",
    "    \"left\": 0,\n",
    "    \"right\": num_steps,\n",
    "    \"fill_alpha\": 0.03,\n",
    "    \"fill_color\": \"green\"\n",
    "}\n",
    "\n",
    "# Create the LIF1 Voltage\n",
    "voltage_lif1_plot = create_fig(\n",
    "    title=\"LIF1 Voltage dynamics\", \n",
    "    x_axis_label='time (ms)', \n",
    "    y_axis_label='Voltage (V)',\n",
    "    x=x, \n",
    "    y_arrays=voltage_lif1_y_arrays, \n",
    "    sizing_mode=\"stretch_both\", \n",
    "    tools=\"pan, box_zoom, wheel_zoom, hover, undo, redo, zoom_in, zoom_out, reset, save\",\n",
    "    tooltips=\"Data point @x: @y\",\n",
    "    legend_location=\"top_right\",\n",
    "    legend_bg_fill_color=\"navy\",\n",
    "    legend_bg_fill_alpha=0.1,\n",
    "    box_annotation_params=box_annotation_voltage,\n",
    "    y_range=Range1d(-1.05, 1.05)\n",
    ")\n",
    "\n",
    "\n",
    "# Create the LIF1 Current\n",
    "u_y1 = [val[0] for val in lif1_current_vals]\n",
    "u_y2 = [val[1] for val in lif1_current_vals]\n",
    "u_y3 = [val[2] for val in lif1_current_vals]\n",
    "u_y4 = [val[3] for val in lif1_current_vals]\n",
    "u_y5 = [val[4] for val in lif1_current_vals]\n",
    "current_lif1_y_arrays = [(u_y1, \"Neuron. 0\"), (u_y2, \"Neuron. 1\"), (u_y3, \"Neuron. 2\"),\n",
    "                          (u_y4, \"Neuron. 3\"), (u_y5, \"Neuron. 4\")]    # List of tuples containing the y values and the legend label\n",
    "current_lif1_plot = create_fig(\n",
    "    title=\"LIF1 Current dynamics\", \n",
    "    x_axis_label='time (ms)', \n",
    "    y_axis_label='Current (U)',\n",
    "    x=x, \n",
    "    y_arrays=current_lif1_y_arrays, \n",
    "    sizing_mode=\"stretch_both\", \n",
    "    tools=\"pan, box_zoom, wheel_zoom, hover, undo, redo, zoom_in, zoom_out, reset, save\",\n",
    "    tooltips=\"Data point @x: @y\",\n",
    "    legend_location=\"top_right\",\n",
    "    legend_bg_fill_color=\"navy\",\n",
    "    legend_bg_fill_alpha=0.1,\n",
    "    x_range=voltage_lif1_plot.x_range,    # Link the x-axis range to the voltage plot\n",
    ")\n",
    "\n",
    "# bplt.show(voltage_lif1_plot)"
   ]
  },
  {
   "cell_type": "markdown",
   "metadata": {},
   "source": [
    "## Show the Plots assembled in a grid"
   ]
  },
  {
   "cell_type": "code",
   "execution_count": 70,
   "metadata": {},
   "outputs": [],
   "source": [
    "import bokeh.plotting as bplt\n",
    "from bokeh.layouts import gridplot\n",
    "\n",
    "showPlot = True\n",
    "if showPlot:\n",
    "    # Create array of plots to be shown\n",
    "    plots = [voltage_lif1_plot, current_lif1_plot]\n",
    "\n",
    "    if len(plots) == 1:\n",
    "        grid = plots[0]\n",
    "    else:   # Create a grid layout\n",
    "        grid = gridplot(plots, ncols=2, sizing_mode=\"stretch_both\")\n",
    "\n",
    "    # Show the plot\n",
    "    bplt.show(grid)"
   ]
  },
  {
   "cell_type": "markdown",
   "metadata": {},
   "source": [
    "## Export the plot to a file"
   ]
  },
  {
   "cell_type": "code",
   "execution_count": 74,
   "metadata": {},
   "outputs": [],
   "source": [
    "export = False\n",
    "\n",
    "if export:\n",
    "    file_path = \"./results/custom_subset_90-119_segment500_200/output_0.07dv_5ch.html\"\n",
    "\n",
    "    # Customize the output file settings\n",
    "    bplt.output_file(filename=file_path, title=\"HFO Detection - Voltage and Current dynamics\")\n",
    "\n",
    "    # Save the plot\n",
    "    bplt.save(grid)"
   ]
  },
  {
   "cell_type": "markdown",
   "metadata": {},
   "source": [
    "## Stop the Runtime"
   ]
  },
  {
   "cell_type": "code",
   "execution_count": 72,
   "metadata": {},
   "outputs": [],
   "source": [
    "lif1.stop()"
   ]
  },
  {
   "cell_type": "code",
   "execution_count": null,
   "metadata": {},
   "outputs": [],
   "source": []
  }
 ],
 "metadata": {
  "kernelspec": {
   "display_name": "Python 3 (ipykernel)",
   "language": "python",
   "name": "python3"
  },
  "language_info": {
   "codemirror_mode": {
    "name": "ipython",
    "version": 3
   },
   "file_extension": ".py",
   "mimetype": "text/x-python",
   "name": "python",
   "nbconvert_exporter": "python",
   "pygments_lexer": "ipython3",
   "version": "3.10.12"
  }
 },
 "nbformat": 4,
 "nbformat_minor": 2
}
