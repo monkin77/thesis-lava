{
 "cells": [
  {
   "cell_type": "markdown",
   "metadata": {},
   "source": [
    "# SNN that detects High Frequency Oscillations (HFOs) with constant parameters\n",
    "This notebook is a simple example of how to use a Spiking Neural Network (SNN) to detect HFOs\n",
    "\n",
    "### What is an HFO?\n",
    "High Frequency Oscillations (HFOs) are a type of brain activity that occurs in the range of 80-500 Hz. They are believed to be related to the generation of seizures in patients with epilepsy. The detection of HFOs is an important task in the diagnosis and treatment of epilepsy. \n",
    "\n",
    "In terms of electrophysiology, HFOs are characterized by their high frequency and short duration, often lasting only a few milliseconds. The wave of a typical HFO consists of at least 4 UP and DOWN waves."
   ]
  },
  {
   "cell_type": "code",
   "execution_count": 327,
   "metadata": {},
   "outputs": [
    {
     "name": "stdout",
     "output_type": "stream",
     "text": [
      "\u001b[0;31mInit signature:\u001b[0m \u001b[0mLIF\u001b[0m\u001b[0;34m(\u001b[0m\u001b[0;34m*\u001b[0m\u001b[0margs\u001b[0m\u001b[0;34m,\u001b[0m \u001b[0;34m**\u001b[0m\u001b[0mkwargs\u001b[0m\u001b[0;34m)\u001b[0m\u001b[0;34m\u001b[0m\u001b[0;34m\u001b[0m\u001b[0m\n",
      "\u001b[0;31mDocstring:\u001b[0m     \n",
      "Leaky-Integrate-and-Fire (LIF) neural Process.\n",
      "\n",
      "LIF dynamics abstracts to:\n",
      "u[t] = u[t-1] * (1-du) + a_in         # neuron current\n",
      "v[t] = v[t-1] * (1-dv) + u[t] + bias  # neuron voltage\n",
      "s_out = v[t] > vth                    # spike if threshold is exceeded\n",
      "v[t] = 0                              # reset at spike\n",
      "\n",
      "Parameters\n",
      "----------\n",
      "shape : tuple(int)\n",
      "    Number and topology of LIF neurons.\n",
      "u : float, list, numpy.ndarray, optional\n",
      "    Initial value of the neurons' current.\n",
      "v : float, list, numpy.ndarray, optional\n",
      "    Initial value of the neurons' voltage (membrane potential).\n",
      "du : float, optional\n",
      "    Inverse of decay time-constant for current decay. Currently, only a\n",
      "    single decay can be set for the entire population of neurons.\n",
      "dv : float, optional\n",
      "    Inverse of decay time-constant for voltage decay. Currently, only a\n",
      "    single decay can be set for the entire population of neurons.\n",
      "bias_mant : float, list, numpy.ndarray, optional\n",
      "    Mantissa part of neuron bias.\n",
      "bias_exp : float, list, numpy.ndarray, optional\n",
      "    Exponent part of neuron bias, if needed. Mostly for fixed point\n",
      "    implementations. Ignored for floating point implementations.\n",
      "vth : float, optional\n",
      "    Neuron threshold voltage, exceeding which, the neuron will spike.\n",
      "    Currently, only a single threshold can be set for the entire\n",
      "    population of neurons.\n",
      "\n",
      "Example\n",
      "-------\n",
      ">>> lif = LIF(shape=(200, 15), du=10, dv=5)\n",
      "This will create 200x15 LIF neurons that all have the same current decay\n",
      "of 10 and voltage decay of 5.\n",
      "\u001b[0;31mInit docstring:\u001b[0m Initializes a new Process.\n",
      "\u001b[0;31mFile:\u001b[0m           ~/Desktop/feup/thesis/thesis-lava/src/lava/proc/lif/process.py\n",
      "\u001b[0;31mType:\u001b[0m           ProcessPostInitCaller\n",
      "\u001b[0;31mSubclasses:\u001b[0m     LIFReset, LIFRefractory"
     ]
    }
   ],
   "source": [
    "from lava.proc.lif.process import LIF\n",
    "from lava.proc.dense.process import Dense\n",
    "import numpy as np\n",
    "\n",
    "LIF?"
   ]
  },
  {
   "cell_type": "markdown",
   "metadata": {},
   "source": [
    "### Check WD (change if necessary) and file loading"
   ]
  },
  {
   "cell_type": "code",
   "execution_count": 328,
   "metadata": {},
   "outputs": [
    {
     "name": "stdout",
     "output_type": "stream",
     "text": [
      "/home/monkin/Desktop/feup/thesis/thesis-lava/src/hfo/snn\n"
     ]
    }
   ],
   "source": [
    "# Show current directory\n",
    "import os\n",
    "curr_dir = os.getcwd()\n",
    "print(curr_dir)\n",
    "\n",
    "# Check if the current WD is the file location\n",
    "if \"/src/hfo/snn\" not in os.getcwd():\n",
    "    # Set working directory to this file location\n",
    "    file_location = f\"{os.getcwd()}/thesis-lava/src/hfo/snn\"\n",
    "    print(\"File Location: \", file_location)\n",
    "\n",
    "    # Change the current working Directory\n",
    "    os.chdir(file_location)\n",
    "\n",
    "    # New Working Directory\n",
    "    print(\"New Working Directory: \", os.getcwd())"
   ]
  },
  {
   "cell_type": "markdown",
   "metadata": {},
   "source": [
    "## Create the Custom Input Layer\n",
    "\n",
    "### Define function to read the input data from the csv file and generate the corresponding spike events"
   ]
  },
  {
   "cell_type": "code",
   "execution_count": 329,
   "metadata": {},
   "outputs": [],
   "source": [
    "import pandas as pd\n",
    "\n",
    "def read_spike_events(file_path: str):\n",
    "    \"\"\"Reads the spike events from the input file and returns them as a numpy array\n",
    "\n",
    "    Args:\n",
    "        file_path (str): name of the file containing the spike events\n",
    "    \"\"\"\n",
    "    spike_events = []\n",
    "\n",
    "    try:\n",
    "        # Read the spike events from the file\n",
    "        df = pd.read_csv(file_path, header=None)\n",
    "\n",
    "        # Detect errors\n",
    "        if df.empty:\n",
    "            raise Exception(\"The input file is empty\")\n",
    "\n",
    "        # Convert the scientific notation values to integers if any exist\n",
    "        df = df.applymap(lambda x: int(float(x)) if (isinstance(x, str) and 'e' in x) else x)\n",
    "\n",
    "        # Convert the dataframe to a numpy array\n",
    "        spike_events = df.to_numpy()\n",
    "        return spike_events[0]\n",
    "    except Exception as e:\n",
    "        print(\"Unable to read the input file: \", file_path, \" error:\", e)\n",
    "\n",
    "    return spike_events"
   ]
  },
  {
   "cell_type": "markdown",
   "metadata": {},
   "source": [
    "## Configurable Parameters"
   ]
  },
  {
   "cell_type": "code",
   "execution_count": 330,
   "metadata": {},
   "outputs": [],
   "source": [
    "from utils.input import BaselineAlgorithm, MarkerType, ModelDistStrategy\n",
    "\n",
    "# Declare if using ripples, fast ripples, or both\n",
    "chosen_band = MarkerType.RIPPLE     # RIPPLE, FAST_RIPPLE, or BOTH\n",
    "\n",
    "# Specify the chosen Baseline Algorithm\n",
    "chosen_baseline_alg_suffix = BaselineAlgorithm.Q3\n",
    "\n",
    "# Select the Distribution Model Strategy\n",
    "selected_strategy = ModelDistStrategy.IQR\n",
    "\n",
    "# Define the Weight Scale of the Dense Layer #TODO: Test changing this\n",
    "weights_scale_input = 0.2   # 0.5\n",
    "\n",
    "# Define the IQR ranges for the specific data being fed (synaptic time constants)\n",
    "ripple_IQR = [0.48, 6.5]\n",
    "fr_IQR = [0.49, 2.93] # Inter-Quartile Range for the time constants of the Fast-Ripple neurons\n",
    "\n",
    "# Define the mean and std. deviation of the synaptic time constants\n",
    "synaptic_tc_mean = 4.0335\n",
    "synaptic_tc_std_dev = 8.1027\n",
    "\n",
    "# Define the mean and std. deviation of the Membrane Potential Time Constants\n",
    "mean_dv = 15    # Mean voltage time constant = 15ms (following Indiveri's paper)\n",
    "std_dev_dv = 0  # Standard deviation of the voltage time constant. If 0, then the time constant is fixed \n",
    "\n",
    "# Range of random values to subtract from the excitatory time constants to get the inhibitory time constants\n",
    "inh_subtract_range = [0.1, 1.0]  "
   ]
  },
  {
   "cell_type": "markdown",
   "metadata": {},
   "source": [
    "### Load the UP and DOWN spikes from the CSV Files"
   ]
  },
  {
   "cell_type": "code",
   "execution_count": 331,
   "metadata": {},
   "outputs": [],
   "source": [
    "# Define the name of the dataset version being used\n",
    "DATASET_FILENAME = \"seeg_filtered_subset_90-119_segment500_200\""
   ]
  },
  {
   "cell_type": "markdown",
   "metadata": {},
   "source": [
    "#### Load the Baseline Thresholds from the output file from the baseline process"
   ]
  },
  {
   "cell_type": "code",
   "execution_count": 332,
   "metadata": {},
   "outputs": [
    {
     "name": "stdout",
     "output_type": "stream",
     "text": [
      "Ripple Thresholds:  4.3995 -4.3995\n",
      "FR Thresholds:  2.0933 -2.0933\n"
     ]
    }
   ],
   "source": [
    "# Load the Baseline Thresholds\n",
    "BASELINE_FILE = f\"../signal_to_spike/baseline_results/{DATASET_FILENAME}_thresholds_{chosen_baseline_alg_suffix}.npy\"\n",
    "baseline_thresholds = np.load(BASELINE_FILE)\n",
    "\n",
    "# preview_np_array(baseline_thresholds, \"baseline_thresholds\", edge_items=3)\n",
    "\n",
    "baseline_ripple_thresh = round(baseline_thresholds[0], 4)\n",
    "baseline_fr_thresh = round(baseline_thresholds[1], 4)\n",
    "\n",
    "# For now, the UP and DN thresholds are the same (symmetric)\n",
    "ripple_thresh_up = baseline_ripple_thresh\n",
    "ripple_thresh_down = -baseline_ripple_thresh\n",
    "fr_thresh_up = baseline_fr_thresh\n",
    "fr_thresh_down = -baseline_fr_thresh\n",
    "\n",
    "print(\"Ripple Thresholds: \", ripple_thresh_up, ripple_thresh_down)\n",
    "print(\"FR Thresholds: \", fr_thresh_up, fr_thresh_down)"
   ]
  },
  {
   "cell_type": "code",
   "execution_count": 333,
   "metadata": {},
   "outputs": [],
   "source": [
    "def band_to_thresholds(band: MarkerType):\n",
    "    \"\"\"Returns the ripple and FR thresholds for the given band\n",
    "\n",
    "    Args:\n",
    "        band (MarkerType): the band for which the thresholds are required\n",
    "    \"\"\"\n",
    "    if band == MarkerType.RIPPLE:\n",
    "        return ripple_thresh_up, ripple_thresh_down\n",
    "    elif band == MarkerType.FAST_RIPPLE:\n",
    "        return fr_thresh_up, fr_thresh_down\n",
    "    else:\n",
    "        raise Exception(\"Invalid band type\")"
   ]
  },
  {
   "cell_type": "code",
   "execution_count": 334,
   "metadata": {},
   "outputs": [
    {
     "name": "stdout",
     "output_type": "stream",
     "text": [
      "Thresholds:  4.3995 -4.3995\n",
      "up_spike_train Shape: (2909, 2).\n",
      "Preview: [[ 9.44335938e+02 -1.00000000e+00]\n",
      " [ 9.51171875e+02 -1.00000000e+00]\n",
      " [ 9.52636719e+02 -1.00000000e+00]\n",
      " [ 9.63867188e+02 -1.00000000e+00]\n",
      " [ 9.75097656e+02 -1.00000000e+00]\n",
      " ...\n",
      " [ 1.19080566e+05 -1.00000000e+00]\n",
      " [ 1.19083008e+05 -1.00000000e+00]\n",
      " [ 1.19083984e+05 -1.00000000e+00]\n",
      " [ 1.19092773e+05 -1.00000000e+00]\n",
      " [ 1.19094238e+05 -1.00000000e+00]]\n",
      "down_spike_train Shape: (2889, 2).\n",
      "Preview: [[ 9.47265625e+02 -1.00000000e+00]\n",
      " [ 9.48242188e+02 -1.00000000e+00]\n",
      " [ 9.56054688e+02 -1.00000000e+00]\n",
      " [ 9.66796875e+02 -1.00000000e+00]\n",
      " [ 9.77539062e+02 -1.00000000e+00]\n",
      " ...\n",
      " [ 1.19077637e+05 -1.00000000e+00]\n",
      " [ 1.19086914e+05 -1.00000000e+00]\n",
      " [ 1.19087891e+05 -1.00000000e+00]\n",
      " [ 1.19088867e+05 -1.00000000e+00]\n",
      " [ 1.19099121e+05 -1.00000000e+00]]\n"
     ]
    }
   ],
   "source": [
    "from utils.input import read_spike_events, band_to_file_name\n",
    "from utils.io import preview_np_array\n",
    "\n",
    "# Define the path of the files containing the spike events\n",
    "INPUT_PATH = f\"../signal_to_spike/results/{DATASET_FILENAME}\"\n",
    "band_file_name = band_to_file_name(chosen_band)\n",
    "\n",
    "# Define the chosen thresholds\n",
    "thresh_up, thresh_down = band_to_thresholds(chosen_band)\n",
    "print(\"Thresholds: \", thresh_up, thresh_down)\n",
    "\n",
    "# Call the function to read the spike events\n",
    "up_spikes_file_path = f\"{INPUT_PATH}/{band_file_name}_up_spike_train_{thresh_up}.csv\"\n",
    "up_spike_train = read_spike_events(up_spikes_file_path)\n",
    "\n",
    "down_spikes_file_path = f\"{INPUT_PATH}/{band_file_name}_down_spike_train_{thresh_down}.csv\"\n",
    "down_spike_train = read_spike_events(down_spikes_file_path)\n",
    "\n",
    "preview_np_array(up_spike_train, \"up_spike_train\")\n",
    "preview_np_array(down_spike_train, \"down_spike_train\")"
   ]
  },
  {
   "cell_type": "markdown",
   "metadata": {},
   "source": [
    "### Define the SpikeEvent Generator Interface"
   ]
  },
  {
   "cell_type": "code",
   "execution_count": 335,
   "metadata": {},
   "outputs": [],
   "source": [
    "from lava.magma.core.process.process import AbstractProcess\n",
    "from lava.magma.core.process.variable import Var\n",
    "from lava.magma.core.process.ports.ports import OutPort\n",
    "\n",
    "class SpikeEventGen(AbstractProcess):\n",
    "    \"\"\"Input Process that generates spike events based on the input file\n",
    "\n",
    "    Args:\n",
    "        @out_shape (tuple): Shape of the output port\n",
    "        @exc_spike_events (np.ndarray): Excitatory spike events\n",
    "        @inh_spike_event (np.ndarray): Inhibitory spike events\n",
    "        @name (str): Name of the process\n",
    "    \"\"\"\n",
    "    def __init__(self, out_shape: tuple, exc_spike_events: np.ndarray, inh_spike_event: np.ndarray, name: str) -> None:\n",
    "        super().__init__(name=name)\n",
    "        self.s_out = OutPort(shape=out_shape)\n",
    "        self.exc_spike_events = Var(shape=exc_spike_events.shape, init=exc_spike_events)\n",
    "        self.inh_spike_events = Var(shape=inh_spike_event.shape, init=inh_spike_event)\n"
   ]
  },
  {
   "cell_type": "markdown",
   "metadata": {},
   "source": [
    "## Define the Architecture of the Network"
   ]
  },
  {
   "cell_type": "code",
   "execution_count": 336,
   "metadata": {},
   "outputs": [],
   "source": [
    "# Define the number of neurons in the Input Spike Event Generator\n",
    "n_spike_gen = 2  # 2 neurons in the input spike event generator\n",
    "\n",
    "# Define the number of neurons in each LIF Layer\n",
    "n_lif1 = 256   # 256 neurons in the first LIF layer\n",
    "# n2 = 1  # 1 neuron in the second layer"
   ]
  },
  {
   "cell_type": "markdown",
   "metadata": {},
   "source": [
    "### Choose the LIF Models to use"
   ]
  },
  {
   "cell_type": "code",
   "execution_count": 337,
   "metadata": {},
   "outputs": [],
   "source": [
    "use_refractory = False"
   ]
  },
  {
   "cell_type": "markdown",
   "metadata": {},
   "source": [
    "### Define the LIF parameters"
   ]
  },
  {
   "cell_type": "code",
   "execution_count": 338,
   "metadata": {},
   "outputs": [],
   "source": [
    "# Constants for the LIF Process\n",
    "v_th = 1\n",
    "v_init = 0\n",
    "\n",
    "# LIF1 Process\n",
    "dv1 = 0.07\n",
    "du1 = 0.2  "
   ]
  },
  {
   "cell_type": "markdown",
   "metadata": {},
   "source": [
    "### Create the LIF Processes"
   ]
  },
  {
   "cell_type": "code",
   "execution_count": 339,
   "metadata": {},
   "outputs": [],
   "source": [
    "if not use_refractory:\n",
    "    # Create LIF1 process\n",
    "    lif1 = LIF(shape=(n_lif1,),  # There are 2 neurons\n",
    "            vth=v_th,  # TODO: Verify these initial values\n",
    "            v=v_init,\n",
    "            dv=dv1,    # Inverse of decay time-constant for voltage decay\n",
    "            du=du1,  # Inverse of decay time-constant for current decay\n",
    "            bias_mant=0,\n",
    "            bias_exp=0,\n",
    "            name=\"lif1\")"
   ]
  },
  {
   "cell_type": "markdown",
   "metadata": {},
   "source": [
    "### Create the Refractory LIF Processes"
   ]
  },
  {
   "cell_type": "code",
   "execution_count": 340,
   "metadata": {},
   "outputs": [],
   "source": [
    "from lava.proc.lif.process import LIFRefractory\n",
    "from lava.magma.core.process.process import LogConfig\n",
    "import logging\n",
    "\n",
    "# Constants for the Refractory LIF Process\n",
    "refrac_period = 20   # Number of time-steps for the refractory period\n",
    "\n",
    "if use_refractory:\n",
    "    # Create Refractory LIF1 process\n",
    "    lif1 = LIFRefractory(shape=(n_lif1,),  # There are 2 neurons\n",
    "            vth=v_th,  # TODO: Verify these initial values\n",
    "            v=v_init,\n",
    "            dv=dv1,    # Inverse of decay time-constant for voltage decay\n",
    "            du=du1,  # Inverse of decay time-constant for current decay\n",
    "            bias_mant=0,\n",
    "            bias_exp=0,\n",
    "            refractory_period=refrac_period,\n",
    "            name=\"lif1\",\n",
    "            # log_config=LogConfig(level=logging.DEBUG, level_console=logging.DEBUG, logs_to_file=False)\n",
    "            )"
   ]
  },
  {
   "cell_type": "markdown",
   "metadata": {},
   "source": [
    "### Create a `ConfigTimeConstantsLIF` object"
   ]
  },
  {
   "cell_type": "markdown",
   "metadata": {},
   "source": [
    "#### Define the time constants for the `ConfigTimeConstantsLIF` neurons\n",
    "The synapse time constants, corresponding to `du_exc` and `du_inh` will be different for each neuron in the LIF layer. Likewise, the excitatory and inhibitory time constants will also differ for each neuron in order to capture the dynamics of the HFOs."
   ]
  },
  {
   "cell_type": "code",
   "execution_count": 341,
   "metadata": {},
   "outputs": [
    {
     "name": "stdout",
     "output_type": "stream",
     "text": [
      "Chosen mu:  3.49\n",
      "Chosen std_dev:  4.459259259259259\n"
     ]
    }
   ],
   "source": [
    "from utils.neuron_dynamics import time_constant_to_fraction\n",
    "# Create the np arrays for the time constants of each neuron\n",
    "\n",
    "# Select the chosen IQR based on the chosen band\n",
    "chosen_IQR = ripple_IQR\n",
    "if chosen_band == MarkerType.FAST_RIPPLE:\n",
    "    chosen_IQR = fr_IQR\n",
    "elif chosen_band != MarkerType.RIPPLE:\n",
    "    raise Exception(\"What to do in this case?\")\n",
    "\n",
    "\n",
    "if selected_strategy == ModelDistStrategy.IQR:\n",
    "    chosen_mu = np.mean(chosen_IQR)  # Midpoint of the IQR\n",
    "    # Calculate the standard deviation of the normal distribution\n",
    "    # For a normal distribution, the first quartile is ~0.675 standard deviations below the mean\n",
    "    chosen_std_dev = (chosen_IQR[1] - chosen_IQR[0]) / (2 * 0.675)  # standard deviation is the IQR divided by 2*0.675\n",
    "elif selected_strategy == ModelDistStrategy.MEAN_AND_STD:\n",
    "    # Use the actual values from the STS_ANALYSIS\n",
    "    chosen_mu = synaptic_tc_mean\n",
    "    chosen_std_dev = synaptic_tc_std_dev\n",
    "\n",
    "print(\"Chosen mu: \", chosen_mu)\n",
    "print(\"Chosen std_dev: \", chosen_std_dev)\n",
    "# print(\"Chosen IQR: \", chosen_IQR)"
   ]
  },
  {
   "cell_type": "markdown",
   "metadata": {},
   "source": [
    "### Generate a random distribution of the Synaptic Excitatory time constants "
   ]
  },
  {
   "cell_type": "code",
   "execution_count": 342,
   "metadata": {},
   "outputs": [
    {
     "name": "stdout",
     "output_type": "stream",
     "text": [
      "Min and max time constants before: -8.512342605299418 15.028903843901208\n",
      "[Excitatory] Min and max time constants after: 0.016884763158848237 15.028903843901208\n",
      "[Excitatory] Mean time constants after: 4.6980280676929045 ± 3.2873556043661534\n"
     ]
    }
   ],
   "source": [
    "# Generate the time constants for the Fast-Ripple neurons\n",
    "exc_syn_time_constants = np.random.normal(chosen_mu, chosen_std_dev, n_lif1)\n",
    "# preview_np_array(exc_syn_time_constants, \"exc_syn_time_constants\", edge_items=10)\n",
    "print(\"Min and max time constants before:\", np.min(exc_syn_time_constants), np.max(exc_syn_time_constants))\n",
    "\n",
    "\n",
    "# Cannot have negative time constants. Make them 0 or positive?\n",
    "# exc_syn_time_constants = np.clip(exc_syn_time_constants, a_min=0, a_max=None)\n",
    "exc_syn_time_constants = np.abs(exc_syn_time_constants)\n",
    "# TODO: Could add the mean to the negative values? \n",
    "print(\"[Excitatory] Min and max time constants after:\", np.min(exc_syn_time_constants), np.max(exc_syn_time_constants))\n",
    "print(f\"[Excitatory] Mean time constants after: {np.mean(exc_syn_time_constants)} ± {np.std(exc_syn_time_constants)}\")"
   ]
  },
  {
   "cell_type": "markdown",
   "metadata": {},
   "source": [
    "### The inhibitory time constants will be calculated from the excitatory time constants by subtracting a value in a range"
   ]
  },
  {
   "cell_type": "code",
   "execution_count": 343,
   "metadata": {},
   "outputs": [
    {
     "name": "stdout",
     "output_type": "stream",
     "text": [
      "[Inhibitory] Min and max time constants after: 0.016884763158848237 14.579301989994148\n",
      "[Inhibitory] Mean time constants after: 4.142225009153179 ± 3.258322480305434\n"
     ]
    }
   ],
   "source": [
    "# Generate the inhibitory time constants by subtracting a random value in a range from the excitatory time constants\n",
    "\n",
    "# Generate the random values to subtract from the excitatory time constants\n",
    "inh_syn_offset = np.random.uniform(inh_subtract_range[0], inh_subtract_range[1], n_lif1)\n",
    "\n",
    "# Subtract the random values from the excitatory time constants to get the inhibitory time constants\n",
    "inh_syn_time_constants = exc_syn_time_constants - inh_syn_offset\n",
    "\n",
    "# Clip the inhibitory time constants to be positive or equal to the minimum found excitatory time \n",
    "\n",
    "inh_syn_time_constants = np.clip(inh_syn_time_constants, a_min=np.min(exc_syn_time_constants), a_max=None)\n",
    "print(\"[Inhibitory] Min and max time constants after:\", np.min(inh_syn_time_constants), np.max(inh_syn_time_constants))\n",
    "print(f\"[Inhibitory] Mean time constants after: {np.mean(inh_syn_time_constants)} ± {np.std(inh_syn_time_constants)}\")"
   ]
  },
  {
   "cell_type": "code",
   "execution_count": 344,
   "metadata": {},
   "outputs": [
    {
     "name": "stdout",
     "output_type": "stream",
     "text": [
      "exc_syn_time_constants_frac Shape: (256,).\n",
      "Preview: [0.07256886 0.27339736 0.26015563 0.20752636 0.51679282 ... 0.68045307\n",
      " 0.2359879  0.0802208  0.1459094  0.15786558]\n",
      "Min. Exc. τ: 0.06437306174729907. Max. Exc. τ: 1.0\n",
      "Mean Exc. τ: 0.308517271114518 ± 0.24062996793310912\n"
     ]
    }
   ],
   "source": [
    "# Convert the excitatory time constants to fractions (du_exc values) that are used in the LAVA Processes dynamics\n",
    "exc_syn_time_constants_frac = time_constant_to_fraction(exc_syn_time_constants)\n",
    "preview_np_array(exc_syn_time_constants_frac, \"exc_syn_time_constants_frac\", edge_items=5)\n",
    "\n",
    "print(f\"Min. Exc. τ: {np.min(exc_syn_time_constants_frac)}. Max. Exc. τ: {np.max(exc_syn_time_constants_frac)}\")\n",
    "print(f\"Mean Exc. τ: {np.mean(exc_syn_time_constants_frac)} ± {np.std(exc_syn_time_constants_frac)}\")\n",
    "\n",
    "# TODO: Maybe there is a better approx. function than normal distribution that avoids having 1.0 time constant (no decay)"
   ]
  },
  {
   "cell_type": "code",
   "execution_count": 345,
   "metadata": {},
   "outputs": [
    {
     "name": "stdout",
     "output_type": "stream",
     "text": [
      "inh_syn_time_constants_frac Shape: (256,).\n",
      "Preview: [0.07737573 0.36540085 0.31522156 0.22544235 0.56348796 ... 0.92348557\n",
      " 0.28122913 0.08533592 0.17015683 0.17405056]\n",
      "Min. Inh. τ: 0.06629094106935629. Max. Inh. τ: 1.0\n",
      "Mean Inh. τ: 0.3680036339967879 ± 0.2951344601646899\n"
     ]
    }
   ],
   "source": [
    "# Convert the inhibitory time constants to fractions (du_inh values) that are used in the LAVA Processes dynamics\n",
    "inh_syn_time_constants_frac = time_constant_to_fraction(inh_syn_time_constants)\n",
    "preview_np_array(inh_syn_time_constants_frac, \"inh_syn_time_constants_frac\", edge_items=5)\n",
    "\n",
    "print(f\"Min. Inh. τ: {np.min(inh_syn_time_constants_frac)}. Max. Inh. τ: {np.max(inh_syn_time_constants_frac)}\")\n",
    "print(f\"Mean Inh. τ: {np.mean(inh_syn_time_constants_frac)} ± {np.std(inh_syn_time_constants_frac)}\")"
   ]
  },
  {
   "cell_type": "markdown",
   "metadata": {},
   "source": [
    "#### Define the Membrane Potential Time Constants for the LIF Neurons\n",
    "To add more variability to the network, the membrane potential time constants will be randomly generated from a normal distribution around a mean value."
   ]
  },
  {
   "cell_type": "code",
   "execution_count": 346,
   "metadata": {},
   "outputs": [
    {
     "name": "stdout",
     "output_type": "stream",
     "text": [
      "dv_time_constants Shape: (256,).\n",
      "Preview: [15. 15. 15. 15. 15. ... 15. 15. 15. 15. 15.]\n",
      "[ms] Min and max Voltage time constants: 15.0 15.0\n",
      "[Frac] Min and max Voltage time constants: 0.06449301496838222 0.06449301496838222\n"
     ]
    }
   ],
   "source": [
    "dv_time_constants = np.random.normal(mean_dv, std_dev_dv, n_lif1)\n",
    "\n",
    "preview_np_array(dv_time_constants, \"dv_time_constants\", edge_items=5)\n",
    "\n",
    "# Guarantee that the time constants are positive\n",
    "dv_time_constants = np.abs(dv_time_constants)\n",
    "print(\"[ms] Min and max Voltage time constants:\", np.min(dv_time_constants), np.max(dv_time_constants))\n",
    "\n",
    "# Transform the time constants to fractions\n",
    "dv_time_constants_frac = time_constant_to_fraction(dv_time_constants)\n",
    "print(\"[Frac] Min and max Voltage time constants:\", np.min(dv_time_constants_frac), np.max(dv_time_constants_frac))"
   ]
  },
  {
   "cell_type": "code",
   "execution_count": 347,
   "metadata": {},
   "outputs": [
    {
     "data": {
      "text/plain": [
       "Variable: du_exc\n",
       "    shape: (256,)\n",
       "    init: [0.07256886 0.27339736 0.26015563 0.20752636 0.51679282 ... 0.68045307\n",
       " 0.2359879  0.0802208  0.1459094  0.15786558]\n",
       "    shareable: True\n",
       "    value: [0.07256886 0.27339736 0.26015563 0.20752636 0.51679282 ... 0.68045307\n",
       " 0.2359879  0.0802208  0.1459094  0.15786558]"
      ]
     },
     "execution_count": 347,
     "metadata": {},
     "output_type": "execute_result"
    }
   ],
   "source": [
    "from lava.proc.lif.process import ConfigTimeConstantsLIF\n",
    "\n",
    "configLIF = ConfigTimeConstantsLIF(shape=(n_lif1,),  # There are 256 neurons\n",
    "            vth=v_th,  # TODO: Verify these initial values\n",
    "            v=v_init,\n",
    "            dv=dv_time_constants_frac,    # Inverse of decay time-constant for voltage decay\n",
    "            du_exc=exc_syn_time_constants_frac,  # Inverse of decay time-constant for excitatory current decay\n",
    "            du_inh=inh_syn_time_constants_frac,  # Inverse of decay time-constant for inhibitory current decay\n",
    "            bias_mant=0,\n",
    "            bias_exp=0,\n",
    "            name=\"lif1\")\n",
    "\n",
    "configLIF.du_exc"
   ]
  },
  {
   "cell_type": "markdown",
   "metadata": {},
   "source": [
    "### Create the Dense Layers"
   ]
  },
  {
   "cell_type": "code",
   "execution_count": 348,
   "metadata": {},
   "outputs": [],
   "source": [
    "# Create Dense Process to connect the input layer and LIF1\n",
    "# create weights of the dense layer\n",
    "# dense_weights_input = np.eye(N=n1, M=n1)\n",
    "# Fully Connected Layer from n_spike_gen neurons to n_lif1 neurons\n",
    "dense_weights_input = np.ones(shape=(n_lif1, n_spike_gen))\n",
    "\n",
    "# Make the weights (synapses) connecting the odd-parity neurons of the input layer to the network negative (inhibitory)\n",
    "dense_weights_input[:, 1::2] *= -1\n",
    "\n",
    "# multiply the weights of the Dense layer by a constant\n",
    "dense_weights_input *= weights_scale_input\n",
    "dense_input = Dense(weights=np.array(dense_weights_input), name=\"DenseInput\")"
   ]
  },
  {
   "cell_type": "markdown",
   "metadata": {},
   "source": [
    "#### Look at the weights of the Dense Layers"
   ]
  },
  {
   "cell_type": "code",
   "execution_count": 349,
   "metadata": {},
   "outputs": [
    {
     "data": {
      "text/plain": [
       "array([[ 0.2, -0.2],\n",
       "       [ 0.2, -0.2],\n",
       "       [ 0.2, -0.2],\n",
       "       [ 0.2, -0.2],\n",
       "       [ 0.2, -0.2],\n",
       "       ...,\n",
       "       [ 0.2, -0.2],\n",
       "       [ 0.2, -0.2],\n",
       "       [ 0.2, -0.2],\n",
       "       [ 0.2, -0.2],\n",
       "       [ 0.2, -0.2]])"
      ]
     },
     "execution_count": 349,
     "metadata": {},
     "output_type": "execute_result"
    }
   ],
   "source": [
    "# Weights of the Input Dense Layer\n",
    "dense_input.weights.get()"
   ]
  },
  {
   "cell_type": "markdown",
   "metadata": {},
   "source": [
    "### Map the input channels to the corresponding indexes in the input layer\n",
    "Since the input channels in the input file may be of any number, we need to **map the input channels to the corresponding indexes in the input layer**. This is done by the `channel_map` dictionaries.\n",
    "\n",
    "The network expects an UP and DOWN spike train for each channel. Thusly, let's define 2 dictionaries, one for the UP spikes and one for the DOWN spikes. We want the UP and DOWN spike trains to be followed by each other in the input layer for each channel."
   ]
  },
  {
   "cell_type": "code",
   "execution_count": 350,
   "metadata": {},
   "outputs": [],
   "source": [
    "# Map the channels of the input file to the respective index in the output list of SpikeEventGen\n",
    "\n",
    "# Define the mapping of the channels of the UP spike train to the respective index in the output list of SpikeEventGen\n",
    "up_channel_map = {-1: 0}\n",
    "# Define the mapping of the channels of the DOWN spike train to the respective index in the output list of SpikeEventGen\n",
    "down_channel_map = {-1: 1}"
   ]
  },
  {
   "cell_type": "markdown",
   "metadata": {},
   "source": [
    "# Define constants related to the simulation time"
   ]
  },
  {
   "cell_type": "code",
   "execution_count": 351,
   "metadata": {},
   "outputs": [],
   "source": [
    "init_offset = 0 # 900 # 33400      #   \n",
    "virtual_time_step_interval = 1  # TODO: Check if this should be the time-step value. it is not aligned with the sampling rate of the input data\n",
    "\n",
    "num_steps = 120000    # 200 # Number of steps to run the simulation\n",
    "\n",
    "# OPTIONAL: Scale down the simulation time\n",
    "time_downscale = 4  # \n",
    "\n",
    "num_steps = num_steps // time_downscale"
   ]
  },
  {
   "cell_type": "markdown",
   "metadata": {},
   "source": [
    "### Update the UP and DOWN spike trains to include only the spikes that occur within the simulation time"
   ]
  },
  {
   "cell_type": "code",
   "execution_count": 352,
   "metadata": {},
   "outputs": [
    {
     "name": "stdout",
     "output_type": "stream",
     "text": [
      "Spike Events Shape: (723, 2).\n",
      "Preview: [[ 9.44335938e+02 -1.00000000e+00]\n",
      " [ 9.51171875e+02 -1.00000000e+00]\n",
      " [ 9.52636719e+02 -1.00000000e+00]\n",
      " [ 9.63867188e+02 -1.00000000e+00]\n",
      " [ 9.75097656e+02 -1.00000000e+00]\n",
      " ...\n",
      " [ 2.95771484e+04 -1.00000000e+00]\n",
      " [ 2.95869141e+04 -1.00000000e+00]\n",
      " [ 2.95888672e+04 -1.00000000e+00]\n",
      " [ 2.98808594e+04 -1.00000000e+00]\n",
      " [ 2.98901367e+04 -1.00000000e+00]]\n"
     ]
    }
   ],
   "source": [
    "# Iterate the UP spike train to find the spikes that occur within the time interval\n",
    "up_train_start = -1\n",
    "up_train_end = up_spike_train.shape[0]\n",
    "for i, (spike_time, _) in enumerate(up_spike_train):\n",
    "    if up_train_start == -1 and spike_time >= init_offset:\n",
    "        up_train_start = i\n",
    "    \n",
    "    if spike_time > init_offset + num_steps:\n",
    "        up_train_end = i\n",
    "        break\n",
    "\n",
    "# Slice the spike train to the time interval\n",
    "up_spike_train_interval = []\n",
    "if up_train_start != -1:\n",
    "    # If there are spikes in the interval\n",
    "    up_spike_train_interval = up_spike_train[up_train_start:up_train_end]\n",
    "    \n",
    "preview_np_array(up_spike_train_interval, \"Spike Events\")"
   ]
  },
  {
   "cell_type": "code",
   "execution_count": 353,
   "metadata": {},
   "outputs": [
    {
     "name": "stdout",
     "output_type": "stream",
     "text": [
      "Spike Events Shape: (730, 2).\n",
      "Preview: [[ 9.47265625e+02 -1.00000000e+00]\n",
      " [ 9.48242188e+02 -1.00000000e+00]\n",
      " [ 9.56054688e+02 -1.00000000e+00]\n",
      " [ 9.66796875e+02 -1.00000000e+00]\n",
      " [ 9.77539062e+02 -1.00000000e+00]\n",
      " ...\n",
      " [ 2.95810547e+04 -1.00000000e+00]\n",
      " [ 2.95825195e+04 -1.00000000e+00]\n",
      " [ 2.95839844e+04 -1.00000000e+00]\n",
      " [ 2.97099609e+04 -1.00000000e+00]\n",
      " [ 2.98837891e+04 -1.00000000e+00]]\n"
     ]
    }
   ],
   "source": [
    "# Iterate the UP spike train to find the spikes that occur within the time interval\n",
    "down_train_start = -1\n",
    "down_train_end = down_spike_train.shape[0]\n",
    "for i, (spike_time, _) in enumerate(down_spike_train):\n",
    "    if down_train_start == -1 and spike_time >= init_offset:\n",
    "        down_train_start = i\n",
    "    \n",
    "    if spike_time > init_offset + num_steps:\n",
    "        down_train_end = i\n",
    "        break\n",
    "\n",
    "# Slice the spike train to the time interval\n",
    "down_spike_train_interval = []\n",
    "if down_train_start != -1:\n",
    "    # If there are spikes in the interval\n",
    "    down_spike_train_interval = down_spike_train[down_train_start:down_train_end]\n",
    "    \n",
    "preview_np_array(down_spike_train_interval, \"Spike Events\")"
   ]
  },
  {
   "cell_type": "markdown",
   "metadata": {},
   "source": [
    "## Implement the `SpikeEventGenerator` Model"
   ]
  },
  {
   "cell_type": "code",
   "execution_count": 354,
   "metadata": {},
   "outputs": [],
   "source": [
    "from lava.magma.core.model.py.model import PyLoihiProcessModel  # Processes running on CPU inherit from this class\n",
    "from lava.magma.core.resources import CPU\n",
    "from lava.magma.core.decorator import implements, requires\n",
    "from lava.magma.core.sync.protocols.loihi_protocol import LoihiProtocol\n",
    "from lava.magma.core.model.py.type import LavaPyType\n",
    "from lava.magma.core.model.py.ports import PyOutPort\n",
    "\n",
    "@implements(proc=SpikeEventGen, protocol=LoihiProtocol)\n",
    "@requires(CPU)\n",
    "class PySpikeEventGenModel(PyLoihiProcessModel):\n",
    "    \"\"\"Spike Event Generator Process implementation running on CPU (Python)\n",
    "    Args:\n",
    "    \"\"\"\n",
    "    s_out: PyOutPort = LavaPyType(PyOutPort.VEC_DENSE, float)   # IT IS POSSIBLE TO SEND FLOATS AFTER ALL\n",
    "    exc_spike_events: np.ndarray = LavaPyType(np.ndarray, np.ndarray)\n",
    "    inh_spike_events: np.ndarray = LavaPyType(np.ndarray, np.ndarray)\n",
    "\n",
    "    def __init__(self, proc_params) -> None:\n",
    "        super().__init__(proc_params=proc_params)\n",
    "        # print(\"spike events\", self.spike_events.__str__())    # TODO: Check why during initialization the variable prints the class, while during run it prints the value\n",
    "        \n",
    "        self.curr_exc_idx = 0     # Index of the next excitatory spiking event to send\n",
    "        self.curr_inh_idx = 0     # Index of the next inhibitory spiking event to send\n",
    "        self.virtual_time_step_interval = virtual_time_step_interval  # 1000    # Arbitrary time between time steps (in microseconds). This is not a real time interval (1000ms = 1s)\n",
    "        self.init_offset = init_offset        # 698995               # Arbitrary offset to start the simulation (in microseconds)\n",
    "        \n",
    "        # Try to increment the curr_exc_idx and curr_inh_idx to the first spike event that is greater than the init_offset here?\n",
    "\n",
    "    def run_spk(self) -> None:\n",
    "        spike_data = np.zeros(self.s_out.shape) # Initialize the spike data to 0\n",
    "        \n",
    "        #print(\"time step:\", self.time_step)\n",
    "\n",
    "        # If the current simulation time is greater than a spike event, send a spike in the corresponding channel\n",
    "        currTime = self.init_offset + self.time_step*self.virtual_time_step_interval\n",
    "\n",
    "        spiking_channels = set()   # List of channels that will spike in the current time step\n",
    "\n",
    "        # Add the excitatory spike events to the spike_date\n",
    "        while (self.curr_exc_idx < len(self.exc_spike_events)) and currTime >= self.exc_spike_events[self.curr_exc_idx][0]:\n",
    "            # Get the channel of the current spike event\n",
    "            curr_channel = self.exc_spike_events[self.curr_exc_idx][1]\n",
    "\n",
    "            # Check if the channel is valid (belongs to a channel in the up_channel_map therefore it has an output index)\n",
    "            if curr_channel not in up_channel_map:\n",
    "                self.curr_exc_idx += 1\n",
    "                continue    # Skip the current spike event\n",
    "\n",
    "            # Check if the next spike belongs to a channel that will already spike in this time step\n",
    "            # If so, we don't add the event and stop looking for more events\n",
    "            if curr_channel in spiking_channels:\n",
    "                break\n",
    "\n",
    "            # Add the channel to the list of spiking channels\n",
    "            spiking_channels.add(curr_channel)\n",
    "\n",
    "            # Get the output index of the current channel according to the up_channel_map\n",
    "            out_idx = up_channel_map[curr_channel]\n",
    "            if out_idx < self.s_out.shape[0]:   # Check if the channel is valid\n",
    "                # Update the spike_data with the excitatory spike event (value = 1.0)\n",
    "                spike_data[out_idx] = 1.0   # Send spike (value corresponds to the punctual current of the spike event)\n",
    "\n",
    "            # Move to the next spike event\n",
    "            self.curr_exc_idx += 1\n",
    "\n",
    "        # Add the inhibitory spike events to the spike_date\n",
    "        while (self.curr_inh_idx < len(self.inh_spike_events)) and currTime >= self.inh_spike_events[self.curr_inh_idx][0]:\n",
    "            # Get the channel of the current spike event\n",
    "            curr_channel = self.inh_spike_events[self.curr_inh_idx][1]\n",
    "\n",
    "            # Check if the channel is valid (belongs to a channel in the down_channel_map therefore it has an output index)\n",
    "            if curr_channel not in down_channel_map:\n",
    "                self.curr_inh_idx += 1\n",
    "                continue    # Skip the current spike event\n",
    "\n",
    "            # Check if the next spike belongs to a channel that will already spike in this time step\n",
    "            # If so, we don't add the event and stop looking for more events\n",
    "            if curr_channel in spiking_channels:\n",
    "                break\n",
    "\n",
    "            # Add the channel to the list of spiking channels\n",
    "            spiking_channels.add(curr_channel)\n",
    "\n",
    "            # Get the output index of the current channel according to the down_channel_map\n",
    "            out_idx = down_channel_map[curr_channel]\n",
    "            if out_idx < self.s_out.shape[0]:   # Check if the channel is valid\n",
    "                # It is not possible to send negative values or floats in the spike_data. The weight of the synapse should do the inhibition\n",
    "                spike_data[out_idx] = 1.0   # Send spike (value corresponds to the punctual current of the spike event)\n",
    "\n",
    "            # Move to the next spike event\n",
    "            self.curr_inh_idx += 1\n",
    "\n",
    "\n",
    "        if len(spiking_channels) > 0:   # Print the spike event if there are any spikes\n",
    "            VERBOSE = False\n",
    "            if VERBOSE:\n",
    "                print(f\"\"\"Sending spike event at time: {currTime}({self.time_step}). Last (E/I) spike idx: {self.curr_exc_idx-1}/{self.curr_inh_idx-1}\n",
    "                        Spike times: {self.exc_spike_events[self.curr_exc_idx-1][0] if self.curr_exc_idx > 0 else \"?\"}/\\\n",
    "                        {self.inh_spike_events[self.curr_inh_idx-1][0] if self.curr_inh_idx > 0 else \"?\"}\n",
    "                        Spike_data: {spike_data}\\n\"\"\"\n",
    "                )\n",
    "            #else:\n",
    "            #     print(f\"Sending spike event at time: {currTime}({self.time_step}).\")\n",
    "\n",
    "        # Send spikes if self.curr_exc_idx > 0 else \"?\"\n",
    "        # print(\"sending spike_data: \", spike_data, \" at step: \", self.time_step)\n",
    "        self.s_out.send(spike_data)\n",
    "\n",
    "        # Stop the Process if there are no more spike events to send. (It will stop all the connected processes)\n",
    "        # TODO: Should it be another process that stops the simulation? Such as the last LIF process\n",
    "        # if self.curr_spike_idx >= 5: # len(self.spike_events):\n",
    "        #    self.pause()\n",
    "\n",
    "        # Print a progress message every 1000 time steps\n",
    "        if self.time_step % 1000 == 0:\n",
    "            # Clear the console\n",
    "            print(f\"Time step: {self.time_step}\")"
   ]
  },
  {
   "cell_type": "markdown",
   "metadata": {},
   "source": [
    "## Connect the Layers\n",
    "To define the connectivity between the `SpikeGenerator` and the first `LIF` population, we use another `Dense` Layer."
   ]
  },
  {
   "cell_type": "code",
   "execution_count": 355,
   "metadata": {},
   "outputs": [],
   "source": [
    "# Create the Input Process\n",
    "spike_event_gen = SpikeEventGen(out_shape=(n_spike_gen,),\n",
    "                                exc_spike_events=up_spike_train_interval,\n",
    "                                inh_spike_event=down_spike_train_interval,\n",
    "                                name=\"SpikeEventsGenerator\")\n",
    "\n",
    "# If I connect the SpikeEventGen to the Dense Layer, the a_out value of the custom input will be rounded to 0 or 1 in the Dense Layer (it will not be a float) \n",
    "# However, setting the Dense weights to a float works instead\n",
    "# Connect the SpikeEventGen to the Dense Layer\n",
    "spike_event_gen.s_out.connect(dense_input.s_in)\n",
    "\n",
    "# Connect the Dense_Input to the LIF1 Layer\n",
    "dense_input.a_out.connect(configLIF.a_in)"
   ]
  },
  {
   "cell_type": "markdown",
   "metadata": {},
   "source": [
    "### Take a look at the connections in the Input Layer"
   ]
  },
  {
   "cell_type": "code",
   "execution_count": 356,
   "metadata": {},
   "outputs": [
    {
     "name": "stdout",
     "output_type": "stream",
     "text": [
      "Proc: SpikeEventsGenerator Port Name: s_out Size: 2\n",
      "Proc: DenseInput Port Name: s_in  Size: 2\n",
      "Proc: DenseInput Port Name: a_out Size: 256\n",
      "Proc: lif1  Port Name: a_in  Size: 256\n",
      "Proc: lif1  Port Name: s_out Size: 256\n"
     ]
    }
   ],
   "source": [
    "for proc in [spike_event_gen, dense_input, configLIF]:\n",
    "    for port in proc.in_ports:\n",
    "        print(f\"Proc: {proc.name:<5} Port Name: {port.name:<5} Size: {port.size}\")\n",
    "    for port in proc.out_ports:\n",
    "        print(f\"Proc: {proc.name:<5} Port Name: {port.name:<5} Size: {port.size}\")"
   ]
  },
  {
   "cell_type": "markdown",
   "metadata": {},
   "source": [
    "### Record Internal Vars over time\n",
    "To record the evolution of the internal variables over time, we need a `Monitor`. For this example, we want to record the membrane potential of the `LIF` Layer, hence we need 1 `Monitors`.\n",
    "\n",
    "We can define the `Var` that a `Monitor` should record, as well as the recording duration, using the `probe` function"
   ]
  },
  {
   "cell_type": "code",
   "execution_count": 357,
   "metadata": {},
   "outputs": [],
   "source": [
    "from lava.proc.monitor.process import Monitor\n",
    "\n",
    "monitor_lif1_v = Monitor()\n",
    "monitor_lif1_u = Monitor()\n",
    "\n",
    "# Connect the monitors to the variables we want to monitor\n",
    "monitor_lif1_v.probe(configLIF.v, num_steps)\n",
    "monitor_lif1_u.probe(configLIF.u, num_steps)  # Monitoring the net_current (u_exc + u_inh) of the LIF1 Process"
   ]
  },
  {
   "cell_type": "markdown",
   "metadata": {},
   "source": [
    "## Execution\n",
    "Now that we have defined the network, we can execute it. We will use the `run` function to execute the network."
   ]
  },
  {
   "cell_type": "markdown",
   "metadata": {},
   "source": [
    "### Run Configuration and Conditions"
   ]
  },
  {
   "cell_type": "code",
   "execution_count": 358,
   "metadata": {},
   "outputs": [],
   "source": [
    "from lava.magma.core.run_conditions import RunContinuous, RunSteps\n",
    "from lava.magma.core.run_configs import Loihi1SimCfg\n",
    "\n",
    "# run_condition = RunContinuous()   # TODO: Change to this one\n",
    "run_condition = RunSteps(num_steps=num_steps)\n",
    "run_cfg = Loihi1SimCfg(select_tag=\"floating_pt\")   # TODO: Check why we need this select_tag=\"floating_pt\""
   ]
  },
  {
   "cell_type": "markdown",
   "metadata": {},
   "source": [
    "### Execute"
   ]
  },
  {
   "cell_type": "code",
   "execution_count": 359,
   "metadata": {},
   "outputs": [
    {
     "name": "stdout",
     "output_type": "stream",
     "text": [
      "Time step: 1000\n",
      "Time step: 2000\n",
      "Time step: 3000\n",
      "Time step: 4000\n",
      "Time step: 5000\n",
      "Time step: 6000\n",
      "Time step: 7000\n",
      "Time step: 8000\n",
      "Time step: 9000\n",
      "Time step: 10000\n",
      "Time step: 11000\n",
      "Time step: 12000\n",
      "Time step: 13000\n",
      "Time step: 14000\n",
      "Time step: 15000\n",
      "Time step: 16000\n",
      "Time step: 17000\n",
      "Time step: 18000\n",
      "Time step: 19000\n",
      "Time step: 20000\n",
      "Time step: 21000\n",
      "Time step: 22000\n",
      "Time step: 23000\n",
      "Time step: 24000\n",
      "Time step: 25000\n",
      "Time step: 26000\n",
      "Time step: 27000\n",
      "Time step: 28000\n",
      "Time step: 29000\n",
      "Time step: 30000\n"
     ]
    }
   ],
   "source": [
    "configLIF.run(condition=run_condition, run_cfg=run_cfg)"
   ]
  },
  {
   "cell_type": "markdown",
   "metadata": {},
   "source": [
    "### Retrieve recorded data"
   ]
  },
  {
   "cell_type": "code",
   "execution_count": 360,
   "metadata": {},
   "outputs": [
    {
     "name": "stdout",
     "output_type": "stream",
     "text": [
      "Copying...\n"
     ]
    }
   ],
   "source": [
    "data_lif1_v = monitor_lif1_v.get_data()\n",
    "data_lif1_u = monitor_lif1_u.get_data()\n",
    "\n",
    "print(\"Copying...\")\n",
    "data_lif1 = data_lif1_v.copy()\n",
    "data_lif1[\"lif1\"][\"u\"] = data_lif1_u[\"lif1\"][\"u\"]   # Merge the dictionaries to contain both voltage and current\n"
   ]
  },
  {
   "cell_type": "code",
   "execution_count": 361,
   "metadata": {},
   "outputs": [
    {
     "data": {
      "text/plain": [
       "<lava.proc.lif.process.ConfigTimeConstantsLIF at 0x7f246ed9fa00>"
      ]
     },
     "execution_count": 361,
     "metadata": {},
     "output_type": "execute_result"
    }
   ],
   "source": [
    "configLIF"
   ]
  },
  {
   "cell_type": "code",
   "execution_count": 362,
   "metadata": {},
   "outputs": [
    {
     "name": "stdout",
     "output_type": "stream",
     "text": [
      "30000\n"
     ]
    }
   ],
   "source": [
    "# Check the shape to verify if it is printing the voltage for every step\n",
    "print(len(data_lif1['lif1']['v']))     # Indeed, there are 300 values (same as the number of steps we ran the simulation for)"
   ]
  },
  {
   "cell_type": "markdown",
   "metadata": {},
   "source": [
    "### Plot the recorded data"
   ]
  },
  {
   "cell_type": "code",
   "execution_count": 363,
   "metadata": {},
   "outputs": [],
   "source": [
    "import matplotlib\n",
    "%matplotlib inline\n",
    "from matplotlib import pyplot as plt\n",
    "\n",
    "# Boolean defining if we should use the monitor plot\n",
    "MONITOR_PLOT = False\n",
    "\n",
    "if MONITOR_PLOT:\n",
    "    # Create a subplot for each monitored variable\n",
    "    fig = plt.figure(figsize=(16, 10))\n",
    "    ax0 = fig.add_subplot(221)\n",
    "    ax0.set_title('Voltage (V) / time step')\n",
    "    ax1 = fig.add_subplot(222)\n",
    "    ax1.set_title('Current (U) / time step')\n",
    "\n",
    "\n",
    "    # Plot the data\n",
    "    monitor_lif1_v.plot(ax0, lif1.v)\n",
    "    monitor_lif1_u.plot(ax1, lif1.u)"
   ]
  },
  {
   "cell_type": "markdown",
   "metadata": {},
   "source": [
    "## Find the timesteps where the network spiked"
   ]
  },
  {
   "cell_type": "code",
   "execution_count": 364,
   "metadata": {},
   "outputs": [
    {
     "name": "stdout",
     "output_type": "stream",
     "text": [
      "Spike time: 1002 (iter. 1002) at neuron: 0\n",
      "Spike time: 1003 (iter. 1003) at neuron: 10\n",
      "Spike time: 2626 (iter. 2626) at neuron: 192\n",
      "Spike time: 2627 (iter. 2627) at neuron: 0\n",
      "Spike time: 2628 (iter. 2628) at neuron: 10\n",
      "Spike time: 2629 (iter. 2629) at neuron: 108\n",
      "Spike time: 3235 (iter. 3235) at neuron: 1\n",
      "Spike time: 3236 (iter. 3236) at neuron: 92\n",
      "Spike time: 3245 (iter. 3245) at neuron: 217\n",
      "Spike time: 3246 (iter. 3246) at neuron: 2\n",
      "Spike time: 3247 (iter. 3247) at neuron: 7\n",
      "Spike time: 3248 (iter. 3248) at neuron: 10\n",
      "Spike time: 3255 (iter. 3255) at neuron: 52\n",
      "Spike time: 3256 (iter. 3256) at neuron: 1\n",
      "Spike time: 3257 (iter. 3257) at neuron: 0\n",
      "Spike time: 3258 (iter. 3258) at neuron: 17\n",
      "Spike time: 3259 (iter. 3259) at neuron: 97\n",
      "Spike time: 3268 (iter. 3268) at neuron: 174\n",
      "Spike time: 3269 (iter. 3269) at neuron: 2\n",
      "Spike time: 3270 (iter. 3270) at neuron: 0\n",
      "Spike time: 3281 (iter. 3281) at neuron: 12\n",
      "Spike time: 3282 (iter. 3282) at neuron: 1\n",
      "Spike time: 3294 (iter. 3294) at neuron: 0\n",
      "Spike time: 3513 (iter. 3513) at neuron: 246\n",
      "Spike time: 3514 (iter. 3514) at neuron: 0\n",
      "Spike time: 3532 (iter. 3532) at neuron: 1\n",
      "Spike time: 3533 (iter. 3533) at neuron: 3\n",
      "Spike time: 3534 (iter. 3534) at neuron: 0\n",
      "Spike time: 3535 (iter. 3535) at neuron: 3\n",
      "Spike time: 3536 (iter. 3536) at neuron: 12\n",
      "Spike time: 3537 (iter. 3537) at neuron: 0\n",
      "Spike time: 3538 (iter. 3538) at neuron: 45\n",
      "Spike time: 3544 (iter. 3544) at neuron: 0\n",
      "Spike time: 3545 (iter. 3545) at neuron: 2\n",
      "Spike time: 3546 (iter. 3546) at neuron: 0\n",
      "Spike time: 3547 (iter. 3547) at neuron: 2\n",
      "Spike time: 3548 (iter. 3548) at neuron: 1\n",
      "Spike time: 3549 (iter. 3549) at neuron: 2\n",
      "Spike time: 3550 (iter. 3550) at neuron: 1\n",
      "Spike time: 3551 (iter. 3551) at neuron: 2\n",
      "Spike time: 3552 (iter. 3552) at neuron: 5\n",
      "Spike time: 3553 (iter. 3553) at neuron: 0\n",
      "Spike time: 3554 (iter. 3554) at neuron: 5\n",
      "Spike time: 3555 (iter. 3555) at neuron: 1\n",
      "Spike time: 3556 (iter. 3556) at neuron: 4\n",
      "Spike time: 3557 (iter. 3557) at neuron: 1\n",
      "Spike time: 3558 (iter. 3558) at neuron: 6\n",
      "Spike time: 3559 (iter. 3559) at neuron: 1\n",
      "Spike time: 3560 (iter. 3560) at neuron: 6\n",
      "Spike time: 3561 (iter. 3561) at neuron: 1\n",
      "Spike time: 3562 (iter. 3562) at neuron: 21\n",
      "Spike time: 3563 (iter. 3563) at neuron: 5\n",
      "Spike time: 3564 (iter. 3564) at neuron: 16\n",
      "Spike time: 3565 (iter. 3565) at neuron: 0\n",
      "Spike time: 3566 (iter. 3566) at neuron: 3\n",
      "Spike time: 3567 (iter. 3567) at neuron: 1\n",
      "Spike time: 3568 (iter. 3568) at neuron: 3\n",
      "Spike time: 3569 (iter. 3569) at neuron: 1\n",
      "Spike time: 3570 (iter. 3570) at neuron: 3\n",
      "Spike time: 3571 (iter. 3571) at neuron: 9\n",
      "Spike time: 3572 (iter. 3572) at neuron: 5\n",
      "Spike time: 3573 (iter. 3573) at neuron: 0\n",
      "Spike time: 3574 (iter. 3574) at neuron: 192\n",
      "Spike time: 3854 (iter. 3854) at neuron: 246\n",
      "Spike time: 3855 (iter. 3855) at neuron: 0\n",
      "Spike time: 3856 (iter. 3856) at neuron: 10\n",
      "Spike time: 3857 (iter. 3857) at neuron: 108\n",
      "Spike time: 4151 (iter. 4151) at neuron: 1\n",
      "Spike time: 4152 (iter. 4152) at neuron: 0\n",
      "Spike time: 4153 (iter. 4153) at neuron: 3\n",
      "Spike time: 4162 (iter. 4162) at neuron: 50\n",
      "Spike time: 4164 (iter. 4164) at neuron: 161\n",
      "Spike time: 4165 (iter. 4165) at neuron: 0\n",
      "Spike time: 6175 (iter. 6175) at neuron: 1\n",
      "Spike time: 6176 (iter. 6176) at neuron: 0\n",
      "Spike time: 6181 (iter. 6181) at neuron: 0\n",
      "Spike time: 6182 (iter. 6182) at neuron: 1\n",
      "Spike time: 6183 (iter. 6183) at neuron: 0\n",
      "Spike time: 6184 (iter. 6184) at neuron: 1\n",
      "Spike time: 6185 (iter. 6185) at neuron: 0\n",
      "Spike time: 6195 (iter. 6195) at neuron: 0\n",
      "Spike time: 6196 (iter. 6196) at neuron: 10\n",
      "Spike time: 6197 (iter. 6197) at neuron: 63\n",
      "Spike time: 6677 (iter. 6677) at neuron: 50\n",
      "Spike time: 6678 (iter. 6678) at neuron: 1\n",
      "Spike time: 6679 (iter. 6679) at neuron: 0\n",
      "Spike time: 6680 (iter. 6680) at neuron: 9\n",
      "Spike time: 6681 (iter. 6681) at neuron: 165\n",
      "Spike time: 6686 (iter. 6686) at neuron: 0\n",
      "Spike time: 6687 (iter. 6687) at neuron: 1\n",
      "Spike time: 6688 (iter. 6688) at neuron: 0\n",
      "Spike time: 6689 (iter. 6689) at neuron: 1\n",
      "Spike time: 6690 (iter. 6690) at neuron: 0\n",
      "Spike time: 6691 (iter. 6691) at neuron: 3\n",
      "Spike time: 6692 (iter. 6692) at neuron: 0\n",
      "Spike time: 6693 (iter. 6693) at neuron: 20\n",
      "Spike time: 6696 (iter. 6696) at neuron: 0\n",
      "Spike time: 6697 (iter. 6697) at neuron: 5\n",
      "Spike time: 6698 (iter. 6698) at neuron: 0\n",
      "Spike time: 6699 (iter. 6699) at neuron: 10\n",
      "Spike time: 6700 (iter. 6700) at neuron: 45\n",
      "Spike time: 6710 (iter. 6710) at neuron: 50\n",
      "Spike time: 6711 (iter. 6711) at neuron: 52\n",
      "Spike time: 6712 (iter. 6712) at neuron: 1\n",
      "Spike time: 7606 (iter. 7606) at neuron: 186\n",
      "Spike time: 7607 (iter. 7607) at neuron: 1\n",
      "Spike time: 7617 (iter. 7617) at neuron: 50\n",
      "Spike time: 7618 (iter. 7618) at neuron: 35\n",
      "Spike time: 7619 (iter. 7619) at neuron: 2\n",
      "Spike time: 7620 (iter. 7620) at neuron: 64\n",
      "Spike time: 8076 (iter. 8076) at neuron: 1\n",
      "Spike time: 8077 (iter. 8077) at neuron: 3\n",
      "Spike time: 8078 (iter. 8078) at neuron: 0\n",
      "Spike time: 8079 (iter. 8079) at neuron: 36\n",
      "Spike time: 8089 (iter. 8089) at neuron: 54\n",
      "Spike time: 8090 (iter. 8090) at neuron: 1\n",
      "Spike time: 8091 (iter. 8091) at neuron: 0\n",
      "Spike time: 8092 (iter. 8092) at neuron: 3\n",
      "Spike time: 8093 (iter. 8093) at neuron: 0\n",
      "Spike time: 8094 (iter. 8094) at neuron: 5\n",
      "Spike time: 8095 (iter. 8095) at neuron: 16\n",
      "Spike time: 8096 (iter. 8096) at neuron: 0\n",
      "Spike time: 8107 (iter. 8107) at neuron: 50\n",
      "Spike time: 8108 (iter. 8108) at neuron: 1\n",
      "Spike time: 8109 (iter. 8109) at neuron: 0\n",
      "Spike time: 8110 (iter. 8110) at neuron: 1\n",
      "Spike time: 8111 (iter. 8111) at neuron: 3\n",
      "Spike time: 8112 (iter. 8112) at neuron: 0\n",
      "Spike time: 8113 (iter. 8113) at neuron: 45\n",
      "Spike time: 8114 (iter. 8114) at neuron: 17\n",
      "Spike time: 8115 (iter. 8115) at neuron: 0\n",
      "Spike time: 8116 (iter. 8116) at neuron: 7\n",
      "Spike time: 8117 (iter. 8117) at neuron: 0\n",
      "Spike time: 8118 (iter. 8118) at neuron: 4\n",
      "Spike time: 8119 (iter. 8119) at neuron: 5\n",
      "Spike time: 8120 (iter. 8120) at neuron: 0\n",
      "Spike time: 9679 (iter. 9679) at neuron: 1\n",
      "Spike time: 9680 (iter. 9680) at neuron: 0\n",
      "Spike time: 9681 (iter. 9681) at neuron: 29\n",
      "Spike time: 9682 (iter. 9682) at neuron: 135\n",
      "Spike time: 9684 (iter. 9684) at neuron: 0\n",
      "Spike time: 9685 (iter. 9685) at neuron: 5\n",
      "Spike time: 9686 (iter. 9686) at neuron: 0\n",
      "Spike time: 9687 (iter. 9687) at neuron: 3\n",
      "Spike time: 9688 (iter. 9688) at neuron: 0\n",
      "Spike time: 9689 (iter. 9689) at neuron: 5\n",
      "Spike time: 9690 (iter. 9690) at neuron: 0\n",
      "Spike time: 9709 (iter. 9709) at neuron: 50\n",
      "Spike time: 9710 (iter. 9710) at neuron: 1\n",
      "Spike time: 9711 (iter. 9711) at neuron: 12\n",
      "Spike time: 10222 (iter. 10222) at neuron: 1\n",
      "Spike time: 10223 (iter. 10223) at neuron: 0\n",
      "Spike time: 10224 (iter. 10224) at neuron: 17\n",
      "Spike time: 10227 (iter. 10227) at neuron: 116\n",
      "Spike time: 10228 (iter. 10228) at neuron: 0\n",
      "Spike time: 10229 (iter. 10229) at neuron: 1\n",
      "Spike time: 10230 (iter. 10230) at neuron: 0\n",
      "Spike time: 10243 (iter. 10243) at neuron: 35\n",
      "Spike time: 10244 (iter. 10244) at neuron: 82\n",
      "Spike time: 10531 (iter. 10531) at neuron: 114\n",
      "Spike time: 10532 (iter. 10532) at neuron: 1\n",
      "Spike time: 10533 (iter. 10533) at neuron: 9\n",
      "Spike time: 10769 (iter. 10769) at neuron: 246\n",
      "Spike time: 10770 (iter. 10770) at neuron: 0\n",
      "Spike time: 10771 (iter. 10771) at neuron: 10\n",
      "Spike time: 10772 (iter. 10772) at neuron: 108\n",
      "Spike time: 11365 (iter. 11365) at neuron: 246\n",
      "Spike time: 11366 (iter. 11366) at neuron: 0\n",
      "Spike time: 11367 (iter. 11367) at neuron: 10\n",
      "Spike time: 11368 (iter. 11368) at neuron: 108\n",
      "Spike time: 11556 (iter. 11556) at neuron: 0\n",
      "Spike time: 11557 (iter. 11557) at neuron: 10\n",
      "Spike time: 11558 (iter. 11558) at neuron: 108\n",
      "Spike time: 11653 (iter. 11653) at neuron: 1\n",
      "Spike time: 11663 (iter. 11663) at neuron: 50\n",
      "Spike time: 11664 (iter. 11664) at neuron: 92\n",
      "Spike time: 11665 (iter. 11665) at neuron: 2\n",
      "Spike time: 11666 (iter. 11666) at neuron: 9\n",
      "Spike time: 11677 (iter. 11677) at neuron: 63\n",
      "Spike time: 11678 (iter. 11678) at neuron: 0\n",
      "Spike time: 12134 (iter. 12134) at neuron: 0\n",
      "Spike time: 12155 (iter. 12155) at neuron: 10\n",
      "Spike time: 12156 (iter. 12156) at neuron: 0\n",
      "Spike time: 12177 (iter. 12177) at neuron: 2\n",
      "Spike time: 12178 (iter. 12178) at neuron: 1\n",
      "Spike time: 12179 (iter. 12179) at neuron: 0\n",
      "Spike time: 12225 (iter. 12225) at neuron: 1\n",
      "Spike time: 12226 (iter. 12226) at neuron: 2\n",
      "Spike time: 12227 (iter. 12227) at neuron: 91\n",
      "Spike time: 13211 (iter. 13211) at neuron: 1\n",
      "Spike time: 13212 (iter. 13212) at neuron: 0\n",
      "Spike time: 13213 (iter. 13213) at neuron: 45\n",
      "Spike time: 13214 (iter. 13214) at neuron: 124\n",
      "Spike time: 13223 (iter. 13223) at neuron: 132\n",
      "Spike time: 13224 (iter. 13224) at neuron: 39\n",
      "Spike time: 13225 (iter. 13225) at neuron: 1\n",
      "Spike time: 13239 (iter. 13239) at neuron: 92\n",
      "Spike time: 13587 (iter. 13587) at neuron: 44\n",
      "Spike time: 14600 (iter. 14600) at neuron: 1\n",
      "Spike time: 14601 (iter. 14601) at neuron: 0\n",
      "Spike time: 14607 (iter. 14607) at neuron: 3\n",
      "Spike time: 14608 (iter. 14608) at neuron: 0\n",
      "Spike time: 15238 (iter. 15238) at neuron: 1\n",
      "Spike time: 15239 (iter. 15239) at neuron: 0\n",
      "Spike time: 15244 (iter. 15244) at neuron: 22\n",
      "Spike time: 15245 (iter. 15245) at neuron: 0\n",
      "Spike time: 15246 (iter. 15246) at neuron: 3\n",
      "Spike time: 15247 (iter. 15247) at neuron: 131\n",
      "Spike time: 15252 (iter. 15252) at neuron: 50\n",
      "Spike time: 15253 (iter. 15253) at neuron: 0\n",
      "Spike time: 15254 (iter. 15254) at neuron: 5\n",
      "Spike time: 15813 (iter. 15813) at neuron: 0\n",
      "Spike time: 15814 (iter. 15814) at neuron: 10\n",
      "Spike time: 15815 (iter. 15815) at neuron: 108\n",
      "Spike time: 16130 (iter. 16130) at neuron: 0\n",
      "Spike time: 16131 (iter. 16131) at neuron: 17\n",
      "Spike time: 16142 (iter. 16142) at neuron: 12\n",
      "Spike time: 16154 (iter. 16154) at neuron: 1\n",
      "Spike time: 16798 (iter. 16798) at neuron: 50\n",
      "Spike time: 16799 (iter. 16799) at neuron: 1\n",
      "Spike time: 16800 (iter. 16800) at neuron: 36\n",
      "Spike time: 16809 (iter. 16809) at neuron: 35\n",
      "Spike time: 16810 (iter. 16810) at neuron: 7\n",
      "Spike time: 16811 (iter. 16811) at neuron: 0\n",
      "Spike time: 16812 (iter. 16812) at neuron: 205\n",
      "Spike time: 18146 (iter. 18146) at neuron: 0\n",
      "Spike time: 18147 (iter. 18147) at neuron: 192\n",
      "Spike time: 18148 (iter. 18148) at neuron: 10\n",
      "Spike time: 18149 (iter. 18149) at neuron: 17\n",
      "Spike time: 18797 (iter. 18797) at neuron: 1\n",
      "Spike time: 18798 (iter. 18798) at neuron: 0\n",
      "Spike time: 18799 (iter. 18799) at neuron: 17\n",
      "Spike time: 18800 (iter. 18800) at neuron: 116\n",
      "Spike time: 19088 (iter. 19088) at neuron: 1\n",
      "Spike time: 19098 (iter. 19098) at neuron: 50\n",
      "Spike time: 19100 (iter. 19100) at neuron: 2\n",
      "Spike time: 19101 (iter. 19101) at neuron: 0\n",
      "Spike time: 19776 (iter. 19776) at neuron: 50\n",
      "Spike time: 19777 (iter. 19777) at neuron: 0\n",
      "Spike time: 19778 (iter. 19778) at neuron: 24\n",
      "Spike time: 19783 (iter. 19783) at neuron: 0\n",
      "Spike time: 19784 (iter. 19784) at neuron: 1\n",
      "Spike time: 19785 (iter. 19785) at neuron: 0\n",
      "Spike time: 20786 (iter. 20786) at neuron: 50\n",
      "Spike time: 20787 (iter. 20787) at neuron: 1\n",
      "Spike time: 20788 (iter. 20788) at neuron: 3\n",
      "Spike time: 20789 (iter. 20789) at neuron: 0\n",
      "Spike time: 20797 (iter. 20797) at neuron: 150\n",
      "Spike time: 20798 (iter. 20798) at neuron: 17\n",
      "Spike time: 20799 (iter. 20799) at neuron: 0\n",
      "Spike time: 20846 (iter. 20846) at neuron: 12\n",
      "Spike time: 20847 (iter. 20847) at neuron: 1\n",
      "Spike time: 20848 (iter. 20848) at neuron: 0\n",
      "Spike time: 21055 (iter. 21055) at neuron: 1\n",
      "Spike time: 21056 (iter. 21056) at neuron: 29\n",
      "Spike time: 21057 (iter. 21057) at neuron: 2\n",
      "Spike time: 21877 (iter. 21877) at neuron: 246\n",
      "Spike time: 21878 (iter. 21878) at neuron: 0\n",
      "Spike time: 21879 (iter. 21879) at neuron: 10\n",
      "Spike time: 21880 (iter. 21880) at neuron: 108\n",
      "Spike time: 22241 (iter. 22241) at neuron: 153\n",
      "Spike time: 22242 (iter. 22242) at neuron: 1\n",
      "Spike time: 22754 (iter. 22754) at neuron: 0\n",
      "Spike time: 22755 (iter. 22755) at neuron: 178\n",
      "Spike time: 22756 (iter. 22756) at neuron: 10\n",
      "Spike time: 23051 (iter. 23051) at neuron: 1\n",
      "Spike time: 23052 (iter. 23052) at neuron: 12\n",
      "Spike time: 23053 (iter. 23053) at neuron: 6\n",
      "Spike time: 24207 (iter. 24207) at neuron: 1\n",
      "Spike time: 24208 (iter. 24208) at neuron: 0\n",
      "Spike time: 24209 (iter. 24209) at neuron: 1\n",
      "Spike time: 24210 (iter. 24210) at neuron: 0\n",
      "Spike time: 24211 (iter. 24211) at neuron: 9\n",
      "Spike time: 24212 (iter. 24212) at neuron: 21\n",
      "Spike time: 24213 (iter. 24213) at neuron: 0\n",
      "Spike time: 24214 (iter. 24214) at neuron: 1\n",
      "Spike time: 24215 (iter. 24215) at neuron: 0\n",
      "Spike time: 24216 (iter. 24216) at neuron: 5\n",
      "Spike time: 24217 (iter. 24217) at neuron: 0\n",
      "Spike time: 24218 (iter. 24218) at neuron: 10\n",
      "Spike time: 24693 (iter. 24693) at neuron: 50\n",
      "Spike time: 24694 (iter. 24694) at neuron: 1\n",
      "Spike time: 24695 (iter. 24695) at neuron: 9\n",
      "Spike time: 25135 (iter. 25135) at neuron: 1\n",
      "Spike time: 25136 (iter. 25136) at neuron: 0\n",
      "Spike time: 25137 (iter. 25137) at neuron: 9\n",
      "Spike time: 25138 (iter. 25138) at neuron: 0\n",
      "Spike time: 25139 (iter. 25139) at neuron: 10\n",
      "Spike time: 25151 (iter. 25151) at neuron: 50\n",
      "Spike time: 25152 (iter. 25152) at neuron: 1\n",
      "Spike time: 25153 (iter. 25153) at neuron: 2\n",
      "Spike time: 25154 (iter. 25154) at neuron: 3\n",
      "Spike time: 25155 (iter. 25155) at neuron: 5\n",
      "Spike time: 25159 (iter. 25159) at neuron: 0\n",
      "Spike time: 25160 (iter. 25160) at neuron: 10\n",
      "Spike time: 25161 (iter. 25161) at neuron: 0\n",
      "Spike time: 25162 (iter. 25162) at neuron: 2\n",
      "Spike time: 25163 (iter. 25163) at neuron: 0\n",
      "Spike time: 25164 (iter. 25164) at neuron: 2\n",
      "Spike time: 25165 (iter. 25165) at neuron: 1\n",
      "Spike time: 25166 (iter. 25166) at neuron: 3\n",
      "Spike time: 25167 (iter. 25167) at neuron: 0\n",
      "Spike time: 25168 (iter. 25168) at neuron: 11\n",
      "Spike time: 25171 (iter. 25171) at neuron: 0\n",
      "Spike time: 25172 (iter. 25172) at neuron: 5\n",
      "Spike time: 25173 (iter. 25173) at neuron: 0\n",
      "Spike time: 25174 (iter. 25174) at neuron: 3\n",
      "Spike time: 25175 (iter. 25175) at neuron: 1\n",
      "Spike time: 25176 (iter. 25176) at neuron: 5\n",
      "Spike time: 25177 (iter. 25177) at neuron: 0\n",
      "Spike time: 25791 (iter. 25791) at neuron: 114\n",
      "Spike time: 25802 (iter. 25802) at neuron: 50\n",
      "Spike time: 25803 (iter. 25803) at neuron: 1\n",
      "Spike time: 25804 (iter. 25804) at neuron: 6\n",
      "Spike time: 26233 (iter. 26233) at neuron: 114\n",
      "Spike time: 26239 (iter. 26239) at neuron: 1\n",
      "Spike time: 26240 (iter. 26240) at neuron: 2\n",
      "Spike time: 26241 (iter. 26241) at neuron: 3\n",
      "Spike time: 26252 (iter. 26252) at neuron: 63\n",
      "Spike time: 26256 (iter. 26256) at neuron: 108\n",
      "Spike time: 26643 (iter. 26643) at neuron: 1\n",
      "Spike time: 26644 (iter. 26644) at neuron: 0\n",
      "Spike time: 26649 (iter. 26649) at neuron: 0\n",
      "Spike time: 26650 (iter. 26650) at neuron: 1\n",
      "Spike time: 26651 (iter. 26651) at neuron: 0\n",
      "Spike time: 26652 (iter. 26652) at neuron: 69\n",
      "Spike time: 26663 (iter. 26663) at neuron: 35\n",
      "Spike time: 26664 (iter. 26664) at neuron: 43\n",
      "Spike time: 26672 (iter. 26672) at neuron: 12\n",
      "Spike time: 26673 (iter. 26673) at neuron: 1\n",
      "Spike time: 26674 (iter. 26674) at neuron: 0\n",
      "Spike time: 26675 (iter. 26675) at neuron: 5\n",
      "Spike time: 27048 (iter. 27048) at neuron: 1\n",
      "Spike time: 27049 (iter. 27049) at neuron: 0\n",
      "Spike time: 27050 (iter. 27050) at neuron: 29\n",
      "Spike time: 27051 (iter. 27051) at neuron: 165\n",
      "Spike time: 27052 (iter. 27052) at neuron: 0\n",
      "Spike time: 27053 (iter. 27053) at neuron: 1\n",
      "Spike time: 27054 (iter. 27054) at neuron: 0\n",
      "Spike time: 27055 (iter. 27055) at neuron: 1\n",
      "Spike time: 27056 (iter. 27056) at neuron: 0\n",
      "Spike time: 27057 (iter. 27057) at neuron: 1\n",
      "Spike time: 27058 (iter. 27058) at neuron: 3\n",
      "Spike time: 27059 (iter. 27059) at neuron: 7\n",
      "Spike time: 27060 (iter. 27060) at neuron: 5\n",
      "Spike time: 27061 (iter. 27061) at neuron: 0\n",
      "Spike time: 27065 (iter. 27065) at neuron: 10\n",
      "Spike time: 27066 (iter. 27066) at neuron: 0\n",
      "Spike time: 27067 (iter. 27067) at neuron: 1\n",
      "Spike time: 27068 (iter. 27068) at neuron: 0\n",
      "Spike time: 27069 (iter. 27069) at neuron: 84\n",
      "Spike time: 28243 (iter. 28243) at neuron: 50\n",
      "Spike time: 28244 (iter. 28244) at neuron: 1\n",
      "Spike time: 28245 (iter. 28245) at neuron: 2\n",
      "Spike time: 28246 (iter. 28246) at neuron: 0\n",
      "Spike time: 28247 (iter. 28247) at neuron: 17\n",
      "Spike time: 28256 (iter. 28256) at neuron: 52\n",
      "Spike time: 28257 (iter. 28257) at neuron: 1\n",
      "Spike time: 28258 (iter. 28258) at neuron: 0\n",
      "Spike time: 28259 (iter. 28259) at neuron: 1\n",
      "Spike time: 28260 (iter. 28260) at neuron: 0\n",
      "Spike time: 28261 (iter. 28261) at neuron: 12\n",
      "Spike time: 28262 (iter. 28262) at neuron: 0\n",
      "Spike time: 28263 (iter. 28263) at neuron: 5\n",
      "Spike time: 28266 (iter. 28266) at neuron: 0\n",
      "Spike time: 28267 (iter. 28267) at neuron: 1\n",
      "Spike time: 28268 (iter. 28268) at neuron: 0\n",
      "Spike time: 28269 (iter. 28269) at neuron: 1\n",
      "Spike time: 28270 (iter. 28270) at neuron: 0\n",
      "Spike time: 28271 (iter. 28271) at neuron: 9\n",
      "Spike time: 28272 (iter. 28272) at neuron: 0\n",
      "Spike time: 29191 (iter. 29191) at neuron: 1\n",
      "Spike time: 29192 (iter. 29192) at neuron: 3\n",
      "Spike time: 29193 (iter. 29193) at neuron: 0\n",
      "Spike time: 29197 (iter. 29197) at neuron: 10\n",
      "Spike time: 29198 (iter. 29198) at neuron: 0\n",
      "Spike time: 29199 (iter. 29199) at neuron: 10\n",
      "Spike time: 29210 (iter. 29210) at neuron: 114\n",
      "Spike time: 29211 (iter. 29211) at neuron: 217\n",
      "Spike time: 29293 (iter. 29293) at neuron: 0\n",
      "Spike time: 29294 (iter. 29294) at neuron: 10\n",
      "Spike time: 29295 (iter. 29295) at neuron: 17\n",
      "Spike time: 29296 (iter. 29296) at neuron: 229\n",
      "Spike time: 29297 (iter. 29297) at neuron: 116\n",
      "Spike time: 29556 (iter. 29556) at neuron: 1\n",
      "Spike time: 29557 (iter. 29557) at neuron: 6\n",
      "Spike time: 29567 (iter. 29567) at neuron: 50\n",
      "Spike time: 29898 (iter. 29898) at neuron: 246\n",
      "Spike time: 29899 (iter. 29899) at neuron: 0\n",
      "Spike time: 29900 (iter. 29900) at neuron: 214\n",
      "Spike time: 29901 (iter. 29901) at neuron: 10\n",
      "Spike time: 29902 (iter. 29902) at neuron: 17\n"
     ]
    }
   ],
   "source": [
    "from utils.data_analysis import find_spike_times\n",
    "\n",
    "lif1_voltage_vals = np.array(data_lif1['lif1']['v'])\n",
    "lif1_current_vals = np.array(data_lif1['lif1']['u'])\n",
    "# preview_np_array(voltage_arr_1, \"Voltage Array\")\n",
    "\n",
    "# Call the find_spike_times util function that detects the spikes in a voltage array\n",
    "# TODO: Improve the find_spike_times method to view the current of the preview timestep to make sure it is a spike, instead of an inhibition\n",
    "spike_times_lif1 = find_spike_times(lif1_voltage_vals, lif1_current_vals)\n",
    "\n",
    "for (spike_time, neuron_idx) in spike_times_lif1:\n",
    "    print(f\"Spike time: {init_offset + spike_time * virtual_time_step_interval} (iter. {spike_time}) at neuron: {neuron_idx}\")\n"
   ]
  },
  {
   "cell_type": "markdown",
   "metadata": {},
   "source": [
    "## View the Voltage and Current dynamics with an interactive plot"
   ]
  },
  {
   "cell_type": "markdown",
   "metadata": {},
   "source": [
    "Grab the data from the recorded variables"
   ]
  },
  {
   "cell_type": "code",
   "execution_count": 365,
   "metadata": {},
   "outputs": [
    {
     "name": "stdout",
     "output_type": "stream",
     "text": [
      "Voltage Values Shape: (30000, 256).\n",
      "Preview: [[0.         0.         0.         ... 0.         0.         0.        ]\n",
      " [0.         0.         0.         ... 0.         0.         0.        ]\n",
      " [0.         0.         0.         ... 0.         0.         0.        ]\n",
      " ...\n",
      " [0.01076656 0.00082368 0.00083536 ... 0.00686751 0.00201955 0.00167341]\n",
      " [0.01014443 0.00077056 0.00078149 ... 0.00645422 0.00188931 0.00156549]\n",
      " [0.00955727 0.00072086 0.00073109 ... 0.00606525 0.00176747 0.00146453]]\n"
     ]
    }
   ],
   "source": [
    "preview_np_array(lif1_voltage_vals, \"Voltage Values\", edge_items=3)"
   ]
  },
  {
   "cell_type": "markdown",
   "metadata": {},
   "source": [
    "## Assemble the values to be plotted"
   ]
  },
  {
   "cell_type": "code",
   "execution_count": 366,
   "metadata": {},
   "outputs": [],
   "source": [
    "from utils.line_plot import create_fig  # Import the function to create the figure\n",
    "from bokeh.models import Range1d\n",
    "\n",
    "# Define the x and y values\n",
    "x = [val + init_offset for val in range(num_steps)]\n",
    "\n",
    "v_y1 = [val[0] for val in lif1_voltage_vals]\n",
    "v_y2 = [val[27] for val in lif1_voltage_vals]\n",
    "v_y3 = [val[28] for val in lif1_voltage_vals]\n",
    "v_y4 = [val[29] for val in lif1_voltage_vals]\n",
    "v_y5 = [val[4] for val in lif1_voltage_vals]\n",
    "v_y6 = [val[5] for val in lif1_voltage_vals]\n",
    "v_y7 = [val[6] for val in lif1_voltage_vals]\n",
    "v_y8 = [val[7] for val in lif1_voltage_vals]\n",
    "v_y9 = [val[8] for val in lif1_voltage_vals]\n",
    "v_y10 = [val[9] for val in lif1_voltage_vals]\n",
    "\n",
    "# Create the plot\n",
    "voltage_lif1_y_arrays = [\n",
    "    (v_y1, \"Neuron. 0\"), (v_y2, \"Neuron. 1\"), (v_y3, \"Neuron. 2\"),\n",
    "    (v_y4, \"Neuron. 3\"), (v_y5, \"Neuron. 4\"), # (v_y6, \"Neuron. 5\"),\n",
    "    # (v_y7, \"Neuron. 6\"), (v_y8, \"Neuron. 7\"), (v_y9, \"Neuron. 8\"),\n",
    "    # (v_y10, \"Neuron. 9\")\n",
    "]    # List of tuples containing the y values and the legend label\n",
    "# Define the box annotation parameters\n",
    "box_annotation_voltage = {\n",
    "    \"bottom\": 0,\n",
    "    \"top\": v_th,\n",
    "    \"left\": 0,\n",
    "    \"right\": num_steps,\n",
    "    \"fill_alpha\": 0.03,\n",
    "    \"fill_color\": \"green\"\n",
    "}\n",
    "\n",
    "# Create the LIF1 Voltage\n",
    "voltage_lif1_plot = create_fig(\n",
    "    title=\"LIF1 Voltage dynamics\", \n",
    "    x_axis_label='time (ms)', \n",
    "    y_axis_label='Voltage (V)',\n",
    "    x=x, \n",
    "    y_arrays=voltage_lif1_y_arrays, \n",
    "    sizing_mode=\"stretch_both\", \n",
    "    tools=\"pan, box_zoom, wheel_zoom, hover, undo, redo, zoom_in, zoom_out, reset, save\",\n",
    "    tooltips=\"Data point @x: @y\",\n",
    "    legend_location=\"top_right\",\n",
    "    legend_bg_fill_color=\"navy\",\n",
    "    legend_bg_fill_alpha=0.1,\n",
    "    box_annotation_params=box_annotation_voltage,\n",
    "    y_range=Range1d(-1.05, 1.05)\n",
    ")\n",
    "\n",
    "\n",
    "# Create the LIF1 Current\n",
    "u_y1 = [val[0] for val in lif1_current_vals]\n",
    "u_y2 = [val[27] for val in lif1_current_vals]\n",
    "u_y3 = [val[28] for val in lif1_current_vals]\n",
    "u_y4 = [val[29] for val in lif1_current_vals]\n",
    "u_y5 = [val[4] for val in lif1_current_vals]\n",
    "current_lif1_y_arrays = [(u_y1, \"Neuron. 0\"), (u_y2, \"Neuron. 1\"), (u_y3, \"Neuron. 2\"),\n",
    "                          (u_y4, \"Neuron. 3\"), (u_y5, \"Neuron. 4\")]    # List of tuples containing the y values and the legend label\n",
    "current_lif1_plot = create_fig(\n",
    "    title=\"LIF1 Current dynamics\", \n",
    "    x_axis_label='time (ms)', \n",
    "    y_axis_label='Current (U)',\n",
    "    x=x, \n",
    "    y_arrays=current_lif1_y_arrays, \n",
    "    sizing_mode=\"stretch_both\", \n",
    "    tools=\"pan, box_zoom, wheel_zoom, hover, undo, redo, zoom_in, zoom_out, reset, save\",\n",
    "    tooltips=\"Data point @x: @y\",\n",
    "    legend_location=\"top_right\",\n",
    "    legend_bg_fill_color=\"navy\",\n",
    "    legend_bg_fill_alpha=0.1,\n",
    "    x_range=voltage_lif1_plot.x_range,    # Link the x-axis range to the voltage plot\n",
    ")\n",
    "\n",
    "# bplt.show(voltage_lif1_plot)"
   ]
  },
  {
   "cell_type": "markdown",
   "metadata": {},
   "source": [
    "## Show the Plots assembled in a grid"
   ]
  },
  {
   "cell_type": "code",
   "execution_count": 367,
   "metadata": {},
   "outputs": [],
   "source": [
    "import bokeh.plotting as bplt\n",
    "from bokeh.layouts import gridplot\n",
    "\n",
    "showPlot = True\n",
    "if showPlot:\n",
    "    # Create array of plots to be shown\n",
    "    plots = [voltage_lif1_plot, current_lif1_plot]\n",
    "\n",
    "    if len(plots) == 1:\n",
    "        grid = plots[0]\n",
    "    else:   # Create a grid layout\n",
    "        grid = gridplot(plots, ncols=2, sizing_mode=\"stretch_both\")\n",
    "\n",
    "    # Show the plot\n",
    "    bplt.show(grid)"
   ]
  },
  {
   "cell_type": "markdown",
   "metadata": {},
   "source": [
    "## Export the plot to a file"
   ]
  },
  {
   "cell_type": "code",
   "execution_count": 373,
   "metadata": {},
   "outputs": [],
   "source": [
    "export = True\n",
    "OUTPUT_FOLDER = f\"./results/{DATASET_FILENAME}\"\n",
    "TIME_SUFFIX = f\"time{init_offset}-{num_steps}-{virtual_time_step_interval}\"\n",
    "THRESH_SUFFIX = f\"thresh{thresh_up}-{thresh_down}\"\n",
    "STRAT_SUFFIX = f\"strat{selected_strategy}\"\n",
    "WEIGHT_SUFFIX = f\"w{weights_scale_input}\"\n",
    "DV_SUFFIX = f\"dv{mean_dv}\"\n",
    "INH_RANGE = f\"inh{inh_subtract_range[0]}-{inh_subtract_range[1]}\"\n",
    "\n",
    "if export:\n",
    "    # Create the output folder if it does not exist\n",
    "    if not os.path.exists(OUTPUT_FOLDER):\n",
    "        os.makedirs(OUTPUT_FOLDER)\n",
    "\n",
    "    file_path = f\"{OUTPUT_FOLDER}/{band_file_name}_output_{DV_SUFFIX}_{WEIGHT_SUFFIX}_{THRESH_SUFFIX}_{INH_RANGE}_{STRAT_SUFFIX}_{TIME_SUFFIX}.html\"\n",
    "\n",
    "    # Customize the output file settings\n",
    "    bplt.output_file(filename=file_path, title=\"HFO Detection - Voltage and Current dynamics\")\n",
    "\n",
    "    # Save the plot\n",
    "    bplt.save(grid)"
   ]
  },
  {
   "cell_type": "markdown",
   "metadata": {},
   "source": [
    "## Export the Voltage and Current dynamics to a `.npy` file\n",
    "In order to classify the feature neurons (Noisy, Silent, Ripple, or Fast Ripple Detector), we need to export the voltage and current dynamics to a `.npy` file to be analyzed by a Classification Algorithm"
   ]
  },
  {
   "cell_type": "code",
   "execution_count": 369,
   "metadata": {},
   "outputs": [],
   "source": [
    "EXPORT_DYNAMICS = True\n",
    "if EXPORT_DYNAMICS:\n",
    "    # Define the file paths to save the Voltage and Current dynamics\n",
    "    v_dynamics_file_path = f\"{OUTPUT_FOLDER}/{band_file_name}_v_dynamics_{DV_SUFFIX}_{WEIGHT_SUFFIX}_{THRESH_SUFFIX}_{INH_RANGE}_{STRAT_SUFFIX}_{TIME_SUFFIX}.npy\"\n",
    "    u_dynamic_file_path = f\"{OUTPUT_FOLDER}/{band_file_name}_u_dynamics_{DV_SUFFIX}_{WEIGHT_SUFFIX}_{THRESH_SUFFIX}_{INH_RANGE}_{STRAT_SUFFIX}_{TIME_SUFFIX}.npy\"\n",
    "    \n",
    "    # Export the Voltage dynamics to a numpy file\n",
    "    np.save(v_dynamics_file_path, lif1_voltage_vals)\n",
    "    \n",
    "    # Export the Current dynamics to a numpy file\n",
    "    np.save(u_dynamic_file_path, lif1_current_vals)"
   ]
  },
  {
   "cell_type": "markdown",
   "metadata": {},
   "source": [
    "## Export the Ground Truth data to a `.npy` file along with necessary Simulation Parameters"
   ]
  },
  {
   "cell_type": "markdown",
   "metadata": {},
   "source": [
    "### Load the Ground Truth data from the `.npy` file"
   ]
  },
  {
   "cell_type": "code",
   "execution_count": 370,
   "metadata": {},
   "outputs": [
    {
     "name": "stdout",
     "output_type": "stream",
     "text": [
      "ground_truth Shape: (222,).\n",
      "Preview: [('Fast-Ripple',   1000.  , 0.)\n",
      " ('Spike+Ripple+Fast-Ripple',   3206.54, 0.)\n",
      " ('Spike+Ripple',   3521.  , 0.) ... ('Spike+Ripple', 116216.  , 0.)\n",
      " ('Ripple+Fast-Ripple', 116769.  , 0.) ('Ripple', 119000.  , 0.)]\n",
      "Number of relevant events: 222\n"
     ]
    }
   ],
   "source": [
    "# Load the ground_truth data\n",
    "ground_truth_file_name = f\"{INPUT_PATH}/{band_file_name}_ground_truth.npy\"\n",
    "\n",
    "ground_truth = np.load(ground_truth_file_name)\n",
    "\n",
    "preview_np_array(ground_truth, \"ground_truth\", edge_items=3)\n",
    "print(f\"Number of relevant events: {np.count_nonzero(ground_truth)}\")"
   ]
  },
  {
   "cell_type": "code",
   "execution_count": 371,
   "metadata": {},
   "outputs": [],
   "source": [
    "from utils.snn import SNNSimConfig\n",
    "\n",
    "EXPORT_CONFIG = True\n",
    "if EXPORT_CONFIG:\n",
    "    # Define the simulation configuration\n",
    "    snn_config = SNNSimConfig(ground_truth, init_offset, virtual_time_step_interval, num_steps)\n",
    "\n",
    "    snn_config_file_name = f\"{OUTPUT_FOLDER}/{band_file_name}_snn_config_{TIME_SUFFIX}.npy\"\n",
    "    # Save the SNN Config Class to a npy file\n",
    "    np.save(snn_config_file_name, snn_config)"
   ]
  },
  {
   "cell_type": "markdown",
   "metadata": {},
   "source": [
    "## Stop the Runtime"
   ]
  },
  {
   "cell_type": "code",
   "execution_count": 372,
   "metadata": {},
   "outputs": [],
   "source": [
    "lif1.stop()"
   ]
  }
 ],
 "metadata": {
  "kernelspec": {
   "display_name": "Python 3 (ipykernel)",
   "language": "python",
   "name": "python3"
  },
  "language_info": {
   "codemirror_mode": {
    "name": "ipython",
    "version": 3
   },
   "file_extension": ".py",
   "mimetype": "text/x-python",
   "name": "python",
   "nbconvert_exporter": "python",
   "pygments_lexer": "ipython3",
   "version": "3.10.12"
  }
 },
 "nbformat": 4,
 "nbformat_minor": 2
}
