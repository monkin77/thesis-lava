{
 "cells": [
  {
   "cell_type": "markdown",
   "metadata": {},
   "source": [
    "# Pre-Processing of the SEEG Signal\n",
    "This notebook presents the pre-processing stages the SEEG signal goes through before being fed to the SNN. The pre-processing stages are as follows:\n",
    "1. **Filtering**: The SEEG signal is bandpass filtered to remove noise and artifacts. The bandpass filter is designed using the Butterworth filter and, since we are working with *iEEG*, the signal is filtered in the ripples and FR bands. The co-occurrence of HFOs in both bands is an optimal prediction of post-surgical seizure freedom by defining an optimal \"HFO area\" or EZ zone.\n",
    "2. **Signal-to-Spike Conversion**: To interface and communicate with the silicon neurons in the SNN, the SEEG signal must be converted to spikes."
   ]
  },
  {
   "cell_type": "markdown",
   "metadata": {},
   "source": [
    "## Filtering\n",
    "Depending on the EEG modality, the signal is filtered in different frequency bands. In this case, since we are handling *iEEG* or *sEEG* data, the signal is filtered in both the ripples (80-250Hz) and FR bands (250-500Hz). The co-occurrence of HFO in these bands represents an optimal prediction of post-surgical seizure freedom by defining an optimal \"HFO area\" or EZ zone.\n",
    "\n",
    "The filter is implemented in different ways depending on the setup it will run on.\n",
    "1. **Neuromorphic Hardware**: The filter is implemented using analog filters. \n",
    "2. **Software Simulation**: *Butterworth filters* are utilized since they are a good approximation of the tuned *Tow-Thomas* architectures implemented in hardware."
   ]
  },
  {
   "cell_type": "markdown",
   "metadata": {},
   "source": [
    "The frequency response of the *Butterworth filter* is maximally flat in the passband and rolls of towards 0 in the stopband."
   ]
  },
  {
   "cell_type": "markdown",
   "metadata": {},
   "source": [
    "### Check WD (change if necessary) and file loading"
   ]
  },
  {
   "cell_type": "code",
   "execution_count": 79,
   "metadata": {},
   "outputs": [
    {
     "name": "stdout",
     "output_type": "stream",
     "text": [
      "/home/monkin/Desktop/feup/thesis/thesis-lava/src/hfo\n"
     ]
    }
   ],
   "source": [
    "# Show current directory\n",
    "import os\n",
    "curr_dir = os.getcwd()\n",
    "print(curr_dir)\n",
    "\n",
    "# Check if the current WD is the file location\n",
    "if \"/src/hfo\" not in os.getcwd():\n",
    "    # Set working directory to this file location\n",
    "    file_location = f\"{os.getcwd()}/thesis-lava/src/hfo/\"\n",
    "    print(\"File Location: \", file_location)\n",
    "\n",
    "    # Change the current working Directory\n",
    "    os.chdir(file_location)\n",
    "\n",
    "    # New Working Directory\n",
    "    print(\"New Working Directory: \", os.getcwd())\n",
    "\n",
    "PATH_TO_FILE = '' # 'src/hfo/'  # This is needed if the WD is not the same as the file location"
   ]
  },
  {
   "cell_type": "code",
   "execution_count": 80,
   "metadata": {},
   "outputs": [
    {
     "name": "stdout",
     "output_type": "stream",
     "text": [
      "Data shape:  (245760, 960)\n",
      "First time steps:  [[ 3.2352024e-01 -1.3235390e+00 -5.9668809e-01 ... -1.9608999e+00\n",
      "  -1.9769822e-01 -1.2078454e+00]\n",
      " [-6.9759099e-04 -3.5122361e+00 -4.8766956e-01 ... -5.8757830e+00\n",
      "  -7.4400985e-01 -5.1096064e-01]\n",
      " [ 1.9026639e+00 -5.6726017e+00  9.8274893e-01 ... -6.6182971e+00\n",
      "  -8.3053267e-01 -8.1596655e-01]\n",
      " ...\n",
      " [ 3.2172418e+00 -8.4650068e+00  1.5216088e+00 ... -4.1081657e+00\n",
      "   2.0085973e-01 -4.7539668e+00]\n",
      " [ 1.7725919e+00 -9.4744024e+00  1.6776791e+00 ... -4.1469693e+00\n",
      "   1.6412770e+00 -3.4672713e+00]\n",
      " [ 7.8109097e-01 -1.0500931e+01  2.3717029e+00 ... -5.1762242e+00\n",
      "   1.0715837e+00 -4.4489903e+00]]\n"
     ]
    }
   ],
   "source": [
    "import numpy as np\n",
    "import math\n",
    "\n",
    "seeg_file_name = \"seeg_synthetic_humans.npy\"\n",
    "recorded_data = np.load(f\"{PATH_TO_FILE}data/{seeg_file_name}\")\n",
    "\n",
    "print(\"Data shape: \", recorded_data.shape)\n",
    "print(\"First time steps: \", recorded_data[:10])"
   ]
  },
  {
   "cell_type": "markdown",
   "metadata": {},
   "source": [
    "### Add the parent directory to the path to detect the utils module"
   ]
  },
  {
   "cell_type": "code",
   "execution_count": 81,
   "metadata": {},
   "outputs": [],
   "source": [
    "import os\n",
    "import sys\n",
    "\n",
    "# Add the parent directory to the path so it detects the utils module\n",
    "module_path = os.path.abspath(os.path.join('src'))      # Changed this since WD is not the same as the file location\n",
    "if module_path not in sys.path:\n",
    "    sys.path.append(module_path)"
   ]
  },
  {
   "cell_type": "markdown",
   "metadata": {},
   "source": [
    "## Define the Filter"
   ]
  },
  {
   "cell_type": "code",
   "execution_count": 82,
   "metadata": {},
   "outputs": [],
   "source": [
    "from scipy.signal import butter, lfilter\n",
    "\n",
    "# ================================================================ #\n",
    "# ============ Butterworth Filter Coefficients =================== #\n",
    "# ================================================================ #\n",
    "def butter_bandpass(lowcut, highcut, sampling_freq, order=5):\n",
    "    \"\"\"\n",
    "    This function is used to generate the coefficients for lowpass, highpass and bandpass\n",
    "    filtering for Butterworth filters.\n",
    "    @lowcut, highcut (int): cutoff frequencies for the bandpass filter\n",
    "    @sampling_freq (float): sampling_frequency frequency of the wideband signal\n",
    "    @order (int): filter order\n",
    "\n",
    "    - return b, a (float): filtering coefficients that will be applied on the wideband signal\n",
    "    \"\"\"\n",
    "    nyq = 0.5 * sampling_freq   # Nyquist frequency\n",
    "    low = lowcut / nyq          # Normalizing the cutoff frequencies\n",
    "    high = highcut / nyq        # Normalizing the cutoff frequencies\n",
    "\n",
    "    return butter(order, [low, high], btype='band')    \n",
    "\n",
    "# ================================================================ #\n",
    "# ====================== Butterworth Filters ===================== #\n",
    "# ================================================================ #\n",
    "def butter_bandpass_filter(data, lowcut, highcut, sampling_freq, order=5):\n",
    "    \"\"\"\n",
    "    This function applies the filtering coefficients calculated above to the wideband signal (original signal).\n",
    "    @data (array): Array with the amplitude values of the wideband signal.\n",
    "    @lowcut, highcut (int): cutoff frequencies for the bandpass filter.\n",
    "    @sampling_freq (float): sampling frequency of the original signal.\n",
    "    @order (int): filter order.\n",
    "\n",
    "    - return (array): Array with the amplitude values of the filtered signal.\n",
    "    \"\"\"\n",
    "    coef_b, coef_a = butter_bandpass(lowcut, highcut, sampling_freq, order)\n",
    "\n",
    "    return lfilter(coef_b, coef_a, data)\n",
    "    "
   ]
  },
  {
   "cell_type": "markdown",
   "metadata": {},
   "source": [
    "### Extract a single SEEG channel from the SEEG data"
   ]
  },
  {
   "cell_type": "code",
   "execution_count": 83,
   "metadata": {},
   "outputs": [
    {
     "name": "stdout",
     "output_type": "stream",
     "text": [
      "seeg_ch_np shape: (245760,). \n",
      "Preview: [  0.3705604   0.8440215  -1.0526029 ... -29.797295  -30.879673\n",
      " -32.06023  ]\n"
     ]
    }
   ],
   "source": [
    "selected_ch_idx = 100 # 1 32 63 94\n",
    "seeg_ch = list(map(lambda all_channels: all_channels[selected_ch_idx], recorded_data))  # Selecting the first channel\n",
    "seeg_ch_np = np.array(seeg_ch)\n",
    "\n",
    "print(f\"seeg_ch_np shape: {seeg_ch_np.shape}. \\nPreview: {seeg_ch_np}\")"
   ]
  },
  {
   "cell_type": "markdown",
   "metadata": {},
   "source": [
    "## Define Global Parameters of the Experiment"
   ]
  },
  {
   "cell_type": "code",
   "execution_count": 84,
   "metadata": {},
   "outputs": [],
   "source": [
    "sampling_rate = 2048    # 2048 Hz\n",
    "input_duration = 120 * (10**3)    # 120000 ms or 120 seconds\n",
    "num_samples = recorded_data.shape[0]    # 2048 * 120 = 245760\n",
    "num_channels = recorded_data.shape[1]   # 960\n",
    "\n",
    "x_step = 1/sampling_rate * (10**3)  # 0.48828125 ms"
   ]
  },
  {
   "cell_type": "markdown",
   "metadata": {},
   "source": [
    "## Apply the Butterworth filter to the channel"
   ]
  },
  {
   "cell_type": "code",
   "execution_count": 85,
   "metadata": {},
   "outputs": [],
   "source": [
    "# Filter the raw signal in the Ripple band (80-250 Hz)\n",
    "ripple_band_seeg = butter_bandpass_filter(seeg_ch_np, 80, 250, sampling_rate, 5)\n",
    "\n",
    "# Filter the raw signal in the Fast Ripple band (250-500 Hz)\n",
    "fr_band_seeg = butter_bandpass_filter(seeg_ch_np, 250, 500, sampling_rate, 5)"
   ]
  },
  {
   "cell_type": "markdown",
   "metadata": {},
   "source": [
    "## Import the Markers (Annotated Events) \n",
    "The markers are stored in a numpy array of shape (num_channels, events):\n",
    "- Each row represents the events of a channel\n",
    "- Each event is composed of the following 3 fields (Label, Position, Shape)"
   ]
  },
  {
   "cell_type": "code",
   "execution_count": 86,
   "metadata": {},
   "outputs": [
    {
     "name": "stdout",
     "output_type": "stream",
     "text": [
      "Markers shape:  (960, 42)\n",
      "First time steps:  [[('Spike+Ripple+Fast-Ripple',   1000.  , 0.)\n",
      "  ('Spike+Ripple+Fast-Ripple',   4537.6 , 0.)\n",
      "  ('Ripple+Fast-Ripple',   7610.84, 0.) ('Spike',  10261.2 , 0.)\n",
      "  ('Fast-Ripple',  13411.6 , 0.) ('Spike+Ripple',  15644.  , 0.)\n",
      "  ('Ripple',  18607.9 , 0.) ('Fast-Ripple',  21300.8 , 0.)\n",
      "  ('Fast-Ripple',  24086.9 , 0.)\n",
      "  ('Spike+Ripple+Fast-Ripple',  26598.1 , 0.)\n",
      "  ('Spike+Fast-Ripple',  30529.8 , 0.) ('Ripple',  33387.7 , 0.)\n",
      "  ('Spike+Fast-Ripple',  36145.5 , 0.) ('Spike',  38744.1 , 0.)\n",
      "  ('Spike+Fast-Ripple',  41876.  , 0.)\n",
      "  ('Ripple+Fast-Ripple',  44531.7 , 0.) ('Spike+Ripple',  47699.7 , 0.)\n",
      "  ('Spike+Ripple+Fast-Ripple',  50303.2 , 0.) ('Ripple',  53045.9 , 0.)\n",
      "  ('Ripple+Fast-Ripple',  56416.  , 0.)\n",
      "  ('Spike+Ripple+Fast-Ripple',  58838.4 , 0.)\n",
      "  ('Ripple+Fast-Ripple',  62578.6 , 0.) ('Fast-Ripple',  65430.2 , 0.)\n",
      "  ('Spike',  68184.1 , 0.) ('Spike+Ripple',  70753.9 , 0.)\n",
      "  ('Ripple+Fast-Ripple',  73788.6 , 0.) ('Spike',  76749.  , 0.)\n",
      "  ('Fast-Ripple',  79802.7 , 0.) ('Spike+Ripple',  82200.7 , 0.)\n",
      "  ('Spike',  85205.1 , 0.) ('Spike+Fast-Ripple',  88308.6 , 0.)\n",
      "  ('Spike',  91154.3 , 0.) ('Ripple',  93484.4 , 0.)\n",
      "  ('Spike+Ripple+Fast-Ripple',  96478.  , 0.)\n",
      "  ('Spike+Fast-Ripple',  99524.4 , 0.) ('Ripple', 101862.  , 0.)\n",
      "  ('Spike+Ripple', 104127.  , 0.) ('Spike+Fast-Ripple', 106672.  , 0.)\n",
      "  ('Ripple+Fast-Ripple', 109322.  , 0.) ('Ripple', 113024.  , 0.)\n",
      "  ('Fast-Ripple', 116549.  , 0.) ('Spike+Ripple', 119000.  , 0.)]\n",
      " [('Spike+Fast-Ripple',   1000.  , 0.)\n",
      "  ('Spike+Ripple+Fast-Ripple',   3849.12, 0.)\n",
      "  ('Ripple+Fast-Ripple',   7010.25, 0.) ('Spike',   9893.55, 0.)\n",
      "  ('Spike+Ripple',  12840.8 , 0.)\n",
      "  ('Spike+Ripple+Fast-Ripple',  15537.6 , 0.)\n",
      "  ('Spike+Ripple+Fast-Ripple',  17798.3 , 0.)\n",
      "  ('Fast-Ripple',  21310.1 , 0.) ('Spike+Fast-Ripple',  24303.2 , 0.)\n",
      "  ('Spike+Ripple',  26703.1 , 0.) ('Spike+Ripple',  29163.1 , 0.)\n",
      "  ('Ripple',  32477.1 , 0.) ('Ripple',  35353.5 , 0.)\n",
      "  ('Spike+Ripple',  38091.3 , 0.) ('Ripple',  40928.7 , 0.)\n",
      "  ('Spike+Fast-Ripple',  43745.6 , 0.)\n",
      "  ('Spike+Ripple+Fast-Ripple',  46724.6 , 0.)\n",
      "  ('Spike+Fast-Ripple',  49544.4 , 0.)\n",
      "  ('Ripple+Fast-Ripple',  52280.8 , 0.) ('Ripple',  55122.1 , 0.)\n",
      "  ('Spike',  58428.7 , 0.) ('Fast-Ripple',  61564.9 , 0.)\n",
      "  ('Ripple+Fast-Ripple',  64350.1 , 0.)\n",
      "  ('Spike+Ripple+Fast-Ripple',  67462.4 , 0.)\n",
      "  ('Ripple+Fast-Ripple',  70412.6 , 0.)\n",
      "  ('Ripple+Fast-Ripple',  73817.9 , 0.) ('Spike',  77059.6 , 0.)\n",
      "  ('Spike+Ripple+Fast-Ripple',  80096.7 , 0.) ('Ripple',  82790.5 , 0.)\n",
      "  ('Spike+Ripple',  86759.3 , 0.) ('Spike+Fast-Ripple',  89232.4 , 0.)\n",
      "  ('Ripple',  91572.8 , 0.) ('Spike',  94439.5 , 0.)\n",
      "  ('Spike+Ripple',  98288.1 , 0.) ('Ripple+Fast-Ripple', 101109.  , 0.)\n",
      "  ('Fast-Ripple', 103939.  , 0.) ('Fast-Ripple', 106747.  , 0.)\n",
      "  ('Spike', 109180.  , 0.) ('Spike', 112373.  , 0.)\n",
      "  ('Fast-Ripple', 114176.  , 0.) ('Spike+Fast-Ripple', 116672.  , 0.)\n",
      "  ('Fast-Ripple', 119000.  , 0.)]\n",
      " [('Fast-Ripple',   1000.  , 0.)\n",
      "  ('Spike+Ripple+Fast-Ripple',   4357.42, 0.)\n",
      "  ('Fast-Ripple',   7062.01, 0.) ('Spike+Ripple',  10354.  , 0.)\n",
      "  ('Spike+Ripple',  12860.4 , 0.) ('Ripple',  16188.  , 0.)\n",
      "  ('Spike+Ripple+Fast-Ripple',  19890.1 , 0.) ('Spike',  23101.6 , 0.)\n",
      "  ('Spike+Fast-Ripple',  25157.2 , 0.)\n",
      "  ('Spike+Fast-Ripple',  27310.1 , 0.) ('Ripple',  30074.7 , 0.)\n",
      "  ('Spike+Ripple',  33075.7 , 0.) ('Ripple+Fast-Ripple',  37325.2 , 0.)\n",
      "  ('Spike+Ripple+Fast-Ripple',  39814.5 , 0.) ('Ripple',  41879.4 , 0.)\n",
      "  ('Spike',  45083.5 , 0.) ('Ripple',  49012.7 , 0.)\n",
      "  ('Spike+Ripple+Fast-Ripple',  52209.5 , 0.)\n",
      "  ('Fast-Ripple',  55219.2 , 0.) ('Ripple+Fast-Ripple',  57720.7 , 0.)\n",
      "  ('Spike+Ripple',  60536.1 , 0.)\n",
      "  ('Spike+Ripple+Fast-Ripple',  63434.6 , 0.) ('Spike',  66771.5 , 0.)\n",
      "  ('Spike+Fast-Ripple',  69609.4 , 0.)\n",
      "  ('Spike+Fast-Ripple',  72251.  , 0.) ('Ripple',  75393.6 , 0.)\n",
      "  ('Spike',  77523.9 , 0.) ('Ripple',  80550.3 , 0.)\n",
      "  ('Ripple+Fast-Ripple',  84069.3 , 0.) ('Fast-Ripple',  86533.7 , 0.)\n",
      "  ('Spike+Fast-Ripple',  89963.4 , 0.) ('Fast-Ripple',  93359.4 , 0.)\n",
      "  ('Fast-Ripple',  95230.5 , 0.) ('Spike+Ripple',  97459.5 , 0.)\n",
      "  ('Spike', 100138.  , 0.) ('Ripple+Fast-Ripple', 102263.  , 0.)\n",
      "  ('Spike+Ripple+Fast-Ripple', 105350.  , 0.)\n",
      "  ('Spike+Ripple', 108121.  , 0.) ('Ripple+Fast-Ripple', 110854.  , 0.)\n",
      "  ('Spike+Fast-Ripple', 113759.  , 0.)\n",
      "  ('Ripple+Fast-Ripple', 116295.  , 0.) ('Spike', 119000.  , 0.)]\n",
      " [('Fast-Ripple',   1000.  , 0.) ('Ripple',   5092.77, 0.)\n",
      "  ('Spike+Fast-Ripple',   7318.85, 0.)\n",
      "  ('Spike+Fast-Ripple',   9595.7 , 0.)\n",
      "  ('Ripple+Fast-Ripple',  12451.2 , 0.)\n",
      "  ('Spike+Fast-Ripple',  14609.4 , 0.)\n",
      "  ('Spike+Ripple+Fast-Ripple',  17176.3 , 0.)\n",
      "  ('Ripple+Fast-Ripple',  20439.5 , 0.) ('Ripple',  23130.4 , 0.)\n",
      "  ('Spike+Ripple',  25369.6 , 0.) ('Ripple',  28132.8 , 0.)\n",
      "  ('Ripple+Fast-Ripple',  31882.3 , 0.) ('Spike+Ripple',  35011.7 , 0.)\n",
      "  ('Spike+Ripple',  38243.2 , 0.) ('Spike',  41433.1 , 0.)\n",
      "  ('Fast-Ripple',  44473.1 , 0.) ('Ripple',  46984.4 , 0.)\n",
      "  ('Fast-Ripple',  49504.4 , 0.) ('Ripple+Fast-Ripple',  53097.7 , 0.)\n",
      "  ('Ripple+Fast-Ripple',  56185.5 , 0.)\n",
      "  ('Spike+Fast-Ripple',  58714.4 , 0.) ('Ripple',  61378.9 , 0.)\n",
      "  ('Spike+Ripple',  64099.6 , 0.) ('Ripple+Fast-Ripple',  66736.3 , 0.)\n",
      "  ('Spike',  70240.2 , 0.) ('Ripple',  73241.2 , 0.)\n",
      "  ('Spike',  76167.  , 0.) ('Fast-Ripple',  78410.6 , 0.)\n",
      "  ('Spike+Fast-Ripple',  80942.9 , 0.)\n",
      "  ('Spike+Ripple+Fast-Ripple',  83665.5 , 0.) ('Spike',  86739.3 , 0.)\n",
      "  ('Fast-Ripple',  89409.2 , 0.)\n",
      "  ('Spike+Ripple+Fast-Ripple',  93123.5 , 0.)\n",
      "  ('Spike+Ripple',  95171.4 , 0.)\n",
      "  ('Spike+Ripple+Fast-Ripple',  98305.2 , 0.)\n",
      "  ('Spike+Ripple', 101041.  , 0.) ('Fast-Ripple', 103388.  , 0.)\n",
      "  ('Spike+Ripple+Fast-Ripple', 106038.  , 0.)\n",
      "  ('Spike+Fast-Ripple', 109606.  , 0.) ('Spike', 113252.  , 0.)\n",
      "  ('Spike+Ripple+Fast-Ripple', 116529.  , 0.) ('Spike', 119000.  , 0.)]\n",
      " [('Spike+Ripple',   1000.  , 0.) ('Spike+Fast-Ripple',   3064.45, 0.)\n",
      "  ('Ripple',   6027.83, 0.) ('Spike+Fast-Ripple',   8658.2 , 0.)\n",
      "  ('Ripple+Fast-Ripple',  12106.4 , 0.) ('Fast-Ripple',  14305.2 , 0.)\n",
      "  ('Fast-Ripple',  17662.6 , 0.) ('Spike+Ripple',  21267.6 , 0.)\n",
      "  ('Spike',  23998.5 , 0.) ('Spike+Ripple+Fast-Ripple',  26069.8 , 0.)\n",
      "  ('Spike+Ripple+Fast-Ripple',  29381.3 , 0.) ('Spike',  32615.7 , 0.)\n",
      "  ('Ripple',  35105.  , 0.) ('Fast-Ripple',  37521.  , 0.)\n",
      "  ('Ripple+Fast-Ripple',  40814.5 , 0.) ('Ripple',  43641.6 , 0.)\n",
      "  ('Spike+Ripple+Fast-Ripple',  46275.4 , 0.)\n",
      "  ('Spike+Ripple',  48763.7 , 0.) ('Spike+Fast-Ripple',  51656.7 , 0.)\n",
      "  ('Spike+Ripple+Fast-Ripple',  54807.6 , 0.)\n",
      "  ('Fast-Ripple',  57375.5 , 0.) ('Spike+Fast-Ripple',  59815.4 , 0.)\n",
      "  ('Spike+Fast-Ripple',  62677.2 , 0.)\n",
      "  ('Ripple+Fast-Ripple',  66109.4 , 0.) ('Spike',  69555.7 , 0.)\n",
      "  ('Ripple',  72959.5 , 0.) ('Spike+Ripple',  75730.  , 0.)\n",
      "  ('Ripple',  78694.8 , 0.) ('Fast-Ripple',  81899.9 , 0.)\n",
      "  ('Fast-Ripple',  84894.5 , 0.)\n",
      "  ('Spike+Ripple+Fast-Ripple',  87584.5 , 0.) ('Spike',  89555.2 , 0.)\n",
      "  ('Spike+Ripple+Fast-Ripple',  92365.7 , 0.)\n",
      "  ('Ripple+Fast-Ripple',  95023.4 , 0.)\n",
      "  ('Ripple+Fast-Ripple',  98278.8 , 0.) ('Spike', 101478.  , 0.)\n",
      "  ('Spike+Ripple', 104220.  , 0.) ('Spike+Ripple', 107146.  , 0.)\n",
      "  ('Spike+Fast-Ripple', 109986.  , 0.)\n",
      "  ('Ripple+Fast-Ripple', 112877.  , 0.) ('Ripple', 115691.  , 0.)\n",
      "  ('Spike', 119000.  , 0.)]\n",
      " [('Fast-Ripple',   1000.  , 0.) ('Ripple+Fast-Ripple',   3812.99, 0.)\n",
      "  ('Ripple',   6643.56, 0.) ('Ripple',   9703.13, 0.)\n",
      "  ('Fast-Ripple',  12194.8 , 0.) ('Spike',  15098.1 , 0.)\n",
      "  ('Spike+Fast-Ripple',  17557.6 , 0.) ('Fast-Ripple',  20716.3 , 0.)\n",
      "  ('Spike+Fast-Ripple',  24186.5 , 0.)\n",
      "  ('Spike+Ripple+Fast-Ripple',  27138.2 , 0.) ('Spike',  29897.9 , 0.)\n",
      "  ('Spike+Fast-Ripple',  32565.9 , 0.)\n",
      "  ('Ripple+Fast-Ripple',  34736.8 , 0.)\n",
      "  ('Ripple+Fast-Ripple',  38332.5 , 0.) ('Spike+Ripple',  41036.6 , 0.)\n",
      "  ('Spike+Ripple',  44186.5 , 0.) ('Ripple+Fast-Ripple',  46985.8 , 0.)\n",
      "  ('Spike+Ripple',  49071.8 , 0.) ('Spike',  52250.  , 0.)\n",
      "  ('Ripple',  55004.9 , 0.) ('Spike',  58087.4 , 0.)\n",
      "  ('Spike+Ripple+Fast-Ripple',  61502.4 , 0.)\n",
      "  ('Spike+Ripple',  64346.2 , 0.)\n",
      "  ('Spike+Ripple+Fast-Ripple',  66982.9 , 0.)\n",
      "  ('Ripple+Fast-Ripple',  69884.8 , 0.) ('Spike',  72438.5 , 0.)\n",
      "  ('Fast-Ripple',  75745.1 , 0.) ('Fast-Ripple',  78004.4 , 0.)\n",
      "  ('Spike+Ripple',  80292.  , 0.)\n",
      "  ('Spike+Ripple+Fast-Ripple',  83281.3 , 0.) ('Ripple',  86146.5 , 0.)\n",
      "  ('Ripple',  88517.1 , 0.) ('Spike+Ripple',  91434.1 , 0.)\n",
      "  ('Spike+Fast-Ripple',  94384.3 , 0.)\n",
      "  ('Spike+Ripple+Fast-Ripple',  96798.3 , 0.)\n",
      "  ('Spike+Fast-Ripple', 100239.  , 0.)\n",
      "  ('Ripple+Fast-Ripple', 103870.  , 0.) ('Fast-Ripple', 106941.  , 0.)\n",
      "  ('Spike+Ripple+Fast-Ripple', 109890.  , 0.) ('Ripple', 112565.  , 0.)\n",
      "  ('Spike+Fast-Ripple', 116043.  , 0.) ('Spike', 119000.  , 0.)]\n",
      " [('Spike+Ripple',   1000.  , 0.) ('Spike+Fast-Ripple',   3947.75, 0.)\n",
      "  ('Ripple',   6848.63, 0.) ('Ripple+Fast-Ripple',   9342.77, 0.)\n",
      "  ('Spike',  12378.4 , 0.) ('Ripple+Fast-Ripple',  15358.9 , 0.)\n",
      "  ('Spike+Ripple',  18624.  , 0.) ('Spike+Fast-Ripple',  21766.6 , 0.)\n",
      "  ('Spike',  24684.6 , 0.) ('Fast-Ripple',  27981.4 , 0.)\n",
      "  ('Fast-Ripple',  30698.2 , 0.) ('Spike',  32988.3 , 0.)\n",
      "  ('Spike+Ripple',  35934.1 , 0.) ('Spike+Fast-Ripple',  38634.3 , 0.)\n",
      "  ('Ripple+Fast-Ripple',  42008.3 , 0.) ('Spike+Ripple',  45172.9 , 0.)\n",
      "  ('Ripple+Fast-Ripple',  47933.1 , 0.)\n",
      "  ('Spike+Ripple+Fast-Ripple',  50622.1 , 0.) ('Ripple',  53227.5 , 0.)\n",
      "  ('Ripple',  55601.1 , 0.) ('Spike+Ripple+Fast-Ripple',  58145.5 , 0.)\n",
      "  ('Fast-Ripple',  61350.6 , 0.) ('Fast-Ripple',  64059.6 , 0.)\n",
      "  ('Spike+Ripple+Fast-Ripple',  66864.3 , 0.)\n",
      "  ('Spike+Ripple+Fast-Ripple',  69667.5 , 0.)\n",
      "  ('Spike+Ripple',  72280.8 , 0.) ('Spike+Ripple',  74982.4 , 0.)\n",
      "  ('Spike+Fast-Ripple',  77640.6 , 0.)\n",
      "  ('Spike+Fast-Ripple',  80725.6 , 0.)\n",
      "  ('Spike+Ripple+Fast-Ripple',  84104.5 , 0.)\n",
      "  ('Fast-Ripple',  86585.4 , 0.) ('Spike',  89452.1 , 0.)\n",
      "  ('Ripple+Fast-Ripple',  92625.  , 0.) ('Fast-Ripple',  94686.  , 0.)\n",
      "  ('Spike',  97717.8 , 0.) ('Spike+Fast-Ripple', 100930.  , 0.)\n",
      "  ('Spike', 103618.  , 0.) ('Ripple', 106630.  , 0.)\n",
      "  ('Ripple', 108965.  , 0.) ('Ripple', 112506.  , 0.)\n",
      "  ('Spike+Ripple+Fast-Ripple', 116000.  , 0.)\n",
      "  ('Ripple+Fast-Ripple', 119000.  , 0.)]\n",
      " [('Spike+Fast-Ripple',   1000.  , 0.)\n",
      "  ('Spike+Ripple+Fast-Ripple',   4099.12, 0.)\n",
      "  ('Spike+Fast-Ripple',   7249.51, 0.) ('Spike',   9766.11, 0.)\n",
      "  ('Spike+Ripple+Fast-Ripple',  13030.3 , 0.)\n",
      "  ('Spike+Ripple+Fast-Ripple',  16438.  , 0.)\n",
      "  ('Spike+Ripple+Fast-Ripple',  19992.2 , 0.)\n",
      "  ('Spike+Ripple',  22127.  , 0.) ('Spike+Fast-Ripple',  24682.1 , 0.)\n",
      "  ('Fast-Ripple',  26986.3 , 0.) ('Spike+Ripple',  30152.3 , 0.)\n",
      "  ('Fast-Ripple',  32986.8 , 0.) ('Spike+Ripple',  35772.9 , 0.)\n",
      "  ('Spike',  38679.2 , 0.) ('Ripple',  41064.5 , 0.)\n",
      "  ('Fast-Ripple',  43746.6 , 0.) ('Spike+Ripple',  46012.2 , 0.)\n",
      "  ('Ripple',  48642.6 , 0.) ('Spike+Ripple',  51367.2 , 0.)\n",
      "  ('Fast-Ripple',  54580.1 , 0.) ('Spike',  58276.9 , 0.)\n",
      "  ('Spike',  61289.6 , 0.) ('Spike+Fast-Ripple',  63979.  , 0.)\n",
      "  ('Spike',  67093.3 , 0.) ('Ripple+Fast-Ripple',  70689.5 , 0.)\n",
      "  ('Spike',  73170.4 , 0.) ('Ripple',  76267.1 , 0.)\n",
      "  ('Ripple+Fast-Ripple',  79483.4 , 0.) ('Ripple',  82485.8 , 0.)\n",
      "  ('Spike+Ripple+Fast-Ripple',  84944.8 , 0.)\n",
      "  ('Spike+Fast-Ripple',  87336.4 , 0.) ('Fast-Ripple',  90399.9 , 0.)\n",
      "  ('Spike+Ripple+Fast-Ripple',  92600.1 , 0.)\n",
      "  ('Ripple+Fast-Ripple',  96038.6 , 0.)\n",
      "  ('Ripple+Fast-Ripple',  98303.7 , 0.)\n",
      "  ('Ripple+Fast-Ripple', 101745.  , 0.) ('Ripple', 104444.  , 0.)\n",
      "  ('Spike+Ripple', 107053.  , 0.) ('Fast-Ripple', 109825.  , 0.)\n",
      "  ('Ripple+Fast-Ripple', 112534.  , 0.) ('Ripple', 115200.  , 0.)\n",
      "  ('Spike+Fast-Ripple', 119000.  , 0.)]\n",
      " [('Ripple+Fast-Ripple',   1000.  , 0.) ('Spike+Ripple',   3555.66, 0.)\n",
      "  ('Fast-Ripple',   5852.54, 0.) ('Fast-Ripple',   9145.51, 0.)\n",
      "  ('Spike+Ripple+Fast-Ripple',  11714.4 , 0.)\n",
      "  ('Fast-Ripple',  14260.3 , 0.) ('Spike+Fast-Ripple',  16332.5 , 0.)\n",
      "  ('Ripple',  19316.9 , 0.) ('Fast-Ripple',  22032.2 , 0.)\n",
      "  ('Spike',  25527.3 , 0.) ('Ripple+Fast-Ripple',  29096.7 , 0.)\n",
      "  ('Spike+Ripple+Fast-Ripple',  32144.  , 0.) ('Ripple',  35350.6 , 0.)\n",
      "  ('Spike',  37768.6 , 0.) ('Spike',  40810.5 , 0.)\n",
      "  ('Spike',  43454.6 , 0.) ('Spike',  46148.9 , 0.)\n",
      "  ('Ripple+Fast-Ripple',  49296.9 , 0.) ('Fast-Ripple',  52478.  , 0.)\n",
      "  ('Spike+Ripple+Fast-Ripple',  55692.4 , 0.)\n",
      "  ('Ripple+Fast-Ripple',  58959.  , 0.)\n",
      "  ('Spike+Ripple+Fast-Ripple',  61124.  , 0.)\n",
      "  ('Spike+Ripple',  63252.4 , 0.)\n",
      "  ('Spike+Ripple+Fast-Ripple',  66234.4 , 0.)\n",
      "  ('Ripple+Fast-Ripple',  70075.7 , 0.)\n",
      "  ('Spike+Fast-Ripple',  73000.  , 0.)\n",
      "  ('Spike+Fast-Ripple',  75776.4 , 0.)\n",
      "  ('Spike+Fast-Ripple',  79237.8 , 0.)\n",
      "  ('Ripple+Fast-Ripple',  82091.8 , 0.) ('Spike+Ripple',  84607.4 , 0.)\n",
      "  ('Spike',  87552.2 , 0.) ('Spike+Fast-Ripple',  89773.9 , 0.)\n",
      "  ('Spike+Ripple',  92686.5 , 0.) ('Spike+Ripple',  95402.3 , 0.)\n",
      "  ('Spike+Fast-Ripple',  99105.5 , 0.) ('Ripple', 102125.  , 0.)\n",
      "  ('Spike+Ripple', 105077.  , 0.) ('Ripple', 107729.  , 0.)\n",
      "  ('Ripple', 110340.  , 0.) ('Ripple', 113236.  , 0.)\n",
      "  ('Spike+Ripple+Fast-Ripple', 116402.  , 0.)\n",
      "  ('Fast-Ripple', 119000.  , 0.)]\n",
      " [('Spike+Fast-Ripple',   1000.  , 0.) ('Fast-Ripple',   3844.24, 0.)\n",
      "  ('Ripple+Fast-Ripple',   6911.13, 0.) ('Ripple',   9519.04, 0.)\n",
      "  ('Spike',  12259.8 , 0.) ('Spike+Fast-Ripple',  15189.  , 0.)\n",
      "  ('Spike+Ripple+Fast-Ripple',  18526.4 , 0.)\n",
      "  ('Spike+Ripple+Fast-Ripple',  21004.9 , 0.)\n",
      "  ('Ripple+Fast-Ripple',  24302.2 , 0.) ('Spike',  27242.2 , 0.)\n",
      "  ('Spike+Ripple',  29596.7 , 0.)\n",
      "  ('Spike+Ripple+Fast-Ripple',  31946.3 , 0.)\n",
      "  ('Fast-Ripple',  34291.5 , 0.) ('Ripple+Fast-Ripple',  37582.  , 0.)\n",
      "  ('Spike+Fast-Ripple',  40289.6 , 0.) ('Ripple',  43156.3 , 0.)\n",
      "  ('Fast-Ripple',  46783.7 , 0.) ('Ripple',  50758.3 , 0.)\n",
      "  ('Spike+Ripple+Fast-Ripple',  53685.5 , 0.)\n",
      "  ('Ripple+Fast-Ripple',  56055.2 , 0.) ('Spike+Ripple',  59023.4 , 0.)\n",
      "  ('Ripple',  61054.7 , 0.) ('Ripple',  64209.5 , 0.)\n",
      "  ('Spike+Fast-Ripple',  66384.3 , 0.) ('Ripple',  68632.8 , 0.)\n",
      "  ('Spike',  71851.6 , 0.) ('Spike',  74876.5 , 0.)\n",
      "  ('Spike+Ripple',  77247.1 , 0.) ('Fast-Ripple',  80233.4 , 0.)\n",
      "  ('Spike+Fast-Ripple',  82717.3 , 0.)\n",
      "  ('Spike+Fast-Ripple',  85167.5 , 0.) ('Spike+Ripple',  87874.5 , 0.)\n",
      "  ('Spike',  91449.7 , 0.) ('Fast-Ripple',  94450.2 , 0.)\n",
      "  ('Spike+Ripple+Fast-Ripple',  97982.4 , 0.)\n",
      "  ('Spike+Ripple', 101565.  , 0.)\n",
      "  ('Spike+Ripple+Fast-Ripple', 104568.  , 0.) ('Spike', 107079.  , 0.)\n",
      "  ('Ripple+Fast-Ripple', 110476.  , 0.) ('Fast-Ripple', 113016.  , 0.)\n",
      "  ('Ripple+Fast-Ripple', 115897.  , 0.) ('Spike+Ripple', 119000.  , 0.)]]\n"
     ]
    }
   ],
   "source": [
    "markers_seeg_file_name = \"seeg_synthetic_humans_markers.npy\"\n",
    "markers = np.load(f\"{PATH_TO_FILE}data/{markers_seeg_file_name}\")\n",
    "\n",
    "print(\"Markers shape: \", markers.shape)\n",
    "print(\"First time steps: \", markers[:10])"
   ]
  },
  {
   "cell_type": "markdown",
   "metadata": {},
   "source": [
    "## Visualize the filtered signals"
   ]
  },
  {
   "cell_type": "code",
   "execution_count": 87,
   "metadata": {},
   "outputs": [],
   "source": [
    "# Interactive Plot for the HFO detection\n",
    "# bokeh docs: https://docs.bokeh.org/en/2.4.1/docs/first_steps/first_steps_1.html\n",
    "\n",
    "from utils.line_plot import create_fig  # Import the function to create the figure\n",
    "from bokeh.models import Range1d\n",
    "\n",
    "# Define the x and y values\n",
    "# Should the first input start at 0 or x_step?\n",
    "# TODO: is it okay to create a range with floats?\n",
    "x = [val for val in np.arange(x_step, input_duration + x_step, x_step)] \n",
    "\n",
    "# Create the y arrays for the voltage plot representing the voltage of each electrode\n",
    "v_yarrays = [ripple_band_seeg, fr_band_seeg]"
   ]
  },
  {
   "cell_type": "markdown",
   "metadata": {},
   "source": [
    "## Create the Plot"
   ]
  },
  {
   "cell_type": "code",
   "execution_count": 88,
   "metadata": {},
   "outputs": [],
   "source": [
    "# Create the plot\n",
    "# List of tuples containing the y values and the legend label\n",
    "hfo_y_arrays = [(ripple_band_seeg, \"Ripple Band\"), (fr_band_seeg, \"Fast Ripple Band\")]\n",
    "\n",
    "# Create the SEEG Voltage plot\n",
    "hfo_plot = create_fig(\n",
    "    title=\"SEEG Voltage dynamics of Filtered Ripple and Fast Ripple Bands\", \n",
    "    x_axis_label='time (ms)', \n",
    "    y_axis_label='Voltage (μV)',\n",
    "    x=x, \n",
    "    y_arrays=hfo_y_arrays, \n",
    "    sizing_mode=\"stretch_both\", \n",
    "    tools=\"pan, box_zoom, wheel_zoom, hover, undo, redo, zoom_in, zoom_out, reset, save\",\n",
    "    tooltips=\"Data point @x: @y\",\n",
    "    legend_location=\"top_right\",\n",
    "    legend_bg_fill_color=\"navy\",\n",
    "    legend_bg_fill_alpha=0.1,\n",
    "    # y_range=Range1d(-0.05, 1.05)\n",
    ")\n",
    "\n",
    "# If there are more than 30 channels, hide the legend\n",
    "if len(hfo_y_arrays) > 30:\n",
    "    # Hide the legend\n",
    "    hfo_plot.legend.visible = False"
   ]
  },
  {
   "cell_type": "markdown",
   "metadata": {},
   "source": [
    "## Add Box Annotations to the plot to identify the marked HFOs (ground truth)"
   ]
  },
  {
   "cell_type": "code",
   "execution_count": 89,
   "metadata": {},
   "outputs": [],
   "source": [
    "from bokeh.models import BoxAnnotation\n",
    "# from utils.line_plot import color_map\n",
    "\n",
    "show_markers = True    # Boolean to show the markers\n",
    "\n",
    "color_map = {                  \n",
    "    'Spike': 'red',\n",
    "    'Fast-Ripple': 'blue',\n",
    "    'Ripple': 'green',  \n",
    "    'Spike+Ripple': 'yellow',\n",
    "    'Spike+Fast-Ripple': 'pink',\n",
    "    'Ripple+Fast-Ripple': 'cyan',\n",
    "    'Spike+Ripple+Fast-Ripple': 'black'\n",
    "}\n",
    "\n",
    "confidence_range = 100          # TODO: Check this value. When the duration is missing (0), we consider the 200ms window around the marked position \n",
    "visited_markers = {}    # Avoid inserting multiple boxes for the same marker (only one of each label)\n",
    "use_visited = False     # Boolean controlling if we remove duplicate markers\n",
    "plot_instant = True     # Boolean to plot the markers as instant events or as boxes\n",
    "instant_width = 100 # 20       # Width of the instant event for visualization purposes\n",
    "\n",
    "channels_used = {selected_ch_idx}   # Set of channels to be used\n",
    "if show_markers:\n",
    "    for ch_idx in channels_used:\n",
    "        channel_markers = markers[ch_idx]\n",
    "        # print(\"channel_markers\", channel_markers)\n",
    "        for idx2, marker in enumerate(channel_markers):\n",
    "            # print(\"marker:\", marker)\n",
    "            \n",
    "            if use_visited:\n",
    "                # Check if the marker has already been visited and skip it if it has\n",
    "                if marker['position'] in visited_markers:\n",
    "                    visited_labels = visited_markers[marker['position']]    # Get the labels that already have an annotation for this position\n",
    "                    if marker['label'] in visited_labels:\n",
    "                        # print(\"Skipping marker\", marker['position'], marker['label'])\n",
    "                        continue    # Skip this marker\n",
    "                    else:\n",
    "                        visited_labels.append(marker['label'])  # Add the label to the visited labels\n",
    "                else:\n",
    "                    visited_markers[marker['position']] = [marker['label']] # Add the marker to the visited markers\n",
    "\n",
    "            # Add a box annotation for each marker\n",
    "            has_duration = marker['duration'] > 0\n",
    "            \n",
    "            confidence_constant = 0 if plot_instant or has_duration else confidence_range\n",
    "\n",
    "            left = marker['position'] - confidence_constant\n",
    "            right = marker['position'] + confidence_constant + instant_width\n",
    "            box_color = color_map[marker['label']]  # Choose a color according to the label\n",
    "            \n",
    "            # if left < min_t or right > max_t:\n",
    "            #     continue    # Skip this marker\n",
    "            \n",
    "\n",
    "            box = BoxAnnotation(left=left, right=right, fill_color=box_color, fill_alpha=0.35)\n",
    "            # print(\"Added marker for channel: \", ch_idx, \" at position: \", left)\n",
    "            hfo_plot.add_layout(box)"
   ]
  },
  {
   "cell_type": "markdown",
   "metadata": {},
   "source": [
    "## Show the Plot"
   ]
  },
  {
   "cell_type": "code",
   "execution_count": 90,
   "metadata": {},
   "outputs": [],
   "source": [
    "import bokeh.plotting as bplt\n",
    "\n",
    "showPlot = False\n",
    "if showPlot:\n",
    "    bplt.show(hfo_plot)"
   ]
  },
  {
   "cell_type": "markdown",
   "metadata": {},
   "source": [
    "## Export the plot to a file"
   ]
  },
  {
   "cell_type": "code",
   "execution_count": 91,
   "metadata": {},
   "outputs": [],
   "source": [
    "export = True\n",
    "\n",
    "if export:\n",
    "    file_path = f\"{PATH_TO_FILE}results/filtered_seeg_ch{selected_ch_idx}.html\"\n",
    "\n",
    "    # Customize the output file settings\n",
    "    bplt.output_file(filename=file_path, title=\"SEEG Data - Filtered Voltage dynamics across time\")\n",
    "\n",
    "    # Save the plot\n",
    "    bplt.save(hfo_plot)"
   ]
  },
  {
   "cell_type": "markdown",
   "metadata": {},
   "source": [
    "## Checkpoint 1\n",
    "\n",
    "Right now, we have the filtered SEEG signal in both the ripple and FR bands. The next step is to convert the signal to spikes."
   ]
  },
  {
   "cell_type": "markdown",
   "metadata": {},
   "source": [
    "## Signal-to-Spike Conversion\n",
    "The signal can be converted to spikes in different ways. First, we will try a method where **two spike trains are generated from the filtered signal**:\n",
    "- **UP Spike Train**: The spikes are generated based on an increase of the signal's amplitude. The spikes are generated when the signal crosses a certain threshold defined by `threshold_up`.\n",
    "- **DOWN Spike Train**: The spikes are generated based on a decrease of the signal's amplitude. The spikes are generated when the signal crosses a certain threshold defined by `threshold_down`.\n",
    "\n",
    "The spike trains are generated by comparing the amount of change in the signal since the last time a spike was generated (UP or DOWN). If the positive/negative amplitude change is greater than the defined threshold, the algorithm stores the current timestep in the respective spike train and takes the new amplitude as the reference for the next comparison.\n",
    "\n",
    "Another important aspect of this algorithm is to model the time that silicon neurons need before they can generate another spike. Both in hardware and software, we call this time `refractory_period`."
   ]
  },
  {
   "cell_type": "markdown",
   "metadata": {},
   "source": [
    "### Configurable Parameters for the Signal-to-Spike Conversion\n",
    "- `threshold_up`: The threshold for the UP spike train.\n",
    "- `threshold_down`: The threshold for the DOWN spike train.\n",
    "\n",
    "The accuracy of this algorithm is heavily dependent on the choice of these parameters. To find the optimal values, we can perform a ***baseline detection*** to determine the optimal spike generation threshold automatically for the signal conversion.\n",
    "\n",
    "**As a first solution, we set these values manually to have a working prototype. Later, we will find the optimal values and compare the results of both methods.**"
   ]
  },
  {
   "cell_type": "code",
   "execution_count": 16,
   "metadata": {},
   "outputs": [],
   "source": [
    "# Define variables of the Signal to Spike Conversion Manually\n",
    "ripple_threshold_up = 5   # Threshold for the UP spike detection (in μV)\n",
    "ripple_threshold_down = -5 # Threshold for the DOWN spike detection (in μV)\n",
    "\n",
    "fr_threshold_up = 3   # Threshold for the UP spike detection (in μV)\n",
    "fr_threshold_down = -3 # Threshold for the DOWN spike detection (in μV)"
   ]
  },
  {
   "cell_type": "code",
   "execution_count": 17,
   "metadata": {},
   "outputs": [
    {
     "name": "stdout",
     "output_type": "stream",
     "text": [
      "Ripple UP Spike Train shape:  (307,) Preview:  [  4153.3203125    4155.76171875   4165.52734375   7249.0234375\n",
      "   7272.4609375    7273.92578125   7285.15625      7286.62109375\n",
      "  13386.23046875  13397.4609375   13398.92578125  16553.7109375\n",
      "  16554.6875      16555.6640625   16556.640625    16564.94140625\n",
      "  16565.4296875   16565.91796875  16566.40625     16566.89453125\n",
      "  16567.3828125   16567.87109375  16568.359375    16568.84765625\n",
      "  16577.1484375   16577.63671875  16578.125       16578.61328125\n",
      "  16579.1015625   16579.58984375  16580.078125    16581.0546875\n",
      "  16589.35546875  16590.33203125  16591.30859375  16606.4453125\n",
      "  17410.64453125  17992.1875      18169.43359375  18180.17578125\n",
      "  18375.9765625   18928.22265625  19090.8203125   19542.48046875\n",
      "  19783.69140625  20202.1484375   21666.50390625  22318.359375\n",
      "  22545.41015625  22551.7578125   22558.59375     22559.5703125\n",
      "  22565.4296875   22566.89453125  25450.1953125   25461.9140625\n",
      "  25476.07421875  25558.59375     25683.59375     25746.09375\n",
      "  26075.1953125   26765.625       27142.578125    27154.296875\n",
      "  27166.015625    27166.9921875   27167.96875     27169.921875\n",
      "  27181.15234375  27181.640625    27182.12890625  27183.10546875\n",
      "  27193.359375    27196.2890625   27210.44921875  28319.3359375\n",
      "  28417.48046875  28901.85546875  29204.58984375  29287.109375\n",
      "  29728.515625    29737.3046875   29836.9140625   30261.71875\n",
      "  30642.578125    30736.81640625  30948.2421875   31290.52734375\n",
      "  31591.30859375  31830.56640625  31876.953125    32137.6953125\n",
      "  32264.16015625  32274.4140625   32275.87890625  32283.69140625\n",
      "  32292.96875     32293.9453125   32294.921875    32295.8984375\n",
      "  32311.5234375   32312.5         32312.98828125  32313.4765625\n",
      "  32313.96484375  32314.453125    32314.94140625  32323.73046875\n",
      "  32324.70703125  32325.68359375  32326.66015625  32335.9375\n",
      "  33549.31640625  33990.72265625  34000.          37795.41015625\n",
      "  37805.17578125  37817.87109375  37830.078125    37842.28515625\n",
      "  39145.99609375  40751.953125    41033.69140625  42399.4140625\n",
      "  42511.23046875  42615.234375    43324.70703125  43495.60546875\n",
      "  43895.01953125  43972.16796875  44051.7578125   44089.84375\n",
      "  45232.421875    45242.1875      46489.74609375  47124.0234375\n",
      "  47129.8828125   47130.859375    47131.8359375   47137.6953125\n",
      "  47138.671875    50235.83984375  50245.60546875  50256.8359375\n",
      "  50265.13671875  50266.6015625   50278.3203125   50291.015625\n",
      "  50303.22265625  50314.453125    52305.6640625   52371.09375\n",
      "  52382.32421875  52391.6015625   52404.296875    52416.9921875\n",
      "  52429.19921875  52439.453125    55424.8046875   55426.26953125\n",
      "  55436.5234375   55437.5         55437.98828125  55438.4765625\n",
      "  55439.453125    55449.70703125  55450.68359375  55451.66015625\n",
      "  55462.890625    58604.98046875  58605.95703125  58614.2578125\n",
      "  58615.72265625  58625.          58626.46484375  61547.36328125\n",
      "  61559.08203125  61560.05859375  61561.5234375   61567.3828125\n",
      "  61573.73046875  64027.34375     64049.8046875   64062.5\n",
      "  64072.265625    64073.73046875  64081.54296875  64083.0078125\n",
      "  64095.21484375  64107.91015625  64120.1171875   64130.37109375\n",
      "  67524.4140625   67525.87890625  67535.64453125  67540.0390625\n",
      "  67541.9921875   67553.7109375   67554.6875      67555.6640625\n",
      "  67560.546875    67569.82421875  67570.3125      67570.80078125\n",
      "  67571.2890625   67571.77734375  67572.265625    67572.75390625\n",
      "  67573.2421875   67574.21875     67582.03125     67583.0078125\n",
      "  67583.984375    67584.9609375   67594.23828125  67595.703125\n",
      "  67608.88671875  69072.75390625  70453.61328125  77441.40625\n",
      "  77442.3828125   77453.125       77455.078125    86072.265625\n",
      "  86073.2421875   86079.58984375  86080.56640625  86086.9140625\n",
      "  86088.8671875   86408.69140625  86481.93359375  86921.875\n",
      "  87102.05078125  87609.375       87618.1640625   87788.0859375\n",
      "  87796.38671875  88306.15234375  88460.9375      88470.703125\n",
      "  88482.91015625  88495.1171875   90936.5234375   90937.5\n",
      "  90943.359375    90944.3359375   90950.68359375  90951.66015625\n",
      "  94899.4140625   96008.30078125  96014.16015625  96015.13671875\n",
      "  96021.484375    96022.4609375   96082.03125     97023.92578125\n",
      "  97039.55078125  97458.49609375  98318.84765625  98343.26171875\n",
      "  98571.2890625   98572.265625    98579.1015625   98580.56640625\n",
      "  98582.51953125  98590.8203125   98591.796875    98593.26171875\n",
      "  98603.515625   100804.6875     101208.49609375 101219.7265625\n",
      " 101231.4453125  101243.1640625  101245.1171875  101254.8828125\n",
      " 101255.859375   101267.578125   101269.53125    101279.296875\n",
      " 104884.27734375 104895.5078125  104896.97265625 104908.69140625\n",
      " 104910.64453125 106131.34765625 108538.57421875 108539.55078125\n",
      " 108546.38671875 108552.734375   108553.7109375  108561.5234375\n",
      " 111661.62109375 111666.9921875  111672.8515625  111673.828125\n",
      " 111680.6640625  111681.640625   114577.63671875 114586.9140625\n",
      " 114587.890625   118989.2578125  118990.234375   118998.046875\n",
      " 118999.51171875 119009.765625   119011.23046875]\n",
      "Ripple DOWN Spike Train shape:  (309,) Preview:  [  4148.92578125   4158.69140625   4160.64453125   7242.67578125\n",
      "   7266.6015625    7278.80859375   7280.2734375    7291.015625\n",
      "  13382.8125      13393.5546875   13402.34375     16550.29296875\n",
      "  16559.08203125  16559.5703125   16560.05859375  16560.546875\n",
      "  16561.03515625  16561.5234375   16562.01171875  16562.5\n",
      "  16563.4765625   16571.2890625   16571.77734375  16572.265625\n",
      "  16572.75390625  16573.2421875   16573.73046875  16574.21875\n",
      "  16574.70703125  16583.0078125   16583.984375    16584.9609375\n",
      "  16585.9375      16587.40234375  16597.16796875  17094.23828125\n",
      "  17462.40234375  18092.7734375   18173.828125    18196.2890625\n",
      "  18503.90625     19017.578125    19499.51171875  19775.87890625\n",
      "  19786.1328125   20207.51953125  21808.10546875  22321.77734375\n",
      "  22548.33984375  22555.17578125  22561.03515625  22562.01171875\n",
      "  22569.3359375   25454.58984375  25467.7734375   25480.46875\n",
      "  25561.5234375   25742.67578125  25982.421875    26174.31640625\n",
      "  26891.6015625   27147.94921875  27160.64453125  27161.62109375\n",
      "  27162.59765625  27173.33984375  27174.31640625  27175.78125\n",
      "  27178.22265625  27187.01171875  27187.98828125  27189.453125\n",
      "  27202.63671875  27698.2421875   28322.75390625  28422.8515625\n",
      "  29057.12890625  29208.0078125   29723.14453125  29734.375\n",
      "  29831.54296875  29839.35546875  30583.49609375  30721.19140625\n",
      "  30928.22265625  30952.1484375   31336.9140625   31595.703125\n",
      "  31834.47265625  32134.27734375  32145.5078125   32269.53125\n",
      "  32270.99609375  32286.62109375  32287.59765625  32288.57421875\n",
      "  32289.55078125  32299.8046875   32301.26953125  32306.15234375\n",
      "  32307.12890625  32308.10546875  32309.08203125  32317.87109375\n",
      "  32318.359375    32318.84765625  32319.3359375   32319.82421875\n",
      "  32320.3125      32321.2890625   32330.078125    32331.54296875\n",
      "  32340.33203125  33553.22265625  33995.1171875   34121.09375\n",
      "  37800.78125     37811.03515625  37823.2421875   37835.44921875\n",
      "  37847.16796875  39148.92578125  40754.8828125   41035.64453125\n",
      "  42401.85546875  42590.8203125   43286.62109375  43492.67578125\n",
      "  43568.84765625  43898.92578125  44048.33984375  44087.40234375\n",
      "  44095.21484375  45235.83984375  45247.0703125   46493.65234375\n",
      "  47126.953125    47128.41796875  47133.30078125  47134.27734375\n",
      "  47135.25390625  47142.08984375  50239.74609375  50249.51171875\n",
      "  50260.7421875   50262.20703125  50271.97265625  50284.1796875\n",
      "  50296.38671875  50308.59375     52302.734375    52367.67578125\n",
      "  52375.9765625   52387.20703125  52398.4375      52412.109375\n",
      "  52424.8046875   52435.05859375  55421.875       55430.6640625\n",
      "  55431.640625    55432.6171875   55433.59375     55443.359375\n",
      "  55444.3359375   55445.3125      55446.2890625   55456.0546875\n",
      "  55457.03125     55459.47265625  58602.05078125  58608.88671875\n",
      "  58609.86328125  58619.62890625  58621.09375     58629.8828125\n",
      "  61550.29296875  61556.15234375  61562.98828125  61563.96484375\n",
      "  61565.4296875   61571.2890625   64021.484375    64043.45703125\n",
      "  64058.59375     64068.359375    64077.1484375   64078.125\n",
      "  64079.58984375  64089.35546875  64101.5625      64113.28125\n",
      "  64125.48828125  67519.04296875  67530.2734375   67531.25\n",
      "  67533.203125    67547.36328125  67548.33984375  67549.31640625\n",
      "  67563.4765625   67564.453125    67565.4296875   67566.40625\n",
      "  67566.89453125  67567.87109375  67575.68359375  67576.171875\n",
      "  67576.66015625  67577.1484375   67577.63671875  67578.125\n",
      "  67578.61328125  67579.58984375  67587.890625    67588.8671875\n",
      "  67589.84375     67591.30859375  67602.5390625   69005.37109375\n",
      "  70449.21875     77435.546875    77445.3125      77448.2421875\n",
      "  77458.0078125   86070.80078125  86075.68359375  86077.1484375\n",
      "  86083.0078125   86083.984375    86091.30859375  86412.109375\n",
      "  86877.9296875   87098.6328125   87135.25390625  87612.79296875\n",
      "  87744.62890625  87791.015625    88126.46484375  88458.49609375\n",
      "  88464.84375     88476.07421875  88487.79296875  88500.\n",
      "  90934.08203125  90939.453125    90940.4296875   90946.77734375\n",
      "  90947.75390625  90954.58984375  94902.83203125  96011.23046875\n",
      "  96012.20703125  96018.5546875   96020.01953125  96026.85546875\n",
      "  97006.8359375   97036.62109375  97454.58984375  98315.4296875\n",
      "  98339.84375     98567.3828125   98575.1953125   98576.171875\n",
      "  98577.1484375   98586.42578125  98587.40234375  98595.703125\n",
      "  98597.65625    100802.24609375 101204.58984375 101213.37890625\n",
      " 101225.5859375  101237.79296875 101247.55859375 101248.53515625\n",
      " 101250.48828125 101261.71875    101263.18359375 101273.4375\n",
      " 101274.90234375 104888.671875   104890.625      104903.3203125\n",
      " 104905.2734375  104917.48046875 106134.765625   108535.64453125\n",
      " 108542.96875    108543.9453125  108549.31640625 108550.29296875\n",
      " 108557.12890625 108558.59375    111663.57421875 111669.921875\n",
      " 111671.38671875 111677.24609375 111678.22265625 111684.08203125\n",
      " 114580.56640625 114582.03125    114592.28515625 118985.83984375\n",
      " 118993.1640625  118994.140625   119004.39453125 119005.37109375\n",
      " 119014.6484375 ]\n"
     ]
    }
   ],
   "source": [
    "from hfo.signal_to_spike.signal_to_spike import signal_to_spike, SignalToSpikeParameters\n",
    "\n",
    "# Convert the filtered ripple signal to spikes\n",
    "ripple_spike_trains = signal_to_spike(\n",
    "    SignalToSpikeParameters(\n",
    "        signal=ripple_band_seeg, times=np.array(x),\n",
    "        threshold_up=ripple_threshold_up, threshold_down=ripple_threshold_down,\n",
    "        # refractory_period=0.002, interpolation_factor=1\n",
    "        )\n",
    ")\n",
    "\n",
    "np.set_printoptions(edgeitems=5)\n",
    "print(\"Ripple UP Spike Train shape: \", ripple_spike_trains.up.shape, \"Preview: \", ripple_spike_trains.up)\n",
    "print(\"Ripple DOWN Spike Train shape: \", ripple_spike_trains.down.shape, \"Preview: \", ripple_spike_trains.down)"
   ]
  },
  {
   "cell_type": "code",
   "execution_count": 18,
   "metadata": {},
   "outputs": [
    {
     "name": "stdout",
     "output_type": "stream",
     "text": [
      "Fast Ripple UP Spike Train shape:  (198,) Preview:  [  1005.37109375   1008.7890625    1012.20703125   1012.6953125\n",
      "   1016.11328125   1020.5078125   13357.421875    13359.375\n",
      "  13359.86328125  13362.3046875   13362.79296875  13365.72265625\n",
      "  13370.1171875   13372.55859375  19777.34375     19780.2734375\n",
      "  19783.69140625  27168.9453125   27170.8984375   27171.38671875\n",
      "  27173.828125    27174.31640625  27177.24609375  27184.5703125\n",
      "  27187.98828125  29808.59375     29811.03515625  29813.4765625\n",
      "  29829.1015625   29833.0078125   29836.42578125  29839.35546875\n",
      "  29843.75        29848.14453125  32293.45703125  32295.8984375\n",
      "  32298.33984375  32298.828125    32301.7578125   32305.6640625\n",
      "  32309.08203125  32312.5         33736.328125    34437.01171875\n",
      "  34633.30078125  34635.7421875   34638.18359375  34640.625\n",
      "  34643.5546875   34646.484375    34649.90234375  34653.80859375\n",
      "  34657.2265625   34661.1328125   36347.65625     37800.29296875\n",
      "  37804.6875      37807.6171875   37810.05859375  37810.546875\n",
      "  37813.4765625   37816.89453125  37820.3125      37824.21875\n",
      "  41012.6953125   41015.13671875  41017.578125    41019.53125\n",
      "  41022.4609375   41025.390625    41029.296875    41032.71484375\n",
      "  41036.1328125   44080.56640625  44083.0078125   44085.44921875\n",
      "  44085.9375      44089.35546875  44092.28515625  44095.703125\n",
      "  44099.12109375  48664.0625      50809.08203125  52335.9375\n",
      "  52338.8671875   52341.30859375  52341.796875    61536.1328125\n",
      "  61538.57421875  61539.0625      61541.9921875   61545.8984375\n",
      "  61549.31640625  62797.36328125  63773.4375      67559.08203125\n",
      "  67562.01171875  67564.94140625  67568.84765625  67572.265625\n",
      "  67575.68359375  70444.3359375   70446.77734375  70449.21875\n",
      "  70451.66015625  70454.1015625   70457.03125     70459.9609375\n",
      "  70463.8671875   70464.35546875  70467.7734375   70471.6796875\n",
      "  73416.50390625  73498.046875    73501.953125    73504.8828125\n",
      "  73507.32421875  73507.8125      73510.7421875   73514.6484375\n",
      "  73518.06640625  73521.484375    75364.74609375  76018.06640625\n",
      "  77426.26953125  77428.7109375   77433.10546875  77435.546875\n",
      "  77436.03515625  77438.4765625   77438.96484375  77446.2890625\n",
      "  80665.0390625   80667.48046875  80669.921875    80670.41015625\n",
      "  80673.33984375  80677.24609375  80680.6640625   80684.08203125\n",
      "  80709.47265625  82426.26953125  83475.5859375   84169.43359375\n",
      "  84171.875       86061.03515625  86066.40625     86069.3359375\n",
      "  86072.75390625  86076.66015625  86080.078125    88457.51953125\n",
      "  88459.9609375   88462.40234375  88462.890625    88476.5625\n",
      "  90907.2265625   90909.66796875  90912.109375    90912.59765625\n",
      "  93784.66796875  93788.0859375   93791.50390625  93794.921875\n",
      "  93798.828125    94847.65625     95893.06640625  98575.68359375\n",
      "  98578.125       98578.61328125  98581.0546875   98581.54296875\n",
      "  98584.47265625  98588.37890625  98591.796875    98595.21484375\n",
      " 101228.02734375 101230.46875    101232.421875   101235.3515625\n",
      " 101237.79296875 101238.28125    101241.2109375  101245.1171875\n",
      " 101249.0234375  101251.953125   101902.34375    102168.9453125\n",
      " 104127.9296875  104240.234375   104771.97265625 114570.80078125\n",
      " 114573.2421875  114575.68359375 114576.171875   114579.1015625\n",
      " 114582.51953125 114585.9375    ]\n",
      "Fast Ripple DOWN Spike Train shape:  (196,) Preview:  [  1004.39453125   1007.32421875   1011.23046875   1014.16015625\n",
      "   1018.06640625   1021.484375    13358.3984375   13360.83984375\n",
      "  13361.328125    13363.76953125  13364.2578125   13367.67578125\n",
      "  13371.58203125  19775.87890625  19778.80859375  19781.73828125\n",
      "  19784.66796875  27169.921875    27172.36328125  27172.8515625\n",
      "  27175.78125     27183.10546875  27186.5234375   27258.7890625\n",
      "  29810.05859375  29812.5         29828.125       29830.56640625\n",
      "  29834.47265625  29837.890625    29842.28515625  29846.6796875\n",
      "  29849.609375    32294.43359375  32297.36328125  32299.8046875\n",
      "  32300.78125     32304.19921875  32307.6171875   32311.03515625\n",
      "  33361.81640625  34436.03515625  34632.32421875  34634.765625\n",
      "  34637.20703125  34639.6484375   34642.08984375  34645.5078125\n",
      "  34648.4375      34652.34375     34655.2734375   34659.66796875\n",
      "  36346.19140625  37799.31640625  37803.7109375   37806.15234375\n",
      "  37808.59375     37809.08203125  37812.01171875  37815.4296875\n",
      "  37819.3359375   37822.75390625  37825.1953125   41013.671875\n",
      "  41016.11328125  41018.5546875   41021.484375    41024.4140625\n",
      "  41027.34375     41030.76171875  41034.1796875   41037.59765625\n",
      "  44081.54296875  44084.47265625  44087.40234375  44090.8203125\n",
      "  44094.7265625   44098.14453125  48663.0859375   48665.52734375\n",
      "  50856.4453125   52337.40234375  52340.33203125  52342.7734375\n",
      "  61535.15625     61537.109375    61537.59765625  61540.0390625\n",
      "  61541.015625    61544.43359375  61547.8515625   61551.26953125\n",
      "  63772.4609375   67558.10546875  67560.546875    67563.4765625\n",
      "  67567.3828125   67570.80078125  67574.70703125  67849.12109375\n",
      "  70445.3125      70447.75390625  70450.1953125   70452.63671875\n",
      "  70455.56640625  70458.49609375  70462.890625    70465.33203125\n",
      "  70465.8203125   70469.7265625   73251.953125    73496.58203125\n",
      "  73500.9765625   73503.41796875  73506.34765625  73508.7890625\n",
      "  73509.765625    73512.6953125   73516.6015625   73520.5078125\n",
      "  74194.82421875  75873.046875    77395.99609375  77427.24609375\n",
      "  77430.17578125  77434.5703125   77437.01171875  77437.5\n",
      "  77439.94140625  77447.265625    80666.015625    80668.45703125\n",
      "  80668.9453125   80671.38671875  80672.36328125  80675.29296875\n",
      "  80679.19921875  80682.6171875   80685.546875    82425.29296875\n",
      "  83474.12109375  83477.05078125  84170.8984375   86060.05859375\n",
      "  86065.4296875   86068.359375    86070.80078125  86074.70703125\n",
      "  86078.125       86081.54296875  88458.49609375  88460.9375\n",
      "  88461.42578125  88463.8671875   88475.5859375   88477.5390625\n",
      "  90908.203125    90911.1328125   90913.57421875  93785.64453125\n",
      "  93789.55078125  93792.96875     93796.875       94846.19140625\n",
      "  95891.6015625   98574.70703125  98577.1484375   98579.58984375\n",
      "  98580.078125    98582.51953125  98583.49609375  98586.42578125\n",
      "  98590.33203125  98593.75        98596.6796875  101229.00390625\n",
      " 101231.4453125  101233.88671875 101236.328125   101236.81640625\n",
      " 101239.74609375 101243.1640625  101246.58203125 101250.48828125\n",
      " 101900.87890625 102078.61328125 104126.46484375 104238.76953125\n",
      " 104281.25       104773.4375     114571.77734375 114574.21875\n",
      " 114574.70703125 114577.63671875 114581.0546875  114584.9609375 ]\n"
     ]
    }
   ],
   "source": [
    "# Convert the filtered FR signal to spikes\n",
    "fr_spike_trains = signal_to_spike(\n",
    "    SignalToSpikeParameters(\n",
    "        signal=fr_band_seeg, times=np.array(x),\n",
    "        threshold_up=fr_threshold_up, threshold_down=fr_threshold_down,\n",
    "        # refractory_period=0.002, interpolation_factor=1\n",
    "        )\n",
    ")\n",
    "\n",
    "np.set_printoptions(edgeitems=5)\n",
    "print(\"Fast Ripple UP Spike Train shape: \", fr_spike_trains.up.shape, \"Preview: \", fr_spike_trains.up)\n",
    "print(\"Fast Ripple DOWN Spike Train shape: \", fr_spike_trains.down.shape, \"Preview: \", fr_spike_trains.down)"
   ]
  },
  {
   "cell_type": "markdown",
   "metadata": {},
   "source": [
    "## Visualize the Spike Trains\n",
    "Let's plot the generated spike trains via a raster plot."
   ]
  },
  {
   "cell_type": "code",
   "execution_count": 19,
   "metadata": {},
   "outputs": [],
   "source": [
    "from utils.raster_plot import create_raster_fig\n",
    "\n",
    "# ------------------------------------------------------------------------------- #\n",
    "# ------- Create the raster plot for the Ripple UP and DOWN spike trains -------- #\n",
    "# ------------------------------------------------------------------------------- #\n",
    "\n",
    "# Create a list containing the x values for the raster plot.\n",
    "ripple_raster_x = np.concatenate((ripple_spike_trains.up, ripple_spike_trains.down), axis=0)\n",
    "\n",
    "# Create a list containing the y values for the raster plot.\n",
    "# The UP spike train will be represented by 1s and the DOWN spike train by 0s\n",
    "ripple_raster_y = [1 for _ in range(len(ripple_spike_trains.up))] + [0 for _ in range(len(ripple_spike_trains.down))]\n",
    "\n",
    "ripple_train_raster = create_raster_fig(\"Ripple UP and DOWN spike events\", \"Time (ms)\", \"Channel\", ripple_raster_x, ripple_raster_y)"
   ]
  },
  {
   "cell_type": "code",
   "execution_count": 20,
   "metadata": {},
   "outputs": [],
   "source": [
    "showRasterPlot = True\n",
    "\n",
    "# Plot the raster plot for the Ripple spike trains\n",
    "if showRasterPlot:\n",
    "    bplt.show(ripple_train_raster)"
   ]
  },
  {
   "cell_type": "code",
   "execution_count": 21,
   "metadata": {},
   "outputs": [],
   "source": [
    "# ------------------------------------------------------------------------------- #\n",
    "# ------- Create the raster plot for the Fast Ripple UP and DOWN spike trains -------- #\n",
    "# ------------------------------------------------------------------------------- #\n",
    "\n",
    "# Create a list containing the x values for the raster plot.\n",
    "fr_raster_x = np.concatenate((fr_spike_trains.up, fr_spike_trains.down), axis=0)\n",
    "\n",
    "# Create a list containing the y values for the raster plot.\n",
    "# The UP spike train will be represented by 1s and the DOWN spike train by 0s\n",
    "fr_raster_y = [1 for _ in range(len(fr_spike_trains.up))] + [0 for _ in range(len(fr_spike_trains.down))]\n",
    "\n",
    "fr_train_raster = create_raster_fig(\"Fast Ripple UP and DOWN spike events\", \"Time (ms)\", \"Channel\", fr_raster_x, fr_raster_y)"
   ]
  },
  {
   "cell_type": "code",
   "execution_count": 22,
   "metadata": {},
   "outputs": [],
   "source": [
    "# Plot the raster plot for the Fast Ripple spike trains\n",
    "if showRasterPlot:\n",
    "    bplt.show(fr_train_raster)"
   ]
  },
  {
   "cell_type": "markdown",
   "metadata": {},
   "source": [
    "## Export the Spike Trains to CSV Files for the Lava SNN\n",
    "\n",
    "We have successfully converted the SEEG signal to spikes. The next step is to feed these spikes to the SNN for Ripple and Fast Ripple detection.\n",
    "\n",
    "For this, we will create a file for each type of spike train (UP and DOWN). I'm not sure if we should join the spikes of both bands in a single file or keep them separate."
   ]
  },
  {
   "cell_type": "code",
   "execution_count": 23,
   "metadata": {},
   "outputs": [],
   "source": [
    "# Create a csv file with the spike train data\n",
    "import csv\n",
    "\n",
    "def write_spike_train_to_csv(file_name, spike_train, channel_idx):\n",
    "    \"\"\"\n",
    "    This function writes the spike train to a csv file.\n",
    "    @file_name (str): Name of the file to be created.\n",
    "    @spike_train (np.ndarray): Array with the spike train data.\n",
    "    @channel_idx (int): Index of the channel that generated the spike train. (According to the original data)\n",
    "    \"\"\"\n",
    "    with open(file_name, mode='w', newline='') as file:\n",
    "        writer = csv.writer(file)\n",
    "        writer.writerow([\"time\", \"channel_idx\"])\n",
    "        for spike_time in spike_train:\n",
    "            writer.writerow([spike_time, channel_idx])"
   ]
  },
  {
   "cell_type": "code",
   "execution_count": 24,
   "metadata": {},
   "outputs": [],
   "source": [
    "WRITE_RIPPLE_CSV_FILES = False\n",
    "WRITE_FR_CSV_FILES = False"
   ]
  },
  {
   "cell_type": "code",
   "execution_count": 25,
   "metadata": {},
   "outputs": [],
   "source": [
    "if WRITE_RIPPLE_CSV_FILES:\n",
    "    # Create the csv file for the Ripple UP spike train\n",
    "    ripple_up_file_name = f\"{PATH_TO_FILE}snn/data/ripple_up_spike_train_5.csv\"\n",
    "    write_spike_train_to_csv(ripple_up_file_name, ripple_spike_trains.up, selected_ch_idx)\n",
    "\n",
    "    # Create the csv file for the Ripple DOWN spike train\n",
    "    ripple_down_file_name = f\"{PATH_TO_FILE}snn/data/ripple_down_spike_train_-5.csv\"\n",
    "    write_spike_train_to_csv(ripple_down_file_name, ripple_spike_trains.down, selected_ch_idx)"
   ]
  },
  {
   "cell_type": "code",
   "execution_count": 26,
   "metadata": {},
   "outputs": [],
   "source": [
    "if WRITE_FR_CSV_FILES:\n",
    "    # Create the csv file for the Fast Ripple UP spike train\n",
    "    fr_up_file_name = f\"{PATH_TO_FILE}snn/data/fr_up_spike_train_3.csv\"\n",
    "    write_spike_train_to_csv(fr_up_file_name, fr_spike_trains.up, selected_ch_idx)\n",
    "\n",
    "    # Create the csv file for the Fast Ripple DOWN spike train\n",
    "    fr_down_file_name = f\"{PATH_TO_FILE}snn/data/fr_down_spike_train_-3.csv\"\n",
    "    write_spike_train_to_csv(fr_down_file_name, fr_spike_trains.down, selected_ch_idx)"
   ]
  },
  {
   "cell_type": "markdown",
   "metadata": {},
   "source": [
    "## Generate the input files for the SNN\n",
    "\n",
    "### Is the SNN going to detect the HFO events in windows? Or do we take it as a continous input?\n",
    "**If so**: The SNN is going to detect HFO events in windows. Therefore, the input to the network must be organized in windows of a certain size. The size of the window is a hyperparameter that can be tuned to improve the performance of the network.\n",
    "\n",
    "I think windowing makes more sense when we are learning with an ANN. Since we want real-time detection, feeding a continous input makes more sense.\n",
    "\n",
    "### Let's assume we do NOT need to window the input\n",
    "In this case, our input will simply be a continous stream of spikes. We can feed the spikes to the SNN in real-time. At each timestep, the SNN will receive 2 binary inputs (UP and DOWN spikes) indicating the presence of a spike in the respective spike train."
   ]
  },
  {
   "cell_type": "code",
   "execution_count": 27,
   "metadata": {},
   "outputs": [
    {
     "name": "stdout",
     "output_type": "stream",
     "text": [
      "snn_input:  (245760, 2) Preview: [[0. 0.]\n",
      " [0. 0.]\n",
      " [0. 0.]\n",
      " [0. 0.]\n",
      " [0. 0.]\n",
      " ...\n",
      " [0. 0.]\n",
      " [0. 0.]\n",
      " [0. 0.]\n",
      " [0. 0.]\n",
      " [0. 0.]]\n"
     ]
    }
   ],
   "source": [
    "# Create a numpy array that will store the input (2D)\n",
    "snn_input = np.zeros((num_samples, 2))  # 2 columns: UP and DOWN spike trains\n",
    "\n",
    "# ---------------------------------------------------------------------------------- #\n",
    "# -------- Select the Spike Trains to be used as input for the SNN ----------------- #\n",
    "# ---------------------------------------------------------------------------------- #\n",
    "selected_up_spikes = ripple_spike_trains.up\n",
    "selected_down_spikes = ripple_spike_trains.down\n",
    "\n",
    "# Iterate the time steps of the recording and check if there are spikes in the selected spike trains at each timestep\n",
    "curr_up_idx = 0\n",
    "curr_down_idx = 0\n",
    "for (idx, time_step) in enumerate(x):\n",
    "    # Check if an UP spike occurs at this time step\n",
    "    if curr_up_idx < len(selected_up_spikes) and selected_up_spikes[curr_up_idx] <= time_step:\n",
    "        snn_input[idx][0] = 1   # Mark the UP spike in the input array\n",
    "        curr_up_idx += 1    # Move to the next spike in the UP spike train\n",
    "    # Check if a DOWN spike occurs at this time step\n",
    "    elif curr_down_idx < len(selected_down_spikes) and selected_down_spikes[curr_down_idx] <= time_step:\n",
    "        snn_input[idx][1] = 1   # Mark the DOWN spike in the input array\n",
    "        curr_down_idx += 1  # Move to the next spike in the DOWN spike train\n",
    "    \n",
    "    if curr_up_idx >= len(selected_up_spikes) and curr_down_idx >= len(selected_down_spikes):\n",
    "        # All the spikes have been added to the input array\n",
    "        break\n",
    "\n",
    "np.set_printoptions(edgeitems=5)\n",
    "print(\"snn_input: \", snn_input.shape, \"Preview:\", snn_input)"
   ]
  },
  {
   "cell_type": "code",
   "execution_count": 28,
   "metadata": {},
   "outputs": [],
   "source": [
    "# Export the input array to a numpy file\n",
    "EXPORT_INPUT = False\n",
    "if EXPORT_INPUT:\n",
    "    input_file_name = f\"{PATH_TO_FILE}snn/data/ripple_train_5_-5/snn_input_ripple_5_-5.npy\"\n",
    "    np.save(input_file_name, snn_input)\n",
    "\n",
    "    # Export to CSV for visualization purposes\n",
    "    with open(f\"{PATH_TO_FILE}snn/data/ripple_train_5_-5/snn_input_ripple_5_-5.csv\", mode='w', newline='') as file:\n",
    "        writer = csv.writer(file)\n",
    "        writer.writerow([\"time\", \"up_spike\", \"down_spike\"])\n",
    "        for (idx, time_step) in enumerate(x):\n",
    "            writer.writerow([time_step, snn_input[idx][0], snn_input[idx][1]])"
   ]
  },
  {
   "cell_type": "markdown",
   "metadata": {},
   "source": [
    "## Generate the Ground Truth File for the SNN (Target)"
   ]
  },
  {
   "cell_type": "markdown",
   "metadata": {},
   "source": [
    "Extract the markers from the selected channel"
   ]
  },
  {
   "cell_type": "code",
   "execution_count": 38,
   "metadata": {},
   "outputs": [
    {
     "name": "stdout",
     "output_type": "stream",
     "text": [
      "Selected Channel Markers Shape: (42,).\n",
      "Preview: [('Spike+Fast-Ripple',   1000.  , 0.) ('Spike+Ripple',   4139.16, 0.)\n",
      " ('Spike+Ripple',   7255.86, 0.) ('Spike',  10473.6 , 0.)\n",
      " ('Spike+Ripple+Fast-Ripple',  13362.8 , 0.) ...\n",
      " ('Spike+Ripple', 108516.  , 0.) ('Ripple', 111657.  , 0.)\n",
      " ('Ripple+Fast-Ripple', 114574.  , 0.) ('Spike', 116793.  , 0.)\n",
      " ('Spike+Ripple', 119000.  , 0.)]\n"
     ]
    }
   ],
   "source": [
    "from utils.io import preview_np_array\n",
    "\n",
    "# The target output for the SNN must have the same length as the input.\n",
    "target_np = np.zeros((num_samples))  # 1 column: 0/1 for the output classes (No Event, Ripple/Fast Ripple or both)\n",
    "# TODO: Could have more than 2 classes to differentiate the labels\n",
    "\n",
    "# Get the markers for the selected channel\n",
    "# Each marker has the following keys:   position, label, and duration\n",
    "selected_ch_markers = markers[selected_ch_idx]\n",
    "preview_np_array(selected_ch_markers, \"Selected Channel Markers\")"
   ]
  },
  {
   "cell_type": "markdown",
   "metadata": {},
   "source": [
    "### Export to a CSV File for the Lava SNN"
   ]
  },
  {
   "cell_type": "code",
   "execution_count": null,
   "metadata": {},
   "outputs": [],
   "source": [
    "# Export the target array to a numpy file\n",
    "EXPORT_TARGET_1 = False\n",
    "\n",
    "if EXPORT_TARGET_1:\n",
    "    target_file_name = f\"{PATH_TO_FILE}snn/ground_truth/instants_ch-{selected_ch_idx}.npy\"\n",
    "    np.save(target_file_name, target_np)"
   ]
  },
  {
   "cell_type": "markdown",
   "metadata": {},
   "source": [
    "### Convert to the format that the learnable SNN (Slayer) can read"
   ]
  },
  {
   "cell_type": "markdown",
   "metadata": {},
   "source": [
    "#### Fill the target numpy array with 1s where the HFOs are present"
   ]
  },
  {
   "cell_type": "code",
   "execution_count": 55,
   "metadata": {},
   "outputs": [],
   "source": [
    "from utils.input import label_has_hfo_event\n",
    "\n",
    "# Iterate the time steps of the recording and check if there is an annotated event at each timestep\n",
    "curr_markers_idx = 0\n",
    "for (idx, time_step) in enumerate(x):\n",
    "    # Check if an event occurs at this time step\n",
    "    if curr_markers_idx < len(selected_ch_markers) and selected_ch_markers[curr_markers_idx]['position'] <= time_step:\n",
    "        # If the label has an HFO event, mark it as 1 in the target array\n",
    "        if label_has_hfo_event(selected_ch_markers[curr_markers_idx]['label']):\n",
    "            target_np[idx] = 1   # Mark the Labelled event in the target array\n",
    "        \n",
    "        curr_markers_idx += 1    # Move to the next annotated event\n",
    "    \n",
    "    if curr_markers_idx >= len(selected_ch_markers):\n",
    "        # All the spikes have been added to the input array\n",
    "        break"
   ]
  },
  {
   "cell_type": "code",
   "execution_count": 56,
   "metadata": {},
   "outputs": [
    {
     "name": "stdout",
     "output_type": "stream",
     "text": [
      "target_np Shape: (245760,).\n",
      "Preview: [0. 0. 0. 0. 0. ... 0. 0. 0. 0. 0.]\n"
     ]
    }
   ],
   "source": [
    "preview_np_array(target_np, \"target_np\")"
   ]
  },
  {
   "cell_type": "markdown",
   "metadata": {},
   "source": [
    "## Export the target file to a numpy file"
   ]
  },
  {
   "cell_type": "code",
   "execution_count": 57,
   "metadata": {},
   "outputs": [],
   "source": [
    "# Export the target array to a numpy file\n",
    "EXPORT_TARGET = False\n",
    "if EXPORT_TARGET:\n",
    "    target_file_name = f\"{PATH_TO_FILE}snn/ground_truth/ch-{selected_ch_idx}.npy\"\n",
    "    np.save(target_file_name, target_np)"
   ]
  },
  {
   "cell_type": "code",
   "execution_count": null,
   "metadata": {},
   "outputs": [],
   "source": []
  }
 ],
 "metadata": {
  "kernelspec": {
   "display_name": "Python 3 (ipykernel)",
   "language": "python",
   "name": "python3"
  }
 },
 "nbformat": 4,
 "nbformat_minor": 2
}
