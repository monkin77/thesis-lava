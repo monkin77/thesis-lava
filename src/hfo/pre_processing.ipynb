{
 "cells": [
  {
   "cell_type": "markdown",
   "metadata": {},
   "source": [
    "# Pre-Processing of the SEEG Signal\n",
    "This notebook presents the pre-processing stages the SEEG signal goes through before being fed to the SNN. The pre-processing stages are as follows:\n",
    "1. **Filtering**: The SEEG signal is bandpass filtered to remove noise and artifacts. The bandpass filter is designed using the Butterworth filter and, since we are working with *iEEG*, the signal is filtered in the ripples and FR bands. The co-occurrence of HFOs in both bands is an optimal prediction of post-surgical seizure freedom by defining an optimal \"HFO area\" or EZ zone.\n",
    "2. **Signal-to-Spike Conversion**: To interface and communicate with the silicon neurons in the SNN, the SEEG signal must be converted to spikes."
   ]
  },
  {
   "cell_type": "markdown",
   "metadata": {},
   "source": [
    "## Filtering\n",
    "Depending on the EEG modality, the signal is filtered in different frequency bands. In this case, since we are handling *iEEG* or *sEEG* data, the signal is filtered in both the ripples (80-250Hz) and FR bands (250-500Hz). The co-occurrence of HFO in these bands represents an optimal prediction of post-surgical seizure freedom by defining an optimal \"HFO area\" or EZ zone.\n",
    "\n",
    "The filter is implemented in different ways depending on the setup it will run on.\n",
    "1. **Neuromorphic Hardware**: The filter is implemented using analog filters. \n",
    "2. **Software Simulation**: *Butterworth filters* are utilized since they are a good approximation of the tuned *Tow-Thomas* architectures implemented in hardware."
   ]
  },
  {
   "cell_type": "markdown",
   "metadata": {},
   "source": [
    "The frequency response of the *Butterworth filter* is maximally flat in the passband and rolls of towards 0 in the stopband."
   ]
  },
  {
   "cell_type": "markdown",
   "metadata": {},
   "source": [
    "### Check WD and file loading"
   ]
  },
  {
   "cell_type": "code",
   "execution_count": 97,
   "metadata": {},
   "outputs": [
    {
     "name": "stdout",
     "output_type": "stream",
     "text": [
      "/home/monkin/Desktop/feup/thesis/lava/src/hfo\n"
     ]
    }
   ],
   "source": [
    "# Show current directory\n",
    "import os\n",
    "curr_dir = os.getcwd()\n",
    "print(curr_dir)\n",
    "\n",
    "PATH_TO_FILE = '' # src/hfo/' # ''  # This is needed if the WD is not the same as the file location"
   ]
  },
  {
   "cell_type": "code",
   "execution_count": 98,
   "metadata": {},
   "outputs": [
    {
     "name": "stdout",
     "output_type": "stream",
     "text": [
      "Data shape:  (245760, 960)\n",
      "First time steps:  [[ 3.2352024e-01 -1.3235390e+00 -5.9668809e-01 ... -1.9608999e+00\n",
      "  -1.9769822e-01 -1.2078454e+00]\n",
      " [-6.9759099e-04 -3.5122361e+00 -4.8766956e-01 ... -5.8757830e+00\n",
      "  -7.4400985e-01 -5.1096064e-01]\n",
      " [ 1.9026639e+00 -5.6726017e+00  9.8274893e-01 ... -6.6182971e+00\n",
      "  -8.3053267e-01 -8.1596655e-01]\n",
      " ...\n",
      " [ 3.2172418e+00 -8.4650068e+00  1.5216088e+00 ... -4.1081657e+00\n",
      "   2.0085973e-01 -4.7539668e+00]\n",
      " [ 1.7725919e+00 -9.4744024e+00  1.6776791e+00 ... -4.1469693e+00\n",
      "   1.6412770e+00 -3.4672713e+00]\n",
      " [ 7.8109097e-01 -1.0500931e+01  2.3717029e+00 ... -5.1762242e+00\n",
      "   1.0715837e+00 -4.4489903e+00]]\n"
     ]
    }
   ],
   "source": [
    "import numpy as np\n",
    "import math\n",
    "\n",
    "seeg_file_name = \"seeg_synthetic_humans.npy\"\n",
    "recorded_data = np.load(f\"{PATH_TO_FILE}data/{seeg_file_name}\")\n",
    "\n",
    "print(\"Data shape: \", recorded_data.shape)\n",
    "print(\"First time steps: \", recorded_data[:10])"
   ]
  },
  {
   "cell_type": "markdown",
   "metadata": {},
   "source": [
    "### Add the parent directory to the path to detect the utils module"
   ]
  },
  {
   "cell_type": "code",
   "execution_count": 99,
   "metadata": {},
   "outputs": [],
   "source": [
    "import os\n",
    "import sys\n",
    "\n",
    "# Add the parent directory to the path so it detects the utils module\n",
    "module_path = os.path.abspath(os.path.join('src'))      # Changed this since WD is not the same as the file location\n",
    "if module_path not in sys.path:\n",
    "    sys.path.append(module_path)"
   ]
  },
  {
   "cell_type": "markdown",
   "metadata": {},
   "source": [
    "## Define the Filter"
   ]
  },
  {
   "cell_type": "code",
   "execution_count": 100,
   "metadata": {},
   "outputs": [],
   "source": [
    "from scipy.signal import butter, lfilter\n",
    "\n",
    "# ================================================================ #\n",
    "# ============ Butterworth Filter Coefficients =================== #\n",
    "# ================================================================ #\n",
    "def butter_bandpass(lowcut, highcut, sampling_freq, order=5):\n",
    "    \"\"\"\n",
    "    This function is used to generate the coefficients for lowpass, highpass and bandpass\n",
    "    filtering for Butterworth filters.\n",
    "    @lowcut, highcut (int): cutoff frequencies for the bandpass filter\n",
    "    @sampling_freq (float): sampling_frequency frequency of the wideband signal\n",
    "    @order (int): filter order\n",
    "\n",
    "    - return b, a (float): filtering coefficients that will be applied on the wideband signal\n",
    "    \"\"\"\n",
    "    nyq = 0.5 * sampling_freq   # Nyquist frequency\n",
    "    low = lowcut / nyq          # Normalizing the cutoff frequencies\n",
    "    high = highcut / nyq        # Normalizing the cutoff frequencies\n",
    "\n",
    "    return butter(order, [low, high], btype='band')    \n",
    "\n",
    "# ================================================================ #\n",
    "# ====================== Butterworth Filters ===================== #\n",
    "# ================================================================ #\n",
    "def butter_bandpass_filter(data, lowcut, highcut, sampling_freq, order=5):\n",
    "    \"\"\"\n",
    "    This function applies the filtering coefficients calculated above to the wideband signal (original signal).\n",
    "    @data (array): Array with the amplitude values of the wideband signal.\n",
    "    @lowcut, highcut (int): cutoff frequencies for the bandpass filter.\n",
    "    @sampling_freq (float): sampling frequency of the original signal.\n",
    "    @order (int): filter order.\n",
    "\n",
    "    - return (array): Array with the amplitude values of the filtered signal.\n",
    "    \"\"\"\n",
    "    coef_b, coef_a = butter_bandpass(lowcut, highcut, sampling_freq, order)\n",
    "\n",
    "    return lfilter(coef_b, coef_a, data)\n",
    "    "
   ]
  },
  {
   "cell_type": "markdown",
   "metadata": {},
   "source": [
    "### Extract a single SEEG channel from the SEEG data"
   ]
  },
  {
   "cell_type": "code",
   "execution_count": 101,
   "metadata": {},
   "outputs": [
    {
     "name": "stdout",
     "output_type": "stream",
     "text": [
      "seeg_ch_np shape: (245760,). \n",
      "Preview: [  0.23408996   0.31883836   2.7478404  ... 110.786125   111.722855\n",
      " 112.302986  ]\n"
     ]
    }
   ],
   "source": [
    "selected_ch_idx = 63 # 1 32 63 94\n",
    "seeg_ch = list(map(lambda all_channels: all_channels[selected_ch_idx], recorded_data))  # Selecting the first channel\n",
    "seeg_ch_np = np.array(seeg_ch)\n",
    "\n",
    "print(f\"seeg_ch_np shape: {seeg_ch_np.shape}. \\nPreview: {seeg_ch_np}\")"
   ]
  },
  {
   "cell_type": "markdown",
   "metadata": {},
   "source": [
    "## Define Global Parameters of the Experiment"
   ]
  },
  {
   "cell_type": "code",
   "execution_count": 102,
   "metadata": {},
   "outputs": [],
   "source": [
    "sampling_rate = 2048    # 2048 Hz\n",
    "input_duration = 120 * (10**3)    # 120000 ms or 120 seconds\n",
    "num_samples = recorded_data.shape[0]    # 2048 * 120 = 245760\n",
    "num_channels = recorded_data.shape[1]   # 960\n",
    "\n",
    "x_step = 1/sampling_rate * (10**3)  # 0.48828125 ms"
   ]
  },
  {
   "cell_type": "markdown",
   "metadata": {},
   "source": [
    "## Apply the Butterworth filter to the channel"
   ]
  },
  {
   "cell_type": "code",
   "execution_count": 103,
   "metadata": {},
   "outputs": [],
   "source": [
    "# Filter the raw signal in the Ripple band (80-250 Hz)\n",
    "ripple_band_seeg = butter_bandpass_filter(seeg_ch_np, 80, 250, sampling_rate, 5)\n",
    "\n",
    "# Filter the raw signal in the Fast Ripple band (250-500 Hz)\n",
    "fr_band_seeg = butter_bandpass_filter(seeg_ch_np, 250, 500, sampling_rate, 5)"
   ]
  },
  {
   "cell_type": "markdown",
   "metadata": {},
   "source": [
    "## Import the Markers (Annotated Events) \n",
    "The markers are stored in a numpy array of shape (num_channels, events):\n",
    "- Each row represents the events of a channel\n",
    "- Each event is composed of the following 3 fields (Label, Position, Shape)"
   ]
  },
  {
   "cell_type": "code",
   "execution_count": 104,
   "metadata": {},
   "outputs": [
    {
     "name": "stdout",
     "output_type": "stream",
     "text": [
      "Markers shape:  (960, 42)\n",
      "First time steps:  [[('Spike+Ripple+Fast-Ripple',   1000.  , 0.)\n",
      "  ('Spike+Ripple+Fast-Ripple',   4537.6 , 0.)\n",
      "  ('Ripple+Fast-Ripple',   7610.84, 0.) ('Spike',  10261.2 , 0.)\n",
      "  ('Fast-Ripple',  13411.6 , 0.) ('Spike+Ripple',  15644.  , 0.)\n",
      "  ('Ripple',  18607.9 , 0.) ('Fast-Ripple',  21300.8 , 0.)\n",
      "  ('Fast-Ripple',  24086.9 , 0.)\n",
      "  ('Spike+Ripple+Fast-Ripple',  26598.1 , 0.)\n",
      "  ('Spike+Fast-Ripple',  30529.8 , 0.) ('Ripple',  33387.7 , 0.)\n",
      "  ('Spike+Fast-Ripple',  36145.5 , 0.) ('Spike',  38744.1 , 0.)\n",
      "  ('Spike+Fast-Ripple',  41876.  , 0.)\n",
      "  ('Ripple+Fast-Ripple',  44531.7 , 0.) ('Spike+Ripple',  47699.7 , 0.)\n",
      "  ('Spike+Ripple+Fast-Ripple',  50303.2 , 0.) ('Ripple',  53045.9 , 0.)\n",
      "  ('Ripple+Fast-Ripple',  56416.  , 0.)\n",
      "  ('Spike+Ripple+Fast-Ripple',  58838.4 , 0.)\n",
      "  ('Ripple+Fast-Ripple',  62578.6 , 0.) ('Fast-Ripple',  65430.2 , 0.)\n",
      "  ('Spike',  68184.1 , 0.) ('Spike+Ripple',  70753.9 , 0.)\n",
      "  ('Ripple+Fast-Ripple',  73788.6 , 0.) ('Spike',  76749.  , 0.)\n",
      "  ('Fast-Ripple',  79802.7 , 0.) ('Spike+Ripple',  82200.7 , 0.)\n",
      "  ('Spike',  85205.1 , 0.) ('Spike+Fast-Ripple',  88308.6 , 0.)\n",
      "  ('Spike',  91154.3 , 0.) ('Ripple',  93484.4 , 0.)\n",
      "  ('Spike+Ripple+Fast-Ripple',  96478.  , 0.)\n",
      "  ('Spike+Fast-Ripple',  99524.4 , 0.) ('Ripple', 101862.  , 0.)\n",
      "  ('Spike+Ripple', 104127.  , 0.) ('Spike+Fast-Ripple', 106672.  , 0.)\n",
      "  ('Ripple+Fast-Ripple', 109322.  , 0.) ('Ripple', 113024.  , 0.)\n",
      "  ('Fast-Ripple', 116549.  , 0.) ('Spike+Ripple', 119000.  , 0.)]\n",
      " [('Spike+Fast-Ripple',   1000.  , 0.)\n",
      "  ('Spike+Ripple+Fast-Ripple',   3849.12, 0.)\n",
      "  ('Ripple+Fast-Ripple',   7010.25, 0.) ('Spike',   9893.55, 0.)\n",
      "  ('Spike+Ripple',  12840.8 , 0.)\n",
      "  ('Spike+Ripple+Fast-Ripple',  15537.6 , 0.)\n",
      "  ('Spike+Ripple+Fast-Ripple',  17798.3 , 0.)\n",
      "  ('Fast-Ripple',  21310.1 , 0.) ('Spike+Fast-Ripple',  24303.2 , 0.)\n",
      "  ('Spike+Ripple',  26703.1 , 0.) ('Spike+Ripple',  29163.1 , 0.)\n",
      "  ('Ripple',  32477.1 , 0.) ('Ripple',  35353.5 , 0.)\n",
      "  ('Spike+Ripple',  38091.3 , 0.) ('Ripple',  40928.7 , 0.)\n",
      "  ('Spike+Fast-Ripple',  43745.6 , 0.)\n",
      "  ('Spike+Ripple+Fast-Ripple',  46724.6 , 0.)\n",
      "  ('Spike+Fast-Ripple',  49544.4 , 0.)\n",
      "  ('Ripple+Fast-Ripple',  52280.8 , 0.) ('Ripple',  55122.1 , 0.)\n",
      "  ('Spike',  58428.7 , 0.) ('Fast-Ripple',  61564.9 , 0.)\n",
      "  ('Ripple+Fast-Ripple',  64350.1 , 0.)\n",
      "  ('Spike+Ripple+Fast-Ripple',  67462.4 , 0.)\n",
      "  ('Ripple+Fast-Ripple',  70412.6 , 0.)\n",
      "  ('Ripple+Fast-Ripple',  73817.9 , 0.) ('Spike',  77059.6 , 0.)\n",
      "  ('Spike+Ripple+Fast-Ripple',  80096.7 , 0.) ('Ripple',  82790.5 , 0.)\n",
      "  ('Spike+Ripple',  86759.3 , 0.) ('Spike+Fast-Ripple',  89232.4 , 0.)\n",
      "  ('Ripple',  91572.8 , 0.) ('Spike',  94439.5 , 0.)\n",
      "  ('Spike+Ripple',  98288.1 , 0.) ('Ripple+Fast-Ripple', 101109.  , 0.)\n",
      "  ('Fast-Ripple', 103939.  , 0.) ('Fast-Ripple', 106747.  , 0.)\n",
      "  ('Spike', 109180.  , 0.) ('Spike', 112373.  , 0.)\n",
      "  ('Fast-Ripple', 114176.  , 0.) ('Spike+Fast-Ripple', 116672.  , 0.)\n",
      "  ('Fast-Ripple', 119000.  , 0.)]\n",
      " [('Fast-Ripple',   1000.  , 0.)\n",
      "  ('Spike+Ripple+Fast-Ripple',   4357.42, 0.)\n",
      "  ('Fast-Ripple',   7062.01, 0.) ('Spike+Ripple',  10354.  , 0.)\n",
      "  ('Spike+Ripple',  12860.4 , 0.) ('Ripple',  16188.  , 0.)\n",
      "  ('Spike+Ripple+Fast-Ripple',  19890.1 , 0.) ('Spike',  23101.6 , 0.)\n",
      "  ('Spike+Fast-Ripple',  25157.2 , 0.)\n",
      "  ('Spike+Fast-Ripple',  27310.1 , 0.) ('Ripple',  30074.7 , 0.)\n",
      "  ('Spike+Ripple',  33075.7 , 0.) ('Ripple+Fast-Ripple',  37325.2 , 0.)\n",
      "  ('Spike+Ripple+Fast-Ripple',  39814.5 , 0.) ('Ripple',  41879.4 , 0.)\n",
      "  ('Spike',  45083.5 , 0.) ('Ripple',  49012.7 , 0.)\n",
      "  ('Spike+Ripple+Fast-Ripple',  52209.5 , 0.)\n",
      "  ('Fast-Ripple',  55219.2 , 0.) ('Ripple+Fast-Ripple',  57720.7 , 0.)\n",
      "  ('Spike+Ripple',  60536.1 , 0.)\n",
      "  ('Spike+Ripple+Fast-Ripple',  63434.6 , 0.) ('Spike',  66771.5 , 0.)\n",
      "  ('Spike+Fast-Ripple',  69609.4 , 0.)\n",
      "  ('Spike+Fast-Ripple',  72251.  , 0.) ('Ripple',  75393.6 , 0.)\n",
      "  ('Spike',  77523.9 , 0.) ('Ripple',  80550.3 , 0.)\n",
      "  ('Ripple+Fast-Ripple',  84069.3 , 0.) ('Fast-Ripple',  86533.7 , 0.)\n",
      "  ('Spike+Fast-Ripple',  89963.4 , 0.) ('Fast-Ripple',  93359.4 , 0.)\n",
      "  ('Fast-Ripple',  95230.5 , 0.) ('Spike+Ripple',  97459.5 , 0.)\n",
      "  ('Spike', 100138.  , 0.) ('Ripple+Fast-Ripple', 102263.  , 0.)\n",
      "  ('Spike+Ripple+Fast-Ripple', 105350.  , 0.)\n",
      "  ('Spike+Ripple', 108121.  , 0.) ('Ripple+Fast-Ripple', 110854.  , 0.)\n",
      "  ('Spike+Fast-Ripple', 113759.  , 0.)\n",
      "  ('Ripple+Fast-Ripple', 116295.  , 0.) ('Spike', 119000.  , 0.)]\n",
      " [('Fast-Ripple',   1000.  , 0.) ('Ripple',   5092.77, 0.)\n",
      "  ('Spike+Fast-Ripple',   7318.85, 0.)\n",
      "  ('Spike+Fast-Ripple',   9595.7 , 0.)\n",
      "  ('Ripple+Fast-Ripple',  12451.2 , 0.)\n",
      "  ('Spike+Fast-Ripple',  14609.4 , 0.)\n",
      "  ('Spike+Ripple+Fast-Ripple',  17176.3 , 0.)\n",
      "  ('Ripple+Fast-Ripple',  20439.5 , 0.) ('Ripple',  23130.4 , 0.)\n",
      "  ('Spike+Ripple',  25369.6 , 0.) ('Ripple',  28132.8 , 0.)\n",
      "  ('Ripple+Fast-Ripple',  31882.3 , 0.) ('Spike+Ripple',  35011.7 , 0.)\n",
      "  ('Spike+Ripple',  38243.2 , 0.) ('Spike',  41433.1 , 0.)\n",
      "  ('Fast-Ripple',  44473.1 , 0.) ('Ripple',  46984.4 , 0.)\n",
      "  ('Fast-Ripple',  49504.4 , 0.) ('Ripple+Fast-Ripple',  53097.7 , 0.)\n",
      "  ('Ripple+Fast-Ripple',  56185.5 , 0.)\n",
      "  ('Spike+Fast-Ripple',  58714.4 , 0.) ('Ripple',  61378.9 , 0.)\n",
      "  ('Spike+Ripple',  64099.6 , 0.) ('Ripple+Fast-Ripple',  66736.3 , 0.)\n",
      "  ('Spike',  70240.2 , 0.) ('Ripple',  73241.2 , 0.)\n",
      "  ('Spike',  76167.  , 0.) ('Fast-Ripple',  78410.6 , 0.)\n",
      "  ('Spike+Fast-Ripple',  80942.9 , 0.)\n",
      "  ('Spike+Ripple+Fast-Ripple',  83665.5 , 0.) ('Spike',  86739.3 , 0.)\n",
      "  ('Fast-Ripple',  89409.2 , 0.)\n",
      "  ('Spike+Ripple+Fast-Ripple',  93123.5 , 0.)\n",
      "  ('Spike+Ripple',  95171.4 , 0.)\n",
      "  ('Spike+Ripple+Fast-Ripple',  98305.2 , 0.)\n",
      "  ('Spike+Ripple', 101041.  , 0.) ('Fast-Ripple', 103388.  , 0.)\n",
      "  ('Spike+Ripple+Fast-Ripple', 106038.  , 0.)\n",
      "  ('Spike+Fast-Ripple', 109606.  , 0.) ('Spike', 113252.  , 0.)\n",
      "  ('Spike+Ripple+Fast-Ripple', 116529.  , 0.) ('Spike', 119000.  , 0.)]\n",
      " [('Spike+Ripple',   1000.  , 0.) ('Spike+Fast-Ripple',   3064.45, 0.)\n",
      "  ('Ripple',   6027.83, 0.) ('Spike+Fast-Ripple',   8658.2 , 0.)\n",
      "  ('Ripple+Fast-Ripple',  12106.4 , 0.) ('Fast-Ripple',  14305.2 , 0.)\n",
      "  ('Fast-Ripple',  17662.6 , 0.) ('Spike+Ripple',  21267.6 , 0.)\n",
      "  ('Spike',  23998.5 , 0.) ('Spike+Ripple+Fast-Ripple',  26069.8 , 0.)\n",
      "  ('Spike+Ripple+Fast-Ripple',  29381.3 , 0.) ('Spike',  32615.7 , 0.)\n",
      "  ('Ripple',  35105.  , 0.) ('Fast-Ripple',  37521.  , 0.)\n",
      "  ('Ripple+Fast-Ripple',  40814.5 , 0.) ('Ripple',  43641.6 , 0.)\n",
      "  ('Spike+Ripple+Fast-Ripple',  46275.4 , 0.)\n",
      "  ('Spike+Ripple',  48763.7 , 0.) ('Spike+Fast-Ripple',  51656.7 , 0.)\n",
      "  ('Spike+Ripple+Fast-Ripple',  54807.6 , 0.)\n",
      "  ('Fast-Ripple',  57375.5 , 0.) ('Spike+Fast-Ripple',  59815.4 , 0.)\n",
      "  ('Spike+Fast-Ripple',  62677.2 , 0.)\n",
      "  ('Ripple+Fast-Ripple',  66109.4 , 0.) ('Spike',  69555.7 , 0.)\n",
      "  ('Ripple',  72959.5 , 0.) ('Spike+Ripple',  75730.  , 0.)\n",
      "  ('Ripple',  78694.8 , 0.) ('Fast-Ripple',  81899.9 , 0.)\n",
      "  ('Fast-Ripple',  84894.5 , 0.)\n",
      "  ('Spike+Ripple+Fast-Ripple',  87584.5 , 0.) ('Spike',  89555.2 , 0.)\n",
      "  ('Spike+Ripple+Fast-Ripple',  92365.7 , 0.)\n",
      "  ('Ripple+Fast-Ripple',  95023.4 , 0.)\n",
      "  ('Ripple+Fast-Ripple',  98278.8 , 0.) ('Spike', 101478.  , 0.)\n",
      "  ('Spike+Ripple', 104220.  , 0.) ('Spike+Ripple', 107146.  , 0.)\n",
      "  ('Spike+Fast-Ripple', 109986.  , 0.)\n",
      "  ('Ripple+Fast-Ripple', 112877.  , 0.) ('Ripple', 115691.  , 0.)\n",
      "  ('Spike', 119000.  , 0.)]\n",
      " [('Fast-Ripple',   1000.  , 0.) ('Ripple+Fast-Ripple',   3812.99, 0.)\n",
      "  ('Ripple',   6643.56, 0.) ('Ripple',   9703.13, 0.)\n",
      "  ('Fast-Ripple',  12194.8 , 0.) ('Spike',  15098.1 , 0.)\n",
      "  ('Spike+Fast-Ripple',  17557.6 , 0.) ('Fast-Ripple',  20716.3 , 0.)\n",
      "  ('Spike+Fast-Ripple',  24186.5 , 0.)\n",
      "  ('Spike+Ripple+Fast-Ripple',  27138.2 , 0.) ('Spike',  29897.9 , 0.)\n",
      "  ('Spike+Fast-Ripple',  32565.9 , 0.)\n",
      "  ('Ripple+Fast-Ripple',  34736.8 , 0.)\n",
      "  ('Ripple+Fast-Ripple',  38332.5 , 0.) ('Spike+Ripple',  41036.6 , 0.)\n",
      "  ('Spike+Ripple',  44186.5 , 0.) ('Ripple+Fast-Ripple',  46985.8 , 0.)\n",
      "  ('Spike+Ripple',  49071.8 , 0.) ('Spike',  52250.  , 0.)\n",
      "  ('Ripple',  55004.9 , 0.) ('Spike',  58087.4 , 0.)\n",
      "  ('Spike+Ripple+Fast-Ripple',  61502.4 , 0.)\n",
      "  ('Spike+Ripple',  64346.2 , 0.)\n",
      "  ('Spike+Ripple+Fast-Ripple',  66982.9 , 0.)\n",
      "  ('Ripple+Fast-Ripple',  69884.8 , 0.) ('Spike',  72438.5 , 0.)\n",
      "  ('Fast-Ripple',  75745.1 , 0.) ('Fast-Ripple',  78004.4 , 0.)\n",
      "  ('Spike+Ripple',  80292.  , 0.)\n",
      "  ('Spike+Ripple+Fast-Ripple',  83281.3 , 0.) ('Ripple',  86146.5 , 0.)\n",
      "  ('Ripple',  88517.1 , 0.) ('Spike+Ripple',  91434.1 , 0.)\n",
      "  ('Spike+Fast-Ripple',  94384.3 , 0.)\n",
      "  ('Spike+Ripple+Fast-Ripple',  96798.3 , 0.)\n",
      "  ('Spike+Fast-Ripple', 100239.  , 0.)\n",
      "  ('Ripple+Fast-Ripple', 103870.  , 0.) ('Fast-Ripple', 106941.  , 0.)\n",
      "  ('Spike+Ripple+Fast-Ripple', 109890.  , 0.) ('Ripple', 112565.  , 0.)\n",
      "  ('Spike+Fast-Ripple', 116043.  , 0.) ('Spike', 119000.  , 0.)]\n",
      " [('Spike+Ripple',   1000.  , 0.) ('Spike+Fast-Ripple',   3947.75, 0.)\n",
      "  ('Ripple',   6848.63, 0.) ('Ripple+Fast-Ripple',   9342.77, 0.)\n",
      "  ('Spike',  12378.4 , 0.) ('Ripple+Fast-Ripple',  15358.9 , 0.)\n",
      "  ('Spike+Ripple',  18624.  , 0.) ('Spike+Fast-Ripple',  21766.6 , 0.)\n",
      "  ('Spike',  24684.6 , 0.) ('Fast-Ripple',  27981.4 , 0.)\n",
      "  ('Fast-Ripple',  30698.2 , 0.) ('Spike',  32988.3 , 0.)\n",
      "  ('Spike+Ripple',  35934.1 , 0.) ('Spike+Fast-Ripple',  38634.3 , 0.)\n",
      "  ('Ripple+Fast-Ripple',  42008.3 , 0.) ('Spike+Ripple',  45172.9 , 0.)\n",
      "  ('Ripple+Fast-Ripple',  47933.1 , 0.)\n",
      "  ('Spike+Ripple+Fast-Ripple',  50622.1 , 0.) ('Ripple',  53227.5 , 0.)\n",
      "  ('Ripple',  55601.1 , 0.) ('Spike+Ripple+Fast-Ripple',  58145.5 , 0.)\n",
      "  ('Fast-Ripple',  61350.6 , 0.) ('Fast-Ripple',  64059.6 , 0.)\n",
      "  ('Spike+Ripple+Fast-Ripple',  66864.3 , 0.)\n",
      "  ('Spike+Ripple+Fast-Ripple',  69667.5 , 0.)\n",
      "  ('Spike+Ripple',  72280.8 , 0.) ('Spike+Ripple',  74982.4 , 0.)\n",
      "  ('Spike+Fast-Ripple',  77640.6 , 0.)\n",
      "  ('Spike+Fast-Ripple',  80725.6 , 0.)\n",
      "  ('Spike+Ripple+Fast-Ripple',  84104.5 , 0.)\n",
      "  ('Fast-Ripple',  86585.4 , 0.) ('Spike',  89452.1 , 0.)\n",
      "  ('Ripple+Fast-Ripple',  92625.  , 0.) ('Fast-Ripple',  94686.  , 0.)\n",
      "  ('Spike',  97717.8 , 0.) ('Spike+Fast-Ripple', 100930.  , 0.)\n",
      "  ('Spike', 103618.  , 0.) ('Ripple', 106630.  , 0.)\n",
      "  ('Ripple', 108965.  , 0.) ('Ripple', 112506.  , 0.)\n",
      "  ('Spike+Ripple+Fast-Ripple', 116000.  , 0.)\n",
      "  ('Ripple+Fast-Ripple', 119000.  , 0.)]\n",
      " [('Spike+Fast-Ripple',   1000.  , 0.)\n",
      "  ('Spike+Ripple+Fast-Ripple',   4099.12, 0.)\n",
      "  ('Spike+Fast-Ripple',   7249.51, 0.) ('Spike',   9766.11, 0.)\n",
      "  ('Spike+Ripple+Fast-Ripple',  13030.3 , 0.)\n",
      "  ('Spike+Ripple+Fast-Ripple',  16438.  , 0.)\n",
      "  ('Spike+Ripple+Fast-Ripple',  19992.2 , 0.)\n",
      "  ('Spike+Ripple',  22127.  , 0.) ('Spike+Fast-Ripple',  24682.1 , 0.)\n",
      "  ('Fast-Ripple',  26986.3 , 0.) ('Spike+Ripple',  30152.3 , 0.)\n",
      "  ('Fast-Ripple',  32986.8 , 0.) ('Spike+Ripple',  35772.9 , 0.)\n",
      "  ('Spike',  38679.2 , 0.) ('Ripple',  41064.5 , 0.)\n",
      "  ('Fast-Ripple',  43746.6 , 0.) ('Spike+Ripple',  46012.2 , 0.)\n",
      "  ('Ripple',  48642.6 , 0.) ('Spike+Ripple',  51367.2 , 0.)\n",
      "  ('Fast-Ripple',  54580.1 , 0.) ('Spike',  58276.9 , 0.)\n",
      "  ('Spike',  61289.6 , 0.) ('Spike+Fast-Ripple',  63979.  , 0.)\n",
      "  ('Spike',  67093.3 , 0.) ('Ripple+Fast-Ripple',  70689.5 , 0.)\n",
      "  ('Spike',  73170.4 , 0.) ('Ripple',  76267.1 , 0.)\n",
      "  ('Ripple+Fast-Ripple',  79483.4 , 0.) ('Ripple',  82485.8 , 0.)\n",
      "  ('Spike+Ripple+Fast-Ripple',  84944.8 , 0.)\n",
      "  ('Spike+Fast-Ripple',  87336.4 , 0.) ('Fast-Ripple',  90399.9 , 0.)\n",
      "  ('Spike+Ripple+Fast-Ripple',  92600.1 , 0.)\n",
      "  ('Ripple+Fast-Ripple',  96038.6 , 0.)\n",
      "  ('Ripple+Fast-Ripple',  98303.7 , 0.)\n",
      "  ('Ripple+Fast-Ripple', 101745.  , 0.) ('Ripple', 104444.  , 0.)\n",
      "  ('Spike+Ripple', 107053.  , 0.) ('Fast-Ripple', 109825.  , 0.)\n",
      "  ('Ripple+Fast-Ripple', 112534.  , 0.) ('Ripple', 115200.  , 0.)\n",
      "  ('Spike+Fast-Ripple', 119000.  , 0.)]\n",
      " [('Ripple+Fast-Ripple',   1000.  , 0.) ('Spike+Ripple',   3555.66, 0.)\n",
      "  ('Fast-Ripple',   5852.54, 0.) ('Fast-Ripple',   9145.51, 0.)\n",
      "  ('Spike+Ripple+Fast-Ripple',  11714.4 , 0.)\n",
      "  ('Fast-Ripple',  14260.3 , 0.) ('Spike+Fast-Ripple',  16332.5 , 0.)\n",
      "  ('Ripple',  19316.9 , 0.) ('Fast-Ripple',  22032.2 , 0.)\n",
      "  ('Spike',  25527.3 , 0.) ('Ripple+Fast-Ripple',  29096.7 , 0.)\n",
      "  ('Spike+Ripple+Fast-Ripple',  32144.  , 0.) ('Ripple',  35350.6 , 0.)\n",
      "  ('Spike',  37768.6 , 0.) ('Spike',  40810.5 , 0.)\n",
      "  ('Spike',  43454.6 , 0.) ('Spike',  46148.9 , 0.)\n",
      "  ('Ripple+Fast-Ripple',  49296.9 , 0.) ('Fast-Ripple',  52478.  , 0.)\n",
      "  ('Spike+Ripple+Fast-Ripple',  55692.4 , 0.)\n",
      "  ('Ripple+Fast-Ripple',  58959.  , 0.)\n",
      "  ('Spike+Ripple+Fast-Ripple',  61124.  , 0.)\n",
      "  ('Spike+Ripple',  63252.4 , 0.)\n",
      "  ('Spike+Ripple+Fast-Ripple',  66234.4 , 0.)\n",
      "  ('Ripple+Fast-Ripple',  70075.7 , 0.)\n",
      "  ('Spike+Fast-Ripple',  73000.  , 0.)\n",
      "  ('Spike+Fast-Ripple',  75776.4 , 0.)\n",
      "  ('Spike+Fast-Ripple',  79237.8 , 0.)\n",
      "  ('Ripple+Fast-Ripple',  82091.8 , 0.) ('Spike+Ripple',  84607.4 , 0.)\n",
      "  ('Spike',  87552.2 , 0.) ('Spike+Fast-Ripple',  89773.9 , 0.)\n",
      "  ('Spike+Ripple',  92686.5 , 0.) ('Spike+Ripple',  95402.3 , 0.)\n",
      "  ('Spike+Fast-Ripple',  99105.5 , 0.) ('Ripple', 102125.  , 0.)\n",
      "  ('Spike+Ripple', 105077.  , 0.) ('Ripple', 107729.  , 0.)\n",
      "  ('Ripple', 110340.  , 0.) ('Ripple', 113236.  , 0.)\n",
      "  ('Spike+Ripple+Fast-Ripple', 116402.  , 0.)\n",
      "  ('Fast-Ripple', 119000.  , 0.)]\n",
      " [('Spike+Fast-Ripple',   1000.  , 0.) ('Fast-Ripple',   3844.24, 0.)\n",
      "  ('Ripple+Fast-Ripple',   6911.13, 0.) ('Ripple',   9519.04, 0.)\n",
      "  ('Spike',  12259.8 , 0.) ('Spike+Fast-Ripple',  15189.  , 0.)\n",
      "  ('Spike+Ripple+Fast-Ripple',  18526.4 , 0.)\n",
      "  ('Spike+Ripple+Fast-Ripple',  21004.9 , 0.)\n",
      "  ('Ripple+Fast-Ripple',  24302.2 , 0.) ('Spike',  27242.2 , 0.)\n",
      "  ('Spike+Ripple',  29596.7 , 0.)\n",
      "  ('Spike+Ripple+Fast-Ripple',  31946.3 , 0.)\n",
      "  ('Fast-Ripple',  34291.5 , 0.) ('Ripple+Fast-Ripple',  37582.  , 0.)\n",
      "  ('Spike+Fast-Ripple',  40289.6 , 0.) ('Ripple',  43156.3 , 0.)\n",
      "  ('Fast-Ripple',  46783.7 , 0.) ('Ripple',  50758.3 , 0.)\n",
      "  ('Spike+Ripple+Fast-Ripple',  53685.5 , 0.)\n",
      "  ('Ripple+Fast-Ripple',  56055.2 , 0.) ('Spike+Ripple',  59023.4 , 0.)\n",
      "  ('Ripple',  61054.7 , 0.) ('Ripple',  64209.5 , 0.)\n",
      "  ('Spike+Fast-Ripple',  66384.3 , 0.) ('Ripple',  68632.8 , 0.)\n",
      "  ('Spike',  71851.6 , 0.) ('Spike',  74876.5 , 0.)\n",
      "  ('Spike+Ripple',  77247.1 , 0.) ('Fast-Ripple',  80233.4 , 0.)\n",
      "  ('Spike+Fast-Ripple',  82717.3 , 0.)\n",
      "  ('Spike+Fast-Ripple',  85167.5 , 0.) ('Spike+Ripple',  87874.5 , 0.)\n",
      "  ('Spike',  91449.7 , 0.) ('Fast-Ripple',  94450.2 , 0.)\n",
      "  ('Spike+Ripple+Fast-Ripple',  97982.4 , 0.)\n",
      "  ('Spike+Ripple', 101565.  , 0.)\n",
      "  ('Spike+Ripple+Fast-Ripple', 104568.  , 0.) ('Spike', 107079.  , 0.)\n",
      "  ('Ripple+Fast-Ripple', 110476.  , 0.) ('Fast-Ripple', 113016.  , 0.)\n",
      "  ('Ripple+Fast-Ripple', 115897.  , 0.) ('Spike+Ripple', 119000.  , 0.)]]\n"
     ]
    }
   ],
   "source": [
    "markers_seeg_file_name = \"seeg_synthetic_humans_markers.npy\"\n",
    "markers = np.load(f\"{PATH_TO_FILE}data/{markers_seeg_file_name}\")\n",
    "\n",
    "print(\"Markers shape: \", markers.shape)\n",
    "print(\"First time steps: \", markers[:10])"
   ]
  },
  {
   "cell_type": "markdown",
   "metadata": {},
   "source": [
    "## Visualize the filtered signals"
   ]
  },
  {
   "cell_type": "code",
   "execution_count": 105,
   "metadata": {},
   "outputs": [],
   "source": [
    "# Interactive Plot for the HFO detection\n",
    "# bokeh docs: https://docs.bokeh.org/en/2.4.1/docs/first_steps/first_steps_1.html\n",
    "\n",
    "from utils.line_plot import create_fig  # Import the function to create the figure\n",
    "from bokeh.models import Range1d\n",
    "\n",
    "# Define the x and y values\n",
    "# Should the first input start at 0 or x_step?\n",
    "# TODO: is it okay to create a range with floats?\n",
    "x = [val for val in np.arange(x_step, input_duration + x_step, x_step)] \n",
    "\n",
    "# Create the y arrays for the voltage plot representing the voltage of each electrode\n",
    "v_yarrays = [ripple_band_seeg, fr_band_seeg]"
   ]
  },
  {
   "cell_type": "markdown",
   "metadata": {},
   "source": [
    "## Create the Plot"
   ]
  },
  {
   "cell_type": "code",
   "execution_count": 106,
   "metadata": {},
   "outputs": [],
   "source": [
    "# Create the plot\n",
    "# List of tuples containing the y values and the legend label\n",
    "hfo_y_arrays = [(ripple_band_seeg, \"Ripple Band\"), (fr_band_seeg, \"Fast Ripple Band\")]\n",
    "\n",
    "# Create the SEEG Voltage plot\n",
    "hfo_plot = create_fig(\n",
    "    title=\"SEEG Voltage dynamics of Filtered Ripple and Fast Ripple Bands\", \n",
    "    x_axis_label='time (ms)', \n",
    "    y_axis_label='Voltage (μV)',\n",
    "    x=x, \n",
    "    y_arrays=hfo_y_arrays, \n",
    "    sizing_mode=\"stretch_both\", \n",
    "    tools=\"pan, box_zoom, wheel_zoom, hover, undo, redo, zoom_in, zoom_out, reset, save\",\n",
    "    tooltips=\"Data point @x: @y\",\n",
    "    legend_location=\"top_right\",\n",
    "    legend_bg_fill_color=\"navy\",\n",
    "    legend_bg_fill_alpha=0.1,\n",
    "    # y_range=Range1d(-0.05, 1.05)\n",
    ")\n",
    "\n",
    "# If there are more than 30 channels, hide the legend\n",
    "if len(hfo_y_arrays) > 30:\n",
    "    # Hide the legend\n",
    "    hfo_plot.legend.visible = False"
   ]
  },
  {
   "cell_type": "markdown",
   "metadata": {},
   "source": [
    "## Add Box Annotations to the plot to identify the marked HFOs (ground truth)"
   ]
  },
  {
   "cell_type": "code",
   "execution_count": 107,
   "metadata": {},
   "outputs": [],
   "source": [
    "from bokeh.models import BoxAnnotation\n",
    "\n",
    "show_markers = True    # Boolean to show the markers\n",
    "\n",
    "confidence_range = 100          # TODO: Check this value. When the duration is missing (0), we consider the 200ms window around the marked position \n",
    "color_map = {                   # Map the label to a color\n",
    "    'Spike': 'red',\n",
    "    'Fast-Ripple': 'blue',\n",
    "    'Ripple': 'green',  \n",
    "    'Spike+Ripple': 'yellow',\n",
    "    'Spike+Fast-Ripple': 'pink',\n",
    "    'Ripple+Fast-Ripple': 'cyan',\n",
    "    'Spike+Ripple+Fast-Ripple': 'black'\n",
    "}\n",
    "visited_markers = {}    # Avoid inserting multiple boxes for the same marker (only one of each label)\n",
    "use_visited = False     # Boolean controlling if we remove duplicate markers\n",
    "plot_instant = True     # Boolean to plot the markers as instant events or as boxes\n",
    "instant_width = 100 # 20       # Width of the instant event for visualization purposes\n",
    "\n",
    "channels_used = {selected_ch_idx}   # Set of channels to be used\n",
    "if show_markers:\n",
    "    for ch_idx in channels_used:\n",
    "        channel_markers = markers[ch_idx]\n",
    "        # print(\"channel_markers\", channel_markers)\n",
    "        for idx2, marker in enumerate(channel_markers):\n",
    "            # print(\"marker:\", marker)\n",
    "            \n",
    "            if use_visited:\n",
    "                # Check if the marker has already been visited and skip it if it has\n",
    "                if marker['position'] in visited_markers:\n",
    "                    visited_labels = visited_markers[marker['position']]    # Get the labels that already have an annotation for this position\n",
    "                    if marker['label'] in visited_labels:\n",
    "                        # print(\"Skipping marker\", marker['position'], marker['label'])\n",
    "                        continue    # Skip this marker\n",
    "                    else:\n",
    "                        visited_labels.append(marker['label'])  # Add the label to the visited labels\n",
    "                else:\n",
    "                    visited_markers[marker['position']] = [marker['label']] # Add the marker to the visited markers\n",
    "\n",
    "            # Add a box annotation for each marker\n",
    "            has_duration = marker['duration'] > 0\n",
    "            \n",
    "            confidence_constant = 0 if plot_instant or has_duration else confidence_range\n",
    "\n",
    "            left = marker['position'] - confidence_constant\n",
    "            right = marker['position'] + confidence_constant + instant_width\n",
    "            box_color = color_map[marker['label']]  # Choose a color according to the label\n",
    "            \n",
    "            # if left < min_t or right > max_t:\n",
    "            #     continue    # Skip this marker\n",
    "            \n",
    "\n",
    "            box = BoxAnnotation(left=left, right=right, fill_color=box_color, fill_alpha=0.35)\n",
    "            # print(\"Added marker for channel: \", ch_idx, \" at position: \", left)\n",
    "            hfo_plot.add_layout(box)"
   ]
  },
  {
   "cell_type": "markdown",
   "metadata": {},
   "source": [
    "## Show the Plot"
   ]
  },
  {
   "cell_type": "code",
   "execution_count": 108,
   "metadata": {},
   "outputs": [],
   "source": [
    "import bokeh.plotting as bplt\n",
    "\n",
    "showPlot = True\n",
    "if showPlot:\n",
    "    bplt.show(hfo_plot)"
   ]
  },
  {
   "cell_type": "markdown",
   "metadata": {},
   "source": [
    "## Export the plot to a file"
   ]
  },
  {
   "cell_type": "code",
   "execution_count": 109,
   "metadata": {},
   "outputs": [],
   "source": [
    "export = False\n",
    "\n",
    "if export:\n",
    "    file_path = f\"{PATH_TO_FILE}results/filtered_seeg_ch63.html\"\n",
    "\n",
    "    # Customize the output file settings\n",
    "    bplt.output_file(filename=file_path, title=\"SEEG Data - Filtered Voltage dynamics across time\")\n",
    "\n",
    "    # Save the plot\n",
    "    bplt.save(hfo_plot)"
   ]
  }
 ],
 "metadata": {
  "kernelspec": {
   "display_name": "Python 3 (ipykernel)",
   "language": "python",
   "name": "python3"
  },
  "language_info": {
   "codemirror_mode": {
    "name": "ipython",
    "version": 3
   },
   "file_extension": ".py",
   "mimetype": "text/x-python",
   "name": "python",
   "nbconvert_exporter": "python",
   "pygments_lexer": "ipython3",
   "version": "3.10.12"
  }
 },
 "nbformat": 4,
 "nbformat_minor": 2
}
