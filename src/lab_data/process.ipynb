{
 "cells": [
  {
   "cell_type": "markdown",
   "metadata": {},
   "source": [
    "### Check WD (change if necessary) and file loading"
   ]
  },
  {
   "cell_type": "code",
   "execution_count": 4,
   "metadata": {},
   "outputs": [
    {
     "name": "stdout",
     "output_type": "stream",
     "text": [
      "/home/monkin/Desktop/feup/thesis\n",
      "File Location:  /home/monkin/Desktop/feup/thesis/thesis-lava/src/lab_data\n",
      "New Working Directory:  /home/monkin/Desktop/feup/thesis/thesis-lava/src/lab_data\n"
     ]
    }
   ],
   "source": [
    "# Show current directory\n",
    "import os\n",
    "curr_dir = os.getcwd()\n",
    "print(curr_dir)\n",
    "\n",
    "# Check if the current WD is the file location\n",
    "if \"/src/lab_data\" not in os.getcwd():\n",
    "    # Set working directory to this file location\n",
    "    file_location = f\"{os.getcwd()}/thesis-lava/src/lab_data\"\n",
    "    print(\"File Location: \", file_location)\n",
    "\n",
    "    # Change the current working Directory\n",
    "    os.chdir(file_location)\n",
    "\n",
    "    # New Working Directory\n",
    "    print(\"New Working Directory: \", os.getcwd())"
   ]
  },
  {
   "cell_type": "markdown",
   "metadata": {},
   "source": [
    "## Import lab data from .mat files and process it"
   ]
  },
  {
   "cell_type": "code",
   "execution_count": 5,
   "metadata": {},
   "outputs": [
    {
     "name": "stdout",
     "output_type": "stream",
     "text": [
      "dict_keys(['__header__', '__version__', '__globals__', 'spike_times_elec_ms', 'total_recording_time_ms'])\n"
     ]
    }
   ],
   "source": [
    "import scipy.io as sio\n",
    "\n",
    "# Load the data\n",
    "data = sio.loadmat('spike_data.mat')\n",
    "\n",
    "# Print the data structure\n",
    "print(data.keys())"
   ]
  },
  {
   "cell_type": "markdown",
   "metadata": {},
   "source": [
    "# Total Recording Time in ms"
   ]
  },
  {
   "cell_type": "code",
   "execution_count": 19,
   "metadata": {},
   "outputs": [
    {
     "name": "stdout",
     "output_type": "stream",
     "text": [
      "Total recording time (ms): 299922.8 ms\n",
      "Recording time in minutes: 4.9987 minutes\n"
     ]
    }
   ],
   "source": [
    "print(f\"Total recording time (ms): {data['total_recording_time_ms'][0][0]} ms\")\n",
    "\n",
    "# print with 3 decimal places\n",
    "print(f\"Recording time in minutes: {round(data['total_recording_time_ms'][0][0] / (60*1000), 4) } minutes\")"
   ]
  },
  {
   "cell_type": "markdown",
   "metadata": {},
   "source": [
    "## See the shape of the spike times in the .mat file"
   ]
  },
  {
   "cell_type": "code",
   "execution_count": 20,
   "metadata": {},
   "outputs": [
    {
     "name": "stdout",
     "output_type": "stream",
     "text": [
      "Shape of the outer object: (252, 1)\n",
      "Shape of the first element: (1,) -> (1, 6)\n",
      "[[array([[ 69486.8, 173984.7, 193738.7, 210319.3, 269287.5, 270162.6]])]\n",
      " [array([[  1427.1,   1430.4,   1433.3, ..., 299314.5, 299903.1, 299912.1]])]\n",
      " [array([[203210.7]])]\n",
      " [array([[24641.9, 62274.3]])]\n",
      " [array([[  2794.2,   5002.2,   5016.6,   5904.6,   5908. ,   5910.3,\n",
      "            5912.9,   5915.4,   5918. ,   5921.5,   5924.5,   5926.9,\n",
      "            5929.8,   5933.5,   5935.8,   5938.1,   5946.9,   5954.6,\n",
      "            5959.6,   5962.1,   5964.3,   5966.5,   5970.6,   5974. ,\n",
      "            6014.4,   9839.3,  13765.5,  22071.5,  22075. ,  22179.6,\n",
      "           22190.7,  22198.9,  26725.7,  29601. ,  29605.1,  30832. ,\n",
      "           30839.8,  30843.6,  33404.5,  33406.7,  33408.8,  33418. ,\n",
      "           33420.6,  33422.8,  33426.3,  33430.2,  33432.7,  33434.9,\n",
      "           33438.1,  33440.4,  33442.8,  33445.1,  33449.8,  33452.8,\n",
      "           33458.2,  33461.8,  33464.9,  33470.1,  33475.2,  33479. ,\n",
      "           33489.9,  36184.5,  36358.8,  36420.6,  36476.4,  36505.3,\n",
      "           36527.1,  36558.4,  36691.2,  36899.3,  43115.7,  45173.9,\n",
      "           46139.2,  46796.6,  47422.5,  47426.7,  47432.7,  47438. ,\n",
      "           47442.2,  47448.1,  47450.8,  47456.2,  47461.2,  47463.6,\n",
      "           47470.6,  47473.1,  47477.9,  47486.8,  47531.2,  47535.8,\n",
      "           47546.5,  49915.7,  50237.7,  50240. ,  52296.2,  52505.8,\n",
      "           52515.5,  52526.4,  55146.9,  55152.5,  56970.6,  58726.6,\n",
      "           58741.9,  58744.3,  58749.3,  58752.9,  58755.3,  58759.5,\n",
      "           58763.1,  58772.1,  58774.3,  60256.9,  60777.1,  61597.2,\n",
      "           61609.2,  65675.5,  65679.6,  65684.6,  65693.3,  65695.4,\n",
      "           65698. ,  65700.1,  65703.9,  65707.8,  68145.3,  69485.1,\n",
      "           69487.4,  69496.3,  69499.2,  69504.3,  71971.8,  77350.3,\n",
      "           78451.9,  79521.9,  79565.9,  79568.1,  79571.2,  79582.1,\n",
      "           79590.5,  81335.8,  81338.5,  81348.1,  81360.5,  84975.3,\n",
      "           86587.6,  86590.5,  86599.6,  87501.3,  87504.7,  87536.3,\n",
      "           87547.4,  87549.5,  87551.6,  87556.9,  87559.9,  87563.2,\n",
      "           87565.4,  87567.6,  87570.3,  87572.7,  87576.1,  87579.2,\n",
      "           87581.9,  87585.5,  87588. ,  87591.9,  87601.7,  87608.8,\n",
      "           87612.5,  87615.7,  87620.1,  87626.4,  87639.4,  87642.8,\n",
      "           88385.5, 102433.1, 104101.5, 104106.9, 105354.2, 105356.6,\n",
      "          105366. , 105384.5, 105387.9, 105396.7, 105401.4, 105403.5,\n",
      "          105405.6, 105408.1, 105417.9, 112579.3, 116533.7, 116535.9,\n",
      "          116544.2, 116712.8, 116752.4, 116755.8, 118924.1, 118926.3,\n",
      "          121302.9, 121307.8, 121311.9, 121315.6, 123257.7, 128073.5,\n",
      "          128084.5, 128086.6, 128088.8, 131055.4, 132093.3, 132106.6,\n",
      "          133980.9, 133983.4, 133992.3, 134314.3, 135877. , 135879.5,\n",
      "          135882.1, 135892.2, 137113.3, 137115.6, 137125.9, 137131.8,\n",
      "          137134. , 137137. , 137141.2, 137143.7, 139001.8, 139007.2,\n",
      "          139009.7, 139011.8, 139018.6, 139020.8, 139023. , 139025.6,\n",
      "          139029.3, 139032. , 139035.6, 139040.7, 139043.1, 139047.2,\n",
      "          139049.8, 139055.6, 139081. , 139083.9, 139086. , 141386. ,\n",
      "          141388.1, 141392.3, 141395.7, 141397.8, 141399.9, 141412.1,\n",
      "          141414.5, 141418.4, 141420.5, 141429.5, 141431.9, 141434. ,\n",
      "          141444.3, 141459. , 141463. , 141465.7, 141468.7, 141475.2,\n",
      "          148362.4, 148869. , 152910. , 156292.2, 157736.8, 157739.1,\n",
      "          157743.9, 161402. , 167620.8, 168891.4, 170917.6, 170921.8,\n",
      "          170931.7, 172181.3, 172730.7, 172757.2, 172763.6, 172767.3,\n",
      "          172769.6, 172772.6, 172775.4, 172778.3, 172781. , 172783.9,\n",
      "          172787.3, 172790.1, 172792.7, 172794.8, 172797.6, 172800.3,\n",
      "          172802.8, 172807.7, 172809.8, 172813.3, 172821.6, 172826.5,\n",
      "          172833.4, 172835.8, 172839.5, 172855.3, 172857.6, 172881.6,\n",
      "          185270. , 195650.9, 197518.7, 197521.6, 197529.2, 200766.5,\n",
      "          201683.7, 202438.8, 202442.5, 203123.4, 204276.2, 206816.3,\n",
      "          206819.7, 208067.9, 210304.5, 210309.5, 210313.3, 211389. ,\n",
      "          211402.4, 211415.1, 212250.7, 213613.3, 213629.3, 214415.1,\n",
      "          214480.6, 215149.9, 215152. , 215155.5, 215160.2, 216481.8,\n",
      "          216484.3, 216780.9, 217254. , 217256.1, 217268.9, 218189. ,\n",
      "          219653.5, 221403.1, 221444.3, 221452.2, 221456. , 221458.3,\n",
      "          221461.8, 221465.7, 221468. , 221470.7, 221475.6, 221477.9,\n",
      "          221480. , 221482.3, 221488.6, 221497.9, 224781.7, 226999.8,\n",
      "          227004. , 227013.8, 229589.1, 229591.5, 229593.6, 230336.2,\n",
      "          230454.8, 230540.4, 231915.9, 231930. , 231933.5, 235932. ,\n",
      "          235934.1, 237417.4, 239236.3, 239240.1, 239249.7, 239253.4,\n",
      "          239264.1, 239268.6, 241590.2, 241784.4, 246966.3, 247976.6,\n",
      "          250313.4, 251343.1, 251351.4, 252849.7, 253964.6, 253966.9,\n",
      "          253969.1, 253973.6, 253983.6, 255718.6, 256790. , 259237. ,\n",
      "          261302.9, 261309.5, 261323. , 264388. , 264393.2, 265753.8,\n",
      "          265757.1, 265764.4, 265768.6, 265771.3, 265773.7, 265776.4,\n",
      "          265778.8, 265783.3, 265785.6, 265787.9, 265790.5, 265793.6,\n",
      "          265796.2, 265798.6, 265801.2, 265805.5, 265811.6, 265813.8,\n",
      "          265816.1, 265826.2, 265829.2, 265833.7, 265835.9, 265839.9,\n",
      "          265845.6, 265861.3, 265864. , 265868.7, 265871.2, 265874.2,\n",
      "          265892.3, 265894.9, 265917.4, 275967.8, 279218.8, 280759.4,\n",
      "          286964.4, 286966.7, 287246.1, 288776.8, 290480.6, 290486.4,\n",
      "          290489.3, 290497. , 290500. , 290504.1, 290507. , 290509.5,\n",
      "          290511.6, 290513.9, 290517.4, 290525.3, 290527.4, 290529.8,\n",
      "          290549.1, 290562.4, 291927.2, 291976.1, 291981.8, 292014.5,\n",
      "          292016.8, 292020.9, 293953.4, 296753. , 296801.9, 296853. ,\n",
      "          296887.8, 296892. , 296895.5, 296974.1, 296998.8, 297002.8,\n",
      "          297388.9, 297452.9, 297520.5, 297619.2, 297694.4]])        ]]\n"
     ]
    }
   ],
   "source": [
    "# Load the data into a dictionary\n",
    "spike_times = data['spike_times_elec_ms']\n",
    "\n",
    "# Print the shape of the data\n",
    "print(f\"Shape of the outer object: {spike_times.shape}\")\n",
    "\n",
    "print(f\"Shape of the first element: {spike_times[0].shape} -> {spike_times[0][0].shape}\")\n",
    "\n",
    "# Print the spikes times of the first 5 channels\n",
    "print(spike_times[0:5])"
   ]
  },
  {
   "cell_type": "markdown",
   "metadata": {},
   "source": [
    "So the spike times are stored in a 1D array. Each element of the array is a list of spike times for a given neuron. The spike times are in ms."
   ]
  },
  {
   "cell_type": "markdown",
   "metadata": {},
   "source": [
    "# Change the structure of the data\n",
    "\n",
    "Let's change the structure of the data to a 2D array that is ordered by time. This way, we can use the input data of various channels together by following the time order.\n",
    "\n",
    "Thus, each row will represent a spiking event and contain 2 columns for the spike time and the channel index respectively. The structure is exemplified below:\n",
    "\n",
    "| Spike Time (ms) | Channel Index |\n",
    "|-----------------|---------------|\n",
    "| 3               | 1             |\n",
    "| 8               | 0             |\n",
    "| 12              | 2             |\n",
    "| 13              | 3             |\n",
    "| 13              | 6             |\n",
    "| 14              | 5             |\n"
   ]
  },
  {
   "cell_type": "markdown",
   "metadata": {},
   "source": [
    "## Select the channels to be used\n",
    "For the sake of simplicity, we can define a list of channels to be used."
   ]
  },
  {
   "cell_type": "code",
   "execution_count": 27,
   "metadata": {},
   "outputs": [],
   "source": [
    "# channels_used: set = {1, 2, 3, 4, 5, 6, 7, 8}\n",
    "channels_used = set()\n",
    "\n",
    "# Add all the channels in the given range\n",
    "for i in range(0, 252):\n",
    "    channels_used.add(i)"
   ]
  },
  {
   "cell_type": "code",
   "execution_count": 28,
   "metadata": {},
   "outputs": [
    {
     "name": "stdout",
     "output_type": "stream",
     "text": [
      "[( 69486.8, 0) (173984.7, 0) (193738.7, 0) (210319.3, 0) (269287.5, 0)\n",
      " (270162.6, 0) (  1427.1, 1) (  1430.4, 1) (  1433.3, 1) (  1462.8, 1)]\n",
      "(40020,)\n"
     ]
    }
   ],
   "source": [
    "import numpy as np\n",
    "\n",
    "# Create a list to store the ordered spike times\n",
    "all_spike_times = []\n",
    "\n",
    "# Iterate over each neuron channel\n",
    "for (idx, channel) in enumerate(spike_times):\n",
    "    # print(\"index: \", idx, \"channel: \", channel)\n",
    "    # If the set of channels_used is empty, use all the channels\n",
    "    if len(channels_used) != 0 and idx not in channels_used:    # If the channel is not in the set, skip it\n",
    "        continue\n",
    "\n",
    "    curr_spike_times = channel[0] if len(channel) > 0 else channel     # Remove the extra dimension\n",
    "    # print(f\"Processing channel with shape {curr_spike_times.shape}\")\n",
    "\n",
    "    for spike_time in curr_spike_times.flatten():   # Flatten the array to iterate over all the spike times\n",
    "        # print(f\"Processing spike {spike_time} from channel {idx}\")\n",
    "        # Add the spike time and the channel to the list of all spikes\n",
    "        all_spike_times.append((spike_time, idx))\n",
    "\n",
    "# Define the data type for the numpy array\n",
    "dtype = [('time', float), ('channel', int)]\n",
    "\n",
    "# Convert the list to a numpy array\n",
    "all_spike_times = np.array(all_spike_times, dtype=dtype)\n",
    "\n",
    "# Print the first 10 spike times\n",
    "print(all_spike_times[:10])\n",
    "\n",
    "# Show the shape of the all_spike_times list\n",
    "print(all_spike_times.shape)\n"
   ]
  },
  {
   "cell_type": "markdown",
   "metadata": {},
   "source": [
    "As we can see, we now have a `numpy array` with 2 columns and a number of rows equal to the total number of spikes in the dataset. The first column contains the spike times and the second column contains the channel index. \n",
    "\n",
    "The next step is to sort the array by the spike times."
   ]
  },
  {
   "cell_type": "code",
   "execution_count": 29,
   "metadata": {},
   "outputs": [
    {
     "name": "stdout",
     "output_type": "stream",
     "text": [
      "[( 99.5, 229) (303.6,   7) (502.5, 229) (510.6,  71) (528. ,  54)\n",
      " (540.9,   7) (589.3, 225) (631.6, 100) (633.8, 100) (758.3, 229)]\n",
      "(40020,)\n"
     ]
    }
   ],
   "source": [
    "# Sort the spike times array by the time column\n",
    "ordered_spike_times = np.sort(all_spike_times.copy(), order='time')\n",
    "\n",
    "# Print the first 10 spike times\n",
    "print(ordered_spike_times[0:10])\n",
    "\n",
    "# Print the shape of the ordered spike times\n",
    "print(ordered_spike_times.shape)"
   ]
  },
  {
   "cell_type": "markdown",
   "metadata": {},
   "source": [
    "## Validate that the data is sorted correctly"
   ]
  },
  {
   "cell_type": "code",
   "execution_count": 30,
   "metadata": {},
   "outputs": [
    {
     "name": "stdout",
     "output_type": "stream",
     "text": [
      "First 5 spikes of channel 229:  [(  99.5, 229) ( 502.5, 229) ( 758.3, 229) ( 802.4, 229) (1326.8, 229)]\n",
      "First 5 spikes of channel 7:  [( 303.6, 7) ( 540.9, 7) ( 782.6, 7) (1063.8, 7) (1434.7, 7)]\n"
     ]
    }
   ],
   "source": [
    "# Print the spiking times of the channel 229\n",
    "print(\"First 5 spikes of channel 229: \", all_spike_times[all_spike_times['channel'] == 229][:5])\n",
    "\n",
    "# Print the spiking times of the channel 7\n",
    "print(\"First 5 spikes of channel 7: \", all_spike_times[all_spike_times['channel'] == 7][:5])"
   ]
  },
  {
   "cell_type": "markdown",
   "metadata": {},
   "source": [
    "Indeed, the coherence between the spike times and the channel index is preserved after the sorting. So, we now have a 2D array that is ordered by time `ordered_spike_times`."
   ]
  },
  {
   "cell_type": "markdown",
   "metadata": {},
   "source": [
    "# Write the processed data to a .csv file\n",
    "\n",
    "Finally, we write the processed data to a .csv file. This way, we can use it in the Spiking Neural Networks (SNN) model.\n",
    "\n",
    "The .csv file will have the following structure:\n",
    "\n",
    "| time (ms)       | channel_idx   |\n",
    "|-----------------|---------------|\n",
    "| 3               | 1             |\n",
    "| 8               | 0             |\n",
    "| 12              | 2             |\n",
    "| 13              | 3             |"
   ]
  },
  {
   "cell_type": "code",
   "execution_count": 31,
   "metadata": {},
   "outputs": [],
   "source": [
    "import csv\n",
    "\n",
    "file_name = \"lab_data_all_channels.csv\"\n",
    "csv_cols = ['time', 'channel_idx']\n",
    "\n",
    "with open(file_name, 'w', newline='') as csvfile:\n",
    "    # Create a CSV writer\n",
    "    writer = csv.DictWriter(csvfile, fieldnames=csv_cols)\n",
    "\n",
    "    # Write the header\n",
    "    writer.writeheader()\n",
    "\n",
    "    # Write the data\n",
    "    for spike in ordered_spike_times:\n",
    "        writer.writerow({'time': spike[0], 'channel_idx': spike[1]})"
   ]
  }
 ],
 "metadata": {
  "kernelspec": {
   "display_name": "Python 3 (ipykernel)",
   "language": "python",
   "name": "python3"
  }
 },
 "nbformat": 4,
 "nbformat_minor": 2
}
