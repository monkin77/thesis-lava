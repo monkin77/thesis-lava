{
 "cells": [
  {
   "cell_type": "markdown",
   "metadata": {},
   "source": [
    "# Notebook for data visualization of the processed Lab Data"
   ]
  },
  {
   "cell_type": "markdown",
   "metadata": {},
   "source": [
    "### Check WD (change if necessary) and file loading"
   ]
  },
  {
   "cell_type": "code",
   "execution_count": 5,
   "metadata": {},
   "outputs": [
    {
     "name": "stdout",
     "output_type": "stream",
     "text": [
      "/home/monkin/Desktop/feup/thesis\n",
      "File Location:  /home/monkin/Desktop/feup/thesis/thesis-lava/src/lab_data\n",
      "New Working Directory:  /home/monkin/Desktop/feup/thesis/thesis-lava/src/lab_data\n"
     ]
    }
   ],
   "source": [
    "# Show current directory\n",
    "import os\n",
    "curr_dir = os.getcwd()\n",
    "print(curr_dir)\n",
    "\n",
    "# Check if the current WD is the file location\n",
    "if \"/src/lab_data\" not in os.getcwd():\n",
    "    # Set working directory to this file location\n",
    "    file_location = f\"{os.getcwd()}/thesis-lava/src/lab_data\"\n",
    "    print(\"File Location: \", file_location)\n",
    "\n",
    "    # Change the current working Directory\n",
    "    os.chdir(file_location)\n",
    "\n",
    "    # New Working Directory\n",
    "    print(\"New Working Directory: \", os.getcwd())"
   ]
  },
  {
   "cell_type": "markdown",
   "metadata": {},
   "source": [
    "## Interactive Raster plot of the lab Data with all the channels"
   ]
  },
  {
   "cell_type": "code",
   "execution_count": 6,
   "metadata": {},
   "outputs": [],
   "source": [
    "# Interactive Plot for the spiking events\n",
    "# bokeh docs: https://docs.bokeh.org/en/2.4.1/docs/first_steps/first_steps_1.html\n",
    "import bokeh.plotting as bplt\n",
    "from bokeh.io import curdoc\n",
    "from bokeh.models import BoxAnnotation\n",
    "\n",
    "# Apply the theme to the plot\n",
    "curdoc().theme = \"light_minimal\"  # Can be one of \"caliber\", \"dark_minimal\", \"light_minimal\", \"night_sky\", \"contrast\"\n",
    "\n"
   ]
  },
  {
   "cell_type": "markdown",
   "metadata": {},
   "source": [
    "### Define the function that creates the raster plot"
   ]
  },
  {
   "cell_type": "code",
   "execution_count": 7,
   "metadata": {},
   "outputs": [],
   "source": [
    "from math import ceil\n",
    "from bokeh.models import BasicTickFormatter\n",
    "\n",
    "\"\"\"\n",
    "create_raster_fig: Create a raster figure with the given parameters\n",
    "\n",
    "Args:\n",
    "    title (str): Title of the plot\n",
    "    x_axis_label (str): Label of the x-axis\n",
    "    y_axis_label (str): Label of the y-axis\n",
    "    x (np.ndarray): Array of x values\n",
    "    y_arrays (list): List of tuples containing the (x, y) pairs for each dot to be plotted\n",
    "    sizing_mode (str): Sizing mode of the plot\n",
    "    tools (str): Tools to be added to the plot\n",
    "    tooltips (str): Tooltips to be added to the plot\n",
    "    legend_location (str): Location of the legend\n",
    "    legend_bg_fill_color (str): Background fill color of the legend\n",
    "    legend_bg_fill_alpha (float): Background fill alpha of the legend\n",
    "    box_annotation_params (dict): Parameters to create a box annotation\n",
    "Returns:\n",
    "    bplt.Figure: The plot\n",
    "\"\"\"\n",
    "def create_raster_fig(title, x_axis_label, y_axis_label, \n",
    "               x, y, dot_size=10,\n",
    "               sizing_mode=None, tools=None, tooltips=None, box_annotation_params=None):\n",
    "    # Create the plot\n",
    "    p = bplt.figure(\n",
    "        title=title,\n",
    "        x_axis_label=x_axis_label, \n",
    "        y_axis_label=y_axis_label,\n",
    "        sizing_mode=sizing_mode or \"stretch_both\",    # Make the plot stretch in both width and height\n",
    "        tools=tools or \"pan, box_zoom, wheel_zoom, hover, undo, redo, zoom_in, zoom_out, reset, save\",\n",
    "        tooltips=tooltips or \"Data point @x: @y\"\n",
    "        # y_range=(-0.5, 5)  # Set the range of the y-axis\n",
    "    )\n",
    "\n",
    "    # Add the dots to the plot\n",
    "    p.dot(x, y, size=dot_size, color=\"blue\", alpha=1)\n",
    "\n",
    "    # Axis settings\n",
    "    p.xaxis.formatter = BasicTickFormatter(use_scientific=False)\n",
    "\n",
    "    # Grid settings\n",
    "    # p.ygrid.grid_line_color = \"red\"\n",
    "\n",
    "    # Add a box annotation\n",
    "    if box_annotation_params is not None:\n",
    "        inner_box = BoxAnnotation(\n",
    "            bottom=box_annotation_params[\"bottom\"], \n",
    "            top=box_annotation_params[\"top\"], \n",
    "            left=box_annotation_params[\"left\"], \n",
    "            right= box_annotation_params[\"right\"], \n",
    "            fill_alpha=box_annotation_params[\"fill_alpha\"], \n",
    "            fill_color=box_annotation_params[\"fill_color\"]\n",
    "        )\n",
    "        p.add_layout(inner_box)\n",
    "\n",
    "    # Return the plot\n",
    "    return p"
   ]
  },
  {
   "cell_type": "markdown",
   "metadata": {},
   "source": [
    "## Load the data to raster"
   ]
  },
  {
   "cell_type": "code",
   "execution_count": 8,
   "metadata": {},
   "outputs": [],
   "source": [
    "import pandas as pd\n",
    "\n",
    "def read_spike_events(file_path: str):\n",
    "    \"\"\"Reads the spike events from the input file and returns them as a numpy array\n",
    "    TODO: Could try to use a structured array instead?\n",
    "\n",
    "    Args:\n",
    "        file_path (str): name of the file containing the spike events\n",
    "    \"\"\"\n",
    "    spike_events = []\n",
    "\n",
    "    try:\n",
    "        # Read the spike events from the file\n",
    "        df = pd.read_csv(file_path, header='infer')\n",
    "        print(df.head())\n",
    "\n",
    "        # Detect errors\n",
    "        if df.empty:\n",
    "            raise Exception(\"The input file is empty\")\n",
    "\n",
    "        # Convert the scientific notation values to integers if any exist\n",
    "        df = df.applymap(lambda x: int(float(x)) if (isinstance(x, str) and 'e' in x) else x)\n",
    "\n",
    "        # Convert the dataframe to a numpy array. Each row is a spike event. The first column is the time and the second column is the channel idx\n",
    "        spike_events = df.to_numpy()\n",
    "\n",
    "        return spike_events\n",
    "    except Exception as e:\n",
    "        print(\"Unable to read the input file: \", file_path, \" error:\", e)\n",
    "\n",
    "    return spike_events"
   ]
  },
  {
   "cell_type": "code",
   "execution_count": 9,
   "metadata": {},
   "outputs": [
    {
     "name": "stdout",
     "output_type": "stream",
     "text": [
      "    time  channel_idx\n",
      "0   99.5          229\n",
      "1  303.6            7\n",
      "2  502.5          229\n",
      "3  510.6           71\n",
      "4  528.0           54\n",
      "Spike events:  (40020, 2) \n",
      " [[ 99.5 229. ]\n",
      " [303.6   7. ]\n",
      " [502.5 229. ]\n",
      " [510.6  71. ]\n",
      " [528.   54. ]\n",
      " [540.9   7. ]\n",
      " [589.3 225. ]\n",
      " [631.6 100. ]\n",
      " [633.8 100. ]\n",
      " [758.3 229. ]]\n"
     ]
    }
   ],
   "source": [
    "# Call the function to read the spike events\n",
    "file_path = \"../lab_data/lab_data_1.csv\"\n",
    "spike_events = read_spike_events(file_path)\n",
    "print(\"Spike events: \", spike_events.shape, \"\\n\", spike_events[:10])"
   ]
  },
  {
   "cell_type": "markdown",
   "metadata": {},
   "source": [
    "## Create the raster plot"
   ]
  },
  {
   "cell_type": "code",
   "execution_count": 10,
   "metadata": {},
   "outputs": [],
   "source": [
    "# Crete the list of x and y values\n",
    "x_vals = spike_events[:, 0]\n",
    "y_vals = spike_events[:, 1]\n",
    "\n",
    "# Create the raster plot\n",
    "raster_plot = create_raster_fig(\"Spike Events\", \"Time (ms)\", \"Channel\", x_vals, y_vals)"
   ]
  },
  {
   "cell_type": "markdown",
   "metadata": {},
   "source": [
    "## Show the Plot"
   ]
  },
  {
   "cell_type": "code",
   "execution_count": 11,
   "metadata": {},
   "outputs": [],
   "source": [
    "# Show the plot\n",
    "bplt.show(raster_plot)"
   ]
  },
  {
   "cell_type": "markdown",
   "metadata": {},
   "source": [
    "# Export the plot to a file"
   ]
  },
  {
   "cell_type": "code",
   "execution_count": 12,
   "metadata": {},
   "outputs": [
    {
     "data": {
      "text/plain": [
       "'/home/monkin/Desktop/feup/thesis/thesis-lava/src/lab_data/lab_data_full_raster.html'"
      ]
     },
     "execution_count": 12,
     "metadata": {},
     "output_type": "execute_result"
    }
   ],
   "source": [
    "file_path = \"./lab_data_full_raster.html\"\n",
    "\n",
    "# Customize the output file settings\n",
    "bplt.output_file(filename=file_path, title=\"Lab Data Full Raster\")\n",
    "\n",
    "# Save the plot\n",
    "bplt.save(raster_plot)"
   ]
  },
  {
   "cell_type": "code",
   "execution_count": null,
   "metadata": {},
   "outputs": [],
   "source": []
  }
 ],
 "metadata": {
  "kernelspec": {
   "display_name": "Python 3 (ipykernel)",
   "language": "python",
   "name": "python3"
  },
  "language_info": {
   "codemirror_mode": {
    "name": "ipython",
    "version": 3
   },
   "file_extension": ".py",
   "mimetype": "text/x-python",
   "name": "python",
   "nbconvert_exporter": "python",
   "pygments_lexer": "ipython3",
   "version": "3.10.12"
  }
 },
 "nbformat": 4,
 "nbformat_minor": 2
}
