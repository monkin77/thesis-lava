{
 "cells": [
  {
   "cell_type": "markdown",
   "metadata": {},
   "source": [
    "# Importing an `snnTorch` SNN model to LAVA and Running it"
   ]
  },
  {
   "cell_type": "code",
   "execution_count": 77,
   "metadata": {},
   "outputs": [
    {
     "name": "stdout",
     "output_type": "stream",
     "text": [
      "/home/monkin/Desktop/feup/thesis/thesis-lava/src/nir\n"
     ]
    }
   ],
   "source": [
    "# Show current directory\n",
    "import os\n",
    "curr_dir = os.getcwd()\n",
    "print(curr_dir)\n",
    "\n",
    "# Check if the current WD is the file location\n",
    "if \"/thesis-lava/src/nir\" not in os.getcwd():\n",
    "    # Set working directory to this file location\n",
    "    file_location = f\"{os.getcwd()}/thesis-lava/src/nir\"\n",
    "    print(\"File Location: \", file_location)\n",
    "\n",
    "    # Change the current working Directory\n",
    "    os.chdir(file_location)\n",
    "\n",
    "    # New Working Directory\n",
    "    print(\"New Working Directory: \", os.getcwd())"
   ]
  },
  {
   "cell_type": "code",
   "execution_count": 78,
   "metadata": {},
   "outputs": [],
   "source": [
    "import numpy as np\n",
    "import nir\n",
    "import matplotlib.pyplot as plt\n",
    "\n",
    "nir_network = nir.read(\"nir_model_cuba.nir\")"
   ]
  },
  {
   "cell_type": "code",
   "execution_count": 79,
   "metadata": {},
   "outputs": [
    {
     "name": "stdout",
     "output_type": "stream",
     "text": [
      "NIR Network Info: Nº Nodes: 6 | Nº Edges: 5\n",
      "Linear(weight=array([[-0.0161455 ,  0.01705358,  0.01007112, ...,  0.00985886,\n",
      "         0.03937952, -0.03549746],\n",
      "       [ 0.03603304, -0.03541515,  0.01668479, ...,  0.04050541,\n",
      "         0.0300939 ,  0.03487029],\n",
      "       [ 0.03381281, -0.02337706,  0.02692366, ...,  0.02496983,\n",
      "         0.03662976, -0.03068166],\n",
      "       ...,\n",
      "       [ 0.00337175,  0.01589908, -0.02817665, ...,  0.01133711,\n",
      "        -0.01727862,  0.04292991],\n",
      "       [-0.00492689,  0.03207321,  0.01319447, ..., -0.03240683,\n",
      "         0.00964233, -0.03846167],\n",
      "       [-0.01455489,  0.01560639, -0.02629465, ...,  0.03446307,\n",
      "        -0.03139296,  0.00727098]], shape=(10, 500), dtype=float32), metadata={})\n",
      "[('3', 'output'), ('input', '0'), ('2', '3'), ('1', '2'), ('0', '1')]\n"
     ]
    }
   ],
   "source": [
    "# Print the network summary\n",
    "print(f\"NIR Network Info: Nº Nodes: {len(nir_network.nodes)} | Nº Edges: {len(nir_network.edges)}\")\n",
    "\n",
    "print(nir_network.nodes[\"2\"])\n",
    "print(nir_network.edges)\n"
   ]
  },
  {
   "cell_type": "markdown",
   "metadata": {},
   "source": [
    "### How to fetch the number of neurons in each `NIR.CubaLIF` layer"
   ]
  },
  {
   "cell_type": "code",
   "execution_count": 80,
   "metadata": {},
   "outputs": [
    {
     "name": "stdout",
     "output_type": "stream",
     "text": [
      "CubaLIF(tau_syn=np.float32(0.00014285714), tau_mem=np.float32(0.00012499999), r=np.float32(1.25), v_leak=np.float32(0.0), v_threshold=np.float32(1.0), w_in=np.float32(1.4285715), input_type={'input': array([], dtype=float64)}, output_type={'output': array([], dtype=float64)}, metadata={}, num_neurons=np.int64(500))\n"
     ]
    }
   ],
   "source": [
    "nirLIF1 = nir_network.nodes[\"1\"]\n",
    "print(nirLIF1)"
   ]
  },
  {
   "cell_type": "code",
   "execution_count": 81,
   "metadata": {},
   "outputs": [],
   "source": [
    "\n",
    "MANUAL_CREATION = True\n",
    "\n",
    "if MANUAL_CREATION:\n",
    "    # TODO: This is not the original code. I changed it because it had errors..\n",
    "    \"\"\" ng = nir.NIRGraph(\n",
    "        nodes={\n",
    "            \"input\": nir.Input(input_type=np.array([3])),\n",
    "            # \"affine\": nir.Affine(weight=np.array([[8, 2, 10], [14, 3, 14]]).T, bias=np.array([1, 2])),\n",
    "            \"lif\": nir.CubaLIF(\n",
    "                # tau=np.array([1] * 2),\n",
    "                r=np.array([1 / 1e-4] * 2),\n",
    "                tau_syn=np.array([1] * 2),\n",
    "                tau_mem=np.array([1] * 2),\n",
    "                v_leak=np.array([0] * 2),\n",
    "                v_threshold=np.array([1] * 2),\n",
    "            ),\n",
    "            \"out\": nir.Output(np.array([3])),\n",
    "        },\n",
    "        edges=[\n",
    "            # (\"input\", \"affine\"),\n",
    "            # (\"affine\", \"lif\"),\n",
    "            (\"input\", \"lif\"),\n",
    "            (\"lif\", \"out\")\n",
    "        ],\n",
    "    ) \"\"\"\n",
    "    ng = nir.NIRGraph(\n",
    "        nodes={\n",
    "            \"input\": nir.Input(input_type=np.array([3])),\n",
    "            \"affine\": nir.Affine(weight=np.array(\n",
    "                [[8, 2, 10], [14, 3, 14]]).T, bias=np.array([0, 0])),\n",
    "            \"lif\": nir.LIF(\n",
    "                tau=np.array([1] * 2),\n",
    "                r=np.array([1] * 2),\n",
    "                v_leak=np.array([0] * 2),\n",
    "                v_threshold=np.array([1] * 2),\n",
    "            ),\n",
    "            \"output\": nir.Output(np.array([3])),\n",
    "        },\n",
    "        edges=[(0, 1), (1, 2), (2, 3)],\n",
    "    )"
   ]
  },
  {
   "cell_type": "code",
   "execution_count": 82,
   "metadata": {},
   "outputs": [],
   "source": [
    "from nir_to_lava_edit import ImportConfig, LavaLibrary, import_from_nir\n",
    "# from nir_to_lava import ImportConfig, LavaLibrary, import_from_nir\n",
    "\n",
    "config = ImportConfig(\n",
    "    dt=1e-4, fixed_pt=False, on_chip=False, library_preference=LavaLibrary.Lava,\n",
    ")"
   ]
  },
  {
   "cell_type": "code",
   "execution_count": 83,
   "metadata": {},
   "outputs": [],
   "source": [
    "nir2lava_network, startNodes, endNodes = import_from_nir(\n",
    "    nir_network,  # ng, # \n",
    "    config\n",
    ")"
   ]
  },
  {
   "cell_type": "code",
   "execution_count": 84,
   "metadata": {},
   "outputs": [
    {
     "name": "stdout",
     "output_type": "stream",
     "text": [
      "{'0': <lava.proc.dense.process.Dense object at 0x7f635aae3340>, '1': [<lava.proc.dense.process.Dense object at 0x7f635aae3ca0>, <lava.proc.lif.process.LIF object at 0x7f635d22e470>], '2': <lava.proc.dense.process.Dense object at 0x7f635aae30d0>, '3': [<lava.proc.dense.process.Dense object at 0x7f635c4522c0>, <lava.proc.lif.process.LIF object at 0x7f635aae3eb0>]}\n",
      "['0']\n",
      "['3']\n"
     ]
    }
   ],
   "source": [
    "print(nir2lava_network)\n",
    "print(startNodes)\n",
    "print(endNodes)"
   ]
  },
  {
   "cell_type": "markdown",
   "metadata": {},
   "source": [
    "I was able to make it run without errors! However, it seems like the code to convert a NIR network to a LAVA network is not complete."
   ]
  },
  {
   "cell_type": "markdown",
   "metadata": {},
   "source": [
    "## How to Use the Lava Processes imported with NIR\n",
    "It seems like `import_from_nir` returns a map containing the Lava Processes that were imported. Let's try to use them"
   ]
  },
  {
   "cell_type": "markdown",
   "metadata": {},
   "source": [
    "### Print the ports of the Network Processes"
   ]
  },
  {
   "cell_type": "code",
   "execution_count": 85,
   "metadata": {},
   "outputs": [
    {
     "name": "stdout",
     "output_type": "stream",
     "text": [
      "Key: 0 | Proc: <lava.proc.dense.process.Dense object at 0x7f635aae3340>\n",
      "Proc: Process_33 Port Name: s_in  Size: 784\n",
      "Proc: Process_33 Port Name: a_out Size: 500\n",
      "Key: 1 | Proc: [<lava.proc.dense.process.Dense object at 0x7f635aae3ca0>, <lava.proc.lif.process.LIF object at 0x7f635d22e470>]\n",
      "Key: (1,0) | Proc: <lava.proc.dense.process.Dense object at 0x7f635aae3ca0>\n",
      "Proc: Process_35 Port Name: s_in  Size: 500\n",
      "Proc: Process_35 Port Name: a_out Size: 500\n",
      "Key: (1,1) | Proc: <lava.proc.lif.process.LIF object at 0x7f635d22e470>\n",
      "Proc: cuba lif Port Name: a_in  Size: 500\n",
      "Proc: cuba lif Port Name: s_out Size: 500\n",
      "Key: 2 | Proc: <lava.proc.dense.process.Dense object at 0x7f635aae30d0>\n",
      "Proc: Process_36 Port Name: s_in  Size: 500\n",
      "Proc: Process_36 Port Name: a_out Size: 10\n",
      "Key: 3 | Proc: [<lava.proc.dense.process.Dense object at 0x7f635c4522c0>, <lava.proc.lif.process.LIF object at 0x7f635aae3eb0>]\n",
      "Key: (3,0) | Proc: <lava.proc.dense.process.Dense object at 0x7f635c4522c0>\n",
      "Proc: Process_38 Port Name: s_in  Size: 10\n",
      "Proc: Process_38 Port Name: a_out Size: 10\n",
      "Key: (3,1) | Proc: <lava.proc.lif.process.LIF object at 0x7f635aae3eb0>\n",
      "Proc: cuba lif Port Name: a_in  Size: 10\n",
      "Proc: cuba lif Port Name: s_out Size: 10\n"
     ]
    }
   ],
   "source": [
    "from lava.magma.core.process.process import AbstractProcess\n",
    "\n",
    "# Print the Network Ports\n",
    "for key, proc in nir2lava_network.items():\n",
    "    print(f\"Key: {key} | Proc: {proc}\")\n",
    "\n",
    "    if isinstance(proc, list):\n",
    "        # Network Node contains multiple Processes\n",
    "        # Note: Max Depth is 2\n",
    "        for inner_key,inner_proc in enumerate(proc):\n",
    "            print(f\"Key: ({key},{inner_key}) | Proc: {inner_proc}\")\n",
    "            # Print the Network Ports\n",
    "            for port in inner_proc.in_ports:\n",
    "                print(f\"Proc: {inner_proc.name:<5} Port Name: {port.name:<5} Size: {port.size}\")\n",
    "            for port in inner_proc.out_ports:\n",
    "                print(f\"Proc: {inner_proc.name:<5} Port Name: {port.name:<5} Size: {port.size}\")\n",
    "    else:\n",
    "        # Print the Network Ports\n",
    "        for port in proc.in_ports:\n",
    "            print(f\"Proc: {proc.name:<5} Port Name: {port.name:<5} Size: {port.size}\")\n",
    "        for port in proc.out_ports:\n",
    "            print(f\"Proc: {proc.name:<5} Port Name: {port.name:<5} Size: {port.size}\")"
   ]
  },
  {
   "cell_type": "markdown",
   "metadata": {},
   "source": [
    "## Connect the Processes\n",
    "\n",
    "I'm not sure if the processes are already connected after importing them. **RE: Turns out they are**!! so we will comment the code that connects them."
   ]
  },
  {
   "cell_type": "code",
   "execution_count": 86,
   "metadata": {},
   "outputs": [
    {
     "name": "stdout",
     "output_type": "stream",
     "text": [
      "<lava.proc.dense.process.Dense object at 0x7f635aae3340>\n"
     ]
    }
   ],
   "source": [
    "# Start Process\n",
    "startProc = nir2lava_network[startNodes[0]]\n",
    "print(startProc)"
   ]
  },
  {
   "cell_type": "code",
   "execution_count": 87,
   "metadata": {},
   "outputs": [
    {
     "name": "stdout",
     "output_type": "stream",
     "text": [
      "lif1:  <lava.proc.lif.process.LIF object at 0x7f635d22e470>\n",
      "lif2:  <lava.proc.lif.process.LIF object at 0x7f635aae3eb0>\n"
     ]
    }
   ],
   "source": [
    "lif1 = nir2lava_network[\"1\"][1]\n",
    "lif2 = nir2lava_network[\"3\"][1]\n",
    "\n",
    "print(\"lif1: \", lif1)\n",
    "print(\"lif2: \", lif2)"
   ]
  },
  {
   "cell_type": "code",
   "execution_count": 88,
   "metadata": {},
   "outputs": [
    {
     "name": "stdout",
     "output_type": "stream",
     "text": [
      "In Port:  <lava.magma.core.process.ports.ports.OutPort object at 0x7f635aae3730>\n",
      "Out Port:  <lava.magma.core.process.ports.ports.InPort object at 0x7f635aae3b20>\n"
     ]
    }
   ],
   "source": [
    "# Test: Print the Ports of the Start Process\n",
    "in_port = startProc.a_out if hasattr(startProc, \"a_out\") else startProc.s_out\n",
    "out_port = startProc.a_in if hasattr(startProc, \"a_in\") else startProc.s_in\n",
    "\n",
    "print(\"In Port: \", in_port)\n",
    "print(\"Out Port: \", out_port)"
   ]
  },
  {
   "cell_type": "code",
   "execution_count": 89,
   "metadata": {},
   "outputs": [],
   "source": [
    "from lava.magma.core.process.process import AbstractProcess\n",
    "from lava.magma.core.process.ports.ports import OutPort, InPort\n",
    "\"\"\"\n",
    "Given 2 processes, connect the output of the first process to the input of the second process\n",
    "\"\"\"\n",
    "def connectProcesses(proc1: AbstractProcess, proc2: AbstractProcess):\n",
    "    # Each process may have different port names for the input and output ports\n",
    "\n",
    "    # Get the output port of the first process: \"Activation Out\" | \"Spike Out\"\n",
    "    outPort: OutPort  = proc1.a_out if hasattr(proc1, \"a_out\") else proc1.s_out\n",
    "    # Get the input port of the second process: \"Activation In\" | \"Spike In\"\n",
    "    inPort: InPort = proc2.a_in if hasattr(proc2, \"a_in\") else proc2.s_in\n",
    "\n",
    "    # Connect the output of the first process to the input of the second process\n",
    "    outPort.connect(inPort)"
   ]
  },
  {
   "cell_type": "code",
   "execution_count": 90,
   "metadata": {},
   "outputs": [
    {
     "data": {
      "text/plain": [
       "' prevProc = None\\nfor _key, proc in nir2lava_network.items():\\n    print(f\"Key: {_key} | Proc: {proc}\")\\n    if isinstance(proc, list):\\n        # Network Node contains multiple Processes\\n        # Note: Max Depth is 2\\n        for inner_proc in proc:\\n            print(\"connecting\", prevProc, inner_proc)\\n            # Check if the Previous Process is None (First Layer)\\n            if prevProc is not None:\\n                # Connect the Processes\\n                connectProcesses(prevProc, inner_proc)\\n\\n            # Update the Previous Process\\n            prevProc = inner_proc\\n    else:\\n        # Check if the Previous Process is None (First Layer)\\n        if prevProc is not None:\\n            # Connect the Processes\\n            connectProcesses(prevProc, proc)\\n        \\n        # Update the Previous Process\\n        prevProc = proc '"
      ]
     },
     "execution_count": 90,
     "metadata": {},
     "output_type": "execute_result"
    }
   ],
   "source": [
    "# Create the Input Process\n",
    "\n",
    "# Connect the Layers\n",
    "\"\"\" prevProc = None\n",
    "for _key, proc in nir2lava_network.items():\n",
    "    print(f\"Key: {_key} | Proc: {proc}\")\n",
    "    if isinstance(proc, list):\n",
    "        # Network Node contains multiple Processes\n",
    "        # Note: Max Depth is 2\n",
    "        for inner_proc in proc:\n",
    "            print(\"connecting\", prevProc, inner_proc)\n",
    "            # Check if the Previous Process is None (First Layer)\n",
    "            if prevProc is not None:\n",
    "                # Connect the Processes\n",
    "                connectProcesses(prevProc, inner_proc)\n",
    "\n",
    "            # Update the Previous Process\n",
    "            prevProc = inner_proc\n",
    "    else:\n",
    "        # Check if the Previous Process is None (First Layer)\n",
    "        if prevProc is not None:\n",
    "            # Connect the Processes\n",
    "            connectProcesses(prevProc, proc)\n",
    "        \n",
    "        # Update the Previous Process\n",
    "        prevProc = proc \"\"\"\n"
   ]
  },
  {
   "cell_type": "markdown",
   "metadata": {},
   "source": [
    "## Create Input Process to feed the network"
   ]
  },
  {
   "cell_type": "code",
   "execution_count": 91,
   "metadata": {},
   "outputs": [],
   "source": [
    "from lava.proc.spiker.process import Spiker\n",
    "\n",
    "# Create Processes\n",
    "input_layer = Spiker(\n",
    "    shape=(500,),\n",
    "    name=\"input_layer\",\n",
    "    payload=1,\n",
    "    period=2    # First spike is emmitted at time step period + 1\n",
    ")"
   ]
  },
  {
   "cell_type": "code",
   "execution_count": 92,
   "metadata": {},
   "outputs": [],
   "source": [
    "# Connect the Input Layer to the First Layer\n",
    "input_layer.s_out.connect(in_port)"
   ]
  },
  {
   "cell_type": "markdown",
   "metadata": {},
   "source": [
    "# Run the Network"
   ]
  },
  {
   "cell_type": "markdown",
   "metadata": {},
   "source": [
    "## Record Internal Variables"
   ]
  },
  {
   "cell_type": "code",
   "execution_count": 93,
   "metadata": {},
   "outputs": [],
   "source": [
    "from lava.proc.monitor.process import Monitor\n",
    "\n",
    "monitor_lif1_v = Monitor()\n",
    "monitor_lif1_u = Monitor()\n",
    "\n",
    "monitor_lif2_v = Monitor()\n",
    "monitor_lif2_u = Monitor()\n",
    "\n",
    "num_steps = 20     # TODO: Check the number of steps to run the simulation for\n",
    "\n",
    "# Connect the monitors to the variables we want to monitor\n",
    "monitor_lif1_v.probe(lif1.v, num_steps)\n",
    "monitor_lif1_u.probe(lif1.u, num_steps)\n",
    "\n",
    "monitor_lif2_v.probe(lif2.v, num_steps)\n",
    "monitor_lif2_u.probe(lif2.u, num_steps)"
   ]
  },
  {
   "cell_type": "code",
   "execution_count": 94,
   "metadata": {},
   "outputs": [],
   "source": [
    "from lava.magma.core.run_conditions import RunContinuous, RunSteps\n",
    "from lava.magma.core.run_configs import Loihi1SimCfg\n",
    "\n",
    "# run_condition = RunContinuous()   # TODO: Change to this one\n",
    "run_condition = RunSteps(num_steps=num_steps)\n",
    "run_cfg = Loihi1SimCfg(select_tag=\"floating_pt\")   # TODO: Check why we need this select_tag=\"floating_pt\""
   ]
  },
  {
   "cell_type": "code",
   "execution_count": 95,
   "metadata": {},
   "outputs": [],
   "source": [
    "input_layer.run(condition=run_condition, run_cfg=run_cfg)"
   ]
  },
  {
   "cell_type": "markdown",
   "metadata": {},
   "source": [
    "## Retrieve Recorded Data"
   ]
  },
  {
   "cell_type": "code",
   "execution_count": 96,
   "metadata": {},
   "outputs": [],
   "source": [
    "data_lif1_v = monitor_lif1_v.get_data()\n",
    "data_lif1_u = monitor_lif1_u.get_data()\n",
    "\n",
    "data_lif2_v = monitor_lif2_v.get_data()\n",
    "data_lif2_u = monitor_lif2_u.get_data()\n",
    "\n",
    "data_lif1 = data_lif1_v.copy()\n",
    "data_lif1[\"cuba lif\"][\"u\"] = data_lif1_u[\"cuba lif\"][\"u\"]   # Merge the dictionaries to contain both voltage and current\n",
    "\n",
    "data_lif2 = data_lif2_v.copy()\n",
    "data_lif2[\"cuba lif\"][\"u\"] = data_lif2_u[\"cuba lif\"][\"u\"]   # Merge the dictionaries to contain both voltage and current"
   ]
  },
  {
   "cell_type": "code",
   "execution_count": 97,
   "metadata": {},
   "outputs": [
    {
     "data": {
      "text/plain": [
       "{'cuba lif': {'v': array([[0.        , 0.        , 0.        , ..., 0.        , 0.        ,\n",
       "          0.        ],\n",
       "         [0.        , 0.        , 0.        , ..., 0.        , 0.        ,\n",
       "          0.        ],\n",
       "         [0.        , 0.        , 0.        , ..., 0.        , 0.        ,\n",
       "          0.        ],\n",
       "         ...,\n",
       "         [0.97069598, 0.97069598, 0.97069598, ..., 0.97069598, 0.97069598,\n",
       "          0.97069598],\n",
       "         [0.45787546, 0.45787546, 0.45787546, ..., 0.45787546, 0.45787546,\n",
       "          0.45787546],\n",
       "         [0.97069599, 0.97069599, 0.97069599, ..., 0.97069599, 0.97069599,\n",
       "          0.97069599]], shape=(20, 500)),\n",
       "  'u': array([[0.        , 0.        , 0.        , ..., 0.        , 0.        ,\n",
       "          0.        ],\n",
       "         [0.        , 0.        , 0.        , ..., 0.        , 0.        ,\n",
       "          0.        ],\n",
       "         [0.        , 0.        , 0.        , ..., 0.        , 0.        ,\n",
       "          0.        ],\n",
       "         ...,\n",
       "         [0.8791209 , 0.8791209 , 0.8791209 , ..., 0.8791209 , 0.8791209 ,\n",
       "          0.8791209 ],\n",
       "         [0.26373628, 0.26373628, 0.26373628, ..., 0.26373628, 0.26373628,\n",
       "          0.26373628],\n",
       "         [0.8791209 , 0.8791209 , 0.8791209 , ..., 0.8791209 , 0.8791209 ,\n",
       "          0.8791209 ]], shape=(20, 500))}}"
      ]
     },
     "execution_count": 97,
     "metadata": {},
     "output_type": "execute_result"
    }
   ],
   "source": [
    "data_lif1"
   ]
  },
  {
   "cell_type": "code",
   "execution_count": 98,
   "metadata": {},
   "outputs": [
    {
     "data": {
      "text/plain": [
       "{'cuba lif': {'v': array([[0., 0., 0., 0., 0., 0., 0., 0., 0., 0.],\n",
       "         [0., 0., 0., 0., 0., 0., 0., 0., 0., 0.],\n",
       "         [0., 0., 0., 0., 0., 0., 0., 0., 0., 0.],\n",
       "         [0., 0., 0., 0., 0., 0., 0., 0., 0., 0.],\n",
       "         [0., 0., 0., 0., 0., 0., 0., 0., 0., 0.],\n",
       "         [0., 0., 0., 0., 0., 0., 0., 0., 0., 0.],\n",
       "         [0., 0., 0., 0., 0., 0., 0., 0., 0., 0.],\n",
       "         [0., 0., 0., 0., 0., 0., 0., 0., 0., 0.],\n",
       "         [0., 0., 0., 0., 0., 0., 0., 0., 0., 0.],\n",
       "         [0., 0., 0., 0., 0., 0., 0., 0., 0., 0.],\n",
       "         [0., 0., 0., 0., 0., 0., 0., 0., 0., 0.],\n",
       "         [0., 0., 0., 0., 0., 0., 0., 0., 0., 0.],\n",
       "         [0., 0., 0., 0., 0., 0., 0., 0., 0., 0.],\n",
       "         [0., 0., 0., 0., 0., 0., 0., 0., 0., 0.],\n",
       "         [0., 0., 0., 0., 0., 0., 0., 0., 0., 0.],\n",
       "         [0., 0., 0., 0., 0., 0., 0., 0., 0., 0.],\n",
       "         [0., 0., 0., 0., 0., 0., 0., 0., 0., 0.],\n",
       "         [0., 0., 0., 0., 0., 0., 0., 0., 0., 0.],\n",
       "         [0., 0., 0., 0., 0., 0., 0., 0., 0., 0.],\n",
       "         [0., 0., 0., 0., 0., 0., 0., 0., 0., 0.]]),\n",
       "  'u': array([[0., 0., 0., 0., 0., 0., 0., 0., 0., 0.],\n",
       "         [0., 0., 0., 0., 0., 0., 0., 0., 0., 0.],\n",
       "         [0., 0., 0., 0., 0., 0., 0., 0., 0., 0.],\n",
       "         [0., 0., 0., 0., 0., 0., 0., 0., 0., 0.],\n",
       "         [0., 0., 0., 0., 0., 0., 0., 0., 0., 0.],\n",
       "         [0., 0., 0., 0., 0., 0., 0., 0., 0., 0.],\n",
       "         [0., 0., 0., 0., 0., 0., 0., 0., 0., 0.],\n",
       "         [0., 0., 0., 0., 0., 0., 0., 0., 0., 0.],\n",
       "         [0., 0., 0., 0., 0., 0., 0., 0., 0., 0.],\n",
       "         [0., 0., 0., 0., 0., 0., 0., 0., 0., 0.],\n",
       "         [0., 0., 0., 0., 0., 0., 0., 0., 0., 0.],\n",
       "         [0., 0., 0., 0., 0., 0., 0., 0., 0., 0.],\n",
       "         [0., 0., 0., 0., 0., 0., 0., 0., 0., 0.],\n",
       "         [0., 0., 0., 0., 0., 0., 0., 0., 0., 0.],\n",
       "         [0., 0., 0., 0., 0., 0., 0., 0., 0., 0.],\n",
       "         [0., 0., 0., 0., 0., 0., 0., 0., 0., 0.],\n",
       "         [0., 0., 0., 0., 0., 0., 0., 0., 0., 0.],\n",
       "         [0., 0., 0., 0., 0., 0., 0., 0., 0., 0.],\n",
       "         [0., 0., 0., 0., 0., 0., 0., 0., 0., 0.],\n",
       "         [0., 0., 0., 0., 0., 0., 0., 0., 0., 0.]])}}"
      ]
     },
     "execution_count": 98,
     "metadata": {},
     "output_type": "execute_result"
    }
   ],
   "source": [
    "data_lif2"
   ]
  },
  {
   "cell_type": "markdown",
   "metadata": {},
   "source": [
    "## Plot the Recorded Data"
   ]
  },
  {
   "cell_type": "code",
   "execution_count": 100,
   "metadata": {},
   "outputs": [
    {
     "data": {
      "image/png": "[encoded data removed]",
      "text/plain": [
       "<Figure size 1600x1000 with 4 Axes>"
      ]
     },
     "metadata": {},
     "output_type": "display_data"
    }
   ],
   "source": [
    "import matplotlib\n",
    "%matplotlib inline\n",
    "from matplotlib import pyplot as plt\n",
    "\n",
    "# Create a subplot for each monitored variable\n",
    "fig = plt.figure(figsize=(16, 10))\n",
    "ax0 = fig.add_subplot(2, 2, 1)\n",
    "ax0.set_title('LIF1 Voltage (V) / time step')\n",
    "ax1 = fig.add_subplot(2, 2, 2)\n",
    "ax1.set_title('LIF1 Current (U) / time step')\n",
    "ax2 = fig.add_subplot(2, 2, 3)\n",
    "ax2.set_title('LIF2 Voltage (V) / time step')\n",
    "ax3 = fig.add_subplot(2, 2, 4)\n",
    "ax3.set_title('LIF2 Current (U) / time step')\n",
    "\n",
    "# Plot the data\n",
    "monitor_lif1_v.plot(ax0, lif1.v)\n",
    "monitor_lif1_u.plot(ax1, lif1.u)\n",
    "monitor_lif2_v.plot(ax2, lif2.v)\n",
    "monitor_lif2_u.plot(ax3, lif2.u)\n"
   ]
  },
  {
   "cell_type": "markdown",
   "metadata": {},
   "source": [
    "# Notes\n",
    "- To import an `snn-torch` model using `NIR`, I had to modify `nir_to_lava`, `snntorch`, `nir`, and also `nirtorch` source code.  "
   ]
  },
  {
   "cell_type": "markdown",
   "metadata": {},
   "source": []
  }
 ],
 "metadata": {
  "kernelspec": {
   "display_name": "Python 3 (ipykernel)",
   "language": "python",
   "name": "python3"
  },
  "language_info": {
   "codemirror_mode": {
    "name": "ipython",
    "version": 3
   },
   "file_extension": ".py",
   "mimetype": "text/x-python",
   "name": "python",
   "nbconvert_exporter": "python",
   "pygments_lexer": "ipython3",
   "version": "3.10.12"
  }
 },
 "nbformat": 4,
 "nbformat_minor": 4
}
