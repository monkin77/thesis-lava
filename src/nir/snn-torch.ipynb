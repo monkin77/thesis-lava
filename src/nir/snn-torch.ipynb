{
 "cells": [
  {
   "cell_type": "markdown",
   "metadata": {},
   "source": [
    "# Importing an `snnTorch` SNN model to LAVA"
   ]
  },
  {
   "cell_type": "markdown",
   "metadata": {},
   "source": []
  },
  {
   "cell_type": "code",
   "execution_count": 1,
   "metadata": {},
   "outputs": [
    {
     "name": "stdout",
     "output_type": "stream",
     "text": [
      "/home/monkin/Desktop/feup/thesis\n",
      "File Location:  /home/monkin/Desktop/feup/thesis/thesis-lava/src/nir\n",
      "New Working Directory:  /home/monkin/Desktop/feup/thesis/thesis-lava/src/nir\n"
     ]
    }
   ],
   "source": [
    "# Show current directory\n",
    "import os\n",
    "curr_dir = os.getcwd()\n",
    "print(curr_dir)\n",
    "\n",
    "# Check if the current WD is the file location\n",
    "if \"/thesis-lava/src/nir\" not in os.getcwd():\n",
    "    # Set working directory to this file location\n",
    "    file_location = f\"{os.getcwd()}/thesis-lava/src/nir\"\n",
    "    print(\"File Location: \", file_location)\n",
    "\n",
    "    # Change the current working Directory\n",
    "    os.chdir(file_location)\n",
    "\n",
    "    # New Working Directory\n",
    "    print(\"New Working Directory: \", os.getcwd())"
   ]
  },
  {
   "cell_type": "code",
   "execution_count": 2,
   "metadata": {},
   "outputs": [],
   "source": [
    "import numpy as np\n",
    "import nir\n",
    "import matplotlib.pyplot as plt\n",
    "\n",
    "nir_network = nir.read(\"nir_model_cuba.nir\")"
   ]
  },
  {
   "cell_type": "code",
   "execution_count": 3,
   "metadata": {},
   "outputs": [
    {
     "name": "stdout",
     "output_type": "stream",
     "text": [
      "NIR Network Info: Nº Nodes: 6 | Nº Edges: 5\n",
      "Linear(weight=array([[-0.0161455 ,  0.01705358,  0.01007112, ...,  0.00985886,\n",
      "         0.03937952, -0.03549746],\n",
      "       [ 0.03603304, -0.03541515,  0.01668479, ...,  0.04050541,\n",
      "         0.0300939 ,  0.03487029],\n",
      "       [ 0.03381281, -0.02337706,  0.02692366, ...,  0.02496983,\n",
      "         0.03662976, -0.03068166],\n",
      "       ...,\n",
      "       [ 0.00337175,  0.01589908, -0.02817665, ...,  0.01133711,\n",
      "        -0.01727862,  0.04292991],\n",
      "       [-0.00492689,  0.03207321,  0.01319447, ..., -0.03240683,\n",
      "         0.00964233, -0.03846167],\n",
      "       [-0.01455489,  0.01560639, -0.02629465, ...,  0.03446307,\n",
      "        -0.03139296,  0.00727098]], shape=(10, 500), dtype=float32))\n",
      "[('3', 'output'), ('input', '0'), ('2', '3'), ('1', '2'), ('0', '1')]\n"
     ]
    }
   ],
   "source": [
    "# Print the network summary\n",
    "print(f\"NIR Network Info: Nº Nodes: {len(nir_network.nodes)} | Nº Edges: {len(nir_network.edges)}\")\n",
    "\n",
    "print(nir_network.nodes[\"2\"])\n",
    "print(nir_network.edges)\n"
   ]
  },
  {
   "cell_type": "markdown",
   "metadata": {},
   "source": [
    "### How to fetch the number of neurons in each `NIR.CubaLIF` layer"
   ]
  },
  {
   "cell_type": "code",
   "execution_count": 4,
   "metadata": {},
   "outputs": [
    {
     "name": "stdout",
     "output_type": "stream",
     "text": [
      "CubaLIF(tau_syn=np.float32(0.00014285714), tau_mem=np.float32(0.00012499999), r=np.float32(1.25), v_leak=np.float32(0.0), v_threshold=np.float32(1.0), w_in=np.float32(1.4285715), input_type={'input': array([], dtype=float64)}, output_type={'output': array([], dtype=float64)}, metadata={}, num_neurons=np.int64(500))\n"
     ]
    }
   ],
   "source": [
    "nirLIF1 = nir_network.nodes[\"1\"]\n",
    "print(nirLIF1)"
   ]
  },
  {
   "cell_type": "code",
   "execution_count": 5,
   "metadata": {},
   "outputs": [],
   "source": [
    "\n",
    "MANUAL_CREATION = True\n",
    "\n",
    "if MANUAL_CREATION:\n",
    "    # TODO: This is not the original code. I changed it because it had errors..\n",
    "    \"\"\" ng = nir.NIRGraph(\n",
    "        nodes={\n",
    "            \"input\": nir.Input(input_type=np.array([3])),\n",
    "            # \"affine\": nir.Affine(weight=np.array([[8, 2, 10], [14, 3, 14]]).T, bias=np.array([1, 2])),\n",
    "            \"lif\": nir.CubaLIF(\n",
    "                # tau=np.array([1] * 2),\n",
    "                r=np.array([1 / 1e-4] * 2),\n",
    "                tau_syn=np.array([1] * 2),\n",
    "                tau_mem=np.array([1] * 2),\n",
    "                v_leak=np.array([0] * 2),\n",
    "                v_threshold=np.array([1] * 2),\n",
    "            ),\n",
    "            \"out\": nir.Output(np.array([3])),\n",
    "        },\n",
    "        edges=[\n",
    "            # (\"input\", \"affine\"),\n",
    "            # (\"affine\", \"lif\"),\n",
    "            (\"input\", \"lif\"),\n",
    "            (\"lif\", \"out\")\n",
    "        ],\n",
    "    ) \"\"\"\n",
    "    ng = nir.NIRGraph(\n",
    "        nodes={\n",
    "            \"input\": nir.Input(input_type=np.array([3])),\n",
    "            \"affine\": nir.Affine(weight=np.array(\n",
    "                [[8, 2, 10], [14, 3, 14]]).T, bias=np.array([0, 0])),\n",
    "            \"lif\": nir.LIF(\n",
    "                tau=np.array([1] * 2),\n",
    "                r=np.array([1] * 2),\n",
    "                v_leak=np.array([0] * 2),\n",
    "                v_threshold=np.array([1] * 2),\n",
    "            ),\n",
    "            \"output\": nir.Output(np.array([3])),\n",
    "        },\n",
    "        edges=[(0, 1), (1, 2), (2, 3)],\n",
    "    )"
   ]
  },
  {
   "cell_type": "code",
   "execution_count": 6,
   "metadata": {},
   "outputs": [],
   "source": [
    "from nir_to_lava_edit import ImportConfig, LavaLibrary, import_from_nir\n",
    "# from nir_to_lava import ImportConfig, LavaLibrary, import_from_nir\n",
    "\n",
    "config = ImportConfig(\n",
    "    dt=1e-4, fixed_pt=False, on_chip=False, library_preference=LavaLibrary.Lava,\n",
    ")"
   ]
  },
  {
   "cell_type": "code",
   "execution_count": 10,
   "metadata": {},
   "outputs": [],
   "source": [
    "nir2lava_network, startNodes, endNodes = import_from_nir(\n",
    "    nir_network,  # ng, # \n",
    "    config\n",
    ")"
   ]
  },
  {
   "cell_type": "code",
   "execution_count": 12,
   "metadata": {},
   "outputs": [
    {
     "name": "stdout",
     "output_type": "stream",
     "text": [
      "{'0': <lava.proc.dense.process.Dense object at 0x7facbed1bc70>, '1': [<lava.proc.dense.process.Dense object at 0x7facbeda6170>, <lava.proc.lif.process.LIF object at 0x7facbeebbca0>], '2': <lava.proc.dense.process.Dense object at 0x7facbed44df0>, '3': [<lava.proc.dense.process.Dense object at 0x7facbeed0eb0>, <lava.proc.lif.process.LIF object at 0x7facbed5cf40>]}\n",
      "['0']\n",
      "['3']\n"
     ]
    }
   ],
   "source": [
    "print(nir2lava_network)\n",
    "print(startNodes)\n",
    "print(endNodes)"
   ]
  },
  {
   "cell_type": "markdown",
   "metadata": {},
   "source": [
    "I was able to make it run without errors! However, it seems like the code to convert a NIR network to a LAVA network is not complete."
   ]
  },
  {
   "cell_type": "markdown",
   "metadata": {},
   "source": [
    "## How to Use the Lava Processes imported with NIR\n",
    "It seems like `import_from_nir` returns a map containing the Lava Processes that were imported. Let's try to use them"
   ]
  },
  {
   "cell_type": "markdown",
   "metadata": {},
   "source": [
    "### Print the ports of the Network Processes"
   ]
  },
  {
   "cell_type": "code",
   "execution_count": 21,
   "metadata": {},
   "outputs": [
    {
     "name": "stdout",
     "output_type": "stream",
     "text": [
      "Key: 0 | Proc: <lava.proc.dense.process.Dense object at 0x7facbed1bc70>\n",
      "Proc: Process_6 Port Name: s_in  Size: 784\n",
      "Proc: Process_6 Port Name: a_out Size: 500\n",
      "Key: 1 | Proc: [<lava.proc.dense.process.Dense object at 0x7facbeda6170>, <lava.proc.lif.process.LIF object at 0x7facbeebbca0>]\n",
      "Key: (1,0) | Proc: <lava.proc.dense.process.Dense object at 0x7facbeda6170>\n",
      "Proc: Process_8 Port Name: s_in  Size: 500\n",
      "Proc: Process_8 Port Name: a_out Size: 500\n",
      "Key: (1,1) | Proc: <lava.proc.lif.process.LIF object at 0x7facbeebbca0>\n",
      "Proc: cuba lif Port Name: a_in  Size: 500\n",
      "Proc: cuba lif Port Name: s_out Size: 500\n",
      "Key: 2 | Proc: <lava.proc.dense.process.Dense object at 0x7facbed44df0>\n",
      "Proc: Process_9 Port Name: s_in  Size: 500\n",
      "Proc: Process_9 Port Name: a_out Size: 10\n",
      "Key: 3 | Proc: [<lava.proc.dense.process.Dense object at 0x7facbeed0eb0>, <lava.proc.lif.process.LIF object at 0x7facbed5cf40>]\n",
      "Key: (3,0) | Proc: <lava.proc.dense.process.Dense object at 0x7facbeed0eb0>\n",
      "Proc: Process_11 Port Name: s_in  Size: 10\n",
      "Proc: Process_11 Port Name: a_out Size: 10\n",
      "Key: (3,1) | Proc: <lava.proc.lif.process.LIF object at 0x7facbed5cf40>\n",
      "Proc: cuba lif Port Name: a_in  Size: 10\n",
      "Proc: cuba lif Port Name: s_out Size: 10\n"
     ]
    }
   ],
   "source": [
    "from lava.magma.core.process.process import AbstractProcess\n",
    "\n",
    "# Print the Network Ports\n",
    "for key, proc in nir2lava_network.items():\n",
    "    print(f\"Key: {key} | Proc: {proc}\")\n",
    "\n",
    "    if isinstance(proc, list):\n",
    "        # Network Node contains multiple Processes\n",
    "        # Note: Max Depth is 2\n",
    "        for inner_key,inner_proc in enumerate(proc):\n",
    "            print(f\"Key: ({key},{inner_key}) | Proc: {inner_proc}\")\n",
    "            # Print the Network Ports\n",
    "            for port in inner_proc.in_ports:\n",
    "                print(f\"Proc: {inner_proc.name:<5} Port Name: {port.name:<5} Size: {port.size}\")\n",
    "            for port in inner_proc.out_ports:\n",
    "                print(f\"Proc: {inner_proc.name:<5} Port Name: {port.name:<5} Size: {port.size}\")\n",
    "    else:\n",
    "        # Print the Network Ports\n",
    "        for port in proc.in_ports:\n",
    "            print(f\"Proc: {proc.name:<5} Port Name: {port.name:<5} Size: {port.size}\")\n",
    "        for port in proc.out_ports:\n",
    "            print(f\"Proc: {proc.name:<5} Port Name: {port.name:<5} Size: {port.size}\")"
   ]
  },
  {
   "cell_type": "code",
   "execution_count": null,
   "metadata": {},
   "outputs": [],
   "source": []
  },
  {
   "cell_type": "markdown",
   "metadata": {},
   "source": [
    "# Notes\n",
    "- To import an `snn-torch` model using `NIR`, I had to modify `nir_to_lava`, `snntorch`, and also `nirtorch` source code.  "
   ]
  }
 ],
 "metadata": {
  "kernelspec": {
   "display_name": "Python 3 (ipykernel)",
   "language": "python",
   "name": "python3"
  },
  "language_info": {
   "codemirror_mode": {
    "name": "ipython",
    "version": 3
   },
   "file_extension": ".py",
   "mimetype": "text/x-python",
   "name": "python",
   "nbconvert_exporter": "python",
   "pygments_lexer": "ipython3",
   "version": "3.10.12"
  }
 },
 "nbformat": 4,
 "nbformat_minor": 4
}
