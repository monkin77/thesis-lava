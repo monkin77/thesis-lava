{
 "cells": [
  {
   "cell_type": "markdown",
   "metadata": {},
   "source": [
    "# Importing an `snnTorch` SNN model to LAVA"
   ]
  },
  {
   "cell_type": "markdown",
   "metadata": {},
   "source": []
  },
  {
   "cell_type": "code",
   "execution_count": 1,
   "metadata": {},
   "outputs": [
    {
     "name": "stdout",
     "output_type": "stream",
     "text": [
      "/home/monkin/Desktop/feup/thesis\n",
      "File Location:  /home/monkin/Desktop/feup/thesis/thesis-lava/src/nir\n",
      "New Working Directory:  /home/monkin/Desktop/feup/thesis/thesis-lava/src/nir\n"
     ]
    }
   ],
   "source": [
    "# Show current directory\n",
    "import os\n",
    "curr_dir = os.getcwd()\n",
    "print(curr_dir)\n",
    "\n",
    "# Check if the current WD is the file location\n",
    "if \"/thesis-lava/src/nir\" not in os.getcwd():\n",
    "    # Set working directory to this file location\n",
    "    file_location = f\"{os.getcwd()}/thesis-lava/src/nir\"\n",
    "    print(\"File Location: \", file_location)\n",
    "\n",
    "    # Change the current working Directory\n",
    "    os.chdir(file_location)\n",
    "\n",
    "    # New Working Directory\n",
    "    print(\"New Working Directory: \", os.getcwd())"
   ]
  },
  {
   "cell_type": "code",
   "execution_count": 2,
   "metadata": {},
   "outputs": [],
   "source": [
    "import numpy as np\n",
    "import nir\n",
    "import matplotlib.pyplot as plt\n",
    "\n",
    "nir_network = nir.read(\"nir_model_cuba.nir\")"
   ]
  },
  {
   "cell_type": "code",
   "execution_count": 3,
   "metadata": {},
   "outputs": [
    {
     "name": "stdout",
     "output_type": "stream",
     "text": [
      "NIR Network Info: Nº Nodes: 6 | Nº Edges: 5\n",
      "Linear(weight=array([[ 0.03017123,  0.03300593, -0.01486759, ..., -0.04290418,\n",
      "         0.02527831,  0.03399573],\n",
      "       [-0.03412941,  0.01275251, -0.00741993, ..., -0.02844698,\n",
      "        -0.01157845,  0.00848772],\n",
      "       [ 0.01515196,  0.00230097, -0.02127903, ..., -0.02738289,\n",
      "         0.02257233, -0.04216863],\n",
      "       ...,\n",
      "       [ 0.03463043,  0.00354015, -0.0397058 , ...,  0.01822981,\n",
      "         0.03574692, -0.00918025],\n",
      "       [-0.0277856 ,  0.02493642, -0.0305982 , ..., -0.01540129,\n",
      "         0.03539132, -0.0418357 ],\n",
      "       [ 0.02076504,  0.00384213, -0.03294706, ...,  0.02236753,\n",
      "         0.01417992, -0.04224594]], shape=(10, 500), dtype=float32))\n",
      "[('input', '0'), ('0', '1'), ('1', '2'), ('3', 'output'), ('2', '3')]\n"
     ]
    }
   ],
   "source": [
    "# Print the network summary\n",
    "print(f\"NIR Network Info: Nº Nodes: {len(nir_network.nodes)} | Nº Edges: {len(nir_network.edges)}\")\n",
    "\n",
    "print(nir_network.nodes[\"2\"])\n",
    "print(nir_network.edges)\n"
   ]
  },
  {
   "cell_type": "code",
   "execution_count": 4,
   "metadata": {},
   "outputs": [],
   "source": [
    "\n",
    "MANUAL_CREATION = True\n",
    "\n",
    "if MANUAL_CREATION:\n",
    "    # TODO: This is not the original code. I changed it because it had errors..\n",
    "    \"\"\" ng = nir.NIRGraph(\n",
    "        nodes={\n",
    "            \"input\": nir.Input(input_type=np.array([3])),\n",
    "            # \"affine\": nir.Affine(weight=np.array([[8, 2, 10], [14, 3, 14]]).T, bias=np.array([1, 2])),\n",
    "            \"lif\": nir.CubaLIF(\n",
    "                # tau=np.array([1] * 2),\n",
    "                r=np.array([1 / 1e-4] * 2),\n",
    "                tau_syn=np.array([1] * 2),\n",
    "                tau_mem=np.array([1] * 2),\n",
    "                v_leak=np.array([0] * 2),\n",
    "                v_threshold=np.array([1] * 2),\n",
    "            ),\n",
    "            \"out\": nir.Output(np.array([3])),\n",
    "        },\n",
    "        edges=[\n",
    "            # (\"input\", \"affine\"),\n",
    "            # (\"affine\", \"lif\"),\n",
    "            (\"input\", \"lif\"),\n",
    "            (\"lif\", \"out\")\n",
    "        ],\n",
    "    ) \"\"\"\n",
    "    ng = nir.NIRGraph(\n",
    "        nodes={\n",
    "            \"input\": nir.Input(input_type=np.array([3])),\n",
    "            \"affine\": nir.Affine(weight=np.array(\n",
    "                [[8, 2, 10], [14, 3, 14]]).T, bias=np.array([0, 0])),\n",
    "            \"lif\": nir.LIF(\n",
    "                tau=np.array([1] * 2),\n",
    "                r=np.array([1] * 2),\n",
    "                v_leak=np.array([0] * 2),\n",
    "                v_threshold=np.array([1] * 2),\n",
    "            ),\n",
    "            \"output\": nir.Output(np.array([3])),\n",
    "        },\n",
    "        edges=[(0, 1), (1, 2), (2, 3)],\n",
    "    )"
   ]
  },
  {
   "cell_type": "code",
   "execution_count": 5,
   "metadata": {},
   "outputs": [],
   "source": [
    "from nir_to_lava_edit import ImportConfig, LavaLibrary, import_from_nir\n",
    "# from nir_to_lava import ImportConfig, LavaLibrary, import_from_nir\n",
    "\n",
    "config = ImportConfig(\n",
    "    dt=1e-4, fixed_pt=False, on_chip=False, library_preference=LavaLibrary.Lava,\n",
    ")"
   ]
  },
  {
   "cell_type": "code",
   "execution_count": 6,
   "metadata": {},
   "outputs": [
    {
     "ename": "AssertionError",
     "evalue": "Shapes (500,) and (1,) are incompatible.",
     "output_type": "error",
     "traceback": [
      "\u001b[0;31m---------------------------------------------------------------------------\u001b[0m",
      "\u001b[0;31mAssertionError\u001b[0m                            Traceback (most recent call last)",
      "Cell \u001b[0;32mIn[6], line 1\u001b[0m\n\u001b[0;32m----> 1\u001b[0m nir2lava_network \u001b[38;5;241m=\u001b[39m \u001b[43mimport_from_nir\u001b[49m\u001b[43m(\u001b[49m\n\u001b[1;32m      2\u001b[0m \u001b[43m    \u001b[49m\u001b[43mnir_network\u001b[49m\u001b[43m,\u001b[49m\u001b[43m  \u001b[49m\u001b[38;5;66;43;03m# ng, # \u001b[39;49;00m\n\u001b[1;32m      3\u001b[0m \u001b[43m    \u001b[49m\u001b[43mconfig\u001b[49m\n\u001b[1;32m      4\u001b[0m \u001b[43m)\u001b[49m\n",
      "File \u001b[0;32m~/Desktop/feup/thesis/thesis-lava/src/nir/nir_to_lava_edit.py:649\u001b[0m, in \u001b[0;36mimport_from_nir\u001b[0;34m(graph, import_config)\u001b[0m\n\u001b[1;32m    646\u001b[0m     import_config \u001b[38;5;241m=\u001b[39m ImportConfig()\n\u001b[1;32m    648\u001b[0m \u001b[38;5;28;01mif\u001b[39;00m import_config\u001b[38;5;241m.\u001b[39mlibrary_preference \u001b[38;5;241m==\u001b[39m LavaLibrary\u001b[38;5;241m.\u001b[39mLava:\n\u001b[0;32m--> 649\u001b[0m     \u001b[38;5;28;01mreturn\u001b[39;00m \u001b[43mimport_from_nir_to_lava\u001b[49m\u001b[43m(\u001b[49m\u001b[43mgraph\u001b[49m\u001b[43m,\u001b[49m\u001b[43m \u001b[49m\u001b[43mimport_config\u001b[49m\u001b[43m)\u001b[49m\n\u001b[1;32m    650\u001b[0m \u001b[38;5;28;01melif\u001b[39;00m import_config\u001b[38;5;241m.\u001b[39mlibrary_preference \u001b[38;5;241m==\u001b[39m LavaLibrary\u001b[38;5;241m.\u001b[39mLavaDl:\n\u001b[1;32m    651\u001b[0m     \u001b[38;5;28;01mreturn\u001b[39;00m import_from_nir_to_lava_dl(graph, import_config, debug\u001b[38;5;241m=\u001b[39m\u001b[38;5;28;01mTrue\u001b[39;00m)\n",
      "File \u001b[0;32m~/Desktop/feup/thesis/thesis-lava/src/nir/nir_to_lava_edit.py:193\u001b[0m, in \u001b[0;36mimport_from_nir_to_lava\u001b[0;34m(graph, import_config)\u001b[0m\n\u001b[1;32m    191\u001b[0m         src_port \u001b[38;5;241m=\u001b[39m get_outport(src_node)\n\u001b[1;32m    192\u001b[0m         dst_port \u001b[38;5;241m=\u001b[39m get_inport(dst_node)\n\u001b[0;32m--> 193\u001b[0m         \u001b[43msrc_port\u001b[49m\u001b[38;5;241;43m.\u001b[39;49m\u001b[43mconnect\u001b[49m\u001b[43m(\u001b[49m\u001b[43mdst_port\u001b[49m\u001b[43m)\u001b[49m\n\u001b[1;32m    195\u001b[0m \u001b[38;5;28;01mreturn\u001b[39;00m lava_nodes, start_nodes, end_nodes\n",
      "File \u001b[0;32m~/Desktop/feup/ncn-lava/src/lava/magma/core/process/ports/ports.py:460\u001b[0m, in \u001b[0;36mOutPort.connect\u001b[0;34m(self, ports, connection_configs)\u001b[0m\n\u001b[1;32m    446\u001b[0m \u001b[38;5;28;01mdef\u001b[39;00m\u001b[38;5;250m \u001b[39m\u001b[38;5;21mconnect\u001b[39m(\n\u001b[1;32m    447\u001b[0m         \u001b[38;5;28mself\u001b[39m,\n\u001b[1;32m    448\u001b[0m         ports: ty\u001b[38;5;241m.\u001b[39mUnion[\u001b[38;5;124m\"\u001b[39m\u001b[38;5;124mAbstractIOPort\u001b[39m\u001b[38;5;124m\"\u001b[39m, ty\u001b[38;5;241m.\u001b[39mList[\u001b[38;5;124m\"\u001b[39m\u001b[38;5;124mAbstractIOPort\u001b[39m\u001b[38;5;124m\"\u001b[39m]],\n\u001b[1;32m    449\u001b[0m         connection_configs: ty\u001b[38;5;241m.\u001b[39mOptional[ConnectionConfigs] \u001b[38;5;241m=\u001b[39m \u001b[38;5;28;01mNone\u001b[39;00m):\n\u001b[1;32m    450\u001b[0m \u001b[38;5;250m    \u001b[39m\u001b[38;5;124;03m\"\"\"Connects this OutPort to other InPort(s) of another process\u001b[39;00m\n\u001b[1;32m    451\u001b[0m \u001b[38;5;124;03m    or to OutPort(s) of its parent process.\u001b[39;00m\n\u001b[1;32m    452\u001b[0m \n\u001b[0;32m   (...)\u001b[0m\n\u001b[1;32m    458\u001b[0m \u001b[38;5;124;03m        Configuration for this connection. See \"ConnectionConfig\" class.\u001b[39;00m\n\u001b[1;32m    459\u001b[0m \u001b[38;5;124;03m    \"\"\"\u001b[39;00m\n\u001b[0;32m--> 460\u001b[0m     \u001b[38;5;28;43mself\u001b[39;49m\u001b[38;5;241;43m.\u001b[39;49m\u001b[43m_connect_forward\u001b[49m\u001b[43m(\u001b[49m\u001b[43mto_list\u001b[49m\u001b[43m(\u001b[49m\u001b[43mports\u001b[49m\u001b[43m)\u001b[49m\u001b[43m,\u001b[49m\n\u001b[1;32m    461\u001b[0m \u001b[43m                          \u001b[49m\u001b[43mAbstractIOPort\u001b[49m\u001b[43m,\u001b[49m\n\u001b[1;32m    462\u001b[0m \u001b[43m                          \u001b[49m\u001b[43mto_list\u001b[49m\u001b[43m(\u001b[49m\u001b[43mconnection_configs\u001b[49m\u001b[43m)\u001b[49m\u001b[43m)\u001b[49m\n",
      "File \u001b[0;32m~/Desktop/feup/ncn-lava/src/lava/magma/core/process/ports/ports.py:133\u001b[0m, in \u001b[0;36mAbstractPort._connect_forward\u001b[0;34m(self, ports, port_type, connection_configs, assert_same_shape, assert_same_type)\u001b[0m\n\u001b[1;32m    122\u001b[0m \u001b[38;5;28;01mdef\u001b[39;00m\u001b[38;5;250m \u001b[39m\u001b[38;5;21m_connect_forward\u001b[39m(\n\u001b[1;32m    123\u001b[0m         \u001b[38;5;28mself\u001b[39m,\n\u001b[1;32m    124\u001b[0m         ports: ty\u001b[38;5;241m.\u001b[39mList[\u001b[38;5;124m\"\u001b[39m\u001b[38;5;124mAbstractPort\u001b[39m\u001b[38;5;124m\"\u001b[39m],\n\u001b[0;32m   (...)\u001b[0m\n\u001b[1;32m    127\u001b[0m         assert_same_shape: \u001b[38;5;28mbool\u001b[39m \u001b[38;5;241m=\u001b[39m \u001b[38;5;28;01mTrue\u001b[39;00m,\n\u001b[1;32m    128\u001b[0m         assert_same_type: \u001b[38;5;28mbool\u001b[39m \u001b[38;5;241m=\u001b[39m \u001b[38;5;28;01mTrue\u001b[39;00m):\n\u001b[1;32m    129\u001b[0m \u001b[38;5;250m    \u001b[39m\u001b[38;5;124;03m\"\"\"Creates a forward connection from this AbstractPort to other\u001b[39;00m\n\u001b[1;32m    130\u001b[0m \u001b[38;5;124;03m    ports by adding other ports to this AbstractPort's out_connection and\u001b[39;00m\n\u001b[1;32m    131\u001b[0m \u001b[38;5;124;03m    by adding this AbstractIOPort to other port's in_connections.\"\"\"\u001b[39;00m\n\u001b[0;32m--> 133\u001b[0m     \u001b[38;5;28;43mself\u001b[39;49m\u001b[38;5;241;43m.\u001b[39;49m\u001b[43m_validate_ports\u001b[49m\u001b[43m(\u001b[49m\n\u001b[1;32m    134\u001b[0m \u001b[43m        \u001b[49m\u001b[43mports\u001b[49m\u001b[43m,\u001b[49m\u001b[43m \u001b[49m\u001b[43mport_type\u001b[49m\u001b[43m,\u001b[49m\u001b[43m \u001b[49m\u001b[43massert_same_shape\u001b[49m\u001b[43m,\u001b[49m\u001b[43m \u001b[49m\u001b[43massert_same_type\u001b[49m\n\u001b[1;32m    135\u001b[0m \u001b[43m    \u001b[49m\u001b[43m)\u001b[49m\n\u001b[1;32m    136\u001b[0m     \u001b[38;5;66;03m# Add other ports to this port's output connections\u001b[39;00m\n\u001b[1;32m    137\u001b[0m     \u001b[38;5;28mself\u001b[39m\u001b[38;5;241m.\u001b[39m_add_outputs(ports)\n",
      "File \u001b[0;32m~/Desktop/feup/ncn-lava/src/lava/magma/core/process/ports/ports.py:104\u001b[0m, in \u001b[0;36mAbstractPort._validate_ports\u001b[0;34m(self, ports, port_type, assert_same_shape, assert_same_type)\u001b[0m\n\u001b[1;32m    102\u001b[0m \u001b[38;5;28;01mif\u001b[39;00m assert_same_shape:\n\u001b[1;32m    103\u001b[0m     \u001b[38;5;28;01mif\u001b[39;00m \u001b[38;5;28mself\u001b[39m\u001b[38;5;241m.\u001b[39mshape \u001b[38;5;241m!=\u001b[39m p\u001b[38;5;241m.\u001b[39mshape:\n\u001b[0;32m--> 104\u001b[0m         \u001b[38;5;28;01mraise\u001b[39;00m \u001b[38;5;167;01mAssertionError\u001b[39;00m(\u001b[38;5;124m\"\u001b[39m\u001b[38;5;124mShapes \u001b[39m\u001b[38;5;132;01m{}\u001b[39;00m\u001b[38;5;124m and \u001b[39m\u001b[38;5;132;01m{}\u001b[39;00m\u001b[38;5;124m \u001b[39m\u001b[38;5;124m\"\u001b[39m\n\u001b[1;32m    105\u001b[0m                              \u001b[38;5;124m\"\u001b[39m\u001b[38;5;124mare incompatible.\u001b[39m\u001b[38;5;124m\"\u001b[39m\n\u001b[1;32m    106\u001b[0m                              \u001b[38;5;241m.\u001b[39mformat(\u001b[38;5;28mself\u001b[39m\u001b[38;5;241m.\u001b[39mshape, p\u001b[38;5;241m.\u001b[39mshape))\n",
      "\u001b[0;31mAssertionError\u001b[0m: Shapes (500,) and (1,) are incompatible."
     ]
    }
   ],
   "source": [
    "nir2lava_network = import_from_nir(\n",
    "    nir_network,  # ng, # \n",
    "    config\n",
    ")"
   ]
  },
  {
   "cell_type": "code",
   "execution_count": null,
   "metadata": {},
   "outputs": [],
   "source": [
    "print(nir2lava_network)"
   ]
  },
  {
   "cell_type": "markdown",
   "metadata": {},
   "source": [
    "I was able to make it run without errors! However, it seems like the code to convert a NIR network to a LAVA network is not complete."
   ]
  },
  {
   "cell_type": "code",
   "execution_count": null,
   "metadata": {},
   "outputs": [],
   "source": []
  },
  {
   "cell_type": "markdown",
   "metadata": {},
   "source": [
    "## Import an HDF5 Network into LAVA"
   ]
  },
  {
   "cell_type": "code",
   "execution_count": null,
   "metadata": {},
   "outputs": [],
   "source": [
    "# Import HDF5 network as Lava Processes\n",
    "from lava.lib.dl.netx import hdf5\n",
    "\n",
    "# Import the network\n",
    "net = hdf5.Network(net_config=\"nir_model_cuba.nir\")"
   ]
  }
 ],
 "metadata": {
  "kernelspec": {
   "display_name": "Python 3 (ipykernel)",
   "language": "python",
   "name": "python3"
  },
  "language_info": {
   "codemirror_mode": {
    "name": "ipython",
    "version": 3
   },
   "file_extension": ".py",
   "mimetype": "text/x-python",
   "name": "python",
   "nbconvert_exporter": "python",
   "pygments_lexer": "ipython3",
   "version": "3.10.12"
  }
 },
 "nbformat": 4,
 "nbformat_minor": 4
}
