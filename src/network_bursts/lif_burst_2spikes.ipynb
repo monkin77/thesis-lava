{
 "cells": [
  {
   "cell_type": "markdown",
   "metadata": {},
   "source": [
    "# SNN that detects Network bursts in a single channel\n",
    "This notebook is a simple example of how to use a Spiking Neural Network (SNN) to detect network bursts in a single channel. \n",
    "\n",
    "## Definition of a network burst\n",
    "A network burst is a sequence of spikes that occur in a short time window. The definition of a network burst is not unique and depends on the context. \n",
    "\n",
    "In this notebook, we will **consider a network burst any sequence of spikes that occurs within 10 ms**"
   ]
  },
  {
   "cell_type": "code",
   "execution_count": 43,
   "metadata": {},
   "outputs": [
    {
     "name": "stdout",
     "output_type": "stream",
     "text": [
      "\u001b[0;31mInit signature:\u001b[0m \u001b[0mLIF\u001b[0m\u001b[0;34m(\u001b[0m\u001b[0;34m*\u001b[0m\u001b[0margs\u001b[0m\u001b[0;34m,\u001b[0m \u001b[0;34m**\u001b[0m\u001b[0mkwargs\u001b[0m\u001b[0;34m)\u001b[0m\u001b[0;34m\u001b[0m\u001b[0;34m\u001b[0m\u001b[0m\n",
      "\u001b[0;31mDocstring:\u001b[0m     \n",
      "Leaky-Integrate-and-Fire (LIF) neural Process.\n",
      "\n",
      "LIF dynamics abstracts to:\n",
      "u[t] = u[t-1] * (1-du) + a_in         # neuron current\n",
      "v[t] = v[t-1] * (1-dv) + u[t] + bias  # neuron voltage\n",
      "s_out = v[t] > vth                    # spike if threshold is exceeded\n",
      "v[t] = 0                              # reset at spike\n",
      "\n",
      "Parameters\n",
      "----------\n",
      "shape : tuple(int)\n",
      "    Number and topology of LIF neurons.\n",
      "u : float, list, numpy.ndarray, optional\n",
      "    Initial value of the neurons' current.\n",
      "v : float, list, numpy.ndarray, optional\n",
      "    Initial value of the neurons' voltage (membrane potential).\n",
      "du : float, optional\n",
      "    Inverse of decay time-constant for current decay. Currently, only a\n",
      "    single decay can be set for the entire population of neurons.\n",
      "dv : float, optional\n",
      "    Inverse of decay time-constant for voltage decay. Currently, only a\n",
      "    single decay can be set for the entire population of neurons.\n",
      "bias_mant : float, list, numpy.ndarray, optional\n",
      "    Mantissa part of neuron bias.\n",
      "bias_exp : float, list, numpy.ndarray, optional\n",
      "    Exponent part of neuron bias, if needed. Mostly for fixed point\n",
      "    implementations. Ignored for floating point implementations.\n",
      "vth : float, optional\n",
      "    Neuron threshold voltage, exceeding which, the neuron will spike.\n",
      "    Currently, only a single threshold can be set for the entire\n",
      "    population of neurons.\n",
      "\n",
      "Example\n",
      "-------\n",
      ">>> lif = LIF(shape=(200, 15), du=10, dv=5)\n",
      "This will create 200x15 LIF neurons that all have the same current decay\n",
      "of 10 and voltage decay of 5.\n",
      "\u001b[0;31mInit docstring:\u001b[0m Initializes a new Process.\n",
      "\u001b[0;31mFile:\u001b[0m           ~/Desktop/feup/thesis/thesis-lava/src/lava/proc/lif/process.py\n",
      "\u001b[0;31mType:\u001b[0m           ProcessPostInitCaller\n",
      "\u001b[0;31mSubclasses:\u001b[0m     LIFReset, LIFRefractory"
     ]
    }
   ],
   "source": [
    "from lava.proc.lif.process import LIF\n",
    "from lava.proc.dense.process import Dense\n",
    "\n",
    "LIF?"
   ]
  },
  {
   "cell_type": "code",
   "execution_count": 44,
   "metadata": {},
   "outputs": [],
   "source": [
    "# Define the number of neurons in each LIF Layer\n",
    "n1 = 5   # Let's create a simple program with only 1 LIF layer"
   ]
  },
  {
   "cell_type": "code",
   "execution_count": 45,
   "metadata": {},
   "outputs": [],
   "source": [
    "import numpy as np\n",
    "\n",
    "v_th = 4\n",
    "v_init = 0\n",
    "dv = 0.1\n",
    "du = 0.3\n",
    "\n",
    "# Create Processes\n",
    "lif1 = LIF(shape=(n1,),  # There are 2 neurons\n",
    "           vth=v_th,  # TODO: Verify these initial values\n",
    "           v=v_init,\n",
    "           dv=dv,    # Inverse of decay time-constant for voltage decay\n",
    "           du=du,  # Inverse of decay time-constant for current decay\n",
    "           bias_mant=0,\n",
    "           bias_exp=0,\n",
    "           name=\"lif1\")"
   ]
  },
  {
   "cell_type": "code",
   "execution_count": 46,
   "metadata": {},
   "outputs": [
    {
     "name": "stdout",
     "output_type": "stream",
     "text": [
      "Proc: lif1  Port Name: a_in  Size: 5\n",
      "Proc: lif1  Port Name: s_out Size: 5\n"
     ]
    }
   ],
   "source": [
    "for proc in [lif1]:\n",
    "    for port in proc.in_ports:\n",
    "        print(f\"Proc: {proc.name:<5} Port Name: {port.name:<5} Size: {port.size}\")\n",
    "    for port in proc.out_ports:\n",
    "        print(f\"Proc: {proc.name:<5} Port Name: {port.name:<5} Size: {port.size}\")"
   ]
  },
  {
   "cell_type": "markdown",
   "metadata": {},
   "source": [
    "## Create the Custom Input Layer\n",
    "\n",
    "### Define function to read the input data from the csv file and generate the corresponding spike events"
   ]
  },
  {
   "cell_type": "code",
   "execution_count": 47,
   "metadata": {},
   "outputs": [],
   "source": [
    "import pandas as pd\n",
    "\n",
    "def read_spike_events(file_path: str):\n",
    "    \"\"\"Reads the spike events from the input file and returns them as a numpy array\n",
    "    TODO: Could try to use a structured array instead?\n",
    "\n",
    "    Args:\n",
    "        file_path (str): name of the file containing the spike events\n",
    "    \"\"\"\n",
    "    spike_events = []\n",
    "\n",
    "    try:\n",
    "        # Read the spike events from the file\n",
    "        df = pd.read_csv(file_path, header='infer')\n",
    "        print(df.head())\n",
    "\n",
    "        # Detect errors\n",
    "        if df.empty:\n",
    "            raise Exception(\"The input file is empty\")\n",
    "\n",
    "        # Convert the scientific notation values to integers if any exist\n",
    "        df = df.applymap(lambda x: int(float(x)) if (isinstance(x, str) and 'e' in x) else x)\n",
    "\n",
    "        # Convert the dataframe to a numpy array. Each row is a spike event. The first column is the time and the second column is the channel idx\n",
    "        spike_events = df.to_numpy()\n",
    "\n",
    "        return spike_events\n",
    "    except Exception as e:\n",
    "        print(\"Unable to read the input file: \", file_path, \" error:\", e)\n",
    "\n",
    "    return spike_events"
   ]
  },
  {
   "cell_type": "code",
   "execution_count": 48,
   "metadata": {},
   "outputs": [
    {
     "name": "stdout",
     "output_type": "stream",
     "text": [
      "     time  channel_idx\n",
      "0  1427.1            1\n",
      "1  1430.4            1\n",
      "2  1433.3            1\n",
      "3  1462.8            1\n",
      "4  2791.1            1\n",
      "Spike events:  (2196, 2) \n",
      " [[1.4271e+03 1.0000e+00]\n",
      " [1.4304e+03 1.0000e+00]\n",
      " [1.4333e+03 1.0000e+00]\n",
      " [1.4628e+03 1.0000e+00]\n",
      " [2.7911e+03 1.0000e+00]\n",
      " [2.7937e+03 1.0000e+00]\n",
      " [2.7942e+03 4.0000e+00]\n",
      " [2.8006e+03 1.0000e+00]\n",
      " [2.8741e+03 1.0000e+00]\n",
      " [2.8816e+03 1.0000e+00]]\n"
     ]
    }
   ],
   "source": [
    "# Call the function to read the spike events\n",
    "file_path = \"../lab_data/lab_data_1-5channels.csv\"\n",
    "spike_events = read_spike_events(file_path)\n",
    "print(\"Spike events: \", spike_events.shape, \"\\n\", spike_events[:10])"
   ]
  },
  {
   "cell_type": "markdown",
   "metadata": {},
   "source": [
    "### Define the SpikeEvent Generator Interface"
   ]
  },
  {
   "cell_type": "code",
   "execution_count": 49,
   "metadata": {},
   "outputs": [],
   "source": [
    "from lava.magma.core.process.process import AbstractProcess\n",
    "from lava.magma.core.process.variable import Var\n",
    "from lava.magma.core.process.ports.ports import OutPort\n",
    "\n",
    "class SpikeEventGen(AbstractProcess):\n",
    "    \"\"\"Input Process that generates spike events based on the input file\n",
    "\n",
    "    Args:\n",
    "        shape (tuple): Shape of the output port\n",
    "        file_name (str): Name of the file containing the spike events\n",
    "    \"\"\"\n",
    "    def __init__(self, shape: tuple, spike_events: np.ndarray, name: str) -> None:\n",
    "        super().__init__(name=name)\n",
    "        self.s_out = OutPort(shape=shape)\n",
    "        self.spike_events = Var(shape=spike_events.shape, init=spike_events)"
   ]
  },
  {
   "cell_type": "markdown",
   "metadata": {},
   "source": [
    "### Map the input channels to the corresponding indexes in the input layer\n",
    "Since the input channels in the input file may be of any number, we need to map the input channels to the corresponding indexes in the input layer. This is done by the `channel_map` dictionary."
   ]
  },
  {
   "cell_type": "code",
   "execution_count": 50,
   "metadata": {},
   "outputs": [],
   "source": [
    "# Map the channels of the input file to the respective index in the output list of SpikeEventGen\n",
    "channel_map = {1: 0, 2: 1, 3: 2, 4: 3, 5: 4}"
   ]
  },
  {
   "cell_type": "markdown",
   "metadata": {},
   "source": [
    "### Implement the `SpikeEventGenerator` Model"
   ]
  },
  {
   "cell_type": "code",
   "execution_count": 51,
   "metadata": {},
   "outputs": [],
   "source": [
    "from lava.magma.core.model.py.model import PyLoihiProcessModel  # Processes running on CPU inherit from this class\n",
    "from lava.magma.core.resources import CPU\n",
    "from lava.magma.core.decorator import implements, requires\n",
    "from lava.magma.core.sync.protocols.loihi_protocol import LoihiProtocol\n",
    "from lava.magma.core.model.py.type import LavaPyType\n",
    "from lava.magma.core.model.py.ports import PyOutPort\n",
    "\n",
    "@implements(proc=SpikeEventGen, protocol=LoihiProtocol)\n",
    "@requires(CPU)\n",
    "class PySpikeEventGenModel(PyLoihiProcessModel):\n",
    "    \"\"\"Spike Event Generator Process implementation running on CPU (Python)\n",
    "    Args:\n",
    "    \"\"\"\n",
    "    s_out: PyOutPort = LavaPyType(PyOutPort.VEC_DENSE, float)   # IT IS POSSIBLE TO SEND FLOATS AFTER ALL\n",
    "    spike_events: np.ndarray = LavaPyType(np.ndarray, np.ndarray)   # TODO: Check if we should keep it as a numpy array, or transform it to a list\n",
    "\n",
    "    def __init__(self, proc_params) -> None:\n",
    "        super().__init__(proc_params=proc_params)\n",
    "        # print(\"spike events\", self.spike_events.__str__())    # TODO: Check why during initialization the variable prints the class, while during run it prints the value\n",
    "        self.curr_spike_idx = 0     # Index of the next spiking event to send\n",
    "        self.virtual_time_step_interval = 1  # 1000    # Arbitrary time between time steps (in microseconds). This is not a real time interval (1000ms = 1s)\n",
    "        self.init_offset = 1000        # 698995               # Arbitrary offset to start the simulation (in microseconds)\n",
    "\n",
    "    def run_spk(self) -> None:\n",
    "        spike_data = np.zeros(self.s_out.shape) # Initialize the spike data to 0\n",
    "        \n",
    "        # Use random spikes to test it\n",
    "        # spike_data[0] = np.random.random()  # Only 1 neuron is sending data (spikes)\n",
    "        # self.curr_spike_idx += 1\n",
    "\n",
    "        # Use the spike events from the file\n",
    "        # print(\"spike events: \", self.spike_events[:5])\n",
    "        # TODO: For now we are using the time_step as the time measurement that will simulate real-time activity. It would be better to have access to the running time\n",
    "        \n",
    "        #print(\"time step:\", self.time_step)\n",
    "        # If the current simulation time is greater than the next spike event, send a spike\n",
    "        currTime = self.init_offset + self.time_step*self.virtual_time_step_interval\n",
    "\n",
    "        spiking_channels = set()   # List of channels that will spike at the same time\n",
    "        while (self.curr_spike_idx < len(self.spike_events)) and currTime >= self.spike_events[self.curr_spike_idx][0]:  # Check if there are more than 1 spike events to send\n",
    "            curr_channel = self.spike_events[self.curr_spike_idx][1]\n",
    "\n",
    "            # Check if the next spike belongs to a channel that will already spike at the same time\n",
    "            if curr_channel in spiking_channels:    # If the channel is already spiking, we stop the spikes for this time step\n",
    "                break\n",
    "\n",
    "            # Add the channel to the list of spiking channels\n",
    "            spiking_channels.add(curr_channel)\n",
    "\n",
    "            # Send a spike\n",
    "            out_idx = channel_map[curr_channel]     # Map the channel to the output index\n",
    "            if out_idx < self.s_out.shape[0]:   # Check if the channel is valid\n",
    "                spike_data[out_idx] = 1.0   # Send a spike  (value corresponds to the punctual current of the spike event)\n",
    "\n",
    "            # Move to the next spike event\n",
    "            self.curr_spike_idx += 1\n",
    "\n",
    "        if len(spiking_channels) > 0:   # Print the spike event if there are any spikes\n",
    "            print(f\"sending spike event at time: {currTime}({self.time_step}) last spike idx: {self.curr_spike_idx-1} spike time: {self.spike_events[self.curr_spike_idx-1][0]}\")\n",
    "\n",
    "        # Send spikes\n",
    "        # print(\"sending spike_data: \", spike_data, \" at step: \", self.time_step)\n",
    "        self.s_out.send(spike_data)\n",
    "\n",
    "        # Stop the Process if there are no more spike events to send. (It will stop all the connected processes)\n",
    "        # TODO: Should it be another process that stops the simulation? Such as the last LIF process\n",
    "        # if self.curr_spike_idx >= 5: # len(self.spike_events):\n",
    "        #    self.pause()\n"
   ]
  },
  {
   "cell_type": "markdown",
   "metadata": {},
   "source": [
    "## Connect the Custom Input Layer to the middle layer\n",
    "\n",
    "To define the connectivity between the `SpikeGenerator` and the first `LIF` population, we use another `Dense` Layer."
   ]
  },
  {
   "cell_type": "code",
   "execution_count": 52,
   "metadata": {},
   "outputs": [],
   "source": [
    "# Create the Input Process\n",
    "spike_event_gen = SpikeEventGen(shape=(n1,), spike_events=spike_events, name=\"CustomInput\")\n",
    "\n",
    "# Instantiante a Dense Layer to connect the SpikeEventGen to the middle layer\n",
    "# dense_input = Dense(weights=np.eye(n1), name=\"DenseInput\")     # 1-1 connectivity with the Middle Layer (should be a 2x2 matrix right now)\n",
    "dense_input = Dense(weights=np.array([[1.0, 0], [0, 1.0]]), name=\"DenseInput\")\n",
    "\n",
    "\n",
    "# If I connect the SpikeEventGen to the Dense Layer, the a_out value of the custom input will be rounded to 0 or 1 in the Dense Layer (it will not be a float) \n",
    "# Connect the SpikeEventGen to the Dense Layer\n",
    "# spike_event_gen.s_out.connect(dense_input.s_in)\n",
    "\n",
    "# Connect the Dense_Input to the LIF1 Layer\n",
    "# dense_input.a_out.connect(lif1.a_in)\n",
    "\n",
    "# Connect the SpikeEventGen layer directly to the LIF1 layer\n",
    "spike_event_gen.s_out.connect(lif1.a_in)"
   ]
  },
  {
   "cell_type": "markdown",
   "metadata": {},
   "source": [
    "### Take a look at the connections in the Input Layer"
   ]
  },
  {
   "cell_type": "code",
   "execution_count": 53,
   "metadata": {},
   "outputs": [
    {
     "name": "stdout",
     "output_type": "stream",
     "text": [
      "Proc: CustomInput Port Name: s_out Size: 5\n",
      "Proc: DenseInput Port Name: s_in  Size: 2\n",
      "Proc: DenseInput Port Name: a_out Size: 2\n",
      "Proc: lif1  Port Name: a_in  Size: 5\n",
      "Proc: lif1  Port Name: s_out Size: 5\n"
     ]
    }
   ],
   "source": [
    "for proc in [spike_event_gen, dense_input, lif1]:\n",
    "    for port in proc.in_ports:\n",
    "        print(f\"Proc: {proc.name:<5} Port Name: {port.name:<5} Size: {port.size}\")\n",
    "    for port in proc.out_ports:\n",
    "        print(f\"Proc: {proc.name:<5} Port Name: {port.name:<5} Size: {port.size}\")"
   ]
  },
  {
   "cell_type": "code",
   "execution_count": 54,
   "metadata": {},
   "outputs": [
    {
     "data": {
      "text/plain": [
       "array([[1., 0.],\n",
       "       [0., 1.]])"
      ]
     },
     "execution_count": 54,
     "metadata": {},
     "output_type": "execute_result"
    }
   ],
   "source": [
    "# Weights of the Input Dense Layer\n",
    "dense_input.weights.get()"
   ]
  },
  {
   "cell_type": "markdown",
   "metadata": {},
   "source": [
    "### Record Internal Vars over time\n",
    "To record the evolution of the internal variables over time, we need a `Monitor`. For this example, we want to record the membrane potential of the `LIF` Layer, hence we need 1 `Monitors`.\n",
    "\n",
    "We can define the `Var` that a `Monitor` should record, as well as the recording duration, using the `probe` function"
   ]
  },
  {
   "cell_type": "code",
   "execution_count": 55,
   "metadata": {},
   "outputs": [],
   "source": [
    "from lava.proc.monitor.process import Monitor\n",
    "\n",
    "monitor_lif1_v = Monitor()\n",
    "monitor_lif1_u = Monitor()\n",
    "\n",
    "num_steps = 5000        # 26500     # TODO: Check the number of steps to run the simulation for\n",
    "\n",
    "# Connect the monitors to the variables we want to monitor\n",
    "monitor_lif1_v.probe(lif1.v, num_steps)\n",
    "monitor_lif1_u.probe(lif1.u, num_steps)"
   ]
  },
  {
   "cell_type": "markdown",
   "metadata": {},
   "source": [
    "## Execution\n",
    "Now that we have defined the network, we can execute it. We will use the `run` function to execute the network."
   ]
  },
  {
   "cell_type": "markdown",
   "metadata": {},
   "source": [
    "### Run Configuration and Conditions"
   ]
  },
  {
   "cell_type": "code",
   "execution_count": 56,
   "metadata": {},
   "outputs": [],
   "source": [
    "from lava.magma.core.run_conditions import RunContinuous, RunSteps\n",
    "from lava.magma.core.run_configs import Loihi1SimCfg\n",
    "\n",
    "# run_condition = RunContinuous()   # TODO: Change to this one\n",
    "run_condition = RunSteps(num_steps=num_steps)\n",
    "run_cfg = Loihi1SimCfg(select_tag=\"floating_pt\")   # TODO: Check why we need this select_tag=\"floating_pt\""
   ]
  },
  {
   "cell_type": "markdown",
   "metadata": {},
   "source": [
    "### Execute"
   ]
  },
  {
   "cell_type": "code",
   "execution_count": 57,
   "metadata": {},
   "outputs": [
    {
     "name": "stdout",
     "output_type": "stream",
     "text": [
      "sending spike event at time: 1428(428) last spike idx: 0 spike time: 1427.1\n",
      "sending spike event at time: 1431(431) last spike idx: 1 spike time: 1430.4\n",
      "sending spike event at time: 1434(434) last spike idx: 2 spike time: 1433.3\n",
      "sending spike event at time: 1463(463) last spike idx: 3 spike time: 1462.8\n",
      "sending spike event at time: 2792(1792) last spike idx: 4 spike time: 2791.1\n",
      "sending spike event at time: 2794(1794) last spike idx: 5 spike time: 2793.7000000000003\n",
      "sending spike event at time: 2795(1795) last spike idx: 6 spike time: 2794.2000000000003\n",
      "sending spike event at time: 2801(1801) last spike idx: 7 spike time: 2800.6\n",
      "sending spike event at time: 2875(1875) last spike idx: 8 spike time: 2874.1\n",
      "sending spike event at time: 2882(1882) last spike idx: 9 spike time: 2881.6\n",
      "sending spike event at time: 2885(1885) last spike idx: 10 spike time: 2884.8\n",
      "sending spike event at time: 2888(1888) last spike idx: 11 spike time: 2887.1\n",
      "sending spike event at time: 2897(1897) last spike idx: 12 spike time: 2896.9\n",
      "sending spike event at time: 2900(1900) last spike idx: 13 spike time: 2899.4\n",
      "sending spike event at time: 2902(1902) last spike idx: 14 spike time: 2902.0\n",
      "sending spike event at time: 4213(3213) last spike idx: 15 spike time: 4212.6\n",
      "sending spike event at time: 5000(4000) last spike idx: 16 spike time: 4999.3\n",
      "sending spike event at time: 5003(4003) last spike idx: 17 spike time: 5002.2\n",
      "sending spike event at time: 5004(4004) last spike idx: 18 spike time: 5003.900000000001\n",
      "sending spike event at time: 5008(4008) last spike idx: 19 spike time: 5007.8\n",
      "sending spike event at time: 5011(4011) last spike idx: 20 spike time: 5010.6\n",
      "sending spike event at time: 5013(4013) last spike idx: 21 spike time: 5013.0\n",
      "sending spike event at time: 5016(4016) last spike idx: 22 spike time: 5015.1\n",
      "sending spike event at time: 5017(4017) last spike idx: 23 spike time: 5016.6\n",
      "sending spike event at time: 5018(4018) last spike idx: 24 spike time: 5017.900000000001\n",
      "sending spike event at time: 5021(4021) last spike idx: 25 spike time: 5020.1\n",
      "sending spike event at time: 5027(4027) last spike idx: 26 spike time: 5026.7\n",
      "sending spike event at time: 5030(4030) last spike idx: 27 spike time: 5030.0\n",
      "sending spike event at time: 5888(4888) last spike idx: 28 spike time: 5887.5\n",
      "sending spike event at time: 5891(4891) last spike idx: 29 spike time: 5890.5\n",
      "sending spike event at time: 5899(4899) last spike idx: 30 spike time: 5898.900000000001\n",
      "sending spike event at time: 5902(4902) last spike idx: 31 spike time: 5901.2\n",
      "sending spike event at time: 5904(4904) last spike idx: 32 spike time: 5903.7\n",
      "sending spike event at time: 5905(4905) last spike idx: 33 spike time: 5904.6\n",
      "sending spike event at time: 5906(4906) last spike idx: 34 spike time: 5906.0\n",
      "sending spike event at time: 5908(4908) last spike idx: 35 spike time: 5908.0\n",
      "sending spike event at time: 5909(4909) last spike idx: 36 spike time: 5908.6\n",
      "sending spike event at time: 5911(4911) last spike idx: 37 spike time: 5910.3\n",
      "sending spike event at time: 5912(4912) last spike idx: 38 spike time: 5911.400000000001\n",
      "sending spike event at time: 5913(4913) last spike idx: 39 spike time: 5912.900000000001\n",
      "sending spike event at time: 5914(4914) last spike idx: 40 spike time: 5913.900000000001\n",
      "sending spike event at time: 5916(4916) last spike idx: 41 spike time: 5915.400000000001\n",
      "sending spike event at time: 5917(4917) last spike idx: 42 spike time: 5916.6\n",
      "sending spike event at time: 5918(4918) last spike idx: 43 spike time: 5918.0\n",
      "sending spike event at time: 5919(4919) last spike idx: 44 spike time: 5918.8\n",
      "sending spike event at time: 5922(4922) last spike idx: 46 spike time: 5921.5\n",
      "sending spike event at time: 5924(4924) last spike idx: 47 spike time: 5923.900000000001\n",
      "sending spike event at time: 5925(4925) last spike idx: 48 spike time: 5924.5\n",
      "sending spike event at time: 5927(4927) last spike idx: 50 spike time: 5926.900000000001\n",
      "sending spike event at time: 5929(4929) last spike idx: 51 spike time: 5928.8\n",
      "sending spike event at time: 5930(4930) last spike idx: 52 spike time: 5929.8\n",
      "sending spike event at time: 5932(4932) last spike idx: 53 spike time: 5931.6\n",
      "sending spike event at time: 5934(4934) last spike idx: 55 spike time: 5933.7\n",
      "sending spike event at time: 5936(4936) last spike idx: 56 spike time: 5935.8\n",
      "sending spike event at time: 5937(4937) last spike idx: 57 spike time: 5936.6\n",
      "sending spike event at time: 5939(4939) last spike idx: 58 spike time: 5938.1\n",
      "sending spike event at time: 5941(4941) last spike idx: 59 spike time: 5940.1\n",
      "sending spike event at time: 5944(4944) last spike idx: 60 spike time: 5943.400000000001\n",
      "sending spike event at time: 5946(4946) last spike idx: 61 spike time: 5945.5\n",
      "sending spike event at time: 5947(4947) last spike idx: 62 spike time: 5946.900000000001\n",
      "sending spike event at time: 5949(4949) last spike idx: 63 spike time: 5948.7\n",
      "sending spike event at time: 5953(4953) last spike idx: 64 spike time: 5952.8\n",
      "sending spike event at time: 5955(4955) last spike idx: 66 spike time: 5954.900000000001\n",
      "sending spike event at time: 5958(4958) last spike idx: 67 spike time: 5957.2\n",
      "sending spike event at time: 5960(4960) last spike idx: 68 spike time: 5959.6\n",
      "sending spike event at time: 5961(4961) last spike idx: 69 spike time: 5960.1\n",
      "sending spike event at time: 5963(4963) last spike idx: 70 spike time: 5962.1\n",
      "sending spike event at time: 5964(4964) last spike idx: 71 spike time: 5963.7\n",
      "sending spike event at time: 5965(4965) last spike idx: 72 spike time: 5964.3\n",
      "sending spike event at time: 5967(4967) last spike idx: 74 spike time: 5966.5\n",
      "sending spike event at time: 5969(4969) last spike idx: 75 spike time: 5968.6\n",
      "sending spike event at time: 5971(4971) last spike idx: 76 spike time: 5970.6\n",
      "sending spike event at time: 5972(4972) last spike idx: 77 spike time: 5971.3\n",
      "sending spike event at time: 5974(4974) last spike idx: 78 spike time: 5974.0\n",
      "sending spike event at time: 5975(4975) last spike idx: 79 spike time: 5974.6\n",
      "sending spike event at time: 5979(4979) last spike idx: 80 spike time: 5978.2\n",
      "sending spike event at time: 5989(4989) last spike idx: 81 spike time: 5988.7\n",
      "sending spike event at time: 5992(4992) last spike idx: 82 spike time: 5991.6\n",
      "sending spike event at time: 5994(4994) last spike idx: 83 spike time: 5993.7\n"
     ]
    }
   ],
   "source": [
    "lif1.run(condition=run_condition, run_cfg=run_cfg)"
   ]
  },
  {
   "cell_type": "markdown",
   "metadata": {},
   "source": [
    "### Retrieve recorded data"
   ]
  },
  {
   "cell_type": "code",
   "execution_count": 58,
   "metadata": {},
   "outputs": [],
   "source": [
    "data_lif1_v = monitor_lif1_v.get_data()\n",
    "data_lif1_u = monitor_lif1_u.get_data()\n",
    "\n",
    "data_lif1 = data_lif1_v.copy()\n",
    "data_lif1[\"lif1\"][\"u\"] = data_lif1_u[\"lif1\"][\"u\"]   # Merge the dictionaries to contain both voltage and current\n"
   ]
  },
  {
   "cell_type": "code",
   "execution_count": 59,
   "metadata": {},
   "outputs": [
    {
     "data": {
      "text/plain": [
       "{'lif1': {'v': array([[0.        , 0.        , 0.        , 0.        , 0.        ],\n",
       "         [0.        , 0.        , 0.        , 0.        , 0.        ],\n",
       "         [0.        , 0.        , 0.        , 0.        , 0.        ],\n",
       "         ...,\n",
       "         [3.51576512, 0.        , 0.        , 0.58568915, 0.        ],\n",
       "         [3.44395502, 0.        , 0.        , 0.52732052, 0.        ],\n",
       "         [3.29539601, 0.        , 0.        , 0.47472867, 0.        ]]),\n",
       "  'u': array([[0.00000000e+00, 0.00000000e+00, 0.00000000e+00, 0.00000000e+00,\n",
       "          0.00000000e+00],\n",
       "         [0.00000000e+00, 0.00000000e+00, 0.00000000e+00, 0.00000000e+00,\n",
       "          0.00000000e+00],\n",
       "         [0.00000000e+00, 0.00000000e+00, 0.00000000e+00, 0.00000000e+00,\n",
       "          0.00000000e+00],\n",
       "         ...,\n",
       "         [3.99666306e-01, 0.00000000e+00, 0.00000000e+00, 2.86121775e-04,\n",
       "          0.00000000e+00],\n",
       "         [2.79766414e-01, 0.00000000e+00, 0.00000000e+00, 2.00285242e-04,\n",
       "          0.00000000e+00],\n",
       "         [1.95836490e-01, 0.00000000e+00, 0.00000000e+00, 1.40199670e-04,\n",
       "          0.00000000e+00]])}}"
      ]
     },
     "execution_count": 59,
     "metadata": {},
     "output_type": "execute_result"
    }
   ],
   "source": [
    "data_lif1"
   ]
  },
  {
   "cell_type": "code",
   "execution_count": 60,
   "metadata": {},
   "outputs": [
    {
     "data": {
      "text/plain": [
       "5000"
      ]
     },
     "execution_count": 60,
     "metadata": {},
     "output_type": "execute_result"
    }
   ],
   "source": [
    "# Check the shape to verify if it is printing the voltage for every step\n",
    "len(data_lif1['lif1']['v'])     # Indeed, there are 300 values (same as the number of steps we ran the simulation for)"
   ]
  },
  {
   "cell_type": "markdown",
   "metadata": {},
   "source": [
    "### Plot the recorded data"
   ]
  },
  {
   "cell_type": "code",
   "execution_count": 61,
   "metadata": {},
   "outputs": [
    {
     "data": {
      "image/png": "[encoded data removed]",
      "text/plain": [
       "<Figure size 1600x500 with 2 Axes>"
      ]
     },
     "metadata": {},
     "output_type": "display_data"
    }
   ],
   "source": [
    "import matplotlib\n",
    "%matplotlib inline\n",
    "from matplotlib import pyplot as plt\n",
    "\n",
    "# Create a subplot for each monitored variable\n",
    "fig = plt.figure(figsize=(16, 5))\n",
    "ax0 = fig.add_subplot(121)\n",
    "ax0.set_title('Voltage (V) / time step')\n",
    "ax1 = fig.add_subplot(122)\n",
    "ax1.set_title('Current (U) / time step')\n",
    "\n",
    "# Plot the data\n",
    "monitor_lif1_v.plot(ax0, lif1.v)\n",
    "monitor_lif1_u.plot(ax1, lif1.u)\n"
   ]
  },
  {
   "cell_type": "markdown",
   "metadata": {},
   "source": [
    "## Find the timesteps where the network bursts occur"
   ]
  },
  {
   "cell_type": "code",
   "execution_count": 62,
   "metadata": {},
   "outputs": [
    {
     "name": "stdout",
     "output_type": "stream",
     "text": [
      "voltage_arr shape: (5000, 5)\n",
      "Spike times:  [433, 1795, 1884, 1890, 1900, 4007, 4012, 4016, 4020, 4028, 4893, 4902, 4905, 4909, 4913, 4917, 4921, 4925, 4928, 4932, 4936, 4942, 4946, 4952, 4957, 4962, 4966, 4970, 4974, 4980, 4992]\n"
     ]
    }
   ],
   "source": [
    "voltage_arr = np.array(data_lif1['lif1']['v'])\n",
    "print(\"voltage_arr shape:\", voltage_arr.shape)\n",
    "\n",
    "# Iterate the voltage array to find the spikes\n",
    "spike_times = []\n",
    "min_voltage_to_spike = v_th / 2\n",
    "for i in range(len(voltage_arr)):\n",
    "    # Only considering the voltage of the first neuron\n",
    "    if voltage_arr[i][0] == 0 and i > 0 and voltage_arr[i-1][0] > min_voltage_to_spike:   # Spike detected\n",
    "        spike_times.append(i)\n",
    "\n",
    "print(\"Spike times: \", spike_times)"
   ]
  },
  {
   "cell_type": "markdown",
   "metadata": {},
   "source": [
    "## Observations\n",
    "\n",
    "- Why is the membrane potential of the LIF neurons not reaching the threshold and firing anyway?\n",
    "  - Is it because it would spike in the next time step? I think that is the case. We can confirm this by using a very low current input and analyze the graph since it won't be as steep.\n"
   ]
  },
  {
   "cell_type": "markdown",
   "metadata": {},
   "source": [
    "## View the Voltage and Current dynamics with an interactive plot"
   ]
  },
  {
   "cell_type": "markdown",
   "metadata": {},
   "source": [
    "Grab the data from the recorded variables"
   ]
  },
  {
   "cell_type": "code",
   "execution_count": 73,
   "metadata": {},
   "outputs": [
    {
     "name": "stdout",
     "output_type": "stream",
     "text": [
      "v_ch0 shape: 5000\n",
      "voltage head:  [[0. 0. 0. 0. 0.]\n",
      " [0. 0. 0. 0. 0.]\n",
      " [0. 0. 0. 0. 0.]\n",
      " [0. 0. 0. 0. 0.]\n",
      " [0. 0. 0. 0. 0.]\n",
      " [0. 0. 0. 0. 0.]\n",
      " [0. 0. 0. 0. 0.]\n",
      " [0. 0. 0. 0. 0.]\n",
      " [0. 0. 0. 0. 0.]\n",
      " [0. 0. 0. 0. 0.]]\n"
     ]
    }
   ],
   "source": [
    "lif1_voltage_vals = data_lif1['lif1']['v']\n",
    "lif1_current_vals = data_lif1['lif1']['u']\n",
    "\n",
    "print(\"v_ch0 shape:\", len(lif1_voltage_vals))\n",
    "\n",
    "print(\"voltage head: \", lif1_voltage_vals[:10])\n",
    "\n",
    "# TODO: Make the graphs from these variables"
   ]
  },
  {
   "cell_type": "code",
   "execution_count": 79,
   "metadata": {},
   "outputs": [],
   "source": [
    "# Interactive Plot for the voltage and current\n",
    "# bokeh docs: https://docs.bokeh.org/en/2.4.1/docs/first_steps/first_steps_1.html\n",
    "import bokeh.plotting as bplt\n",
    "\n",
    "# Define the x and y values\n",
    "x = [val for val in range(num_steps)]\n",
    "\n",
    "y1 = [val[0] for val in lif1_voltage_vals]\n",
    "y2 = [val[1] for val in lif1_voltage_vals]\n",
    "y3 = [val[2] for val in lif1_voltage_vals]\n",
    "y4 = [val[3] for val in lif1_voltage_vals]\n",
    "\n",
    "# Create the plot\n",
    "p = bplt.figure(title=\"Voltage dynamics\", x_axis_label='time (ms)', y_axis_label='Voltage (V)')\n",
    "\n",
    "# Add a line graph to the plot\n",
    "p.line(x, y1, legend_label=\"Ch. 1\", line_width=2, line_color=\"green\")\n",
    "p.line(x, y2, legend_label=\"Ch. 2\", line_width=2, line_color=\"red\")\n",
    "p.line(x, y3, legend_label=\"Ch. 3\", line_width=2, line_color=\"blue\")\n",
    "p.line(x, y4, legend_label=\"Ch. 4\", line_width=2, line_color=\"orange\")\n",
    "\n",
    "\n",
    "\n",
    "# Show the plot\n",
    "bplt.show(p)\n"
   ]
  },
  {
   "cell_type": "markdown",
   "metadata": {},
   "source": [
    "## Stop the Runtime"
   ]
  },
  {
   "cell_type": "code",
   "execution_count": 63,
   "metadata": {},
   "outputs": [],
   "source": [
    "lif1.stop()"
   ]
  },
  {
   "cell_type": "code",
   "execution_count": null,
   "metadata": {},
   "outputs": [],
   "source": []
  }
 ],
 "metadata": {
  "kernelspec": {
   "display_name": "Python 3 (ipykernel)",
   "language": "python",
   "name": "python3"
  },
  "language_info": {
   "codemirror_mode": {
    "name": "ipython",
    "version": 3
   },
   "file_extension": ".py",
   "mimetype": "text/x-python",
   "name": "python",
   "nbconvert_exporter": "python",
   "pygments_lexer": "ipython3",
   "version": "3.10.12"
  }
 },
 "nbformat": 4,
 "nbformat_minor": 2
}
