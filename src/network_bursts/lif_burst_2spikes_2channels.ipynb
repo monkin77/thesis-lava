{
 "cells": [
  {
   "cell_type": "markdown",
   "metadata": {},
   "source": [
    "# SNN that detects Network bursts in a single channel\n",
    "This notebook is a simple example of how to use a Spiking Neural Network (SNN) to detect a network burst in 2 channels \n",
    "\n",
    "## Definition of a network burst\n",
    "A network burst is a sequence of spikes that occur in a short time window in a neural population. The definition of a network burst is not unique and depends on the context. \n",
    "\n",
    "In this notebook, we will **consider a channel burst a neuronal activity where 4 spikes occur within 20ms in the same channel**.\n",
    "\n",
    "In this notebook, we will **consider a network burst a neuronal activity where 2 channels spike within 20ms from each other**."
   ]
  },
  {
   "cell_type": "code",
   "execution_count": null,
   "metadata": {},
   "outputs": [
    {
     "ename": "",
     "evalue": "",
     "output_type": "error",
     "traceback": [
      "\u001b[1;31mCannot execute code, session has been disposed. Please try restarting the Kernel."
     ]
    },
    {
     "ename": "",
     "evalue": "",
     "output_type": "error",
     "traceback": [
      "\u001b[1;31mCannot execute code, session has been disposed. Please try restarting the Kernel. \n",
      "\u001b[1;31mView Jupyter <a href='command:jupyter.viewOutput'>log</a> for further details."
     ]
    }
   ],
   "source": [
    "from lava.proc.lif.process import LIF\n",
    "from lava.proc.dense.process import Dense\n",
    "import numpy as np\n",
    "\n",
    "LIF?"
   ]
  },
  {
   "cell_type": "markdown",
   "metadata": {},
   "source": [
    "## Create the Custom Input Layer\n",
    "\n",
    "### Define function to read the input data from the csv file and generate the corresponding spike events"
   ]
  },
  {
   "cell_type": "code",
   "execution_count": null,
   "metadata": {},
   "outputs": [],
   "source": [
    "import os\n",
    "import sys\n",
    "\n",
    "# Add the parent directory to the path so it detects the utils module\n",
    "module_path = os.path.abspath(os.path.join('..'))   \n",
    "if module_path not in sys.path:\n",
    "    sys.path.append(module_path)"
   ]
  },
  {
   "cell_type": "code",
   "execution_count": null,
   "metadata": {},
   "outputs": [],
   "source": [
    "import pandas as pd\n",
    "\n",
    "def read_spike_events(file_path: str):\n",
    "    \"\"\"Reads the spike events from the input file and returns them as a numpy array\n",
    "\n",
    "    Args:\n",
    "        file_path (str): name of the file containing the spike events\n",
    "    \"\"\"\n",
    "    spike_events = []\n",
    "\n",
    "    try:\n",
    "        # Read the spike events from the file\n",
    "        df = pd.read_csv(file_path, header=None)\n",
    "\n",
    "        # Detect errors\n",
    "        if df.empty:\n",
    "            raise Exception(\"The input file is empty\")\n",
    "\n",
    "        # Convert the scientific notation values to integers if any exist\n",
    "        df = df.applymap(lambda x: int(float(x)) if (isinstance(x, str) and 'e' in x) else x)\n",
    "\n",
    "        # Convert the dataframe to a numpy array\n",
    "        spike_events = df.to_numpy()\n",
    "        return spike_events[0]\n",
    "    except Exception as e:\n",
    "        print(\"Unable to read the input file: \", file_path, \" error:\", e)\n",
    "\n",
    "    return spike_events"
   ]
  },
  {
   "cell_type": "code",
   "execution_count": null,
   "metadata": {},
   "outputs": [
    {
     "name": "stdout",
     "output_type": "stream",
     "text": [
      "Spike events:  (3380, 2) [[3.0360e+02 7.0000e+00]\n",
      " [5.4090e+02 7.0000e+00]\n",
      " [7.8260e+02 7.0000e+00]\n",
      " [1.0638e+03 7.0000e+00]\n",
      " [1.4271e+03 1.0000e+00]\n",
      " [1.4304e+03 1.0000e+00]\n",
      " [1.4333e+03 1.0000e+00]\n",
      " [1.4347e+03 7.0000e+00]\n",
      " [1.4628e+03 1.0000e+00]\n",
      " [2.0500e+03 7.0000e+00]]\n"
     ]
    }
   ],
   "source": [
    "from utils.input import read_spike_events\n",
    "\n",
    "# Call the function to read the spike events\n",
    "file_path = \"../lab_data/lab_data_1-8channels.csv\"    # \"./data/custom_frequent_spikes.csv\"\n",
    "spike_events = read_spike_events(file_path)\n",
    "print(\"Spike events: \", spike_events.shape, spike_events[:10])"
   ]
  },
  {
   "cell_type": "markdown",
   "metadata": {},
   "source": [
    "### Define the SpikeEvent Generator Interface"
   ]
  },
  {
   "cell_type": "code",
   "execution_count": null,
   "metadata": {},
   "outputs": [],
   "source": [
    "from lava.magma.core.process.process import AbstractProcess\n",
    "from lava.magma.core.process.variable import Var\n",
    "from lava.magma.core.process.ports.ports import OutPort\n",
    "\n",
    "class SpikeEventGen(AbstractProcess):\n",
    "    \"\"\"Input Process that generates spike events based on the input file\n",
    "\n",
    "    Args:\n",
    "        shape (tuple): Shape of the output port\n",
    "        file_name (str): Name of the file containing the spike events\n",
    "    \"\"\"\n",
    "    def __init__(self, shape: tuple, spike_events: np.ndarray, name: str) -> None:\n",
    "        super().__init__(name=name)\n",
    "        self.s_out = OutPort(shape=shape)\n",
    "        self.spike_events = Var(shape=spike_events.shape, init=spike_events)"
   ]
  },
  {
   "cell_type": "markdown",
   "metadata": {},
   "source": [
    "## Define the Architecture of the Network"
   ]
  },
  {
   "cell_type": "code",
   "execution_count": null,
   "metadata": {},
   "outputs": [],
   "source": [
    "# Define the number of neurons in each LIF Layer\n",
    "n1 = 2   # 2 neurons in the first layer\n",
    "n2 = 1  # 1 neuron in the second layer"
   ]
  },
  {
   "cell_type": "markdown",
   "metadata": {},
   "source": [
    "## Choose the LIF Models to use"
   ]
  },
  {
   "cell_type": "code",
   "execution_count": null,
   "metadata": {},
   "outputs": [],
   "source": [
    "use_refractory = True"
   ]
  },
  {
   "cell_type": "markdown",
   "metadata": {},
   "source": [
    "### Create the LIF Processes"
   ]
  },
  {
   "cell_type": "code",
   "execution_count": null,
   "metadata": {},
   "outputs": [],
   "source": [
    "# Constants for the LIF Process\n",
    "v_th = 1\n",
    "v_init = 0\n",
    "dv = 0.1\n",
    "du = 0.2\n",
    "\n",
    "if not use_refractory:\n",
    "    # Create LIF1 process\n",
    "    lif1 = LIF(shape=(n1,),  # There are 2 neurons\n",
    "            vth=v_th,  # TODO: Verify these initial values\n",
    "            v=v_init,\n",
    "            dv=dv,    # Inverse of decay time-constant for voltage decay\n",
    "            du=du,  # Inverse of decay time-constant for current decay\n",
    "            bias_mant=0,\n",
    "            bias_exp=0,\n",
    "            name=\"lif1\")\n",
    "\n",
    "    # TODO: Check if we need to change the dynamics of the LIF2 process\n",
    "    # Create LIF2 process\n",
    "    lif2 = LIF(shape=(n2,),  # There is 1 neuron\n",
    "            vth=v_th,  # TODO: Verify these initial values\n",
    "            v=v_init,\n",
    "            dv=dv,    # Inverse of decay time-constant for voltage decay\n",
    "            du=du,  # Inverse of decay time-constant for current decay\n",
    "            bias_mant=0,\n",
    "            bias_exp=0,\n",
    "            name=\"lif2\")"
   ]
  },
  {
   "cell_type": "markdown",
   "metadata": {},
   "source": [
    "### Create the Refractory LIF Processes"
   ]
  },
  {
   "cell_type": "code",
   "execution_count": null,
   "metadata": {},
   "outputs": [],
   "source": [
    "from lava.proc.lif.process import LIFRefractory\n",
    "from lava.magma.core.process.process import LogConfig\n",
    "import logging\n",
    "\n",
    "# Constants for the LIF Process\n",
    "v_th = 1.0\n",
    "v_init = 0.0\n",
    "dv = 0.1\n",
    "du = 0.2\n",
    "refrac_period = 20   # Number of time-steps for the refractory period\n",
    "\n",
    "if use_refractory:\n",
    "    # Create Refractory LIF1 process\n",
    "    lif1 = LIFRefractory(shape=(n1,),  # There are 2 neurons\n",
    "            vth=v_th,  # TODO: Verify these initial values\n",
    "            v=v_init,\n",
    "            dv=dv,    # Inverse of decay time-constant for voltage decay\n",
    "            du=du,  # Inverse of decay time-constant for current decay\n",
    "            bias_mant=0,\n",
    "            bias_exp=0,\n",
    "            refractory_period=refrac_period,\n",
    "            name=\"lif1\",\n",
    "            # log_config=LogConfig(level=logging.DEBUG, level_console=logging.DEBUG, logs_to_file=False)\n",
    "            )\n",
    "\n",
    "    # TODO: Check if we need to change the dynamics of the LIF2 process\n",
    "    # Create Refractory LIF2 process\n",
    "    lif2 = LIFRefractory(shape=(n2,),  # There is 1 neuron\n",
    "            vth=v_th,  # TODO: Verify these initial values\n",
    "            v=v_init,\n",
    "            dv=dv,    # Inverse of decay time-constant for voltage decay\n",
    "            du=du,  # Inverse of decay time-constant for current decay\n",
    "            bias_mant=0,\n",
    "            bias_exp=0,\n",
    "            refractory_period=refrac_period,\n",
    "            name=\"lif2\")"
   ]
  },
  {
   "cell_type": "markdown",
   "metadata": {},
   "source": [
    "### Create the Dense Layers"
   ]
  },
  {
   "cell_type": "code",
   "execution_count": null,
   "metadata": {},
   "outputs": [],
   "source": [
    "# Create Dense Process to connect the input layer and LIF1\n",
    "# create weights of the dense layer\n",
    "dense_weights_input = np.eye(N=n1, M=n1)\n",
    "# multiply the weights of the Dense layer by a constant\n",
    "weights_scale_input = 0.1\n",
    "dense_weights_input *= weights_scale_input\n",
    "dense_input = Dense(weights=np.array(dense_weights_input), name=\"DenseInput\")\n",
    "\n",
    "\n",
    "# Create Dense Process to connect LIF1 and LIF2\n",
    "# create weights of the dense layer connecting LIF1 and LIF2\n",
    "dense_weights_middle = np.ones(shape=(n2, n1))\n",
    "# multiply the weights of the Dense layer by a constant\n",
    "weights_scale_middle = 0.25\n",
    "# dense_weights_middle *= weights_scale_input     # Multiply by the same constant as the input layer to keep the same dynamics as LIF1\n",
    "dense_weights_middle *= weights_scale_middle    # Multiply by a new constant to sum the inputs from all neurons in LIF1\n",
    "# Create Dense Process to connect the two LIF layers\n",
    "dense_middle = Dense(shape=(n1, n2),  # There are 2 neurons in the first layer and 1 in the second\n",
    "              weights=np.array(dense_weights_middle),  # TODO: Check these weights\n",
    "              name=\"Dense_LIF1-2\")"
   ]
  },
  {
   "cell_type": "markdown",
   "metadata": {},
   "source": [
    "### Map the input channels to the corresponding indexes in the input layer\n",
    "Since the input channels in the input file may be of any number, we need to **map the input channels to the corresponding indexes in the input layer**. This is done by the `channel_map` dictionary."
   ]
  },
  {
   "cell_type": "code",
   "execution_count": null,
   "metadata": {},
   "outputs": [],
   "source": [
    "# Map the channels of the input file to the respective index in the output list of SpikeEventGen\n",
    "# channel_map = {1: 0, 2: 1, 3: 2, 4: 3, 5: 4, 6: 5, 7: 6, 8: 7}\n",
    "channel_map = {1: 0, 4: 1}"
   ]
  },
  {
   "cell_type": "markdown",
   "metadata": {},
   "source": [
    "## Define constants related to the simulation time"
   ]
  },
  {
   "cell_type": "code",
   "execution_count": null,
   "metadata": {},
   "outputs": [],
   "source": [
    "init_offset = 20000      #   5800\n",
    "virtual_time_step_interval = 1\n",
    "\n",
    "num_steps = 15000    # 300 # Number of steps to run the simulation"
   ]
  },
  {
   "cell_type": "markdown",
   "metadata": {},
   "source": [
    "### Implement the `SpikeEventGenerator` Model"
   ]
  },
  {
   "cell_type": "code",
   "execution_count": null,
   "metadata": {},
   "outputs": [],
   "source": [
    "from lava.magma.core.model.py.model import PyLoihiProcessModel  # Processes running on CPU inherit from this class\n",
    "from lava.magma.core.resources import CPU\n",
    "from lava.magma.core.decorator import implements, requires\n",
    "from lava.magma.core.sync.protocols.loihi_protocol import LoihiProtocol\n",
    "from lava.magma.core.model.py.type import LavaPyType\n",
    "from lava.magma.core.model.py.ports import PyOutPort\n",
    "\n",
    "@implements(proc=SpikeEventGen, protocol=LoihiProtocol)\n",
    "@requires(CPU)\n",
    "class PySpikeEventGenModel(PyLoihiProcessModel):\n",
    "    \"\"\"Spike Event Generator Process implementation running on CPU (Python)\n",
    "    Args:\n",
    "    \"\"\"\n",
    "    s_out: PyOutPort = LavaPyType(PyOutPort.VEC_DENSE, float)   # IT IS POSSIBLE TO SEND FLOATS AFTER ALL\n",
    "    spike_events: np.ndarray = LavaPyType(np.ndarray, np.ndarray)   # TODO: Check if we should keep it as a numpy array, or transform it to a list\n",
    "\n",
    "    def __init__(self, proc_params) -> None:\n",
    "        super().__init__(proc_params=proc_params)\n",
    "        # print(\"spike events\", self.spike_events.__str__())    # TODO: Check why during initialization the variable prints the class, while during run it prints the value\n",
    "        self.curr_spike_idx = 0     # Index of the next spiking event to send\n",
    "        self.virtual_time_step_interval = virtual_time_step_interval  # 1000    # Arbitrary time between time steps (in microseconds). This is not a real time interval (1000ms = 1s)\n",
    "        self.init_offset = init_offset        # 698995               # Arbitrary offset to start the simulation (in microseconds)\n",
    "\n",
    "    def run_spk(self) -> None:\n",
    "        spike_data = np.zeros(self.s_out.shape) # Initialize the spike data to 0\n",
    "        \n",
    "        #print(\"time step:\", self.time_step)\n",
    "        # If the current simulation time is greater than the next spike event, send a spike\n",
    "        currTime = self.init_offset + self.time_step*self.virtual_time_step_interval\n",
    "\n",
    "        spiking_channels = set()   # List of channels that will spike at the same time\n",
    "        while (self.curr_spike_idx < len(self.spike_events)) and currTime >= self.spike_events[self.curr_spike_idx][0]:  # Check if there are more than 1 spike events to send\n",
    "            curr_channel = self.spike_events[self.curr_spike_idx][1]\n",
    "\n",
    "            # Check if the channel is valid (belongs to a channel in the channel_map therefore it has an output index)\n",
    "            if curr_channel not in channel_map:\n",
    "                self.curr_spike_idx += 1\n",
    "                continue    # Skip the current spike event\n",
    "\n",
    "            # Check if the next spike belongs to a channel that will already spike at the same time\n",
    "            if curr_channel in spiking_channels:    # If the channel is already spiking, we stop the spikes for this time step\n",
    "                break\n",
    "\n",
    "            # Add the channel to the list of spiking channels\n",
    "            spiking_channels.add(curr_channel)\n",
    "\n",
    "            # Send a spike\n",
    "            out_idx = channel_map[curr_channel]     # Map the channel to the output index\n",
    "            if out_idx < self.s_out.shape[0]:   # Check if the channel is valid\n",
    "                spike_data[out_idx] = 1.0   # Send a spike  (value corresponds to the punctual current of the spike event)\n",
    "\n",
    "            # Move to the next spike event\n",
    "            self.curr_spike_idx += 1\n",
    "\n",
    "        if len(spiking_channels) > 0:   # Print the spike event if there are any spikes\n",
    "            print(f\"sending spike event at time: {currTime}({self.time_step}) last spike idx: {self.curr_spike_idx-1} spike time: {self.spike_events[self.curr_spike_idx-1][0]}\")\n",
    "\n",
    "        # Send spikes\n",
    "        # print(\"sending spike_data: \", spike_data, \" at step: \", self.time_step)\n",
    "        self.s_out.send(spike_data)\n",
    "\n",
    "        # Stop the Process if there are no more spike events to send. (It will stop all the connected processes)\n",
    "        # TODO: Should it be another process that stops the simulation? Such as the last LIF process\n",
    "        # if self.curr_spike_idx >= 5: # len(self.spike_events):\n",
    "        #    self.pause()\n"
   ]
  },
  {
   "cell_type": "markdown",
   "metadata": {},
   "source": [
    "## Connect the Layers\n",
    "To define the connectivity between the `SpikeGenerator` and the first `LIF` population, we use another `Dense` Layer."
   ]
  },
  {
   "cell_type": "code",
   "execution_count": null,
   "metadata": {},
   "outputs": [],
   "source": [
    "# Create the Input Process\n",
    "spike_event_gen = SpikeEventGen(shape=(n1,), spike_events=spike_events, name=\"CustomInput\")\n",
    "\n",
    "# If I connect the SpikeEventGen to the Dense Layer, the a_out value of the custom input will be rounded to 0 or 1 in the Dense Layer (it will not be a float) \n",
    "# However, setting the Dense weights to a float works instead\n",
    "# Connect the SpikeEventGen to the Dense Layer\n",
    "spike_event_gen.s_out.connect(dense_input.s_in)\n",
    "\n",
    "# Connect the Dense_Input to the LIF1 Layer\n",
    "dense_input.a_out.connect(lif1.a_in)\n",
    "\n",
    "# Connect the LIF1 Layer to the Dense Layer\n",
    "lif1.s_out.connect(dense_middle.s_in)   # Connect the output of the first LIF layer to the Dense Layer\n",
    "# Connect the Dense Layer to the LIF2 Layer\n",
    "dense_middle.a_out.connect(lif2.a_in)   # Connect the output of the Dense Layer to the second LIF Layer"
   ]
  },
  {
   "cell_type": "markdown",
   "metadata": {},
   "source": [
    "### Take a look at the connections in the Input Layer"
   ]
  },
  {
   "cell_type": "code",
   "execution_count": null,
   "metadata": {},
   "outputs": [
    {
     "name": "stdout",
     "output_type": "stream",
     "text": [
      "Proc: CustomInput Port Name: s_out Size: 2\n",
      "Proc: DenseInput Port Name: s_in  Size: 2\n",
      "Proc: DenseInput Port Name: a_out Size: 2\n",
      "Proc: lif1  Port Name: a_in  Size: 2\n",
      "Proc: lif1  Port Name: s_out Size: 2\n",
      "Proc: Dense_LIF1-2 Port Name: s_in  Size: 2\n",
      "Proc: Dense_LIF1-2 Port Name: a_out Size: 1\n",
      "Proc: lif2  Port Name: a_in  Size: 1\n",
      "Proc: lif2  Port Name: s_out Size: 1\n"
     ]
    }
   ],
   "source": [
    "for proc in [spike_event_gen, dense_input, lif1, dense_middle, lif2]:\n",
    "    for port in proc.in_ports:\n",
    "        print(f\"Proc: {proc.name:<5} Port Name: {port.name:<5} Size: {port.size}\")\n",
    "    for port in proc.out_ports:\n",
    "        print(f\"Proc: {proc.name:<5} Port Name: {port.name:<5} Size: {port.size}\")"
   ]
  },
  {
   "cell_type": "markdown",
   "metadata": {},
   "source": [
    "### Look at the weights of the Dense Layers"
   ]
  },
  {
   "cell_type": "code",
   "execution_count": null,
   "metadata": {},
   "outputs": [
    {
     "data": {
      "text/plain": [
       "array([[0.1, 0. ],\n",
       "       [0. , 0.1]])"
      ]
     },
     "execution_count": 48,
     "metadata": {},
     "output_type": "execute_result"
    }
   ],
   "source": [
    "# Weights of the Input Dense Layer\n",
    "dense_input.weights.get()"
   ]
  },
  {
   "cell_type": "code",
   "execution_count": null,
   "metadata": {},
   "outputs": [
    {
     "data": {
      "text/plain": [
       "array([[0.25, 0.25]])"
      ]
     },
     "execution_count": 49,
     "metadata": {},
     "output_type": "execute_result"
    }
   ],
   "source": [
    "# Weights of the Dense Layer between LIF1 and LIF2\n",
    "dense_middle.weights.get()"
   ]
  },
  {
   "cell_type": "markdown",
   "metadata": {},
   "source": [
    "### Record Internal Vars over time\n",
    "To record the evolution of the internal variables over time, we need a `Monitor`. For this example, we want to record the membrane potential of the `LIF` Layer, hence we need 1 `Monitors`.\n",
    "\n",
    "We can define the `Var` that a `Monitor` should record, as well as the recording duration, using the `probe` function"
   ]
  },
  {
   "cell_type": "code",
   "execution_count": null,
   "metadata": {},
   "outputs": [],
   "source": [
    "from lava.proc.monitor.process import Monitor\n",
    "\n",
    "monitor_lif1_v = Monitor()\n",
    "monitor_lif1_u = Monitor()\n",
    "monitor_lif2_v = Monitor()\n",
    "monitor_lif2_u = Monitor()\n",
    "\n",
    "# Connect the monitors to the variables we want to monitor\n",
    "monitor_lif1_v.probe(lif1.v, num_steps)\n",
    "monitor_lif1_u.probe(lif1.u, num_steps)\n",
    "monitor_lif2_v.probe(lif2.v, num_steps)\n",
    "monitor_lif2_u.probe(lif2.u, num_steps)"
   ]
  },
  {
   "cell_type": "markdown",
   "metadata": {},
   "source": [
    "## Execution\n",
    "Now that we have defined the network, we can execute it. We will use the `run` function to execute the network."
   ]
  },
  {
   "cell_type": "markdown",
   "metadata": {},
   "source": [
    "### Run Configuration and Conditions"
   ]
  },
  {
   "cell_type": "code",
   "execution_count": null,
   "metadata": {},
   "outputs": [],
   "source": [
    "from lava.magma.core.run_conditions import RunContinuous, RunSteps\n",
    "from lava.magma.core.run_configs import Loihi1SimCfg\n",
    "\n",
    "# run_condition = RunContinuous()   # TODO: Change to this one\n",
    "run_condition = RunSteps(num_steps=num_steps)\n",
    "run_cfg = Loihi1SimCfg(select_tag=\"floating_pt\")   # TODO: Check why we need this select_tag=\"floating_pt\""
   ]
  },
  {
   "cell_type": "markdown",
   "metadata": {},
   "source": [
    "### Execute"
   ]
  },
  {
   "cell_type": "code",
   "execution_count": null,
   "metadata": {},
   "outputs": [
    {
     "name": "stdout",
     "output_type": "stream",
     "text": [
      "sending spike event at time: 20001(1) last spike idx: 4 spike time: 1427.1\n",
      "sending spike event at time: 20002(2) last spike idx: 5 spike time: 1430.4\n",
      "sending spike event at time: 20003(3) last spike idx: 7 spike time: 1434.7\n",
      "sending spike event at time: 20004(4) last spike idx: 11 spike time: 2286.2000000000003\n",
      "sending spike event at time: 20005(5) last spike idx: 12 spike time: 2791.1\n",
      "sending spike event at time: 20006(6) last spike idx: 15 spike time: 2794.2000000000003\n",
      "sending spike event at time: 20007(7) last spike idx: 16 spike time: 2800.6\n",
      "sending spike event at time: 20008(8) last spike idx: 17 spike time: 2874.1\n",
      "sending spike event at time: 20009(9) last spike idx: 19 spike time: 2884.5\n",
      "sending spike event at time: 20010(10) last spike idx: 21 spike time: 2886.3\n",
      "sending spike event at time: 20011(11) last spike idx: 22 spike time: 2887.1\n",
      "sending spike event at time: 20012(12) last spike idx: 23 spike time: 2896.9\n",
      "sending spike event at time: 20013(13) last spike idx: 24 spike time: 2899.4\n",
      "sending spike event at time: 20014(14) last spike idx: 30 spike time: 4206.7\n",
      "sending spike event at time: 20015(15) last spike idx: 34 spike time: 4911.0\n",
      "sending spike event at time: 20016(16) last spike idx: 36 spike time: 5002.2\n",
      "sending spike event at time: 20017(17) last spike idx: 39 spike time: 5007.1\n",
      "sending spike event at time: 20018(18) last spike idx: 40 spike time: 5007.8\n",
      "sending spike event at time: 20019(19) last spike idx: 41 spike time: 5010.6\n",
      "sending spike event at time: 20020(20) last spike idx: 43 spike time: 5014.5\n",
      "sending spike event at time: 20021(21) last spike idx: 46 spike time: 5016.6\n",
      "sending spike event at time: 20022(22) last spike idx: 48 spike time: 5018.5\n",
      "sending spike event at time: 20023(23) last spike idx: 49 spike time: 5020.1\n",
      "sending spike event at time: 20024(24) last spike idx: 50 spike time: 5026.7\n",
      "sending spike event at time: 20025(25) last spike idx: 52 spike time: 5510.900000000001\n",
      "sending spike event at time: 20026(26) last spike idx: 54 spike time: 5888.0\n",
      "sending spike event at time: 20027(27) last spike idx: 56 spike time: 5896.1\n",
      "sending spike event at time: 20028(28) last spike idx: 57 spike time: 5898.900000000001\n",
      "sending spike event at time: 20029(29) last spike idx: 58 spike time: 5901.2\n",
      "sending spike event at time: 20030(30) last spike idx: 61 spike time: 5905.1\n",
      "sending spike event at time: 20031(31) last spike idx: 64 spike time: 5908.0\n",
      "sending spike event at time: 20032(32) last spike idx: 67 spike time: 5910.3\n",
      "sending spike event at time: 20033(33) last spike idx: 70 spike time: 5913.3\n",
      "sending spike event at time: 20034(34) last spike idx: 72 spike time: 5915.400000000001\n",
      "sending spike event at time: 20035(35) last spike idx: 76 spike time: 5918.0\n",
      "sending spike event at time: 20036(36) last spike idx: 78 spike time: 5920.0\n",
      "sending spike event at time: 20037(37) last spike idx: 81 spike time: 5922.900000000001\n",
      "sending spike event at time: 20038(38) last spike idx: 84 spike time: 5925.7\n",
      "sending spike event at time: 20039(39) last spike idx: 87 spike time: 5928.1\n",
      "sending spike event at time: 20040(40) last spike idx: 90 spike time: 5930.3\n",
      "sending spike event at time: 20041(41) last spike idx: 92 spike time: 5933.5\n",
      "sending spike event at time: 20042(42) last spike idx: 94 spike time: 5935.8\n",
      "sending spike event at time: 20043(43) last spike idx: 97 spike time: 5938.1\n",
      "sending spike event at time: 20044(44) last spike idx: 99 spike time: 5941.1\n",
      "sending spike event at time: 20045(45) last spike idx: 101 spike time: 5944.1\n",
      "sending spike event at time: 20046(46) last spike idx: 104 spike time: 5946.900000000001\n",
      "sending spike event at time: 20047(47) last spike idx: 106 spike time: 5951.900000000001\n",
      "sending spike event at time: 20048(48) last spike idx: 108 spike time: 5954.6\n",
      "sending spike event at time: 20049(49) last spike idx: 109 spike time: 5954.900000000001\n",
      "sending spike event at time: 20050(50) last spike idx: 112 spike time: 5959.6\n",
      "sending spike event at time: 20051(51) last spike idx: 115 spike time: 5962.1\n",
      "sending spike event at time: 20052(52) last spike idx: 118 spike time: 5964.8\n",
      "sending spike event at time: 20053(53) last spike idx: 120 spike time: 5966.5\n",
      "sending spike event at time: 20054(54) last spike idx: 122 spike time: 5970.6\n",
      "sending spike event at time: 20055(55) last spike idx: 124 spike time: 5974.0\n",
      "sending spike event at time: 20056(56) last spike idx: 126 spike time: 5975.5\n",
      "sending spike event at time: 20057(57) last spike idx: 128 spike time: 5987.400000000001\n",
      "sending spike event at time: 20058(58) last spike idx: 129 spike time: 5988.7\n",
      "sending spike event at time: 20059(59) last spike idx: 130 spike time: 5991.6\n",
      "sending spike event at time: 20060(60) last spike idx: 131 spike time: 5993.7\n",
      "sending spike event at time: 20061(61) last spike idx: 132 spike time: 6001.1\n",
      "sending spike event at time: 20062(62) last spike idx: 134 spike time: 6009.5\n",
      "sending spike event at time: 20063(63) last spike idx: 137 spike time: 6014.400000000001\n",
      "sending spike event at time: 20064(64) last spike idx: 139 spike time: 6015.8\n",
      "sending spike event at time: 20065(65) last spike idx: 140 spike time: 6018.400000000001\n",
      "sending spike event at time: 20066(66) last spike idx: 141 spike time: 6020.7\n",
      "sending spike event at time: 20067(67) last spike idx: 142 spike time: 6033.3\n",
      "sending spike event at time: 20068(68) last spike idx: 143 spike time: 6964.400000000001\n",
      "sending spike event at time: 20069(69) last spike idx: 145 spike time: 9839.3\n",
      "sending spike event at time: 20070(70) last spike idx: 147 spike time: 9855.8\n",
      "sending spike event at time: 20071(71) last spike idx: 148 spike time: 10498.0\n",
      "sending spike event at time: 20072(72) last spike idx: 150 spike time: 10516.4\n",
      "sending spike event at time: 20073(73) last spike idx: 152 spike time: 10519.5\n",
      "sending spike event at time: 20074(74) last spike idx: 153 spike time: 10549.0\n",
      "sending spike event at time: 20075(75) last spike idx: 159 spike time: 13765.5\n",
      "sending spike event at time: 20076(76) last spike idx: 161 spike time: 13766.8\n",
      "sending spike event at time: 20077(77) last spike idx: 162 spike time: 13769.5\n",
      "sending spike event at time: 20078(78) last spike idx: 163 spike time: 13772.9\n",
      "sending spike event at time: 20079(79) last spike idx: 170 spike time: 15127.9\n",
      "sending spike event at time: 20080(80) last spike idx: 185 spike time: 18738.5\n",
      "sending spike event at time: 20081(81) last spike idx: 186 spike time: 18762.3\n",
      "sending spike event at time: 20082(82) last spike idx: 187 spike time: 18767.0\n",
      "sending spike event at time: 20083(83) last spike idx: 189 spike time: 18772.3\n",
      "sending spike event at time: 20084(84) last spike idx: 190 spike time: 18773.0\n",
      "sending spike event at time: 20085(85) last spike idx: 191 spike time: 18782.3\n",
      "sending spike event at time: 20086(86) last spike idx: 192 spike time: 18793.4\n",
      "sending spike event at time: 20087(87) last spike idx: 193 spike time: 18797.4\n",
      "sending spike event at time: 20088(88) last spike idx: 194 spike time: 18799.8\n",
      "sending spike event at time: 20089(89) last spike idx: 195 spike time: 18809.6\n",
      "sending spike event at time: 20090(90) last spike idx: 199 spike time: 19970.5\n"
     ]
    },
    {
     "name": "stdout",
     "output_type": "stream",
     "text": [
      "sending spike event at time: 20729(729) last spike idx: 202 spike time: 20728.9\n",
      "sending spike event at time: 20734(734) last spike idx: 204 spike time: 20733.1\n",
      "sending spike event at time: 20737(737) last spike idx: 205 spike time: 20736.3\n",
      "sending spike event at time: 20751(751) last spike idx: 206 spike time: 20750.1\n",
      "sending spike event at time: 20754(754) last spike idx: 207 spike time: 20753.6\n",
      "sending spike event at time: 20756(756) last spike idx: 208 spike time: 20755.9\n",
      "sending spike event at time: 20759(759) last spike idx: 212 spike time: 20758.4\n",
      "sending spike event at time: 22068(2068) last spike idx: 216 spike time: 22067.5\n",
      "sending spike event at time: 22071(2071) last spike idx: 217 spike time: 22070.4\n",
      "sending spike event at time: 22072(2072) last spike idx: 219 spike time: 22071.9\n",
      "sending spike event at time: 22073(2073) last spike idx: 220 spike time: 22072.8\n",
      "sending spike event at time: 22075(2075) last spike idx: 222 spike time: 22075.0\n",
      "sending spike event at time: 22078(2078) last spike idx: 224 spike time: 22077.2\n",
      "sending spike event at time: 22081(2081) last spike idx: 225 spike time: 22081.0\n",
      "sending spike event at time: 22084(2084) last spike idx: 227 spike time: 22083.5\n",
      "sending spike event at time: 22086(2086) last spike idx: 229 spike time: 22085.8\n",
      "sending spike event at time: 22088(2088) last spike idx: 230 spike time: 22087.9\n",
      "sending spike event at time: 22091(2091) last spike idx: 233 spike time: 22090.8\n",
      "sending spike event at time: 22095(2095) last spike idx: 234 spike time: 22094.4\n",
      "sending spike event at time: 22097(2097) last spike idx: 235 spike time: 22096.7\n",
      "sending spike event at time: 22099(2099) last spike idx: 236 spike time: 22098.9\n",
      "sending spike event at time: 22178(2178) last spike idx: 237 spike time: 22177.6\n",
      "sending spike event at time: 22180(2180) last spike idx: 239 spike time: 22179.6\n",
      "sending spike event at time: 22185(2185) last spike idx: 240 spike time: 22184.9\n",
      "sending spike event at time: 22189(2189) last spike idx: 241 spike time: 22188.1\n",
      "sending spike event at time: 22191(2191) last spike idx: 245 spike time: 22190.8\n",
      "sending spike event at time: 22193(2193) last spike idx: 246 spike time: 22192.4\n",
      "sending spike event at time: 22195(2195) last spike idx: 248 spike time: 22194.8\n",
      "sending spike event at time: 22197(2197) last spike idx: 249 spike time: 22197.0\n",
      "sending spike event at time: 22199(2199) last spike idx: 250 spike time: 22198.9\n",
      "sending spike event at time: 22201(2201) last spike idx: 252 spike time: 22200.4\n",
      "sending spike event at time: 22203(2203) last spike idx: 255 spike time: 22202.7\n",
      "sending spike event at time: 22206(2206) last spike idx: 257 spike time: 22205.3\n",
      "sending spike event at time: 22208(2208) last spike idx: 258 spike time: 22207.9\n",
      "sending spike event at time: 22213(2213) last spike idx: 261 spike time: 22212.4\n",
      "sending spike event at time: 22216(2216) last spike idx: 262 spike time: 22215.3\n",
      "sending spike event at time: 22218(2218) last spike idx: 263 spike time: 22217.9\n",
      "sending spike event at time: 22234(2234) last spike idx: 264 spike time: 22233.8\n",
      "sending spike event at time: 23335(3335) last spike idx: 267 spike time: 23334.2\n",
      "sending spike event at time: 23481(3481) last spike idx: 269 spike time: 23481.0\n",
      "sending spike event at time: 26726(6726) last spike idx: 277 spike time: 26725.7\n",
      "sending spike event at time: 26727(6727) last spike idx: 278 spike time: 26726.8\n",
      "sending spike event at time: 26729(6729) last spike idx: 280 spike time: 26728.9\n",
      "sending spike event at time: 26732(6732) last spike idx: 283 spike time: 26731.2\n",
      "sending spike event at time: 26735(6735) last spike idx: 284 spike time: 26734.9\n",
      "sending spike event at time: 26768(6768) last spike idx: 285 spike time: 26767.1\n",
      "sending spike event at time: 29601(9601) last spike idx: 295 spike time: 29601.0\n",
      "sending spike event at time: 29604(9604) last spike idx: 298 spike time: 29603.4\n",
      "sending spike event at time: 29606(9606) last spike idx: 301 spike time: 29605.5\n",
      "sending spike event at time: 29609(9609) last spike idx: 305 spike time: 29608.4\n",
      "sending spike event at time: 29611(9611) last spike idx: 306 spike time: 29610.8\n",
      "sending spike event at time: 29614(9614) last spike idx: 308 spike time: 29613.1\n",
      "sending spike event at time: 29616(9616) last spike idx: 310 spike time: 29615.5\n",
      "sending spike event at time: 29622(9622) last spike idx: 312 spike time: 29621.9\n",
      "sending spike event at time: 29625(9625) last spike idx: 315 spike time: 29624.2\n",
      "sending spike event at time: 29627(9627) last spike idx: 317 spike time: 29626.6\n",
      "sending spike event at time: 29634(9634) last spike idx: 318 spike time: 29633.8\n",
      "sending spike event at time: 30788(10788) last spike idx: 320 spike time: 30787.3\n",
      "sending spike event at time: 30790(10790) last spike idx: 321 spike time: 30789.7\n",
      "sending spike event at time: 30825(10825) last spike idx: 323 spike time: 30824.4\n",
      "sending spike event at time: 30828(10828) last spike idx: 324 spike time: 30827.8\n",
      "sending spike event at time: 30830(10830) last spike idx: 325 spike time: 30829.9\n",
      "sending spike event at time: 30832(10832) last spike idx: 327 spike time: 30832.0\n",
      "sending spike event at time: 30834(10834) last spike idx: 329 spike time: 30834.0\n",
      "sending spike event at time: 30838(10838) last spike idx: 330 spike time: 30837.5\n",
      "sending spike event at time: 30840(10840) last spike idx: 331 spike time: 30839.8\n",
      "sending spike event at time: 30843(10843) last spike idx: 332 spike time: 30842.1\n",
      "sending spike event at time: 30844(10844) last spike idx: 333 spike time: 30843.6\n",
      "sending spike event at time: 32355(12355) last spike idx: 337 spike time: 32355.0\n",
      "sending spike event at time: 32358(12358) last spike idx: 338 spike time: 32357.1\n",
      "sending spike event at time: 33292(13292) last spike idx: 340 spike time: 33291.4\n",
      "sending spike event at time: 33295(13295) last spike idx: 341 spike time: 33294.4\n",
      "sending spike event at time: 33405(13405) last spike idx: 344 spike time: 33405.0\n",
      "sending spike event at time: 33407(13407) last spike idx: 347 spike time: 33407.0\n",
      "sending spike event at time: 33409(13409) last spike idx: 350 spike time: 33408.8\n",
      "sending spike event at time: 33410(13410) last spike idx: 352 spike time: 33410.0\n",
      "sending spike event at time: 33413(13413) last spike idx: 354 spike time: 33412.6\n",
      "sending spike event at time: 33415(13415) last spike idx: 356 spike time: 33414.8\n",
      "sending spike event at time: 33418(13418) last spike idx: 358 spike time: 33418.0\n",
      "sending spike event at time: 33420(13420) last spike idx: 361 spike time: 33419.9\n",
      "sending spike event at time: 33421(13421) last spike idx: 362 spike time: 33420.6\n",
      "sending spike event at time: 33423(13423) last spike idx: 365 spike time: 33422.9\n",
      "sending spike event at time: 33426(13426) last spike idx: 367 spike time: 33425.7\n",
      "sending spike event at time: 33427(13427) last spike idx: 368 spike time: 33426.3\n",
      "sending spike event at time: 33429(13429) last spike idx: 369 spike time: 33428.2\n",
      "sending spike event at time: 33431(13431) last spike idx: 372 spike time: 33430.5\n",
      "sending spike event at time: 33433(13433) last spike idx: 374 spike time: 33432.7\n",
      "sending spike event at time: 33434(13434) last spike idx: 375 spike time: 33433.4\n",
      "sending spike event at time: 33435(13435) last spike idx: 377 spike time: 33434.9\n",
      "sending spike event at time: 33436(13436) last spike idx: 378 spike time: 33435.8\n",
      "sending spike event at time: 33439(13439) last spike idx: 380 spike time: 33438.3\n",
      "sending spike event at time: 33441(13441) last spike idx: 381 spike time: 33440.4\n",
      "sending spike event at time: 33442(13442) last spike idx: 382 spike time: 33441.6\n",
      "sending spike event at time: 33443(13443) last spike idx: 383 spike time: 33442.8\n",
      "sending spike event at time: 33444(13444) last spike idx: 384 spike time: 33443.8\n",
      "sending spike event at time: 33446(13446) last spike idx: 386 spike time: 33445.5\n",
      "sending spike event at time: 33447(13447) last spike idx: 387 spike time: 33446.5\n",
      "sending spike event at time: 33449(13449) last spike idx: 388 spike time: 33448.6\n",
      "sending spike event at time: 33450(13450) last spike idx: 389 spike time: 33449.8\n",
      "sending spike event at time: 33451(13451) last spike idx: 390 spike time: 33450.9\n",
      "sending spike event at time: 33453(13453) last spike idx: 391 spike time: 33452.8\n",
      "sending spike event at time: 33454(13454) last spike idx: 392 spike time: 33453.4\n",
      "sending spike event at time: 33456(13456) last spike idx: 394 spike time: 33455.6\n",
      "sending spike event at time: 33459(13459) last spike idx: 395 spike time: 33458.2\n",
      "sending spike event at time: 33460(13460) last spike idx: 396 spike time: 33459.2\n",
      "sending spike event at time: 33462(13462) last spike idx: 398 spike time: 33462.0\n",
      "sending spike event at time: 33465(13465) last spike idx: 401 spike time: 33464.9\n",
      "sending spike event at time: 33468(13468) last spike idx: 402 spike time: 33467.5\n",
      "sending spike event at time: 33471(13471) last spike idx: 404 spike time: 33470.2\n",
      "sending spike event at time: 33473(13473) last spike idx: 405 spike time: 33472.3\n",
      "sending spike event at time: 33476(13476) last spike idx: 407 spike time: 33475.2\n",
      "sending spike event at time: 33477(13477) last spike idx: 408 spike time: 33476.3\n",
      "sending spike event at time: 33479(13479) last spike idx: 410 spike time: 33479.0\n",
      "sending spike event at time: 33484(13484) last spike idx: 412 spike time: 33483.5\n",
      "sending spike event at time: 33487(13487) last spike idx: 413 spike time: 33486.2\n",
      "sending spike event at time: 33489(13489) last spike idx: 414 spike time: 33488.3\n",
      "sending spike event at time: 33490(13490) last spike idx: 415 spike time: 33489.9\n",
      "sending spike event at time: 33491(13491) last spike idx: 416 spike time: 33490.9\n",
      "sending spike event at time: 33502(13502) last spike idx: 417 spike time: 33501.4\n",
      "sending spike event at time: 33516(13516) last spike idx: 418 spike time: 33515.8\n",
      "sending spike event at time: 33519(13519) last spike idx: 419 spike time: 33518.6\n",
      "sending spike event at time: 33598(13598) last spike idx: 420 spike time: 33597.5\n",
      "sending spike event at time: 33652(13652) last spike idx: 421 spike time: 33652.0\n"
     ]
    }
   ],
   "source": [
    "lif1.run(condition=run_condition, run_cfg=run_cfg)"
   ]
  },
  {
   "cell_type": "code",
   "execution_count": null,
   "metadata": {},
   "outputs": [],
   "source": []
  },
  {
   "cell_type": "code",
   "execution_count": null,
   "metadata": {},
   "outputs": [],
   "source": []
  },
  {
   "cell_type": "markdown",
   "metadata": {},
   "source": [
    "### Retrieve recorded data"
   ]
  },
  {
   "cell_type": "code",
   "execution_count": null,
   "metadata": {},
   "outputs": [],
   "source": [
    "data_lif1_v = monitor_lif1_v.get_data()\n",
    "data_lif1_u = monitor_lif1_u.get_data()\n",
    "data_lif2_v = monitor_lif2_v.get_data()\n",
    "data_lif2_u = monitor_lif2_u.get_data()\n",
    "\n",
    "data_lif1 = data_lif1_v.copy()\n",
    "data_lif1[\"lif1\"][\"u\"] = data_lif1_u[\"lif1\"][\"u\"]   # Merge the dictionaries to contain both voltage and current\n",
    "\n",
    "data_lif2 = data_lif2_v.copy()\n",
    "data_lif2[\"lif2\"][\"u\"] = data_lif2_u[\"lif2\"][\"u\"]   # Merge the dictionaries to contain both voltage and current\n"
   ]
  },
  {
   "cell_type": "code",
   "execution_count": null,
   "metadata": {},
   "outputs": [
    {
     "data": {
      "text/plain": [
       "<lava.proc.lif.process.LIFRefractory at 0x7fc7b026acb0>"
      ]
     },
     "execution_count": 54,
     "metadata": {},
     "output_type": "execute_result"
    }
   ],
   "source": [
    "lif1"
   ]
  },
  {
   "cell_type": "code",
   "execution_count": null,
   "metadata": {},
   "outputs": [
    {
     "data": {
      "text/plain": [
       "{'lif2': {'v': array([[0.00000000e+00],\n",
       "         [0.00000000e+00],\n",
       "         [0.00000000e+00],\n",
       "         ...,\n",
       "         [4.86397824e-70],\n",
       "         [4.37758042e-70],\n",
       "         [3.93982237e-70]]),\n",
       "  'u': array([[0.00000000e+000],\n",
       "         [0.00000000e+000],\n",
       "         [0.00000000e+000],\n",
       "         ...,\n",
       "         [5.17565415e-149],\n",
       "         [4.14052332e-149],\n",
       "         [3.31241866e-149]])}}"
      ]
     },
     "execution_count": 55,
     "metadata": {},
     "output_type": "execute_result"
    }
   ],
   "source": [
    "data_lif2"
   ]
  },
  {
   "cell_type": "code",
   "execution_count": null,
   "metadata": {},
   "outputs": [
    {
     "name": "stdout",
     "output_type": "stream",
     "text": [
      "15000\n",
      "15000\n"
     ]
    }
   ],
   "source": [
    "# Check the shape to verify if it is printing the voltage for every step\n",
    "print(len(data_lif1['lif1']['v']))     # Indeed, there are 300 values (same as the number of steps we ran the simulation for)\n",
    "\n",
    "print(len(data_lif2['lif2']['v']))"
   ]
  },
  {
   "cell_type": "markdown",
   "metadata": {},
   "source": [
    "### Plot the recorded data"
   ]
  },
  {
   "cell_type": "code",
   "execution_count": null,
   "metadata": {},
   "outputs": [
    {
     "data": {
      "image/png": "[encoded data removed]",
      "text/plain": [
       "<Figure size 1600x1000 with 4 Axes>"
      ]
     },
     "metadata": {},
     "output_type": "display_data"
    }
   ],
   "source": [
    "import matplotlib\n",
    "%matplotlib inline\n",
    "from matplotlib import pyplot as plt\n",
    "\n",
    "# Create a subplot for each monitored variable\n",
    "fig = plt.figure(figsize=(16, 10))\n",
    "ax0 = fig.add_subplot(221)\n",
    "ax0.set_title('Voltage (V) / time step')\n",
    "ax1 = fig.add_subplot(222)\n",
    "ax1.set_title('Current (U) / time step')\n",
    "\n",
    "ax2 = fig.add_subplot(223)\n",
    "ax2.set_title('Voltage (V) / time step')\n",
    "ax3 = fig.add_subplot(224)\n",
    "ax3.set_title('Current (U) / time step')\n",
    "\n",
    "\n",
    "# Plot the data\n",
    "monitor_lif1_v.plot(ax0, lif1.v)\n",
    "monitor_lif1_u.plot(ax1, lif1.u)\n",
    "monitor_lif2_v.plot(ax2, lif2.v)\n",
    "monitor_lif2_u.plot(ax3, lif2.u)\n"
   ]
  },
  {
   "cell_type": "markdown",
   "metadata": {},
   "source": [
    "## Find the timesteps where the network bursts occur"
   ]
  },
  {
   "cell_type": "code",
   "execution_count": null,
   "metadata": {},
   "outputs": [
    {
     "name": "stdout",
     "output_type": "stream",
     "text": [
      "voltage arrays shapes: (15000, 2) (15000, 1)\n",
      "Spike times LIF1:  [6, 29, 33, 52, 56, 75, 759, 2078, 2194, 9611, 10838, 13415, 13423, 13443, 13453, 13472]\n",
      "Spike times LIF2:  [34, 60, 13425]\n"
     ]
    }
   ],
   "source": [
    "from utils.data_analysis import find_spike_times\n",
    "\n",
    "voltage_arr_1 = np.array(data_lif1['lif1']['v'])\n",
    "voltage_arr_2 = np.array(data_lif2['lif2']['v'])\n",
    "print(\"voltage arrays shapes:\", voltage_arr_1.shape, voltage_arr_2.shape)\n",
    "\n",
    "# Call the find_spike_times util function that detects the spikes in a voltage array\n",
    "spike_times_lif1 = find_spike_times(voltage_arr_1, v_th)\n",
    "spike_times_lif2 = find_spike_times(voltage_arr_2, v_th)\n",
    "\n",
    "\n",
    "print(\"Spike times LIF1: \", spike_times_lif1)\n",
    "print(\"Spike times LIF2: \", spike_times_lif2)"
   ]
  },
  {
   "cell_type": "markdown",
   "metadata": {},
   "source": [
    "## View the Voltage and Current dynamics with an interactive plot"
   ]
  },
  {
   "cell_type": "markdown",
   "metadata": {},
   "source": [
    "Grab the data from the recorded variables"
   ]
  },
  {
   "cell_type": "code",
   "execution_count": null,
   "metadata": {},
   "outputs": [
    {
     "name": "stdout",
     "output_type": "stream",
     "text": [
      "lif1 voltage shape: 15000\n",
      "lif2 voltage shape: 15000\n"
     ]
    }
   ],
   "source": [
    "# LIF1 variables\n",
    "lif1_voltage_vals = data_lif1['lif1']['v']\n",
    "lif1_current_vals = data_lif1['lif1']['u']\n",
    "\n",
    "print(\"lif1 voltage shape:\", len(lif1_voltage_vals))\n",
    "# print(\"voltage head: \", lif1_voltage_vals[:10])\n",
    "\n",
    "\n",
    "# LIF2 variables\n",
    "lif2_voltage_vals = data_lif2['lif2']['v']\n",
    "lif2_current_vals = data_lif2['lif2']['u']\n",
    "\n",
    "print(\"lif2 voltage shape:\", len(lif2_voltage_vals))"
   ]
  },
  {
   "cell_type": "markdown",
   "metadata": {},
   "source": [
    "## Assemble the values to be plotted"
   ]
  },
  {
   "cell_type": "code",
   "execution_count": null,
   "metadata": {},
   "outputs": [],
   "source": [
    "from utils.line_plot import create_fig  # Import the function to create the figure\n",
    "from bokeh.models import Range1d\n",
    "\n",
    "# Define the x and y values\n",
    "x = [val + init_offset for val in range(num_steps)]\n",
    "\n",
    "v_y1 = [val[0] for val in lif1_voltage_vals]\n",
    "v_y2 = [val[1] for val in lif1_voltage_vals]\n",
    "\n",
    "# Create the plot\n",
    "voltage_lif1_y_arrays = [(v_y1, \"Ch. 1\"), (v_y2, \"Ch. 4\")]    # List of tuples containing the y values and the legend label\n",
    "# Define the box annotation parameters\n",
    "box_annotation_voltage = {\n",
    "    \"bottom\": 0,\n",
    "    \"top\": v_th,\n",
    "    \"left\": 0,\n",
    "    \"right\": num_steps,\n",
    "    \"fill_alpha\": 0.03,\n",
    "    \"fill_color\": \"green\"\n",
    "}\n",
    "\n",
    "# Create the LIF1 Voltage\n",
    "voltage_lif1_plot = create_fig(\n",
    "    title=\"LIF1 Voltage dynamics\", \n",
    "    x_axis_label='time (ms)', \n",
    "    y_axis_label='Voltage (V)',\n",
    "    x=x, \n",
    "    y_arrays=voltage_lif1_y_arrays, \n",
    "    sizing_mode=\"stretch_both\", \n",
    "    tools=\"pan, box_zoom, wheel_zoom, hover, undo, redo, zoom_in, zoom_out, reset, save\",\n",
    "    tooltips=\"Data point @x: @y\",\n",
    "    legend_location=\"top_right\",\n",
    "    legend_bg_fill_color=\"navy\",\n",
    "    legend_bg_fill_alpha=0.1,\n",
    "    box_annotation_params=box_annotation_voltage,\n",
    "    y_range=Range1d(-0.05, 1.05)\n",
    ")\n",
    "\n",
    "\n",
    "# Create the LIF1 Current\n",
    "u_y1 = [val[0] for val in lif1_current_vals]\n",
    "u_y2 = [val[1] for val in lif1_current_vals]\n",
    "current_lif1_y_arrays = [(u_y1, \"Ch. 1\"), (u_y2, \"Ch. 4\")]    # List of tuples containing the y values and the legend label\n",
    "current_lif1_plot = create_fig(\n",
    "    title=\"LIF1 Current dynamics\", \n",
    "    x_axis_label='time (ms)', \n",
    "    y_axis_label='Current (U)',\n",
    "    x=x, \n",
    "    y_arrays=current_lif1_y_arrays, \n",
    "    sizing_mode=\"stretch_both\", \n",
    "    tools=\"pan, box_zoom, wheel_zoom, hover, undo, redo, zoom_in, zoom_out, reset, save\",\n",
    "    tooltips=\"Data point @x: @y\",\n",
    "    legend_location=\"top_right\",\n",
    "    legend_bg_fill_color=\"navy\",\n",
    "    legend_bg_fill_alpha=0.1,\n",
    "    x_range=voltage_lif1_plot.x_range,    # Link the x-axis range to the voltage plot\n",
    ")\n",
    "\n",
    "# bplt.show(voltage_lif1_plot)"
   ]
  },
  {
   "cell_type": "code",
   "execution_count": null,
   "metadata": {},
   "outputs": [],
   "source": [
    "v_y1 = [val[0] for val in lif2_voltage_vals]\n",
    "\n",
    "# Create the plot\n",
    "voltage_lif2_y_arrays = [(v_y1, \"Ch. 1\")]    # List of tuples containing the y values and the legend label\n",
    "# Define the box annotation parameters\n",
    "box_annotation_voltage = {\n",
    "    \"bottom\": 0,\n",
    "    \"top\": v_th,\n",
    "    \"left\": 0,\n",
    "    \"right\": num_steps,\n",
    "    \"fill_alpha\": 0.03,\n",
    "    \"fill_color\": \"green\"\n",
    "}\n",
    "\n",
    "# Create the LIF2 Voltage\n",
    "voltage_lif2_plot = create_fig(\n",
    "    title=\"LIF2 Voltage dynamics\", \n",
    "    x_axis_label='time (ms)', \n",
    "    y_axis_label='Voltage (V)',\n",
    "    x=x, \n",
    "    y_arrays=voltage_lif2_y_arrays, \n",
    "    sizing_mode=\"stretch_both\", \n",
    "    tools=\"pan, box_zoom, wheel_zoom, hover, undo, redo, zoom_in, zoom_out, reset, save\",\n",
    "    tooltips=\"Data point @x: @y\",\n",
    "    legend_location=\"top_right\",\n",
    "    legend_bg_fill_color=\"navy\",\n",
    "    legend_bg_fill_alpha=0.1,\n",
    "    box_annotation_params=box_annotation_voltage,\n",
    "    y_range=Range1d(-0.05, 1.05),\n",
    "    x_range=voltage_lif1_plot.x_range,    # Link the x-axis range to the voltage plot\n",
    ")\n",
    "\n",
    "\n",
    "# Create the LIF2 Current\n",
    "u_y1 = [val[0] for val in lif2_current_vals]\n",
    "current_lif2_y_arrays = [(u_y1, \"Output\")]    # List of tuples containing the y values and the legend label\n",
    "current_lif2_plot = create_fig(\n",
    "    title=\"LIF2 Current dynamics\", \n",
    "    x_axis_label='time (ms)', \n",
    "    y_axis_label='Current (U)',\n",
    "    x=x, \n",
    "    y_arrays=current_lif2_y_arrays, \n",
    "    sizing_mode=\"stretch_both\", \n",
    "    tools=\"pan, box_zoom, wheel_zoom, hover, undo, redo, zoom_in, zoom_out, reset, save\",\n",
    "    tooltips=\"Data point @x: @y\",\n",
    "    legend_location=\"top_right\",\n",
    "    legend_bg_fill_color=\"navy\",\n",
    "    legend_bg_fill_alpha=0.1,\n",
    "    x_range=voltage_lif1_plot.x_range,    # Link the x-axis range to the voltage plot\n",
    ")\n",
    "\n",
    "# bplt.show(voltage_lif1_plot)"
   ]
  },
  {
   "cell_type": "markdown",
   "metadata": {},
   "source": [
    "## Show the Plots assembled in a grid"
   ]
  },
  {
   "cell_type": "code",
   "execution_count": null,
   "metadata": {},
   "outputs": [],
   "source": [
    "import bokeh.plotting as bplt\n",
    "from bokeh.layouts import gridplot\n",
    "\n",
    "showPlot = True\n",
    "if showPlot:\n",
    "    # Create array of plots to be shown\n",
    "    plots = [voltage_lif1_plot, current_lif1_plot, voltage_lif2_plot, current_lif2_plot]\n",
    "\n",
    "    if len(plots) == 1:\n",
    "        grid = plots[0]\n",
    "    else:   # Create a grid layout\n",
    "        grid = gridplot(plots, ncols=2, sizing_mode=\"stretch_both\")\n",
    "\n",
    "    # Show the plot\n",
    "    bplt.show(grid)"
   ]
  },
  {
   "cell_type": "markdown",
   "metadata": {},
   "source": [
    "## Export the plot to a file"
   ]
  },
  {
   "cell_type": "code",
   "execution_count": null,
   "metadata": {},
   "outputs": [],
   "source": [
    "export = False\n",
    "\n",
    "if export:\n",
    "    file_path = \"./results/lab_net_burst_ch1and4_2spikes_20ms_20refrac_0.25w_1_0_0.1_0.2.html\"\n",
    "\n",
    "    # Customize the output file settings\n",
    "    bplt.output_file(filename=file_path, title=\"Channel Burst detection - LIF1 Voltage and Current dynamics\")\n",
    "\n",
    "    # Save the plot\n",
    "    bplt.save(grid)"
   ]
  },
  {
   "cell_type": "markdown",
   "metadata": {},
   "source": [
    "## Stop the Runtime"
   ]
  },
  {
   "cell_type": "code",
   "execution_count": null,
   "metadata": {},
   "outputs": [],
   "source": [
    "lif1.stop()"
   ]
  },
  {
   "cell_type": "code",
   "execution_count": null,
   "metadata": {},
   "outputs": [],
   "source": []
  }
 ],
 "metadata": {
  "kernelspec": {
   "display_name": "Python 3 (ipykernel)",
   "language": "python",
   "name": "python3"
  }
 },
 "nbformat": 4,
 "nbformat_minor": 2
}
