{
 "cells": [
  {
   "cell_type": "markdown",
   "metadata": {},
   "source": [
    "# SNN that detects Network bursts in a single channel\n",
    "This notebook is a simple example of how to use a Spiking Neural Network (SNN) to detect network bursts in a single channel. \n",
    "\n",
    "## Definition of a network burst\n",
    "A network burst is a sequence of spikes that occur in a short time window. The definition of a network burst is not unique and depends on the context. \n",
    "\n",
    "In this notebook, we will **consider a network burst any sequence of 4 or more spikes that occurs within 20 ms**"
   ]
  },
  {
   "cell_type": "code",
   "execution_count": 41,
   "metadata": {},
   "outputs": [
    {
     "name": "stdout",
     "output_type": "stream",
     "text": [
      "\u001b[0;31mInit signature:\u001b[0m \u001b[0mLIF\u001b[0m\u001b[0;34m(\u001b[0m\u001b[0;34m*\u001b[0m\u001b[0margs\u001b[0m\u001b[0;34m,\u001b[0m \u001b[0;34m**\u001b[0m\u001b[0mkwargs\u001b[0m\u001b[0;34m)\u001b[0m\u001b[0;34m\u001b[0m\u001b[0;34m\u001b[0m\u001b[0m\n",
      "\u001b[0;31mDocstring:\u001b[0m     \n",
      "Leaky-Integrate-and-Fire (LIF) neural Process.\n",
      "\n",
      "LIF dynamics abstracts to:\n",
      "u[t] = u[t-1] * (1-du) + a_in         # neuron current\n",
      "v[t] = v[t-1] * (1-dv) + u[t] + bias  # neuron voltage\n",
      "s_out = v[t] > vth                    # spike if threshold is exceeded\n",
      "v[t] = 0                              # reset at spike\n",
      "\n",
      "Parameters\n",
      "----------\n",
      "shape : tuple(int)\n",
      "    Number and topology of LIF neurons.\n",
      "u : float, list, numpy.ndarray, optional\n",
      "    Initial value of the neurons' current.\n",
      "v : float, list, numpy.ndarray, optional\n",
      "    Initial value of the neurons' voltage (membrane potential).\n",
      "du : float, optional\n",
      "    Inverse of decay time-constant for current decay. Currently, only a\n",
      "    single decay can be set for the entire population of neurons.\n",
      "dv : float, optional\n",
      "    Inverse of decay time-constant for voltage decay. Currently, only a\n",
      "    single decay can be set for the entire population of neurons.\n",
      "bias_mant : float, list, numpy.ndarray, optional\n",
      "    Mantissa part of neuron bias.\n",
      "bias_exp : float, list, numpy.ndarray, optional\n",
      "    Exponent part of neuron bias, if needed. Mostly for fixed point\n",
      "    implementations. Ignored for floating point implementations.\n",
      "vth : float, optional\n",
      "    Neuron threshold voltage, exceeding which, the neuron will spike.\n",
      "    Currently, only a single threshold can be set for the entire\n",
      "    population of neurons.\n",
      "\n",
      "Example\n",
      "-------\n",
      ">>> lif = LIF(shape=(200, 15), du=10, dv=5)\n",
      "This will create 200x15 LIF neurons that all have the same current decay\n",
      "of 10 and voltage decay of 5.\n",
      "\u001b[0;31mInit docstring:\u001b[0m Initializes a new Process.\n",
      "\u001b[0;31mFile:\u001b[0m           ~/Desktop/feup/thesis/thesis-lava/src/lava/proc/lif/process.py\n",
      "\u001b[0;31mType:\u001b[0m           ProcessPostInitCaller\n",
      "\u001b[0;31mSubclasses:\u001b[0m     LIFReset, LIFRefractory"
     ]
    }
   ],
   "source": [
    "from lava.proc.lif.process import LIF\n",
    "from lava.proc.dense.process import Dense\n",
    "\n",
    "LIF?"
   ]
  },
  {
   "cell_type": "code",
   "execution_count": 42,
   "metadata": {},
   "outputs": [],
   "source": [
    "# Define the number of neurons in each LIF Layer\n",
    "n1 = 2   # Let's create a simple program with only 1 LIF layer"
   ]
  },
  {
   "cell_type": "code",
   "execution_count": 43,
   "metadata": {},
   "outputs": [],
   "source": [
    "import numpy as np\n",
    "\n",
    "v_th = 6\n",
    "v_init = 0\n",
    "dv = 0.14\n",
    "du = 0.3\n",
    "\n",
    "# Create Processes\n",
    "lif1 = LIF(shape=(n1,),  # There are 2 neurons\n",
    "           vth=v_th,  # TODO: Verify these initial values\n",
    "           v=v_init,\n",
    "           dv=dv,    # Inverse of decay time-constant for voltage decay\n",
    "           du=du,  # Inverse of decay time-constant for current decay\n",
    "           bias_mant=0,\n",
    "           bias_exp=0,\n",
    "           name=\"lif1\")"
   ]
  },
  {
   "cell_type": "code",
   "execution_count": 44,
   "metadata": {},
   "outputs": [
    {
     "name": "stdout",
     "output_type": "stream",
     "text": [
      "Proc: lif1  Port Name: a_in  Size: 2\n",
      "Proc: lif1  Port Name: s_out Size: 2\n"
     ]
    }
   ],
   "source": [
    "for proc in [lif1]:\n",
    "    for port in proc.in_ports:\n",
    "        print(f\"Proc: {proc.name:<5} Port Name: {port.name:<5} Size: {port.size}\")\n",
    "    for port in proc.out_ports:\n",
    "        print(f\"Proc: {proc.name:<5} Port Name: {port.name:<5} Size: {port.size}\")"
   ]
  },
  {
   "cell_type": "markdown",
   "metadata": {},
   "source": [
    "## Create the Custom Input Layer\n",
    "\n",
    "### Define function to read the input data from the csv file and generate the corresponding spike events"
   ]
  },
  {
   "cell_type": "code",
   "execution_count": 45,
   "metadata": {},
   "outputs": [],
   "source": [
    "import pandas as pd\n",
    "\n",
    "def read_spike_events(file_path: str):\n",
    "    \"\"\"Reads the spike events from the input file and returns them as a numpy array\n",
    "\n",
    "    Args:\n",
    "        file_path (str): name of the file containing the spike events\n",
    "    \"\"\"\n",
    "    spike_events = []\n",
    "\n",
    "    try:\n",
    "        # Read the spike events from the file\n",
    "        df = pd.read_csv(file_path, header=None)\n",
    "\n",
    "        # Detect errors\n",
    "        if df.empty:\n",
    "            raise Exception(\"The input file is empty\")\n",
    "\n",
    "        # Convert the scientific notation values to integers if any exist\n",
    "        df = df.applymap(lambda x: int(float(x)) if (isinstance(x, str) and 'e' in x) else x)\n",
    "\n",
    "        # Convert the dataframe to a numpy array\n",
    "        spike_events = df.to_numpy()\n",
    "        return spike_events[0]\n",
    "    except Exception as e:\n",
    "        print(\"Unable to read the input file: \", file_path, \" error:\", e)\n",
    "\n",
    "    return spike_events"
   ]
  },
  {
   "cell_type": "code",
   "execution_count": 46,
   "metadata": {},
   "outputs": [
    {
     "name": "stdout",
     "output_type": "stream",
     "text": [
      "Spike events:  (14,) [ 5 26 27 50 51 51 53 75 98 99]\n"
     ]
    }
   ],
   "source": [
    "# Call the function to read the spike events\n",
    "file_path = \"./data/custom_activations_burst2.csv\"\n",
    "spike_events = read_spike_events(file_path)\n",
    "print(\"Spike events: \", spike_events.shape, spike_events[:10])"
   ]
  },
  {
   "cell_type": "markdown",
   "metadata": {},
   "source": [
    "### Define the SpikeEvent Generator Interface"
   ]
  },
  {
   "cell_type": "code",
   "execution_count": 47,
   "metadata": {},
   "outputs": [],
   "source": [
    "from lava.magma.core.process.process import AbstractProcess\n",
    "from lava.magma.core.process.variable import Var\n",
    "from lava.magma.core.process.ports.ports import OutPort\n",
    "\n",
    "class SpikeEventGen(AbstractProcess):\n",
    "    \"\"\"Input Process that generates spike events based on the input file\n",
    "\n",
    "    Args:\n",
    "        shape (tuple): Shape of the output port\n",
    "        file_name (str): Name of the file containing the spike events\n",
    "    \"\"\"\n",
    "    def __init__(self, shape: tuple, spike_events: np.ndarray, name: str) -> None:\n",
    "        super().__init__(name=name)\n",
    "        self.s_out = OutPort(shape=shape)\n",
    "        self.spike_events = Var(shape=spike_events.shape, init=spike_events)"
   ]
  },
  {
   "cell_type": "markdown",
   "metadata": {},
   "source": [
    "### Implement the `SpikeEventGenerator` Model"
   ]
  },
  {
   "cell_type": "code",
   "execution_count": 48,
   "metadata": {},
   "outputs": [],
   "source": [
    "from lava.magma.core.model.py.model import PyLoihiProcessModel  # Processes running on CPU inherit from this class\n",
    "from lava.magma.core.resources import CPU\n",
    "from lava.magma.core.decorator import implements, requires\n",
    "from lava.magma.core.sync.protocols.loihi_protocol import LoihiProtocol\n",
    "from lava.magma.core.model.py.type import LavaPyType\n",
    "from lava.magma.core.model.py.ports import PyOutPort\n",
    "\n",
    "@implements(proc=SpikeEventGen, protocol=LoihiProtocol)\n",
    "@requires(CPU)\n",
    "class PySpikeEventGenModel(PyLoihiProcessModel):\n",
    "    \"\"\"Spike Event Generator Process implementation running on CPU (Python)\n",
    "    Args:\n",
    "    \"\"\"\n",
    "    s_out: PyOutPort = LavaPyType(PyOutPort.VEC_DENSE, float)   # IT IS POSSIBLE TO SEND FLOATS AFTER ALL\n",
    "    spike_events: np.ndarray = LavaPyType(np.ndarray, np.ndarray)   # TODO: Check if we should keep it as a numpy array, or transform it to a list\n",
    "\n",
    "    def __init__(self, proc_params) -> None:\n",
    "        super().__init__(proc_params=proc_params)\n",
    "        # print(\"spike events\", self.spike_events.__str__())    # TODO: Check why during initialization the variable prints the class, while during run it prints the value\n",
    "        self.curr_spike_idx = 0     # Index of the next spiking event to send\n",
    "        self.virtual_time_step_interval = 1  # 1000    # Arbitrary time between time steps (in microseconds). This is not a real time interval (1000ms = 1s)\n",
    "        self.init_offset = 0        # 698995               # Arbitrary offset to start the simulation (in microseconds)\n",
    "\n",
    "    def run_spk(self) -> None:\n",
    "        spike_data = np.zeros(self.s_out.shape) # Initialize the spike data to 0\n",
    "        \n",
    "        # Use random spikes to test it\n",
    "        # spike_data[0] = np.random.random()  # Only 1 neuron is sending data (spikes)\n",
    "        # self.curr_spike_idx += 1\n",
    "\n",
    "        # Use the spike events from the file\n",
    "        # print(\"spike events: \", self.spike_events[:5])\n",
    "        # TODO: For now we are using the time_step as the time measurement that will simulate real-time activity. It would be better to have access to the running time\n",
    "        \n",
    "        #print(\"time step:\", self.time_step)\n",
    "        # If the current simulation time is greater than the next spike event, send a spike\n",
    "        currTime = self.init_offset + self.time_step*self.virtual_time_step_interval\n",
    "        if ( self.curr_spike_idx < len(self.spike_events) ) and currTime >= self.spike_events[self.curr_spike_idx]:\n",
    "            spike_data[0] = 1.0   # Send a spike  (value corresponds to the punctual current of the spike event?)\n",
    "            spike_data[1] = 0.0   # Send a spike  (value corresponds to the punctual current of the spike event?)\n",
    "            print(f\"sending spike event at time: {currTime}({self.time_step}) spike idx: {self.curr_spike_idx} spike time: {self.spike_events[self.curr_spike_idx]}\")\n",
    "            self.curr_spike_idx += 1\n",
    "\n",
    "        # Send spikes\n",
    "        print(\"sending spike_data: \", spike_data, \" at step: \", self.time_step)\n",
    "        self.s_out.send(spike_data)\n",
    "\n",
    "        # Stop the Process if there are no more spike events to send. (It will stop all the connected processes)\n",
    "        # TODO: Should it be another process that stops the simulation? Such as the last LIF process\n",
    "        # if self.curr_spike_idx >= 5: # len(self.spike_events):\n",
    "        #    self.pause()\n"
   ]
  },
  {
   "cell_type": "markdown",
   "metadata": {},
   "source": [
    "## Connect the Custom Input Layer to the middle layer\n",
    "\n",
    "To define the connectivity between the `SpikeGenerator` and the first `LIF` population, we use another `Dense` Layer."
   ]
  },
  {
   "cell_type": "code",
   "execution_count": 49,
   "metadata": {},
   "outputs": [],
   "source": [
    "# Create the Input Process\n",
    "spike_event_gen = SpikeEventGen(shape=(n1,), spike_events=spike_events, name=\"CustomInput\")\n",
    "\n",
    "# Instantiante a Dense Layer to connect the SpikeEventGen to the middle layer\n",
    "# dense_input = Dense(weights=np.eye(n1), name=\"DenseInput\")     # 1-1 connectivity with the Middle Layer (should be a 2x2 matrix right now)\n",
    "dense_input = Dense(weights=np.array([[1.0, 0], [0, 1.0]]), name=\"DenseInput\")\n",
    "\n",
    "\n",
    "# If I connect the SpikeEventGen to the Dense Layer, the a_out value of the custom input will be rounded to 0 or 1 in the Dense Layer (it will not be a float) \n",
    "# Connect the SpikeEventGen to the Dense Layer\n",
    "# spike_event_gen.s_out.connect(dense_input.s_in)\n",
    "\n",
    "# Connect the Dense_Input to the LIF1 Layer\n",
    "# dense_input.a_out.connect(lif1.a_in)\n",
    "\n",
    "# Connect the SpikeEventGen layer directly to the LIF1 layer\n",
    "spike_event_gen.s_out.connect(lif1.a_in)"
   ]
  },
  {
   "cell_type": "markdown",
   "metadata": {},
   "source": [
    "### Take a look at the connections in the Input Layer"
   ]
  },
  {
   "cell_type": "code",
   "execution_count": 50,
   "metadata": {},
   "outputs": [
    {
     "name": "stdout",
     "output_type": "stream",
     "text": [
      "Proc: CustomInput Port Name: s_out Size: 2\n",
      "Proc: DenseInput Port Name: s_in  Size: 2\n",
      "Proc: DenseInput Port Name: a_out Size: 2\n",
      "Proc: lif1  Port Name: a_in  Size: 2\n",
      "Proc: lif1  Port Name: s_out Size: 2\n"
     ]
    }
   ],
   "source": [
    "for proc in [spike_event_gen, dense_input, lif1]:\n",
    "    for port in proc.in_ports:\n",
    "        print(f\"Proc: {proc.name:<5} Port Name: {port.name:<5} Size: {port.size}\")\n",
    "    for port in proc.out_ports:\n",
    "        print(f\"Proc: {proc.name:<5} Port Name: {port.name:<5} Size: {port.size}\")"
   ]
  },
  {
   "cell_type": "code",
   "execution_count": 51,
   "metadata": {},
   "outputs": [
    {
     "data": {
      "text/plain": [
       "array([[1., 0.],\n",
       "       [0., 1.]])"
      ]
     },
     "execution_count": 51,
     "metadata": {},
     "output_type": "execute_result"
    }
   ],
   "source": [
    "# Weights of the Input Dense Layer\n",
    "dense_input.weights.get()"
   ]
  },
  {
   "cell_type": "markdown",
   "metadata": {},
   "source": [
    "### Record Internal Vars over time\n",
    "To record the evolution of the internal variables over time, we need a `Monitor`. For this example, we want to record the membrane potential of the `LIF` Layer, hence we need 1 `Monitors`.\n",
    "\n",
    "We can define the `Var` that a `Monitor` should record, as well as the recording duration, using the `probe` function"
   ]
  },
  {
   "cell_type": "code",
   "execution_count": 52,
   "metadata": {},
   "outputs": [],
   "source": [
    "from lava.proc.monitor.process import Monitor\n",
    "\n",
    "monitor_lif1_v = Monitor()\n",
    "monitor_lif1_u = Monitor()\n",
    "\n",
    "num_steps = 150        # 26500     # TODO: Check the number of steps to run the simulation for\n",
    "\n",
    "# Connect the monitors to the variables we want to monitor\n",
    "monitor_lif1_v.probe(lif1.v, num_steps)\n",
    "monitor_lif1_u.probe(lif1.u, num_steps)"
   ]
  },
  {
   "cell_type": "markdown",
   "metadata": {},
   "source": [
    "## Execution\n",
    "Now that we have defined the network, we can execute it. We will use the `run` function to execute the network."
   ]
  },
  {
   "cell_type": "markdown",
   "metadata": {},
   "source": [
    "### Run Configuration and Conditions"
   ]
  },
  {
   "cell_type": "code",
   "execution_count": 53,
   "metadata": {},
   "outputs": [],
   "source": [
    "from lava.magma.core.run_conditions import RunContinuous, RunSteps\n",
    "from lava.magma.core.run_configs import Loihi1SimCfg\n",
    "\n",
    "# run_condition = RunContinuous()   # TODO: Change to this one\n",
    "run_condition = RunSteps(num_steps=num_steps)\n",
    "run_cfg = Loihi1SimCfg(select_tag=\"floating_pt\")   # TODO: Check why we need this select_tag=\"floating_pt\""
   ]
  },
  {
   "cell_type": "markdown",
   "metadata": {},
   "source": [
    "### Execute"
   ]
  },
  {
   "cell_type": "code",
   "execution_count": 54,
   "metadata": {},
   "outputs": [
    {
     "name": "stdout",
     "output_type": "stream",
     "text": [
      "sending spike_data:  [0. 0.]  at step:  1\n",
      "sending spike_data:  [0. 0.]  at step:  2\n",
      "sending spike_data:  [0. 0.]  at step:  3\n",
      "sending spike_data:  [0. 0.]  at step:  4\n",
      "sending spike event at time: 5(5) spike idx: 0 spike time: 5\n",
      "sending spike_data:  [1. 0.]  at step:  5\n",
      "sending spike_data:  [0. 0.]  at step:  6\n",
      "sending spike_data:  [0. 0.]  at step:  7\n",
      "sending spike_data:  [0. 0.]  at step:  8\n",
      "sending spike_data:  [0. 0.]  at step:  9\n",
      "sending spike_data:  [0. 0.]  at step:  10\n",
      "sending spike_data:  [0. 0.]  at step:  11\n",
      "sending spike_data:  [0. 0.]  at step:  12\n",
      "sending spike_data:  [0. 0.]  at step:  13\n",
      "sending spike_data:  [0. 0.]  at step:  14\n",
      "sending spike_data:  [0. 0.]  at step:  15\n",
      "sending spike_data:  [0. 0.]  at step:  16\n",
      "sending spike_data:  [0. 0.]  at step:  17\n",
      "sending spike_data:  [0. 0.]  at step:  18\n",
      "sending spike_data:  [0. 0.]  at step:  19\n",
      "sending spike_data:  [0. 0.]  at step:  20\n",
      "sending spike_data:  [0. 0.]  at step:  21\n",
      "sending spike_data:  [0. 0.]  at step:  22\n",
      "sending spike_data:  [0. 0.]  at step:  23\n",
      "sending spike_data:  [0. 0.]  at step:  24\n",
      "sending spike_data:  [0. 0.]  at step:  25\n",
      "sending spike event at time: 26(26) spike idx: 1 spike time: 26\n",
      "sending spike_data:  [1. 0.]  at step:  26\n",
      "sending spike event at time: 27(27) spike idx: 2 spike time: 27\n",
      "sending spike_data:  [1. 0.]  at step:  27\n",
      "sending spike_data:  [0. 0.]  at step:  28\n",
      "sending spike_data:  [0. 0.]  at step:  29\n",
      "sending spike_data:  [0. 0.]  at step:  30\n",
      "sending spike_data:  [0. 0.]  at step:  31\n",
      "sending spike_data:  [0. 0.]  at step:  32\n",
      "sending spike_data:  [0. 0.]  at step:  33\n",
      "sending spike_data:  [0. 0.]  at step:  34\n",
      "sending spike_data:  [0. 0.]  at step:  35\n",
      "sending spike_data:  [0. 0.]  at step:  36\n",
      "sending spike_data:  [0. 0.]  at step:  37\n",
      "sending spike_data:  [0. 0.]  at step:  38\n",
      "sending spike_data:  [0. 0.]  at step:  39\n",
      "sending spike_data:  [0. 0.]  at step:  40\n",
      "sending spike_data:  [0. 0.]  at step:  41\n",
      "sending spike_data:  [0. 0.]  at step:  42\n",
      "sending spike_data:  [0. 0.]  at step:  43\n",
      "sending spike_data:  [0. 0.]  at step:  44\n",
      "sending spike_data:  [0. 0.]  at step:  45\n",
      "sending spike_data:  [0. 0.]  at step:  46\n",
      "sending spike_data:  [0. 0.]  at step:  47\n",
      "sending spike_data:  [0. 0.]  at step:  48\n",
      "sending spike_data:  [0. 0.]  at step:  49\n",
      "sending spike event at time: 50(50) spike idx: 3 spike time: 50\n",
      "sending spike_data:  [1. 0.]  at step:  50\n",
      "sending spike event at time: 51(51) spike idx: 4 spike time: 51\n",
      "sending spike_data:  [1. 0.]  at step:  51\n",
      "sending spike event at time: 52(52) spike idx: 5 spike time: 51\n",
      "sending spike_data:  [1. 0.]  at step:  52\n",
      "sending spike event at time: 53(53) spike idx: 6 spike time: 53\n",
      "sending spike_data:  [1. 0.]  at step:  53\n",
      "sending spike_data:  [0. 0.]  at step:  54\n",
      "sending spike_data:  [0. 0.]  at step:  55\n",
      "sending spike_data:  [0. 0.]  at step:  56\n",
      "sending spike_data:  [0. 0.]  at step:  57\n",
      "sending spike_data:  [0. 0.]  at step:  58\n",
      "sending spike_data:  [0. 0.]  at step:  59\n",
      "sending spike_data:  [0. 0.]  at step:  60\n",
      "sending spike_data:  [0. 0.]  at step:  61\n",
      "sending spike_data:  [0. 0.]  at step:  62\n",
      "sending spike_data:  [0. 0.]  at step:  63\n",
      "sending spike_data:  [0. 0.]  at step:  64\n",
      "sending spike_data:  [0. 0.]  at step:  65\n",
      "sending spike_data:  [0. 0.]  at step:  66\n",
      "sending spike_data:  [0. 0.]  at step:  67\n",
      "sending spike_data:  [0. 0.]  at step:  68\n",
      "sending spike_data:  [0. 0.]  at step:  69\n",
      "sending spike_data:  [0. 0.]  at step:  70\n",
      "sending spike_data:  [0. 0.]  at step:  71\n",
      "sending spike_data:  [0. 0.]  at step:  72\n",
      "sending spike_data:  [0. 0.]  at step:  73\n",
      "sending spike_data:  [0. 0.]  at step:  74\n",
      "sending spike event at time: 75(75) spike idx: 7 spike time: 75\n",
      "sending spike_data:  [1. 0.]  at step:  75\n",
      "sending spike_data:  [0. 0.]  at step:  76\n",
      "sending spike_data:  [0. 0.]  at step:  77\n",
      "sending spike_data:  [0. 0.]  at step:  78\n",
      "sending spike_data:  [0. 0.]  at step:  79\n",
      "sending spike_data:  [0. 0.]  at step:  80\n",
      "sending spike_data:  [0. 0.]  at step:  81\n",
      "sending spike_data:  [0. 0.]  at step:  82\n",
      "sending spike_data:  [0. 0.]  at step:  83\n",
      "sending spike_data:  [0. 0.]  at step:  84\n",
      "sending spike_data:  [0. 0.]  at step:  85\n",
      "sending spike_data:  [0. 0.]  at step:  86\n",
      "sending spike_data:  [0. 0.]  at step:  87\n",
      "sending spike_data:  [0. 0.]  at step:  88\n",
      "sending spike_data:  [0. 0.]  at step:  89\n",
      "sending spike_data:  [0. 0.]  at step:  90\n",
      "sending spike_data:  [0. 0.]  at step:  91\n",
      "sending spike_data:  [0. 0.]  at step:  92\n",
      "sending spike_data:  [0. 0.]  at step:  93\n",
      "sending spike_data:  [0. 0.]  at step:  94\n",
      "sending spike_data:  [0. 0.]  at step:  95\n",
      "sending spike_data:  [0. 0.]  at step:  96\n",
      "sending spike_data:  [0. 0.]  at step:  97\n",
      "sending spike event at time: 98(98) spike idx: 8 spike time: 98\n",
      "sending spike_data:  [1. 0.]  at step:  98\n",
      "sending spike event at time: 99(99) spike idx: 9 spike time: 99\n",
      "sending spike_data:  [1. 0.]  at step:  99\n",
      "sending spike event at time: 100(100) spike idx: 10 spike time: 100\n",
      "sending spike_data:  [1. 0.]  at step:  100\n",
      "sending spike event at time: 101(101) spike idx: 11 spike time: 100\n",
      "sending spike_data:  [1. 0.]  at step:  101\n",
      "sending spike event at time: 102(102) spike idx: 12 spike time: 100\n",
      "sending spike_data:  [1. 0.]  at step:  102\n",
      "sending spike_data:  [0. 0.]  at step:  103\n",
      "sending spike_data:  [0. 0.]  at step:  104\n",
      "sending spike_data:  [0. 0.]  at step:  105\n",
      "sending spike_data:  [0. 0.]  at step:  106\n",
      "sending spike_data:  [0. 0.]  at step:  107\n",
      "sending spike_data:  [0. 0.]  at step:  108\n",
      "sending spike_data:  [0. 0.]  at step:  109\n",
      "sending spike_data:  [0. 0.]  at step:  110\n",
      "sending spike_data:  [0. 0.]  at step:  111\n",
      "sending spike_data:  [0. 0.]  at step:  112\n",
      "sending spike_data:  [0. 0.]  at step:  113\n",
      "sending spike_data:  [0. 0.]  at step:  114\n",
      "sending spike_data:  [0. 0.]  at step:  115\n",
      "sending spike_data:  [0. 0.]  at step:  116\n",
      "sending spike_data:  [0. 0.]  at step:  117\n",
      "sending spike_data:  [0. 0.]  at step:  118\n",
      "sending spike_data:  [0. 0.]  at step:  119\n",
      "sending spike_data:  [0. 0.]  at step:  120\n",
      "sending spike_data:  [0. 0.]  at step:  121\n",
      "sending spike_data:  [0. 0.]  at step:  122\n",
      "sending spike_data:  [0. 0.]  at step:  123\n",
      "sending spike_data:  [0. 0.]  at step:  124\n",
      "sending spike_data:  [0. 0.]  at step:  125\n",
      "sending spike_data:  [0. 0.]  at step:  126\n",
      "sending spike_data:  [0. 0.]  at step:  127\n",
      "sending spike_data:  [0. 0.]  at step:  128\n",
      "sending spike_data:  [0. 0.]  at step:  129\n",
      "sending spike event at time: 130(130) spike idx: 13 spike time: 130\n",
      "sending spike_data:  [1. 0.]  at step:  130\n",
      "sending spike_data:  [0. 0.]  at step:  131\n",
      "sending spike_data:  [0. 0.]  at step:  132\n",
      "sending spike_data:  [0. 0.]  at step:  133\n",
      "sending spike_data:  [0. 0.]  at step:  134\n",
      "sending spike_data:  [0. 0.]  at step:  135\n",
      "sending spike_data:  [0. 0.]  at step:  136\n",
      "sending spike_data:  [0. 0.]  at step:  137\n",
      "sending spike_data:  [0. 0.]  at step:  138\n",
      "sending spike_data:  [0. 0.]  at step:  139\n",
      "sending spike_data:  [0. 0.]  at step:  140\n",
      "sending spike_data:  [0. 0.]  at step:  141\n",
      "sending spike_data:  [0. 0.]  at step:  142\n",
      "sending spike_data:  [0. 0.]  at step:  143\n",
      "sending spike_data:  [0. 0.]  at step:  144\n",
      "sending spike_data:  [0. 0.]  at step:  145\n",
      "sending spike_data:  [0. 0.]  at step:  146\n",
      "sending spike_data:  [0. 0.]  at step:  147\n",
      "sending spike_data:  [0. 0.]  at step:  148\n",
      "sending spike_data:  [0. 0.]  at step:  149\n",
      "sending spike_data:  [0. 0.]  at step:  150\n"
     ]
    }
   ],
   "source": [
    "lif1.run(condition=run_condition, run_cfg=run_cfg)"
   ]
  },
  {
   "cell_type": "markdown",
   "metadata": {},
   "source": [
    "### Retrieve recorded data"
   ]
  },
  {
   "cell_type": "code",
   "execution_count": 55,
   "metadata": {},
   "outputs": [],
   "source": [
    "data_lif1_v = monitor_lif1_v.get_data()\n",
    "data_lif1_u = monitor_lif1_u.get_data()\n",
    "\n",
    "data_lif1 = data_lif1_v.copy()\n",
    "data_lif1[\"lif1\"][\"u\"] = data_lif1_u[\"lif1\"][\"u\"]   # Merge the dictionaries to contain both voltage and current\n"
   ]
  },
  {
   "cell_type": "code",
   "execution_count": 56,
   "metadata": {},
   "outputs": [
    {
     "data": {
      "text/plain": [
       "{'lif1': {'v': array([[0.        , 0.        ],\n",
       "         [0.        , 0.        ],\n",
       "         [0.        , 0.        ],\n",
       "         [0.        , 0.        ],\n",
       "         [1.        , 0.        ],\n",
       "         [1.56      , 0.        ],\n",
       "         [1.8316    , 0.        ],\n",
       "         [1.918176  , 0.        ],\n",
       "         [1.88973136, 0.        ],\n",
       "         [1.79323897, 0.        ],\n",
       "         [1.65983451, 0.        ],\n",
       "         [1.50981198, 0.        ],\n",
       "         [1.35608631, 0.        ],\n",
       "         [1.20658784, 0.        ],\n",
       "         [1.06591307, 0.        ],\n",
       "         [0.9364585 , 0.        ],\n",
       "         [0.8191956 , 0.        ],\n",
       "         [0.71419712, 0.        ],\n",
       "         [0.62099175, 0.        ],\n",
       "         [0.53880047, 0.        ],\n",
       "         [0.4666917 , 0.        ],\n",
       "         [0.40368116, 0.        ],\n",
       "         [0.34879421, 0.        ],\n",
       "         [0.30110291, 0.        ],\n",
       "         [0.25974643, 0.        ],\n",
       "         [1.22394047, 0.        ],\n",
       "         [2.75297979, 0.        ],\n",
       "         [3.55783631, 0.        ],\n",
       "         [3.89293081, 0.        ],\n",
       "         [3.9311546 , 0.        ],\n",
       "         [3.78905683, 0.        ],\n",
       "         [3.54437359, 0.        ],\n",
       "         [3.24821058, 0.        ],\n",
       "         [2.93349561, 0.        ],\n",
       "         [2.62083038, 0.        ],\n",
       "         [2.32253104, 0.        ],\n",
       "         [2.04540853, 0.        ],\n",
       "         [1.79267362, 0.        ],\n",
       "         [1.56523491, 0.        ],\n",
       "         [1.36257695, 0.        ],\n",
       "         [1.18334862, 0.        ],\n",
       "         [1.02575252, 0.        ],\n",
       "         [0.88779807, 0.        ],\n",
       "         [0.76746197, 0.        ],\n",
       "         [0.66278623, 0.        ],\n",
       "         [0.57193442, 0.        ],\n",
       "         [0.49322038, 0.        ],\n",
       "         [0.42511927, 0.        ],\n",
       "         [0.3662674 , 0.        ],\n",
       "         [1.31545534, 0.        ],\n",
       "         [2.83161735, 0.        ],\n",
       "         [4.62541896, 0.        ],\n",
       "         [0.        , 0.        ],\n",
       "         [1.77321174, 0.        ],\n",
       "         [2.76621031, 0.        ],\n",
       "         [3.24781462, 0.        ],\n",
       "         [3.4013322 , 0.        ],\n",
       "         [3.35089383, 0.        ],\n",
       "         [3.17979239, 0.        ],\n",
       "         [2.94323804, 0.        ],\n",
       "         [2.67721633, 0.        ],\n",
       "         [2.40462817, 0.        ],\n",
       "         [2.13953571, 0.        ],\n",
       "         [1.89008956, 0.        ],\n",
       "         [1.66053921, 0.        ],\n",
       "         [1.45260725, 0.        ],\n",
       "         [1.26642271, 0.        ],\n",
       "         [1.10114986, 0.        ],\n",
       "         [0.95540731, 0.        ],\n",
       "         [0.82754319, 0.        ],\n",
       "         [0.71581218, 0.        ],\n",
       "         [0.61848599, 0.        ],\n",
       "         [0.53391922, 0.        ],\n",
       "         [0.46058542, 0.        ],\n",
       "         [1.39709388, 0.        ],\n",
       "         [1.90219403, 0.        ],\n",
       "         [2.12637217, 0.        ],\n",
       "         [2.17201978, 0.        ],\n",
       "         [2.10827481, 0.        ],\n",
       "         [1.9813528 , 0.        ],\n",
       "         [1.82172893, 0.        ],\n",
       "         [1.64912274, 0.        ],\n",
       "         [1.47595066, 0.        ],\n",
       "         [1.30971115, 0.        ],\n",
       "         [1.15462709, 0.        ],\n",
       "         [1.01277215, 0.        ],\n",
       "         [0.88483904, 0.        ],\n",
       "         [0.77066007, 0.        ],\n",
       "         [0.66955661, 0.        ],\n",
       "         [0.58057095, 0.        ],\n",
       "         [0.5026176 , 0.        ],\n",
       "         [0.43457975, 0.        ],\n",
       "         [0.37536861, 0.        ],\n",
       "         [0.32395802, 0.        ],\n",
       "         [0.27940261, 0.        ],\n",
       "         [0.24084534, 0.        ],\n",
       "         [0.20751837, 0.        ],\n",
       "         [1.17873975, 0.        ],\n",
       "         [2.71390796, 0.        ],\n",
       "         [4.52409508, 0.        ],\n",
       "         [0.        , 0.        ],\n",
       "         [2.77316578, 0.        ],\n",
       "         [4.32613861, 0.        ],\n",
       "         [5.07933044, 0.        ],\n",
       "         [5.31942004, 0.        ],\n",
       "         [5.24053834, 0.        ],\n",
       "         [4.97294894, 0.        ],\n",
       "         [4.60299627, 0.        ],\n",
       "         [4.18695892, 0.        ],\n",
       "         [3.76065216, 0.        ],\n",
       "         [3.3460681 , 0.        ],\n",
       "         [2.95595363, 0.        ],\n",
       "         [2.59695467, 0.        ],\n",
       "         [2.2717652 , 0.        ],\n",
       "         [1.980587  , 0.        ],\n",
       "         [1.72211307, 0.        ],\n",
       "         [1.49418302, 0.        ],\n",
       "         [1.29421344, 0.        ],\n",
       "         [1.11947479, 0.        ],\n",
       "         [0.96726418, 0.        ],\n",
       "         [0.8350083 , 0.        ],\n",
       "         [0.72031991, 0.        ],\n",
       "         [0.62102406, 0.        ],\n",
       "         [0.53516495, 0.        ],\n",
       "         [0.46100084, 0.        ],\n",
       "         [0.39699201, 0.        ],\n",
       "         [0.34178503, 0.        ],\n",
       "         [0.29419545, 0.        ],\n",
       "         [0.25319032, 0.        ],\n",
       "         [1.21787124, 0.        ],\n",
       "         [1.74745856, 0.        ],\n",
       "         [1.99287686, 0.        ],\n",
       "         [2.05691786, 0.        ],\n",
       "         [2.00907999, 0.        ],\n",
       "         [1.89590023, 0.        ],\n",
       "         [1.7481382 , 0.        ],\n",
       "         [1.58576366, 0.        ],\n",
       "         [1.42141211, 0.        ],\n",
       "         [1.26277317, 0.        ],\n",
       "         [1.11423605, 0.        ],\n",
       "         [0.9780188 , 0.        ],\n",
       "         [0.85493922, 0.        ],\n",
       "         [0.74493786, 0.        ],\n",
       "         [0.64742966, 0.        ],\n",
       "         [0.56153767, 0.        ],\n",
       "         [0.48624612, 0.        ],\n",
       "         [0.42049826, 0.        ],\n",
       "         [0.36325713, 0.        ],\n",
       "         [0.31354116, 0.        ],\n",
       "         [0.27044343, 0.        ]]),\n",
       "  'u': array([[0.00000000e+00, 0.00000000e+00],\n",
       "         [0.00000000e+00, 0.00000000e+00],\n",
       "         [0.00000000e+00, 0.00000000e+00],\n",
       "         [0.00000000e+00, 0.00000000e+00],\n",
       "         [1.00000000e+00, 0.00000000e+00],\n",
       "         [7.00000000e-01, 0.00000000e+00],\n",
       "         [4.90000000e-01, 0.00000000e+00],\n",
       "         [3.43000000e-01, 0.00000000e+00],\n",
       "         [2.40100000e-01, 0.00000000e+00],\n",
       "         [1.68070000e-01, 0.00000000e+00],\n",
       "         [1.17649000e-01, 0.00000000e+00],\n",
       "         [8.23543000e-02, 0.00000000e+00],\n",
       "         [5.76480100e-02, 0.00000000e+00],\n",
       "         [4.03536070e-02, 0.00000000e+00],\n",
       "         [2.82475249e-02, 0.00000000e+00],\n",
       "         [1.97732674e-02, 0.00000000e+00],\n",
       "         [1.38412872e-02, 0.00000000e+00],\n",
       "         [9.68890104e-03, 0.00000000e+00],\n",
       "         [6.78223073e-03, 0.00000000e+00],\n",
       "         [4.74756151e-03, 0.00000000e+00],\n",
       "         [3.32329306e-03, 0.00000000e+00],\n",
       "         [2.32630514e-03, 0.00000000e+00],\n",
       "         [1.62841360e-03, 0.00000000e+00],\n",
       "         [1.13988952e-03, 0.00000000e+00],\n",
       "         [7.97922663e-04, 0.00000000e+00],\n",
       "         [1.00055855e+00, 0.00000000e+00],\n",
       "         [1.70039098e+00, 0.00000000e+00],\n",
       "         [1.19027369e+00, 0.00000000e+00],\n",
       "         [8.33191581e-01, 0.00000000e+00],\n",
       "         [5.83234107e-01, 0.00000000e+00],\n",
       "         [4.08263875e-01, 0.00000000e+00],\n",
       "         [2.85784712e-01, 0.00000000e+00],\n",
       "         [2.00049299e-01, 0.00000000e+00],\n",
       "         [1.40034509e-01, 0.00000000e+00],\n",
       "         [9.80241563e-02, 0.00000000e+00],\n",
       "         [6.86169094e-02, 0.00000000e+00],\n",
       "         [4.80318366e-02, 0.00000000e+00],\n",
       "         [3.36222856e-02, 0.00000000e+00],\n",
       "         [2.35355999e-02, 0.00000000e+00],\n",
       "         [1.64749200e-02, 0.00000000e+00],\n",
       "         [1.15324440e-02, 0.00000000e+00],\n",
       "         [8.07271078e-03, 0.00000000e+00],\n",
       "         [5.65089754e-03, 0.00000000e+00],\n",
       "         [3.95562828e-03, 0.00000000e+00],\n",
       "         [2.76893980e-03, 0.00000000e+00],\n",
       "         [1.93825786e-03, 0.00000000e+00],\n",
       "         [1.35678050e-03, 0.00000000e+00],\n",
       "         [9.49746350e-04, 0.00000000e+00],\n",
       "         [6.64822445e-04, 0.00000000e+00],\n",
       "         [1.00046538e+00, 0.00000000e+00],\n",
       "         [1.70032576e+00, 0.00000000e+00],\n",
       "         [2.19022803e+00, 0.00000000e+00],\n",
       "         [2.53315962e+00, 0.00000000e+00],\n",
       "         [1.77321174e+00, 0.00000000e+00],\n",
       "         [1.24124822e+00, 0.00000000e+00],\n",
       "         [8.68873751e-01, 0.00000000e+00],\n",
       "         [6.08211626e-01, 0.00000000e+00],\n",
       "         [4.25748138e-01, 0.00000000e+00],\n",
       "         [2.98023697e-01, 0.00000000e+00],\n",
       "         [2.08616588e-01, 0.00000000e+00],\n",
       "         [1.46031611e-01, 0.00000000e+00],\n",
       "         [1.02222128e-01, 0.00000000e+00],\n",
       "         [7.15554896e-02, 0.00000000e+00],\n",
       "         [5.00888427e-02, 0.00000000e+00],\n",
       "         [3.50621899e-02, 0.00000000e+00],\n",
       "         [2.45435329e-02, 0.00000000e+00],\n",
       "         [1.71804730e-02, 0.00000000e+00],\n",
       "         [1.20263311e-02, 0.00000000e+00],\n",
       "         [8.41843179e-03, 0.00000000e+00],\n",
       "         [5.89290225e-03, 0.00000000e+00],\n",
       "         [4.12503158e-03, 0.00000000e+00],\n",
       "         [2.88752210e-03, 0.00000000e+00],\n",
       "         [2.02126547e-03, 0.00000000e+00],\n",
       "         [1.41488583e-03, 0.00000000e+00],\n",
       "         [1.00099042e+00, 0.00000000e+00],\n",
       "         [7.00693294e-01, 0.00000000e+00],\n",
       "         [4.90485306e-01, 0.00000000e+00],\n",
       "         [3.43339714e-01, 0.00000000e+00],\n",
       "         [2.40337800e-01, 0.00000000e+00],\n",
       "         [1.68236460e-01, 0.00000000e+00],\n",
       "         [1.17765522e-01, 0.00000000e+00],\n",
       "         [8.24358654e-02, 0.00000000e+00],\n",
       "         [5.77051057e-02, 0.00000000e+00],\n",
       "         [4.03935740e-02, 0.00000000e+00],\n",
       "         [2.82755018e-02, 0.00000000e+00],\n",
       "         [1.97928513e-02, 0.00000000e+00],\n",
       "         [1.38549959e-02, 0.00000000e+00],\n",
       "         [9.69849712e-03, 0.00000000e+00],\n",
       "         [6.78894799e-03, 0.00000000e+00],\n",
       "         [4.75226359e-03, 0.00000000e+00],\n",
       "         [3.32658451e-03, 0.00000000e+00],\n",
       "         [2.32860916e-03, 0.00000000e+00],\n",
       "         [1.63002641e-03, 0.00000000e+00],\n",
       "         [1.14101849e-03, 0.00000000e+00],\n",
       "         [7.98712942e-04, 0.00000000e+00],\n",
       "         [5.59099059e-04, 0.00000000e+00],\n",
       "         [3.91369341e-04, 0.00000000e+00],\n",
       "         [1.00027396e+00, 0.00000000e+00],\n",
       "         [1.70019177e+00, 0.00000000e+00],\n",
       "         [2.19013424e+00, 0.00000000e+00],\n",
       "         [2.53309397e+00, 0.00000000e+00],\n",
       "         [2.77316578e+00, 0.00000000e+00],\n",
       "         [1.94121604e+00, 0.00000000e+00],\n",
       "         [1.35885123e+00, 0.00000000e+00],\n",
       "         [9.51195862e-01, 0.00000000e+00],\n",
       "         [6.65837103e-01, 0.00000000e+00],\n",
       "         [4.66085972e-01, 0.00000000e+00],\n",
       "         [3.26260181e-01, 0.00000000e+00],\n",
       "         [2.28382126e-01, 0.00000000e+00],\n",
       "         [1.59867488e-01, 0.00000000e+00],\n",
       "         [1.11907242e-01, 0.00000000e+00],\n",
       "         [7.83350694e-02, 0.00000000e+00],\n",
       "         [5.48345485e-02, 0.00000000e+00],\n",
       "         [3.83841840e-02, 0.00000000e+00],\n",
       "         [2.68689288e-02, 0.00000000e+00],\n",
       "         [1.88082502e-02, 0.00000000e+00],\n",
       "         [1.31657751e-02, 0.00000000e+00],\n",
       "         [9.21604257e-03, 0.00000000e+00],\n",
       "         [6.45122980e-03, 0.00000000e+00],\n",
       "         [4.51586086e-03, 0.00000000e+00],\n",
       "         [3.16110260e-03, 0.00000000e+00],\n",
       "         [2.21277182e-03, 0.00000000e+00],\n",
       "         [1.54894028e-03, 0.00000000e+00],\n",
       "         [1.08425819e-03, 0.00000000e+00],\n",
       "         [7.58980735e-04, 0.00000000e+00],\n",
       "         [5.31286514e-04, 0.00000000e+00],\n",
       "         [3.71900560e-04, 0.00000000e+00],\n",
       "         [2.60330392e-04, 0.00000000e+00],\n",
       "         [1.82231274e-04, 0.00000000e+00],\n",
       "         [1.00012756e+00, 0.00000000e+00],\n",
       "         [7.00089293e-01, 0.00000000e+00],\n",
       "         [4.90062505e-01, 0.00000000e+00],\n",
       "         [3.43043754e-01, 0.00000000e+00],\n",
       "         [2.40130628e-01, 0.00000000e+00],\n",
       "         [1.68091439e-01, 0.00000000e+00],\n",
       "         [1.17664008e-01, 0.00000000e+00],\n",
       "         [8.23648053e-02, 0.00000000e+00],\n",
       "         [5.76553637e-02, 0.00000000e+00],\n",
       "         [4.03587546e-02, 0.00000000e+00],\n",
       "         [2.82511282e-02, 0.00000000e+00],\n",
       "         [1.97757897e-02, 0.00000000e+00],\n",
       "         [1.38430528e-02, 0.00000000e+00],\n",
       "         [9.69013698e-03, 0.00000000e+00],\n",
       "         [6.78309588e-03, 0.00000000e+00],\n",
       "         [4.74816712e-03, 0.00000000e+00],\n",
       "         [3.32371698e-03, 0.00000000e+00],\n",
       "         [2.32660189e-03, 0.00000000e+00],\n",
       "         [1.62862132e-03, 0.00000000e+00],\n",
       "         [1.14003493e-03, 0.00000000e+00],\n",
       "         [7.98024448e-04, 0.00000000e+00]])}}"
      ]
     },
     "execution_count": 56,
     "metadata": {},
     "output_type": "execute_result"
    }
   ],
   "source": [
    "data_lif1"
   ]
  },
  {
   "cell_type": "code",
   "execution_count": 57,
   "metadata": {},
   "outputs": [
    {
     "data": {
      "text/plain": [
       "150"
      ]
     },
     "execution_count": 57,
     "metadata": {},
     "output_type": "execute_result"
    }
   ],
   "source": [
    "# Check the shape to verify if it is printing the voltage for every step\n",
    "len(data_lif1['lif1']['v'])     # Indeed, there are 300 values (same as the number of steps we ran the simulation for)"
   ]
  },
  {
   "cell_type": "markdown",
   "metadata": {},
   "source": [
    "### Plot the recorded data"
   ]
  },
  {
   "cell_type": "code",
   "execution_count": 58,
   "metadata": {},
   "outputs": [
    {
     "data": {
      "image/png": "[encoded data removed]",
      "text/plain": [
       "<Figure size 1600x500 with 2 Axes>"
      ]
     },
     "metadata": {},
     "output_type": "display_data"
    }
   ],
   "source": [
    "import matplotlib\n",
    "%matplotlib inline\n",
    "from matplotlib import pyplot as plt\n",
    "\n",
    "# Create a subplot for each monitored variable\n",
    "fig = plt.figure(figsize=(16, 5))\n",
    "ax0 = fig.add_subplot(121)\n",
    "ax0.set_title('Voltage (V) / time step')\n",
    "ax1 = fig.add_subplot(122)\n",
    "ax1.set_title('Current (U) / time step')\n",
    "\n",
    "# Plot the data\n",
    "monitor_lif1_v.plot(ax0, lif1.v)\n",
    "monitor_lif1_u.plot(ax1, lif1.u)\n"
   ]
  },
  {
   "cell_type": "markdown",
   "metadata": {},
   "source": [
    "## Find the timesteps where the network bursts occur"
   ]
  },
  {
   "cell_type": "code",
   "execution_count": 59,
   "metadata": {},
   "outputs": [
    {
     "name": "stdout",
     "output_type": "stream",
     "text": [
      "voltage_arr shape: (150, 2)\n",
      "Spike times:  [52, 100]\n"
     ]
    }
   ],
   "source": [
    "voltage_arr = np.array(data_lif1['lif1']['v'])\n",
    "print(\"voltage_arr shape:\", voltage_arr.shape)\n",
    "\n",
    "# Iterate the voltage array to find the spikes\n",
    "spike_times = []\n",
    "min_voltage_to_spike = v_th / 2\n",
    "for i in range(len(voltage_arr)):\n",
    "    # Only considering the voltage of the first neuron\n",
    "    if voltage_arr[i][0] == 0 and i > 0 and voltage_arr[i-1][0] > min_voltage_to_spike:   # Spike detected\n",
    "        spike_times.append(i)\n",
    "\n",
    "print(\"Spike times: \", spike_times)"
   ]
  },
  {
   "cell_type": "markdown",
   "metadata": {},
   "source": [
    "## Observations\n",
    "\n",
    "- Why is the membrane potential of the LIF neurons not reaching the threshold and firing anyway?\n",
    "  - Is it because it would spike in the next time step?\n"
   ]
  },
  {
   "cell_type": "markdown",
   "metadata": {},
   "source": [
    "## Stop the Runtime"
   ]
  },
  {
   "cell_type": "code",
   "execution_count": 60,
   "metadata": {},
   "outputs": [],
   "source": [
    "lif1.stop()"
   ]
  },
  {
   "cell_type": "code",
   "execution_count": null,
   "metadata": {},
   "outputs": [],
   "source": []
  }
 ],
 "metadata": {
  "kernelspec": {
   "display_name": "Python 3 (ipykernel)",
   "language": "python",
   "name": "python3"
  },
  "language_info": {
   "codemirror_mode": {
    "name": "ipython",
    "version": 3
   },
   "file_extension": ".py",
   "mimetype": "text/x-python",
   "name": "python",
   "nbconvert_exporter": "python",
   "pygments_lexer": "ipython3",
   "version": "3.10.12"
  }
 },
 "nbformat": 4,
 "nbformat_minor": 2
}
