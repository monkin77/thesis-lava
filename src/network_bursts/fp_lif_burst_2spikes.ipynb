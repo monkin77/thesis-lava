{
 "cells": [
  {
   "cell_type": "markdown",
   "metadata": {},
   "source": [
    "# SNN that detects Network bursts in a single channel (Fixed-Precision)\n",
    "This notebook is a simple example of how to use a Spiking Neural Network (SNN) to detect network bursts in a single channel. \n",
    "\n",
    "## Definition of a network burst\n",
    "A network burst is a sequence of spikes that occur in a short time window. The definition of a network burst is not unique and depends on the context. \n",
    "\n",
    "In this notebook, we will **consider a network burst any sequence of spikes that occurs within 10 ms**"
   ]
  },
  {
   "cell_type": "markdown",
   "metadata": {},
   "source": [
    "### Check WD (change if necessary) and file loading"
   ]
  },
  {
   "cell_type": "code",
   "execution_count": 16,
   "metadata": {},
   "outputs": [
    {
     "name": "stdout",
     "output_type": "stream",
     "text": [
      "/home/monkin/Desktop/feup/thesis\n",
      "File Location:  /home/monkin/Desktop/feup/thesis/thesis-lava/src/network_bursts\n",
      "New Working Directory:  /home/monkin/Desktop/feup/thesis/thesis-lava/src/network_bursts\n"
     ]
    }
   ],
   "source": [
    "# Show current directory\n",
    "import os\n",
    "curr_dir = os.getcwd()\n",
    "print(curr_dir)\n",
    "\n",
    "# Check if the current WD is the file location\n",
    "if \"/src/network_bursts\" not in os.getcwd():\n",
    "    # Set working directory to this file location\n",
    "    file_location = f\"{os.getcwd()}/thesis-lava/src/network_bursts\"\n",
    "    print(\"File Location: \", file_location)\n",
    "\n",
    "    # Change the current working Directory\n",
    "    os.chdir(file_location)\n",
    "\n",
    "    # New Working Directory\n",
    "    print(\"New Working Directory: \", os.getcwd())"
   ]
  },
  {
   "cell_type": "code",
   "execution_count": 2,
   "metadata": {},
   "outputs": [
    {
     "name": "stdout",
     "output_type": "stream",
     "text": [
      "['/usr/lib/python38.zip', '/usr/lib/python3.8', '/usr/lib/python3.8/lib-dynload', '', '/homes/pauloaguiar/lava_env/lib/python3.8/site-packages', '../']\n"
     ]
    }
   ],
   "source": [
    "# Add parent directory to path\n",
    "import sys\n",
    "sys.path.append('../')\n",
    "\n",
    "print(sys.path)"
   ]
  },
  {
   "cell_type": "code",
   "execution_count": 17,
   "metadata": {},
   "outputs": [
    {
     "name": "stdout",
     "output_type": "stream",
     "text": [
      "\u001b[0;31mInit signature:\u001b[0m \u001b[0mLIF\u001b[0m\u001b[0;34m(\u001b[0m\u001b[0;34m*\u001b[0m\u001b[0margs\u001b[0m\u001b[0;34m,\u001b[0m \u001b[0;34m**\u001b[0m\u001b[0mkwargs\u001b[0m\u001b[0;34m)\u001b[0m\u001b[0;34m\u001b[0m\u001b[0;34m\u001b[0m\u001b[0m\n",
      "\u001b[0;31mDocstring:\u001b[0m     \n",
      "Leaky-Integrate-and-Fire (LIF) neural Process.\n",
      "\n",
      "LIF dynamics abstracts to:\n",
      "u[t] = u[t-1] * (1-du) + a_in         # neuron current\n",
      "v[t] = v[t-1] * (1-dv) + u[t] + bias  # neuron voltage\n",
      "s_out = v[t] > vth                    # spike if threshold is exceeded\n",
      "v[t] = 0                              # reset at spike\n",
      "\n",
      "Parameters\n",
      "----------\n",
      "shape : tuple(int)\n",
      "    Number and topology of LIF neurons.\n",
      "u : float, list, numpy.ndarray, optional\n",
      "    Initial value of the neurons' current.\n",
      "v : float, list, numpy.ndarray, optional\n",
      "    Initial value of the neurons' voltage (membrane potential).\n",
      "du : float, optional\n",
      "    Inverse of decay time-constant for current decay. Currently, only a\n",
      "    single decay can be set for the entire population of neurons.\n",
      "dv : float, optional\n",
      "    Inverse of decay time-constant for voltage decay. Currently, only a\n",
      "    single decay can be set for the entire population of neurons.\n",
      "bias_mant : float, list, numpy.ndarray, optional\n",
      "    Mantissa part of neuron bias.\n",
      "bias_exp : float, list, numpy.ndarray, optional\n",
      "    Exponent part of neuron bias, if needed. Mostly for fixed point\n",
      "    implementations. Ignored for floating point implementations.\n",
      "vth : float, optional\n",
      "    Neuron threshold voltage, exceeding which, the neuron will spike.\n",
      "    Currently, only a single threshold can be set for the entire\n",
      "    population of neurons.\n",
      "\n",
      "Example\n",
      "-------\n",
      ">>> lif = LIF(shape=(200, 15), du=10, dv=5)\n",
      "This will create 200x15 LIF neurons that all have the same current decay\n",
      "of 10 and voltage decay of 5.\n",
      "\u001b[0;31mInit docstring:\u001b[0m Initializes a new Process.\n",
      "\u001b[0;31mFile:\u001b[0m           ~/Desktop/feup/thesis/thesis-lava/src/lava/proc/lif/process.py\n",
      "\u001b[0;31mType:\u001b[0m           ProcessPostInitCaller\n",
      "\u001b[0;31mSubclasses:\u001b[0m     LIFReset, LIFRefractory"
     ]
    }
   ],
   "source": [
    "from lava.proc.lif.process import LIF, LogConfig\n",
    "from lava.proc.dense.process import Dense\n",
    "\n",
    "LIF?"
   ]
  },
  {
   "cell_type": "code",
   "execution_count": 18,
   "metadata": {},
   "outputs": [],
   "source": [
    "# Define the number of neurons in each LIF Layer\n",
    "n1 = 8   # Let's create a simple program with only 1 LIF layer"
   ]
  },
  {
   "cell_type": "markdown",
   "metadata": {},
   "source": [
    "## Convert the necessary LIF Parameters to integers (Float -> Integer)"
   ]
  },
  {
   "cell_type": "code",
   "execution_count": 19,
   "metadata": {},
   "outputs": [],
   "source": [
    "import numpy as np\n",
    "\n",
    "# In the Bit accurate model, du and dv are 12-bit unsigned integers (precision of 12 bits on a 16-int variable\n",
    "PRECISION_DU_DV = 12\n",
    "\n",
    "def scaling_dudv(val):\n",
    "    '''Scaling function for du, dv in LIF\n",
    "    ''' \n",
    "    assert val < 1, 'Passed value must be smaller than 1'\n",
    "    \n",
    "    return np.round(val * (2 ** PRECISION_DU_DV)).astype(np.int32)"
   ]
  },
  {
   "cell_type": "code",
   "execution_count": 20,
   "metadata": {},
   "outputs": [],
   "source": [
    "# In the bit accurate model, v_th is a 17-bit unsigned integer (precision of 17 bits on a 32-bit variable)\n",
    "# TODO: What about the shift = 6? I think it only matters for inner computations (compare the v_thresh with the voltage that has 24-bit precision)\n",
    "PRECISION_VTH = 17\n",
    "\n",
    "def scaling_vth(val):\n",
    "    '''\n",
    "    Scaling Function for the Voltage Threshold\n",
    "    '''\n",
    "    return np.round(val * (2 ** PRECISION_VTH)).astype(np.int32)"
   ]
  },
  {
   "cell_type": "code",
   "execution_count": 21,
   "metadata": {},
   "outputs": [
    {
     "name": "stdout",
     "output_type": "stream",
     "text": [
      "Scaled du / dv: 1229 / 410\n"
     ]
    }
   ],
   "source": [
    "v_th = 1\n",
    "v_init = 0\n",
    "du = 0.3\n",
    "dv = 0.1\n",
    "\n",
    "num_steps = 1000      # 3000  # 26500     # TODO: Check the number of steps to run the simulation for\n",
    "\n",
    "scaled_du = scaling_dudv(du)\n",
    "scaled_dv = scaling_dudv(dv)\n",
    "\n",
    "print(f\"Scaled du / dv: {scaled_du} / {scaled_dv}\")\n",
    "\n",
    "# scaled_vth = scaling_vth(v_th)\n",
    "# print(f\"Scaled vth: {scaled_vth}\")\n",
    "# The Fixed-Precision LIF already scales the threshold by 2^6."
   ]
  },
  {
   "cell_type": "code",
   "execution_count": 22,
   "metadata": {},
   "outputs": [],
   "source": [
    "import logging\n",
    "\n",
    "# Create Processes\n",
    "lif1 = LIF(shape=(n1,),  # There are 2 neurons\n",
    "           vth=v_th,  # TODO: Verify these initial values\n",
    "           v=v_init,\n",
    "           dv=scaled_dv,    # Inverse of decay time-constant for voltage decay\n",
    "           du=scaled_du,  # Inverse of decay time-constant for current decay\n",
    "           bias_mant=0,\n",
    "           bias_exp=0,\n",
    "           log_config=LogConfig(level=logging.INFO),\n",
    "           name=\"lif1\")"
   ]
  },
  {
   "cell_type": "code",
   "execution_count": 23,
   "metadata": {},
   "outputs": [
    {
     "name": "stdout",
     "output_type": "stream",
     "text": [
      "Proc: lif1  Port Name: a_in  Size: 8\n",
      "Proc: lif1  Port Name: s_out Size: 8\n"
     ]
    }
   ],
   "source": [
    "for proc in [lif1]:\n",
    "    for port in proc.in_ports:\n",
    "        print(f\"Proc: {proc.name:<5} Port Name: {port.name:<5} Size: {port.size}\")\n",
    "    for port in proc.out_ports:\n",
    "        print(f\"Proc: {proc.name:<5} Port Name: {port.name:<5} Size: {port.size}\")"
   ]
  },
  {
   "cell_type": "markdown",
   "metadata": {},
   "source": [
    "## Create the Custom Input Layer\n",
    "\n",
    "### Define function to read the input data from the csv file and generate the corresponding spike events"
   ]
  },
  {
   "cell_type": "code",
   "execution_count": 24,
   "metadata": {},
   "outputs": [],
   "source": [
    "import pandas as pd\n",
    "\n",
    "def read_spike_events(file_path: str):\n",
    "    \"\"\"Reads the spike events from the input file and returns them as a numpy array\n",
    "    TODO: Could try to use a structured array instead?\n",
    "\n",
    "    Args:\n",
    "        file_path (str): name of the file containing the spike events\n",
    "    \"\"\"\n",
    "    spike_events = []\n",
    "\n",
    "    try:\n",
    "        # Read the spike events from the file\n",
    "        df = pd.read_csv(file_path, header='infer')\n",
    "        # print(df.head())\n",
    "\n",
    "        # Detect errors\n",
    "        if df.empty:\n",
    "            raise Exception(\"The input file is empty\")\n",
    "\n",
    "        # Convert the scientific notation values to integers if any exist\n",
    "        df = df.applymap(lambda x: int(float(x)) if (isinstance(x, str) and 'e' in x) else x)\n",
    "\n",
    "        # Convert the dataframe to a numpy array. Each row is a spike event. The first column is the time and the second column is the channel idx\n",
    "        spike_events = df.to_numpy()\n",
    "\n",
    "        return spike_events\n",
    "    except Exception as e:\n",
    "        print(\"Unable to read the input file: \", file_path, \" error:\", e)\n",
    "\n",
    "    return spike_events"
   ]
  },
  {
   "cell_type": "code",
   "execution_count": 26,
   "metadata": {},
   "outputs": [
    {
     "name": "stdout",
     "output_type": "stream",
     "text": [
      "Spike events:  (3380, 2) \n",
      " [[3.0360e+02 7.0000e+00]\n",
      " [5.4090e+02 7.0000e+00]\n",
      " [7.8260e+02 7.0000e+00]\n",
      " [1.0638e+03 7.0000e+00]\n",
      " [1.4271e+03 1.0000e+00]\n",
      " [1.4304e+03 1.0000e+00]\n",
      " [1.4333e+03 1.0000e+00]\n",
      " [1.4347e+03 7.0000e+00]\n",
      " [1.4628e+03 1.0000e+00]\n",
      " [2.0500e+03 7.0000e+00]]\n"
     ]
    }
   ],
   "source": [
    "# Call the function to read the spike events\n",
    "file_path = \"../lab_data/lab_data_1-8channels.csv\"\n",
    "spike_events = read_spike_events(file_path)\n",
    "print(\"Spike events: \", spike_events.shape, \"\\n\", spike_events[:10])"
   ]
  },
  {
   "cell_type": "markdown",
   "metadata": {},
   "source": [
    "### Define the SpikeEvent Generator Interface"
   ]
  },
  {
   "cell_type": "code",
   "execution_count": 27,
   "metadata": {},
   "outputs": [],
   "source": [
    "from lava.magma.core.process.process import AbstractProcess\n",
    "from lava.magma.core.process.variable import Var\n",
    "from lava.magma.core.process.ports.ports import OutPort\n",
    "\n",
    "class SpikeEventGen(AbstractProcess):\n",
    "    \"\"\"Input Process that generates spike events based on the input file\n",
    "\n",
    "    Args:\n",
    "        shape (tuple): Shape of the output port\n",
    "        file_name (str): Name of the file containing the spike events\n",
    "    \"\"\"\n",
    "    def __init__(self, shape: tuple, spike_events: np.ndarray, name: str) -> None:\n",
    "        super().__init__(name=name)\n",
    "        self.s_out = OutPort(shape=shape)\n",
    "        self.spike_events = Var(shape=spike_events.shape, init=spike_events)"
   ]
  },
  {
   "cell_type": "markdown",
   "metadata": {},
   "source": [
    "### Map the input channels to the corresponding indexes in the input layer\n",
    "Since the input channels in the input file may be of any number, we need to map the input channels to the corresponding indexes in the input layer. This is done by the `channel_map` dictionary."
   ]
  },
  {
   "cell_type": "code",
   "execution_count": 28,
   "metadata": {},
   "outputs": [],
   "source": [
    "# Map the channels of the input file to the respective index in the output list of SpikeEventGen\n",
    "channel_map = {1: 0, 2: 1, 3: 2, 4: 3, 5: 4, 6: 5, 7: 6, 8: 7}"
   ]
  },
  {
   "cell_type": "markdown",
   "metadata": {},
   "source": [
    "### Implement the `SpikeEventGenerator` Model"
   ]
  },
  {
   "cell_type": "code",
   "execution_count": 29,
   "metadata": {},
   "outputs": [],
   "source": [
    "from lava.magma.core.model.py.model import PyLoihiProcessModel  # Processes running on CPU inherit from this class\n",
    "from lava.magma.core.resources import CPU\n",
    "from lava.magma.core.decorator import implements, requires\n",
    "from lava.magma.core.sync.protocols.loihi_protocol import LoihiProtocol\n",
    "from lava.magma.core.model.py.type import LavaPyType\n",
    "from lava.magma.core.model.py.ports import PyOutPort\n",
    "\n",
    "@implements(proc=SpikeEventGen, protocol=LoihiProtocol)\n",
    "@requires(CPU)\n",
    "class PySpikeEventGenModel(PyLoihiProcessModel):\n",
    "    \"\"\"Spike Event Generator Process implementation running on CPU (Python)\n",
    "    Args:\n",
    "    \"\"\"\n",
    "    s_out: PyOutPort = LavaPyType(PyOutPort.VEC_DENSE, float)   # IT IS POSSIBLE TO SEND FLOATS AFTER ALL\n",
    "    spike_events: np.ndarray = LavaPyType(np.ndarray, np.ndarray)   # TODO: Check if we should keep it as a numpy array, or transform it to a list\n",
    "\n",
    "    def __init__(self, proc_params) -> None:\n",
    "        super().__init__(proc_params=proc_params)\n",
    "        # print(\"spike events\", self.spike_events.__str__())    # TODO: Check why during initialization the variable prints the class, while during run it prints the value\n",
    "        self.curr_spike_idx = 0     # Index of the next spiking event to send\n",
    "        self.virtual_time_step_interval = 1  # 1000    # Arbitrary time between time steps (in microseconds). This is not a real time interval (1000ms = 1s)\n",
    "        self.init_offset = 1000        # 698995               # Arbitrary offset to start the simulation (in microseconds)\n",
    "\n",
    "    def run_spk(self) -> None:\n",
    "        spike_data = np.zeros(self.s_out.shape) # Initialize the spike data to 0\n",
    "        \n",
    "        # Use random spikes to test it\n",
    "        # spike_data[0] = np.random.random()  # Only 1 neuron is sending data (spikes)\n",
    "        # self.curr_spike_idx += 1\n",
    "\n",
    "        # Use the spike events from the file\n",
    "        # print(\"spike events: \", self.spike_events[:5])\n",
    "        # TODO: For now we are using the time_step as the time measurement that will simulate real-time activity. It would be better to have access to the running time\n",
    "        \n",
    "        #print(\"time step:\", self.time_step)\n",
    "        # If the current simulation time is greater than the next spike event, send a spike\n",
    "        currTime = self.init_offset + self.time_step*self.virtual_time_step_interval\n",
    "\n",
    "        spiking_channels = set()   # List of channels that will spike at the same time\n",
    "        while (self.curr_spike_idx < len(self.spike_events)) and currTime >= self.spike_events[self.curr_spike_idx][0]:  # Check if there are more than 1 spike events to send\n",
    "            if self.spike_events[self.curr_spike_idx][0] < self.init_offset:\n",
    "                self.curr_spike_idx += 1\n",
    "                continue\n",
    "            \n",
    "            curr_channel = self.spike_events[self.curr_spike_idx][1]\n",
    "\n",
    "            # Check if the next spike belongs to a channel that will already spike at the same time\n",
    "            if curr_channel in spiking_channels:    # If the channel is already spiking, we stop the spikes for this time step\n",
    "                break\n",
    "\n",
    "            # Add the channel to the list of spiking channels\n",
    "            spiking_channels.add(curr_channel)\n",
    "\n",
    "            # Send a spike\n",
    "            out_idx = channel_map[curr_channel]     # Map the channel to the output index\n",
    "            if out_idx < self.s_out.shape[0]:   # Check if the channel is valid\n",
    "                spike_data[out_idx] = 1.0   # Send a spike  (value corresponds to the punctual current of the spike event)\n",
    "\n",
    "            # Move to the next spike event\n",
    "            self.curr_spike_idx += 1\n",
    "\n",
    "        # if len(spiking_channels) > 0:   # Print the spike event if there are any spikes\n",
    "        #     print(f\"sending spike event at time: {currTime}({self.time_step}) last spike idx: {self.curr_spike_idx-1} spike time: {self.spike_events[self.curr_spike_idx-1][0]}\")\n",
    "\n",
    "        # Send spikes\n",
    "        # print(\"sending spike_data: \", spike_data, \" at step: \", self.time_step)\n",
    "        self.s_out.send(spike_data)\n",
    "\n",
    "        # Stop the Process if there are no more spike events to send. (It will stop all the connected processes)\n",
    "        # TODO: Should it be another process that stops the simulation? Such as the last LIF process\n",
    "        # if self.curr_spike_idx >= 5: # len(self.spike_events):\n",
    "        #    self.pause()\n"
   ]
  },
  {
   "cell_type": "markdown",
   "metadata": {},
   "source": [
    "## Define the Dense Layer"
   ]
  },
  {
   "cell_type": "code",
   "execution_count": 30,
   "metadata": {},
   "outputs": [
    {
     "data": {
      "text/plain": [
       "array([[1., 0., 0., 0., 0., 0., 0., 0.],\n",
       "       [0., 1., 0., 0., 0., 0., 0., 0.],\n",
       "       [0., 0., 1., 0., 0., 0., 0., 0.],\n",
       "       [0., 0., 0., 1., 0., 0., 0., 0.],\n",
       "       [0., 0., 0., 0., 1., 0., 0., 0.],\n",
       "       [0., 0., 0., 0., 0., 1., 0., 0.],\n",
       "       [0., 0., 0., 0., 0., 0., 1., 0.],\n",
       "       [0., 0., 0., 0., 0., 0., 0., 1.]])"
      ]
     },
     "execution_count": 30,
     "metadata": {},
     "output_type": "execute_result"
    }
   ],
   "source": [
    "# Instantiante a Dense Layer to connect the SpikeEventGen to the middle layer\n",
    "dense_input = Dense(weights=np.eye(n1), name=\"DenseInput\")     # 1-1 connectivity with the Middle Layer (should be a 2x2 matrix right now)\n",
    "# dense_input = Dense(weights=np.array([[1.0, 0], [0, 1.0]]), name=\"DenseInput\")\n",
    "\n",
    "# Weights of the Input Dense Layer\n",
    "dense_input.weights.get()"
   ]
  },
  {
   "cell_type": "markdown",
   "metadata": {},
   "source": [
    "### Define a Sink to receive the spikes in a Python Process if necessary"
   ]
  },
  {
   "cell_type": "code",
   "execution_count": 31,
   "metadata": {},
   "outputs": [],
   "source": [
    "from lava.proc.io.sink import RingBuffer as Sink\n",
    "\n",
    "sink = Sink(shape=(n1, ), buffer=num_steps)"
   ]
  },
  {
   "cell_type": "markdown",
   "metadata": {},
   "source": [
    "## Connect the Layers"
   ]
  },
  {
   "cell_type": "code",
   "execution_count": 33,
   "metadata": {},
   "outputs": [],
   "source": [
    "# Create the Input Process\n",
    "spike_event_gen = SpikeEventGen(shape=(n1,), spike_events=spike_events, name=\"CustomInput\")\n",
    "\n",
    "# If I connect the SpikeEventGen to the Dense Layer, the a_out value of the custom input will be rounded to 0 or 1 in the Dense Layer (it will not be a float) \n",
    "# ---- Connect the SpikeEventGen to the Dense Layer ----\n",
    "# Connect SpikeEventGen to the Adapter first\n",
    "spike_event_gen.s_out.connect(dense_input.s_in)\n",
    "\n",
    "# ---- Connect the Dense_Input to the LIF1 Layer ----\n",
    "# Connect the Dense to the Adapter first\n",
    "dense_input.a_out.connect(lif1.a_in)\n",
    "\n",
    "\n",
    "\n",
    "# Connect the SpikeEventGen layer directly to the LIF1 layer\n",
    "# spike_event_gen.s_out.connect(lif1.a_in)"
   ]
  },
  {
   "cell_type": "markdown",
   "metadata": {},
   "source": [
    "### Take a look at the connections in the Input Layer"
   ]
  },
  {
   "cell_type": "code",
   "execution_count": 34,
   "metadata": {},
   "outputs": [
    {
     "name": "stdout",
     "output_type": "stream",
     "text": [
      "Proc: CustomInput Port Name: s_out Size: 8\n",
      "Proc: DenseInput Port Name: s_in  Size: 8\n",
      "Proc: DenseInput Port Name: a_out Size: 8\n",
      "Proc: lif1  Port Name: a_in  Size: 8\n",
      "Proc: lif1  Port Name: s_out Size: 8\n"
     ]
    }
   ],
   "source": [
    "for proc in [spike_event_gen, dense_input, lif1]:\n",
    "    for port in proc.in_ports:\n",
    "        print(f\"Proc: {proc.name:<5} Port Name: {port.name:<5} Size: {port.size}\")\n",
    "    for port in proc.out_ports:\n",
    "        print(f\"Proc: {proc.name:<5} Port Name: {port.name:<5} Size: {port.size}\")"
   ]
  },
  {
   "cell_type": "markdown",
   "metadata": {},
   "source": [
    "## Record Internal Vars over time\n",
    "To record the evolution of the internal variables over time in neuromorphic hardware, we need a `StateProbe`. For this example, we want to record the membrane potential and voltage of the `LIF` Layer, hence we need 2 `StateProbes`."
   ]
  },
  {
   "cell_type": "code",
   "execution_count": 35,
   "metadata": {},
   "outputs": [],
   "source": [
    "from lava.proc.monitor.process import Monitor\n",
    "\n",
    "monitor_lif1_v = Monitor()\n",
    "monitor_lif1_u = Monitor()\n",
    "\n",
    "num_steps = 3000        # 26500     # TODO: Check the number of steps to run the simulation for\n",
    "\n",
    "# Connect the monitors to the variables we want to monitor\n",
    "monitor_lif1_v.probe(lif1.v, num_steps)\n",
    "monitor_lif1_u.probe(lif1.u, num_steps)"
   ]
  },
  {
   "cell_type": "markdown",
   "metadata": {},
   "source": [
    "## Execution\n",
    "Now that we have defined the network, we can execute it. We will use the `run` function to execute the network."
   ]
  },
  {
   "cell_type": "markdown",
   "metadata": {},
   "source": [
    "### Run Configuration and Conditions"
   ]
  },
  {
   "cell_type": "code",
   "execution_count": 36,
   "metadata": {},
   "outputs": [],
   "source": [
    "from lava.magma.core.run_conditions import RunContinuous, RunSteps\n",
    "from lava.magma.core.run_configs import Loihi2SimCfg\n",
    "\n",
    "# run_condition = RunContinuous()   # TODO: Change to this one\n",
    "run_condition = RunSteps(num_steps=num_steps)\n",
    "run_cfg = Loihi2SimCfg(select_tag=\"fixed_pt\")"
   ]
  },
  {
   "cell_type": "markdown",
   "metadata": {},
   "source": [
    "### Execute"
   ]
  },
  {
   "cell_type": "code",
   "execution_count": 37,
   "metadata": {},
   "outputs": [],
   "source": [
    "lif1.run(condition=run_condition, run_cfg=run_cfg)"
   ]
  },
  {
   "cell_type": "markdown",
   "metadata": {},
   "source": [
    "## Let's see which `ProcessModels` were executed"
   ]
  },
  {
   "cell_type": "code",
   "execution_count": 38,
   "metadata": {},
   "outputs": [
    {
     "name": "stdout",
     "output_type": "stream",
     "text": [
      "LIF ProcessModel: <class 'lava.proc.lif.models.PyLifModelBitAcc'>\n",
      "SpikeEventGen ProcessModel: <class '__main__.PySpikeEventGenModel'>\n",
      "Dense ProcessModel: <class 'lava.proc.dense.models.PyDenseModelBitAcc'>\n"
     ]
    }
   ],
   "source": [
    "print(f\"LIF ProcessModel: {lif1.model_class}\")\n",
    "print(f\"SpikeEventGen ProcessModel: {spike_event_gen.model_class}\")\n",
    "print(f\"Dense ProcessModel: {dense_input.model_class}\")"
   ]
  },
  {
   "cell_type": "markdown",
   "metadata": {},
   "source": [
    "### Retrieve recorded data"
   ]
  },
  {
   "cell_type": "code",
   "execution_count": 39,
   "metadata": {},
   "outputs": [],
   "source": [
    "data_lif1_v = monitor_lif1_v.get_data()\n",
    "data_lif1_u = monitor_lif1_u.get_data()\n",
    "\n",
    "data_lif1 = data_lif1_v.copy()\n",
    "data_lif1[\"lif1\"][\"u\"] = data_lif1_u[\"lif1\"][\"u\"]   # Merge the dictionaries to contain both voltage and current"
   ]
  },
  {
   "cell_type": "code",
   "execution_count": 40,
   "metadata": {},
   "outputs": [
    {
     "data": {
      "text/plain": [
       "{'lif1': {'v': array([[ 0.,  0.,  0., ...,  0.,  0.,  0.],\n",
       "         [ 0.,  0.,  0., ...,  0.,  0.,  0.],\n",
       "         [ 0.,  0.,  0., ...,  0.,  0.,  0.],\n",
       "         ...,\n",
       "         [ 0.,  0.,  0., ...,  0., 11.,  0.],\n",
       "         [ 0.,  0.,  0., ...,  0.,  9.,  0.],\n",
       "         [ 0.,  0.,  0., ...,  0.,  8.,  0.]]),\n",
       "  'u': array([[0., 0., 0., ..., 0., 0., 0.],\n",
       "         [0., 0., 0., ..., 0., 0., 0.],\n",
       "         [0., 0., 0., ..., 0., 0., 0.],\n",
       "         ...,\n",
       "         [0., 0., 0., ..., 0., 0., 0.],\n",
       "         [0., 0., 0., ..., 0., 0., 0.],\n",
       "         [0., 0., 0., ..., 0., 0., 0.]])}}"
      ]
     },
     "execution_count": 40,
     "metadata": {},
     "output_type": "execute_result"
    }
   ],
   "source": [
    "data_lif1"
   ]
  },
  {
   "cell_type": "code",
   "execution_count": 41,
   "metadata": {},
   "outputs": [
    {
     "data": {
      "text/plain": [
       "3000"
      ]
     },
     "execution_count": 41,
     "metadata": {},
     "output_type": "execute_result"
    }
   ],
   "source": [
    "# Check the shape to verify if it is printing the voltage for every step\n",
    "len(data_lif1['lif1']['v'])     # Indeed, there are 300 values (same as the number of steps we ran the simulation for)"
   ]
  },
  {
   "cell_type": "markdown",
   "metadata": {},
   "source": [
    "### Check what is the Voltage Threshold of the LIF Model"
   ]
  },
  {
   "cell_type": "code",
   "execution_count": 42,
   "metadata": {},
   "outputs": [
    {
     "name": "stdout",
     "output_type": "stream",
     "text": [
      "Variable: vth\n",
      "    shape: (1,)\n",
      "    init: 1\n",
      "    shareable: True\n",
      "    value: [1.]\n"
     ]
    }
   ],
   "source": [
    "print(lif1.vth)"
   ]
  },
  {
   "cell_type": "markdown",
   "metadata": {},
   "source": [
    "### Plot the recorded data"
   ]
  },
  {
   "cell_type": "code",
   "execution_count": 43,
   "metadata": {},
   "outputs": [
    {
     "data": {
      "image/png": "[encoded data removed]",
      "text/plain": [
       "<Figure size 1600x500 with 2 Axes>"
      ]
     },
     "metadata": {},
     "output_type": "display_data"
    }
   ],
   "source": [
    "import matplotlib\n",
    "%matplotlib inline\n",
    "from matplotlib import pyplot as plt\n",
    "\n",
    "# Create a subplot for each monitored variable\n",
    "fig = plt.figure(figsize=(16, 5))\n",
    "ax0 = fig.add_subplot(121)\n",
    "ax0.set_title('Voltage (V) / time step')\n",
    "ax1 = fig.add_subplot(122)\n",
    "ax1.set_title('Current (U) / time step')\n",
    "\n",
    "# Plot the data\n",
    "monitor_lif1_v.plot(ax0, lif1.v)\n",
    "monitor_lif1_u.plot(ax1, lif1.u)"
   ]
  },
  {
   "cell_type": "markdown",
   "metadata": {},
   "source": [
    "## Find the timesteps where the channel bursts occur"
   ]
  },
  {
   "cell_type": "code",
   "execution_count": 44,
   "metadata": {},
   "outputs": [
    {
     "name": "stdout",
     "output_type": "stream",
     "text": [
      "Spike times:  [[  65    6]\n",
      " [ 429    0]\n",
      " [ 431    0]\n",
      " [ 433    0]\n",
      " [ 436    0]\n",
      " [ 436    6]\n",
      " [ 463    0]\n",
      " [ 465    0]\n",
      " [1051    6]\n",
      " [1053    6]\n",
      " [1055    6]\n",
      " [1288    6]\n",
      " [1793    0]\n",
      " [1795    7]\n",
      " [1796    3]\n",
      " [1797    0]\n",
      " [1801    0]\n",
      " [1803    0]\n",
      " [1876    0]\n",
      " [1882    0]\n",
      " [1884    0]\n",
      " [1886    7]\n",
      " [1887    0]\n",
      " [1888    6]\n",
      " [1890    0]\n",
      " [1897    0]\n",
      " [1899    0]\n",
      " [1902    0]\n",
      " [1903    7]\n",
      " [1905    0]\n",
      " [1905    7]\n",
      " [2245    6]\n",
      " [2624    6]\n",
      " [2978    6]]\n"
     ]
    }
   ],
   "source": [
    "from utils.data_analysis import find_spike_times\n",
    "\n",
    "# Call the find_spike_times util function that detects the spikes in a voltage array\n",
    "spike_times_lif1 = find_spike_times(data_lif1['lif1']['v'], data_lif1['lif1']['u'])\n",
    "\n",
    "print(\"Spike times: \", spike_times_lif1)"
   ]
  },
  {
   "cell_type": "markdown",
   "metadata": {},
   "source": [
    "## Observations\n",
    "\n",
    "- Why is the membrane potential of the LIF neurons not reaching the threshold and firing anyway?\n",
    "  - Is it because it would spike in the next time step? I think that is the case. We can confirm this by using a very low current input and analyze the graph since it won't be as steep.\n"
   ]
  },
  {
   "cell_type": "markdown",
   "metadata": {},
   "source": [
    "## View the Voltage and Current dynamics with an interactive plot"
   ]
  },
  {
   "cell_type": "markdown",
   "metadata": {},
   "source": [
    "Grab the data from the recorded variables"
   ]
  },
  {
   "cell_type": "code",
   "execution_count": 45,
   "metadata": {},
   "outputs": [
    {
     "name": "stdout",
     "output_type": "stream",
     "text": [
      "v_ch0 shape: 3000\n"
     ]
    }
   ],
   "source": [
    "lif1_voltage_vals = data_lif1['lif1']['v']\n",
    "lif1_current_vals = data_lif1['lif1']['u']\n",
    "\n",
    "print(\"v_ch0 shape:\", len(lif1_voltage_vals))\n",
    "\n",
    "# print(\"voltage head: \", lif1_voltage_vals[:10])"
   ]
  },
  {
   "cell_type": "markdown",
   "metadata": {},
   "source": [
    "## Bokeh Function to create a figure"
   ]
  },
  {
   "cell_type": "code",
   "execution_count": 46,
   "metadata": {},
   "outputs": [],
   "source": [
    "# Interactive Plot for the voltage and current\n",
    "# bokeh docs: https://docs.bokeh.org/en/2.4.1/docs/first_steps/first_steps_1.html\n",
    "import bokeh.plotting as bplt\n",
    "from bokeh.io import curdoc\n",
    "from bokeh.models import BoxAnnotation\n",
    "from math import ceil\n",
    "\n",
    "# Apply the theme to the plot\n",
    "curdoc().theme = \"caliber\"  # Can be one of \"caliber\", \"dark_minimal\", \"light_minimal\", \"night_sky\", \"contrast\"\n",
    "\n",
    "# colors list\n",
    "line_colors = [\"green\", \"blue\", \"red\", \"orange\", \"purple\", \"black\", \"cyan\", \"pink\", \"brown\", \"mediumaquamarine\", \"teal\", \"olive\", \"darkgreen\", \n",
    "               \"mediumslateblue\", \"lightsalmon\", \"gold\", \"indigo\", \"aqua\", \"rosybrown\", \"chocolate\"]  # TODO: Add more colors if needed\n",
    "\n",
    "\"\"\" Only possible in python>= 3.12 \n",
    "type BoxAnnotationParams = {\n",
    "    \"bottom\": float,\n",
    "    \"top\": float,\n",
    "    \"left\": float,\n",
    "    \"right\": float,\n",
    "    \"fill_alpha\": float,\n",
    "    \"fill_color\": str\n",
    "} \"\"\"\n",
    "\n",
    "\"\"\"\n",
    "create_fig: Create a figure with the given parameters\n",
    "\n",
    "Args:\n",
    "    title (str): Title of the plot\n",
    "    x_axis_label (str): Label of the x-axis\n",
    "    y_axis_label (str): Label of the y-axis\n",
    "    x (np.ndarray): Array of x values\n",
    "    y_arrays (list): List of tuples containing the y values and the legend label\n",
    "    x_range (tuple): Range of the x-axis    (Can make linked ranges with other plots)\n",
    "    y_range (tuple): Range of the y-axis\n",
    "    sizing_mode (str): Sizing mode of the plot\n",
    "    tools (str): Tools to be added to the plot\n",
    "    tooltips (str): Tooltips to be added to the plot\n",
    "    legend_location (str): Location of the legend\n",
    "    legend_bg_fill_color (str): Background fill color of the legend\n",
    "    legend_bg_fill_alpha (float): Background fill alpha of the legend\n",
    "    box_annotation_params (dict): Parameters to create a box annotation\n",
    "Returns:\n",
    "    bplt.Figure: The plot\n",
    "\"\"\"\n",
    "def create_fig(title, x_axis_label, y_axis_label, \n",
    "               x, y_arrays, x_range=None, y_range=None,\n",
    "               sizing_mode=None, tools=None, tooltips=None, \n",
    "               legend_location=None, legend_bg_fill_color=None, legend_bg_fill_alpha=None, \n",
    "               box_annotation_params=None):\n",
    "    # Create the plot\n",
    "    p = bplt.figure(\n",
    "        title=title,\n",
    "        x_axis_label=x_axis_label, \n",
    "        y_axis_label=y_axis_label,\n",
    "        sizing_mode=sizing_mode or \"stretch_both\",    # Make the plot stretch in both width and height\n",
    "        tools=tools or \"pan, box_zoom, wheel_zoom, hover, undo, redo, zoom_in, zoom_out, reset, save\",\n",
    "        tooltips=tooltips or \"Data point @x: @y\"\n",
    "    )\n",
    "\n",
    "    # Set the range of the x and y-axis\n",
    "    if x_range is not None:\n",
    "        p.x_range = x_range\n",
    "    if y_range is not None:\n",
    "        p.y_range = y_range\n",
    "\n",
    "    # Add a line graph to the plot for each y_array\n",
    "    for (arr_idx, y_array) in enumerate(y_arrays):\n",
    "        p.line(x, y_array[0], legend_label=y_array[1], line_width=2, line_color=line_colors[arr_idx % len(line_colors)])\n",
    "\n",
    "    # Legend settings\n",
    "    p.legend.location = legend_location or \"top_right\"\n",
    "    p.legend.background_fill_color = legend_bg_fill_color or \"navy\"\n",
    "    p.legend.background_fill_alpha = legend_bg_fill_alpha or 0.1\n",
    "    p.legend.click_policy = \"hide\"  # Clicking on a legend item will hide the corresponding line\n",
    "    # Format legend to 2 columns\n",
    "    p.legend.ncols = ceil(len(y_arrays) / 7)    # Make the number of rows no more than 7\n",
    "\n",
    "    # Grid settings\n",
    "    # p.ygrid.grid_line_color = \"red\"\n",
    "\n",
    "    # Add a box annotation\n",
    "    if box_annotation_params is not None:\n",
    "        inner_box = BoxAnnotation(\n",
    "            bottom=box_annotation_params[\"bottom\"], \n",
    "            top=box_annotation_params[\"top\"], \n",
    "            left=box_annotation_params[\"left\"], \n",
    "            right= box_annotation_params[\"right\"], \n",
    "            fill_alpha=box_annotation_params[\"fill_alpha\"], \n",
    "            fill_color=box_annotation_params[\"fill_color\"]\n",
    "        )\n",
    "        p.add_layout(inner_box)\n",
    "\n",
    "    # Return the plot\n",
    "    return p"
   ]
  },
  {
   "cell_type": "markdown",
   "metadata": {},
   "source": [
    "## Assemble the values to be plotted"
   ]
  },
  {
   "cell_type": "code",
   "execution_count": 47,
   "metadata": {},
   "outputs": [],
   "source": [
    "# Define the x and y values\n",
    "x = [val for val in range(num_steps)]\n",
    "\n",
    "v_y1 = [val[0] for val in lif1_voltage_vals]\n",
    "v_y2 = [val[1] for val in lif1_voltage_vals]\n",
    "v_y3 = [val[2] for val in lif1_voltage_vals]\n",
    "v_y4 = [val[3] for val in lif1_voltage_vals]\n",
    "v_y5 = [val[4] for val in lif1_voltage_vals]\n",
    "v_y6 = [val[5] for val in lif1_voltage_vals]\n",
    "v_y7 = [val[6] for val in lif1_voltage_vals]\n",
    "v_y8 = [val[7] for val in lif1_voltage_vals]\n",
    "\n",
    "# Create the plot\n",
    "voltage_lif1_y_arrays = [(v_y1, \"Ch. 1\"), (v_y2, \"Ch. 2\"), (v_y3, \"Ch. 3\"), (v_y4, \"Ch. 4\"), \n",
    "                         (v_y5, \"Ch. 5\"), (v_y6, \"Ch. 6\"), (v_y7, \"Ch. 7\"), (v_y8, \"Ch. 8\")]    # List of tuples containing the y values and the legend label\n",
    "# Define the box annotation parameters\n",
    "box_annotation_voltage = {\n",
    "    \"bottom\": 0,\n",
    "    \"top\": v_th,\n",
    "    \"left\": 0,\n",
    "    \"right\": num_steps,\n",
    "    \"fill_alpha\": 0.03,\n",
    "    \"fill_color\": \"green\"\n",
    "}\n",
    "\n",
    "# Create the LIF1 Voltage\n",
    "voltage_lif1_plot = create_fig(\n",
    "    title=\"LIF1 Voltage dynamics\", \n",
    "    x_axis_label='time (ms)', \n",
    "    y_axis_label='Voltage (V)',\n",
    "    x=x, \n",
    "    y_arrays=voltage_lif1_y_arrays, \n",
    "    sizing_mode=\"stretch_both\", \n",
    "    tools=\"pan, box_zoom, wheel_zoom, hover, undo, redo, zoom_in, zoom_out, reset, save\",\n",
    "    tooltips=\"Data point @x: @y\",\n",
    "    legend_location=\"top_right\",\n",
    "    legend_bg_fill_color=\"navy\",\n",
    "    legend_bg_fill_alpha=0.1,\n",
    "    box_annotation_params=box_annotation_voltage\n",
    ")\n",
    "\n",
    "\n",
    "# Create the LIF1 Current\n",
    "u_y1 = [val[0] for val in lif1_current_vals]\n",
    "u_y2 = [val[1] for val in lif1_current_vals]\n",
    "u_y3 = [val[2] for val in lif1_current_vals]\n",
    "u_y4 = [val[3] for val in lif1_current_vals]\n",
    "u_y5 = [val[4] for val in lif1_current_vals]\n",
    "u_y6 = [val[5] for val in lif1_current_vals]\n",
    "u_y7 = [val[6] for val in lif1_current_vals]\n",
    "u_y8 = [val[7] for val in lif1_current_vals]\n",
    "current_lif1_y_arrays = [(u_y1, \"Ch. 1\"), (u_y2, \"Ch. 2\"), (u_y3, \"Ch. 3\"), (u_y4, \"Ch. 4\"),\n",
    "                         (u_y5, \"Ch. 5\"), (u_y6, \"Ch. 6\"), (u_y7, \"Ch. 7\"), (u_y8, \"Ch. 8\")]    # List of tuples containing the y values and the legend label\n",
    "current_lif1_plot = create_fig(\n",
    "    title=\"LIF1 Current dynamics\", \n",
    "    x_axis_label='time (ms)', \n",
    "    y_axis_label='Current (U)',\n",
    "    x=x, \n",
    "    y_arrays=current_lif1_y_arrays, \n",
    "    sizing_mode=\"stretch_both\", \n",
    "    tools=\"pan, box_zoom, wheel_zoom, hover, undo, redo, zoom_in, zoom_out, reset, save\",\n",
    "    tooltips=\"Data point @x: @y\",\n",
    "    legend_location=\"top_right\",\n",
    "    legend_bg_fill_color=\"navy\",\n",
    "    legend_bg_fill_alpha=0.1,\n",
    "    x_range=voltage_lif1_plot.x_range,    # Link the x-axis range to the voltage plot\n",
    ")\n",
    "\n",
    "# bplt.show(voltage_lif1_plot)"
   ]
  },
  {
   "cell_type": "markdown",
   "metadata": {},
   "source": [
    "## Show the Plots assembled in a grid"
   ]
  },
  {
   "cell_type": "code",
   "execution_count": 48,
   "metadata": {},
   "outputs": [],
   "source": [
    "from bokeh.layouts import gridplot\n",
    "\n",
    "# Create array of plots to be shown\n",
    "plots = [voltage_lif1_plot, current_lif1_plot]\n",
    "\n",
    "if len(plots) == 1:\n",
    "    grid = plots[0]\n",
    "else:   # Create a grid layout\n",
    "    grid = gridplot(plots, ncols=2, sizing_mode=\"stretch_both\")\n",
    "\n",
    "# Show the plot\n",
    "bplt.show(grid)"
   ]
  },
  {
   "cell_type": "markdown",
   "metadata": {},
   "source": [
    "## Export the plot to a file"
   ]
  },
  {
   "cell_type": "code",
   "execution_count": 36,
   "metadata": {},
   "outputs": [],
   "source": [
    "export = False\n",
    "\n",
    "if export:\n",
    "    file_path = \"./fp_results/lab_ch1-8_2spikes_10ms_4_0_0.1_0.3.html\"\n",
    "\n",
    "    # Customize the output file settings\n",
    "    bplt.output_file(filename=file_path, title=\"Channel Burst detection - LIF1 Voltage and Current dynamics\")\n",
    "\n",
    "    # Save the plot\n",
    "    bplt.save(grid)"
   ]
  },
  {
   "cell_type": "markdown",
   "metadata": {},
   "source": [
    "## Stop the Runtime"
   ]
  },
  {
   "cell_type": "code",
   "execution_count": 37,
   "metadata": {},
   "outputs": [],
   "source": [
    "lif1.stop()"
   ]
  }
 ],
 "metadata": {
  "kernelspec": {
   "display_name": "Python 3 (ipykernel)",
   "language": "python",
   "name": "python3"
  }
 },
 "nbformat": 4,
 "nbformat_minor": 4
}
