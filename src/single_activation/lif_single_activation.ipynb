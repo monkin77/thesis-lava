{
 "cells": [
  {
   "cell_type": "markdown",
   "metadata": {},
   "source": [
    "# SNN that reacts to a single activation\n",
    "This notebook is used to show the dynamics of a LIF in response to a single activation.\n",
    "\n",
    "It's useful to visualize how the `voltage` and `current` behave and their respective time constants."
   ]
  },
  {
   "cell_type": "code",
   "execution_count": 61,
   "metadata": {},
   "outputs": [
    {
     "name": "stdout",
     "output_type": "stream",
     "text": [
      "\u001b[0;31mInit signature:\u001b[0m \u001b[0mLIF\u001b[0m\u001b[0;34m(\u001b[0m\u001b[0;34m*\u001b[0m\u001b[0margs\u001b[0m\u001b[0;34m,\u001b[0m \u001b[0;34m**\u001b[0m\u001b[0mkwargs\u001b[0m\u001b[0;34m)\u001b[0m\u001b[0;34m\u001b[0m\u001b[0;34m\u001b[0m\u001b[0m\n",
      "\u001b[0;31mDocstring:\u001b[0m     \n",
      "Leaky-Integrate-and-Fire (LIF) neural Process.\n",
      "\n",
      "LIF dynamics abstracts to:\n",
      "u[t] = u[t-1] * (1-du) + a_in         # neuron current\n",
      "v[t] = v[t-1] * (1-dv) + u[t] + bias  # neuron voltage\n",
      "s_out = v[t] > vth                    # spike if threshold is exceeded\n",
      "v[t] = 0                              # reset at spike\n",
      "\n",
      "Parameters\n",
      "----------\n",
      "shape : tuple(int)\n",
      "    Number and topology of LIF neurons.\n",
      "u : float, list, numpy.ndarray, optional\n",
      "    Initial value of the neurons' current.\n",
      "v : float, list, numpy.ndarray, optional\n",
      "    Initial value of the neurons' voltage (membrane potential).\n",
      "du : float, optional\n",
      "    Inverse of decay time-constant for current decay. Currently, only a\n",
      "    single decay can be set for the entire population of neurons.\n",
      "dv : float, optional\n",
      "    Inverse of decay time-constant for voltage decay. Currently, only a\n",
      "    single decay can be set for the entire population of neurons.\n",
      "bias_mant : float, list, numpy.ndarray, optional\n",
      "    Mantissa part of neuron bias.\n",
      "bias_exp : float, list, numpy.ndarray, optional\n",
      "    Exponent part of neuron bias, if needed. Mostly for fixed point\n",
      "    implementations. Ignored for floating point implementations.\n",
      "vth : float, optional\n",
      "    Neuron threshold voltage, exceeding which, the neuron will spike.\n",
      "    Currently, only a single threshold can be set for the entire\n",
      "    population of neurons.\n",
      "\n",
      "Example\n",
      "-------\n",
      ">>> lif = LIF(shape=(200, 15), du=10, dv=5)\n",
      "This will create 200x15 LIF neurons that all have the same current decay\n",
      "of 10 and voltage decay of 5.\n",
      "\u001b[0;31mInit docstring:\u001b[0m Initializes a new Process.\n",
      "\u001b[0;31mFile:\u001b[0m           ~/Desktop/feup/thesis/lava/.venv/src/lava/src/lava/proc/lif/process.py\n",
      "\u001b[0;31mType:\u001b[0m           ProcessPostInitCaller\n",
      "\u001b[0;31mSubclasses:\u001b[0m     LIFReset, LIFRefractory"
     ]
    }
   ],
   "source": [
    "from lava.proc.lif.process import LIF\n",
    "from lava.proc.dense.process import Dense\n",
    "\n",
    "LIF?"
   ]
  },
  {
   "cell_type": "code",
   "execution_count": 62,
   "metadata": {},
   "outputs": [],
   "source": [
    "# Define the number of neurons in each LIF Layer\n",
    "n1 = 2   # Let's create a simple program with only 1 LIF layer"
   ]
  },
  {
   "cell_type": "code",
   "execution_count": 63,
   "metadata": {},
   "outputs": [],
   "source": [
    "import numpy as np\n",
    "\n",
    "v_th = 5\n",
    "v_init = 0\n",
    "dv = 0.10   # biological value = 0.07\n",
    "du = 0.3    # biological value = 0.2\n",
    "\n",
    "# Create Processes\n",
    "lif1 = LIF(shape=(n1,),  # There are 2 neurons\n",
    "           vth=v_th,  # TODO: Verify these initial values\n",
    "           v=v_init,\n",
    "           dv=dv,    # Inverse of decay time-constant for voltage decay\n",
    "           du=du,  # Inverse of decay time-constant for current decay\n",
    "           bias_mant=0,\n",
    "           bias_exp=0,\n",
    "           name=\"lif1\")"
   ]
  },
  {
   "cell_type": "code",
   "execution_count": 64,
   "metadata": {},
   "outputs": [
    {
     "name": "stdout",
     "output_type": "stream",
     "text": [
      "Proc: lif1  Port Name: a_in  Size: 2\n",
      "Proc: lif1  Port Name: s_out Size: 2\n"
     ]
    }
   ],
   "source": [
    "for proc in [lif1]:\n",
    "    for port in proc.in_ports:\n",
    "        print(f\"Proc: {proc.name:<5} Port Name: {port.name:<5} Size: {port.size}\")\n",
    "    for port in proc.out_ports:\n",
    "        print(f\"Proc: {proc.name:<5} Port Name: {port.name:<5} Size: {port.size}\")"
   ]
  },
  {
   "cell_type": "markdown",
   "metadata": {},
   "source": [
    "## Create the Custom Input Layer\n",
    "\n",
    "### Define function to read the input data from the csv file and generate the corresponding spike events"
   ]
  },
  {
   "cell_type": "code",
   "execution_count": 65,
   "metadata": {},
   "outputs": [],
   "source": [
    "import pandas as pd\n",
    "\n",
    "def read_spike_events(file_path: str):\n",
    "    \"\"\"Reads the spike events from the input file and returns them as a numpy array\n",
    "\n",
    "    Args:\n",
    "        file_path (str): name of the file containing the spike events\n",
    "    \"\"\"\n",
    "    spike_events = []\n",
    "\n",
    "    try:\n",
    "        # Read the spike events from the file\n",
    "        df = pd.read_csv(file_path, header=None)\n",
    "\n",
    "        # Detect errors\n",
    "        if df.empty:\n",
    "            raise Exception(\"The input file is empty\")\n",
    "\n",
    "        # Convert the scientific notation values to integers if any exist\n",
    "        df = df.applymap(lambda x: int(float(x)) if (isinstance(x, str) and 'e' in x) else x)\n",
    "\n",
    "        # Convert the dataframe to a numpy array\n",
    "        spike_events = df.to_numpy()\n",
    "        return spike_events[0]\n",
    "    except Exception as e:\n",
    "        print(\"Unable to read the input file: \", file_path, \" error:\", e)\n",
    "\n",
    "    return spike_events"
   ]
  },
  {
   "cell_type": "code",
   "execution_count": 66,
   "metadata": {},
   "outputs": [
    {
     "name": "stdout",
     "output_type": "stream",
     "text": [
      "Spike events:  (1,) [5]\n"
     ]
    }
   ],
   "source": [
    "# Call the function to read the spike events\n",
    "file_path = \"./data/single_activation.csv\"\n",
    "spike_events = read_spike_events(file_path)\n",
    "print(\"Spike events: \", spike_events.shape, spike_events[:10])"
   ]
  },
  {
   "cell_type": "markdown",
   "metadata": {},
   "source": [
    "### Define the SpikeEvent Generator Interface"
   ]
  },
  {
   "cell_type": "code",
   "execution_count": 67,
   "metadata": {},
   "outputs": [],
   "source": [
    "from lava.magma.core.process.process import AbstractProcess\n",
    "from lava.magma.core.process.variable import Var\n",
    "from lava.magma.core.process.ports.ports import OutPort\n",
    "\n",
    "class SpikeEventGen(AbstractProcess):\n",
    "    \"\"\"Input Process that generates spike events based on the input file\n",
    "\n",
    "    Args:\n",
    "        shape (tuple): Shape of the output port\n",
    "        file_name (str): Name of the file containing the spike events\n",
    "    \"\"\"\n",
    "    def __init__(self, shape: tuple, spike_events: np.ndarray, name: str) -> None:\n",
    "        super().__init__(name=name)\n",
    "        self.s_out = OutPort(shape=shape)\n",
    "        self.spike_events = Var(shape=spike_events.shape, init=spike_events)"
   ]
  },
  {
   "cell_type": "markdown",
   "metadata": {},
   "source": [
    "### Implement the `SpikeEventGenerator` Model"
   ]
  },
  {
   "cell_type": "code",
   "execution_count": 68,
   "metadata": {},
   "outputs": [],
   "source": [
    "from lava.magma.core.model.py.model import PyLoihiProcessModel  # Processes running on CPU inherit from this class\n",
    "from lava.magma.core.resources import CPU\n",
    "from lava.magma.core.decorator import implements, requires\n",
    "from lava.magma.core.sync.protocols.loihi_protocol import LoihiProtocol\n",
    "from lava.magma.core.model.py.type import LavaPyType\n",
    "from lava.magma.core.model.py.ports import PyOutPort\n",
    "\n",
    "@implements(proc=SpikeEventGen, protocol=LoihiProtocol)\n",
    "@requires(CPU)\n",
    "class PySpikeEventGenModel(PyLoihiProcessModel):\n",
    "    \"\"\"Spike Event Generator Process implementation running on CPU (Python)\n",
    "    Args:\n",
    "    \"\"\"\n",
    "    s_out: PyOutPort = LavaPyType(PyOutPort.VEC_DENSE, float)   # IT IS POSSIBLE TO SEND FLOATS AFTER ALL\n",
    "    spike_events: np.ndarray = LavaPyType(np.ndarray, np.ndarray)   # TODO: Check if we should keep it as a numpy array, or transform it to a list\n",
    "\n",
    "    def __init__(self, proc_params) -> None:\n",
    "        super().__init__(proc_params=proc_params)\n",
    "        # print(\"spike events\", self.spike_events.__str__())    # TODO: Check why during initialization the variable prints the class, while during run it prints the value\n",
    "        self.curr_spike_idx = 0     # Index of the next spiking event to send\n",
    "        self.virtual_time_step_interval = 1  # 1000    # Arbitrary time between time steps (in microseconds). This is not a real time interval (1000ms = 1s)\n",
    "        self.init_offset = 0        # 698995               # Arbitrary offset to start the simulation (in microseconds)\n",
    "\n",
    "    def run_spk(self) -> None:\n",
    "        spike_data = np.zeros(self.s_out.shape) # Initialize the spike data to 0\n",
    "        \n",
    "        # Use random spikes to test it\n",
    "        # spike_data[0] = np.random.random()  # Only 1 neuron is sending data (spikes)\n",
    "        # self.curr_spike_idx += 1\n",
    "\n",
    "        # Use the spike events from the file\n",
    "        # print(\"spike events: \", self.spike_events[:5])\n",
    "        # TODO: For now we are using the time_step as the time measurement that will simulate real-time activity. It would be better to have access to the running time\n",
    "        \n",
    "        #print(\"time step:\", self.time_step)\n",
    "        # If the current simulation time is greater than the next spike event, send a spike\n",
    "        currTime = self.init_offset + self.time_step*self.virtual_time_step_interval\n",
    "        if ( self.curr_spike_idx < len(self.spike_events) ) and currTime >= self.spike_events[self.curr_spike_idx]:\n",
    "            spike_data[0] = 1.0   # Send a spike  (value corresponds to the punctual current of the spike event?)\n",
    "            spike_data[1] = 0.0   # Send a spike  (value corresponds to the punctual current of the spike event?)\n",
    "            print(f\"sending spike event at time: {currTime}({self.time_step}) spike idx: {self.curr_spike_idx} spike time: {self.spike_events[self.curr_spike_idx]}\")\n",
    "            self.curr_spike_idx += 1\n",
    "\n",
    "        # Send spikes\n",
    "        # print(\"sending spike_data: \", spike_data, \" at step: \", self.time_step)\n",
    "        self.s_out.send(spike_data)\n",
    "\n",
    "        # Stop the Process if there are no more spike events to send. (It will stop all the connected processes)\n",
    "        # TODO: Should it be another process that stops the simulation? Such as the last LIF process\n",
    "        # if self.curr_spike_idx >= 5: # len(self.spike_events):\n",
    "        #    self.pause()\n"
   ]
  },
  {
   "cell_type": "markdown",
   "metadata": {},
   "source": [
    "## Connect the Custom Input Layer to the middle layer\n",
    "\n",
    "To define the connectivity between the `SpikeGenerator` and the first `LIF` population, we use another `Dense` Layer."
   ]
  },
  {
   "cell_type": "code",
   "execution_count": 69,
   "metadata": {},
   "outputs": [],
   "source": [
    "# Create the Input Process\n",
    "spike_event_gen = SpikeEventGen(shape=(n1,), spike_events=spike_events, name=\"CustomInput\")\n",
    "\n",
    "# Instantiante a Dense Layer to connect the SpikeEventGen to the middle layer\n",
    "dense_input = Dense(weights=np.eye(n1), name=\"DenseInput\")     # 1-1 connectivity with the Middle Layer (should be a 2x2 matrix right now)\n",
    "\n",
    "# Connect the SpikeEventGen to the Dense Layer\n",
    "spike_event_gen.s_out.connect(dense_input.s_in)\n",
    "\n",
    "# Connect the Dense_Input to the LIF1 Layer\n",
    "dense_input.a_out.connect(lif1.a_in)"
   ]
  },
  {
   "cell_type": "markdown",
   "metadata": {},
   "source": [
    "### Take a look at the connections in the Input Layer"
   ]
  },
  {
   "cell_type": "code",
   "execution_count": 70,
   "metadata": {},
   "outputs": [
    {
     "name": "stdout",
     "output_type": "stream",
     "text": [
      "Proc: CustomInput Port Name: s_out Size: 2\n",
      "Proc: DenseInput Port Name: s_in  Size: 2\n",
      "Proc: DenseInput Port Name: a_out Size: 2\n",
      "Proc: lif1  Port Name: a_in  Size: 2\n",
      "Proc: lif1  Port Name: s_out Size: 2\n"
     ]
    }
   ],
   "source": [
    "for proc in [spike_event_gen, dense_input, lif1]:\n",
    "    for port in proc.in_ports:\n",
    "        print(f\"Proc: {proc.name:<5} Port Name: {port.name:<5} Size: {port.size}\")\n",
    "    for port in proc.out_ports:\n",
    "        print(f\"Proc: {proc.name:<5} Port Name: {port.name:<5} Size: {port.size}\")"
   ]
  },
  {
   "cell_type": "code",
   "execution_count": 71,
   "metadata": {},
   "outputs": [
    {
     "data": {
      "text/plain": [
       "array([[1., 0.],\n",
       "       [0., 1.]])"
      ]
     },
     "execution_count": 71,
     "metadata": {},
     "output_type": "execute_result"
    }
   ],
   "source": [
    "# Weights of the Input Dense Layer\n",
    "dense_input.weights.get()"
   ]
  },
  {
   "cell_type": "markdown",
   "metadata": {},
   "source": [
    "### Record Internal Vars over time\n",
    "To record the evolution of the internal variables over time, we need a `Monitor`. For this example, we want to record the membrane potential of the `LIF` Layer, hence we need 1 `Monitors`.\n",
    "\n",
    "We can define the `Var` that a `Monitor` should record, as well as the recording duration, using the `probe` function"
   ]
  },
  {
   "cell_type": "code",
   "execution_count": 72,
   "metadata": {},
   "outputs": [],
   "source": [
    "from lava.proc.monitor.process import Monitor\n",
    "\n",
    "monitor_lif1_v = Monitor()\n",
    "monitor_lif1_u = Monitor()\n",
    "\n",
    "num_steps = 100        # 26500     # TODO: Check the number of steps to run the simulation for\n",
    "\n",
    "# Connect the monitors to the variables we want to monitor\n",
    "monitor_lif1_v.probe(lif1.v, num_steps)\n",
    "monitor_lif1_u.probe(lif1.u, num_steps)"
   ]
  },
  {
   "cell_type": "markdown",
   "metadata": {},
   "source": [
    "## Execution\n",
    "Now that we have defined the network, we can execute it. We will use the `run` function to execute the network."
   ]
  },
  {
   "cell_type": "markdown",
   "metadata": {},
   "source": [
    "### Run Configuration and Conditions"
   ]
  },
  {
   "cell_type": "code",
   "execution_count": 73,
   "metadata": {},
   "outputs": [],
   "source": [
    "from lava.magma.core.run_conditions import RunContinuous, RunSteps\n",
    "from lava.magma.core.run_configs import Loihi1SimCfg\n",
    "\n",
    "# run_condition = RunContinuous()   # TODO: Change to this one\n",
    "run_condition = RunSteps(num_steps=num_steps)\n",
    "run_cfg = Loihi1SimCfg(select_tag=\"floating_pt\")   # TODO: Check why we need this select_tag=\"floating_pt\""
   ]
  },
  {
   "cell_type": "markdown",
   "metadata": {},
   "source": [
    "### Execute"
   ]
  },
  {
   "cell_type": "code",
   "execution_count": 74,
   "metadata": {},
   "outputs": [
    {
     "name": "stdout",
     "output_type": "stream",
     "text": [
      "sending spike event at time: 5(5) spike idx: 0 spike time: 5\n"
     ]
    }
   ],
   "source": [
    "lif1.run(condition=run_condition, run_cfg=run_cfg)"
   ]
  },
  {
   "cell_type": "markdown",
   "metadata": {},
   "source": [
    "### Retrieve recorded data"
   ]
  },
  {
   "cell_type": "code",
   "execution_count": 75,
   "metadata": {},
   "outputs": [],
   "source": [
    "data_lif1_v = monitor_lif1_v.get_data()\n",
    "data_lif1_u = monitor_lif1_u.get_data()\n",
    "\n",
    "data_lif1 = data_lif1_v.copy()\n",
    "data_lif1[\"lif1\"][\"u\"] = data_lif1_u[\"lif1\"][\"u\"]   # Merge the dictionaries to contain both voltage and current\n"
   ]
  },
  {
   "cell_type": "code",
   "execution_count": 76,
   "metadata": {},
   "outputs": [
    {
     "data": {
      "text/plain": [
       "{'lif1': {'v': array([[0.00000000e+00, 0.00000000e+00],\n",
       "         [0.00000000e+00, 0.00000000e+00],\n",
       "         [0.00000000e+00, 0.00000000e+00],\n",
       "         [0.00000000e+00, 0.00000000e+00],\n",
       "         [0.00000000e+00, 0.00000000e+00],\n",
       "         [1.00000000e+00, 0.00000000e+00],\n",
       "         [1.60000000e+00, 0.00000000e+00],\n",
       "         [1.93000000e+00, 0.00000000e+00],\n",
       "         [2.08000000e+00, 0.00000000e+00],\n",
       "         [2.11210000e+00, 0.00000000e+00],\n",
       "         [2.06896000e+00, 0.00000000e+00],\n",
       "         [1.97971300e+00, 0.00000000e+00],\n",
       "         [1.86409600e+00, 0.00000000e+00],\n",
       "         [1.73533441e+00, 0.00000000e+00],\n",
       "         [1.60215458e+00, 0.00000000e+00],\n",
       "         [1.47018664e+00, 0.00000000e+00],\n",
       "         [1.34294125e+00, 0.00000000e+00],\n",
       "         [1.22248841e+00, 0.00000000e+00],\n",
       "         [1.10992847e+00, 0.00000000e+00],\n",
       "         [1.00571785e+00, 0.00000000e+00],\n",
       "         [9.09893629e-01, 0.00000000e+00],\n",
       "         [8.22227559e-01, 0.00000000e+00],\n",
       "         [7.42331108e-01, 0.00000000e+00],\n",
       "         [6.69726411e-01, 0.00000000e+00],\n",
       "         [6.03893660e-01, 0.00000000e+00],\n",
       "         [5.44302216e-01, 0.00000000e+00],\n",
       "         [4.90430541e-01, 0.00000000e+00],\n",
       "         [4.41778469e-01, 0.00000000e+00],\n",
       "         [3.97874309e-01, 0.00000000e+00],\n",
       "         [3.58278460e-01, 0.00000000e+00],\n",
       "         [3.22584720e-01, 0.00000000e+00],\n",
       "         [2.90420123e-01, 0.00000000e+00],\n",
       "         [2.61443823e-01, 0.00000000e+00],\n",
       "         [2.35345440e-01, 0.00000000e+00],\n",
       "         [2.11843095e-01, 0.00000000e+00],\n",
       "         [1.90681325e-01, 0.00000000e+00],\n",
       "         [1.71628970e-01, 0.00000000e+00],\n",
       "         [1.54477117e-01, 0.00000000e+00],\n",
       "         [1.39037136e-01, 0.00000000e+00],\n",
       "         [1.25138834e-01, 0.00000000e+00],\n",
       "         [1.12628739e-01, 0.00000000e+00],\n",
       "         [1.01368517e-01, 0.00000000e+00],\n",
       "         [9.12335214e-02, 0.00000000e+00],\n",
       "         [8.21114686e-02, 0.00000000e+00],\n",
       "         [7.39012313e-02, 0.00000000e+00],\n",
       "         [6.65117449e-02, 0.00000000e+00],\n",
       "         [5.98610160e-02, 0.00000000e+00],\n",
       "         [5.38752264e-02, 0.00000000e+00],\n",
       "         [4.84879222e-02, 0.00000000e+00],\n",
       "         [4.36392828e-02, 0.00000000e+00],\n",
       "         [3.92754615e-02, 0.00000000e+00],\n",
       "         [3.53479903e-02, 0.00000000e+00],\n",
       "         [3.18132437e-02, 0.00000000e+00],\n",
       "         [2.86319560e-02, 0.00000000e+00],\n",
       "         [2.57687861e-02, 0.00000000e+00],\n",
       "         [2.31919255e-02, 0.00000000e+00],\n",
       "         [2.08727455e-02, 0.00000000e+00],\n",
       "         [1.87854798e-02, 0.00000000e+00],\n",
       "         [1.69069380e-02, 0.00000000e+00],\n",
       "         [1.52162485e-02, 0.00000000e+00],\n",
       "         [1.36946267e-02, 0.00000000e+00],\n",
       "         [1.23251661e-02, 0.00000000e+00],\n",
       "         [1.10926510e-02, 0.00000000e+00],\n",
       "         [9.98338693e-03, 0.00000000e+00],\n",
       "         [8.98504896e-03, 0.00000000e+00],\n",
       "         [8.08654457e-03, 0.00000000e+00],\n",
       "         [7.27789047e-03, 0.00000000e+00],\n",
       "         [6.55010167e-03, 0.00000000e+00],\n",
       "         [5.89509168e-03, 0.00000000e+00],\n",
       "         [5.30558263e-03, 0.00000000e+00],\n",
       "         [4.77502446e-03, 0.00000000e+00],\n",
       "         [4.29752207e-03, 0.00000000e+00],\n",
       "         [3.86776990e-03, 0.00000000e+00],\n",
       "         [3.48099294e-03, 0.00000000e+00],\n",
       "         [3.13289367e-03, 0.00000000e+00],\n",
       "         [2.81960432e-03, 0.00000000e+00],\n",
       "         [2.53764390e-03, 0.00000000e+00],\n",
       "         [2.28387951e-03, 0.00000000e+00],\n",
       "         [2.05549157e-03, 0.00000000e+00],\n",
       "         [1.84994241e-03, 0.00000000e+00],\n",
       "         [1.66494817e-03, 0.00000000e+00],\n",
       "         [1.49845336e-03, 0.00000000e+00],\n",
       "         [1.34860802e-03, 0.00000000e+00],\n",
       "         [1.21374722e-03, 0.00000000e+00],\n",
       "         [1.09237250e-03, 0.00000000e+00],\n",
       "         [9.83135251e-04, 0.00000000e+00],\n",
       "         [8.84821726e-04, 0.00000000e+00],\n",
       "         [7.96339554e-04, 0.00000000e+00],\n",
       "         [7.16705598e-04, 0.00000000e+00],\n",
       "         [6.45035039e-04, 0.00000000e+00],\n",
       "         [5.80531535e-04, 0.00000000e+00],\n",
       "         [5.22478381e-04, 0.00000000e+00],\n",
       "         [4.70230543e-04, 0.00000000e+00],\n",
       "         [4.23207489e-04, 0.00000000e+00],\n",
       "         [3.80886740e-04, 0.00000000e+00],\n",
       "         [3.42798066e-04, 0.00000000e+00],\n",
       "         [3.08518260e-04, 0.00000000e+00],\n",
       "         [2.77666434e-04, 0.00000000e+00],\n",
       "         [2.49899790e-04, 0.00000000e+00],\n",
       "         [2.24909811e-04, 0.00000000e+00]]),\n",
       "  'u': array([[0.00000000e+00, 0.00000000e+00],\n",
       "         [0.00000000e+00, 0.00000000e+00],\n",
       "         [0.00000000e+00, 0.00000000e+00],\n",
       "         [0.00000000e+00, 0.00000000e+00],\n",
       "         [0.00000000e+00, 0.00000000e+00],\n",
       "         [1.00000000e+00, 0.00000000e+00],\n",
       "         [7.00000000e-01, 0.00000000e+00],\n",
       "         [4.90000000e-01, 0.00000000e+00],\n",
       "         [3.43000000e-01, 0.00000000e+00],\n",
       "         [2.40100000e-01, 0.00000000e+00],\n",
       "         [1.68070000e-01, 0.00000000e+00],\n",
       "         [1.17649000e-01, 0.00000000e+00],\n",
       "         [8.23543000e-02, 0.00000000e+00],\n",
       "         [5.76480100e-02, 0.00000000e+00],\n",
       "         [4.03536070e-02, 0.00000000e+00],\n",
       "         [2.82475249e-02, 0.00000000e+00],\n",
       "         [1.97732674e-02, 0.00000000e+00],\n",
       "         [1.38412872e-02, 0.00000000e+00],\n",
       "         [9.68890104e-03, 0.00000000e+00],\n",
       "         [6.78223073e-03, 0.00000000e+00],\n",
       "         [4.74756151e-03, 0.00000000e+00],\n",
       "         [3.32329306e-03, 0.00000000e+00],\n",
       "         [2.32630514e-03, 0.00000000e+00],\n",
       "         [1.62841360e-03, 0.00000000e+00],\n",
       "         [1.13988952e-03, 0.00000000e+00],\n",
       "         [7.97922663e-04, 0.00000000e+00],\n",
       "         [5.58545864e-04, 0.00000000e+00],\n",
       "         [3.90982105e-04, 0.00000000e+00],\n",
       "         [2.73687473e-04, 0.00000000e+00],\n",
       "         [1.91581231e-04, 0.00000000e+00],\n",
       "         [1.34106862e-04, 0.00000000e+00],\n",
       "         [9.38748034e-05, 0.00000000e+00],\n",
       "         [6.57123624e-05, 0.00000000e+00],\n",
       "         [4.59986537e-05, 0.00000000e+00],\n",
       "         [3.21990576e-05, 0.00000000e+00],\n",
       "         [2.25393403e-05, 0.00000000e+00],\n",
       "         [1.57775382e-05, 0.00000000e+00],\n",
       "         [1.10442767e-05, 0.00000000e+00],\n",
       "         [7.73099372e-06, 0.00000000e+00],\n",
       "         [5.41169560e-06, 0.00000000e+00],\n",
       "         [3.78818692e-06, 0.00000000e+00],\n",
       "         [2.65173085e-06, 0.00000000e+00],\n",
       "         [1.85621159e-06, 0.00000000e+00],\n",
       "         [1.29934811e-06, 0.00000000e+00],\n",
       "         [9.09543680e-07, 0.00000000e+00],\n",
       "         [6.36680576e-07, 0.00000000e+00],\n",
       "         [4.45676403e-07, 0.00000000e+00],\n",
       "         [3.11973482e-07, 0.00000000e+00],\n",
       "         [2.18381438e-07, 0.00000000e+00],\n",
       "         [1.52867006e-07, 0.00000000e+00],\n",
       "         [1.07006904e-07, 0.00000000e+00],\n",
       "         [7.49048331e-08, 0.00000000e+00],\n",
       "         [5.24333832e-08, 0.00000000e+00],\n",
       "         [3.67033682e-08, 0.00000000e+00],\n",
       "         [2.56923578e-08, 0.00000000e+00],\n",
       "         [1.79846504e-08, 0.00000000e+00],\n",
       "         [1.25892553e-08, 0.00000000e+00],\n",
       "         [8.81247871e-09, 0.00000000e+00],\n",
       "         [6.16873510e-09, 0.00000000e+00],\n",
       "         [4.31811457e-09, 0.00000000e+00],\n",
       "         [3.02268020e-09, 0.00000000e+00],\n",
       "         [2.11587614e-09, 0.00000000e+00],\n",
       "         [1.48111330e-09, 0.00000000e+00],\n",
       "         [1.03677931e-09, 0.00000000e+00],\n",
       "         [7.25745515e-10, 0.00000000e+00],\n",
       "         [5.08021861e-10, 0.00000000e+00],\n",
       "         [3.55615303e-10, 0.00000000e+00],\n",
       "         [2.48930712e-10, 0.00000000e+00],\n",
       "         [1.74251498e-10, 0.00000000e+00],\n",
       "         [1.21976049e-10, 0.00000000e+00],\n",
       "         [8.53832341e-11, 0.00000000e+00],\n",
       "         [5.97682639e-11, 0.00000000e+00],\n",
       "         [4.18377847e-11, 0.00000000e+00],\n",
       "         [2.92864493e-11, 0.00000000e+00],\n",
       "         [2.05005145e-11, 0.00000000e+00],\n",
       "         [1.43503602e-11, 0.00000000e+00],\n",
       "         [1.00452521e-11, 0.00000000e+00],\n",
       "         [7.03167648e-12, 0.00000000e+00],\n",
       "         [4.92217354e-12, 0.00000000e+00],\n",
       "         [3.44552147e-12, 0.00000000e+00],\n",
       "         [2.41186503e-12, 0.00000000e+00],\n",
       "         [1.68830552e-12, 0.00000000e+00],\n",
       "         [1.18181387e-12, 0.00000000e+00],\n",
       "         [8.27269706e-13, 0.00000000e+00],\n",
       "         [5.79088794e-13, 0.00000000e+00],\n",
       "         [4.05362156e-13, 0.00000000e+00],\n",
       "         [2.83753509e-13, 0.00000000e+00],\n",
       "         [1.98627456e-13, 0.00000000e+00],\n",
       "         [1.39039219e-13, 0.00000000e+00],\n",
       "         [9.73274536e-14, 0.00000000e+00],\n",
       "         [6.81292176e-14, 0.00000000e+00],\n",
       "         [4.76904523e-14, 0.00000000e+00],\n",
       "         [3.33833166e-14, 0.00000000e+00],\n",
       "         [2.33683216e-14, 0.00000000e+00],\n",
       "         [1.63578251e-14, 0.00000000e+00],\n",
       "         [1.14504776e-14, 0.00000000e+00],\n",
       "         [8.01533432e-15, 0.00000000e+00],\n",
       "         [5.61073402e-15, 0.00000000e+00],\n",
       "         [3.92751381e-15, 0.00000000e+00],\n",
       "         [2.74925967e-15, 0.00000000e+00]])}}"
      ]
     },
     "execution_count": 76,
     "metadata": {},
     "output_type": "execute_result"
    }
   ],
   "source": [
    "data_lif1"
   ]
  },
  {
   "cell_type": "code",
   "execution_count": 77,
   "metadata": {},
   "outputs": [
    {
     "data": {
      "text/plain": [
       "100"
      ]
     },
     "execution_count": 77,
     "metadata": {},
     "output_type": "execute_result"
    }
   ],
   "source": [
    "# Check the shape to verify if it is printing the voltage for every step\n",
    "len(data_lif1['lif1']['v'])     # Indeed, there are 300 values (same as the number of steps we ran the simulation for)"
   ]
  },
  {
   "cell_type": "markdown",
   "metadata": {},
   "source": [
    "### Plot the recorded data"
   ]
  },
  {
   "cell_type": "code",
   "execution_count": 78,
   "metadata": {},
   "outputs": [
    {
     "data": {
      "image/png": "[encoded data removed]",
      "text/plain": [
       "<Figure size 1600x500 with 2 Axes>"
      ]
     },
     "metadata": {},
     "output_type": "display_data"
    }
   ],
   "source": [
    "import matplotlib\n",
    "%matplotlib inline\n",
    "from matplotlib import pyplot as plt\n",
    "\n",
    "# Create a subplot for each monitored variable\n",
    "fig = plt.figure(figsize=(16, 5))\n",
    "ax0 = fig.add_subplot(121)\n",
    "ax0.set_title('Voltage (V) / time step')\n",
    "ax1 = fig.add_subplot(122)\n",
    "ax1.set_title('Current (U) / time step')\n",
    "\n",
    "# Plot the data\n",
    "monitor_lif1_v.plot(ax0, lif1.v)\n",
    "monitor_lif1_u.plot(ax1, lif1.u)\n"
   ]
  },
  {
   "cell_type": "markdown",
   "metadata": {},
   "source": [
    "## Find the timesteps where the network bursts occur"
   ]
  },
  {
   "cell_type": "code",
   "execution_count": 79,
   "metadata": {},
   "outputs": [
    {
     "name": "stdout",
     "output_type": "stream",
     "text": [
      "voltage_arr shape: (100, 2)\n",
      "Spike times:  []\n"
     ]
    }
   ],
   "source": [
    "voltage_arr = np.array(data_lif1['lif1']['v'])\n",
    "print(\"voltage_arr shape:\", voltage_arr.shape)\n",
    "\n",
    "# Iterate the voltage array to find the spikes\n",
    "spike_times = []\n",
    "min_voltage_to_spike = v_th / 2\n",
    "for i in range(len(voltage_arr)):\n",
    "    # Only considering the voltage of the first neuron\n",
    "    if voltage_arr[i][0] == 0 and i > 0 and voltage_arr[i-1][0] > min_voltage_to_spike:   # Spike detected\n",
    "        spike_times.append(i)\n",
    "\n",
    "print(\"Spike times: \", spike_times)"
   ]
  },
  {
   "cell_type": "markdown",
   "metadata": {},
   "source": [
    "## Observations\n",
    "\n",
    "- Why is the membrane potential of the LIF neurons not reaching the threshold and firing?\n",
    "  - Is it because it would spike in the next time step?\n"
   ]
  },
  {
   "cell_type": "markdown",
   "metadata": {},
   "source": [
    "## Stop the Runtime"
   ]
  },
  {
   "cell_type": "code",
   "execution_count": 80,
   "metadata": {},
   "outputs": [],
   "source": [
    "lif1.stop()"
   ]
  },
  {
   "cell_type": "code",
   "execution_count": null,
   "metadata": {},
   "outputs": [],
   "source": []
  }
 ],
 "metadata": {
  "kernelspec": {
   "display_name": "Python 3 (ipykernel)",
   "language": "python",
   "name": "python3"
  }
 },
 "nbformat": 4,
 "nbformat_minor": 2
}
