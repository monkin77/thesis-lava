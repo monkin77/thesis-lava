{
 "cells": [
  {
   "cell_type": "markdown",
   "metadata": {},
   "source": [
    "# Analyze the dynamics of the LIF model and find the decay constants of the membrane potential and current"
   ]
  },
  {
   "cell_type": "markdown",
   "metadata": {},
   "source": [
    "The input data from the lab used in this example consists of a sequence of timestamps where a specific neuron fired. The data is stored in a csv file, where each value is a timestamp (in milliseconds). \n",
    "\n",
    "Thus, the input layer only requires 1 connection at each timestep. We will assume the network contains 5 neurons for the sake of this example."
   ]
  },
  {
   "cell_type": "markdown",
   "metadata": {},
   "source": [
    "Let's start by defining the middle layer, the 2-layered feed-forward network of LIF neurons"
   ]
  },
  {
   "cell_type": "code",
   "execution_count": 49,
   "metadata": {},
   "outputs": [
    {
     "name": "stdout",
     "output_type": "stream",
     "text": [
      "\u001b[0;31mInit signature:\u001b[0m \u001b[0mLIF\u001b[0m\u001b[0;34m(\u001b[0m\u001b[0;34m*\u001b[0m\u001b[0margs\u001b[0m\u001b[0;34m,\u001b[0m \u001b[0;34m**\u001b[0m\u001b[0mkwargs\u001b[0m\u001b[0;34m)\u001b[0m\u001b[0;34m\u001b[0m\u001b[0;34m\u001b[0m\u001b[0m\n",
      "\u001b[0;31mDocstring:\u001b[0m     \n",
      "Leaky-Integrate-and-Fire (LIF) neural Process.\n",
      "\n",
      "LIF dynamics abstracts to:\n",
      "u[t] = u[t-1] * (1-du) + a_in         # neuron current\n",
      "v[t] = v[t-1] * (1-dv) + u[t] + bias  # neuron voltage\n",
      "s_out = v[t] > vth                    # spike if threshold is exceeded\n",
      "v[t] = 0                              # reset at spike\n",
      "\n",
      "Parameters\n",
      "----------\n",
      "shape : tuple(int)\n",
      "    Number and topology of LIF neurons.\n",
      "u : float, list, numpy.ndarray, optional\n",
      "    Initial value of the neurons' current.\n",
      "v : float, list, numpy.ndarray, optional\n",
      "    Initial value of the neurons' voltage (membrane potential).\n",
      "du : float, optional\n",
      "    Inverse of decay time-constant for current decay. Currently, only a\n",
      "    single decay can be set for the entire population of neurons.\n",
      "dv : float, optional\n",
      "    Inverse of decay time-constant for voltage decay. Currently, only a\n",
      "    single decay can be set for the entire population of neurons.\n",
      "bias_mant : float, list, numpy.ndarray, optional\n",
      "    Mantissa part of neuron bias.\n",
      "bias_exp : float, list, numpy.ndarray, optional\n",
      "    Exponent part of neuron bias, if needed. Mostly for fixed point\n",
      "    implementations. Ignored for floating point implementations.\n",
      "vth : float, optional\n",
      "    Neuron threshold voltage, exceeding which, the neuron will spike.\n",
      "    Currently, only a single threshold can be set for the entire\n",
      "    population of neurons.\n",
      "\n",
      "Example\n",
      "-------\n",
      ">>> lif = LIF(shape=(200, 15), du=10, dv=5)\n",
      "This will create 200x15 LIF neurons that all have the same current decay\n",
      "of 10 and voltage decay of 5.\n",
      "\u001b[0;31mInit docstring:\u001b[0m Initializes a new Process.\n",
      "\u001b[0;31mFile:\u001b[0m           ~/Desktop/feup/thesis/thesis-lava/src/lava/proc/lif/process.py\n",
      "\u001b[0;31mType:\u001b[0m           ProcessPostInitCaller\n",
      "\u001b[0;31mSubclasses:\u001b[0m     LIFReset, LIFRefractory"
     ]
    }
   ],
   "source": [
    "from lava.proc.lif.process import LIF\n",
    "from lava.proc.dense.process import Dense\n",
    "\n",
    "LIF?"
   ]
  },
  {
   "cell_type": "code",
   "execution_count": 50,
   "metadata": {},
   "outputs": [],
   "source": [
    "# Define the number of neurons in each LIF Layer\n",
    "n1 = 2   # Let's create a simple program with only 1 LIF layer"
   ]
  },
  {
   "cell_type": "code",
   "execution_count": 51,
   "metadata": {},
   "outputs": [],
   "source": [
    "import numpy as np\n",
    "\n",
    "# Constants for the LIF Process\n",
    "v_th = 1\n",
    "v_init = 0\n",
    "dv = 0.07   # 0.07 is a good value for dv to simulate biological neurons (20ms time-constant)\n",
    "du = 0.2    # 0.2 is a good value for du to simulate biological neurons (5ms time-constant)\n",
    "\n",
    "# Create Processes\n",
    "lif1 = LIF(shape=(n1,),  # There are 2 neurons\n",
    "           vth=v_th,  # TODO: Verify these initial values\n",
    "           v=v_init,\n",
    "           dv=dv,    # Inverse of decay time-constant for voltage decay\n",
    "           du=du,  # Inverse of decay time-constant for current decay\n",
    "           bias_mant=0,\n",
    "           bias_exp=0,\n",
    "           name=\"lif1\")"
   ]
  },
  {
   "cell_type": "markdown",
   "metadata": {},
   "source": [
    "Let's take a look at the ports and connections of the middle layer:"
   ]
  },
  {
   "cell_type": "code",
   "execution_count": 52,
   "metadata": {},
   "outputs": [
    {
     "name": "stdout",
     "output_type": "stream",
     "text": [
      "Proc: lif1  Port Name: a_in  Size: 2\n",
      "Proc: lif1  Port Name: s_out Size: 2\n"
     ]
    }
   ],
   "source": [
    "for proc in [lif1]:\n",
    "    for port in proc.in_ports:\n",
    "        print(f\"Proc: {proc.name:<5} Port Name: {port.name:<5} Size: {port.size}\")\n",
    "    for port in proc.out_ports:\n",
    "        print(f\"Proc: {proc.name:<5} Port Name: {port.name:<5} Size: {port.size}\")"
   ]
  },
  {
   "cell_type": "markdown",
   "metadata": {},
   "source": [
    "After verifying the input and output Ports of the middle layer, we can connect the network to complete the LIF-Dense-LIF structure"
   ]
  },
  {
   "cell_type": "markdown",
   "metadata": {},
   "source": [
    "## Create the Custom Input Layer"
   ]
  },
  {
   "cell_type": "markdown",
   "metadata": {},
   "source": [
    "### Define function to read the input data from the csv file and generate the corresponding spike events"
   ]
  },
  {
   "cell_type": "code",
   "execution_count": 53,
   "metadata": {},
   "outputs": [],
   "source": [
    "import pandas as pd\n",
    "\n",
    "def read_spike_events(file_path: str):\n",
    "    \"\"\"Reads the spike events from the input file and returns them as a numpy array\n",
    "\n",
    "    Args:\n",
    "        file_path (str): name of the file containing the spike events\n",
    "    \"\"\"\n",
    "    spike_events = []\n",
    "\n",
    "    try:\n",
    "        # Read the spike events from the file\n",
    "        df = pd.read_csv(file_path, header=None)\n",
    "\n",
    "        # Detect errors\n",
    "        if df.empty:\n",
    "            raise Exception(\"The input file is empty\")\n",
    "\n",
    "        # Convert the scientific notation values to integers if any exist\n",
    "        df = df.applymap(lambda x: int(float(x)) if (isinstance(x, str) and 'e' in x) else x)\n",
    "\n",
    "        # Convert the dataframe to a numpy array\n",
    "        spike_events = df.to_numpy()\n",
    "        return spike_events[0]\n",
    "    except Exception as e:\n",
    "        print(\"Unable to read the input file: \", file_path, \" error:\", e)\n",
    "\n",
    "    return spike_events"
   ]
  },
  {
   "cell_type": "code",
   "execution_count": 54,
   "metadata": {},
   "outputs": [
    {
     "name": "stdout",
     "output_type": "stream",
     "text": [
      "Spike events:  (5,) [ 5 50 51 55 82]\n"
     ]
    }
   ],
   "source": [
    "# Call the function to read the spike events\n",
    "file_path = \"./data/fake_data.csv\"\n",
    "spike_events = read_spike_events(file_path)\n",
    "print(\"Spike events: \", spike_events.shape, spike_events[:10])"
   ]
  },
  {
   "cell_type": "markdown",
   "metadata": {},
   "source": [
    "Define the SpikeEvent Generator Interface"
   ]
  },
  {
   "cell_type": "code",
   "execution_count": 55,
   "metadata": {},
   "outputs": [],
   "source": [
    "from lava.magma.core.process.process import AbstractProcess\n",
    "from lava.magma.core.process.variable import Var\n",
    "from lava.magma.core.process.ports.ports import OutPort\n",
    "\n",
    "class SpikeEventGen(AbstractProcess):\n",
    "    \"\"\"Input Process that generates spike events based on the input file\n",
    "\n",
    "    Args:\n",
    "        shape (tuple): Shape of the output port\n",
    "        file_name (str): Name of the file containing the spike events\n",
    "    \"\"\"\n",
    "    def __init__(self, shape: tuple, spike_events: np.ndarray, name: str) -> None:\n",
    "        super().__init__(name=name)\n",
    "        self.s_out = OutPort(shape=shape)\n",
    "        self.spike_events = Var(shape=spike_events.shape, init=spike_events)"
   ]
  },
  {
   "cell_type": "markdown",
   "metadata": {},
   "source": [
    "Implement the `SpikeEventGenerator` Model"
   ]
  },
  {
   "cell_type": "code",
   "execution_count": 56,
   "metadata": {},
   "outputs": [],
   "source": [
    "from lava.magma.core.model.py.model import PyLoihiProcessModel  # Processes running on CPU inherit from this class\n",
    "from lava.magma.core.resources import CPU\n",
    "from lava.magma.core.decorator import implements, requires\n",
    "from lava.magma.core.sync.protocols.loihi_protocol import LoihiProtocol\n",
    "from lava.magma.core.model.py.type import LavaPyType\n",
    "from lava.magma.core.model.py.ports import PyOutPort\n",
    "\n",
    "@implements(proc=SpikeEventGen, protocol=LoihiProtocol)\n",
    "@requires(CPU)\n",
    "class PySpikeEventGenModel(PyLoihiProcessModel):\n",
    "    \"\"\"Spike Event Generator Process implementation running on CPU (Python)\n",
    "    Args:\n",
    "    \"\"\"\n",
    "    s_out: PyOutPort = LavaPyType(PyOutPort.VEC_DENSE, float)   # IT IS POSSIBLE TO SEND FLOATS AFTER ALL\n",
    "    spike_events: np.ndarray = LavaPyType(np.ndarray, np.ndarray)   # TODO: Check if we should keep it as a numpy array, or transform it to a list\n",
    "\n",
    "    def __init__(self, proc_params) -> None:\n",
    "        super().__init__(proc_params=proc_params)\n",
    "        # print(\"spike events\", self.spike_events.__str__())    # TODO: Check why during initialization the variable prints the class, while during run it prints the value\n",
    "        self.curr_spike_idx = 0     # Index of the next spiking event to send\n",
    "        self.virtual_time_step_interval = 1  # 1000    # Arbitrary time between time steps (in microseconds). This is not a real time interval (1000ms = 1s)\n",
    "        self.init_offset = 0 # 100000             # Arbitrary offset to start the simulation (in microseconds)\n",
    "\n",
    "    def run_spk(self) -> None:\n",
    "        spike_data = np.zeros(self.s_out.shape) # Initialize the spike data to 0\n",
    "        \n",
    "        # Use random spikes to test it\n",
    "        # spike_data[0] = np.random.random()  # Only 1 neuron is sending data (spikes)\n",
    "        # self.curr_spike_idx += 1\n",
    "\n",
    "        # Use the spike events from the file\n",
    "        # print(\"spike events: \", self.spike_events[:5])\n",
    "        # TODO: For now we are using the time_step as the time measurement that will simulate real-time activity. It would be better to have access to the running time\n",
    "        \n",
    "        #print(\"time step:\", self.time_step)\n",
    "        # If the current simulation time is greater than the next spike event, send a spike\n",
    "        currTime = self.init_offset + self.time_step*self.virtual_time_step_interval\n",
    "        if ( self.curr_spike_idx < len(self.spike_events) ) and currTime >= self.spike_events[self.curr_spike_idx]:\n",
    "            spike_data[0] = 1.0   # Send a spike  (value corresponds to the punctual current of the spike event?)\n",
    "            spike_data[1] = 0.0   # Send a spike  (value corresponds to the punctual current of the spike event?)\n",
    "            print(f\"sending spike event at time: {currTime}({self.time_step}) spike idx: {self.curr_spike_idx} spike time: {self.spike_events[self.curr_spike_idx]}\")\n",
    "            self.curr_spike_idx += 1\n",
    "\n",
    "        # Send spikes\n",
    "        # print(\"sending spike_data: \", spike_data, \" at step: \", self.time_step)\n",
    "        self.s_out.send(spike_data)\n",
    "\n",
    "        # Stop the Process if there are no more spike events to send. (It will stop all the connected processes)\n",
    "        # TODO: Should it be another process that stops the simulation? Such as the last LIF process\n",
    "        # if self.curr_spike_idx >= 5: # len(self.spike_events):\n",
    "        #    self.pause()\n"
   ]
  },
  {
   "cell_type": "markdown",
   "metadata": {},
   "source": [
    "## Connect the Custom Input Layer to the middle layer"
   ]
  },
  {
   "cell_type": "markdown",
   "metadata": {},
   "source": [
    "To define the connectivity between the `SpikeGenerator` and the first `LIF` population, we use another `Dense` Layer."
   ]
  },
  {
   "cell_type": "code",
   "execution_count": 57,
   "metadata": {},
   "outputs": [
    {
     "name": "stdout",
     "output_type": "stream",
     "text": [
      "Dense Input Weights:  Variable: weights\n",
      "    shape: (2, 2)\n",
      "    init: [[0.1 0. ]\n",
      " [0.  0.1]]\n",
      "    shareable: True\n",
      "    value: [[0.1 0. ]\n",
      " [0.  0.1]]\n"
     ]
    }
   ],
   "source": [
    "# Create the Input Process\n",
    "spike_event_gen = SpikeEventGen(shape=(n1,), spike_events=spike_events, name=\"CustomInput\")\n",
    "\n",
    "# Instantiante a Dense Layer to connect the SpikeEventGen to the middle layer\n",
    "dense_weights_input = np.eye(n1)\n",
    "# multiply the weights of the Dense layer by a constant\n",
    "weights_scale_input = 0.1\n",
    "dense_weights_input *= weights_scale_input\n",
    "dense_input = Dense(weights=np.array(dense_weights_input), name=\"DenseInput\")\n",
    "print(\"Dense Input Weights: \", dense_input.weights)\n",
    "\n",
    "# Connect the SpikeEventGen to the Dense Layer\n",
    "spike_event_gen.s_out.connect(dense_input.s_in)\n",
    "\n",
    "# Connect the Dense_Input to the LIF1 Layer\n",
    "dense_input.a_out.connect(lif1.a_in)"
   ]
  },
  {
   "cell_type": "markdown",
   "metadata": {},
   "source": [
    "### Take a look at the connections in the Input Layer"
   ]
  },
  {
   "cell_type": "code",
   "execution_count": 58,
   "metadata": {},
   "outputs": [
    {
     "name": "stdout",
     "output_type": "stream",
     "text": [
      "Proc: CustomInput Port Name: s_out Size: 2\n",
      "Proc: DenseInput Port Name: s_in  Size: 2\n",
      "Proc: DenseInput Port Name: a_out Size: 2\n",
      "Proc: lif1  Port Name: a_in  Size: 2\n",
      "Proc: lif1  Port Name: s_out Size: 2\n"
     ]
    }
   ],
   "source": [
    "for proc in [spike_event_gen, dense_input, lif1]:\n",
    "    for port in proc.in_ports:\n",
    "        print(f\"Proc: {proc.name:<5} Port Name: {port.name:<5} Size: {port.size}\")\n",
    "    for port in proc.out_ports:\n",
    "        print(f\"Proc: {proc.name:<5} Port Name: {port.name:<5} Size: {port.size}\")"
   ]
  },
  {
   "cell_type": "markdown",
   "metadata": {},
   "source": [
    "Weights of the Input Dense Layer"
   ]
  },
  {
   "cell_type": "code",
   "execution_count": 59,
   "metadata": {},
   "outputs": [
    {
     "data": {
      "text/plain": [
       "array([[0.1, 0. ],\n",
       "       [0. , 0.1]])"
      ]
     },
     "execution_count": 59,
     "metadata": {},
     "output_type": "execute_result"
    }
   ],
   "source": [
    "dense_input.weights.get()"
   ]
  },
  {
   "cell_type": "markdown",
   "metadata": {},
   "source": [
    "### Record Internal Vars over time\n",
    "To record the evolution of the internal variables over time, we need a `Monitor`. For this example, we want to record the membrane potential of the `LIF` Layer, hence we need 1 `Monitors`.\n",
    "\n",
    "We can define the `Var` that a `Monitor` should record, as well as the recording duration, using the `probe` function"
   ]
  },
  {
   "cell_type": "code",
   "execution_count": 60,
   "metadata": {},
   "outputs": [],
   "source": [
    "from lava.proc.monitor.process import Monitor\n",
    "\n",
    "monitor_lif1_v = Monitor()\n",
    "monitor_lif1_u = Monitor()\n",
    "\n",
    "num_steps = 100     # TODO: Check the number of steps to run the simulation for\n",
    "\n",
    "# Connect the monitors to the variables we want to monitor\n",
    "monitor_lif1_v.probe(lif1.v, num_steps)\n",
    "monitor_lif1_u.probe(lif1.u, num_steps)"
   ]
  },
  {
   "cell_type": "markdown",
   "metadata": {},
   "source": [
    "## Execution\n",
    "Now that we have defined the network, we can execute it. We will use the `run` function to execute the network."
   ]
  },
  {
   "cell_type": "markdown",
   "metadata": {},
   "source": [
    "### Run Configuration and Conditions"
   ]
  },
  {
   "cell_type": "code",
   "execution_count": 61,
   "metadata": {},
   "outputs": [],
   "source": [
    "from lava.magma.core.run_conditions import RunContinuous, RunSteps\n",
    "from lava.magma.core.run_configs import Loihi1SimCfg\n",
    "\n",
    "# run_condition = RunContinuous()   # TODO: Change to this one\n",
    "run_condition = RunSteps(num_steps=num_steps)\n",
    "run_cfg = Loihi1SimCfg(select_tag=\"floating_pt\")   # TODO: Check why we need this select_tag=\"floating_pt\""
   ]
  },
  {
   "cell_type": "markdown",
   "metadata": {},
   "source": [
    "### Execute"
   ]
  },
  {
   "cell_type": "code",
   "execution_count": 62,
   "metadata": {},
   "outputs": [
    {
     "name": "stdout",
     "output_type": "stream",
     "text": [
      "sending spike event at time: 5(5) spike idx: 0 spike time: 5\n",
      "sending spike event at time: 50(50) spike idx: 1 spike time: 50\n",
      "sending spike event at time: 51(51) spike idx: 2 spike time: 51\n",
      "sending spike event at time: 55(55) spike idx: 3 spike time: 55\n",
      "sending spike event at time: 82(82) spike idx: 4 spike time: 82\n"
     ]
    }
   ],
   "source": [
    "lif1.run(condition=run_condition, run_cfg=run_cfg)"
   ]
  },
  {
   "cell_type": "markdown",
   "metadata": {},
   "source": [
    "### Retrieve recorded data"
   ]
  },
  {
   "cell_type": "code",
   "execution_count": 63,
   "metadata": {},
   "outputs": [],
   "source": [
    "data_lif1_v = monitor_lif1_v.get_data()\n",
    "data_lif1_u = monitor_lif1_u.get_data()\n",
    "\n",
    "data_lif1 = data_lif1_v.copy()\n",
    "data_lif1[\"lif1\"][\"u\"] = data_lif1_u[\"lif1\"][\"u\"]   # Merge the dictionaries to contain both voltage and current\n"
   ]
  },
  {
   "cell_type": "code",
   "execution_count": 64,
   "metadata": {},
   "outputs": [
    {
     "data": {
      "text/plain": [
       "{'lif1': {'v': array([[0.        , 0.        ],\n",
       "         [0.        , 0.        ],\n",
       "         [0.        , 0.        ],\n",
       "         [0.        , 0.        ],\n",
       "         [0.        , 0.        ],\n",
       "         [0.1       , 0.        ],\n",
       "         [0.173     , 0.        ],\n",
       "         [0.22489   , 0.        ],\n",
       "         [0.2603477 , 0.        ],\n",
       "         [0.28308336, 0.        ],\n",
       "         [0.29603553, 0.        ],\n",
       "         [0.30152744, 0.        ],\n",
       "         [0.30139204, 0.        ],\n",
       "         [0.29707181, 0.        ],\n",
       "         [0.28969856, 0.        ],\n",
       "         [0.28015708, 0.        ],\n",
       "         [0.26913602, 0.        ],\n",
       "         [0.25716844, 0.        ],\n",
       "         [0.24466421, 0.        ],\n",
       "         [0.23193576, 0.        ],\n",
       "         [0.2192187 , 0.        ],\n",
       "         [0.20668814, 0.        ],\n",
       "         [0.19447177, 0.        ],\n",
       "         [0.18266018, 0.        ],\n",
       "         [0.17131512, 0.        ],\n",
       "         [0.16047598, 0.        ],\n",
       "         [0.150165  , 0.        ],\n",
       "         [0.14039132, 0.        ],\n",
       "         [0.13115423, 0.        ],\n",
       "         [0.12244567, 0.        ],\n",
       "         [0.11425226, 0.        ],\n",
       "         [0.10655683, 0.        ],\n",
       "         [0.09933964, 0.        ],\n",
       "         [0.09257929, 0.        ],\n",
       "         [0.08625348, 0.        ],\n",
       "         [0.08033954, 0.        ],\n",
       "         [0.0748148 , 0.        ],\n",
       "         [0.06965699, 0.        ],\n",
       "         [0.06484439, 0.        ],\n",
       "         [0.06035599, 0.        ],\n",
       "         [0.05617163, 0.        ],\n",
       "         [0.05227207, 0.        ],\n",
       "         [0.04863899, 0.        ],\n",
       "         [0.04525503, 0.        ],\n",
       "         [0.04210379, 0.        ],\n",
       "         [0.03916982, 0.        ],\n",
       "         [0.03643856, 0.        ],\n",
       "         [0.03389637, 0.        ],\n",
       "         [0.03153043, 0.        ],\n",
       "         [0.02932875, 0.        ],\n",
       "         [0.12728009, 0.        ],\n",
       "         [0.29837397, 0.        ],\n",
       "         [0.42149058, 0.        ],\n",
       "         [0.50718847, 0.        ],\n",
       "         [0.56384706, 0.        ],\n",
       "         [0.69810719, 0.        ],\n",
       "         [0.78822323, 0.        ],\n",
       "         [0.84423444, 0.        ],\n",
       "         [0.87408749, 0.        ],\n",
       "         [0.88406094, 0.        ],\n",
       "         [0.87910433, 0.        ],\n",
       "         [0.86310916, 0.        ],\n",
       "         [0.83912522, 0.        ],\n",
       "         [0.80953341, 0.        ],\n",
       "         [0.77618364, 0.        ],\n",
       "         [0.74050484, 0.        ],\n",
       "         [0.70359275, 0.        ],\n",
       "         [0.66627985, 0.        ],\n",
       "         [0.62919114, 0.        ],\n",
       "         [0.59278846, 0.        ],\n",
       "         [0.55740583, 0.        ],\n",
       "         [0.52327747, 0.        ],\n",
       "         [0.49056009, 0.        ],\n",
       "         [0.45935051, 0.        ],\n",
       "         [0.42969968, 0.        ],\n",
       "         [0.40162367, 0.        ],\n",
       "         [0.37511238, 0.        ],\n",
       "         [0.35013641, 0.        ],\n",
       "         [0.32665238, 0.        ],\n",
       "         [0.30460713, 0.        ],\n",
       "         [0.28394096, 0.        ],\n",
       "         [0.26459016, 0.        ],\n",
       "         [0.3464889 , 0.        ],\n",
       "         [0.40257072, 0.        ],\n",
       "         [0.4386596 , 0.        ],\n",
       "         [0.45936849, 0.        ],\n",
       "         [0.46834475, 0.        ],\n",
       "         [0.46846626, 0.        ],\n",
       "         [0.46199814, 0.        ],\n",
       "         [0.45071788, 0.        ],\n",
       "         [0.43601532, 0.        ],\n",
       "         [0.4189724 , 0.        ],\n",
       "         [0.40042685, 0.        ],\n",
       "         [0.38102299, 0.        ],\n",
       "         [0.36125219, 0.        ],\n",
       "         [0.34148519, 0.        ],\n",
       "         [0.32199775, 0.        ],\n",
       "         [0.30299112, 0.        ],\n",
       "         [0.28460832, 0.        ],\n",
       "         [0.26694699, 0.        ]]),\n",
       "  'u': array([[0.00000000e+00, 0.00000000e+00],\n",
       "         [0.00000000e+00, 0.00000000e+00],\n",
       "         [0.00000000e+00, 0.00000000e+00],\n",
       "         [0.00000000e+00, 0.00000000e+00],\n",
       "         [0.00000000e+00, 0.00000000e+00],\n",
       "         [1.00000000e-01, 0.00000000e+00],\n",
       "         [8.00000000e-02, 0.00000000e+00],\n",
       "         [6.40000000e-02, 0.00000000e+00],\n",
       "         [5.12000000e-02, 0.00000000e+00],\n",
       "         [4.09600000e-02, 0.00000000e+00],\n",
       "         [3.27680000e-02, 0.00000000e+00],\n",
       "         [2.62144000e-02, 0.00000000e+00],\n",
       "         [2.09715200e-02, 0.00000000e+00],\n",
       "         [1.67772160e-02, 0.00000000e+00],\n",
       "         [1.34217728e-02, 0.00000000e+00],\n",
       "         [1.07374182e-02, 0.00000000e+00],\n",
       "         [8.58993459e-03, 0.00000000e+00],\n",
       "         [6.87194767e-03, 0.00000000e+00],\n",
       "         [5.49755814e-03, 0.00000000e+00],\n",
       "         [4.39804651e-03, 0.00000000e+00],\n",
       "         [3.51843721e-03, 0.00000000e+00],\n",
       "         [2.81474977e-03, 0.00000000e+00],\n",
       "         [2.25179981e-03, 0.00000000e+00],\n",
       "         [1.80143985e-03, 0.00000000e+00],\n",
       "         [1.44115188e-03, 0.00000000e+00],\n",
       "         [1.15292150e-03, 0.00000000e+00],\n",
       "         [9.22337204e-04, 0.00000000e+00],\n",
       "         [7.37869763e-04, 0.00000000e+00],\n",
       "         [5.90295810e-04, 0.00000000e+00],\n",
       "         [4.72236648e-04, 0.00000000e+00],\n",
       "         [3.77789319e-04, 0.00000000e+00],\n",
       "         [3.02231455e-04, 0.00000000e+00],\n",
       "         [2.41785164e-04, 0.00000000e+00],\n",
       "         [1.93428131e-04, 0.00000000e+00],\n",
       "         [1.54742505e-04, 0.00000000e+00],\n",
       "         [1.23794004e-04, 0.00000000e+00],\n",
       "         [9.90352031e-05, 0.00000000e+00],\n",
       "         [7.92281625e-05, 0.00000000e+00],\n",
       "         [6.33825300e-05, 0.00000000e+00],\n",
       "         [5.07060240e-05, 0.00000000e+00],\n",
       "         [4.05648192e-05, 0.00000000e+00],\n",
       "         [3.24518554e-05, 0.00000000e+00],\n",
       "         [2.59614843e-05, 0.00000000e+00],\n",
       "         [2.07691874e-05, 0.00000000e+00],\n",
       "         [1.66153499e-05, 0.00000000e+00],\n",
       "         [1.32922800e-05, 0.00000000e+00],\n",
       "         [1.06338240e-05, 0.00000000e+00],\n",
       "         [8.50705917e-06, 0.00000000e+00],\n",
       "         [6.80564734e-06, 0.00000000e+00],\n",
       "         [5.44451787e-06, 0.00000000e+00],\n",
       "         [1.00004356e-01, 0.00000000e+00],\n",
       "         [1.80003484e-01, 0.00000000e+00],\n",
       "         [1.44002788e-01, 0.00000000e+00],\n",
       "         [1.15202230e-01, 0.00000000e+00],\n",
       "         [9.21617841e-02, 0.00000000e+00],\n",
       "         [1.73729427e-01, 0.00000000e+00],\n",
       "         [1.38983542e-01, 0.00000000e+00],\n",
       "         [1.11186833e-01, 0.00000000e+00],\n",
       "         [8.89494668e-02, 0.00000000e+00],\n",
       "         [7.11595734e-02, 0.00000000e+00],\n",
       "         [5.69276587e-02, 0.00000000e+00],\n",
       "         [4.55421270e-02, 0.00000000e+00],\n",
       "         [3.64337016e-02, 0.00000000e+00],\n",
       "         [2.91469613e-02, 0.00000000e+00],\n",
       "         [2.33175690e-02, 0.00000000e+00],\n",
       "         [1.86540552e-02, 0.00000000e+00],\n",
       "         [1.49232442e-02, 0.00000000e+00],\n",
       "         [1.19385953e-02, 0.00000000e+00],\n",
       "         [9.55087627e-03, 0.00000000e+00],\n",
       "         [7.64070101e-03, 0.00000000e+00],\n",
       "         [6.11256081e-03, 0.00000000e+00],\n",
       "         [4.89004865e-03, 0.00000000e+00],\n",
       "         [3.91203892e-03, 0.00000000e+00],\n",
       "         [3.12963114e-03, 0.00000000e+00],\n",
       "         [2.50370491e-03, 0.00000000e+00],\n",
       "         [2.00296393e-03, 0.00000000e+00],\n",
       "         [1.60237114e-03, 0.00000000e+00],\n",
       "         [1.28189691e-03, 0.00000000e+00],\n",
       "         [1.02551753e-03, 0.00000000e+00],\n",
       "         [8.20414024e-04, 0.00000000e+00],\n",
       "         [6.56331219e-04, 0.00000000e+00],\n",
       "         [5.25064976e-04, 0.00000000e+00],\n",
       "         [1.00420052e-01, 0.00000000e+00],\n",
       "         [8.03360416e-02, 0.00000000e+00],\n",
       "         [6.42688333e-02, 0.00000000e+00],\n",
       "         [5.14150666e-02, 0.00000000e+00],\n",
       "         [4.11320533e-02, 0.00000000e+00],\n",
       "         [3.29056426e-02, 0.00000000e+00],\n",
       "         [2.63245141e-02, 0.00000000e+00],\n",
       "         [2.10596113e-02, 0.00000000e+00],\n",
       "         [1.68476890e-02, 0.00000000e+00],\n",
       "         [1.34781512e-02, 0.00000000e+00],\n",
       "         [1.07825210e-02, 0.00000000e+00],\n",
       "         [8.62601678e-03, 0.00000000e+00],\n",
       "         [6.90081343e-03, 0.00000000e+00],\n",
       "         [5.52065074e-03, 0.00000000e+00],\n",
       "         [4.41652059e-03, 0.00000000e+00],\n",
       "         [3.53321647e-03, 0.00000000e+00],\n",
       "         [2.82657318e-03, 0.00000000e+00],\n",
       "         [2.26125854e-03, 0.00000000e+00]])}}"
      ]
     },
     "execution_count": 64,
     "metadata": {},
     "output_type": "execute_result"
    }
   ],
   "source": [
    "data_lif1"
   ]
  },
  {
   "cell_type": "code",
   "execution_count": 65,
   "metadata": {},
   "outputs": [
    {
     "data": {
      "text/plain": [
       "100"
      ]
     },
     "execution_count": 65,
     "metadata": {},
     "output_type": "execute_result"
    }
   ],
   "source": [
    "# Check the shape to verify if it is printing the voltage for every step\n",
    "len(data_lif1['lif1']['v'])     # Indeed, there are 300 values (same as the number of steps we ran the simulation for)"
   ]
  },
  {
   "cell_type": "markdown",
   "metadata": {},
   "source": [
    "### Plot the recorded data"
   ]
  },
  {
   "cell_type": "code",
   "execution_count": 66,
   "metadata": {},
   "outputs": [
    {
     "data": {
      "image/png": "[encoded data removed]",
      "text/plain": [
       "<Figure size 1600x500 with 2 Axes>"
      ]
     },
     "metadata": {},
     "output_type": "display_data"
    }
   ],
   "source": [
    "import matplotlib\n",
    "%matplotlib inline\n",
    "from matplotlib import pyplot as plt\n",
    "\n",
    "# Create a subplot for each monitored variable\n",
    "fig = plt.figure(figsize=(16, 5))\n",
    "ax0 = fig.add_subplot(121)\n",
    "ax0.set_title('Voltage (V) / time step')\n",
    "ax1 = fig.add_subplot(122)\n",
    "ax1.set_title('Current (U) / time step')\n",
    "\n",
    "# Plot the data\n",
    "monitor_lif1_v.plot(ax0, lif1.v)\n",
    "monitor_lif1_u.plot(ax1, lif1.u)\n"
   ]
  },
  {
   "cell_type": "markdown",
   "metadata": {},
   "source": [
    "### Find the time step where the Voltage got to 1/e of the maximum value"
   ]
  },
  {
   "cell_type": "code",
   "execution_count": 73,
   "metadata": {},
   "outputs": [
    {
     "name": "stdout",
     "output_type": "stream",
     "text": [
      "Voltage| Stimuli start: 11 Stimuli end: 31 Voltage max: 0.30152743892890005 decay time: 20 steps\n"
     ]
    }
   ],
   "source": [
    "voltage_vals = data_lif1['lif1']['v']\n",
    "\n",
    "v_max = 0\n",
    "stimuli_start = 0\n",
    "stimuli_end = 0\n",
    "for (idx, v) in enumerate(voltage_vals):\n",
    "    v0, v1 = v\n",
    "    if v0 > v_max:  # Found the stimulation point\n",
    "        v_max = v0\n",
    "        stimuli_start = idx\n",
    "    else:\n",
    "        if v_max > 0:   # The stimulation was already found -> Exponential decay\n",
    "            if v0 <= v_max / np.e:  # Found the timestep when the voltage is 1/e of the maximum\n",
    "                stimuli_end = idx\n",
    "                break\n",
    "        else:   # The stimulation was not found yet\n",
    "            continue\n",
    "\n",
    "\n",
    "print(f\"Voltage| Stimuli start: {stimuli_start} Stimuli end: {stimuli_end} Voltage max: {v_max} decay time: {stimuli_end - stimuli_start} steps\")"
   ]
  },
  {
   "cell_type": "markdown",
   "metadata": {},
   "source": [
    "### Find the time step where the Current got to 1/e of the maximum value"
   ]
  },
  {
   "cell_type": "code",
   "execution_count": 72,
   "metadata": {},
   "outputs": [
    {
     "name": "stdout",
     "output_type": "stream",
     "text": [
      "Current| Stimuli start: 5 Stimuli end: 10 Current max: 0.1 decay time: 5 steps\n"
     ]
    }
   ],
   "source": [
    "current_vals = data_lif1['lif1']['u']\n",
    "\n",
    "u_max = 0\n",
    "stimuli_start = 0\n",
    "stimuli_end = 0\n",
    "for (idx, u) in enumerate(current_vals):\n",
    "    u0, u1 = u\n",
    "    if u0 > u_max:  # Found the stimulation point\n",
    "        u_max = u0\n",
    "        stimuli_start = idx\n",
    "    else:\n",
    "        if u_max > 0:   # The stimulation was already found -> Exponential decay\n",
    "            if u0 <= u_max / np.e:  # Found the timestep when the current is 1/e of the maximum\n",
    "                stimuli_end = idx\n",
    "                break\n",
    "        else:   # The stimulation was not found yet\n",
    "            continue\n",
    "\n",
    "\n",
    "print(f\"Current| Stimuli start: {stimuli_start} Stimuli end: {stimuli_end} Current max: {u_max} decay time: {stimuli_end - stimuli_start} steps\")"
   ]
  },
  {
   "cell_type": "markdown",
   "metadata": {},
   "source": [
    "## Stop the Runtime"
   ]
  },
  {
   "cell_type": "code",
   "execution_count": 69,
   "metadata": {},
   "outputs": [],
   "source": [
    "lif1.stop()"
   ]
  },
  {
   "cell_type": "markdown",
   "metadata": {},
   "source": []
  }
 ],
 "metadata": {
  "kernelspec": {
   "display_name": "Python 3 (ipykernel)",
   "language": "python",
   "name": "python3"
  },
  "language_info": {
   "codemirror_mode": {
    "name": "ipython",
    "version": 3
   },
   "file_extension": ".py",
   "mimetype": "text/x-python",
   "name": "python",
   "nbconvert_exporter": "python",
   "pygments_lexer": "ipython3",
   "version": "3.10.12"
  }
 },
 "nbformat": 4,
 "nbformat_minor": 4
}
