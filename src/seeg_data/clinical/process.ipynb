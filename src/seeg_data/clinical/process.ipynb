{
 "cells": [
  {
   "cell_type": "markdown",
   "metadata": {},
   "source": [
    "## Import hfo data from .mat files and process it"
   ]
  },
  {
   "cell_type": "markdown",
   "metadata": {},
   "source": [
    "### Check WD (change if necessary) and file loading"
   ]
  },
  {
   "cell_type": "code",
   "execution_count": 117,
   "metadata": {},
   "outputs": [
    {
     "name": "stdout",
     "output_type": "stream",
     "text": [
      "/home/monkin/Desktop/feup/thesis/thesis-lava/src/seeg_data/clinical\n"
     ]
    }
   ],
   "source": [
    "# Show current directory\n",
    "import os\n",
    "curr_dir = os.getcwd()\n",
    "print(curr_dir)\n",
    "\n",
    "# Check if the current WD is the file location\n",
    "if \"/src/seeg_data/clinical\" not in os.getcwd():\n",
    "    # Set working directory to this file location\n",
    "    file_location = f\"{os.getcwd()}/thesis-lava/src/seeg_data/clinical\"\n",
    "    print(\"File Location: \", file_location)\n",
    "\n",
    "    # Change the current working Directory\n",
    "    os.chdir(file_location)\n",
    "\n",
    "    # New Working Directory\n",
    "    print(\"New Working Directory: \", os.getcwd())\n",
    "\n",
    "# Choose the patient\n",
    "PATIENT_LABEL = 'ics' # 'csl'\n",
    "PATH_TO_FILE = f'patients/{PATIENT_LABEL}/' # 'patients/csl/'   # This is needed if the WD is not the same as the file location"
   ]
  },
  {
   "cell_type": "markdown",
   "metadata": {},
   "source": [
    "The `.mat` files are not uploaded to GitHub. As such, they must be taken from GDrive and moved to the `clinical` folder"
   ]
  },
  {
   "cell_type": "code",
   "execution_count": 118,
   "metadata": {},
   "outputs": [
    {
     "name": "stdout",
     "output_type": "stream",
     "text": [
      "dict_keys(['__header__', '__version__', '__globals__', 'channel_types', 'channels', 'data', 'duration', 'samples', 'sr'])\n"
     ]
    }
   ],
   "source": [
    "import scipy.io as sio\n",
    "import numpy as np\n",
    "\n",
    "# Load the data\n",
    "data = sio.loadmat(f'{PATH_TO_FILE}signal.mat')\n",
    "\n",
    "# Print the data structure\n",
    "print(data.keys())"
   ]
  },
  {
   "cell_type": "markdown",
   "metadata": {},
   "source": [
    "# Print the content of the .mat file"
   ]
  },
  {
   "cell_type": "markdown",
   "metadata": {},
   "source": [
    "## General experiment information"
   ]
  },
  {
   "cell_type": "code",
   "execution_count": 119,
   "metadata": {},
   "outputs": [
    {
     "name": "stdout",
     "output_type": "stream",
     "text": [
      "sr: 2048.0\n",
      "duration: 61.0625\n",
      "samples: 125056\n"
     ]
    }
   ],
   "source": [
    "sampling_rate = data['sr'][0][0]\n",
    "input_duration = data['duration'][0][0]\n",
    "num_samples = data['samples'][0][0]\n",
    "\n",
    "print(f\"sr: {sampling_rate}\")  # Sampling rate\n",
    "\n",
    "print(f\"duration: {input_duration}\")\n",
    "\n",
    "print(f\"samples: {num_samples}\")"
   ]
  },
  {
   "cell_type": "markdown",
   "metadata": {},
   "source": [
    "- The **sampling rate** is 2048 Hz, which means that 2048 samples are recorded per second (for each electrode).\n",
    "- The **duration** of the experiment is ~63.1s.\n",
    "- There is a **total of 129239 samples** (sampling_rate * duration) per electrode."
   ]
  },
  {
   "cell_type": "markdown",
   "metadata": {},
   "source": [
    "## Channel information"
   ]
  },
  {
   "cell_type": "code",
   "execution_count": 120,
   "metadata": {},
   "outputs": [
    {
     "name": "stdout",
     "output_type": "stream",
     "text": [
      "Shape of channels: (1, 101)\n",
      "channels: [[array(['AMS1-AMS2'], dtype='<U9') array(['AMS2-AMS3'], dtype='<U9')\n",
      "  array(['AMS3-AMS4'], dtype='<U9') array(['AMS4-AMS5'], dtype='<U9')\n",
      "  array(['AMS5-AMS6'], dtype='<U9') ...\n",
      "  array(['Ch119-Ch120'], dtype='<U11')\n",
      "  array(['Ch120-Ch121'], dtype='<U11')\n",
      "  array(['Ch121-Ch122'], dtype='<U11')\n",
      "  array(['Ch122-Ch123'], dtype='<U11')\n",
      "  array(['Ch123-Ch124'], dtype='<U11')]]\n",
      "=====================================\n",
      "\n",
      "\n",
      "\n",
      "channel_types: [[array(['SEEG'], dtype='<U4') array(['SEEG'], dtype='<U4')\n",
      "  array(['SEEG'], dtype='<U4') array(['SEEG'], dtype='<U4')\n",
      "  array(['SEEG'], dtype='<U4') ... array(['SEEG'], dtype='<U4')\n",
      "  array(['SEEG'], dtype='<U4') array(['SEEG'], dtype='<U4')\n",
      "  array(['SEEG'], dtype='<U4') array(['SEEG'], dtype='<U4')]]\n"
     ]
    }
   ],
   "source": [
    "num_channels = data['channels'].shape[1]\n",
    "\n",
    "print(f\"Shape of channels: {data['channels'].shape}\")\n",
    "\n",
    "print(f\"channels: {data['channels']}\")\n",
    "\n",
    "print(\"=====================================\\n\\n\\n\")\n",
    "\n",
    "print(f\"channel_types: {data['channel_types']}\")"
   ]
  },
  {
   "cell_type": "markdown",
   "metadata": {},
   "source": [
    "This recording has 86 channels, which correspond to 86 electrodes**. \n",
    "\n",
    "The channels are divided into **X groups of Y channels each**. Each **group** corresponds to a **different brain region**:\n",
    "- **Group 1**: OT'8\n",
    "- **Group 2**: B'1\n",
    "- **Group 3**: GPH'2\n",
    "- **Group 4**: A'1\n",
    "- **Group 5**: I6\n",
    "- **Group 6**: PM6\n",
    "- **Group 7**: PM10\n",
    "- **Group 8**: CR5"
   ]
  },
  {
   "cell_type": "markdown",
   "metadata": {},
   "source": [
    "## Markers information\n",
    "The `.mat` file does not contain relevant info about the markers. We will load it from a `.csv` file"
   ]
  },
  {
   "cell_type": "code",
   "execution_count": 121,
   "metadata": {},
   "outputs": [
    {
     "name": "stdout",
     "output_type": "stream",
     "text": [
      "No markers in the data\n"
     ]
    }
   ],
   "source": [
    "if 'markers' not in data.keys():\n",
    "    print(\"No markers in the data\")\n",
    "else:\n",
    "    print(\"Shape of markers: \", data['markers'].shape)\n",
    "\n",
    "    print(f\"markers: {data['markers']}\")"
   ]
  },
  {
   "cell_type": "markdown",
   "metadata": {},
   "source": [
    "## Read Markers data from the csv file"
   ]
  },
  {
   "cell_type": "code",
   "execution_count": 122,
   "metadata": {},
   "outputs": [
    {
     "name": "stdout",
     "output_type": "stream",
     "text": [
      "           Label        Pos  Duration     Target\n",
      "0         Ripple   1.877930       0.0  HPA1-HPA2\n",
      "1         Ripple   1.877930       0.0  HPA2-HPA3\n",
      "2         Ripple   1.877930       0.0  HPA3-HPA4\n",
      "3         Ripple   1.877930       0.0  HPA4-HPA5\n",
      "4         Ripple   2.577148       0.0  HPA1-HPA2\n",
      "..           ...        ...       ...        ...\n",
      "610  Fast Ripple  60.981934       0.0  HPA3-HPA4\n",
      "611       Ripple  60.982422       0.0  HPA1-HPA2\n",
      "612       Ripple  60.982422       0.0  HPA2-HPA3\n",
      "613       Ripple  60.982422       0.0  HPA3-HPA4\n",
      "614       Ripple  60.982422       0.0  HPA4-HPA5\n",
      "\n",
      "[615 rows x 4 columns]\n"
     ]
    }
   ],
   "source": [
    "# Read csv file \n",
    "import pandas as pd\n",
    "\n",
    "markers_csv = pd.read_csv(f'{PATH_TO_FILE}markers_for_test.csv')\n",
    "\n",
    "# print(markers_csv)\n",
    "\n",
    "# Remove marker column- `Value`: I'm not sure what it refers to\n",
    "markers_csv = markers_csv.drop(columns=['Value'])\n",
    "\n",
    "print(markers_csv)"
   ]
  },
  {
   "cell_type": "markdown",
   "metadata": {},
   "source": [
    "## Create a column for the channel indices\n",
    "\n",
    "## Map channel names to indices"
   ]
  },
  {
   "cell_type": "code",
   "execution_count": 123,
   "metadata": {},
   "outputs": [
    {
     "name": "stdout",
     "output_type": "stream",
     "text": [
      "channel_idx_map:  {'AMS1-AMS2': 0, 'AMS2-AMS3': 1, 'AMS3-AMS4': 2, 'AMS4-AMS5': 3, 'AMS5-AMS6': 4, 'AMS6-AMS7': 5, 'AMS7-AMS8': 6, 'AMS8-AMS9': 7, 'AMS9-AMS10': 8, 'AMS10-AMS11': 9, 'CA1-CA2': 10, 'CA2-CA3': 11, 'CA3-CA4': 12, 'CA8-CA9': 13, 'CA9-CA10': 14, 'CA10-CA11': 15, 'CA11-CA12': 16, 'OpF1-OpF2': 17, 'OpF2-OpF3': 18, 'OpF3-OpF4': 19, 'OpF4-OpF5': 20, 'OpF5-OpF6': 21, 'OpF6-OpF7': 22, 'FO1-FO2': 23, 'FO2-FO3': 24, 'FO3-FO4': 25, 'FO6-FO7': 26, 'FO7-FO8': 27, 'FO11-FO12': 28, 'PT1-PT2': 29, 'PT2-PT3': 30, 'PT3-PT4': 31, 'PT4-PT5': 32, 'PT5-PT6': 33, 'PT6-PT7': 34, 'PT7-PT8': 35, 'PT8-PT9': 36, 'A1-A2': 37, 'A2-A3': 38, 'A3-A4': 39, 'A4-A5': 40, 'A8-A9': 41, 'A9-A10': 42, 'A10-A11': 43, 'A11-A12': 44, 'A12-A13': 45, 'A13-A14': 46, 'HPA1-HPA2': 47, 'HPA2-HPA3': 48, 'HPA3-HPA4': 49, 'HPA7-HPA8': 50, 'HPA8-HPA9': 51, 'HPA9-HPA10': 52, 'HPA10-HPA11': 53, 'HPA11-HPA12': 54, 'HPA12-HPA13': 55, 'HPP1-HPP2': 56, 'HPP2-HPP3': 57, 'HPP5-HPP6': 58, 'HPP6-HPP7': 59, 'HPP7-HPP8': 60, 'HPP8-HPP9': 61, 'HPP9-HPP10': 62, 'HPP10-HPP11': 63, 'TS1-TS2': 64, 'TS2-TS3': 65, 'TS3-TS4': 66, 'TS4-TS5': 67, 'TS5-TS6': 68, 'TS6-TS7': 69, 'TS7-TS8': 70, 'Ch89-Ch90': 71, 'Ch90-Ch91': 72, 'Ch91-Ch92': 73, 'Ch92-Ch93': 74, 'Ch93-Ch94': 75, 'Ch94-Ch95': 76, 'Ch95-Ch96': 77, 'Ch96-Ch97': 78, 'Ch97-Ch98': 79, 'Ch99-Ch100': 80, 'Ch100-Ch101': 81, 'Ch101-Ch102': 82, 'Ch103-Ch104': 83, 'Ch104-Ch105': 84, 'Ch105-Ch106': 85, 'Ch106-Ch107': 86, 'Ch107-Ch108': 87, 'Ch109-Ch110': 88, 'Ch110-Ch111': 89, 'Ch111-Ch112': 90, 'Ch112-Ch113': 91, 'Ch114-Ch115': 92, 'Ch115-Ch116': 93, 'Ch116-Ch117': 94, 'Ch118-Ch119': 95, 'Ch119-Ch120': 96, 'Ch120-Ch121': 97, 'Ch121-Ch122': 98, 'Ch122-Ch123': 99, 'Ch123-Ch124': 100}\n"
     ]
    }
   ],
   "source": [
    "channel_idx_map = {}\n",
    "\n",
    "for idx in range(num_channels):\n",
    "    # print(f\"Channel {idx}: {data['channels'][0][idx][0]}\")\n",
    "    channel_idx_map[data['channels'][0][idx][0]] = idx\n",
    "    \n",
    "\n",
    "print(\"channel_idx_map: \", channel_idx_map)"
   ]
  },
  {
   "cell_type": "markdown",
   "metadata": {},
   "source": [
    "### Get the channel idx from the channel names"
   ]
  },
  {
   "cell_type": "code",
   "execution_count": 124,
   "metadata": {},
   "outputs": [
    {
     "data": {
      "text/html": [
       "<div>\n",
       "<style scoped>\n",
       "    .dataframe tbody tr th:only-of-type {\n",
       "        vertical-align: middle;\n",
       "    }\n",
       "\n",
       "    .dataframe tbody tr th {\n",
       "        vertical-align: top;\n",
       "    }\n",
       "\n",
       "    .dataframe thead th {\n",
       "        text-align: right;\n",
       "    }\n",
       "</style>\n",
       "<table border=\"1\" class=\"dataframe\">\n",
       "  <thead>\n",
       "    <tr style=\"text-align: right;\">\n",
       "      <th></th>\n",
       "      <th>Label</th>\n",
       "      <th>Pos</th>\n",
       "      <th>Duration</th>\n",
       "      <th>channel_idx</th>\n",
       "    </tr>\n",
       "  </thead>\n",
       "  <tbody>\n",
       "    <tr>\n",
       "      <th>0</th>\n",
       "      <td>Ripple</td>\n",
       "      <td>1.877930</td>\n",
       "      <td>0.0</td>\n",
       "      <td>47</td>\n",
       "    </tr>\n",
       "    <tr>\n",
       "      <th>1</th>\n",
       "      <td>Ripple</td>\n",
       "      <td>1.877930</td>\n",
       "      <td>0.0</td>\n",
       "      <td>48</td>\n",
       "    </tr>\n",
       "    <tr>\n",
       "      <th>2</th>\n",
       "      <td>Ripple</td>\n",
       "      <td>1.877930</td>\n",
       "      <td>0.0</td>\n",
       "      <td>49</td>\n",
       "    </tr>\n",
       "    <tr>\n",
       "      <th>4</th>\n",
       "      <td>Ripple</td>\n",
       "      <td>2.577148</td>\n",
       "      <td>0.0</td>\n",
       "      <td>47</td>\n",
       "    </tr>\n",
       "    <tr>\n",
       "      <th>5</th>\n",
       "      <td>Ripple</td>\n",
       "      <td>2.577148</td>\n",
       "      <td>0.0</td>\n",
       "      <td>48</td>\n",
       "    </tr>\n",
       "    <tr>\n",
       "      <th>...</th>\n",
       "      <td>...</td>\n",
       "      <td>...</td>\n",
       "      <td>...</td>\n",
       "      <td>...</td>\n",
       "    </tr>\n",
       "    <tr>\n",
       "      <th>609</th>\n",
       "      <td>Fast Ripple</td>\n",
       "      <td>60.981934</td>\n",
       "      <td>0.0</td>\n",
       "      <td>48</td>\n",
       "    </tr>\n",
       "    <tr>\n",
       "      <th>610</th>\n",
       "      <td>Fast Ripple</td>\n",
       "      <td>60.981934</td>\n",
       "      <td>0.0</td>\n",
       "      <td>49</td>\n",
       "    </tr>\n",
       "    <tr>\n",
       "      <th>611</th>\n",
       "      <td>Ripple</td>\n",
       "      <td>60.982422</td>\n",
       "      <td>0.0</td>\n",
       "      <td>47</td>\n",
       "    </tr>\n",
       "    <tr>\n",
       "      <th>612</th>\n",
       "      <td>Ripple</td>\n",
       "      <td>60.982422</td>\n",
       "      <td>0.0</td>\n",
       "      <td>48</td>\n",
       "    </tr>\n",
       "    <tr>\n",
       "      <th>613</th>\n",
       "      <td>Ripple</td>\n",
       "      <td>60.982422</td>\n",
       "      <td>0.0</td>\n",
       "      <td>49</td>\n",
       "    </tr>\n",
       "  </tbody>\n",
       "</table>\n",
       "<p>523 rows × 4 columns</p>\n",
       "</div>"
      ],
      "text/plain": [
       "           Label        Pos  Duration  channel_idx\n",
       "0         Ripple   1.877930       0.0           47\n",
       "1         Ripple   1.877930       0.0           48\n",
       "2         Ripple   1.877930       0.0           49\n",
       "4         Ripple   2.577148       0.0           47\n",
       "5         Ripple   2.577148       0.0           48\n",
       "..           ...        ...       ...          ...\n",
       "609  Fast Ripple  60.981934       0.0           48\n",
       "610  Fast Ripple  60.981934       0.0           49\n",
       "611       Ripple  60.982422       0.0           47\n",
       "612       Ripple  60.982422       0.0           48\n",
       "613       Ripple  60.982422       0.0           49\n",
       "\n",
       "[523 rows x 4 columns]"
      ]
     },
     "execution_count": 124,
     "metadata": {},
     "output_type": "execute_result"
    }
   ],
   "source": [
    "# Map the channel names to the channel index. If mapping is not found, delete the row\n",
    "markers_csv['channel_idx'] = markers_csv['Target'].map(channel_idx_map)\n",
    "\n",
    "# Drop rows with NaN values in the channel_idx column (TODO: Check why some channel names are not valid)\n",
    "markers_csv = markers_csv.dropna(subset=['channel_idx'])\n",
    "\n",
    "# Convert the channel_idx column to int\n",
    "markers_csv['channel_idx'] = markers_csv['channel_idx'].astype(int)\n",
    "\n",
    "# Drop the column with the channel name now that we have the index\n",
    "markers_csv = markers_csv.drop(columns=['Target'])\n",
    "\n",
    "markers_csv"
   ]
  },
  {
   "cell_type": "markdown",
   "metadata": {},
   "source": [
    "###  Convert the Position and Duration column from seconds to milliseconds"
   ]
  },
  {
   "cell_type": "code",
   "execution_count": 125,
   "metadata": {},
   "outputs": [
    {
     "name": "stdout",
     "output_type": "stream",
     "text": [
      "           Label           Pos  Duration  channel_idx\n",
      "0         Ripple   1877.929688       0.0           47\n",
      "1         Ripple   1877.929688       0.0           48\n",
      "2         Ripple   1877.929688       0.0           49\n",
      "4         Ripple   2577.148438       0.0           47\n",
      "5         Ripple   2577.148438       0.0           48\n",
      "..           ...           ...       ...          ...\n",
      "609  Fast Ripple  60981.933594       0.0           48\n",
      "610  Fast Ripple  60981.933594       0.0           49\n",
      "611       Ripple  60982.421875       0.0           47\n",
      "612       Ripple  60982.421875       0.0           48\n",
      "613       Ripple  60982.421875       0.0           49\n",
      "\n",
      "[523 rows x 4 columns]\n"
     ]
    }
   ],
   "source": [
    "markers_csv['Pos'] = markers_csv['Pos'].map(lambda x: x*1000)\n",
    "markers_csv['Duration'] = markers_csv['Duration'].map(lambda x: x*1000)   # Should be 0 already in the synthetic dataset\n",
    "\n",
    "print(markers_csv)"
   ]
  },
  {
   "cell_type": "markdown",
   "metadata": {},
   "source": [
    "### Create a numpy array from the csv file"
   ]
  },
  {
   "cell_type": "code",
   "execution_count": 126,
   "metadata": {},
   "outputs": [
    {
     "data": {
      "text/plain": [
       "array([['Ripple', 1877.9296875, 0.0, 47],\n",
       "       ['Ripple', 1877.9296875, 0.0, 48],\n",
       "       ['Ripple', 1877.9296875, 0.0, 49],\n",
       "       ['Ripple', 2577.1484375, 0.0, 47],\n",
       "       ['Ripple', 2577.1484375, 0.0, 48],\n",
       "       ...,\n",
       "       ['Fast Ripple', 60981.93359375, 0.0, 48],\n",
       "       ['Fast Ripple', 60981.93359375, 0.0, 49],\n",
       "       ['Ripple', 60982.421875, 0.0, 47],\n",
       "       ['Ripple', 60982.421875, 0.0, 48],\n",
       "       ['Ripple', 60982.421875, 0.0, 49]], dtype=object)"
      ]
     },
     "execution_count": 126,
     "metadata": {},
     "output_type": "execute_result"
    }
   ],
   "source": [
    "markers_npy = markers_csv.to_numpy()\n",
    "\n",
    "markers_npy"
   ]
  },
  {
   "cell_type": "markdown",
   "metadata": {},
   "source": [
    "## Join all the markers data into a single structured datatype\n",
    "We want to group the markers by channel, so the shape of the structure datatype = (num_channels, [events])\n",
    "\n",
    "The structured datatype will have the following fields:\n",
    "- `label`: the type of event that occurred (can be a combination of 'Spike', 'Ripple' and 'Fast-Ripple')\n",
    "- `position`: the position of the marker in milliseconds\n",
    "- `duration`: the duration of the event in milliseconds\n",
    "\n",
    "The index of each row corresponds to the channel the event is related to"
   ]
  },
  {
   "cell_type": "code",
   "execution_count": 127,
   "metadata": {},
   "outputs": [
    {
     "name": "stdout",
     "output_type": "stream",
     "text": [
      "markers_arr:  [[array([],\n",
      "      dtype=[('label', '<U64'), ('position', '<f4'), ('duration', '<f4')])], [array([],\n",
      "      dtype=[('label', '<U64'), ('position', '<f4'), ('duration', '<f4')])], [array([],\n",
      "      dtype=[('label', '<U64'), ('position', '<f4'), ('duration', '<f4')])], [array([],\n",
      "      dtype=[('label', '<U64'), ('position', '<f4'), ('duration', '<f4')])], [array([],\n",
      "      dtype=[('label', '<U64'), ('position', '<f4'), ('duration', '<f4')])], [array([],\n",
      "      dtype=[('label', '<U64'), ('position', '<f4'), ('duration', '<f4')])], [array([],\n",
      "      dtype=[('label', '<U64'), ('position', '<f4'), ('duration', '<f4')])], [array([],\n",
      "      dtype=[('label', '<U64'), ('position', '<f4'), ('duration', '<f4')])], [array([],\n",
      "      dtype=[('label', '<U64'), ('position', '<f4'), ('duration', '<f4')])], [array([],\n",
      "      dtype=[('label', '<U64'), ('position', '<f4'), ('duration', '<f4')])], [array([],\n",
      "      dtype=[('label', '<U64'), ('position', '<f4'), ('duration', '<f4')])], [array([],\n",
      "      dtype=[('label', '<U64'), ('position', '<f4'), ('duration', '<f4')])], [array([],\n",
      "      dtype=[('label', '<U64'), ('position', '<f4'), ('duration', '<f4')])], [array([],\n",
      "      dtype=[('label', '<U64'), ('position', '<f4'), ('duration', '<f4')])], [array([],\n",
      "      dtype=[('label', '<U64'), ('position', '<f4'), ('duration', '<f4')])], [array([],\n",
      "      dtype=[('label', '<U64'), ('position', '<f4'), ('duration', '<f4')])], [array([],\n",
      "      dtype=[('label', '<U64'), ('position', '<f4'), ('duration', '<f4')])], [array([],\n",
      "      dtype=[('label', '<U64'), ('position', '<f4'), ('duration', '<f4')])], [array([],\n",
      "      dtype=[('label', '<U64'), ('position', '<f4'), ('duration', '<f4')])], [array([],\n",
      "      dtype=[('label', '<U64'), ('position', '<f4'), ('duration', '<f4')])], [array([],\n",
      "      dtype=[('label', '<U64'), ('position', '<f4'), ('duration', '<f4')])], [array([],\n",
      "      dtype=[('label', '<U64'), ('position', '<f4'), ('duration', '<f4')])], [array([],\n",
      "      dtype=[('label', '<U64'), ('position', '<f4'), ('duration', '<f4')])], [array([],\n",
      "      dtype=[('label', '<U64'), ('position', '<f4'), ('duration', '<f4')])], [array([],\n",
      "      dtype=[('label', '<U64'), ('position', '<f4'), ('duration', '<f4')])], [array([],\n",
      "      dtype=[('label', '<U64'), ('position', '<f4'), ('duration', '<f4')])], [array([],\n",
      "      dtype=[('label', '<U64'), ('position', '<f4'), ('duration', '<f4')])], [array([],\n",
      "      dtype=[('label', '<U64'), ('position', '<f4'), ('duration', '<f4')])], [array([],\n",
      "      dtype=[('label', '<U64'), ('position', '<f4'), ('duration', '<f4')])], [array([],\n",
      "      dtype=[('label', '<U64'), ('position', '<f4'), ('duration', '<f4')])], [array([],\n",
      "      dtype=[('label', '<U64'), ('position', '<f4'), ('duration', '<f4')])], [array([],\n",
      "      dtype=[('label', '<U64'), ('position', '<f4'), ('duration', '<f4')])], [array([],\n",
      "      dtype=[('label', '<U64'), ('position', '<f4'), ('duration', '<f4')])], [array([],\n",
      "      dtype=[('label', '<U64'), ('position', '<f4'), ('duration', '<f4')])], [array([],\n",
      "      dtype=[('label', '<U64'), ('position', '<f4'), ('duration', '<f4')])], [array([],\n",
      "      dtype=[('label', '<U64'), ('position', '<f4'), ('duration', '<f4')])], [array([],\n",
      "      dtype=[('label', '<U64'), ('position', '<f4'), ('duration', '<f4')])], [array([],\n",
      "      dtype=[('label', '<U64'), ('position', '<f4'), ('duration', '<f4')])], [array([],\n",
      "      dtype=[('label', '<U64'), ('position', '<f4'), ('duration', '<f4')])], [array([],\n",
      "      dtype=[('label', '<U64'), ('position', '<f4'), ('duration', '<f4')])], [array([],\n",
      "      dtype=[('label', '<U64'), ('position', '<f4'), ('duration', '<f4')])], [array([],\n",
      "      dtype=[('label', '<U64'), ('position', '<f4'), ('duration', '<f4')])], [array([],\n",
      "      dtype=[('label', '<U64'), ('position', '<f4'), ('duration', '<f4')])], [array([],\n",
      "      dtype=[('label', '<U64'), ('position', '<f4'), ('duration', '<f4')])], [array([],\n",
      "      dtype=[('label', '<U64'), ('position', '<f4'), ('duration', '<f4')])], [array([],\n",
      "      dtype=[('label', '<U64'), ('position', '<f4'), ('duration', '<f4')])], [array([],\n",
      "      dtype=[('label', '<U64'), ('position', '<f4'), ('duration', '<f4')])], [array([],\n",
      "      dtype=[('label', '<U64'), ('position', '<f4'), ('duration', '<f4')])], [array([],\n",
      "      dtype=[('label', '<U64'), ('position', '<f4'), ('duration', '<f4')])], [array([],\n",
      "      dtype=[('label', '<U64'), ('position', '<f4'), ('duration', '<f4')])], [array([],\n",
      "      dtype=[('label', '<U64'), ('position', '<f4'), ('duration', '<f4')])], [array([],\n",
      "      dtype=[('label', '<U64'), ('position', '<f4'), ('duration', '<f4')])], [array([],\n",
      "      dtype=[('label', '<U64'), ('position', '<f4'), ('duration', '<f4')])], [array([],\n",
      "      dtype=[('label', '<U64'), ('position', '<f4'), ('duration', '<f4')])], [array([],\n",
      "      dtype=[('label', '<U64'), ('position', '<f4'), ('duration', '<f4')])], [array([],\n",
      "      dtype=[('label', '<U64'), ('position', '<f4'), ('duration', '<f4')])], [array([],\n",
      "      dtype=[('label', '<U64'), ('position', '<f4'), ('duration', '<f4')])], [array([],\n",
      "      dtype=[('label', '<U64'), ('position', '<f4'), ('duration', '<f4')])], [array([],\n",
      "      dtype=[('label', '<U64'), ('position', '<f4'), ('duration', '<f4')])], [array([],\n",
      "      dtype=[('label', '<U64'), ('position', '<f4'), ('duration', '<f4')])], [array([],\n",
      "      dtype=[('label', '<U64'), ('position', '<f4'), ('duration', '<f4')])], [array([],\n",
      "      dtype=[('label', '<U64'), ('position', '<f4'), ('duration', '<f4')])], [array([],\n",
      "      dtype=[('label', '<U64'), ('position', '<f4'), ('duration', '<f4')])], [array([],\n",
      "      dtype=[('label', '<U64'), ('position', '<f4'), ('duration', '<f4')])], [array([],\n",
      "      dtype=[('label', '<U64'), ('position', '<f4'), ('duration', '<f4')])], [array([],\n",
      "      dtype=[('label', '<U64'), ('position', '<f4'), ('duration', '<f4')])], [array([],\n",
      "      dtype=[('label', '<U64'), ('position', '<f4'), ('duration', '<f4')])], [array([],\n",
      "      dtype=[('label', '<U64'), ('position', '<f4'), ('duration', '<f4')])], [array([],\n",
      "      dtype=[('label', '<U64'), ('position', '<f4'), ('duration', '<f4')])], [array([],\n",
      "      dtype=[('label', '<U64'), ('position', '<f4'), ('duration', '<f4')])], [array([],\n",
      "      dtype=[('label', '<U64'), ('position', '<f4'), ('duration', '<f4')])], [array([],\n",
      "      dtype=[('label', '<U64'), ('position', '<f4'), ('duration', '<f4')])], [array([],\n",
      "      dtype=[('label', '<U64'), ('position', '<f4'), ('duration', '<f4')])], [array([],\n",
      "      dtype=[('label', '<U64'), ('position', '<f4'), ('duration', '<f4')])], [array([],\n",
      "      dtype=[('label', '<U64'), ('position', '<f4'), ('duration', '<f4')])], [array([],\n",
      "      dtype=[('label', '<U64'), ('position', '<f4'), ('duration', '<f4')])], [array([],\n",
      "      dtype=[('label', '<U64'), ('position', '<f4'), ('duration', '<f4')])], [array([],\n",
      "      dtype=[('label', '<U64'), ('position', '<f4'), ('duration', '<f4')])], [array([],\n",
      "      dtype=[('label', '<U64'), ('position', '<f4'), ('duration', '<f4')])], [array([],\n",
      "      dtype=[('label', '<U64'), ('position', '<f4'), ('duration', '<f4')])], [array([],\n",
      "      dtype=[('label', '<U64'), ('position', '<f4'), ('duration', '<f4')])], [array([],\n",
      "      dtype=[('label', '<U64'), ('position', '<f4'), ('duration', '<f4')])], [array([],\n",
      "      dtype=[('label', '<U64'), ('position', '<f4'), ('duration', '<f4')])], [array([],\n",
      "      dtype=[('label', '<U64'), ('position', '<f4'), ('duration', '<f4')])], [array([],\n",
      "      dtype=[('label', '<U64'), ('position', '<f4'), ('duration', '<f4')])], [array([],\n",
      "      dtype=[('label', '<U64'), ('position', '<f4'), ('duration', '<f4')])], [array([],\n",
      "      dtype=[('label', '<U64'), ('position', '<f4'), ('duration', '<f4')])], [array([],\n",
      "      dtype=[('label', '<U64'), ('position', '<f4'), ('duration', '<f4')])], [array([],\n",
      "      dtype=[('label', '<U64'), ('position', '<f4'), ('duration', '<f4')])], [array([],\n",
      "      dtype=[('label', '<U64'), ('position', '<f4'), ('duration', '<f4')])], [array([],\n",
      "      dtype=[('label', '<U64'), ('position', '<f4'), ('duration', '<f4')])], [array([],\n",
      "      dtype=[('label', '<U64'), ('position', '<f4'), ('duration', '<f4')])], [array([],\n",
      "      dtype=[('label', '<U64'), ('position', '<f4'), ('duration', '<f4')])], [array([],\n",
      "      dtype=[('label', '<U64'), ('position', '<f4'), ('duration', '<f4')])], [array([],\n",
      "      dtype=[('label', '<U64'), ('position', '<f4'), ('duration', '<f4')])], [array([],\n",
      "      dtype=[('label', '<U64'), ('position', '<f4'), ('duration', '<f4')])], [array([],\n",
      "      dtype=[('label', '<U64'), ('position', '<f4'), ('duration', '<f4')])], [array([],\n",
      "      dtype=[('label', '<U64'), ('position', '<f4'), ('duration', '<f4')])], [array([],\n",
      "      dtype=[('label', '<U64'), ('position', '<f4'), ('duration', '<f4')])], [array([],\n",
      "      dtype=[('label', '<U64'), ('position', '<f4'), ('duration', '<f4')])], [array([],\n",
      "      dtype=[('label', '<U64'), ('position', '<f4'), ('duration', '<f4')])]]\n"
     ]
    }
   ],
   "source": [
    "from utils.io import preview_np_array\n",
    "\n",
    "# Create an empty np array to store the markers\n",
    "# markers_arr = [ np.empty(shape=(1), dtype=[('label', 'U64'), ('position', np.float32), ('duration', np.float32)]) for _ in range(num_channels)]\n",
    "markers_arr = np.empty(num_channels).tolist()\n",
    "for idx in range(num_channels):\n",
    "    markers_arr[idx] = [np.empty(shape=(0), dtype=[('label', 'U64'), ('position', np.float32), ('duration', np.float32)])]\n",
    "\n",
    "print(\"markers_arr: \", markers_arr)"
   ]
  },
  {
   "cell_type": "code",
   "execution_count": 128,
   "metadata": {},
   "outputs": [
    {
     "name": "stdout",
     "output_type": "stream",
     "text": [
      "Markers Array:  [[array([],\n",
      "      dtype=[('label', '<U64'), ('position', '<f4'), ('duration', '<f4')])], [array([],\n",
      "      dtype=[('label', '<U64'), ('position', '<f4'), ('duration', '<f4')])], [array([],\n",
      "      dtype=[('label', '<U64'), ('position', '<f4'), ('duration', '<f4')])], [array([],\n",
      "      dtype=[('label', '<U64'), ('position', '<f4'), ('duration', '<f4')])], [array([],\n",
      "      dtype=[('label', '<U64'), ('position', '<f4'), ('duration', '<f4')])], [array([],\n",
      "      dtype=[('label', '<U64'), ('position', '<f4'), ('duration', '<f4')])], [array([],\n",
      "      dtype=[('label', '<U64'), ('position', '<f4'), ('duration', '<f4')])], [array([],\n",
      "      dtype=[('label', '<U64'), ('position', '<f4'), ('duration', '<f4')])], [array([],\n",
      "      dtype=[('label', '<U64'), ('position', '<f4'), ('duration', '<f4')])], [array([],\n",
      "      dtype=[('label', '<U64'), ('position', '<f4'), ('duration', '<f4')])], [array([],\n",
      "      dtype=[('label', '<U64'), ('position', '<f4'), ('duration', '<f4')])], [array([],\n",
      "      dtype=[('label', '<U64'), ('position', '<f4'), ('duration', '<f4')])], [array([],\n",
      "      dtype=[('label', '<U64'), ('position', '<f4'), ('duration', '<f4')])], [array([],\n",
      "      dtype=[('label', '<U64'), ('position', '<f4'), ('duration', '<f4')])], [array([],\n",
      "      dtype=[('label', '<U64'), ('position', '<f4'), ('duration', '<f4')])], [array([],\n",
      "      dtype=[('label', '<U64'), ('position', '<f4'), ('duration', '<f4')])], [array([],\n",
      "      dtype=[('label', '<U64'), ('position', '<f4'), ('duration', '<f4')])], array([('Ripple', 47851.074, 0.)],\n",
      "      dtype=[('label', '<U64'), ('position', '<f4'), ('duration', '<f4')]), array([('Ripple', 47851.074, 0.)],\n",
      "      dtype=[('label', '<U64'), ('position', '<f4'), ('duration', '<f4')]), array([('Ripple', 47851.074, 0.)],\n",
      "      dtype=[('label', '<U64'), ('position', '<f4'), ('duration', '<f4')]), array([('Ripple', 47851.074, 0.)],\n",
      "      dtype=[('label', '<U64'), ('position', '<f4'), ('duration', '<f4')]), [array([],\n",
      "      dtype=[('label', '<U64'), ('position', '<f4'), ('duration', '<f4')])], [array([],\n",
      "      dtype=[('label', '<U64'), ('position', '<f4'), ('duration', '<f4')])], [array([],\n",
      "      dtype=[('label', '<U64'), ('position', '<f4'), ('duration', '<f4')])], [array([],\n",
      "      dtype=[('label', '<U64'), ('position', '<f4'), ('duration', '<f4')])], [array([],\n",
      "      dtype=[('label', '<U64'), ('position', '<f4'), ('duration', '<f4')])], [array([],\n",
      "      dtype=[('label', '<U64'), ('position', '<f4'), ('duration', '<f4')])], [array([],\n",
      "      dtype=[('label', '<U64'), ('position', '<f4'), ('duration', '<f4')])], [array([],\n",
      "      dtype=[('label', '<U64'), ('position', '<f4'), ('duration', '<f4')])], array([('Ripple',  2598.6328, 0.), ('Ripple', 32159.18  , 0.),\n",
      "       ('Ripple', 35217.773 , 0.), ('Ripple', 49569.824 , 0.)],\n",
      "      dtype=[('label', '<U64'), ('position', '<f4'), ('duration', '<f4')]), array([('Ripple',  2598.6328, 0.), ('Ripple', 32159.18  , 0.),\n",
      "       ('Ripple', 35217.773 , 0.), ('Ripple', 49569.824 , 0.)],\n",
      "      dtype=[('label', '<U64'), ('position', '<f4'), ('duration', '<f4')]), array([('Ripple',  2598.6328, 0.), ('Ripple', 32159.18  , 0.),\n",
      "       ('Ripple', 35217.773 , 0.), ('Ripple', 49569.824 , 0.)],\n",
      "      dtype=[('label', '<U64'), ('position', '<f4'), ('duration', '<f4')]), array([('Ripple',  2598.6328, 0.), ('Ripple', 32159.18  , 0.),\n",
      "       ('Ripple', 35217.773 , 0.)],\n",
      "      dtype=[('label', '<U64'), ('position', '<f4'), ('duration', '<f4')]), [array([],\n",
      "      dtype=[('label', '<U64'), ('position', '<f4'), ('duration', '<f4')])], [array([],\n",
      "      dtype=[('label', '<U64'), ('position', '<f4'), ('duration', '<f4')])], [array([],\n",
      "      dtype=[('label', '<U64'), ('position', '<f4'), ('duration', '<f4')])], [array([],\n",
      "      dtype=[('label', '<U64'), ('position', '<f4'), ('duration', '<f4')])], array([('Ripple', 11208.008, 0.), ('Ripple', 15050.293, 0.),\n",
      "       ('Ripple', 23245.605, 0.), ('Ripple', 24862.793, 0.),\n",
      "       ('Ripple', 32125.977, 0.), ('Fast Ripple', 49558.105, 0.),\n",
      "       ('Ripple', 49569.824, 0.), ('Ripple', 60107.91 , 0.)],\n",
      "      dtype=[('label', '<U64'), ('position', '<f4'), ('duration', '<f4')]), array([('Ripple', 11208.008, 0.), ('Ripple', 15050.293, 0.),\n",
      "       ('Ripple', 23245.605, 0.), ('Ripple', 24862.793, 0.),\n",
      "       ('Ripple', 32125.977, 0.), ('Fast Ripple', 49558.105, 0.),\n",
      "       ('Ripple', 49569.824, 0.), ('Ripple', 60107.91 , 0.)],\n",
      "      dtype=[('label', '<U64'), ('position', '<f4'), ('duration', '<f4')]), array([('Ripple', 11208.008, 0.), ('Ripple', 15050.293, 0.),\n",
      "       ('Ripple', 23245.605, 0.), ('Ripple', 24862.793, 0.),\n",
      "       ('Ripple', 32125.977, 0.), ('Fast Ripple', 49558.105, 0.),\n",
      "       ('Ripple', 49569.824, 0.), ('Ripple', 60107.91 , 0.)],\n",
      "      dtype=[('label', '<U64'), ('position', '<f4'), ('duration', '<f4')]), array([('Ripple', 32125.977, 0.), ('Ripple', 49569.824, 0.),\n",
      "       ('Ripple', 60107.91 , 0.)],\n",
      "      dtype=[('label', '<U64'), ('position', '<f4'), ('duration', '<f4')]), array([('Ripple', 5198.242, 0.)],\n",
      "      dtype=[('label', '<U64'), ('position', '<f4'), ('duration', '<f4')]), array([('Ripple', 5198.242, 0.)],\n",
      "      dtype=[('label', '<U64'), ('position', '<f4'), ('duration', '<f4')]), array([('Ripple', 5198.242, 0.)],\n",
      "      dtype=[('label', '<U64'), ('position', '<f4'), ('duration', '<f4')]), array([('Ripple', 5198.242, 0.)],\n",
      "      dtype=[('label', '<U64'), ('position', '<f4'), ('duration', '<f4')]), [array([],\n",
      "      dtype=[('label', '<U64'), ('position', '<f4'), ('duration', '<f4')])], [array([],\n",
      "      dtype=[('label', '<U64'), ('position', '<f4'), ('duration', '<f4')])], array([('Ripple',  1877.9297, 0.), ('Ripple',  2577.1484, 0.),\n",
      "       ('Ripple',  3467.7734, 0.), ('Fast Ripple',  3478.5156, 0.),\n",
      "       ('Ripple',  3782.2266, 0.), ..., ('Fast Ripple', 58532.715 , 0.),\n",
      "       ('Ripple', 58990.234 , 0.), ('Ripple', 60845.703 , 0.),\n",
      "       ('Fast Ripple', 60981.934 , 0.), ('Ripple', 60982.42  , 0.)],\n",
      "      dtype=[('label', '<U64'), ('position', '<f4'), ('duration', '<f4')]), array([('Ripple',  1877.9297, 0.), ('Ripple',  2577.1484, 0.),\n",
      "       ('Ripple',  3467.7734, 0.), ('Fast Ripple',  3478.5156, 0.),\n",
      "       ('Ripple',  3782.2266, 0.), ..., ('Fast Ripple', 58532.715 , 0.),\n",
      "       ('Ripple', 58990.234 , 0.), ('Ripple', 60845.703 , 0.),\n",
      "       ('Fast Ripple', 60981.934 , 0.), ('Ripple', 60982.42  , 0.)],\n",
      "      dtype=[('label', '<U64'), ('position', '<f4'), ('duration', '<f4')]), array([('Ripple',  1877.9297, 0.), ('Ripple',  2577.1484, 0.),\n",
      "       ('Ripple',  3467.7734, 0.), ('Fast Ripple',  3478.5156, 0.),\n",
      "       ('Ripple',  3782.2266, 0.), ..., ('Fast Ripple', 58532.715 , 0.),\n",
      "       ('Ripple', 58990.234 , 0.), ('Ripple', 60845.703 , 0.),\n",
      "       ('Fast Ripple', 60981.934 , 0.), ('Ripple', 60982.42  , 0.)],\n",
      "      dtype=[('label', '<U64'), ('position', '<f4'), ('duration', '<f4')]), array([('Ripple', 5020.508, 0.)],\n",
      "      dtype=[('label', '<U64'), ('position', '<f4'), ('duration', '<f4')]), array([('Ripple', 5020.508, 0.)],\n",
      "      dtype=[('label', '<U64'), ('position', '<f4'), ('duration', '<f4')]), array([('Ripple', 5020.508, 0.)],\n",
      "      dtype=[('label', '<U64'), ('position', '<f4'), ('duration', '<f4')]), [array([],\n",
      "      dtype=[('label', '<U64'), ('position', '<f4'), ('duration', '<f4')])], [array([],\n",
      "      dtype=[('label', '<U64'), ('position', '<f4'), ('duration', '<f4')])], [array([],\n",
      "      dtype=[('label', '<U64'), ('position', '<f4'), ('duration', '<f4')])], array([('Fast Ripple',  3478.5156, 0.), ('Ripple',  4852.539 , 0.),\n",
      "       ('Ripple',  5303.711 , 0.), ('Ripple',  9606.445 , 0.),\n",
      "       ('Fast Ripple',  9820.3125, 0.), ...,\n",
      "       ('Fast Ripple', 53792.48  , 0.), ('Fast Ripple', 55280.76  , 0.),\n",
      "       ('Fast Ripple', 56544.434 , 0.), ('Fast Ripple', 56882.324 , 0.),\n",
      "       ('Fast Ripple', 58532.715 , 0.)],\n",
      "      dtype=[('label', '<U64'), ('position', '<f4'), ('duration', '<f4')]), array([('Fast Ripple',  3478.5156, 0.), ('Ripple',  4852.539 , 0.),\n",
      "       ('Ripple',  5303.711 , 0.), ('Ripple',  9606.445 , 0.),\n",
      "       ('Fast Ripple', 32135.254 , 0.), ('Ripple', 32159.18  , 0.),\n",
      "       ('Ripple', 34225.586 , 0.), ('Ripple', 38057.13  , 0.)],\n",
      "      dtype=[('label', '<U64'), ('position', '<f4'), ('duration', '<f4')]), [array([],\n",
      "      dtype=[('label', '<U64'), ('position', '<f4'), ('duration', '<f4')])], array([('Ripple', 52339.844, 0.)],\n",
      "      dtype=[('label', '<U64'), ('position', '<f4'), ('duration', '<f4')]), array([('Ripple', 52339.844, 0.)],\n",
      "      dtype=[('label', '<U64'), ('position', '<f4'), ('duration', '<f4')]), array([('Ripple', 52339.844, 0.)],\n",
      "      dtype=[('label', '<U64'), ('position', '<f4'), ('duration', '<f4')]), [array([],\n",
      "      dtype=[('label', '<U64'), ('position', '<f4'), ('duration', '<f4')])], [array([],\n",
      "      dtype=[('label', '<U64'), ('position', '<f4'), ('duration', '<f4')])], [array([],\n",
      "      dtype=[('label', '<U64'), ('position', '<f4'), ('duration', '<f4')])], [array([],\n",
      "      dtype=[('label', '<U64'), ('position', '<f4'), ('duration', '<f4')])], [array([],\n",
      "      dtype=[('label', '<U64'), ('position', '<f4'), ('duration', '<f4')])], [array([],\n",
      "      dtype=[('label', '<U64'), ('position', '<f4'), ('duration', '<f4')])], [array([],\n",
      "      dtype=[('label', '<U64'), ('position', '<f4'), ('duration', '<f4')])], [array([],\n",
      "      dtype=[('label', '<U64'), ('position', '<f4'), ('duration', '<f4')])], [array([],\n",
      "      dtype=[('label', '<U64'), ('position', '<f4'), ('duration', '<f4')])], array([('Ripple', 17186.523, 0.)],\n",
      "      dtype=[('label', '<U64'), ('position', '<f4'), ('duration', '<f4')]), array([('Ripple', 17186.523, 0.)],\n",
      "      dtype=[('label', '<U64'), ('position', '<f4'), ('duration', '<f4')]), array([('Ripple', 17186.523, 0.)],\n",
      "      dtype=[('label', '<U64'), ('position', '<f4'), ('duration', '<f4')]), array([('Ripple', 17186.523, 0.)],\n",
      "      dtype=[('label', '<U64'), ('position', '<f4'), ('duration', '<f4')]), array([('Ripple', 17186.523, 0.)],\n",
      "      dtype=[('label', '<U64'), ('position', '<f4'), ('duration', '<f4')]), array([('Ripple',  4932.617, 0.), ('Ripple', 17186.523, 0.)],\n",
      "      dtype=[('label', '<U64'), ('position', '<f4'), ('duration', '<f4')]), array([('Ripple', 4932.617, 0.)],\n",
      "      dtype=[('label', '<U64'), ('position', '<f4'), ('duration', '<f4')]), array([('Ripple', 4932.617, 0.)],\n",
      "      dtype=[('label', '<U64'), ('position', '<f4'), ('duration', '<f4')]), array([('Ripple', 4932.617, 0.)],\n",
      "      dtype=[('label', '<U64'), ('position', '<f4'), ('duration', '<f4')]), [array([],\n",
      "      dtype=[('label', '<U64'), ('position', '<f4'), ('duration', '<f4')])], [array([],\n",
      "      dtype=[('label', '<U64'), ('position', '<f4'), ('duration', '<f4')])], [array([],\n",
      "      dtype=[('label', '<U64'), ('position', '<f4'), ('duration', '<f4')])], array([('Ripple',  4959.961, 0.), ('Ripple', 31206.055, 0.)],\n",
      "      dtype=[('label', '<U64'), ('position', '<f4'), ('duration', '<f4')]), array([('Ripple',  4959.961, 0.), ('Ripple', 31206.055, 0.)],\n",
      "      dtype=[('label', '<U64'), ('position', '<f4'), ('duration', '<f4')]), array([('Ripple',  4959.961, 0.), ('Ripple', 31206.055, 0.)],\n",
      "      dtype=[('label', '<U64'), ('position', '<f4'), ('duration', '<f4')]), array([('Ripple',  4959.961, 0.), ('Ripple', 31206.055, 0.)],\n",
      "      dtype=[('label', '<U64'), ('position', '<f4'), ('duration', '<f4')]), array([('Ripple',  4959.961, 0.), ('Ripple', 31206.055, 0.)],\n",
      "      dtype=[('label', '<U64'), ('position', '<f4'), ('duration', '<f4')]), [array([],\n",
      "      dtype=[('label', '<U64'), ('position', '<f4'), ('duration', '<f4')])], [array([],\n",
      "      dtype=[('label', '<U64'), ('position', '<f4'), ('duration', '<f4')])], [array([],\n",
      "      dtype=[('label', '<U64'), ('position', '<f4'), ('duration', '<f4')])], [array([],\n",
      "      dtype=[('label', '<U64'), ('position', '<f4'), ('duration', '<f4')])], [array([],\n",
      "      dtype=[('label', '<U64'), ('position', '<f4'), ('duration', '<f4')])], [array([],\n",
      "      dtype=[('label', '<U64'), ('position', '<f4'), ('duration', '<f4')])], [array([],\n",
      "      dtype=[('label', '<U64'), ('position', '<f4'), ('duration', '<f4')])], [array([],\n",
      "      dtype=[('label', '<U64'), ('position', '<f4'), ('duration', '<f4')])], [array([],\n",
      "      dtype=[('label', '<U64'), ('position', '<f4'), ('duration', '<f4')])], [array([],\n",
      "      dtype=[('label', '<U64'), ('position', '<f4'), ('duration', '<f4')])], [array([],\n",
      "      dtype=[('label', '<U64'), ('position', '<f4'), ('duration', '<f4')])], [array([],\n",
      "      dtype=[('label', '<U64'), ('position', '<f4'), ('duration', '<f4')])], [array([],\n",
      "      dtype=[('label', '<U64'), ('position', '<f4'), ('duration', '<f4')])]]\n"
     ]
    }
   ],
   "source": [
    "# Iterate all the marked events and add them to markers_arr\n",
    "for rowIdx in range(len(markers_npy)):    \n",
    "    currObj = markers_npy[rowIdx]\n",
    "    channelIdx = currObj[3]\n",
    "\n",
    "    currArr = markers_arr[channelIdx]\n",
    "        \n",
    "    currRow = np.array((currObj[0], currObj[1], currObj[2]), dtype=[('label', 'U64'), ('position', np.float32), ('duration', np.float32)])  # Create tuple (Label, Pos, Duration)\n",
    "    # currArr.append(currRow)\n",
    "    # Append the tuple to the numpy array\n",
    "    currArr = np.append(currArr, currRow)\n",
    "    \n",
    "    # Update the array of the current channel    \n",
    "    markers_arr[channelIdx] = currArr\n",
    "\n",
    "print(\"Markers Array: \", markers_arr)"
   ]
  },
  {
   "cell_type": "markdown",
   "metadata": {},
   "source": [
    "###  Convert the array to a numpy array to allow writing to a .npy file"
   ]
  },
  {
   "cell_type": "code",
   "execution_count": 129,
   "metadata": {},
   "outputs": [
    {
     "name": "stdout",
     "output_type": "stream",
     "text": [
      "final_markers_npy Shape: (101,).\n",
      "Preview: [list([array([],\n",
      "       dtype=[('label', '<U64'), ('position', '<f4'), ('duration', '<f4')])])\n",
      " list([array([],\n",
      "       dtype=[('label', '<U64'), ('position', '<f4'), ('duration', '<f4')])])\n",
      " list([array([],\n",
      "       dtype=[('label', '<U64'), ('position', '<f4'), ('duration', '<f4')])])\n",
      " list([array([],\n",
      "       dtype=[('label', '<U64'), ('position', '<f4'), ('duration', '<f4')])])\n",
      " list([array([],\n",
      "       dtype=[('label', '<U64'), ('position', '<f4'), ('duration', '<f4')])])\n",
      " ...\n",
      " list([array([],\n",
      "       dtype=[('label', '<U64'), ('position', '<f4'), ('duration', '<f4')])])\n",
      " list([array([],\n",
      "       dtype=[('label', '<U64'), ('position', '<f4'), ('duration', '<f4')])])\n",
      " list([array([],\n",
      "       dtype=[('label', '<U64'), ('position', '<f4'), ('duration', '<f4')])])\n",
      " list([array([],\n",
      "       dtype=[('label', '<U64'), ('position', '<f4'), ('duration', '<f4')])])\n",
      " list([array([],\n",
      "       dtype=[('label', '<U64'), ('position', '<f4'), ('duration', '<f4')])])]\n"
     ]
    }
   ],
   "source": [
    "# Convert the 2D array to a 1D numpy array\n",
    "final_markers_npy = np.array(markers_arr, dtype=object)\n",
    "\n",
    "preview_np_array(final_markers_npy, \"final_markers_npy\")"
   ]
  },
  {
   "cell_type": "markdown",
   "metadata": {},
   "source": [
    "### Write the processed markers into a .npy file"
   ]
  },
  {
   "cell_type": "code",
   "execution_count": 130,
   "metadata": {},
   "outputs": [],
   "source": [
    "file_name = f\"{PATH_TO_FILE}seeg_{PATIENT_LABEL}_markers.npy\"\n",
    "\n",
    "EXPORT_MARKERS = True\n",
    "if EXPORT_MARKERS:\n",
    "    np.save(file_name, final_markers_npy)   # Save the data to a numpy file (not stored in git due to size)"
   ]
  },
  {
   "cell_type": "markdown",
   "metadata": {},
   "source": [
    "## See what is the average number of annotated events per channel"
   ]
  },
  {
   "cell_type": "code",
   "execution_count": 131,
   "metadata": {},
   "outputs": [
    {
     "name": "stdout",
     "output_type": "stream",
     "text": [
      "Ripple Count: 329\n",
      "Fast Ripple Count: 194\n"
     ]
    }
   ],
   "source": [
    "ripple_counter = 0\n",
    "fr_counter = 0\n",
    "\n",
    "for marker in markers_npy:\n",
    "    curr_label = marker[0]\n",
    "    curr_pos = marker[1]\n",
    "\n",
    "    if curr_label == 'Ripple':\n",
    "        ripple_counter += 1\n",
    "    elif curr_label == 'Fast Ripple':\n",
    "        fr_counter += 1\n",
    "    else:\n",
    "        print(f\"Unknown label: {curr_label}\")\n",
    "\n",
    "print(f\"Ripple Count: {ripple_counter}\")\n",
    "print(f\"Fast Ripple Count: {fr_counter}\")"
   ]
  },
  {
   "cell_type": "code",
   "execution_count": 132,
   "metadata": {},
   "outputs": [
    {
     "name": "stdout",
     "output_type": "stream",
     "text": [
      "Ripple Frequency: 3.2007458678314094 ripples / minute / channel\n",
      "Fast Ripple Frequency: 1.8873699038276395 fast ripples / minute / channel\n"
     ]
    }
   ],
   "source": [
    "# Ripple Frequency per minute and per channel\n",
    "ripple_freq = ripple_counter / ((input_duration / 60) * num_channels)\n",
    "fr_freq = fr_counter / ((input_duration / 60) * num_channels)\n",
    "\n",
    "print(f\"Ripple Frequency: {ripple_freq} ripples / minute / channel\")\n",
    "print(f\"Fast Ripple Frequency: {fr_freq} fast ripples / minute / channel\")"
   ]
  },
  {
   "cell_type": "markdown",
   "metadata": {},
   "source": [
    "### Find the channels with the most annotated events"
   ]
  },
  {
   "cell_type": "code",
   "execution_count": 133,
   "metadata": {},
   "outputs": [
    {
     "name": "stdout",
     "output_type": "stream",
     "text": [
      "Channel Event Count:  {0: 1, 1: 1, 2: 1, 3: 1, 4: 1, 5: 1, 6: 1, 7: 1, 8: 1, 9: 1, 10: 1, 11: 1, 12: 1, 13: 1, 14: 1, 15: 1, 16: 1, 17: 1, 18: 1, 19: 1, 20: 1, 21: 1, 22: 1, 23: 1, 24: 1, 25: 1, 26: 1, 27: 1, 28: 1, 29: 4, 30: 4, 31: 4, 32: 3, 33: 1, 34: 1, 35: 1, 36: 1, 37: 8, 38: 8, 39: 8, 40: 3, 41: 1, 42: 1, 43: 1, 44: 1, 45: 1, 46: 1, 47: 132, 48: 132, 49: 132, 50: 1, 51: 1, 52: 1, 53: 1, 54: 1, 55: 1, 56: 43, 57: 8, 58: 1, 59: 1, 60: 1, 61: 1, 62: 1, 63: 1, 64: 1, 65: 1, 66: 1, 67: 1, 68: 1, 69: 1, 70: 1, 71: 1, 72: 1, 73: 1, 74: 1, 75: 1, 76: 2, 77: 1, 78: 1, 79: 1, 80: 1, 81: 1, 82: 1, 83: 2, 84: 2, 85: 2, 86: 2, 87: 2, 88: 1, 89: 1, 90: 1, 91: 1, 92: 1, 93: 1, 94: 1, 95: 1, 96: 1, 97: 1, 98: 1, 99: 1, 100: 1}\n",
      "Sorted Channel Event Count:  {47: 132, 48: 132, 49: 132, 56: 43, 37: 8, 38: 8, 39: 8, 57: 8, 29: 4, 30: 4, 31: 4, 32: 3, 40: 3, 76: 2, 83: 2, 84: 2, 85: 2, 86: 2, 87: 2, 0: 1, 1: 1, 2: 1, 3: 1, 4: 1, 5: 1, 6: 1, 7: 1, 8: 1, 9: 1, 10: 1, 11: 1, 12: 1, 13: 1, 14: 1, 15: 1, 16: 1, 17: 1, 18: 1, 19: 1, 20: 1, 21: 1, 22: 1, 23: 1, 24: 1, 25: 1, 26: 1, 27: 1, 28: 1, 33: 1, 34: 1, 35: 1, 36: 1, 41: 1, 42: 1, 43: 1, 44: 1, 45: 1, 46: 1, 50: 1, 51: 1, 52: 1, 53: 1, 54: 1, 55: 1, 58: 1, 59: 1, 60: 1, 61: 1, 62: 1, 63: 1, 64: 1, 65: 1, 66: 1, 67: 1, 68: 1, 69: 1, 70: 1, 71: 1, 72: 1, 73: 1, 74: 1, 75: 1, 77: 1, 78: 1, 79: 1, 80: 1, 81: 1, 82: 1, 88: 1, 89: 1, 90: 1, 91: 1, 92: 1, 93: 1, 94: 1, 95: 1, 96: 1, 97: 1, 98: 1, 99: 1, 100: 1}\n"
     ]
    }
   ],
   "source": [
    "# Build a dictionary with the channel idx and the number of annotated events\n",
    "channel_event_count = {}\n",
    "for idx in range(len(final_markers_npy)):\n",
    "    channel_event_count[idx] = len(final_markers_npy[idx])\n",
    "print(\"Channel Event Count: \", channel_event_count)\n",
    "\n",
    "# Sort the dictionary by the number of events\n",
    "sorted_channel_event_count = dict(sorted(channel_event_count.items(), key=lambda item: item[1], reverse=True))\n",
    "print(\"Sorted Channel Event Count: \", sorted_channel_event_count)\n",
    "# {ch_idx: num_events}"
   ]
  },
  {
   "cell_type": "markdown",
   "metadata": {},
   "source": [
    "---"
   ]
  },
  {
   "cell_type": "markdown",
   "metadata": {},
   "source": [
    "## SEEG Data"
   ]
  },
  {
   "cell_type": "code",
   "execution_count": 134,
   "metadata": {},
   "outputs": [
    {
     "name": "stdout",
     "output_type": "stream",
     "text": [
      "data: [[-107.66629   -111.653915  -113.51482   -111.38808   -114.844025  ...\n",
      "    11.16539     10.10202     15.418877    10.10202      4.253479 ]\n",
      " [ -81.347855   -82.942924   -81.61371    -85.60135    -84.53797   ...\n",
      "     9.038654     7.443596     4.7851715    6.1143875    6.6460648]\n",
      " [  19.14067     17.811462    10.3678665    5.582695     2.6584244 ...\n",
      "    58.48539     57.156174    52.90269     49.446735    46.788315 ]\n",
      " [  34.027863    39.07888     46.25663     51.0418      55.029434  ...\n",
      "    12.760448    14.88719     17.811459    18.608988    20.73573  ]\n",
      " [-127.60449   -130.26292   -130.7946    -127.87033   -128.13617   ...\n",
      "  -172.00021   -166.9492    -165.88583   -159.23976   -155.25212  ]\n",
      " ...\n",
      " [  35.35707     34.825394    36.95214     37.749657    38.547188  ...\n",
      "  -287.11008   -289.23685   -287.37592   -286.31256   -286.84424  ]\n",
      " [  36.42044     38.015503    36.952133    36.420456    37.48381   ...\n",
      "    24.723358    24.723389    20.735718    19.938202    18.077301 ]\n",
      " [ -25.25505    -26.31842    -26.052582   -26.31842    -25.25505   ...\n",
      "    32.4328      32.16696     32.964508    32.4328      33.762024 ]\n",
      " [  18.077301    16.2164      17.27977     18.34314     14.887192  ...\n",
      "   103.14697    103.14694    102.8811     103.412796   103.412796 ]\n",
      " [ -10.6336975  -13.026291   -16.2164     -16.2164     -17.013931  ...\n",
      "   211.61078    210.81325    211.07909    211.0791     211.07909  ]]\n",
      "Shape of data: (101, 125056)\n"
     ]
    }
   ],
   "source": [
    "print(f\"data: {data['data']}\")\n",
    "\n",
    "print(f\"Shape of data: {data['data'].shape}\")\n",
    "# Shape of the data is (channels, samples)\n",
    "# Nº of channels = 960 (Each channel represents a different electrode)\n",
    "# Nº of samples = 245760"
   ]
  },
  {
   "cell_type": "markdown",
   "metadata": {},
   "source": [
    "### Shape of the data\n",
    "The shape of the data is (n_channels, n_samples)\n",
    "- Number of channels: 960\n",
    "- Number of samples: 245760\n",
    "\n",
    "The **data corresponds** to the recordings of the SEEG signals from 960 channels, acquiring a total of 245760 samples for each channel."
   ]
  },
  {
   "cell_type": "code",
   "execution_count": 135,
   "metadata": {},
   "outputs": [],
   "source": [
    "recorded_data = data['data']"
   ]
  },
  {
   "cell_type": "markdown",
   "metadata": {},
   "source": [
    "Each value of the `recorded_data` is a float number that represents the amplitude of the signal at that specific time (voltage). The voltage is measured in millivolts (mV)?? TODO: Check units"
   ]
  },
  {
   "cell_type": "markdown",
   "metadata": {},
   "source": [
    "# Change the structure of the data\n",
    "\n",
    "Let's change the structure of the data to a 2D array that is ordered by time. This way, we can use the input data of various channels together by following the time order. \n",
    "\n",
    "Therefore, let's **transform the shape from (num_channels, num_samples) to (num_samples, num_channels)**. This way, each row will represent a time point and contains the voltage values of all channels at that time point. \n",
    "\n",
    "It is not necessary to specify the time of each row since there is a designated sampling rate of the input.\n",
    "\n",
    "The structure is exemplified below, with a total of 245760 rows:\n",
    "\n",
    "| Channel 1       | Channel 2     | Channel ...     | Channel 960   |\n",
    "|-----------------|---------------|-----------------|---------------|\n",
    "| 3               | 1             | 3               | 1             |\n",
    "| 8               | 0             | 7               | 15            |\n",
    "| ...             | ...           | ...             | ...           |\n",
    "| 14              | 5             | 3               | 1             |\n"
   ]
  },
  {
   "cell_type": "markdown",
   "metadata": {},
   "source": [
    "## Select the channels to be used\n",
    "For the sake of simplicity, we can define a list of channels to be used."
   ]
  },
  {
   "cell_type": "code",
   "execution_count": 136,
   "metadata": {},
   "outputs": [
    {
     "name": "stdout",
     "output_type": "stream",
     "text": [
      "{1, 2, 3, 4, 5, 6, 7, 8, 9, 10, 11, 12, 13, 14, 15, 16, 17, 18, 19, 20, 21, 22, 23, 24, 25, 26, 27, 28, 29, 30, 31, 32, 33, 34, 35, 36, 37, 38, 39, 40, 41, 42, 43, 44, 45, 46, 47, 48, 49, 50, 51, 52, 53, 54, 55, 56, 57, 58, 59, 60, 61, 62, 63, 64, 65, 66, 67, 68, 69, 70, 71, 72, 73, 74, 75, 76, 77, 78, 79, 80, 81, 82, 83, 84, 85, 86, 87, 88, 89, 90, 91, 92, 93, 94, 95, 96, 97, 98, 99, 100, 101}\n"
     ]
    }
   ],
   "source": [
    "# channels_used: set = {1, 2, 3, 4, 5, 6, 7, 8}\n",
    "channels_used = set(range(1, num_channels+1, 1))\n",
    "\n",
    "print(channels_used)"
   ]
  },
  {
   "cell_type": "code",
   "execution_count": 137,
   "metadata": {},
   "outputs": [
    {
     "data": {
      "text/plain": [
       "(125056, 101)"
      ]
     },
     "execution_count": 137,
     "metadata": {},
     "output_type": "execute_result"
    }
   ],
   "source": [
    "ordered_recorded_data = recorded_data.T     # Swap the structure of the recorded_data to (num_samples, num_channels)\n",
    "\n",
    "ordered_recorded_data.shape"
   ]
  },
  {
   "cell_type": "markdown",
   "metadata": {},
   "source": [
    "# Write the processed data to a .npy file\n",
    "\n",
    "Finally, we write the processed data to a .npy file. This way, we can use it in the Spiking Neural Networks (SNN) model.\n",
    "\n",
    "The .npy file is a binary file that contains the processed data in a numpy array format. This format is easy to read and write, and it is compatible with the numpy library."
   ]
  },
  {
   "cell_type": "code",
   "execution_count": 138,
   "metadata": {},
   "outputs": [],
   "source": [
    "file_name = f\"{PATH_TO_FILE}seeg_{PATIENT_LABEL}.npy\"\n",
    "\n",
    "EXPORT_SEEG = True\n",
    "if EXPORT_SEEG:\n",
    "    np.save(file_name, ordered_recorded_data)   # Save the data to a numpy file (not stored in git due to size)"
   ]
  }
 ],
 "metadata": {
  "kernelspec": {
   "display_name": "Python 3 (ipykernel)",
   "language": "python",
   "name": "python3"
  },
  "language_info": {
   "codemirror_mode": {
    "name": "ipython",
    "version": 3
   },
   "file_extension": ".py",
   "mimetype": "text/x-python",
   "name": "python",
   "nbconvert_exporter": "python",
   "pygments_lexer": "ipython3",
   "version": "3.10.12"
  }
 },
 "nbformat": 4,
 "nbformat_minor": 2
}
