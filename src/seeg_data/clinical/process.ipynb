{
 "cells": [
  {
   "cell_type": "markdown",
   "metadata": {},
   "source": [
    "## Import hfo data from .mat files and process it"
   ]
  },
  {
   "cell_type": "markdown",
   "metadata": {},
   "source": [
    "### Check WD (change if necessary) and file loading"
   ]
  },
  {
   "cell_type": "code",
   "execution_count": null,
   "metadata": {},
   "outputs": [
    {
     "ename": "",
     "evalue": "",
     "output_type": "error",
     "traceback": [
      "\u001b[1;31mFailed to start the Kernel 'Python 3 (ipykernel) (process.ipynb)'. \n",
      "\u001b[1;31mView Jupyter <a href='command:jupyter.viewOutput'>log</a> for further details. Unable to get resolved server information for ms-toolsai.jupyter:_builtin.jupyterServerUrlProvider:6a8aac0c-9943-451f-998e-575fbdbf8c4c"
     ]
    }
   ],
   "source": [
    "# Show current directory\n",
    "import os\n",
    "curr_dir = os.getcwd()\n",
    "print(curr_dir)\n",
    "\n",
    "# Check if the current WD is the file location\n",
    "if \"/src/seeg_data/clinical\" not in os.getcwd():\n",
    "    # Set working directory to this file location\n",
    "    file_location = f\"{os.getcwd()}/thesis-lava/src/seeg_data/clinical\"\n",
    "    print(\"File Location: \", file_location)\n",
    "\n",
    "    # Change the current working Directory\n",
    "    os.chdir(file_location)\n",
    "\n",
    "    # New Working Directory\n",
    "    print(\"New Working Directory: \", os.getcwd())\n",
    "\n",
    "# Choose the patient\n",
    "PATIENT_LABEL = 'csl' # 'csl'\n",
    "PATH_TO_FILE = f'patients/{PATIENT_LABEL}/' # 'patients/csl/'   # This is needed if the WD is not the same as the file location"
   ]
  },
  {
   "cell_type": "markdown",
   "metadata": {},
   "source": [
    "The `.mat` files are not uploaded to GitHub. As such, they must be taken from GDrive and moved to the `clinical` folder"
   ]
  },
  {
   "cell_type": "code",
   "execution_count": null,
   "metadata": {},
   "outputs": [
    {
     "ename": "",
     "evalue": "",
     "output_type": "error",
     "traceback": [
      "\u001b[1;31mFailed to start the Kernel 'Python 3 (ipykernel) (process.ipynb)'. \n",
      "\u001b[1;31mView Jupyter <a href='command:jupyter.viewOutput'>log</a> for further details. Unable to get resolved server information for ms-toolsai.jupyter:_builtin.jupyterServerUrlProvider:6a8aac0c-9943-451f-998e-575fbdbf8c4c"
     ]
    }
   ],
   "source": [
    "import scipy.io as sio\n",
    "import numpy as np\n",
    "\n",
    "# Load the data\n",
    "data = sio.loadmat(f'{PATH_TO_FILE}signal.mat')\n",
    "\n",
    "# Print the data structure\n",
    "print(data.keys())"
   ]
  },
  {
   "cell_type": "markdown",
   "metadata": {},
   "source": [
    "# Print the content of the .mat file"
   ]
  },
  {
   "cell_type": "markdown",
   "metadata": {},
   "source": [
    "## General experiment information"
   ]
  },
  {
   "cell_type": "code",
   "execution_count": null,
   "metadata": {},
   "outputs": [
    {
     "ename": "",
     "evalue": "",
     "output_type": "error",
     "traceback": [
      "\u001b[1;31mFailed to start the Kernel 'Python 3 (ipykernel) (process.ipynb)'. \n",
      "\u001b[1;31mView Jupyter <a href='command:jupyter.viewOutput'>log</a> for further details. Unable to get resolved server information for ms-toolsai.jupyter:_builtin.jupyterServerUrlProvider:6a8aac0c-9943-451f-998e-575fbdbf8c4c"
     ]
    }
   ],
   "source": [
    "sampling_rate = data['sr'][0][0]\n",
    "input_duration = data['duration'][0][0]\n",
    "num_samples = data['samples'][0][0]\n",
    "\n",
    "print(f\"sr: {sampling_rate}\")  # Sampling rate\n",
    "\n",
    "print(f\"duration: {input_duration}\")\n",
    "\n",
    "print(f\"samples: {num_samples}\")"
   ]
  },
  {
   "cell_type": "markdown",
   "metadata": {},
   "source": [
    "- The **sampling rate** is 2048 Hz, which means that 2048 samples are recorded per second (for each electrode).\n",
    "- The **duration** of the experiment is ~63.1s.\n",
    "- There is a **total of 129239 samples** (sampling_rate * duration) per electrode."
   ]
  },
  {
   "cell_type": "markdown",
   "metadata": {},
   "source": [
    "## Channel information"
   ]
  },
  {
   "cell_type": "code",
   "execution_count": null,
   "metadata": {},
   "outputs": [
    {
     "ename": "",
     "evalue": "",
     "output_type": "error",
     "traceback": [
      "\u001b[1;31mFailed to start the Kernel 'Python 3 (ipykernel) (process.ipynb)'. \n",
      "\u001b[1;31mView Jupyter <a href='command:jupyter.viewOutput'>log</a> for further details. Unable to get resolved server information for ms-toolsai.jupyter:_builtin.jupyterServerUrlProvider:6a8aac0c-9943-451f-998e-575fbdbf8c4c"
     ]
    }
   ],
   "source": [
    "num_channels = data['channels'].shape[1]\n",
    "\n",
    "print(f\"Shape of channels: {data['channels'].shape}\")\n",
    "\n",
    "print(f\"channels: {data['channels']}\")\n",
    "\n",
    "print(\"=====================================\\n\\n\\n\")\n",
    "\n",
    "print(f\"channel_types: {data['channel_types']}\")"
   ]
  },
  {
   "cell_type": "markdown",
   "metadata": {},
   "source": [
    "This recording has 86 channels, which correspond to 86 electrodes**. \n",
    "\n",
    "The channels are divided into **X groups of Y channels each**. Each **group** corresponds to a **different brain region**:\n",
    "- **Group 1**: OT'8\n",
    "- **Group 2**: B'1\n",
    "- **Group 3**: GPH'2\n",
    "- **Group 4**: A'1\n",
    "- **Group 5**: I6\n",
    "- **Group 6**: PM6\n",
    "- **Group 7**: PM10\n",
    "- **Group 8**: CR5"
   ]
  },
  {
   "cell_type": "markdown",
   "metadata": {},
   "source": [
    "## Markers information\n",
    "The `.mat` file does not contain relevant info about the markers. We will load it from a `.csv` file"
   ]
  },
  {
   "cell_type": "code",
   "execution_count": null,
   "metadata": {},
   "outputs": [
    {
     "ename": "",
     "evalue": "",
     "output_type": "error",
     "traceback": [
      "\u001b[1;31mFailed to start the Kernel 'Python 3 (ipykernel) (process.ipynb)'. \n",
      "\u001b[1;31mView Jupyter <a href='command:jupyter.viewOutput'>log</a> for further details. Unable to get resolved server information for ms-toolsai.jupyter:_builtin.jupyterServerUrlProvider:6a8aac0c-9943-451f-998e-575fbdbf8c4c"
     ]
    }
   ],
   "source": [
    "if 'markers' not in data.keys():\n",
    "    print(\"No markers in the data\")\n",
    "else:\n",
    "    print(\"Shape of markers: \", data['markers'].shape)\n",
    "\n",
    "    print(f\"markers: {data['markers']}\")"
   ]
  },
  {
   "cell_type": "markdown",
   "metadata": {},
   "source": [
    "## Read Markers data from the csv file"
   ]
  },
  {
   "cell_type": "code",
   "execution_count": null,
   "metadata": {},
   "outputs": [
    {
     "ename": "",
     "evalue": "",
     "output_type": "error",
     "traceback": [
      "\u001b[1;31mFailed to start the Kernel 'Python 3 (ipykernel) (process.ipynb)'. \n",
      "\u001b[1;31mView Jupyter <a href='command:jupyter.viewOutput'>log</a> for further details. Unable to get resolved server information for ms-toolsai.jupyter:_builtin.jupyterServerUrlProvider:6a8aac0c-9943-451f-998e-575fbdbf8c4c"
     ]
    }
   ],
   "source": [
    "# Read csv file \n",
    "import pandas as pd\n",
    "\n",
    "markers_csv = pd.read_csv(f'{PATH_TO_FILE}markers_for_test.csv')\n",
    "\n",
    "# print(markers_csv)\n",
    "\n",
    "# Remove marker column- `Value`: I'm not sure what it refers to\n",
    "markers_csv = markers_csv.drop(columns=['Value'])\n",
    "\n",
    "print(markers_csv)"
   ]
  },
  {
   "cell_type": "markdown",
   "metadata": {},
   "source": [
    "## Create a column for the channel indices\n",
    "\n",
    "## Map channel names to indices"
   ]
  },
  {
   "cell_type": "code",
   "execution_count": null,
   "metadata": {},
   "outputs": [
    {
     "ename": "",
     "evalue": "",
     "output_type": "error",
     "traceback": [
      "\u001b[1;31mFailed to start the Kernel 'Python 3 (ipykernel) (process.ipynb)'. \n",
      "\u001b[1;31mView Jupyter <a href='command:jupyter.viewOutput'>log</a> for further details. Unable to get resolved server information for ms-toolsai.jupyter:_builtin.jupyterServerUrlProvider:6a8aac0c-9943-451f-998e-575fbdbf8c4c"
     ]
    }
   ],
   "source": [
    "channel_idx_map = {}\n",
    "\n",
    "for idx in range(num_channels):\n",
    "    # print(f\"Channel {idx}: {data['channels'][0][idx][0]}\")\n",
    "    channel_idx_map[data['channels'][0][idx][0]] = idx\n",
    "    \n",
    "\n",
    "print(\"channel_idx_map: \", channel_idx_map)"
   ]
  },
  {
   "cell_type": "markdown",
   "metadata": {},
   "source": [
    "### Get the channel idx from the channel names"
   ]
  },
  {
   "cell_type": "code",
   "execution_count": null,
   "metadata": {},
   "outputs": [
    {
     "ename": "",
     "evalue": "",
     "output_type": "error",
     "traceback": [
      "\u001b[1;31mFailed to start the Kernel 'Python 3 (ipykernel) (process.ipynb)'. \n",
      "\u001b[1;31mView Jupyter <a href='command:jupyter.viewOutput'>log</a> for further details. Unable to get resolved server information for ms-toolsai.jupyter:_builtin.jupyterServerUrlProvider:6a8aac0c-9943-451f-998e-575fbdbf8c4c"
     ]
    }
   ],
   "source": [
    "# Map the channel names to the channel index. If mapping is not found, delete the row\n",
    "markers_csv['channel_idx'] = markers_csv['Target'].map(channel_idx_map)\n",
    "\n",
    "# Drop rows with NaN values in the channel_idx column (TODO: Check why some channel names are not valid)\n",
    "markers_csv = markers_csv.dropna(subset=['channel_idx'])\n",
    "\n",
    "# Convert the channel_idx column to int\n",
    "markers_csv['channel_idx'] = markers_csv['channel_idx'].astype(int)\n",
    "\n",
    "# Drop the column with the channel name now that we have the index\n",
    "markers_csv = markers_csv.drop(columns=['Target'])\n",
    "\n",
    "markers_csv"
   ]
  },
  {
   "cell_type": "markdown",
   "metadata": {},
   "source": [
    "###  Convert the Position and Duration column from seconds to milliseconds"
   ]
  },
  {
   "cell_type": "code",
   "execution_count": null,
   "metadata": {},
   "outputs": [
    {
     "ename": "",
     "evalue": "",
     "output_type": "error",
     "traceback": [
      "\u001b[1;31mFailed to start the Kernel 'Python 3 (ipykernel) (process.ipynb)'. \n",
      "\u001b[1;31mView Jupyter <a href='command:jupyter.viewOutput'>log</a> for further details. Unable to get resolved server information for ms-toolsai.jupyter:_builtin.jupyterServerUrlProvider:6a8aac0c-9943-451f-998e-575fbdbf8c4c"
     ]
    }
   ],
   "source": [
    "markers_csv['Pos'] = markers_csv['Pos'].map(lambda x: x*1000)\n",
    "markers_csv['Duration'] = markers_csv['Duration'].map(lambda x: x*1000)   # Should be 0 already in the synthetic dataset\n",
    "\n",
    "print(markers_csv)"
   ]
  },
  {
   "cell_type": "markdown",
   "metadata": {},
   "source": [
    "### Create a numpy array from the csv file"
   ]
  },
  {
   "cell_type": "code",
   "execution_count": null,
   "metadata": {},
   "outputs": [
    {
     "ename": "",
     "evalue": "",
     "output_type": "error",
     "traceback": [
      "\u001b[1;31mFailed to start the Kernel 'Python 3 (ipykernel) (process.ipynb)'. \n",
      "\u001b[1;31mView Jupyter <a href='command:jupyter.viewOutput'>log</a> for further details. Unable to get resolved server information for ms-toolsai.jupyter:_builtin.jupyterServerUrlProvider:6a8aac0c-9943-451f-998e-575fbdbf8c4c"
     ]
    }
   ],
   "source": [
    "markers_npy = markers_csv.to_numpy()\n",
    "\n",
    "markers_npy"
   ]
  },
  {
   "cell_type": "markdown",
   "metadata": {},
   "source": [
    "## Join all the markers data into a single structured datatype\n",
    "We want to group the markers by channel, so the shape of the structure datatype = (num_channels, [events])\n",
    "\n",
    "The structured datatype will have the following fields:\n",
    "- `label`: the type of event that occurred (can be a combination of 'Spike', 'Ripple' and 'Fast-Ripple')\n",
    "- `position`: the position of the marker in milliseconds\n",
    "- `duration`: the duration of the event in milliseconds\n",
    "\n",
    "The index of each row corresponds to the channel the event is related to"
   ]
  },
  {
   "cell_type": "code",
   "execution_count": null,
   "metadata": {},
   "outputs": [
    {
     "ename": "",
     "evalue": "",
     "output_type": "error",
     "traceback": [
      "\u001b[1;31mFailed to start the Kernel 'Python 3 (ipykernel) (process.ipynb)'. \n",
      "\u001b[1;31mView Jupyter <a href='command:jupyter.viewOutput'>log</a> for further details. Unable to get resolved server information for ms-toolsai.jupyter:_builtin.jupyterServerUrlProvider:6a8aac0c-9943-451f-998e-575fbdbf8c4c"
     ]
    }
   ],
   "source": [
    "from utils.io import preview_np_array\n",
    "\n",
    "# Create an empty np array to store the markers\n",
    "# markers_arr = [ np.empty(shape=(1), dtype=[('label', 'U64'), ('position', np.float32), ('duration', np.float32)]) for _ in range(num_channels)]\n",
    "markers_arr = np.empty(num_channels).tolist()\n",
    "for idx in range(num_channels):\n",
    "    markers_arr[idx] = [np.empty(shape=(0), dtype=[('label', 'U64'), ('position', np.float32), ('duration', np.float32)])]\n",
    "\n",
    "print(\"markers_arr: \", markers_arr)"
   ]
  },
  {
   "cell_type": "code",
   "execution_count": null,
   "metadata": {},
   "outputs": [
    {
     "ename": "",
     "evalue": "",
     "output_type": "error",
     "traceback": [
      "\u001b[1;31mFailed to start the Kernel 'Python 3 (ipykernel) (process.ipynb)'. \n",
      "\u001b[1;31mView Jupyter <a href='command:jupyter.viewOutput'>log</a> for further details. Unable to get resolved server information for ms-toolsai.jupyter:_builtin.jupyterServerUrlProvider:6a8aac0c-9943-451f-998e-575fbdbf8c4c"
     ]
    }
   ],
   "source": [
    "# Iterate all the marked events and add them to markers_arr\n",
    "for rowIdx in range(len(markers_npy)):    \n",
    "    currObj = markers_npy[rowIdx]\n",
    "    channelIdx = currObj[3]\n",
    "\n",
    "    currArr = markers_arr[channelIdx]\n",
    "        \n",
    "    currRow = np.array((currObj[0], currObj[1], currObj[2]), dtype=[('label', 'U64'), ('position', np.float32), ('duration', np.float32)])  # Create tuple (Label, Pos, Duration)\n",
    "    # currArr.append(currRow)\n",
    "    # Append the tuple to the numpy array\n",
    "    currArr = np.append(currArr, currRow)\n",
    "    \n",
    "    # Update the array of the current channel    \n",
    "    markers_arr[channelIdx] = currArr\n",
    "\n",
    "print(\"Markers Array: \", markers_arr)"
   ]
  },
  {
   "cell_type": "markdown",
   "metadata": {},
   "source": [
    "###  Convert the array to a numpy array to allow writing to a .npy file"
   ]
  },
  {
   "cell_type": "code",
   "execution_count": null,
   "metadata": {},
   "outputs": [
    {
     "ename": "",
     "evalue": "",
     "output_type": "error",
     "traceback": [
      "\u001b[1;31mFailed to start the Kernel 'Python 3 (ipykernel) (process.ipynb)'. \n",
      "\u001b[1;31mView Jupyter <a href='command:jupyter.viewOutput'>log</a> for further details. Unable to get resolved server information for ms-toolsai.jupyter:_builtin.jupyterServerUrlProvider:6a8aac0c-9943-451f-998e-575fbdbf8c4c"
     ]
    }
   ],
   "source": [
    "# Convert the 2D array to a 1D numpy array\n",
    "final_markers_npy = np.array(markers_arr, dtype=object)\n",
    "\n",
    "preview_np_array(final_markers_npy, \"final_markers_npy\")"
   ]
  },
  {
   "cell_type": "markdown",
   "metadata": {},
   "source": [
    "### Write the processed markers into a .npy file"
   ]
  },
  {
   "cell_type": "code",
   "execution_count": null,
   "metadata": {},
   "outputs": [
    {
     "ename": "",
     "evalue": "",
     "output_type": "error",
     "traceback": [
      "\u001b[1;31mFailed to start the Kernel 'Python 3 (ipykernel) (process.ipynb)'. \n",
      "\u001b[1;31mView Jupyter <a href='command:jupyter.viewOutput'>log</a> for further details. Unable to get resolved server information for ms-toolsai.jupyter:_builtin.jupyterServerUrlProvider:6a8aac0c-9943-451f-998e-575fbdbf8c4c"
     ]
    }
   ],
   "source": [
    "file_name = f\"{PATH_TO_FILE}seeg_{PATIENT_LABEL}_markers.npy\"\n",
    "\n",
    "EXPORT_MARKERS = True\n",
    "if EXPORT_MARKERS:\n",
    "    np.save(file_name, final_markers_npy)   # Save the data to a numpy file (not stored in git due to size)"
   ]
  },
  {
   "cell_type": "markdown",
   "metadata": {},
   "source": [
    "## See what is the average number of annotated events per channel"
   ]
  },
  {
   "cell_type": "code",
   "execution_count": null,
   "metadata": {},
   "outputs": [
    {
     "ename": "",
     "evalue": "",
     "output_type": "error",
     "traceback": [
      "\u001b[1;31mFailed to start the Kernel 'Python 3 (ipykernel) (process.ipynb)'. \n",
      "\u001b[1;31mView Jupyter <a href='command:jupyter.viewOutput'>log</a> for further details. Unable to get resolved server information for ms-toolsai.jupyter:_builtin.jupyterServerUrlProvider:6a8aac0c-9943-451f-998e-575fbdbf8c4c"
     ]
    }
   ],
   "source": [
    "ripple_counter = 0\n",
    "fr_counter = 0\n",
    "\n",
    "for marker in markers_npy:\n",
    "    curr_label = marker[0]\n",
    "    curr_pos = marker[1]\n",
    "\n",
    "    if curr_label == 'Ripple':\n",
    "        ripple_counter += 1\n",
    "    elif curr_label == 'Fast Ripple':\n",
    "        fr_counter += 1\n",
    "    else:\n",
    "        print(f\"Unknown label: {curr_label}\")\n",
    "\n",
    "print(f\"Ripple Count: {ripple_counter}\")\n",
    "print(f\"Fast Ripple Count: {fr_counter}\")"
   ]
  },
  {
   "cell_type": "code",
   "execution_count": null,
   "metadata": {},
   "outputs": [
    {
     "ename": "",
     "evalue": "",
     "output_type": "error",
     "traceback": [
      "\u001b[1;31mFailed to start the Kernel 'Python 3 (ipykernel) (process.ipynb)'. \n",
      "\u001b[1;31mView Jupyter <a href='command:jupyter.viewOutput'>log</a> for further details. Unable to get resolved server information for ms-toolsai.jupyter:_builtin.jupyterServerUrlProvider:6a8aac0c-9943-451f-998e-575fbdbf8c4c"
     ]
    }
   ],
   "source": [
    "# Ripple Frequency per minute and per channel\n",
    "ripple_freq = ripple_counter / ((input_duration / 60) * num_channels)\n",
    "fr_freq = fr_counter / ((input_duration / 60) * num_channels)\n",
    "\n",
    "print(f\"Ripple Frequency: {ripple_freq} ripples / minute / channel\")\n",
    "print(f\"Fast Ripple Frequency: {fr_freq} fast ripples / minute / channel\")"
   ]
  },
  {
   "cell_type": "markdown",
   "metadata": {},
   "source": [
    "### Find the channels with the most annotated events"
   ]
  },
  {
   "cell_type": "code",
   "execution_count": null,
   "metadata": {},
   "outputs": [
    {
     "ename": "",
     "evalue": "",
     "output_type": "error",
     "traceback": [
      "\u001b[1;31mFailed to start the Kernel 'Python 3 (ipykernel) (process.ipynb)'. \n",
      "\u001b[1;31mView Jupyter <a href='command:jupyter.viewOutput'>log</a> for further details. Unable to get resolved server information for ms-toolsai.jupyter:_builtin.jupyterServerUrlProvider:6a8aac0c-9943-451f-998e-575fbdbf8c4c"
     ]
    }
   ],
   "source": [
    "# Build a dictionary with the channel idx and the number of annotated events\n",
    "channel_event_count = {}\n",
    "for idx in range(len(final_markers_npy)):\n",
    "    channel_event_count[idx] = len(final_markers_npy[idx])\n",
    "print(\"Channel Event Count: \", channel_event_count)\n",
    "\n",
    "# Sort the dictionary by the number of events\n",
    "sorted_channel_event_count = dict(sorted(channel_event_count.items(), key=lambda item: item[1], reverse=True))\n",
    "print(\"Sorted Channel Event Count: \", sorted_channel_event_count)\n",
    "# {ch_idx: num_events}"
   ]
  },
  {
   "cell_type": "markdown",
   "metadata": {},
   "source": [
    "---"
   ]
  },
  {
   "cell_type": "markdown",
   "metadata": {},
   "source": [
    "## SEEG Data"
   ]
  },
  {
   "cell_type": "code",
   "execution_count": null,
   "metadata": {},
   "outputs": [
    {
     "ename": "",
     "evalue": "",
     "output_type": "error",
     "traceback": [
      "\u001b[1;31mFailed to start the Kernel 'Python 3 (ipykernel) (process.ipynb)'. \n",
      "\u001b[1;31mView Jupyter <a href='command:jupyter.viewOutput'>log</a> for further details. Unable to get resolved server information for ms-toolsai.jupyter:_builtin.jupyterServerUrlProvider:6a8aac0c-9943-451f-998e-575fbdbf8c4c"
     ]
    }
   ],
   "source": [
    "print(f\"data: {data['data']}\")\n",
    "\n",
    "print(f\"Shape of data: {data['data'].shape}\")\n",
    "# Shape of the data is (channels, samples)\n",
    "# Nº of channels = 960 (Each channel represents a different electrode)\n",
    "# Nº of samples = 245760"
   ]
  },
  {
   "cell_type": "markdown",
   "metadata": {},
   "source": [
    "### Shape of the data\n",
    "The shape of the data is (n_channels, n_samples)\n",
    "- Number of channels: 960\n",
    "- Number of samples: 245760\n",
    "\n",
    "The **data corresponds** to the recordings of the SEEG signals from 960 channels, acquiring a total of 245760 samples for each channel."
   ]
  },
  {
   "cell_type": "code",
   "execution_count": null,
   "metadata": {},
   "outputs": [
    {
     "ename": "",
     "evalue": "",
     "output_type": "error",
     "traceback": [
      "\u001b[1;31mFailed to start the Kernel 'Python 3 (ipykernel) (process.ipynb)'. \n",
      "\u001b[1;31mView Jupyter <a href='command:jupyter.viewOutput'>log</a> for further details. Unable to get resolved server information for ms-toolsai.jupyter:_builtin.jupyterServerUrlProvider:6a8aac0c-9943-451f-998e-575fbdbf8c4c"
     ]
    }
   ],
   "source": [
    "recorded_data = data['data']"
   ]
  },
  {
   "cell_type": "markdown",
   "metadata": {},
   "source": [
    "Each value of the `recorded_data` is a float number that represents the amplitude of the signal at that specific time (voltage). The voltage is measured in millivolts (mV)?? TODO: Check units"
   ]
  },
  {
   "cell_type": "markdown",
   "metadata": {},
   "source": [
    "# Change the structure of the data\n",
    "\n",
    "Let's change the structure of the data to a 2D array that is ordered by time. This way, we can use the input data of various channels together by following the time order. \n",
    "\n",
    "Therefore, let's **transform the shape from (num_channels, num_samples) to (num_samples, num_channels)**. This way, each row will represent a time point and contains the voltage values of all channels at that time point. \n",
    "\n",
    "It is not necessary to specify the time of each row since there is a designated sampling rate of the input.\n",
    "\n",
    "The structure is exemplified below, with a total of 245760 rows:\n",
    "\n",
    "| Channel 1       | Channel 2     | Channel ...     | Channel 960   |\n",
    "|-----------------|---------------|-----------------|---------------|\n",
    "| 3               | 1             | 3               | 1             |\n",
    "| 8               | 0             | 7               | 15            |\n",
    "| ...             | ...           | ...             | ...           |\n",
    "| 14              | 5             | 3               | 1             |\n"
   ]
  },
  {
   "cell_type": "markdown",
   "metadata": {},
   "source": [
    "## Select the channels to be used\n",
    "For the sake of simplicity, we can define a list of channels to be used."
   ]
  },
  {
   "cell_type": "code",
   "execution_count": null,
   "metadata": {},
   "outputs": [
    {
     "ename": "",
     "evalue": "",
     "output_type": "error",
     "traceback": [
      "\u001b[1;31mFailed to start the Kernel 'Python 3 (ipykernel) (process.ipynb)'. \n",
      "\u001b[1;31mView Jupyter <a href='command:jupyter.viewOutput'>log</a> for further details. Unable to get resolved server information for ms-toolsai.jupyter:_builtin.jupyterServerUrlProvider:6a8aac0c-9943-451f-998e-575fbdbf8c4c"
     ]
    }
   ],
   "source": [
    "# channels_used: set = {1, 2, 3, 4, 5, 6, 7, 8}\n",
    "channels_used = set(range(1, num_channels+1, 1))\n",
    "\n",
    "print(channels_used)"
   ]
  },
  {
   "cell_type": "code",
   "execution_count": null,
   "metadata": {},
   "outputs": [
    {
     "ename": "",
     "evalue": "",
     "output_type": "error",
     "traceback": [
      "\u001b[1;31mFailed to start the Kernel 'Python 3 (ipykernel) (process.ipynb)'. \n",
      "\u001b[1;31mView Jupyter <a href='command:jupyter.viewOutput'>log</a> for further details. Unable to get resolved server information for ms-toolsai.jupyter:_builtin.jupyterServerUrlProvider:6a8aac0c-9943-451f-998e-575fbdbf8c4c"
     ]
    }
   ],
   "source": [
    "ordered_recorded_data = recorded_data.T     # Swap the structure of the recorded_data to (num_samples, num_channels)\n",
    "\n",
    "ordered_recorded_data.shape"
   ]
  },
  {
   "cell_type": "markdown",
   "metadata": {},
   "source": [
    "# Write the processed data to a .npy file\n",
    "\n",
    "Finally, we write the processed data to a .npy file. This way, we can use it in the Spiking Neural Networks (SNN) model.\n",
    "\n",
    "The .npy file is a binary file that contains the processed data in a numpy array format. This format is easy to read and write, and it is compatible with the numpy library."
   ]
  },
  {
   "cell_type": "code",
   "execution_count": null,
   "metadata": {},
   "outputs": [
    {
     "ename": "",
     "evalue": "",
     "output_type": "error",
     "traceback": [
      "\u001b[1;31mFailed to start the Kernel 'Python 3 (ipykernel) (process.ipynb)'. \n",
      "\u001b[1;31mView Jupyter <a href='command:jupyter.viewOutput'>log</a> for further details. Unable to get resolved server information for ms-toolsai.jupyter:_builtin.jupyterServerUrlProvider:6a8aac0c-9943-451f-998e-575fbdbf8c4c"
     ]
    }
   ],
   "source": [
    "file_name = f\"{PATH_TO_FILE}seeg_{PATIENT_LABEL}.npy\"\n",
    "\n",
    "EXPORT_SEEG = True\n",
    "if EXPORT_SEEG:\n",
    "    np.save(file_name, ordered_recorded_data)   # Save the data to a numpy file (not stored in git due to size)"
   ]
  }
 ],
 "metadata": {
  "kernelspec": {
   "display_name": "Python 3 (ipykernel)",
   "language": "python",
   "name": "python3"
  }
 },
 "nbformat": 4,
 "nbformat_minor": 2
}
