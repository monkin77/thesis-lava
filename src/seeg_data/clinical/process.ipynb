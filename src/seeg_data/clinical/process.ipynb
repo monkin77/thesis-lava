{
 "cells": [
  {
   "cell_type": "markdown",
   "metadata": {},
   "source": [
    "## Import hfo data from .mat files and process it"
   ]
  },
  {
   "cell_type": "markdown",
   "metadata": {},
   "source": [
    "### Check WD (change if necessary) and file loading"
   ]
  },
  {
   "cell_type": "code",
   "execution_count": 60,
   "metadata": {},
   "outputs": [
    {
     "name": "stdout",
     "output_type": "stream",
     "text": [
      "/home/monkin/Desktop/feup/thesis/thesis-lava/src/seeg_data/clinical\n"
     ]
    }
   ],
   "source": [
    "# Show current directory\n",
    "import os\n",
    "curr_dir = os.getcwd()\n",
    "print(curr_dir)\n",
    "\n",
    "# Check if the current WD is the file location\n",
    "if \"/src/seeg_data/clinical\" not in os.getcwd():\n",
    "    # Set working directory to this file location\n",
    "    file_location = f\"{os.getcwd()}/thesis-lava/src/seeg_data/clinical\"\n",
    "    print(\"File Location: \", file_location)\n",
    "\n",
    "    # Change the current working Directory\n",
    "    os.chdir(file_location)\n",
    "\n",
    "    # New Working Directory\n",
    "    print(\"New Working Directory: \", os.getcwd())\n",
    "\n",
    "# Choose the patient\n",
    "PATH_TO_FILE = 'patients/csl/'   # This is needed if the WD is not the same as the file location"
   ]
  },
  {
   "cell_type": "markdown",
   "metadata": {},
   "source": [
    "The `.mat` files are not uploaded to GitHub. As such, they must be taken from GDrive and moved to the `clinical` folder"
   ]
  },
  {
   "cell_type": "code",
   "execution_count": 61,
   "metadata": {},
   "outputs": [
    {
     "name": "stdout",
     "output_type": "stream",
     "text": [
      "dict_keys(['__header__', '__version__', '__globals__', 'channel_types', 'channels', 'data', 'duration', 'markers', 'samples', 'sr'])\n"
     ]
    }
   ],
   "source": [
    "import scipy.io as sio\n",
    "import numpy as np\n",
    "\n",
    "# Load the data\n",
    "data = sio.loadmat(f'{PATH_TO_FILE}signal.mat')\n",
    "\n",
    "# Print the data structure\n",
    "print(data.keys())"
   ]
  },
  {
   "cell_type": "markdown",
   "metadata": {},
   "source": [
    "# Print the content of the .mat file"
   ]
  },
  {
   "cell_type": "markdown",
   "metadata": {},
   "source": [
    "## General experiment information"
   ]
  },
  {
   "cell_type": "code",
   "execution_count": 62,
   "metadata": {},
   "outputs": [
    {
     "name": "stdout",
     "output_type": "stream",
     "text": [
      "sr: 2048.0\n",
      "duration: 63.10498046875\n",
      "samples: 129239\n"
     ]
    }
   ],
   "source": [
    "sampling_rate = data['sr'][0][0]\n",
    "input_duration = data['duration'][0][0]\n",
    "num_samples = data['samples'][0][0]\n",
    "\n",
    "print(f\"sr: {sampling_rate}\")  # Sampling rate\n",
    "\n",
    "print(f\"duration: {input_duration}\")\n",
    "\n",
    "print(f\"samples: {num_samples}\")"
   ]
  },
  {
   "cell_type": "markdown",
   "metadata": {},
   "source": [
    "- The **sampling rate** is 2048 Hz, which means that 2048 samples are recorded per second (for each electrode).\n",
    "- The **duration** of the experiment is ~63.1s.\n",
    "- There is a **total of 129239 samples** (sampling_rate * duration) per electrode."
   ]
  },
  {
   "cell_type": "markdown",
   "metadata": {},
   "source": [
    "## Channel information"
   ]
  },
  {
   "cell_type": "code",
   "execution_count": 63,
   "metadata": {},
   "outputs": [
    {
     "name": "stdout",
     "output_type": "stream",
     "text": [
      "Shape of channels: (1, 86)\n",
      "channels: [[array([\"CA'1-CA'2\"], dtype='<U9') array([\"CA'2-CA'3\"], dtype='<U9')\n",
      "  array([\"CA'3-CA'4\"], dtype='<U9') array([\"CA'9-CA'10\"], dtype='<U10')\n",
      "  array([\"CA'10-CA'11\"], dtype='<U11') ...\n",
      "  array([\"CP'10-CP'11\"], dtype='<U11')\n",
      "  array([\"CP'11-CP'12\"], dtype='<U11')\n",
      "  array([\"CP'12-CP'13\"], dtype='<U11')\n",
      "  array([\"CP'13-CP'14\"], dtype='<U11')\n",
      "  array([\"CP'14-CP'15\"], dtype='<U11')]]\n",
      "=====================================\n",
      "\n",
      "\n",
      "\n",
      "channel_types: [[array(['SEEG'], dtype='<U4') array(['SEEG'], dtype='<U4')\n",
      "  array(['SEEG'], dtype='<U4') array(['SEEG'], dtype='<U4')\n",
      "  array(['SEEG'], dtype='<U4') ... array(['SEEG'], dtype='<U4')\n",
      "  array(['SEEG'], dtype='<U4') array(['SEEG'], dtype='<U4')\n",
      "  array(['SEEG'], dtype='<U4') array(['SEEG'], dtype='<U4')]]\n"
     ]
    }
   ],
   "source": [
    "num_channels = data['channels'].shape[1]\n",
    "\n",
    "print(f\"Shape of channels: {data['channels'].shape}\")\n",
    "\n",
    "print(f\"channels: {data['channels']}\")\n",
    "\n",
    "print(\"=====================================\\n\\n\\n\")\n",
    "\n",
    "print(f\"channel_types: {data['channel_types']}\")"
   ]
  },
  {
   "cell_type": "markdown",
   "metadata": {},
   "source": [
    "This recording has 86 channels, which correspond to 86 electrodes**. \n",
    "\n",
    "The channels are divided into **X groups of Y channels each**. Each **group** corresponds to a **different brain region**:\n",
    "- **Group 1**: OT'8\n",
    "- **Group 2**: B'1\n",
    "- **Group 3**: GPH'2\n",
    "- **Group 4**: A'1\n",
    "- **Group 5**: I6\n",
    "- **Group 6**: PM6\n",
    "- **Group 7**: PM10\n",
    "- **Group 8**: CR5"
   ]
  },
  {
   "cell_type": "markdown",
   "metadata": {},
   "source": [
    "## Markers information\n",
    "The `.mat` file does not contain relevant info about the markers. We will load it from a `.csv` file"
   ]
  },
  {
   "cell_type": "code",
   "execution_count": 64,
   "metadata": {},
   "outputs": [
    {
     "name": "stdout",
     "output_type": "stream",
     "text": [
      "Shape of markers:  (1, 18836)\n",
      "markers: [[array(['FP - Fast Ripple'], dtype='<U16')\n",
      "  array(['FP - Fast Ripple'], dtype='<U16')\n",
      "  array(['FP - Ripple'], dtype='<U11')\n",
      "  array(['FP - Fast Ripple'], dtype='<U16')\n",
      "  array(['FP - Fast Ripple'], dtype='<U16') ...\n",
      "  array(['FP - Fast Ripple'], dtype='<U16')\n",
      "  array(['FP - Ripple'], dtype='<U11')\n",
      "  array(['FP - Fast Ripple'], dtype='<U16')\n",
      "  array(['FP - Fast Ripple'], dtype='<U16')\n",
      "  array(['FP - Ripple'], dtype='<U11')]]\n"
     ]
    }
   ],
   "source": [
    "print(\"Shape of markers: \", data['markers'].shape)\n",
    "\n",
    "print(f\"markers: {data['markers']}\")"
   ]
  },
  {
   "cell_type": "markdown",
   "metadata": {},
   "source": [
    "## Read Markers data from the csv file"
   ]
  },
  {
   "cell_type": "code",
   "execution_count": 65,
   "metadata": {},
   "outputs": [
    {
     "name": "stdout",
     "output_type": "stream",
     "text": [
      "       Label        Pos  Duration       Target\n",
      "0     Ripple   0.522949       0.0  HPA'1-HPA'2\n",
      "1     Ripple   0.522949       0.0  HPA'2-HPA'3\n",
      "2     Ripple   0.522949       0.0  HPA'3-HPA'4\n",
      "3     Ripple   0.522949       0.0  HPA'4-HPA'5\n",
      "4     Ripple   0.522949       0.0    PH'1-PH'2\n",
      "...      ...        ...       ...          ...\n",
      "1596  Ripple  62.346191       0.0  Amg'2-Amg'3\n",
      "1597  Ripple  62.346191       0.0  Amg'3-Amg'4\n",
      "1598  Ripple  62.897949       0.0  Amg'1-Amg'2\n",
      "1599  Ripple  62.897949       0.0  Amg'2-Amg'3\n",
      "1600  Ripple  62.897949       0.0  Amg'3-Amg'4\n",
      "\n",
      "[1601 rows x 4 columns]\n"
     ]
    }
   ],
   "source": [
    "# Read csv file \n",
    "import pandas as pd\n",
    "\n",
    "markers_csv = pd.read_csv(f'{PATH_TO_FILE}markers_for_test.csv')\n",
    "\n",
    "# print(markers_csv)\n",
    "\n",
    "# Remove marker column- `Value`: I'm not sure what it refers to\n",
    "markers_csv = markers_csv.drop(columns=['Value'])\n",
    "\n",
    "print(markers_csv)"
   ]
  },
  {
   "cell_type": "markdown",
   "metadata": {},
   "source": [
    "## Create a column for the channel indices\n",
    "\n",
    "## Map channel names to indices"
   ]
  },
  {
   "cell_type": "code",
   "execution_count": 66,
   "metadata": {},
   "outputs": [
    {
     "name": "stdout",
     "output_type": "stream",
     "text": [
      "channel_idx_map:  {\"CA'1-CA'2\": 0, \"CA'2-CA'3\": 1, \"CA'3-CA'4\": 2, \"CA'9-CA'10\": 3, \"CA'10-CA'11\": 4, \"CA'11-CA'12\": 5, \"CA'12-CA'13\": 6, \"CA'13-CA'14\": 7, \"TP'1-TP'2\": 8, \"TP'2-TP'3\": 9, \"TP'5-TP'6\": 10, \"TP'6-TP'7\": 11, \"TP'7-TP'8\": 12, \"Hes'1-Hes'2\": 13, \"Hes'2-Hes'3\": 14, \"Hes'5-Hes'6\": 15, \"Hes'6-Hes'7\": 16, \"TSM'1-TSM'2\": 17, \"TSM'2-TSM'3\": 18, \"TSM'3-TSM'4\": 19, \"TSM'4-TSM'5\": 20, \"TSM'5-TSM'6\": 21, \"Amg'1-Amg'2\": 22, \"Amg'2-Amg'3\": 23, \"Amg'3-Amg'4\": 24, \"Amg'4-Amg'5\": 25, \"Amg'10-Amg'11\": 26, \"Amg'11-Amg'12\": 27, \"Amg'12-Amg'13\": 28, \"HPA'1-HPA'2\": 29, \"HPA'2-HPA'3\": 30, \"HPA'3-HPA'4\": 31, \"HPA'4-HPA'5\": 32, \"HPA'9-HPA'10\": 33, \"HPA'10-HPA'11\": 34, \"HPA'11-HPA'12\": 35, \"HPP'1-HPP'2\": 36, \"HPP'2-HPP'3\": 37, \"HPP'6-HPP'7\": 38, \"HPP'7-HPP'8\": 39, \"HPP'8-HPP'9\": 40, \"Et'1-Et'2\": 41, \"Et'2-Et'3\": 42, \"Et'5-Et'6\": 43, \"Et'6-Et'7\": 44, \"Et'7-Et'8\": 45, \"Et'8-Et'9\": 46, \"Et'9-Et'10\": 47, \"PH'1-PH'2\": 48, \"PH'2-PH'3\": 49, \"PH'3-PH'4\": 50, \"PH'6-PH'7\": 51, \"PH'7-PH'8\": 52, \"PH'8-PH'9\": 53, \"PH'9-PH'10\": 54, \"PH'10-PH'11\": 55, \"Fu'1-Fu'2\": 56, \"Fu'2-Fu'3\": 57, \"Fu'5-Fu'6\": 58, \"Fu'6-Fu'7\": 59, \"Fu'7-Fu'8\": 60, \"Fu'8-Fu'9\": 61, \"Fu'9-Fu'10\": 62, \"Fu'10-Fu'11\": 63, \"L'1-L'2\": 64, \"L'2-L'3\": 65, \"L'3-L'4\": 66, \"L'4-L'5\": 67, \"L'5-L'6\": 68, \"L'11-L'12\": 69, \"L'12-L'13\": 70, \"L'13-L'14\": 71, \"L'14-L'15\": 72, \"W'3-W'4\": 73, \"W'4-W'5\": 74, \"W'5-W'6\": 75, \"W'6-W'7\": 76, \"CP'1-CP'2\": 77, \"CP'2-CP'3\": 78, \"CP'3-CP'4\": 79, \"CP'4-CP'5\": 80, \"CP'10-CP'11\": 81, \"CP'11-CP'12\": 82, \"CP'12-CP'13\": 83, \"CP'13-CP'14\": 84, \"CP'14-CP'15\": 85}\n"
     ]
    }
   ],
   "source": [
    "channel_idx_map = {}\n",
    "\n",
    "for idx in range(num_channels):\n",
    "    # print(f\"Channel {idx}: {data['channels'][0][idx][0]}\")\n",
    "    channel_idx_map[data['channels'][0][idx][0]] = idx\n",
    "    \n",
    "\n",
    "print(\"channel_idx_map: \", channel_idx_map)"
   ]
  },
  {
   "cell_type": "markdown",
   "metadata": {},
   "source": [
    "### Get the channel idx from the channel names"
   ]
  },
  {
   "cell_type": "code",
   "execution_count": 67,
   "metadata": {},
   "outputs": [
    {
     "data": {
      "text/html": [
       "<div>\n",
       "<style scoped>\n",
       "    .dataframe tbody tr th:only-of-type {\n",
       "        vertical-align: middle;\n",
       "    }\n",
       "\n",
       "    .dataframe tbody tr th {\n",
       "        vertical-align: top;\n",
       "    }\n",
       "\n",
       "    .dataframe thead th {\n",
       "        text-align: right;\n",
       "    }\n",
       "</style>\n",
       "<table border=\"1\" class=\"dataframe\">\n",
       "  <thead>\n",
       "    <tr style=\"text-align: right;\">\n",
       "      <th></th>\n",
       "      <th>Label</th>\n",
       "      <th>Pos</th>\n",
       "      <th>Duration</th>\n",
       "      <th>channel_idx</th>\n",
       "    </tr>\n",
       "  </thead>\n",
       "  <tbody>\n",
       "    <tr>\n",
       "      <th>0</th>\n",
       "      <td>Ripple</td>\n",
       "      <td>0.522949</td>\n",
       "      <td>0.0</td>\n",
       "      <td>29</td>\n",
       "    </tr>\n",
       "    <tr>\n",
       "      <th>1</th>\n",
       "      <td>Ripple</td>\n",
       "      <td>0.522949</td>\n",
       "      <td>0.0</td>\n",
       "      <td>30</td>\n",
       "    </tr>\n",
       "    <tr>\n",
       "      <th>2</th>\n",
       "      <td>Ripple</td>\n",
       "      <td>0.522949</td>\n",
       "      <td>0.0</td>\n",
       "      <td>31</td>\n",
       "    </tr>\n",
       "    <tr>\n",
       "      <th>3</th>\n",
       "      <td>Ripple</td>\n",
       "      <td>0.522949</td>\n",
       "      <td>0.0</td>\n",
       "      <td>32</td>\n",
       "    </tr>\n",
       "    <tr>\n",
       "      <th>4</th>\n",
       "      <td>Ripple</td>\n",
       "      <td>0.522949</td>\n",
       "      <td>0.0</td>\n",
       "      <td>48</td>\n",
       "    </tr>\n",
       "    <tr>\n",
       "      <th>...</th>\n",
       "      <td>...</td>\n",
       "      <td>...</td>\n",
       "      <td>...</td>\n",
       "      <td>...</td>\n",
       "    </tr>\n",
       "    <tr>\n",
       "      <th>1596</th>\n",
       "      <td>Ripple</td>\n",
       "      <td>62.346191</td>\n",
       "      <td>0.0</td>\n",
       "      <td>23</td>\n",
       "    </tr>\n",
       "    <tr>\n",
       "      <th>1597</th>\n",
       "      <td>Ripple</td>\n",
       "      <td>62.346191</td>\n",
       "      <td>0.0</td>\n",
       "      <td>24</td>\n",
       "    </tr>\n",
       "    <tr>\n",
       "      <th>1598</th>\n",
       "      <td>Ripple</td>\n",
       "      <td>62.897949</td>\n",
       "      <td>0.0</td>\n",
       "      <td>22</td>\n",
       "    </tr>\n",
       "    <tr>\n",
       "      <th>1599</th>\n",
       "      <td>Ripple</td>\n",
       "      <td>62.897949</td>\n",
       "      <td>0.0</td>\n",
       "      <td>23</td>\n",
       "    </tr>\n",
       "    <tr>\n",
       "      <th>1600</th>\n",
       "      <td>Ripple</td>\n",
       "      <td>62.897949</td>\n",
       "      <td>0.0</td>\n",
       "      <td>24</td>\n",
       "    </tr>\n",
       "  </tbody>\n",
       "</table>\n",
       "<p>1333 rows × 4 columns</p>\n",
       "</div>"
      ],
      "text/plain": [
       "       Label        Pos  Duration  channel_idx\n",
       "0     Ripple   0.522949       0.0           29\n",
       "1     Ripple   0.522949       0.0           30\n",
       "2     Ripple   0.522949       0.0           31\n",
       "3     Ripple   0.522949       0.0           32\n",
       "4     Ripple   0.522949       0.0           48\n",
       "...      ...        ...       ...          ...\n",
       "1596  Ripple  62.346191       0.0           23\n",
       "1597  Ripple  62.346191       0.0           24\n",
       "1598  Ripple  62.897949       0.0           22\n",
       "1599  Ripple  62.897949       0.0           23\n",
       "1600  Ripple  62.897949       0.0           24\n",
       "\n",
       "[1333 rows x 4 columns]"
      ]
     },
     "execution_count": 67,
     "metadata": {},
     "output_type": "execute_result"
    }
   ],
   "source": [
    "# Map the channel names to the channel index. If mapping is not found, delete the row\n",
    "markers_csv['channel_idx'] = markers_csv['Target'].map(channel_idx_map)\n",
    "\n",
    "# Drop rows with NaN values in the channel_idx column (TODO: Check why some channel names are not valid)\n",
    "markers_csv = markers_csv.dropna(subset=['channel_idx'])\n",
    "\n",
    "# Convert the channel_idx column to int\n",
    "markers_csv['channel_idx'] = markers_csv['channel_idx'].astype(int)\n",
    "\n",
    "# Drop the column with the channel name now that we have the index\n",
    "markers_csv = markers_csv.drop(columns=['Target'])\n",
    "\n",
    "markers_csv"
   ]
  },
  {
   "cell_type": "markdown",
   "metadata": {},
   "source": [
    "###  Convert the Position and Duration column from seconds to milliseconds"
   ]
  },
  {
   "cell_type": "code",
   "execution_count": 68,
   "metadata": {},
   "outputs": [
    {
     "name": "stdout",
     "output_type": "stream",
     "text": [
      "       Label           Pos  Duration  channel_idx\n",
      "0     Ripple    522.949219       0.0           29\n",
      "1     Ripple    522.949219       0.0           30\n",
      "2     Ripple    522.949219       0.0           31\n",
      "3     Ripple    522.949219       0.0           32\n",
      "4     Ripple    522.949219       0.0           48\n",
      "...      ...           ...       ...          ...\n",
      "1596  Ripple  62346.191406       0.0           23\n",
      "1597  Ripple  62346.191406       0.0           24\n",
      "1598  Ripple  62897.949219       0.0           22\n",
      "1599  Ripple  62897.949219       0.0           23\n",
      "1600  Ripple  62897.949219       0.0           24\n",
      "\n",
      "[1333 rows x 4 columns]\n"
     ]
    }
   ],
   "source": [
    "markers_csv['Pos'] = markers_csv['Pos'].map(lambda x: x*1000)\n",
    "markers_csv['Duration'] = markers_csv['Duration'].map(lambda x: x*1000)   # Should be 0 already in the synthetic dataset\n",
    "\n",
    "print(markers_csv)"
   ]
  },
  {
   "cell_type": "markdown",
   "metadata": {},
   "source": [
    "### Create a numpy array from the csv file"
   ]
  },
  {
   "cell_type": "code",
   "execution_count": 69,
   "metadata": {},
   "outputs": [
    {
     "data": {
      "text/plain": [
       "array([['Ripple', 522.94921875, 0.0, 29],\n",
       "       ['Ripple', 522.94921875, 0.0, 30],\n",
       "       ['Ripple', 522.94921875, 0.0, 31],\n",
       "       ['Ripple', 522.94921875, 0.0, 32],\n",
       "       ['Ripple', 522.94921875, 0.0, 48],\n",
       "       ...,\n",
       "       ['Ripple', 62346.19140625, 0.0, 23],\n",
       "       ['Ripple', 62346.19140625, 0.0, 24],\n",
       "       ['Ripple', 62897.94921875, 0.0, 22],\n",
       "       ['Ripple', 62897.94921875, 0.0, 23],\n",
       "       ['Ripple', 62897.94921875, 0.0, 24]], dtype=object)"
      ]
     },
     "execution_count": 69,
     "metadata": {},
     "output_type": "execute_result"
    }
   ],
   "source": [
    "markers_npy = markers_csv.to_numpy()\n",
    "\n",
    "markers_npy"
   ]
  },
  {
   "cell_type": "markdown",
   "metadata": {},
   "source": [
    "## Join all the markers data into a single structured datatype\n",
    "We want to group the markers by channel, so the shape of the structure datatype = (num_channels, [events])\n",
    "\n",
    "The structured datatype will have the following fields:\n",
    "- `label`: the type of event that occurred (can be a combination of 'Spike', 'Ripple' and 'Fast-Ripple')\n",
    "- `position`: the position of the marker in milliseconds\n",
    "- `duration`: the duration of the event in milliseconds\n",
    "\n",
    "The index of each row corresponds to the channel the event is related to"
   ]
  },
  {
   "cell_type": "code",
   "execution_count": 70,
   "metadata": {},
   "outputs": [
    {
     "name": "stdout",
     "output_type": "stream",
     "text": [
      "markers_arr:  [[array([],\n",
      "      dtype=[('label', '<U64'), ('position', '<f4'), ('duration', '<f4')])], [array([],\n",
      "      dtype=[('label', '<U64'), ('position', '<f4'), ('duration', '<f4')])], [array([],\n",
      "      dtype=[('label', '<U64'), ('position', '<f4'), ('duration', '<f4')])], [array([],\n",
      "      dtype=[('label', '<U64'), ('position', '<f4'), ('duration', '<f4')])], [array([],\n",
      "      dtype=[('label', '<U64'), ('position', '<f4'), ('duration', '<f4')])], [array([],\n",
      "      dtype=[('label', '<U64'), ('position', '<f4'), ('duration', '<f4')])], [array([],\n",
      "      dtype=[('label', '<U64'), ('position', '<f4'), ('duration', '<f4')])], [array([],\n",
      "      dtype=[('label', '<U64'), ('position', '<f4'), ('duration', '<f4')])], [array([],\n",
      "      dtype=[('label', '<U64'), ('position', '<f4'), ('duration', '<f4')])], [array([],\n",
      "      dtype=[('label', '<U64'), ('position', '<f4'), ('duration', '<f4')])], [array([],\n",
      "      dtype=[('label', '<U64'), ('position', '<f4'), ('duration', '<f4')])], [array([],\n",
      "      dtype=[('label', '<U64'), ('position', '<f4'), ('duration', '<f4')])], [array([],\n",
      "      dtype=[('label', '<U64'), ('position', '<f4'), ('duration', '<f4')])], [array([],\n",
      "      dtype=[('label', '<U64'), ('position', '<f4'), ('duration', '<f4')])], [array([],\n",
      "      dtype=[('label', '<U64'), ('position', '<f4'), ('duration', '<f4')])], [array([],\n",
      "      dtype=[('label', '<U64'), ('position', '<f4'), ('duration', '<f4')])], [array([],\n",
      "      dtype=[('label', '<U64'), ('position', '<f4'), ('duration', '<f4')])], [array([],\n",
      "      dtype=[('label', '<U64'), ('position', '<f4'), ('duration', '<f4')])], [array([],\n",
      "      dtype=[('label', '<U64'), ('position', '<f4'), ('duration', '<f4')])], [array([],\n",
      "      dtype=[('label', '<U64'), ('position', '<f4'), ('duration', '<f4')])], [array([],\n",
      "      dtype=[('label', '<U64'), ('position', '<f4'), ('duration', '<f4')])], [array([],\n",
      "      dtype=[('label', '<U64'), ('position', '<f4'), ('duration', '<f4')])], [array([],\n",
      "      dtype=[('label', '<U64'), ('position', '<f4'), ('duration', '<f4')])], [array([],\n",
      "      dtype=[('label', '<U64'), ('position', '<f4'), ('duration', '<f4')])], [array([],\n",
      "      dtype=[('label', '<U64'), ('position', '<f4'), ('duration', '<f4')])], [array([],\n",
      "      dtype=[('label', '<U64'), ('position', '<f4'), ('duration', '<f4')])], [array([],\n",
      "      dtype=[('label', '<U64'), ('position', '<f4'), ('duration', '<f4')])], [array([],\n",
      "      dtype=[('label', '<U64'), ('position', '<f4'), ('duration', '<f4')])], [array([],\n",
      "      dtype=[('label', '<U64'), ('position', '<f4'), ('duration', '<f4')])], [array([],\n",
      "      dtype=[('label', '<U64'), ('position', '<f4'), ('duration', '<f4')])], [array([],\n",
      "      dtype=[('label', '<U64'), ('position', '<f4'), ('duration', '<f4')])], [array([],\n",
      "      dtype=[('label', '<U64'), ('position', '<f4'), ('duration', '<f4')])], [array([],\n",
      "      dtype=[('label', '<U64'), ('position', '<f4'), ('duration', '<f4')])], [array([],\n",
      "      dtype=[('label', '<U64'), ('position', '<f4'), ('duration', '<f4')])], [array([],\n",
      "      dtype=[('label', '<U64'), ('position', '<f4'), ('duration', '<f4')])], [array([],\n",
      "      dtype=[('label', '<U64'), ('position', '<f4'), ('duration', '<f4')])], [array([],\n",
      "      dtype=[('label', '<U64'), ('position', '<f4'), ('duration', '<f4')])], [array([],\n",
      "      dtype=[('label', '<U64'), ('position', '<f4'), ('duration', '<f4')])], [array([],\n",
      "      dtype=[('label', '<U64'), ('position', '<f4'), ('duration', '<f4')])], [array([],\n",
      "      dtype=[('label', '<U64'), ('position', '<f4'), ('duration', '<f4')])], [array([],\n",
      "      dtype=[('label', '<U64'), ('position', '<f4'), ('duration', '<f4')])], [array([],\n",
      "      dtype=[('label', '<U64'), ('position', '<f4'), ('duration', '<f4')])], [array([],\n",
      "      dtype=[('label', '<U64'), ('position', '<f4'), ('duration', '<f4')])], [array([],\n",
      "      dtype=[('label', '<U64'), ('position', '<f4'), ('duration', '<f4')])], [array([],\n",
      "      dtype=[('label', '<U64'), ('position', '<f4'), ('duration', '<f4')])], [array([],\n",
      "      dtype=[('label', '<U64'), ('position', '<f4'), ('duration', '<f4')])], [array([],\n",
      "      dtype=[('label', '<U64'), ('position', '<f4'), ('duration', '<f4')])], [array([],\n",
      "      dtype=[('label', '<U64'), ('position', '<f4'), ('duration', '<f4')])], [array([],\n",
      "      dtype=[('label', '<U64'), ('position', '<f4'), ('duration', '<f4')])], [array([],\n",
      "      dtype=[('label', '<U64'), ('position', '<f4'), ('duration', '<f4')])], [array([],\n",
      "      dtype=[('label', '<U64'), ('position', '<f4'), ('duration', '<f4')])], [array([],\n",
      "      dtype=[('label', '<U64'), ('position', '<f4'), ('duration', '<f4')])], [array([],\n",
      "      dtype=[('label', '<U64'), ('position', '<f4'), ('duration', '<f4')])], [array([],\n",
      "      dtype=[('label', '<U64'), ('position', '<f4'), ('duration', '<f4')])], [array([],\n",
      "      dtype=[('label', '<U64'), ('position', '<f4'), ('duration', '<f4')])], [array([],\n",
      "      dtype=[('label', '<U64'), ('position', '<f4'), ('duration', '<f4')])], [array([],\n",
      "      dtype=[('label', '<U64'), ('position', '<f4'), ('duration', '<f4')])], [array([],\n",
      "      dtype=[('label', '<U64'), ('position', '<f4'), ('duration', '<f4')])], [array([],\n",
      "      dtype=[('label', '<U64'), ('position', '<f4'), ('duration', '<f4')])], [array([],\n",
      "      dtype=[('label', '<U64'), ('position', '<f4'), ('duration', '<f4')])], [array([],\n",
      "      dtype=[('label', '<U64'), ('position', '<f4'), ('duration', '<f4')])], [array([],\n",
      "      dtype=[('label', '<U64'), ('position', '<f4'), ('duration', '<f4')])], [array([],\n",
      "      dtype=[('label', '<U64'), ('position', '<f4'), ('duration', '<f4')])], [array([],\n",
      "      dtype=[('label', '<U64'), ('position', '<f4'), ('duration', '<f4')])], [array([],\n",
      "      dtype=[('label', '<U64'), ('position', '<f4'), ('duration', '<f4')])], [array([],\n",
      "      dtype=[('label', '<U64'), ('position', '<f4'), ('duration', '<f4')])], [array([],\n",
      "      dtype=[('label', '<U64'), ('position', '<f4'), ('duration', '<f4')])], [array([],\n",
      "      dtype=[('label', '<U64'), ('position', '<f4'), ('duration', '<f4')])], [array([],\n",
      "      dtype=[('label', '<U64'), ('position', '<f4'), ('duration', '<f4')])], [array([],\n",
      "      dtype=[('label', '<U64'), ('position', '<f4'), ('duration', '<f4')])], [array([],\n",
      "      dtype=[('label', '<U64'), ('position', '<f4'), ('duration', '<f4')])], [array([],\n",
      "      dtype=[('label', '<U64'), ('position', '<f4'), ('duration', '<f4')])], [array([],\n",
      "      dtype=[('label', '<U64'), ('position', '<f4'), ('duration', '<f4')])], [array([],\n",
      "      dtype=[('label', '<U64'), ('position', '<f4'), ('duration', '<f4')])], [array([],\n",
      "      dtype=[('label', '<U64'), ('position', '<f4'), ('duration', '<f4')])], [array([],\n",
      "      dtype=[('label', '<U64'), ('position', '<f4'), ('duration', '<f4')])], [array([],\n",
      "      dtype=[('label', '<U64'), ('position', '<f4'), ('duration', '<f4')])], [array([],\n",
      "      dtype=[('label', '<U64'), ('position', '<f4'), ('duration', '<f4')])], [array([],\n",
      "      dtype=[('label', '<U64'), ('position', '<f4'), ('duration', '<f4')])], [array([],\n",
      "      dtype=[('label', '<U64'), ('position', '<f4'), ('duration', '<f4')])], [array([],\n",
      "      dtype=[('label', '<U64'), ('position', '<f4'), ('duration', '<f4')])], [array([],\n",
      "      dtype=[('label', '<U64'), ('position', '<f4'), ('duration', '<f4')])], [array([],\n",
      "      dtype=[('label', '<U64'), ('position', '<f4'), ('duration', '<f4')])], [array([],\n",
      "      dtype=[('label', '<U64'), ('position', '<f4'), ('duration', '<f4')])], [array([],\n",
      "      dtype=[('label', '<U64'), ('position', '<f4'), ('duration', '<f4')])], [array([],\n",
      "      dtype=[('label', '<U64'), ('position', '<f4'), ('duration', '<f4')])]]\n"
     ]
    }
   ],
   "source": [
    "from utils.io import preview_np_array\n",
    "\n",
    "# Create an empty np array to store the markers\n",
    "# markers_arr = [ np.empty(shape=(1), dtype=[('label', 'U64'), ('position', np.float32), ('duration', np.float32)]) for _ in range(num_channels)]\n",
    "markers_arr = np.empty(num_channels).tolist()\n",
    "for idx in range(num_channels):\n",
    "    markers_arr[idx] = [np.empty(shape=(0), dtype=[('label', 'U64'), ('position', np.float32), ('duration', np.float32)])]\n",
    "\n",
    "print(\"markers_arr: \", markers_arr)"
   ]
  },
  {
   "cell_type": "code",
   "execution_count": 71,
   "metadata": {},
   "outputs": [
    {
     "name": "stdout",
     "output_type": "stream",
     "text": [
      "Markers Array:  [[array([],\n",
      "      dtype=[('label', '<U64'), ('position', '<f4'), ('duration', '<f4')])], [array([],\n",
      "      dtype=[('label', '<U64'), ('position', '<f4'), ('duration', '<f4')])], [array([],\n",
      "      dtype=[('label', '<U64'), ('position', '<f4'), ('duration', '<f4')])], [array([],\n",
      "      dtype=[('label', '<U64'), ('position', '<f4'), ('duration', '<f4')])], [array([],\n",
      "      dtype=[('label', '<U64'), ('position', '<f4'), ('duration', '<f4')])], [array([],\n",
      "      dtype=[('label', '<U64'), ('position', '<f4'), ('duration', '<f4')])], [array([],\n",
      "      dtype=[('label', '<U64'), ('position', '<f4'), ('duration', '<f4')])], [array([],\n",
      "      dtype=[('label', '<U64'), ('position', '<f4'), ('duration', '<f4')])], [array([],\n",
      "      dtype=[('label', '<U64'), ('position', '<f4'), ('duration', '<f4')])], [array([],\n",
      "      dtype=[('label', '<U64'), ('position', '<f4'), ('duration', '<f4')])], [array([],\n",
      "      dtype=[('label', '<U64'), ('position', '<f4'), ('duration', '<f4')])], [array([],\n",
      "      dtype=[('label', '<U64'), ('position', '<f4'), ('duration', '<f4')])], [array([],\n",
      "      dtype=[('label', '<U64'), ('position', '<f4'), ('duration', '<f4')])], [array([],\n",
      "      dtype=[('label', '<U64'), ('position', '<f4'), ('duration', '<f4')])], [array([],\n",
      "      dtype=[('label', '<U64'), ('position', '<f4'), ('duration', '<f4')])], [array([],\n",
      "      dtype=[('label', '<U64'), ('position', '<f4'), ('duration', '<f4')])], [array([],\n",
      "      dtype=[('label', '<U64'), ('position', '<f4'), ('duration', '<f4')])], [array([],\n",
      "      dtype=[('label', '<U64'), ('position', '<f4'), ('duration', '<f4')])], [array([],\n",
      "      dtype=[('label', '<U64'), ('position', '<f4'), ('duration', '<f4')])], [array([],\n",
      "      dtype=[('label', '<U64'), ('position', '<f4'), ('duration', '<f4')])], [array([],\n",
      "      dtype=[('label', '<U64'), ('position', '<f4'), ('duration', '<f4')])], [array([],\n",
      "      dtype=[('label', '<U64'), ('position', '<f4'), ('duration', '<f4')])], array([('Ripple',   594.72656, 0.), ('Ripple',  5872.5586 , 0.),\n",
      "       ('Ripple',  7471.6797 , 0.), ('Ripple',  8555.664  , 0.),\n",
      "       ('Ripple', 10140.137  , 0.), ..., ('Ripple', 47746.094  , 0.),\n",
      "       ('Ripple', 49494.63   , 0.), ('Ripple', 55337.402  , 0.),\n",
      "       ('Ripple', 62346.19   , 0.), ('Ripple', 62897.95   , 0.)],\n",
      "      dtype=[('label', '<U64'), ('position', '<f4'), ('duration', '<f4')]), array([('Ripple',   594.72656, 0.), ('Ripple',  5872.5586 , 0.),\n",
      "       ('Ripple',  7471.6797 , 0.), ('Ripple',  8555.664  , 0.),\n",
      "       ('Ripple', 10140.137  , 0.), ..., ('Ripple', 47746.094  , 0.),\n",
      "       ('Ripple', 49494.63   , 0.), ('Ripple', 55337.402  , 0.),\n",
      "       ('Ripple', 62346.19   , 0.), ('Ripple', 62897.95   , 0.)],\n",
      "      dtype=[('label', '<U64'), ('position', '<f4'), ('duration', '<f4')]), array([('Ripple',   594.72656, 0.), ('Ripple',  5872.5586 , 0.),\n",
      "       ('Ripple',  7471.6797 , 0.), ('Ripple',  8555.664  , 0.),\n",
      "       ('Ripple', 10140.137  , 0.), ..., ('Ripple', 47746.094  , 0.),\n",
      "       ('Ripple', 49494.63   , 0.), ('Ripple', 55337.402  , 0.),\n",
      "       ('Ripple', 62346.19   , 0.), ('Ripple', 62897.95   , 0.)],\n",
      "      dtype=[('label', '<U64'), ('position', '<f4'), ('duration', '<f4')]), [array([],\n",
      "      dtype=[('label', '<U64'), ('position', '<f4'), ('duration', '<f4')])], [array([],\n",
      "      dtype=[('label', '<U64'), ('position', '<f4'), ('duration', '<f4')])], [array([],\n",
      "      dtype=[('label', '<U64'), ('position', '<f4'), ('duration', '<f4')])], [array([],\n",
      "      dtype=[('label', '<U64'), ('position', '<f4'), ('duration', '<f4')])], array([('Ripple',   522.9492, 0.), ('Fast Ripple',   523.9258, 0.),\n",
      "       ('Ripple',  2225.586 , 0.), ('Fast Ripple',  2230.957 , 0.),\n",
      "       ('Ripple',  2904.2969, 0.), ..., ('Ripple', 60941.895 , 0.),\n",
      "       ('Fast Ripple', 61286.62  , 0.), ('Ripple', 61297.363 , 0.),\n",
      "       ('Fast Ripple', 62202.637 , 0.), ('Ripple', 62207.52  , 0.)],\n",
      "      dtype=[('label', '<U64'), ('position', '<f4'), ('duration', '<f4')]), array([('Ripple',   522.9492, 0.), ('Fast Ripple',   523.9258, 0.),\n",
      "       ('Ripple',  2225.586 , 0.), ('Fast Ripple',  2230.957 , 0.),\n",
      "       ('Ripple',  2904.2969, 0.), ..., ('Ripple', 60941.895 , 0.),\n",
      "       ('Fast Ripple', 61286.62  , 0.), ('Ripple', 61297.363 , 0.),\n",
      "       ('Fast Ripple', 62202.637 , 0.), ('Ripple', 62207.52  , 0.)],\n",
      "      dtype=[('label', '<U64'), ('position', '<f4'), ('duration', '<f4')]), array([('Ripple',   522.9492, 0.), ('Fast Ripple',   523.9258, 0.),\n",
      "       ('Ripple',  2225.586 , 0.), ('Fast Ripple',  2230.957 , 0.),\n",
      "       ('Ripple',  2904.2969, 0.), ..., ('Ripple', 60941.895 , 0.),\n",
      "       ('Fast Ripple', 61286.62  , 0.), ('Ripple', 61297.363 , 0.),\n",
      "       ('Fast Ripple', 62202.637 , 0.), ('Ripple', 62207.52  , 0.)],\n",
      "      dtype=[('label', '<U64'), ('position', '<f4'), ('duration', '<f4')]), array([('Ripple',   522.9492, 0.), ('Ripple',  2225.586 , 0.),\n",
      "       ('Fast Ripple',  2230.957 , 0.), ('Ripple',  2904.2969, 0.),\n",
      "       ('Ripple',  3246.0938, 0.), ..., ('Ripple', 60941.895 , 0.),\n",
      "       ('Fast Ripple', 61286.62  , 0.), ('Ripple', 61297.363 , 0.),\n",
      "       ('Fast Ripple', 62202.637 , 0.), ('Ripple', 62207.52  , 0.)],\n",
      "      dtype=[('label', '<U64'), ('position', '<f4'), ('duration', '<f4')]), [array([],\n",
      "      dtype=[('label', '<U64'), ('position', '<f4'), ('duration', '<f4')])], [array([],\n",
      "      dtype=[('label', '<U64'), ('position', '<f4'), ('duration', '<f4')])], [array([],\n",
      "      dtype=[('label', '<U64'), ('position', '<f4'), ('duration', '<f4')])], array([('Fast Ripple',  2230.957 , 0.), ('Ripple',  5731.9336, 0.),\n",
      "       ('Fast Ripple',  7104.9805, 0.), ('Ripple',  7260.254 , 0.),\n",
      "       ('Fast Ripple',  7265.1367, 0.), ..., ('Ripple', 60738.77  , 0.),\n",
      "       ('Ripple', 60941.895 , 0.), ('Fast Ripple', 60944.824 , 0.),\n",
      "       ('Fast Ripple', 62202.637 , 0.), ('Ripple', 62207.52  , 0.)],\n",
      "      dtype=[('label', '<U64'), ('position', '<f4'), ('duration', '<f4')]), array([('Fast Ripple',  2230.957 , 0.), ('Ripple',  5731.9336, 0.),\n",
      "       ('Fast Ripple',  7104.9805, 0.), ('Ripple',  7260.254 , 0.),\n",
      "       ('Fast Ripple',  7265.1367, 0.), ..., ('Ripple', 60738.77  , 0.),\n",
      "       ('Ripple', 60941.895 , 0.), ('Fast Ripple', 60944.824 , 0.),\n",
      "       ('Fast Ripple', 62202.637 , 0.), ('Ripple', 62207.52  , 0.)],\n",
      "      dtype=[('label', '<U64'), ('position', '<f4'), ('duration', '<f4')]), [array([],\n",
      "      dtype=[('label', '<U64'), ('position', '<f4'), ('duration', '<f4')])], [array([],\n",
      "      dtype=[('label', '<U64'), ('position', '<f4'), ('duration', '<f4')])], [array([],\n",
      "      dtype=[('label', '<U64'), ('position', '<f4'), ('duration', '<f4')])], array([('Ripple', 39647.95, 0.)],\n",
      "      dtype=[('label', '<U64'), ('position', '<f4'), ('duration', '<f4')]), array([('Ripple', 39647.95, 0.)],\n",
      "      dtype=[('label', '<U64'), ('position', '<f4'), ('duration', '<f4')]), [array([],\n",
      "      dtype=[('label', '<U64'), ('position', '<f4'), ('duration', '<f4')])], [array([],\n",
      "      dtype=[('label', '<U64'), ('position', '<f4'), ('duration', '<f4')])], [array([],\n",
      "      dtype=[('label', '<U64'), ('position', '<f4'), ('duration', '<f4')])], [array([],\n",
      "      dtype=[('label', '<U64'), ('position', '<f4'), ('duration', '<f4')])], [array([],\n",
      "      dtype=[('label', '<U64'), ('position', '<f4'), ('duration', '<f4')])], array([('Ripple',   522.9492, 0.), ('Fast Ripple',   523.9258, 0.),\n",
      "       ('Ripple',  2225.586 , 0.), ('Fast Ripple',  2230.957 , 0.),\n",
      "       ('Ripple',  2904.2969, 0.), ..., ('Fast Ripple', 60944.824 , 0.),\n",
      "       ('Ripple', 61297.363 , 0.), ('Fast Ripple', 61308.105 , 0.),\n",
      "       ('Fast Ripple', 62202.637 , 0.), ('Ripple', 62207.52  , 0.)],\n",
      "      dtype=[('label', '<U64'), ('position', '<f4'), ('duration', '<f4')]), array([('Ripple',   522.9492, 0.), ('Fast Ripple',   523.9258, 0.),\n",
      "       ('Ripple',  2225.586 , 0.), ('Fast Ripple',  2230.957 , 0.),\n",
      "       ('Ripple',  2904.2969, 0.), ..., ('Fast Ripple', 60944.824 , 0.),\n",
      "       ('Ripple', 61297.363 , 0.), ('Fast Ripple', 61308.105 , 0.),\n",
      "       ('Fast Ripple', 62202.637 , 0.), ('Ripple', 62207.52  , 0.)],\n",
      "      dtype=[('label', '<U64'), ('position', '<f4'), ('duration', '<f4')]), array([('Ripple',   522.9492, 0.), ('Fast Ripple',   523.9258, 0.),\n",
      "       ('Ripple',  2225.586 , 0.), ('Fast Ripple',  2230.957 , 0.),\n",
      "       ('Ripple',  2904.2969, 0.), ..., ('Fast Ripple', 60944.824 , 0.),\n",
      "       ('Ripple', 61297.363 , 0.), ('Fast Ripple', 61308.105 , 0.),\n",
      "       ('Fast Ripple', 62202.637 , 0.), ('Ripple', 62207.52  , 0.)],\n",
      "      dtype=[('label', '<U64'), ('position', '<f4'), ('duration', '<f4')]), [array([],\n",
      "      dtype=[('label', '<U64'), ('position', '<f4'), ('duration', '<f4')])], [array([],\n",
      "      dtype=[('label', '<U64'), ('position', '<f4'), ('duration', '<f4')])], [array([],\n",
      "      dtype=[('label', '<U64'), ('position', '<f4'), ('duration', '<f4')])], [array([],\n",
      "      dtype=[('label', '<U64'), ('position', '<f4'), ('duration', '<f4')])], [array([],\n",
      "      dtype=[('label', '<U64'), ('position', '<f4'), ('duration', '<f4')])], [array([],\n",
      "      dtype=[('label', '<U64'), ('position', '<f4'), ('duration', '<f4')])], [array([],\n",
      "      dtype=[('label', '<U64'), ('position', '<f4'), ('duration', '<f4')])], [array([],\n",
      "      dtype=[('label', '<U64'), ('position', '<f4'), ('duration', '<f4')])], [array([],\n",
      "      dtype=[('label', '<U64'), ('position', '<f4'), ('duration', '<f4')])], [array([],\n",
      "      dtype=[('label', '<U64'), ('position', '<f4'), ('duration', '<f4')])], [array([],\n",
      "      dtype=[('label', '<U64'), ('position', '<f4'), ('duration', '<f4')])], [array([],\n",
      "      dtype=[('label', '<U64'), ('position', '<f4'), ('duration', '<f4')])], [array([],\n",
      "      dtype=[('label', '<U64'), ('position', '<f4'), ('duration', '<f4')])], array([('Ripple', 31504.883, 0.), ('Ripple', 33040.527, 0.)],\n",
      "      dtype=[('label', '<U64'), ('position', '<f4'), ('duration', '<f4')]), array([('Ripple', 31504.883, 0.), ('Ripple', 33040.527, 0.)],\n",
      "      dtype=[('label', '<U64'), ('position', '<f4'), ('duration', '<f4')]), array([('Ripple', 31504.883, 0.), ('Ripple', 33040.527, 0.)],\n",
      "      dtype=[('label', '<U64'), ('position', '<f4'), ('duration', '<f4')]), [array([],\n",
      "      dtype=[('label', '<U64'), ('position', '<f4'), ('duration', '<f4')])], [array([],\n",
      "      dtype=[('label', '<U64'), ('position', '<f4'), ('duration', '<f4')])], [array([],\n",
      "      dtype=[('label', '<U64'), ('position', '<f4'), ('duration', '<f4')])], [array([],\n",
      "      dtype=[('label', '<U64'), ('position', '<f4'), ('duration', '<f4')])], [array([],\n",
      "      dtype=[('label', '<U64'), ('position', '<f4'), ('duration', '<f4')])], [array([],\n",
      "      dtype=[('label', '<U64'), ('position', '<f4'), ('duration', '<f4')])], [array([],\n",
      "      dtype=[('label', '<U64'), ('position', '<f4'), ('duration', '<f4')])], [array([],\n",
      "      dtype=[('label', '<U64'), ('position', '<f4'), ('duration', '<f4')])], [array([],\n",
      "      dtype=[('label', '<U64'), ('position', '<f4'), ('duration', '<f4')])], [array([],\n",
      "      dtype=[('label', '<U64'), ('position', '<f4'), ('duration', '<f4')])], [array([],\n",
      "      dtype=[('label', '<U64'), ('position', '<f4'), ('duration', '<f4')])], [array([],\n",
      "      dtype=[('label', '<U64'), ('position', '<f4'), ('duration', '<f4')])], [array([],\n",
      "      dtype=[('label', '<U64'), ('position', '<f4'), ('duration', '<f4')])], [array([],\n",
      "      dtype=[('label', '<U64'), ('position', '<f4'), ('duration', '<f4')])], [array([],\n",
      "      dtype=[('label', '<U64'), ('position', '<f4'), ('duration', '<f4')])], [array([],\n",
      "      dtype=[('label', '<U64'), ('position', '<f4'), ('duration', '<f4')])], [array([],\n",
      "      dtype=[('label', '<U64'), ('position', '<f4'), ('duration', '<f4')])], [array([],\n",
      "      dtype=[('label', '<U64'), ('position', '<f4'), ('duration', '<f4')])], [array([],\n",
      "      dtype=[('label', '<U64'), ('position', '<f4'), ('duration', '<f4')])]]\n"
     ]
    }
   ],
   "source": [
    "# Iterate all the marked events and add them to markers_arr\n",
    "for rowIdx in range(len(markers_npy)):    \n",
    "    currObj = markers_npy[rowIdx]\n",
    "    channelIdx = currObj[3]\n",
    "\n",
    "    currArr = markers_arr[channelIdx]\n",
    "        \n",
    "    currRow = np.array((currObj[0], currObj[1], currObj[2]), dtype=[('label', 'U64'), ('position', np.float32), ('duration', np.float32)])  # Create tuple (Label, Pos, Duration)\n",
    "    # currArr.append(currRow)\n",
    "    # Append the tuple to the numpy array\n",
    "    currArr = np.append(currArr, currRow)\n",
    "    \n",
    "    # Update the array of the current channel    \n",
    "    markers_arr[channelIdx] = currArr\n",
    "\n",
    "print(\"Markers Array: \", markers_arr)"
   ]
  },
  {
   "cell_type": "markdown",
   "metadata": {},
   "source": [
    "###  Convert the array to a numpy array to allow writing to a .npy file"
   ]
  },
  {
   "cell_type": "code",
   "execution_count": 72,
   "metadata": {},
   "outputs": [
    {
     "name": "stdout",
     "output_type": "stream",
     "text": [
      "final_markers_npy Shape: (86,).\n",
      "Preview: [list([array([],\n",
      "       dtype=[('label', '<U64'), ('position', '<f4'), ('duration', '<f4')])])\n",
      " list([array([],\n",
      "       dtype=[('label', '<U64'), ('position', '<f4'), ('duration', '<f4')])])\n",
      " list([array([],\n",
      "       dtype=[('label', '<U64'), ('position', '<f4'), ('duration', '<f4')])])\n",
      " list([array([],\n",
      "       dtype=[('label', '<U64'), ('position', '<f4'), ('duration', '<f4')])])\n",
      " list([array([],\n",
      "       dtype=[('label', '<U64'), ('position', '<f4'), ('duration', '<f4')])])\n",
      " ...\n",
      " list([array([],\n",
      "       dtype=[('label', '<U64'), ('position', '<f4'), ('duration', '<f4')])])\n",
      " list([array([],\n",
      "       dtype=[('label', '<U64'), ('position', '<f4'), ('duration', '<f4')])])\n",
      " list([array([],\n",
      "       dtype=[('label', '<U64'), ('position', '<f4'), ('duration', '<f4')])])\n",
      " list([array([],\n",
      "       dtype=[('label', '<U64'), ('position', '<f4'), ('duration', '<f4')])])\n",
      " list([array([],\n",
      "       dtype=[('label', '<U64'), ('position', '<f4'), ('duration', '<f4')])])]\n"
     ]
    }
   ],
   "source": [
    "# Convert the 2D array to a 1D numpy array\n",
    "final_markers_npy = np.array(markers_arr, dtype=object)\n",
    "\n",
    "preview_np_array(final_markers_npy, \"final_markers_npy\")"
   ]
  },
  {
   "cell_type": "markdown",
   "metadata": {},
   "source": [
    "### Write the processed markers into a .npy file"
   ]
  },
  {
   "cell_type": "code",
   "execution_count": 73,
   "metadata": {},
   "outputs": [],
   "source": [
    "file_name = f\"{PATH_TO_FILE}seeg_csl_markers.npy\"\n",
    "\n",
    "EXPORT_MARKERS = True\n",
    "if EXPORT_MARKERS:\n",
    "    np.save(file_name, final_markers_npy)   # Save the data to a numpy file (not stored in git due to size)"
   ]
  },
  {
   "cell_type": "markdown",
   "metadata": {},
   "source": [
    "## See what is the average number of annotated events per channel"
   ]
  },
  {
   "cell_type": "code",
   "execution_count": 74,
   "metadata": {},
   "outputs": [
    {
     "name": "stdout",
     "output_type": "stream",
     "text": [
      "Ripple Count: 923\n",
      "Fast Ripple Count: 410\n"
     ]
    }
   ],
   "source": [
    "ripple_counter = 0\n",
    "fr_counter = 0\n",
    "\n",
    "for marker in markers_npy:\n",
    "    curr_label = marker[0]\n",
    "    curr_pos = marker[1]\n",
    "\n",
    "    if curr_label == 'Ripple':\n",
    "        ripple_counter += 1\n",
    "    elif curr_label == 'Fast Ripple':\n",
    "        fr_counter += 1\n",
    "    else:\n",
    "        print(f\"Unknown label: {curr_label}\")\n",
    "\n",
    "print(f\"Ripple Count: {ripple_counter}\")\n",
    "print(f\"Fast Ripple Count: {fr_counter}\")"
   ]
  },
  {
   "cell_type": "code",
   "execution_count": 75,
   "metadata": {},
   "outputs": [
    {
     "name": "stdout",
     "output_type": "stream",
     "text": [
      "Ripple Frequency: 10.20447963993877 ripples / minute / channel\n",
      "Fast Ripple Frequency: 4.532867445693278 fast ripples / minute / channel\n"
     ]
    }
   ],
   "source": [
    "# Ripple Frequency per minute and per channel\n",
    "ripple_freq = ripple_counter / ((input_duration / 60) * num_channels)\n",
    "fr_freq = fr_counter / ((input_duration / 60) * num_channels)\n",
    "\n",
    "print(f\"Ripple Frequency: {ripple_freq} ripples / minute / channel\")\n",
    "print(f\"Fast Ripple Frequency: {fr_freq} fast ripples / minute / channel\")"
   ]
  },
  {
   "cell_type": "markdown",
   "metadata": {},
   "source": [
    "### Find the channels with the most annotated events"
   ]
  },
  {
   "cell_type": "code",
   "execution_count": 76,
   "metadata": {},
   "outputs": [
    {
     "name": "stdout",
     "output_type": "stream",
     "text": [
      "Channel Event Count:  {0: 1, 1: 1, 2: 1, 3: 1, 4: 1, 5: 1, 6: 1, 7: 1, 8: 1, 9: 1, 10: 1, 11: 1, 12: 1, 13: 1, 14: 1, 15: 1, 16: 1, 17: 1, 18: 1, 19: 1, 20: 1, 21: 1, 22: 33, 23: 33, 24: 33, 25: 1, 26: 1, 27: 1, 28: 1, 29: 130, 30: 130, 31: 130, 32: 128, 33: 1, 34: 1, 35: 1, 36: 99, 37: 99, 38: 1, 39: 1, 40: 1, 41: 1, 42: 1, 43: 1, 44: 1, 45: 1, 46: 1, 47: 1, 48: 170, 49: 170, 50: 170, 51: 1, 52: 1, 53: 1, 54: 1, 55: 1, 56: 1, 57: 1, 58: 1, 59: 1, 60: 1, 61: 1, 62: 1, 63: 1, 64: 2, 65: 2, 66: 2, 67: 1, 68: 1, 69: 1, 70: 1, 71: 1, 72: 1, 73: 1, 74: 1, 75: 1, 76: 1, 77: 1, 78: 1, 79: 1, 80: 1, 81: 1, 82: 1, 83: 1, 84: 1, 85: 1}\n",
      "Sorted Channel Event Count:  {48: 170, 49: 170, 50: 170, 29: 130, 30: 130, 31: 130, 32: 128, 36: 99, 37: 99, 22: 33, 23: 33, 24: 33, 64: 2, 65: 2, 66: 2, 0: 1, 1: 1, 2: 1, 3: 1, 4: 1, 5: 1, 6: 1, 7: 1, 8: 1, 9: 1, 10: 1, 11: 1, 12: 1, 13: 1, 14: 1, 15: 1, 16: 1, 17: 1, 18: 1, 19: 1, 20: 1, 21: 1, 25: 1, 26: 1, 27: 1, 28: 1, 33: 1, 34: 1, 35: 1, 38: 1, 39: 1, 40: 1, 41: 1, 42: 1, 43: 1, 44: 1, 45: 1, 46: 1, 47: 1, 51: 1, 52: 1, 53: 1, 54: 1, 55: 1, 56: 1, 57: 1, 58: 1, 59: 1, 60: 1, 61: 1, 62: 1, 63: 1, 67: 1, 68: 1, 69: 1, 70: 1, 71: 1, 72: 1, 73: 1, 74: 1, 75: 1, 76: 1, 77: 1, 78: 1, 79: 1, 80: 1, 81: 1, 82: 1, 83: 1, 84: 1, 85: 1}\n"
     ]
    }
   ],
   "source": [
    "# Build a dictionary with the channel idx and the number of annotated events\n",
    "channel_event_count = {}\n",
    "for idx in range(len(final_markers_npy)):\n",
    "    channel_event_count[idx] = len(final_markers_npy[idx])\n",
    "print(\"Channel Event Count: \", channel_event_count)\n",
    "\n",
    "# Sort the dictionary by the number of events\n",
    "sorted_channel_event_count = dict(sorted(channel_event_count.items(), key=lambda item: item[1], reverse=True))\n",
    "print(\"Sorted Channel Event Count: \", sorted_channel_event_count)\n",
    "# {ch_idx: num_events}"
   ]
  },
  {
   "cell_type": "markdown",
   "metadata": {},
   "source": [
    "---"
   ]
  },
  {
   "cell_type": "markdown",
   "metadata": {},
   "source": [
    "## SEEG Data"
   ]
  },
  {
   "cell_type": "code",
   "execution_count": 77,
   "metadata": {},
   "outputs": [
    {
     "name": "stdout",
     "output_type": "stream",
     "text": [
      "data: [[   1.0633698     1.8608971    -1.8608971    -2.1267433    -0.5316849\n",
      "  ...    0.26584435    1.0633717     1.860899     -1.0633717\n",
      "    -1.0633707 ]\n",
      " [  34.293705     35.888763     37.21797      36.952133     33.76202\n",
      "  ...    0.5316849    -0.7975273     3.4559546     1.3292141\n",
      "    -2.3925838 ]\n",
      " [  -5.3168535    -6.380224     -7.1777525    -6.9119096    -6.114382\n",
      "  ...    5.582696      6.114381      1.860899      4.5193253\n",
      "     6.380224  ]\n",
      " [  31.369436     32.964493     35.091232     31.635279     32.69865\n",
      "  ...   34.027863     34.2937       35.62292      35.357075\n",
      "    34.027863  ]\n",
      " [ -37.483818    -36.952133    -37.217976    -34.559547    -36.952133\n",
      "  ... -123.88269    -123.351      -123.61685    -124.14853\n",
      "  -122.553474  ]\n",
      " ...\n",
      " [  10.10202       7.443596      8.241123      7.975277      3.4559555\n",
      "  ...   -8.241127    -10.899551    -11.962917    -11.431232\n",
      "   -12.228764  ]\n",
      " [  43.066517     45.72494      45.72494      44.66157      48.649208\n",
      "  ...   58.21955      61.941345     61.409657     60.87797\n",
      "    64.865616  ]\n",
      " [ -54.76359     -57.687862    -62.738873    -62.738873    -67.52404\n",
      "  ...  -33.762024    -37.74966     -35.091232    -32.964493\n",
      "   -36.154606  ]\n",
      " [  13.557976     15.684719     19.406517     17.811459     17.811462\n",
      "  ...  -28.711006    -26.318424    -27.913479    -31.63528\n",
      "   -31.103596  ]\n",
      " [ -24.457527    -25.78674     -22.862473    -17.811459    -12.494606\n",
      "  ...   36.686287     34.82539      35.091232     38.54719\n",
      "    37.48382   ]]\n",
      "Shape of data: (86, 129239)\n"
     ]
    }
   ],
   "source": [
    "print(f\"data: {data['data']}\")\n",
    "\n",
    "print(f\"Shape of data: {data['data'].shape}\")\n",
    "# Shape of the data is (channels, samples)\n",
    "# Nº of channels = 960 (Each channel represents a different electrode)\n",
    "# Nº of samples = 245760"
   ]
  },
  {
   "cell_type": "markdown",
   "metadata": {},
   "source": [
    "### Shape of the data\n",
    "The shape of the data is (n_channels, n_samples)\n",
    "- Number of channels: 960\n",
    "- Number of samples: 245760\n",
    "\n",
    "The **data corresponds** to the recordings of the SEEG signals from 960 channels, acquiring a total of 245760 samples for each channel."
   ]
  },
  {
   "cell_type": "code",
   "execution_count": 78,
   "metadata": {},
   "outputs": [],
   "source": [
    "recorded_data = data['data']"
   ]
  },
  {
   "cell_type": "markdown",
   "metadata": {},
   "source": [
    "Each value of the `recorded_data` is a float number that represents the amplitude of the signal at that specific time (voltage). The voltage is measured in millivolts (mV)?? TODO: Check units"
   ]
  },
  {
   "cell_type": "markdown",
   "metadata": {},
   "source": [
    "# Change the structure of the data\n",
    "\n",
    "Let's change the structure of the data to a 2D array that is ordered by time. This way, we can use the input data of various channels together by following the time order. \n",
    "\n",
    "Therefore, let's **transform the shape from (num_channels, num_samples) to (num_samples, num_channels)**. This way, each row will represent a time point and contains the voltage values of all channels at that time point. \n",
    "\n",
    "It is not necessary to specify the time of each row since there is a designated sampling rate of the input.\n",
    "\n",
    "The structure is exemplified below, with a total of 245760 rows:\n",
    "\n",
    "| Channel 1       | Channel 2     | Channel ...     | Channel 960   |\n",
    "|-----------------|---------------|-----------------|---------------|\n",
    "| 3               | 1             | 3               | 1             |\n",
    "| 8               | 0             | 7               | 15            |\n",
    "| ...             | ...           | ...             | ...           |\n",
    "| 14              | 5             | 3               | 1             |\n"
   ]
  },
  {
   "cell_type": "markdown",
   "metadata": {},
   "source": [
    "## Select the channels to be used\n",
    "For the sake of simplicity, we can define a list of channels to be used."
   ]
  },
  {
   "cell_type": "code",
   "execution_count": 79,
   "metadata": {},
   "outputs": [
    {
     "name": "stdout",
     "output_type": "stream",
     "text": [
      "{1, 2, 3, 4, 5, 6, 7, 8, 9, 10, 11, 12, 13, 14, 15, 16, 17, 18, 19, 20, 21, 22, 23, 24, 25, 26, 27, 28, 29, 30, 31, 32, 33, 34, 35, 36, 37, 38, 39, 40, 41, 42, 43, 44, 45, 46, 47, 48, 49, 50, 51, 52, 53, 54, 55, 56, 57, 58, 59, 60, 61, 62, 63, 64, 65, 66, 67, 68, 69, 70, 71, 72, 73, 74, 75, 76, 77, 78, 79, 80, 81, 82, 83, 84, 85, 86}\n"
     ]
    }
   ],
   "source": [
    "# channels_used: set = {1, 2, 3, 4, 5, 6, 7, 8}\n",
    "channels_used = set(range(1, num_channels+1, 1))\n",
    "\n",
    "print(channels_used)"
   ]
  },
  {
   "cell_type": "code",
   "execution_count": 80,
   "metadata": {},
   "outputs": [
    {
     "data": {
      "text/plain": [
       "(129239, 86)"
      ]
     },
     "execution_count": 80,
     "metadata": {},
     "output_type": "execute_result"
    }
   ],
   "source": [
    "ordered_recorded_data = recorded_data.T     # Swap the structure of the recorded_data to (num_samples, num_channels)\n",
    "\n",
    "ordered_recorded_data.shape"
   ]
  },
  {
   "cell_type": "markdown",
   "metadata": {},
   "source": [
    "# Write the processed data to a .npy file\n",
    "\n",
    "Finally, we write the processed data to a .npy file. This way, we can use it in the Spiking Neural Networks (SNN) model.\n",
    "\n",
    "The .npy file is a binary file that contains the processed data in a numpy array format. This format is easy to read and write, and it is compatible with the numpy library."
   ]
  },
  {
   "cell_type": "code",
   "execution_count": 81,
   "metadata": {},
   "outputs": [],
   "source": [
    "file_name = f\"{PATH_TO_FILE}seeg_csl.npy\"\n",
    "\n",
    "EXPORT_SEEG = True\n",
    "if EXPORT_SEEG:\n",
    "    np.save(file_name, ordered_recorded_data)   # Save the data to a numpy file (not stored in git due to size)"
   ]
  }
 ],
 "metadata": {
  "kernelspec": {
   "display_name": "Python 3 (ipykernel)",
   "language": "python",
   "name": "python3"
  },
  "language_info": {
   "codemirror_mode": {
    "name": "ipython",
    "version": 3
   },
   "file_extension": ".py",
   "mimetype": "text/x-python",
   "name": "python",
   "nbconvert_exporter": "python",
   "pygments_lexer": "ipython3",
   "version": "3.10.12"
  }
 },
 "nbformat": 4,
 "nbformat_minor": 2
}
