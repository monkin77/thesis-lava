{
 "cells": [
  {
   "cell_type": "markdown",
   "metadata": {},
   "source": [
    "# Build subset of SEEG recording containing relevant HFOs and some background activity\n"
   ]
  },
  {
   "cell_type": "markdown",
   "metadata": {},
   "source": [
    "### Check WD (change if necessary) and file loading"
   ]
  },
  {
   "cell_type": "code",
   "execution_count": 10,
   "metadata": {},
   "outputs": [
    {
     "name": "stdout",
     "output_type": "stream",
     "text": [
      "/home/monkin/Desktop/feup/thesis/thesis-lava/src/seeg_data/synthetic\n"
     ]
    }
   ],
   "source": [
    "# Show current directory\n",
    "import os\n",
    "curr_dir = os.getcwd()\n",
    "print(curr_dir)\n",
    "\n",
    "# Check if the current WD is the file location\n",
    "if \"/src/seeg_data/synthetic\" not in os.getcwd():\n",
    "    # Set working directory to this file location\n",
    "    file_location = f\"{os.getcwd()}/thesis-lava/src/seeg_data/synthetic\"\n",
    "    print(\"File Location: \", file_location)\n",
    "\n",
    "    # Change the current working Directory\n",
    "    os.chdir(file_location)\n",
    "\n",
    "    # New Working Directory\n",
    "    print(\"New Working Directory: \", os.getcwd())\n",
    "\n",
    "PATH_TO_FILE = '' # 'src/hfo/'  # This is needed if the WD is not the same as the file location"
   ]
  },
  {
   "cell_type": "code",
   "execution_count": 11,
   "metadata": {},
   "outputs": [
    {
     "name": "stdout",
     "output_type": "stream",
     "text": [
      "Data shape:  (245760, 960)\n",
      "First time steps:  [[ 3.2352024e-01 -1.3235390e+00 -5.9668809e-01 ... -1.9608999e+00\n",
      "  -1.9769822e-01 -1.2078454e+00]\n",
      " [-6.9759099e-04 -3.5122361e+00 -4.8766956e-01 ... -5.8757830e+00\n",
      "  -7.4400985e-01 -5.1096064e-01]\n",
      " [ 1.9026639e+00 -5.6726017e+00  9.8274893e-01 ... -6.6182971e+00\n",
      "  -8.3053267e-01 -8.1596655e-01]\n",
      " ...\n",
      " [ 3.2172418e+00 -8.4650068e+00  1.5216088e+00 ... -4.1081657e+00\n",
      "   2.0085973e-01 -4.7539668e+00]\n",
      " [ 1.7725919e+00 -9.4744024e+00  1.6776791e+00 ... -4.1469693e+00\n",
      "   1.6412770e+00 -3.4672713e+00]\n",
      " [ 7.8109097e-01 -1.0500931e+01  2.3717029e+00 ... -5.1762242e+00\n",
      "   1.0715837e+00 -4.4489903e+00]]\n"
     ]
    }
   ],
   "source": [
    "import numpy as np\n",
    "import math\n",
    "from utils.io import preview_np_array\n",
    "\n",
    "seeg_file_name = \"seeg_synthetic_humans.npy\"\n",
    "recorded_data = np.load(f\"{PATH_TO_FILE}{seeg_file_name}\")\n",
    "\n",
    "print(\"Data shape: \", recorded_data.shape)\n",
    "print(\"First time steps: \", recorded_data[:10])"
   ]
  },
  {
   "cell_type": "markdown",
   "metadata": {},
   "source": [
    "### Extract a single SEEG channel from the SEEG data"
   ]
  },
  {
   "cell_type": "code",
   "execution_count": 12,
   "metadata": {},
   "outputs": [
    {
     "name": "stdout",
     "output_type": "stream",
     "text": [
      "seeg_ch_np shape: (245760,). \n",
      "Preview: [0.6430672  0.21398619 1.2640097  ... 8.063279   8.95947    7.402966  ]\n"
     ]
    }
   ],
   "source": [
    "selected_ch_idx = 94    # Index of the channel used to create the subset\n",
    "seeg_ch = list(map(lambda all_channels: all_channels[selected_ch_idx], recorded_data))  # Selecting the first channel\n",
    "seeg_ch_np = np.array(seeg_ch)\n",
    "\n",
    "print(f\"seeg_ch_np shape: {seeg_ch_np.shape}. \\nPreview: {seeg_ch_np}\")"
   ]
  },
  {
   "cell_type": "markdown",
   "metadata": {},
   "source": [
    "## Define Global Parameters of the Experiment"
   ]
  },
  {
   "cell_type": "code",
   "execution_count": 14,
   "metadata": {},
   "outputs": [],
   "source": [
    "sampling_rate = 2048    # 2048 Hz\n",
    "input_duration = 120 * (10**3)    # 120000 ms or 120 seconds\n",
    "num_samples = recorded_data.shape[0]    # 2048 * 120 = 245760\n",
    "num_channels = recorded_data.shape[1]   # 960\n",
    "\n",
    "x_step = 1/sampling_rate * (10**3)  # 0.48828125 ms"
   ]
  },
  {
   "cell_type": "markdown",
   "metadata": {},
   "source": [
    "## Import the Markers (Annotated Events) \n",
    "The markers are stored in a numpy array of shape (num_channels, events):\n",
    "- Each row represents the events of a channel\n",
    "- Each event is composed of the following 3 fields (Label, Position, Shape)"
   ]
  },
  {
   "cell_type": "code",
   "execution_count": 13,
   "metadata": {},
   "outputs": [
    {
     "name": "stdout",
     "output_type": "stream",
     "text": [
      "Markers shape:  (960, 42)\n",
      "First time steps:  [[('Spike+Ripple+Fast-Ripple',   1000.  , 0.)\n",
      "  ('Spike+Ripple+Fast-Ripple',   4537.6 , 0.)\n",
      "  ('Ripple+Fast-Ripple',   7610.84, 0.) ('Spike',  10261.2 , 0.)\n",
      "  ('Fast-Ripple',  13411.6 , 0.) ('Spike+Ripple',  15644.  , 0.)\n",
      "  ('Ripple',  18607.9 , 0.) ('Fast-Ripple',  21300.8 , 0.)\n",
      "  ('Fast-Ripple',  24086.9 , 0.)\n",
      "  ('Spike+Ripple+Fast-Ripple',  26598.1 , 0.)\n",
      "  ('Spike+Fast-Ripple',  30529.8 , 0.) ('Ripple',  33387.7 , 0.)\n",
      "  ('Spike+Fast-Ripple',  36145.5 , 0.) ('Spike',  38744.1 , 0.)\n",
      "  ('Spike+Fast-Ripple',  41876.  , 0.)\n",
      "  ('Ripple+Fast-Ripple',  44531.7 , 0.) ('Spike+Ripple',  47699.7 , 0.)\n",
      "  ('Spike+Ripple+Fast-Ripple',  50303.2 , 0.) ('Ripple',  53045.9 , 0.)\n",
      "  ('Ripple+Fast-Ripple',  56416.  , 0.)\n",
      "  ('Spike+Ripple+Fast-Ripple',  58838.4 , 0.)\n",
      "  ('Ripple+Fast-Ripple',  62578.6 , 0.) ('Fast-Ripple',  65430.2 , 0.)\n",
      "  ('Spike',  68184.1 , 0.) ('Spike+Ripple',  70753.9 , 0.)\n",
      "  ('Ripple+Fast-Ripple',  73788.6 , 0.) ('Spike',  76749.  , 0.)\n",
      "  ('Fast-Ripple',  79802.7 , 0.) ('Spike+Ripple',  82200.7 , 0.)\n",
      "  ('Spike',  85205.1 , 0.) ('Spike+Fast-Ripple',  88308.6 , 0.)\n",
      "  ('Spike',  91154.3 , 0.) ('Ripple',  93484.4 , 0.)\n",
      "  ('Spike+Ripple+Fast-Ripple',  96478.  , 0.)\n",
      "  ('Spike+Fast-Ripple',  99524.4 , 0.) ('Ripple', 101862.  , 0.)\n",
      "  ('Spike+Ripple', 104127.  , 0.) ('Spike+Fast-Ripple', 106672.  , 0.)\n",
      "  ('Ripple+Fast-Ripple', 109322.  , 0.) ('Ripple', 113024.  , 0.)\n",
      "  ('Fast-Ripple', 116549.  , 0.) ('Spike+Ripple', 119000.  , 0.)]\n",
      " [('Spike+Fast-Ripple',   1000.  , 0.)\n",
      "  ('Spike+Ripple+Fast-Ripple',   3849.12, 0.)\n",
      "  ('Ripple+Fast-Ripple',   7010.25, 0.) ('Spike',   9893.55, 0.)\n",
      "  ('Spike+Ripple',  12840.8 , 0.)\n",
      "  ('Spike+Ripple+Fast-Ripple',  15537.6 , 0.)\n",
      "  ('Spike+Ripple+Fast-Ripple',  17798.3 , 0.)\n",
      "  ('Fast-Ripple',  21310.1 , 0.) ('Spike+Fast-Ripple',  24303.2 , 0.)\n",
      "  ('Spike+Ripple',  26703.1 , 0.) ('Spike+Ripple',  29163.1 , 0.)\n",
      "  ('Ripple',  32477.1 , 0.) ('Ripple',  35353.5 , 0.)\n",
      "  ('Spike+Ripple',  38091.3 , 0.) ('Ripple',  40928.7 , 0.)\n",
      "  ('Spike+Fast-Ripple',  43745.6 , 0.)\n",
      "  ('Spike+Ripple+Fast-Ripple',  46724.6 , 0.)\n",
      "  ('Spike+Fast-Ripple',  49544.4 , 0.)\n",
      "  ('Ripple+Fast-Ripple',  52280.8 , 0.) ('Ripple',  55122.1 , 0.)\n",
      "  ('Spike',  58428.7 , 0.) ('Fast-Ripple',  61564.9 , 0.)\n",
      "  ('Ripple+Fast-Ripple',  64350.1 , 0.)\n",
      "  ('Spike+Ripple+Fast-Ripple',  67462.4 , 0.)\n",
      "  ('Ripple+Fast-Ripple',  70412.6 , 0.)\n",
      "  ('Ripple+Fast-Ripple',  73817.9 , 0.) ('Spike',  77059.6 , 0.)\n",
      "  ('Spike+Ripple+Fast-Ripple',  80096.7 , 0.) ('Ripple',  82790.5 , 0.)\n",
      "  ('Spike+Ripple',  86759.3 , 0.) ('Spike+Fast-Ripple',  89232.4 , 0.)\n",
      "  ('Ripple',  91572.8 , 0.) ('Spike',  94439.5 , 0.)\n",
      "  ('Spike+Ripple',  98288.1 , 0.) ('Ripple+Fast-Ripple', 101109.  , 0.)\n",
      "  ('Fast-Ripple', 103939.  , 0.) ('Fast-Ripple', 106747.  , 0.)\n",
      "  ('Spike', 109180.  , 0.) ('Spike', 112373.  , 0.)\n",
      "  ('Fast-Ripple', 114176.  , 0.) ('Spike+Fast-Ripple', 116672.  , 0.)\n",
      "  ('Fast-Ripple', 119000.  , 0.)]\n",
      " [('Fast-Ripple',   1000.  , 0.)\n",
      "  ('Spike+Ripple+Fast-Ripple',   4357.42, 0.)\n",
      "  ('Fast-Ripple',   7062.01, 0.) ('Spike+Ripple',  10354.  , 0.)\n",
      "  ('Spike+Ripple',  12860.4 , 0.) ('Ripple',  16188.  , 0.)\n",
      "  ('Spike+Ripple+Fast-Ripple',  19890.1 , 0.) ('Spike',  23101.6 , 0.)\n",
      "  ('Spike+Fast-Ripple',  25157.2 , 0.)\n",
      "  ('Spike+Fast-Ripple',  27310.1 , 0.) ('Ripple',  30074.7 , 0.)\n",
      "  ('Spike+Ripple',  33075.7 , 0.) ('Ripple+Fast-Ripple',  37325.2 , 0.)\n",
      "  ('Spike+Ripple+Fast-Ripple',  39814.5 , 0.) ('Ripple',  41879.4 , 0.)\n",
      "  ('Spike',  45083.5 , 0.) ('Ripple',  49012.7 , 0.)\n",
      "  ('Spike+Ripple+Fast-Ripple',  52209.5 , 0.)\n",
      "  ('Fast-Ripple',  55219.2 , 0.) ('Ripple+Fast-Ripple',  57720.7 , 0.)\n",
      "  ('Spike+Ripple',  60536.1 , 0.)\n",
      "  ('Spike+Ripple+Fast-Ripple',  63434.6 , 0.) ('Spike',  66771.5 , 0.)\n",
      "  ('Spike+Fast-Ripple',  69609.4 , 0.)\n",
      "  ('Spike+Fast-Ripple',  72251.  , 0.) ('Ripple',  75393.6 , 0.)\n",
      "  ('Spike',  77523.9 , 0.) ('Ripple',  80550.3 , 0.)\n",
      "  ('Ripple+Fast-Ripple',  84069.3 , 0.) ('Fast-Ripple',  86533.7 , 0.)\n",
      "  ('Spike+Fast-Ripple',  89963.4 , 0.) ('Fast-Ripple',  93359.4 , 0.)\n",
      "  ('Fast-Ripple',  95230.5 , 0.) ('Spike+Ripple',  97459.5 , 0.)\n",
      "  ('Spike', 100138.  , 0.) ('Ripple+Fast-Ripple', 102263.  , 0.)\n",
      "  ('Spike+Ripple+Fast-Ripple', 105350.  , 0.)\n",
      "  ('Spike+Ripple', 108121.  , 0.) ('Ripple+Fast-Ripple', 110854.  , 0.)\n",
      "  ('Spike+Fast-Ripple', 113759.  , 0.)\n",
      "  ('Ripple+Fast-Ripple', 116295.  , 0.) ('Spike', 119000.  , 0.)]\n",
      " [('Fast-Ripple',   1000.  , 0.) ('Ripple',   5092.77, 0.)\n",
      "  ('Spike+Fast-Ripple',   7318.85, 0.)\n",
      "  ('Spike+Fast-Ripple',   9595.7 , 0.)\n",
      "  ('Ripple+Fast-Ripple',  12451.2 , 0.)\n",
      "  ('Spike+Fast-Ripple',  14609.4 , 0.)\n",
      "  ('Spike+Ripple+Fast-Ripple',  17176.3 , 0.)\n",
      "  ('Ripple+Fast-Ripple',  20439.5 , 0.) ('Ripple',  23130.4 , 0.)\n",
      "  ('Spike+Ripple',  25369.6 , 0.) ('Ripple',  28132.8 , 0.)\n",
      "  ('Ripple+Fast-Ripple',  31882.3 , 0.) ('Spike+Ripple',  35011.7 , 0.)\n",
      "  ('Spike+Ripple',  38243.2 , 0.) ('Spike',  41433.1 , 0.)\n",
      "  ('Fast-Ripple',  44473.1 , 0.) ('Ripple',  46984.4 , 0.)\n",
      "  ('Fast-Ripple',  49504.4 , 0.) ('Ripple+Fast-Ripple',  53097.7 , 0.)\n",
      "  ('Ripple+Fast-Ripple',  56185.5 , 0.)\n",
      "  ('Spike+Fast-Ripple',  58714.4 , 0.) ('Ripple',  61378.9 , 0.)\n",
      "  ('Spike+Ripple',  64099.6 , 0.) ('Ripple+Fast-Ripple',  66736.3 , 0.)\n",
      "  ('Spike',  70240.2 , 0.) ('Ripple',  73241.2 , 0.)\n",
      "  ('Spike',  76167.  , 0.) ('Fast-Ripple',  78410.6 , 0.)\n",
      "  ('Spike+Fast-Ripple',  80942.9 , 0.)\n",
      "  ('Spike+Ripple+Fast-Ripple',  83665.5 , 0.) ('Spike',  86739.3 , 0.)\n",
      "  ('Fast-Ripple',  89409.2 , 0.)\n",
      "  ('Spike+Ripple+Fast-Ripple',  93123.5 , 0.)\n",
      "  ('Spike+Ripple',  95171.4 , 0.)\n",
      "  ('Spike+Ripple+Fast-Ripple',  98305.2 , 0.)\n",
      "  ('Spike+Ripple', 101041.  , 0.) ('Fast-Ripple', 103388.  , 0.)\n",
      "  ('Spike+Ripple+Fast-Ripple', 106038.  , 0.)\n",
      "  ('Spike+Fast-Ripple', 109606.  , 0.) ('Spike', 113252.  , 0.)\n",
      "  ('Spike+Ripple+Fast-Ripple', 116529.  , 0.) ('Spike', 119000.  , 0.)]\n",
      " [('Spike+Ripple',   1000.  , 0.) ('Spike+Fast-Ripple',   3064.45, 0.)\n",
      "  ('Ripple',   6027.83, 0.) ('Spike+Fast-Ripple',   8658.2 , 0.)\n",
      "  ('Ripple+Fast-Ripple',  12106.4 , 0.) ('Fast-Ripple',  14305.2 , 0.)\n",
      "  ('Fast-Ripple',  17662.6 , 0.) ('Spike+Ripple',  21267.6 , 0.)\n",
      "  ('Spike',  23998.5 , 0.) ('Spike+Ripple+Fast-Ripple',  26069.8 , 0.)\n",
      "  ('Spike+Ripple+Fast-Ripple',  29381.3 , 0.) ('Spike',  32615.7 , 0.)\n",
      "  ('Ripple',  35105.  , 0.) ('Fast-Ripple',  37521.  , 0.)\n",
      "  ('Ripple+Fast-Ripple',  40814.5 , 0.) ('Ripple',  43641.6 , 0.)\n",
      "  ('Spike+Ripple+Fast-Ripple',  46275.4 , 0.)\n",
      "  ('Spike+Ripple',  48763.7 , 0.) ('Spike+Fast-Ripple',  51656.7 , 0.)\n",
      "  ('Spike+Ripple+Fast-Ripple',  54807.6 , 0.)\n",
      "  ('Fast-Ripple',  57375.5 , 0.) ('Spike+Fast-Ripple',  59815.4 , 0.)\n",
      "  ('Spike+Fast-Ripple',  62677.2 , 0.)\n",
      "  ('Ripple+Fast-Ripple',  66109.4 , 0.) ('Spike',  69555.7 , 0.)\n",
      "  ('Ripple',  72959.5 , 0.) ('Spike+Ripple',  75730.  , 0.)\n",
      "  ('Ripple',  78694.8 , 0.) ('Fast-Ripple',  81899.9 , 0.)\n",
      "  ('Fast-Ripple',  84894.5 , 0.)\n",
      "  ('Spike+Ripple+Fast-Ripple',  87584.5 , 0.) ('Spike',  89555.2 , 0.)\n",
      "  ('Spike+Ripple+Fast-Ripple',  92365.7 , 0.)\n",
      "  ('Ripple+Fast-Ripple',  95023.4 , 0.)\n",
      "  ('Ripple+Fast-Ripple',  98278.8 , 0.) ('Spike', 101478.  , 0.)\n",
      "  ('Spike+Ripple', 104220.  , 0.) ('Spike+Ripple', 107146.  , 0.)\n",
      "  ('Spike+Fast-Ripple', 109986.  , 0.)\n",
      "  ('Ripple+Fast-Ripple', 112877.  , 0.) ('Ripple', 115691.  , 0.)\n",
      "  ('Spike', 119000.  , 0.)]\n",
      " [('Fast-Ripple',   1000.  , 0.) ('Ripple+Fast-Ripple',   3812.99, 0.)\n",
      "  ('Ripple',   6643.56, 0.) ('Ripple',   9703.13, 0.)\n",
      "  ('Fast-Ripple',  12194.8 , 0.) ('Spike',  15098.1 , 0.)\n",
      "  ('Spike+Fast-Ripple',  17557.6 , 0.) ('Fast-Ripple',  20716.3 , 0.)\n",
      "  ('Spike+Fast-Ripple',  24186.5 , 0.)\n",
      "  ('Spike+Ripple+Fast-Ripple',  27138.2 , 0.) ('Spike',  29897.9 , 0.)\n",
      "  ('Spike+Fast-Ripple',  32565.9 , 0.)\n",
      "  ('Ripple+Fast-Ripple',  34736.8 , 0.)\n",
      "  ('Ripple+Fast-Ripple',  38332.5 , 0.) ('Spike+Ripple',  41036.6 , 0.)\n",
      "  ('Spike+Ripple',  44186.5 , 0.) ('Ripple+Fast-Ripple',  46985.8 , 0.)\n",
      "  ('Spike+Ripple',  49071.8 , 0.) ('Spike',  52250.  , 0.)\n",
      "  ('Ripple',  55004.9 , 0.) ('Spike',  58087.4 , 0.)\n",
      "  ('Spike+Ripple+Fast-Ripple',  61502.4 , 0.)\n",
      "  ('Spike+Ripple',  64346.2 , 0.)\n",
      "  ('Spike+Ripple+Fast-Ripple',  66982.9 , 0.)\n",
      "  ('Ripple+Fast-Ripple',  69884.8 , 0.) ('Spike',  72438.5 , 0.)\n",
      "  ('Fast-Ripple',  75745.1 , 0.) ('Fast-Ripple',  78004.4 , 0.)\n",
      "  ('Spike+Ripple',  80292.  , 0.)\n",
      "  ('Spike+Ripple+Fast-Ripple',  83281.3 , 0.) ('Ripple',  86146.5 , 0.)\n",
      "  ('Ripple',  88517.1 , 0.) ('Spike+Ripple',  91434.1 , 0.)\n",
      "  ('Spike+Fast-Ripple',  94384.3 , 0.)\n",
      "  ('Spike+Ripple+Fast-Ripple',  96798.3 , 0.)\n",
      "  ('Spike+Fast-Ripple', 100239.  , 0.)\n",
      "  ('Ripple+Fast-Ripple', 103870.  , 0.) ('Fast-Ripple', 106941.  , 0.)\n",
      "  ('Spike+Ripple+Fast-Ripple', 109890.  , 0.) ('Ripple', 112565.  , 0.)\n",
      "  ('Spike+Fast-Ripple', 116043.  , 0.) ('Spike', 119000.  , 0.)]\n",
      " [('Spike+Ripple',   1000.  , 0.) ('Spike+Fast-Ripple',   3947.75, 0.)\n",
      "  ('Ripple',   6848.63, 0.) ('Ripple+Fast-Ripple',   9342.77, 0.)\n",
      "  ('Spike',  12378.4 , 0.) ('Ripple+Fast-Ripple',  15358.9 , 0.)\n",
      "  ('Spike+Ripple',  18624.  , 0.) ('Spike+Fast-Ripple',  21766.6 , 0.)\n",
      "  ('Spike',  24684.6 , 0.) ('Fast-Ripple',  27981.4 , 0.)\n",
      "  ('Fast-Ripple',  30698.2 , 0.) ('Spike',  32988.3 , 0.)\n",
      "  ('Spike+Ripple',  35934.1 , 0.) ('Spike+Fast-Ripple',  38634.3 , 0.)\n",
      "  ('Ripple+Fast-Ripple',  42008.3 , 0.) ('Spike+Ripple',  45172.9 , 0.)\n",
      "  ('Ripple+Fast-Ripple',  47933.1 , 0.)\n",
      "  ('Spike+Ripple+Fast-Ripple',  50622.1 , 0.) ('Ripple',  53227.5 , 0.)\n",
      "  ('Ripple',  55601.1 , 0.) ('Spike+Ripple+Fast-Ripple',  58145.5 , 0.)\n",
      "  ('Fast-Ripple',  61350.6 , 0.) ('Fast-Ripple',  64059.6 , 0.)\n",
      "  ('Spike+Ripple+Fast-Ripple',  66864.3 , 0.)\n",
      "  ('Spike+Ripple+Fast-Ripple',  69667.5 , 0.)\n",
      "  ('Spike+Ripple',  72280.8 , 0.) ('Spike+Ripple',  74982.4 , 0.)\n",
      "  ('Spike+Fast-Ripple',  77640.6 , 0.)\n",
      "  ('Spike+Fast-Ripple',  80725.6 , 0.)\n",
      "  ('Spike+Ripple+Fast-Ripple',  84104.5 , 0.)\n",
      "  ('Fast-Ripple',  86585.4 , 0.) ('Spike',  89452.1 , 0.)\n",
      "  ('Ripple+Fast-Ripple',  92625.  , 0.) ('Fast-Ripple',  94686.  , 0.)\n",
      "  ('Spike',  97717.8 , 0.) ('Spike+Fast-Ripple', 100930.  , 0.)\n",
      "  ('Spike', 103618.  , 0.) ('Ripple', 106630.  , 0.)\n",
      "  ('Ripple', 108965.  , 0.) ('Ripple', 112506.  , 0.)\n",
      "  ('Spike+Ripple+Fast-Ripple', 116000.  , 0.)\n",
      "  ('Ripple+Fast-Ripple', 119000.  , 0.)]\n",
      " [('Spike+Fast-Ripple',   1000.  , 0.)\n",
      "  ('Spike+Ripple+Fast-Ripple',   4099.12, 0.)\n",
      "  ('Spike+Fast-Ripple',   7249.51, 0.) ('Spike',   9766.11, 0.)\n",
      "  ('Spike+Ripple+Fast-Ripple',  13030.3 , 0.)\n",
      "  ('Spike+Ripple+Fast-Ripple',  16438.  , 0.)\n",
      "  ('Spike+Ripple+Fast-Ripple',  19992.2 , 0.)\n",
      "  ('Spike+Ripple',  22127.  , 0.) ('Spike+Fast-Ripple',  24682.1 , 0.)\n",
      "  ('Fast-Ripple',  26986.3 , 0.) ('Spike+Ripple',  30152.3 , 0.)\n",
      "  ('Fast-Ripple',  32986.8 , 0.) ('Spike+Ripple',  35772.9 , 0.)\n",
      "  ('Spike',  38679.2 , 0.) ('Ripple',  41064.5 , 0.)\n",
      "  ('Fast-Ripple',  43746.6 , 0.) ('Spike+Ripple',  46012.2 , 0.)\n",
      "  ('Ripple',  48642.6 , 0.) ('Spike+Ripple',  51367.2 , 0.)\n",
      "  ('Fast-Ripple',  54580.1 , 0.) ('Spike',  58276.9 , 0.)\n",
      "  ('Spike',  61289.6 , 0.) ('Spike+Fast-Ripple',  63979.  , 0.)\n",
      "  ('Spike',  67093.3 , 0.) ('Ripple+Fast-Ripple',  70689.5 , 0.)\n",
      "  ('Spike',  73170.4 , 0.) ('Ripple',  76267.1 , 0.)\n",
      "  ('Ripple+Fast-Ripple',  79483.4 , 0.) ('Ripple',  82485.8 , 0.)\n",
      "  ('Spike+Ripple+Fast-Ripple',  84944.8 , 0.)\n",
      "  ('Spike+Fast-Ripple',  87336.4 , 0.) ('Fast-Ripple',  90399.9 , 0.)\n",
      "  ('Spike+Ripple+Fast-Ripple',  92600.1 , 0.)\n",
      "  ('Ripple+Fast-Ripple',  96038.6 , 0.)\n",
      "  ('Ripple+Fast-Ripple',  98303.7 , 0.)\n",
      "  ('Ripple+Fast-Ripple', 101745.  , 0.) ('Ripple', 104444.  , 0.)\n",
      "  ('Spike+Ripple', 107053.  , 0.) ('Fast-Ripple', 109825.  , 0.)\n",
      "  ('Ripple+Fast-Ripple', 112534.  , 0.) ('Ripple', 115200.  , 0.)\n",
      "  ('Spike+Fast-Ripple', 119000.  , 0.)]\n",
      " [('Ripple+Fast-Ripple',   1000.  , 0.) ('Spike+Ripple',   3555.66, 0.)\n",
      "  ('Fast-Ripple',   5852.54, 0.) ('Fast-Ripple',   9145.51, 0.)\n",
      "  ('Spike+Ripple+Fast-Ripple',  11714.4 , 0.)\n",
      "  ('Fast-Ripple',  14260.3 , 0.) ('Spike+Fast-Ripple',  16332.5 , 0.)\n",
      "  ('Ripple',  19316.9 , 0.) ('Fast-Ripple',  22032.2 , 0.)\n",
      "  ('Spike',  25527.3 , 0.) ('Ripple+Fast-Ripple',  29096.7 , 0.)\n",
      "  ('Spike+Ripple+Fast-Ripple',  32144.  , 0.) ('Ripple',  35350.6 , 0.)\n",
      "  ('Spike',  37768.6 , 0.) ('Spike',  40810.5 , 0.)\n",
      "  ('Spike',  43454.6 , 0.) ('Spike',  46148.9 , 0.)\n",
      "  ('Ripple+Fast-Ripple',  49296.9 , 0.) ('Fast-Ripple',  52478.  , 0.)\n",
      "  ('Spike+Ripple+Fast-Ripple',  55692.4 , 0.)\n",
      "  ('Ripple+Fast-Ripple',  58959.  , 0.)\n",
      "  ('Spike+Ripple+Fast-Ripple',  61124.  , 0.)\n",
      "  ('Spike+Ripple',  63252.4 , 0.)\n",
      "  ('Spike+Ripple+Fast-Ripple',  66234.4 , 0.)\n",
      "  ('Ripple+Fast-Ripple',  70075.7 , 0.)\n",
      "  ('Spike+Fast-Ripple',  73000.  , 0.)\n",
      "  ('Spike+Fast-Ripple',  75776.4 , 0.)\n",
      "  ('Spike+Fast-Ripple',  79237.8 , 0.)\n",
      "  ('Ripple+Fast-Ripple',  82091.8 , 0.) ('Spike+Ripple',  84607.4 , 0.)\n",
      "  ('Spike',  87552.2 , 0.) ('Spike+Fast-Ripple',  89773.9 , 0.)\n",
      "  ('Spike+Ripple',  92686.5 , 0.) ('Spike+Ripple',  95402.3 , 0.)\n",
      "  ('Spike+Fast-Ripple',  99105.5 , 0.) ('Ripple', 102125.  , 0.)\n",
      "  ('Spike+Ripple', 105077.  , 0.) ('Ripple', 107729.  , 0.)\n",
      "  ('Ripple', 110340.  , 0.) ('Ripple', 113236.  , 0.)\n",
      "  ('Spike+Ripple+Fast-Ripple', 116402.  , 0.)\n",
      "  ('Fast-Ripple', 119000.  , 0.)]\n",
      " [('Spike+Fast-Ripple',   1000.  , 0.) ('Fast-Ripple',   3844.24, 0.)\n",
      "  ('Ripple+Fast-Ripple',   6911.13, 0.) ('Ripple',   9519.04, 0.)\n",
      "  ('Spike',  12259.8 , 0.) ('Spike+Fast-Ripple',  15189.  , 0.)\n",
      "  ('Spike+Ripple+Fast-Ripple',  18526.4 , 0.)\n",
      "  ('Spike+Ripple+Fast-Ripple',  21004.9 , 0.)\n",
      "  ('Ripple+Fast-Ripple',  24302.2 , 0.) ('Spike',  27242.2 , 0.)\n",
      "  ('Spike+Ripple',  29596.7 , 0.)\n",
      "  ('Spike+Ripple+Fast-Ripple',  31946.3 , 0.)\n",
      "  ('Fast-Ripple',  34291.5 , 0.) ('Ripple+Fast-Ripple',  37582.  , 0.)\n",
      "  ('Spike+Fast-Ripple',  40289.6 , 0.) ('Ripple',  43156.3 , 0.)\n",
      "  ('Fast-Ripple',  46783.7 , 0.) ('Ripple',  50758.3 , 0.)\n",
      "  ('Spike+Ripple+Fast-Ripple',  53685.5 , 0.)\n",
      "  ('Ripple+Fast-Ripple',  56055.2 , 0.) ('Spike+Ripple',  59023.4 , 0.)\n",
      "  ('Ripple',  61054.7 , 0.) ('Ripple',  64209.5 , 0.)\n",
      "  ('Spike+Fast-Ripple',  66384.3 , 0.) ('Ripple',  68632.8 , 0.)\n",
      "  ('Spike',  71851.6 , 0.) ('Spike',  74876.5 , 0.)\n",
      "  ('Spike+Ripple',  77247.1 , 0.) ('Fast-Ripple',  80233.4 , 0.)\n",
      "  ('Spike+Fast-Ripple',  82717.3 , 0.)\n",
      "  ('Spike+Fast-Ripple',  85167.5 , 0.) ('Spike+Ripple',  87874.5 , 0.)\n",
      "  ('Spike',  91449.7 , 0.) ('Fast-Ripple',  94450.2 , 0.)\n",
      "  ('Spike+Ripple+Fast-Ripple',  97982.4 , 0.)\n",
      "  ('Spike+Ripple', 101565.  , 0.)\n",
      "  ('Spike+Ripple+Fast-Ripple', 104568.  , 0.) ('Spike', 107079.  , 0.)\n",
      "  ('Ripple+Fast-Ripple', 110476.  , 0.) ('Fast-Ripple', 113016.  , 0.)\n",
      "  ('Ripple+Fast-Ripple', 115897.  , 0.) ('Spike+Ripple', 119000.  , 0.)]]\n"
     ]
    }
   ],
   "source": [
    "markers_seeg_file_name = \"seeg_synthetic_humans_markers.npy\"\n",
    "markers = np.load(f\"{PATH_TO_FILE}{markers_seeg_file_name}\")\n",
    "\n",
    "print(\"Markers shape: \", markers.shape)\n",
    "print(\"First time steps: \", markers[:10])"
   ]
  },
  {
   "cell_type": "markdown",
   "metadata": {},
   "source": [
    "### Get the markers with a certain SNR in a specific region\n",
    "Let's use the markers with a SNR=15dB in the first region"
   ]
  },
  {
   "cell_type": "code",
   "execution_count": 17,
   "metadata": {},
   "outputs": [
    {
     "name": "stdout",
     "output_type": "stream",
     "text": [
      "relevant_markers Shape: (30, 42).\n",
      "Preview: [[('Spike',   1000.  , 0.) ('Spike+Fast-Ripple',   4218.75, 0.)\n",
      "  ('Ripple+Fast-Ripple',   6966.8 , 0.)\n",
      "  ('Ripple+Fast-Ripple',   9793.95, 0.)\n",
      "  ('Spike+Ripple+Fast-Ripple',  13189.  , 0.) ...\n",
      "  ('Ripple+Fast-Ripple', 107859.  , 0.) ('Spike+Ripple', 111439.  , 0.)\n",
      "  ('Ripple', 114551.  , 0.) ('Spike+Ripple', 116517.  , 0.)\n",
      "  ('Spike+Ripple', 119000.  , 0.)]\n",
      " [('Spike+Ripple',   1000.  , 0.)\n",
      "  ('Spike+Ripple+Fast-Ripple',   3917.97, 0.)\n",
      "  ('Spike+Fast-Ripple',   6794.92, 0.) ('Fast-Ripple',   9094.73, 0.)\n",
      "  ('Fast-Ripple',  12348.1 , 0.) ... ('Spike+Fast-Ripple', 107697.  , 0.)\n",
      "  ('Fast-Ripple', 111079.  , 0.) ('Spike', 113382.  , 0.)\n",
      "  ('Ripple+Fast-Ripple', 116656.  , 0.) ('Spike+Ripple', 119000.  , 0.)]\n",
      " [('Fast-Ripple',   1000.  , 0.) ('Spike',   3655.76, 0.)\n",
      "  ('Spike',   7188.96, 0.) ('Spike',   9880.37, 0.)\n",
      "  ('Spike+Ripple',  13890.6 , 0.) ...\n",
      "  ('Spike+Fast-Ripple', 107924.  , 0.)\n",
      "  ('Spike+Ripple+Fast-Ripple', 110238.  , 0.)\n",
      "  ('Spike+Ripple+Fast-Ripple', 112797.  , 0.)\n",
      "  ('Fast-Ripple', 115363.  , 0.) ('Spike+Fast-Ripple', 119000.  , 0.)]\n",
      " [('Spike+Ripple+Fast-Ripple',   1000.  , 0.)\n",
      "  ('Spike+Fast-Ripple',   3454.59, 0.)\n",
      "  ('Ripple+Fast-Ripple',   6599.61, 0.) ('Fast-Ripple',   9182.62, 0.)\n",
      "  ('Spike+Ripple+Fast-Ripple',  12129.9 , 0.) ...\n",
      "  ('Ripple+Fast-Ripple', 108521.  , 0.)\n",
      "  ('Ripple+Fast-Ripple', 110662.  , 0.) ('Spike+Ripple', 113249.  , 0.)\n",
      "  ('Spike+Fast-Ripple', 116929.  , 0.) ('Ripple', 119000.  , 0.)]\n",
      " [('Ripple',   1000.  , 0.) ('Spike',   4412.11, 0.)\n",
      "  ('Ripple+Fast-Ripple',   6992.19, 0.)\n",
      "  ('Spike+Ripple+Fast-Ripple',   9307.13, 0.)\n",
      "  ('Spike+Ripple',  11564.  , 0.) ...\n",
      "  ('Spike+Ripple+Fast-Ripple', 108013.  , 0.)\n",
      "  ('Ripple+Fast-Ripple', 110644.  , 0.) ('Spike', 113402.  , 0.)\n",
      "  ('Fast-Ripple', 115506.  , 0.) ('Spike+Ripple', 119000.  , 0.)]\n",
      " ...\n",
      " [('Spike',   1000.  , 0.) ('Spike+Fast-Ripple',   4195.8 , 0.)\n",
      "  ('Spike',   8033.2 , 0.) ('Fast-Ripple',  11114.7 , 0.)\n",
      "  ('Ripple+Fast-Ripple',  14273.9 , 0.) ...\n",
      "  ('Spike+Ripple+Fast-Ripple', 107961.  , 0.) ('Ripple', 111138.  , 0.)\n",
      "  ('Spike+Fast-Ripple', 113772.  , 0.)\n",
      "  ('Ripple+Fast-Ripple', 116453.  , 0.)\n",
      "  ('Ripple+Fast-Ripple', 119000.  , 0.)]\n",
      " [('Spike',   1000.  , 0.) ('Ripple',   3381.84, 0.)\n",
      "  ('Fast-Ripple',   6243.65, 0.) ('Spike+Ripple',   8873.05, 0.)\n",
      "  ('Ripple+Fast-Ripple',  11957.  , 0.) ...\n",
      "  ('Fast-Ripple', 107895.  , 0.) ('Spike+Ripple', 110412.  , 0.)\n",
      "  ('Spike+Ripple+Fast-Ripple', 112735.  , 0.)\n",
      "  ('Spike+Fast-Ripple', 115777.  , 0.)\n",
      "  ('Spike+Fast-Ripple', 119000.  , 0.)]\n",
      " [('Ripple+Fast-Ripple',   1000.  , 0.) ('Ripple',   3543.46, 0.)\n",
      "  ('Ripple+Fast-Ripple',   6759.77, 0.)\n",
      "  ('Ripple+Fast-Ripple',   9539.55, 0.)\n",
      "  ('Spike+Fast-Ripple',  11367.7 , 0.) ...\n",
      "  ('Spike+Ripple', 106287.  , 0.) ('Ripple', 109383.  , 0.)\n",
      "  ('Fast-Ripple', 112950.  , 0.) ('Spike+Ripple', 115987.  , 0.)\n",
      "  ('Spike+Ripple', 119000.  , 0.)]\n",
      " [('Spike+Fast-Ripple',   1000.  , 0.) ('Fast-Ripple',   4774.41, 0.)\n",
      "  ('Ripple',   7656.74, 0.) ('Ripple',  11189.5 , 0.)\n",
      "  ('Fast-Ripple',  14050.8 , 0.) ...\n",
      "  ('Spike+Ripple+Fast-Ripple', 106867.  , 0.)\n",
      "  ('Spike+Fast-Ripple', 110114.  , 0.) ('Spike', 113143.  , 0.)\n",
      "  ('Ripple+Fast-Ripple', 116769.  , 0.) ('Ripple', 119000.  , 0.)]\n",
      " [('Spike+Ripple',   1000.  , 0.) ('Ripple',   4143.07, 0.)\n",
      "  ('Spike+Fast-Ripple',   6804.2 , 0.) ('Ripple',   9793.46, 0.)\n",
      "  ('Spike+Fast-Ripple',  12680.7 , 0.) ... ('Ripple', 107164.  , 0.)\n",
      "  ('Fast-Ripple', 109500.  , 0.) ('Ripple+Fast-Ripple', 112313.  , 0.)\n",
      "  ('Spike+Ripple+Fast-Ripple', 115019.  , 0.)\n",
      "  ('Fast-Ripple', 119000.  , 0.)]]\n"
     ]
    }
   ],
   "source": [
    "ch_start_idx = 90  # Start index of the region of interest\n",
    "ch_end_idx = ch_start_idx + 30 # End index of the region of interest \n",
    "\n",
    "relevant_markers = markers[ch_start_idx:ch_end_idx]\n",
    "preview_np_array(relevant_markers, \"relevant_markers\")"
   ]
  },
  {
   "cell_type": "markdown",
   "metadata": {},
   "source": [
    "### Build a subset of the SEEG recording joining data from the channels selected above that contain relevant HFOs"
   ]
  },
  {
   "cell_type": "code",
   "execution_count": 20,
   "metadata": {},
   "outputs": [
    {
     "name": "stdout",
     "output_type": "stream",
     "text": [
      "Time values:  [0.48828125, 0.9765625, 1.46484375, 1.953125, 2.44140625, 2.9296875, 3.41796875, 3.90625, 4.39453125, 4.8828125]\n"
     ]
    }
   ],
   "source": [
    "# Build the time_step values of the signal\n",
    "time_vals = [val for val in np.arange(x_step, input_duration + x_step, x_step)]\n",
    "print(\"Time values: \", time_vals[:10])"
   ]
  },
  {
   "cell_type": "code",
   "execution_count": 22,
   "metadata": {},
   "outputs": [
    {
     "name": "stdout",
     "output_type": "stream",
     "text": [
      "curr_marker_idx Shape: (30,).\n",
      "Preview: [0 0 0 0 0 ... 0 0 0 0 0]\n"
     ]
    }
   ],
   "source": [
    "final_signal = np.empty(shape=(num_samples))    # Initialize the final signal\n",
    "\n",
    "# Variable holding the current marker idx for each channel\n",
    "curr_marker_idx = np.zeros(shape=(relevant_markers.shape[0]), dtype=int)\n",
    "preview_np_array(curr_marker_idx, \"curr_marker_idx\")"
   ]
  },
  {
   "cell_type": "markdown",
   "metadata": {},
   "source": [
    "## Set the lenght of each segment to be extracted from a channel\n",
    "Since we want to join the data from several channels in a single subset, we need to set the length of the segments to be extracted from each channel."
   ]
  },
  {
   "cell_type": "code",
   "execution_count": null,
   "metadata": {},
   "outputs": [],
   "source": [
    "segment_length = 500    # 500 ms segments. Every 500ms, there will be a relevant event (Ripple, Fast Ripple, or both)"
   ]
  },
  {
   "cell_type": "code",
   "execution_count": null,
   "metadata": {},
   "outputs": [],
   "source": [
    "for curr_idx in range(num_samples):\n",
    "    curr_time_step = time_vals[curr_idx]"
   ]
  },
  {
   "cell_type": "markdown",
   "metadata": {},
   "source": [
    "---"
   ]
  },
  {
   "cell_type": "markdown",
   "metadata": {},
   "source": [
    "## Visualize the Subset of the SEEG Data"
   ]
  },
  {
   "cell_type": "code",
   "execution_count": 87,
   "metadata": {},
   "outputs": [],
   "source": [
    "# Interactive Plot for the HFO detection\n",
    "# bokeh docs: https://docs.bokeh.org/en/2.4.1/docs/first_steps/first_steps_1.html\n",
    "\n",
    "from utils.line_plot import create_fig  # Import the function to create the figure\n",
    "from bokeh.models import Range1d\n",
    "\n",
    "# Define the x and y values\n",
    "# Should the first input start at 0 or x_step?\n",
    "# TODO: is it okay to create a range with floats?\n",
    "x = [val for val in np.arange(x_step, input_duration + x_step, x_step)] \n",
    "\n",
    "# Create the y arrays for the voltage plot representing the voltage of each electrode\n",
    "v_yarrays = [ripple_band_seeg, fr_band_seeg]"
   ]
  },
  {
   "cell_type": "markdown",
   "metadata": {},
   "source": [
    "## Create the Plot"
   ]
  },
  {
   "cell_type": "code",
   "execution_count": 88,
   "metadata": {},
   "outputs": [],
   "source": [
    "# Create the plot\n",
    "# List of tuples containing the y values and the legend label\n",
    "hfo_y_arrays = [(ripple_band_seeg, \"Ripple Band\"), (fr_band_seeg, \"Fast Ripple Band\")]\n",
    "\n",
    "# Create the SEEG Voltage plot\n",
    "hfo_plot = create_fig(\n",
    "    title=\"SEEG Voltage dynamics of Filtered Ripple and Fast Ripple Bands\", \n",
    "    x_axis_label='time (ms)', \n",
    "    y_axis_label='Voltage (μV)',\n",
    "    x=x, \n",
    "    y_arrays=hfo_y_arrays, \n",
    "    sizing_mode=\"stretch_both\", \n",
    "    tools=\"pan, box_zoom, wheel_zoom, hover, undo, redo, zoom_in, zoom_out, reset, save\",\n",
    "    tooltips=\"Data point @x: @y\",\n",
    "    legend_location=\"top_right\",\n",
    "    legend_bg_fill_color=\"navy\",\n",
    "    legend_bg_fill_alpha=0.1,\n",
    "    # y_range=Range1d(-0.05, 1.05)\n",
    ")\n",
    "\n",
    "# If there are more than 30 channels, hide the legend\n",
    "if len(hfo_y_arrays) > 30:\n",
    "    # Hide the legend\n",
    "    hfo_plot.legend.visible = False"
   ]
  },
  {
   "cell_type": "markdown",
   "metadata": {},
   "source": [
    "## Add Box Annotations to the plot to identify the marked HFOs (ground truth)"
   ]
  },
  {
   "cell_type": "code",
   "execution_count": 89,
   "metadata": {},
   "outputs": [],
   "source": [
    "from bokeh.models import BoxAnnotation\n",
    "# from utils.line_plot import color_map\n",
    "\n",
    "show_markers = True    # Boolean to show the markers\n",
    "\n",
    "color_map = {                  \n",
    "    'Spike': 'red',\n",
    "    'Fast-Ripple': 'blue',\n",
    "    'Ripple': 'green',  \n",
    "    'Spike+Ripple': 'yellow',\n",
    "    'Spike+Fast-Ripple': 'pink',\n",
    "    'Ripple+Fast-Ripple': 'cyan',\n",
    "    'Spike+Ripple+Fast-Ripple': 'black'\n",
    "}\n",
    "\n",
    "confidence_range = 100          # TODO: Check this value. When the duration is missing (0), we consider the 200ms window around the marked position \n",
    "visited_markers = {}    # Avoid inserting multiple boxes for the same marker (only one of each label)\n",
    "use_visited = False     # Boolean controlling if we remove duplicate markers\n",
    "plot_instant = True     # Boolean to plot the markers as instant events or as boxes\n",
    "instant_width = 100 # 20       # Width of the instant event for visualization purposes\n",
    "\n",
    "channels_used = {selected_ch_idx}   # Set of channels to be used\n",
    "if show_markers:\n",
    "    for ch_idx in channels_used:\n",
    "        channel_markers = markers[ch_idx]\n",
    "        # print(\"channel_markers\", channel_markers)\n",
    "        for idx2, marker in enumerate(channel_markers):\n",
    "            # print(\"marker:\", marker)\n",
    "            \n",
    "            if use_visited:\n",
    "                # Check if the marker has already been visited and skip it if it has\n",
    "                if marker['position'] in visited_markers:\n",
    "                    visited_labels = visited_markers[marker['position']]    # Get the labels that already have an annotation for this position\n",
    "                    if marker['label'] in visited_labels:\n",
    "                        # print(\"Skipping marker\", marker['position'], marker['label'])\n",
    "                        continue    # Skip this marker\n",
    "                    else:\n",
    "                        visited_labels.append(marker['label'])  # Add the label to the visited labels\n",
    "                else:\n",
    "                    visited_markers[marker['position']] = [marker['label']] # Add the marker to the visited markers\n",
    "\n",
    "            # Add a box annotation for each marker\n",
    "            has_duration = marker['duration'] > 0\n",
    "            \n",
    "            confidence_constant = 0 if plot_instant or has_duration else confidence_range\n",
    "\n",
    "            left = marker['position'] - confidence_constant\n",
    "            right = marker['position'] + confidence_constant + instant_width\n",
    "            box_color = color_map[marker['label']]  # Choose a color according to the label\n",
    "            \n",
    "            # if left < min_t or right > max_t:\n",
    "            #     continue    # Skip this marker\n",
    "            \n",
    "\n",
    "            box = BoxAnnotation(left=left, right=right, fill_color=box_color, fill_alpha=0.35)\n",
    "            # print(\"Added marker for channel: \", ch_idx, \" at position: \", left)\n",
    "            hfo_plot.add_layout(box)"
   ]
  },
  {
   "cell_type": "markdown",
   "metadata": {},
   "source": [
    "## Show the Plot"
   ]
  },
  {
   "cell_type": "code",
   "execution_count": 90,
   "metadata": {},
   "outputs": [],
   "source": [
    "import bokeh.plotting as bplt\n",
    "\n",
    "showPlot = False\n",
    "if showPlot:\n",
    "    bplt.show(hfo_plot)"
   ]
  },
  {
   "cell_type": "markdown",
   "metadata": {},
   "source": [
    "## Export the plot to a file"
   ]
  },
  {
   "cell_type": "code",
   "execution_count": 91,
   "metadata": {},
   "outputs": [],
   "source": [
    "export = True\n",
    "\n",
    "if export:\n",
    "    file_path = f\"{PATH_TO_FILE}results/filtered_seeg_ch{selected_ch_idx}.html\"\n",
    "\n",
    "    # Customize the output file settings\n",
    "    bplt.output_file(filename=file_path, title=\"SEEG Data - Filtered Voltage dynamics across time\")\n",
    "\n",
    "    # Save the plot\n",
    "    bplt.save(hfo_plot)"
   ]
  }
 ],
 "metadata": {
  "kernelspec": {
   "display_name": "Python 3 (ipykernel)",
   "language": "python",
   "name": "python3"
  },
  "language_info": {
   "codemirror_mode": {
    "name": "ipython",
    "version": 3
   },
   "file_extension": ".py",
   "mimetype": "text/x-python",
   "name": "python",
   "nbconvert_exporter": "python",
   "pygments_lexer": "ipython3",
   "version": "3.10.12"
  }
 },
 "nbformat": 4,
 "nbformat_minor": 2
}
