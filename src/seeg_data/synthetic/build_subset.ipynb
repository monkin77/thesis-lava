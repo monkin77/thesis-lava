{
 "cells": [
  {
   "cell_type": "markdown",
   "metadata": {},
   "source": [
    "# Build subset of SEEG recording containing relevant HFOs and some background activity\n"
   ]
  },
  {
   "cell_type": "markdown",
   "metadata": {},
   "source": [
    "### Check WD (change if necessary) and file loading"
   ]
  },
  {
   "cell_type": "code",
   "execution_count": 103,
   "metadata": {},
   "outputs": [
    {
     "name": "stdout",
     "output_type": "stream",
     "text": [
      "/home/monkin/Desktop/feup/thesis/thesis-lava/src/seeg_data/synthetic\n"
     ]
    }
   ],
   "source": [
    "# Show current directory\n",
    "import os\n",
    "curr_dir = os.getcwd()\n",
    "print(curr_dir)\n",
    "\n",
    "# Check if the current WD is the file location\n",
    "if \"/src/seeg_data/synthetic\" not in os.getcwd():\n",
    "    # Set working directory to this file location\n",
    "    file_location = f\"{os.getcwd()}/thesis-lava/src/seeg_data/synthetic\"\n",
    "    print(\"File Location: \", file_location)\n",
    "\n",
    "    # Change the current working Directory\n",
    "    os.chdir(file_location)\n",
    "\n",
    "    # New Working Directory\n",
    "    print(\"New Working Directory: \", os.getcwd())\n",
    "\n",
    "PATH_TO_FILE = '' # 'src/hfo/'  # This is needed if the WD is not the same as the file location"
   ]
  },
  {
   "cell_type": "code",
   "execution_count": 104,
   "metadata": {},
   "outputs": [
    {
     "name": "stdout",
     "output_type": "stream",
     "text": [
      "Data shape:  (245760, 960)\n",
      "First time steps:  [[ 3.23520243e-01 -1.32353902e+00 -5.96688092e-01 -8.91667426e-01\n",
      "   1.75283265e+00 ...  1.24049798e-01  1.43669665e+00 -1.96089995e+00\n",
      "  -1.97698221e-01 -1.20784545e+00]\n",
      " [-6.97590993e-04 -3.51223612e+00 -4.87669557e-01 -1.26132798e+00\n",
      "   2.45160866e+00 ... -1.40494496e-01  2.09809756e+00 -5.87578297e+00\n",
      "  -7.44009852e-01 -5.10960639e-01]\n",
      " [ 1.90266395e+00 -5.67260170e+00  9.82748926e-01 -1.32037580e+00\n",
      "   2.60521674e+00 ... -8.93780053e-01  2.16126227e+00 -6.61829710e+00\n",
      "  -8.30532670e-01 -8.15966547e-01]\n",
      " [ 3.42821074e+00 -5.91751766e+00  2.36291528e+00 -2.17143798e+00\n",
      "   3.95203590e+00 ... -6.92936718e-01  1.80983675e+00 -6.31197834e+00\n",
      "  -1.50293064e+00 -2.36355257e+00]\n",
      " [ 4.44311810e+00 -5.09231329e+00  3.05757546e+00 -2.64964199e+00\n",
      "   5.75733852e+00 ...  2.84276128e-01  1.76603031e+00 -6.97854471e+00\n",
      "  -1.33813846e+00 -1.11216927e+00]\n",
      " [ 3.50692177e+00 -5.66193056e+00  1.01127577e+00 -2.33646107e+00\n",
      "   7.53711605e+00 ...  1.17622674e+00  2.63236046e+00 -7.44440556e+00\n",
      "  -4.79902402e-02 -1.84578097e+00]\n",
      " [ 3.44678426e+00 -7.24814081e+00  1.07757998e+00 -1.68523157e+00\n",
      "   7.79620981e+00 ...  2.07582164e+00  1.38686526e+00 -6.85093594e+00\n",
      "  -9.65073884e-01 -4.43701458e+00]\n",
      " [ 3.21724176e+00 -8.46500683e+00  1.52160883e+00 -2.74693775e+00\n",
      "   1.03688755e+01 ...  4.31409454e+00 -3.09706688e-01 -4.10816574e+00\n",
      "   2.00859725e-01 -4.75396681e+00]\n",
      " [ 1.77259195e+00 -9.47440243e+00  1.67767906e+00 -2.26859117e+00\n",
      "   1.33208914e+01 ...  4.61903381e+00 -1.41729319e+00 -4.14696932e+00\n",
      "   1.64127696e+00 -3.46727133e+00]\n",
      " [ 7.81090975e-01 -1.05009308e+01  2.37170291e+00 -2.26422238e+00\n",
      "   1.36338968e+01 ...  4.25370264e+00 -2.95855546e+00 -5.17622423e+00\n",
      "   1.07158375e+00 -4.44899035e+00]]\n"
     ]
    }
   ],
   "source": [
    "import numpy as np\n",
    "import math\n",
    "from utils.io import preview_np_array\n",
    "\n",
    "seeg_file_name = \"seeg_synthetic_humans.npy\"\n",
    "recorded_data = np.load(f\"{PATH_TO_FILE}{seeg_file_name}\")\n",
    "\n",
    "print(\"Data shape: \", recorded_data.shape)\n",
    "print(\"First time steps: \", recorded_data[:10])"
   ]
  },
  {
   "cell_type": "markdown",
   "metadata": {},
   "source": [
    "## Define Global Parameters of the Experiment"
   ]
  },
  {
   "cell_type": "code",
   "execution_count": 105,
   "metadata": {},
   "outputs": [],
   "source": [
    "sampling_rate = 2048    # 2048 Hz\n",
    "input_duration = 120 * (10**3)    # 120000 ms or 120 seconds\n",
    "num_samples = recorded_data.shape[0]    # 2048 * 120 = 245760\n",
    "num_channels = recorded_data.shape[1]   # 960\n",
    "\n",
    "x_step = 1/sampling_rate * (10**3)  # 0.48828125 ms"
   ]
  },
  {
   "cell_type": "markdown",
   "metadata": {},
   "source": [
    "## Define the Channels of Interest that will be used to extract the signal"
   ]
  },
  {
   "cell_type": "code",
   "execution_count": 106,
   "metadata": {},
   "outputs": [],
   "source": [
    "ch_start_idx = 90  # Start index of the region of interest\n",
    "ch_end_idx = ch_start_idx + 30 # End index of the region of interest "
   ]
  },
  {
   "cell_type": "markdown",
   "metadata": {},
   "source": [
    "### Extract the SEEG channels in the defined range from the SEEG data"
   ]
  },
  {
   "cell_type": "code",
   "execution_count": 107,
   "metadata": {},
   "outputs": [
    {
     "name": "stdout",
     "output_type": "stream",
     "text": [
      "SEEG Channels Shape: (245760, 30).\n",
      "Preview: [[ 3.2148191e-01  7.6039447e-03  4.7144434e-01  1.6629694e-01\n",
      "   6.4306718e-01 ... -1.0047178e+00 -2.3591769e+00 -9.1859162e-01\n",
      "  -1.1903234e+00 -1.0296663e+00]\n",
      " [-2.0508800e-02 -4.6258485e-01 -7.4022943e-01 -1.8455078e-01\n",
      "   2.1398619e-01 ... -1.3898176e+00 -3.7664881e+00 -1.3889902e+00\n",
      "  -5.1110125e-01 -1.5383426e+00]\n",
      " [-1.2178916e+00 -2.0358562e+00 -1.2876116e+00 -1.3673829e+00\n",
      "   1.2640097e+00 ... -2.6840944e+00 -4.0100474e+00 -1.9828362e+00\n",
      "  -1.4741321e+00 -1.6997232e+00]\n",
      " [-1.0280560e+00 -3.0880692e+00 -1.2848712e+00  2.0071094e-01\n",
      "   2.3219368e+00 ... -1.9042799e+00 -2.8593712e+00 -1.8951950e+00\n",
      "  -2.2079365e+00 -2.1716366e+00]\n",
      " [-1.6502820e+00 -2.6590590e+00 -2.6356335e+00 -1.8437275e-01\n",
      "   4.8591003e+00 ... -7.3706615e-01 -3.4916322e+00 -3.4061065e+00\n",
      "  -1.9112504e+00 -2.1673732e+00]\n",
      " ...\n",
      " [ 5.8455471e+01  5.3846050e+01 -2.0737498e+00 -3.2716221e-01\n",
      "   7.4935384e+00 ...  5.5184326e+01  6.2657150e+01 -5.0081539e+01\n",
      "  -1.8071165e+01 -1.0639250e+01]\n",
      " [ 5.8489109e+01  5.1760201e+01 -4.7800773e-01 -2.2473807e+00\n",
      "   8.8380213e+00 ...  5.4851608e+01  6.1470291e+01 -4.8648796e+01\n",
      "  -1.8093189e+01 -1.1409016e+01]\n",
      " [ 5.8212322e+01  5.2919380e+01  3.4035551e-03 -3.1951135e-01\n",
      "   8.0632792e+00 ...  5.6749435e+01  6.0162395e+01 -4.9130875e+01\n",
      "  -1.8731684e+01 -1.1790145e+01]\n",
      " [ 5.7006664e+01  5.2910263e+01  1.3382965e+00 -9.8228645e-01\n",
      "   8.9594698e+00 ...  5.7541996e+01  5.8091373e+01 -4.8520439e+01\n",
      "  -1.9335537e+01 -1.1269729e+01]\n",
      " [ 5.8805843e+01  5.3754505e+01  6.0538346e-01  7.1650964e-01\n",
      "   7.4029660e+00 ...  5.5387402e+01  5.9551704e+01 -4.7963863e+01\n",
      "  -1.9027611e+01 -1.0325829e+01]]\n"
     ]
    }
   ],
   "source": [
    "# Extract the seeg_channels in the range [ch_start_idx, ch_end_idx]\n",
    "relevant_seeg = recorded_data[:, ch_start_idx:ch_end_idx]\n",
    "\n",
    "preview_np_array(relevant_seeg, \"SEEG Channels\")"
   ]
  },
  {
   "cell_type": "markdown",
   "metadata": {},
   "source": [
    "## Import the Markers (Annotated Events) \n",
    "The markers are stored in a numpy array of shape (num_channels, events):\n",
    "- Each row represents the events of a channel\n",
    "- Each event is composed of the following 3 fields (Label, Position, Shape)"
   ]
  },
  {
   "cell_type": "code",
   "execution_count": 108,
   "metadata": {},
   "outputs": [
    {
     "name": "stdout",
     "output_type": "stream",
     "text": [
      "Markers shape:  (960, 42)\n",
      "First time steps:  [[('Spike+Ripple+Fast-Ripple',   1000.  , 0.)\n",
      "  ('Spike+Ripple+Fast-Ripple',   4537.6 , 0.)\n",
      "  ('Ripple+Fast-Ripple',   7610.84, 0.) ('Spike',  10261.2 , 0.)\n",
      "  ('Fast-Ripple',  13411.6 , 0.) ... ('Spike+Fast-Ripple', 106672.  , 0.)\n",
      "  ('Ripple+Fast-Ripple', 109322.  , 0.) ('Ripple', 113024.  , 0.)\n",
      "  ('Fast-Ripple', 116549.  , 0.) ('Spike+Ripple', 119000.  , 0.)]\n",
      " [('Spike+Fast-Ripple',   1000.  , 0.)\n",
      "  ('Spike+Ripple+Fast-Ripple',   3849.12, 0.)\n",
      "  ('Ripple+Fast-Ripple',   7010.25, 0.) ('Spike',   9893.55, 0.)\n",
      "  ('Spike+Ripple',  12840.8 , 0.) ... ('Spike', 109180.  , 0.)\n",
      "  ('Spike', 112373.  , 0.) ('Fast-Ripple', 114176.  , 0.)\n",
      "  ('Spike+Fast-Ripple', 116672.  , 0.) ('Fast-Ripple', 119000.  , 0.)]\n",
      " [('Fast-Ripple',   1000.  , 0.)\n",
      "  ('Spike+Ripple+Fast-Ripple',   4357.42, 0.)\n",
      "  ('Fast-Ripple',   7062.01, 0.) ('Spike+Ripple',  10354.  , 0.)\n",
      "  ('Spike+Ripple',  12860.4 , 0.) ... ('Spike+Ripple', 108121.  , 0.)\n",
      "  ('Ripple+Fast-Ripple', 110854.  , 0.)\n",
      "  ('Spike+Fast-Ripple', 113759.  , 0.)\n",
      "  ('Ripple+Fast-Ripple', 116295.  , 0.) ('Spike', 119000.  , 0.)]\n",
      " [('Fast-Ripple',   1000.  , 0.) ('Ripple',   5092.77, 0.)\n",
      "  ('Spike+Fast-Ripple',   7318.85, 0.)\n",
      "  ('Spike+Fast-Ripple',   9595.7 , 0.)\n",
      "  ('Ripple+Fast-Ripple',  12451.2 , 0.) ...\n",
      "  ('Spike+Ripple+Fast-Ripple', 106038.  , 0.)\n",
      "  ('Spike+Fast-Ripple', 109606.  , 0.) ('Spike', 113252.  , 0.)\n",
      "  ('Spike+Ripple+Fast-Ripple', 116529.  , 0.) ('Spike', 119000.  , 0.)]\n",
      " [('Spike+Ripple',   1000.  , 0.) ('Spike+Fast-Ripple',   3064.45, 0.)\n",
      "  ('Ripple',   6027.83, 0.) ('Spike+Fast-Ripple',   8658.2 , 0.)\n",
      "  ('Ripple+Fast-Ripple',  12106.4 , 0.) ...\n",
      "  ('Spike+Ripple', 107146.  , 0.) ('Spike+Fast-Ripple', 109986.  , 0.)\n",
      "  ('Ripple+Fast-Ripple', 112877.  , 0.) ('Ripple', 115691.  , 0.)\n",
      "  ('Spike', 119000.  , 0.)]\n",
      " [('Fast-Ripple',   1000.  , 0.) ('Ripple+Fast-Ripple',   3812.99, 0.)\n",
      "  ('Ripple',   6643.56, 0.) ('Ripple',   9703.13, 0.)\n",
      "  ('Fast-Ripple',  12194.8 , 0.) ... ('Fast-Ripple', 106941.  , 0.)\n",
      "  ('Spike+Ripple+Fast-Ripple', 109890.  , 0.) ('Ripple', 112565.  , 0.)\n",
      "  ('Spike+Fast-Ripple', 116043.  , 0.) ('Spike', 119000.  , 0.)]\n",
      " [('Spike+Ripple',   1000.  , 0.) ('Spike+Fast-Ripple',   3947.75, 0.)\n",
      "  ('Ripple',   6848.63, 0.) ('Ripple+Fast-Ripple',   9342.77, 0.)\n",
      "  ('Spike',  12378.4 , 0.) ... ('Ripple', 106630.  , 0.)\n",
      "  ('Ripple', 108965.  , 0.) ('Ripple', 112506.  , 0.)\n",
      "  ('Spike+Ripple+Fast-Ripple', 116000.  , 0.)\n",
      "  ('Ripple+Fast-Ripple', 119000.  , 0.)]\n",
      " [('Spike+Fast-Ripple',   1000.  , 0.)\n",
      "  ('Spike+Ripple+Fast-Ripple',   4099.12, 0.)\n",
      "  ('Spike+Fast-Ripple',   7249.51, 0.) ('Spike',   9766.11, 0.)\n",
      "  ('Spike+Ripple+Fast-Ripple',  13030.3 , 0.) ...\n",
      "  ('Spike+Ripple', 107053.  , 0.) ('Fast-Ripple', 109825.  , 0.)\n",
      "  ('Ripple+Fast-Ripple', 112534.  , 0.) ('Ripple', 115200.  , 0.)\n",
      "  ('Spike+Fast-Ripple', 119000.  , 0.)]\n",
      " [('Ripple+Fast-Ripple',   1000.  , 0.) ('Spike+Ripple',   3555.66, 0.)\n",
      "  ('Fast-Ripple',   5852.54, 0.) ('Fast-Ripple',   9145.51, 0.)\n",
      "  ('Spike+Ripple+Fast-Ripple',  11714.4 , 0.) ...\n",
      "  ('Ripple', 107729.  , 0.) ('Ripple', 110340.  , 0.)\n",
      "  ('Ripple', 113236.  , 0.) ('Spike+Ripple+Fast-Ripple', 116402.  , 0.)\n",
      "  ('Fast-Ripple', 119000.  , 0.)]\n",
      " [('Spike+Fast-Ripple',   1000.  , 0.) ('Fast-Ripple',   3844.24, 0.)\n",
      "  ('Ripple+Fast-Ripple',   6911.13, 0.) ('Ripple',   9519.04, 0.)\n",
      "  ('Spike',  12259.8 , 0.) ... ('Spike', 107079.  , 0.)\n",
      "  ('Ripple+Fast-Ripple', 110476.  , 0.) ('Fast-Ripple', 113016.  , 0.)\n",
      "  ('Ripple+Fast-Ripple', 115897.  , 0.) ('Spike+Ripple', 119000.  , 0.)]]\n"
     ]
    }
   ],
   "source": [
    "markers_seeg_file_name = \"seeg_synthetic_humans_markers.npy\"\n",
    "markers = np.load(f\"{PATH_TO_FILE}{markers_seeg_file_name}\")\n",
    "\n",
    "print(\"Markers shape: \", markers.shape)\n",
    "print(\"First time steps: \", markers[:10])"
   ]
  },
  {
   "cell_type": "markdown",
   "metadata": {},
   "source": [
    "### Get the markers with a certain SNR in a specific region\n",
    "Let's use the markers with a SNR=15dB in the first region"
   ]
  },
  {
   "cell_type": "code",
   "execution_count": 109,
   "metadata": {},
   "outputs": [
    {
     "name": "stdout",
     "output_type": "stream",
     "text": [
      "relevant_markers Shape: (30, 42).\n",
      "Preview: [[('Spike',   1000.  , 0.) ('Spike+Fast-Ripple',   4218.75, 0.)\n",
      "  ('Ripple+Fast-Ripple',   6966.8 , 0.)\n",
      "  ('Ripple+Fast-Ripple',   9793.95, 0.)\n",
      "  ('Spike+Ripple+Fast-Ripple',  13189.  , 0.) ...\n",
      "  ('Ripple+Fast-Ripple', 107859.  , 0.) ('Spike+Ripple', 111439.  , 0.)\n",
      "  ('Ripple', 114551.  , 0.) ('Spike+Ripple', 116517.  , 0.)\n",
      "  ('Spike+Ripple', 119000.  , 0.)]\n",
      " [('Spike+Ripple',   1000.  , 0.)\n",
      "  ('Spike+Ripple+Fast-Ripple',   3917.97, 0.)\n",
      "  ('Spike+Fast-Ripple',   6794.92, 0.) ('Fast-Ripple',   9094.73, 0.)\n",
      "  ('Fast-Ripple',  12348.1 , 0.) ... ('Spike+Fast-Ripple', 107697.  , 0.)\n",
      "  ('Fast-Ripple', 111079.  , 0.) ('Spike', 113382.  , 0.)\n",
      "  ('Ripple+Fast-Ripple', 116656.  , 0.) ('Spike+Ripple', 119000.  , 0.)]\n",
      " [('Fast-Ripple',   1000.  , 0.) ('Spike',   3655.76, 0.)\n",
      "  ('Spike',   7188.96, 0.) ('Spike',   9880.37, 0.)\n",
      "  ('Spike+Ripple',  13890.6 , 0.) ...\n",
      "  ('Spike+Fast-Ripple', 107924.  , 0.)\n",
      "  ('Spike+Ripple+Fast-Ripple', 110238.  , 0.)\n",
      "  ('Spike+Ripple+Fast-Ripple', 112797.  , 0.)\n",
      "  ('Fast-Ripple', 115363.  , 0.) ('Spike+Fast-Ripple', 119000.  , 0.)]\n",
      " [('Spike+Ripple+Fast-Ripple',   1000.  , 0.)\n",
      "  ('Spike+Fast-Ripple',   3454.59, 0.)\n",
      "  ('Ripple+Fast-Ripple',   6599.61, 0.) ('Fast-Ripple',   9182.62, 0.)\n",
      "  ('Spike+Ripple+Fast-Ripple',  12129.9 , 0.) ...\n",
      "  ('Ripple+Fast-Ripple', 108521.  , 0.)\n",
      "  ('Ripple+Fast-Ripple', 110662.  , 0.) ('Spike+Ripple', 113249.  , 0.)\n",
      "  ('Spike+Fast-Ripple', 116929.  , 0.) ('Ripple', 119000.  , 0.)]\n",
      " [('Ripple',   1000.  , 0.) ('Spike',   4412.11, 0.)\n",
      "  ('Ripple+Fast-Ripple',   6992.19, 0.)\n",
      "  ('Spike+Ripple+Fast-Ripple',   9307.13, 0.)\n",
      "  ('Spike+Ripple',  11564.  , 0.) ...\n",
      "  ('Spike+Ripple+Fast-Ripple', 108013.  , 0.)\n",
      "  ('Ripple+Fast-Ripple', 110644.  , 0.) ('Spike', 113402.  , 0.)\n",
      "  ('Fast-Ripple', 115506.  , 0.) ('Spike+Ripple', 119000.  , 0.)]\n",
      " ...\n",
      " [('Spike',   1000.  , 0.) ('Spike+Fast-Ripple',   4195.8 , 0.)\n",
      "  ('Spike',   8033.2 , 0.) ('Fast-Ripple',  11114.7 , 0.)\n",
      "  ('Ripple+Fast-Ripple',  14273.9 , 0.) ...\n",
      "  ('Spike+Ripple+Fast-Ripple', 107961.  , 0.) ('Ripple', 111138.  , 0.)\n",
      "  ('Spike+Fast-Ripple', 113772.  , 0.)\n",
      "  ('Ripple+Fast-Ripple', 116453.  , 0.)\n",
      "  ('Ripple+Fast-Ripple', 119000.  , 0.)]\n",
      " [('Spike',   1000.  , 0.) ('Ripple',   3381.84, 0.)\n",
      "  ('Fast-Ripple',   6243.65, 0.) ('Spike+Ripple',   8873.05, 0.)\n",
      "  ('Ripple+Fast-Ripple',  11957.  , 0.) ...\n",
      "  ('Fast-Ripple', 107895.  , 0.) ('Spike+Ripple', 110412.  , 0.)\n",
      "  ('Spike+Ripple+Fast-Ripple', 112735.  , 0.)\n",
      "  ('Spike+Fast-Ripple', 115777.  , 0.)\n",
      "  ('Spike+Fast-Ripple', 119000.  , 0.)]\n",
      " [('Ripple+Fast-Ripple',   1000.  , 0.) ('Ripple',   3543.46, 0.)\n",
      "  ('Ripple+Fast-Ripple',   6759.77, 0.)\n",
      "  ('Ripple+Fast-Ripple',   9539.55, 0.)\n",
      "  ('Spike+Fast-Ripple',  11367.7 , 0.) ...\n",
      "  ('Spike+Ripple', 106287.  , 0.) ('Ripple', 109383.  , 0.)\n",
      "  ('Fast-Ripple', 112950.  , 0.) ('Spike+Ripple', 115987.  , 0.)\n",
      "  ('Spike+Ripple', 119000.  , 0.)]\n",
      " [('Spike+Fast-Ripple',   1000.  , 0.) ('Fast-Ripple',   4774.41, 0.)\n",
      "  ('Ripple',   7656.74, 0.) ('Ripple',  11189.5 , 0.)\n",
      "  ('Fast-Ripple',  14050.8 , 0.) ...\n",
      "  ('Spike+Ripple+Fast-Ripple', 106867.  , 0.)\n",
      "  ('Spike+Fast-Ripple', 110114.  , 0.) ('Spike', 113143.  , 0.)\n",
      "  ('Ripple+Fast-Ripple', 116769.  , 0.) ('Ripple', 119000.  , 0.)]\n",
      " [('Spike+Ripple',   1000.  , 0.) ('Ripple',   4143.07, 0.)\n",
      "  ('Spike+Fast-Ripple',   6804.2 , 0.) ('Ripple',   9793.46, 0.)\n",
      "  ('Spike+Fast-Ripple',  12680.7 , 0.) ... ('Ripple', 107164.  , 0.)\n",
      "  ('Fast-Ripple', 109500.  , 0.) ('Ripple+Fast-Ripple', 112313.  , 0.)\n",
      "  ('Spike+Ripple+Fast-Ripple', 115019.  , 0.)\n",
      "  ('Fast-Ripple', 119000.  , 0.)]]\n"
     ]
    }
   ],
   "source": [
    "relevant_markers = markers[ch_start_idx:ch_end_idx]\n",
    "preview_np_array(relevant_markers, \"relevant_markers\")"
   ]
  },
  {
   "cell_type": "markdown",
   "metadata": {},
   "source": [
    "### Build a subset of the SEEG recording joining data from the channels selected above that contain relevant HFOs"
   ]
  },
  {
   "cell_type": "code",
   "execution_count": 110,
   "metadata": {},
   "outputs": [
    {
     "name": "stdout",
     "output_type": "stream",
     "text": [
      "Time values:  [0.48828125, 0.9765625, 1.46484375, 1.953125, 2.44140625, 2.9296875, 3.41796875, 3.90625, 4.39453125, 4.8828125]\n"
     ]
    }
   ],
   "source": [
    "# Build the time_step values of the signal\n",
    "time_vals = [val for val in np.arange(x_step, input_duration + x_step, x_step)]\n",
    "print(\"Time values: \", time_vals[:10])"
   ]
  },
  {
   "cell_type": "code",
   "execution_count": 111,
   "metadata": {},
   "outputs": [
    {
     "name": "stdout",
     "output_type": "stream",
     "text": [
      "channels_curr_marker_idx Shape: (30,).\n",
      "Preview: [0 0 0 0 0 ... 0 0 0 0 0]\n"
     ]
    }
   ],
   "source": [
    "final_signal = np.empty(shape=(num_samples))    # Initialize the final signal\n",
    "final_markers = []                  # List holding the final markers\n",
    "\n",
    "# Variable holding the current marker idx for each channel\n",
    "channels_curr_marker_idx = np.zeros(shape=(relevant_markers.shape[0]), dtype=int)\n",
    "preview_np_array(channels_curr_marker_idx, \"channels_curr_marker_idx\")"
   ]
  },
  {
   "cell_type": "markdown",
   "metadata": {},
   "source": [
    "## Set the lenght of each segment to be extracted from a channel\n",
    "Since we want to join the data from several channels in a single subset, we need to set the length of the segments to be extracted from each channel.\n",
    "\n",
    "Furthermore, we also need to define a padding to avoid adding a HFO that occurs at the end of a segment since it may interfere with the next segment and be cut short."
   ]
  },
  {
   "cell_type": "code",
   "execution_count": 112,
   "metadata": {},
   "outputs": [],
   "source": [
    "segment_length = 500    # 500 ms segments. Every 500ms, there will be a relevant event (Ripple, Fast Ripple, or both)\n",
    "\n",
    "segment_end_padding = 150    # 150 ms padding at the end of each segment (Longest Ripples seem to last about 120ms according to Sofia?)"
   ]
  },
  {
   "cell_type": "code",
   "execution_count": 113,
   "metadata": {},
   "outputs": [
    {
     "name": "stdout",
     "output_type": "stream",
     "text": [
      "curr_marker position:  1000.0 curr_segment:  1000 segment_length:  500\n",
      "curr_marker position:  3206.54 curr_segment:  3000 segment_length:  500\n",
      "curr_marker position:  3521.0 curr_segment:  3500 segment_length:  500\n",
      "curr_marker position:  4134.77 curr_segment:  4000 segment_length:  500\n",
      "curr_marker position:  4774.41 curr_segment:  4500 segment_length:  500\n",
      "curr_marker position:  6171.39 curr_segment:  6000 segment_length:  500\n",
      "curr_marker position:  6685.06 curr_segment:  6500 segment_length:  500\n",
      "curr_marker position:  7222.66 curr_segment:  7000 segment_length:  500\n",
      "curr_marker position:  7588.87 curr_segment:  7500 segment_length:  500\n",
      "curr_marker position:  8088.87 curr_segment:  8000 segment_length:  500\n",
      "curr_marker position:  9347.66 curr_segment:  9000 segment_length:  500\n",
      "curr_marker position:  9681.64 curr_segment:  9500 segment_length:  500\n",
      "curr_marker position:  10218.3 curr_segment:  10000 segment_length:  500\n",
      "curr_marker position:  10503.9 curr_segment:  10500 segment_length:  500\n",
      "curr_marker position:  11114.7 curr_segment:  11000 segment_length:  500\n",
      "curr_marker position:  11629.4 curr_segment:  11500 segment_length:  500\n",
      "curr_marker position:  12348.1 curr_segment:  12000 segment_length:  500\n",
      "curr_marker position:  12680.7 curr_segment:  12500 segment_length:  500\n",
      "curr_marker position:  13189.0 curr_segment:  13000 segment_length:  500\n",
      "curr_marker position:  13839.8 curr_segment:  13500 segment_length:  500\n",
      "curr_marker position:  14050.8 curr_segment:  14000 segment_length:  500\n",
      "curr_marker position:  14581.5 curr_segment:  14500 segment_length:  500\n",
      "curr_marker position:  15209.0 curr_segment:  15000 segment_length:  500\n",
      "curr_marker position:  15550.8 curr_segment:  15500 segment_length:  500\n",
      "curr_marker position:  16133.8 curr_segment:  16000 segment_length:  500\n",
      "curr_marker position:  16781.3 curr_segment:  16500 segment_length:  500\n",
      "curr_marker position:  17023.9 curr_segment:  17000 segment_length:  500\n",
      "curr_marker position:  17747.1 curr_segment:  17500 segment_length:  500\n",
      "curr_marker position:  18123.5 curr_segment:  18000 segment_length:  500\n",
      "curr_marker position:  18802.2 curr_segment:  18500 segment_length:  500\n",
      "curr_marker position:  19330.6 curr_segment:  19000 segment_length:  500\n",
      "curr_marker position:  19742.7 curr_segment:  19500 segment_length:  500\n",
      "curr_marker position:  20146.0 curr_segment:  20000 segment_length:  500\n",
      "curr_marker position:  20748.0 curr_segment:  20500 segment_length:  500\n",
      "curr_marker position:  21022.0 curr_segment:  21000 segment_length:  500\n",
      "curr_marker position:  21774.9 curr_segment:  21500 segment_length:  500\n",
      "curr_marker position:  22315.4 curr_segment:  22000 segment_length:  500\n",
      "curr_marker position:  22658.7 curr_segment:  22500 segment_length:  500\n",
      "curr_marker position:  23018.6 curr_segment:  23000 segment_length:  500\n",
      "curr_marker position:  23640.6 curr_segment:  23500 segment_length:  500\n",
      "curr_marker position:  24189.0 curr_segment:  24000 segment_length:  500\n",
      "curr_marker position:  24656.3 curr_segment:  24500 segment_length:  500\n",
      "curr_marker position:  25124.5 curr_segment:  25000 segment_length:  500\n",
      "curr_marker position:  25776.9 curr_segment:  25500 segment_length:  500\n",
      "curr_marker position:  26197.8 curr_segment:  26000 segment_length:  500\n",
      "curr_marker position:  26645.0 curr_segment:  26500 segment_length:  500\n",
      "curr_marker position:  27046.9 curr_segment:  27000 segment_length:  500\n",
      "curr_marker position:  27612.8 curr_segment:  27500 segment_length:  500\n",
      "curr_marker position:  28232.9 curr_segment:  28000 segment_length:  500\n",
      "curr_marker position:  28529.8 curr_segment:  28500 segment_length:  500\n",
      "curr_marker position:  29193.4 curr_segment:  29000 segment_length:  500\n",
      "curr_marker position:  29537.1 curr_segment:  29500 segment_length:  500\n",
      "curr_marker position:  30254.4 curr_segment:  30000 segment_length:  500\n",
      "curr_marker position:  30822.8 curr_segment:  30500 segment_length:  500\n",
      "curr_marker position:  31003.4 curr_segment:  31000 segment_length:  500\n",
      "curr_marker position:  31734.4 curr_segment:  31500 segment_length:  500\n",
      "curr_marker position:  32117.2 curr_segment:  32000 segment_length:  500\n",
      "curr_marker position:  32789.1 curr_segment:  32500 segment_length:  500\n",
      "curr_marker position:  33092.3 curr_segment:  33000 segment_length:  500\n",
      "curr_marker position:  33708.5 curr_segment:  33500 segment_length:  500\n",
      "curr_marker position:  34045.9 curr_segment:  34000 segment_length:  500\n",
      "curr_marker position:  34818.4 curr_segment:  34500 segment_length:  500\n",
      "curr_marker position:  35088.9 curr_segment:  35000 segment_length:  500\n",
      "curr_marker position:  35668.0 curr_segment:  35500 segment_length:  500\n",
      "curr_marker position:  36334.5 curr_segment:  36000 segment_length:  500\n",
      "curr_marker position:  36667.0 curr_segment:  36500 segment_length:  500\n",
      "curr_marker position:  37189.9 curr_segment:  37000 segment_length:  500\n",
      "curr_marker position:  37535.2 curr_segment:  37500 segment_length:  500\n",
      "curr_marker position:  38183.6 curr_segment:  38000 segment_length:  500\n",
      "curr_marker position:  38593.8 curr_segment:  38500 segment_length:  500\n",
      "curr_marker position:  39218.8 curr_segment:  39000 segment_length:  500\n",
      "curr_marker position:  39816.4 curr_segment:  39500 segment_length:  500\n",
      "curr_marker position:  40224.6 curr_segment:  40000 segment_length:  500\n",
      "curr_marker position:  40819.3 curr_segment:  40500 segment_length:  500\n",
      "curr_marker position:  41212.4 curr_segment:  41000 segment_length:  500\n",
      "curr_marker position:  41622.6 curr_segment:  41500 segment_length:  500\n",
      "curr_marker position:  42312.0 curr_segment:  42000 segment_length:  500\n",
      "curr_marker position:  42702.6 curr_segment:  42500 segment_length:  500\n",
      "curr_marker position:  43275.9 curr_segment:  43000 segment_length:  500\n",
      "curr_marker position:  43711.9 curr_segment:  43500 segment_length:  500\n",
      "curr_marker position:  44113.8 curr_segment:  44000 segment_length:  500\n",
      "curr_marker position:  44524.4 curr_segment:  44500 segment_length:  500\n",
      "curr_marker position:  45139.2 curr_segment:  45000 segment_length:  500\n",
      "curr_marker position:  45838.9 curr_segment:  45500 segment_length:  500\n",
      "curr_marker position:  46032.7 curr_segment:  46000 segment_length:  500\n",
      "curr_marker position:  46627.9 curr_segment:  46500 segment_length:  500\n",
      "curr_marker position:  47085.0 curr_segment:  47000 segment_length:  500\n",
      "curr_marker position:  47838.4 curr_segment:  47500 segment_length:  500\n",
      "curr_marker position:  48320.8 curr_segment:  48000 segment_length:  500\n",
      "curr_marker position:  48603.0 curr_segment:  48500 segment_length:  500\n",
      "curr_marker position:  49089.4 curr_segment:  49000 segment_length:  500\n",
      "curr_marker position:  49753.4 curr_segment:  49500 segment_length:  500\n",
      "curr_marker position:  50288.6 curr_segment:  50000 segment_length:  500\n",
      "curr_marker position:  50763.2 curr_segment:  50500 segment_length:  500\n",
      "curr_marker position:  51027.3 curr_segment:  51000 segment_length:  500\n",
      "curr_marker position:  51512.7 curr_segment:  51500 segment_length:  500\n",
      "curr_marker position:  52108.9 curr_segment:  52000 segment_length:  500\n",
      "curr_marker position:  52599.6 curr_segment:  52500 segment_length:  500\n",
      "curr_marker position:  53085.0 curr_segment:  53000 segment_length:  500\n",
      "curr_marker position:  53806.6 curr_segment:  53500 segment_length:  500\n",
      "curr_marker position:  54196.3 curr_segment:  54000 segment_length:  500\n",
      "curr_marker position:  54565.4 curr_segment:  54500 segment_length:  500\n",
      "curr_marker position:  55314.5 curr_segment:  55000 segment_length:  500\n",
      "curr_marker position:  55752.0 curr_segment:  55500 segment_length:  500\n",
      "curr_marker position:  56001.0 curr_segment:  56000 segment_length:  500\n",
      "curr_marker position:  56820.3 curr_segment:  56500 segment_length:  500\n",
      "curr_marker position:  57252.0 curr_segment:  57000 segment_length:  500\n",
      "curr_marker position:  57557.1 curr_segment:  57500 segment_length:  500\n",
      "curr_marker position:  58030.8 curr_segment:  58000 segment_length:  500\n",
      "curr_marker position:  58755.9 curr_segment:  58500 segment_length:  500\n",
      "curr_marker position:  59249.0 curr_segment:  59000 segment_length:  500\n",
      "curr_marker position:  59701.7 curr_segment:  59500 segment_length:  500\n",
      "curr_marker position:  60188.5 curr_segment:  60000 segment_length:  500\n",
      "curr_marker position:  60703.1 curr_segment:  60500 segment_length:  500\n",
      "curr_marker position:  61151.4 curr_segment:  61000 segment_length:  500\n",
      "curr_marker position:  61514.2 curr_segment:  61500 segment_length:  500\n",
      "curr_marker position:  62252.9 curr_segment:  62000 segment_length:  500\n",
      "curr_marker position:  62635.7 curr_segment:  62500 segment_length:  500\n",
      "curr_marker position:  63276.9 curr_segment:  63000 segment_length:  500\n",
      "curr_marker position:  63794.9 curr_segment:  63500 segment_length:  500\n",
      "curr_marker position:  64322.8 curr_segment:  64000 segment_length:  500\n",
      "curr_marker position:  64579.6 curr_segment:  64500 segment_length:  500\n",
      "curr_marker position:  65293.0 curr_segment:  65000 segment_length:  500\n",
      "curr_marker position:  65669.9 curr_segment:  65500 segment_length:  500\n",
      "curr_marker position:  66259.8 curr_segment:  66000 segment_length:  500\n",
      "curr_marker position:  66740.7 curr_segment:  66500 segment_length:  500\n",
      "curr_marker position:  67232.9 curr_segment:  67000 segment_length:  500\n",
      "curr_marker position:  67634.8 curr_segment:  67500 segment_length:  500\n",
      "curr_marker position:  68035.2 curr_segment:  68000 segment_length:  500\n",
      "curr_marker position:  68846.2 curr_segment:  68500 segment_length:  500\n",
      "curr_marker position:  69114.3 curr_segment:  69000 segment_length:  500\n",
      "curr_marker position:  69780.8 curr_segment:  69500 segment_length:  500\n",
      "curr_marker position:  70278.8 curr_segment:  70000 segment_length:  500\n",
      "curr_marker position:  70761.7 curr_segment:  70500 segment_length:  500\n",
      "curr_marker position:  71293.5 curr_segment:  71000 segment_length:  500\n",
      "curr_marker position:  71836.9 curr_segment:  71500 segment_length:  500\n",
      "curr_marker position:  72004.9 curr_segment:  72000 segment_length:  500\n",
      "curr_marker position:  72707.5 curr_segment:  72500 segment_length:  500\n",
      "curr_marker position:  73161.1 curr_segment:  73000 segment_length:  500\n",
      "curr_marker position:  73721.2 curr_segment:  73500 segment_length:  500\n",
      "curr_marker position:  74053.7 curr_segment:  74000 segment_length:  500\n",
      "curr_marker position:  74835.4 curr_segment:  74500 segment_length:  500\n",
      "curr_marker position:  75151.9 curr_segment:  75000 segment_length:  500\n",
      "curr_marker position:  75718.8 curr_segment:  75500 segment_length:  500\n",
      "curr_marker position:  76245.1 curr_segment:  76000 segment_length:  500\n",
      "curr_marker position:  76748.0 curr_segment:  76500 segment_length:  500\n",
      "curr_marker position:  77232.9 curr_segment:  77000 segment_length:  500\n",
      "curr_marker position:  77663.1 curr_segment:  77500 segment_length:  500\n",
      "curr_marker position:  78268.6 curr_segment:  78000 segment_length:  500\n",
      "curr_marker position:  78750.0 curr_segment:  78500 segment_length:  500\n",
      "curr_marker position:  79280.8 curr_segment:  79000 segment_length:  500\n",
      "curr_marker position:  79531.3 curr_segment:  79500 segment_length:  500\n",
      "curr_marker position:  80069.3 curr_segment:  80000 segment_length:  500\n",
      "curr_marker position:  80611.8 curr_segment:  80500 segment_length:  500\n",
      "curr_marker position:  81732.4 curr_segment:  81500 segment_length:  500\n",
      "curr_marker position:  82049.8 curr_segment:  82000 segment_length:  500\n",
      "curr_marker position:  82784.2 curr_segment:  82500 segment_length:  500\n",
      "curr_marker position:  83065.4 curr_segment:  83000 segment_length:  500\n",
      "curr_marker position:  83642.1 curr_segment:  83500 segment_length:  500\n",
      "curr_marker position:  84200.2 curr_segment:  84000 segment_length:  500\n",
      "curr_marker position:  84712.4 curr_segment:  84500 segment_length:  500\n",
      "curr_marker position:  85108.9 curr_segment:  85000 segment_length:  500\n",
      "curr_marker position:  85746.1 curr_segment:  85500 segment_length:  500\n",
      "curr_marker position:  86255.9 curr_segment:  86000 segment_length:  500\n",
      "curr_marker position:  86634.8 curr_segment:  86500 segment_length:  500\n",
      "curr_marker position:  87126.0 curr_segment:  87000 segment_length:  500\n",
      "curr_marker position:  87580.1 curr_segment:  87500 segment_length:  500\n",
      "curr_marker position:  88165.0 curr_segment:  88000 segment_length:  500\n",
      "curr_marker position:  88818.8 curr_segment:  88500 segment_length:  500\n",
      "curr_marker position:  89041.0 curr_segment:  89000 segment_length:  500\n",
      "curr_marker position:  89721.2 curr_segment:  89500 segment_length:  500\n",
      "curr_marker position:  90127.4 curr_segment:  90000 segment_length:  500\n",
      "curr_marker position:  90641.1 curr_segment:  90500 segment_length:  500\n",
      "curr_marker position:  91176.8 curr_segment:  91000 segment_length:  500\n",
      "curr_marker position:  91573.7 curr_segment:  91500 segment_length:  500\n",
      "curr_marker position:  92263.7 curr_segment:  92000 segment_length:  500\n",
      "curr_marker position:  92846.2 curr_segment:  92500 segment_length:  500\n",
      "curr_marker position:  93286.1 curr_segment:  93000 segment_length:  500\n",
      "curr_marker position:  93677.2 curr_segment:  93500 segment_length:  500\n",
      "curr_marker position:  94026.4 curr_segment:  94000 segment_length:  500\n",
      "curr_marker position:  94614.3 curr_segment:  94500 segment_length:  500\n",
      "curr_marker position:  95337.9 curr_segment:  95000 segment_length:  500\n",
      "curr_marker position:  95639.2 curr_segment:  95500 segment_length:  500\n",
      "curr_marker position:  96259.3 curr_segment:  96000 segment_length:  500\n",
      "curr_marker position:  96700.7 curr_segment:  96500 segment_length:  500\n",
      "curr_marker position:  97319.8 curr_segment:  97000 segment_length:  500\n",
      "curr_marker position:  97837.4 curr_segment:  97500 segment_length:  500\n",
      "curr_marker position:  98056.6 curr_segment:  98000 segment_length:  500\n",
      "curr_marker position:  98651.4 curr_segment:  98500 segment_length:  500\n",
      "curr_marker position:  99266.1 curr_segment:  99000 segment_length:  500\n",
      "curr_marker position:  99626.0 curr_segment:  99500 segment_length:  500\n",
      "curr_marker position:  100291.0 curr_segment:  100000 segment_length:  500\n",
      "curr_marker position:  100576.0 curr_segment:  100500 segment_length:  500\n",
      "curr_marker position:  101020.0 curr_segment:  101000 segment_length:  500\n",
      "curr_marker position:  101663.0 curr_segment:  101500 segment_length:  500\n",
      "curr_marker position:  102265.0 curr_segment:  102000 segment_length:  500\n",
      "curr_marker position:  102695.0 curr_segment:  102500 segment_length:  500\n",
      "curr_marker position:  103263.0 curr_segment:  103000 segment_length:  500\n",
      "curr_marker position:  103563.0 curr_segment:  103500 segment_length:  500\n",
      "curr_marker position:  104018.0 curr_segment:  104000 segment_length:  500\n",
      "curr_marker position:  104831.0 curr_segment:  104500 segment_length:  500\n",
      "curr_marker position:  105210.0 curr_segment:  105000 segment_length:  500\n",
      "curr_marker position:  105827.0 curr_segment:  105500 segment_length:  500\n",
      "curr_marker position:  106287.0 curr_segment:  106000 segment_length:  500\n",
      "curr_marker position:  106766.0 curr_segment:  106500 segment_length:  500\n",
      "curr_marker position:  107170.0 curr_segment:  107000 segment_length:  500\n",
      "curr_marker position:  107811.0 curr_segment:  107500 segment_length:  500\n",
      "curr_marker position:  108289.0 curr_segment:  108000 segment_length:  500\n",
      "curr_marker position:  108521.0 curr_segment:  108500 segment_length:  500\n",
      "curr_marker position:  109069.0 curr_segment:  109000 segment_length:  500\n",
      "curr_marker position:  109599.0 curr_segment:  109500 segment_length:  500\n",
      "curr_marker position:  110295.0 curr_segment:  110000 segment_length:  500\n",
      "curr_marker position:  110672.0 curr_segment:  110500 segment_length:  500\n",
      "curr_marker position:  111138.0 curr_segment:  111000 segment_length:  500\n",
      "curr_marker position:  111684.0 curr_segment:  111500 segment_length:  500\n",
      "curr_marker position:  112313.0 curr_segment:  112000 segment_length:  500\n",
      "curr_marker position:  112831.0 curr_segment:  112500 segment_length:  500\n",
      "curr_marker position:  113147.0 curr_segment:  113000 segment_length:  500\n",
      "curr_marker position:  113598.0 curr_segment:  113500 segment_length:  500\n",
      "curr_marker position:  114278.0 curr_segment:  114000 segment_length:  500\n",
      "curr_marker position:  114551.0 curr_segment:  114500 segment_length:  500\n",
      "curr_marker position:  115019.0 curr_segment:  115000 segment_length:  500\n",
      "curr_marker position:  115777.0 curr_segment:  115500 segment_length:  500\n",
      "curr_marker position:  116216.0 curr_segment:  116000 segment_length:  500\n",
      "curr_marker position:  116769.0 curr_segment:  116500 segment_length:  500\n",
      "curr_marker position:  119000.0 curr_segment:  119000 segment_length:  500\n"
     ]
    }
   ],
   "source": [
    "from utils.input import label_has_hfo_event\n",
    "\n",
    "curr_segment_ch_start_idx = 0    # Variable to hold the index where we start searching for a relevant marker in each segment\n",
    "\n",
    "for curr_segment in range(0, input_duration, segment_length):\n",
    "    time_start_idx = int(curr_segment / x_step)   # Start index of the segment in the time_vals array\n",
    "    time_end_idx = int((curr_segment + segment_length) / x_step)   # End index of the segment in the time_vals array (exclusive)\n",
    "    # print(\"time start idx: \", time_start_idx, \"time end idx: \", time_end_idx)\n",
    "\n",
    "    # Search for a relevant event in this segment\n",
    "    starting_marker_idx = int(curr_segment / segment_length) % relevant_markers.shape[0]    # Get the marker index where we start searching for this segment\n",
    "    # print(\"starting_marker_idx: \", starting_marker_idx)\n",
    "    curr_marker_idx = starting_marker_idx\n",
    "\n",
    "    segment_marker = None   # Variable to hold the marker of the current segment\n",
    "    # Search for a relevant event in this time segment\n",
    "    while True:\n",
    "        # Check if the markers of the current channel have a relevant event inside the segment\n",
    "        for inner_marker_idx in range(channels_curr_marker_idx[curr_marker_idx], relevant_markers.shape[1], 1):\n",
    "            curr_marker = relevant_markers[curr_marker_idx][inner_marker_idx]\n",
    "\n",
    "            # Check if the current marker is a relevant event (Ripple, Fast Ripple, or both)\n",
    "            if label_has_hfo_event(curr_marker['label']):\n",
    "                \n",
    "                # print(curr_marker['position'] + segment_end_padding, curr_segment + segment_length)\n",
    "\n",
    "                if curr_marker['position'] >= curr_segment and (curr_marker['position'] + segment_end_padding <= curr_segment + segment_length):\n",
    "                    # print(\"curr_marker position: \", curr_marker['position'], \"curr_segment: \", curr_segment, \"segment_length: \", segment_length)\n",
    "                    # Found a relevant event\n",
    "                    segment_marker = curr_marker\n",
    "\n",
    "                    # Update the current marker index for this channel to the next marker\n",
    "                    channels_curr_marker_idx[curr_marker_idx] = inner_marker_idx + 1\n",
    "\n",
    "                    break   # Stop searching for relevant events in this channel\n",
    "            \n",
    "            # Check if the current marker is outside the segment\n",
    "            if curr_marker['position'] < curr_segment + segment_length:\n",
    "                # Update the current marker index for this channel to the next marker of this channel\n",
    "                channels_curr_marker_idx[curr_marker_idx] = inner_marker_idx + 1\n",
    "\n",
    "        # If a relevant event is found, add the relevant event to the final signal\n",
    "        if segment_marker is not None:\n",
    "            # Add the relevant event's seeg data to the final signal\n",
    "            final_signal[time_start_idx:time_end_idx] = relevant_seeg[time_start_idx:time_end_idx, curr_marker_idx]\n",
    "\n",
    "            # Add the relevant event's marker to the final markers\n",
    "            final_markers.append(segment_marker)  # TODO: CHange this to the actual marker after being found\n",
    "            break\n",
    "\n",
    "\n",
    "        # Search in the markers of the next channel\n",
    "        curr_marker_idx = (curr_marker_idx + 1) % relevant_markers.shape[0]    # Move to the next marker index\n",
    "\n",
    "        # Check if we have reached the starting marker index\n",
    "        if curr_marker_idx == starting_marker_idx:\n",
    "            # We have searched all the markers in this segment (No relevant event found) \n",
    "            # -> Add current channel data to the final signal (with no relevant events)\n",
    "\n",
    "            # Add background noise to the segment\n",
    "            final_signal[time_start_idx:time_end_idx] = relevant_seeg[time_start_idx:time_end_idx, curr_marker_idx]\n",
    "            break"
   ]
  },
  {
   "cell_type": "markdown",
   "metadata": {},
   "source": [
    "### Preview the final signal and markers"
   ]
  },
  {
   "cell_type": "code",
   "execution_count": 114,
   "metadata": {},
   "outputs": [
    {
     "name": "stdout",
     "output_type": "stream",
     "text": [
      "Final Signal Shape: (245760,).\n",
      "Preview: [  0.32148191  -0.0205088   -1.21789157  -1.02805603  -1.65028203 ...\n",
      " -10.6392498  -11.40901566 -11.79014492 -11.26972866 -10.32582855]\n"
     ]
    }
   ],
   "source": [
    "preview_np_array(final_signal, \"Final Signal\")"
   ]
  },
  {
   "cell_type": "code",
   "execution_count": 115,
   "metadata": {},
   "outputs": [
    {
     "name": "stdout",
     "output_type": "stream",
     "text": [
      "Final Markers Shape: (226,).\n",
      "Preview: [('Fast-Ripple',   1000.  , 0.)\n",
      " ('Spike+Ripple+Fast-Ripple',   3206.54, 0.)\n",
      " ('Spike+Ripple',   3521.  , 0.) ('Ripple+Fast-Ripple',   4134.77, 0.)\n",
      " ('Fast-Ripple',   4774.41, 0.) ...\n",
      " ('Spike+Ripple+Fast-Ripple', 115019.  , 0.)\n",
      " ('Spike+Fast-Ripple', 115777.  , 0.) ('Spike+Ripple', 116216.  , 0.)\n",
      " ('Ripple+Fast-Ripple', 116769.  , 0.) ('Ripple', 119000.  , 0.)]\n"
     ]
    }
   ],
   "source": [
    "final_markers = np.array(final_markers)\n",
    "preview_np_array(final_markers, \"Final Markers\")"
   ]
  },
  {
   "cell_type": "markdown",
   "metadata": {},
   "source": [
    "---"
   ]
  },
  {
   "cell_type": "markdown",
   "metadata": {},
   "source": [
    "## Visualize the Subset of the SEEG Data"
   ]
  },
  {
   "cell_type": "code",
   "execution_count": 116,
   "metadata": {},
   "outputs": [],
   "source": [
    "# Interactive Plot for the HFO detection\n",
    "# bokeh docs: https://docs.bokeh.org/en/2.4.1/docs/first_steps/first_steps_1.html\n",
    "\n",
    "from utils.line_plot import create_fig  # Import the function to create the figure\n",
    "from bokeh.models import Range1d\n",
    "\n",
    "# Define the x and y values\n",
    "# Should the first input start at 0 or x_step?\n",
    "# TODO: is it okay to create a range with floats?\n",
    "x = [val for val in np.arange(x_step, input_duration + x_step, x_step)] \n",
    "\n",
    "# Create the y arrays for the voltage plot representing the voltage of each electrode\n",
    "v_yarrays = [final_signal]"
   ]
  },
  {
   "cell_type": "markdown",
   "metadata": {},
   "source": [
    "## Create the Plot"
   ]
  },
  {
   "cell_type": "code",
   "execution_count": 117,
   "metadata": {},
   "outputs": [],
   "source": [
    "# Create the plot\n",
    "# List of tuples containing the y values and the legend label\n",
    "hfo_y_arrays = [(final_signal, \"Joined subset of SEEG Channels\")]\n",
    "\n",
    "# Create the SEEG Voltage plot\n",
    "hfo_plot = create_fig(\n",
    "    title=\"SEEG Voltage dynamics of Filtered Ripple and Fast Ripple Bands\", \n",
    "    x_axis_label='time (ms)', \n",
    "    y_axis_label='Voltage (μV)',\n",
    "    x=x, \n",
    "    y_arrays=hfo_y_arrays, \n",
    "    sizing_mode=\"stretch_both\", \n",
    "    tools=\"pan, box_zoom, wheel_zoom, hover, undo, redo, zoom_in, zoom_out, reset, save\",\n",
    "    tooltips=\"Data point @x: @y\",\n",
    "    legend_location=\"top_right\",\n",
    "    legend_bg_fill_color=\"navy\",\n",
    "    legend_bg_fill_alpha=0.1,\n",
    "    # y_range=Range1d(-0.05, 1.05)\n",
    ")\n",
    "\n",
    "# If there are more than 30 channels, hide the legend\n",
    "if len(hfo_y_arrays) > 30:\n",
    "    # Hide the legend\n",
    "    hfo_plot.legend.visible = False"
   ]
  },
  {
   "cell_type": "markdown",
   "metadata": {},
   "source": [
    "## Add Box Annotations to the plot to identify the marked HFOs (ground truth)"
   ]
  },
  {
   "cell_type": "code",
   "execution_count": 118,
   "metadata": {},
   "outputs": [],
   "source": [
    "from bokeh.models import BoxAnnotation\n",
    "# from utils.line_plot import color_map\n",
    "\n",
    "show_markers = True    # Boolean to show the markers\n",
    "\n",
    "color_map = {                  \n",
    "    'Spike': 'red',\n",
    "    'Fast-Ripple': 'blue',\n",
    "    'Ripple': 'green',  \n",
    "    'Spike+Ripple': 'yellow',\n",
    "    'Spike+Fast-Ripple': 'pink',\n",
    "    'Ripple+Fast-Ripple': 'cyan',\n",
    "    'Spike+Ripple+Fast-Ripple': 'black'\n",
    "}\n",
    "\n",
    "confidence_range = 100          # TODO: Check this value. When the duration is missing (0), we consider the 200ms window around the marked position \n",
    "visited_markers = {}    # Avoid inserting multiple boxes for the same marker (only one of each label)\n",
    "use_visited = False     # Boolean controlling if we remove duplicate markers\n",
    "plot_instant = True     # Boolean to plot the markers as instant events or as boxes\n",
    "instant_width = 100 # 20       # Width of the instant event for visualization purposes\n",
    "\n",
    "if show_markers:\n",
    "    for idx2, marker in enumerate(final_markers):\n",
    "        # print(\"marker:\", marker)\n",
    "        \n",
    "        if use_visited:\n",
    "            # Check if the marker has already been visited and skip it if it has\n",
    "            if marker['position'] in visited_markers:\n",
    "                visited_labels = visited_markers[marker['position']]    # Get the labels that already have an annotation for this position\n",
    "                if marker['label'] in visited_labels:\n",
    "                    # print(\"Skipping marker\", marker['position'], marker['label'])\n",
    "                    continue    # Skip this marker\n",
    "                else:\n",
    "                    visited_labels.append(marker['label'])  # Add the label to the visited labels\n",
    "            else:\n",
    "                visited_markers[marker['position']] = [marker['label']] # Add the marker to the visited markers\n",
    "\n",
    "        # Add a box annotation for each marker\n",
    "        has_duration = marker['duration'] > 0\n",
    "        \n",
    "        confidence_constant = 0 if plot_instant or has_duration else confidence_range\n",
    "\n",
    "        left = marker['position'] - confidence_constant\n",
    "        right = marker['position'] + confidence_constant + instant_width\n",
    "        box_color = color_map[marker['label']]  # Choose a color according to the label\n",
    "        \n",
    "        # if left < min_t or right > max_t:\n",
    "        #     continue    # Skip this marker\n",
    "        \n",
    "\n",
    "        box = BoxAnnotation(left=left, right=right, fill_color=box_color, fill_alpha=0.35)\n",
    "        # print(\"Added marker for channel: \", ch_idx, \" at position: \", left)\n",
    "        hfo_plot.add_layout(box)"
   ]
  },
  {
   "cell_type": "markdown",
   "metadata": {},
   "source": [
    "## Show the Plot"
   ]
  },
  {
   "cell_type": "code",
   "execution_count": 119,
   "metadata": {},
   "outputs": [],
   "source": [
    "import bokeh.plotting as bplt\n",
    "\n",
    "showPlot = True\n",
    "if showPlot:\n",
    "    bplt.show(hfo_plot)"
   ]
  },
  {
   "cell_type": "markdown",
   "metadata": {},
   "source": [
    "## Export the plot to a file"
   ]
  },
  {
   "cell_type": "code",
   "execution_count": 121,
   "metadata": {},
   "outputs": [],
   "source": [
    "export = False\n",
    "\n",
    "if export:\n",
    "    file_path = f\"{PATH_TO_FILE}results/seeg_subset_90-120.html\"\n",
    "\n",
    "    # Customize the output file settings\n",
    "    bplt.output_file(filename=file_path, title=\"SEEG Data - Filtered Voltage dynamics across time\")\n",
    "\n",
    "    # Save the plot\n",
    "    bplt.save(hfo_plot)"
   ]
  },
  {
   "cell_type": "markdown",
   "metadata": {},
   "source": [
    "## Write the final markers into a .npy file\n",
    "Add an extra dimension (n_channels) to the markers array to match the shape of the other dataset"
   ]
  },
  {
   "cell_type": "code",
   "execution_count": 125,
   "metadata": {},
   "outputs": [
    {
     "name": "stdout",
     "output_type": "stream",
     "text": [
      "Final Markers Shape: (1, 226).\n",
      "Preview: [[('Fast-Ripple',   1000.  , 0.)\n",
      "  ('Spike+Ripple+Fast-Ripple',   3206.54, 0.)\n",
      "  ('Spike+Ripple',   3521.  , 0.) ('Ripple+Fast-Ripple',   4134.77, 0.)\n",
      "  ('Fast-Ripple',   4774.41, 0.) ...\n",
      "  ('Spike+Ripple+Fast-Ripple', 115019.  , 0.)\n",
      "  ('Spike+Fast-Ripple', 115777.  , 0.) ('Spike+Ripple', 116216.  , 0.)\n",
      "  ('Ripple+Fast-Ripple', 116769.  , 0.) ('Ripple', 119000.  , 0.)]]\n"
     ]
    }
   ],
   "source": [
    "# To keep the same format as the original data, we will add an extra dimension to the final markers\n",
    "final_markers = np.array([final_markers])\n",
    "preview_np_array(final_markers, \"Final Markers\")"
   ]
  },
  {
   "cell_type": "code",
   "execution_count": 128,
   "metadata": {},
   "outputs": [],
   "source": [
    "file_name = f\"seeg_synthetic_subset_markers.npy\"\n",
    "\n",
    "np.save(file_name, final_markers)   # Save the data to a numpy file (not stored in git due to size)"
   ]
  },
  {
   "cell_type": "markdown",
   "metadata": {},
   "source": [
    "## Write the final subset of the SEEG data into a .npy file\n",
    "Add an extra dimension (n_channels) to the signal array to match the shape of the other dataset"
   ]
  },
  {
   "cell_type": "code",
   "execution_count": 129,
   "metadata": {},
   "outputs": [
    {
     "name": "stdout",
     "output_type": "stream",
     "text": [
      "Final Signal Shape: (245760, 1).\n",
      "Preview: [[  0.32148191]\n",
      " [ -0.0205088 ]\n",
      " [ -1.21789157]\n",
      " [ -1.02805603]\n",
      " [ -1.65028203]\n",
      " ...\n",
      " [-10.6392498 ]\n",
      " [-11.40901566]\n",
      " [-11.79014492]\n",
      " [-11.26972866]\n",
      " [-10.32582855]]\n"
     ]
    }
   ],
   "source": [
    "# To keep the same format as the original data, we will add an extra inner dimension to the final signal\n",
    "final_signal = final_signal.reshape((num_samples, 1))\n",
    "preview_np_array(final_signal, \"Final Signal\")"
   ]
  },
  {
   "cell_type": "code",
   "execution_count": 130,
   "metadata": {},
   "outputs": [],
   "source": [
    "file_name = f\"seeg_synthetic_subset.npy\"\n",
    "\n",
    "np.save(file_name, final_signal)   # Save the data to a numpy file (not stored in git due to size)"
   ]
  }
 ],
 "metadata": {
  "kernelspec": {
   "display_name": "Python 3 (ipykernel)",
   "language": "python",
   "name": "python3"
  },
  "language_info": {
   "codemirror_mode": {
    "name": "ipython",
    "version": 3
   },
   "file_extension": ".py",
   "mimetype": "text/x-python",
   "name": "python",
   "nbconvert_exporter": "python",
   "pygments_lexer": "ipython3",
   "version": "3.10.12"
  }
 },
 "nbformat": 4,
 "nbformat_minor": 2
}
