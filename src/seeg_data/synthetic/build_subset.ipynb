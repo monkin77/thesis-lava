{
 "cells": [
  {
   "cell_type": "markdown",
   "metadata": {},
   "source": [
    "# Build subset of SEEG recording containing relevant HFOs and some background activity\n"
   ]
  },
  {
   "cell_type": "markdown",
   "metadata": {},
   "source": [
    "### Check WD (change if necessary) and file loading"
   ]
  },
  {
   "cell_type": "code",
   "execution_count": 56,
   "metadata": {},
   "outputs": [
    {
     "name": "stdout",
     "output_type": "stream",
     "text": [
      "/home/monkin/Desktop/feup/thesis/thesis-lava/src/seeg_data/synthetic\n"
     ]
    }
   ],
   "source": [
    "# Show current directory\n",
    "import os\n",
    "curr_dir = os.getcwd()\n",
    "print(curr_dir)\n",
    "\n",
    "# Check if the current WD is the file location\n",
    "if \"/src/seeg_data/synthetic\" not in os.getcwd():\n",
    "    # Set working directory to this file location\n",
    "    file_location = f\"{os.getcwd()}/thesis-lava/src/seeg_data/synthetic\"\n",
    "    print(\"File Location: \", file_location)\n",
    "\n",
    "    # Change the current working Directory\n",
    "    os.chdir(file_location)\n",
    "\n",
    "    # New Working Directory\n",
    "    print(\"New Working Directory: \", os.getcwd())\n",
    "\n",
    "PATH_TO_FILE = '' # 'src/hfo/'  # This is needed if the WD is not the same as the file location"
   ]
  },
  {
   "cell_type": "code",
   "execution_count": 57,
   "metadata": {},
   "outputs": [
    {
     "name": "stdout",
     "output_type": "stream",
     "text": [
      "Data shape:  (245760, 960)\n",
      "First time steps:  [[ 3.23520243e-01 -1.32353902e+00 -5.96688092e-01 -8.91667426e-01\n",
      "   1.75283265e+00 ...  1.24049798e-01  1.43669665e+00 -1.96089995e+00\n",
      "  -1.97698221e-01 -1.20784545e+00]\n",
      " [-6.97590993e-04 -3.51223612e+00 -4.87669557e-01 -1.26132798e+00\n",
      "   2.45160866e+00 ... -1.40494496e-01  2.09809756e+00 -5.87578297e+00\n",
      "  -7.44009852e-01 -5.10960639e-01]\n",
      " [ 1.90266395e+00 -5.67260170e+00  9.82748926e-01 -1.32037580e+00\n",
      "   2.60521674e+00 ... -8.93780053e-01  2.16126227e+00 -6.61829710e+00\n",
      "  -8.30532670e-01 -8.15966547e-01]\n",
      " [ 3.42821074e+00 -5.91751766e+00  2.36291528e+00 -2.17143798e+00\n",
      "   3.95203590e+00 ... -6.92936718e-01  1.80983675e+00 -6.31197834e+00\n",
      "  -1.50293064e+00 -2.36355257e+00]\n",
      " [ 4.44311810e+00 -5.09231329e+00  3.05757546e+00 -2.64964199e+00\n",
      "   5.75733852e+00 ...  2.84276128e-01  1.76603031e+00 -6.97854471e+00\n",
      "  -1.33813846e+00 -1.11216927e+00]\n",
      " [ 3.50692177e+00 -5.66193056e+00  1.01127577e+00 -2.33646107e+00\n",
      "   7.53711605e+00 ...  1.17622674e+00  2.63236046e+00 -7.44440556e+00\n",
      "  -4.79902402e-02 -1.84578097e+00]\n",
      " [ 3.44678426e+00 -7.24814081e+00  1.07757998e+00 -1.68523157e+00\n",
      "   7.79620981e+00 ...  2.07582164e+00  1.38686526e+00 -6.85093594e+00\n",
      "  -9.65073884e-01 -4.43701458e+00]\n",
      " [ 3.21724176e+00 -8.46500683e+00  1.52160883e+00 -2.74693775e+00\n",
      "   1.03688755e+01 ...  4.31409454e+00 -3.09706688e-01 -4.10816574e+00\n",
      "   2.00859725e-01 -4.75396681e+00]\n",
      " [ 1.77259195e+00 -9.47440243e+00  1.67767906e+00 -2.26859117e+00\n",
      "   1.33208914e+01 ...  4.61903381e+00 -1.41729319e+00 -4.14696932e+00\n",
      "   1.64127696e+00 -3.46727133e+00]\n",
      " [ 7.81090975e-01 -1.05009308e+01  2.37170291e+00 -2.26422238e+00\n",
      "   1.36338968e+01 ...  4.25370264e+00 -2.95855546e+00 -5.17622423e+00\n",
      "   1.07158375e+00 -4.44899035e+00]]\n"
     ]
    }
   ],
   "source": [
    "import numpy as np\n",
    "import math\n",
    "from utils.io import preview_np_array\n",
    "\n",
    "seeg_file_name = \"seeg_synthetic_humans.npy\"\n",
    "recorded_data = np.load(f\"{PATH_TO_FILE}{seeg_file_name}\")\n",
    "\n",
    "print(\"Data shape: \", recorded_data.shape)\n",
    "print(\"First time steps: \", recorded_data[:10])"
   ]
  },
  {
   "cell_type": "markdown",
   "metadata": {},
   "source": [
    "## Define Global Parameters of the Experiment"
   ]
  },
  {
   "cell_type": "code",
   "execution_count": 58,
   "metadata": {},
   "outputs": [],
   "source": [
    "sampling_rate = 2048    # 2048 Hz\n",
    "input_duration = 120 * (10**3)    # 120000 ms or 120 seconds\n",
    "num_samples = recorded_data.shape[0]    # 2048 * 120 = 245760\n",
    "num_channels = recorded_data.shape[1]   # 960\n",
    "\n",
    "x_step = 1/sampling_rate * (10**3)  # 0.48828125 ms"
   ]
  },
  {
   "cell_type": "markdown",
   "metadata": {},
   "source": [
    "## Define the Channels of Interest that will be used to extract the signal"
   ]
  },
  {
   "cell_type": "code",
   "execution_count": 59,
   "metadata": {},
   "outputs": [],
   "source": [
    "ch_start_idx = 90  # Start index of the region of interest\n",
    "ch_end_idx = ch_start_idx + 30 # End index of the region of interest "
   ]
  },
  {
   "cell_type": "markdown",
   "metadata": {},
   "source": [
    "### Extract the SEEG channels in the defined range from the SEEG data"
   ]
  },
  {
   "cell_type": "code",
   "execution_count": 60,
   "metadata": {},
   "outputs": [
    {
     "name": "stdout",
     "output_type": "stream",
     "text": [
      "SEEG Channels Shape: (245760, 30).\n",
      "Preview: [[ 3.2148191e-01  7.6039447e-03  4.7144434e-01  1.6629694e-01\n",
      "   6.4306718e-01 ... -1.0047178e+00 -2.3591769e+00 -9.1859162e-01\n",
      "  -1.1903234e+00 -1.0296663e+00]\n",
      " [-2.0508800e-02 -4.6258485e-01 -7.4022943e-01 -1.8455078e-01\n",
      "   2.1398619e-01 ... -1.3898176e+00 -3.7664881e+00 -1.3889902e+00\n",
      "  -5.1110125e-01 -1.5383426e+00]\n",
      " [-1.2178916e+00 -2.0358562e+00 -1.2876116e+00 -1.3673829e+00\n",
      "   1.2640097e+00 ... -2.6840944e+00 -4.0100474e+00 -1.9828362e+00\n",
      "  -1.4741321e+00 -1.6997232e+00]\n",
      " [-1.0280560e+00 -3.0880692e+00 -1.2848712e+00  2.0071094e-01\n",
      "   2.3219368e+00 ... -1.9042799e+00 -2.8593712e+00 -1.8951950e+00\n",
      "  -2.2079365e+00 -2.1716366e+00]\n",
      " [-1.6502820e+00 -2.6590590e+00 -2.6356335e+00 -1.8437275e-01\n",
      "   4.8591003e+00 ... -7.3706615e-01 -3.4916322e+00 -3.4061065e+00\n",
      "  -1.9112504e+00 -2.1673732e+00]\n",
      " ...\n",
      " [ 5.8455471e+01  5.3846050e+01 -2.0737498e+00 -3.2716221e-01\n",
      "   7.4935384e+00 ...  5.5184326e+01  6.2657150e+01 -5.0081539e+01\n",
      "  -1.8071165e+01 -1.0639250e+01]\n",
      " [ 5.8489109e+01  5.1760201e+01 -4.7800773e-01 -2.2473807e+00\n",
      "   8.8380213e+00 ...  5.4851608e+01  6.1470291e+01 -4.8648796e+01\n",
      "  -1.8093189e+01 -1.1409016e+01]\n",
      " [ 5.8212322e+01  5.2919380e+01  3.4035551e-03 -3.1951135e-01\n",
      "   8.0632792e+00 ...  5.6749435e+01  6.0162395e+01 -4.9130875e+01\n",
      "  -1.8731684e+01 -1.1790145e+01]\n",
      " [ 5.7006664e+01  5.2910263e+01  1.3382965e+00 -9.8228645e-01\n",
      "   8.9594698e+00 ...  5.7541996e+01  5.8091373e+01 -4.8520439e+01\n",
      "  -1.9335537e+01 -1.1269729e+01]\n",
      " [ 5.8805843e+01  5.3754505e+01  6.0538346e-01  7.1650964e-01\n",
      "   7.4029660e+00 ...  5.5387402e+01  5.9551704e+01 -4.7963863e+01\n",
      "  -1.9027611e+01 -1.0325829e+01]]\n"
     ]
    }
   ],
   "source": [
    "# Extract the seeg_channels in the range [ch_start_idx, ch_end_idx]\n",
    "relevant_seeg = recorded_data[:, ch_start_idx:ch_end_idx]\n",
    "\n",
    "preview_np_array(relevant_seeg, \"SEEG Channels\")"
   ]
  },
  {
   "cell_type": "markdown",
   "metadata": {},
   "source": [
    "## Import the Markers (Annotated Events) \n",
    "The markers are stored in a numpy array of shape (num_channels, events):\n",
    "- Each row represents the events of a channel\n",
    "- Each event is composed of the following 3 fields (Label, Position, Shape)"
   ]
  },
  {
   "cell_type": "code",
   "execution_count": 62,
   "metadata": {},
   "outputs": [
    {
     "name": "stdout",
     "output_type": "stream",
     "text": [
      "Markers shape:  (960, 42)\n",
      "First time steps:  [[('Spike+Ripple+Fast-Ripple',   1000.  , 0.)\n",
      "  ('Spike+Ripple+Fast-Ripple',   4537.6 , 0.)\n",
      "  ('Ripple+Fast-Ripple',   7610.84, 0.) ('Spike',  10261.2 , 0.)\n",
      "  ('Fast-Ripple',  13411.6 , 0.) ... ('Spike+Fast-Ripple', 106672.  , 0.)\n",
      "  ('Ripple+Fast-Ripple', 109322.  , 0.) ('Ripple', 113024.  , 0.)\n",
      "  ('Fast-Ripple', 116549.  , 0.) ('Spike+Ripple', 119000.  , 0.)]\n",
      " [('Spike+Fast-Ripple',   1000.  , 0.)\n",
      "  ('Spike+Ripple+Fast-Ripple',   3849.12, 0.)\n",
      "  ('Ripple+Fast-Ripple',   7010.25, 0.) ('Spike',   9893.55, 0.)\n",
      "  ('Spike+Ripple',  12840.8 , 0.) ... ('Spike', 109180.  , 0.)\n",
      "  ('Spike', 112373.  , 0.) ('Fast-Ripple', 114176.  , 0.)\n",
      "  ('Spike+Fast-Ripple', 116672.  , 0.) ('Fast-Ripple', 119000.  , 0.)]\n",
      " [('Fast-Ripple',   1000.  , 0.)\n",
      "  ('Spike+Ripple+Fast-Ripple',   4357.42, 0.)\n",
      "  ('Fast-Ripple',   7062.01, 0.) ('Spike+Ripple',  10354.  , 0.)\n",
      "  ('Spike+Ripple',  12860.4 , 0.) ... ('Spike+Ripple', 108121.  , 0.)\n",
      "  ('Ripple+Fast-Ripple', 110854.  , 0.)\n",
      "  ('Spike+Fast-Ripple', 113759.  , 0.)\n",
      "  ('Ripple+Fast-Ripple', 116295.  , 0.) ('Spike', 119000.  , 0.)]\n",
      " [('Fast-Ripple',   1000.  , 0.) ('Ripple',   5092.77, 0.)\n",
      "  ('Spike+Fast-Ripple',   7318.85, 0.)\n",
      "  ('Spike+Fast-Ripple',   9595.7 , 0.)\n",
      "  ('Ripple+Fast-Ripple',  12451.2 , 0.) ...\n",
      "  ('Spike+Ripple+Fast-Ripple', 106038.  , 0.)\n",
      "  ('Spike+Fast-Ripple', 109606.  , 0.) ('Spike', 113252.  , 0.)\n",
      "  ('Spike+Ripple+Fast-Ripple', 116529.  , 0.) ('Spike', 119000.  , 0.)]\n",
      " [('Spike+Ripple',   1000.  , 0.) ('Spike+Fast-Ripple',   3064.45, 0.)\n",
      "  ('Ripple',   6027.83, 0.) ('Spike+Fast-Ripple',   8658.2 , 0.)\n",
      "  ('Ripple+Fast-Ripple',  12106.4 , 0.) ...\n",
      "  ('Spike+Ripple', 107146.  , 0.) ('Spike+Fast-Ripple', 109986.  , 0.)\n",
      "  ('Ripple+Fast-Ripple', 112877.  , 0.) ('Ripple', 115691.  , 0.)\n",
      "  ('Spike', 119000.  , 0.)]\n",
      " [('Fast-Ripple',   1000.  , 0.) ('Ripple+Fast-Ripple',   3812.99, 0.)\n",
      "  ('Ripple',   6643.56, 0.) ('Ripple',   9703.13, 0.)\n",
      "  ('Fast-Ripple',  12194.8 , 0.) ... ('Fast-Ripple', 106941.  , 0.)\n",
      "  ('Spike+Ripple+Fast-Ripple', 109890.  , 0.) ('Ripple', 112565.  , 0.)\n",
      "  ('Spike+Fast-Ripple', 116043.  , 0.) ('Spike', 119000.  , 0.)]\n",
      " [('Spike+Ripple',   1000.  , 0.) ('Spike+Fast-Ripple',   3947.75, 0.)\n",
      "  ('Ripple',   6848.63, 0.) ('Ripple+Fast-Ripple',   9342.77, 0.)\n",
      "  ('Spike',  12378.4 , 0.) ... ('Ripple', 106630.  , 0.)\n",
      "  ('Ripple', 108965.  , 0.) ('Ripple', 112506.  , 0.)\n",
      "  ('Spike+Ripple+Fast-Ripple', 116000.  , 0.)\n",
      "  ('Ripple+Fast-Ripple', 119000.  , 0.)]\n",
      " [('Spike+Fast-Ripple',   1000.  , 0.)\n",
      "  ('Spike+Ripple+Fast-Ripple',   4099.12, 0.)\n",
      "  ('Spike+Fast-Ripple',   7249.51, 0.) ('Spike',   9766.11, 0.)\n",
      "  ('Spike+Ripple+Fast-Ripple',  13030.3 , 0.) ...\n",
      "  ('Spike+Ripple', 107053.  , 0.) ('Fast-Ripple', 109825.  , 0.)\n",
      "  ('Ripple+Fast-Ripple', 112534.  , 0.) ('Ripple', 115200.  , 0.)\n",
      "  ('Spike+Fast-Ripple', 119000.  , 0.)]\n",
      " [('Ripple+Fast-Ripple',   1000.  , 0.) ('Spike+Ripple',   3555.66, 0.)\n",
      "  ('Fast-Ripple',   5852.54, 0.) ('Fast-Ripple',   9145.51, 0.)\n",
      "  ('Spike+Ripple+Fast-Ripple',  11714.4 , 0.) ...\n",
      "  ('Ripple', 107729.  , 0.) ('Ripple', 110340.  , 0.)\n",
      "  ('Ripple', 113236.  , 0.) ('Spike+Ripple+Fast-Ripple', 116402.  , 0.)\n",
      "  ('Fast-Ripple', 119000.  , 0.)]\n",
      " [('Spike+Fast-Ripple',   1000.  , 0.) ('Fast-Ripple',   3844.24, 0.)\n",
      "  ('Ripple+Fast-Ripple',   6911.13, 0.) ('Ripple',   9519.04, 0.)\n",
      "  ('Spike',  12259.8 , 0.) ... ('Spike', 107079.  , 0.)\n",
      "  ('Ripple+Fast-Ripple', 110476.  , 0.) ('Fast-Ripple', 113016.  , 0.)\n",
      "  ('Ripple+Fast-Ripple', 115897.  , 0.) ('Spike+Ripple', 119000.  , 0.)]]\n"
     ]
    }
   ],
   "source": [
    "markers_seeg_file_name = \"seeg_synthetic_humans_markers.npy\"\n",
    "markers = np.load(f\"{PATH_TO_FILE}{markers_seeg_file_name}\")\n",
    "\n",
    "print(\"Markers shape: \", markers.shape)\n",
    "print(\"First time steps: \", markers[:10])"
   ]
  },
  {
   "cell_type": "markdown",
   "metadata": {},
   "source": [
    "### Get the markers with a certain SNR in a specific region\n",
    "Let's use the markers with a SNR=15dB in the first region"
   ]
  },
  {
   "cell_type": "code",
   "execution_count": 61,
   "metadata": {},
   "outputs": [
    {
     "name": "stdout",
     "output_type": "stream",
     "text": [
      "relevant_markers Shape: (30, 42).\n",
      "Preview: [[('Spike',   1000.  , 0.) ('Spike+Fast-Ripple',   4218.75, 0.)\n",
      "  ('Ripple+Fast-Ripple',   6966.8 , 0.)\n",
      "  ('Ripple+Fast-Ripple',   9793.95, 0.)\n",
      "  ('Spike+Ripple+Fast-Ripple',  13189.  , 0.) ...\n",
      "  ('Ripple+Fast-Ripple', 107859.  , 0.) ('Spike+Ripple', 111439.  , 0.)\n",
      "  ('Ripple', 114551.  , 0.) ('Spike+Ripple', 116517.  , 0.)\n",
      "  ('Spike+Ripple', 119000.  , 0.)]\n",
      " [('Spike+Ripple',   1000.  , 0.)\n",
      "  ('Spike+Ripple+Fast-Ripple',   3917.97, 0.)\n",
      "  ('Spike+Fast-Ripple',   6794.92, 0.) ('Fast-Ripple',   9094.73, 0.)\n",
      "  ('Fast-Ripple',  12348.1 , 0.) ... ('Spike+Fast-Ripple', 107697.  , 0.)\n",
      "  ('Fast-Ripple', 111079.  , 0.) ('Spike', 113382.  , 0.)\n",
      "  ('Ripple+Fast-Ripple', 116656.  , 0.) ('Spike+Ripple', 119000.  , 0.)]\n",
      " [('Fast-Ripple',   1000.  , 0.) ('Spike',   3655.76, 0.)\n",
      "  ('Spike',   7188.96, 0.) ('Spike',   9880.37, 0.)\n",
      "  ('Spike+Ripple',  13890.6 , 0.) ...\n",
      "  ('Spike+Fast-Ripple', 107924.  , 0.)\n",
      "  ('Spike+Ripple+Fast-Ripple', 110238.  , 0.)\n",
      "  ('Spike+Ripple+Fast-Ripple', 112797.  , 0.)\n",
      "  ('Fast-Ripple', 115363.  , 0.) ('Spike+Fast-Ripple', 119000.  , 0.)]\n",
      " [('Spike+Ripple+Fast-Ripple',   1000.  , 0.)\n",
      "  ('Spike+Fast-Ripple',   3454.59, 0.)\n",
      "  ('Ripple+Fast-Ripple',   6599.61, 0.) ('Fast-Ripple',   9182.62, 0.)\n",
      "  ('Spike+Ripple+Fast-Ripple',  12129.9 , 0.) ...\n",
      "  ('Ripple+Fast-Ripple', 108521.  , 0.)\n",
      "  ('Ripple+Fast-Ripple', 110662.  , 0.) ('Spike+Ripple', 113249.  , 0.)\n",
      "  ('Spike+Fast-Ripple', 116929.  , 0.) ('Ripple', 119000.  , 0.)]\n",
      " [('Ripple',   1000.  , 0.) ('Spike',   4412.11, 0.)\n",
      "  ('Ripple+Fast-Ripple',   6992.19, 0.)\n",
      "  ('Spike+Ripple+Fast-Ripple',   9307.13, 0.)\n",
      "  ('Spike+Ripple',  11564.  , 0.) ...\n",
      "  ('Spike+Ripple+Fast-Ripple', 108013.  , 0.)\n",
      "  ('Ripple+Fast-Ripple', 110644.  , 0.) ('Spike', 113402.  , 0.)\n",
      "  ('Fast-Ripple', 115506.  , 0.) ('Spike+Ripple', 119000.  , 0.)]\n",
      " ...\n",
      " [('Spike',   1000.  , 0.) ('Spike+Fast-Ripple',   4195.8 , 0.)\n",
      "  ('Spike',   8033.2 , 0.) ('Fast-Ripple',  11114.7 , 0.)\n",
      "  ('Ripple+Fast-Ripple',  14273.9 , 0.) ...\n",
      "  ('Spike+Ripple+Fast-Ripple', 107961.  , 0.) ('Ripple', 111138.  , 0.)\n",
      "  ('Spike+Fast-Ripple', 113772.  , 0.)\n",
      "  ('Ripple+Fast-Ripple', 116453.  , 0.)\n",
      "  ('Ripple+Fast-Ripple', 119000.  , 0.)]\n",
      " [('Spike',   1000.  , 0.) ('Ripple',   3381.84, 0.)\n",
      "  ('Fast-Ripple',   6243.65, 0.) ('Spike+Ripple',   8873.05, 0.)\n",
      "  ('Ripple+Fast-Ripple',  11957.  , 0.) ...\n",
      "  ('Fast-Ripple', 107895.  , 0.) ('Spike+Ripple', 110412.  , 0.)\n",
      "  ('Spike+Ripple+Fast-Ripple', 112735.  , 0.)\n",
      "  ('Spike+Fast-Ripple', 115777.  , 0.)\n",
      "  ('Spike+Fast-Ripple', 119000.  , 0.)]\n",
      " [('Ripple+Fast-Ripple',   1000.  , 0.) ('Ripple',   3543.46, 0.)\n",
      "  ('Ripple+Fast-Ripple',   6759.77, 0.)\n",
      "  ('Ripple+Fast-Ripple',   9539.55, 0.)\n",
      "  ('Spike+Fast-Ripple',  11367.7 , 0.) ...\n",
      "  ('Spike+Ripple', 106287.  , 0.) ('Ripple', 109383.  , 0.)\n",
      "  ('Fast-Ripple', 112950.  , 0.) ('Spike+Ripple', 115987.  , 0.)\n",
      "  ('Spike+Ripple', 119000.  , 0.)]\n",
      " [('Spike+Fast-Ripple',   1000.  , 0.) ('Fast-Ripple',   4774.41, 0.)\n",
      "  ('Ripple',   7656.74, 0.) ('Ripple',  11189.5 , 0.)\n",
      "  ('Fast-Ripple',  14050.8 , 0.) ...\n",
      "  ('Spike+Ripple+Fast-Ripple', 106867.  , 0.)\n",
      "  ('Spike+Fast-Ripple', 110114.  , 0.) ('Spike', 113143.  , 0.)\n",
      "  ('Ripple+Fast-Ripple', 116769.  , 0.) ('Ripple', 119000.  , 0.)]\n",
      " [('Spike+Ripple',   1000.  , 0.) ('Ripple',   4143.07, 0.)\n",
      "  ('Spike+Fast-Ripple',   6804.2 , 0.) ('Ripple',   9793.46, 0.)\n",
      "  ('Spike+Fast-Ripple',  12680.7 , 0.) ... ('Ripple', 107164.  , 0.)\n",
      "  ('Fast-Ripple', 109500.  , 0.) ('Ripple+Fast-Ripple', 112313.  , 0.)\n",
      "  ('Spike+Ripple+Fast-Ripple', 115019.  , 0.)\n",
      "  ('Fast-Ripple', 119000.  , 0.)]]\n"
     ]
    }
   ],
   "source": [
    "relevant_markers = markers[ch_start_idx:ch_end_idx]\n",
    "preview_np_array(relevant_markers, \"relevant_markers\")"
   ]
  },
  {
   "cell_type": "markdown",
   "metadata": {},
   "source": [
    "### Build a subset of the SEEG recording joining data from the channels selected above that contain relevant HFOs"
   ]
  },
  {
   "cell_type": "code",
   "execution_count": 63,
   "metadata": {},
   "outputs": [
    {
     "name": "stdout",
     "output_type": "stream",
     "text": [
      "Time values:  [0.48828125, 0.9765625, 1.46484375, 1.953125, 2.44140625, 2.9296875, 3.41796875, 3.90625, 4.39453125, 4.8828125]\n"
     ]
    }
   ],
   "source": [
    "# Build the time_step values of the signal\n",
    "time_vals = [val for val in np.arange(x_step, input_duration + x_step, x_step)]\n",
    "print(\"Time values: \", time_vals[:10])"
   ]
  },
  {
   "cell_type": "code",
   "execution_count": 64,
   "metadata": {},
   "outputs": [
    {
     "name": "stdout",
     "output_type": "stream",
     "text": [
      "curr_marker_idx Shape: (30,).\n",
      "Preview: [0 0 0 0 0 ... 0 0 0 0 0]\n"
     ]
    }
   ],
   "source": [
    "final_signal = np.empty(shape=(num_samples))    # Initialize the final signal\n",
    "final_markers = []                  # List holding the final markers\n",
    "\n",
    "# Variable holding the current marker idx for each channel\n",
    "curr_marker_idx = np.zeros(shape=(relevant_markers.shape[0]), dtype=int)\n",
    "preview_np_array(curr_marker_idx, \"curr_marker_idx\")"
   ]
  },
  {
   "cell_type": "markdown",
   "metadata": {},
   "source": [
    "## Set the lenght of each segment to be extracted from a channel\n",
    "Since we want to join the data from several channels in a single subset, we need to set the length of the segments to be extracted from each channel."
   ]
  },
  {
   "cell_type": "code",
   "execution_count": 65,
   "metadata": {},
   "outputs": [],
   "source": [
    "segment_length = 500    # 500 ms segments. Every 500ms, there will be a relevant event (Ripple, Fast Ripple, or both)"
   ]
  },
  {
   "cell_type": "code",
   "execution_count": 66,
   "metadata": {},
   "outputs": [],
   "source": [
    "curr_segment_ch_start_idx = 0    # Variable to hold the index where we start searching for a relevant marker in each segment\n",
    "\n",
    "for curr_segment in range(0, input_duration, segment_length):\n",
    "    time_start_idx = int(curr_segment / x_step)   # Start index of the segment in the time_vals array\n",
    "    time_end_idx = int((curr_segment + segment_length) / x_step)   # End index of the segment in the time_vals array (exclusive)\n",
    "    # print(\"time start idx: \", time_start_idx, \"time end idx: \", time_end_idx)\n",
    "\n",
    "    # Search for a relevant event in this segment\n",
    "    starting_marker_idx = int(curr_segment / segment_length) % relevant_markers.shape[0]    # Get the marker index where we start searching for this segment\n",
    "    # print(\"starting_marker_idx: \", starting_marker_idx)\n",
    "    curr_marker_idx = starting_marker_idx\n",
    "\n",
    "    # Search for a relevant event in this time segment\n",
    "    while True:\n",
    "        # Check if the markers of the current channel have a relevant event\n",
    "        # TODO:\n",
    "\n",
    "        # If a relevant event is found, add the relevant event to the final signal\n",
    "        if True:\n",
    "            # Add the relevant event's seeg data to the final signal\n",
    "            final_signal[time_start_idx:time_end_idx] = relevant_seeg[time_start_idx:time_end_idx, curr_marker_idx]\n",
    "\n",
    "            # Add the relevant event's marker to the final markers\n",
    "            final_markers.append(relevant_markers[curr_marker_idx][0])  # TODO: CHange this to the actual marker after being found\n",
    "            break\n",
    "\n",
    "\n",
    "        # Search in the markers of the next channel\n",
    "        curr_marker_idx = (curr_marker_idx + 1) % relevant_markers.shape[0]    # Move to the next marker index\n",
    "\n",
    "        # Check if we have reached the starting marker index\n",
    "        if curr_marker_idx == starting_marker_idx:\n",
    "            # We have searched all the markers in this segment (No relevant event found) \n",
    "            # -> Add current channel data to the final signal (with no relevant events)\n",
    "\n",
    "            # Add background noise to the segment\n",
    "            final_signal[time_start_idx:time_end_idx] = relevant_seeg[time_start_idx:time_end_idx, curr_marker_idx]\n",
    "            break"
   ]
  },
  {
   "cell_type": "markdown",
   "metadata": {},
   "source": [
    "### Preview the final signal and markers"
   ]
  },
  {
   "cell_type": "code",
   "execution_count": 67,
   "metadata": {},
   "outputs": [
    {
     "name": "stdout",
     "output_type": "stream",
     "text": [
      "Final Signal Shape: (245760,).\n",
      "Preview: [  0.32148191  -0.0205088   -1.21789157  -1.02805603  -1.65028203 ...\n",
      " -10.6392498  -11.40901566 -11.79014492 -11.26972866 -10.32582855]\n"
     ]
    }
   ],
   "source": [
    "preview_np_array(final_signal, \"Final Signal\")"
   ]
  },
  {
   "cell_type": "code",
   "execution_count": 68,
   "metadata": {},
   "outputs": [
    {
     "name": "stdout",
     "output_type": "stream",
     "text": [
      "Final Markers Shape: (240,).\n",
      "Preview: [('Spike', 1000., 0.) ('Spike+Ripple', 1000., 0.)\n",
      " ('Fast-Ripple', 1000., 0.) ('Spike+Ripple+Fast-Ripple', 1000., 0.)\n",
      " ('Ripple', 1000., 0.) ... ('Spike', 1000., 0.) ('Spike', 1000., 0.)\n",
      " ('Ripple+Fast-Ripple', 1000., 0.) ('Spike+Fast-Ripple', 1000., 0.)\n",
      " ('Spike+Ripple', 1000., 0.)]\n"
     ]
    }
   ],
   "source": [
    "final_markers = np.array(final_markers)\n",
    "preview_np_array(final_markers, \"Final Markers\")"
   ]
  },
  {
   "cell_type": "markdown",
   "metadata": {},
   "source": [
    "---"
   ]
  },
  {
   "cell_type": "markdown",
   "metadata": {},
   "source": [
    "## Visualize the Subset of the SEEG Data"
   ]
  },
  {
   "cell_type": "code",
   "execution_count": 87,
   "metadata": {},
   "outputs": [],
   "source": [
    "# Interactive Plot for the HFO detection\n",
    "# bokeh docs: https://docs.bokeh.org/en/2.4.1/docs/first_steps/first_steps_1.html\n",
    "\n",
    "from utils.line_plot import create_fig  # Import the function to create the figure\n",
    "from bokeh.models import Range1d\n",
    "\n",
    "# Define the x and y values\n",
    "# Should the first input start at 0 or x_step?\n",
    "# TODO: is it okay to create a range with floats?\n",
    "x = [val for val in np.arange(x_step, input_duration + x_step, x_step)] \n",
    "\n",
    "# Create the y arrays for the voltage plot representing the voltage of each electrode\n",
    "v_yarrays = [ripple_band_seeg, fr_band_seeg]"
   ]
  },
  {
   "cell_type": "markdown",
   "metadata": {},
   "source": [
    "## Create the Plot"
   ]
  },
  {
   "cell_type": "code",
   "execution_count": 88,
   "metadata": {},
   "outputs": [],
   "source": [
    "# Create the plot\n",
    "# List of tuples containing the y values and the legend label\n",
    "hfo_y_arrays = [(ripple_band_seeg, \"Ripple Band\"), (fr_band_seeg, \"Fast Ripple Band\")]\n",
    "\n",
    "# Create the SEEG Voltage plot\n",
    "hfo_plot = create_fig(\n",
    "    title=\"SEEG Voltage dynamics of Filtered Ripple and Fast Ripple Bands\", \n",
    "    x_axis_label='time (ms)', \n",
    "    y_axis_label='Voltage (μV)',\n",
    "    x=x, \n",
    "    y_arrays=hfo_y_arrays, \n",
    "    sizing_mode=\"stretch_both\", \n",
    "    tools=\"pan, box_zoom, wheel_zoom, hover, undo, redo, zoom_in, zoom_out, reset, save\",\n",
    "    tooltips=\"Data point @x: @y\",\n",
    "    legend_location=\"top_right\",\n",
    "    legend_bg_fill_color=\"navy\",\n",
    "    legend_bg_fill_alpha=0.1,\n",
    "    # y_range=Range1d(-0.05, 1.05)\n",
    ")\n",
    "\n",
    "# If there are more than 30 channels, hide the legend\n",
    "if len(hfo_y_arrays) > 30:\n",
    "    # Hide the legend\n",
    "    hfo_plot.legend.visible = False"
   ]
  },
  {
   "cell_type": "markdown",
   "metadata": {},
   "source": [
    "## Add Box Annotations to the plot to identify the marked HFOs (ground truth)"
   ]
  },
  {
   "cell_type": "code",
   "execution_count": 89,
   "metadata": {},
   "outputs": [],
   "source": [
    "from bokeh.models import BoxAnnotation\n",
    "# from utils.line_plot import color_map\n",
    "\n",
    "show_markers = True    # Boolean to show the markers\n",
    "\n",
    "color_map = {                  \n",
    "    'Spike': 'red',\n",
    "    'Fast-Ripple': 'blue',\n",
    "    'Ripple': 'green',  \n",
    "    'Spike+Ripple': 'yellow',\n",
    "    'Spike+Fast-Ripple': 'pink',\n",
    "    'Ripple+Fast-Ripple': 'cyan',\n",
    "    'Spike+Ripple+Fast-Ripple': 'black'\n",
    "}\n",
    "\n",
    "confidence_range = 100          # TODO: Check this value. When the duration is missing (0), we consider the 200ms window around the marked position \n",
    "visited_markers = {}    # Avoid inserting multiple boxes for the same marker (only one of each label)\n",
    "use_visited = False     # Boolean controlling if we remove duplicate markers\n",
    "plot_instant = True     # Boolean to plot the markers as instant events or as boxes\n",
    "instant_width = 100 # 20       # Width of the instant event for visualization purposes\n",
    "\n",
    "channels_used = {selected_ch_idx}   # Set of channels to be used\n",
    "if show_markers:\n",
    "    for ch_idx in channels_used:\n",
    "        channel_markers = markers[ch_idx]\n",
    "        # print(\"channel_markers\", channel_markers)\n",
    "        for idx2, marker in enumerate(channel_markers):\n",
    "            # print(\"marker:\", marker)\n",
    "            \n",
    "            if use_visited:\n",
    "                # Check if the marker has already been visited and skip it if it has\n",
    "                if marker['position'] in visited_markers:\n",
    "                    visited_labels = visited_markers[marker['position']]    # Get the labels that already have an annotation for this position\n",
    "                    if marker['label'] in visited_labels:\n",
    "                        # print(\"Skipping marker\", marker['position'], marker['label'])\n",
    "                        continue    # Skip this marker\n",
    "                    else:\n",
    "                        visited_labels.append(marker['label'])  # Add the label to the visited labels\n",
    "                else:\n",
    "                    visited_markers[marker['position']] = [marker['label']] # Add the marker to the visited markers\n",
    "\n",
    "            # Add a box annotation for each marker\n",
    "            has_duration = marker['duration'] > 0\n",
    "            \n",
    "            confidence_constant = 0 if plot_instant or has_duration else confidence_range\n",
    "\n",
    "            left = marker['position'] - confidence_constant\n",
    "            right = marker['position'] + confidence_constant + instant_width\n",
    "            box_color = color_map[marker['label']]  # Choose a color according to the label\n",
    "            \n",
    "            # if left < min_t or right > max_t:\n",
    "            #     continue    # Skip this marker\n",
    "            \n",
    "\n",
    "            box = BoxAnnotation(left=left, right=right, fill_color=box_color, fill_alpha=0.35)\n",
    "            # print(\"Added marker for channel: \", ch_idx, \" at position: \", left)\n",
    "            hfo_plot.add_layout(box)"
   ]
  },
  {
   "cell_type": "markdown",
   "metadata": {},
   "source": [
    "## Show the Plot"
   ]
  },
  {
   "cell_type": "code",
   "execution_count": 90,
   "metadata": {},
   "outputs": [],
   "source": [
    "import bokeh.plotting as bplt\n",
    "\n",
    "showPlot = False\n",
    "if showPlot:\n",
    "    bplt.show(hfo_plot)"
   ]
  },
  {
   "cell_type": "markdown",
   "metadata": {},
   "source": [
    "## Export the plot to a file"
   ]
  },
  {
   "cell_type": "code",
   "execution_count": 91,
   "metadata": {},
   "outputs": [],
   "source": [
    "export = True\n",
    "\n",
    "if export:\n",
    "    file_path = f\"{PATH_TO_FILE}results/filtered_seeg_ch{selected_ch_idx}.html\"\n",
    "\n",
    "    # Customize the output file settings\n",
    "    bplt.output_file(filename=file_path, title=\"SEEG Data - Filtered Voltage dynamics across time\")\n",
    "\n",
    "    # Save the plot\n",
    "    bplt.save(hfo_plot)"
   ]
  }
 ],
 "metadata": {
  "kernelspec": {
   "display_name": "Python 3 (ipykernel)",
   "language": "python",
   "name": "python3"
  },
  "language_info": {
   "codemirror_mode": {
    "name": "ipython",
    "version": 3
   },
   "file_extension": ".py",
   "mimetype": "text/x-python",
   "name": "python",
   "nbconvert_exporter": "python",
   "pygments_lexer": "ipython3",
   "version": "3.10.12"
  }
 },
 "nbformat": 4,
 "nbformat_minor": 2
}
